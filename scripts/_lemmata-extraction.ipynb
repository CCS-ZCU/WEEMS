{
 "cells": [
  {
   "cell_type": "code",
   "execution_count": 9,
   "id": "initial_id",
   "metadata": {
    "ExecuteTime": {
     "end_time": "2024-05-10T11:50:56.931707Z",
     "start_time": "2024-05-10T11:50:52.147026Z"
    }
   },
   "outputs": [],
   "source": [
    "import os\n",
    "import spacy\n",
    "from spacy.tokens import Doc\n",
    "import sddk\n",
    "import pandas as pd\n",
    "import re\n",
    "import matplotlib.pyplot as plt\n",
    "import json\n",
    "import shutil\n",
    "import pickle\n",
    "\n",
    "import gspread\n",
    "from gspread_dataframe import get_as_dataframe, set_with_dataframe\n",
    "from google.oauth2 import service_account # based on google-auth library"
   ]
  },
  {
   "cell_type": "code",
   "execution_count": 10,
   "id": "234d6a3cc5f7a819",
   "metadata": {
    "ExecuteTime": {
     "end_time": "2024-05-10T11:50:57.819559Z",
     "start_time": "2024-05-10T11:50:56.932704Z"
    },
    "collapsed": false,
    "jupyter": {
     "outputs_hidden": false
    }
   },
   "outputs": [],
   "source": [
    "# load the language model (see the previous script)\n",
    "nlp = spacy.load('la_core_web_lg')"
   ]
  },
  {
   "cell_type": "code",
   "execution_count": 11,
   "id": "1c7c54fa3f1fb3e1",
   "metadata": {
    "ExecuteTime": {
     "end_time": "2024-05-10T11:51:00.747851Z",
     "start_time": "2024-05-10T11:50:57.820216Z"
    },
    "collapsed": false,
    "jupyter": {
     "outputs_hidden": false
    }
   },
   "outputs": [],
   "source": [
    "# setup communication with gsheet \"noscemus_overview\n",
    "# to make this work, you need your ServiceAccountKey.json file located somewhere and to point out to it\n",
    "# I have it in the data folder and in the .gitignore file, what makes it invisible to others; you can make the same\n",
    "file_data = json.load(open(os.path.expanduser(\"~/ServiceAccountsKey.json\")))\n",
    "# (2) transform the content into crendentials object\n",
    "credentials = service_account.Credentials.from_service_account_info(file_data)\n",
    "# (3) specify your usage of the credentials\n",
    "scoped_credentials = credentials.with_scopes(['https://spreadsheets.google.com/feeds', 'https://www.googleapis.com/auth/drive'])\n",
    "# (4) use the constrained credentials for authentication of gspread package\n",
    "gc = gspread.Client(auth=scoped_credentials)\n",
    "\n",
    "noscemus_gs = gc.open_by_url(\"https://docs.google.com/spreadsheets/d/1ekf9RBfd4yqy0p0IWJ4SDk1kUT70hnoIVX1H6KPdIts/edit?usp=sharing\")"
   ]
  },
  {
   "cell_type": "markdown",
   "id": "1279f7b9c397edef",
   "metadata": {
    "collapsed": false,
    "jupyter": {
     "outputs_hidden": false
    }
   },
   "source": [
    "# Load & Explore Spacy Docs"
   ]
  },
  {
   "cell_type": "code",
   "execution_count": 13,
   "id": "710e9b7f-d1e1-4907-9bd4-a8f2f1cda543",
   "metadata": {},
   "outputs": [
    {
     "data": {
      "text/plain": [
       "['725075.pickle',\n",
       " '928138.pickle',\n",
       " '985903.pickle',\n",
       " '733505.pickle',\n",
       " '739101.pickle',\n",
       " '702145.pickle',\n",
       " '906214.pickle',\n",
       " '902259.pickle',\n",
       " '901017.pickle',\n",
       " '904418.pickle']"
      ]
     },
     "execution_count": 13,
     "metadata": {},
     "output_type": "execute_result"
    }
   ],
   "source": [
    "source_path = \"/srv/data/tome/noscemus/sents_data/\"\n",
    "filenames_list = os.listdir(source_path)\n",
    "filenames_list[:10]"
   ]
  },
  {
   "cell_type": "code",
   "execution_count": 15,
   "id": "62cc4867-375b-4b85-a00e-23f6c6f16292",
   "metadata": {},
   "outputs": [
    {
     "data": {
      "text/plain": [
       "[('neque tamen despondet animus, quin (unis post alios eadem philosophandi methodo insistentibus, tandem cum bonis auspiciis ueritas (quatenus humana feret tenuitas) reseratis indies nouis naturae mysteriis & discussis errorum tenebris, integra apparuerit, taedaeque nuptiales accendantur.',\n",
       "  [('neque', 'neque', 'CCONJ', (0, 5)),\n",
       "   ('tamen', 'tamen', 'ADV', (6, 11)),\n",
       "   ('despondet', 'despondeo', 'VERB', (12, 21)),\n",
       "   ('animus', 'animus', 'NOUN', (22, 28)),\n",
       "   (',', ',', 'PUNCT', (28, 29)),\n",
       "   ('quin', 'quin', 'SCONJ', (30, 34)),\n",
       "   ('(', '(', 'PUNCT', (35, 36)),\n",
       "   ('unis', 'unus', 'NOUN', (36, 40)),\n",
       "   ('post', 'post', 'ADP', (41, 45)),\n",
       "   ('alios', 'alius', 'DET', (46, 51)),\n",
       "   ('eadem', 'idem', 'DET', (52, 57)),\n",
       "   ('philosophandi', 'philosopho', 'VERB', (58, 71)),\n",
       "   ('methodo', 'methodus', 'NOUN', (72, 79)),\n",
       "   ('insistentibus', 'insisto', 'VERB', (80, 93)),\n",
       "   (',', ',', 'PUNCT', (93, 94)),\n",
       "   ('tandem', 'tandem', 'ADV', (95, 101)),\n",
       "   ('cum', 'cum', 'SCONJ', (102, 105)),\n",
       "   ('bonis', 'bonus', 'ADJ', (106, 111)),\n",
       "   ('auspiciis', 'auspicium', 'NOUN', (112, 121)),\n",
       "   ('ueritas', 'ueritas', 'NOUN', (122, 129)),\n",
       "   ('(', '(', 'PUNCT', (130, 131)),\n",
       "   ('quatenus', 'qui', 'SCONJ', (131, 139)),\n",
       "   ('humana', 'humanus', 'ADJ', (140, 146)),\n",
       "   ('feret', 'fero', 'VERB', (147, 152)),\n",
       "   ('tenuitas', 'tenuitas', 'NOUN', (153, 161)),\n",
       "   (')', ')', 'PUNCT', (161, 162)),\n",
       "   ('reseratis', 'resero', 'VERB', (163, 172)),\n",
       "   ('indies', 'indiens', 'ADV', (173, 179)),\n",
       "   ('nouis', 'nouus', 'ADJ', (180, 185)),\n",
       "   ('naturae', 'natura', 'NOUN', (186, 193)),\n",
       "   ('mysteriis', 'mysterium', 'NOUN', (194, 203)),\n",
       "   ('&', '&', 'PUNCT', (204, 205)),\n",
       "   ('discussis', 'discutio', 'VERB', (206, 215)),\n",
       "   ('errorum', 'error', 'NOUN', (216, 223)),\n",
       "   ('tenebris', 'tenebra', 'NOUN', (224, 232)),\n",
       "   (',', ',', 'PUNCT', (232, 233)),\n",
       "   ('integra', 'integer', 'ADJ', (234, 241)),\n",
       "   ('apparuerit', 'appareo', 'VERB', (242, 252)),\n",
       "   (',', ',', 'PUNCT', (252, 253)),\n",
       "   ('taedae', 'taeda', 'NOUN', (254, 260)),\n",
       "   ('que', 'que', 'CCONJ', (260, 263)),\n",
       "   ('nuptiales', 'nuptialis', 'ADJ', (264, 273)),\n",
       "   ('accendantur', 'accendo', 'VERB', (274, 285)),\n",
       "   ('.', '.', 'PUNCT', (285, 286))]),\n",
       " ('Uerumenim uero inpraesentiarum id me male habet, quod adhuc uiderim aliquam rixandi necessitatem, & serram contentionis reciprocandi, dum ipsi nouae Philosophiae Principes, de Plenitudine Mundi non conueniunt, adeoque in ipso limine caespitant &c. Quia uero jam olim Philosophi inter sese de Uacuo, an?',\n",
       "  [('Uerumenim', 'uerumenim', 'PART', (0, 9)),\n",
       "   ('uero', 'uero', 'ADV', (10, 14)),\n",
       "   ('inpraesentiarum', 'inpraesentia', 'NOUN', (15, 30)),\n",
       "   ('id', 'is', 'PRON', (31, 33)),\n",
       "   ('me', 'ego', 'PRON', (34, 36)),\n",
       "   ('male', 'male', 'ADV', (37, 41)),\n",
       "   ('habet', 'habeo', 'VERB', (42, 47)),\n",
       "   (',', ',', 'PUNCT', (47, 48)),\n",
       "   ('quod', 'qui', 'PRON', (49, 53)),\n",
       "   ('adhuc', 'adhuc', 'ADV', (54, 59)),\n",
       "   ('uiderim', 'uideo', 'VERB', (60, 67)),\n",
       "   ('aliquam', 'aliqui', 'DET', (68, 75)),\n",
       "   ('rixandi', 'rixor', 'VERB', (76, 83)),\n",
       "   ('necessitatem', 'necessitas', 'NOUN', (84, 96)),\n",
       "   (',', ',', 'PUNCT', (96, 97)),\n",
       "   ('&', '&', 'PUNCT', (98, 99)),\n",
       "   ('serram', 'serra', 'NOUN', (100, 106)),\n",
       "   ('contentionis', 'contentio', 'NOUN', (107, 119)),\n",
       "   ('reciprocandi', 'reciproco', 'VERB', (120, 132)),\n",
       "   (',', ',', 'PUNCT', (132, 133)),\n",
       "   ('dum', 'dum', 'SCONJ', (134, 137)),\n",
       "   ('ipsi', 'ipse', 'DET', (138, 142)),\n",
       "   ('nouae', 'nouus', 'ADJ', (143, 148)),\n",
       "   ('Philosophiae', 'Philosophiaa', 'PROPN', (149, 161)),\n",
       "   ('Principes', 'principes', 'NOUN', (162, 171)),\n",
       "   (',', ',', 'PUNCT', (171, 172)),\n",
       "   ('de', 'de', 'ADP', (173, 175)),\n",
       "   ('Plenitudine', 'plenitudo', 'NOUN', (176, 187)),\n",
       "   ('Mundi', 'Mundus', 'PROPN', (188, 193)),\n",
       "   ('non', 'non', 'PART', (194, 197)),\n",
       "   ('conueniunt', 'conuenio', 'VERB', (198, 208)),\n",
       "   (',', ',', 'PUNCT', (208, 209)),\n",
       "   ('adeo', 'adeo', 'ADV', (210, 214)),\n",
       "   ('que', 'que', 'CCONJ', (214, 217)),\n",
       "   ('in', 'in', 'ADP', (218, 220)),\n",
       "   ('ipso', 'ipse', 'DET', (221, 225)),\n",
       "   ('limine', 'limen', 'NOUN', (226, 232)),\n",
       "   ('caespitant', 'caespito', 'VERB', (233, 243)),\n",
       "   ('&', '&', 'PUNCT', (244, 245)),\n",
       "   ('c.', 'c.', 'SCONJ', (245, 247)),\n",
       "   ('Quia', 'quia', 'SCONJ', (248, 252)),\n",
       "   ('uero', 'uero', 'ADV', (253, 257)),\n",
       "   ('jam', 'jam', 'ADV', (258, 261)),\n",
       "   ('olim', 'olim', 'ADV', (262, 266)),\n",
       "   ('Philosophi', 'philosophi', 'NOUN', (267, 277)),\n",
       "   ('inter', 'inter', 'ADP', (278, 283)),\n",
       "   ('sese', 'sui', 'PRON', (284, 288)),\n",
       "   ('de', 'de', 'ADP', (289, 291)),\n",
       "   ('Uacuo', 'uacuus', 'PROPN', (292, 297)),\n",
       "   (',', ',', 'PUNCT', (297, 298)),\n",
       "   ('an', 'an', 'CCONJ', (299, 301)),\n",
       "   ('?', '?', 'PUNCT', (301, 302))]),\n",
       " ('uel non?',\n",
       "  [('uel', 'uel', 'CCONJ', (0, 3)),\n",
       "   ('non', 'non', 'PART', (4, 7)),\n",
       "   ('?', '?', 'PUNCT', (7, 8))]),\n",
       " ('aut quid sit?',\n",
       "  [('aut', 'aut', 'CCONJ', (0, 3)),\n",
       "   ('quid', 'quis', 'PRON', (4, 8)),\n",
       "   ('sit', 'sum', 'AUX', (9, 12)),\n",
       "   ('?', '?', 'PUNCT', (12, 13))]),\n",
       " ('tam acriter disputarunt & quilibet sententiam suam semel conceptam, mordicus ut miles arcem contra oppugnantem hostem, defendit;',\n",
       "  [('tam', 'tam', 'ADV', (0, 3)),\n",
       "   ('acriter', 'acriter', 'ADV', (4, 11)),\n",
       "   ('disputarunt', 'disputo', 'VERB', (12, 23)),\n",
       "   ('&', '&', 'PUNCT', (24, 25)),\n",
       "   ('quilibet', 'quilibet', 'DET', (26, 34)),\n",
       "   ('sententiam', 'sententia', 'NOUN', (35, 45)),\n",
       "   ('suam', 'suus', 'DET', (46, 50)),\n",
       "   ('semel', 'semel', 'ADV', (51, 56)),\n",
       "   ('conceptam', 'concipio', 'VERB', (57, 66)),\n",
       "   (',', ',', 'PUNCT', (66, 67)),\n",
       "   ('mordicus', 'mordicus', 'ADJ', (68, 76)),\n",
       "   ('ut', 'ut', 'SCONJ', (77, 79)),\n",
       "   ('miles', 'miles', 'NOUN', (80, 85)),\n",
       "   ('arcem', 'arx', 'NOUN', (86, 91)),\n",
       "   ('contra', 'contra', 'ADP', (92, 98)),\n",
       "   ('oppugnantem', 'oppugno', 'VERB', (99, 110)),\n",
       "   ('hostem', 'hostis', 'NOUN', (111, 117)),\n",
       "   (',', ',', 'PUNCT', (117, 118)),\n",
       "   ('defendit', 'defendo', 'VERB', (119, 127)),\n",
       "   (';', ';', 'PUNCT', (127, 128))])]"
      ]
     },
     "execution_count": 15,
     "metadata": {},
     "output_type": "execute_result"
    }
   ],
   "source": [
    "# loading individual file\n",
    "f_sents_data = pickle.load(open(source_path + filenames_list[20], \"rb\"))\n",
    "f_sents_data[110:115]"
   ]
  },
  {
   "cell_type": "code",
   "execution_count": 16,
   "id": "5c3fbb9bf94efdad",
   "metadata": {
    "ExecuteTime": {
     "end_time": "2024-05-10T11:51:24.321435Z",
     "start_time": "2024-05-10T11:51:24.318476Z"
    },
    "collapsed": false,
    "jupyter": {
     "outputs_hidden": false
    }
   },
   "outputs": [
    {
     "data": {
      "text/plain": [
       "1007"
      ]
     },
     "execution_count": 16,
     "metadata": {},
     "output_type": "execute_result"
    }
   ],
   "source": [
    "len(filenames_list)"
   ]
  },
  {
   "cell_type": "code",
   "execution_count": 7,
   "id": "7d383461acae5343",
   "metadata": {
    "ExecuteTime": {
     "end_time": "2024-05-10T11:51:26.997681Z",
     "start_time": "2024-05-10T11:51:26.995531Z"
    },
    "collapsed": false,
    "jupyter": {
     "outputs_hidden": false
    }
   },
   "outputs": [],
   "source": [
    "#def filename_to_doc(filename, dir=target_folder_name):\n",
    "#    doc_json = s.read_file(dir + \"/\" + filename, \"dict\")\n",
    "#    doc = Doc(nlp.vocab).from_json(doc_json)\n",
    "#    return doc"
   ]
  },
  {
   "cell_type": "code",
   "execution_count": 20,
   "id": "2ff62112adc2da6",
   "metadata": {
    "ExecuteTime": {
     "end_time": "2024-05-10T10:17:15.088313Z",
     "start_time": "2024-05-10T10:15:47.143883Z"
    },
    "collapsed": false,
    "jupyter": {
     "outputs_hidden": false
    }
   },
   "outputs": [],
   "source": [
    "#%%time\n",
    "#doc = filename_to_doc(jsonfiles_list[1])"
   ]
  },
  {
   "cell_type": "code",
   "execution_count": 19,
   "id": "9dd7fd4296177c27",
   "metadata": {
    "ExecuteTime": {
     "end_time": "2024-05-10T15:44:10.106781Z",
     "start_time": "2024-05-10T15:44:10.099079Z"
    }
   },
   "outputs": [
    {
     "data": {
      "text/plain": [
       "1007"
      ]
     },
     "execution_count": 19,
     "metadata": {},
     "output_type": "execute_result"
    }
   ],
   "source": [
    "len(filenames_list)"
   ]
  },
  {
   "cell_type": "markdown",
   "id": "32907c09aa3dc094",
   "metadata": {
    "collapsed": false,
    "jupyter": {
     "outputs_hidden": false
    }
   },
   "source": [
    "# Preliminary explorations of Latin wordnet"
   ]
  },
  {
   "cell_type": "code",
   "execution_count": 138,
   "id": "7d076900b344ec3f",
   "metadata": {
    "ExecuteTime": {
     "end_time": "2023-11-07T08:39:57.944549Z",
     "start_time": "2023-11-07T08:39:56.993340Z"
    },
    "collapsed": false,
    "jupyter": {
     "outputs_hidden": false
    }
   },
   "outputs": [],
   "source": [
    "latinwn = pd.read_csv(\"https://raw.githubusercontent.com/CIRCSE/latinWordnet-revision/master/LiLa_LatinWordnet.csv\")"
   ]
  },
  {
   "cell_type": "code",
   "execution_count": 139,
   "id": "643f085663cbb85d",
   "metadata": {
    "ExecuteTime": {
     "end_time": "2023-11-07T08:40:05.218647Z",
     "start_time": "2023-11-07T08:40:05.196010Z"
    },
    "collapsed": false,
    "jupyter": {
     "outputs_hidden": false
    }
   },
   "outputs": [
    {
     "data": {
      "text/html": [
       "<div>\n",
       "<style scoped>\n",
       "    .dataframe tbody tr th:only-of-type {\n",
       "        vertical-align: middle;\n",
       "    }\n",
       "\n",
       "    .dataframe tbody tr th {\n",
       "        vertical-align: top;\n",
       "    }\n",
       "\n",
       "    .dataframe thead th {\n",
       "        text-align: right;\n",
       "    }\n",
       "</style>\n",
       "<table border=\"1\" class=\"dataframe\">\n",
       "  <thead>\n",
       "    <tr style=\"text-align: right;\">\n",
       "      <th></th>\n",
       "      <th>id</th>\n",
       "      <th>lemma</th>\n",
       "      <th>type</th>\n",
       "      <th>lila_uri</th>\n",
       "      <th>id_synset</th>\n",
       "      <th>definition</th>\n",
       "    </tr>\n",
       "  </thead>\n",
       "  <tbody>\n",
       "    <tr>\n",
       "      <th>0</th>\n",
       "      <td>90942</td>\n",
       "      <td>a, aa</td>\n",
       "      <td>LEMMA</td>\n",
       "      <td>http://lila-erc.eu/data/id/lemma/90942</td>\n",
       "      <td>http://wordnet-rdf.princeton.edu/wn30/06831177-n</td>\n",
       "      <td>the 1st letter of the Roman alphabet</td>\n",
       "    </tr>\n",
       "    <tr>\n",
       "      <th>1</th>\n",
       "      <td>86826</td>\n",
       "      <td>abactio</td>\n",
       "      <td>LEMMA</td>\n",
       "      <td>http://lila-erc.eu/data/id/lemma/86826</td>\n",
       "      <td>http://wordnet-rdf.princeton.edu/wn30/00391599-n</td>\n",
       "      <td>the act of removing</td>\n",
       "    </tr>\n",
       "    <tr>\n",
       "      <th>2</th>\n",
       "      <td>86828</td>\n",
       "      <td>abactor</td>\n",
       "      <td>LEMMA</td>\n",
       "      <td>http://lila-erc.eu/data/id/lemma/86828</td>\n",
       "      <td>http://wordnet-rdf.princeton.edu/wn30/10544480-n</td>\n",
       "      <td>someone who steals livestock (especially cattle)</td>\n",
       "    </tr>\n",
       "    <tr>\n",
       "      <th>3</th>\n",
       "      <td>91165</td>\n",
       "      <td>abactus</td>\n",
       "      <td>LEMMA</td>\n",
       "      <td>http://lila-erc.eu/data/id/lemma/91165</td>\n",
       "      <td>http://wordnet-rdf.princeton.edu/wn30/00780889-n</td>\n",
       "      <td>the act of taking something from someone unlaw...</td>\n",
       "    </tr>\n",
       "    <tr>\n",
       "      <th>4</th>\n",
       "      <td>86833</td>\n",
       "      <td>abaculus</td>\n",
       "      <td>LEMMA</td>\n",
       "      <td>http://lila-erc.eu/data/id/lemma/86833</td>\n",
       "      <td>http://wordnet-rdf.princeton.edu/wn30/04435180-n</td>\n",
       "      <td>a flat thin rectangular slab (as of fired clay...</td>\n",
       "    </tr>\n",
       "  </tbody>\n",
       "</table>\n",
       "</div>"
      ],
      "text/plain": [
       "      id     lemma   type                                lila_uri  \\\n",
       "0  90942     a, aa  LEMMA  http://lila-erc.eu/data/id/lemma/90942   \n",
       "1  86826   abactio  LEMMA  http://lila-erc.eu/data/id/lemma/86826   \n",
       "2  86828   abactor  LEMMA  http://lila-erc.eu/data/id/lemma/86828   \n",
       "3  91165   abactus  LEMMA  http://lila-erc.eu/data/id/lemma/91165   \n",
       "4  86833  abaculus  LEMMA  http://lila-erc.eu/data/id/lemma/86833   \n",
       "\n",
       "                                          id_synset  \\\n",
       "0  http://wordnet-rdf.princeton.edu/wn30/06831177-n   \n",
       "1  http://wordnet-rdf.princeton.edu/wn30/00391599-n   \n",
       "2  http://wordnet-rdf.princeton.edu/wn30/10544480-n   \n",
       "3  http://wordnet-rdf.princeton.edu/wn30/00780889-n   \n",
       "4  http://wordnet-rdf.princeton.edu/wn30/04435180-n   \n",
       "\n",
       "                                          definition  \n",
       "0               the 1st letter of the Roman alphabet  \n",
       "1                                the act of removing  \n",
       "2   someone who steals livestock (especially cattle)  \n",
       "3  the act of taking something from someone unlaw...  \n",
       "4  a flat thin rectangular slab (as of fired clay...  "
      ]
     },
     "execution_count": 139,
     "metadata": {},
     "output_type": "execute_result"
    }
   ],
   "source": [
    "latinwn.head(5)"
   ]
  },
  {
   "cell_type": "code",
   "execution_count": null,
   "id": "c815f36f365efc15",
   "metadata": {
    "collapsed": false,
    "jupyter": {
     "outputs_hidden": false
    }
   },
   "outputs": [],
   "source": []
  }
 ],
 "metadata": {
  "kernelspec": {
   "display_name": "latin_global_kernel",
   "language": "python",
   "name": "latin_global_kernel"
  },
  "language_info": {
   "codemirror_mode": {
    "name": "ipython",
    "version": 3
   },
   "file_extension": ".py",
   "mimetype": "text/x-python",
   "name": "python",
   "nbconvert_exporter": "python",
   "pygments_lexer": "ipython3",
   "version": "3.10.12"
  }
 },
 "nbformat": 4,
 "nbformat_minor": 5
}
