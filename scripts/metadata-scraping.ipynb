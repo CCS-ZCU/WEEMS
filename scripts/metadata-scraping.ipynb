{
 "cells": [
  {
   "cell_type": "markdown",
   "metadata": {},
   "source": [
    "# Noscemus_ETF metadata extraction notebook\n",
    "- Run every cell in notebook\n",
    "- After that there should be a Pandas DataFrame \"metadata_tabulka\" containing metadata from all 994 works in the Noscemus corpus.\n",
    "- The 1st row of the dataset is comprised of column headers. There is 26 columns, but only first 15 have headers. Data from 16th column onward are comprised from Noscemus internal notes.\n",
    "- Last cell can also export .csv file which will contain all data. You will be prompted for desired location of that .csv file. Example \"~/Documents/noscemus_metadata.csv\""
   ]
  },
  {
   "cell_type": "code",
   "execution_count": 2,
   "metadata": {
    "ExecuteTime": {
     "end_time": "2023-11-10T08:14:50.153926Z",
     "start_time": "2023-11-10T08:14:50.095862Z"
    }
   },
   "outputs": [],
   "source": [
    "import re\n",
    "import requests\n",
    "import pandas as pd\n",
    "from bs4 import BeautifulSoup"
   ]
  },
  {
   "cell_type": "code",
   "execution_count": 7,
   "metadata": {
    "ExecuteTime": {
     "end_time": "2023-11-10T08:16:04.679578Z",
     "start_time": "2023-11-10T08:16:04.134354Z"
    }
   },
   "outputs": [
    {
     "name": "stdout",
     "output_type": "stream",
     "text": [
      "CPU times: user 27 ms, sys: 3.43 ms, total: 30.4 ms\n",
      "Wall time: 545 ms\n"
     ]
    }
   ],
   "source": [
    "%%time\n",
    "# Web test, extraction of clomun headers and dataframe extraction. (also checks time of execution. time for whole corpus ~=\"time\"*994)\n",
    "url = \"https://wiki.uibk.ac.at/noscemus/A_Latin_Letter_containing_some_Animadversions_upon_Mr._Isaac_Newton,_his_Theory_of_Light\"\n",
    "response = requests.get(url)\n",
    "\n",
    "if response.status_code == 200:\n",
    "    soup = BeautifulSoup(response.content, \"html.parser\")\n",
    "    table = soup.find(\"table\", class_=\"wikitable\")\n",
    "    #data = [item.get_text(strip=True) for item in table.find_all(\"td\")]\n",
    "    indices = [item.get_text(strip=True) for item in table.find_all(\"th\")]\n",
    "    metadata_table = pd.DataFrame([indices])\n",
    "else:\n",
    "    print(\"Request error, response code is:\", response.status_code)"
   ]
  },
  {
   "cell_type": "code",
   "execution_count": 23,
   "metadata": {
    "ExecuteTime": {
     "end_time": "2023-11-10T09:08:58.912054Z",
     "start_time": "2023-11-10T09:08:56.393035Z"
    }
   },
   "outputs": [],
   "source": [
    "# creation of list of works of noscemus based on which i am iterating throught the corpus\n",
    "url = [\"https://wiki.uibk.ac.at/noscemus/_-_/index.php?title=Category:Works&pageuntil=De+curandis+vulneribus+sclopettorum#mw-pages\", \"https://wiki.uibk.ac.at/noscemus/_-_/index.php?title=Category:Works&pagefrom=De+curandis+vulneribus+sclopettorum#mw-pages\", \"https://wiki.uibk.ac.at/noscemus/_-_/index.php?title=Category:Works&pagefrom=Discursus+astronomicus+novissimus#mw-pages\", \"https://wiki.uibk.ac.at/noscemus/_-_/index.php?title=Category:Works&pagefrom=In+opus+revolutionum+Nicolai+Copernici+Torunnaei+dialogus#mw-pages\", \"https://wiki.uibk.ac.at/noscemus/_-_/index.php?title=Category:Works&pagefrom=Petri+Nonii+Salaciensis+opera#mw-pages\",]\n",
    "seznam =[]\n",
    "for item in url:\n",
    "    response = requests.get(item)\n",
    "    soup = BeautifulSoup(response.content, \"html.parser\")\n",
    "    tag = soup.find(\"div\", class_=\"mw-category\")\n",
    "    seznam.extend(re.findall(\"(?<=href=\\\").*(?=\\\" title)\", str(tag)))"
   ]
  },
  {
   "cell_type": "code",
   "execution_count": 59,
   "outputs": [],
   "source": [
    "url = \"https://wiki.uibk.ac.at\"+seznam[150]\n",
    "response = requests.get(url)\n",
    "soup = BeautifulSoup(response.content, \"html.parser\")\n",
    "table = soup.find(\"table\", class_=\"wikitable\")"
   ],
   "metadata": {
    "collapsed": false,
    "ExecuteTime": {
     "end_time": "2023-11-10T10:05:04.653862Z",
     "start_time": "2023-11-10T10:05:04.120402Z"
    }
   }
  },
  {
   "cell_type": "code",
   "execution_count": 60,
   "outputs": [
    {
     "data": {
      "text/plain": "[<tr>\n <th> Author\n </th>\n <td> <a href=\"/noscemus/Remus,_Georg\" title=\"Remus, Georg\">Remus, Georg</a>, <a href=\"/noscemus/Wolff,_Christian_von\" title=\"Wolff, Christian von\">Wolff, Christian von</a>\n </td></tr>,\n <tr>\n <th> Full title\n </th>\n <td> Consideratio physico-mathematica hiemis proxime praeterlapsae quam rectore magnicientissimo serenissimo principe ac domino DN. Philippo Wilhelmo, principe Borussiae, marchione Brandenburgico, caetera, praeside Christiano Wolfio, mathematum Professore Publico Ordinario, ad diem XIII Junii anno MDCCIX. horis antemeridianis in auditorio majori publico eruditorum examini submittet Georgius Remus, Gedansis.\n </td></tr>,\n <tr>\n <th> Year\n </th>\n <td> 1709\n </td></tr>,\n <tr>\n <th> Place\n </th>\n <td> Halle (Saale)\n </td></tr>,\n <tr>\n <th> Publisher/Printer\n </th>\n <td> Zeidler, Andreas\n </td></tr>,\n <tr>\n <th> Era\n </th>\n <td> 18th century\n </td></tr>,\n <tr>\n <th> Form/Genre\n </th>\n <td> Dissertation\n </td></tr>,\n <tr>\n <th> Discipline/Content\n </th>\n <td> Physics, Meteorology/Earth sciences\n </td></tr>,\n <tr>\n <th colspan=\"2\" style=\"text-align:left\">Digital copies\n </th></tr>,\n <tr>\n <td>Original\n </td>\n <td> <a class=\"external text\" href=\"http://nbn-resolving.de/urn:nbn:de:gbv:3:1-262590\" rel=\"nofollow\">Consideratio physico-mathematica hiemis proxime praeterlapsae (Halle 1709)</a> (Digitale Bibliothek Uni Halle)\n </td></tr>,\n <tr>\n <td>Digital sourcebook\n </td>\n <td> <a class=\"external text\" href=\"https://transkribus.eu/r/noscemus/#/documents/691456\" rel=\"nofollow\">691456</a>\n </td></tr>,\n <tr>\n <th> Description\n </th>\n <td> The <i>Consideratio</i> is a dissertation presented under the <i>praeses</i> Christoph Wolff in Halle on the topic of ‘The Great Frost’ (‘der Jahrtausendwinter’; ‘le Grand Hiver’) of 1708/ 1709. The extraordinary cold of this winter, acknowledged still today as the coldest winter in the last half-millennium (<a href=\"/noscemus/Pain_2009\" title=\"Pain 2009\">Pain 2009</a>), affected life severely across Europe but was particularly hard felt by populations across France and Germany (<a href=\"/noscemus/Assaf_2009\" title=\"Assaf 2009\">Assaf 2009</a>). The phenomenon was of course, then, of great interest to early modern natural philosophers.\n <p>After a short preface of two pages, Remus’ dissertation is divided principally into two sections. The first (pp. 1–29) offers a ‘history’ of the Frost, in which Remus’ five periods of the event are described and his records of daily temperatures are listed. Remus also deals with some methodological issues related to accurate temperature measurement and he describes the results of the season’s windy conditions before moving on to the winter’s effects on bodies of water, plant and human / animal life he witnessed. The second section of the work (pp. 29–51) offers Remus’ thoughts on the potential causes of this especially harsh winter. He deals first with the reasons for winter in general, treating the variation in distance between the sun and earth at earth’s apohelion and perihelion, the tilt of the earth’s axis and the potential effect of sun spots. He rejects, however, these phenomena as causes of this winter’s harshness. Instead, he finds its cause in the particularly windy and overcast conditions of the season (p. 41). He then goes on to relate his cause to the conditions in each of the five periods he has identified.\n </p><p>Remus’ dissertation became the principal source for the Royal Society’s account of the Frost by William Derham (<a href=\"/noscemus/Derham_1708/09\" title=\"Derham 1708/09\">Derham 1708/09</a>). Derham offered his own account of the conditions in Britain, supplemented with information out of numerous letters from British colleagues before moving on to the rest of Europe, where Remus’ text (given to Derham by John Woodward) is analyzed in detail. Though entitled, presented (with, for example, the frequently standard smaller chapter-division marks ‘§’) and published in the typical format of the German <i>dissertatio</i> from this period, the work reads rather like a short monograph.\n </p>\n </td></tr>,\n <tr>\n <th> References\n </th>\n <td> <a href=\"/noscemus/Assaf_2009\" title=\"Assaf 2009\">Assaf 2009</a>\n <p><a href=\"/noscemus/Derham_1708/09\" title=\"Derham 1708/09\">Derham 1708/09</a>\n </p><p><a href=\"/noscemus/Pain_2009\" title=\"Pain 2009\">Pain 2009</a>\n </p>\n </td></tr>,\n <tr>\n <th> Cited in\n </th>\n <td><ul id=\"mw-whatlinkshere-list\"><li><a href=\"/noscemus/Remus,_Georg\" title=\"Remus, Georg\">Remus, Georg</a>  ‎ <span class=\"mw-whatlinkshere-tools\">(<a href=\"/noscemus/_-_/index.php?title=Special:WhatLinksHere&amp;target=Remus%2C+Georg\" title=\"Special:WhatLinksHere\">← links</a>)</span></li>\n <li><a href=\"/noscemus/Wolff,_Christian_von\" title=\"Wolff, Christian von\">Wolff, Christian von</a>  ‎ <span class=\"mw-whatlinkshere-tools\">(<a href=\"/noscemus/_-_/index.php?title=Special:WhatLinksHere&amp;target=Wolff%2C+Christian+von\" title=\"Special:WhatLinksHere\">← links</a>)</span></li>\n </ul>\n </td></tr>,\n <tr>\n <th> How to cite this entry\n </th>\n <td> Remus, Georg; Wolff, Christian von: <i>Consideratio physico-mathematica hiemis proxime praeterlapsae</i>, in: Noscemus Wiki, URL: <a class=\"external free\" href=\"http://wiki.uibk.ac.at/noscemus/Consideratio_physico-mathematica_hiemis_proxime_praeterlapsae\" rel=\"nofollow\">http://wiki.uibk.ac.at/noscemus/Consideratio_physico-mathematica_hiemis_proxime_praeterlapsae</a> (last revision: 01.08.2021).\n </td></tr>,\n <tr class=\"onlyforeditors\">\n <th colspan=\"2\" style=\"text-align:left\">Internal notes\n </th></tr>,\n <tr class=\"onlyforeditors\">\n <td>Internal notes\n </td>\n <td>\n </td></tr>,\n <tr class=\"onlyforeditors\">\n <td>Of interest to\n </td>\n <td> WB\n </td></tr>,\n <tr class=\"onlyforeditors\">\n <td>Transkribus text available\n </td>\n <td> Yes\n </td></tr>,\n <tr class=\"onlyforeditors\">\n <td>Written by\n </td>\n <td> WB\n </td></tr>]"
     },
     "execution_count": 60,
     "metadata": {},
     "output_type": "execute_result"
    }
   ],
   "source": [
    "[tr for tr in table.find_all(\"tr\")]"
   ],
   "metadata": {
    "collapsed": false,
    "ExecuteTime": {
     "end_time": "2023-11-10T10:05:05.107845Z",
     "start_time": "2023-11-10T10:05:05.100790Z"
    }
   }
  },
  {
   "cell_type": "code",
   "execution_count": 87,
   "outputs": [],
   "source": [
    "data = {}\n",
    "for tr in table.find_all(\"tr\"):\n",
    "    if 'onlyforeditors' in tr.get('class', []):\n",
    "        try:\n",
    "            tds = tr.find_all(\"td\")\n",
    "            data[tds[0].get_text(strip=True)] = tds[1].get_text(strip=True)\n",
    "        except:\n",
    "            pass"
   ],
   "metadata": {
    "collapsed": false,
    "ExecuteTime": {
     "end_time": "2023-11-10T10:16:55.403503Z",
     "start_time": "2023-11-10T10:16:55.388808Z"
    }
   }
  },
  {
   "cell_type": "code",
   "execution_count": 88,
   "outputs": [
    {
     "data": {
      "text/plain": "{'Internal notes': '',\n 'Of interest to': 'WB',\n 'Transkribus text available': 'Yes',\n 'Written by': 'WB'}"
     },
     "execution_count": 88,
     "metadata": {},
     "output_type": "execute_result"
    }
   ],
   "source": [
    "data"
   ],
   "metadata": {
    "collapsed": false,
    "ExecuteTime": {
     "end_time": "2023-11-10T10:16:56.564819Z",
     "start_time": "2023-11-10T10:16:56.553812Z"
    }
   }
  },
  {
   "cell_type": "code",
   "execution_count": 89,
   "outputs": [],
   "source": [
    "def get_wikientry_data(table):\n",
    "    data = {}\n",
    "    for tr in table.find_all(\"tr\"):\n",
    "        if 'onlyforeditors' in tr.get('class', []):\n",
    "            try:\n",
    "                tds = tr.find_all(\"td\")\n",
    "                data[tds[0].get_text(strip=True)] = tds[1].get_text(strip=True)\n",
    "            except:\n",
    "                pass\n",
    "        else:\n",
    "            try:\n",
    "                data[tr.th.get_text(strip=True)] = tr.td.get_text(strip=True)\n",
    "            except:\n",
    "                pass\n",
    "    return data"
   ],
   "metadata": {
    "collapsed": false,
    "ExecuteTime": {
     "end_time": "2023-11-10T10:17:29.046555Z",
     "start_time": "2023-11-10T10:17:29.037099Z"
    }
   }
  },
  {
   "cell_type": "code",
   "execution_count": 92,
   "metadata": {
    "ExecuteTime": {
     "end_time": "2023-11-10T10:25:10.481572Z",
     "start_time": "2023-11-10T10:18:23.275174Z"
    }
   },
   "outputs": [
    {
     "name": "stdout",
     "output_type": "stream",
     "text": [
      "CPU times: user 46.8 s, sys: 1.68 s, total: 48.5 s\n",
      "Wall time: 6min 47s\n"
     ]
    }
   ],
   "source": [
    "%%time\n",
    "#writing metadata from every work in noscemus corpus into pd.dataframe \"metadata_table\"\n",
    "all_data = []\n",
    "for page in seznam:\n",
    "    url = \"https://wiki.uibk.ac.at\"+page\n",
    "    response = requests.get(url)\n",
    "    soup = BeautifulSoup(response.content, \"html.parser\")\n",
    "    table = soup.find(\"table\", class_=\"wikitable\")\n",
    "    data = get_wikientry_data(table)\n",
    "    all_data.append(data)"
   ]
  },
  {
   "cell_type": "code",
   "execution_count": 93,
   "outputs": [],
   "source": [
    "metadata_table = pd.DataFrame(all_data)"
   ],
   "metadata": {
    "collapsed": false,
    "ExecuteTime": {
     "end_time": "2023-11-10T10:25:10.491289Z",
     "start_time": "2023-11-10T10:25:10.486859Z"
    }
   }
  },
  {
   "cell_type": "code",
   "execution_count": 94,
   "metadata": {
    "ExecuteTime": {
     "end_time": "2023-11-10T10:25:10.561032Z",
     "start_time": "2023-11-10T10:25:10.491108Z"
    }
   },
   "outputs": [],
   "source": [
    "#export dataframe into .csv file. Please insert your desired file location.\n",
    "metadata_table.to_csv(\"../data/metadata_table.csv\", index=False)"
   ]
  },
  {
   "cell_type": "code",
   "execution_count": null,
   "outputs": [],
   "source": [],
   "metadata": {
    "collapsed": false
   }
  }
 ],
 "metadata": {
  "kernelspec": {
   "display_name": ".env",
   "language": "python",
   "name": "python3"
  },
  "language_info": {
   "codemirror_mode": {
    "name": "ipython",
    "version": 3
   },
   "file_extension": ".py",
   "mimetype": "text/x-python",
   "name": "python",
   "nbconvert_exporter": "python",
   "pygments_lexer": "ipython3",
   "version": "3.11.6"
  }
 },
 "nbformat": 4,
 "nbformat_minor": 2
}
