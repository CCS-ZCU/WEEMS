{
 "cells": [
  {
   "cell_type": "code",
   "execution_count": 13,
   "metadata": {},
   "outputs": [],
   "source": [
    "import requests\n",
    "import pandas as pd\n",
    "from bs4 import BeautifulSoup"
   ]
  },
  {
   "cell_type": "code",
   "execution_count": 40,
   "metadata": {},
   "outputs": [
    {
     "name": "stdout",
     "output_type": "stream",
     "text": [
      "['Author', 'Full title', 'In', 'Year', 'Place', 'Publisher/Printer', 'Era', 'Form/Genre', 'Discipline/Content', 'Digital copies', 'Description', 'References', 'Cited in', 'How to cite this entry', 'Internal notes']\n"
     ]
    }
   ],
   "source": [
    "#Test webu, vytvoreni tabulky a ziskani nadpisu\n",
    "url = \"https://wiki.uibk.ac.at/noscemus/A_Latin_Letter_containing_some_Animadversions_upon_Mr._Isaac_Newton,_his_Theory_of_Light\"\n",
    "response = requests.get(url)\n",
    "\n",
    "if response.status_code == 200:\n",
    "    soup = BeautifulSoup(response.content, \"html.parser\")\n",
    "    table = soup.find(\"table\", class_=\"wikitable\")\n",
    "    rows = table.find_all(\"tr\")\n",
    "    columns = [item.text.strip() for item in table.find_all(\"th\")]\n",
    "    metadata_tabulka = pd.DataFrame(columns=columns)\n",
    "else:\n",
    "    print(\"Chyba, response code je:\", response.status_code)\n"
   ]
  },
  {
   "cell_type": "code",
   "execution_count": null,
   "metadata": {},
   "outputs": [],
   "source": [
    "# zatim nefunguje - work in progress !!!\n",
    "url = \"https://wiki.uibk.ac.at/noscemus/Category:Works\"\n",
    "response = requests.get(url)\n",
    "soup = BeautifulSoup(response.content, \"html.parser\")\n",
    "\n",
    "print(soup)\n",
    "\n",
    "'''\n",
    "table = soup.find(\"table\", class_=\"wikitable\")\n",
    "rows = table.find_all(\"tr\")\n",
    "columns = [item.text.strip() for item in table.find_all(\"th\")]\n",
    "metadata_tabulka = pd.DataFrame(columns=columns)\n",
    "'''"
   ]
  }
 ],
 "metadata": {
  "kernelspec": {
   "display_name": ".env",
   "language": "python",
   "name": "python3"
  },
  "language_info": {
   "codemirror_mode": {
    "name": "ipython",
    "version": 3
   },
   "file_extension": ".py",
   "mimetype": "text/x-python",
   "name": "python",
   "nbconvert_exporter": "python",
   "pygments_lexer": "ipython3",
   "version": "3.11.6"
  }
 },
 "nbformat": 4,
 "nbformat_minor": 2
}
