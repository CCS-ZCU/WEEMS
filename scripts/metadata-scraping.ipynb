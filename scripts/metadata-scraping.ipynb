{
 "cells": [
  {
   "cell_type": "markdown",
   "metadata": {},
   "source": [
    "# Noscemus_ETF metadata extraction notebook\n",
    "- Run every cell in notebook\n",
    "- After that there should be a Pandas DataFrame \"metadata_tabulka\" containing metadata from all 994 works in the Noscemus corpus.\n",
    "- The 1st row of the dataset is comprised of column headers. There is 26 columns, but only first 15 have headers. Data from 16th column onward are comprised from Noscemus internal notes.\n",
    "- Last cell can also export .csv file which will contain all data. You will be prompted for desired location of that .csv file. Example \"~/Documents/noscemus_metadata.csv\""
   ]
  },
  {
   "cell_type": "code",
   "execution_count": 2,
   "metadata": {
    "ExecuteTime": {
     "end_time": "2023-11-10T08:14:50.153926Z",
     "start_time": "2023-11-10T08:14:50.095862Z"
    }
   },
   "outputs": [],
   "source": [
    "import re\n",
    "import requests\n",
    "import pandas as pd\n",
    "from bs4 import BeautifulSoup"
   ]
  },
  {
   "cell_type": "code",
   "execution_count": 7,
   "metadata": {
    "ExecuteTime": {
     "end_time": "2023-11-10T08:16:04.679578Z",
     "start_time": "2023-11-10T08:16:04.134354Z"
    }
   },
   "outputs": [
    {
     "name": "stdout",
     "output_type": "stream",
     "text": [
      "CPU times: user 27 ms, sys: 3.43 ms, total: 30.4 ms\n",
      "Wall time: 545 ms\n"
     ]
    }
   ],
   "source": [
    "%%time\n",
    "# Web test, extraction of clomun headers and dataframe extraction. (also checks time of execution. time for whole corpus ~=\"time\"*994)\n",
    "url = \"https://wiki.uibk.ac.at/noscemus/A_Latin_Letter_containing_some_Animadversions_upon_Mr._Isaac_Newton,_his_Theory_of_Light\"\n",
    "response = requests.get(url)\n",
    "\n",
    "if response.status_code == 200:\n",
    "    soup = BeautifulSoup(response.content, \"html.parser\")\n",
    "    table = soup.find(\"table\", class_=\"wikitable\")\n",
    "    #data = [item.get_text(strip=True) for item in table.find_all(\"td\")]\n",
    "    indices = [item.get_text(strip=True) for item in table.find_all(\"th\")]\n",
    "    metadata_table = pd.DataFrame([indices])\n",
    "else:\n",
    "    print(\"Request error, response code is:\", response.status_code)"
   ]
  },
  {
   "cell_type": "code",
   "execution_count": 8,
   "metadata": {
    "ExecuteTime": {
     "end_time": "2023-11-10T08:16:52.506859Z",
     "start_time": "2023-11-10T08:16:47.998276Z"
    }
   },
   "outputs": [],
   "source": [
    "# creation of list of works of noscemus based on which i am iterating throught the corpus\n",
    "url = [\"https://wiki.uibk.ac.at/noscemus/_-_/index.php?title=Category:Works&pageuntil=De+curandis+vulneribus+sclopettorum#mw-pages\", \"https://wiki.uibk.ac.at/noscemus/_-_/index.php?title=Category:Works&pagefrom=De+curandis+vulneribus+sclopettorum#mw-pages\", \"https://wiki.uibk.ac.at/noscemus/_-_/index.php?title=Category:Works&pagefrom=Discursus+astronomicus+novissimus#mw-pages\", \"https://wiki.uibk.ac.at/noscemus/_-_/index.php?title=Category:Works&pagefrom=In+opus+revolutionum+Nicolai+Copernici+Torunnaei+dialogus#mw-pages\", \"https://wiki.uibk.ac.at/noscemus/_-_/index.php?title=Category:Works&pagefrom=Petri+Nonii+Salaciensis+opera#mw-pages\",]\n",
    "seznam =[]\n",
    "for item in url:\n",
    "    response = requests.get(item)\n",
    "    soup = BeautifulSoup(response.content, \"html.parser\")\n",
    "    tag = soup.find(\"div\", class_=\"mw-category\")\n",
    "    seznam.extend(re.findall(\"(?<=href=\\\").*(?=\\\" title)\", str(tag)))"
   ]
  },
  {
   "cell_type": "code",
   "execution_count": 9,
   "metadata": {
    "ExecuteTime": {
     "end_time": "2023-11-10T08:26:08.245583Z",
     "start_time": "2023-11-10T08:16:54.105055Z"
    }
   },
   "outputs": [
    {
     "name": "stdout",
     "output_type": "stream",
     "text": [
      "CPU times: user 43.2 s, sys: 1.39 s, total: 44.6 s\n",
      "Wall time: 9min 14s\n"
     ]
    }
   ],
   "source": [
    "%%time\n",
    "#writing metadata from every work in noscemus corpus into pd.dataframe \"metadata_table\"\n",
    "for page in seznam:\n",
    "    url = \"https://wiki.uibk.ac.at\"+page\n",
    "    response = requests.get(url)\n",
    "    soup = BeautifulSoup(response.content, \"html.parser\")\n",
    "    table = soup.find(\"table\", class_=\"wikitable\")\n",
    "    data = [item.get_text(strip=True) for item in table.find_all(\"td\")]\n",
    "    added = pd.DataFrame([data])\n",
    "    metadata_table = pd.concat([metadata_table, added], ignore_index=True)"
   ]
  },
  {
   "cell_type": "code",
   "execution_count": 18,
   "outputs": [
    {
     "data": {
      "text/plain": "0                     Author\n1                 Full title\n2                         In\n3                       Year\n4                      Place\n5          Publisher/Printer\n6                        Era\n7                 Form/Genre\n8         Discipline/Content\n9             Digital copies\n10               Description\n11                References\n12                  Cited in\n13    How to cite this entry\n14            Internal notes\n15                       NaN\n16                       NaN\n17                       NaN\n18                       NaN\n19                       NaN\n20                       NaN\n21                       NaN\n22                       NaN\n23                       NaN\n24                       NaN\n25                       NaN\nName: 0, dtype: object"
     },
     "execution_count": 18,
     "metadata": {},
     "output_type": "execute_result"
    }
   ],
   "source": [
    "metadata_table.T[0]"
   ],
   "metadata": {
    "collapsed": false,
    "ExecuteTime": {
     "end_time": "2023-11-10T08:32:51.620851Z",
     "start_time": "2023-11-10T08:32:51.608770Z"
    }
   }
  },
  {
   "cell_type": "code",
   "execution_count": 21,
   "outputs": [
    {
     "data": {
      "text/plain": "0                     Author  \\\n1     Pardies, Ignace Gaston   \n2   Scheuchzer, Johann Jakob   \n3         Morabito, Giuseppe   \n4            Addison, Joseph   \n5            Lipsius, Justus   \n6                 Owen, John   \n7             Costus, Petrus   \n8          Acidalius, Valens   \n9           Paulinus, Fabius   \n10            Sands, Patrick   \n\n0                                          Full title  \\\n1   A Latin Letter written to the Publisher April ...   \n2   Acarnania sive Relatio eorum, quae hactenus el...   \n3   Ad astronautas Americanos carmen Iosephi Morab...   \n4   Ad insignissimum virum dominum Thomam Burnettu...   \n5                               Ad Clusii nomen lusus   \n6                                Ad Dominum Gilbertum   \n7   Petrus Costus ad Gulielmum Rondeletium medicum...   \n8                  Ad Iordanum Brunum Nolanum, Italum   \n9   Ad clarissimum virum Laurentium Massam, sereni...   \n10               Ad lectorem trigonometriae studiosum   \n\n0                                                  In  Year  \\\n1   Philosophical Transactions of the Royal Societ...  1672   \n2     ΟΥΡΕΣΙΦΟΙΤΗΣ (Ouresiphoites) Helveticus, 609–35  1723   \n3   Fons pacis. Nova aetas. Ad astronautas America...  1969   \n4   Examen poeticum duplex, sive, Musarum anglican...  1698   \n5   L'Ecluse, Charles de, Rariorum aliquot stirpiu...  1583   \n6   Epigrammatum libri tres. Auctore Ioanne Owen B...  1606   \n7               Aquatilium historia, vol. 1, fol. α3r  1554   \n8   Poematum Iani Lernutii, Iani Gulielmi, Valenti...  1603   \n9   Avicennae, Arabum medicorum principis, ex Gera...  1595   \n10  Mirifici logarithmorum canonis descriptioeiusq...  1614   \n\n0               Place                       Publisher/Printer           Era  \\\n1              London                                  Martyn  17th century   \n2              Leiden                      van der Aa, Pieter  18th century   \n3           Amsterdam  Nord-Hollandsche Uitgevers Maatschapij    After 1800   \n4              London                   Richard Wellington I.  17th century   \n5             Antwerp                                 Plantin  16th century   \n6              London           Windet, John, Waterson, Simon  17th century   \n7                Lyon                                Bonhomme  16th century   \n8   Liegnitz, Wrocław                           Albert, David  17th century   \n9              Venice                                I Giunti  16th century   \n10          Edinburgh                              Andro Hart  17th century   \n\n0                Form/Genre  \\\n1            Letter, Review   \n2   Biography, Bibliography   \n3            Panegyric poem   \n4            Panegyric poem   \n5            Panegyric poem   \n6   Other (see description)   \n7            Panegyric poem   \n8            Panegyric poem   \n9            Panegyric poem   \n10           Panegyric poem   \n\n0                                  Discipline/Content Digital copies  ...  \\\n1                                             Physics       Original  ...   \n2   Mathematics, Physics, Geography/Cartography, M...       Original  ...   \n3                     Astronomy/Astrology/Cosmography       Original  ...   \n4                          Meteorology/Earth sciences       Original  ...   \n5          Biology, Medicine, Other (see description)       Original  ...   \n6                     Astronomy/Astrology/Cosmography       Original  ...   \n7                                             Biology       Original  ...   \n8                     Astronomy/Astrology/Cosmography       Original  ...   \n9                                            Medicine       Original  ...   \n10                                        Mathematics       Original  ...   \n\n0                                                 NaN             NaN  \\\n1   Pardies, Ignace Gaston:A Latin Letter containi...  Internal notes   \n2                                      Internal notes                   \n3   Morabito, Giuseppe:Ad astronautas Americanos, ...  Internal notes   \n4                                      Internal notes                   \n5   Lipsius, Justus:Ad Clusii nomen lusus, in: Nos...  Internal notes   \n6   Owen, John:Ad Gilbertum, in: Noscemus Wiki, UR...  Internal notes   \n7                                      Internal notes                   \n8   Acidalius, Valens:Ad Iordanum Brunum, in: Nosc...  Internal notes   \n9   Paulinus, Fabius:Ad Laurentium Massam pro Avic...  Internal notes   \n10  Sands, Patrick:Ad lectorem trigonometriae stud...  Internal notes   \n\n0                                                 NaN             NaN  \\\n1                                            RECENSIO  Of interest to   \n2                                      Of interest to              MK   \n3   The Earthrise picture and \"Please be informed ...  Of interest to   \n4                                      Of interest to          MK, IT   \n5   Possibly, this epigram could be found in Lipsi...  Of interest to   \n6   First edition in sharefolder.The epigram was a...  Of interest to   \n7                                      Of interest to              MK   \n8   Kühlmann must have overlooked the poem in the ...  Of interest to   \n9   On the title page of the edition, the many acc...  Of interest to   \n10  Sands also wrote a poem for Napier'sRabdologia...  Of interest to   \n\n0                          NaN                         NaN         NaN  \\\n1                               Transkribus text available         Yes   \n2   Transkribus text available                         Yes  Written by   \n3                           IT  Transkribus text available               \n4   Transkribus text available                         Yes  Written by   \n5                           IT  Transkribus text available         Yes   \n6                       JL, IT  Transkribus text available         Yes   \n7   Transkribus text available                         Yes  Written by   \n8                       MK, IT  Transkribus text available         Yes   \n9                           MK  Transkribus text available         Yes   \n10                          IT  Transkribus text available         Yes   \n\n0          NaN  NaN  NaN  \n1   Written by   IT  NaN  \n2           MK  NaN  NaN  \n3   Written by   IT  NaN  \n4           MK  NaN  NaN  \n5   Written by   IT  NaN  \n6   Written by   IT  NaN  \n7           MK  NaN  NaN  \n8   Written by   MK  NaN  \n9   Written by   MK  NaN  \n10  Written by   IT  NaN  \n\n[10 rows x 26 columns]",
      "text/html": "<div>\n<style scoped>\n    .dataframe tbody tr th:only-of-type {\n        vertical-align: middle;\n    }\n\n    .dataframe tbody tr th {\n        vertical-align: top;\n    }\n\n    .dataframe thead th {\n        text-align: right;\n    }\n</style>\n<table border=\"1\" class=\"dataframe\">\n  <thead>\n    <tr style=\"text-align: right;\">\n      <th></th>\n      <th>Author</th>\n      <th>Full title</th>\n      <th>In</th>\n      <th>Year</th>\n      <th>Place</th>\n      <th>Publisher/Printer</th>\n      <th>Era</th>\n      <th>Form/Genre</th>\n      <th>Discipline/Content</th>\n      <th>Digital copies</th>\n      <th>...</th>\n      <th>NaN</th>\n      <th>NaN</th>\n      <th>NaN</th>\n      <th>NaN</th>\n      <th>NaN</th>\n      <th>NaN</th>\n      <th>NaN</th>\n      <th>NaN</th>\n      <th>NaN</th>\n      <th>NaN</th>\n    </tr>\n  </thead>\n  <tbody>\n    <tr>\n      <th>1</th>\n      <td>Pardies, Ignace Gaston</td>\n      <td>A Latin Letter written to the Publisher April ...</td>\n      <td>Philosophical Transactions of the Royal Societ...</td>\n      <td>1672</td>\n      <td>London</td>\n      <td>Martyn</td>\n      <td>17th century</td>\n      <td>Letter, Review</td>\n      <td>Physics</td>\n      <td>Original</td>\n      <td>...</td>\n      <td>Pardies, Ignace Gaston:A Latin Letter containi...</td>\n      <td>Internal notes</td>\n      <td>RECENSIO</td>\n      <td>Of interest to</td>\n      <td></td>\n      <td>Transkribus text available</td>\n      <td>Yes</td>\n      <td>Written by</td>\n      <td>IT</td>\n      <td>NaN</td>\n    </tr>\n    <tr>\n      <th>2</th>\n      <td>Scheuchzer, Johann Jakob</td>\n      <td>Acarnania sive Relatio eorum, quae hactenus el...</td>\n      <td>ΟΥΡΕΣΙΦΟΙΤΗΣ (Ouresiphoites) Helveticus, 609–35</td>\n      <td>1723</td>\n      <td>Leiden</td>\n      <td>van der Aa, Pieter</td>\n      <td>18th century</td>\n      <td>Biography, Bibliography</td>\n      <td>Mathematics, Physics, Geography/Cartography, M...</td>\n      <td>Original</td>\n      <td>...</td>\n      <td>Internal notes</td>\n      <td></td>\n      <td>Of interest to</td>\n      <td>MK</td>\n      <td>Transkribus text available</td>\n      <td>Yes</td>\n      <td>Written by</td>\n      <td>MK</td>\n      <td>NaN</td>\n      <td>NaN</td>\n    </tr>\n    <tr>\n      <th>3</th>\n      <td>Morabito, Giuseppe</td>\n      <td>Ad astronautas Americanos carmen Iosephi Morab...</td>\n      <td>Fons pacis. Nova aetas. Ad astronautas America...</td>\n      <td>1969</td>\n      <td>Amsterdam</td>\n      <td>Nord-Hollandsche Uitgevers Maatschapij</td>\n      <td>After 1800</td>\n      <td>Panegyric poem</td>\n      <td>Astronomy/Astrology/Cosmography</td>\n      <td>Original</td>\n      <td>...</td>\n      <td>Morabito, Giuseppe:Ad astronautas Americanos, ...</td>\n      <td>Internal notes</td>\n      <td>The Earthrise picture and \"Please be informed ...</td>\n      <td>Of interest to</td>\n      <td>IT</td>\n      <td>Transkribus text available</td>\n      <td></td>\n      <td>Written by</td>\n      <td>IT</td>\n      <td>NaN</td>\n    </tr>\n    <tr>\n      <th>4</th>\n      <td>Addison, Joseph</td>\n      <td>Ad insignissimum virum dominum Thomam Burnettu...</td>\n      <td>Examen poeticum duplex, sive, Musarum anglican...</td>\n      <td>1698</td>\n      <td>London</td>\n      <td>Richard Wellington I.</td>\n      <td>17th century</td>\n      <td>Panegyric poem</td>\n      <td>Meteorology/Earth sciences</td>\n      <td>Original</td>\n      <td>...</td>\n      <td>Internal notes</td>\n      <td></td>\n      <td>Of interest to</td>\n      <td>MK, IT</td>\n      <td>Transkribus text available</td>\n      <td>Yes</td>\n      <td>Written by</td>\n      <td>MK</td>\n      <td>NaN</td>\n      <td>NaN</td>\n    </tr>\n    <tr>\n      <th>5</th>\n      <td>Lipsius, Justus</td>\n      <td>Ad Clusii nomen lusus</td>\n      <td>L'Ecluse, Charles de, Rariorum aliquot stirpiu...</td>\n      <td>1583</td>\n      <td>Antwerp</td>\n      <td>Plantin</td>\n      <td>16th century</td>\n      <td>Panegyric poem</td>\n      <td>Biology, Medicine, Other (see description)</td>\n      <td>Original</td>\n      <td>...</td>\n      <td>Lipsius, Justus:Ad Clusii nomen lusus, in: Nos...</td>\n      <td>Internal notes</td>\n      <td>Possibly, this epigram could be found in Lipsi...</td>\n      <td>Of interest to</td>\n      <td>IT</td>\n      <td>Transkribus text available</td>\n      <td>Yes</td>\n      <td>Written by</td>\n      <td>IT</td>\n      <td>NaN</td>\n    </tr>\n    <tr>\n      <th>6</th>\n      <td>Owen, John</td>\n      <td>Ad Dominum Gilbertum</td>\n      <td>Epigrammatum libri tres. Auctore Ioanne Owen B...</td>\n      <td>1606</td>\n      <td>London</td>\n      <td>Windet, John, Waterson, Simon</td>\n      <td>17th century</td>\n      <td>Other (see description)</td>\n      <td>Astronomy/Astrology/Cosmography</td>\n      <td>Original</td>\n      <td>...</td>\n      <td>Owen, John:Ad Gilbertum, in: Noscemus Wiki, UR...</td>\n      <td>Internal notes</td>\n      <td>First edition in sharefolder.The epigram was a...</td>\n      <td>Of interest to</td>\n      <td>JL, IT</td>\n      <td>Transkribus text available</td>\n      <td>Yes</td>\n      <td>Written by</td>\n      <td>IT</td>\n      <td>NaN</td>\n    </tr>\n    <tr>\n      <th>7</th>\n      <td>Costus, Petrus</td>\n      <td>Petrus Costus ad Gulielmum Rondeletium medicum...</td>\n      <td>Aquatilium historia, vol. 1, fol. α3r</td>\n      <td>1554</td>\n      <td>Lyon</td>\n      <td>Bonhomme</td>\n      <td>16th century</td>\n      <td>Panegyric poem</td>\n      <td>Biology</td>\n      <td>Original</td>\n      <td>...</td>\n      <td>Internal notes</td>\n      <td></td>\n      <td>Of interest to</td>\n      <td>MK</td>\n      <td>Transkribus text available</td>\n      <td>Yes</td>\n      <td>Written by</td>\n      <td>MK</td>\n      <td>NaN</td>\n      <td>NaN</td>\n    </tr>\n    <tr>\n      <th>8</th>\n      <td>Acidalius, Valens</td>\n      <td>Ad Iordanum Brunum Nolanum, Italum</td>\n      <td>Poematum Iani Lernutii, Iani Gulielmi, Valenti...</td>\n      <td>1603</td>\n      <td>Liegnitz, Wrocław</td>\n      <td>Albert, David</td>\n      <td>17th century</td>\n      <td>Panegyric poem</td>\n      <td>Astronomy/Astrology/Cosmography</td>\n      <td>Original</td>\n      <td>...</td>\n      <td>Acidalius, Valens:Ad Iordanum Brunum, in: Nosc...</td>\n      <td>Internal notes</td>\n      <td>Kühlmann must have overlooked the poem in the ...</td>\n      <td>Of interest to</td>\n      <td>MK, IT</td>\n      <td>Transkribus text available</td>\n      <td>Yes</td>\n      <td>Written by</td>\n      <td>MK</td>\n      <td>NaN</td>\n    </tr>\n    <tr>\n      <th>9</th>\n      <td>Paulinus, Fabius</td>\n      <td>Ad clarissimum virum Laurentium Massam, sereni...</td>\n      <td>Avicennae, Arabum medicorum principis, ex Gera...</td>\n      <td>1595</td>\n      <td>Venice</td>\n      <td>I Giunti</td>\n      <td>16th century</td>\n      <td>Panegyric poem</td>\n      <td>Medicine</td>\n      <td>Original</td>\n      <td>...</td>\n      <td>Paulinus, Fabius:Ad Laurentium Massam pro Avic...</td>\n      <td>Internal notes</td>\n      <td>On the title page of the edition, the many acc...</td>\n      <td>Of interest to</td>\n      <td>MK</td>\n      <td>Transkribus text available</td>\n      <td>Yes</td>\n      <td>Written by</td>\n      <td>MK</td>\n      <td>NaN</td>\n    </tr>\n    <tr>\n      <th>10</th>\n      <td>Sands, Patrick</td>\n      <td>Ad lectorem trigonometriae studiosum</td>\n      <td>Mirifici logarithmorum canonis descriptioeiusq...</td>\n      <td>1614</td>\n      <td>Edinburgh</td>\n      <td>Andro Hart</td>\n      <td>17th century</td>\n      <td>Panegyric poem</td>\n      <td>Mathematics</td>\n      <td>Original</td>\n      <td>...</td>\n      <td>Sands, Patrick:Ad lectorem trigonometriae stud...</td>\n      <td>Internal notes</td>\n      <td>Sands also wrote a poem for Napier'sRabdologia...</td>\n      <td>Of interest to</td>\n      <td>IT</td>\n      <td>Transkribus text available</td>\n      <td>Yes</td>\n      <td>Written by</td>\n      <td>IT</td>\n      <td>NaN</td>\n    </tr>\n  </tbody>\n</table>\n<p>10 rows × 26 columns</p>\n</div>"
     },
     "execution_count": 21,
     "metadata": {},
     "output_type": "execute_result"
    }
   ],
   "source": [
    "metadata_table.columns = metadata_table.T[0]\n",
    "metadata_table = metadata_table[1:]\n",
    "metadata_table.head(10)"
   ],
   "metadata": {
    "collapsed": false,
    "ExecuteTime": {
     "end_time": "2023-11-10T08:34:11.969150Z",
     "start_time": "2023-11-10T08:34:11.952675Z"
    }
   }
  },
  {
   "cell_type": "code",
   "execution_count": 22,
   "metadata": {
    "ExecuteTime": {
     "end_time": "2023-11-10T08:41:54.574982Z",
     "start_time": "2023-11-10T08:41:54.497990Z"
    }
   },
   "outputs": [],
   "source": [
    "#export dataframe into .csv file. Please insert your desired file location.\n",
    "metadata_table.to_csv(\"../data/metadata_table.csv\", index=False)"
   ]
  },
  {
   "cell_type": "code",
   "execution_count": null,
   "outputs": [],
   "source": [],
   "metadata": {
    "collapsed": false
   }
  }
 ],
 "metadata": {
  "kernelspec": {
   "display_name": ".env",
   "language": "python",
   "name": "python3"
  },
  "language_info": {
   "codemirror_mode": {
    "name": "ipython",
    "version": 3
   },
   "file_extension": ".py",
   "mimetype": "text/x-python",
   "name": "python",
   "nbconvert_exporter": "python",
   "pygments_lexer": "ipython3",
   "version": "3.11.6"
  }
 },
 "nbformat": 4,
 "nbformat_minor": 2
}
