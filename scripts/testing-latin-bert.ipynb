{
 "cells": [
  {
   "cell_type": "code",
   "execution_count": 2,
   "outputs": [],
   "source": [
    "import shutil\n",
    "import re\n",
    "import os"
   ],
   "metadata": {
    "collapsed": false,
    "ExecuteTime": {
     "end_time": "2023-12-12T12:50:31.118927Z",
     "start_time": "2023-12-12T12:50:31.110260Z"
    }
   },
   "id": "3148480dc117e454"
  },
  {
   "cell_type": "code",
   "execution_count": 4,
   "id": "initial_id",
   "metadata": {
    "collapsed": true,
    "ExecuteTime": {
     "end_time": "2023-12-12T12:44:07.785458Z",
     "start_time": "2023-12-12T12:44:04.544235Z"
    }
   },
   "outputs": [],
   "source": [
    "#!curl https://sciencedata.dk/public/87394f685b79e7f1ebd4a7ead2b4941c/noscemus_raw.zip -o ../data/large_data/noscemus_raw.zip\n",
    "# shutil.unpack_archive(\"../data/large_data/noscemus_raw.zip\", \"../data/large_data/noscemus_raw\")"
   ]
  },
  {
   "cell_type": "code",
   "execution_count": null,
   "outputs": [],
   "source": [
    "def text_cleaner(rawtext):\n",
    "    cleantext = rawtext.replace(\"¬\\n\", \"\").replace(\"\\n\", \" \").replace(\"ß\", \"ss\").replace(\"ij\",\"ii\")\n",
    "    cleantext = \" \".join([t[0] + t[1:].lower() for t in cleantext.split()])\n",
    "    cleantext = re.sub(\"\\s\\s+\", \" \", cleantext)\n",
    "    return cleantext"
   ],
   "metadata": {
    "collapsed": false
   },
   "id": "eada64539581477b"
  },
  {
   "cell_type": "code",
   "execution_count": null,
   "outputs": [],
   "source": [
    "for fn in os.listdir(\"../data/large_data/noscemus_raw\"):\n",
    "    "
   ],
   "metadata": {
    "collapsed": false
   },
   "id": "cd71b49ce895f4d"
  },
  {
   "cell_type": "code",
   "execution_count": null,
   "outputs": [],
   "source": [
    "for fn in os.listdir(\"../data/large_data/noscemus_raw\"):\n",
    "    try:\n",
    "        with open(\"../data/large_data/sents_lemmata/{}.txt\".format(fn), \"r\") as f:\n",
    "            text = f.read()\n",
    "        text = text_cleaner(text)\n",
    "        # text_sentence_vectors = []\n",
    "        # for each sentence in the text\n",
    "            # apply the bert vectors on it\n",
    "            # add the sentence to a list of vectorized sentences\n",
    "            # text_sentence_vectors.append()\n",
    "        # save the file vectors into its own folder or to sciencedata  (following \n",
    "    except:\n",
    "        pass"
   ],
   "metadata": {
    "collapsed": false
   },
   "id": "1605b976d363422c"
  }
 ],
 "metadata": {
  "kernelspec": {
   "display_name": "Python 3",
   "language": "python",
   "name": "python3"
  },
  "language_info": {
   "codemirror_mode": {
    "name": "ipython",
    "version": 2
   },
   "file_extension": ".py",
   "mimetype": "text/x-python",
   "name": "python",
   "nbconvert_exporter": "python",
   "pygments_lexer": "ipython2",
   "version": "2.7.6"
  }
 },
 "nbformat": 4,
 "nbformat_minor": 5
}
