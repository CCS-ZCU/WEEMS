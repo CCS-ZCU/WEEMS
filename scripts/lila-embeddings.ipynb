{
 "cells": [
  {
   "cell_type": "code",
   "execution_count": 14,
   "id": "361b2bdaa3269606",
   "metadata": {
    "collapsed": true,
    "ExecuteTime": {
     "end_time": "2023-11-21T09:55:43.914749Z",
     "start_time": "2023-11-21T09:55:43.912640Z"
    }
   },
   "outputs": [],
   "source": [
    "from gensim.models import KeyedVectors\n",
    "import pandas as pd"
   ]
  },
  {
   "cell_type": "code",
   "execution_count": 15,
   "outputs": [],
   "source": [
    "latinwn = pd.read_csv(\"https://raw.githubusercontent.com/CIRCSE/latinWordnet-revision/master/LiLa_LatinWordnet.csv\")"
   ],
   "metadata": {
    "collapsed": false,
    "ExecuteTime": {
     "end_time": "2023-11-21T09:55:50.132426Z",
     "start_time": "2023-11-21T09:55:45.890140Z"
    }
   },
   "id": "8516ddd70df861fa"
  },
  {
   "cell_type": "code",
   "execution_count": 36,
   "outputs": [
    {
     "data": {
      "text/plain": "           id     lemma   type                                 lila_uri  \\\n0       90942     a, aa  LEMMA   http://lila-erc.eu/data/id/lemma/90942   \n1       86826   abactio  LEMMA   http://lila-erc.eu/data/id/lemma/86826   \n2       86828   abactor  LEMMA   http://lila-erc.eu/data/id/lemma/86828   \n3       91165   abactus  LEMMA   http://lila-erc.eu/data/id/lemma/91165   \n4       86833  abaculus  LEMMA   http://lila-erc.eu/data/id/lemma/86833   \n...       ...       ...    ...                                      ...   \n42816   25496  zephyrus  LEMMA   http://lila-erc.eu/data/id/lemma/25496   \n42817  131218   zizania  LEMMA  http://lila-erc.eu/data/id/lemma/131218   \n42818  131219   zizania  LEMMA  http://lila-erc.eu/data/id/lemma/131219   \n42819  131225  zodiacus  LEMMA  http://lila-erc.eu/data/id/lemma/131225   \n42820  131225  zodiacus  LEMMA  http://lila-erc.eu/data/id/lemma/131225   \n\n                                              id_synset  \\\n0      http://wordnet-rdf.princeton.edu/wn30/06831177-n   \n1      http://wordnet-rdf.princeton.edu/wn30/00391599-n   \n2      http://wordnet-rdf.princeton.edu/wn30/10544480-n   \n3      http://wordnet-rdf.princeton.edu/wn30/00780889-n   \n4      http://wordnet-rdf.princeton.edu/wn30/04435180-n   \n...                                                 ...   \n42816  http://wordnet-rdf.princeton.edu/wn30/11431754-n   \n42817  http://wordnet-rdf.princeton.edu/wn30/12125183-n   \n42818  http://wordnet-rdf.princeton.edu/wn30/12125183-n   \n42819  http://wordnet-rdf.princeton.edu/wn30/04615456-n   \n42820  http://wordnet-rdf.princeton.edu/wn30/08685188-n   \n\n                                              definition  \n0                   the 1st letter of the Roman alphabet  \n1                                    the act of removing  \n2       someone who steals livestock (especially cattle)  \n3      the act of taking something from someone unlaw...  \n4      a flat thin rectangular slab (as of fired clay...  \n...                                                  ...  \n42816                 a slight wind (usually refreshing)  \n42817  weedy annual grass often occurs in grainfields...  \n42818  weedy annual grass often occurs in grainfields...  \n42819  (astrology) a circular diagram representing th...  \n42820  a belt-shaped region in the heavens on either ...  \n\n[42821 rows x 6 columns]",
      "text/html": "<div>\n<style scoped>\n    .dataframe tbody tr th:only-of-type {\n        vertical-align: middle;\n    }\n\n    .dataframe tbody tr th {\n        vertical-align: top;\n    }\n\n    .dataframe thead th {\n        text-align: right;\n    }\n</style>\n<table border=\"1\" class=\"dataframe\">\n  <thead>\n    <tr style=\"text-align: right;\">\n      <th></th>\n      <th>id</th>\n      <th>lemma</th>\n      <th>type</th>\n      <th>lila_uri</th>\n      <th>id_synset</th>\n      <th>definition</th>\n    </tr>\n  </thead>\n  <tbody>\n    <tr>\n      <th>0</th>\n      <td>90942</td>\n      <td>a, aa</td>\n      <td>LEMMA</td>\n      <td>http://lila-erc.eu/data/id/lemma/90942</td>\n      <td>http://wordnet-rdf.princeton.edu/wn30/06831177-n</td>\n      <td>the 1st letter of the Roman alphabet</td>\n    </tr>\n    <tr>\n      <th>1</th>\n      <td>86826</td>\n      <td>abactio</td>\n      <td>LEMMA</td>\n      <td>http://lila-erc.eu/data/id/lemma/86826</td>\n      <td>http://wordnet-rdf.princeton.edu/wn30/00391599-n</td>\n      <td>the act of removing</td>\n    </tr>\n    <tr>\n      <th>2</th>\n      <td>86828</td>\n      <td>abactor</td>\n      <td>LEMMA</td>\n      <td>http://lila-erc.eu/data/id/lemma/86828</td>\n      <td>http://wordnet-rdf.princeton.edu/wn30/10544480-n</td>\n      <td>someone who steals livestock (especially cattle)</td>\n    </tr>\n    <tr>\n      <th>3</th>\n      <td>91165</td>\n      <td>abactus</td>\n      <td>LEMMA</td>\n      <td>http://lila-erc.eu/data/id/lemma/91165</td>\n      <td>http://wordnet-rdf.princeton.edu/wn30/00780889-n</td>\n      <td>the act of taking something from someone unlaw...</td>\n    </tr>\n    <tr>\n      <th>4</th>\n      <td>86833</td>\n      <td>abaculus</td>\n      <td>LEMMA</td>\n      <td>http://lila-erc.eu/data/id/lemma/86833</td>\n      <td>http://wordnet-rdf.princeton.edu/wn30/04435180-n</td>\n      <td>a flat thin rectangular slab (as of fired clay...</td>\n    </tr>\n    <tr>\n      <th>...</th>\n      <td>...</td>\n      <td>...</td>\n      <td>...</td>\n      <td>...</td>\n      <td>...</td>\n      <td>...</td>\n    </tr>\n    <tr>\n      <th>42816</th>\n      <td>25496</td>\n      <td>zephyrus</td>\n      <td>LEMMA</td>\n      <td>http://lila-erc.eu/data/id/lemma/25496</td>\n      <td>http://wordnet-rdf.princeton.edu/wn30/11431754-n</td>\n      <td>a slight wind (usually refreshing)</td>\n    </tr>\n    <tr>\n      <th>42817</th>\n      <td>131218</td>\n      <td>zizania</td>\n      <td>LEMMA</td>\n      <td>http://lila-erc.eu/data/id/lemma/131218</td>\n      <td>http://wordnet-rdf.princeton.edu/wn30/12125183-n</td>\n      <td>weedy annual grass often occurs in grainfields...</td>\n    </tr>\n    <tr>\n      <th>42818</th>\n      <td>131219</td>\n      <td>zizania</td>\n      <td>LEMMA</td>\n      <td>http://lila-erc.eu/data/id/lemma/131219</td>\n      <td>http://wordnet-rdf.princeton.edu/wn30/12125183-n</td>\n      <td>weedy annual grass often occurs in grainfields...</td>\n    </tr>\n    <tr>\n      <th>42819</th>\n      <td>131225</td>\n      <td>zodiacus</td>\n      <td>LEMMA</td>\n      <td>http://lila-erc.eu/data/id/lemma/131225</td>\n      <td>http://wordnet-rdf.princeton.edu/wn30/04615456-n</td>\n      <td>(astrology) a circular diagram representing th...</td>\n    </tr>\n    <tr>\n      <th>42820</th>\n      <td>131225</td>\n      <td>zodiacus</td>\n      <td>LEMMA</td>\n      <td>http://lila-erc.eu/data/id/lemma/131225</td>\n      <td>http://wordnet-rdf.princeton.edu/wn30/08685188-n</td>\n      <td>a belt-shaped region in the heavens on either ...</td>\n    </tr>\n  </tbody>\n</table>\n<p>42821 rows × 6 columns</p>\n</div>"
     },
     "execution_count": 36,
     "metadata": {},
     "output_type": "execute_result"
    }
   ],
   "source": [
    "latinwn"
   ],
   "metadata": {
    "collapsed": false,
    "ExecuteTime": {
     "end_time": "2023-11-21T10:25:31.423086Z",
     "start_time": "2023-11-21T10:25:31.418014Z"
    }
   },
   "id": "f685787452742c67"
  },
  {
   "cell_type": "code",
   "execution_count": 21,
   "outputs": [],
   "source": [
    "latinwn_dict = dict(zip(latinwn[\"lemma\"], latinwn[\"definition\"]))"
   ],
   "metadata": {
    "collapsed": false,
    "ExecuteTime": {
     "end_time": "2023-11-21T09:57:53.068606Z",
     "start_time": "2023-11-21T09:57:53.064088Z"
    }
   },
   "id": "6961360bb74dae50"
  },
  {
   "cell_type": "code",
   "execution_count": 50,
   "outputs": [],
   "source": [
    "lasla = KeyedVectors.load_word2vec_format(\"../data/large_data/allLASLA-lemmi-fast-100-SKIP-win5-min5.vec\")"
   ],
   "metadata": {
    "collapsed": false,
    "ExecuteTime": {
     "end_time": "2023-11-21T10:52:30.324945Z",
     "start_time": "2023-11-21T10:52:29.927058Z"
    }
   },
   "id": "ee504ebad51d2233"
  },
  {
   "cell_type": "code",
   "execution_count": 51,
   "outputs": [
    {
     "data": {
      "text/plain": "[('carnarium', 0.8714821934700012),\n ('sudarium', 0.8584282398223877),\n ('uinarius', 0.8317396640777588),\n ('torcularium', 0.8269299864768982),\n ('armarium', 0.8191075325012207),\n ('milliarium', 0.8161847591400146),\n ('mortarium', 0.8139163255691528),\n ('asinarius', 0.7973707318305969),\n ('pomarium', 0.7952086329460144),\n ('olearius', 0.7895564436912537)]"
     },
     "execution_count": 51,
     "metadata": {},
     "output_type": "execute_result"
    }
   ],
   "source": [
    "lasla.most_similar(\"seminarium\")"
   ],
   "metadata": {
    "collapsed": false,
    "ExecuteTime": {
     "end_time": "2023-11-21T10:52:32.015838Z",
     "start_time": "2023-11-21T10:52:31.830172Z"
    }
   },
   "id": "2ad9cf0d4ee732ca"
  },
  {
   "cell_type": "code",
   "execution_count": 37,
   "outputs": [],
   "source": [
    "def get_def(tups):\n",
    "    tups_defs = []\n",
    "    for el in tups:\n",
    "        try:     \n",
    "            tups_defs.append((el[0], el[1], latinwn_dict[el[0]]))\n",
    "        except:\n",
    "            tups_defs.append((el[0], el[1], \"\"))\n",
    "    return tups_defs"
   ],
   "metadata": {
    "collapsed": false,
    "ExecuteTime": {
     "end_time": "2023-11-21T10:26:15.014858Z",
     "start_time": "2023-11-21T10:26:15.011794Z"
    }
   },
   "id": "e2ae4496e8f0e407"
  },
  {
   "cell_type": "code",
   "execution_count": 39,
   "outputs": [
    {
     "data": {
      "text/plain": "            0         1                                                  2\n0       talea  0.750706                                                   \n1    stercoro  0.730749                                                   \n2       ficus  0.729245  Mediterranean tree widely cultivated for its e...\n3    bipalium  0.713725                                                   \n4       sario  0.689199                                                   \n5       uitis  0.687463  a plant with a weak stem that derives support ...\n6        sero  0.683645                                                   \n7     stercus  0.669870                                                   \n8     scrobis  0.659348                                                   \n9  oleagineus  0.647215                                                   ",
      "text/html": "<div>\n<style scoped>\n    .dataframe tbody tr th:only-of-type {\n        vertical-align: middle;\n    }\n\n    .dataframe tbody tr th {\n        vertical-align: top;\n    }\n\n    .dataframe thead th {\n        text-align: right;\n    }\n</style>\n<table border=\"1\" class=\"dataframe\">\n  <thead>\n    <tr style=\"text-align: right;\">\n      <th></th>\n      <th>0</th>\n      <th>1</th>\n      <th>2</th>\n    </tr>\n  </thead>\n  <tbody>\n    <tr>\n      <th>0</th>\n      <td>talea</td>\n      <td>0.750706</td>\n      <td></td>\n    </tr>\n    <tr>\n      <th>1</th>\n      <td>stercoro</td>\n      <td>0.730749</td>\n      <td></td>\n    </tr>\n    <tr>\n      <th>2</th>\n      <td>ficus</td>\n      <td>0.729245</td>\n      <td>Mediterranean tree widely cultivated for its e...</td>\n    </tr>\n    <tr>\n      <th>3</th>\n      <td>bipalium</td>\n      <td>0.713725</td>\n      <td></td>\n    </tr>\n    <tr>\n      <th>4</th>\n      <td>sario</td>\n      <td>0.689199</td>\n      <td></td>\n    </tr>\n    <tr>\n      <th>5</th>\n      <td>uitis</td>\n      <td>0.687463</td>\n      <td>a plant with a weak stem that derives support ...</td>\n    </tr>\n    <tr>\n      <th>6</th>\n      <td>sero</td>\n      <td>0.683645</td>\n      <td></td>\n    </tr>\n    <tr>\n      <th>7</th>\n      <td>stercus</td>\n      <td>0.669870</td>\n      <td></td>\n    </tr>\n    <tr>\n      <th>8</th>\n      <td>scrobis</td>\n      <td>0.659348</td>\n      <td></td>\n    </tr>\n    <tr>\n      <th>9</th>\n      <td>oleagineus</td>\n      <td>0.647215</td>\n      <td></td>\n    </tr>\n  </tbody>\n</table>\n</div>"
     },
     "execution_count": 39,
     "metadata": {},
     "output_type": "execute_result"
    }
   ],
   "source": [
    "pd.DataFrame(get_def(lasla.most_similar(\"seminarium\")))"
   ],
   "metadata": {
    "collapsed": false,
    "ExecuteTime": {
     "end_time": "2023-11-21T10:26:52.908491Z",
     "start_time": "2023-11-21T10:26:52.894562Z"
    }
   },
   "id": "65491f508d2d23e4"
  },
  {
   "cell_type": "code",
   "execution_count": 40,
   "outputs": [
    {
     "data": {
      "text/plain": "[('talea', 0.7507061958312988),\n ('stercoro', 0.7307488322257996),\n ('ficus', 0.7292445302009583),\n ('bipalium', 0.7137247323989868),\n ('sario', 0.6891986727714539),\n ('uitis', 0.6874629855155945),\n ('sero', 0.6836451292037964),\n ('stercus', 0.6698702573776245),\n ('scrobis', 0.659347653388977),\n ('oleagineus', 0.6472145318984985)]"
     },
     "execution_count": 40,
     "metadata": {},
     "output_type": "execute_result"
    }
   ],
   "source": [
    "lasla.most_similar(\"seminarium\")"
   ],
   "metadata": {
    "collapsed": false,
    "ExecuteTime": {
     "end_time": "2023-11-21T10:26:54.273784Z",
     "start_time": "2023-11-21T10:26:54.170311Z"
    }
   },
   "id": "3b34848421283d38"
  },
  {
   "cell_type": "code",
   "execution_count": 56,
   "outputs": [
    {
     "data": {
      "text/plain": "[('sementis', 0.7769805788993835),\n ('germen', 0.65008145570755),\n ('legumen', 0.6492693424224854),\n ('materies', 0.62647545337677),\n ('sulcus', 0.6210277080535889),\n ('stercoro', 0.6130126118659973),\n ('genitalis', 0.6120802760124207),\n ('sumen', 0.6056757569313049),\n ('animans', 0.5975176095962524),\n ('elementa', 0.5954310297966003),\n ('seges', 0.5945314764976501),\n ('primordium', 0.5920283198356628),\n ('bipalium', 0.589260995388031),\n ('omnigenus', 0.5877910256385803),\n ('ablaqueo', 0.5792651772499084),\n ('renascor', 0.573520839214325),\n ('enascor', 0.5693485736846924),\n ('abdomen', 0.5686165690422058),\n ('priuus', 0.5666219592094421),\n ('augmen', 0.5655484795570374)]"
     },
     "execution_count": 56,
     "metadata": {},
     "output_type": "execute_result"
    }
   ],
   "source": [
    "lasla.most_similar(\"semen\", topn=20)"
   ],
   "metadata": {
    "collapsed": false,
    "ExecuteTime": {
     "end_time": "2023-11-21T11:03:14.803487Z",
     "start_time": "2023-11-21T11:03:14.751188Z"
    }
   },
   "id": "1d09e915652600b1"
  },
  {
   "cell_type": "code",
   "execution_count": 43,
   "outputs": [
    {
     "data": {
      "text/plain": "['</s>',\n 'sum',\n 'et',\n 'qui',\n 'in',\n 'non',\n 'hic',\n 'is',\n 'ut',\n 'ego',\n 'ille',\n 'cum',\n 'quis',\n 'tu',\n 'ad',\n 'si',\n 'omnis',\n 'sui',\n 'ab',\n 'sed',\n 'possum',\n 'ex',\n 'ipse',\n 'facio',\n 'dico',\n 'suus',\n 'res',\n 'atque',\n 'uideo',\n 'aut',\n 'nec',\n 'quam',\n 'magnus',\n 'de',\n 'habeo',\n 'do',\n 'uox_breuiata',\n 'ac',\n 'meus',\n 'ne',\n 'tuus',\n 'enim',\n 'per',\n 'multus',\n 'alius',\n 'homo',\n 'etiam',\n 'iam',\n 'animus',\n 'quod',\n 'uolo',\n 'idem',\n 'neque',\n 'tamen',\n 'nihil',\n 'iste',\n 'nos',\n 'causa',\n 'nullus',\n 'locus',\n 'fero',\n 'noster',\n 'unus',\n 'nunc',\n 'quidem',\n 'nam',\n 'dies',\n 'uenio',\n 'pars',\n 'bonus',\n 'ita',\n 'tempus',\n 'ago',\n 'aliquis',\n 'uir',\n 'deus',\n 'magis',\n 'populus',\n 'tum',\n 'manus',\n 'bellum',\n 'uos',\n 'inter',\n 'tam',\n 'romanus',\n 'caesar',\n 'nisi',\n 'quoque',\n 'corpus',\n 'at',\n 'puto',\n 'pater',\n 'sic',\n 'totus',\n 'rex',\n 'uis',\n 'respublica',\n 'eo',\n 'pro',\n 'ubi',\n 'autem',\n 'an',\n 'nomen',\n 'fio',\n 'superus',\n 'sine',\n 'urbs',\n 'uita',\n 'tantus',\n 'hostis',\n 'domus',\n 'iubeo',\n 'quidam',\n 'mitto',\n 'debeo',\n 'credo',\n 'peto',\n 'terra',\n 'modo',\n 'accipio',\n 'quaero',\n 'lex',\n 'quia',\n 'senatus',\n 'uirtus',\n 'audio',\n 'ante',\n 'primus',\n 'miles',\n 'arma',\n 'alter',\n 'numerus_romanus',\n 'scio',\n 'uero',\n 'fortuna',\n 'ciuitas',\n 'apud',\n 'consilium',\n 'nemo',\n 'teneo',\n 'parum',\n 'inquio',\n 'uel',\n 'ratio',\n 'mors',\n 'iudicium',\n 'natura',\n 'amicus',\n 'dum',\n 'quisque',\n 'genus',\n 'sequor',\n 'saepe',\n 'capio',\n 'licet',\n 'relinquo',\n 'ergo',\n 'uerbum',\n 'pono',\n 'itaque',\n 'modus',\n 'deinde',\n 'semper',\n 'iudex',\n 'uinco',\n 'exercitus',\n 'nouus',\n 'castra',\n 'quisquam',\n 'contra',\n 'opus',\n 'tantum',\n 'annus',\n 'fides',\n 'uester',\n 'bonum',\n 'ius',\n 'bene',\n 'duo',\n 'quo',\n 'paruus',\n 'imperium',\n 'pecunia',\n 'igitur',\n 'amor',\n 'consul',\n 'ciuis',\n 'ullus',\n 'post',\n 'periculum',\n 'satis',\n 'malum',\n 'uoco',\n 'legio',\n 'gero',\n 'refero',\n 'grauis',\n 'labor',\n 'beneficium',\n 'reddo',\n 'mos',\n 'princeps',\n 'nox',\n 'os',\n 'uiuo',\n 'soleo',\n 'mare',\n 'oculus',\n 'honor',\n 'uox',\n 'caput',\n 'eques',\n 'prouincia',\n 'duco',\n 'cognosco',\n 'scelus',\n 'numquam',\n 'primum',\n 'mens',\n 'miser',\n 'filius',\n 'mille',\n 'spes',\n 'utor',\n 'sub',\n 'uterque',\n 'uerum',\n 'copia',\n 'cogo',\n 'quisquis',\n 'longus',\n 'mater',\n 'solus',\n 'patior',\n 'multum',\n 'quantum',\n 'simul',\n 'caelum',\n 'coepio',\n 'gratia',\n 'aqua',\n 'ignis',\n 'ager',\n 'o',\n 'metus',\n 'timeo',\n 'adeo',\n 'iudico',\n 'dolor',\n 'tollo',\n 'dux',\n 'iter',\n 'studium',\n 'cura',\n 'certus',\n 'nauis',\n 'liber',\n 'audeo',\n 'talis',\n 'gens',\n 'intelligo',\n 'aetas',\n 'malus',\n 'iniuria',\n 'assum',\n 'defendo',\n 'fugio',\n 'solum',\n 'frater',\n 'loquor',\n 'medius',\n 'sentio',\n 'moueo',\n 'ualeo',\n 'regnum',\n 'puer',\n 'ordo',\n 'signum',\n 'nego',\n 'fortis',\n 'inuenio',\n 'quasi',\n 'legatus',\n 'recipio',\n 'aduersus',\n 'sententia',\n 'crimen',\n 'cur',\n 'hinc',\n 'seruus',\n 'salus',\n 'finis',\n 'quin',\n 'placeo',\n 'sto',\n 'amo',\n 'uia',\n 'haud',\n 'tot',\n 'nascor',\n 'scribo',\n 'tamquam',\n 'pes',\n 'propter',\n 'ars',\n 'numerus',\n 'iuppiter',\n 'paro',\n 'leuis',\n 'fama',\n 'potius',\n 'par',\n 'socius',\n 'quoniam',\n 'equus',\n 'dignus',\n 'gloria',\n 'trado',\n 'existimo',\n 'quantus',\n 'oportet',\n 'officium',\n 'littera',\n 'auctoritas',\n 'pompeius',\n 'denique',\n 'ops',\n 'ira',\n 'affero',\n 'ingenium',\n 'publicus',\n 'oppidum',\n 'siue',\n 'proelium',\n 'uetus',\n 'seruo',\n 'propior',\n 'inde',\n 'telum',\n 'parens',\n 'poena',\n 'alienus',\n 'sanguis',\n 'pax',\n 'umquam',\n 'constituo',\n 'pectus',\n 'absum',\n 'redeo',\n 'ingens',\n 'morior',\n 'altus',\n 'uitium',\n 'unde',\n 'nolo',\n 'addo',\n 'longe',\n 'sol',\n 'cado',\n 'patria',\n 'aio',\n 'praetor',\n 'praesidium',\n 'quicumque',\n 'clarus',\n 'uoluptas',\n 'pereo',\n 'ceterus',\n 'honestus',\n 'nosco',\n 'appello',\n 'similis',\n 'sapiens',\n 'rogo',\n 'lego',\n 'laudo',\n 'respondeo',\n 'laus',\n 'cunctus',\n 'libertas',\n 'muto',\n 'dominus',\n 'flumen',\n 'uultus',\n 'ob',\n 'arbitror',\n 'accedo',\n 'oratio',\n 'potestas',\n 'cedo',\n 'dignitas',\n 'ferrum',\n 'quamquam',\n 'munus',\n 'qualis',\n 'peruenio',\n 'acies',\n 'paucus',\n 'imperator',\n 'diu',\n 'uerto',\n 'multi',\n 'ostendo',\n 'latus',\n 'roma',\n 'mons',\n 'occido',\n 'cogito',\n 'facile',\n 'aurum',\n 'maneo',\n 'cupio',\n 'memoria',\n 'uentus',\n 'iaceo',\n 'inimicus',\n 'turpis',\n 'amicitia',\n 'traho',\n 'communis',\n 'usque',\n 'rapio',\n 'fatum',\n 'senex',\n 'reliquus',\n 'huc',\n 'uerus',\n 'sumo',\n 'aufero',\n 'testis',\n 'eripio',\n 'liberi',\n 'ibi',\n 'doceo',\n 'auxilium',\n 'certe',\n 'praesto',\n 'factum',\n 'puella',\n 'exspecto',\n 'singulus',\n 'adhuc',\n 'cohors',\n 'uxor',\n 'exemplum',\n 'iuuenis',\n 'lux',\n 'uulnus',\n 'tunc',\n 'ceteri',\n 'usus',\n 'gratus',\n 'humanus',\n 'prope',\n 'praeterea',\n 'quamuis',\n 'necesse',\n 'quare',\n 'sermo',\n 'uix',\n 'dubito',\n 'premo',\n 'concedo',\n 'aequus',\n 'forte',\n 'maiores',\n 'retineo',\n 'confero',\n 'auctor',\n 'postquam',\n 'impetus',\n 'impero',\n 'amitto',\n 'soluo',\n 'laetus',\n 'prosum',\n 'desum',\n 'malo',\n 'caedes',\n 'italia',\n 'fuga',\n 'durus',\n 'probo',\n 'interficio',\n 'excipio',\n 'orbis',\n 'casus',\n 'litus',\n 'perdo',\n 'conuenio',\n 'templum',\n 'multitudo',\n 'carmen',\n 'tribunus',\n 'reperio',\n 'quemadmodum',\n 'colo',\n 'proficiscor',\n 'male',\n 'natus',\n 'lacrima',\n 'odium',\n 'tristis',\n 'coniux',\n 'tres',\n 'rursus',\n 'unda',\n 'abeo',\n 'uictor',\n 'antonius',\n 'uelut',\n 'agmen',\n 'plenus',\n 'uoluntas',\n 'forum',\n 'auris',\n 'specto',\n 'metuo',\n 'secundus',\n 'super',\n 'mox',\n 'queror',\n 'nobilis',\n 'impono',\n 'iuuo',\n 'classis',\n 'opera',\n 'augeo',\n 'silua',\n 'uenus',\n 'efficio',\n 'notus',\n 'transeo',\n 'emo',\n 'postulo',\n 'exter',\n 'miror',\n 'hercules',\n 'multo',\n 'plebs',\n 'spatium',\n 'saxum',\n 'turba',\n 'uinum',\n 'lumen',\n 'uictoria',\n 'campus',\n 'flamma',\n 'qua',\n 'tertius',\n 'forma',\n 'statim',\n 'statuo',\n 'foedus',\n 'uotum',\n 'tandem',\n 'consto',\n 'exigo',\n 'mora',\n 'praeda',\n 'committo',\n 'species',\n 'priuatus',\n 'interim',\n 'prior',\n 'magnitudo',\n 'accido',\n 'tutus',\n 'immortalis',\n 'nescio',\n 'fallo',\n 'gallia',\n 'suscipio',\n 'decerno',\n 'spero',\n 'cursus',\n 'edo',\n 'praeter',\n 'frons',\n 'occupo',\n 'prohibeo',\n 'uestis',\n 'quomodo',\n 'pertineo',\n 'defero',\n 'incipio',\n 'opto',\n 'uarius',\n 'religio',\n 'aliquando',\n 'inuidia',\n 'quippe',\n 'negotium',\n 'libido',\n 'intersum',\n 'procul',\n 'pugno',\n 'memini',\n 'disco',\n 'felix',\n 'compono',\n 'reus',\n 'censeo',\n 'saeuus',\n 'sicut',\n 'exeo',\n 'aspicio',\n 'pulcher',\n 'praemium',\n 'frumentum',\n 'carus',\n 'sidus',\n 'tento',\n 'pretium',\n 'curo',\n 'postea',\n 'discedo',\n 'facilis',\n 'posco',\n 'nondum',\n 'adduco',\n 'ideo',\n 'desero',\n 'tectum',\n 'frango',\n 'misceo',\n 'familia',\n 'timor',\n 'contemno',\n 'mollis',\n 'uendo',\n 'somnus',\n 'gaudeo',\n 'consulo',\n 'fateor',\n 'umbra',\n 'seu',\n 'barbarus',\n 'acer',\n 'magistratus',\n 'erro',\n 'cupiditas',\n 'noceo',\n 'sedes',\n 'sustineo',\n 'membrum',\n 'mortalis',\n 'deduco',\n 'regio',\n 'contingo',\n 'motus',\n 'etiamsi',\n 'illic',\n 'tego',\n 'pudor',\n 'uereor',\n 'pugna',\n 'tueor',\n 'improbus',\n 'otium',\n 'conficio',\n 'paulo',\n 'nostri',\n 'supplicium',\n 'contineo',\n 'cerno',\n 'ciuilis',\n 'clamor',\n 'quando',\n 'item',\n 'pello',\n 'furor',\n 'murus',\n 'femina',\n 'color',\n 'comes',\n 'praebeo',\n 'dextera',\n 'oro',\n 'dimitto',\n 'claudo',\n 'soror',\n 'falsus',\n 'anima',\n 'iustus',\n 'tango',\n 'integer',\n 'facies',\n 'omnino',\n 'praesens',\n 'tergum',\n 'suspicio',\n 'promitto',\n 'orior',\n 'tabula',\n 'desino',\n 'dea',\n 'sedeo',\n 'sicilia',\n 'namque',\n 'istic',\n 'infero',\n 'num',\n 'sacrum',\n 'ceterum',\n 'inuitus',\n 'repeto',\n 'dulcis',\n 'immo',\n 'prex',\n 'morbus',\n 'nero',\n 'amplus',\n 'breuis',\n 'subeo',\n 'accuso',\n 'utilis',\n 'numen',\n 'adicio',\n 'argentum',\n 'damno',\n 'mulier',\n 'contendo',\n 'permitto',\n 'inferus',\n 'mundus',\n 'sensus',\n 'utrum',\n 'careo',\n 'pateo',\n 'amnis',\n 'condo',\n 'iugum',\n 'facinus',\n 'profero',\n 'incido',\n 'iungo',\n 'experior',\n 'diuus',\n 'intro',\n 'moror',\n 'arbor',\n 'parco',\n 'conscribo',\n 'consuetudo',\n 'dono',\n 'sacer',\n 'necessarius',\n 'consulatus',\n 'boni',\n 'posterus',\n 'opprimo',\n 'consisto',\n 'supra',\n 'diuido',\n 'dictum',\n 'uitellius',\n 'undique',\n 'corrumpo',\n 'condicio',\n 'caueo',\n 'paratus',\n 'imago',\n 'ultimus',\n 'sino',\n 'contio',\n 'obicio',\n 'uirgo',\n 'aedes',\n 'exerceo',\n 'caedo',\n 'tempestas',\n 'fera',\n 'aura',\n 'antiquus',\n 'adolescens',\n 'taceo',\n 'remitto',\n 'diuersus',\n 'animal',\n 'sinus',\n 'ingratus',\n 'ara',\n 'dubius',\n 'occurro',\n 'intra',\n 'precor',\n 'beatus',\n 'consequor',\n 'portus',\n 'pecus',\n 'decet',\n 'tellus',\n 'initium',\n 'cito',\n 'etenim',\n 'conor',\n 'fingo',\n 'antequam',\n 'moneo',\n 'omitto',\n 'tenuis',\n 'sanctus',\n 'colligo',\n 'incertus',\n 'laedo',\n 'offero',\n 'comparo',\n 'fundo',\n 'testimonium',\n 'asia',\n 'supero',\n 'recens',\n 'alexander',\n 'patrius',\n 'paene',\n 'equitatus',\n 'insidiae',\n 'filia',\n 'gigno',\n 'fleo',\n 'aes',\n 'uersor',\n 'donec',\n 'sapientia',\n 'cresco',\n 'cetera',\n 'antea',\n 'reuoco',\n 'hora',\n 'difficilis',\n 'olim',\n 'turbo',\n 'scipio',\n 'moenia',\n 'uniuersus',\n 'procedo',\n 'pariter',\n 'conuerto',\n 'deligo',\n 'donum',\n 'cano',\n 'lingua',\n 'diues',\n 'fere',\n 'nuntio',\n 'supersum',\n 'pondus',\n 'epistola',\n 'deicio',\n 'iacto',\n 'quanto',\n 'potens',\n 'uulgus',\n 'quotiens',\n 'gaudium',\n 'custos',\n 'propero',\n 'propono',\n 'familiaris',\n 'hodie',\n 'agito',\n 'extra',\n 'restituo',\n 'uinculum',\n 'nudus',\n 'sylla',\n 'excito',\n 'pareo',\n 'porta',\n 'obtineo',\n 'senectus',\n 'audacia',\n 'augustus',\n 'pauci',\n 'culpa',\n 'cornu',\n 'regius',\n 'aduentus',\n 'ludus',\n 'desidero',\n 'societas',\n 'subito',\n 'contentus',\n 'neue',\n 'ultra',\n 'ueto',\n 'recte',\n 'tribuo',\n 'instituo',\n 'semel',\n 'uestigium',\n 'funus',\n 'quondam',\n 'haereo',\n 'resisto',\n 'materia',\n 'rego',\n 'aliter',\n 'artus',\n 'spargo',\n 'coma',\n 'uiuus',\n 'libero',\n 'proprius',\n 'aureus',\n 'utilitas',\n 'mirus',\n 'tiberius',\n 'tener',\n 'laboro',\n 'tendo',\n 'fortasse',\n 'accusator',\n 'opinio',\n 'praesertim',\n 'possideo',\n 'recito',\n 'summa',\n 'impello',\n 'palam',\n 'iratus',\n 'nuper',\n 'ecce',\n 'uerres',\n 'deficio',\n 'hospes',\n 'aequor',\n 'aeneas',\n 'odi',\n 'principium',\n 'sors',\n 'scilicet',\n 'nuntius',\n 'iniquus',\n 'insula',\n 'sero',\n 'una',\n 'repente',\n 'decus',\n 'circa',\n 'colloco',\n 'gladius',\n 'spiritus',\n 'cibus',\n 'foris',\n 'impleo',\n 'libet',\n 'equidem',\n 'ignotus',\n 'ualidus',\n 'ruo',\n 'reuertor',\n 'circum',\n 'fluctus',\n 'piso',\n 'impedio',\n 'aestimo',\n 'necessitas',\n 'delecto',\n 'cato',\n 'prius',\n 'pietas',\n 'fons',\n 'commoueo',\n 'detraho',\n 'herba',\n 'prodo',\n 'saluus',\n 'fructus',\n 'lateo',\n 'plerique',\n 'praesum',\n 'brutus',\n 'iucundus',\n 'pario',\n 'diuitiae',\n 'limen',\n 'torqueo',\n 'centurio',\n 'aperio',\n 'persequor',\n 'partim',\n 'praetereo',\n 'metellus',\n 'posterius',\n 'differo',\n 'praeceps',\n 'interea',\n 'ultro',\n 'surgo',\n 'rumpo',\n 'uersus',\n 'gradus',\n 'fax',\n 'nimis',\n 'curro',\n 'humus',\n 'consularis',\n 'ripa',\n ...]"
     },
     "execution_count": 43,
     "metadata": {},
     "output_type": "execute_result"
    }
   ],
   "source": [
    "lasla.index_to_key"
   ],
   "metadata": {
    "collapsed": false,
    "ExecuteTime": {
     "end_time": "2023-11-21T10:27:34.588078Z",
     "start_time": "2023-11-21T10:27:34.579181Z"
    }
   },
   "id": "e878b78d4bb32c1c"
  },
  {
   "cell_type": "code",
   "execution_count": 48,
   "outputs": [
    {
     "data": {
      "text/plain": "array([[ 4.0026857e-03,  4.4194032e-03, -3.8302613e-03, ...,\n         1.5238953e-03,  3.0593872e-03,  1.9363403e-04],\n       [-3.1309339e-01, -1.0325172e+00,  8.2968587e-01, ...,\n        -3.9955325e-02,  5.8552200e-01,  9.6661693e-01],\n       [ 6.7403114e-01,  7.0380455e-01,  8.2153231e-02, ...,\n         2.2262006e-01,  5.7482135e-01, -1.8457679e-01],\n       ...,\n       [ 3.2376060e-01,  5.2687217e-02, -1.9482201e-01, ...,\n         4.2271812e-02, -2.9742259e-01, -6.2172627e-01],\n       [ 1.7858891e-01,  3.7537834e-01, -3.3998811e-01, ...,\n         2.3636967e-01, -4.4683632e-01, -3.5170016e-01],\n       [ 2.0943856e-01, -1.1570718e-01,  1.1963188e-01, ...,\n         2.4514571e-01, -5.8902279e-02, -2.3178881e-01]], dtype=float32)"
     },
     "execution_count": 48,
     "metadata": {},
     "output_type": "execute_result"
    }
   ],
   "source": [
    "lasla.vectors"
   ],
   "metadata": {
    "collapsed": false,
    "ExecuteTime": {
     "end_time": "2023-11-21T10:30:04.622474Z",
     "start_time": "2023-11-21T10:30:04.617953Z"
    }
   },
   "id": "2ab937f59275f57d"
  },
  {
   "cell_type": "code",
   "execution_count": 52,
   "outputs": [
    {
     "data": {
      "text/plain": "[('intellectiuus', 0.7068129181861877),\n ('separo', 0.7005686163902283),\n ('sensifico', 0.6973943114280701),\n ('sensitiuus', 0.6771702766418457),\n ('corpus', 0.663750171661377),\n ('uegetabilis', 0.6309762597084045),\n ('unio', 0.6247175931930542),\n ('rationalis', 0.623648464679718),\n ('uegetatiuus', 0.618419885635376),\n ('corporeus', 0.60992830991745)]"
     },
     "execution_count": 52,
     "metadata": {},
     "output_type": "execute_result"
    }
   ],
   "source": [
    "operamayora = KeyedVectors.load_word2vec_format(\"../data/large_data/opera-maiora-lemmas_skip_100.vec\")\n",
    "operamayora.most_similar(\"anima\")"
   ],
   "metadata": {
    "collapsed": false,
    "ExecuteTime": {
     "end_time": "2023-11-21T11:01:32.110697Z",
     "start_time": "2023-11-21T11:01:31.807631Z"
    }
   },
   "id": "initial_id"
  },
  {
   "cell_type": "code",
   "execution_count": 54,
   "outputs": [
    {
     "data": {
      "text/plain": "[('formatiuus', 0.7347741723060608),\n ('decidocaedo', 0.7292525768280029),\n ('sementis', 0.7260836362838745),\n ('decisio', 0.7189536094665527),\n ('proauus', 0.708860456943512),\n ('menstruus', 0.7087300419807434),\n ('fetus', 0.7033669948577881),\n ('incubus', 0.6823227405548096),\n ('seminalis', 0.6802768111228943),\n ('spumosus', 0.6695919036865234)]"
     },
     "execution_count": 54,
     "metadata": {},
     "output_type": "execute_result"
    }
   ],
   "source": [
    "pdget_def(operamayora.most_similar(\"semen\"))"
   ],
   "metadata": {
    "collapsed": false,
    "ExecuteTime": {
     "end_time": "2023-11-21T11:01:50.738592Z",
     "start_time": "2023-11-21T11:01:50.684628Z"
    }
   },
   "id": "a9272d6eaa1274e0"
  },
  {
   "cell_type": "code",
   "execution_count": 11,
   "outputs": [
    {
     "data": {
      "text/plain": "6724"
     },
     "execution_count": 11,
     "metadata": {},
     "output_type": "execute_result"
    }
   ],
   "source": [
    "operamayora_vocab = operamayora.index_to_key\n",
    "len(operamayora_vocab)"
   ],
   "metadata": {
    "collapsed": false,
    "ExecuteTime": {
     "end_time": "2023-11-20T20:11:18.768976Z",
     "start_time": "2023-11-20T20:11:18.760775Z"
    }
   },
   "id": "834591d3d4f8a370"
  },
  {
   "cell_type": "code",
   "execution_count": 12,
   "outputs": [
    {
     "data": {
      "text/plain": "11327"
     },
     "execution_count": 12,
     "metadata": {},
     "output_type": "execute_result"
    }
   ],
   "source": [
    "lasla_vocab = lasla.index_to_key\n",
    "len(lasla_vocab)"
   ],
   "metadata": {
    "collapsed": false,
    "ExecuteTime": {
     "end_time": "2023-11-20T20:11:34.536920Z",
     "start_time": "2023-11-20T20:11:34.527745Z"
    }
   },
   "id": "b249ae9dccd06efe"
  },
  {
   "cell_type": "code",
   "execution_count": 13,
   "outputs": [
    {
     "data": {
      "text/plain": "3950"
     },
     "execution_count": 13,
     "metadata": {},
     "output_type": "execute_result"
    }
   ],
   "source": [
    "vocab_overlap = list(set(lasla_vocab) & set(operamayora_vocab))\n",
    "len(vocab_overlap)"
   ],
   "metadata": {
    "collapsed": false,
    "ExecuteTime": {
     "end_time": "2023-11-20T20:12:26.034622Z",
     "start_time": "2023-11-20T20:12:26.021524Z"
    }
   },
   "id": "370a142f2ada4e37"
  },
  {
   "cell_type": "code",
   "execution_count": null,
   "outputs": [],
   "source": [],
   "metadata": {
    "collapsed": false
   },
   "id": "54d5e1e6b5e8d3"
  }
 ],
 "metadata": {
  "kernelspec": {
   "display_name": "Python 3",
   "language": "python",
   "name": "python3"
  },
  "language_info": {
   "codemirror_mode": {
    "name": "ipython",
    "version": 2
   },
   "file_extension": ".py",
   "mimetype": "text/x-python",
   "name": "python",
   "nbconvert_exporter": "python",
   "pygments_lexer": "ipython2",
   "version": "2.7.6"
  }
 },
 "nbformat": 4,
 "nbformat_minor": 5
}
