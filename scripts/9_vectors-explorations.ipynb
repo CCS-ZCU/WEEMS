{
 "cells": [
  {
   "cell_type": "code",
   "execution_count": 1,
   "outputs": [],
   "source": [
    "import pandas as pd\n",
    "import requests\n",
    "from gensim.models import KeyedVectors\n",
    "from sklearn.metrics.pairwise import cosine_similarity"
   ],
   "metadata": {
    "collapsed": false,
    "ExecuteTime": {
     "end_time": "2023-12-05T09:32:41.377821Z",
     "start_time": "2023-12-05T09:32:40.668857Z"
    }
   },
   "id": "a26aff12feea8215"
  },
  {
   "cell_type": "markdown",
   "source": [
    "# simple latin dictionary"
   ],
   "metadata": {
    "collapsed": false
   },
   "id": "b78d375e5a863955"
  },
  {
   "cell_type": "code",
   "execution_count": 2,
   "outputs": [
    {
     "data": {
      "text/plain": "[{'id': 63,\n  'intern_type': 'noun',\n  'short_name': 'equus',\n  'full_name': 'equus, equi [m.] O',\n  'type': {'name': 'noun', 'label': 'Noun'},\n  'translations_unstructured': {'en': 'horse', 'de': 'Pferd'},\n  'url': 'https://www.latin-is-simple.com/en/vocabulary/noun/63/'}]"
     },
     "execution_count": 2,
     "metadata": {},
     "output_type": "execute_result"
    }
   ],
   "source": [
    "target = \"equus\"\n",
    "base_url = \"https://www.latin-is-simple.com/api/vocabulary/search/?query={}&forms_only=true\"\n",
    "resp_json = requests.get(base_url.format(target)).json()\n",
    "resp_json"
   ],
   "metadata": {
    "collapsed": false,
    "ExecuteTime": {
     "end_time": "2023-12-05T09:32:47.285329Z",
     "start_time": "2023-12-05T09:32:46.811300Z"
    }
   },
   "id": "24ba1a7439c335f5"
  },
  {
   "cell_type": "code",
   "execution_count": 3,
   "outputs": [
    {
     "data": {
      "text/plain": "'horse'"
     },
     "execution_count": 3,
     "metadata": {},
     "output_type": "execute_result"
    }
   ],
   "source": [
    "resp_json[0][\"translations_unstructured\"][\"en\"]"
   ],
   "metadata": {
    "collapsed": false,
    "ExecuteTime": {
     "end_time": "2023-12-05T09:32:47.480535Z",
     "start_time": "2023-12-05T09:32:47.468942Z"
    }
   },
   "id": "1d644f6e5d40aa3b"
  },
  {
   "cell_type": "code",
   "execution_count": 8,
   "outputs": [],
   "source": [
    "def simple_translation(target):\n",
    "    try:\n",
    "        base_url = \"https://www.latin-is-simple.com/api/vocabulary/search/?query={}&forms_only=true\"\n",
    "        resp_json = requests.get(base_url.format(target)).json()\n",
    "        transl = resp_json[0][\"translations_unstructured\"][\"en\"]\n",
    "        if transl == \"still in translation\":\n",
    "            transl = \"\"\n",
    "        return transl\n",
    "    except:\n",
    "        return \"\""
   ],
   "metadata": {
    "collapsed": false,
    "ExecuteTime": {
     "end_time": "2023-12-05T09:34:39.911193Z",
     "start_time": "2023-12-05T09:34:39.888753Z"
    }
   },
   "id": "233c3d6e374d4ffe"
  },
  {
   "cell_type": "code",
   "execution_count": 9,
   "outputs": [
    {
     "data": {
      "text/plain": "        word  1501-1550  1551-1600  1601-1650  1651-1700      mean  \\\n5018    dico      42831     120825      41832      72221  69427.25   \n6155   omnis      33152     108530      46009      66387  63519.50   \n2515   facio      33323     109486      40134      53953  59224.00   \n4040    pars      32591      90667      43593      51249  54525.00   \n6769   habeo      30884      87225      38386      57791  53571.50   \n364   possum      23869      79572      36898      72892  53307.75   \n897      res      27869      68790      27473      49014  43286.50   \n4810    suus      23716      58975      33267      52441  42099.75   \n2392   uideo      21389      60143      28355      54288  41043.75   \n1790  magnus      23446      61213      29708      39211  38394.50   \n2217   locus      22091      53908      30003      41517  36879.75   \n2377  corpus      16756      62316      22606      31319  33249.25   \n3110  multus      20473      50202      21654      34203  31633.00   \n2555  primus      19132      50620      23778      26045  29893.75   \n2853      do      16173      45404      21729      34157  29365.75   \n4389     cap      18393      35181      21951      30471  26499.00   \n1648   ratio      12325      42217      20289      30475  26326.50   \n1830     lib      16365      37925      21843      27512  25911.25   \n4628   liber      22941      36345      17863      26167  25829.00   \n5471    aqua      11596      40688      19692      30750  25681.50   \n\n      in_lila_embeddings  in_lasla  in_operamaiora  \n5018                True      True            True  \n6155                True      True            True  \n2515                True      True            True  \n4040                True      True            True  \n6769                True      True            True  \n364                 True      True            True  \n897                 True      True            True  \n4810                True      True            True  \n2392                True      True            True  \n1790                True      True            True  \n2217                True      True            True  \n2377                True      True            True  \n3110                True      True            True  \n2555                True      True            True  \n2853                True      True            True  \n4389               False     False           False  \n1648                True      True            True  \n1830               False     False           False  \n4628                True      True            True  \n5471                True      True            True  ",
      "text/html": "<div>\n<style scoped>\n    .dataframe tbody tr th:only-of-type {\n        vertical-align: middle;\n    }\n\n    .dataframe tbody tr th {\n        vertical-align: top;\n    }\n\n    .dataframe thead th {\n        text-align: right;\n    }\n</style>\n<table border=\"1\" class=\"dataframe\">\n  <thead>\n    <tr style=\"text-align: right;\">\n      <th></th>\n      <th>word</th>\n      <th>1501-1550</th>\n      <th>1551-1600</th>\n      <th>1601-1650</th>\n      <th>1651-1700</th>\n      <th>mean</th>\n      <th>in_lila_embeddings</th>\n      <th>in_lasla</th>\n      <th>in_operamaiora</th>\n    </tr>\n  </thead>\n  <tbody>\n    <tr>\n      <th>5018</th>\n      <td>dico</td>\n      <td>42831</td>\n      <td>120825</td>\n      <td>41832</td>\n      <td>72221</td>\n      <td>69427.25</td>\n      <td>True</td>\n      <td>True</td>\n      <td>True</td>\n    </tr>\n    <tr>\n      <th>6155</th>\n      <td>omnis</td>\n      <td>33152</td>\n      <td>108530</td>\n      <td>46009</td>\n      <td>66387</td>\n      <td>63519.50</td>\n      <td>True</td>\n      <td>True</td>\n      <td>True</td>\n    </tr>\n    <tr>\n      <th>2515</th>\n      <td>facio</td>\n      <td>33323</td>\n      <td>109486</td>\n      <td>40134</td>\n      <td>53953</td>\n      <td>59224.00</td>\n      <td>True</td>\n      <td>True</td>\n      <td>True</td>\n    </tr>\n    <tr>\n      <th>4040</th>\n      <td>pars</td>\n      <td>32591</td>\n      <td>90667</td>\n      <td>43593</td>\n      <td>51249</td>\n      <td>54525.00</td>\n      <td>True</td>\n      <td>True</td>\n      <td>True</td>\n    </tr>\n    <tr>\n      <th>6769</th>\n      <td>habeo</td>\n      <td>30884</td>\n      <td>87225</td>\n      <td>38386</td>\n      <td>57791</td>\n      <td>53571.50</td>\n      <td>True</td>\n      <td>True</td>\n      <td>True</td>\n    </tr>\n    <tr>\n      <th>364</th>\n      <td>possum</td>\n      <td>23869</td>\n      <td>79572</td>\n      <td>36898</td>\n      <td>72892</td>\n      <td>53307.75</td>\n      <td>True</td>\n      <td>True</td>\n      <td>True</td>\n    </tr>\n    <tr>\n      <th>897</th>\n      <td>res</td>\n      <td>27869</td>\n      <td>68790</td>\n      <td>27473</td>\n      <td>49014</td>\n      <td>43286.50</td>\n      <td>True</td>\n      <td>True</td>\n      <td>True</td>\n    </tr>\n    <tr>\n      <th>4810</th>\n      <td>suus</td>\n      <td>23716</td>\n      <td>58975</td>\n      <td>33267</td>\n      <td>52441</td>\n      <td>42099.75</td>\n      <td>True</td>\n      <td>True</td>\n      <td>True</td>\n    </tr>\n    <tr>\n      <th>2392</th>\n      <td>uideo</td>\n      <td>21389</td>\n      <td>60143</td>\n      <td>28355</td>\n      <td>54288</td>\n      <td>41043.75</td>\n      <td>True</td>\n      <td>True</td>\n      <td>True</td>\n    </tr>\n    <tr>\n      <th>1790</th>\n      <td>magnus</td>\n      <td>23446</td>\n      <td>61213</td>\n      <td>29708</td>\n      <td>39211</td>\n      <td>38394.50</td>\n      <td>True</td>\n      <td>True</td>\n      <td>True</td>\n    </tr>\n    <tr>\n      <th>2217</th>\n      <td>locus</td>\n      <td>22091</td>\n      <td>53908</td>\n      <td>30003</td>\n      <td>41517</td>\n      <td>36879.75</td>\n      <td>True</td>\n      <td>True</td>\n      <td>True</td>\n    </tr>\n    <tr>\n      <th>2377</th>\n      <td>corpus</td>\n      <td>16756</td>\n      <td>62316</td>\n      <td>22606</td>\n      <td>31319</td>\n      <td>33249.25</td>\n      <td>True</td>\n      <td>True</td>\n      <td>True</td>\n    </tr>\n    <tr>\n      <th>3110</th>\n      <td>multus</td>\n      <td>20473</td>\n      <td>50202</td>\n      <td>21654</td>\n      <td>34203</td>\n      <td>31633.00</td>\n      <td>True</td>\n      <td>True</td>\n      <td>True</td>\n    </tr>\n    <tr>\n      <th>2555</th>\n      <td>primus</td>\n      <td>19132</td>\n      <td>50620</td>\n      <td>23778</td>\n      <td>26045</td>\n      <td>29893.75</td>\n      <td>True</td>\n      <td>True</td>\n      <td>True</td>\n    </tr>\n    <tr>\n      <th>2853</th>\n      <td>do</td>\n      <td>16173</td>\n      <td>45404</td>\n      <td>21729</td>\n      <td>34157</td>\n      <td>29365.75</td>\n      <td>True</td>\n      <td>True</td>\n      <td>True</td>\n    </tr>\n    <tr>\n      <th>4389</th>\n      <td>cap</td>\n      <td>18393</td>\n      <td>35181</td>\n      <td>21951</td>\n      <td>30471</td>\n      <td>26499.00</td>\n      <td>False</td>\n      <td>False</td>\n      <td>False</td>\n    </tr>\n    <tr>\n      <th>1648</th>\n      <td>ratio</td>\n      <td>12325</td>\n      <td>42217</td>\n      <td>20289</td>\n      <td>30475</td>\n      <td>26326.50</td>\n      <td>True</td>\n      <td>True</td>\n      <td>True</td>\n    </tr>\n    <tr>\n      <th>1830</th>\n      <td>lib</td>\n      <td>16365</td>\n      <td>37925</td>\n      <td>21843</td>\n      <td>27512</td>\n      <td>25911.25</td>\n      <td>False</td>\n      <td>False</td>\n      <td>False</td>\n    </tr>\n    <tr>\n      <th>4628</th>\n      <td>liber</td>\n      <td>22941</td>\n      <td>36345</td>\n      <td>17863</td>\n      <td>26167</td>\n      <td>25829.00</td>\n      <td>True</td>\n      <td>True</td>\n      <td>True</td>\n    </tr>\n    <tr>\n      <th>5471</th>\n      <td>aqua</td>\n      <td>11596</td>\n      <td>40688</td>\n      <td>19692</td>\n      <td>30750</td>\n      <td>25681.50</td>\n      <td>True</td>\n      <td>True</td>\n      <td>True</td>\n    </tr>\n  </tbody>\n</table>\n</div>"
     },
     "execution_count": 9,
     "metadata": {},
     "output_type": "execute_result"
    }
   ],
   "source": [
    "filtered_vocab_df = pd.read_json(\"../data/filtered_vocab_df.json\")\n",
    "filtered_vocab_df.head(20)"
   ],
   "metadata": {
    "collapsed": false,
    "ExecuteTime": {
     "end_time": "2023-12-05T09:34:42.450941Z",
     "start_time": "2023-12-05T09:34:42.401748Z"
    }
   },
   "id": "25cbe7723b68b299"
  },
  {
   "cell_type": "code",
   "execution_count": 10,
   "outputs": [
    {
     "name": "stdout",
     "output_type": "stream",
     "text": [
      "CPU times: user 582 ms, sys: 33.9 ms, total: 616 ms\n",
      "Wall time: 7.1 s\n"
     ]
    },
    {
     "data": {
      "text/plain": "5018                                      say, call, tell\n6155                                                     \n2515                                     do, make, handle\n4040                                                 part\n6769                 have, hold, possess, consider, think\n364                                          be able, can\n897                                              suddenly\n4810                 his own, her own, its own, their own\n2392                                                     \n1790                                           big, great\n2217                                      place, location\n2377                                         body, corpus\n3110                                                 many\n2555                    first, foremost, chief, principal\n2853                                          give, offer\n4389                                                     \n1648    reckoning, account, reason, judgement, conside...\n1830                                                     \n4628       book, volume, inner bark of a tree, book, book\n5471                    get/fetch/bring water, be watered\nName: word, dtype: object"
     },
     "execution_count": 10,
     "metadata": {},
     "output_type": "execute_result"
    }
   ],
   "source": [
    "%%time\n",
    "filtered_vocab_df[\"word\"].head(20).apply(simple_translation)"
   ],
   "metadata": {
    "collapsed": false,
    "ExecuteTime": {
     "end_time": "2023-12-05T09:34:55.802596Z",
     "start_time": "2023-12-05T09:34:48.693491Z"
    }
   },
   "id": "f0e85aa225a8bc2"
  },
  {
   "cell_type": "code",
   "execution_count": 11,
   "outputs": [
    {
     "data": {
      "text/plain": "Index(['1501-1550', '1551-1600', '1601-1650', '1651-1700'], dtype='object')"
     },
     "execution_count": 11,
     "metadata": {},
     "output_type": "execute_result"
    }
   ],
   "source": [
    "periods_str = filtered_vocab_df.columns[1:5]\n",
    "periods_str"
   ],
   "metadata": {
    "collapsed": false,
    "ExecuteTime": {
     "end_time": "2023-12-05T09:36:14.981035Z",
     "start_time": "2023-12-05T09:36:14.962770Z"
    }
   },
   "id": "49a7b4d999ca083"
  },
  {
   "cell_type": "code",
   "execution_count": null,
   "id": "initial_id",
   "metadata": {
    "collapsed": true,
    "is_executing": true
   },
   "outputs": [],
   "source": [
    "# load all 6 vector models\n",
    "# (2 from LiLa, 4 trained by us on noscemus)\n",
    "\n",
    "lasla = KeyedVectors.load_word2vec_format(\"../data/large_data/allLASLA-lemmi-fast-100-SKIP-win5-min5.vec\")\n",
    "operamaiora = KeyedVectors.load_word2vec_format(\"../data/large_data/opera-maiora-lemmas_skip_100.vec\")"
   ]
  },
  {
   "cell_type": "code",
   "execution_count": 6,
   "outputs": [],
   "source": [
    "vectors_dict = {}\n",
    "for per_str in periods_str:\n",
    "    vectors_dict[per_str] = KeyedVectors.load(\"../data/large_data/vectors_{}.wv\".format(per_str))"
   ],
   "metadata": {
    "collapsed": false,
    "ExecuteTime": {
     "end_time": "2023-12-04T13:23:12.144168Z",
     "start_time": "2023-12-04T13:23:10.131081Z"
    }
   },
   "id": "4ac1da3551a9899f"
  },
  {
   "cell_type": "code",
   "execution_count": 21,
   "outputs": [
    {
     "data": {
      "text/plain": "     lasla operamaiora 1501-1550 1551-1600 1601-1650 1651-1700\n0   currus      asinus   camelus    asinus       bos    asinus\n1     equa       eques     asini     mulus     canis    currus\n2   equito         bos    currus       bos     mulus       bos\n3   calcar       bipes    asinus    currus    currus     mulus\n4   ceruus       domus     canis  iumentum    asinus     eques\n5    freno     trituro       bos   camelus   camelus     canus\n6   habena    mercatio     pecus     eques      grex    ungula\n7  essedum    equester    ungula     canis     lupus     canis\n8   frenum    iumentum     mulus  certamen     curru    ceruus\n9   frendo    animalis  iumentum     lupus     ferox     curru",
      "text/html": "<div>\n<style scoped>\n    .dataframe tbody tr th:only-of-type {\n        vertical-align: middle;\n    }\n\n    .dataframe tbody tr th {\n        vertical-align: top;\n    }\n\n    .dataframe thead th {\n        text-align: right;\n    }\n</style>\n<table border=\"1\" class=\"dataframe\">\n  <thead>\n    <tr style=\"text-align: right;\">\n      <th></th>\n      <th>lasla</th>\n      <th>operamaiora</th>\n      <th>1501-1550</th>\n      <th>1551-1600</th>\n      <th>1601-1650</th>\n      <th>1651-1700</th>\n    </tr>\n  </thead>\n  <tbody>\n    <tr>\n      <th>0</th>\n      <td>currus</td>\n      <td>asinus</td>\n      <td>camelus</td>\n      <td>asinus</td>\n      <td>bos</td>\n      <td>asinus</td>\n    </tr>\n    <tr>\n      <th>1</th>\n      <td>equa</td>\n      <td>eques</td>\n      <td>asini</td>\n      <td>mulus</td>\n      <td>canis</td>\n      <td>currus</td>\n    </tr>\n    <tr>\n      <th>2</th>\n      <td>equito</td>\n      <td>bos</td>\n      <td>currus</td>\n      <td>bos</td>\n      <td>mulus</td>\n      <td>bos</td>\n    </tr>\n    <tr>\n      <th>3</th>\n      <td>calcar</td>\n      <td>bipes</td>\n      <td>asinus</td>\n      <td>currus</td>\n      <td>currus</td>\n      <td>mulus</td>\n    </tr>\n    <tr>\n      <th>4</th>\n      <td>ceruus</td>\n      <td>domus</td>\n      <td>canis</td>\n      <td>iumentum</td>\n      <td>asinus</td>\n      <td>eques</td>\n    </tr>\n    <tr>\n      <th>5</th>\n      <td>freno</td>\n      <td>trituro</td>\n      <td>bos</td>\n      <td>camelus</td>\n      <td>camelus</td>\n      <td>canus</td>\n    </tr>\n    <tr>\n      <th>6</th>\n      <td>habena</td>\n      <td>mercatio</td>\n      <td>pecus</td>\n      <td>eques</td>\n      <td>grex</td>\n      <td>ungula</td>\n    </tr>\n    <tr>\n      <th>7</th>\n      <td>essedum</td>\n      <td>equester</td>\n      <td>ungula</td>\n      <td>canis</td>\n      <td>lupus</td>\n      <td>canis</td>\n    </tr>\n    <tr>\n      <th>8</th>\n      <td>frenum</td>\n      <td>iumentum</td>\n      <td>mulus</td>\n      <td>certamen</td>\n      <td>curru</td>\n      <td>ceruus</td>\n    </tr>\n    <tr>\n      <th>9</th>\n      <td>frendo</td>\n      <td>animalis</td>\n      <td>iumentum</td>\n      <td>lupus</td>\n      <td>ferox</td>\n      <td>curru</td>\n    </tr>\n  </tbody>\n</table>\n</div>"
     },
     "execution_count": 21,
     "metadata": {},
     "output_type": "execute_result"
    }
   ],
   "source": [
    "target = \"equus\"\n",
    "topn=10\n",
    "most_similar_by_per = {}\n",
    "most_similar_by_per[\"lasla\"] = [tup[0] for tup in lasla.most_similar(target, topn=topn)]\n",
    "most_similar_by_per[\"operamaiora\"] = [tup[0] for tup in operamaiora.most_similar(target, topn=topn)]\n",
    "for per_str in periods_str:\n",
    "    nn_tups = vectors_dict[per_str].most_similar(target, topn=topn)\n",
    "    nns = [tup[0] for tup in nn_tups]\n",
    "    most_similar_by_per[per_str] = nns\n",
    "pd.DataFrame(most_similar_by_per)"
   ],
   "metadata": {
    "collapsed": false,
    "ExecuteTime": {
     "end_time": "2023-12-05T09:03:42.131938Z",
     "start_time": "2023-12-05T09:03:42.072402Z"
    }
   },
   "id": "d1cfee631fe24598"
  },
  {
   "cell_type": "code",
   "execution_count": 17,
   "outputs": [],
   "source": [
    "most_similar_by_per = {}\n",
    "most_similar_by_per[\"lasla\"] = [tup[0] for tup in lasla.most_similar(\"seminarium\", topn=10)]\n",
    "#most_similar_by_per[\"operamaiora\"] = [tup[0] for tup in operamaiora.most_similar(\"seminarium\", topn=20)]"
   ],
   "metadata": {
    "collapsed": false,
    "ExecuteTime": {
     "end_time": "2023-12-04T13:32:35.956Z",
     "start_time": "2023-12-04T13:32:35.924476Z"
    }
   },
   "id": "e79e368dba30b52e"
  },
  {
   "cell_type": "code",
   "execution_count": 18,
   "outputs": [],
   "source": [
    "for per_str in periods_str:\n",
    "    nn_tups = vectors_dict[per_str].most_similar(\"seminarium\", topn=10)\n",
    "    nns = [tup[0] for tup in nn_tups]\n",
    "    most_similar_by_per[per_str] = nns"
   ],
   "metadata": {
    "collapsed": false,
    "ExecuteTime": {
     "end_time": "2023-12-04T13:32:36.606173Z",
     "start_time": "2023-12-04T13:32:36.580218Z"
    }
   },
   "id": "fe83e7dfd015a521"
  },
  {
   "cell_type": "code",
   "execution_count": 19,
   "outputs": [
    {
     "data": {
      "text/plain": "         lasla    1501-1550   1551-1600  1601-1650   1651-1700\n0    carnarium    sacrarium  ordinarius  mortarium   caldarium\n1     sudarium   ordinarius  saecularis  caldarium      impono\n2     uinarius    mortarium   sacrarium   palatium   mortarium\n3  torcularium       macero       iubeo      aedes    aerarium\n4     armarium    caldarium  tusculanus  sacrarium  ordinarius\n5   milliarium     aerarium     donatio   conficio    aenarius\n6    mortarium        oleum      victor   aerarium   scalptura\n7    asinarius  mercenarius      seruus      soleo        paro\n8     pomarium        iubeo         ius      mensa   preciosus\n9     olearius       fiscus   praecipio     farina      statua",
      "text/html": "<div>\n<style scoped>\n    .dataframe tbody tr th:only-of-type {\n        vertical-align: middle;\n    }\n\n    .dataframe tbody tr th {\n        vertical-align: top;\n    }\n\n    .dataframe thead th {\n        text-align: right;\n    }\n</style>\n<table border=\"1\" class=\"dataframe\">\n  <thead>\n    <tr style=\"text-align: right;\">\n      <th></th>\n      <th>lasla</th>\n      <th>1501-1550</th>\n      <th>1551-1600</th>\n      <th>1601-1650</th>\n      <th>1651-1700</th>\n    </tr>\n  </thead>\n  <tbody>\n    <tr>\n      <th>0</th>\n      <td>carnarium</td>\n      <td>sacrarium</td>\n      <td>ordinarius</td>\n      <td>mortarium</td>\n      <td>caldarium</td>\n    </tr>\n    <tr>\n      <th>1</th>\n      <td>sudarium</td>\n      <td>ordinarius</td>\n      <td>saecularis</td>\n      <td>caldarium</td>\n      <td>impono</td>\n    </tr>\n    <tr>\n      <th>2</th>\n      <td>uinarius</td>\n      <td>mortarium</td>\n      <td>sacrarium</td>\n      <td>palatium</td>\n      <td>mortarium</td>\n    </tr>\n    <tr>\n      <th>3</th>\n      <td>torcularium</td>\n      <td>macero</td>\n      <td>iubeo</td>\n      <td>aedes</td>\n      <td>aerarium</td>\n    </tr>\n    <tr>\n      <th>4</th>\n      <td>armarium</td>\n      <td>caldarium</td>\n      <td>tusculanus</td>\n      <td>sacrarium</td>\n      <td>ordinarius</td>\n    </tr>\n    <tr>\n      <th>5</th>\n      <td>milliarium</td>\n      <td>aerarium</td>\n      <td>donatio</td>\n      <td>conficio</td>\n      <td>aenarius</td>\n    </tr>\n    <tr>\n      <th>6</th>\n      <td>mortarium</td>\n      <td>oleum</td>\n      <td>victor</td>\n      <td>aerarium</td>\n      <td>scalptura</td>\n    </tr>\n    <tr>\n      <th>7</th>\n      <td>asinarius</td>\n      <td>mercenarius</td>\n      <td>seruus</td>\n      <td>soleo</td>\n      <td>paro</td>\n    </tr>\n    <tr>\n      <th>8</th>\n      <td>pomarium</td>\n      <td>iubeo</td>\n      <td>ius</td>\n      <td>mensa</td>\n      <td>preciosus</td>\n    </tr>\n    <tr>\n      <th>9</th>\n      <td>olearius</td>\n      <td>fiscus</td>\n      <td>praecipio</td>\n      <td>farina</td>\n      <td>statua</td>\n    </tr>\n  </tbody>\n</table>\n</div>"
     },
     "execution_count": 19,
     "metadata": {},
     "output_type": "execute_result"
    }
   ],
   "source": [
    "pd.DataFrame(most_similar_by_per)"
   ],
   "metadata": {
    "collapsed": false,
    "ExecuteTime": {
     "end_time": "2023-12-04T13:32:37.629013Z",
     "start_time": "2023-12-04T13:32:37.607715Z"
    }
   },
   "id": "1304d099c923dfa3"
  },
  {
   "cell_type": "code",
   "execution_count": null,
   "outputs": [],
   "source": [
    "def get_tsne_coors(svd_matrix, perplexity=18):\n",
    "    # inverse similarity to distance\n",
    "    #data = (1 - sim_matrix) / 1\n",
    "    words = svd_matrix.index\n",
    "    #data.round(5)\n",
    "    # tSNE to project all words into a 2-dimensional space\n",
    "    tsne = TSNE(n_components=2, random_state=42, perplexity=perplexity, metric='cosine', n_iter=1000) # dissimilarity=\"precomputed\",\n",
    "    #tsne = TSNE(n_components=2, random_state=42, perplexity=18, metric='precomputed', n_iter=5000) # dissimilarity=\"precomputed\",\n",
    "    pos = tsne.fit_transform(svd_matrix) # project all points into space\n",
    "    xs, ys = pos[:, 0], pos[:, 1]\n",
    "    # extract minimal and maximal values\n",
    "    minmax = [pos[:, 0].min(), pos[:, 0].max(), pos[:, 1].min(), pos[:, 1].max()]\n",
    "    # normalize on scale from 0 to 1\n",
    "    xs = (xs - minmax[0]) / (minmax[1] - minmax[0])\n",
    "    ys = (ys - minmax[2]) / (minmax[3] - minmax[2])\n",
    "    return xs, ys, words"
   ],
   "metadata": {
    "collapsed": false
   },
   "id": "6e3b711080476646"
  }
 ],
 "metadata": {
  "kernelspec": {
   "name": "brewkernel",
   "language": "python",
   "display_name": "brewkernel"
  },
  "language_info": {
   "codemirror_mode": {
    "name": "ipython",
    "version": 2
   },
   "file_extension": ".py",
   "mimetype": "text/x-python",
   "name": "python",
   "nbconvert_exporter": "python",
   "pygments_lexer": "ipython2",
   "version": "2.7.6"
  }
 },
 "nbformat": 4,
 "nbformat_minor": 5
}
