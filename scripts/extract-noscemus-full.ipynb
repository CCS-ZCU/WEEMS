{
 "cells": [
  {
   "cell_type": "code",
   "execution_count": 1,
   "id": "b77bbb44a71d1ae8",
   "metadata": {
    "collapsed": true,
    "ExecuteTime": {
     "end_time": "2023-11-02T08:22:23.485036Z",
     "start_time": "2023-11-02T08:22:21.519893Z"
    }
   },
   "outputs": [],
   "source": [
    "import pandas as pd\n",
    "import spacy\n",
    "import sddk\n",
    "import requests"
   ]
  },
  {
   "cell_type": "code",
   "execution_count": 2,
   "outputs": [],
   "source": [
    "nlp = spacy.load('la_core_web_lg')"
   ],
   "metadata": {
    "collapsed": false,
    "ExecuteTime": {
     "end_time": "2023-11-02T08:22:24.748515Z",
     "start_time": "2023-11-02T08:22:24.127998Z"
    }
   },
   "id": "initial_id"
  },
  {
   "cell_type": "code",
   "execution_count": 5,
   "outputs": [
    {
     "name": "stdout",
     "output_type": "stream",
     "text": [
      "connection with shared folder established with you as its ordinary user\n",
      "endpoint variable has been configured to: https://sciencedata.dk/sharingout/kase%40zcu.cz/TOME/DATA/NOSCEMUS/\n"
     ]
    }
   ],
   "source": [
    "s = sddk.cloudSession(provider=\"sciencedata.dk\", shared_folder_name=\"TOME/DATA/NOSCEMUS\", owner=\"kase@zcu.cz\")"
   ],
   "metadata": {
    "collapsed": false,
    "ExecuteTime": {
     "end_time": "2023-11-02T08:23:05.373551Z",
     "start_time": "2023-11-02T08:22:55.930062Z"
    }
   },
   "id": "a3923178bf8adcb1"
  },
  {
   "cell_type": "code",
   "execution_count": 6,
   "outputs": [
    {
     "data": {
      "text/plain": "['1031760',\n '1085290',\n '1285853',\n '1285854',\n '1285855',\n '1285856',\n '1365811',\n '1370560',\n '1378359',\n '1424044']"
     },
     "execution_count": 6,
     "metadata": {},
     "output_type": "execute_result"
    }
   ],
   "source": [
    "dir_ids_list = s.list_directories(\"NOSCEMUS_FULL/\")\n",
    "dir_ids_list[:10]"
   ],
   "metadata": {
    "collapsed": false,
    "ExecuteTime": {
     "end_time": "2023-11-02T08:23:09.356641Z",
     "start_time": "2023-11-02T08:23:08.311399Z"
    }
   },
   "id": "7b37c875ea1222"
  },
  {
   "cell_type": "code",
   "execution_count": 7,
   "outputs": [
    {
     "data": {
      "text/plain": "1009"
     },
     "execution_count": 7,
     "metadata": {},
     "output_type": "execute_result"
    }
   ],
   "source": [
    "len(dir_ids_list)"
   ],
   "metadata": {
    "collapsed": false,
    "ExecuteTime": {
     "end_time": "2023-11-02T08:23:11.808104Z",
     "start_time": "2023-11-02T08:23:11.800364Z"
    }
   },
   "id": "70987a1628edb1a7"
  },
  {
   "cell_type": "code",
   "execution_count": 8,
   "outputs": [
    {
     "name": "stdout",
     "output_type": "stream",
     "text": [
      "1031760 Bacon,_Francis_-_Instauratio_magna__London_1620_pdf.txt\n",
      "1085290 Linden,_Johannes_Antonides_van_der_-_Lindenius_renovatus__Nuremberg_1686_pdf.txt\n",
      "1285853 de_Conde,_Ioannes_Baptista_-_Aphorismi_seu_axiomata_Hippocratis_versu_heroico_explicata__Brussels_1647_pdf.txt\n",
      "1285854 van_Poort,_Henricus_-_Hippocratis_Aphorismi_metrica_praphrasi_translati__Utrecht_1657_pdf.txt\n",
      "1285855 Hippocrates_&_Denisot,_Gérard_-_Hippocratis_Aphorismis_versibus_Graecis_et_Latini_expositi__Paris_1634_pdf.txt\n",
      "1285856 Hippocrates_&_Berigardus,_Petrus_-_Hippocratis_Aphorismi_rhytmici__Udine_1645_pdf.txt\n",
      "1365811 Acta_literaria_Sueciae__Vol__1__Uppsala_[1723–1725]_.txt\n",
      "1370560 Quensel,_Conrad_&_Eurodius,_Hans_-_De_lumine_nocturno_Boreali__Lund_1726.txt\n",
      "1378359 Celsius,_Anders_-_Observationes_de_lumine_Boreali__Nuremberg_1733.txt\n",
      "1424044 Bacci,_Andrea_&_Gabelkover,_Wolfgang_-_De_monocerote_seu_unicornu__Stuttgart_1598_pdf.txt\n"
     ]
    }
   ],
   "source": [
    "for id in dir_ids_list[:10]:\n",
    "    for textfile in s.list_filenames(\"NOSCEMUS_FULL/\" + id, \"txt\"):\n",
    "        print(id, textfile)"
   ],
   "metadata": {
    "collapsed": false,
    "ExecuteTime": {
     "end_time": "2023-11-02T08:23:33.625101Z",
     "start_time": "2023-11-02T08:23:29.926094Z"
    }
   },
   "id": "3af1a9ee225851b"
  },
  {
   "cell_type": "code",
   "execution_count": 18,
   "outputs": [],
   "source": [
    "filenames_ids_dict = {}\n",
    "missing_ids = []\n",
    "for id in dir_ids_list[:10]:\n",
    "    try:\n",
    "        filenames = s.list_filenames(\"NOSCEMUS_FULL/\" + id, \"txt\")\n",
    "        if len(filenames) > 1:\n",
    "            n = 1\n",
    "            for filename in filenames:\n",
    "                filenames_ids_dict[filename] = id\n",
    "                text = s.read_file(\"NOSCEMUS_FULL/\" + id + \"/\" + filename, \"str\")\n",
    "                s.write_file(\"noscemus_raw/{0}_{1}.txt\".format(str(id), str(n)), text)\n",
    "                n += 1\n",
    "        else:\n",
    "            filename = filenames[0] \n",
    "            filenames_ids_dict[filename] = id\n",
    "            text = s.read_file(\"NOSCEMUS_FULL/\" + id + \"/\" + filename, \"str\")\n",
    "            s.write_file(\"noscemus_raw/{0}.txt\".format(str(id)), text)\n",
    "    except:\n",
    "        missing_ids.append(id)"
   ],
   "metadata": {
    "collapsed": false,
    "ExecuteTime": {
     "end_time": "2023-11-01T12:33:53.887265Z",
     "start_time": "2023-11-01T11:31:09.060234Z"
    }
   },
   "id": "3878cc1af7f8730"
  }
 ],
 "metadata": {
  "kernelspec": {
   "name": "brewkernel",
   "language": "python",
   "display_name": "brewkernel"
  },
  "language_info": {
   "codemirror_mode": {
    "name": "ipython",
    "version": 2
   },
   "file_extension": ".py",
   "mimetype": "text/x-python",
   "name": "python",
   "nbconvert_exporter": "python",
   "pygments_lexer": "ipython2",
   "version": "2.7.6"
  }
 },
 "nbformat": 4,
 "nbformat_minor": 5
}
