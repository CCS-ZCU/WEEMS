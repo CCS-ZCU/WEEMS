{
 "cells": [
  {
   "cell_type": "code",
   "execution_count": 15,
   "id": "b77bbb44a71d1ae8",
   "metadata": {
    "collapsed": true,
    "ExecuteTime": {
     "end_time": "2023-10-31T11:19:36.071006Z",
     "start_time": "2023-10-31T11:19:36.064843Z"
    }
   },
   "outputs": [],
   "source": [
    "import pandas as pd\n",
    "import spacy\n",
    "import sddk\n",
    "import requests"
   ]
  },
  {
   "cell_type": "code",
   "execution_count": 2,
   "outputs": [],
   "source": [
    "nlp = spacy.load('la_core_web_lg')"
   ],
   "metadata": {
    "collapsed": false,
    "ExecuteTime": {
     "end_time": "2023-10-31T11:09:45.083930Z",
     "start_time": "2023-10-31T11:09:44.412765Z"
    }
   },
   "id": "initial_id"
  },
  {
   "cell_type": "code",
   "execution_count": 3,
   "outputs": [
    {
     "name": "stdout",
     "output_type": "stream",
     "text": [
      "connection with shared folder established with you as its ordinary user\n",
      "endpoint variable has been configured to: https://sciencedata.dk/sharingout/kase%40zcu.cz/TOME/\n"
     ]
    }
   ],
   "source": [
    "s = sddk.cloudSession(provider=\"sciencedata.dk\", shared_folder_name=\"TOME\", owner=\"kase@zcu.cz\")"
   ],
   "metadata": {
    "collapsed": false,
    "ExecuteTime": {
     "end_time": "2023-10-31T11:09:57.588185Z",
     "start_time": "2023-10-31T11:09:46.644640Z"
    }
   },
   "id": "a3923178bf8adcb1"
  },
  {
   "cell_type": "code",
   "execution_count": 6,
   "outputs": [
    {
     "data": {
      "text/plain": "['1031760',\n '1085290',\n '1285853',\n '1285854',\n '1285855',\n '1285856',\n '1365811',\n '1370560',\n '1378359',\n '1424044']"
     },
     "execution_count": 6,
     "metadata": {},
     "output_type": "execute_result"
    }
   ],
   "source": [
    "dir_ids_list = s.list_directories(\"NOSCEMUS_FULL/\")\n",
    "dir_ids_list[:10]"
   ],
   "metadata": {
    "collapsed": false,
    "ExecuteTime": {
     "end_time": "2023-10-31T11:10:47.542661Z",
     "start_time": "2023-10-31T11:10:46.331804Z"
    }
   },
   "id": "7b37c875ea1222"
  },
  {
   "cell_type": "code",
   "execution_count": 7,
   "outputs": [
    {
     "data": {
      "text/plain": "1009"
     },
     "execution_count": 7,
     "metadata": {},
     "output_type": "execute_result"
    }
   ],
   "source": [
    "len(dir_ids_list)"
   ],
   "metadata": {
    "collapsed": false,
    "ExecuteTime": {
     "end_time": "2023-10-31T11:10:54.485781Z",
     "start_time": "2023-10-31T11:10:54.481837Z"
    }
   },
   "id": "70987a1628edb1a7"
  },
  {
   "cell_type": "code",
   "execution_count": 12,
   "outputs": [
    {
     "name": "stdout",
     "output_type": "stream",
     "text": [
      "Bacon,_Francis_-_Instauratio_magna__London_1620_pdf.txt\n",
      "Linden,_Johannes_Antonides_van_der_-_Lindenius_renovatus__Nuremberg_1686_pdf.txt\n",
      "de_Conde,_Ioannes_Baptista_-_Aphorismi_seu_axiomata_Hippocratis_versu_heroico_explicata__Brussels_1647_pdf.txt\n",
      "van_Poort,_Henricus_-_Hippocratis_Aphorismi_metrica_praphrasi_translati__Utrecht_1657_pdf.txt\n",
      "Hippocrates_&_Denisot,_Gérard_-_Hippocratis_Aphorismis_versibus_Graecis_et_Latini_expositi__Paris_1634_pdf.txt\n",
      "Hippocrates_&_Berigardus,_Petrus_-_Hippocratis_Aphorismi_rhytmici__Udine_1645_pdf.txt\n",
      "Acta_literaria_Sueciae__Vol__1__Uppsala_[1723–1725]_.txt\n",
      "Quensel,_Conrad_&_Eurodius,_Hans_-_De_lumine_nocturno_Boreali__Lund_1726.txt\n",
      "Celsius,_Anders_-_Observationes_de_lumine_Boreali__Nuremberg_1733.txt\n",
      "Bacci,_Andrea_&_Gabelkover,_Wolfgang_-_De_monocerote_seu_unicornu__Stuttgart_1598_pdf.txt\n"
     ]
    }
   ],
   "source": [
    "for id in dir_ids_list[:10]:\n",
    "    for textfile in s.list_filenames(\"NOSCEMUS_FULL/\" + id, \"txt\"):\n",
    "        print(textfile)"
   ],
   "metadata": {
    "collapsed": false,
    "ExecuteTime": {
     "end_time": "2023-10-31T11:16:27.501689Z",
     "start_time": "2023-10-31T11:16:23.947723Z"
    }
   },
   "id": "3af1a9ee225851b"
  },
  {
   "cell_type": "code",
   "execution_count": 13,
   "outputs": [],
   "source": [
    "ids_texts = []\n",
    "for id in dir_ids_list[:10]:\n",
    "    id_texts = []\n",
    "    id_filenames = []\n",
    "    for textfile in s.list_filenames(\"NOSCEMUS_FULL/\" + id, \"txt\"):\n",
    "        id_filenames.append(textfile)\n",
    "        text = s.read_file(\"NOSCEMUS_FULL/\" + id + \"/\" + textfile, \"str\")\n",
    "        id_texts.append(text)\n",
    "    ids_texts.append([id, id_filenames, id_texts])"
   ],
   "metadata": {
    "collapsed": false,
    "ExecuteTime": {
     "end_time": "2023-10-31T11:19:27.580434Z",
     "start_time": "2023-10-31T11:19:15.745989Z"
    }
   },
   "id": "3878cc1af7f8730"
  },
  {
   "cell_type": "code",
   "execution_count": 17,
   "outputs": [
    {
     "data": {
      "text/plain": "  noscemus_ID                                     filenames_list  \\\n0     1031760  [Bacon,_Francis_-_Instauratio_magna__London_16...   \n1     1085290  [Linden,_Johannes_Antonides_van_der_-_Lindeniu...   \n2     1285853  [de_Conde,_Ioannes_Baptista_-_Aphorismi_seu_ax...   \n3     1285854  [van_Poort,_Henricus_-_Hippocratis_Aphorismi_m...   \n4     1285855  [Hippocrates_&_Denisot,_Gérard_-_Hippocratis_A...   \n5     1285856  [Hippocrates_&_Berigardus,_Petrus_-_Hippocrati...   \n6     1365811  [Acta_literaria_Sueciae__Vol__1__Uppsala_[1723...   \n7     1370560  [Quensel,_Conrad_&_Eurodius,_Hans_-_De_lumine_...   \n8     1378359  [Celsius,_Anders_-_Observationes_de_lumine_Bor...   \n9     1424044  [Bacci,_Andrea_&_Gabelkover,_Wolfgang_-_De_mon...   \n\n                                    textcontent_list  \n0  [FRANCISCJ\\nDE VERULAMIO /\\nSummi Angliae\\nCAN...  \n1  [GEORG ABRAHAM MERCKLINI\\nLINDENIUS RENOVATUS\\...  \n2  [APHORISMI,\\nSEU AXIOMATA\\nHIPPOCRATIS,\\nsepte...  \n3  [HIPPOCRATIS\\nCOI\\nAPHORISMI\\nMetricâ\\nPARAPHR...  \n4  [HIPPOCRATIS\\nAPHORISMI\\nVERSIBVS GRAECIS ET\\n...  \n5  [HIPPOCRATIS\\nAphorismi Rhythmici\\n\\n\\nA\\n\\n\\n...  \n6  [ACTA\\nLITERARIA\\nSVECIAE\\n\\n\\nUpsaliae public...  \n7  [Alb Haller D.\\n1747.\\nDono Jll. Roséni.\\n\\n\\n...  \n8  [CCCXVI.\\nOBSERVATIONES\\nDE\\n\\n\\nLUMEN\\n\\n\\nBO...  \n9  [DE MONOCERO¬\\nTE SEV\\nVNICOR¬\\nNV, EIVSQVE AD...  ",
      "text/html": "<div>\n<style scoped>\n    .dataframe tbody tr th:only-of-type {\n        vertical-align: middle;\n    }\n\n    .dataframe tbody tr th {\n        vertical-align: top;\n    }\n\n    .dataframe thead th {\n        text-align: right;\n    }\n</style>\n<table border=\"1\" class=\"dataframe\">\n  <thead>\n    <tr style=\"text-align: right;\">\n      <th></th>\n      <th>noscemus_ID</th>\n      <th>filenames_list</th>\n      <th>textcontent_list</th>\n    </tr>\n  </thead>\n  <tbody>\n    <tr>\n      <th>0</th>\n      <td>1031760</td>\n      <td>[Bacon,_Francis_-_Instauratio_magna__London_16...</td>\n      <td>[FRANCISCJ\\nDE VERULAMIO /\\nSummi Angliae\\nCAN...</td>\n    </tr>\n    <tr>\n      <th>1</th>\n      <td>1085290</td>\n      <td>[Linden,_Johannes_Antonides_van_der_-_Lindeniu...</td>\n      <td>[GEORG ABRAHAM MERCKLINI\\nLINDENIUS RENOVATUS\\...</td>\n    </tr>\n    <tr>\n      <th>2</th>\n      <td>1285853</td>\n      <td>[de_Conde,_Ioannes_Baptista_-_Aphorismi_seu_ax...</td>\n      <td>[APHORISMI,\\nSEU AXIOMATA\\nHIPPOCRATIS,\\nsepte...</td>\n    </tr>\n    <tr>\n      <th>3</th>\n      <td>1285854</td>\n      <td>[van_Poort,_Henricus_-_Hippocratis_Aphorismi_m...</td>\n      <td>[HIPPOCRATIS\\nCOI\\nAPHORISMI\\nMetricâ\\nPARAPHR...</td>\n    </tr>\n    <tr>\n      <th>4</th>\n      <td>1285855</td>\n      <td>[Hippocrates_&amp;_Denisot,_Gérard_-_Hippocratis_A...</td>\n      <td>[HIPPOCRATIS\\nAPHORISMI\\nVERSIBVS GRAECIS ET\\n...</td>\n    </tr>\n    <tr>\n      <th>5</th>\n      <td>1285856</td>\n      <td>[Hippocrates_&amp;_Berigardus,_Petrus_-_Hippocrati...</td>\n      <td>[HIPPOCRATIS\\nAphorismi Rhythmici\\n\\n\\nA\\n\\n\\n...</td>\n    </tr>\n    <tr>\n      <th>6</th>\n      <td>1365811</td>\n      <td>[Acta_literaria_Sueciae__Vol__1__Uppsala_[1723...</td>\n      <td>[ACTA\\nLITERARIA\\nSVECIAE\\n\\n\\nUpsaliae public...</td>\n    </tr>\n    <tr>\n      <th>7</th>\n      <td>1370560</td>\n      <td>[Quensel,_Conrad_&amp;_Eurodius,_Hans_-_De_lumine_...</td>\n      <td>[Alb Haller D.\\n1747.\\nDono Jll. Roséni.\\n\\n\\n...</td>\n    </tr>\n    <tr>\n      <th>8</th>\n      <td>1378359</td>\n      <td>[Celsius,_Anders_-_Observationes_de_lumine_Bor...</td>\n      <td>[CCCXVI.\\nOBSERVATIONES\\nDE\\n\\n\\nLUMEN\\n\\n\\nBO...</td>\n    </tr>\n    <tr>\n      <th>9</th>\n      <td>1424044</td>\n      <td>[Bacci,_Andrea_&amp;_Gabelkover,_Wolfgang_-_De_mon...</td>\n      <td>[DE MONOCERO¬\\nTE SEV\\nVNICOR¬\\nNV, EIVSQVE AD...</td>\n    </tr>\n  </tbody>\n</table>\n</div>"
     },
     "execution_count": 17,
     "metadata": {},
     "output_type": "execute_result"
    }
   ],
   "source": [
    "pd.DataFrame(ids_texts, columns=[\"noscemus_ID\", \"filenames_list\", \"textcontent_list\"])"
   ],
   "metadata": {
    "collapsed": false,
    "ExecuteTime": {
     "end_time": "2023-10-31T11:21:44.538427Z",
     "start_time": "2023-10-31T11:21:44.494425Z"
    }
   },
   "id": "fdda413447501481"
  },
  {
   "cell_type": "code",
   "execution_count": null,
   "outputs": [],
   "source": [],
   "metadata": {
    "collapsed": false
   },
   "id": "e12faaf6b64f6c99"
  }
 ],
 "metadata": {
  "kernelspec": {
   "name": "brewkernel",
   "language": "python",
   "display_name": "brewkernel"
  },
  "language_info": {
   "codemirror_mode": {
    "name": "ipython",
    "version": 2
   },
   "file_extension": ".py",
   "mimetype": "text/x-python",
   "name": "python",
   "nbconvert_exporter": "python",
   "pygments_lexer": "ipython2",
   "version": "2.7.6"
  }
 },
 "nbformat": 4,
 "nbformat_minor": 5
}
