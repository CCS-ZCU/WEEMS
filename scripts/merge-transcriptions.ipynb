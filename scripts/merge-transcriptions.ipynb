{
 "cells": [
  {
   "cell_type": "code",
   "execution_count": 2,
   "id": "54e45e25",
   "metadata": {},
   "outputs": [],
   "source": [
    "import pywikibot"
   ]
  },
  {
   "cell_type": "markdown",
   "id": "c8a2ad2f",
   "metadata": {},
   "source": [
    "Umisti .rar soubor do './noscemus_ETF/data/private-data'\n",
    "Na unixovem systemu muzete rar odzipovat nasledne:"
   ]
  },
  {
   "cell_type": "code",
   "execution_count": null,
   "id": "initial_id",
   "metadata": {
    "collapsed": true
   },
   "outputs": [],
   "source": [
    "!unrar x '../data/private-data/Noscemus A-D(De_cura_morbi_Gallici).rar' '../data/private-data/'"
   ]
  },
  {
   "cell_type": "code",
   "execution_count": 9,
   "id": "e761f8bb",
   "metadata": {},
   "outputs": [
    {
     "ename": "UnicodeDecodeError",
     "evalue": "'utf-8' codec can't decode byte 0xf2 in position 613: invalid continuation byte",
     "output_type": "error",
     "traceback": [
      "\u001b[0;31m---------------------------------------------------------------------------\u001b[0m",
      "\u001b[0;31mUnicodeDecodeError\u001b[0m                        Traceback (most recent call last)",
      "Cell \u001b[0;32mIn[9], line 23\u001b[0m\n\u001b[1;32m     21\u001b[0m \u001b[39mfor\u001b[39;00m entry \u001b[39min\u001b[39;00m dirs:\n\u001b[1;32m     22\u001b[0m     dir_path \u001b[39m=\u001b[39m os\u001b[39m.\u001b[39mpath\u001b[39m.\u001b[39mjoin(root, entry)\n\u001b[0;32m---> 23\u001b[0m     joining_texts(dir_path)     \n",
      "Cell \u001b[0;32mIn[9], line 11\u001b[0m, in \u001b[0;36mjoining_texts\u001b[0;34m(directory_path)\u001b[0m\n\u001b[1;32m      9\u001b[0m input_file_path \u001b[39m=\u001b[39m os\u001b[39m.\u001b[39mpath\u001b[39m.\u001b[39mjoin(directory_path, entry\u001b[39m.\u001b[39mname)\n\u001b[1;32m     10\u001b[0m \u001b[39mwith\u001b[39;00m \u001b[39mopen\u001b[39m(input_file_path, \u001b[39m'\u001b[39m\u001b[39mr\u001b[39m\u001b[39m'\u001b[39m) \u001b[39mas\u001b[39;00m input_file:\n\u001b[0;32m---> 11\u001b[0m     file_contents \u001b[39m=\u001b[39m input_file\u001b[39m.\u001b[39mread()\n\u001b[1;32m     12\u001b[0m \u001b[39m#uz jen udelat, aby se nazev vystupniho souboru bral regexem ze vstupniho a aby seznam souboru sel abecedne\u001b[39;00m\n\u001b[1;32m     13\u001b[0m output_file_path \u001b[39m=\u001b[39m os\u001b[39m.\u001b[39mpath\u001b[39m.\u001b[39mjoin(os\u001b[39m.\u001b[39mgetcwd(), nazev)\n",
      "File \u001b[0;32m<frozen codecs>:322\u001b[0m, in \u001b[0;36mdecode\u001b[0;34m(self, input, final)\u001b[0m\n",
      "\u001b[0;31mUnicodeDecodeError\u001b[0m: 'utf-8' codec can't decode byte 0xf2 in position 613: invalid continuation byte"
     ]
    }
   ],
   "source": [
    "import os\n",
    "\n",
    "path = '../data/private-data/Noscemus A-D(De_cura_morbi_Gallici)'\n",
    "\n",
    "def joining_texts(directory_path):\n",
    "    with os.scandir(directory_path) as entries:\n",
    "        for entry in entries:\n",
    "            if entry.is_file() and \".txt\" in str(entry):\n",
    "                input_file_path = os.path.join(directory_path, entry.name)\n",
    "                with open(input_file_path, 'r') as input_file:\n",
    "                    file_contents = input_file.read()\n",
    "                #uz jen udelat, aby se nazev vystupniho souboru bral regexem ze vstupniho a aby seznam souboru sel abecedne\n",
    "                output_file_path = os.path.join(os.getcwd(), nazev)\n",
    "                with open(output_file_path, 'a') as output_file:\n",
    "                    output_file.write(file_contents)\n",
    "\n",
    "            else:\n",
    "                pass\n",
    "\n",
    "for root, dirs, files in os.walk(path):\n",
    "    for entry in dirs:\n",
    "        dir_path = os.path.join(root, entry)\n",
    "        joining_texts(dir_path)     \n",
    "\n"
   ]
  }
 ],
 "metadata": {
  "kernelspec": {
   "display_name": "Python 3",
   "language": "python",
   "name": "python3"
  },
  "language_info": {
   "codemirror_mode": {
    "name": "ipython",
    "version": 3
   },
   "file_extension": ".py",
   "mimetype": "text/x-python",
   "name": "python",
   "nbconvert_exporter": "python",
   "pygments_lexer": "ipython3",
   "version": "3.11.5"
  }
 },
 "nbformat": 4,
 "nbformat_minor": 5
}
