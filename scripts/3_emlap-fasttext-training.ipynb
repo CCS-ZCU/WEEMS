{
 "cells": [
  {
   "cell_type": "code",
   "id": "b0c3f2cfd2ca6805",
   "metadata": {
    "collapsed": false,
    "jupyter": {
     "outputs_hidden": false
    },
    "ExecuteTime": {
     "end_time": "2025-04-10T07:29:45.441647Z",
     "start_time": "2025-04-10T07:29:45.175295Z"
    }
   },
   "source": [
    "import pandas as pd\n",
    "from gensim.models.fasttext import FastText\n",
    "from gensim.models import KeyedVectors\n",
    "import re\n",
    "import os\n",
    "import shutil\n",
    "import sddk\n",
    "import pickle\n",
    "import json\n",
    "import google_conf"
   ],
   "outputs": [],
   "execution_count": 2
  },
  {
   "metadata": {
    "ExecuteTime": {
     "end_time": "2025-04-10T07:29:46.922040Z",
     "start_time": "2025-04-10T07:29:45.642304Z"
    }
   },
   "cell_type": "code",
   "source": [
    "emlap_catalogue = google_conf.setup(\n",
    "    sheet_url=\"https://docs.google.com/spreadsheets/d/1bkHHTYc86K2IuEXqfYfkDNt5LovtvCU3gvqHIbVio88/edit?usp=sharing\",\n",
    "    service_account_path=\"../../../ServiceAccountsKey.json\")\n",
    "# Get the data and transpose\n",
    "emlap_metadata_raw = google_conf.get_as_dataframe(emlap_catalogue.worksheet(\"Copy_of_Catalogue_08_04_2025\"), row=1,\n",
    "                                                  include_index=False)\n",
    "emlap_metadata_raw.set_index(\"author_working\", inplace=True)\n",
    "emlap_metadata_raw.index.name = None\n",
    "emlap_metadata = emlap_metadata_raw.T\n",
    "emlap_metadata.index = emlap_metadata.index.astype(str)\n",
    "emlap_metadata.head(5)"
   ],
   "id": "aad88286cb7897e2",
   "outputs": [
    {
     "data": {
      "text/plain": [
       "                                 No. is_done is_noscemus if_noscemus_id  \\\n",
       "Augurello, Chrysopoeia        100001    True        True         713324   \n",
       "Pseudo-Lull, Secretis         100002    True       False            NaN   \n",
       "Pantheus, Ars Transmutatione  100003    True       False            NaN   \n",
       "Pantheus, Commentarium        100004    True       False            NaN   \n",
       "Pantheus, Voarchadumia        100005    True       False            NaN   \n",
       "\n",
       "                             #if is_noscemus = True, don't transcribe  \\\n",
       "Augurello, Chrysopoeia                                            NaN   \n",
       "Pseudo-Lull, Secretis                                             NaN   \n",
       "Pantheus, Ars Transmutatione                                      NaN   \n",
       "Pantheus, Commentarium                                            NaN   \n",
       "Pantheus, Voarchadumia                                            NaN   \n",
       "\n",
       "                             AUTHORSHIP is_one_author  \\\n",
       "Augurello, Chrysopoeia              NaN          True   \n",
       "Pseudo-Lull, Secretis               NaN          True   \n",
       "Pantheus, Ars Transmutatione        NaN          True   \n",
       "Pantheus, Commentarium              NaN          True   \n",
       "Pantheus, Voarchadumia              NaN          True   \n",
       "\n",
       "                             #if more than 1 author skip section and choose compendium below  \\\n",
       "Augurello, Chrysopoeia                                                      NaN                \n",
       "Pseudo-Lull, Secretis                                                       NaN                \n",
       "Pantheus, Ars Transmutatione                                                NaN                \n",
       "Pantheus, Commentarium                                                      NaN                \n",
       "Pantheus, Voarchadumia                                                      NaN                \n",
       "\n",
       "                             is_author_known                  author_name  \\\n",
       "Augurello, Chrysopoeia                  True  Augurelli, Giovanni Aurelio   \n",
       "Pseudo-Lull, Secretis                   True                  Pseudo-Lull   \n",
       "Pantheus, Ars Transmutatione            True    Panteo, Giovanni Agostino   \n",
       "Pantheus, Commentarium                  True    Panteo, Giovanni Agostino   \n",
       "Pantheus, Voarchadumia                  True    Panteo, Giovanni Agostino   \n",
       "\n",
       "                              ...  \\\n",
       "Augurello, Chrysopoeia        ...   \n",
       "Pseudo-Lull, Secretis         ...   \n",
       "Pantheus, Ars Transmutatione  ...   \n",
       "Pantheus, Commentarium        ...   \n",
       "Pantheus, Voarchadumia        ...   \n",
       "\n",
       "                                                                           link  \\\n",
       "Augurello, Chrysopoeia             https://wiki.uibk.ac.at/noscemus/Chrysopoeia   \n",
       "Pseudo-Lull, Secretis         https://www.digitale-sammlungen.de/en/view/bsb...   \n",
       "Pantheus, Ars Transmutatione                                                NaN   \n",
       "Pantheus, Commentarium        https://www.digitale-sammlungen.de/en/view/bsb...   \n",
       "Pantheus, Voarchadumia                                                      NaN   \n",
       "\n",
       "                             source_of_file origin_of_copy REFERENCES  \\\n",
       "Augurello, Chrysopoeia             Noscemus        Unknown        NaN   \n",
       "Pseudo-Lull, Secretis                   MDZ            MBS        NaN   \n",
       "Pantheus, Ars Transmutatione             GB             BL        NaN   \n",
       "Pantheus, Commentarium                  MDZ            MSB        NaN   \n",
       "Pantheus, Voarchadumia                  ONB            ONB        NaN   \n",
       "\n",
       "                             catalogue_reference secondary_references  \\\n",
       "Augurello, Chrysopoeia             Noscemus Wiki         Soranzo 2019   \n",
       "Pseudo-Lull, Secretis                Hirsch 1950                  NaN   \n",
       "Pantheus, Ars Transmutatione                 NaN                  NaN   \n",
       "Pantheus, Commentarium                       NaN                  NaN   \n",
       "Pantheus, Voarchadumia                       NaN                  NaN   \n",
       "\n",
       "                                                               general_comments  \\\n",
       "Augurello, Chrysopoeia               The 1518 Basel version is also in Noscemus   \n",
       "Pseudo-Lull, Secretis         There is a prior, 1514 edition of De secretis ...   \n",
       "Pantheus, Ars Transmutatione  This book was first published in 1518 with an ...   \n",
       "Pantheus, Commentarium        This 1519 book is catalogued wrongly by many l...   \n",
       "Pantheus, Voarchadumia                Dedicated to Leonellus Marquis of Estense   \n",
       "\n",
       "                             OTHER  \\\n",
       "Augurello, Chrysopoeia         NaN   \n",
       "Pseudo-Lull, Secretis          NaN   \n",
       "Pantheus, Ars Transmutatione   NaN   \n",
       "Pantheus, Commentarium         NaN   \n",
       "Pantheus, Voarchadumia         NaN   \n",
       "\n",
       "                                                                       filename  \\\n",
       "Augurello, Chrysopoeia        Augurello,_Giovanni_Aurelio_-_Chrysopoeia__Ven...   \n",
       "Pseudo-Lull, Secretis               Pseudo-Lull1518_De_secretis_naturae_MDZ.pdf   \n",
       "Pantheus, Ars Transmutatione  Pantheus1518_Ars_Transmutationis_Metallicae_BL...   \n",
       "Pantheus, Commentarium        Pantheus1519_Commentarium_Transmutationis_Meta...   \n",
       "Pantheus, Voarchadumia                        Pantheus1530_Voarchadumia_ONB.pdf   \n",
       "\n",
       "                              NaN  \n",
       "Augurello, Chrysopoeia        NaN  \n",
       "Pseudo-Lull, Secretis         NaN  \n",
       "Pantheus, Ars Transmutatione  NaN  \n",
       "Pantheus, Commentarium        NaN  \n",
       "Pantheus, Voarchadumia        NaN  \n",
       "\n",
       "[5 rows x 64 columns]"
      ],
      "text/html": [
       "<div>\n",
       "<style scoped>\n",
       "    .dataframe tbody tr th:only-of-type {\n",
       "        vertical-align: middle;\n",
       "    }\n",
       "\n",
       "    .dataframe tbody tr th {\n",
       "        vertical-align: top;\n",
       "    }\n",
       "\n",
       "    .dataframe thead th {\n",
       "        text-align: right;\n",
       "    }\n",
       "</style>\n",
       "<table border=\"1\" class=\"dataframe\">\n",
       "  <thead>\n",
       "    <tr style=\"text-align: right;\">\n",
       "      <th></th>\n",
       "      <th>No.</th>\n",
       "      <th>is_done</th>\n",
       "      <th>is_noscemus</th>\n",
       "      <th>if_noscemus_id</th>\n",
       "      <th>#if is_noscemus = True, don't transcribe</th>\n",
       "      <th>AUTHORSHIP</th>\n",
       "      <th>is_one_author</th>\n",
       "      <th>#if more than 1 author skip section and choose compendium below</th>\n",
       "      <th>is_author_known</th>\n",
       "      <th>author_name</th>\n",
       "      <th>...</th>\n",
       "      <th>link</th>\n",
       "      <th>source_of_file</th>\n",
       "      <th>origin_of_copy</th>\n",
       "      <th>REFERENCES</th>\n",
       "      <th>catalogue_reference</th>\n",
       "      <th>secondary_references</th>\n",
       "      <th>general_comments</th>\n",
       "      <th>OTHER</th>\n",
       "      <th>filename</th>\n",
       "      <th>NaN</th>\n",
       "    </tr>\n",
       "  </thead>\n",
       "  <tbody>\n",
       "    <tr>\n",
       "      <th>Augurello, Chrysopoeia</th>\n",
       "      <td>100001</td>\n",
       "      <td>True</td>\n",
       "      <td>True</td>\n",
       "      <td>713324</td>\n",
       "      <td>NaN</td>\n",
       "      <td>NaN</td>\n",
       "      <td>True</td>\n",
       "      <td>NaN</td>\n",
       "      <td>True</td>\n",
       "      <td>Augurelli, Giovanni Aurelio</td>\n",
       "      <td>...</td>\n",
       "      <td>https://wiki.uibk.ac.at/noscemus/Chrysopoeia</td>\n",
       "      <td>Noscemus</td>\n",
       "      <td>Unknown</td>\n",
       "      <td>NaN</td>\n",
       "      <td>Noscemus Wiki</td>\n",
       "      <td>Soranzo 2019</td>\n",
       "      <td>The 1518 Basel version is also in Noscemus</td>\n",
       "      <td>NaN</td>\n",
       "      <td>Augurello,_Giovanni_Aurelio_-_Chrysopoeia__Ven...</td>\n",
       "      <td>NaN</td>\n",
       "    </tr>\n",
       "    <tr>\n",
       "      <th>Pseudo-Lull, Secretis</th>\n",
       "      <td>100002</td>\n",
       "      <td>True</td>\n",
       "      <td>False</td>\n",
       "      <td>NaN</td>\n",
       "      <td>NaN</td>\n",
       "      <td>NaN</td>\n",
       "      <td>True</td>\n",
       "      <td>NaN</td>\n",
       "      <td>True</td>\n",
       "      <td>Pseudo-Lull</td>\n",
       "      <td>...</td>\n",
       "      <td>https://www.digitale-sammlungen.de/en/view/bsb...</td>\n",
       "      <td>MDZ</td>\n",
       "      <td>MBS</td>\n",
       "      <td>NaN</td>\n",
       "      <td>Hirsch 1950</td>\n",
       "      <td>NaN</td>\n",
       "      <td>There is a prior, 1514 edition of De secretis ...</td>\n",
       "      <td>NaN</td>\n",
       "      <td>Pseudo-Lull1518_De_secretis_naturae_MDZ.pdf</td>\n",
       "      <td>NaN</td>\n",
       "    </tr>\n",
       "    <tr>\n",
       "      <th>Pantheus, Ars Transmutatione</th>\n",
       "      <td>100003</td>\n",
       "      <td>True</td>\n",
       "      <td>False</td>\n",
       "      <td>NaN</td>\n",
       "      <td>NaN</td>\n",
       "      <td>NaN</td>\n",
       "      <td>True</td>\n",
       "      <td>NaN</td>\n",
       "      <td>True</td>\n",
       "      <td>Panteo, Giovanni Agostino</td>\n",
       "      <td>...</td>\n",
       "      <td>NaN</td>\n",
       "      <td>GB</td>\n",
       "      <td>BL</td>\n",
       "      <td>NaN</td>\n",
       "      <td>NaN</td>\n",
       "      <td>NaN</td>\n",
       "      <td>This book was first published in 1518 with an ...</td>\n",
       "      <td>NaN</td>\n",
       "      <td>Pantheus1518_Ars_Transmutationis_Metallicae_BL...</td>\n",
       "      <td>NaN</td>\n",
       "    </tr>\n",
       "    <tr>\n",
       "      <th>Pantheus, Commentarium</th>\n",
       "      <td>100004</td>\n",
       "      <td>True</td>\n",
       "      <td>False</td>\n",
       "      <td>NaN</td>\n",
       "      <td>NaN</td>\n",
       "      <td>NaN</td>\n",
       "      <td>True</td>\n",
       "      <td>NaN</td>\n",
       "      <td>True</td>\n",
       "      <td>Panteo, Giovanni Agostino</td>\n",
       "      <td>...</td>\n",
       "      <td>https://www.digitale-sammlungen.de/en/view/bsb...</td>\n",
       "      <td>MDZ</td>\n",
       "      <td>MSB</td>\n",
       "      <td>NaN</td>\n",
       "      <td>NaN</td>\n",
       "      <td>NaN</td>\n",
       "      <td>This 1519 book is catalogued wrongly by many l...</td>\n",
       "      <td>NaN</td>\n",
       "      <td>Pantheus1519_Commentarium_Transmutationis_Meta...</td>\n",
       "      <td>NaN</td>\n",
       "    </tr>\n",
       "    <tr>\n",
       "      <th>Pantheus, Voarchadumia</th>\n",
       "      <td>100005</td>\n",
       "      <td>True</td>\n",
       "      <td>False</td>\n",
       "      <td>NaN</td>\n",
       "      <td>NaN</td>\n",
       "      <td>NaN</td>\n",
       "      <td>True</td>\n",
       "      <td>NaN</td>\n",
       "      <td>True</td>\n",
       "      <td>Panteo, Giovanni Agostino</td>\n",
       "      <td>...</td>\n",
       "      <td>NaN</td>\n",
       "      <td>ONB</td>\n",
       "      <td>ONB</td>\n",
       "      <td>NaN</td>\n",
       "      <td>NaN</td>\n",
       "      <td>NaN</td>\n",
       "      <td>Dedicated to Leonellus Marquis of Estense</td>\n",
       "      <td>NaN</td>\n",
       "      <td>Pantheus1530_Voarchadumia_ONB.pdf</td>\n",
       "      <td>NaN</td>\n",
       "    </tr>\n",
       "  </tbody>\n",
       "</table>\n",
       "<p>5 rows × 64 columns</p>\n",
       "</div>"
      ]
     },
     "execution_count": 3,
     "metadata": {},
     "output_type": "execute_result"
    }
   ],
   "execution_count": 3
  },
  {
   "metadata": {
    "ExecuteTime": {
     "end_time": "2025-04-10T07:29:46.949407Z",
     "start_time": "2025-04-10T07:29:46.946783Z"
    }
   },
   "cell_type": "code",
   "source": "ids = emlap_metadata[\"No.\"]",
   "id": "1442b103419c82be",
   "outputs": [],
   "execution_count": 4
  },
  {
   "cell_type": "code",
   "id": "444e820a-c191-4a69-b6b6-4e9ec416a836",
   "metadata": {
    "ExecuteTime": {
     "end_time": "2025-04-10T07:29:48.838338Z",
     "start_time": "2025-04-10T07:29:48.811267Z"
    }
   },
   "source": [
    "filtered_vocab_df = pd.read_json(\"../data/filtered_vocab_df.json\")\n",
    "filtered_vocab_df.head(5)"
   ],
   "outputs": [
    {
     "data": {
      "text/plain": [
       "        word  1501-1550  1551-1600  1601-1650  1651-1700      mean  \\\n",
       "3299    dico      43255     122549      42457      72224  70121.25   \n",
       "960     pars      33225      93059      44337      52385  55751.50   \n",
       "3871  possum      25029      82700      38391      76841  55740.25   \n",
       "6039   habeo      31690      89199      39443      59770  55025.50   \n",
       "2898   facio      31814      98524      36944      51438  54680.00   \n",
       "\n",
       "      in_lila_embeddings  in_lasla  in_operamaiora  \\\n",
       "3299                True      True            True   \n",
       "960                 True      True            True   \n",
       "3871                True      True            True   \n",
       "6039                True      True            True   \n",
       "2898                True      True            True   \n",
       "\n",
       "                                    transl  \n",
       "3299                       say, call, tell  \n",
       "960                                   part  \n",
       "3871                          be able, can  \n",
       "6039  have, hold, possess, consider, think  \n",
       "2898                      do, make, handle  "
      ],
      "text/html": [
       "<div>\n",
       "<style scoped>\n",
       "    .dataframe tbody tr th:only-of-type {\n",
       "        vertical-align: middle;\n",
       "    }\n",
       "\n",
       "    .dataframe tbody tr th {\n",
       "        vertical-align: top;\n",
       "    }\n",
       "\n",
       "    .dataframe thead th {\n",
       "        text-align: right;\n",
       "    }\n",
       "</style>\n",
       "<table border=\"1\" class=\"dataframe\">\n",
       "  <thead>\n",
       "    <tr style=\"text-align: right;\">\n",
       "      <th></th>\n",
       "      <th>word</th>\n",
       "      <th>1501-1550</th>\n",
       "      <th>1551-1600</th>\n",
       "      <th>1601-1650</th>\n",
       "      <th>1651-1700</th>\n",
       "      <th>mean</th>\n",
       "      <th>in_lila_embeddings</th>\n",
       "      <th>in_lasla</th>\n",
       "      <th>in_operamaiora</th>\n",
       "      <th>transl</th>\n",
       "    </tr>\n",
       "  </thead>\n",
       "  <tbody>\n",
       "    <tr>\n",
       "      <th>3299</th>\n",
       "      <td>dico</td>\n",
       "      <td>43255</td>\n",
       "      <td>122549</td>\n",
       "      <td>42457</td>\n",
       "      <td>72224</td>\n",
       "      <td>70121.25</td>\n",
       "      <td>True</td>\n",
       "      <td>True</td>\n",
       "      <td>True</td>\n",
       "      <td>say, call, tell</td>\n",
       "    </tr>\n",
       "    <tr>\n",
       "      <th>960</th>\n",
       "      <td>pars</td>\n",
       "      <td>33225</td>\n",
       "      <td>93059</td>\n",
       "      <td>44337</td>\n",
       "      <td>52385</td>\n",
       "      <td>55751.50</td>\n",
       "      <td>True</td>\n",
       "      <td>True</td>\n",
       "      <td>True</td>\n",
       "      <td>part</td>\n",
       "    </tr>\n",
       "    <tr>\n",
       "      <th>3871</th>\n",
       "      <td>possum</td>\n",
       "      <td>25029</td>\n",
       "      <td>82700</td>\n",
       "      <td>38391</td>\n",
       "      <td>76841</td>\n",
       "      <td>55740.25</td>\n",
       "      <td>True</td>\n",
       "      <td>True</td>\n",
       "      <td>True</td>\n",
       "      <td>be able, can</td>\n",
       "    </tr>\n",
       "    <tr>\n",
       "      <th>6039</th>\n",
       "      <td>habeo</td>\n",
       "      <td>31690</td>\n",
       "      <td>89199</td>\n",
       "      <td>39443</td>\n",
       "      <td>59770</td>\n",
       "      <td>55025.50</td>\n",
       "      <td>True</td>\n",
       "      <td>True</td>\n",
       "      <td>True</td>\n",
       "      <td>have, hold, possess, consider, think</td>\n",
       "    </tr>\n",
       "    <tr>\n",
       "      <th>2898</th>\n",
       "      <td>facio</td>\n",
       "      <td>31814</td>\n",
       "      <td>98524</td>\n",
       "      <td>36944</td>\n",
       "      <td>51438</td>\n",
       "      <td>54680.00</td>\n",
       "      <td>True</td>\n",
       "      <td>True</td>\n",
       "      <td>True</td>\n",
       "      <td>do, make, handle</td>\n",
       "    </tr>\n",
       "  </tbody>\n",
       "</table>\n",
       "</div>"
      ]
     },
     "execution_count": 5,
     "metadata": {},
     "output_type": "execute_result"
    }
   ],
   "execution_count": 5
  },
  {
   "metadata": {
    "ExecuteTime": {
     "end_time": "2025-04-10T07:29:54.572168Z",
     "start_time": "2025-04-10T07:29:54.557097Z"
    }
   },
   "cell_type": "code",
   "source": [
    "# load emlap vocabulary data\n",
    "with open('../../EMLAP_ETL/data/emlap_wordcounts_tups_v3-0.pkl', 'rb') as f:\n",
    "    emlap_wordcounts_tups = pickle.load(f)"
   ],
   "id": "3a1080995e239d10",
   "outputs": [],
   "execution_count": 6
  },
  {
   "metadata": {
    "ExecuteTime": {
     "end_time": "2025-04-10T07:29:55.196825Z",
     "start_time": "2025-04-10T07:29:55.192860Z"
    }
   },
   "cell_type": "code",
   "source": "emlap_wordcounts_tups[:10]",
   "id": "3f099c50d99f84cc",
   "outputs": [
    {
     "data": {
      "text/plain": [
       "[('aqua', 20126),\n",
       " ('facio', 16068),\n",
       " ('possum', 14366),\n",
       " ('dico', 14098),\n",
       " ('natura', 13101),\n",
       " ('corpus', 12498),\n",
       " ('ignis', 11634),\n",
       " ('habeo', 9810),\n",
       " ('res', 8935),\n",
       " ('pars', 8375)]"
      ]
     },
     "execution_count": 7,
     "metadata": {},
     "output_type": "execute_result"
    }
   ],
   "execution_count": 7
  },
  {
   "metadata": {
    "ExecuteTime": {
     "end_time": "2025-04-10T07:29:57.470217Z",
     "start_time": "2025-04-10T07:29:57.450800Z"
    }
   },
   "cell_type": "code",
   "source": [
    "# Convert the tuples to a DataFrame for merging\n",
    "emlap_df = pd.DataFrame(emlap_wordcounts_tups, columns=['word', 'emlap'])"
   ],
   "id": "c8d0f6a3fb5548ba",
   "outputs": [],
   "execution_count": 8
  },
  {
   "metadata": {
    "ExecuteTime": {
     "end_time": "2025-04-10T07:29:59.510207Z",
     "start_time": "2025-04-10T07:29:59.408076Z"
    }
   },
   "cell_type": "code",
   "source": [
    "# Merge the dataframes, combining filtered_vocab_df with emlap_df\n",
    "# Use outer join to include words from both filtered_vocab_df and emlap_df\n",
    "filtered_vocab_df = pd.merge(filtered_vocab_df, emlap_df, on='word', how='outer')\n",
    "\n",
    "# Optional: Fill NaN values with 0 or another default value in 'emlap'\n",
    "#filtered_vocab_df['emlap'] = filtered_vocab_df['emlap'].fillna(0)\n",
    "filtered_vocab_df = filtered_vocab_df.fillna(0)\n",
    "\n",
    "# View the updated dataframe\n",
    "filtered_vocab_df.columns"
   ],
   "id": "3fa6f265b3361ad4",
   "outputs": [
    {
     "data": {
      "text/plain": [
       "Index(['word', '1501-1550', '1551-1600', '1601-1650', '1651-1700', 'mean',\n",
       "       'in_lila_embeddings', 'in_lasla', 'in_operamaiora', 'transl', 'emlap'],\n",
       "      dtype='object')"
      ]
     },
     "execution_count": 9,
     "metadata": {},
     "output_type": "execute_result"
    }
   ],
   "execution_count": 9
  },
  {
   "metadata": {
    "ExecuteTime": {
     "end_time": "2025-04-10T07:30:00.347401Z",
     "start_time": "2025-04-10T07:30:00.341056Z"
    }
   },
   "cell_type": "code",
   "source": [
    "filtered_vocab_df[\"noscemus_sum\"] = filtered_vocab_df[\"1501-1550\"] + filtered_vocab_df[\"1551-1600\"] + filtered_vocab_df[\"1601-1650\"] + filtered_vocab_df[\"1651-1700\"]\n",
    "filtered_vocab_df.columns"
   ],
   "id": "b496d543d0f7175c",
   "outputs": [
    {
     "data": {
      "text/plain": [
       "Index(['word', '1501-1550', '1551-1600', '1601-1650', '1651-1700', 'mean',\n",
       "       'in_lila_embeddings', 'in_lasla', 'in_operamaiora', 'transl', 'emlap',\n",
       "       'noscemus_sum'],\n",
       "      dtype='object')"
      ]
     },
     "execution_count": 10,
     "metadata": {},
     "output_type": "execute_result"
    }
   ],
   "execution_count": 10
  },
  {
   "metadata": {
    "ExecuteTime": {
     "end_time": "2025-04-10T07:30:00.904188Z",
     "start_time": "2025-04-10T07:30:00.885808Z"
    }
   },
   "cell_type": "code",
   "source": "filtered_vocab_df = filtered_vocab_df[['word', '1501-1550', '1551-1600', '1601-1650', '1651-1700', 'noscemus_sum', 'emlap', 'in_lila_embeddings', 'in_lasla', 'in_operamaiora', 'transl']].sort_values(\"emlap\", ascending=False)",
   "id": "b2f1c77d11f76e9b",
   "outputs": [],
   "execution_count": 11
  },
  {
   "metadata": {
    "ExecuteTime": {
     "end_time": "2025-04-10T07:30:01.964127Z",
     "start_time": "2025-04-10T07:30:01.960629Z"
    }
   },
   "cell_type": "code",
   "source": "len(emlap_wordcounts_tups)",
   "id": "306c2114a10f825e",
   "outputs": [
    {
     "data": {
      "text/plain": [
       "62988"
      ]
     },
     "execution_count": 12,
     "metadata": {},
     "output_type": "execute_result"
    }
   ],
   "execution_count": 12
  },
  {
   "metadata": {
    "ExecuteTime": {
     "end_time": "2025-04-10T07:30:04.102483Z",
     "start_time": "2025-04-10T07:30:04.085744Z"
    }
   },
   "cell_type": "code",
   "source": [
    "filtered_vocab_df = filtered_vocab_df[\n",
    "    (filtered_vocab_df[\"word\"].isin(emlap_wordcounts_tups[:2000])) |\n",
    "    ((filtered_vocab_df[\"noscemus_sum\"] > 0) & (filtered_vocab_df[\"emlap\"] >= 10))\n",
    "    ]\n",
    "filtered_vocab_df.tail(10)"
   ],
   "id": "83df2b70cc1cd2ba",
   "outputs": [
    {
     "data": {
      "text/plain": [
       "              word  1501-1550  1551-1600  1601-1650  1651-1700  noscemus_sum  \\\n",
       "10640       chorus      216.0      250.0      251.0      312.0        1029.0   \n",
       "13750  conseruator       22.0       58.0       14.0       40.0         134.0   \n",
       "25549          ges      201.0      492.0     1023.0      281.0        1997.0   \n",
       "38245        mutuo       51.0      127.0       90.0       83.0         351.0   \n",
       "52311       scotia       46.0      256.0      252.0      501.0        1055.0   \n",
       "52440       scutum      136.0      316.0      123.0      232.0         807.0   \n",
       "13937  consultatio       33.0       97.0      213.0      189.0         532.0   \n",
       "24459       frenum       85.0      349.0       78.0       62.0         574.0   \n",
       "25758     globosus       49.0      211.0      264.0      242.0         766.0   \n",
       "16399   deformitas       26.0      186.0       62.0       88.0         362.0   \n",
       "\n",
       "       emlap in_lila_embeddings in_lasla in_operamaiora  \\\n",
       "10640   10.0               True     True           True   \n",
       "13750   10.0               True     True           True   \n",
       "25549   10.0              False    False          False   \n",
       "38245   10.0               True     True           True   \n",
       "52311   10.0              False    False          False   \n",
       "52440   10.0               True     True           True   \n",
       "13937   10.0               True     True           True   \n",
       "24459   10.0               True     True           True   \n",
       "25758   10.0              False    False          False   \n",
       "16399   10.0               True     True           True   \n",
       "\n",
       "                                                  transl  \n",
       "10640  chorus, choral passage in a play, dancing/sing...  \n",
       "13750                                                     \n",
       "25549                                                     \n",
       "38245                                     lend, exchange  \n",
       "52311                                           Scotland  \n",
       "52440                                             shield  \n",
       "13937  full/mature deliberation/consideration/discuss...  \n",
       "24459  bridle/harness/rein/bit, harnessed horses/team...  \n",
       "25758                                   round, spherical  \n",
       "16399  ugliness, deformity, blemish, disfigurement, d...  "
      ],
      "text/html": [
       "<div>\n",
       "<style scoped>\n",
       "    .dataframe tbody tr th:only-of-type {\n",
       "        vertical-align: middle;\n",
       "    }\n",
       "\n",
       "    .dataframe tbody tr th {\n",
       "        vertical-align: top;\n",
       "    }\n",
       "\n",
       "    .dataframe thead th {\n",
       "        text-align: right;\n",
       "    }\n",
       "</style>\n",
       "<table border=\"1\" class=\"dataframe\">\n",
       "  <thead>\n",
       "    <tr style=\"text-align: right;\">\n",
       "      <th></th>\n",
       "      <th>word</th>\n",
       "      <th>1501-1550</th>\n",
       "      <th>1551-1600</th>\n",
       "      <th>1601-1650</th>\n",
       "      <th>1651-1700</th>\n",
       "      <th>noscemus_sum</th>\n",
       "      <th>emlap</th>\n",
       "      <th>in_lila_embeddings</th>\n",
       "      <th>in_lasla</th>\n",
       "      <th>in_operamaiora</th>\n",
       "      <th>transl</th>\n",
       "    </tr>\n",
       "  </thead>\n",
       "  <tbody>\n",
       "    <tr>\n",
       "      <th>10640</th>\n",
       "      <td>chorus</td>\n",
       "      <td>216.0</td>\n",
       "      <td>250.0</td>\n",
       "      <td>251.0</td>\n",
       "      <td>312.0</td>\n",
       "      <td>1029.0</td>\n",
       "      <td>10.0</td>\n",
       "      <td>True</td>\n",
       "      <td>True</td>\n",
       "      <td>True</td>\n",
       "      <td>chorus, choral passage in a play, dancing/sing...</td>\n",
       "    </tr>\n",
       "    <tr>\n",
       "      <th>13750</th>\n",
       "      <td>conseruator</td>\n",
       "      <td>22.0</td>\n",
       "      <td>58.0</td>\n",
       "      <td>14.0</td>\n",
       "      <td>40.0</td>\n",
       "      <td>134.0</td>\n",
       "      <td>10.0</td>\n",
       "      <td>True</td>\n",
       "      <td>True</td>\n",
       "      <td>True</td>\n",
       "      <td></td>\n",
       "    </tr>\n",
       "    <tr>\n",
       "      <th>25549</th>\n",
       "      <td>ges</td>\n",
       "      <td>201.0</td>\n",
       "      <td>492.0</td>\n",
       "      <td>1023.0</td>\n",
       "      <td>281.0</td>\n",
       "      <td>1997.0</td>\n",
       "      <td>10.0</td>\n",
       "      <td>False</td>\n",
       "      <td>False</td>\n",
       "      <td>False</td>\n",
       "      <td></td>\n",
       "    </tr>\n",
       "    <tr>\n",
       "      <th>38245</th>\n",
       "      <td>mutuo</td>\n",
       "      <td>51.0</td>\n",
       "      <td>127.0</td>\n",
       "      <td>90.0</td>\n",
       "      <td>83.0</td>\n",
       "      <td>351.0</td>\n",
       "      <td>10.0</td>\n",
       "      <td>True</td>\n",
       "      <td>True</td>\n",
       "      <td>True</td>\n",
       "      <td>lend, exchange</td>\n",
       "    </tr>\n",
       "    <tr>\n",
       "      <th>52311</th>\n",
       "      <td>scotia</td>\n",
       "      <td>46.0</td>\n",
       "      <td>256.0</td>\n",
       "      <td>252.0</td>\n",
       "      <td>501.0</td>\n",
       "      <td>1055.0</td>\n",
       "      <td>10.0</td>\n",
       "      <td>False</td>\n",
       "      <td>False</td>\n",
       "      <td>False</td>\n",
       "      <td>Scotland</td>\n",
       "    </tr>\n",
       "    <tr>\n",
       "      <th>52440</th>\n",
       "      <td>scutum</td>\n",
       "      <td>136.0</td>\n",
       "      <td>316.0</td>\n",
       "      <td>123.0</td>\n",
       "      <td>232.0</td>\n",
       "      <td>807.0</td>\n",
       "      <td>10.0</td>\n",
       "      <td>True</td>\n",
       "      <td>True</td>\n",
       "      <td>True</td>\n",
       "      <td>shield</td>\n",
       "    </tr>\n",
       "    <tr>\n",
       "      <th>13937</th>\n",
       "      <td>consultatio</td>\n",
       "      <td>33.0</td>\n",
       "      <td>97.0</td>\n",
       "      <td>213.0</td>\n",
       "      <td>189.0</td>\n",
       "      <td>532.0</td>\n",
       "      <td>10.0</td>\n",
       "      <td>True</td>\n",
       "      <td>True</td>\n",
       "      <td>True</td>\n",
       "      <td>full/mature deliberation/consideration/discuss...</td>\n",
       "    </tr>\n",
       "    <tr>\n",
       "      <th>24459</th>\n",
       "      <td>frenum</td>\n",
       "      <td>85.0</td>\n",
       "      <td>349.0</td>\n",
       "      <td>78.0</td>\n",
       "      <td>62.0</td>\n",
       "      <td>574.0</td>\n",
       "      <td>10.0</td>\n",
       "      <td>True</td>\n",
       "      <td>True</td>\n",
       "      <td>True</td>\n",
       "      <td>bridle/harness/rein/bit, harnessed horses/team...</td>\n",
       "    </tr>\n",
       "    <tr>\n",
       "      <th>25758</th>\n",
       "      <td>globosus</td>\n",
       "      <td>49.0</td>\n",
       "      <td>211.0</td>\n",
       "      <td>264.0</td>\n",
       "      <td>242.0</td>\n",
       "      <td>766.0</td>\n",
       "      <td>10.0</td>\n",
       "      <td>False</td>\n",
       "      <td>False</td>\n",
       "      <td>False</td>\n",
       "      <td>round, spherical</td>\n",
       "    </tr>\n",
       "    <tr>\n",
       "      <th>16399</th>\n",
       "      <td>deformitas</td>\n",
       "      <td>26.0</td>\n",
       "      <td>186.0</td>\n",
       "      <td>62.0</td>\n",
       "      <td>88.0</td>\n",
       "      <td>362.0</td>\n",
       "      <td>10.0</td>\n",
       "      <td>True</td>\n",
       "      <td>True</td>\n",
       "      <td>True</td>\n",
       "      <td>ugliness, deformity, blemish, disfigurement, d...</td>\n",
       "    </tr>\n",
       "  </tbody>\n",
       "</table>\n",
       "</div>"
      ]
     },
     "execution_count": 13,
     "metadata": {},
     "output_type": "execute_result"
    }
   ],
   "execution_count": 13
  },
  {
   "metadata": {
    "ExecuteTime": {
     "end_time": "2025-04-10T07:30:05.184433Z",
     "start_time": "2025-04-10T07:30:05.179993Z"
    }
   },
   "cell_type": "code",
   "source": "len(filtered_vocab_df)",
   "id": "23cbad99ab8e598f",
   "outputs": [
    {
     "data": {
      "text/plain": [
       "4501"
      ]
     },
     "execution_count": 14,
     "metadata": {},
     "output_type": "execute_result"
    }
   ],
   "execution_count": 14
  },
  {
   "cell_type": "code",
   "id": "47d9a51d920d7982",
   "metadata": {
    "collapsed": false,
    "jupyter": {
     "outputs_hidden": false
    },
    "ExecuteTime": {
     "end_time": "2025-04-10T07:30:09.347511Z",
     "start_time": "2025-04-10T07:30:09.342527Z"
    }
   },
   "source": "vocab_freqs = filtered_vocab_df.set_index(\"word\")[\"emlap\"].to_dict()",
   "outputs": [],
   "execution_count": 15
  },
  {
   "cell_type": "markdown",
   "id": "647b565348777eb8",
   "metadata": {
    "collapsed": false,
    "jupyter": {
     "outputs_hidden": false
    }
   },
   "source": [
    "# FastText - development and testing"
   ]
  },
  {
   "cell_type": "code",
   "id": "7b4b216c-cadc-48d1-910f-1ca9330c8562",
   "metadata": {
    "ExecuteTime": {
     "end_time": "2025-04-10T07:30:16.877353Z",
     "start_time": "2025-04-10T07:30:16.871940Z"
    }
   },
   "source": [
    "# a genrator for iteration without flooding the CPU\n",
    "class SentsCorpus:\n",
    "    def __iter__(self):\n",
    "        source_path = \"/srv/data/tome/tome-corpus/sents_data_id_jsons_v3-0/\"\n",
    "        for id in ids:\n",
    "            f_sents_data = json.load(open(source_path + str(id) + \".json\", \"rb\"))\n",
    "            sents_n = len(f_sents_data)\n",
    "            tokens_n = 0\n",
    "            lemmata = []\n",
    "            for (doc_id, sent_id, sent_text, sent_data) in f_sents_data:\n",
    "                tokens_n += len(sent_data)\n",
    "                lemmasent = []\n",
    "                for wordform, lemma, tag, position, t_pages, t_textblocks in sent_data:\n",
    "                    if tag in [\"NOUN\", \"PROPN\", \"ADJ\", \"VERB\"]:\n",
    "                        lemmasent.append(lemma)\n",
    "                lemmasent = [re.sub(r\"\\W*|\\d*\", \"\", t) for t in lemmasent]\n",
    "                lemmasent = [l.lower() for l in lemmasent if len(l) > 2]\n",
    "                try:\n",
    "                    yield lemmasent\n",
    "                except:\n",
    "                    pass"
   ],
   "outputs": [],
   "execution_count": 16
  },
  {
   "cell_type": "code",
   "id": "2692044e0117bd93",
   "metadata": {
    "collapsed": false,
    "jupyter": {
     "outputs_hidden": false
    },
    "ExecuteTime": {
     "end_time": "2025-04-10T07:30:19.674556Z",
     "start_time": "2025-04-10T07:30:19.669056Z"
    }
   },
   "source": [
    "# test with a small corpus from one decade\n",
    "ids = emlap_metadata[\"No.\"]\n",
    "vocab_freqs = filtered_vocab_df.set_index(\"word\")[\"emlap\"].to_dict()\n",
    "corpus = SentsCorpus()"
   ],
   "outputs": [],
   "execution_count": 17
  },
  {
   "cell_type": "code",
   "id": "2d6c9ddd0849f254",
   "metadata": {
    "collapsed": false,
    "jupyter": {
     "outputs_hidden": false
    },
    "ExecuteTime": {
     "end_time": "2025-04-10T07:30:28.683290Z",
     "start_time": "2025-04-10T07:30:21.448855Z"
    }
   },
   "source": [
    "# how many sentences are there in the small corpus?\n",
    "len([s for s in corpus])"
   ],
   "outputs": [
    {
     "data": {
      "text/plain": [
       "220846"
      ]
     },
     "execution_count": 18,
     "metadata": {},
     "output_type": "execute_result"
    }
   ],
   "execution_count": 18
  },
  {
   "cell_type": "code",
   "id": "77674fba-0d2e-4676-8167-a9d343864627",
   "metadata": {
    "ExecuteTime": {
     "end_time": "2025-04-10T07:32:56.575248Z",
     "start_time": "2025-04-10T07:30:34.698791Z"
    }
   },
   "source": [
    "%%time\n",
    "# let's train the model\n",
    "model = FastText(vector_size=100, window=10, negative=25, ns_exponent=1, sg=1, epochs=15, workers=8, min_n=5)\n",
    "model.build_vocab_from_freq(word_freq=vocab_freqs)\n",
    "model.train(corpus, total_examples=len([s for s in corpus]), epochs=model.epochs)"
   ],
   "outputs": [
    {
     "name": "stdout",
     "output_type": "stream",
     "text": [
      "CPU times: user 6min 44s, sys: 5.41 s, total: 6min 49s\n",
      "Wall time: 2min 21s\n"
     ]
    },
    {
     "data": {
      "text/plain": [
       "(15403505, 22766685)"
      ]
     },
     "execution_count": 19,
     "metadata": {},
     "output_type": "execute_result"
    }
   ],
   "execution_count": 19
  },
  {
   "metadata": {
    "ExecuteTime": {
     "end_time": "2025-04-10T07:34:28.095183Z",
     "start_time": "2025-04-10T07:34:28.091123Z"
    }
   },
   "cell_type": "code",
   "source": [
    "target_path = \"/srv/data/tome/tome-corpus/vectors/\"\n",
    "try:\n",
    "    os.mkdir(target_path)\n",
    "except:\n",
    "    print(\"already exists\")\n",
    "    pass"
   ],
   "id": "262feb9c2e8d1b9e",
   "outputs": [],
   "execution_count": 22
  },
  {
   "metadata": {
    "ExecuteTime": {
     "end_time": "2025-04-10T07:34:29.360105Z",
     "start_time": "2025-04-10T07:34:28.939977Z"
    }
   },
   "cell_type": "code",
   "source": "model.wv.save(target_path + \"emlap_v1.wv\")",
   "id": "bb444c6332fc9d85",
   "outputs": [],
   "execution_count": 23
  },
  {
   "metadata": {
    "ExecuteTime": {
     "end_time": "2025-04-10T07:34:31.103177Z",
     "start_time": "2025-04-10T07:34:31.094862Z"
    }
   },
   "cell_type": "code",
   "source": [
    "# most similar words to harmonia\n",
    "model.wv.most_similar(\"aqua\")"
   ],
   "id": "25fd3c898e3de92",
   "outputs": [
    {
     "data": {
      "text/plain": [
       "[('acetum', 0.6966753005981445),\n",
       " ('qui', 0.6826157569885254),\n",
       " ('oleum', 0.6821884512901306),\n",
       " ('destillo', 0.6779437065124512),\n",
       " ('liquor', 0.6778212189674377),\n",
       " ('balneum', 0.6569727063179016),\n",
       " ('stillo', 0.6359564661979675),\n",
       " ('fontanus', 0.6272138357162476),\n",
       " ('sal', 0.6266695261001587),\n",
       " ('abluo', 0.6263033151626587)]"
      ]
     },
     "execution_count": 24,
     "metadata": {},
     "output_type": "execute_result"
    }
   ],
   "execution_count": 24
  },
  {
   "metadata": {
    "ExecuteTime": {
     "end_time": "2025-04-10T07:34:58.361649Z",
     "start_time": "2025-04-10T07:34:56.776273Z"
    }
   },
   "cell_type": "code",
   "source": [
    "import copy\n",
    "model_emlap = copy.deepcopy(model)"
   ],
   "id": "3e7b7646975a3dba",
   "outputs": [],
   "execution_count": 25
  },
  {
   "metadata": {
    "ExecuteTime": {
     "end_time": "2025-04-10T07:34:58.593849Z",
     "start_time": "2025-04-10T07:34:58.365122Z"
    }
   },
   "cell_type": "code",
   "source": [
    "emlap_word_vectors = model_emlap.wv.vectors\n",
    "emlap_vocabulary = model_emlap.wv.index_to_key\n",
    "emlap_kv = KeyedVectors(vector_size=emlap_word_vectors.shape[1])\n",
    "    # Fill the keyed vectors\n",
    "for word, vector in zip(emlap_vocabulary, emlap_word_vectors):\n",
    "    emlap_kv.add_vector(word, vector)"
   ],
   "id": "3656e9147b76356c",
   "outputs": [],
   "execution_count": 26
  },
  {
   "metadata": {
    "ExecuteTime": {
     "end_time": "2025-04-11T21:37:15.097525Z",
     "start_time": "2025-04-11T21:37:15.091240Z"
    }
   },
   "cell_type": "code",
   "source": "emlap_kv.most_similar(\"aqua\")",
   "id": "78fc11dd8818efbc",
   "outputs": [
    {
     "data": {
      "text/plain": [
       "[('acetum', 0.6966753005981445),\n",
       " ('qui', 0.6826157569885254),\n",
       " ('oleum', 0.6821884512901306),\n",
       " ('destillo', 0.6779437065124512),\n",
       " ('liquor', 0.6778212189674377),\n",
       " ('balneum', 0.6569727063179016),\n",
       " ('stillo', 0.6359564661979675),\n",
       " ('fontanus', 0.6272138357162476),\n",
       " ('sal', 0.6266695261001587),\n",
       " ('abluo', 0.6263033151626587)]"
      ]
     },
     "execution_count": 40,
     "metadata": {},
     "output_type": "execute_result"
    }
   ],
   "execution_count": 40
  },
  {
   "cell_type": "markdown",
   "id": "aa4f5001ff9752b1",
   "metadata": {},
   "source": "# Adding to comp vectors dict"
  },
  {
   "metadata": {
    "ExecuteTime": {
     "end_time": "2025-04-11T21:37:21.660864Z",
     "start_time": "2025-04-11T21:37:21.615134Z"
    }
   },
   "cell_type": "code",
   "source": [
    "with open(\"/srv/data/tome/noscemus/vectors/vectors_dict_comp.pkl\", \"rb\") as file:\n",
    "    vectors_dict_comp = pickle.load(file)"
   ],
   "id": "e8f108bb3dde45d1",
   "outputs": [],
   "execution_count": 41
  },
  {
   "metadata": {
    "ExecuteTime": {
     "end_time": "2025-04-11T21:37:24.358834Z",
     "start_time": "2025-04-11T21:37:24.355574Z"
    }
   },
   "cell_type": "code",
   "source": "vectors_dict_comp[\"EMLAP\"] = emlap_kv",
   "id": "89b6039992c282b8",
   "outputs": [],
   "execution_count": 42
  },
  {
   "metadata": {
    "ExecuteTime": {
     "end_time": "2025-04-11T21:37:28.262783Z",
     "start_time": "2025-04-11T21:37:28.256659Z"
    }
   },
   "cell_type": "code",
   "source": "vectors_dict_comp[\"NOSCEMUS - Biology\"].most_similar(\"equus\")[:10]",
   "id": "a2563f639834831e",
   "outputs": [
    {
     "data": {
      "text/plain": [
       "[('asinus', 0.7495403289794922),\n",
       " ('mulus', 0.7450479865074158),\n",
       " ('bos', 0.687466561794281),\n",
       " ('iumentum', 0.685393214225769),\n",
       " ('currus', 0.6534374356269836),\n",
       " ('camelus', 0.63750821352005),\n",
       " ('eques', 0.6206961274147034),\n",
       " ('ungula', 0.6147962808609009),\n",
       " ('ceruus', 0.576291024684906),\n",
       " ('ueho', 0.5743056535720825)]"
      ]
     },
     "execution_count": 43,
     "metadata": {},
     "output_type": "execute_result"
    }
   ],
   "execution_count": 43
  },
  {
   "cell_type": "code",
   "id": "91a783ac9d1e3d03",
   "metadata": {
    "ExecuteTime": {
     "end_time": "2025-04-11T21:37:34.855244Z",
     "start_time": "2025-04-11T21:37:34.789214Z"
    }
   },
   "source": [
    "with open(\"/srv/data/tome/noscemus/vectors/vectors_dict_comp.pkl\", \"wb\") as file:\n",
    "    pickle.dump(vectors_dict_comp, file)"
   ],
   "outputs": [],
   "execution_count": 44
  },
  {
   "metadata": {
    "ExecuteTime": {
     "end_time": "2025-04-11T21:46:14.355179Z",
     "start_time": "2025-04-11T21:46:14.293207Z"
    }
   },
   "cell_type": "code",
   "source": [
    "with open(\"/srv/webserver/apps/iweems_app/data/vectors_dict_comp_v0-3.pkl\", \"wb\") as file:\n",
    "    pickle.dump(vectors_dict_comp, file)"
   ],
   "id": "9913e724806a2f7",
   "outputs": [],
   "execution_count": 46
  },
  {
   "metadata": {
    "ExecuteTime": {
     "end_time": "2025-04-11T21:46:27.598416Z",
     "start_time": "2025-04-11T21:46:27.593963Z"
    }
   },
   "cell_type": "code",
   "source": "vectors_dict_comp.keys()",
   "id": "c55443c09adc219b",
   "outputs": [
    {
     "data": {
      "text/plain": [
       "dict_keys(['NOSCEMUS - 1501-1550', 'NOSCEMUS - 1551-1600', 'NOSCEMUS - 1601-1650', 'NOSCEMUS - 1651-1700', 'NOSCEMUS - Alchemy/Chemistry', 'NOSCEMUS - Astronomy/Astrology/Cosmography', 'NOSCEMUS - Biology', 'NOSCEMUS - Geography/Cartography', 'NOSCEMUS - Mathematics', 'NOSCEMUS - Medicine', 'NOSCEMUS - Meteorology/Earth sciences', 'NOSCEMUS - Physics', 'LASLA', 'Opera Maiora', 'EMLAP'])"
      ]
     },
     "execution_count": 47,
     "metadata": {},
     "output_type": "execute_result"
    }
   ],
   "execution_count": 47
  },
  {
   "metadata": {},
   "cell_type": "code",
   "outputs": [],
   "execution_count": null,
   "source": "",
   "id": "4c4ef30788fb7109"
  }
 ],
 "metadata": {
  "kernelspec": {
   "display_name": "latin_global_kernel",
   "language": "python",
   "name": "latin_global_kernel"
  },
  "language_info": {
   "codemirror_mode": {
    "name": "ipython",
    "version": 3
   },
   "file_extension": ".py",
   "mimetype": "text/x-python",
   "name": "python",
   "nbconvert_exporter": "python",
   "pygments_lexer": "ipython3",
   "version": "3.10.12"
  }
 },
 "nbformat": 4,
 "nbformat_minor": 5
}
