{
 "cells": [
  {
   "cell_type": "markdown",
   "metadata": {},
   "source": [
    "# Description\n",
    "\n",
    "In this notebook, we extract all metadata information about individual works in noscemus from https://wiki.uibk.ac.at/noscemus/Category:Works\n",
    "\n",
    "* INPUT: webpages of individual works on https://wiki.uibk.ac.at/noscemus/Category:Works\n",
    "* OUTPUT: tabular data in one CSV file: `../data/noscemus_metadata.csv`"
   ]
  },
  {
   "cell_type": "code",
   "execution_count": 2,
   "metadata": {
    "ExecuteTime": {
     "end_time": "2023-11-10T08:14:50.153926Z",
     "start_time": "2023-11-10T08:14:50.095862Z"
    }
   },
   "outputs": [],
   "source": [
    "import re\n",
    "import requests\n",
    "import pandas as pd\n",
    "from bs4 import BeautifulSoup"
   ]
  },
  {
   "cell_type": "code",
   "execution_count": 7,
   "metadata": {
    "ExecuteTime": {
     "end_time": "2023-11-10T08:16:04.679578Z",
     "start_time": "2023-11-10T08:16:04.134354Z"
    }
   },
   "outputs": [
    {
     "name": "stdout",
     "output_type": "stream",
     "text": [
      "CPU times: user 27 ms, sys: 3.43 ms, total: 30.4 ms\n",
      "Wall time: 545 ms\n"
     ]
    }
   ],
   "source": [
    "%%time\n",
    "# Web test, extraction of clomun headers and dataframe extraction. (also checks time of execution. time for whole corpus ~=\"time\"*994)\n",
    "url = \"https://wiki.uibk.ac.at/noscemus/A_Latin_Letter_containing_some_Animadversions_upon_Mr._Isaac_Newton,_his_Theory_of_Light\"\n",
    "response = requests.get(url)\n",
    "\n",
    "if response.status_code == 200:\n",
    "    soup = BeautifulSoup(response.content, \"html.parser\")\n",
    "    table = soup.find(\"table\", class_=\"wikitable\")\n",
    "    #data = [item.get_text(strip=True) for item in table.find_all(\"td\")]\n",
    "    indices = [item.get_text(strip=True) for item in table.find_all(\"th\")]\n",
    "    metadata_table = pd.DataFrame([indices])\n",
    "else:\n",
    "    print(\"Request error, response code is:\", response.status_code)"
   ]
  },
  {
   "cell_type": "code",
   "execution_count": 23,
   "metadata": {
    "ExecuteTime": {
     "end_time": "2023-11-10T09:08:58.912054Z",
     "start_time": "2023-11-10T09:08:56.393035Z"
    }
   },
   "outputs": [],
   "source": [
    "# creation of list of works of noscemus based on which i am iterating throught the corpus\n",
    "url = [\"https://wiki.uibk.ac.at/noscemus/_-_/index.php?title=Category:Works&pageuntil=De+curandis+vulneribus+sclopettorum#mw-pages\", \"https://wiki.uibk.ac.at/noscemus/_-_/index.php?title=Category:Works&pagefrom=De+curandis+vulneribus+sclopettorum#mw-pages\", \"https://wiki.uibk.ac.at/noscemus/_-_/index.php?title=Category:Works&pagefrom=Discursus+astronomicus+novissimus#mw-pages\", \"https://wiki.uibk.ac.at/noscemus/_-_/index.php?title=Category:Works&pagefrom=In+opus+revolutionum+Nicolai+Copernici+Torunnaei+dialogus#mw-pages\", \"https://wiki.uibk.ac.at/noscemus/_-_/index.php?title=Category:Works&pagefrom=Petri+Nonii+Salaciensis+opera#mw-pages\",]\n",
    "seznam =[]\n",
    "for item in url:\n",
    "    response = requests.get(item)\n",
    "    soup = BeautifulSoup(response.content, \"html.parser\")\n",
    "    tag = soup.find(\"div\", class_=\"mw-category\")\n",
    "    seznam.extend(re.findall(\"(?<=href=\\\").*(?=\\\" title)\", str(tag)))"
   ]
  },
  {
   "cell_type": "code",
   "execution_count": 95,
   "metadata": {
    "ExecuteTime": {
     "end_time": "2023-11-10T10:47:17.175259Z",
     "start_time": "2023-11-10T10:47:16.359719Z"
    },
    "collapsed": false,
    "jupyter": {
     "outputs_hidden": false
    }
   },
   "outputs": [],
   "source": [
    "url = \"https://wiki.uibk.ac.at\"+seznam[150]\n",
    "response = requests.get(url)\n",
    "soup = BeautifulSoup(response.content, \"html.parser\")\n",
    "table = soup.find(\"table\", class_=\"wikitable\")"
   ]
  },
  {
   "cell_type": "code",
   "execution_count": 104,
   "metadata": {
    "ExecuteTime": {
     "end_time": "2023-11-10T10:49:38.400794Z",
     "start_time": "2023-11-10T10:49:38.396635Z"
    },
    "collapsed": false,
    "jupyter": {
     "outputs_hidden": false
    }
   },
   "outputs": [
    {
     "data": {
      "text/plain": [
       "<table class=\"wikitable\">\n",
       "<tr>\n",
       "<th> Author\n",
       "</th>\n",
       "<td> <a href=\"/noscemus/Remus,_Georg\" title=\"Remus, Georg\">Remus, Georg</a>, <a href=\"/noscemus/Wolff,_Christian_von\" title=\"Wolff, Christian von\">Wolff, Christian von</a>\n",
       "</td></tr>\n",
       "<tr>\n",
       "<th> Full title\n",
       "</th>\n",
       "<td> Consideratio physico-mathematica hiemis proxime praeterlapsae quam rectore magnicientissimo serenissimo principe ac domino DN. Philippo Wilhelmo, principe Borussiae, marchione Brandenburgico, caetera, praeside Christiano Wolfio, mathematum Professore Publico Ordinario, ad diem XIII Junii anno MDCCIX. horis antemeridianis in auditorio majori publico eruditorum examini submittet Georgius Remus, Gedansis.\n",
       "</td></tr>\n",
       "<tr>\n",
       "<th> Year\n",
       "</th>\n",
       "<td> 1709\n",
       "</td></tr>\n",
       "<tr>\n",
       "<th> Place\n",
       "</th>\n",
       "<td> Halle (Saale)\n",
       "</td></tr>\n",
       "<tr>\n",
       "<th> Publisher/Printer\n",
       "</th>\n",
       "<td> Zeidler, Andreas\n",
       "</td></tr>\n",
       "<tr>\n",
       "<th> Era\n",
       "</th>\n",
       "<td> 18th century\n",
       "</td></tr>\n",
       "<tr>\n",
       "<th> Form/Genre\n",
       "</th>\n",
       "<td> Dissertation\n",
       "</td></tr>\n",
       "<tr>\n",
       "<th> Discipline/Content\n",
       "</th>\n",
       "<td> Physics, Meteorology/Earth sciences\n",
       "</td></tr>\n",
       "<tr>\n",
       "<th colspan=\"2\" style=\"text-align:left\">Digital copies\n",
       "</th></tr>\n",
       "<tr>\n",
       "<td>Original\n",
       "</td>\n",
       "<td> <a class=\"external text\" href=\"http://nbn-resolving.de/urn:nbn:de:gbv:3:1-262590\" rel=\"nofollow\">Consideratio physico-mathematica hiemis proxime praeterlapsae (Halle 1709)</a> (Digitale Bibliothek Uni Halle)\n",
       "</td></tr>\n",
       "<tr>\n",
       "<td>Digital sourcebook\n",
       "</td>\n",
       "<td> <a class=\"external text\" href=\"https://transkribus.eu/r/noscemus/#/documents/691456\" rel=\"nofollow\">691456</a>\n",
       "</td></tr>\n",
       "<tr>\n",
       "<th> Description\n",
       "</th>\n",
       "<td> The <i>Consideratio</i> is a dissertation presented under the <i>praeses</i> Christoph Wolff in Halle on the topic of ‘The Great Frost’ (‘der Jahrtausendwinter’; ‘le Grand Hiver’) of 1708/ 1709. The extraordinary cold of this winter, acknowledged still today as the coldest winter in the last half-millennium (<a href=\"/noscemus/Pain_2009\" title=\"Pain 2009\">Pain 2009</a>), affected life severely across Europe but was particularly hard felt by populations across France and Germany (<a href=\"/noscemus/Assaf_2009\" title=\"Assaf 2009\">Assaf 2009</a>). The phenomenon was of course, then, of great interest to early modern natural philosophers.\n",
       "<p>After a short preface of two pages, Remus’ dissertation is divided principally into two sections. The first (pp. 1–29) offers a ‘history’ of the Frost, in which Remus’ five periods of the event are described and his records of daily temperatures are listed. Remus also deals with some methodological issues related to accurate temperature measurement and he describes the results of the season’s windy conditions before moving on to the winter’s effects on bodies of water, plant and human / animal life he witnessed. The second section of the work (pp. 29–51) offers Remus’ thoughts on the potential causes of this especially harsh winter. He deals first with the reasons for winter in general, treating the variation in distance between the sun and earth at earth’s apohelion and perihelion, the tilt of the earth’s axis and the potential effect of sun spots. He rejects, however, these phenomena as causes of this winter’s harshness. Instead, he finds its cause in the particularly windy and overcast conditions of the season (p. 41). He then goes on to relate his cause to the conditions in each of the five periods he has identified.\n",
       "</p><p>Remus’ dissertation became the principal source for the Royal Society’s account of the Frost by William Derham (<a href=\"/noscemus/Derham_1708/09\" title=\"Derham 1708/09\">Derham 1708/09</a>). Derham offered his own account of the conditions in Britain, supplemented with information out of numerous letters from British colleagues before moving on to the rest of Europe, where Remus’ text (given to Derham by John Woodward) is analyzed in detail. Though entitled, presented (with, for example, the frequently standard smaller chapter-division marks ‘§’) and published in the typical format of the German <i>dissertatio</i> from this period, the work reads rather like a short monograph.\n",
       "</p>\n",
       "</td></tr>\n",
       "<tr>\n",
       "<th> References\n",
       "</th>\n",
       "<td> <a href=\"/noscemus/Assaf_2009\" title=\"Assaf 2009\">Assaf 2009</a>\n",
       "<p><a href=\"/noscemus/Derham_1708/09\" title=\"Derham 1708/09\">Derham 1708/09</a>\n",
       "</p><p><a href=\"/noscemus/Pain_2009\" title=\"Pain 2009\">Pain 2009</a>\n",
       "</p>\n",
       "</td></tr>\n",
       "<tr>\n",
       "<th> Cited in\n",
       "</th>\n",
       "<td><ul id=\"mw-whatlinkshere-list\"><li><a href=\"/noscemus/Remus,_Georg\" title=\"Remus, Georg\">Remus, Georg</a>  ‎ <span class=\"mw-whatlinkshere-tools\">(<a href=\"/noscemus/_-_/index.php?title=Special:WhatLinksHere&amp;target=Remus%2C+Georg\" title=\"Special:WhatLinksHere\">← links</a>)</span></li>\n",
       "<li><a href=\"/noscemus/Wolff,_Christian_von\" title=\"Wolff, Christian von\">Wolff, Christian von</a>  ‎ <span class=\"mw-whatlinkshere-tools\">(<a href=\"/noscemus/_-_/index.php?title=Special:WhatLinksHere&amp;target=Wolff%2C+Christian+von\" title=\"Special:WhatLinksHere\">← links</a>)</span></li>\n",
       "</ul>\n",
       "</td></tr>\n",
       "<tr>\n",
       "<th> How to cite this entry\n",
       "</th>\n",
       "<td> Remus, Georg; Wolff, Christian von: <i>Consideratio physico-mathematica hiemis proxime praeterlapsae</i>, in: Noscemus Wiki, URL: <a class=\"external free\" href=\"http://wiki.uibk.ac.at/noscemus/Consideratio_physico-mathematica_hiemis_proxime_praeterlapsae\" rel=\"nofollow\">http://wiki.uibk.ac.at/noscemus/Consideratio_physico-mathematica_hiemis_proxime_praeterlapsae</a> (last revision: 01.08.2021).\n",
       "</td></tr>\n",
       "<tr class=\"onlyforeditors\">\n",
       "<th colspan=\"2\" style=\"text-align:left\">Internal notes\n",
       "</th></tr>\n",
       "<tr class=\"onlyforeditors\">\n",
       "<td>Internal notes\n",
       "</td>\n",
       "<td>\n",
       "</td></tr>\n",
       "<tr class=\"onlyforeditors\">\n",
       "<td>Of interest to\n",
       "</td>\n",
       "<td> WB\n",
       "</td></tr>\n",
       "<tr class=\"onlyforeditors\">\n",
       "<td>Transkribus text available\n",
       "</td>\n",
       "<td> Yes\n",
       "</td></tr>\n",
       "<tr class=\"onlyforeditors\">\n",
       "<td>Written by\n",
       "</td>\n",
       "<td> WB\n",
       "</td></tr></table>"
      ]
     },
     "execution_count": 104,
     "metadata": {},
     "output_type": "execute_result"
    }
   ],
   "source": [
    "table"
   ]
  },
  {
   "cell_type": "code",
   "execution_count": 112,
   "metadata": {
    "ExecuteTime": {
     "end_time": "2023-11-10T10:53:13.256478Z",
     "start_time": "2023-11-10T10:53:13.242456Z"
    },
    "collapsed": false,
    "jupyter": {
     "outputs_hidden": false
    }
   },
   "outputs": [],
   "source": [
    "def get_wikientry_data(table):\n",
    "    data = {}\n",
    "    for tr in table.find_all(\"tr\"):\n",
    "        if 'onlyforeditors' in tr.get('class', []):\n",
    "            try:\n",
    "                tds = tr.find_all(\"td\")\n",
    "                data[tds[0].get_text(strip=True)] = tds[1].get_text(strip=True)\n",
    "            except:\n",
    "                pass\n",
    "        else:\n",
    "            try:\n",
    "                data[tr.th.get_text(strip=True)] = tr.td.get_text(strip=True)\n",
    "            except:\n",
    "                try:\n",
    "                    tds = tr.find_all(\"td\")\n",
    "                    data[tds[0].get_text(strip=True)] = tds[1].get_text(strip=True)                \n",
    "                except:\n",
    "                    pass\n",
    "    return data"
   ]
  },
  {
   "cell_type": "code",
   "execution_count": 113,
   "metadata": {
    "ExecuteTime": {
     "end_time": "2023-11-10T10:53:13.943739Z",
     "start_time": "2023-11-10T10:53:13.933562Z"
    },
    "collapsed": false,
    "jupyter": {
     "outputs_hidden": false
    }
   },
   "outputs": [],
   "source": [
    "data = get_wikientry_data(table)"
   ]
  },
  {
   "cell_type": "code",
   "execution_count": 114,
   "metadata": {
    "ExecuteTime": {
     "end_time": "2023-11-10T10:53:14.475533Z",
     "start_time": "2023-11-10T10:53:14.467270Z"
    },
    "collapsed": false,
    "jupyter": {
     "outputs_hidden": false
    }
   },
   "outputs": [
    {
     "data": {
      "text/plain": [
       "{'Author': 'Remus, Georg,Wolff, Christian von',\n",
       " 'Full title': 'Consideratio physico-mathematica hiemis proxime praeterlapsae quam rectore magnicientissimo serenissimo principe ac domino DN. Philippo Wilhelmo, principe Borussiae, marchione Brandenburgico, caetera, praeside Christiano Wolfio, mathematum Professore Publico Ordinario, ad diem XIII Junii anno MDCCIX. horis antemeridianis in auditorio majori publico eruditorum examini submittet Georgius Remus, Gedansis.',\n",
       " 'Year': '1709',\n",
       " 'Place': 'Halle (Saale)',\n",
       " 'Publisher/Printer': 'Zeidler, Andreas',\n",
       " 'Era': '18th century',\n",
       " 'Form/Genre': 'Dissertation',\n",
       " 'Discipline/Content': 'Physics, Meteorology/Earth sciences',\n",
       " 'Original': 'Consideratio physico-mathematica hiemis proxime praeterlapsae (Halle 1709)(Digitale Bibliothek Uni Halle)',\n",
       " 'Digital sourcebook': '691456',\n",
       " 'Description': 'TheConsideratiois a dissertation presented under thepraesesChristoph Wolff in Halle on the topic of ‘The Great Frost’ (‘der Jahrtausendwinter’; ‘le Grand Hiver’) of 1708/ 1709. The extraordinary cold of this winter, acknowledged still today as the coldest winter in the last half-millennium (Pain 2009), affected life severely across Europe but was particularly hard felt by populations across France and Germany (Assaf 2009). The phenomenon was of course, then, of great interest to early modern natural philosophers.After a short preface of two pages, Remus’ dissertation is divided principally into two sections. The first (pp. 1–29) offers a ‘history’ of the Frost, in which Remus’ five periods of the event are described and his records of daily temperatures are listed. Remus also deals with some methodological issues related to accurate temperature measurement and he describes the results of the season’s windy conditions before moving on to the winter’s effects on bodies of water, plant and human / animal life he witnessed. The second section of the work (pp. 29–51) offers Remus’ thoughts on the potential causes of this especially harsh winter. He deals first with the reasons for winter in general, treating the variation in distance between the sun and earth at earth’s apohelion and perihelion, the tilt of the earth’s axis and the potential effect of sun spots. He rejects, however, these phenomena as causes of this winter’s harshness. Instead, he finds its cause in the particularly windy and overcast conditions of the season (p. 41). He then goes on to relate his cause to the conditions in each of the five periods he has identified.Remus’ dissertation became the principal source for the Royal Society’s account of the Frost by William Derham (Derham 1708/09). Derham offered his own account of the conditions in Britain, supplemented with information out of numerous letters from British colleagues before moving on to the rest of Europe, where Remus’ text (given to Derham by John Woodward) is analyzed in detail. Though entitled, presented (with, for example, the frequently standard smaller chapter-division marks ‘§’) and published in the typical format of the Germandissertatiofrom this period, the work reads rather like a short monograph.',\n",
       " 'References': 'Assaf 2009Derham 1708/09Pain 2009',\n",
       " 'Cited in': 'Remus, Georg\\u200e(← links)Wolff, Christian von\\u200e(← links)',\n",
       " 'How to cite this entry': 'Remus, Georg; Wolff, Christian von:Consideratio physico-mathematica hiemis proxime praeterlapsae, in: Noscemus Wiki, URL:http://wiki.uibk.ac.at/noscemus/Consideratio_physico-mathematica_hiemis_proxime_praeterlapsae(last revision: 01.08.2021).',\n",
       " 'Internal notes': '',\n",
       " 'Of interest to': 'WB',\n",
       " 'Transkribus text available': 'Yes',\n",
       " 'Written by': 'WB'}"
      ]
     },
     "execution_count": 114,
     "metadata": {},
     "output_type": "execute_result"
    }
   ],
   "source": [
    "data"
   ]
  },
  {
   "cell_type": "code",
   "execution_count": 115,
   "metadata": {
    "ExecuteTime": {
     "end_time": "2023-11-10T11:00:15.125281Z",
     "start_time": "2023-11-10T10:53:36.731578Z"
    }
   },
   "outputs": [
    {
     "name": "stdout",
     "output_type": "stream",
     "text": [
      "CPU times: user 43.2 s, sys: 1.41 s, total: 44.7 s\n",
      "Wall time: 6min 38s\n"
     ]
    }
   ],
   "source": [
    "%%time\n",
    "#writing metadata from every work in noscemus corpus into pd.dataframe \"metadata_table\"\n",
    "all_data = []\n",
    "for page in seznam:\n",
    "    url = \"https://wiki.uibk.ac.at\"+page\n",
    "    response = requests.get(url)\n",
    "    soup = BeautifulSoup(response.content, \"html.parser\")\n",
    "    table = soup.find(\"table\", class_=\"wikitable\")\n",
    "    data = get_wikientry_data(table)\n",
    "    all_data.append(data)"
   ]
  },
  {
   "cell_type": "code",
   "execution_count": 116,
   "metadata": {
    "ExecuteTime": {
     "end_time": "2023-11-10T11:00:15.135833Z",
     "start_time": "2023-11-10T11:00:15.130482Z"
    },
    "collapsed": false,
    "jupyter": {
     "outputs_hidden": false
    }
   },
   "outputs": [],
   "source": [
    "metadata_table = pd.DataFrame(all_data)"
   ]
  },
  {
   "cell_type": "code",
   "execution_count": 117,
   "metadata": {
    "ExecuteTime": {
     "end_time": "2023-11-10T11:00:15.200860Z",
     "start_time": "2023-11-10T11:00:15.136774Z"
    }
   },
   "outputs": [],
   "source": [
    "#export dataframe into .csv file. Please insert your desired file location.\n",
    "metadata_table.to_csv(\"../data/metadata_table.csv\", index=False)"
   ]
  },
  {
   "cell_type": "code",
   "execution_count": null,
   "metadata": {
    "collapsed": false,
    "jupyter": {
     "outputs_hidden": false
    }
   },
   "outputs": [],
   "source": []
  }
 ],
 "metadata": {
  "kernelspec": {
   "display_name": "latin_global_kernel",
   "language": "python",
   "name": "latin_global_kernel"
  },
  "language_info": {
   "codemirror_mode": {
    "name": "ipython",
    "version": 3
   },
   "file_extension": ".py",
   "mimetype": "text/x-python",
   "name": "python",
   "nbconvert_exporter": "python",
   "pygments_lexer": "ipython3",
   "version": "3.10.12"
  }
 },
 "nbformat": 4,
 "nbformat_minor": 4
}
