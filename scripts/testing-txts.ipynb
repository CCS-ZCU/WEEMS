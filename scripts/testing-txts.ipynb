{
 "cells": [
  {
   "cell_type": "code",
   "execution_count": null,
   "outputs": [],
   "source": [],
   "metadata": {
    "collapsed": false
   },
   "id": "cd3d84fff1ec9394"
  },
  {
   "cell_type": "code",
   "execution_count": 18,
   "id": "initial_id",
   "metadata": {
    "collapsed": true,
    "ExecuteTime": {
     "end_time": "2023-10-04T09:34:35.501154Z",
     "start_time": "2023-10-04T09:34:35.477342Z"
    }
   },
   "outputs": [],
   "source": [
    "import os\n",
    "import re"
   ]
  },
  {
   "cell_type": "code",
   "execution_count": 26,
   "outputs": [
    {
     "name": "stdout",
     "output_type": "stream",
     "text": [
      "Requirement already satisfied: cltk in /opt/homebrew/Caskroom/miniconda/base/lib/python3.9/site-packages (1.1.6)\r\n",
      "Requirement already satisfied: PyYAML<7.0.0,>=6.0.0 in /opt/homebrew/Caskroom/miniconda/base/lib/python3.9/site-packages (from cltk) (6.0)\r\n",
      "Requirement already satisfied: boltons<22.0.0,>=21.0.0 in /opt/homebrew/Caskroom/miniconda/base/lib/python3.9/site-packages (from cltk) (21.0.0)\r\n",
      "Requirement already satisfied: gensim<5.0.0,>=4.1.2 in /opt/homebrew/Caskroom/miniconda/base/lib/python3.9/site-packages (from cltk) (4.2.0)\r\n",
      "Requirement already satisfied: gitpython<4.0,>=3.0 in /opt/homebrew/Caskroom/miniconda/base/lib/python3.9/site-packages (from cltk) (3.1.29)\r\n",
      "Requirement already satisfied: greek-accentuation<2.0.0,>=1.2.0 in /opt/homebrew/Caskroom/miniconda/base/lib/python3.9/site-packages (from cltk) (1.2.0)\r\n",
      "Requirement already satisfied: nltk<4.0,>=3.7 in /opt/homebrew/Caskroom/miniconda/base/lib/python3.9/site-packages (from cltk) (3.7)\r\n",
      "Requirement already satisfied: python-Levenshtein<0.13.0,>=0.12.0 in /opt/homebrew/Caskroom/miniconda/base/lib/python3.9/site-packages (from cltk) (0.12.2)\r\n",
      "Requirement already satisfied: requests<3.0.0,>=2.22.0 in /opt/homebrew/Caskroom/miniconda/base/lib/python3.9/site-packages (from cltk) (2.28.2)\r\n",
      "Requirement already satisfied: scikit-learn<2.0.0,>=1.0.2 in /opt/homebrew/Caskroom/miniconda/base/lib/python3.9/site-packages (from cltk) (1.1.3)\r\n",
      "Requirement already satisfied: scipy<2.0.0,>=1.8.0 in /opt/homebrew/Caskroom/miniconda/base/lib/python3.9/site-packages (from cltk) (1.10.1)\r\n",
      "Requirement already satisfied: spacy<4.0.0,>=3.2.4 in /opt/homebrew/Caskroom/miniconda/base/lib/python3.9/site-packages (from cltk) (3.4.3)\r\n",
      "Requirement already satisfied: stanza<2.0.0,>=1.3.0 in /opt/homebrew/Caskroom/miniconda/base/lib/python3.9/site-packages (from cltk) (1.4.2)\r\n",
      "Requirement already satisfied: stringcase<2.0,>=1.2 in /opt/homebrew/Caskroom/miniconda/base/lib/python3.9/site-packages (from cltk) (1.2.0)\r\n",
      "Requirement already satisfied: tqdm<5.0.0,>=4.41.1 in /opt/homebrew/Caskroom/miniconda/base/lib/python3.9/site-packages (from cltk) (4.64.1)\r\n",
      "Requirement already satisfied: numpy>=1.17.0 in /opt/homebrew/Caskroom/miniconda/base/lib/python3.9/site-packages (from gensim<5.0.0,>=4.1.2->cltk) (1.24.2)\r\n",
      "Requirement already satisfied: smart-open>=1.8.1 in /opt/homebrew/Caskroom/miniconda/base/lib/python3.9/site-packages (from gensim<5.0.0,>=4.1.2->cltk) (5.2.1)\r\n",
      "Requirement already satisfied: gitdb<5,>=4.0.1 in /opt/homebrew/Caskroom/miniconda/base/lib/python3.9/site-packages (from gitpython<4.0,>=3.0->cltk) (4.0.10)\r\n",
      "Requirement already satisfied: click in /opt/homebrew/Caskroom/miniconda/base/lib/python3.9/site-packages (from nltk<4.0,>=3.7->cltk) (8.1.3)\r\n",
      "Requirement already satisfied: joblib in /opt/homebrew/Caskroom/miniconda/base/lib/python3.9/site-packages (from nltk<4.0,>=3.7->cltk) (1.2.0)\r\n",
      "Requirement already satisfied: regex>=2021.8.3 in /opt/homebrew/Caskroom/miniconda/base/lib/python3.9/site-packages (from nltk<4.0,>=3.7->cltk) (2022.10.31)\r\n",
      "Requirement already satisfied: setuptools in /opt/homebrew/Caskroom/miniconda/base/lib/python3.9/site-packages (from python-Levenshtein<0.13.0,>=0.12.0->cltk) (67.4.0)\r\n",
      "Requirement already satisfied: charset-normalizer<4,>=2 in /opt/homebrew/Caskroom/miniconda/base/lib/python3.9/site-packages (from requests<3.0.0,>=2.22.0->cltk) (3.0.1)\r\n",
      "Requirement already satisfied: idna<4,>=2.5 in /opt/homebrew/Caskroom/miniconda/base/lib/python3.9/site-packages (from requests<3.0.0,>=2.22.0->cltk) (3.4)\r\n",
      "Requirement already satisfied: urllib3<1.27,>=1.21.1 in /opt/homebrew/Caskroom/miniconda/base/lib/python3.9/site-packages (from requests<3.0.0,>=2.22.0->cltk) (1.26.14)\r\n",
      "Requirement already satisfied: certifi>=2017.4.17 in /opt/homebrew/Caskroom/miniconda/base/lib/python3.9/site-packages (from requests<3.0.0,>=2.22.0->cltk) (2022.12.7)\r\n",
      "Requirement already satisfied: threadpoolctl>=2.0.0 in /opt/homebrew/Caskroom/miniconda/base/lib/python3.9/site-packages (from scikit-learn<2.0.0,>=1.0.2->cltk) (3.1.0)\r\n",
      "Requirement already satisfied: spacy-legacy<3.1.0,>=3.0.10 in /opt/homebrew/Caskroom/miniconda/base/lib/python3.9/site-packages (from spacy<4.0.0,>=3.2.4->cltk) (3.0.10)\r\n",
      "Requirement already satisfied: spacy-loggers<2.0.0,>=1.0.0 in /opt/homebrew/Caskroom/miniconda/base/lib/python3.9/site-packages (from spacy<4.0.0,>=3.2.4->cltk) (1.0.3)\r\n",
      "Requirement already satisfied: murmurhash<1.1.0,>=0.28.0 in /opt/homebrew/Caskroom/miniconda/base/lib/python3.9/site-packages (from spacy<4.0.0,>=3.2.4->cltk) (1.0.9)\r\n",
      "Requirement already satisfied: cymem<2.1.0,>=2.0.2 in /opt/homebrew/Caskroom/miniconda/base/lib/python3.9/site-packages (from spacy<4.0.0,>=3.2.4->cltk) (2.0.7)\r\n",
      "Requirement already satisfied: preshed<3.1.0,>=3.0.2 in /opt/homebrew/Caskroom/miniconda/base/lib/python3.9/site-packages (from spacy<4.0.0,>=3.2.4->cltk) (3.0.8)\r\n",
      "Requirement already satisfied: thinc<8.2.0,>=8.1.0 in /opt/homebrew/Caskroom/miniconda/base/lib/python3.9/site-packages (from spacy<4.0.0,>=3.2.4->cltk) (8.1.5)\r\n",
      "Requirement already satisfied: wasabi<1.1.0,>=0.9.1 in /opt/homebrew/Caskroom/miniconda/base/lib/python3.9/site-packages (from spacy<4.0.0,>=3.2.4->cltk) (0.10.1)\r\n",
      "Requirement already satisfied: srsly<3.0.0,>=2.4.3 in /opt/homebrew/Caskroom/miniconda/base/lib/python3.9/site-packages (from spacy<4.0.0,>=3.2.4->cltk) (2.4.5)\r\n",
      "Requirement already satisfied: catalogue<2.1.0,>=2.0.6 in /opt/homebrew/Caskroom/miniconda/base/lib/python3.9/site-packages (from spacy<4.0.0,>=3.2.4->cltk) (2.0.8)\r\n",
      "Requirement already satisfied: typer<0.8.0,>=0.3.0 in /opt/homebrew/Caskroom/miniconda/base/lib/python3.9/site-packages (from spacy<4.0.0,>=3.2.4->cltk) (0.7.0)\r\n",
      "Requirement already satisfied: pathy>=0.3.5 in /opt/homebrew/Caskroom/miniconda/base/lib/python3.9/site-packages (from spacy<4.0.0,>=3.2.4->cltk) (0.10.1)\r\n",
      "Requirement already satisfied: pydantic!=1.8,!=1.8.1,<1.11.0,>=1.7.4 in /opt/homebrew/Caskroom/miniconda/base/lib/python3.9/site-packages (from spacy<4.0.0,>=3.2.4->cltk) (1.10.2)\r\n",
      "Requirement already satisfied: jinja2 in /opt/homebrew/Caskroom/miniconda/base/lib/python3.9/site-packages (from spacy<4.0.0,>=3.2.4->cltk) (3.1.2)\r\n",
      "Requirement already satisfied: packaging>=20.0 in /opt/homebrew/Caskroom/miniconda/base/lib/python3.9/site-packages (from spacy<4.0.0,>=3.2.4->cltk) (23.0)\r\n",
      "Requirement already satisfied: langcodes<4.0.0,>=3.2.0 in /opt/homebrew/Caskroom/miniconda/base/lib/python3.9/site-packages (from spacy<4.0.0,>=3.2.4->cltk) (3.3.0)\r\n",
      "Requirement already satisfied: emoji in /opt/homebrew/Caskroom/miniconda/base/lib/python3.9/site-packages (from stanza<2.0.0,>=1.3.0->cltk) (2.2.0)\r\n",
      "Requirement already satisfied: protobuf in /opt/homebrew/Caskroom/miniconda/base/lib/python3.9/site-packages (from stanza<2.0.0,>=1.3.0->cltk) (3.19.6)\r\n",
      "Requirement already satisfied: six in /opt/homebrew/Caskroom/miniconda/base/lib/python3.9/site-packages (from stanza<2.0.0,>=1.3.0->cltk) (1.16.0)\r\n",
      "Requirement already satisfied: torch>=1.3.0 in /opt/homebrew/Caskroom/miniconda/base/lib/python3.9/site-packages (from stanza<2.0.0,>=1.3.0->cltk) (1.13.0)\r\n",
      "Requirement already satisfied: smmap<6,>=3.0.1 in /opt/homebrew/Caskroom/miniconda/base/lib/python3.9/site-packages (from gitdb<5,>=4.0.1->gitpython<4.0,>=3.0->cltk) (5.0.0)\r\n",
      "Requirement already satisfied: typing-extensions>=4.1.0 in /opt/homebrew/Caskroom/miniconda/base/lib/python3.9/site-packages (from pydantic!=1.8,!=1.8.1,<1.11.0,>=1.7.4->spacy<4.0.0,>=3.2.4->cltk) (4.4.0)\r\n",
      "Requirement already satisfied: blis<0.8.0,>=0.7.8 in /opt/homebrew/Caskroom/miniconda/base/lib/python3.9/site-packages (from thinc<8.2.0,>=8.1.0->spacy<4.0.0,>=3.2.4->cltk) (0.7.9)\r\n",
      "Requirement already satisfied: confection<1.0.0,>=0.0.1 in /opt/homebrew/Caskroom/miniconda/base/lib/python3.9/site-packages (from thinc<8.2.0,>=8.1.0->spacy<4.0.0,>=3.2.4->cltk) (0.0.3)\r\n",
      "Requirement already satisfied: MarkupSafe>=2.0 in /opt/homebrew/Caskroom/miniconda/base/lib/python3.9/site-packages (from jinja2->spacy<4.0.0,>=3.2.4->cltk) (2.1.2)\r\n"
     ]
    }
   ],
   "source": [
    "!pip install cltk"
   ],
   "metadata": {
    "collapsed": false,
    "ExecuteTime": {
     "end_time": "2023-10-04T09:42:38.316615Z",
     "start_time": "2023-10-04T09:42:36.745183Z"
    }
   },
   "id": "fa3b81781c594118"
  },
  {
   "cell_type": "code",
   "execution_count": 30,
   "outputs": [
    {
     "data": {
      "text/plain": "['lat_text_perseus',\n 'lat_treebank_perseus',\n 'lat_text_latin_library',\n 'phi5',\n 'phi7',\n 'latin_proper_names_cltk',\n 'lat_models_cltk',\n 'latin_pos_lemmata_cltk',\n 'latin_treebank_index_thomisticus',\n 'latin_lexica_perseus',\n 'latin_training_set_sentence_cltk',\n 'latin_word2vec_cltk',\n 'latin_text_antique_digiliblt',\n 'latin_text_corpus_grammaticorum_latinorum',\n 'latin_text_poeti_ditalia',\n 'lat_text_tesserae',\n 'cltk_lat_lewis_elementary_lexicon']"
     },
     "execution_count": 30,
     "metadata": {},
     "output_type": "execute_result"
    }
   ],
   "source": [
    "from cltk.data.fetch import FetchCorpus\n",
    "corpus_downloader = FetchCorpus(language=\"lat\")\n",
    "corpus_downloader.list_corpora"
   ],
   "metadata": {
    "collapsed": false,
    "ExecuteTime": {
     "end_time": "2023-10-04T09:46:37.163990Z",
     "start_time": "2023-10-04T09:46:37.143827Z"
    }
   },
   "id": "93e49a4795521915"
  },
  {
   "cell_type": "code",
   "execution_count": 31,
   "outputs": [
    {
     "ename": "ImportError",
     "evalue": "cannot import name util",
     "output_type": "error",
     "traceback": [
      "\u001B[0;31m---------------------------------------------------------------------------\u001B[0m",
      "\u001B[0;31mImportError\u001B[0m                               Traceback (most recent call last)",
      "Cell \u001B[0;32mIn[31], line 1\u001B[0m\n\u001B[0;32m----> 1\u001B[0m \u001B[38;5;28;01mimport\u001B[39;00m \u001B[38;5;21;01mcltk\u001B[39;00m\n",
      "File \u001B[0;32m/opt/homebrew/Caskroom/miniconda/base/lib/python3.9/site-packages/cltk/__init__.py:5\u001B[0m\n\u001B[1;32m      1\u001B[0m \u001B[38;5;124;03m\"\"\"Init module for importing the CLTK class.\"\"\"\u001B[39;00m\n\u001B[1;32m      3\u001B[0m \u001B[38;5;28;01mimport\u001B[39;00m \u001B[38;5;21;01mpkg_resources\u001B[39;00m\n\u001B[0;32m----> 5\u001B[0m \u001B[38;5;28;01mfrom\u001B[39;00m \u001B[38;5;21;01m.\u001B[39;00m\u001B[38;5;21;01mnlp\u001B[39;00m \u001B[38;5;28;01mimport\u001B[39;00m NLP\n\u001B[1;32m      7\u001B[0m __version__ \u001B[38;5;241m=\u001B[39m curr_version \u001B[38;5;241m=\u001B[39m pkg_resources\u001B[38;5;241m.\u001B[39mget_distribution(\n\u001B[1;32m      8\u001B[0m     \u001B[38;5;124m\"\u001B[39m\u001B[38;5;124mcltk\u001B[39m\u001B[38;5;124m\"\u001B[39m\n\u001B[1;32m      9\u001B[0m )  \u001B[38;5;66;03m# type: pkg_resources.EggInfoDistribution\u001B[39;00m\n",
      "File \u001B[0;32m/opt/homebrew/Caskroom/miniconda/base/lib/python3.9/site-packages/cltk/nlp.py:9\u001B[0m\n\u001B[1;32m      7\u001B[0m \u001B[38;5;28;01mfrom\u001B[39;00m \u001B[38;5;21;01mcltk\u001B[39;00m\u001B[38;5;21;01m.\u001B[39;00m\u001B[38;5;21;01mcore\u001B[39;00m\u001B[38;5;21;01m.\u001B[39;00m\u001B[38;5;21;01mdata_types\u001B[39;00m \u001B[38;5;28;01mimport\u001B[39;00m Doc, Language, Pipeline, Process\n\u001B[1;32m      8\u001B[0m \u001B[38;5;28;01mfrom\u001B[39;00m \u001B[38;5;21;01mcltk\u001B[39;00m\u001B[38;5;21;01m.\u001B[39;00m\u001B[38;5;21;01mcore\u001B[39;00m\u001B[38;5;21;01m.\u001B[39;00m\u001B[38;5;21;01mexceptions\u001B[39;00m \u001B[38;5;28;01mimport\u001B[39;00m UnimplementedAlgorithmError\n\u001B[0;32m----> 9\u001B[0m \u001B[38;5;28;01mfrom\u001B[39;00m \u001B[38;5;21;01mcltk\u001B[39;00m\u001B[38;5;21;01m.\u001B[39;00m\u001B[38;5;21;01mlanguages\u001B[39;00m\u001B[38;5;21;01m.\u001B[39;00m\u001B[38;5;21;01mpipelines\u001B[39;00m \u001B[38;5;28;01mimport\u001B[39;00m (\n\u001B[1;32m     10\u001B[0m     AkkadianPipeline,\n\u001B[1;32m     11\u001B[0m     ArabicPipeline,\n\u001B[1;32m     12\u001B[0m     AramaicPipeline,\n\u001B[1;32m     13\u001B[0m     ChinesePipeline,\n\u001B[1;32m     14\u001B[0m     CopticPipeline,\n\u001B[1;32m     15\u001B[0m     GothicPipeline,\n\u001B[1;32m     16\u001B[0m     GreekPipeline,\n\u001B[1;32m     17\u001B[0m     HindiPipeline,\n\u001B[1;32m     18\u001B[0m     LatinPipeline,\n\u001B[1;32m     19\u001B[0m     MiddleEnglishPipeline,\n\u001B[1;32m     20\u001B[0m     MiddleFrenchPipeline,\n\u001B[1;32m     21\u001B[0m     MiddleHighGermanPipeline,\n\u001B[1;32m     22\u001B[0m     OCSPipeline,\n\u001B[1;32m     23\u001B[0m     OldEnglishPipeline,\n\u001B[1;32m     24\u001B[0m     OldFrenchPipeline,\n\u001B[1;32m     25\u001B[0m     OldNorsePipeline,\n\u001B[1;32m     26\u001B[0m     PaliPipeline,\n\u001B[1;32m     27\u001B[0m     PanjabiPipeline,\n\u001B[1;32m     28\u001B[0m     SanskritPipeline,\n\u001B[1;32m     29\u001B[0m )\n\u001B[1;32m     30\u001B[0m \u001B[38;5;28;01mfrom\u001B[39;00m \u001B[38;5;21;01mcltk\u001B[39;00m\u001B[38;5;21;01m.\u001B[39;00m\u001B[38;5;21;01mlanguages\u001B[39;00m\u001B[38;5;21;01m.\u001B[39;00m\u001B[38;5;21;01mutils\u001B[39;00m \u001B[38;5;28;01mimport\u001B[39;00m get_lang\n\u001B[1;32m     32\u001B[0m iso_to_pipeline \u001B[38;5;241m=\u001B[39m {\n\u001B[1;32m     33\u001B[0m     \u001B[38;5;124m\"\u001B[39m\u001B[38;5;124makk\u001B[39m\u001B[38;5;124m\"\u001B[39m: AkkadianPipeline,\n\u001B[1;32m     34\u001B[0m     \u001B[38;5;124m\"\u001B[39m\u001B[38;5;124mang\u001B[39m\u001B[38;5;124m\"\u001B[39m: OldEnglishPipeline,\n\u001B[0;32m   (...)\u001B[0m\n\u001B[1;32m     51\u001B[0m     \u001B[38;5;124m\"\u001B[39m\u001B[38;5;124msan\u001B[39m\u001B[38;5;124m\"\u001B[39m: SanskritPipeline,\n\u001B[1;32m     52\u001B[0m }\n",
      "File \u001B[0;32m/opt/homebrew/Caskroom/miniconda/base/lib/python3.9/site-packages/cltk/languages/pipelines.py:23\u001B[0m\n\u001B[1;32m     13\u001B[0m \u001B[38;5;28;01mfrom\u001B[39;00m \u001B[38;5;21;01mcltk\u001B[39;00m\u001B[38;5;21;01m.\u001B[39;00m\u001B[38;5;21;01mcore\u001B[39;00m\u001B[38;5;21;01m.\u001B[39;00m\u001B[38;5;21;01mdata_types\u001B[39;00m \u001B[38;5;28;01mimport\u001B[39;00m Language, Pipeline, Process\n\u001B[1;32m     14\u001B[0m \u001B[38;5;28;01mfrom\u001B[39;00m \u001B[38;5;21;01mcltk\u001B[39;00m\u001B[38;5;21;01m.\u001B[39;00m\u001B[38;5;21;01mdependency\u001B[39;00m\u001B[38;5;21;01m.\u001B[39;00m\u001B[38;5;21;01mprocesses\u001B[39;00m \u001B[38;5;28;01mimport\u001B[39;00m (\n\u001B[1;32m     15\u001B[0m     ChineseStanzaProcess,\n\u001B[1;32m     16\u001B[0m     CopticStanzaProcess,\n\u001B[0;32m   (...)\u001B[0m\n\u001B[1;32m     21\u001B[0m     OldFrenchStanzaProcess,\n\u001B[1;32m     22\u001B[0m )\n\u001B[0;32m---> 23\u001B[0m \u001B[38;5;28;01mfrom\u001B[39;00m \u001B[38;5;21;01mcltk\u001B[39;00m\u001B[38;5;21;01m.\u001B[39;00m\u001B[38;5;21;01membeddings\u001B[39;00m\u001B[38;5;21;01m.\u001B[39;00m\u001B[38;5;21;01mprocesses\u001B[39;00m \u001B[38;5;28;01mimport\u001B[39;00m (\n\u001B[1;32m     24\u001B[0m     ArabicEmbeddingsProcess,\n\u001B[1;32m     25\u001B[0m     AramaicEmbeddingsProcess,\n\u001B[1;32m     26\u001B[0m     GothicEmbeddingsProcess,\n\u001B[1;32m     27\u001B[0m     GreekEmbeddingsProcess,\n\u001B[1;32m     28\u001B[0m     LatinEmbeddingsProcess,\n\u001B[1;32m     29\u001B[0m     MiddleEnglishEmbeddingsProcess,\n\u001B[1;32m     30\u001B[0m     OldEnglishEmbeddingsProcess,\n\u001B[1;32m     31\u001B[0m     PaliEmbeddingsProcess,\n\u001B[1;32m     32\u001B[0m     SanskritEmbeddingsProcess,\n\u001B[1;32m     33\u001B[0m )\n\u001B[1;32m     34\u001B[0m \u001B[38;5;28;01mfrom\u001B[39;00m \u001B[38;5;21;01mcltk\u001B[39;00m\u001B[38;5;21;01m.\u001B[39;00m\u001B[38;5;21;01mlanguages\u001B[39;00m\u001B[38;5;21;01m.\u001B[39;00m\u001B[38;5;21;01mutils\u001B[39;00m \u001B[38;5;28;01mimport\u001B[39;00m get_lang\n\u001B[1;32m     35\u001B[0m \u001B[38;5;28;01mfrom\u001B[39;00m \u001B[38;5;21;01mcltk\u001B[39;00m\u001B[38;5;21;01m.\u001B[39;00m\u001B[38;5;21;01mlemmatize\u001B[39;00m\u001B[38;5;21;01m.\u001B[39;00m\u001B[38;5;21;01mprocesses\u001B[39;00m \u001B[38;5;28;01mimport\u001B[39;00m (\n\u001B[1;32m     36\u001B[0m     GreekLemmatizationProcess,\n\u001B[1;32m     37\u001B[0m     LatinLemmatizationProcess,\n\u001B[1;32m     38\u001B[0m     OldEnglishLemmatizationProcess,\n\u001B[1;32m     39\u001B[0m     OldFrenchLemmatizationProcess,\n\u001B[1;32m     40\u001B[0m )\n",
      "File \u001B[0;32m/opt/homebrew/Caskroom/miniconda/base/lib/python3.9/site-packages/cltk/embeddings/__init__.py:4\u001B[0m\n\u001B[1;32m      1\u001B[0m \u001B[38;5;124;03m\"\"\"Init for ``cltk.embeddings``.\"\"\"\u001B[39;00m\n\u001B[1;32m      3\u001B[0m \u001B[38;5;28;01mfrom\u001B[39;00m \u001B[38;5;21;01m.\u001B[39;00m\u001B[38;5;21;01membeddings\u001B[39;00m \u001B[38;5;28;01mimport\u001B[39;00m \u001B[38;5;241m*\u001B[39m\n\u001B[0;32m----> 4\u001B[0m \u001B[38;5;28;01mfrom\u001B[39;00m \u001B[38;5;21;01m.\u001B[39;00m\u001B[38;5;21;01mprocesses\u001B[39;00m \u001B[38;5;28;01mimport\u001B[39;00m \u001B[38;5;241m*\u001B[39m\n",
      "File \u001B[0;32m/opt/homebrew/Caskroom/miniconda/base/lib/python3.9/site-packages/cltk/embeddings/processes.py:21\u001B[0m\n\u001B[1;32m     15\u001B[0m \u001B[38;5;28;01mfrom\u001B[39;00m \u001B[38;5;21;01mcltk\u001B[39;00m\u001B[38;5;21;01m.\u001B[39;00m\u001B[38;5;21;01membeddings\u001B[39;00m\u001B[38;5;21;01m.\u001B[39;00m\u001B[38;5;21;01membeddings\u001B[39;00m \u001B[38;5;28;01mimport\u001B[39;00m (\n\u001B[1;32m     16\u001B[0m     CLTKWord2VecEmbeddings,\n\u001B[1;32m     17\u001B[0m     FastTextEmbeddings,\n\u001B[1;32m     18\u001B[0m     Word2VecEmbeddings,\n\u001B[1;32m     19\u001B[0m )\n\u001B[1;32m     20\u001B[0m \u001B[38;5;28;01mfrom\u001B[39;00m \u001B[38;5;21;01mcltk\u001B[39;00m\u001B[38;5;21;01m.\u001B[39;00m\u001B[38;5;21;01membeddings\u001B[39;00m\u001B[38;5;21;01m.\u001B[39;00m\u001B[38;5;21;01msentence\u001B[39;00m \u001B[38;5;28;01mimport\u001B[39;00m get_sent_embeddings\n\u001B[0;32m---> 21\u001B[0m \u001B[38;5;28;01mfrom\u001B[39;00m \u001B[38;5;21;01mcltk\u001B[39;00m\u001B[38;5;21;01m.\u001B[39;00m\u001B[38;5;21;01mner\u001B[39;00m\u001B[38;5;21;01m.\u001B[39;00m\u001B[38;5;21;01mspacy_ner\u001B[39;00m \u001B[38;5;28;01mimport\u001B[39;00m download_prompt\n\u001B[1;32m     22\u001B[0m \u001B[38;5;28;01mfrom\u001B[39;00m \u001B[38;5;21;01mcltk\u001B[39;00m\u001B[38;5;21;01m.\u001B[39;00m\u001B[38;5;21;01mutils\u001B[39;00m \u001B[38;5;28;01mimport\u001B[39;00m CLTK_DATA_DIR\n\u001B[1;32m     23\u001B[0m \u001B[38;5;28;01mfrom\u001B[39;00m \u001B[38;5;21;01mcltk\u001B[39;00m\u001B[38;5;21;01m.\u001B[39;00m\u001B[38;5;21;01mutils\u001B[39;00m\u001B[38;5;21;01m.\u001B[39;00m\u001B[38;5;21;01mfile_operations\u001B[39;00m \u001B[38;5;28;01mimport\u001B[39;00m open_pickle\n",
      "File \u001B[0;32m/opt/homebrew/Caskroom/miniconda/base/lib/python3.9/site-packages/cltk/ner/spacy_ner.py:7\u001B[0m\n\u001B[1;32m      4\u001B[0m \u001B[38;5;28;01mimport\u001B[39;00m \u001B[38;5;21;01mos\u001B[39;00m\n\u001B[1;32m      5\u001B[0m \u001B[38;5;28;01mfrom\u001B[39;00m \u001B[38;5;21;01mtyping\u001B[39;00m \u001B[38;5;28;01mimport\u001B[39;00m List, Union\n\u001B[0;32m----> 7\u001B[0m \u001B[38;5;28;01mimport\u001B[39;00m \u001B[38;5;21;01mspacy\u001B[39;00m\n\u001B[1;32m      8\u001B[0m \u001B[38;5;28;01mfrom\u001B[39;00m \u001B[38;5;21;01mspacy\u001B[39;00m\u001B[38;5;21;01m.\u001B[39;00m\u001B[38;5;21;01mtokens\u001B[39;00m \u001B[38;5;28;01mimport\u001B[39;00m Doc, Token\n\u001B[1;32m      9\u001B[0m \u001B[38;5;28;01mfrom\u001B[39;00m \u001B[38;5;21;01mspacy\u001B[39;00m\u001B[38;5;21;01m.\u001B[39;00m\u001B[38;5;21;01mutil\u001B[39;00m \u001B[38;5;28;01mimport\u001B[39;00m DummyTokenizer\n",
      "File \u001B[0;32m/opt/homebrew/Caskroom/miniconda/base/lib/python3.9/site-packages/spacy/__init__.py:14\u001B[0m\n\u001B[1;32m     11\u001B[0m \u001B[38;5;28;01mfrom\u001B[39;00m \u001B[38;5;21;01mthinc\u001B[39;00m\u001B[38;5;21;01m.\u001B[39;00m\u001B[38;5;21;01mapi\u001B[39;00m \u001B[38;5;28;01mimport\u001B[39;00m prefer_gpu, require_gpu, require_cpu  \u001B[38;5;66;03m# noqa: F401\u001B[39;00m\n\u001B[1;32m     12\u001B[0m \u001B[38;5;28;01mfrom\u001B[39;00m \u001B[38;5;21;01mthinc\u001B[39;00m\u001B[38;5;21;01m.\u001B[39;00m\u001B[38;5;21;01mapi\u001B[39;00m \u001B[38;5;28;01mimport\u001B[39;00m Config\n\u001B[0;32m---> 14\u001B[0m \u001B[38;5;28;01mfrom\u001B[39;00m \u001B[38;5;21;01m.\u001B[39;00m \u001B[38;5;28;01mimport\u001B[39;00m pipeline  \u001B[38;5;66;03m# noqa: F401\u001B[39;00m\n\u001B[1;32m     15\u001B[0m \u001B[38;5;28;01mfrom\u001B[39;00m \u001B[38;5;21;01m.\u001B[39;00m\u001B[38;5;21;01mcli\u001B[39;00m\u001B[38;5;21;01m.\u001B[39;00m\u001B[38;5;21;01minfo\u001B[39;00m \u001B[38;5;28;01mimport\u001B[39;00m info  \u001B[38;5;66;03m# noqa: F401\u001B[39;00m\n\u001B[1;32m     16\u001B[0m \u001B[38;5;28;01mfrom\u001B[39;00m \u001B[38;5;21;01m.\u001B[39;00m\u001B[38;5;21;01mglossary\u001B[39;00m \u001B[38;5;28;01mimport\u001B[39;00m explain  \u001B[38;5;66;03m# noqa: F401\u001B[39;00m\n",
      "File \u001B[0;32m/opt/homebrew/Caskroom/miniconda/base/lib/python3.9/site-packages/spacy/pipeline/__init__.py:1\u001B[0m\n\u001B[0;32m----> 1\u001B[0m \u001B[38;5;28;01mfrom\u001B[39;00m \u001B[38;5;21;01m.\u001B[39;00m\u001B[38;5;21;01mattributeruler\u001B[39;00m \u001B[38;5;28;01mimport\u001B[39;00m AttributeRuler\n\u001B[1;32m      2\u001B[0m \u001B[38;5;28;01mfrom\u001B[39;00m \u001B[38;5;21;01m.\u001B[39;00m\u001B[38;5;21;01mdep_parser\u001B[39;00m \u001B[38;5;28;01mimport\u001B[39;00m DependencyParser\n\u001B[1;32m      3\u001B[0m \u001B[38;5;28;01mfrom\u001B[39;00m \u001B[38;5;21;01m.\u001B[39;00m\u001B[38;5;21;01medit_tree_lemmatizer\u001B[39;00m \u001B[38;5;28;01mimport\u001B[39;00m EditTreeLemmatizer\n",
      "File \u001B[0;32m/opt/homebrew/Caskroom/miniconda/base/lib/python3.9/site-packages/spacy/pipeline/attributeruler.py:6\u001B[0m\n\u001B[1;32m      3\u001B[0m \u001B[38;5;28;01mimport\u001B[39;00m \u001B[38;5;21;01msrsly\u001B[39;00m\n\u001B[1;32m      4\u001B[0m \u001B[38;5;28;01mfrom\u001B[39;00m \u001B[38;5;21;01mpathlib\u001B[39;00m \u001B[38;5;28;01mimport\u001B[39;00m Path\n\u001B[0;32m----> 6\u001B[0m \u001B[38;5;28;01mfrom\u001B[39;00m \u001B[38;5;21;01m.\u001B[39;00m\u001B[38;5;21;01mpipe\u001B[39;00m \u001B[38;5;28;01mimport\u001B[39;00m Pipe\n\u001B[1;32m      7\u001B[0m \u001B[38;5;28;01mfrom\u001B[39;00m \u001B[38;5;21;01m.\u001B[39;00m\u001B[38;5;21;01m.\u001B[39;00m\u001B[38;5;21;01merrors\u001B[39;00m \u001B[38;5;28;01mimport\u001B[39;00m Errors\n\u001B[1;32m      8\u001B[0m \u001B[38;5;28;01mfrom\u001B[39;00m \u001B[38;5;21;01m.\u001B[39;00m\u001B[38;5;21;01m.\u001B[39;00m\u001B[38;5;21;01mtraining\u001B[39;00m \u001B[38;5;28;01mimport\u001B[39;00m Example\n",
      "File \u001B[0;32m/opt/homebrew/Caskroom/miniconda/base/lib/python3.9/site-packages/spacy/pipeline/pipe.pyx:1\u001B[0m, in \u001B[0;36minit spacy.pipeline.pipe\u001B[0;34m()\u001B[0m\n",
      "File \u001B[0;32m/opt/homebrew/Caskroom/miniconda/base/lib/python3.9/site-packages/spacy/vocab.pyx:1\u001B[0m, in \u001B[0;36minit spacy.vocab\u001B[0;34m()\u001B[0m\n",
      "File \u001B[0;32m/opt/homebrew/Caskroom/miniconda/base/lib/python3.9/site-packages/spacy/tokens/__init__.py:1\u001B[0m\n\u001B[0;32m----> 1\u001B[0m \u001B[38;5;28;01mfrom\u001B[39;00m \u001B[38;5;21;01m.\u001B[39;00m\u001B[38;5;21;01mdoc\u001B[39;00m \u001B[38;5;28;01mimport\u001B[39;00m Doc\n\u001B[1;32m      2\u001B[0m \u001B[38;5;28;01mfrom\u001B[39;00m \u001B[38;5;21;01m.\u001B[39;00m\u001B[38;5;21;01mtoken\u001B[39;00m \u001B[38;5;28;01mimport\u001B[39;00m Token\n\u001B[1;32m      3\u001B[0m \u001B[38;5;28;01mfrom\u001B[39;00m \u001B[38;5;21;01m.\u001B[39;00m\u001B[38;5;21;01mspan\u001B[39;00m \u001B[38;5;28;01mimport\u001B[39;00m Span\n",
      "File \u001B[0;32m/opt/homebrew/Caskroom/miniconda/base/lib/python3.9/site-packages/spacy/tokens/doc.pyx:34\u001B[0m, in \u001B[0;36minit spacy.tokens.doc\u001B[0;34m()\u001B[0m\n",
      "\u001B[0;31mImportError\u001B[0m: cannot import name util"
     ]
    }
   ],
   "source": [
    "import cltk"
   ],
   "metadata": {
    "collapsed": false,
    "ExecuteTime": {
     "end_time": "2023-10-04T09:46:47.843260Z",
     "start_time": "2023-10-04T09:46:47.677083Z"
    }
   },
   "id": "113678af6824959b"
  },
  {
   "cell_type": "code",
   "execution_count": 4,
   "outputs": [],
   "source": [
    "corpus_path = \"../data/testing-minicorpus/\""
   ],
   "metadata": {
    "collapsed": false,
    "ExecuteTime": {
     "end_time": "2023-10-04T09:25:11.535057Z",
     "start_time": "2023-10-04T09:25:11.523819Z"
    }
   },
   "id": "a09f89f1d646e880"
  },
  {
   "cell_type": "code",
   "execution_count": 13,
   "outputs": [
    {
     "data": {
      "text/plain": "['Zwinger,_Theodor_-_In_Artem_medicinalem_Galeni_tabulae_et_commentarii__Basel_1561_pdf.docx',\n 'Libavius,_Andreas_-_Alchemia_Libavii__Frankfurt_am_Main_1597.txt',\n 'Cesi,_Bernardo_-_Mineralogia__Lyon_1636.txt',\n 'Lhuyd,_Edward_-_Epistola_de_fossilium_marinorum_origine_ad_Joannem_Raium__London_1699.txt',\n 'Agricola,_Georg_-_Bermannus__Basel_1530.txt',\n 'Sturm,_Johann_Christoph_&_Lochner,_Jacob_Hieronymus_-_De_terrae-motibus__Altdorf_1670.txt']"
     },
     "execution_count": 13,
     "metadata": {},
     "output_type": "execute_result"
    }
   ],
   "source": [
    "#list first 10 files within the directory\n",
    "os.listdir(corpus_path)[:10]"
   ],
   "metadata": {
    "collapsed": false,
    "ExecuteTime": {
     "end_time": "2023-10-04T09:30:08.391962Z",
     "start_time": "2023-10-04T09:30:08.384460Z"
    }
   },
   "id": "1a159af1ed513e21"
  },
  {
   "cell_type": "code",
   "execution_count": 14,
   "outputs": [],
   "source": [
    "# make a list of all textual content from the text files\n",
    "texts_list = []\n",
    "for fn in os.listdir(corpus_path):\n",
    "    if \".txt\" in fn:\n",
    "        text = open(corpus_path + fn, \"r\").read()\n",
    "        texts_list.append(text)"
   ],
   "metadata": {
    "collapsed": false,
    "ExecuteTime": {
     "end_time": "2023-10-04T09:31:03.722392Z",
     "start_time": "2023-10-04T09:31:03.702864Z"
    }
   },
   "id": "5d0fb79b8c8d5c73"
  },
  {
   "cell_type": "code",
   "execution_count": 15,
   "outputs": [
    {
     "data": {
      "text/plain": "'D. O. M. A.\\nALCHEMIA.\\nANDREAE LI¬\\nBAVII MED. D. POET.\\nPHYSICI ROTEMBVRG.\\noperâ\\nE DISPERSIS PASSIM OPTIMORVM AVTO¬\\nrum, veterum & recentium exemplis potissimum, tum etiam prae¬\\nceptis quibusdam operosè'"
     },
     "execution_count": 15,
     "metadata": {},
     "output_type": "execute_result"
    }
   ],
   "source": [
    "# look at first 200 characters within the first file\n",
    "texts_list[0][:200]"
   ],
   "metadata": {
    "collapsed": false,
    "ExecuteTime": {
     "end_time": "2023-10-04T09:31:23.015361Z",
     "start_time": "2023-10-04T09:31:23.008894Z"
    }
   },
   "id": "565b1c7fb4000efc"
  },
  {
   "cell_type": "code",
   "execution_count": 16,
   "outputs": [],
   "source": [
    "test_text = texts_list[0]"
   ],
   "metadata": {
    "collapsed": false,
    "ExecuteTime": {
     "end_time": "2023-10-04T09:33:59.668364Z",
     "start_time": "2023-10-04T09:33:59.666054Z"
    }
   },
   "id": "8198341459996e98"
  },
  {
   "cell_type": "code",
   "execution_count": 19,
   "outputs": [
    {
     "name": "stdout",
     "output_type": "stream",
     "text": [
      "['D', 'O', 'M', 'A', 'ALCHEMIA', 'ANDREAE', 'LI', 'BAVII', 'MED', 'D', 'POET', 'PHYSICI', 'ROTEMBVRG', 'operâ', 'E', 'DISPERSIS', 'PASSIM', 'OPTIMORVM', 'AVTO', 'rum', 'veterum', '', 'recentium', 'exemplis', 'potissimum', 'tum', 'etiam', 'prae', 'ceptis', 'quibusdam', 'operosè', 'collecta', 'adhibitisque', 'ratione', '', 'ex', 'perientia', 'quanta', 'potuit', 'esse', 'methodo', 'accura', 'tâ', 'explicata', '', 'In', 'integrum', 'corpus', 'redacta', 'Accesserunt', 'Tractatus', 'nonnulli', 'Physici', 'Chymici', 'item', 'methodicè', 'ab', 'eodem', 'autore', 'explicati', 'quorum', 'titulos', 'versa', 'pagella', 'exhibet', 'Sunt', 'etiam', 'in', 'Chymicis', 'eiusdem', 'D', 'LIBAVII', 'epistolis', 'iam', 'antè', 'im', 'pressis', 'multa', 'huic', 'operi', 'lucem', 'allatura', 'Cum', 'gratia', '', 'Priuilegio', 'Caesareo', 'speciali', 'ad', 'decennium', 'FRANCOFVRTI', 'Excudebat', 'Iohannes', 'Saurius', 'impensis', 'Petri', 'Kopffij', 'M', 'D', 'XCVII']\n"
     ]
    }
   ],
   "source": [
    "test_text_split = test_text.split()\n",
    "test_text_split = [re.sub(r'[^\\w\\s]','', word) for word in test_text_split] # remove interpunction\n",
    "print(test_text_split[:100])"
   ],
   "metadata": {
    "collapsed": false,
    "ExecuteTime": {
     "end_time": "2023-10-04T09:34:39.255091Z",
     "start_time": "2023-10-04T09:34:39.179204Z"
    }
   },
   "id": "74ea896b33160d87"
  },
  {
   "cell_type": "code",
   "execution_count": 32,
   "outputs": [],
   "source": [
    "# start with cltk"
   ],
   "metadata": {
    "collapsed": false,
    "ExecuteTime": {
     "end_time": "2023-10-04T10:19:55.135741Z",
     "start_time": "2023-10-04T10:19:55.134057Z"
    }
   },
   "id": "59de8240a09ddb40"
  },
  {
   "cell_type": "code",
   "execution_count": 33,
   "outputs": [
    {
     "ename": "ImportError",
     "evalue": "cannot import name util",
     "output_type": "error",
     "traceback": [
      "\u001B[0;31m---------------------------------------------------------------------------\u001B[0m",
      "\u001B[0;31mImportError\u001B[0m                               Traceback (most recent call last)",
      "Cell \u001B[0;32mIn[33], line 1\u001B[0m\n\u001B[0;32m----> 1\u001B[0m \u001B[38;5;28;01mfrom\u001B[39;00m \u001B[38;5;21;01mcltk\u001B[39;00m \u001B[38;5;28;01mimport\u001B[39;00m NLP\n\u001B[1;32m      2\u001B[0m vitruvius \u001B[38;5;241m=\u001B[39m \u001B[38;5;124m\"\u001B[39m\u001B[38;5;124mArchitecti est scientia pluribus disciplinis et variis eruditionibus ornata, quae ab ceteris artibus perficiuntur. Opera ea nascitur et fabrica et ratiocinatione.\u001B[39m\u001B[38;5;124m\"\u001B[39m\n\u001B[1;32m      3\u001B[0m cltk_nlp \u001B[38;5;241m=\u001B[39m NLP(language\u001B[38;5;241m=\u001B[39m\u001B[38;5;124m\"\u001B[39m\u001B[38;5;124mlat\u001B[39m\u001B[38;5;124m\"\u001B[39m)\n",
      "File \u001B[0;32m/opt/homebrew/Caskroom/miniconda/base/lib/python3.9/site-packages/cltk/__init__.py:5\u001B[0m\n\u001B[1;32m      1\u001B[0m \u001B[38;5;124;03m\"\"\"Init module for importing the CLTK class.\"\"\"\u001B[39;00m\n\u001B[1;32m      3\u001B[0m \u001B[38;5;28;01mimport\u001B[39;00m \u001B[38;5;21;01mpkg_resources\u001B[39;00m\n\u001B[0;32m----> 5\u001B[0m \u001B[38;5;28;01mfrom\u001B[39;00m \u001B[38;5;21;01m.\u001B[39;00m\u001B[38;5;21;01mnlp\u001B[39;00m \u001B[38;5;28;01mimport\u001B[39;00m NLP\n\u001B[1;32m      7\u001B[0m __version__ \u001B[38;5;241m=\u001B[39m curr_version \u001B[38;5;241m=\u001B[39m pkg_resources\u001B[38;5;241m.\u001B[39mget_distribution(\n\u001B[1;32m      8\u001B[0m     \u001B[38;5;124m\"\u001B[39m\u001B[38;5;124mcltk\u001B[39m\u001B[38;5;124m\"\u001B[39m\n\u001B[1;32m      9\u001B[0m )  \u001B[38;5;66;03m# type: pkg_resources.EggInfoDistribution\u001B[39;00m\n",
      "File \u001B[0;32m/opt/homebrew/Caskroom/miniconda/base/lib/python3.9/site-packages/cltk/nlp.py:9\u001B[0m\n\u001B[1;32m      7\u001B[0m \u001B[38;5;28;01mfrom\u001B[39;00m \u001B[38;5;21;01mcltk\u001B[39;00m\u001B[38;5;21;01m.\u001B[39;00m\u001B[38;5;21;01mcore\u001B[39;00m\u001B[38;5;21;01m.\u001B[39;00m\u001B[38;5;21;01mdata_types\u001B[39;00m \u001B[38;5;28;01mimport\u001B[39;00m Doc, Language, Pipeline, Process\n\u001B[1;32m      8\u001B[0m \u001B[38;5;28;01mfrom\u001B[39;00m \u001B[38;5;21;01mcltk\u001B[39;00m\u001B[38;5;21;01m.\u001B[39;00m\u001B[38;5;21;01mcore\u001B[39;00m\u001B[38;5;21;01m.\u001B[39;00m\u001B[38;5;21;01mexceptions\u001B[39;00m \u001B[38;5;28;01mimport\u001B[39;00m UnimplementedAlgorithmError\n\u001B[0;32m----> 9\u001B[0m \u001B[38;5;28;01mfrom\u001B[39;00m \u001B[38;5;21;01mcltk\u001B[39;00m\u001B[38;5;21;01m.\u001B[39;00m\u001B[38;5;21;01mlanguages\u001B[39;00m\u001B[38;5;21;01m.\u001B[39;00m\u001B[38;5;21;01mpipelines\u001B[39;00m \u001B[38;5;28;01mimport\u001B[39;00m (\n\u001B[1;32m     10\u001B[0m     AkkadianPipeline,\n\u001B[1;32m     11\u001B[0m     ArabicPipeline,\n\u001B[1;32m     12\u001B[0m     AramaicPipeline,\n\u001B[1;32m     13\u001B[0m     ChinesePipeline,\n\u001B[1;32m     14\u001B[0m     CopticPipeline,\n\u001B[1;32m     15\u001B[0m     GothicPipeline,\n\u001B[1;32m     16\u001B[0m     GreekPipeline,\n\u001B[1;32m     17\u001B[0m     HindiPipeline,\n\u001B[1;32m     18\u001B[0m     LatinPipeline,\n\u001B[1;32m     19\u001B[0m     MiddleEnglishPipeline,\n\u001B[1;32m     20\u001B[0m     MiddleFrenchPipeline,\n\u001B[1;32m     21\u001B[0m     MiddleHighGermanPipeline,\n\u001B[1;32m     22\u001B[0m     OCSPipeline,\n\u001B[1;32m     23\u001B[0m     OldEnglishPipeline,\n\u001B[1;32m     24\u001B[0m     OldFrenchPipeline,\n\u001B[1;32m     25\u001B[0m     OldNorsePipeline,\n\u001B[1;32m     26\u001B[0m     PaliPipeline,\n\u001B[1;32m     27\u001B[0m     PanjabiPipeline,\n\u001B[1;32m     28\u001B[0m     SanskritPipeline,\n\u001B[1;32m     29\u001B[0m )\n\u001B[1;32m     30\u001B[0m \u001B[38;5;28;01mfrom\u001B[39;00m \u001B[38;5;21;01mcltk\u001B[39;00m\u001B[38;5;21;01m.\u001B[39;00m\u001B[38;5;21;01mlanguages\u001B[39;00m\u001B[38;5;21;01m.\u001B[39;00m\u001B[38;5;21;01mutils\u001B[39;00m \u001B[38;5;28;01mimport\u001B[39;00m get_lang\n\u001B[1;32m     32\u001B[0m iso_to_pipeline \u001B[38;5;241m=\u001B[39m {\n\u001B[1;32m     33\u001B[0m     \u001B[38;5;124m\"\u001B[39m\u001B[38;5;124makk\u001B[39m\u001B[38;5;124m\"\u001B[39m: AkkadianPipeline,\n\u001B[1;32m     34\u001B[0m     \u001B[38;5;124m\"\u001B[39m\u001B[38;5;124mang\u001B[39m\u001B[38;5;124m\"\u001B[39m: OldEnglishPipeline,\n\u001B[0;32m   (...)\u001B[0m\n\u001B[1;32m     51\u001B[0m     \u001B[38;5;124m\"\u001B[39m\u001B[38;5;124msan\u001B[39m\u001B[38;5;124m\"\u001B[39m: SanskritPipeline,\n\u001B[1;32m     52\u001B[0m }\n",
      "File \u001B[0;32m/opt/homebrew/Caskroom/miniconda/base/lib/python3.9/site-packages/cltk/languages/pipelines.py:23\u001B[0m\n\u001B[1;32m     13\u001B[0m \u001B[38;5;28;01mfrom\u001B[39;00m \u001B[38;5;21;01mcltk\u001B[39;00m\u001B[38;5;21;01m.\u001B[39;00m\u001B[38;5;21;01mcore\u001B[39;00m\u001B[38;5;21;01m.\u001B[39;00m\u001B[38;5;21;01mdata_types\u001B[39;00m \u001B[38;5;28;01mimport\u001B[39;00m Language, Pipeline, Process\n\u001B[1;32m     14\u001B[0m \u001B[38;5;28;01mfrom\u001B[39;00m \u001B[38;5;21;01mcltk\u001B[39;00m\u001B[38;5;21;01m.\u001B[39;00m\u001B[38;5;21;01mdependency\u001B[39;00m\u001B[38;5;21;01m.\u001B[39;00m\u001B[38;5;21;01mprocesses\u001B[39;00m \u001B[38;5;28;01mimport\u001B[39;00m (\n\u001B[1;32m     15\u001B[0m     ChineseStanzaProcess,\n\u001B[1;32m     16\u001B[0m     CopticStanzaProcess,\n\u001B[0;32m   (...)\u001B[0m\n\u001B[1;32m     21\u001B[0m     OldFrenchStanzaProcess,\n\u001B[1;32m     22\u001B[0m )\n\u001B[0;32m---> 23\u001B[0m \u001B[38;5;28;01mfrom\u001B[39;00m \u001B[38;5;21;01mcltk\u001B[39;00m\u001B[38;5;21;01m.\u001B[39;00m\u001B[38;5;21;01membeddings\u001B[39;00m\u001B[38;5;21;01m.\u001B[39;00m\u001B[38;5;21;01mprocesses\u001B[39;00m \u001B[38;5;28;01mimport\u001B[39;00m (\n\u001B[1;32m     24\u001B[0m     ArabicEmbeddingsProcess,\n\u001B[1;32m     25\u001B[0m     AramaicEmbeddingsProcess,\n\u001B[1;32m     26\u001B[0m     GothicEmbeddingsProcess,\n\u001B[1;32m     27\u001B[0m     GreekEmbeddingsProcess,\n\u001B[1;32m     28\u001B[0m     LatinEmbeddingsProcess,\n\u001B[1;32m     29\u001B[0m     MiddleEnglishEmbeddingsProcess,\n\u001B[1;32m     30\u001B[0m     OldEnglishEmbeddingsProcess,\n\u001B[1;32m     31\u001B[0m     PaliEmbeddingsProcess,\n\u001B[1;32m     32\u001B[0m     SanskritEmbeddingsProcess,\n\u001B[1;32m     33\u001B[0m )\n\u001B[1;32m     34\u001B[0m \u001B[38;5;28;01mfrom\u001B[39;00m \u001B[38;5;21;01mcltk\u001B[39;00m\u001B[38;5;21;01m.\u001B[39;00m\u001B[38;5;21;01mlanguages\u001B[39;00m\u001B[38;5;21;01m.\u001B[39;00m\u001B[38;5;21;01mutils\u001B[39;00m \u001B[38;5;28;01mimport\u001B[39;00m get_lang\n\u001B[1;32m     35\u001B[0m \u001B[38;5;28;01mfrom\u001B[39;00m \u001B[38;5;21;01mcltk\u001B[39;00m\u001B[38;5;21;01m.\u001B[39;00m\u001B[38;5;21;01mlemmatize\u001B[39;00m\u001B[38;5;21;01m.\u001B[39;00m\u001B[38;5;21;01mprocesses\u001B[39;00m \u001B[38;5;28;01mimport\u001B[39;00m (\n\u001B[1;32m     36\u001B[0m     GreekLemmatizationProcess,\n\u001B[1;32m     37\u001B[0m     LatinLemmatizationProcess,\n\u001B[1;32m     38\u001B[0m     OldEnglishLemmatizationProcess,\n\u001B[1;32m     39\u001B[0m     OldFrenchLemmatizationProcess,\n\u001B[1;32m     40\u001B[0m )\n",
      "File \u001B[0;32m/opt/homebrew/Caskroom/miniconda/base/lib/python3.9/site-packages/cltk/embeddings/__init__.py:4\u001B[0m\n\u001B[1;32m      1\u001B[0m \u001B[38;5;124;03m\"\"\"Init for ``cltk.embeddings``.\"\"\"\u001B[39;00m\n\u001B[1;32m      3\u001B[0m \u001B[38;5;28;01mfrom\u001B[39;00m \u001B[38;5;21;01m.\u001B[39;00m\u001B[38;5;21;01membeddings\u001B[39;00m \u001B[38;5;28;01mimport\u001B[39;00m \u001B[38;5;241m*\u001B[39m\n\u001B[0;32m----> 4\u001B[0m \u001B[38;5;28;01mfrom\u001B[39;00m \u001B[38;5;21;01m.\u001B[39;00m\u001B[38;5;21;01mprocesses\u001B[39;00m \u001B[38;5;28;01mimport\u001B[39;00m \u001B[38;5;241m*\u001B[39m\n",
      "File \u001B[0;32m/opt/homebrew/Caskroom/miniconda/base/lib/python3.9/site-packages/cltk/embeddings/processes.py:21\u001B[0m\n\u001B[1;32m     15\u001B[0m \u001B[38;5;28;01mfrom\u001B[39;00m \u001B[38;5;21;01mcltk\u001B[39;00m\u001B[38;5;21;01m.\u001B[39;00m\u001B[38;5;21;01membeddings\u001B[39;00m\u001B[38;5;21;01m.\u001B[39;00m\u001B[38;5;21;01membeddings\u001B[39;00m \u001B[38;5;28;01mimport\u001B[39;00m (\n\u001B[1;32m     16\u001B[0m     CLTKWord2VecEmbeddings,\n\u001B[1;32m     17\u001B[0m     FastTextEmbeddings,\n\u001B[1;32m     18\u001B[0m     Word2VecEmbeddings,\n\u001B[1;32m     19\u001B[0m )\n\u001B[1;32m     20\u001B[0m \u001B[38;5;28;01mfrom\u001B[39;00m \u001B[38;5;21;01mcltk\u001B[39;00m\u001B[38;5;21;01m.\u001B[39;00m\u001B[38;5;21;01membeddings\u001B[39;00m\u001B[38;5;21;01m.\u001B[39;00m\u001B[38;5;21;01msentence\u001B[39;00m \u001B[38;5;28;01mimport\u001B[39;00m get_sent_embeddings\n\u001B[0;32m---> 21\u001B[0m \u001B[38;5;28;01mfrom\u001B[39;00m \u001B[38;5;21;01mcltk\u001B[39;00m\u001B[38;5;21;01m.\u001B[39;00m\u001B[38;5;21;01mner\u001B[39;00m\u001B[38;5;21;01m.\u001B[39;00m\u001B[38;5;21;01mspacy_ner\u001B[39;00m \u001B[38;5;28;01mimport\u001B[39;00m download_prompt\n\u001B[1;32m     22\u001B[0m \u001B[38;5;28;01mfrom\u001B[39;00m \u001B[38;5;21;01mcltk\u001B[39;00m\u001B[38;5;21;01m.\u001B[39;00m\u001B[38;5;21;01mutils\u001B[39;00m \u001B[38;5;28;01mimport\u001B[39;00m CLTK_DATA_DIR\n\u001B[1;32m     23\u001B[0m \u001B[38;5;28;01mfrom\u001B[39;00m \u001B[38;5;21;01mcltk\u001B[39;00m\u001B[38;5;21;01m.\u001B[39;00m\u001B[38;5;21;01mutils\u001B[39;00m\u001B[38;5;21;01m.\u001B[39;00m\u001B[38;5;21;01mfile_operations\u001B[39;00m \u001B[38;5;28;01mimport\u001B[39;00m open_pickle\n",
      "File \u001B[0;32m/opt/homebrew/Caskroom/miniconda/base/lib/python3.9/site-packages/cltk/ner/spacy_ner.py:7\u001B[0m\n\u001B[1;32m      4\u001B[0m \u001B[38;5;28;01mimport\u001B[39;00m \u001B[38;5;21;01mos\u001B[39;00m\n\u001B[1;32m      5\u001B[0m \u001B[38;5;28;01mfrom\u001B[39;00m \u001B[38;5;21;01mtyping\u001B[39;00m \u001B[38;5;28;01mimport\u001B[39;00m List, Union\n\u001B[0;32m----> 7\u001B[0m \u001B[38;5;28;01mimport\u001B[39;00m \u001B[38;5;21;01mspacy\u001B[39;00m\n\u001B[1;32m      8\u001B[0m \u001B[38;5;28;01mfrom\u001B[39;00m \u001B[38;5;21;01mspacy\u001B[39;00m\u001B[38;5;21;01m.\u001B[39;00m\u001B[38;5;21;01mtokens\u001B[39;00m \u001B[38;5;28;01mimport\u001B[39;00m Doc, Token\n\u001B[1;32m      9\u001B[0m \u001B[38;5;28;01mfrom\u001B[39;00m \u001B[38;5;21;01mspacy\u001B[39;00m\u001B[38;5;21;01m.\u001B[39;00m\u001B[38;5;21;01mutil\u001B[39;00m \u001B[38;5;28;01mimport\u001B[39;00m DummyTokenizer\n",
      "File \u001B[0;32m/opt/homebrew/Caskroom/miniconda/base/lib/python3.9/site-packages/spacy/__init__.py:14\u001B[0m\n\u001B[1;32m     11\u001B[0m \u001B[38;5;28;01mfrom\u001B[39;00m \u001B[38;5;21;01mthinc\u001B[39;00m\u001B[38;5;21;01m.\u001B[39;00m\u001B[38;5;21;01mapi\u001B[39;00m \u001B[38;5;28;01mimport\u001B[39;00m prefer_gpu, require_gpu, require_cpu  \u001B[38;5;66;03m# noqa: F401\u001B[39;00m\n\u001B[1;32m     12\u001B[0m \u001B[38;5;28;01mfrom\u001B[39;00m \u001B[38;5;21;01mthinc\u001B[39;00m\u001B[38;5;21;01m.\u001B[39;00m\u001B[38;5;21;01mapi\u001B[39;00m \u001B[38;5;28;01mimport\u001B[39;00m Config\n\u001B[0;32m---> 14\u001B[0m \u001B[38;5;28;01mfrom\u001B[39;00m \u001B[38;5;21;01m.\u001B[39;00m \u001B[38;5;28;01mimport\u001B[39;00m pipeline  \u001B[38;5;66;03m# noqa: F401\u001B[39;00m\n\u001B[1;32m     15\u001B[0m \u001B[38;5;28;01mfrom\u001B[39;00m \u001B[38;5;21;01m.\u001B[39;00m\u001B[38;5;21;01mcli\u001B[39;00m\u001B[38;5;21;01m.\u001B[39;00m\u001B[38;5;21;01minfo\u001B[39;00m \u001B[38;5;28;01mimport\u001B[39;00m info  \u001B[38;5;66;03m# noqa: F401\u001B[39;00m\n\u001B[1;32m     16\u001B[0m \u001B[38;5;28;01mfrom\u001B[39;00m \u001B[38;5;21;01m.\u001B[39;00m\u001B[38;5;21;01mglossary\u001B[39;00m \u001B[38;5;28;01mimport\u001B[39;00m explain  \u001B[38;5;66;03m# noqa: F401\u001B[39;00m\n",
      "File \u001B[0;32m/opt/homebrew/Caskroom/miniconda/base/lib/python3.9/site-packages/spacy/pipeline/__init__.py:1\u001B[0m\n\u001B[0;32m----> 1\u001B[0m \u001B[38;5;28;01mfrom\u001B[39;00m \u001B[38;5;21;01m.\u001B[39;00m\u001B[38;5;21;01mattributeruler\u001B[39;00m \u001B[38;5;28;01mimport\u001B[39;00m AttributeRuler\n\u001B[1;32m      2\u001B[0m \u001B[38;5;28;01mfrom\u001B[39;00m \u001B[38;5;21;01m.\u001B[39;00m\u001B[38;5;21;01mdep_parser\u001B[39;00m \u001B[38;5;28;01mimport\u001B[39;00m DependencyParser\n\u001B[1;32m      3\u001B[0m \u001B[38;5;28;01mfrom\u001B[39;00m \u001B[38;5;21;01m.\u001B[39;00m\u001B[38;5;21;01medit_tree_lemmatizer\u001B[39;00m \u001B[38;5;28;01mimport\u001B[39;00m EditTreeLemmatizer\n",
      "File \u001B[0;32m/opt/homebrew/Caskroom/miniconda/base/lib/python3.9/site-packages/spacy/pipeline/attributeruler.py:6\u001B[0m\n\u001B[1;32m      3\u001B[0m \u001B[38;5;28;01mimport\u001B[39;00m \u001B[38;5;21;01msrsly\u001B[39;00m\n\u001B[1;32m      4\u001B[0m \u001B[38;5;28;01mfrom\u001B[39;00m \u001B[38;5;21;01mpathlib\u001B[39;00m \u001B[38;5;28;01mimport\u001B[39;00m Path\n\u001B[0;32m----> 6\u001B[0m \u001B[38;5;28;01mfrom\u001B[39;00m \u001B[38;5;21;01m.\u001B[39;00m\u001B[38;5;21;01mpipe\u001B[39;00m \u001B[38;5;28;01mimport\u001B[39;00m Pipe\n\u001B[1;32m      7\u001B[0m \u001B[38;5;28;01mfrom\u001B[39;00m \u001B[38;5;21;01m.\u001B[39;00m\u001B[38;5;21;01m.\u001B[39;00m\u001B[38;5;21;01merrors\u001B[39;00m \u001B[38;5;28;01mimport\u001B[39;00m Errors\n\u001B[1;32m      8\u001B[0m \u001B[38;5;28;01mfrom\u001B[39;00m \u001B[38;5;21;01m.\u001B[39;00m\u001B[38;5;21;01m.\u001B[39;00m\u001B[38;5;21;01mtraining\u001B[39;00m \u001B[38;5;28;01mimport\u001B[39;00m Example\n",
      "File \u001B[0;32m/opt/homebrew/Caskroom/miniconda/base/lib/python3.9/site-packages/spacy/pipeline/pipe.pyx:1\u001B[0m, in \u001B[0;36minit spacy.pipeline.pipe\u001B[0;34m()\u001B[0m\n",
      "File \u001B[0;32m/opt/homebrew/Caskroom/miniconda/base/lib/python3.9/site-packages/spacy/vocab.pyx:1\u001B[0m, in \u001B[0;36minit spacy.vocab\u001B[0;34m()\u001B[0m\n",
      "File \u001B[0;32m/opt/homebrew/Caskroom/miniconda/base/lib/python3.9/site-packages/spacy/tokens/__init__.py:1\u001B[0m\n\u001B[0;32m----> 1\u001B[0m \u001B[38;5;28;01mfrom\u001B[39;00m \u001B[38;5;21;01m.\u001B[39;00m\u001B[38;5;21;01mdoc\u001B[39;00m \u001B[38;5;28;01mimport\u001B[39;00m Doc\n\u001B[1;32m      2\u001B[0m \u001B[38;5;28;01mfrom\u001B[39;00m \u001B[38;5;21;01m.\u001B[39;00m\u001B[38;5;21;01mtoken\u001B[39;00m \u001B[38;5;28;01mimport\u001B[39;00m Token\n\u001B[1;32m      3\u001B[0m \u001B[38;5;28;01mfrom\u001B[39;00m \u001B[38;5;21;01m.\u001B[39;00m\u001B[38;5;21;01mspan\u001B[39;00m \u001B[38;5;28;01mimport\u001B[39;00m Span\n",
      "File \u001B[0;32m/opt/homebrew/Caskroom/miniconda/base/lib/python3.9/site-packages/spacy/tokens/doc.pyx:34\u001B[0m, in \u001B[0;36minit spacy.tokens.doc\u001B[0;34m()\u001B[0m\n",
      "\u001B[0;31mImportError\u001B[0m: cannot import name util"
     ]
    }
   ],
   "source": [
    "from cltk import NLP\n",
    "vitruvius = \"Architecti est scientia pluribus disciplinis et variis eruditionibus ornata, quae ab ceteris artibus perficiuntur. Opera ea nascitur et fabrica et ratiocinatione.\"\n",
    "cltk_nlp = NLP(language=\"lat\")\n",
    "cltk_doc = cltk_nlp.analyze(text=vitruvius)"
   ],
   "metadata": {
    "collapsed": false,
    "ExecuteTime": {
     "end_time": "2023-10-04T10:20:10.875687Z",
     "start_time": "2023-10-04T10:20:10.708716Z"
    }
   },
   "id": "b5232a89be89bcc9"
  },
  {
   "cell_type": "code",
   "execution_count": 24,
   "outputs": [
    {
     "ename": "ImportError",
     "evalue": "cannot import name util",
     "output_type": "error",
     "traceback": [
      "\u001B[0;31m---------------------------------------------------------------------------\u001B[0m",
      "\u001B[0;31mImportError\u001B[0m                               Traceback (most recent call last)",
      "Cell \u001B[0;32mIn[24], line 1\u001B[0m\n\u001B[0;32m----> 1\u001B[0m \u001B[38;5;28;01mfrom\u001B[39;00m \u001B[38;5;21;01mcltk\u001B[39;00m \u001B[38;5;28;01mimport\u001B[39;00m NLP\n",
      "File \u001B[0;32m/opt/homebrew/Caskroom/miniconda/base/lib/python3.9/site-packages/cltk/__init__.py:5\u001B[0m\n\u001B[1;32m      1\u001B[0m \u001B[38;5;124;03m\"\"\"Init module for importing the CLTK class.\"\"\"\u001B[39;00m\n\u001B[1;32m      3\u001B[0m \u001B[38;5;28;01mimport\u001B[39;00m \u001B[38;5;21;01mpkg_resources\u001B[39;00m\n\u001B[0;32m----> 5\u001B[0m \u001B[38;5;28;01mfrom\u001B[39;00m \u001B[38;5;21;01m.\u001B[39;00m\u001B[38;5;21;01mnlp\u001B[39;00m \u001B[38;5;28;01mimport\u001B[39;00m NLP\n\u001B[1;32m      7\u001B[0m __version__ \u001B[38;5;241m=\u001B[39m curr_version \u001B[38;5;241m=\u001B[39m pkg_resources\u001B[38;5;241m.\u001B[39mget_distribution(\n\u001B[1;32m      8\u001B[0m     \u001B[38;5;124m\"\u001B[39m\u001B[38;5;124mcltk\u001B[39m\u001B[38;5;124m\"\u001B[39m\n\u001B[1;32m      9\u001B[0m )  \u001B[38;5;66;03m# type: pkg_resources.EggInfoDistribution\u001B[39;00m\n",
      "File \u001B[0;32m/opt/homebrew/Caskroom/miniconda/base/lib/python3.9/site-packages/cltk/nlp.py:9\u001B[0m\n\u001B[1;32m      7\u001B[0m \u001B[38;5;28;01mfrom\u001B[39;00m \u001B[38;5;21;01mcltk\u001B[39;00m\u001B[38;5;21;01m.\u001B[39;00m\u001B[38;5;21;01mcore\u001B[39;00m\u001B[38;5;21;01m.\u001B[39;00m\u001B[38;5;21;01mdata_types\u001B[39;00m \u001B[38;5;28;01mimport\u001B[39;00m Doc, Language, Pipeline, Process\n\u001B[1;32m      8\u001B[0m \u001B[38;5;28;01mfrom\u001B[39;00m \u001B[38;5;21;01mcltk\u001B[39;00m\u001B[38;5;21;01m.\u001B[39;00m\u001B[38;5;21;01mcore\u001B[39;00m\u001B[38;5;21;01m.\u001B[39;00m\u001B[38;5;21;01mexceptions\u001B[39;00m \u001B[38;5;28;01mimport\u001B[39;00m UnimplementedAlgorithmError\n\u001B[0;32m----> 9\u001B[0m \u001B[38;5;28;01mfrom\u001B[39;00m \u001B[38;5;21;01mcltk\u001B[39;00m\u001B[38;5;21;01m.\u001B[39;00m\u001B[38;5;21;01mlanguages\u001B[39;00m\u001B[38;5;21;01m.\u001B[39;00m\u001B[38;5;21;01mpipelines\u001B[39;00m \u001B[38;5;28;01mimport\u001B[39;00m (\n\u001B[1;32m     10\u001B[0m     AkkadianPipeline,\n\u001B[1;32m     11\u001B[0m     ArabicPipeline,\n\u001B[1;32m     12\u001B[0m     AramaicPipeline,\n\u001B[1;32m     13\u001B[0m     ChinesePipeline,\n\u001B[1;32m     14\u001B[0m     CopticPipeline,\n\u001B[1;32m     15\u001B[0m     GothicPipeline,\n\u001B[1;32m     16\u001B[0m     GreekPipeline,\n\u001B[1;32m     17\u001B[0m     HindiPipeline,\n\u001B[1;32m     18\u001B[0m     LatinPipeline,\n\u001B[1;32m     19\u001B[0m     MiddleEnglishPipeline,\n\u001B[1;32m     20\u001B[0m     MiddleFrenchPipeline,\n\u001B[1;32m     21\u001B[0m     MiddleHighGermanPipeline,\n\u001B[1;32m     22\u001B[0m     OCSPipeline,\n\u001B[1;32m     23\u001B[0m     OldEnglishPipeline,\n\u001B[1;32m     24\u001B[0m     OldFrenchPipeline,\n\u001B[1;32m     25\u001B[0m     OldNorsePipeline,\n\u001B[1;32m     26\u001B[0m     PaliPipeline,\n\u001B[1;32m     27\u001B[0m     PanjabiPipeline,\n\u001B[1;32m     28\u001B[0m     SanskritPipeline,\n\u001B[1;32m     29\u001B[0m )\n\u001B[1;32m     30\u001B[0m \u001B[38;5;28;01mfrom\u001B[39;00m \u001B[38;5;21;01mcltk\u001B[39;00m\u001B[38;5;21;01m.\u001B[39;00m\u001B[38;5;21;01mlanguages\u001B[39;00m\u001B[38;5;21;01m.\u001B[39;00m\u001B[38;5;21;01mutils\u001B[39;00m \u001B[38;5;28;01mimport\u001B[39;00m get_lang\n\u001B[1;32m     32\u001B[0m iso_to_pipeline \u001B[38;5;241m=\u001B[39m {\n\u001B[1;32m     33\u001B[0m     \u001B[38;5;124m\"\u001B[39m\u001B[38;5;124makk\u001B[39m\u001B[38;5;124m\"\u001B[39m: AkkadianPipeline,\n\u001B[1;32m     34\u001B[0m     \u001B[38;5;124m\"\u001B[39m\u001B[38;5;124mang\u001B[39m\u001B[38;5;124m\"\u001B[39m: OldEnglishPipeline,\n\u001B[0;32m   (...)\u001B[0m\n\u001B[1;32m     51\u001B[0m     \u001B[38;5;124m\"\u001B[39m\u001B[38;5;124msan\u001B[39m\u001B[38;5;124m\"\u001B[39m: SanskritPipeline,\n\u001B[1;32m     52\u001B[0m }\n",
      "File \u001B[0;32m/opt/homebrew/Caskroom/miniconda/base/lib/python3.9/site-packages/cltk/languages/pipelines.py:23\u001B[0m\n\u001B[1;32m     13\u001B[0m \u001B[38;5;28;01mfrom\u001B[39;00m \u001B[38;5;21;01mcltk\u001B[39;00m\u001B[38;5;21;01m.\u001B[39;00m\u001B[38;5;21;01mcore\u001B[39;00m\u001B[38;5;21;01m.\u001B[39;00m\u001B[38;5;21;01mdata_types\u001B[39;00m \u001B[38;5;28;01mimport\u001B[39;00m Language, Pipeline, Process\n\u001B[1;32m     14\u001B[0m \u001B[38;5;28;01mfrom\u001B[39;00m \u001B[38;5;21;01mcltk\u001B[39;00m\u001B[38;5;21;01m.\u001B[39;00m\u001B[38;5;21;01mdependency\u001B[39;00m\u001B[38;5;21;01m.\u001B[39;00m\u001B[38;5;21;01mprocesses\u001B[39;00m \u001B[38;5;28;01mimport\u001B[39;00m (\n\u001B[1;32m     15\u001B[0m     ChineseStanzaProcess,\n\u001B[1;32m     16\u001B[0m     CopticStanzaProcess,\n\u001B[0;32m   (...)\u001B[0m\n\u001B[1;32m     21\u001B[0m     OldFrenchStanzaProcess,\n\u001B[1;32m     22\u001B[0m )\n\u001B[0;32m---> 23\u001B[0m \u001B[38;5;28;01mfrom\u001B[39;00m \u001B[38;5;21;01mcltk\u001B[39;00m\u001B[38;5;21;01m.\u001B[39;00m\u001B[38;5;21;01membeddings\u001B[39;00m\u001B[38;5;21;01m.\u001B[39;00m\u001B[38;5;21;01mprocesses\u001B[39;00m \u001B[38;5;28;01mimport\u001B[39;00m (\n\u001B[1;32m     24\u001B[0m     ArabicEmbeddingsProcess,\n\u001B[1;32m     25\u001B[0m     AramaicEmbeddingsProcess,\n\u001B[1;32m     26\u001B[0m     GothicEmbeddingsProcess,\n\u001B[1;32m     27\u001B[0m     GreekEmbeddingsProcess,\n\u001B[1;32m     28\u001B[0m     LatinEmbeddingsProcess,\n\u001B[1;32m     29\u001B[0m     MiddleEnglishEmbeddingsProcess,\n\u001B[1;32m     30\u001B[0m     OldEnglishEmbeddingsProcess,\n\u001B[1;32m     31\u001B[0m     PaliEmbeddingsProcess,\n\u001B[1;32m     32\u001B[0m     SanskritEmbeddingsProcess,\n\u001B[1;32m     33\u001B[0m )\n\u001B[1;32m     34\u001B[0m \u001B[38;5;28;01mfrom\u001B[39;00m \u001B[38;5;21;01mcltk\u001B[39;00m\u001B[38;5;21;01m.\u001B[39;00m\u001B[38;5;21;01mlanguages\u001B[39;00m\u001B[38;5;21;01m.\u001B[39;00m\u001B[38;5;21;01mutils\u001B[39;00m \u001B[38;5;28;01mimport\u001B[39;00m get_lang\n\u001B[1;32m     35\u001B[0m \u001B[38;5;28;01mfrom\u001B[39;00m \u001B[38;5;21;01mcltk\u001B[39;00m\u001B[38;5;21;01m.\u001B[39;00m\u001B[38;5;21;01mlemmatize\u001B[39;00m\u001B[38;5;21;01m.\u001B[39;00m\u001B[38;5;21;01mprocesses\u001B[39;00m \u001B[38;5;28;01mimport\u001B[39;00m (\n\u001B[1;32m     36\u001B[0m     GreekLemmatizationProcess,\n\u001B[1;32m     37\u001B[0m     LatinLemmatizationProcess,\n\u001B[1;32m     38\u001B[0m     OldEnglishLemmatizationProcess,\n\u001B[1;32m     39\u001B[0m     OldFrenchLemmatizationProcess,\n\u001B[1;32m     40\u001B[0m )\n",
      "File \u001B[0;32m/opt/homebrew/Caskroom/miniconda/base/lib/python3.9/site-packages/cltk/embeddings/__init__.py:4\u001B[0m\n\u001B[1;32m      1\u001B[0m \u001B[38;5;124;03m\"\"\"Init for ``cltk.embeddings``.\"\"\"\u001B[39;00m\n\u001B[1;32m      3\u001B[0m \u001B[38;5;28;01mfrom\u001B[39;00m \u001B[38;5;21;01m.\u001B[39;00m\u001B[38;5;21;01membeddings\u001B[39;00m \u001B[38;5;28;01mimport\u001B[39;00m \u001B[38;5;241m*\u001B[39m\n\u001B[0;32m----> 4\u001B[0m \u001B[38;5;28;01mfrom\u001B[39;00m \u001B[38;5;21;01m.\u001B[39;00m\u001B[38;5;21;01mprocesses\u001B[39;00m \u001B[38;5;28;01mimport\u001B[39;00m \u001B[38;5;241m*\u001B[39m\n",
      "File \u001B[0;32m/opt/homebrew/Caskroom/miniconda/base/lib/python3.9/site-packages/cltk/embeddings/processes.py:21\u001B[0m\n\u001B[1;32m     15\u001B[0m \u001B[38;5;28;01mfrom\u001B[39;00m \u001B[38;5;21;01mcltk\u001B[39;00m\u001B[38;5;21;01m.\u001B[39;00m\u001B[38;5;21;01membeddings\u001B[39;00m\u001B[38;5;21;01m.\u001B[39;00m\u001B[38;5;21;01membeddings\u001B[39;00m \u001B[38;5;28;01mimport\u001B[39;00m (\n\u001B[1;32m     16\u001B[0m     CLTKWord2VecEmbeddings,\n\u001B[1;32m     17\u001B[0m     FastTextEmbeddings,\n\u001B[1;32m     18\u001B[0m     Word2VecEmbeddings,\n\u001B[1;32m     19\u001B[0m )\n\u001B[1;32m     20\u001B[0m \u001B[38;5;28;01mfrom\u001B[39;00m \u001B[38;5;21;01mcltk\u001B[39;00m\u001B[38;5;21;01m.\u001B[39;00m\u001B[38;5;21;01membeddings\u001B[39;00m\u001B[38;5;21;01m.\u001B[39;00m\u001B[38;5;21;01msentence\u001B[39;00m \u001B[38;5;28;01mimport\u001B[39;00m get_sent_embeddings\n\u001B[0;32m---> 21\u001B[0m \u001B[38;5;28;01mfrom\u001B[39;00m \u001B[38;5;21;01mcltk\u001B[39;00m\u001B[38;5;21;01m.\u001B[39;00m\u001B[38;5;21;01mner\u001B[39;00m\u001B[38;5;21;01m.\u001B[39;00m\u001B[38;5;21;01mspacy_ner\u001B[39;00m \u001B[38;5;28;01mimport\u001B[39;00m download_prompt\n\u001B[1;32m     22\u001B[0m \u001B[38;5;28;01mfrom\u001B[39;00m \u001B[38;5;21;01mcltk\u001B[39;00m\u001B[38;5;21;01m.\u001B[39;00m\u001B[38;5;21;01mutils\u001B[39;00m \u001B[38;5;28;01mimport\u001B[39;00m CLTK_DATA_DIR\n\u001B[1;32m     23\u001B[0m \u001B[38;5;28;01mfrom\u001B[39;00m \u001B[38;5;21;01mcltk\u001B[39;00m\u001B[38;5;21;01m.\u001B[39;00m\u001B[38;5;21;01mutils\u001B[39;00m\u001B[38;5;21;01m.\u001B[39;00m\u001B[38;5;21;01mfile_operations\u001B[39;00m \u001B[38;5;28;01mimport\u001B[39;00m open_pickle\n",
      "File \u001B[0;32m/opt/homebrew/Caskroom/miniconda/base/lib/python3.9/site-packages/cltk/ner/spacy_ner.py:7\u001B[0m\n\u001B[1;32m      4\u001B[0m \u001B[38;5;28;01mimport\u001B[39;00m \u001B[38;5;21;01mos\u001B[39;00m\n\u001B[1;32m      5\u001B[0m \u001B[38;5;28;01mfrom\u001B[39;00m \u001B[38;5;21;01mtyping\u001B[39;00m \u001B[38;5;28;01mimport\u001B[39;00m List, Union\n\u001B[0;32m----> 7\u001B[0m \u001B[38;5;28;01mimport\u001B[39;00m \u001B[38;5;21;01mspacy\u001B[39;00m\n\u001B[1;32m      8\u001B[0m \u001B[38;5;28;01mfrom\u001B[39;00m \u001B[38;5;21;01mspacy\u001B[39;00m\u001B[38;5;21;01m.\u001B[39;00m\u001B[38;5;21;01mtokens\u001B[39;00m \u001B[38;5;28;01mimport\u001B[39;00m Doc, Token\n\u001B[1;32m      9\u001B[0m \u001B[38;5;28;01mfrom\u001B[39;00m \u001B[38;5;21;01mspacy\u001B[39;00m\u001B[38;5;21;01m.\u001B[39;00m\u001B[38;5;21;01mutil\u001B[39;00m \u001B[38;5;28;01mimport\u001B[39;00m DummyTokenizer\n",
      "File \u001B[0;32m/opt/homebrew/Caskroom/miniconda/base/lib/python3.9/site-packages/spacy/__init__.py:14\u001B[0m\n\u001B[1;32m     11\u001B[0m \u001B[38;5;28;01mfrom\u001B[39;00m \u001B[38;5;21;01mthinc\u001B[39;00m\u001B[38;5;21;01m.\u001B[39;00m\u001B[38;5;21;01mapi\u001B[39;00m \u001B[38;5;28;01mimport\u001B[39;00m prefer_gpu, require_gpu, require_cpu  \u001B[38;5;66;03m# noqa: F401\u001B[39;00m\n\u001B[1;32m     12\u001B[0m \u001B[38;5;28;01mfrom\u001B[39;00m \u001B[38;5;21;01mthinc\u001B[39;00m\u001B[38;5;21;01m.\u001B[39;00m\u001B[38;5;21;01mapi\u001B[39;00m \u001B[38;5;28;01mimport\u001B[39;00m Config\n\u001B[0;32m---> 14\u001B[0m \u001B[38;5;28;01mfrom\u001B[39;00m \u001B[38;5;21;01m.\u001B[39;00m \u001B[38;5;28;01mimport\u001B[39;00m pipeline  \u001B[38;5;66;03m# noqa: F401\u001B[39;00m\n\u001B[1;32m     15\u001B[0m \u001B[38;5;28;01mfrom\u001B[39;00m \u001B[38;5;21;01m.\u001B[39;00m\u001B[38;5;21;01mcli\u001B[39;00m\u001B[38;5;21;01m.\u001B[39;00m\u001B[38;5;21;01minfo\u001B[39;00m \u001B[38;5;28;01mimport\u001B[39;00m info  \u001B[38;5;66;03m# noqa: F401\u001B[39;00m\n\u001B[1;32m     16\u001B[0m \u001B[38;5;28;01mfrom\u001B[39;00m \u001B[38;5;21;01m.\u001B[39;00m\u001B[38;5;21;01mglossary\u001B[39;00m \u001B[38;5;28;01mimport\u001B[39;00m explain  \u001B[38;5;66;03m# noqa: F401\u001B[39;00m\n",
      "File \u001B[0;32m/opt/homebrew/Caskroom/miniconda/base/lib/python3.9/site-packages/spacy/pipeline/__init__.py:1\u001B[0m\n\u001B[0;32m----> 1\u001B[0m \u001B[38;5;28;01mfrom\u001B[39;00m \u001B[38;5;21;01m.\u001B[39;00m\u001B[38;5;21;01mattributeruler\u001B[39;00m \u001B[38;5;28;01mimport\u001B[39;00m AttributeRuler\n\u001B[1;32m      2\u001B[0m \u001B[38;5;28;01mfrom\u001B[39;00m \u001B[38;5;21;01m.\u001B[39;00m\u001B[38;5;21;01mdep_parser\u001B[39;00m \u001B[38;5;28;01mimport\u001B[39;00m DependencyParser\n\u001B[1;32m      3\u001B[0m \u001B[38;5;28;01mfrom\u001B[39;00m \u001B[38;5;21;01m.\u001B[39;00m\u001B[38;5;21;01medit_tree_lemmatizer\u001B[39;00m \u001B[38;5;28;01mimport\u001B[39;00m EditTreeLemmatizer\n",
      "File \u001B[0;32m/opt/homebrew/Caskroom/miniconda/base/lib/python3.9/site-packages/spacy/pipeline/attributeruler.py:6\u001B[0m\n\u001B[1;32m      3\u001B[0m \u001B[38;5;28;01mimport\u001B[39;00m \u001B[38;5;21;01msrsly\u001B[39;00m\n\u001B[1;32m      4\u001B[0m \u001B[38;5;28;01mfrom\u001B[39;00m \u001B[38;5;21;01mpathlib\u001B[39;00m \u001B[38;5;28;01mimport\u001B[39;00m Path\n\u001B[0;32m----> 6\u001B[0m \u001B[38;5;28;01mfrom\u001B[39;00m \u001B[38;5;21;01m.\u001B[39;00m\u001B[38;5;21;01mpipe\u001B[39;00m \u001B[38;5;28;01mimport\u001B[39;00m Pipe\n\u001B[1;32m      7\u001B[0m \u001B[38;5;28;01mfrom\u001B[39;00m \u001B[38;5;21;01m.\u001B[39;00m\u001B[38;5;21;01m.\u001B[39;00m\u001B[38;5;21;01merrors\u001B[39;00m \u001B[38;5;28;01mimport\u001B[39;00m Errors\n\u001B[1;32m      8\u001B[0m \u001B[38;5;28;01mfrom\u001B[39;00m \u001B[38;5;21;01m.\u001B[39;00m\u001B[38;5;21;01m.\u001B[39;00m\u001B[38;5;21;01mtraining\u001B[39;00m \u001B[38;5;28;01mimport\u001B[39;00m Example\n",
      "File \u001B[0;32m/opt/homebrew/Caskroom/miniconda/base/lib/python3.9/site-packages/spacy/pipeline/pipe.pyx:1\u001B[0m, in \u001B[0;36minit spacy.pipeline.pipe\u001B[0;34m()\u001B[0m\n",
      "File \u001B[0;32m/opt/homebrew/Caskroom/miniconda/base/lib/python3.9/site-packages/spacy/vocab.pyx:1\u001B[0m, in \u001B[0;36minit spacy.vocab\u001B[0;34m()\u001B[0m\n",
      "File \u001B[0;32m/opt/homebrew/Caskroom/miniconda/base/lib/python3.9/site-packages/spacy/tokens/__init__.py:1\u001B[0m\n\u001B[0;32m----> 1\u001B[0m \u001B[38;5;28;01mfrom\u001B[39;00m \u001B[38;5;21;01m.\u001B[39;00m\u001B[38;5;21;01mdoc\u001B[39;00m \u001B[38;5;28;01mimport\u001B[39;00m Doc\n\u001B[1;32m      2\u001B[0m \u001B[38;5;28;01mfrom\u001B[39;00m \u001B[38;5;21;01m.\u001B[39;00m\u001B[38;5;21;01mtoken\u001B[39;00m \u001B[38;5;28;01mimport\u001B[39;00m Token\n\u001B[1;32m      3\u001B[0m \u001B[38;5;28;01mfrom\u001B[39;00m \u001B[38;5;21;01m.\u001B[39;00m\u001B[38;5;21;01mspan\u001B[39;00m \u001B[38;5;28;01mimport\u001B[39;00m Span\n",
      "File \u001B[0;32m/opt/homebrew/Caskroom/miniconda/base/lib/python3.9/site-packages/spacy/tokens/doc.pyx:34\u001B[0m, in \u001B[0;36minit spacy.tokens.doc\u001B[0;34m()\u001B[0m\n",
      "\u001B[0;31mImportError\u001B[0m: cannot import name util"
     ]
    }
   ],
   "source": [
    "from cltk import NLP"
   ],
   "metadata": {
    "collapsed": false,
    "ExecuteTime": {
     "end_time": "2023-10-04T09:39:54.941438Z",
     "start_time": "2023-10-04T09:39:54.798950Z"
    }
   },
   "id": "5be5fafbc56e7011"
  },
  {
   "cell_type": "code",
   "execution_count": 22,
   "outputs": [
    {
     "ename": "ImportError",
     "evalue": "cannot import name util",
     "output_type": "error",
     "traceback": [
      "\u001B[0;31m---------------------------------------------------------------------------\u001B[0m",
      "\u001B[0;31mImportError\u001B[0m                               Traceback (most recent call last)",
      "Cell \u001B[0;32mIn[22], line 1\u001B[0m\n\u001B[0;32m----> 1\u001B[0m \u001B[38;5;28;01mfrom\u001B[39;00m \u001B[38;5;21;01mcltk\u001B[39;00m \u001B[38;5;28;01mimport\u001B[39;00m NLP\n\u001B[1;32m      2\u001B[0m \u001B[38;5;66;03m# Load the default Pipeline for Latin\u001B[39;00m\n\u001B[1;32m      3\u001B[0m cltk_nlp \u001B[38;5;241m=\u001B[39m NLP(language\u001B[38;5;241m=\u001B[39m\u001B[38;5;124m\"\u001B[39m\u001B[38;5;124mlat\u001B[39m\u001B[38;5;124m\"\u001B[39m)\n",
      "File \u001B[0;32m/opt/homebrew/Caskroom/miniconda/base/lib/python3.9/site-packages/cltk/__init__.py:5\u001B[0m\n\u001B[1;32m      1\u001B[0m \u001B[38;5;124;03m\"\"\"Init module for importing the CLTK class.\"\"\"\u001B[39;00m\n\u001B[1;32m      3\u001B[0m \u001B[38;5;28;01mimport\u001B[39;00m \u001B[38;5;21;01mpkg_resources\u001B[39;00m\n\u001B[0;32m----> 5\u001B[0m \u001B[38;5;28;01mfrom\u001B[39;00m \u001B[38;5;21;01m.\u001B[39;00m\u001B[38;5;21;01mnlp\u001B[39;00m \u001B[38;5;28;01mimport\u001B[39;00m NLP\n\u001B[1;32m      7\u001B[0m __version__ \u001B[38;5;241m=\u001B[39m curr_version \u001B[38;5;241m=\u001B[39m pkg_resources\u001B[38;5;241m.\u001B[39mget_distribution(\n\u001B[1;32m      8\u001B[0m     \u001B[38;5;124m\"\u001B[39m\u001B[38;5;124mcltk\u001B[39m\u001B[38;5;124m\"\u001B[39m\n\u001B[1;32m      9\u001B[0m )  \u001B[38;5;66;03m# type: pkg_resources.EggInfoDistribution\u001B[39;00m\n",
      "File \u001B[0;32m/opt/homebrew/Caskroom/miniconda/base/lib/python3.9/site-packages/cltk/nlp.py:9\u001B[0m\n\u001B[1;32m      7\u001B[0m \u001B[38;5;28;01mfrom\u001B[39;00m \u001B[38;5;21;01mcltk\u001B[39;00m\u001B[38;5;21;01m.\u001B[39;00m\u001B[38;5;21;01mcore\u001B[39;00m\u001B[38;5;21;01m.\u001B[39;00m\u001B[38;5;21;01mdata_types\u001B[39;00m \u001B[38;5;28;01mimport\u001B[39;00m Doc, Language, Pipeline, Process\n\u001B[1;32m      8\u001B[0m \u001B[38;5;28;01mfrom\u001B[39;00m \u001B[38;5;21;01mcltk\u001B[39;00m\u001B[38;5;21;01m.\u001B[39;00m\u001B[38;5;21;01mcore\u001B[39;00m\u001B[38;5;21;01m.\u001B[39;00m\u001B[38;5;21;01mexceptions\u001B[39;00m \u001B[38;5;28;01mimport\u001B[39;00m UnimplementedAlgorithmError\n\u001B[0;32m----> 9\u001B[0m \u001B[38;5;28;01mfrom\u001B[39;00m \u001B[38;5;21;01mcltk\u001B[39;00m\u001B[38;5;21;01m.\u001B[39;00m\u001B[38;5;21;01mlanguages\u001B[39;00m\u001B[38;5;21;01m.\u001B[39;00m\u001B[38;5;21;01mpipelines\u001B[39;00m \u001B[38;5;28;01mimport\u001B[39;00m (\n\u001B[1;32m     10\u001B[0m     AkkadianPipeline,\n\u001B[1;32m     11\u001B[0m     ArabicPipeline,\n\u001B[1;32m     12\u001B[0m     AramaicPipeline,\n\u001B[1;32m     13\u001B[0m     ChinesePipeline,\n\u001B[1;32m     14\u001B[0m     CopticPipeline,\n\u001B[1;32m     15\u001B[0m     GothicPipeline,\n\u001B[1;32m     16\u001B[0m     GreekPipeline,\n\u001B[1;32m     17\u001B[0m     HindiPipeline,\n\u001B[1;32m     18\u001B[0m     LatinPipeline,\n\u001B[1;32m     19\u001B[0m     MiddleEnglishPipeline,\n\u001B[1;32m     20\u001B[0m     MiddleFrenchPipeline,\n\u001B[1;32m     21\u001B[0m     MiddleHighGermanPipeline,\n\u001B[1;32m     22\u001B[0m     OCSPipeline,\n\u001B[1;32m     23\u001B[0m     OldEnglishPipeline,\n\u001B[1;32m     24\u001B[0m     OldFrenchPipeline,\n\u001B[1;32m     25\u001B[0m     OldNorsePipeline,\n\u001B[1;32m     26\u001B[0m     PaliPipeline,\n\u001B[1;32m     27\u001B[0m     PanjabiPipeline,\n\u001B[1;32m     28\u001B[0m     SanskritPipeline,\n\u001B[1;32m     29\u001B[0m )\n\u001B[1;32m     30\u001B[0m \u001B[38;5;28;01mfrom\u001B[39;00m \u001B[38;5;21;01mcltk\u001B[39;00m\u001B[38;5;21;01m.\u001B[39;00m\u001B[38;5;21;01mlanguages\u001B[39;00m\u001B[38;5;21;01m.\u001B[39;00m\u001B[38;5;21;01mutils\u001B[39;00m \u001B[38;5;28;01mimport\u001B[39;00m get_lang\n\u001B[1;32m     32\u001B[0m iso_to_pipeline \u001B[38;5;241m=\u001B[39m {\n\u001B[1;32m     33\u001B[0m     \u001B[38;5;124m\"\u001B[39m\u001B[38;5;124makk\u001B[39m\u001B[38;5;124m\"\u001B[39m: AkkadianPipeline,\n\u001B[1;32m     34\u001B[0m     \u001B[38;5;124m\"\u001B[39m\u001B[38;5;124mang\u001B[39m\u001B[38;5;124m\"\u001B[39m: OldEnglishPipeline,\n\u001B[0;32m   (...)\u001B[0m\n\u001B[1;32m     51\u001B[0m     \u001B[38;5;124m\"\u001B[39m\u001B[38;5;124msan\u001B[39m\u001B[38;5;124m\"\u001B[39m: SanskritPipeline,\n\u001B[1;32m     52\u001B[0m }\n",
      "File \u001B[0;32m/opt/homebrew/Caskroom/miniconda/base/lib/python3.9/site-packages/cltk/languages/pipelines.py:23\u001B[0m\n\u001B[1;32m     13\u001B[0m \u001B[38;5;28;01mfrom\u001B[39;00m \u001B[38;5;21;01mcltk\u001B[39;00m\u001B[38;5;21;01m.\u001B[39;00m\u001B[38;5;21;01mcore\u001B[39;00m\u001B[38;5;21;01m.\u001B[39;00m\u001B[38;5;21;01mdata_types\u001B[39;00m \u001B[38;5;28;01mimport\u001B[39;00m Language, Pipeline, Process\n\u001B[1;32m     14\u001B[0m \u001B[38;5;28;01mfrom\u001B[39;00m \u001B[38;5;21;01mcltk\u001B[39;00m\u001B[38;5;21;01m.\u001B[39;00m\u001B[38;5;21;01mdependency\u001B[39;00m\u001B[38;5;21;01m.\u001B[39;00m\u001B[38;5;21;01mprocesses\u001B[39;00m \u001B[38;5;28;01mimport\u001B[39;00m (\n\u001B[1;32m     15\u001B[0m     ChineseStanzaProcess,\n\u001B[1;32m     16\u001B[0m     CopticStanzaProcess,\n\u001B[0;32m   (...)\u001B[0m\n\u001B[1;32m     21\u001B[0m     OldFrenchStanzaProcess,\n\u001B[1;32m     22\u001B[0m )\n\u001B[0;32m---> 23\u001B[0m \u001B[38;5;28;01mfrom\u001B[39;00m \u001B[38;5;21;01mcltk\u001B[39;00m\u001B[38;5;21;01m.\u001B[39;00m\u001B[38;5;21;01membeddings\u001B[39;00m\u001B[38;5;21;01m.\u001B[39;00m\u001B[38;5;21;01mprocesses\u001B[39;00m \u001B[38;5;28;01mimport\u001B[39;00m (\n\u001B[1;32m     24\u001B[0m     ArabicEmbeddingsProcess,\n\u001B[1;32m     25\u001B[0m     AramaicEmbeddingsProcess,\n\u001B[1;32m     26\u001B[0m     GothicEmbeddingsProcess,\n\u001B[1;32m     27\u001B[0m     GreekEmbeddingsProcess,\n\u001B[1;32m     28\u001B[0m     LatinEmbeddingsProcess,\n\u001B[1;32m     29\u001B[0m     MiddleEnglishEmbeddingsProcess,\n\u001B[1;32m     30\u001B[0m     OldEnglishEmbeddingsProcess,\n\u001B[1;32m     31\u001B[0m     PaliEmbeddingsProcess,\n\u001B[1;32m     32\u001B[0m     SanskritEmbeddingsProcess,\n\u001B[1;32m     33\u001B[0m )\n\u001B[1;32m     34\u001B[0m \u001B[38;5;28;01mfrom\u001B[39;00m \u001B[38;5;21;01mcltk\u001B[39;00m\u001B[38;5;21;01m.\u001B[39;00m\u001B[38;5;21;01mlanguages\u001B[39;00m\u001B[38;5;21;01m.\u001B[39;00m\u001B[38;5;21;01mutils\u001B[39;00m \u001B[38;5;28;01mimport\u001B[39;00m get_lang\n\u001B[1;32m     35\u001B[0m \u001B[38;5;28;01mfrom\u001B[39;00m \u001B[38;5;21;01mcltk\u001B[39;00m\u001B[38;5;21;01m.\u001B[39;00m\u001B[38;5;21;01mlemmatize\u001B[39;00m\u001B[38;5;21;01m.\u001B[39;00m\u001B[38;5;21;01mprocesses\u001B[39;00m \u001B[38;5;28;01mimport\u001B[39;00m (\n\u001B[1;32m     36\u001B[0m     GreekLemmatizationProcess,\n\u001B[1;32m     37\u001B[0m     LatinLemmatizationProcess,\n\u001B[1;32m     38\u001B[0m     OldEnglishLemmatizationProcess,\n\u001B[1;32m     39\u001B[0m     OldFrenchLemmatizationProcess,\n\u001B[1;32m     40\u001B[0m )\n",
      "File \u001B[0;32m/opt/homebrew/Caskroom/miniconda/base/lib/python3.9/site-packages/cltk/embeddings/__init__.py:4\u001B[0m\n\u001B[1;32m      1\u001B[0m \u001B[38;5;124;03m\"\"\"Init for ``cltk.embeddings``.\"\"\"\u001B[39;00m\n\u001B[1;32m      3\u001B[0m \u001B[38;5;28;01mfrom\u001B[39;00m \u001B[38;5;21;01m.\u001B[39;00m\u001B[38;5;21;01membeddings\u001B[39;00m \u001B[38;5;28;01mimport\u001B[39;00m \u001B[38;5;241m*\u001B[39m\n\u001B[0;32m----> 4\u001B[0m \u001B[38;5;28;01mfrom\u001B[39;00m \u001B[38;5;21;01m.\u001B[39;00m\u001B[38;5;21;01mprocesses\u001B[39;00m \u001B[38;5;28;01mimport\u001B[39;00m \u001B[38;5;241m*\u001B[39m\n",
      "File \u001B[0;32m/opt/homebrew/Caskroom/miniconda/base/lib/python3.9/site-packages/cltk/embeddings/processes.py:21\u001B[0m\n\u001B[1;32m     15\u001B[0m \u001B[38;5;28;01mfrom\u001B[39;00m \u001B[38;5;21;01mcltk\u001B[39;00m\u001B[38;5;21;01m.\u001B[39;00m\u001B[38;5;21;01membeddings\u001B[39;00m\u001B[38;5;21;01m.\u001B[39;00m\u001B[38;5;21;01membeddings\u001B[39;00m \u001B[38;5;28;01mimport\u001B[39;00m (\n\u001B[1;32m     16\u001B[0m     CLTKWord2VecEmbeddings,\n\u001B[1;32m     17\u001B[0m     FastTextEmbeddings,\n\u001B[1;32m     18\u001B[0m     Word2VecEmbeddings,\n\u001B[1;32m     19\u001B[0m )\n\u001B[1;32m     20\u001B[0m \u001B[38;5;28;01mfrom\u001B[39;00m \u001B[38;5;21;01mcltk\u001B[39;00m\u001B[38;5;21;01m.\u001B[39;00m\u001B[38;5;21;01membeddings\u001B[39;00m\u001B[38;5;21;01m.\u001B[39;00m\u001B[38;5;21;01msentence\u001B[39;00m \u001B[38;5;28;01mimport\u001B[39;00m get_sent_embeddings\n\u001B[0;32m---> 21\u001B[0m \u001B[38;5;28;01mfrom\u001B[39;00m \u001B[38;5;21;01mcltk\u001B[39;00m\u001B[38;5;21;01m.\u001B[39;00m\u001B[38;5;21;01mner\u001B[39;00m\u001B[38;5;21;01m.\u001B[39;00m\u001B[38;5;21;01mspacy_ner\u001B[39;00m \u001B[38;5;28;01mimport\u001B[39;00m download_prompt\n\u001B[1;32m     22\u001B[0m \u001B[38;5;28;01mfrom\u001B[39;00m \u001B[38;5;21;01mcltk\u001B[39;00m\u001B[38;5;21;01m.\u001B[39;00m\u001B[38;5;21;01mutils\u001B[39;00m \u001B[38;5;28;01mimport\u001B[39;00m CLTK_DATA_DIR\n\u001B[1;32m     23\u001B[0m \u001B[38;5;28;01mfrom\u001B[39;00m \u001B[38;5;21;01mcltk\u001B[39;00m\u001B[38;5;21;01m.\u001B[39;00m\u001B[38;5;21;01mutils\u001B[39;00m\u001B[38;5;21;01m.\u001B[39;00m\u001B[38;5;21;01mfile_operations\u001B[39;00m \u001B[38;5;28;01mimport\u001B[39;00m open_pickle\n",
      "File \u001B[0;32m/opt/homebrew/Caskroom/miniconda/base/lib/python3.9/site-packages/cltk/ner/spacy_ner.py:7\u001B[0m\n\u001B[1;32m      4\u001B[0m \u001B[38;5;28;01mimport\u001B[39;00m \u001B[38;5;21;01mos\u001B[39;00m\n\u001B[1;32m      5\u001B[0m \u001B[38;5;28;01mfrom\u001B[39;00m \u001B[38;5;21;01mtyping\u001B[39;00m \u001B[38;5;28;01mimport\u001B[39;00m List, Union\n\u001B[0;32m----> 7\u001B[0m \u001B[38;5;28;01mimport\u001B[39;00m \u001B[38;5;21;01mspacy\u001B[39;00m\n\u001B[1;32m      8\u001B[0m \u001B[38;5;28;01mfrom\u001B[39;00m \u001B[38;5;21;01mspacy\u001B[39;00m\u001B[38;5;21;01m.\u001B[39;00m\u001B[38;5;21;01mtokens\u001B[39;00m \u001B[38;5;28;01mimport\u001B[39;00m Doc, Token\n\u001B[1;32m      9\u001B[0m \u001B[38;5;28;01mfrom\u001B[39;00m \u001B[38;5;21;01mspacy\u001B[39;00m\u001B[38;5;21;01m.\u001B[39;00m\u001B[38;5;21;01mutil\u001B[39;00m \u001B[38;5;28;01mimport\u001B[39;00m DummyTokenizer\n",
      "File \u001B[0;32m/opt/homebrew/Caskroom/miniconda/base/lib/python3.9/site-packages/spacy/__init__.py:14\u001B[0m\n\u001B[1;32m     11\u001B[0m \u001B[38;5;28;01mfrom\u001B[39;00m \u001B[38;5;21;01mthinc\u001B[39;00m\u001B[38;5;21;01m.\u001B[39;00m\u001B[38;5;21;01mapi\u001B[39;00m \u001B[38;5;28;01mimport\u001B[39;00m prefer_gpu, require_gpu, require_cpu  \u001B[38;5;66;03m# noqa: F401\u001B[39;00m\n\u001B[1;32m     12\u001B[0m \u001B[38;5;28;01mfrom\u001B[39;00m \u001B[38;5;21;01mthinc\u001B[39;00m\u001B[38;5;21;01m.\u001B[39;00m\u001B[38;5;21;01mapi\u001B[39;00m \u001B[38;5;28;01mimport\u001B[39;00m Config\n\u001B[0;32m---> 14\u001B[0m \u001B[38;5;28;01mfrom\u001B[39;00m \u001B[38;5;21;01m.\u001B[39;00m \u001B[38;5;28;01mimport\u001B[39;00m pipeline  \u001B[38;5;66;03m# noqa: F401\u001B[39;00m\n\u001B[1;32m     15\u001B[0m \u001B[38;5;28;01mfrom\u001B[39;00m \u001B[38;5;21;01m.\u001B[39;00m\u001B[38;5;21;01mcli\u001B[39;00m\u001B[38;5;21;01m.\u001B[39;00m\u001B[38;5;21;01minfo\u001B[39;00m \u001B[38;5;28;01mimport\u001B[39;00m info  \u001B[38;5;66;03m# noqa: F401\u001B[39;00m\n\u001B[1;32m     16\u001B[0m \u001B[38;5;28;01mfrom\u001B[39;00m \u001B[38;5;21;01m.\u001B[39;00m\u001B[38;5;21;01mglossary\u001B[39;00m \u001B[38;5;28;01mimport\u001B[39;00m explain  \u001B[38;5;66;03m# noqa: F401\u001B[39;00m\n",
      "File \u001B[0;32m/opt/homebrew/Caskroom/miniconda/base/lib/python3.9/site-packages/spacy/pipeline/__init__.py:1\u001B[0m\n\u001B[0;32m----> 1\u001B[0m \u001B[38;5;28;01mfrom\u001B[39;00m \u001B[38;5;21;01m.\u001B[39;00m\u001B[38;5;21;01mattributeruler\u001B[39;00m \u001B[38;5;28;01mimport\u001B[39;00m AttributeRuler\n\u001B[1;32m      2\u001B[0m \u001B[38;5;28;01mfrom\u001B[39;00m \u001B[38;5;21;01m.\u001B[39;00m\u001B[38;5;21;01mdep_parser\u001B[39;00m \u001B[38;5;28;01mimport\u001B[39;00m DependencyParser\n\u001B[1;32m      3\u001B[0m \u001B[38;5;28;01mfrom\u001B[39;00m \u001B[38;5;21;01m.\u001B[39;00m\u001B[38;5;21;01medit_tree_lemmatizer\u001B[39;00m \u001B[38;5;28;01mimport\u001B[39;00m EditTreeLemmatizer\n",
      "File \u001B[0;32m/opt/homebrew/Caskroom/miniconda/base/lib/python3.9/site-packages/spacy/pipeline/attributeruler.py:6\u001B[0m\n\u001B[1;32m      3\u001B[0m \u001B[38;5;28;01mimport\u001B[39;00m \u001B[38;5;21;01msrsly\u001B[39;00m\n\u001B[1;32m      4\u001B[0m \u001B[38;5;28;01mfrom\u001B[39;00m \u001B[38;5;21;01mpathlib\u001B[39;00m \u001B[38;5;28;01mimport\u001B[39;00m Path\n\u001B[0;32m----> 6\u001B[0m \u001B[38;5;28;01mfrom\u001B[39;00m \u001B[38;5;21;01m.\u001B[39;00m\u001B[38;5;21;01mpipe\u001B[39;00m \u001B[38;5;28;01mimport\u001B[39;00m Pipe\n\u001B[1;32m      7\u001B[0m \u001B[38;5;28;01mfrom\u001B[39;00m \u001B[38;5;21;01m.\u001B[39;00m\u001B[38;5;21;01m.\u001B[39;00m\u001B[38;5;21;01merrors\u001B[39;00m \u001B[38;5;28;01mimport\u001B[39;00m Errors\n\u001B[1;32m      8\u001B[0m \u001B[38;5;28;01mfrom\u001B[39;00m \u001B[38;5;21;01m.\u001B[39;00m\u001B[38;5;21;01m.\u001B[39;00m\u001B[38;5;21;01mtraining\u001B[39;00m \u001B[38;5;28;01mimport\u001B[39;00m Example\n",
      "File \u001B[0;32m/opt/homebrew/Caskroom/miniconda/base/lib/python3.9/site-packages/spacy/pipeline/pipe.pyx:1\u001B[0m, in \u001B[0;36minit spacy.pipeline.pipe\u001B[0;34m()\u001B[0m\n",
      "File \u001B[0;32m/opt/homebrew/Caskroom/miniconda/base/lib/python3.9/site-packages/spacy/vocab.pyx:1\u001B[0m, in \u001B[0;36minit spacy.vocab\u001B[0;34m()\u001B[0m\n",
      "File \u001B[0;32m/opt/homebrew/Caskroom/miniconda/base/lib/python3.9/site-packages/spacy/tokens/__init__.py:1\u001B[0m\n\u001B[0;32m----> 1\u001B[0m \u001B[38;5;28;01mfrom\u001B[39;00m \u001B[38;5;21;01m.\u001B[39;00m\u001B[38;5;21;01mdoc\u001B[39;00m \u001B[38;5;28;01mimport\u001B[39;00m Doc\n\u001B[1;32m      2\u001B[0m \u001B[38;5;28;01mfrom\u001B[39;00m \u001B[38;5;21;01m.\u001B[39;00m\u001B[38;5;21;01mtoken\u001B[39;00m \u001B[38;5;28;01mimport\u001B[39;00m Token\n\u001B[1;32m      3\u001B[0m \u001B[38;5;28;01mfrom\u001B[39;00m \u001B[38;5;21;01m.\u001B[39;00m\u001B[38;5;21;01mspan\u001B[39;00m \u001B[38;5;28;01mimport\u001B[39;00m Span\n",
      "File \u001B[0;32m/opt/homebrew/Caskroom/miniconda/base/lib/python3.9/site-packages/spacy/tokens/doc.pyx:34\u001B[0m, in \u001B[0;36minit spacy.tokens.doc\u001B[0;34m()\u001B[0m\n",
      "\u001B[0;31mImportError\u001B[0m: cannot import name util"
     ]
    }
   ],
   "source": [
    "from cltk import NLP\n",
    "# Load the default Pipeline for Latin\n",
    "cltk_nlp = NLP(language=\"lat\")"
   ],
   "metadata": {
    "collapsed": false,
    "ExecuteTime": {
     "end_time": "2023-10-04T09:38:37.456376Z",
     "start_time": "2023-10-04T09:38:37.321716Z"
    }
   },
   "id": "dae3b2462a6d0b6e"
  },
  {
   "cell_type": "code",
   "execution_count": null,
   "outputs": [],
   "source": [],
   "metadata": {
    "collapsed": false
   },
   "id": "f00275c592db65e2"
  }
 ],
 "metadata": {
  "kernelspec": {
   "display_name": "Python 3",
   "language": "python",
   "name": "python3"
  },
  "language_info": {
   "codemirror_mode": {
    "name": "ipython",
    "version": 2
   },
   "file_extension": ".py",
   "mimetype": "text/x-python",
   "name": "python",
   "nbconvert_exporter": "python",
   "pygments_lexer": "ipython2",
   "version": "2.7.6"
  }
 },
 "nbformat": 4,
 "nbformat_minor": 5
}
