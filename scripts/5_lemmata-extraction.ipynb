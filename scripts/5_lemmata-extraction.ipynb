{
 "cells": [
  {
   "cell_type": "code",
   "id": "initial_id",
   "metadata": {
    "collapsed": true,
    "ExecuteTime": {
     "end_time": "2024-05-02T18:27:46.344917Z",
     "start_time": "2024-05-02T18:27:40.448298Z"
    }
   },
   "source": [
    "import os\n",
    "import spacy\n",
    "from spacy.tokens import Doc\n",
    "import sddk\n",
    "import pandas as pd\n",
    "import re\n",
    "import matplotlib.pyplot as plt\n",
    "import json\n",
    "import shutil\n",
    "import pickle\n",
    "\n",
    "import gspread\n",
    "from gspread_dataframe import get_as_dataframe, set_with_dataframe\n",
    "from google.oauth2 import service_account # based on google-auth library"
   ],
   "outputs": [],
   "execution_count": 1
  },
  {
   "cell_type": "code",
   "source": [
    "# load the language model (see the previous script)\n",
    "nlp = spacy.load('la_core_web_lg')"
   ],
   "metadata": {
    "collapsed": false,
    "ExecuteTime": {
     "end_time": "2024-05-02T18:27:47.247992Z",
     "start_time": "2024-05-02T18:27:46.346035Z"
    }
   },
   "id": "234d6a3cc5f7a819",
   "outputs": [],
   "execution_count": 2
  },
  {
   "cell_type": "code",
   "source": [
    "# setup communication with gsheet \"noscemus_overview\n",
    "# to make this work, you need your ServiceAccountKey.json file located somewhere and to point out to it\n",
    "# I have it in the data folder and in the .gitignore file, what makes it invisible to others; you can make the same\n",
    "file_data = json.load(open(\"../data/ServiceAccountsKey.json\"))\n",
    "# (2) transform the content into crendentials object\n",
    "credentials = service_account.Credentials.from_service_account_info(file_data)\n",
    "# (3) specify your usage of the credentials\n",
    "scoped_credentials = credentials.with_scopes(['https://spreadsheets.google.com/feeds', 'https://www.googleapis.com/auth/drive'])\n",
    "# (4) use the constrained credentials for authentication of gspread package\n",
    "gc = gspread.Client(auth=scoped_credentials)\n",
    "\n",
    "noscemus_gs = gc.open_by_url(\"https://docs.google.com/spreadsheets/d/1ekf9RBfd4yqy0p0IWJ4SDk1kUT70hnoIVX1H6KPdIts/edit?usp=sharing\")"
   ],
   "metadata": {
    "collapsed": false,
    "ExecuteTime": {
     "end_time": "2024-05-02T18:27:50.406602Z",
     "start_time": "2024-05-02T18:27:47.248731Z"
    }
   },
   "id": "1c7c54fa3f1fb3e1",
   "outputs": [],
   "execution_count": 3
  },
  {
   "cell_type": "markdown",
   "source": [
    "# Load & Explore Spacy Docs"
   ],
   "metadata": {
    "collapsed": false
   },
   "id": "1279f7b9c397edef"
  },
  {
   "cell_type": "code",
   "source": [
    "s = sddk.cloudSession(provider=\"sciencedata.dk\", shared_folder_name=\"TOME/DATA/NOSCEMUS\", owner=\"kase@zcu.cz\")"
   ],
   "metadata": {
    "collapsed": false,
    "ExecuteTime": {
     "end_time": "2024-05-02T18:28:03.820311Z",
     "start_time": "2024-05-02T18:27:50.409222Z"
    }
   },
   "id": "79df7273ed476626",
   "outputs": [
    {
     "name": "stdout",
     "output_type": "stream",
     "text": [
      "connection with shared folder established with you as its owner\n",
      "endpoint variable has been configured to: https://sciencedata.dk/files/TOME/DATA/NOSCEMUS/\n"
     ]
    }
   ],
   "execution_count": 4
  },
  {
   "cell_type": "code",
   "source": [
    "target_folder_name = \"noscemus_spacyjsons_v1\"\n",
    "jsonfiles_list = s.list_filenames(target_folder_name, \"json\")\n",
    "jsonfiles_list[:10]"
   ],
   "metadata": {
    "collapsed": false,
    "ExecuteTime": {
     "end_time": "2024-05-02T18:28:05.509688Z",
     "start_time": "2024-05-02T18:28:04.515962Z"
    }
   },
   "id": "34bc5c5fe82e46e5",
   "outputs": [
    {
     "data": {
      "text/plain": [
       "['1031760.json',\n",
       " '1085290.json',\n",
       " '1285853.json',\n",
       " '1285854.json',\n",
       " '1285855.json',\n",
       " '1285856.json',\n",
       " '1365811.json',\n",
       " '1370560.json',\n",
       " '1378359.json',\n",
       " '1424044.json']"
      ]
     },
     "execution_count": 5,
     "metadata": {},
     "output_type": "execute_result"
    }
   ],
   "execution_count": 5
  },
  {
   "cell_type": "code",
   "source": [
    "len(jsonfiles_list)"
   ],
   "metadata": {
    "collapsed": false,
    "ExecuteTime": {
     "end_time": "2024-05-02T18:28:05.514643Z",
     "start_time": "2024-05-02T18:28:05.511378Z"
    }
   },
   "id": "5c3fbb9bf94efdad",
   "outputs": [
    {
     "data": {
      "text/plain": [
       "1007"
      ]
     },
     "execution_count": 6,
     "metadata": {},
     "output_type": "execute_result"
    }
   ],
   "execution_count": 6
  },
  {
   "cell_type": "code",
   "source": [
    "def filename_to_doc(filename, dir=target_folder_name):\n",
    "    doc_json = s.read_file(dir + \"/\" + filename, \"dict\")\n",
    "    doc = Doc(nlp.vocab).from_json(doc_json)\n",
    "    return doc"
   ],
   "metadata": {
    "collapsed": false,
    "ExecuteTime": {
     "end_time": "2024-05-02T18:28:05.518542Z",
     "start_time": "2024-05-02T18:28:05.515605Z"
    }
   },
   "id": "7d383461acae5343",
   "outputs": [],
   "execution_count": 7
  },
  {
   "cell_type": "code",
   "source": [
    "doc = filename_to_doc(jsonfiles_list[1])"
   ],
   "metadata": {
    "collapsed": false,
    "ExecuteTime": {
     "end_time": "2024-05-02T18:29:40.530807Z",
     "start_time": "2024-05-02T18:28:06.563414Z"
    }
   },
   "id": "2ff62112adc2da6",
   "outputs": [],
   "execution_count": 8
  },
  {
   "metadata": {
    "ExecuteTime": {
     "end_time": "2024-05-02T18:29:40.533632Z",
     "start_time": "2024-05-02T18:29:40.531919Z"
    }
   },
   "cell_type": "code",
   "source": "fn = jsonfiles_list[1]",
   "id": "ca974df5e1e5dafb",
   "outputs": [],
   "execution_count": 9
  },
  {
   "cell_type": "code",
   "source": [
    "doc_data = {}\n",
    "doc_data[\"characters_n\"] = len(doc.text)\n",
    "doc_data[\"tokens_n\"] = len([t for t in doc])"
   ],
   "metadata": {
    "collapsed": false,
    "ExecuteTime": {
     "end_time": "2024-05-02T18:29:41.110121Z",
     "start_time": "2024-05-02T18:29:40.534558Z"
    }
   },
   "id": "f5be661e4f455ffc",
   "outputs": [],
   "execution_count": 10
  },
  {
   "cell_type": "code",
   "source": [
    "doc_data"
   ],
   "metadata": {
    "collapsed": false,
    "ExecuteTime": {
     "end_time": "2024-05-02T18:29:41.114361Z",
     "start_time": "2024-05-02T18:29:41.111666Z"
    }
   },
   "id": "39a051718c046b59",
   "outputs": [
    {
     "data": {
      "text/plain": [
       "{'characters_n': 2930782, 'tokens_n': 572944}"
      ]
     },
     "execution_count": 11,
     "metadata": {},
     "output_type": "execute_result"
    }
   ],
   "execution_count": 11
  },
  {
   "cell_type": "code",
   "source": [
    "for ent in doc.ents[:20]:\n",
    "    print(ent.text)"
   ],
   "metadata": {
    "collapsed": false,
    "ExecuteTime": {
     "end_time": "2024-05-02T18:29:41.212104Z",
     "start_time": "2024-05-02T18:29:41.115062Z"
    }
   },
   "id": "ac6ca2bca41da4f7",
   "outputs": [
    {
     "name": "stdout",
     "output_type": "stream",
     "text": [
      "Georg Abraham\n",
      "Lindenius\n",
      "Renovatus\n",
      "Medicis Lindenius\n",
      "Renqvatus\n",
      "Johannis\n",
      "Antonidae\n",
      "Linden\n",
      "Catalogum\n",
      "Authores\n",
      "Cynosuram\n",
      "Rerum\n",
      "Thematum\n",
      "Vitae\n",
      "Adscita\n",
      "Medicis\n",
      "Anne\n",
      "Lxii\n",
      "Continuati\n",
      "Norimberg\n"
     ]
    }
   ],
   "execution_count": 12
  },
  {
   "cell_type": "code",
   "source": [
    "all_lemmata = []\n",
    "for token in doc:\n",
    "    all_lemmata.append((token.text, token.lemma_, token.pos_, token.idx))"
   ],
   "metadata": {
    "collapsed": false,
    "ExecuteTime": {
     "end_time": "2024-05-02T18:29:41.599598Z",
     "start_time": "2024-05-02T18:29:41.212929Z"
    }
   },
   "id": "4564df2935c1ef04",
   "outputs": [],
   "execution_count": 13
  },
  {
   "cell_type": "code",
   "source": [
    "all_lemmata[200:400]"
   ],
   "metadata": {
    "collapsed": false,
    "ExecuteTime": {
     "end_time": "2024-05-02T18:29:41.607822Z",
     "start_time": "2024-05-02T18:29:41.600306Z"
    }
   },
   "id": "58f49bdd697d7c2a",
   "outputs": [
    {
     "data": {
      "text/plain": [
       "[('Ord.', 'Oard.s', 'VERB', 1250),\n",
       " ('&', '&', 'PUNCT', 1255),\n",
       " ('Academic', 'academic', 'VERB', 1257),\n",
       " ('.', '.', 'PUNCT', 1265),\n",
       " ('Curios', 'Curii', 'NOUN', 1267),\n",
       " ('.', '.', 'PUNCT', 1273),\n",
       " ('dict', 'dict', 'VERB', 1275),\n",
       " ('.', '.', 'PUNCT', 1279),\n",
       " ('Chiron', 'Chiron', 'PROPN', 1281),\n",
       " ('.', '.', 'PUNCT', 1287),\n",
       " ('Cum', 'cum', 'SCONJ', 1289),\n",
       " ('Gratia', 'Gratia', 'NOUN', 1293),\n",
       " ('&', '&', 'PUNCT', 1300),\n",
       " ('Privilegio', 'Privilegium', 'NOUN', 1302),\n",
       " ('S.', 'S.', '', 1313),\n",
       " ('C.', 'C.arcus', 'PROPN', 1316),\n",
       " ('Majest', 'Majest', 'PROPN', 1319),\n",
       " ('.', '.', 'PUNCT', 1325),\n",
       " ('Ooabvv', 'Ooabvv', 'NUM', 1327),\n",
       " ('-', '-', 'PUNCT', 1333),\n",
       " ('ii', 'is', 'NUM', 1334),\n",
       " ('Norimbergae', 'Norimbergaa', 'PROPN', 1337),\n",
       " (',', ',', 'PUNCT', 1348),\n",
       " ('Impensis', 'impensis', 'NOUN', 1350),\n",
       " ('Johannis', 'Johann', 'PROPN', 1359),\n",
       " ('Georgii', 'Georgius', 'PROPN', 1368),\n",
       " ('Endteri', 'Endteri', 'PROPN', 1376),\n",
       " ('.', '.', 'PUNCT', 1383),\n",
       " ('Anno', 'Annus', 'NOUN', 1385),\n",
       " ('Christi', 'Christus', 'PROPN', 1390),\n",
       " ('M.', 'M.', 'PROPN', 1398),\n",
       " ('Dc', 'Dc', 'ADV', 1401),\n",
       " ('.', '.', 'PUNCT', 1403),\n",
       " ('Lxxxvi', 'Lxxxvi', 'PROPN', 1405),\n",
       " ('.', '.', 'PUNCT', 1411),\n",
       " ('Reverendissimo', 'Reverendissimus', 'ADJ', 1413),\n",
       " ('Serenissimo', 'Serenissimus', 'ADJ', 1428),\n",
       " ('Principi', 'Principi', 'NOUN', 1440),\n",
       " ('Ac', 'atque', 'CCONJ', 1449),\n",
       " ('Domino', 'dominus', 'NOUN', 1452),\n",
       " (',', ',', 'PUNCT', 1458),\n",
       " ('Domino', 'dominus', 'NOUN', 1460),\n",
       " ('Ic', 'Ic', 'PROPN', 1467),\n",
       " ('Ud', 'Ud', 'ADV', 1470),\n",
       " ('Fonio', 'Fonius', 'PROPN', 1473),\n",
       " ('Al', 'Al', 'NOUN', 1479),\n",
       " ('Generali', 'General', 'ADJ', 1482),\n",
       " ('Militiae', 'Militia', 'NOUN', 1491),\n",
       " ('Hierosolymitanae', 'Hierosolymitanus', 'ADJ', 1500),\n",
       " ('Ordinis', 'Ordo', 'NOUN', 1517),\n",
       " ('B.', 'B.', 'NOUN', 1525),\n",
       " ('Mariae', 'Maria', 'PROPN', 1528),\n",
       " ('Teutonicorum', 'Teutonicus', 'ADJ', 1535),\n",
       " (',', ',', 'PUNCT', 1547),\n",
       " ('Prussiae', 'Prussia', 'PROPN', 1549),\n",
       " ('Administratori', 'Administratori', 'PROPN', 1558),\n",
       " (',', ',', 'PUNCT', 1572),\n",
       " ('Ac', 'atque', 'CCONJ', 1574),\n",
       " ('Ejusdem', 'Ejusdem', 'PROPN', 1577),\n",
       " ('Per', 'Per', 'ADP', 1585),\n",
       " ('Germaniam', 'Germania', 'PROPN', 1589),\n",
       " (',', ',', 'PUNCT', 1598),\n",
       " ('Italiam', 'Italia', 'PROPN', 1600),\n",
       " (',', ',', 'PUNCT', 1607),\n",
       " ('Partes', 'Partes', 'NOUN', 1609),\n",
       " ('que', 'que', 'CCONJ', 1615),\n",
       " ('Transmarinas', 'Transmarinas', 'PROPN', 1619),\n",
       " ('Supremo', 'Supremo', 'ADJ', 1632),\n",
       " ('Magistro', 'Magister', 'NOUN', 1640),\n",
       " (',', ',', 'PUNCT', 1648),\n",
       " ('Comiti', 'Comiti', 'PROPN', 1650),\n",
       " ('Palatino', 'Palatinus', 'PROPN', 1657),\n",
       " ('Rheni', 'Rhenus', 'PROPN', 1666),\n",
       " (',', ',', 'PUNCT', 1671),\n",
       " ('Bavariae', 'Bavariae', 'PROPN', 1673),\n",
       " (';', ';', 'PUNCT', 1681),\n",
       " ('Juliae', 'Julia', 'PROPN', 1683),\n",
       " (',', ',', 'PUNCT', 1689),\n",
       " ('Cliviae', 'Clivia', 'PROPN', 1691),\n",
       " (',', ',', 'PUNCT', 1698),\n",
       " ('Et', 'et', 'CCONJ', 1700),\n",
       " ('Montium', 'Montium', 'NOUN', 1703),\n",
       " ('Duci', 'Duci', 'NOUN', 1711),\n",
       " (',', ',', 'PUNCT', 1715),\n",
       " ('Comiti', 'Comiti', 'PROPN', 1717),\n",
       " ('Veldentiae', 'Veldentiaa', 'NOUN', 1724),\n",
       " (',', ',', 'PUNCT', 1734),\n",
       " ('Sponhemii', 'Sponhemii', 'PROPN', 1736),\n",
       " (',', ',', 'PUNCT', 1745),\n",
       " ('Marchiae', 'Marchia', 'PROPN', 1747),\n",
       " (',', ',', 'PUNCT', 1755),\n",
       " ('Ravenspergae', 'Ravenspergae', 'PROPN', 1757),\n",
       " (',', ',', 'PUNCT', 1769),\n",
       " ('Et', 'et', 'CCONJ', 1771),\n",
       " ('Morsae', 'morsae', 'NOUN', 1774),\n",
       " (',', ',', 'PUNCT', 1780),\n",
       " ('Dynastae', 'dynastae', 'PROPN', 1782),\n",
       " ('In', 'in', 'ADP', 1791),\n",
       " ('Ravenstein', 'Ravenstein', 'PROPN', 1794),\n",
       " (',', ',', 'PUNCT', 1804),\n",
       " ('Freudenthal', 'Freudenthal', 'PROPN', 1806),\n",
       " (',', ',', 'PUNCT', 1817),\n",
       " ('Et', 'et', 'CCONJ', 1819),\n",
       " ('Eulenberg', 'Eulenbergs', 'PROPN', 1822),\n",
       " ('&', '&', 'PUNCT', 1832),\n",
       " ('c.', 'c.', 'ADV', 1833),\n",
       " ('&', '&', 'PUNCT', 1836),\n",
       " ('c.', 'c.', 'ADV', 1837),\n",
       " ('Principi', 'Principi', 'NOUN', 1840),\n",
       " ('Et', 'et', 'CCONJ', 1849),\n",
       " ('Domino', 'dominus', 'NOUN', 1852),\n",
       " ('Meo', 'Meus', 'ADJ', 1859),\n",
       " ('Clementissimo', 'Clementissimo', 'PROPN', 1863),\n",
       " ('Vitam', 'Vita', 'NOUN', 1877),\n",
       " ('Et', 'et', 'CCONJ', 1883),\n",
       " ('Felicitatem', 'Felicitatem', 'NOUN', 1886),\n",
       " ('.', '.', 'PUNCT', 1897),\n",
       " ('iu', 'iu', 'NUM', 1899),\n",
       " ('.', '.', 'PUNCT', 1901),\n",
       " ('Reverendissime', 'Reverendissime', 'ADV', 1903),\n",
       " ('Ac', 'atque', 'CCONJ', 1918),\n",
       " ('Serenissime', 'serenissime', 'ADV', 1921),\n",
       " ('Rinceps', 'Rinceps', 'PROPN', 1933),\n",
       " (',', ',', 'PUNCT', 1940),\n",
       " ('Domine', 'dominus', 'NOUN', 1942),\n",
       " (',', ',', 'PUNCT', 1948),\n",
       " ('Domine', 'dominus', 'NOUN', 1950),\n",
       " ('Clementissime', 'Clementissimus', 'PROPN', 1957),\n",
       " ('!', '!', 'PUNCT', 1970),\n",
       " ('On', 'on', 'PART', 1972),\n",
       " ('nova', 'nouus', 'ADJ', 1975),\n",
       " ('est', 'sum', 'AUX', 1980),\n",
       " (',', ',', 'PUNCT', 1983),\n",
       " ('sed', 'sed', 'CCONJ', 1985),\n",
       " ('ab', 'ab', 'ADP', 1989),\n",
       " ('antiquissimis', 'antiquus', 'ADJ', 1992),\n",
       " ('temporibus', 'tempus', 'NOUN', 2006),\n",
       " ('eundo', 'eundo', 'VERB', 2017),\n",
       " ('ad', 'ad', 'ADP', 2023),\n",
       " ('nos', 'nos', 'PRON', 2026),\n",
       " ('quasi', 'quasi', 'ADV', 2030),\n",
       " ('per', 'per', 'ADP', 2036),\n",
       " ('traducem', 'tradux', 'NOUN', 2040),\n",
       " ('illa', 'ille', 'DET', 2049),\n",
       " ('serpit', 'serpo', 'VERB', 2054),\n",
       " ('consuetudo', 'consuetudo', 'NOUN', 2061),\n",
       " (',', ',', 'PUNCT', 2071),\n",
       " ('quâ', 'quâ', 'ADV', 2073),\n",
       " ('Librorum', 'Libri', 'NOUN', 2077),\n",
       " ('frontibus', 'frons', 'NOUN', 2086),\n",
       " ('Magni', 'magnus', 'ADJ', 2096),\n",
       " ('Patroni', 'Patrus', 'PROPN', 2102),\n",
       " (',', ',', 'PUNCT', 2109),\n",
       " ('velut', 'uelut', 'SCONJ', 2111),\n",
       " ('Tutela3', 'Tutela3', 'NOUN', 2117),\n",
       " ('ris', 'res', 'NOUN', 2125),\n",
       " ('Numinis', 'Numen', 'PROPN', 2129),\n",
       " ('nomen', 'nomen', 'NOUN', 2137),\n",
       " ('praescribi', 'praescribi', 'VERB', 2143),\n",
       " ('solet', 'soleo', 'VERB', 2154),\n",
       " ('.', '.', 'PUNCT', 2159),\n",
       " ('Hoc', 'hic', 'DET', 2161),\n",
       " ('que', 'que', 'CCONJ', 2164),\n",
       " ('tantum', 'tantum', 'ADV', 2168),\n",
       " ('abest', 'absum', 'VERB', 2175),\n",
       " (',', ',', 'PUNCT', 2180),\n",
       " ('ut', 'ut', 'SCONJ', 2182),\n",
       " ('Ipsi', 'ipse', 'DET', 2185),\n",
       " ('etiam', 'etiam', 'ADV', 2190),\n",
       " ('Imperatores', 'Imperatores', 'NOUN', 2196),\n",
       " (',', ',', 'PUNCT', 2207),\n",
       " ('Reges', 'Reges', 'NOUN', 2209),\n",
       " (',', ',', 'PUNCT', 2214),\n",
       " ('Electores', 'Electores', 'NOUN', 2216),\n",
       " (',', ',', 'PUNCT', 2225),\n",
       " ('Principes', 'Principes', 'PROPN', 2227),\n",
       " (',', ',', 'PUNCT', 2236),\n",
       " ('jam', 'jam', 'ADV', 2238),\n",
       " ('olim', 'olim', 'ADV', 2242),\n",
       " ('inclementer', 'inclementer', 'ADV', 2247),\n",
       " ('tulerint', 'tulerint', 'VERB', 2259),\n",
       " (',', ',', 'PUNCT', 2267),\n",
       " ('ut', 'ut', 'SCONJ', 2269),\n",
       " ('potiùs', 'potiùs', 'ADJ', 2272),\n",
       " ('id', 'is', 'PRON', 2279),\n",
       " ('ausos', 'ausos', 'VERB', 2282),\n",
       " ('haud', 'haud', 'PART', 2288),\n",
       " ('rarò', 'rarò', 'NOUN', 2293),\n",
       " ('vultu', 'uultus', 'NOUN', 2298),\n",
       " ('respexerint', 'respexerint', 'VERB', 2304),\n",
       " ('serenissimo', 'serenus', 'ADJ', 2316),\n",
       " ('.', '.', 'PUNCT', 2327),\n",
       " ('!', '!', 'PUNCT', 2329),\n",
       " ('Quo', 'qui', 'PRON', 2331),\n",
       " ('quidem', 'quidem', 'ADV', 2335),\n",
       " ('honore', 'honor', 'NOUN', 2342),\n",
       " ('quanquam', 'quamquam', 'SCONJ', 2349),\n",
       " ('me', 'ego', 'PRON', 2358),\n",
       " ('dignum', 'dignus', 'ADJ', 2361),\n",
       " ('aestimare', 'aestimo', 'VERB', 2368)]"
      ]
     },
     "execution_count": 14,
     "metadata": {},
     "output_type": "execute_result"
    }
   ],
   "execution_count": 14
  },
  {
   "cell_type": "code",
   "source": [
    "doc_lemmata = [\" \".join([t.lemma_.lower() for t in sent if not t.is_punct]) for sent in doc.sents]\n",
    "doc_postags = [\" \".join([t.pos_ for t in sent if not t.is_punct]) for sent in doc.sents]\n",
    "doc_sents = [sent.text for sent in doc.sents]"
   ],
   "metadata": {
    "collapsed": false,
    "ExecuteTime": {
     "end_time": "2024-05-02T18:29:42.448478Z",
     "start_time": "2024-05-02T18:29:41.608549Z"
    }
   },
   "id": "d212da7dbbd7a334",
   "outputs": [],
   "execution_count": 15
  },
  {
   "cell_type": "code",
   "source": [
    "all_sents_lemmata = []\n",
    "for sent in doc.sents:\n",
    "    sent_lemmata = []\n",
    "    for token in sent:\n",
    "        #if token.pos_ in [\"NOUN\", \"VERB\", \"ADJ\"]:\n",
    "        sent_lemmata.append((token.text, token.lemma_, token.tag_))\n",
    "    all_sents_lemmata.append(sent_lemmata)"
   ],
   "metadata": {
    "collapsed": false,
    "ExecuteTime": {
     "end_time": "2024-05-02T18:29:43.115973Z",
     "start_time": "2024-05-02T18:29:42.449384Z"
    }
   },
   "id": "3d71c0e485febae4",
   "outputs": [],
   "execution_count": 16
  },
  {
   "cell_type": "code",
   "source": [
    "try:\n",
    "    !mkdir ../data/large_data/sents_lemmata\n",
    "    !mkdir ../data/large_data/sents_pos\n",
    "    !mkdir ../data/large_data/sents_text\n",
    "    !mkdir ../data/large_data/sents_positions\n",
    "except:\n",
    "    pass"
   ],
   "metadata": {
    "collapsed": false,
    "ExecuteTime": {
     "end_time": "2024-02-07T21:40:33.150380Z",
     "start_time": "2024-02-07T21:40:32.998539Z"
    }
   },
   "id": "bb83db9767e6728b",
   "outputs": [],
   "execution_count": 25
  },
  {
   "cell_type": "code",
   "source": [
    "jsonfiles_list[0]"
   ],
   "metadata": {
    "collapsed": false,
    "ExecuteTime": {
     "end_time": "2024-05-02T18:29:43.120115Z",
     "start_time": "2024-05-02T18:29:43.118032Z"
    }
   },
   "id": "1825edc6756367ae",
   "outputs": [
    {
     "data": {
      "text/plain": [
       "'1031760.json'"
      ]
     },
     "execution_count": 17,
     "metadata": {},
     "output_type": "execute_result"
    }
   ],
   "execution_count": 17
  },
  {
   "cell_type": "code",
   "source": [
    "fn = jsonfiles_list[0]\n",
    "doc = filename_to_doc(fn)"
   ],
   "metadata": {
    "collapsed": false,
    "ExecuteTime": {
     "end_time": "2024-05-02T18:29:46.257601Z",
     "start_time": "2024-05-02T18:29:43.120919Z"
    }
   },
   "id": "9339aae97e133c4d",
   "outputs": [],
   "execution_count": 18
  },
  {
   "metadata": {
    "ExecuteTime": {
     "end_time": "2024-05-02T18:29:46.459061Z",
     "start_time": "2024-05-02T18:29:46.258252Z"
    }
   },
   "cell_type": "code",
   "source": [
    "doc_lemmata = [\" \".join([t.lemma_.lower() for t in sent]) for sent in doc.sents]\n",
    "doc_positions = [[(t.idx - sent[0].idx, t.idx - sent[0].idx + len(t)) for t in sent] for sent in doc.sents]\n",
    "doc_postags = [\" \".join([t.pos_ for t in sent]) for sent in doc.sents]\n",
    "doc_sents = [sent.text for sent in doc.sents]"
   ],
   "id": "a7dcf5fd3d268b37",
   "outputs": [],
   "execution_count": 19
  },
  {
   "metadata": {
    "ExecuteTime": {
     "end_time": "2024-05-02T18:29:46.465316Z",
     "start_time": "2024-05-02T18:29:46.459648Z"
    }
   },
   "cell_type": "code",
   "source": "doc_positions[:10]",
   "id": "6446b60a88f35904",
   "outputs": [
    {
     "data": {
      "text/plain": [
       "[[(0, 9),\n",
       "  (10, 12),\n",
       "  (13, 22),\n",
       "  (23, 24),\n",
       "  (25, 30),\n",
       "  (31, 38),\n",
       "  (39, 50),\n",
       "  (51, 52),\n",
       "  (53, 64),\n",
       "  (65, 70),\n",
       "  (70, 71)],\n",
       " [(0, 5), (6, 19), (20, 21), (22, 31), (32, 40), (40, 41)],\n",
       " [(0, 4), (5, 12), (13, 17), (18, 25), (26, 33), (34, 45), (46, 52), (52, 53)],\n",
       " [(0, 4), (4, 5)],\n",
       " [(0, 11),\n",
       "  (12, 14),\n",
       "  (15, 24),\n",
       "  (24, 25),\n",
       "  (26, 38),\n",
       "  (38, 39),\n",
       "  (40, 45),\n",
       "  (45, 48),\n",
       "  (49, 53),\n",
       "  (54, 56),\n",
       "  (57, 65),\n",
       "  (66, 75),\n",
       "  (75, 76),\n",
       "  (77, 81),\n",
       "  (82, 92),\n",
       "  (93, 94),\n",
       "  (95, 103),\n",
       "  (104, 109),\n",
       "  (110, 115),\n",
       "  (115, 116),\n",
       "  (117, 124),\n",
       "  (125, 134),\n",
       "  (135, 142),\n",
       "  (142, 143)],\n",
       " [(0, 2),\n",
       "  (3, 7),\n",
       "  (8, 11),\n",
       "  (12, 20),\n",
       "  (21, 26),\n",
       "  (26, 27),\n",
       "  (28, 39),\n",
       "  (40, 47),\n",
       "  (48, 52),\n",
       "  (53, 57),\n",
       "  (58, 66),\n",
       "  (67, 76),\n",
       "  (76, 77),\n",
       "  (78, 83),\n",
       "  (84, 92),\n",
       "  (93, 98),\n",
       "  (99, 100),\n",
       "  (100, 104),\n",
       "  (105, 107),\n",
       "  (108, 115),\n",
       "  (116, 125),\n",
       "  (126, 130),\n",
       "  (130, 131),\n",
       "  (132, 135),\n",
       "  (136, 142),\n",
       "  (143, 144),\n",
       "  (145, 152),\n",
       "  (152, 153)],\n",
       " [(0, 4),\n",
       "  (5, 14),\n",
       "  (15, 20),\n",
       "  (21, 30),\n",
       "  (30, 31),\n",
       "  (32, 33),\n",
       "  (34, 36),\n",
       "  (37, 48),\n",
       "  (49, 54),\n",
       "  (55, 65),\n",
       "  (66, 74),\n",
       "  (74, 75),\n",
       "  (76, 78),\n",
       "  (79, 81),\n",
       "  (82, 85),\n",
       "  (86, 97),\n",
       "  (98, 109),\n",
       "  (109, 110),\n",
       "  (111, 113),\n",
       "  (114, 117),\n",
       "  (118, 122),\n",
       "  (123, 133),\n",
       "  (134, 139),\n",
       "  (140, 146),\n",
       "  (146, 147),\n",
       "  (148, 149),\n",
       "  (150, 155),\n",
       "  (156, 157),\n",
       "  (157, 160),\n",
       "  (161, 164),\n",
       "  (165, 172),\n",
       "  (173, 175),\n",
       "  (176, 182),\n",
       "  (182, 183),\n",
       "  (184, 187),\n",
       "  (188, 194),\n",
       "  (195, 197),\n",
       "  (198, 206),\n",
       "  (207, 209),\n",
       "  (210, 218),\n",
       "  (219, 225),\n",
       "  (225, 226),\n",
       "  (227, 235),\n",
       "  (236, 242),\n",
       "  (243, 245),\n",
       "  (246, 254),\n",
       "  (254, 255)],\n",
       " [(0, 3), (4, 10), (11, 13), (14, 20), (21, 27), (27, 28)],\n",
       " [(0, 2),\n",
       "  (3, 7),\n",
       "  (8, 15),\n",
       "  (16, 19),\n",
       "  (20, 31),\n",
       "  (31, 32),\n",
       "  (33, 39),\n",
       "  (40, 42),\n",
       "  (43, 51),\n",
       "  (52, 62),\n",
       "  (63, 67),\n",
       "  (67, 68),\n",
       "  (69, 73),\n",
       "  (74, 78),\n",
       "  (79, 84),\n",
       "  (85, 86),\n",
       "  (86, 88),\n",
       "  (89, 93),\n",
       "  (94, 98),\n",
       "  (99, 110),\n",
       "  (110, 111),\n",
       "  (112, 116),\n",
       "  (117, 119),\n",
       "  (120, 131),\n",
       "  (131, 132),\n",
       "  (133, 136),\n",
       "  (137, 139),\n",
       "  (140, 142),\n",
       "  (143, 154),\n",
       "  (155, 162),\n",
       "  (162, 163),\n",
       "  (164, 167),\n",
       "  (168, 170),\n",
       "  (171, 179),\n",
       "  (180, 185),\n",
       "  (186, 197),\n",
       "  (198, 209),\n",
       "  (209, 210),\n",
       "  (211, 216),\n",
       "  (217, 224),\n",
       "  (225, 228),\n",
       "  (229, 236),\n",
       "  (237, 241),\n",
       "  (241, 242)],\n",
       " [(0, 9),\n",
       "  (10, 14),\n",
       "  (15, 23),\n",
       "  (24, 29),\n",
       "  (30, 36),\n",
       "  (36, 37),\n",
       "  (38, 42),\n",
       "  (43, 47),\n",
       "  (48, 54),\n",
       "  (55, 61),\n",
       "  (62, 63),\n",
       "  (64, 70),\n",
       "  (71, 78),\n",
       "  (78, 79),\n",
       "  (80, 88),\n",
       "  (88, 89),\n",
       "  (90, 95),\n",
       "  (96, 105),\n",
       "  (106, 107),\n",
       "  (107, 111),\n",
       "  (112, 119),\n",
       "  (120, 125),\n",
       "  (126, 132),\n",
       "  (132, 133),\n",
       "  (134, 142),\n",
       "  (143, 147),\n",
       "  (147, 148),\n",
       "  (149, 150),\n",
       "  (151, 159),\n",
       "  (159, 160),\n",
       "  (161, 162),\n",
       "  (163, 169),\n",
       "  (170, 171),\n",
       "  (172, 177),\n",
       "  (178, 188),\n",
       "  (188, 189),\n",
       "  (190, 195),\n",
       "  (196, 201),\n",
       "  (202, 205),\n",
       "  (206, 208),\n",
       "  (209, 217),\n",
       "  (218, 219),\n",
       "  (220, 228),\n",
       "  (229, 235),\n",
       "  (236, 237),\n",
       "  (238, 250),\n",
       "  (250, 251)]]"
      ]
     },
     "execution_count": 20,
     "metadata": {},
     "output_type": "execute_result"
    }
   ],
   "execution_count": 20
  },
  {
   "metadata": {
    "ExecuteTime": {
     "end_time": "2024-05-02T18:29:46.468321Z",
     "start_time": "2024-05-02T18:29:46.466349Z"
    }
   },
   "cell_type": "code",
   "source": "print(len(doc_lemmata), len(doc_sents), len(doc_positions), len(doc_postags))  ",
   "id": "25f0d36e6d5dae6f",
   "outputs": [
    {
     "name": "stdout",
     "output_type": "stream",
     "text": [
      "5453 5453 5453 5453\n"
     ]
    }
   ],
   "execution_count": 21
  },
  {
   "metadata": {
    "ExecuteTime": {
     "end_time": "2024-05-02T07:48:29.871494Z",
     "start_time": "2024-05-02T07:48:29.748162Z"
    }
   },
   "cell_type": "code",
   "source": [
    "with open(\"../data/large_data/sents_positions/\" + fn.replace(\".json\", \".pickle\"), \"wb\") as f:\n",
    "    pickle.dump(doc_positions, f)"
   ],
   "id": "a3471a4459f5b01",
   "outputs": [],
   "execution_count": 27
  },
  {
   "metadata": {
    "ExecuteTime": {
     "end_time": "2024-05-02T07:50:43.788558Z",
     "start_time": "2024-05-02T07:50:43.786476Z"
    }
   },
   "cell_type": "code",
   "source": [
    "# to read it back: \n",
    "# pickle.load(open(\"../data/large_data/sents_positions/\" + fn.replace(\".json\", \".pickle\"), \"rb\"))"
   ],
   "id": "b6e7c72e1b2276",
   "outputs": [],
   "execution_count": 30
  },
  {
   "metadata": {},
   "cell_type": "code",
   "outputs": [],
   "execution_count": null,
   "source": "",
   "id": "95d0fbf553ec209d"
  },
  {
   "metadata": {},
   "cell_type": "code",
   "outputs": [],
   "execution_count": null,
   "source": [
    "#f_lemmata = open(\"../data/large_data/sents_lemmata/\" + fn.replace(\".json\", \".txt\"), \"w\", encoding=\"utf-8\")\n",
    "#doc_lemmata = [\" \".join([t.lemma_.lower() for t in sent if not t.is_punct]) for sent in doc.sents]\n",
    "#f_lemmata.writelines(\"\\n\".join(doc_lemmata))\n",
    "\n",
    "#f_postags = open(\"../data/large_data/sents_pos/\" + fn.replace(\".json\", \".txt\"), \"w\", encoding=\"utf-8\")\n",
    "#doc_postags = [\" \".join([t.pos_ for t in sent if not t.is_punct]) for sent in doc.sents]\n",
    "#f_postags.writelines(\"\\n\".join(doc_postags))\n",
    "\n",
    "#f_sents = open(\"../data/large_data/sents_text/\" + fn.replace(\".json\", \".txt\"), \"w\", encoding=\"utf-8\")\n",
    "# doc_sents = [sent.text for sent in doc.sents]\n",
    "# f_sents.writelines(\"\\n\".join(doc_sents))"
   ],
   "id": "721f1ee843ac9b3d"
  },
  {
   "cell_type": "code",
   "source": [
    "files_ready = os.listdir(\"../data/large_data/sents_lemmata\")"
   ],
   "metadata": {
    "collapsed": false,
    "ExecuteTime": {
     "end_time": "2024-05-02T07:51:32.345362Z",
     "start_time": "2024-05-02T07:51:32.339193Z"
    }
   },
   "id": "c1b53d40665bd362",
   "outputs": [],
   "execution_count": 31
  },
  {
   "cell_type": "code",
   "execution_count": 51,
   "outputs": [],
   "source": [
    "for fn in jsonfiles_list:\n",
    "    if fn.replace(\".json\", \".txt\") not in files_ready:\n",
    "        doc = filename_to_doc(fn)\n",
    "        f_lemmata = open(\"../data/large_data/sents_lemmata/\" + fn.replace(\".json\", \".txt\"), \"w\", encoding=\"utf-8\")\n",
    "        doc_lemmata = [\" \".join([t.lemma_.lower() for t in sent]) for sent in doc.sents]\n",
    "        f_lemmata.writelines(\"\\n\".join(doc_lemmata))\n",
    "        f_postags = open(\"../data/large_data/sents_pos/\" + fn.replace(\".json\", \".txt\"), \"w\", encoding=\"utf-8\")\n",
    "        doc_postags = [\" \".join([t.pos_ for t in sent]) for sent in doc.sents]\n",
    "        f_postags.writelines(\"\\n\".join(doc_postags))\n",
    "        f_sents = open(\"../data/large_data/sents_text/\" + fn.replace(\".json\", \".txt\"), \"w\", encoding=\"utf-8\")\n",
    "        doc_sents = [sent.text for sent in doc.sents]\n",
    "        f_sents.writelines(\"\\n\".join(doc_sents))"
   ],
   "metadata": {
    "collapsed": false,
    "ExecuteTime": {
     "end_time": "2023-11-21T13:27:07.753960Z",
     "start_time": "2023-11-21T09:15:37.681931Z"
    }
   },
   "id": "ddf7eaafd0356bc9"
  },
  {
   "metadata": {
    "ExecuteTime": {
     "end_time": "2024-05-02T18:29:46.474760Z",
     "start_time": "2024-05-02T18:29:46.469031Z"
    }
   },
   "cell_type": "code",
   "source": [
    "f_sents_ready = os.listdir(\"../data/large_data/sents_text\")\n",
    "len(f_sents_ready)"
   ],
   "id": "9dd7fd4296177c27",
   "outputs": [
    {
     "data": {
      "text/plain": [
       "1001"
      ]
     },
     "execution_count": 22,
     "metadata": {},
     "output_type": "execute_result"
    }
   ],
   "execution_count": 22
  },
  {
   "metadata": {
    "ExecuteTime": {
     "end_time": "2024-05-02T18:31:38.898445Z",
     "start_time": "2024-05-02T18:31:38.891817Z"
    }
   },
   "cell_type": "code",
   "source": [
    "f_positions_ready = os.listdir(\"../data/large_data/sents_positions\")\n",
    "len(f_positions_ready)"
   ],
   "id": "27fece9c39ad40af",
   "outputs": [
    {
     "data": {
      "text/plain": [
       "967"
      ]
     },
     "execution_count": 25,
     "metadata": {},
     "output_type": "execute_result"
    }
   ],
   "execution_count": 25
  },
  {
   "cell_type": "code",
   "source": [
    "for fn in jsonfiles_list:\n",
    "    if fn.replace(\".json\", \".txt\") not in f_sents_ready and fn.replace(\".json\", \".pickle\") not in f_positions_ready:\n",
    "        doc = filename_to_doc(fn)\n",
    "        doc_positions = [[(t.idx - sent[0].idx, t.idx - sent[0].idx + len(t)) for t in sent] for sent in doc.sents]\n",
    "        with open(\"../data/large_data/sents_positions/\" + fn.replace(\".json\", \".pickle\"), \"wb\") as f:\n",
    "            pickle.dump(doc_positions, f)\n",
    "        if fn not in f_sents_ready:\n",
    "            with open(\"../data/large_data/sents_text/\" + fn.replace(\".json\", \".txt\"), \"w\", encoding=\"utf-8\") as f_sents:\n",
    "                doc_sents = [sent.text for sent in doc.sents]\n",
    "                f_sents.writelines(\"\\n\".join(doc_sents))"
   ],
   "metadata": {
    "collapsed": false,
    "ExecuteTime": {
     "end_time": "2024-05-02T18:31:09.952231Z",
     "start_time": "2024-05-02T18:30:59.851519Z"
    }
   },
   "id": "a55a2198dda079ef",
   "outputs": [],
   "execution_count": 24
  },
  {
   "metadata": {
    "ExecuteTime": {
     "end_time": "2024-05-02T19:00:56.720754Z",
     "start_time": "2024-05-02T18:32:34.486280Z"
    }
   },
   "cell_type": "code",
   "source": [
    "for fn in jsonfiles_list:\n",
    "    if fn.replace(\".json\", \".pickle\") not in f_positions_ready:\n",
    "        doc = filename_to_doc(fn)\n",
    "        doc_positions = [[(t.idx - sent[0].idx, t.idx - sent[0].idx + len(t)) for t in sent] for sent in doc.sents]\n",
    "        with open(\"../data/large_data/sents_positions/\" + fn.replace(\".json\", \".pickle\"), \"wb\") as f:\n",
    "            pickle.dump(doc_positions, f)"
   ],
   "id": "13cd75a27ead5588",
   "outputs": [],
   "execution_count": 26
  },
  {
   "cell_type": "code",
   "execution_count": 56,
   "outputs": [
    {
     "data": {
      "text/plain": "'/Users/vojtechkase/Projects/noscemus_ETF/data/large_data/sents_pos.zip'"
     },
     "execution_count": 56,
     "metadata": {},
     "output_type": "execute_result"
    }
   ],
   "source": [
    "# make zip archives of the text files with lemmatazed sentences and pos tags\n",
    "shutil.make_archive(\"../data/large_data/sents_lemmata\", 'zip', \"../data/large_data/sents_lemmata\") #\n",
    "shutil.make_archive(\"../data/large_data/sents_pos\", 'zip', \"../data/large_data/sents_pos\") #"
   ],
   "metadata": {
    "collapsed": false,
    "ExecuteTime": {
     "end_time": "2023-11-24T20:34:07.076968Z",
     "start_time": "2023-11-24T20:33:17.621287Z"
    }
   },
   "id": "3dc6bcabe2ab2012"
  },
  {
   "cell_type": "code",
   "execution_count": 65,
   "outputs": [
    {
     "data": {
      "text/plain": "<Response [201]>"
     },
     "execution_count": 65,
     "metadata": {},
     "output_type": "execute_result"
    }
   ],
   "source": [
    "# upload the zip archived data to sciencedata.dk \n",
    "s.s.put(\"https://sciencedata.dk/sharingout/kase%40zcu.cz/TOME/DATA/NOSCEMUS/sents_lemmata.zip\", data=open(\"../data/large_data/sents_lemmata.zip\", \"rb\"))\n",
    "s.s.put(\"https://sciencedata.dk/sharingout/kase%40zcu.cz/TOME/DATA/NOSCEMUS/sents_pos.zip\", data=open(\"../data/large_data/sents_pos.zip\", \"rb\"))"
   ],
   "metadata": {
    "collapsed": false,
    "ExecuteTime": {
     "end_time": "2023-11-24T20:44:28.887317Z",
     "start_time": "2023-11-24T20:44:26.049923Z"
    }
   },
   "id": "ade47b57cd47e2ff"
  },
  {
   "cell_type": "code",
   "execution_count": null,
   "outputs": [],
   "source": [
    "# make a zip archive of all sentence text data and upload them to sciencedata\n",
    "shutil.make_archive(\"../data/large_data/sents_text\", 'zip', \"../data/large_data/sents_text\") #\n",
    "s.s.put(\"https://sciencedata.dk/sharingout/kase%40zcu.cz/TOME/DATA/NOSCEMUS/sents_text.zip\", data=open(\"../data/large_data/sents_text.zip\", \"rb\"))"
   ],
   "metadata": {
    "collapsed": false
   },
   "id": "63ae1e671dc6038b"
  },
  {
   "cell_type": "markdown",
   "source": [
    "# Preliminary explorations of Latin wordnet"
   ],
   "metadata": {
    "collapsed": false
   },
   "id": "32907c09aa3dc094"
  },
  {
   "cell_type": "code",
   "execution_count": 138,
   "outputs": [],
   "source": [
    "latinwn = pd.read_csv(\"https://raw.githubusercontent.com/CIRCSE/latinWordnet-revision/master/LiLa_LatinWordnet.csv\")"
   ],
   "metadata": {
    "collapsed": false,
    "ExecuteTime": {
     "end_time": "2023-11-07T08:39:57.944549Z",
     "start_time": "2023-11-07T08:39:56.993340Z"
    }
   },
   "id": "7d076900b344ec3f"
  },
  {
   "cell_type": "code",
   "execution_count": 139,
   "outputs": [
    {
     "data": {
      "text/plain": "      id     lemma   type                                lila_uri  \\\n0  90942     a, aa  LEMMA  http://lila-erc.eu/data/id/lemma/90942   \n1  86826   abactio  LEMMA  http://lila-erc.eu/data/id/lemma/86826   \n2  86828   abactor  LEMMA  http://lila-erc.eu/data/id/lemma/86828   \n3  91165   abactus  LEMMA  http://lila-erc.eu/data/id/lemma/91165   \n4  86833  abaculus  LEMMA  http://lila-erc.eu/data/id/lemma/86833   \n\n                                          id_synset  \\\n0  http://wordnet-rdf.princeton.edu/wn30/06831177-n   \n1  http://wordnet-rdf.princeton.edu/wn30/00391599-n   \n2  http://wordnet-rdf.princeton.edu/wn30/10544480-n   \n3  http://wordnet-rdf.princeton.edu/wn30/00780889-n   \n4  http://wordnet-rdf.princeton.edu/wn30/04435180-n   \n\n                                          definition  \n0               the 1st letter of the Roman alphabet  \n1                                the act of removing  \n2   someone who steals livestock (especially cattle)  \n3  the act of taking something from someone unlaw...  \n4  a flat thin rectangular slab (as of fired clay...  ",
      "text/html": "<div>\n<style scoped>\n    .dataframe tbody tr th:only-of-type {\n        vertical-align: middle;\n    }\n\n    .dataframe tbody tr th {\n        vertical-align: top;\n    }\n\n    .dataframe thead th {\n        text-align: right;\n    }\n</style>\n<table border=\"1\" class=\"dataframe\">\n  <thead>\n    <tr style=\"text-align: right;\">\n      <th></th>\n      <th>id</th>\n      <th>lemma</th>\n      <th>type</th>\n      <th>lila_uri</th>\n      <th>id_synset</th>\n      <th>definition</th>\n    </tr>\n  </thead>\n  <tbody>\n    <tr>\n      <th>0</th>\n      <td>90942</td>\n      <td>a, aa</td>\n      <td>LEMMA</td>\n      <td>http://lila-erc.eu/data/id/lemma/90942</td>\n      <td>http://wordnet-rdf.princeton.edu/wn30/06831177-n</td>\n      <td>the 1st letter of the Roman alphabet</td>\n    </tr>\n    <tr>\n      <th>1</th>\n      <td>86826</td>\n      <td>abactio</td>\n      <td>LEMMA</td>\n      <td>http://lila-erc.eu/data/id/lemma/86826</td>\n      <td>http://wordnet-rdf.princeton.edu/wn30/00391599-n</td>\n      <td>the act of removing</td>\n    </tr>\n    <tr>\n      <th>2</th>\n      <td>86828</td>\n      <td>abactor</td>\n      <td>LEMMA</td>\n      <td>http://lila-erc.eu/data/id/lemma/86828</td>\n      <td>http://wordnet-rdf.princeton.edu/wn30/10544480-n</td>\n      <td>someone who steals livestock (especially cattle)</td>\n    </tr>\n    <tr>\n      <th>3</th>\n      <td>91165</td>\n      <td>abactus</td>\n      <td>LEMMA</td>\n      <td>http://lila-erc.eu/data/id/lemma/91165</td>\n      <td>http://wordnet-rdf.princeton.edu/wn30/00780889-n</td>\n      <td>the act of taking something from someone unlaw...</td>\n    </tr>\n    <tr>\n      <th>4</th>\n      <td>86833</td>\n      <td>abaculus</td>\n      <td>LEMMA</td>\n      <td>http://lila-erc.eu/data/id/lemma/86833</td>\n      <td>http://wordnet-rdf.princeton.edu/wn30/04435180-n</td>\n      <td>a flat thin rectangular slab (as of fired clay...</td>\n    </tr>\n  </tbody>\n</table>\n</div>"
     },
     "execution_count": 139,
     "metadata": {},
     "output_type": "execute_result"
    }
   ],
   "source": [
    "latinwn.head(5)"
   ],
   "metadata": {
    "collapsed": false,
    "ExecuteTime": {
     "end_time": "2023-11-07T08:40:05.218647Z",
     "start_time": "2023-11-07T08:40:05.196010Z"
    }
   },
   "id": "643f085663cbb85d"
  },
  {
   "cell_type": "code",
   "execution_count": null,
   "outputs": [],
   "source": [],
   "metadata": {
    "collapsed": false
   },
   "id": "c815f36f365efc15"
  }
 ],
 "metadata": {
  "kernelspec": {
   "name": "brewkernel",
   "language": "python",
   "display_name": "brewkernel"
  },
  "language_info": {
   "codemirror_mode": {
    "name": "ipython",
    "version": 2
   },
   "file_extension": ".py",
   "mimetype": "text/x-python",
   "name": "python",
   "nbconvert_exporter": "python",
   "pygments_lexer": "ipython2",
   "version": "2.7.6"
  }
 },
 "nbformat": 4,
 "nbformat_minor": 5
}
