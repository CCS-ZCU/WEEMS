{
 "cells": [
  {
   "cell_type": "code",
   "execution_count": 3,
   "id": "initial_id",
   "metadata": {
    "collapsed": true,
    "ExecuteTime": {
     "end_time": "2023-11-30T22:01:53.882062Z",
     "start_time": "2023-11-30T22:01:51.911888Z"
    }
   },
   "outputs": [],
   "source": [
    "import os\n",
    "import spacy\n",
    "from spacy.tokens import Doc\n",
    "import sddk\n",
    "import pandas as pd\n",
    "import re\n",
    "import matplotlib.pyplot as plt\n",
    "import json\n",
    "import shutil\n",
    "\n",
    "import gspread\n",
    "from gspread_dataframe import get_as_dataframe, set_with_dataframe\n",
    "from google.oauth2 import service_account # based on google-auth library"
   ]
  },
  {
   "cell_type": "code",
   "execution_count": 4,
   "outputs": [],
   "source": [
    "# load the language model (see the previous script)\n",
    "nlp = spacy.load('la_core_web_lg')"
   ],
   "metadata": {
    "collapsed": false,
    "ExecuteTime": {
     "end_time": "2023-11-30T22:01:55.291230Z",
     "start_time": "2023-11-30T22:01:54.469416Z"
    }
   },
   "id": "234d6a3cc5f7a819"
  },
  {
   "cell_type": "code",
   "execution_count": 5,
   "outputs": [],
   "source": [
    "# setup communication with gsheet \"noscemus_overview\n",
    "# to make this work, you need your ServiceAccountKey.json file located somewhere and to point out to it\n",
    "# I have it in the data folder and in the .gitignore file, what makes it invisible to others; you can make the same\n",
    "file_data = json.load(open(\"../data/ServiceAccountsKey.json\"))\n",
    "# (2) transform the content into crendentials object\n",
    "credentials = service_account.Credentials.from_service_account_info(file_data)\n",
    "# (3) specify your usage of the credentials\n",
    "scoped_credentials = credentials.with_scopes(['https://spreadsheets.google.com/feeds', 'https://www.googleapis.com/auth/drive'])\n",
    "# (4) use the constrained credentials for authentication of gspread package\n",
    "gc = gspread.Client(auth=scoped_credentials)\n",
    "\n",
    "noscemus_gs = gc.open_by_url(\"https://docs.google.com/spreadsheets/d/1ekf9RBfd4yqy0p0IWJ4SDk1kUT70hnoIVX1H6KPdIts/edit?usp=sharing\")"
   ],
   "metadata": {
    "collapsed": false,
    "ExecuteTime": {
     "end_time": "2023-11-30T22:01:56.472801Z",
     "start_time": "2023-11-30T22:01:55.290287Z"
    }
   },
   "id": "1c7c54fa3f1fb3e1"
  },
  {
   "cell_type": "markdown",
   "source": [
    "# Load & Explore Spacy Docs"
   ],
   "metadata": {
    "collapsed": false
   },
   "id": "1279f7b9c397edef"
  },
  {
   "cell_type": "code",
   "execution_count": 6,
   "outputs": [
    {
     "name": "stdout",
     "output_type": "stream",
     "text": [
      "connection with shared folder established with you as its ordinary user\n",
      "endpoint variable has been configured to: https://sciencedata.dk/sharingout/kase%40zcu.cz/TOME/DATA/NOSCEMUS/\n"
     ]
    }
   ],
   "source": [
    "s = sddk.cloudSession(provider=\"sciencedata.dk\", shared_folder_name=\"TOME/DATA/NOSCEMUS\", owner=\"kase@zcu.cz\")"
   ],
   "metadata": {
    "collapsed": false,
    "ExecuteTime": {
     "end_time": "2023-11-30T22:02:38.253814Z",
     "start_time": "2023-11-30T22:02:24.671587Z"
    }
   },
   "id": "79df7273ed476626"
  },
  {
   "cell_type": "code",
   "execution_count": 7,
   "outputs": [
    {
     "data": {
      "text/plain": "['1031760.json',\n '1085290.json',\n '1285853.json',\n '1285854.json',\n '1285855.json',\n '1285856.json',\n '1365811.json',\n '1370560.json',\n '1378359.json',\n '1424044.json']"
     },
     "execution_count": 7,
     "metadata": {},
     "output_type": "execute_result"
    }
   ],
   "source": [
    "target_folder_name = \"noscemus_spacyjsons_v1\"\n",
    "jsonfiles_list = s.list_filenames(target_folder_name, \"json\")\n",
    "jsonfiles_list[:10]"
   ],
   "metadata": {
    "collapsed": false,
    "ExecuteTime": {
     "end_time": "2023-11-30T22:02:43.138600Z",
     "start_time": "2023-11-30T22:02:42.073862Z"
    }
   },
   "id": "34bc5c5fe82e46e5"
  },
  {
   "cell_type": "code",
   "execution_count": 8,
   "outputs": [
    {
     "data": {
      "text/plain": "1007"
     },
     "execution_count": 8,
     "metadata": {},
     "output_type": "execute_result"
    }
   ],
   "source": [
    "len(jsonfiles_list)"
   ],
   "metadata": {
    "collapsed": false,
    "ExecuteTime": {
     "end_time": "2023-11-30T22:02:45.813737Z",
     "start_time": "2023-11-30T22:02:45.796817Z"
    }
   },
   "id": "5c3fbb9bf94efdad"
  },
  {
   "cell_type": "code",
   "execution_count": 9,
   "outputs": [],
   "source": [
    "def filename_to_doc(filename, dir=target_folder_name):\n",
    "    doc_json = s.read_file(dir + \"/\" + filename, \"dict\")\n",
    "    doc = Doc(nlp.vocab).from_json(doc_json)\n",
    "    return doc"
   ],
   "metadata": {
    "collapsed": false,
    "ExecuteTime": {
     "end_time": "2023-11-30T22:03:06.382551Z",
     "start_time": "2023-11-30T22:03:06.362121Z"
    }
   },
   "id": "7d383461acae5343"
  },
  {
   "cell_type": "code",
   "execution_count": null,
   "outputs": [],
   "source": [
    "doc = filename_to_doc(jsonfiles_list[1])"
   ],
   "metadata": {
    "collapsed": false,
    "is_executing": true,
    "ExecuteTime": {
     "start_time": "2023-11-30T22:03:43.230549Z"
    }
   },
   "id": "2ff62112adc2da6"
  },
  {
   "cell_type": "code",
   "execution_count": 40,
   "outputs": [],
   "source": [
    "doc_data = {}\n",
    "doc_data[\"characters_n\"] = len(doc.text)\n",
    "doc_data[\"tokens_n\"] = len([t for t in doc])"
   ],
   "metadata": {
    "collapsed": false,
    "ExecuteTime": {
     "end_time": "2023-11-21T09:15:34.014395Z",
     "start_time": "2023-11-21T09:15:33.924428Z"
    }
   },
   "id": "f5be661e4f455ffc"
  },
  {
   "cell_type": "code",
   "execution_count": 41,
   "outputs": [
    {
     "data": {
      "text/plain": "{'characters_n': 2930782, 'tokens_n': 572944}"
     },
     "execution_count": 41,
     "metadata": {},
     "output_type": "execute_result"
    }
   ],
   "source": [
    "doc_data"
   ],
   "metadata": {
    "collapsed": false,
    "ExecuteTime": {
     "end_time": "2023-11-21T09:15:34.017625Z",
     "start_time": "2023-11-21T09:15:34.015235Z"
    }
   },
   "id": "39a051718c046b59"
  },
  {
   "cell_type": "code",
   "execution_count": 42,
   "outputs": [
    {
     "name": "stdout",
     "output_type": "stream",
     "text": [
      "Georg Abraham\n",
      "Lindenius\n",
      "Renovatus\n",
      "Medicis Lindenius\n",
      "Renqvatus\n",
      "Johannis\n",
      "Antonidae\n",
      "Linden\n",
      "Catalogum\n",
      "Authores\n",
      "Cynosuram\n",
      "Rerum\n",
      "Thematum\n",
      "Vitae\n",
      "Adscita\n",
      "Medicis\n",
      "Anne\n",
      "Lxii\n",
      "Continuati\n",
      "Norimberg\n"
     ]
    }
   ],
   "source": [
    "for ent in doc.ents[:20]:\n",
    "    print(ent.text)"
   ],
   "metadata": {
    "collapsed": false,
    "ExecuteTime": {
     "end_time": "2023-11-21T09:15:34.072469Z",
     "start_time": "2023-11-21T09:15:34.070196Z"
    }
   },
   "id": "ac6ca2bca41da4f7"
  },
  {
   "cell_type": "code",
   "execution_count": 43,
   "outputs": [],
   "source": [
    "all_lemmata = []\n",
    "for token in doc:\n",
    "    all_lemmata.append((token.text, token.lemma_, token.pos_))"
   ],
   "metadata": {
    "collapsed": false,
    "ExecuteTime": {
     "end_time": "2023-11-21T09:15:34.314641Z",
     "start_time": "2023-11-21T09:15:34.145460Z"
    }
   },
   "id": "4564df2935c1ef04"
  },
  {
   "cell_type": "code",
   "execution_count": 44,
   "outputs": [
    {
     "data": {
      "text/plain": "[('Ord.', 'Oard.s', 'VERB'),\n ('&', '&', 'PUNCT'),\n ('Academic', 'academic', 'VERB'),\n ('.', '.', 'PUNCT'),\n ('Curios', 'Curii', 'NOUN'),\n ('.', '.', 'PUNCT'),\n ('dict', 'dict', 'VERB'),\n ('.', '.', 'PUNCT'),\n ('Chiron', 'Chiron', 'PROPN'),\n ('.', '.', 'PUNCT'),\n ('Cum', 'cum', 'SCONJ'),\n ('Gratia', 'Gratia', 'NOUN'),\n ('&', '&', 'PUNCT'),\n ('Privilegio', 'Privilegium', 'NOUN'),\n ('S.', 'S.', ''),\n ('C.', 'C.arcus', 'PROPN'),\n ('Majest', 'Majest', 'PROPN'),\n ('.', '.', 'PUNCT'),\n ('Ooabvv', 'Ooabvv', 'NUM'),\n ('-', '-', 'PUNCT'),\n ('ii', 'is', 'NUM'),\n ('Norimbergae', 'Norimbergaa', 'PROPN'),\n (',', ',', 'PUNCT'),\n ('Impensis', 'impensis', 'NOUN'),\n ('Johannis', 'Johann', 'PROPN'),\n ('Georgii', 'Georgius', 'PROPN'),\n ('Endteri', 'Endteri', 'PROPN'),\n ('.', '.', 'PUNCT'),\n ('Anno', 'Annus', 'NOUN'),\n ('Christi', 'Christus', 'PROPN'),\n ('M.', 'M.', 'PROPN'),\n ('Dc', 'Dc', 'ADV'),\n ('.', '.', 'PUNCT'),\n ('Lxxxvi', 'Lxxxvi', 'PROPN'),\n ('.', '.', 'PUNCT'),\n ('Reverendissimo', 'Reverendissimus', 'ADJ'),\n ('Serenissimo', 'Serenissimus', 'ADJ'),\n ('Principi', 'Principi', 'NOUN'),\n ('Ac', 'atque', 'CCONJ'),\n ('Domino', 'dominus', 'NOUN'),\n (',', ',', 'PUNCT'),\n ('Domino', 'dominus', 'NOUN'),\n ('Ic', 'Ic', 'PROPN'),\n ('Ud', 'Ud', 'ADV'),\n ('Fonio', 'Fonius', 'PROPN'),\n ('Al', 'Al', 'NOUN'),\n ('Generali', 'General', 'ADJ'),\n ('Militiae', 'Militia', 'NOUN'),\n ('Hierosolymitanae', 'Hierosolymitanus', 'ADJ'),\n ('Ordinis', 'Ordo', 'NOUN'),\n ('B.', 'B.', 'NOUN'),\n ('Mariae', 'Maria', 'PROPN'),\n ('Teutonicorum', 'Teutonicus', 'ADJ'),\n (',', ',', 'PUNCT'),\n ('Prussiae', 'Prussia', 'PROPN'),\n ('Administratori', 'Administratori', 'PROPN'),\n (',', ',', 'PUNCT'),\n ('Ac', 'atque', 'CCONJ'),\n ('Ejusdem', 'Ejusdem', 'PROPN'),\n ('Per', 'Per', 'ADP'),\n ('Germaniam', 'Germania', 'PROPN'),\n (',', ',', 'PUNCT'),\n ('Italiam', 'Italia', 'PROPN'),\n (',', ',', 'PUNCT'),\n ('Partes', 'Partes', 'NOUN'),\n ('que', 'que', 'CCONJ'),\n ('Transmarinas', 'Transmarinas', 'PROPN'),\n ('Supremo', 'Supremo', 'ADJ'),\n ('Magistro', 'Magister', 'NOUN'),\n (',', ',', 'PUNCT'),\n ('Comiti', 'Comiti', 'PROPN'),\n ('Palatino', 'Palatinus', 'PROPN'),\n ('Rheni', 'Rhenus', 'PROPN'),\n (',', ',', 'PUNCT'),\n ('Bavariae', 'Bavariae', 'PROPN'),\n (';', ';', 'PUNCT'),\n ('Juliae', 'Julia', 'PROPN'),\n (',', ',', 'PUNCT'),\n ('Cliviae', 'Clivia', 'PROPN'),\n (',', ',', 'PUNCT'),\n ('Et', 'et', 'CCONJ'),\n ('Montium', 'Montium', 'NOUN'),\n ('Duci', 'Duci', 'NOUN'),\n (',', ',', 'PUNCT'),\n ('Comiti', 'Comiti', 'PROPN'),\n ('Veldentiae', 'Veldentiaa', 'NOUN'),\n (',', ',', 'PUNCT'),\n ('Sponhemii', 'Sponhemii', 'PROPN'),\n (',', ',', 'PUNCT'),\n ('Marchiae', 'Marchia', 'PROPN'),\n (',', ',', 'PUNCT'),\n ('Ravenspergae', 'Ravenspergae', 'PROPN'),\n (',', ',', 'PUNCT'),\n ('Et', 'et', 'CCONJ'),\n ('Morsae', 'morsae', 'NOUN'),\n (',', ',', 'PUNCT'),\n ('Dynastae', 'dynastae', 'PROPN'),\n ('In', 'in', 'ADP'),\n ('Ravenstein', 'Ravenstein', 'PROPN'),\n (',', ',', 'PUNCT'),\n ('Freudenthal', 'Freudenthal', 'PROPN'),\n (',', ',', 'PUNCT'),\n ('Et', 'et', 'CCONJ'),\n ('Eulenberg', 'Eulenbergs', 'PROPN'),\n ('&', '&', 'PUNCT'),\n ('c.', 'c.', 'ADV'),\n ('&', '&', 'PUNCT'),\n ('c.', 'c.', 'ADV'),\n ('Principi', 'Principi', 'NOUN'),\n ('Et', 'et', 'CCONJ'),\n ('Domino', 'dominus', 'NOUN'),\n ('Meo', 'Meus', 'ADJ'),\n ('Clementissimo', 'Clementissimo', 'PROPN'),\n ('Vitam', 'Vita', 'NOUN'),\n ('Et', 'et', 'CCONJ'),\n ('Felicitatem', 'Felicitatem', 'NOUN'),\n ('.', '.', 'PUNCT'),\n ('iu', 'iu', 'NUM'),\n ('.', '.', 'PUNCT'),\n ('Reverendissime', 'Reverendissime', 'ADV'),\n ('Ac', 'atque', 'CCONJ'),\n ('Serenissime', 'serenissime', 'ADV'),\n ('Rinceps', 'Rinceps', 'PROPN'),\n (',', ',', 'PUNCT'),\n ('Domine', 'dominus', 'NOUN'),\n (',', ',', 'PUNCT'),\n ('Domine', 'dominus', 'NOUN'),\n ('Clementissime', 'Clementissimus', 'PROPN'),\n ('!', '!', 'PUNCT'),\n ('On', 'on', 'PART'),\n ('nova', 'nouus', 'ADJ'),\n ('est', 'sum', 'AUX'),\n (',', ',', 'PUNCT'),\n ('sed', 'sed', 'CCONJ'),\n ('ab', 'ab', 'ADP'),\n ('antiquissimis', 'antiquus', 'ADJ'),\n ('temporibus', 'tempus', 'NOUN'),\n ('eundo', 'eundo', 'VERB'),\n ('ad', 'ad', 'ADP'),\n ('nos', 'nos', 'PRON'),\n ('quasi', 'quasi', 'ADV'),\n ('per', 'per', 'ADP'),\n ('traducem', 'tradux', 'NOUN'),\n ('illa', 'ille', 'DET'),\n ('serpit', 'serpo', 'VERB'),\n ('consuetudo', 'consuetudo', 'NOUN'),\n (',', ',', 'PUNCT'),\n ('quâ', 'quâ', 'ADV'),\n ('Librorum', 'Libri', 'NOUN'),\n ('frontibus', 'frons', 'NOUN'),\n ('Magni', 'magnus', 'ADJ'),\n ('Patroni', 'Patrus', 'PROPN'),\n (',', ',', 'PUNCT'),\n ('velut', 'uelut', 'SCONJ'),\n ('Tutela3', 'Tutela3', 'NOUN'),\n ('ris', 'res', 'NOUN'),\n ('Numinis', 'Numen', 'PROPN'),\n ('nomen', 'nomen', 'NOUN'),\n ('praescribi', 'praescribi', 'VERB'),\n ('solet', 'soleo', 'VERB'),\n ('.', '.', 'PUNCT'),\n ('Hoc', 'hic', 'DET'),\n ('que', 'que', 'CCONJ'),\n ('tantum', 'tantum', 'ADV'),\n ('abest', 'absum', 'VERB'),\n (',', ',', 'PUNCT'),\n ('ut', 'ut', 'SCONJ'),\n ('Ipsi', 'ipse', 'DET'),\n ('etiam', 'etiam', 'ADV'),\n ('Imperatores', 'Imperatores', 'NOUN'),\n (',', ',', 'PUNCT'),\n ('Reges', 'Reges', 'NOUN'),\n (',', ',', 'PUNCT'),\n ('Electores', 'Electores', 'NOUN'),\n (',', ',', 'PUNCT'),\n ('Principes', 'Principes', 'PROPN'),\n (',', ',', 'PUNCT'),\n ('jam', 'jam', 'ADV'),\n ('olim', 'olim', 'ADV'),\n ('inclementer', 'inclementer', 'ADV'),\n ('tulerint', 'tulerint', 'VERB'),\n (',', ',', 'PUNCT'),\n ('ut', 'ut', 'SCONJ'),\n ('potiùs', 'potiùs', 'ADJ'),\n ('id', 'is', 'PRON'),\n ('ausos', 'ausos', 'VERB'),\n ('haud', 'haud', 'PART'),\n ('rarò', 'rarò', 'NOUN'),\n ('vultu', 'uultus', 'NOUN'),\n ('respexerint', 'respexerint', 'VERB'),\n ('serenissimo', 'serenus', 'ADJ'),\n ('.', '.', 'PUNCT'),\n ('!', '!', 'PUNCT'),\n ('Quo', 'qui', 'PRON'),\n ('quidem', 'quidem', 'ADV'),\n ('honore', 'honor', 'NOUN'),\n ('quanquam', 'quamquam', 'SCONJ'),\n ('me', 'ego', 'PRON'),\n ('dignum', 'dignus', 'ADJ'),\n ('aestimare', 'aestimo', 'VERB')]"
     },
     "execution_count": 44,
     "metadata": {},
     "output_type": "execute_result"
    }
   ],
   "source": [
    "all_lemmata[200:400]"
   ],
   "metadata": {
    "collapsed": false,
    "ExecuteTime": {
     "end_time": "2023-11-21T09:15:34.322418Z",
     "start_time": "2023-11-21T09:15:34.319445Z"
    }
   },
   "id": "58f49bdd697d7c2a"
  },
  {
   "cell_type": "code",
   "execution_count": 45,
   "outputs": [],
   "source": [
    "doc_lemmata = [\" \".join([t.lemma_.lower() for t in sent if not t.is_punct]) for sent in doc.sents]\n",
    "doc_postags = [\" \".join([t.pos_ for t in sent if not t.is_punct]) for sent in doc.sents]"
   ],
   "metadata": {
    "collapsed": false,
    "ExecuteTime": {
     "end_time": "2023-11-21T09:15:34.638396Z",
     "start_time": "2023-11-21T09:15:34.322081Z"
    }
   },
   "id": "d212da7dbbd7a334"
  },
  {
   "cell_type": "code",
   "execution_count": 46,
   "outputs": [],
   "source": [
    "all_sents_lemmata = []\n",
    "for sent in doc.sents:\n",
    "    sent_lemmata = []\n",
    "    for token in sent:\n",
    "        #if token.pos_ in [\"NOUN\", \"VERB\", \"ADJ\"]:\n",
    "        sent_lemmata.append((token.text, token.lemma_, token.tag_))\n",
    "    all_sents_lemmata.append(sent_lemmata)"
   ],
   "metadata": {
    "collapsed": false,
    "ExecuteTime": {
     "end_time": "2023-11-21T09:15:35.085930Z",
     "start_time": "2023-11-21T09:15:34.706729Z"
    }
   },
   "id": "3d71c0e485febae4"
  },
  {
   "cell_type": "code",
   "execution_count": 46,
   "outputs": [],
   "source": [],
   "metadata": {
    "collapsed": false,
    "ExecuteTime": {
     "end_time": "2023-11-21T09:15:35.087577Z",
     "start_time": "2023-11-21T09:15:35.086023Z"
    }
   },
   "id": "dfdfdb496a7a545"
  },
  {
   "cell_type": "code",
   "execution_count": 99,
   "outputs": [
    {
     "name": "stdout",
     "output_type": "stream",
     "text": [
      "mkdir: ../data/large_data/sents_lemmata: File exists\r\n",
      "mkdir: ../data/large_data/sents_pos: File exists\r\n"
     ]
    }
   ],
   "source": [
    "try:\n",
    "    !mkdir ../data/large_data/sents_lemmata\n",
    "    !mkdir ../data/large_data/sents_pos\n",
    "except:\n",
    "    pass"
   ],
   "metadata": {
    "collapsed": false,
    "ExecuteTime": {
     "end_time": "2023-11-21T08:26:18.578908Z",
     "start_time": "2023-11-21T08:26:18.314349Z"
    }
   },
   "id": "bb83db9767e6728b"
  },
  {
   "cell_type": "code",
   "execution_count": 47,
   "outputs": [
    {
     "data": {
      "text/plain": "'1031760.json'"
     },
     "execution_count": 47,
     "metadata": {},
     "output_type": "execute_result"
    }
   ],
   "source": [
    "jsonfiles_list[0]"
   ],
   "metadata": {
    "collapsed": false,
    "ExecuteTime": {
     "end_time": "2023-11-21T09:15:35.093945Z",
     "start_time": "2023-11-21T09:15:35.089594Z"
    }
   },
   "id": "1825edc6756367ae"
  },
  {
   "cell_type": "code",
   "execution_count": 48,
   "outputs": [],
   "source": [
    "fn = jsonfiles_list[0]\n",
    "doc = filename_to_doc(fn)"
   ],
   "metadata": {
    "collapsed": false,
    "ExecuteTime": {
     "end_time": "2023-11-21T09:15:37.599825Z",
     "start_time": "2023-11-21T09:15:35.092225Z"
    }
   },
   "id": "9339aae97e133c4d"
  },
  {
   "cell_type": "code",
   "execution_count": 49,
   "outputs": [
    {
     "name": "stdout",
     "output_type": "stream",
     "text": [
      "CPU times: user 69.3 ms, sys: 2.32 ms, total: 71.6 ms\n",
      "Wall time: 72.7 ms\n"
     ]
    }
   ],
   "source": [
    "%%time\n",
    "f_lemmata = open(\"../data/large_data/sents_lemmata/\" + fn.replace(\".json\", \".txt\"), \"w\", encoding=\"utf-8\")\n",
    "doc_lemmata = [\" \".join([t.lemma_.lower() for t in sent if not t.is_punct]) for sent in doc.sents]\n",
    "f_lemmata.writelines(\"\\n\".join(doc_lemmata))\n",
    "\n",
    "f_postags = open(\"../data/large_data/sents_pos/\" + fn.replace(\".json\", \".txt\"), \"w\", encoding=\"utf-8\")\n",
    "doc_postags = [\" \".join([t.pos_ for t in sent if not t.is_punct]) for sent in doc.sents]\n",
    "f_postags.writelines(\"\\n\".join(doc_postags))"
   ],
   "metadata": {
    "collapsed": false,
    "ExecuteTime": {
     "end_time": "2023-11-21T09:15:37.676298Z",
     "start_time": "2023-11-21T09:15:37.601129Z"
    }
   },
   "id": "f561d531c86c51de"
  },
  {
   "cell_type": "code",
   "execution_count": 50,
   "outputs": [],
   "source": [
    "files_ready = os.listdir(\"../data/large_data/sents_lemmata\")"
   ],
   "metadata": {
    "collapsed": false,
    "ExecuteTime": {
     "end_time": "2023-11-21T09:15:37.682684Z",
     "start_time": "2023-11-21T09:15:37.676440Z"
    }
   },
   "id": "c1b53d40665bd362"
  },
  {
   "cell_type": "code",
   "execution_count": 51,
   "outputs": [],
   "source": [
    "for fn in jsonfiles_list:\n",
    "    if fn.replace(\".json\", \".txt\") not in files_ready:\n",
    "        doc = filename_to_doc(fn)\n",
    "        f_lemmata = open(\"../data/large_data/sents_lemmata/\" + fn.replace(\".json\", \".txt\"), \"w\", encoding=\"utf-8\")\n",
    "        doc_lemmata = [\" \".join([t.lemma_.lower() for t in sent if not t.is_punct]) for sent in doc.sents]\n",
    "        f_lemmata.writelines(\"\\n\".join(doc_lemmata))\n",
    "        f_postags = open(\"../data/large_data/sents_pos/\" + fn.replace(\".json\", \".txt\"), \"w\", encoding=\"utf-8\")\n",
    "        doc_postags = [\" \".join([t.pos_ for t in sent if not t.is_punct]) for sent in doc.sents]\n",
    "        f_postags.writelines(\"\\n\".join(doc_postags))"
   ],
   "metadata": {
    "collapsed": false,
    "ExecuteTime": {
     "end_time": "2023-11-21T13:27:07.753960Z",
     "start_time": "2023-11-21T09:15:37.681931Z"
    }
   },
   "id": "ddf7eaafd0356bc9"
  },
  {
   "cell_type": "code",
   "execution_count": null,
   "outputs": [],
   "source": [],
   "metadata": {
    "collapsed": false
   },
   "id": "a55a2198dda079ef"
  },
  {
   "cell_type": "code",
   "execution_count": 56,
   "outputs": [
    {
     "data": {
      "text/plain": "'/Users/vojtechkase/Projects/noscemus_ETF/data/large_data/sents_pos.zip'"
     },
     "execution_count": 56,
     "metadata": {},
     "output_type": "execute_result"
    }
   ],
   "source": [
    "# make zip archives of the text files with lemmatazed sentences and pos tags\n",
    "shutil.make_archive(\"../data/large_data/sents_lemmata\", 'zip', \"../data/large_data/sents_lemmata\") #\n",
    "shutil.make_archive(\"../data/large_data/sents_pos\", 'zip', \"../data/large_data/sents_pos\") #"
   ],
   "metadata": {
    "collapsed": false,
    "ExecuteTime": {
     "end_time": "2023-11-24T20:34:07.076968Z",
     "start_time": "2023-11-24T20:33:17.621287Z"
    }
   },
   "id": "3dc6bcabe2ab2012"
  },
  {
   "cell_type": "code",
   "execution_count": 65,
   "outputs": [
    {
     "data": {
      "text/plain": "<Response [201]>"
     },
     "execution_count": 65,
     "metadata": {},
     "output_type": "execute_result"
    }
   ],
   "source": [
    "# upload the zip archived data to sciencedata.dk \n",
    "s.s.put(\"https://sciencedata.dk/sharingout/kase%40zcu.cz/TOME/DATA/NOSCEMUS/sents_lemmata.zip\", data=open(\"../data/large_data/sents_lemmata.zip\", \"rb\"))\n",
    "s.s.put(\"https://sciencedata.dk/sharingout/kase%40zcu.cz/TOME/DATA/NOSCEMUS/sents_pos.zip\", data=open(\"../data/large_data/sents_pos.zip\", \"rb\"))"
   ],
   "metadata": {
    "collapsed": false,
    "ExecuteTime": {
     "end_time": "2023-11-24T20:44:28.887317Z",
     "start_time": "2023-11-24T20:44:26.049923Z"
    }
   },
   "id": "ade47b57cd47e2ff"
  },
  {
   "cell_type": "code",
   "execution_count": null,
   "outputs": [],
   "source": [],
   "metadata": {
    "collapsed": false
   },
   "id": "63ae1e671dc6038b"
  },
  {
   "cell_type": "markdown",
   "source": [
    "# Preliminary explorations of Latin wordnet"
   ],
   "metadata": {
    "collapsed": false
   },
   "id": "32907c09aa3dc094"
  },
  {
   "cell_type": "code",
   "execution_count": 138,
   "outputs": [],
   "source": [
    "latinwn = pd.read_csv(\"https://raw.githubusercontent.com/CIRCSE/latinWordnet-revision/master/LiLa_LatinWordnet.csv\")"
   ],
   "metadata": {
    "collapsed": false,
    "ExecuteTime": {
     "end_time": "2023-11-07T08:39:57.944549Z",
     "start_time": "2023-11-07T08:39:56.993340Z"
    }
   },
   "id": "7d076900b344ec3f"
  },
  {
   "cell_type": "code",
   "execution_count": 139,
   "outputs": [
    {
     "data": {
      "text/plain": "      id     lemma   type                                lila_uri  \\\n0  90942     a, aa  LEMMA  http://lila-erc.eu/data/id/lemma/90942   \n1  86826   abactio  LEMMA  http://lila-erc.eu/data/id/lemma/86826   \n2  86828   abactor  LEMMA  http://lila-erc.eu/data/id/lemma/86828   \n3  91165   abactus  LEMMA  http://lila-erc.eu/data/id/lemma/91165   \n4  86833  abaculus  LEMMA  http://lila-erc.eu/data/id/lemma/86833   \n\n                                          id_synset  \\\n0  http://wordnet-rdf.princeton.edu/wn30/06831177-n   \n1  http://wordnet-rdf.princeton.edu/wn30/00391599-n   \n2  http://wordnet-rdf.princeton.edu/wn30/10544480-n   \n3  http://wordnet-rdf.princeton.edu/wn30/00780889-n   \n4  http://wordnet-rdf.princeton.edu/wn30/04435180-n   \n\n                                          definition  \n0               the 1st letter of the Roman alphabet  \n1                                the act of removing  \n2   someone who steals livestock (especially cattle)  \n3  the act of taking something from someone unlaw...  \n4  a flat thin rectangular slab (as of fired clay...  ",
      "text/html": "<div>\n<style scoped>\n    .dataframe tbody tr th:only-of-type {\n        vertical-align: middle;\n    }\n\n    .dataframe tbody tr th {\n        vertical-align: top;\n    }\n\n    .dataframe thead th {\n        text-align: right;\n    }\n</style>\n<table border=\"1\" class=\"dataframe\">\n  <thead>\n    <tr style=\"text-align: right;\">\n      <th></th>\n      <th>id</th>\n      <th>lemma</th>\n      <th>type</th>\n      <th>lila_uri</th>\n      <th>id_synset</th>\n      <th>definition</th>\n    </tr>\n  </thead>\n  <tbody>\n    <tr>\n      <th>0</th>\n      <td>90942</td>\n      <td>a, aa</td>\n      <td>LEMMA</td>\n      <td>http://lila-erc.eu/data/id/lemma/90942</td>\n      <td>http://wordnet-rdf.princeton.edu/wn30/06831177-n</td>\n      <td>the 1st letter of the Roman alphabet</td>\n    </tr>\n    <tr>\n      <th>1</th>\n      <td>86826</td>\n      <td>abactio</td>\n      <td>LEMMA</td>\n      <td>http://lila-erc.eu/data/id/lemma/86826</td>\n      <td>http://wordnet-rdf.princeton.edu/wn30/00391599-n</td>\n      <td>the act of removing</td>\n    </tr>\n    <tr>\n      <th>2</th>\n      <td>86828</td>\n      <td>abactor</td>\n      <td>LEMMA</td>\n      <td>http://lila-erc.eu/data/id/lemma/86828</td>\n      <td>http://wordnet-rdf.princeton.edu/wn30/10544480-n</td>\n      <td>someone who steals livestock (especially cattle)</td>\n    </tr>\n    <tr>\n      <th>3</th>\n      <td>91165</td>\n      <td>abactus</td>\n      <td>LEMMA</td>\n      <td>http://lila-erc.eu/data/id/lemma/91165</td>\n      <td>http://wordnet-rdf.princeton.edu/wn30/00780889-n</td>\n      <td>the act of taking something from someone unlaw...</td>\n    </tr>\n    <tr>\n      <th>4</th>\n      <td>86833</td>\n      <td>abaculus</td>\n      <td>LEMMA</td>\n      <td>http://lila-erc.eu/data/id/lemma/86833</td>\n      <td>http://wordnet-rdf.princeton.edu/wn30/04435180-n</td>\n      <td>a flat thin rectangular slab (as of fired clay...</td>\n    </tr>\n  </tbody>\n</table>\n</div>"
     },
     "execution_count": 139,
     "metadata": {},
     "output_type": "execute_result"
    }
   ],
   "source": [
    "latinwn.head(5)"
   ],
   "metadata": {
    "collapsed": false,
    "ExecuteTime": {
     "end_time": "2023-11-07T08:40:05.218647Z",
     "start_time": "2023-11-07T08:40:05.196010Z"
    }
   },
   "id": "643f085663cbb85d"
  },
  {
   "cell_type": "code",
   "execution_count": null,
   "outputs": [],
   "source": [],
   "metadata": {
    "collapsed": false
   },
   "id": "c815f36f365efc15"
  }
 ],
 "metadata": {
  "kernelspec": {
   "name": "brewkernel",
   "language": "python",
   "display_name": "brewkernel"
  },
  "language_info": {
   "codemirror_mode": {
    "name": "ipython",
    "version": 2
   },
   "file_extension": ".py",
   "mimetype": "text/x-python",
   "name": "python",
   "nbconvert_exporter": "python",
   "pygments_lexer": "ipython2",
   "version": "2.7.6"
  }
 },
 "nbformat": 4,
 "nbformat_minor": 5
}
