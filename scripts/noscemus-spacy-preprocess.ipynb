{
 "cells": [
  {
   "cell_type": "markdown",
   "source": [
    "# Spacy"
   ],
   "metadata": {
    "collapsed": false
   },
   "id": "c4cc8098de77557c"
  },
  {
   "cell_type": "code",
   "execution_count": null,
   "outputs": [],
   "source": [
    "###  pip install https://huggingface.co/latincy/la_core_web_lg/resolve/main/la_core_web_lg-any-py3-none-any.whl"
   ],
   "metadata": {
    "collapsed": false
   },
   "id": "a6cb7f7fd20eab61"
  },
  {
   "cell_type": "code",
   "execution_count": 1,
   "outputs": [],
   "source": [
    "import spacy\n",
    "import sddk\n",
    "import pandas as pd"
   ],
   "metadata": {
    "collapsed": false,
    "ExecuteTime": {
     "end_time": "2023-11-03T09:45:37.433226Z",
     "start_time": "2023-11-03T09:45:35.377340Z"
    }
   },
   "id": "e0ce4f34f4f582c3"
  },
  {
   "cell_type": "code",
   "execution_count": 2,
   "outputs": [],
   "source": [
    "nlp = spacy.load('la_core_web_lg')"
   ],
   "metadata": {
    "collapsed": false,
    "ExecuteTime": {
     "end_time": "2023-11-03T09:45:38.780805Z",
     "start_time": "2023-11-03T09:45:38.171277Z"
    }
   },
   "id": "9c0a5b1532dba641"
  },
  {
   "cell_type": "code",
   "execution_count": 3,
   "outputs": [],
   "source": [
    "nlp.max_length = 10000000"
   ],
   "metadata": {
    "collapsed": false,
    "ExecuteTime": {
     "end_time": "2023-11-03T09:45:39.290160Z",
     "start_time": "2023-11-03T09:45:39.281369Z"
    }
   },
   "id": "660e4b488203ea76"
  },
  {
   "cell_type": "markdown",
   "source": [
    "### Spacy test"
   ],
   "metadata": {
    "collapsed": false
   },
   "id": "b43330a230a2ff84"
  },
  {
   "cell_type": "code",
   "execution_count": 4,
   "outputs": [],
   "source": [
    "vitruvius = \"Architecti est scientia pluribus disciplinis et variis eruditionibus ornata, quae ab ceteris artibus perficiuntur. Opera ea nascitur et fabrica et ratiocinatione.\""
   ],
   "metadata": {
    "collapsed": false,
    "ExecuteTime": {
     "end_time": "2023-11-03T09:45:40.738691Z",
     "start_time": "2023-11-03T09:45:40.729526Z"
    }
   },
   "id": "893dfae9c690b086"
  },
  {
   "cell_type": "code",
   "execution_count": 5,
   "outputs": [],
   "source": [
    "doc = nlp(vitruvius)"
   ],
   "metadata": {
    "collapsed": false,
    "ExecuteTime": {
     "end_time": "2023-11-03T09:45:40.951461Z",
     "start_time": "2023-11-03T09:45:40.928406Z"
    }
   },
   "id": "b6ee2425d50e7ceb"
  },
  {
   "cell_type": "code",
   "execution_count": 6,
   "outputs": [
    {
     "name": "stdout",
     "output_type": "stream",
     "text": [
      "Architecti PROPN Architectus\n",
      "est AUX sum\n",
      "scientia NOUN scientia\n",
      "pluribus ADJ multus\n",
      "disciplinis NOUN disciplina\n",
      "et CCONJ et\n",
      "variis ADJ uarius\n",
      "eruditionibus NOUN eruditio\n",
      "ornata VERB orno\n",
      ", PUNCT ,\n",
      "quae PRON qui\n",
      "ab ADP ab\n",
      "ceteris DET ceterus\n",
      "artibus NOUN ars\n",
      "perficiuntur VERB perficio\n",
      ". PUNCT .\n",
      "Opera NOUN Opus\n",
      "ea PRON is\n",
      "nascitur VERB nascor\n",
      "et CCONJ et\n",
      "fabrica NOUN fabrica\n",
      "et CCONJ et\n",
      "ratiocinatione NOUN ratiocinatio\n",
      ". PUNCT .\n"
     ]
    }
   ],
   "source": [
    "for token in doc:\n",
    "    print(token.text, token.pos_, token.lemma_)"
   ],
   "metadata": {
    "collapsed": false,
    "ExecuteTime": {
     "end_time": "2023-11-03T09:45:41.093682Z",
     "start_time": "2023-11-03T09:45:41.090609Z"
    }
   },
   "id": "fb84a1d49a51346"
  },
  {
   "cell_type": "code",
   "execution_count": 7,
   "outputs": [],
   "source": [
    "all_sents_lemmata = []\n",
    "for sent in doc.sents:\n",
    "    sent_lemmata = []\n",
    "    for token in sent:\n",
    "        if token.pos_ in [\"NOUN\", \"VERB\", \"ADJ\"]:\n",
    "            sent_lemmata.append(token.lemma_)\n",
    "    all_sents_lemmata.append(sent_lemmata)"
   ],
   "metadata": {
    "collapsed": false,
    "ExecuteTime": {
     "end_time": "2023-11-03T09:45:41.248252Z",
     "start_time": "2023-11-03T09:45:41.244816Z"
    }
   },
   "id": "ea28288817d77633"
  },
  {
   "cell_type": "code",
   "execution_count": 8,
   "outputs": [
    {
     "data": {
      "text/plain": "[['scientia',\n  'multus',\n  'disciplina',\n  'uarius',\n  'eruditio',\n  'orno',\n  'ars',\n  'perficio'],\n ['Opus', 'nascor', 'fabrica', 'ratiocinatio']]"
     },
     "execution_count": 8,
     "metadata": {},
     "output_type": "execute_result"
    }
   ],
   "source": [
    "all_sents_lemmata"
   ],
   "metadata": {
    "collapsed": false,
    "ExecuteTime": {
     "end_time": "2023-11-03T09:45:41.405272Z",
     "start_time": "2023-11-03T09:45:41.402169Z"
    }
   },
   "id": "2dd6490a9a9ec239"
  },
  {
   "cell_type": "markdown",
   "source": [
    "# Apply spacy model on nocsemus"
   ],
   "metadata": {
    "collapsed": false
   },
   "id": "8c2d2965eb15bfa8"
  },
  {
   "cell_type": "code",
   "execution_count": 9,
   "outputs": [
    {
     "name": "stdout",
     "output_type": "stream",
     "text": [
      "connection with shared folder established with you as its ordinary user\n",
      "endpoint variable has been configured to: https://sciencedata.dk/sharingout/kase%40zcu.cz/TOME/DATA/NOSCEMUS/\n"
     ]
    }
   ],
   "source": [
    "s = sddk.cloudSession(provider=\"sciencedata.dk\", shared_folder_name=\"TOME/DATA/NOSCEMUS\", owner=\"kase@zcu.cz\")"
   ],
   "metadata": {
    "collapsed": false,
    "ExecuteTime": {
     "end_time": "2023-11-03T09:45:52.431114Z",
     "start_time": "2023-11-03T09:45:41.909166Z"
    }
   },
   "id": "6f4f09fd1d1b3fa1"
  },
  {
   "cell_type": "code",
   "execution_count": 10,
   "outputs": [
    {
     "data": {
      "text/plain": "10000000"
     },
     "execution_count": 10,
     "metadata": {},
     "output_type": "execute_result"
    }
   ],
   "source": [
    "nlp.max_length"
   ],
   "metadata": {
    "collapsed": false,
    "ExecuteTime": {
     "end_time": "2023-11-03T09:45:53.294026Z",
     "start_time": "2023-11-03T09:45:53.284194Z"
    }
   },
   "id": "fea57ad7147b6859"
  },
  {
   "cell_type": "code",
   "execution_count": null,
   "outputs": [],
   "source": [
    "# load metadata"
   ],
   "metadata": {
    "collapsed": false
   },
   "id": "c98c587cc0465b6f"
  },
  {
   "cell_type": "code",
   "execution_count": 12,
   "outputs": [],
   "source": [
    "# extract a list of ids for iteration\n",
    "filenames_list = s.list_filenames(\"noscemus_raw\", \"txt\")"
   ],
   "metadata": {
    "collapsed": false,
    "ExecuteTime": {
     "end_time": "2023-11-03T09:46:14.084241Z",
     "start_time": "2023-11-03T09:46:12.943021Z"
    }
   },
   "id": "69ed530b6d94fd09"
  },
  {
   "cell_type": "code",
   "execution_count": 13,
   "outputs": [
    {
     "data": {
      "text/plain": "['1031760.txt',\n '1085290.txt',\n '1285853.txt',\n '1285854.txt',\n '1285855.txt',\n '1285856.txt',\n '1365811.txt',\n '1370560.txt',\n '1378359.txt',\n '1424044.txt']"
     },
     "execution_count": 13,
     "metadata": {},
     "output_type": "execute_result"
    }
   ],
   "source": [
    "filenames_list[:10]"
   ],
   "metadata": {
    "collapsed": false,
    "ExecuteTime": {
     "end_time": "2023-11-03T09:46:14.533060Z",
     "start_time": "2023-11-03T09:46:14.523622Z"
    }
   },
   "id": "558597355b6a3a1a"
  },
  {
   "cell_type": "code",
   "execution_count": 20,
   "outputs": [
    {
     "data": {
      "text/plain": "[]"
     },
     "execution_count": 20,
     "metadata": {},
     "output_type": "execute_result"
    }
   ],
   "source": [
    "[fn for fn in filenames_list if \"_\" in fn]"
   ],
   "metadata": {
    "collapsed": false,
    "ExecuteTime": {
     "end_time": "2023-11-03T08:52:23.974932Z",
     "start_time": "2023-11-03T08:52:23.969382Z"
    }
   },
   "id": "a6c5b5bddcb4f535"
  },
  {
   "cell_type": "code",
   "execution_count": 14,
   "outputs": [],
   "source": [
    "ids = [fn.partition(\".\")[0] for fn in filenames_list]"
   ],
   "metadata": {
    "collapsed": false,
    "ExecuteTime": {
     "end_time": "2023-11-03T09:47:00.945880Z",
     "start_time": "2023-11-03T09:47:00.934490Z"
    }
   },
   "id": "6d114405dfa7d859"
  },
  {
   "cell_type": "code",
   "execution_count": 23,
   "outputs": [
    {
     "name": "stdout",
     "output_type": "stream",
     "text": [
      "CPU times: user 5min 11s, sys: 37.7 s, total: 5min 48s\n",
      "Wall time: 9min 1s\n"
     ]
    }
   ],
   "source": [
    "%%time\n",
    "# test with 10 documents\n",
    "docs_json = []\n",
    "for filename in filenames_list[:10]:\n",
    "    rawtext = s.read_file(\"noscemus_raw/\" + filename, \"str\")\n",
    "    doc = nlp(rawtext)\n",
    "    doc_json = doc.to_json()\n",
    "    docs_json.append(doc_json)"
   ],
   "metadata": {
    "collapsed": false,
    "ExecuteTime": {
     "end_time": "2023-11-03T09:09:44.582976Z",
     "start_time": "2023-11-03T09:00:43.343905Z"
    }
   },
   "id": "b54df69297ac5dcc"
  },
  {
   "cell_type": "code",
   "execution_count": 26,
   "outputs": [],
   "source": [
    "doc = nlp(\"\")\n",
    "doc = doc.from_json(docs_json[0])"
   ],
   "metadata": {
    "collapsed": false,
    "ExecuteTime": {
     "end_time": "2023-11-03T09:21:34.800899Z",
     "start_time": "2023-11-03T09:21:33.508709Z"
    }
   },
   "id": "91d99fda0b19077d"
  },
  {
   "cell_type": "code",
   "execution_count": 27,
   "outputs": [],
   "source": [
    "all_sents_lemmata = []\n",
    "for sent in doc.sents:\n",
    "    sent_lemmata = []\n",
    "    for token in sent:\n",
    "        if token.pos_ in [\"NOUN\", \"VERB\", \"ADJ\"]:\n",
    "            sent_lemmata.append(token.lemma_)\n",
    "    all_sents_lemmata.append(sent_lemmata)"
   ],
   "metadata": {
    "collapsed": false,
    "ExecuteTime": {
     "end_time": "2023-11-03T09:22:12.539410Z",
     "start_time": "2023-11-03T09:22:12.524946Z"
    }
   },
   "id": "1cab7c956652e9b"
  },
  {
   "cell_type": "code",
   "execution_count": 29,
   "outputs": [
    {
     "data": {
      "text/plain": "[['\\n\\n\\no', '\\n\\n'],\n ['PRINCIPI',\n  '\\n',\n  'ILOBO',\n  'GRATIA',\n  'MAGNAE',\n  'BRITANNIAE',\n  'Regi',\n  'FIDEI',\n  'defensori',\n  '\\n',\n  'OTERIT',\n  'Maiestas',\n  'Tua',\n  'furtius',\n  '\\n\\n\\n\\n',\n  'incuso',\n  'quòd',\n  '\\n\\n',\n  'f',\n  'Temporis',\n  '\\n\\n\\n\\n\\n',\n  'sufficio'],\n ['S', '\\n\\n\\n', 'Tuus', 'suffurao'],\n ['\\n\\n\\no', 'habeo', 'dico'],\n ['Tem¬',\n  'f',\n  'pos',\n  'facio',\n  'Resti¬s',\n  '\\n\\n',\n  '\\n',\n  'ME',\n  '\\n',\n  'tutio',\n  'fortè',\n  'detraco',\n  'Tempus',\n  'Res',\n  'Tuus',\n  'Nomen',\n  'Tui',\n  'Ho¬',\n  'nor',\n  '\\n\\n\\no',\n  'nor',\n  'Saeculum',\n  'Tuus',\n  'repono',\n  'possum',\n  'modò',\n  'alicu¬',\n  'ius',\n  'pretij'],\n ['certè', 'nouus'],\n ['to¬',\n  'to',\n  'genus',\n  'describo',\n  'uetus',\n  'emplo',\n  'Mundus',\n  'scilicèt',\n  'naturâ',\n  'Rerum',\n  '\\n',\n  'Mens'],\n ['certè',\n  'ingenuè',\n  'fatear',\n  'soleo',\n  'aestimo',\n  'opus',\n  'partus',\n  'Tempus',\n  'quàm'],\n ['solummodò', 'mi¬', 'rabilis'],\n ['Reus', 'tantus', '\\n', 'runt', 'mens', 'uenio', 'potu¬', 'eo'],\n ['caeterus', 'sequor'],\n ['tur',\n  'Casus',\n  'loquor',\n  '\\n',\n  'minùs',\n  '\\n',\n  'to',\n  'Homo',\n  'quàm',\n  'Ago',\n  'Lo¬',\n  '\\n',\n  'quo'],\n ['loquor',\n  'intellego',\n  'uolo',\n  'affero',\n  '\\n',\n  'bonus',\n  'immensus',\n  'Misericordia',\n  'Bonitas',\n  'di¬',\n  '\\n',\n  'uinus',\n  'Foelicitas',\n  'Tempus',\n  'Tuus',\n  'tribua¬',\n  '\\n',\n  'tur'],\n ['Viuus',\n  'integerrimus',\n  'affectus',\n  'seruiuus',\n  'mortuus',\n  'effecero',\n  'nouâ',\n  'accensâ',\n  'fax',\n  'Philosophia',\n  'tenebrae',\n  'praeluceo',\n  'possum'],\n ['meritò',\n  'Rex',\n  'omnis',\n  '\\n',\n  'generatio',\n  'instauntio',\n  'Scientia',\n  'debeo'],\n ['Superest', 'Petitio', 'Maiestas', 'Tuâ', 'indignus'],\n ['\\n', 'maximè', 'omnis', 'facio', 'ago'],\n ['Iu¬',\n  '\\n',\n  'multus',\n  'refero',\n  'dicium',\n  'grauitas',\n  'Regnum',\n  'pacificus',\n  'Cordis',\n  'lati¬',\n  '\\n',\n  'tudo',\n  'Libri',\n  'composuo',\n  'Nobilis',\n  'uarietas'],\n ['Rex', 'exemplum', 'addas', 'curo', 'Naturalis', 'expe¬', '\\n\\n\\no'],\n ['Experimentalem',\n  'uerus',\n  'seueram',\n  'mitto',\n  'Philologicus',\n  'Ordo',\n  'condo',\n  'suus',\n  'locus',\n  'descri¬',\n  '\\n',\n  'beo']]"
     },
     "execution_count": 29,
     "metadata": {},
     "output_type": "execute_result"
    }
   ],
   "source": [
    "all_sents_lemmata[30:50]"
   ],
   "metadata": {
    "collapsed": false,
    "ExecuteTime": {
     "end_time": "2023-11-03T09:22:39.654980Z",
     "start_time": "2023-11-03T09:22:39.650131Z"
    }
   },
   "id": "43d853862fcdab0c"
  },
  {
   "cell_type": "code",
   "execution_count": null,
   "outputs": [
    {
     "name": "stdout",
     "output_type": "stream",
     "text": [
      "Your <class 'dict'> object has been succesfully written as \"https://sciencedata.dk/sharingout/kase%40zcu.cz/TOME/DATA/NOSCEMUS/noscemus_spacy_jsons/1031760.txt.json\"\n"
     ]
    }
   ],
   "source": [
    "%%time\n",
    "# test with savings\n",
    "for filename in filenames_list[:30]:\n",
    "    rawtext = s.read_file(\"noscemus_raw/\" + filename, \"str\")\n",
    "    doc = nlp(rawtext)\n",
    "    doc_json = doc.to_json()\n",
    "    s.write_file(\"noscemus_spacy_jsons/\" + filename.partition(\".\")[0] + \".json\", doc_json)"
   ],
   "metadata": {
    "collapsed": false,
    "ExecuteTime": {
     "start_time": "2023-11-03T09:31:51.143307Z"
    }
   },
   "id": "c60e536c31dd1656"
  },
  {
   "cell_type": "code",
   "execution_count": 16,
   "outputs": [],
   "source": [
    "jsonfiles_list = s.list_filenames(\"noscemus_spacy_jsons\", \"json\")"
   ],
   "metadata": {
    "collapsed": false,
    "ExecuteTime": {
     "end_time": "2023-11-03T09:50:10.692081Z",
     "start_time": "2023-11-03T09:50:10.221628Z"
    }
   },
   "id": "86a7ae98de89fb2a"
  },
  {
   "cell_type": "code",
   "execution_count": 17,
   "outputs": [
    {
     "data": {
      "text/plain": "['1031760.json']"
     },
     "execution_count": 17,
     "metadata": {},
     "output_type": "execute_result"
    }
   ],
   "source": [
    "jsonfiles_list"
   ],
   "metadata": {
    "collapsed": false,
    "ExecuteTime": {
     "end_time": "2023-11-03T09:50:15.770995Z",
     "start_time": "2023-11-03T09:50:15.759239Z"
    }
   },
   "id": "368a75f6eafe2c74"
  },
  {
   "cell_type": "code",
   "execution_count": 18,
   "outputs": [
    {
     "name": "stdout",
     "output_type": "stream",
     "text": [
      "1085290.json\n",
      "1285853.json\n",
      "1285854.json\n",
      "1285855.json\n",
      "1285856.json\n",
      "1365811.json\n",
      "1370560.json\n",
      "1378359.json\n",
      "1424044.json\n",
      "1461594.json\n",
      "1479057.json\n",
      "1509197.json\n",
      "1509290.json\n",
      "1526071.json\n",
      "1528734.json\n",
      "1567826.json\n",
      "597675.json\n",
      "597737.json\n",
      "597799.json\n",
      "598104.json\n",
      "598116.json\n",
      "598518.json\n",
      "599651.json\n",
      "599653.json\n",
      "599722.json\n",
      "599723.json\n",
      "599724.json\n",
      "599725.json\n",
      "599726.json\n"
     ]
    }
   ],
   "source": [],
   "metadata": {
    "collapsed": false,
    "ExecuteTime": {
     "end_time": "2023-11-03T09:50:36.946616Z",
     "start_time": "2023-11-03T09:50:36.935020Z"
    }
   },
   "id": "d794bd12937ef624"
  },
  {
   "cell_type": "code",
   "execution_count": null,
   "outputs": [],
   "source": [
    "%%time\n",
    "%%capture\n",
    "for filename in filenames_list[:30]:\n",
    "    try:\n",
    "        new_filename = filename.partition(\".\")[0] + \".json\"\n",
    "        if new_filename not in jsonfiles_list:\n",
    "            rawtext = s.read_file(\"noscemus_raw/\" + filename, \"str\")\n",
    "            doc = nlp(rawtext)\n",
    "            doc_json = doc.to_json()\n",
    "            s.write_file(\"noscemus_spacy_jsons/\" + new_filename, doc_json)\n",
    "    except:\n",
    "        pass"
   ],
   "metadata": {
    "collapsed": false,
    "is_executing": true,
    "ExecuteTime": {
     "start_time": "2023-11-03T09:51:25.732248Z"
    }
   },
   "id": "162ae851157c7c00"
  },
  {
   "cell_type": "code",
   "execution_count": null,
   "outputs": [],
   "source": [],
   "metadata": {
    "collapsed": false
   },
   "id": "820b71850d0e9653"
  }
 ],
 "metadata": {
  "kernelspec": {
   "name": "brewkernel",
   "language": "python",
   "display_name": "brewkernel"
  },
  "language_info": {
   "codemirror_mode": {
    "name": "ipython",
    "version": 2
   },
   "file_extension": ".py",
   "mimetype": "text/x-python",
   "name": "python",
   "nbconvert_exporter": "python",
   "pygments_lexer": "ipython2",
   "version": "2.7.6"
  }
 },
 "nbformat": 4,
 "nbformat_minor": 5
}
