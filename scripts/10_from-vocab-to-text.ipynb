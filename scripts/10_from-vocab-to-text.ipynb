{
 "cells": [
  {
   "cell_type": "code",
   "id": "initial_id",
   "metadata": {
    "collapsed": true,
    "ExecuteTime": {
     "end_time": "2024-02-08T00:12:20.732389Z",
     "start_time": "2024-02-08T00:12:20.728848Z"
    }
   },
   "source": [
    "import os\n",
    "import spacy\n",
    "from spacy.tokens import Doc\n",
    "import sddk\n",
    "import pandas as pd\n",
    "import re\n",
    "import matplotlib.pyplot as plt\n",
    "import json\n",
    "import shutil\n",
    "from gensim.models import KeyedVectors\n",
    "import pandas as pd\n",
    "import itertools\n",
    "from collections import Counter\n",
    "import nltk\n",
    "import re\n",
    "import requests\n",
    "\n",
    "import gspread\n",
    "from gspread_dataframe import get_as_dataframe, set_with_dataframe\n",
    "from google.oauth2 import service_account # based on google-auth library"
   ],
   "outputs": [],
   "execution_count": 155
  },
  {
   "metadata": {
    "ExecuteTime": {
     "end_time": "2024-02-07T22:08:17.717722Z",
     "start_time": "2024-02-07T22:08:16.818122Z"
    }
   },
   "cell_type": "code",
   "source": "nlp = spacy.load('la_core_web_lg')",
   "id": "7cf723e5f563c83e",
   "outputs": [],
   "execution_count": 3
  },
  {
   "metadata": {
    "ExecuteTime": {
     "end_time": "2024-02-07T22:16:30.226802Z",
     "start_time": "2024-02-07T22:16:30.199781Z"
    }
   },
   "cell_type": "code",
   "source": [
    "metadata_table_long = pd.read_json(\"../data/metadata_table_long.json\")\n",
    "metadata_table_long.head(5)"
   ],
   "id": "51f91c468b4f8e32",
   "outputs": [
    {
     "data": {
      "text/plain": [
       "              Author                                         Full title  \\\n",
       "0  Achrelius, Daniel  Scientiarum magnes recitatus publice anno 1690...   \n",
       "1  Acidalius, Valens                 Ad Iordanum Brunum Nolanum, Italum   \n",
       "2    Acosta, José de  De natura novi orbis libri duo et De promulgat...   \n",
       "3     Adam, Melchior  Vitae Germanorum medicorum, qui saeculo superi...   \n",
       "4    Addison, Joseph  Ad insignissimum virum dominum Thomam Burnettu...   \n",
       "\n",
       "                                                  In  Year              Place  \\\n",
       "0                                               None  1690            [Turku]   \n",
       "1  Poematum Iani Lernutii, Iani Gulielmi, Valenti...  1603  Liegnitz, Wrocław   \n",
       "2                                               None  1589          Salamanca   \n",
       "3                                               None  1620         Heidelberg   \n",
       "4  Examen poeticum duplex, sive, Musarum anglican...  1698             London   \n",
       "\n",
       "       Publisher/Printer           Era      Form/Genre  \\\n",
       "0                   Wall  17th century         Oration   \n",
       "1          Albert, David  17th century  Panegyric poem   \n",
       "2       Guillelum Foquel  16th century       Monograph   \n",
       "3           Rosa, Geyder  17th century       Biography   \n",
       "4  Richard Wellington I.  17th century  Panegyric poem   \n",
       "\n",
       "                                  Discipline/Content  \\\n",
       "0  Mathematics, Astronomy/Astrology/Cosmography, ...   \n",
       "1                    Astronomy/Astrology/Cosmography   \n",
       "2  Astronomy/Astrology/Cosmography, Geography/Car...   \n",
       "3                                           Medicine   \n",
       "4                         Meteorology/Earth sciences   \n",
       "\n",
       "                                            Original  ...       ids      id  \\\n",
       "0                   Scientiarum magnes(Google Books)  ...  [705665]  705665   \n",
       "1  Ad Iordanum Brunum (1603)(CAMENA)Ad Iordanum B...  ...  [801745]  801745   \n",
       "2  De natura novi orbis(Biodiversity Heritage Lib...  ...  [713323]  713323   \n",
       "3  Vitae Germanorum medicorum(MDZ)Alternative lin...  ...  [693148]  693148   \n",
       "4  Ad Burnettum sacrae theoriae telluris auctorem...  ...  [769230]  769230   \n",
       "\n",
       "  date_min date_max                                           filename  \\\n",
       "0   1690.0   1690.0  Achrelius,_Daniel_-_Scientiarum_magnes__Turku_...   \n",
       "1   1603.0   1603.0  Janus_Lernutius_et_al__-_Poemata__Liegnitz_160...   \n",
       "2   1589.0   1589.0  Acosta,_José_de_-_De_natura_novi_orbis__Salama...   \n",
       "3   1620.0   1620.0  Adam,_Melchior_-_Vitae_Germanorum_medicorum__H...   \n",
       "4   1698.0   1698.0        Examen_poeticum_duplex__London_1698_pdf.txt   \n",
       "\n",
       "  file_year sents_n words_n  \\\n",
       "0    1690.0     518    6685   \n",
       "1    1603.0    6137   66744   \n",
       "2    1589.0    9040  135979   \n",
       "3    1620.0   16258  153868   \n",
       "4    1698.0    3297   38011   \n",
       "\n",
       "                                    disciplines_list   science_class  \n",
       "0  [Mathematics, Astronomy/Astrology/Cosmography,...         mixture  \n",
       "1                  [Astronomy/Astrology/Cosmography]  exact_sciences  \n",
       "2  [Astronomy/Astrology/Cosmography, Geography/Ca...  exact_sciences  \n",
       "3                                         [Medicine]   life_sciences  \n",
       "4                       [Meteorology/Earth sciences]  exact_sciences  \n",
       "\n",
       "[5 rows x 30 columns]"
      ],
      "text/html": [
       "<div>\n",
       "<style scoped>\n",
       "    .dataframe tbody tr th:only-of-type {\n",
       "        vertical-align: middle;\n",
       "    }\n",
       "\n",
       "    .dataframe tbody tr th {\n",
       "        vertical-align: top;\n",
       "    }\n",
       "\n",
       "    .dataframe thead th {\n",
       "        text-align: right;\n",
       "    }\n",
       "</style>\n",
       "<table border=\"1\" class=\"dataframe\">\n",
       "  <thead>\n",
       "    <tr style=\"text-align: right;\">\n",
       "      <th></th>\n",
       "      <th>Author</th>\n",
       "      <th>Full title</th>\n",
       "      <th>In</th>\n",
       "      <th>Year</th>\n",
       "      <th>Place</th>\n",
       "      <th>Publisher/Printer</th>\n",
       "      <th>Era</th>\n",
       "      <th>Form/Genre</th>\n",
       "      <th>Discipline/Content</th>\n",
       "      <th>Original</th>\n",
       "      <th>...</th>\n",
       "      <th>ids</th>\n",
       "      <th>id</th>\n",
       "      <th>date_min</th>\n",
       "      <th>date_max</th>\n",
       "      <th>filename</th>\n",
       "      <th>file_year</th>\n",
       "      <th>sents_n</th>\n",
       "      <th>words_n</th>\n",
       "      <th>disciplines_list</th>\n",
       "      <th>science_class</th>\n",
       "    </tr>\n",
       "  </thead>\n",
       "  <tbody>\n",
       "    <tr>\n",
       "      <th>0</th>\n",
       "      <td>Achrelius, Daniel</td>\n",
       "      <td>Scientiarum magnes recitatus publice anno 1690...</td>\n",
       "      <td>None</td>\n",
       "      <td>1690</td>\n",
       "      <td>[Turku]</td>\n",
       "      <td>Wall</td>\n",
       "      <td>17th century</td>\n",
       "      <td>Oration</td>\n",
       "      <td>Mathematics, Astronomy/Astrology/Cosmography, ...</td>\n",
       "      <td>Scientiarum magnes(Google Books)</td>\n",
       "      <td>...</td>\n",
       "      <td>[705665]</td>\n",
       "      <td>705665</td>\n",
       "      <td>1690.0</td>\n",
       "      <td>1690.0</td>\n",
       "      <td>Achrelius,_Daniel_-_Scientiarum_magnes__Turku_...</td>\n",
       "      <td>1690.0</td>\n",
       "      <td>518</td>\n",
       "      <td>6685</td>\n",
       "      <td>[Mathematics, Astronomy/Astrology/Cosmography,...</td>\n",
       "      <td>mixture</td>\n",
       "    </tr>\n",
       "    <tr>\n",
       "      <th>1</th>\n",
       "      <td>Acidalius, Valens</td>\n",
       "      <td>Ad Iordanum Brunum Nolanum, Italum</td>\n",
       "      <td>Poematum Iani Lernutii, Iani Gulielmi, Valenti...</td>\n",
       "      <td>1603</td>\n",
       "      <td>Liegnitz, Wrocław</td>\n",
       "      <td>Albert, David</td>\n",
       "      <td>17th century</td>\n",
       "      <td>Panegyric poem</td>\n",
       "      <td>Astronomy/Astrology/Cosmography</td>\n",
       "      <td>Ad Iordanum Brunum (1603)(CAMENA)Ad Iordanum B...</td>\n",
       "      <td>...</td>\n",
       "      <td>[801745]</td>\n",
       "      <td>801745</td>\n",
       "      <td>1603.0</td>\n",
       "      <td>1603.0</td>\n",
       "      <td>Janus_Lernutius_et_al__-_Poemata__Liegnitz_160...</td>\n",
       "      <td>1603.0</td>\n",
       "      <td>6137</td>\n",
       "      <td>66744</td>\n",
       "      <td>[Astronomy/Astrology/Cosmography]</td>\n",
       "      <td>exact_sciences</td>\n",
       "    </tr>\n",
       "    <tr>\n",
       "      <th>2</th>\n",
       "      <td>Acosta, José de</td>\n",
       "      <td>De natura novi orbis libri duo et De promulgat...</td>\n",
       "      <td>None</td>\n",
       "      <td>1589</td>\n",
       "      <td>Salamanca</td>\n",
       "      <td>Guillelum Foquel</td>\n",
       "      <td>16th century</td>\n",
       "      <td>Monograph</td>\n",
       "      <td>Astronomy/Astrology/Cosmography, Geography/Car...</td>\n",
       "      <td>De natura novi orbis(Biodiversity Heritage Lib...</td>\n",
       "      <td>...</td>\n",
       "      <td>[713323]</td>\n",
       "      <td>713323</td>\n",
       "      <td>1589.0</td>\n",
       "      <td>1589.0</td>\n",
       "      <td>Acosta,_José_de_-_De_natura_novi_orbis__Salama...</td>\n",
       "      <td>1589.0</td>\n",
       "      <td>9040</td>\n",
       "      <td>135979</td>\n",
       "      <td>[Astronomy/Astrology/Cosmography, Geography/Ca...</td>\n",
       "      <td>exact_sciences</td>\n",
       "    </tr>\n",
       "    <tr>\n",
       "      <th>3</th>\n",
       "      <td>Adam, Melchior</td>\n",
       "      <td>Vitae Germanorum medicorum, qui saeculo superi...</td>\n",
       "      <td>None</td>\n",
       "      <td>1620</td>\n",
       "      <td>Heidelberg</td>\n",
       "      <td>Rosa, Geyder</td>\n",
       "      <td>17th century</td>\n",
       "      <td>Biography</td>\n",
       "      <td>Medicine</td>\n",
       "      <td>Vitae Germanorum medicorum(MDZ)Alternative lin...</td>\n",
       "      <td>...</td>\n",
       "      <td>[693148]</td>\n",
       "      <td>693148</td>\n",
       "      <td>1620.0</td>\n",
       "      <td>1620.0</td>\n",
       "      <td>Adam,_Melchior_-_Vitae_Germanorum_medicorum__H...</td>\n",
       "      <td>1620.0</td>\n",
       "      <td>16258</td>\n",
       "      <td>153868</td>\n",
       "      <td>[Medicine]</td>\n",
       "      <td>life_sciences</td>\n",
       "    </tr>\n",
       "    <tr>\n",
       "      <th>4</th>\n",
       "      <td>Addison, Joseph</td>\n",
       "      <td>Ad insignissimum virum dominum Thomam Burnettu...</td>\n",
       "      <td>Examen poeticum duplex, sive, Musarum anglican...</td>\n",
       "      <td>1698</td>\n",
       "      <td>London</td>\n",
       "      <td>Richard Wellington I.</td>\n",
       "      <td>17th century</td>\n",
       "      <td>Panegyric poem</td>\n",
       "      <td>Meteorology/Earth sciences</td>\n",
       "      <td>Ad Burnettum sacrae theoriae telluris auctorem...</td>\n",
       "      <td>...</td>\n",
       "      <td>[769230]</td>\n",
       "      <td>769230</td>\n",
       "      <td>1698.0</td>\n",
       "      <td>1698.0</td>\n",
       "      <td>Examen_poeticum_duplex__London_1698_pdf.txt</td>\n",
       "      <td>1698.0</td>\n",
       "      <td>3297</td>\n",
       "      <td>38011</td>\n",
       "      <td>[Meteorology/Earth sciences]</td>\n",
       "      <td>exact_sciences</td>\n",
       "    </tr>\n",
       "  </tbody>\n",
       "</table>\n",
       "<p>5 rows × 30 columns</p>\n",
       "</div>"
      ]
     },
     "execution_count": 11,
     "metadata": {},
     "output_type": "execute_result"
    }
   ],
   "execution_count": 11
  },
  {
   "metadata": {
    "ExecuteTime": {
     "end_time": "2024-02-07T22:17:25.313233Z",
     "start_time": "2024-02-07T22:17:25.299287Z"
    }
   },
   "cell_type": "code",
   "source": [
    "ids = list(metadata_table_long[\"ids\"].apply(lambda x: eval(x)[0]))\n",
    "ids[:10]"
   ],
   "id": "eaec8b1ace0d1dbc",
   "outputs": [
    {
     "data": {
      "text/plain": [
       "[705665,\n",
       " 801745,\n",
       " 713323,\n",
       " 693148,\n",
       " 769230,\n",
       " 732899,\n",
       " 1479057,\n",
       " 670589,\n",
       " 598104,\n",
       " 598104]"
      ]
     },
     "execution_count": 13,
     "metadata": {},
     "output_type": "execute_result"
    }
   ],
   "execution_count": 13
  },
  {
   "metadata": {
    "ExecuteTime": {
     "end_time": "2024-02-07T22:08:18.103892Z",
     "start_time": "2024-02-07T22:08:18.073552Z"
    }
   },
   "cell_type": "code",
   "source": [
    "filtered_vocab_df = pd.read_json(\"../data/filtered_vocab_df.json\")\n",
    "filtered_vocab_df.head(20)"
   ],
   "id": "8ae2ac0765d287be",
   "outputs": [
    {
     "data": {
      "text/plain": [
       "        word  1501-1550  1551-1600  1601-1650  1651-1700      mean  \\\n",
       "5018    dico      42831     120825      41832      72221  69427.25   \n",
       "6155   omnis      33152     108530      46009      66387  63519.50   \n",
       "2515   facio      33323     109486      40134      53953  59224.00   \n",
       "4040    pars      32591      90667      43593      51249  54525.00   \n",
       "6769   habeo      30884      87225      38386      57791  53571.50   \n",
       "364   possum      23869      79572      36898      72892  53307.75   \n",
       "897      res      27869      68790      27473      49014  43286.50   \n",
       "4810    suus      23716      58975      33267      52441  42099.75   \n",
       "2392   uideo      21389      60143      28355      54288  41043.75   \n",
       "1790  magnus      23446      61213      29708      39211  38394.50   \n",
       "2217   locus      22091      53908      30003      41517  36879.75   \n",
       "2377  corpus      16756      62316      22606      31319  33249.25   \n",
       "3110  multus      20473      50202      21654      34203  31633.00   \n",
       "2555  primus      19132      50620      23778      26045  29893.75   \n",
       "2853      do      16173      45404      21729      34157  29365.75   \n",
       "4389     cap      18393      35181      21951      30471  26499.00   \n",
       "1648   ratio      12325      42217      20289      30475  26326.50   \n",
       "1830     lib      16365      37925      21843      27512  25911.25   \n",
       "4628   liber      22941      36345      17863      26167  25829.00   \n",
       "5471    aqua      11596      40688      19692      30750  25681.50   \n",
       "\n",
       "      in_lila_embeddings  in_lasla  in_operamaiora  \\\n",
       "5018                True      True            True   \n",
       "6155                True      True            True   \n",
       "2515                True      True            True   \n",
       "4040                True      True            True   \n",
       "6769                True      True            True   \n",
       "364                 True      True            True   \n",
       "897                 True      True            True   \n",
       "4810                True      True            True   \n",
       "2392                True      True            True   \n",
       "1790                True      True            True   \n",
       "2217                True      True            True   \n",
       "2377                True      True            True   \n",
       "3110                True      True            True   \n",
       "2555                True      True            True   \n",
       "2853                True      True            True   \n",
       "4389               False     False           False   \n",
       "1648                True      True            True   \n",
       "1830               False     False           False   \n",
       "4628                True      True            True   \n",
       "5471                True      True            True   \n",
       "\n",
       "                                                 transl  \n",
       "5018                                    say, call, tell  \n",
       "6155                                                     \n",
       "2515                                   do, make, handle  \n",
       "4040                                               part  \n",
       "6769               have, hold, possess, consider, think  \n",
       "364                                        be able, can  \n",
       "897                                            suddenly  \n",
       "4810               his own, her own, its own, their own  \n",
       "2392                                                     \n",
       "1790                                         big, great  \n",
       "2217                                    place, location  \n",
       "2377                                       body, corpus  \n",
       "3110                                               many  \n",
       "2555                  first, foremost, chief, principal  \n",
       "2853                                        give, offer  \n",
       "4389                                                     \n",
       "1648  reckoning, account, reason, judgement, conside...  \n",
       "1830                                                     \n",
       "4628     book, volume, inner bark of a tree, book, book  \n",
       "5471                  get/fetch/bring water, be watered  "
      ],
      "text/html": [
       "<div>\n",
       "<style scoped>\n",
       "    .dataframe tbody tr th:only-of-type {\n",
       "        vertical-align: middle;\n",
       "    }\n",
       "\n",
       "    .dataframe tbody tr th {\n",
       "        vertical-align: top;\n",
       "    }\n",
       "\n",
       "    .dataframe thead th {\n",
       "        text-align: right;\n",
       "    }\n",
       "</style>\n",
       "<table border=\"1\" class=\"dataframe\">\n",
       "  <thead>\n",
       "    <tr style=\"text-align: right;\">\n",
       "      <th></th>\n",
       "      <th>word</th>\n",
       "      <th>1501-1550</th>\n",
       "      <th>1551-1600</th>\n",
       "      <th>1601-1650</th>\n",
       "      <th>1651-1700</th>\n",
       "      <th>mean</th>\n",
       "      <th>in_lila_embeddings</th>\n",
       "      <th>in_lasla</th>\n",
       "      <th>in_operamaiora</th>\n",
       "      <th>transl</th>\n",
       "    </tr>\n",
       "  </thead>\n",
       "  <tbody>\n",
       "    <tr>\n",
       "      <th>5018</th>\n",
       "      <td>dico</td>\n",
       "      <td>42831</td>\n",
       "      <td>120825</td>\n",
       "      <td>41832</td>\n",
       "      <td>72221</td>\n",
       "      <td>69427.25</td>\n",
       "      <td>True</td>\n",
       "      <td>True</td>\n",
       "      <td>True</td>\n",
       "      <td>say, call, tell</td>\n",
       "    </tr>\n",
       "    <tr>\n",
       "      <th>6155</th>\n",
       "      <td>omnis</td>\n",
       "      <td>33152</td>\n",
       "      <td>108530</td>\n",
       "      <td>46009</td>\n",
       "      <td>66387</td>\n",
       "      <td>63519.50</td>\n",
       "      <td>True</td>\n",
       "      <td>True</td>\n",
       "      <td>True</td>\n",
       "      <td></td>\n",
       "    </tr>\n",
       "    <tr>\n",
       "      <th>2515</th>\n",
       "      <td>facio</td>\n",
       "      <td>33323</td>\n",
       "      <td>109486</td>\n",
       "      <td>40134</td>\n",
       "      <td>53953</td>\n",
       "      <td>59224.00</td>\n",
       "      <td>True</td>\n",
       "      <td>True</td>\n",
       "      <td>True</td>\n",
       "      <td>do, make, handle</td>\n",
       "    </tr>\n",
       "    <tr>\n",
       "      <th>4040</th>\n",
       "      <td>pars</td>\n",
       "      <td>32591</td>\n",
       "      <td>90667</td>\n",
       "      <td>43593</td>\n",
       "      <td>51249</td>\n",
       "      <td>54525.00</td>\n",
       "      <td>True</td>\n",
       "      <td>True</td>\n",
       "      <td>True</td>\n",
       "      <td>part</td>\n",
       "    </tr>\n",
       "    <tr>\n",
       "      <th>6769</th>\n",
       "      <td>habeo</td>\n",
       "      <td>30884</td>\n",
       "      <td>87225</td>\n",
       "      <td>38386</td>\n",
       "      <td>57791</td>\n",
       "      <td>53571.50</td>\n",
       "      <td>True</td>\n",
       "      <td>True</td>\n",
       "      <td>True</td>\n",
       "      <td>have, hold, possess, consider, think</td>\n",
       "    </tr>\n",
       "    <tr>\n",
       "      <th>364</th>\n",
       "      <td>possum</td>\n",
       "      <td>23869</td>\n",
       "      <td>79572</td>\n",
       "      <td>36898</td>\n",
       "      <td>72892</td>\n",
       "      <td>53307.75</td>\n",
       "      <td>True</td>\n",
       "      <td>True</td>\n",
       "      <td>True</td>\n",
       "      <td>be able, can</td>\n",
       "    </tr>\n",
       "    <tr>\n",
       "      <th>897</th>\n",
       "      <td>res</td>\n",
       "      <td>27869</td>\n",
       "      <td>68790</td>\n",
       "      <td>27473</td>\n",
       "      <td>49014</td>\n",
       "      <td>43286.50</td>\n",
       "      <td>True</td>\n",
       "      <td>True</td>\n",
       "      <td>True</td>\n",
       "      <td>suddenly</td>\n",
       "    </tr>\n",
       "    <tr>\n",
       "      <th>4810</th>\n",
       "      <td>suus</td>\n",
       "      <td>23716</td>\n",
       "      <td>58975</td>\n",
       "      <td>33267</td>\n",
       "      <td>52441</td>\n",
       "      <td>42099.75</td>\n",
       "      <td>True</td>\n",
       "      <td>True</td>\n",
       "      <td>True</td>\n",
       "      <td>his own, her own, its own, their own</td>\n",
       "    </tr>\n",
       "    <tr>\n",
       "      <th>2392</th>\n",
       "      <td>uideo</td>\n",
       "      <td>21389</td>\n",
       "      <td>60143</td>\n",
       "      <td>28355</td>\n",
       "      <td>54288</td>\n",
       "      <td>41043.75</td>\n",
       "      <td>True</td>\n",
       "      <td>True</td>\n",
       "      <td>True</td>\n",
       "      <td></td>\n",
       "    </tr>\n",
       "    <tr>\n",
       "      <th>1790</th>\n",
       "      <td>magnus</td>\n",
       "      <td>23446</td>\n",
       "      <td>61213</td>\n",
       "      <td>29708</td>\n",
       "      <td>39211</td>\n",
       "      <td>38394.50</td>\n",
       "      <td>True</td>\n",
       "      <td>True</td>\n",
       "      <td>True</td>\n",
       "      <td>big, great</td>\n",
       "    </tr>\n",
       "    <tr>\n",
       "      <th>2217</th>\n",
       "      <td>locus</td>\n",
       "      <td>22091</td>\n",
       "      <td>53908</td>\n",
       "      <td>30003</td>\n",
       "      <td>41517</td>\n",
       "      <td>36879.75</td>\n",
       "      <td>True</td>\n",
       "      <td>True</td>\n",
       "      <td>True</td>\n",
       "      <td>place, location</td>\n",
       "    </tr>\n",
       "    <tr>\n",
       "      <th>2377</th>\n",
       "      <td>corpus</td>\n",
       "      <td>16756</td>\n",
       "      <td>62316</td>\n",
       "      <td>22606</td>\n",
       "      <td>31319</td>\n",
       "      <td>33249.25</td>\n",
       "      <td>True</td>\n",
       "      <td>True</td>\n",
       "      <td>True</td>\n",
       "      <td>body, corpus</td>\n",
       "    </tr>\n",
       "    <tr>\n",
       "      <th>3110</th>\n",
       "      <td>multus</td>\n",
       "      <td>20473</td>\n",
       "      <td>50202</td>\n",
       "      <td>21654</td>\n",
       "      <td>34203</td>\n",
       "      <td>31633.00</td>\n",
       "      <td>True</td>\n",
       "      <td>True</td>\n",
       "      <td>True</td>\n",
       "      <td>many</td>\n",
       "    </tr>\n",
       "    <tr>\n",
       "      <th>2555</th>\n",
       "      <td>primus</td>\n",
       "      <td>19132</td>\n",
       "      <td>50620</td>\n",
       "      <td>23778</td>\n",
       "      <td>26045</td>\n",
       "      <td>29893.75</td>\n",
       "      <td>True</td>\n",
       "      <td>True</td>\n",
       "      <td>True</td>\n",
       "      <td>first, foremost, chief, principal</td>\n",
       "    </tr>\n",
       "    <tr>\n",
       "      <th>2853</th>\n",
       "      <td>do</td>\n",
       "      <td>16173</td>\n",
       "      <td>45404</td>\n",
       "      <td>21729</td>\n",
       "      <td>34157</td>\n",
       "      <td>29365.75</td>\n",
       "      <td>True</td>\n",
       "      <td>True</td>\n",
       "      <td>True</td>\n",
       "      <td>give, offer</td>\n",
       "    </tr>\n",
       "    <tr>\n",
       "      <th>4389</th>\n",
       "      <td>cap</td>\n",
       "      <td>18393</td>\n",
       "      <td>35181</td>\n",
       "      <td>21951</td>\n",
       "      <td>30471</td>\n",
       "      <td>26499.00</td>\n",
       "      <td>False</td>\n",
       "      <td>False</td>\n",
       "      <td>False</td>\n",
       "      <td></td>\n",
       "    </tr>\n",
       "    <tr>\n",
       "      <th>1648</th>\n",
       "      <td>ratio</td>\n",
       "      <td>12325</td>\n",
       "      <td>42217</td>\n",
       "      <td>20289</td>\n",
       "      <td>30475</td>\n",
       "      <td>26326.50</td>\n",
       "      <td>True</td>\n",
       "      <td>True</td>\n",
       "      <td>True</td>\n",
       "      <td>reckoning, account, reason, judgement, conside...</td>\n",
       "    </tr>\n",
       "    <tr>\n",
       "      <th>1830</th>\n",
       "      <td>lib</td>\n",
       "      <td>16365</td>\n",
       "      <td>37925</td>\n",
       "      <td>21843</td>\n",
       "      <td>27512</td>\n",
       "      <td>25911.25</td>\n",
       "      <td>False</td>\n",
       "      <td>False</td>\n",
       "      <td>False</td>\n",
       "      <td></td>\n",
       "    </tr>\n",
       "    <tr>\n",
       "      <th>4628</th>\n",
       "      <td>liber</td>\n",
       "      <td>22941</td>\n",
       "      <td>36345</td>\n",
       "      <td>17863</td>\n",
       "      <td>26167</td>\n",
       "      <td>25829.00</td>\n",
       "      <td>True</td>\n",
       "      <td>True</td>\n",
       "      <td>True</td>\n",
       "      <td>book, volume, inner bark of a tree, book, book</td>\n",
       "    </tr>\n",
       "    <tr>\n",
       "      <th>5471</th>\n",
       "      <td>aqua</td>\n",
       "      <td>11596</td>\n",
       "      <td>40688</td>\n",
       "      <td>19692</td>\n",
       "      <td>30750</td>\n",
       "      <td>25681.50</td>\n",
       "      <td>True</td>\n",
       "      <td>True</td>\n",
       "      <td>True</td>\n",
       "      <td>get/fetch/bring water, be watered</td>\n",
       "    </tr>\n",
       "  </tbody>\n",
       "</table>\n",
       "</div>"
      ]
     },
     "execution_count": 4,
     "metadata": {},
     "output_type": "execute_result"
    }
   ],
   "execution_count": 4
  },
  {
   "metadata": {
    "ExecuteTime": {
     "end_time": "2024-02-07T22:19:44.224522Z",
     "start_time": "2024-02-07T22:19:44.221368Z"
    }
   },
   "cell_type": "code",
   "source": "vocab_list = filtered_vocab_df[\"word\"].tolist()",
   "id": "3788bc184e946f6d",
   "outputs": [],
   "execution_count": 14
  },
  {
   "metadata": {
    "ExecuteTime": {
     "end_time": "2024-02-07T22:08:32.285996Z",
     "start_time": "2024-02-07T22:08:32.282887Z"
    }
   },
   "cell_type": "code",
   "source": "len(filtered_vocab_df)",
   "id": "fa53bbae6fa12e91",
   "outputs": [
    {
     "data": {
      "text/plain": [
       "6332"
      ]
     },
     "execution_count": 5,
     "metadata": {},
     "output_type": "execute_result"
    }
   ],
   "execution_count": 5
  },
  {
   "metadata": {
    "ExecuteTime": {
     "end_time": "2024-02-07T22:09:59.915969Z",
     "start_time": "2024-02-07T22:09:51.197087Z"
    }
   },
   "cell_type": "code",
   "source": "s = sddk.cloudSession(provider=\"sciencedata.dk\", shared_folder_name=\"TOME/DATA/NOSCEMUS\", owner=\"kase@zcu.cz\")",
   "id": "de0df50457721b8d",
   "outputs": [
    {
     "name": "stdout",
     "output_type": "stream",
     "text": [
      "connection with shared folder established with you as its owner\n",
      "endpoint variable has been configured to: https://sciencedata.dk/files/TOME/DATA/NOSCEMUS/\n"
     ]
    }
   ],
   "execution_count": 6
  },
  {
   "metadata": {
    "ExecuteTime": {
     "end_time": "2024-02-07T22:10:04.902728Z",
     "start_time": "2024-02-07T22:10:03.912422Z"
    }
   },
   "cell_type": "code",
   "source": [
    "target_folder_name = \"noscemus_spacyjsons_v1\"\n",
    "jsonfiles_list = s.list_filenames(target_folder_name, \"json\")\n",
    "jsonfiles_list[:10]"
   ],
   "id": "e2c5996be67dab9d",
   "outputs": [
    {
     "data": {
      "text/plain": [
       "['1031760.json',\n",
       " '1085290.json',\n",
       " '1285853.json',\n",
       " '1285854.json',\n",
       " '1285855.json',\n",
       " '1285856.json',\n",
       " '1365811.json',\n",
       " '1370560.json',\n",
       " '1378359.json',\n",
       " '1424044.json']"
      ]
     },
     "execution_count": 7,
     "metadata": {},
     "output_type": "execute_result"
    }
   ],
   "execution_count": 7
  },
  {
   "metadata": {
    "ExecuteTime": {
     "end_time": "2024-02-07T22:10:07.163965Z",
     "start_time": "2024-02-07T22:10:07.159556Z"
    }
   },
   "cell_type": "code",
   "source": "len(jsonfiles_list)",
   "id": "e3b9cbfec10ba765",
   "outputs": [
    {
     "data": {
      "text/plain": [
       "1007"
      ]
     },
     "execution_count": 8,
     "metadata": {},
     "output_type": "execute_result"
    }
   ],
   "execution_count": 8
  },
  {
   "metadata": {
    "ExecuteTime": {
     "end_time": "2024-02-07T22:22:21.165851Z",
     "start_time": "2024-02-07T22:22:21.162773Z"
    }
   },
   "cell_type": "code",
   "source": [
    "def filename_to_doc(filename, dir=target_folder_name):\n",
    "    doc_json = s.read_file(dir + \"/\" + filename, \"dict\")\n",
    "    doc = Doc(nlp.vocab).from_json(doc_json)\n",
    "    return doc"
   ],
   "id": "c8bc5884104904d1",
   "outputs": [],
   "execution_count": 16
  },
  {
   "metadata": {
    "ExecuteTime": {
     "end_time": "2024-02-07T22:22:26.655246Z",
     "start_time": "2024-02-07T22:22:22.236962Z"
    }
   },
   "cell_type": "code",
   "source": [
    "# a test doc\n",
    "doc = filename_to_doc(jsonfiles_list[0])"
   ],
   "id": "cb0447150d1bc95a",
   "outputs": [],
   "execution_count": 17
  },
  {
   "metadata": {
    "ExecuteTime": {
     "end_time": "2024-02-07T22:23:10.460656Z",
     "start_time": "2024-02-07T22:23:10.450803Z"
    }
   },
   "cell_type": "code",
   "source": [
    "sent = list(doc.sents)[151]\n",
    "sent"
   ],
   "id": "47e5aae8a4d58ba6",
   "outputs": [
    {
     "data": {
      "text/plain": [
       "Quâ in re si quid profecerimus, non alia sanè ratio nobis viam aperuit, quàm vera & legitima spiritus humant humiliatio."
      ]
     },
     "execution_count": 19,
     "metadata": {},
     "output_type": "execute_result"
    }
   ],
   "execution_count": 19
  },
  {
   "metadata": {
    "ExecuteTime": {
     "end_time": "2024-02-07T23:30:26.106803Z",
     "start_time": "2024-02-07T23:30:26.095941Z"
    }
   },
   "cell_type": "code",
   "source": "[(t.lemma_, t.text) for t in sent if (t.pos_ in [\"NOUN\", \"PROPN\", \"ADJ\", \"VERB\"]) & (t.lemma_ in vocab_list)]",
   "id": "3a88e712d5c45f52",
   "outputs": [
    {
     "data": {
      "text/plain": [
       "[('res', 're'),\n",
       " ('sanè', 'sanè'),\n",
       " ('ratio', 'ratio'),\n",
       " ('uia', 'viam'),\n",
       " ('aperio', 'aperuit'),\n",
       " ('quàm', 'quàm'),\n",
       " ('uerus', 'vera'),\n",
       " ('legitimus', 'legitima'),\n",
       " ('spiritus', 'spiritus')]"
      ]
     },
     "execution_count": 101,
     "metadata": {},
     "output_type": "execute_result"
    }
   ],
   "execution_count": 101
  },
  {
   "metadata": {
    "ExecuteTime": {
     "end_time": "2024-02-07T22:25:59.663957Z",
     "start_time": "2024-02-07T22:25:59.640323Z"
    }
   },
   "cell_type": "code",
   "source": "t.id",
   "id": "1ad14d37e3eac5dc",
   "outputs": [
    {
     "ename": "NameError",
     "evalue": "name 't' is not defined",
     "output_type": "error",
     "traceback": [
      "\u001B[0;31m---------------------------------------------------------------------------\u001B[0m",
      "\u001B[0;31mNameError\u001B[0m                                 Traceback (most recent call last)",
      "Cell \u001B[0;32mIn[23], line 1\u001B[0m\n\u001B[0;32m----> 1\u001B[0m \u001B[43mt\u001B[49m\u001B[38;5;241m.\u001B[39mid\n",
      "\u001B[0;31mNameError\u001B[0m: name 't' is not defined"
     ]
    }
   ],
   "execution_count": 23
  },
  {
   "metadata": {},
   "cell_type": "code",
   "outputs": [],
   "execution_count": null,
   "source": "vocab_instances = {}",
   "id": "5470feb4e04e7c0c"
  },
  {
   "metadata": {
    "ExecuteTime": {
     "end_time": "2024-02-07T23:47:58.418680Z",
     "start_time": "2024-02-07T23:47:58.415589Z"
    }
   },
   "cell_type": "code",
   "source": [
    "def get_vocab_data(id, vocab_list):\n",
    "    doc_vocab_instances = []\n",
    "    filename = str(id) + \".json\"\n",
    "    doc = filename_to_doc(filename)\n",
    "    for sent_n, sent in enumerate(doc.sents):\n",
    "        doc_vocab_instances.extend([(t.lemma_, t.text, id, sent_n, t.pos_) for t in sent if (t.pos_ in [\"NOUN\", \"PROPN\", \"ADJ\", \"VERB\"]) & (t.lemma_ in vocab_list)])\n",
    "    return doc_vocab_instances"
   ],
   "id": "ecbace267ad2c715",
   "outputs": [],
   "execution_count": 137
  },
  {
   "metadata": {
    "ExecuteTime": {
     "end_time": "2024-02-07T23:48:02.659884Z",
     "start_time": "2024-02-07T23:48:01.865397Z"
    }
   },
   "cell_type": "code",
   "source": "doc = filename_to_doc(str(ids[0]) + \".json\")",
   "id": "eff52ca0938a739f",
   "outputs": [],
   "execution_count": 138
  },
  {
   "metadata": {
    "ExecuteTime": {
     "end_time": "2024-02-07T23:48:03.315992Z",
     "start_time": "2024-02-07T23:48:02.661792Z"
    }
   },
   "cell_type": "code",
   "source": [
    "doc_vocab_instances = get_vocab_data(ids[0], vocab_list)\n",
    "len(doc_vocab_instances)"
   ],
   "id": "d1462d574c846438",
   "outputs": [
    {
     "data": {
      "text/plain": [
       "3176"
      ]
     },
     "execution_count": 139,
     "metadata": {},
     "output_type": "execute_result"
    }
   ],
   "execution_count": 139
  },
  {
   "metadata": {
    "ExecuteTime": {
     "end_time": "2024-02-07T23:48:10.560817Z",
     "start_time": "2024-02-07T23:48:10.554537Z"
    }
   },
   "cell_type": "code",
   "source": "list(doc.sents)[0]",
   "id": "f6586500e5e58b57",
   "outputs": [
    {
     "data": {
      "text/plain": [
       "Scientiarum Magnes."
      ]
     },
     "execution_count": 141,
     "metadata": {},
     "output_type": "execute_result"
    }
   ],
   "execution_count": 141
  },
  {
   "metadata": {
    "ExecuteTime": {
     "end_time": "2024-02-07T23:48:10.969979Z",
     "start_time": "2024-02-07T23:48:10.952739Z"
    }
   },
   "cell_type": "code",
   "source": "doc_vocab_instances[:100]",
   "id": "8d1451f4e0557360",
   "outputs": [
    {
     "data": {
      "text/plain": [
       "[('magnes', 'Magnes', 705665, 0, 'PROPN'),\n",
       " ('optimi', 'Optimi', 705665, 1, 'PROPN'),\n",
       " ('par', 'pari', 705665, 2, 'ADJ'),\n",
       " ('ardus', 'ardore', 705665, 2, 'NOUN'),\n",
       " ('primus', 'primum', 705665, 2, 'ADJ'),\n",
       " ('suus', 'suum', 705665, 2, 'ADJ'),\n",
       " ('facio', 'facta', 705665, 4, 'VERB'),\n",
       " ('series', 'series', 705665, 4, 'NOUN'),\n",
       " ('longus', 'longissima', 705665, 4, 'ADJ'),\n",
       " ('res', 'rerum', 705665, 4, 'NOUN'),\n",
       " ('dominus', 'Domino', 705665, 7, 'NOUN'),\n",
       " ('annexus', 'Annexorum', 705665, 7, 'ADJ'),\n",
       " ('pax', 'Pax', 705665, 8, 'NOUN'),\n",
       " ('secura', 'Secura', 705665, 8, 'ADJ'),\n",
       " ('omnis', 'Omnia', 705665, 10, 'ADJ'),\n",
       " ('consiliis', 'Consiliis', 705665, 11, 'NOUN'),\n",
       " ('decursus', 'decursu', 705665, 13, 'NOUN'),\n",
       " ('perego', 'peregit', 705665, 13, 'VERB'),\n",
       " ('oratio', 'Oratione', 705665, 13, 'NOUN'),\n",
       " ('vigor', 'vigor', 705665, 14, 'NOUN'),\n",
       " ('alacritas', 'alacritas', 705665, 15, 'NOUN'),\n",
       " ('multus', 'plures', 705665, 15, 'ADJ'),\n",
       " ('ingenium', 'ingenii', 705665, 15, 'NOUN'),\n",
       " ('foetus', 'foetus', 705665, 15, 'NOUN'),\n",
       " ('gradus', 'gradus', 705665, 15, 'NOUN'),\n",
       " ('addo', 'addit', 705665, 15, 'VERB'),\n",
       " ('amor', 'amoris', 705665, 16, 'NOUN'),\n",
       " ('polus', 'polum', 705665, 16, 'NOUN'),\n",
       " ('boreus', 'boreum', 705665, 16, 'ADJ'),\n",
       " ('certus', 'certum', 705665, 16, 'ADJ'),\n",
       " ('testimonium', 'testimonium', 705665, 16, 'NOUN'),\n",
       " ('magnificentia', 'magnificentiae', 705665, 17, 'NOUN'),\n",
       " ('regalis', 'Regalis', 705665, 17, 'ADJ'),\n",
       " ('recordatio', 'recordatio', 705665, 17, 'NOUN'),\n",
       " ('iustus', 'iusta', 705665, 17, 'ADJ'),\n",
       " ('memoria', 'memoria', 705665, 17, 'NOUN'),\n",
       " ('beneficium', 'beneficiorum', 705665, 17, 'NOUN'),\n",
       " ('meritò', 'meritò', 705665, 17, 'NOUN'),\n",
       " ('diffundo', 'diffundi', 705665, 17, 'VERB'),\n",
       " ('debeo', 'debent', 705665, 17, 'VERB'),\n",
       " ('omnis', 'omnem', 705665, 17, 'ADJ'),\n",
       " ('posteritas', 'posteritatem', 705665, 17, 'NOUN'),\n",
       " ('circulus', 'circulum', 705665, 18, 'NOUN'),\n",
       " ('habito', 'habitantibus', 705665, 18, 'VERB'),\n",
       " ('suus', 'sua', 705665, 18, 'ADJ'),\n",
       " ('opimus', 'opima', 705665, 18, 'ADJ'),\n",
       " ('fatum', 'fata', 705665, 18, 'NOUN'),\n",
       " ('gratulor', 'gratulor', 705665, 18, 'VERB'),\n",
       " ('gaudeo', 'gaudeo', 705665, 19, 'VERB'),\n",
       " ('licet', 'licet', 705665, 20, 'VERB'),\n",
       " ('uarius', 'variis', 705665, 20, 'ADJ'),\n",
       " ('fortuna', 'fortunae', 705665, 20, 'NOUN'),\n",
       " ('telum', 'telis', 705665, 20, 'NOUN'),\n",
       " ('exposio', 'expositus', 705665, 20, 'VERB'),\n",
       " ('mensis', 'mensum', 705665, 21, 'NOUN'),\n",
       " ('fero', 'tuli', 705665, 21, 'VERB'),\n",
       " ('meus', 'meorum', 705665, 21, 'ADJ'),\n",
       " ('fructus', 'fructum', 705665, 21, 'NOUN'),\n",
       " ('solennius', 'solennia', 705665, 22, 'NOUN'),\n",
       " ('nius', 'nii', 705665, 23, 'NOUN'),\n",
       " ('auspicium', 'auspicia', 705665, 23, 'NOUN'),\n",
       " ('victoria', 'victoriarum', 705665, 23, 'NOUN'),\n",
       " ('cursus', 'cursum', 705665, 23, 'NOUN'),\n",
       " ('oppidum', 'oppido', 705665, 24, 'NOUN'),\n",
       " ('laetus', 'laeta', 705665, 24, 'ADJ'),\n",
       " ('natalitia', 'natalitia', 705665, 24, 'NOUN'),\n",
       " ('funestus', 'funestum', 705665, 24, 'ADJ'),\n",
       " ('praemo', 'praematurum', 705665, 24, 'ADJ'),\n",
       " ('occasus', 'occasum', 705665, 24, 'NOUN'),\n",
       " ('indigito', 'indigitavi', 705665, 25, 'VERB'),\n",
       " ('celebro', 'celebravi', 705665, 25, 'VERB'),\n",
       " ('aeternitas', 'aeternitatis', 705665, 27, 'NOUN'),\n",
       " ('inscripsi', 'inscripsi', 705665, 27, 'VERB'),\n",
       " ('tabula', 'tabulis', 705665, 27, 'NOUN'),\n",
       " ('meus', 'meae', 705665, 28, 'ADJ'),\n",
       " ('aetas', 'aetatis', 705665, 28, 'NOUN'),\n",
       " ('fructus', 'fructum', 705665, 28, 'NOUN'),\n",
       " ('habeo', 'habeo', 705665, 28, 'VERB'),\n",
       " ('licet', 'liceat', 705665, 28, 'VERB'),\n",
       " ('orbis', 'Orbis', 705665, 28, 'NOUN'),\n",
       " ('sacris', 'Sacris', 705665, 28, 'ADJ'),\n",
       " ('consecro', 'consecrare', 705665, 28, 'VERB'),\n",
       " ('imperium', 'Imperio', 705665, 29, 'NOUN'),\n",
       " ('religio', 'religionis', 705665, 29, 'NOUN'),\n",
       " ('dignitas', 'dignitatem', 705665, 29, 'NOUN'),\n",
       " ('uis', 'vim', 705665, 29, 'NOUN'),\n",
       " ('exercitium', 'exercitia', 705665, 29, 'NOUN'),\n",
       " ('rego', 'regunt', 705665, 29, 'VERB'),\n",
       " ('piè', 'piè', 705665, 29, 'VERB'),\n",
       " ('flecto', 'flectunt', 705665, 30, 'VERB'),\n",
       " ('guberno', 'gubernant', 705665, 30, 'VERB'),\n",
       " ('protego', 'protegunt', 705665, 31, 'VERB'),\n",
       " ('innocens', 'innocentes', 705665, 31, 'ADJ'),\n",
       " ('castus', 'castos', 705665, 31, 'ADJ'),\n",
       " ('miser', 'miseros', 705665, 31, 'ADJ'),\n",
       " ('reputao', 'reputantes', 705665, 32, 'VERB'),\n",
       " ('nihil', 'nihil', 705665, 32, 'NOUN'),\n",
       " ('singulus', 'singulas', 705665, 32, 'ADJ'),\n",
       " ('regnum', 'regni', 705665, 32, 'NOUN'),\n",
       " ('vena', 'venas', 705665, 32, 'NOUN')]"
      ]
     },
     "execution_count": 142,
     "metadata": {},
     "output_type": "execute_result"
    }
   ],
   "execution_count": 142
  },
  {
   "metadata": {
    "ExecuteTime": {
     "end_time": "2024-02-07T23:48:31.807650Z",
     "start_time": "2024-02-07T23:48:31.804430Z"
    }
   },
   "cell_type": "code",
   "source": [
    "def update_vocab(vocab_dict, doc_data):\n",
    "    for lemma, wordform, doc_id, sent_id, pos  in doc_data:\n",
    "        if lemma not in vocab_dict:\n",
    "            vocab_dict[lemma] = {}\n",
    "        if wordform not in vocab_dict[lemma]:\n",
    "            vocab_dict[lemma][wordform] = []\n",
    "        # append the tuple to the list of the appropriate wordform of the lemma\n",
    "        vocab_dict[lemma][wordform].append((doc_id, sent_id, pos))\n",
    "    return vocab_dict"
   ],
   "id": "438d30fa8848d371",
   "outputs": [],
   "execution_count": 143
  },
  {
   "metadata": {
    "jupyter": {
     "is_executing": true
    },
    "ExecuteTime": {
     "start_time": "2024-02-08T01:01:27.160455Z"
    }
   },
   "cell_type": "code",
   "source": [
    "# test with a few documents\n",
    "vocab_instances = {}\n",
    "for id in ids:\n",
    "    doc_vocab_instances = get_vocab_data(id, vocab_list)\n",
    "    vocab_instances = update_vocab(vocab_instances, doc_vocab_instances)"
   ],
   "id": "fd9c3585e6824855",
   "outputs": [],
   "execution_count": null
  },
  {
   "metadata": {
    "jupyter": {
     "is_executing": true
    }
   },
   "cell_type": "code",
   "source": [
    "with open(\"../data/large_data/vocab_instances.json\", 'w') as f:\n",
    "    json.dump(vocab_instances, f)"
   ],
   "id": "2b06bb903826ee9c",
   "outputs": [],
   "execution_count": null
  },
  {
   "metadata": {
    "jupyter": {
     "is_executing": true
    }
   },
   "cell_type": "code",
   "source": [
    "# check whether we have sentences for all documents:\n",
    "f_sents_ready = os.listdir(\"../data/large_data/sents_text\")\n",
    "len(f_sents_ready)"
   ],
   "id": "df530bddb3ede1a2",
   "outputs": [],
   "execution_count": null
  },
  {
   "metadata": {
    "ExecuteTime": {
     "end_time": "2024-02-08T00:16:26.489823Z",
     "start_time": "2024-02-08T00:16:26.487214Z"
    }
   },
   "cell_type": "code",
   "source": [
    "### choose a lemma for\n",
    "lemma = \"portendo\""
   ],
   "id": "93448ecb4a44e2f7",
   "outputs": [],
   "execution_count": 161
  },
  {
   "metadata": {
    "ExecuteTime": {
     "end_time": "2024-02-08T00:55:57.705377Z",
     "start_time": "2024-02-08T00:55:57.705305Z"
    }
   },
   "cell_type": "code",
   "source": [
    "id = ids[0]\n",
    "metadata = metadata_table_long[metadata_table_long[\"id\"] == id].squeeze()\n",
    "metadata"
   ],
   "id": "7a74d5cbb0c775dc",
   "outputs": [],
   "execution_count": null
  },
  {
   "metadata": {
    "ExecuteTime": {
     "end_time": "2024-02-08T00:22:21.050292Z",
     "start_time": "2024-02-08T00:22:21.038860Z"
    }
   },
   "cell_type": "code",
   "source": "metadata_table_long.columns",
   "id": "76421a6930578e0c",
   "outputs": [
    {
     "data": {
      "text/plain": [
       "Index(['Author', 'Full title', 'In', 'Year', 'Place', 'Publisher/Printer',\n",
       "       'Era', 'Form/Genre', 'Discipline/Content', 'Original',\n",
       "       'Digital sourcebook', 'Description', 'References', 'Cited in',\n",
       "       'How to cite this entry', 'Internal notes', 'Of interest to',\n",
       "       'Transkribus text available', 'Written by', 'Library and Signature',\n",
       "       'ids', 'id', 'date_min', 'date_max', 'filename', 'file_year', 'sents_n',\n",
       "       'words_n', 'disciplines_list', 'science_class'],\n",
       "      dtype='object')"
      ]
     },
     "execution_count": 171,
     "metadata": {},
     "output_type": "execute_result"
    }
   ],
   "execution_count": 171
  },
  {
   "metadata": {
    "ExecuteTime": {
     "end_time": "2024-02-08T00:29:19.634200Z",
     "start_time": "2024-02-08T00:29:19.627079Z"
    }
   },
   "cell_type": "code",
   "source": [
    "def read_specific_line(filename, line_number):\n",
    "    with open(filename, 'r', encoding='utf-8') as f:\n",
    "        return next(itertools.islice(f, line_number, None)).strip()\n",
    "    \n",
    "def get_contexts_for_lemma(lemma):\n",
    "    contexts_data = vocab_instances[lemma]\n",
    "    contexts_texts = []\n",
    "    for wordform in contexts_data.keys():\n",
    "        for tup in contexts_data[wordform]:\n",
    "            try:   \n",
    "                filename = \"../data/large_data/sents_text/{}.txt\".format(str(tup[0]))\n",
    "                metadata = metadata_table_long[metadata_table_long[\"id\"] == tup[0]].squeeze()\n",
    "                context_text = read_specific_line(filename, tup[1])\n",
    "                contexts_texts.append({\"lemma\" : lemma, \"wordform\": wordform, \"pos\" : tup[2], \"sentence_text\" : context_text, \"doc_id\" : tup[0], \"sentence_i\" : tup[1], \"author\" : metadata[\"Author\"], \"title\" : metadata[\"Full title\"], \"year\" : metadata[\"file_year\"]})\n",
    "            except:\n",
    "                pass\n",
    "    contexts_texts_df = pd.DataFrame(contexts_texts)\n",
    "    contexts_texts_df.sort_values(\"year\", ascending=False)\n",
    "    return contexts_texts_df"
   ],
   "id": "7a856658dcf9333f",
   "outputs": [],
   "execution_count": 180
  },
  {
   "metadata": {
    "ExecuteTime": {
     "end_time": "2024-02-08T00:29:21.514330Z",
     "start_time": "2024-02-08T00:29:21.328479Z"
    }
   },
   "cell_type": "code",
   "source": [
    "lemma = \"honor\"\n",
    "contexts_texts_df = get_contexts_for_lemma(lemma)"
   ],
   "id": "d78cc7d7ac3fd6ef",
   "outputs": [],
   "execution_count": 181
  },
  {
   "metadata": {
    "ExecuteTime": {
     "end_time": "2024-02-08T00:29:38.148582Z",
     "start_time": "2024-02-08T00:29:38.146204Z"
    }
   },
   "cell_type": "code",
   "source": "len(contexts_texts_df)",
   "id": "cde538ebe5922b2d",
   "outputs": [
    {
     "data": {
      "text/plain": [
       "122"
      ]
     },
     "execution_count": 183,
     "metadata": {},
     "output_type": "execute_result"
    }
   ],
   "execution_count": 183
  },
  {
   "metadata": {
    "ExecuteTime": {
     "end_time": "2024-02-08T00:29:42.948266Z",
     "start_time": "2024-02-08T00:29:42.942138Z"
    }
   },
   "cell_type": "code",
   "source": "contexts_texts_df.tail(10)",
   "id": "ddeccef7e1d91de3",
   "outputs": [
    {
     "data": {
      "text/plain": [
       "     lemma   wordform   pos  \\\n",
       "112  honor  honoribus  NOUN   \n",
       "113  honor  honoribus  NOUN   \n",
       "114  honor  honoribus  NOUN   \n",
       "115  honor  honoribus  NOUN   \n",
       "116  honor  honoribus  NOUN   \n",
       "117  honor  honoribus  NOUN   \n",
       "118  honor  honoribus  NOUN   \n",
       "119  honor      Honor  NOUN   \n",
       "120  honor      Honor  NOUN   \n",
       "121  honor      Honor  NOUN   \n",
       "\n",
       "                                         sentence_text   doc_id  sentence_i  \\\n",
       "112                    plissimisque honoribus affecit.   693148        4952   \n",
       "113  quae nam 1569. tinuos quindecim annos cum fove...   693148        8341   \n",
       "114  um, quem aliquot annos gessit praeclarè; ampli...   693148        8623   \n",
       "115  ibique biennium commoratus bingam redit magnos...   693148        9815   \n",
       "116  quàm equus elegans & commodus quam in parte sa...   693148       12177   \n",
       "117  honoribus defunctus est, & Ioauni Vincentis Pi...   693148       12334   \n",
       "118  Funecta & Bayerorum est familia multis aetatib...   693148       12886   \n",
       "119                                Membro Honor., Soc.  1479057        1127   \n",
       "120                                Membro Honor., Soc.  1479057        2079   \n",
       "121                                Membro Honor., Soc.  1479057        2588   \n",
       "\n",
       "              author                                              title  \\\n",
       "112   Adam, Melchior  Vitae Germanorum medicorum, qui saeculo superi...   \n",
       "113   Adam, Melchior  Vitae Germanorum medicorum, qui saeculo superi...   \n",
       "114   Adam, Melchior  Vitae Germanorum medicorum, qui saeculo superi...   \n",
       "115   Adam, Melchior  Vitae Germanorum medicorum, qui saeculo superi...   \n",
       "116   Adam, Melchior  Vitae Germanorum medicorum, qui saeculo superi...   \n",
       "117   Adam, Melchior  Vitae Germanorum medicorum, qui saeculo superi...   \n",
       "118   Adam, Melchior  Vitae Germanorum medicorum, qui saeculo superi...   \n",
       "119  Agardh, Carl A.                                 Aphorismi botanici   \n",
       "120  Agardh, Carl A.                                 Aphorismi botanici   \n",
       "121  Agardh, Carl A.                                 Aphorismi botanici   \n",
       "\n",
       "       year  \n",
       "112  1620.0  \n",
       "113  1620.0  \n",
       "114  1620.0  \n",
       "115  1620.0  \n",
       "116  1620.0  \n",
       "117  1620.0  \n",
       "118  1620.0  \n",
       "119  1817.0  \n",
       "120  1817.0  \n",
       "121  1817.0  "
      ],
      "text/html": [
       "<div>\n",
       "<style scoped>\n",
       "    .dataframe tbody tr th:only-of-type {\n",
       "        vertical-align: middle;\n",
       "    }\n",
       "\n",
       "    .dataframe tbody tr th {\n",
       "        vertical-align: top;\n",
       "    }\n",
       "\n",
       "    .dataframe thead th {\n",
       "        text-align: right;\n",
       "    }\n",
       "</style>\n",
       "<table border=\"1\" class=\"dataframe\">\n",
       "  <thead>\n",
       "    <tr style=\"text-align: right;\">\n",
       "      <th></th>\n",
       "      <th>lemma</th>\n",
       "      <th>wordform</th>\n",
       "      <th>pos</th>\n",
       "      <th>sentence_text</th>\n",
       "      <th>doc_id</th>\n",
       "      <th>sentence_i</th>\n",
       "      <th>author</th>\n",
       "      <th>title</th>\n",
       "      <th>year</th>\n",
       "    </tr>\n",
       "  </thead>\n",
       "  <tbody>\n",
       "    <tr>\n",
       "      <th>112</th>\n",
       "      <td>honor</td>\n",
       "      <td>honoribus</td>\n",
       "      <td>NOUN</td>\n",
       "      <td>plissimisque honoribus affecit.</td>\n",
       "      <td>693148</td>\n",
       "      <td>4952</td>\n",
       "      <td>Adam, Melchior</td>\n",
       "      <td>Vitae Germanorum medicorum, qui saeculo superi...</td>\n",
       "      <td>1620.0</td>\n",
       "    </tr>\n",
       "    <tr>\n",
       "      <th>113</th>\n",
       "      <td>honor</td>\n",
       "      <td>honoribus</td>\n",
       "      <td>NOUN</td>\n",
       "      <td>quae nam 1569. tinuos quindecim annos cum fove...</td>\n",
       "      <td>693148</td>\n",
       "      <td>8341</td>\n",
       "      <td>Adam, Melchior</td>\n",
       "      <td>Vitae Germanorum medicorum, qui saeculo superi...</td>\n",
       "      <td>1620.0</td>\n",
       "    </tr>\n",
       "    <tr>\n",
       "      <th>114</th>\n",
       "      <td>honor</td>\n",
       "      <td>honoribus</td>\n",
       "      <td>NOUN</td>\n",
       "      <td>um, quem aliquot annos gessit praeclarè; ampli...</td>\n",
       "      <td>693148</td>\n",
       "      <td>8623</td>\n",
       "      <td>Adam, Melchior</td>\n",
       "      <td>Vitae Germanorum medicorum, qui saeculo superi...</td>\n",
       "      <td>1620.0</td>\n",
       "    </tr>\n",
       "    <tr>\n",
       "      <th>115</th>\n",
       "      <td>honor</td>\n",
       "      <td>honoribus</td>\n",
       "      <td>NOUN</td>\n",
       "      <td>ibique biennium commoratus bingam redit magnos...</td>\n",
       "      <td>693148</td>\n",
       "      <td>9815</td>\n",
       "      <td>Adam, Melchior</td>\n",
       "      <td>Vitae Germanorum medicorum, qui saeculo superi...</td>\n",
       "      <td>1620.0</td>\n",
       "    </tr>\n",
       "    <tr>\n",
       "      <th>116</th>\n",
       "      <td>honor</td>\n",
       "      <td>honoribus</td>\n",
       "      <td>NOUN</td>\n",
       "      <td>quàm equus elegans &amp; commodus quam in parte sa...</td>\n",
       "      <td>693148</td>\n",
       "      <td>12177</td>\n",
       "      <td>Adam, Melchior</td>\n",
       "      <td>Vitae Germanorum medicorum, qui saeculo superi...</td>\n",
       "      <td>1620.0</td>\n",
       "    </tr>\n",
       "    <tr>\n",
       "      <th>117</th>\n",
       "      <td>honor</td>\n",
       "      <td>honoribus</td>\n",
       "      <td>NOUN</td>\n",
       "      <td>honoribus defunctus est, &amp; Ioauni Vincentis Pi...</td>\n",
       "      <td>693148</td>\n",
       "      <td>12334</td>\n",
       "      <td>Adam, Melchior</td>\n",
       "      <td>Vitae Germanorum medicorum, qui saeculo superi...</td>\n",
       "      <td>1620.0</td>\n",
       "    </tr>\n",
       "    <tr>\n",
       "      <th>118</th>\n",
       "      <td>honor</td>\n",
       "      <td>honoribus</td>\n",
       "      <td>NOUN</td>\n",
       "      <td>Funecta &amp; Bayerorum est familia multis aetatib...</td>\n",
       "      <td>693148</td>\n",
       "      <td>12886</td>\n",
       "      <td>Adam, Melchior</td>\n",
       "      <td>Vitae Germanorum medicorum, qui saeculo superi...</td>\n",
       "      <td>1620.0</td>\n",
       "    </tr>\n",
       "    <tr>\n",
       "      <th>119</th>\n",
       "      <td>honor</td>\n",
       "      <td>Honor</td>\n",
       "      <td>NOUN</td>\n",
       "      <td>Membro Honor., Soc.</td>\n",
       "      <td>1479057</td>\n",
       "      <td>1127</td>\n",
       "      <td>Agardh, Carl A.</td>\n",
       "      <td>Aphorismi botanici</td>\n",
       "      <td>1817.0</td>\n",
       "    </tr>\n",
       "    <tr>\n",
       "      <th>120</th>\n",
       "      <td>honor</td>\n",
       "      <td>Honor</td>\n",
       "      <td>NOUN</td>\n",
       "      <td>Membro Honor., Soc.</td>\n",
       "      <td>1479057</td>\n",
       "      <td>2079</td>\n",
       "      <td>Agardh, Carl A.</td>\n",
       "      <td>Aphorismi botanici</td>\n",
       "      <td>1817.0</td>\n",
       "    </tr>\n",
       "    <tr>\n",
       "      <th>121</th>\n",
       "      <td>honor</td>\n",
       "      <td>Honor</td>\n",
       "      <td>NOUN</td>\n",
       "      <td>Membro Honor., Soc.</td>\n",
       "      <td>1479057</td>\n",
       "      <td>2588</td>\n",
       "      <td>Agardh, Carl A.</td>\n",
       "      <td>Aphorismi botanici</td>\n",
       "      <td>1817.0</td>\n",
       "    </tr>\n",
       "  </tbody>\n",
       "</table>\n",
       "</div>"
      ]
     },
     "execution_count": 184,
     "metadata": {},
     "output_type": "execute_result"
    }
   ],
   "execution_count": 184
  },
  {
   "metadata": {},
   "cell_type": "code",
   "outputs": [],
   "execution_count": null,
   "source": "",
   "id": "46b807bec59046aa"
  }
 ],
 "metadata": {
  "kernelspec": {
   "display_name": "brewkernel",
   "language": "python",
   "name": "brewkernel"
  },
  "language_info": {
   "codemirror_mode": {
    "name": "ipython",
    "version": 2
   },
   "file_extension": ".py",
   "mimetype": "text/x-python",
   "name": "python",
   "nbconvert_exporter": "python",
   "pygments_lexer": "ipython2",
   "version": "2.7.6"
  }
 },
 "nbformat": 4,
 "nbformat_minor": 5
}
