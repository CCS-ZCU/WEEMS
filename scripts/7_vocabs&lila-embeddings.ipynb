{
 "cells": [
  {
   "cell_type": "code",
   "execution_count": 34,
   "id": "361b2bdaa3269606",
   "metadata": {
    "collapsed": true,
    "ExecuteTime": {
     "end_time": "2023-12-05T09:52:34.459052Z",
     "start_time": "2023-12-05T09:52:34.437953Z"
    }
   },
   "outputs": [],
   "source": [
    "from gensim.models import KeyedVectors\n",
    "import pandas as pd\n",
    "from collections import Counter\n",
    "import nltk\n",
    "import re\n",
    "import requests"
   ]
  },
  {
   "cell_type": "code",
   "execution_count": 2,
   "outputs": [
    {
     "data": {
      "text/plain": "              Author                                         Full title  \\\n0  Achrelius, Daniel  Scientiarum magnes recitatus publice anno 1690...   \n1  Acidalius, Valens                 Ad Iordanum Brunum Nolanum, Italum   \n2    Acosta, José de  De natura novi orbis libri duo et De promulgat...   \n3     Adam, Melchior  Vitae Germanorum medicorum, qui saeculo superi...   \n4    Addison, Joseph  Ad insignissimum virum dominum Thomam Burnettu...   \n\n                                                  In  Year              Place  \\\n0                                               None  1690            [Turku]   \n1  Poematum Iani Lernutii, Iani Gulielmi, Valenti...  1603  Liegnitz, Wrocław   \n2                                               None  1589          Salamanca   \n3                                               None  1620         Heidelberg   \n4  Examen poeticum duplex, sive, Musarum anglican...  1698             London   \n\n       Publisher/Printer           Era      Form/Genre  \\\n0                   Wall  17th century         Oration   \n1          Albert, David  17th century  Panegyric poem   \n2       Guillelum Foquel  16th century       Monograph   \n3           Rosa, Geyder  17th century       Biography   \n4  Richard Wellington I.  17th century  Panegyric poem   \n\n                                  Discipline/Content  \\\n0  Mathematics, Astronomy/Astrology/Cosmography, ...   \n1                    Astronomy/Astrology/Cosmography   \n2  Astronomy/Astrology/Cosmography, Geography/Car...   \n3                                           Medicine   \n4                         Meteorology/Earth sciences   \n\n                                            Original  ...       ids      id  \\\n0                   Scientiarum magnes(Google Books)  ...  [705665]  705665   \n1  Ad Iordanum Brunum (1603)(CAMENA)Ad Iordanum B...  ...  [801745]  801745   \n2  De natura novi orbis(Biodiversity Heritage Lib...  ...  [713323]  713323   \n3  Vitae Germanorum medicorum(MDZ)Alternative lin...  ...  [693148]  693148   \n4  Ad Burnettum sacrae theoriae telluris auctorem...  ...  [769230]  769230   \n\n  date_min date_max                                           filename  \\\n0   1690.0   1690.0  Achrelius,_Daniel_-_Scientiarum_magnes__Turku_...   \n1   1603.0   1603.0  Janus_Lernutius_et_al__-_Poemata__Liegnitz_160...   \n2   1589.0   1589.0  Acosta,_José_de_-_De_natura_novi_orbis__Salama...   \n3   1620.0   1620.0  Adam,_Melchior_-_Vitae_Germanorum_medicorum__H...   \n4   1698.0   1698.0        Examen_poeticum_duplex__London_1698_pdf.txt   \n\n  file_year sents_n words_n  \\\n0    1690.0     518    6685   \n1    1603.0    6137   66744   \n2    1589.0    9040  135979   \n3    1620.0   16258  153868   \n4    1698.0    3297   38011   \n\n                                    disciplines_list   science_class  \n0  [Mathematics, Astronomy/Astrology/Cosmography,...         mixture  \n1                  [Astronomy/Astrology/Cosmography]  exact_sciences  \n2  [Astronomy/Astrology/Cosmography, Geography/Ca...  exact_sciences  \n3                                         [Medicine]   life_sciences  \n4                       [Meteorology/Earth sciences]  exact_sciences  \n\n[5 rows x 30 columns]",
      "text/html": "<div>\n<style scoped>\n    .dataframe tbody tr th:only-of-type {\n        vertical-align: middle;\n    }\n\n    .dataframe tbody tr th {\n        vertical-align: top;\n    }\n\n    .dataframe thead th {\n        text-align: right;\n    }\n</style>\n<table border=\"1\" class=\"dataframe\">\n  <thead>\n    <tr style=\"text-align: right;\">\n      <th></th>\n      <th>Author</th>\n      <th>Full title</th>\n      <th>In</th>\n      <th>Year</th>\n      <th>Place</th>\n      <th>Publisher/Printer</th>\n      <th>Era</th>\n      <th>Form/Genre</th>\n      <th>Discipline/Content</th>\n      <th>Original</th>\n      <th>...</th>\n      <th>ids</th>\n      <th>id</th>\n      <th>date_min</th>\n      <th>date_max</th>\n      <th>filename</th>\n      <th>file_year</th>\n      <th>sents_n</th>\n      <th>words_n</th>\n      <th>disciplines_list</th>\n      <th>science_class</th>\n    </tr>\n  </thead>\n  <tbody>\n    <tr>\n      <th>0</th>\n      <td>Achrelius, Daniel</td>\n      <td>Scientiarum magnes recitatus publice anno 1690...</td>\n      <td>None</td>\n      <td>1690</td>\n      <td>[Turku]</td>\n      <td>Wall</td>\n      <td>17th century</td>\n      <td>Oration</td>\n      <td>Mathematics, Astronomy/Astrology/Cosmography, ...</td>\n      <td>Scientiarum magnes(Google Books)</td>\n      <td>...</td>\n      <td>[705665]</td>\n      <td>705665</td>\n      <td>1690.0</td>\n      <td>1690.0</td>\n      <td>Achrelius,_Daniel_-_Scientiarum_magnes__Turku_...</td>\n      <td>1690.0</td>\n      <td>518</td>\n      <td>6685</td>\n      <td>[Mathematics, Astronomy/Astrology/Cosmography,...</td>\n      <td>mixture</td>\n    </tr>\n    <tr>\n      <th>1</th>\n      <td>Acidalius, Valens</td>\n      <td>Ad Iordanum Brunum Nolanum, Italum</td>\n      <td>Poematum Iani Lernutii, Iani Gulielmi, Valenti...</td>\n      <td>1603</td>\n      <td>Liegnitz, Wrocław</td>\n      <td>Albert, David</td>\n      <td>17th century</td>\n      <td>Panegyric poem</td>\n      <td>Astronomy/Astrology/Cosmography</td>\n      <td>Ad Iordanum Brunum (1603)(CAMENA)Ad Iordanum B...</td>\n      <td>...</td>\n      <td>[801745]</td>\n      <td>801745</td>\n      <td>1603.0</td>\n      <td>1603.0</td>\n      <td>Janus_Lernutius_et_al__-_Poemata__Liegnitz_160...</td>\n      <td>1603.0</td>\n      <td>6137</td>\n      <td>66744</td>\n      <td>[Astronomy/Astrology/Cosmography]</td>\n      <td>exact_sciences</td>\n    </tr>\n    <tr>\n      <th>2</th>\n      <td>Acosta, José de</td>\n      <td>De natura novi orbis libri duo et De promulgat...</td>\n      <td>None</td>\n      <td>1589</td>\n      <td>Salamanca</td>\n      <td>Guillelum Foquel</td>\n      <td>16th century</td>\n      <td>Monograph</td>\n      <td>Astronomy/Astrology/Cosmography, Geography/Car...</td>\n      <td>De natura novi orbis(Biodiversity Heritage Lib...</td>\n      <td>...</td>\n      <td>[713323]</td>\n      <td>713323</td>\n      <td>1589.0</td>\n      <td>1589.0</td>\n      <td>Acosta,_José_de_-_De_natura_novi_orbis__Salama...</td>\n      <td>1589.0</td>\n      <td>9040</td>\n      <td>135979</td>\n      <td>[Astronomy/Astrology/Cosmography, Geography/Ca...</td>\n      <td>exact_sciences</td>\n    </tr>\n    <tr>\n      <th>3</th>\n      <td>Adam, Melchior</td>\n      <td>Vitae Germanorum medicorum, qui saeculo superi...</td>\n      <td>None</td>\n      <td>1620</td>\n      <td>Heidelberg</td>\n      <td>Rosa, Geyder</td>\n      <td>17th century</td>\n      <td>Biography</td>\n      <td>Medicine</td>\n      <td>Vitae Germanorum medicorum(MDZ)Alternative lin...</td>\n      <td>...</td>\n      <td>[693148]</td>\n      <td>693148</td>\n      <td>1620.0</td>\n      <td>1620.0</td>\n      <td>Adam,_Melchior_-_Vitae_Germanorum_medicorum__H...</td>\n      <td>1620.0</td>\n      <td>16258</td>\n      <td>153868</td>\n      <td>[Medicine]</td>\n      <td>life_sciences</td>\n    </tr>\n    <tr>\n      <th>4</th>\n      <td>Addison, Joseph</td>\n      <td>Ad insignissimum virum dominum Thomam Burnettu...</td>\n      <td>Examen poeticum duplex, sive, Musarum anglican...</td>\n      <td>1698</td>\n      <td>London</td>\n      <td>Richard Wellington I.</td>\n      <td>17th century</td>\n      <td>Panegyric poem</td>\n      <td>Meteorology/Earth sciences</td>\n      <td>Ad Burnettum sacrae theoriae telluris auctorem...</td>\n      <td>...</td>\n      <td>[769230]</td>\n      <td>769230</td>\n      <td>1698.0</td>\n      <td>1698.0</td>\n      <td>Examen_poeticum_duplex__London_1698_pdf.txt</td>\n      <td>1698.0</td>\n      <td>3297</td>\n      <td>38011</td>\n      <td>[Meteorology/Earth sciences]</td>\n      <td>exact_sciences</td>\n    </tr>\n  </tbody>\n</table>\n<p>5 rows × 30 columns</p>\n</div>"
     },
     "execution_count": 2,
     "metadata": {},
     "output_type": "execute_result"
    }
   ],
   "source": [
    "metadata_table_long = pd.read_json(\"../data/metadata_table_long.json\")\n",
    "metadata_table_long.head(5)"
   ],
   "metadata": {
    "collapsed": false,
    "ExecuteTime": {
     "end_time": "2023-12-05T09:43:42.765533Z",
     "start_time": "2023-12-05T09:43:42.734877Z"
    }
   },
   "id": "f256c66aa1cbbdbb"
  },
  {
   "cell_type": "code",
   "execution_count": 3,
   "outputs": [
    {
     "data": {
      "text/plain": "[('carnarium', 0.8714821934700012),\n ('sudarium', 0.8584282398223877),\n ('uinarius', 0.8317396640777588),\n ('torcularium', 0.8269299864768982),\n ('armarium', 0.8191075325012207),\n ('milliarium', 0.8161847591400146),\n ('mortarium', 0.8139163255691528),\n ('asinarius', 0.7973707318305969),\n ('pomarium', 0.7952086329460144),\n ('olearius', 0.7895564436912537)]"
     },
     "execution_count": 3,
     "metadata": {},
     "output_type": "execute_result"
    }
   ],
   "source": [
    "lasla = KeyedVectors.load_word2vec_format(\"../data/large_data/allLASLA-lemmi-fast-100-SKIP-win5-min5.vec\")\n",
    "lasla.most_similar(\"seminarium\")"
   ],
   "metadata": {
    "collapsed": false,
    "ExecuteTime": {
     "end_time": "2023-12-05T09:43:43.146454Z",
     "start_time": "2023-12-05T09:43:42.764803Z"
    }
   },
   "id": "ee504ebad51d2233"
  },
  {
   "cell_type": "code",
   "execution_count": 4,
   "outputs": [
    {
     "data": {
      "text/plain": "[('sementis', 0.7769805788993835),\n ('germen', 0.65008145570755),\n ('legumen', 0.6492693424224854),\n ('materies', 0.62647545337677),\n ('sulcus', 0.6210277080535889),\n ('stercoro', 0.6130126118659973),\n ('genitalis', 0.6120802760124207),\n ('sumen', 0.6056757569313049),\n ('animans', 0.5975176095962524),\n ('elementa', 0.5954310297966003),\n ('seges', 0.5945314764976501),\n ('primordium', 0.5920283198356628),\n ('bipalium', 0.589260995388031),\n ('omnigenus', 0.5877910256385803),\n ('ablaqueo', 0.5792651772499084),\n ('renascor', 0.573520839214325),\n ('enascor', 0.5693485736846924),\n ('abdomen', 0.5686165690422058),\n ('priuus', 0.5666219592094421),\n ('augmen', 0.5655484795570374)]"
     },
     "execution_count": 4,
     "metadata": {},
     "output_type": "execute_result"
    }
   ],
   "source": [
    "lasla.most_similar(\"semen\", topn=20)"
   ],
   "metadata": {
    "collapsed": false,
    "ExecuteTime": {
     "end_time": "2023-12-05T09:43:43.171530Z",
     "start_time": "2023-12-05T09:43:43.115621Z"
    }
   },
   "id": "1d09e915652600b1"
  },
  {
   "cell_type": "code",
   "execution_count": 5,
   "outputs": [
    {
     "data": {
      "text/plain": "['</s>', 'sum', 'et', 'qui', 'in', 'non', 'hic', 'is', 'ut', 'ego']"
     },
     "execution_count": 5,
     "metadata": {},
     "output_type": "execute_result"
    }
   ],
   "source": [
    "lasla.index_to_key[:10]"
   ],
   "metadata": {
    "collapsed": false,
    "ExecuteTime": {
     "end_time": "2023-12-05T09:43:43.171806Z",
     "start_time": "2023-12-05T09:43:43.133928Z"
    }
   },
   "id": "e878b78d4bb32c1c"
  },
  {
   "cell_type": "code",
   "execution_count": 6,
   "outputs": [
    {
     "data": {
      "text/plain": "[('intellectiuus', 0.7068129181861877),\n ('separo', 0.7005686163902283),\n ('sensifico', 0.6973943114280701),\n ('sensitiuus', 0.6771702766418457),\n ('corpus', 0.663750171661377),\n ('uegetabilis', 0.6309762597084045),\n ('unio', 0.6247175931930542),\n ('rationalis', 0.623648464679718),\n ('uegetatiuus', 0.618419885635376),\n ('corporeus', 0.60992830991745)]"
     },
     "execution_count": 6,
     "metadata": {},
     "output_type": "execute_result"
    }
   ],
   "source": [
    "operamaiora = KeyedVectors.load_word2vec_format(\"../data/large_data/opera-maiora-lemmas_skip_100.vec\")\n",
    "operamaiora.most_similar(\"anima\")"
   ],
   "metadata": {
    "collapsed": false,
    "ExecuteTime": {
     "end_time": "2023-12-05T09:43:43.502127Z",
     "start_time": "2023-12-05T09:43:43.137172Z"
    }
   },
   "id": "initial_id"
  },
  {
   "cell_type": "code",
   "execution_count": 7,
   "outputs": [
    {
     "data": {
      "text/plain": "[('formatiuus', 0.7347741723060608),\n ('decidocaedo', 0.7292525768280029),\n ('sementis', 0.7260836362838745),\n ('decisio', 0.7189536094665527),\n ('proauus', 0.708860456943512),\n ('menstruus', 0.7087300419807434),\n ('fetus', 0.7033669948577881),\n ('incubus', 0.6823227405548096),\n ('seminalis', 0.6802768111228943),\n ('spumosus', 0.6695919036865234)]"
     },
     "execution_count": 7,
     "metadata": {},
     "output_type": "execute_result"
    }
   ],
   "source": [
    "operamaiora.most_similar(\"semen\")"
   ],
   "metadata": {
    "collapsed": false,
    "ExecuteTime": {
     "end_time": "2023-12-05T09:43:43.511051Z",
     "start_time": "2023-12-05T09:43:43.478346Z"
    }
   },
   "id": "a9272d6eaa1274e0"
  },
  {
   "cell_type": "code",
   "execution_count": 8,
   "outputs": [
    {
     "data": {
      "text/plain": "6724"
     },
     "execution_count": 8,
     "metadata": {},
     "output_type": "execute_result"
    }
   ],
   "source": [
    "operamaiora_vocab = operamaiora.index_to_key\n",
    "len(operamaiora_vocab)"
   ],
   "metadata": {
    "collapsed": false,
    "ExecuteTime": {
     "end_time": "2023-12-05T09:43:43.512822Z",
     "start_time": "2023-12-05T09:43:43.498966Z"
    }
   },
   "id": "834591d3d4f8a370"
  },
  {
   "cell_type": "code",
   "execution_count": 9,
   "outputs": [
    {
     "data": {
      "text/plain": "11327"
     },
     "execution_count": 9,
     "metadata": {},
     "output_type": "execute_result"
    }
   ],
   "source": [
    "lasla_vocab = lasla.index_to_key\n",
    "len(lasla_vocab)"
   ],
   "metadata": {
    "collapsed": false,
    "ExecuteTime": {
     "end_time": "2023-12-05T09:43:43.523371Z",
     "start_time": "2023-12-05T09:43:43.504121Z"
    }
   },
   "id": "b249ae9dccd06efe"
  },
  {
   "cell_type": "code",
   "execution_count": 10,
   "outputs": [
    {
     "data": {
      "text/plain": "3950"
     },
     "execution_count": 10,
     "metadata": {},
     "output_type": "execute_result"
    }
   ],
   "source": [
    "vocab_overlap = list(set(lasla_vocab) & set(operamaiora_vocab))\n",
    "len(vocab_overlap)"
   ],
   "metadata": {
    "collapsed": false,
    "ExecuteTime": {
     "end_time": "2023-12-05T09:43:43.532727Z",
     "start_time": "2023-12-05T09:43:43.512427Z"
    }
   },
   "id": "370a142f2ada4e37"
  },
  {
   "cell_type": "code",
   "execution_count": 11,
   "outputs": [],
   "source": [
    "\n",
    "def get_filtered_counts_by_ids(ids):\n",
    "    vocab_counter = Counter() # initiate an empty counter of words - we will feed it iterarively on the go by all words we meet\n",
    "    for id in ids:\n",
    "        # based on the ID, open the file containing the lemmatized sentences and load its content as a list of lists\n",
    "        with open(\"../data/large_data/sents_lemmata/{}.txt\".format(str(id)), \"r\") as f:\n",
    "            sents_lemmata = [sent.strip().split() for sent in f.readlines()]\n",
    "        # based on the ID, open the file containing POS tags of the sentences and load its content as a list of lists\n",
    "        # (this object should have the same structure as the previous one, what allows us to do a sort of filtering based on selected POS tags\n",
    "        with open(\"../data/large_data/sents_pos/{}.txt\".format(str(id)), \"r\") as f:\n",
    "            sents_pos = [sent.strip().split() for sent in f.readlines()]\n",
    "        sents_lemmata_filtered = [] # initiate a new empty list for sentence lemmata filtered by POS tags \n",
    "        for n in range(len(sents_lemmata)):\n",
    "            try:\n",
    "                pos_indices = [t[0] for t in enumerate(sents_pos[n]) if t[1] in [\"PROPN\", \"NOUN\",\"VERB\", \"ADJ\"]]\n",
    "                sent_filtered = [sents_lemmata[n][i] for i in pos_indices]\n",
    "                sent_filtered = [re.sub(\"\\W*|\\d*\", \"\", t) for t in sent_filtered]\n",
    "                sent_filtered = [t for t in sent_filtered if len(t)>1]\n",
    "            except:\n",
    "                sent_filtered = []\n",
    "            sents_lemmata_filtered.append(sent_filtered)\n",
    "        lemmata = [l for s in sents_lemmata_filtered for l in s] # represent the whole work as one continuous list of (filtered) words\n",
    "        word_counts = dict(nltk.FreqDist(lemmata).most_common()) # count all (filtered) words within the lemmata list\n",
    "        vocab_counter.update(word_counts) # update the counter by these words\n",
    "    return vocab_counter"
   ],
   "metadata": {
    "collapsed": false,
    "ExecuteTime": {
     "end_time": "2023-12-05T09:43:43.641171Z",
     "start_time": "2023-12-05T09:43:43.534637Z"
    }
   },
   "id": "54d5e1e6b5e8d3"
  },
  {
   "cell_type": "code",
   "execution_count": 12,
   "outputs": [],
   "source": [
    "ids = metadata_table_long[metadata_table_long[\"file_year\"].between(1600, 1610)][\"id\"]\n",
    "vocab = get_filtered_counts_by_ids(ids)"
   ],
   "metadata": {
    "collapsed": false,
    "ExecuteTime": {
     "end_time": "2023-12-05T09:43:47.802480Z",
     "start_time": "2023-12-05T09:43:43.541564Z"
    }
   },
   "id": "56b64e4a28b8af62"
  },
  {
   "cell_type": "code",
   "execution_count": 13,
   "outputs": [
    {
     "data": {
      "text/plain": "Counter({'pars': 10650,\n         'omnis': 8390,\n         'dico': 6572,\n         'habeo': 6402,\n         'facio': 6273,\n         'locus': 5847,\n         'possum': 5592,\n         'suus': 5450,\n         'annus': 5301,\n         'magnus': 5131,\n         'os': 5071,\n         'primus': 4684,\n         'uideo': 4652,\n         'motus': 4626,\n         'uerò': 4377,\n         'multus': 4373,\n         'tempus': 4178,\n         'corpus': 4170,\n         'caput': 4164,\n         'cap': 4008,\n         'dies': 3925,\n         'ratio': 3779,\n         'totus': 3639,\n         'res': 3536,\n         'sol': 3377,\n         'liber': 3372,\n         'medius': 3163,\n         'alter': 3121,\n         'natura': 3048,\n         'quàm': 3003,\n         'galenus': 2997,\n         'lib': 2833,\n         'nullus': 2785,\n         'terra': 2757,\n         'paruus': 2725,\n         'modus': 2715,\n         'do': 2707,\n         'luna': 2632,\n         'angulus': 2548,\n         'noster': 2527,\n         'oculus': 2515,\n         'tertius': 2469,\n         'quintus': 2388,\n         'color': 2350,\n         'aqua': 2246,\n         'cor': 2195,\n         'secundus': 2182,\n         'genus': 2173,\n         'uis': 2145,\n         'medicus': 2142,\n         'nomen': 2116,\n         'nascor': 2112,\n         'cùm': 2086,\n         'latus': 2066,\n         'homo': 2045,\n         'similis': 2009,\n         'causa': 2007,\n         'sanguis': 2005,\n         'fero': 1935,\n         'stella': 1932,\n         'signum': 1908,\n         'solus': 1846,\n         'scribo': 1843,\n         'uolo': 1812,\n         'google': 1779,\n         'cometa': 1755,\n         'animal': 1742,\n         'que': 1734,\n         'musculus': 1702,\n         'in': 1683,\n         'semen': 1667,\n         'singulus': 1641,\n         'opus': 1638,\n         'longitudo': 1625,\n         'distantia': 1614,\n         'numerus': 1607,\n         'figura': 1578,\n         'circulus': 1578,\n         'gradus': 1554,\n         'grad': 1545,\n         'fio': 1542,\n         'proprius': 1532,\n         'reliquus': 1530,\n         'nihil': 1502,\n         'spiritus': 1496,\n         'uoco': 1488,\n         'licet': 1486,\n         'digitized': 1482,\n         'domus': 1476,\n         'longus': 1475,\n         'arteria': 1457,\n         'uerus': 1455,\n         'sinus': 1445,\n         'appello': 1408,\n         'quòd': 1404,\n         'pes': 1392,\n         'superior': 1388,\n         'appareo': 1384,\n         'qui': 1381,\n         'unus': 1375,\n         'moueo': 1375,\n         'linea': 1368,\n         'sequor': 1364,\n         'latitudo': 1362,\n         'lapis': 1357,\n         'ars': 1356,\n         'dominus': 1348,\n         'forma': 1343,\n         'adeò': 1335,\n         'meus': 1328,\n         'neruus': 1327,\n         'manus': 1326,\n         'arbor': 1317,\n         'facultas': 1316,\n         'finis': 1305,\n         'fructus': 1301,\n         'hora': 1291,\n         'calidus': 1274,\n         'cerebrum': 1271,\n         'refero': 1266,\n         'inquam': 1265,\n         'caro': 1244,\n         'quartus': 1237,\n         'inuenio': 1235,\n         'principium': 1232,\n         'significo': 1221,\n         'centrum': 1220,\n         'uita': 1212,\n         'contineo': 1200,\n         'frigidus': 1197,\n         'vsus': 1191,\n         'radix': 1188,\n         'debeo': 1182,\n         'radius': 1177,\n         'summus': 1174,\n         'communis': 1156,\n         'substantia': 1156,\n         'punctum': 1154,\n         'regio': 1150,\n         'soleo': 1149,\n         'ferè': 1145,\n         'pono': 1141,\n         'sensus': 1135,\n         'tuus': 1131,\n         'constituo': 1119,\n         'uir': 1113,\n         'magnitudo': 1112,\n         'mensis': 1106,\n         'differentia': 1098,\n         'verò': 1096,\n         'rectus': 1091,\n         'usus': 1085,\n         'species': 1085,\n         'min': 1082,\n         'materia': 1076,\n         'bonus': 1072,\n         'lux': 1069,\n         'inferus': 1059,\n         'certus': 1051,\n         'aequalis': 1043,\n         'uena': 1039,\n         'sum': 1033,\n         'calor': 1032,\n         'naturalis': 1029,\n         'dolor': 1022,\n         'prior': 1020,\n         'exsisto': 1015,\n         'orbis': 1014,\n         'folium': 1002,\n         'addo': 997,\n         'digitus': 997,\n         'uenio': 994,\n         'historia': 994,\n         'duco': 993,\n         'planeta': 992,\n         'edo': 986,\n         'ostendo': 982,\n         'ago': 977,\n         'cibus': 975,\n         'albus': 973,\n         'ibid': 966,\n         'crassus': 959,\n         'polus': 948,\n         'arcus': 947,\n         'puto': 941,\n         'dexter': 936,\n         'morbus': 931,\n         'cauda': 925,\n         'coelum': 922,\n         'consto': 913,\n         'uetus': 912,\n         'tabula': 908,\n         'ascendo': 886,\n         'niger': 882,\n         'instar': 877,\n         'uarius': 876,\n         'christus': 869,\n         'mons': 869,\n         'contingo': 869,\n         'durus': 867,\n         'dens': 867,\n         'humor': 863,\n         'deus': 861,\n         'situs': 857,\n         'ordo': 853,\n         'animus': 838,\n         'initium': 836,\n         'nouus': 824,\n         'aer': 824,\n         'sinister': 821,\n         'opinio': 821,\n         'uirtus': 820,\n         'caussa': 812,\n         'mars': 812,\n         'actio': 807,\n         'ferrum': 800,\n         'uerbum': 798,\n         'ossis': 797,\n         'mart': 794,\n         'uia': 782,\n         'posterus': 780,\n         'vena': 778,\n         'colligo': 772,\n         'curo': 760,\n         'terminus': 753,\n         'superficies': 752,\n         'uinum': 747,\n         'conuenio': 741,\n         'sextus': 740,\n         'altitudo': 740,\n         'iter': 735,\n         'intellego': 735,\n         'planetae': 732,\n         'foetus': 731,\n         'demonstro': 730,\n         'mundus': 728,\n         'duplex': 726,\n         'efficio': 725,\n         'obseruatio': 722,\n         'planus': 717,\n         'describo': 716,\n         'error': 714,\n         'ignis': 713,\n         'febris': 713,\n         'quantitas': 713,\n         'vnus': 712,\n         'oppono': 711,\n         'pateo': 710,\n         'internus': 710,\n         'refractio': 708,\n         'externus': 705,\n         'sententia': 703,\n         'exemplum': 701,\n         'reddo': 700,\n         'accedo': 700,\n         'mare': 696,\n         'paucus': 694,\n         'planta': 693,\n         'relinquo': 692,\n         'organum': 691,\n         'propono': 690,\n         'sentio': 689,\n         'mors': 687,\n         'differo': 684,\n         'mos': 683,\n         'sumo': 680,\n         'sole': 678,\n         'reperio': 677,\n         'insula': 675,\n         'par': 673,\n         'foramen': 672,\n         'simplex': 667,\n         'uentriculus': 666,\n         'rex': 665,\n         'diuersus': 665,\n         'utor': 664,\n         'urbs': 663,\n         'major': 662,\n         'septimus': 660,\n         'magneticus': 658,\n         'doceo': 657,\n         'labor': 656,\n         'lingua': 654,\n         'episcopus': 646,\n         'uas': 644,\n         'declinatio': 644,\n         'processus': 644,\n         'ramus': 642,\n         'accipio': 641,\n         'instrumentum': 641,\n         'medicamentum': 637,\n         'mulier': 633,\n         'exiguus': 622,\n         'contrarius': 622,\n         'modò': 617,\n         'uterus': 614,\n         'disto': 613,\n         'necessarius': 612,\n         'aristoteles': 611,\n         'cauitas': 611,\n         'aio': 608,\n         'traho': 607,\n         'magnes': 607,\n         'medulla': 606,\n         'graecus': 605,\n         'integer': 605,\n         'oportet': 605,\n         'oleum': 602,\n         'tenuis': 601,\n         'humanus': 598,\n         'potus': 594,\n         'praecedo': 592,\n         'sutura': 592,\n         'capvt': 591,\n         'recipio': 587,\n         'pag': 584,\n         'mens': 580,\n         'uenter': 579,\n         'fides': 576,\n         'exhibeo': 575,\n         'libellus': 574,\n         'ad': 574,\n         'seco': 573,\n         'proportio': 573,\n         'siccus': 570,\n         'cognosco': 567,\n         'tantùm': 565,\n         'exprimo': 565,\n         'pulmo': 564,\n         'facilè': 561,\n         'sectio': 560,\n         'caius': 559,\n         'part': 558,\n         'anima': 557,\n         'descendo': 554,\n         'credo': 552,\n         'hortus': 550,\n         'affectus': 549,\n         'generatio': 549,\n         'princeps': 548,\n         'exterior': 548,\n         'obtineo': 547,\n         'uniuersus': 547,\n         'orior': 546,\n         'incido': 546,\n         'quaero': 544,\n         'respondeo': 544,\n         'confero': 543,\n         'lumen': 541,\n         'distinguo': 541,\n         'aph': 540,\n         'scio': 539,\n         'statuo': 539,\n         'nox': 538,\n         'amplus': 538,\n         'testis': 535,\n         'latinus': 535,\n         'existimo': 535,\n         'cauus': 534,\n         'triangulus': 534,\n         'qualitas': 534,\n         'pectus': 532,\n         'partus': 531,\n         'obseruo': 531,\n         'ergò': 530,\n         'aspectus': 528,\n         'lac': 524,\n         'potiùs': 520,\n         'effectus': 519,\n         'minùs': 519,\n         'auctor': 518,\n         'aetas': 513,\n         'nuncupo': 513,\n         'extremus': 512,\n         'calculus': 511,\n         'directio': 511,\n         'marcus': 507,\n         'spina': 506,\n         'alimentum': 506,\n         'altus': 505,\n         'gratia': 505,\n         'significator': 504,\n         'dignitas': 503,\n         'conuerto': 502,\n         'no': 500,\n         'articulus': 497,\n         'conficio': 494,\n         'sedes': 492,\n         'acutus': 492,\n         'fol': 490,\n         'solidus': 487,\n         'hippocrates': 487,\n         'ioan': 487,\n         'curatio': 485,\n         'com': 483,\n         'lo': 482,\n         'perfectus': 481,\n         'lex': 480,\n         'nosco': 479,\n         'caeterus': 477,\n         'mitto': 476,\n         'tendo': 474,\n         'uox': 473,\n         'inclinatio': 473,\n         'patior': 472,\n         'rotundus': 471,\n         'piscis': 471,\n         'collum': 470,\n         'excipio': 469,\n         'observatio': 468,\n         'uncia': 467,\n         'filius': 466,\n         'maneo': 465,\n         'trado': 465,\n         'litera': 465,\n         'frons': 464,\n         'minimè': 464,\n         'considero': 463,\n         'facies': 460,\n         'capio': 459,\n         'proximus': 456,\n         'planetarum': 455,\n         'remedium': 455,\n         'obliquus': 454,\n         'auris': 453,\n         'malus': 452,\n         'indico': 452,\n         'hîc': 451,\n         'doctrina': 445,\n         'observo': 445,\n         'genero': 444,\n         'ingenium': 443,\n         'momentum': 442,\n         'diurnus': 441,\n         'ligamentum': 441,\n         'paro': 440,\n         'graeci': 440,\n         'martis': 439,\n         'odor': 438,\n         'prodeo': 438,\n         'umor': 438,\n         'horoscopus': 435,\n         'petrus': 433,\n         'excrementum': 433,\n         'varius': 431,\n         'utrin': 431,\n         'tango': 429,\n         'priùs': 429,\n         'membrana': 429,\n         'dignus': 426,\n         'malum': 426,\n         'sapor': 426,\n         'numero': 425,\n         'qvae': 424,\n         'praesto': 424,\n         'lignum': 424,\n         'morbum': 424,\n         'humidus': 423,\n         'affero': 422,\n         'cortex': 421,\n         'regula': 420,\n         'aequator': 419,\n         'descriptio': 419,\n         'pater': 418,\n         'minuo': 418,\n         'bonum': 417,\n         'impono': 417,\n         'explico': 417,\n         'binus': 416,\n         'conspicio': 416,\n         'amor': 415,\n         'plinius': 415,\n         'puer': 414,\n         'retineo': 414,\n         'minutus': 414,\n         'horizons': 414,\n         'instituo': 413,\n         'uentriculum': 413,\n         'herba': 411,\n         'bilis': 411,\n         'specto': 410,\n         'nobilis': 408,\n         'loquor': 408,\n         'vitalis': 406,\n         'morba': 405,\n         'particula': 405,\n         'candidus': 404,\n         'sanè': 404,\n         'fuscus': 403,\n         'meridianus': 403,\n         'plenus': 402,\n         'muto': 400,\n         'adsum': 399,\n         'defero': 399,\n         'tribuo': 398,\n         'dorsum': 398,\n         'queo': 397,\n         'unicus': 396,\n         'aureus': 396,\n         'amicus': 395,\n         'careo': 395,\n         'occasus': 395,\n         'mirus': 394,\n         'deficio': 394,\n         'mollis': 393,\n         'transeo': 393,\n         'succus': 392,\n         'globus': 392,\n         'ioannis': 391,\n         'cornu': 388,\n         'latitudi': 387,\n         'tunica': 386,\n         'breuis': 385,\n         'augeo': 385,\n         'tycho': 382,\n         'imago': 381,\n         'rego': 381,\n         'noto': 380,\n         'portio': 380,\n         'porrò': 379,\n         'studium': 378,\n         'incipio': 378,\n         'demonstratio': 378,\n         'extendo': 378,\n         'supero': 376,\n         'fortis': 376,\n         'impedio': 376,\n         'gal': 376,\n         'cado': 375,\n         'meridies': 375,\n         'ascensio': 375,\n         'nonnullus': 374,\n         'memini': 373,\n         'perficio': 373,\n         'maxilla': 371,\n         'is': 368,\n         'purgo': 368,\n         'peto': 367,\n         'romanus': 367,\n         'notus': 366,\n         'decimus': 365,\n         'iii': 365,\n         'lego': 364,\n         'rarus': 364,\n         'insum': 364,\n         'india': 364,\n         'honor': 363,\n         'sacer': 363,\n         'aurum': 362,\n         'profero': 362,\n         'manifestus': 361,\n         'mater': 360,\n         'cum': 360,\n         'philosophus': 360,\n         'articulatio': 359,\n         'tibia': 358,\n         'coniungo': 357,\n         'continuus': 357,\n         'adhibeo': 356,\n         'argumentum': 356,\n         'ingredior': 355,\n         'die': 355,\n         'paulus': 355,\n         'respiratio': 355,\n         'ultimus': 353,\n         'exeo': 353,\n         'periculum': 353,\n         'lucius': 351,\n         'medicinus': 351,\n         'pondus': 351,\n         'difficilis': 349,\n         'exc': 349,\n         'occupo': 348,\n         'necesse': 348,\n         'praebeo': 348,\n         'sto': 347,\n         'sino': 347,\n         'medica': 347,\n         'teneo': 346,\n         'fortuna': 346,\n         'gigno': 346,\n         'grauis': 345,\n         'insignis': 345,\n         'tollo': 344,\n         'membrum': 343,\n         'diuido': 343,\n         'morior': 342,\n         'umbra': 342,\n         'insero': 342,\n         'accido': 342,\n         'interior': 341,\n         'uulnus': 340,\n         'sermo': 340,\n         'saturnus': 339,\n         'zodiacus': 339,\n         'cura': 338,\n         'ueritas': 338,\n         'nomino': 338,\n         'peruenio': 337,\n         'produco': 336,\n         'praeditus': 336,\n         'hipp': 334,\n         'opticus': 333,\n         'ab': 332,\n         'orientalis': 331,\n         'macula': 330,\n         'octauus': 330,\n         'roma': 329,\n         'bibliotheca': 328,\n         'acetum': 328,\n         'structura': 328,\n         'crus': 327,\n         'cubitus': 326,\n         'compono': 325,\n         'aequatio': 325,\n         'ortus': 324,\n         'animalis': 324,\n         'longè': 323,\n         'excito': 323,\n         'similitudo': 323,\n         'cursus': 322,\n         'vnicus': 322,\n         'coctio': 322,\n         'nauis': 321,\n         'peculiaris': 321,\n         'anterus': 321,\n         'copia': 320,\n         'mensura': 320,\n         'praedico': 319,\n         'metallum': 318,\n         'pituita': 317,\n         'hippocratis': 317,\n         'uiuo': 316,\n         'cogo': 316,\n         'illustro': 316,\n         'deprehendo': 316,\n         'comparo': 315,\n         'superus': 315,\n         'inquiro': 315,\n         'comprehendo': 315,\n         'nerui': 315,\n         'costa': 315,\n         'clarus': 314,\n         'sec': 314,\n         'admitto': 313,\n         'nonus': 313,\n         'cerno': 312,\n         'eccentricus': 312,\n         'probo': 311,\n         'vsu': 311,\n         'nego': 310,\n         'judicium': 310,\n         'uentus': 310,\n         'alo': 310,\n         'mobilis': 310,\n         'de': 309,\n         'sicco': 309,\n         'requiro': 309,\n         'hor': 309,\n         'contraho': 309,\n         'anatomicus': 309,\n         'uicinus': 308,\n         'ex': 308,\n         'ein': 308,\n         'urina': 307,\n         'quę': 307,\n         'status': 307,\n         'hepar': 306,\n         'pungo': 305,\n         'genitura': 305,\n         'cresco': 304,\n         'ui': 304,\n         'maximè': 304,\n         'physicus': 304,\n         'inflammatio': 304,\n         'deduco': 303,\n         'antiquus': 303,\n         'dirigo': 303,\n         'complementum': 302,\n         'basis': 302,\n         'cus': 301,\n         'purus': 300,\n         'spatium': 300,\n         'ala': 300,\n         'utra': 300,\n         'eccentricitas': 300,\n         'audio': 299,\n         'respectus': 299,\n         'absum': 298,\n         'verùm': 298,\n         'succum': 298,\n         'procedo': 298,\n         'difficultas': 298,\n         'aperio': 297,\n         'testimonium': 297,\n         'aestas': 297,\n         'maximus': 296,\n         'agnosco': 295,\n         'co': 294,\n         'med': 294,\n         'refrigero': 294,\n         'concipio': 293,\n         'assumo': 291,\n         'peregrinus': 291,\n         'experientia': 291,\n         'lector': 290,\n         'marinus': 290,\n         'sphaera': 290,\n         'publicus': 289,\n         'defectus': 289,\n         'quaestio': 289,\n         'diuerto': 288,\n         'incola': 287,\n         'uarietas': 287,\n         'oblongus': 287,\n         'intestinus': 287,\n         'suscipio': 286,\n         'desino': 286,\n         'ferreus': 286,\n         'lis': 285,\n         'consilium': 285,\n         'radia': 284,\n         'utilis': 284,\n         'tabella': 284,\n         'frater': 283,\n         'hic': 283,\n         'facilis': 282,\n         'origo': 282,\n         'sufficio': 282,\n         'meatus': 281,\n         'orio': 280,\n         'georg': 280,\n         'bini': 279,\n         'interuallum': 279,\n         'concedo': 279,\n         'constitutio': 279,\n         'passio': 279,\n         'confirmo': 278,\n         'eclipticae': 278,\n         'prouincia': 278,\n         'temperamentum': 278,\n         'brahe': 277,\n         'generalis': 277,\n         'uitium': 276,\n         'ingens': 276,\n         'nequeo': 276,\n         'morb': 276,\n         'fons': 274,\n         'ro': 274,\n         'dissimilis': 273,\n         'singularis': 273,\n         'maleficus': 273,\n         'angustus': 272,\n         'cedo': 271,\n         'praeparo': 271,\n         'spinalis': 271,\n         'ambitus': 270,\n         'leuis': 269,\n         'densus': 269,\n         'frigus': 269,\n         'obscurus': 269,\n         'dimidius': 269,\n         'locum': 269,\n         'galli': 268,\n         'construo': 268,\n         'pertineo': 268,\n         'uesica': 268,\n         'silesia': 268,\n         'perpetuus': 267,\n         'auis': 267,\n         'falsus': 267,\n         'ignoro': 267,\n         'martius': 267,\n         'non': 265,\n         'pulsus': 265,\n         'siccitas': 265,\n         'gratus': 264,\n         'casus': 264,\n         'seruo': 264,\n         'lucidus': 263,\n         'nigrus': 263,\n         'placeo': 262,\n         'epistola': 260,\n         'declaro': 260,\n         'editio': 259,\n         'occidentalis': 259,\n         'uicis': 258,\n         'mel': 258,\n         'augustus': 257,\n         'bibo': 257,\n         'scrupulus': 257,\n         'astronomia': 257,\n         'tab': 257,\n         'flos': 256,\n         'alienus': 256,\n         'triplex': 256,\n         'gemma': 256,\n         'transfero': 256,\n         'antecedo': 256,\n         'ephemerides': 256,\n         'morsus': 256,\n         'firmus': 255,\n         'quadrans': 255,\n         'hippoc': 255,\n         'misceo': 254,\n         'penna': 254,\n         'respicio': 254,\n         'tychonis': 254,\n         'ecliptica': 254,\n         'decoctum': 254,\n         'separo': 252,\n         'qvos': 251,\n         'officium': 251,\n         'argentum': 251,\n         'consisto': 251,\n         'mutatio': 251,\n         'fibra': 250,\n         'testor': 250,\n         'designo': 250,\n         'crassior': 250,\n         'graf': 250,\n         'laus': 249,\n         'recens': 249,\n         'praecipuus': 249,\n         'humerus': 249,\n         'aëre': 249,\n         'nux': 249,\n         'compositio': 248,\n         'felix': 247,\n         'majus': 247,\n         'aufero': 247,\n         'excedo': 247,\n         'vertebra': 247,\n         'gallia': 246,\n         'fundamentum': 246,\n         'nutritio': 246,\n         'flumen': 245,\n         'uxor': 245,\n         'medicae': 245,\n         'pus': 244,\n         'assero': 244,\n         'inaequalis': 244,\n         'eclipsis': 244,\n         'prędico': 244,\n         'sidus': 243,\n         'corrumpo': 242,\n         'eclipticus': 242,\n         'turcae': 242,\n         'bellum': 241,\n         'equus': 241,\n         'euado': 241,\n         'definitio': 241,\n         'io': 240,\n         'brachium': 240,\n         'quarta': 240,\n         'uerè': 239,\n         'mercurius': 239,\n         'revolutio': 239,\n         'laboro': 237,\n         'operatio': 237,\n         'purgatio': 237,\n         'scriptum': 236,\n         'us': 236,\n         'cognitio': 236,\n         'succedo': 236,\n         'affirmo': 236,\n         'utilitas': 236,\n         'membranus': 236,\n         'uulgus': 235,\n         'fortè': 235,\n         'somnus': 235,\n         'mathematicus': 235,\n         'anterior': 235,\n         'dispono': 235,\n         'parens': 234,\n         'ceruix': 234,\n         'publico': 234,\n         'necessitas': 234,\n         'index': 234,\n         'rectèo': 233,\n         'borea': 233,\n         'colo': 232,\n         'memoria': 232,\n         'quâ': 232,\n         'afficio': 232,\n         'mamma': 232,\n         'quòad': 232,\n         'rosa': 231,\n         'denoto': 231,\n         'celsus': 230,\n         'inclino': 229,\n         'borealis': 229,\n         'putredo': 229,\n         'sanitas': 229,\n         'ager': 228,\n         'debilis': 228,\n         'primum': 228,\n         'infinitus': 228,\n         'humiditas': 228,\n         'dubius': 227,\n         'telluris': 227,\n         'cinereus': 227,\n         'flatus': 226,\n         'tuintus': 226,\n         'australis': 226,\n         'regnum': 225,\n         'to': 225,\n         'nar': 225,\n         'transitus': 225,\n         'tactus': 225,\n         'methodus': 225,\n         'experimentum': 225,\n         'sanctus': 224,\n         'prohibeo': 224,\n         'cù': 224,\n         'attollo': 224,\n         'negotium': 224,\n         'uerso': 224,\n         'scapula': 224,\n         'dearticulatio': 224,\n         'tantus': 223,\n         'uenenum': 223,\n         'cito': 223,\n         'tego': 223,\n         'conspicuus': 223,\n         'pagus': 223,\n         'occurro': 223,\n         'mirabilis': 223,\n         'occasio': 223,\n         'ptol': 223,\n         'dulcis': 222,\n         'gallicus': 222,\n         'mentio': 222,\n         'tio': 222,\n         'aluus': 222,\n         'galenius': 222,\n         'diuinus': 221,\n         'dono': 220,\n         'solùm': 220,\n         'legitimus': 220,\n         'pario': 219,\n         'condo': 219,\n         'occido': 219,\n         'flauus': 219,\n         'panis': 219,\n         'conspico': 219,\n         'abundo': 219,\n         'orit': 219,\n         'uirgo': 218,\n         'uenenus': 218,\n         'certè': 217,\n         'author': 217,\n         'af': 217,\n         'oppositio': 217,\n         'thoracis': 217,\n         'muscula': 217,\n         'amo': 216,\n         'soluo': 216,\n         'lateo': 216,\n         'uictus': 216,\n         'infero': 216,\n         'emitto': 216,\n         'porta': 216,\n         'spes': 215,\n         'alis': 215,\n         'ut': 215,\n         'iudicium': 215,\n         'concurro': 215,\n         'femina': 215,\n         'rostrum': 215,\n         'claudo': 214,\n         'nutrio': 214,\n         'educo': 214,\n         'distribuo': 214,\n         'transuersus': 214,\n         'munus': 213,\n         'induco': 213,\n         'imus': 213,\n         'fixa': 213,\n         'omninò': 213,\n         'gero': 212,\n         'desum': 212,\n         'charta': 212,\n         'reduco': 212,\n         'unà': 212,\n         'residuus': 211,\n         'aegyptus': 211,\n         'prouenio': 211,\n         'attineo': 211,\n         'carnosus': 211,\n         'officina': 211,\n         'ii': 210,\n         'coniunctio': 210,\n         'exto': 210,\n         'uomitus': 210,\n         'uertebra': 210,\n         'magneta': 210,\n         'redeo': 209,\n         'opera': 209,\n         'tractatus': 209,\n         ...})"
     },
     "execution_count": 13,
     "metadata": {},
     "output_type": "execute_result"
    }
   ],
   "source": [
    "vocab"
   ],
   "metadata": {
    "collapsed": false,
    "ExecuteTime": {
     "end_time": "2023-12-05T09:43:47.854723Z",
     "start_time": "2023-12-05T09:43:47.847320Z"
    }
   },
   "id": "5901f954e55d689d"
  },
  {
   "cell_type": "code",
   "execution_count": 14,
   "outputs": [],
   "source": [
    "periods = [(1501, 1550),\n",
    "           (1551, 1600),\n",
    "           (1601, 1650),\n",
    "           (1651, 1700)]\n",
    "periods_vocabs = []\n",
    "full_vocabs = []\n",
    "for per in periods:\n",
    "    ids = metadata_table_long[metadata_table_long[\"file_year\"].between(per[0], per[1])][\"id\"] # use the metadata table to extract IDs of all works falling into this period\n",
    "    vocab = get_filtered_counts_by_ids(ids)\n",
    "    periods_vocabs.append(vocab)\n"
   ],
   "metadata": {
    "collapsed": false,
    "ExecuteTime": {
     "end_time": "2023-12-05T09:45:53.838854Z",
     "start_time": "2023-12-05T09:43:47.853744Z"
    }
   },
   "id": "4cc91561494ae09d"
  },
  {
   "cell_type": "code",
   "execution_count": 15,
   "outputs": [],
   "source": [
    "topn = 2000\n",
    "vocabs_topn_lists =[list(vocab.keys())[:topn] for vocab in periods_vocabs]"
   ],
   "metadata": {
    "collapsed": false,
    "ExecuteTime": {
     "end_time": "2023-12-05T09:45:53.922295Z",
     "start_time": "2023-12-05T09:45:53.863297Z"
    }
   },
   "id": "1abb77a5ef29ce03"
  },
  {
   "cell_type": "code",
   "execution_count": 16,
   "outputs": [
    {
     "data": {
      "text/plain": "5468"
     },
     "execution_count": 16,
     "metadata": {},
     "output_type": "execute_result"
    }
   ],
   "source": [
    "vocab_union = set.union(*[set(vocab) for vocab in vocabs_topn_lists])\n",
    "len(vocab_union)"
   ],
   "metadata": {
    "collapsed": false,
    "ExecuteTime": {
     "end_time": "2023-12-05T09:45:53.923203Z",
     "start_time": "2023-12-05T09:45:53.917149Z"
    }
   },
   "id": "d86b2d38cde32198"
  },
  {
   "cell_type": "code",
   "execution_count": 17,
   "outputs": [
    {
     "data": {
      "text/plain": "7335"
     },
     "execution_count": 17,
     "metadata": {},
     "output_type": "execute_result"
    }
   ],
   "source": [
    "# add there also the words appearing both in lasla and operamaiora\n",
    "vocab_union = set.union(*[set(vocab) for vocab in vocabs_topn_lists] + [set(vocab_overlap)])\n",
    "len(vocab_union)"
   ],
   "metadata": {
    "collapsed": false,
    "ExecuteTime": {
     "end_time": "2023-12-05T09:45:54.000030Z",
     "start_time": "2023-12-05T09:45:53.922140Z"
    }
   },
   "id": "e54c2b1bbd6c6fbb"
  },
  {
   "cell_type": "code",
   "execution_count": 18,
   "outputs": [
    {
     "data": {
      "text/plain": "             word\n0           solio\n1      concubitus\n2           obruo\n3        construo\n4     sempiternus\n...           ...\n7330       occupo\n7331        sacra\n7332       plerun\n7333       cantus\n7334           hâ\n\n[7335 rows x 1 columns]",
      "text/html": "<div>\n<style scoped>\n    .dataframe tbody tr th:only-of-type {\n        vertical-align: middle;\n    }\n\n    .dataframe tbody tr th {\n        vertical-align: top;\n    }\n\n    .dataframe thead th {\n        text-align: right;\n    }\n</style>\n<table border=\"1\" class=\"dataframe\">\n  <thead>\n    <tr style=\"text-align: right;\">\n      <th></th>\n      <th>word</th>\n    </tr>\n  </thead>\n  <tbody>\n    <tr>\n      <th>0</th>\n      <td>solio</td>\n    </tr>\n    <tr>\n      <th>1</th>\n      <td>concubitus</td>\n    </tr>\n    <tr>\n      <th>2</th>\n      <td>obruo</td>\n    </tr>\n    <tr>\n      <th>3</th>\n      <td>construo</td>\n    </tr>\n    <tr>\n      <th>4</th>\n      <td>sempiternus</td>\n    </tr>\n    <tr>\n      <th>...</th>\n      <td>...</td>\n    </tr>\n    <tr>\n      <th>7330</th>\n      <td>occupo</td>\n    </tr>\n    <tr>\n      <th>7331</th>\n      <td>sacra</td>\n    </tr>\n    <tr>\n      <th>7332</th>\n      <td>plerun</td>\n    </tr>\n    <tr>\n      <th>7333</th>\n      <td>cantus</td>\n    </tr>\n    <tr>\n      <th>7334</th>\n      <td>hâ</td>\n    </tr>\n  </tbody>\n</table>\n<p>7335 rows × 1 columns</p>\n</div>"
     },
     "execution_count": 18,
     "metadata": {},
     "output_type": "execute_result"
    }
   ],
   "source": [
    "vocab_union_df = pd.DataFrame(vocab_union, columns = [\"word\"])\n",
    "vocab_union_df"
   ],
   "metadata": {
    "collapsed": false,
    "ExecuteTime": {
     "end_time": "2023-12-05T09:45:54.029871Z",
     "start_time": "2023-12-05T09:45:53.926880Z"
    }
   },
   "id": "c4f73c3a6aeb9b5c"
  },
  {
   "cell_type": "code",
   "execution_count": 19,
   "outputs": [],
   "source": [
    "# add the counts of these words from the vocabularies\n",
    "def find_in_vocab(word, vocab):\n",
    "    try:\n",
    "        return vocab[word]\n",
    "    except:\n",
    "        return 0\n",
    "for vocab, per in zip(periods_vocabs, [str(tup[0])+\"-\"+str(tup[1]) for tup in periods]):\n",
    "    vocab_union_df[per] = vocab_union_df[\"word\"].apply(lambda x: find_in_vocab(x, vocab))"
   ],
   "metadata": {
    "collapsed": false,
    "ExecuteTime": {
     "end_time": "2023-12-05T09:45:54.123201Z",
     "start_time": "2023-12-05T09:45:53.944981Z"
    }
   },
   "id": "38954ce61dcff8f4"
  },
  {
   "cell_type": "code",
   "execution_count": 20,
   "outputs": [
    {
     "data": {
      "text/plain": "        word  1501-1550  1551-1600  1601-1650  1651-1700      mean\n1210    dico      42831     120825      41832      72221  69427.25\n204    omnis      33152     108530      46009      66387  63519.50\n6377   facio      33323     109486      40134      53953  59224.00\n5994    pars      32591      90667      43593      51249  54525.00\n5789   habeo      30884      87225      38386      57791  53571.50\n4746  possum      23869      79572      36898      72892  53307.75\n3897     res      27869      68790      27473      49014  43286.50\n6880    suus      23716      58975      33267      52441  42099.75\n1520   uideo      21389      60143      28355      54288  41043.75\n3419  magnus      23446      61213      29708      39211  38394.50\n307    locus      22091      53908      30003      41517  36879.75\n4830  corpus      16756      62316      22606      31319  33249.25\n5883  multus      20473      50202      21654      34203  31633.00\n4009  primus      19132      50620      23778      26045  29893.75\n377       do      16173      45404      21729      34157  29365.75\n3777     cap      18393      35181      21951      30471  26499.00\n3591   ratio      12325      42217      20289      30475  26326.50\n1940     lib      16365      37925      21843      27512  25911.25\n1630   liber      22941      36345      17863      26167  25829.00\n1574    aqua      11596      40688      19692      30750  25681.50",
      "text/html": "<div>\n<style scoped>\n    .dataframe tbody tr th:only-of-type {\n        vertical-align: middle;\n    }\n\n    .dataframe tbody tr th {\n        vertical-align: top;\n    }\n\n    .dataframe thead th {\n        text-align: right;\n    }\n</style>\n<table border=\"1\" class=\"dataframe\">\n  <thead>\n    <tr style=\"text-align: right;\">\n      <th></th>\n      <th>word</th>\n      <th>1501-1550</th>\n      <th>1551-1600</th>\n      <th>1601-1650</th>\n      <th>1651-1700</th>\n      <th>mean</th>\n    </tr>\n  </thead>\n  <tbody>\n    <tr>\n      <th>1210</th>\n      <td>dico</td>\n      <td>42831</td>\n      <td>120825</td>\n      <td>41832</td>\n      <td>72221</td>\n      <td>69427.25</td>\n    </tr>\n    <tr>\n      <th>204</th>\n      <td>omnis</td>\n      <td>33152</td>\n      <td>108530</td>\n      <td>46009</td>\n      <td>66387</td>\n      <td>63519.50</td>\n    </tr>\n    <tr>\n      <th>6377</th>\n      <td>facio</td>\n      <td>33323</td>\n      <td>109486</td>\n      <td>40134</td>\n      <td>53953</td>\n      <td>59224.00</td>\n    </tr>\n    <tr>\n      <th>5994</th>\n      <td>pars</td>\n      <td>32591</td>\n      <td>90667</td>\n      <td>43593</td>\n      <td>51249</td>\n      <td>54525.00</td>\n    </tr>\n    <tr>\n      <th>5789</th>\n      <td>habeo</td>\n      <td>30884</td>\n      <td>87225</td>\n      <td>38386</td>\n      <td>57791</td>\n      <td>53571.50</td>\n    </tr>\n    <tr>\n      <th>4746</th>\n      <td>possum</td>\n      <td>23869</td>\n      <td>79572</td>\n      <td>36898</td>\n      <td>72892</td>\n      <td>53307.75</td>\n    </tr>\n    <tr>\n      <th>3897</th>\n      <td>res</td>\n      <td>27869</td>\n      <td>68790</td>\n      <td>27473</td>\n      <td>49014</td>\n      <td>43286.50</td>\n    </tr>\n    <tr>\n      <th>6880</th>\n      <td>suus</td>\n      <td>23716</td>\n      <td>58975</td>\n      <td>33267</td>\n      <td>52441</td>\n      <td>42099.75</td>\n    </tr>\n    <tr>\n      <th>1520</th>\n      <td>uideo</td>\n      <td>21389</td>\n      <td>60143</td>\n      <td>28355</td>\n      <td>54288</td>\n      <td>41043.75</td>\n    </tr>\n    <tr>\n      <th>3419</th>\n      <td>magnus</td>\n      <td>23446</td>\n      <td>61213</td>\n      <td>29708</td>\n      <td>39211</td>\n      <td>38394.50</td>\n    </tr>\n    <tr>\n      <th>307</th>\n      <td>locus</td>\n      <td>22091</td>\n      <td>53908</td>\n      <td>30003</td>\n      <td>41517</td>\n      <td>36879.75</td>\n    </tr>\n    <tr>\n      <th>4830</th>\n      <td>corpus</td>\n      <td>16756</td>\n      <td>62316</td>\n      <td>22606</td>\n      <td>31319</td>\n      <td>33249.25</td>\n    </tr>\n    <tr>\n      <th>5883</th>\n      <td>multus</td>\n      <td>20473</td>\n      <td>50202</td>\n      <td>21654</td>\n      <td>34203</td>\n      <td>31633.00</td>\n    </tr>\n    <tr>\n      <th>4009</th>\n      <td>primus</td>\n      <td>19132</td>\n      <td>50620</td>\n      <td>23778</td>\n      <td>26045</td>\n      <td>29893.75</td>\n    </tr>\n    <tr>\n      <th>377</th>\n      <td>do</td>\n      <td>16173</td>\n      <td>45404</td>\n      <td>21729</td>\n      <td>34157</td>\n      <td>29365.75</td>\n    </tr>\n    <tr>\n      <th>3777</th>\n      <td>cap</td>\n      <td>18393</td>\n      <td>35181</td>\n      <td>21951</td>\n      <td>30471</td>\n      <td>26499.00</td>\n    </tr>\n    <tr>\n      <th>3591</th>\n      <td>ratio</td>\n      <td>12325</td>\n      <td>42217</td>\n      <td>20289</td>\n      <td>30475</td>\n      <td>26326.50</td>\n    </tr>\n    <tr>\n      <th>1940</th>\n      <td>lib</td>\n      <td>16365</td>\n      <td>37925</td>\n      <td>21843</td>\n      <td>27512</td>\n      <td>25911.25</td>\n    </tr>\n    <tr>\n      <th>1630</th>\n      <td>liber</td>\n      <td>22941</td>\n      <td>36345</td>\n      <td>17863</td>\n      <td>26167</td>\n      <td>25829.00</td>\n    </tr>\n    <tr>\n      <th>1574</th>\n      <td>aqua</td>\n      <td>11596</td>\n      <td>40688</td>\n      <td>19692</td>\n      <td>30750</td>\n      <td>25681.50</td>\n    </tr>\n  </tbody>\n</table>\n</div>"
     },
     "execution_count": 20,
     "metadata": {},
     "output_type": "execute_result"
    }
   ],
   "source": [
    "# calculate the mean value for sorting\n",
    "vocab_union_df[\"mean\"] = vocab_union_df[vocab_union_df.columns[1:]].mean(axis=1)\n",
    "vocab_union_df.sort_values(\"mean\", ascending=False, inplace=True)\n",
    "vocab_union_df.head(20)"
   ],
   "metadata": {
    "collapsed": false,
    "ExecuteTime": {
     "end_time": "2023-12-05T09:45:54.154207Z",
     "start_time": "2023-12-05T09:45:53.949823Z"
    }
   },
   "id": "c2ad248838031900"
  },
  {
   "cell_type": "code",
   "execution_count": 21,
   "outputs": [
    {
     "data": {
      "text/plain": "                  word  1501-1550  1551-1600  1601-1650  1651-1700  mean\n2184         ineptulus          0          0          0          1  0.25\n4067      geographicen          0          0          0          1  0.25\n2217           innudus          0          0          0          1  0.25\n4024  infallidigitized          0          0          0          1  0.25\n2280          subursus          0          0          0          1  0.25\n858       quandocumque          0          0          0          0  0.00\n1471      qualiscumque          0          0          0          0  0.00\n1367              </s>          0          0          0          0  0.00\n3511      quantuslibet          0          0          0          0  0.00\n1226                 o          0          0          0          0  0.00",
      "text/html": "<div>\n<style scoped>\n    .dataframe tbody tr th:only-of-type {\n        vertical-align: middle;\n    }\n\n    .dataframe tbody tr th {\n        vertical-align: top;\n    }\n\n    .dataframe thead th {\n        text-align: right;\n    }\n</style>\n<table border=\"1\" class=\"dataframe\">\n  <thead>\n    <tr style=\"text-align: right;\">\n      <th></th>\n      <th>word</th>\n      <th>1501-1550</th>\n      <th>1551-1600</th>\n      <th>1601-1650</th>\n      <th>1651-1700</th>\n      <th>mean</th>\n    </tr>\n  </thead>\n  <tbody>\n    <tr>\n      <th>2184</th>\n      <td>ineptulus</td>\n      <td>0</td>\n      <td>0</td>\n      <td>0</td>\n      <td>1</td>\n      <td>0.25</td>\n    </tr>\n    <tr>\n      <th>4067</th>\n      <td>geographicen</td>\n      <td>0</td>\n      <td>0</td>\n      <td>0</td>\n      <td>1</td>\n      <td>0.25</td>\n    </tr>\n    <tr>\n      <th>2217</th>\n      <td>innudus</td>\n      <td>0</td>\n      <td>0</td>\n      <td>0</td>\n      <td>1</td>\n      <td>0.25</td>\n    </tr>\n    <tr>\n      <th>4024</th>\n      <td>infallidigitized</td>\n      <td>0</td>\n      <td>0</td>\n      <td>0</td>\n      <td>1</td>\n      <td>0.25</td>\n    </tr>\n    <tr>\n      <th>2280</th>\n      <td>subursus</td>\n      <td>0</td>\n      <td>0</td>\n      <td>0</td>\n      <td>1</td>\n      <td>0.25</td>\n    </tr>\n    <tr>\n      <th>858</th>\n      <td>quandocumque</td>\n      <td>0</td>\n      <td>0</td>\n      <td>0</td>\n      <td>0</td>\n      <td>0.00</td>\n    </tr>\n    <tr>\n      <th>1471</th>\n      <td>qualiscumque</td>\n      <td>0</td>\n      <td>0</td>\n      <td>0</td>\n      <td>0</td>\n      <td>0.00</td>\n    </tr>\n    <tr>\n      <th>1367</th>\n      <td>&lt;/s&gt;</td>\n      <td>0</td>\n      <td>0</td>\n      <td>0</td>\n      <td>0</td>\n      <td>0.00</td>\n    </tr>\n    <tr>\n      <th>3511</th>\n      <td>quantuslibet</td>\n      <td>0</td>\n      <td>0</td>\n      <td>0</td>\n      <td>0</td>\n      <td>0.00</td>\n    </tr>\n    <tr>\n      <th>1226</th>\n      <td>o</td>\n      <td>0</td>\n      <td>0</td>\n      <td>0</td>\n      <td>0</td>\n      <td>0.00</td>\n    </tr>\n  </tbody>\n</table>\n</div>"
     },
     "execution_count": 21,
     "metadata": {},
     "output_type": "execute_result"
    }
   ],
   "source": [
    "vocab_union_df.tail(10)"
   ],
   "metadata": {
    "collapsed": false,
    "ExecuteTime": {
     "end_time": "2023-12-05T09:45:54.185340Z",
     "start_time": "2023-12-05T09:45:53.957112Z"
    }
   },
   "id": "9da1d67b7b5227f7"
  },
  {
   "cell_type": "code",
   "execution_count": 22,
   "outputs": [],
   "source": [
    "# Filter only for words appearing at least 5 times in each of the subcorpora\n",
    "filtered_vocab_df = vocab_union_df[\n",
    "    (vocab_union_df['1501-1550'] >= 5) &\n",
    "    (vocab_union_df['1551-1600'] >= 5) &\n",
    "    (vocab_union_df['1601-1650'] >= 5) &\n",
    "    (vocab_union_df['1651-1700'] >= 5)\n",
    "    ]"
   ],
   "metadata": {
    "collapsed": false,
    "ExecuteTime": {
     "end_time": "2023-12-05T09:45:54.185782Z",
     "start_time": "2023-12-05T09:45:53.959524Z"
    }
   },
   "id": "985941785c4d41d8"
  },
  {
   "cell_type": "code",
   "execution_count": 23,
   "outputs": [
    {
     "data": {
      "text/plain": "6332"
     },
     "execution_count": 23,
     "metadata": {},
     "output_type": "execute_result"
    }
   ],
   "source": [
    "len(filtered_vocab_df)"
   ],
   "metadata": {
    "collapsed": false,
    "ExecuteTime": {
     "end_time": "2023-12-05T09:45:54.186487Z",
     "start_time": "2023-12-05T09:45:53.962704Z"
    }
   },
   "id": "cbd137c95482f77a"
  },
  {
   "cell_type": "code",
   "execution_count": 24,
   "outputs": [
    {
     "data": {
      "text/plain": "        word  1501-1550  1551-1600  1601-1650  1651-1700      mean\n1210    dico      42831     120825      41832      72221  69427.25\n204    omnis      33152     108530      46009      66387  63519.50\n6377   facio      33323     109486      40134      53953  59224.00\n5994    pars      32591      90667      43593      51249  54525.00\n5789   habeo      30884      87225      38386      57791  53571.50\n4746  possum      23869      79572      36898      72892  53307.75\n3897     res      27869      68790      27473      49014  43286.50\n6880    suus      23716      58975      33267      52441  42099.75\n1520   uideo      21389      60143      28355      54288  41043.75\n3419  magnus      23446      61213      29708      39211  38394.50",
      "text/html": "<div>\n<style scoped>\n    .dataframe tbody tr th:only-of-type {\n        vertical-align: middle;\n    }\n\n    .dataframe tbody tr th {\n        vertical-align: top;\n    }\n\n    .dataframe thead th {\n        text-align: right;\n    }\n</style>\n<table border=\"1\" class=\"dataframe\">\n  <thead>\n    <tr style=\"text-align: right;\">\n      <th></th>\n      <th>word</th>\n      <th>1501-1550</th>\n      <th>1551-1600</th>\n      <th>1601-1650</th>\n      <th>1651-1700</th>\n      <th>mean</th>\n    </tr>\n  </thead>\n  <tbody>\n    <tr>\n      <th>1210</th>\n      <td>dico</td>\n      <td>42831</td>\n      <td>120825</td>\n      <td>41832</td>\n      <td>72221</td>\n      <td>69427.25</td>\n    </tr>\n    <tr>\n      <th>204</th>\n      <td>omnis</td>\n      <td>33152</td>\n      <td>108530</td>\n      <td>46009</td>\n      <td>66387</td>\n      <td>63519.50</td>\n    </tr>\n    <tr>\n      <th>6377</th>\n      <td>facio</td>\n      <td>33323</td>\n      <td>109486</td>\n      <td>40134</td>\n      <td>53953</td>\n      <td>59224.00</td>\n    </tr>\n    <tr>\n      <th>5994</th>\n      <td>pars</td>\n      <td>32591</td>\n      <td>90667</td>\n      <td>43593</td>\n      <td>51249</td>\n      <td>54525.00</td>\n    </tr>\n    <tr>\n      <th>5789</th>\n      <td>habeo</td>\n      <td>30884</td>\n      <td>87225</td>\n      <td>38386</td>\n      <td>57791</td>\n      <td>53571.50</td>\n    </tr>\n    <tr>\n      <th>4746</th>\n      <td>possum</td>\n      <td>23869</td>\n      <td>79572</td>\n      <td>36898</td>\n      <td>72892</td>\n      <td>53307.75</td>\n    </tr>\n    <tr>\n      <th>3897</th>\n      <td>res</td>\n      <td>27869</td>\n      <td>68790</td>\n      <td>27473</td>\n      <td>49014</td>\n      <td>43286.50</td>\n    </tr>\n    <tr>\n      <th>6880</th>\n      <td>suus</td>\n      <td>23716</td>\n      <td>58975</td>\n      <td>33267</td>\n      <td>52441</td>\n      <td>42099.75</td>\n    </tr>\n    <tr>\n      <th>1520</th>\n      <td>uideo</td>\n      <td>21389</td>\n      <td>60143</td>\n      <td>28355</td>\n      <td>54288</td>\n      <td>41043.75</td>\n    </tr>\n    <tr>\n      <th>3419</th>\n      <td>magnus</td>\n      <td>23446</td>\n      <td>61213</td>\n      <td>29708</td>\n      <td>39211</td>\n      <td>38394.50</td>\n    </tr>\n  </tbody>\n</table>\n</div>"
     },
     "execution_count": 24,
     "metadata": {},
     "output_type": "execute_result"
    }
   ],
   "source": [
    "filtered_vocab_df.head(10)"
   ],
   "metadata": {
    "collapsed": false,
    "ExecuteTime": {
     "end_time": "2023-12-05T09:45:54.204031Z",
     "start_time": "2023-12-05T09:45:53.967192Z"
    }
   },
   "id": "f4ffcb0e285d26d1"
  },
  {
   "cell_type": "code",
   "execution_count": 25,
   "outputs": [
    {
     "data": {
      "text/plain": "            word  1501-1550  1551-1600  1601-1650  1651-1700  mean\n1511     monumen          6         14          8          7  8.75\n4229  bituminosi          9         12          8          6  8.75\n4999   confestim          7         14          7          6  8.50\n2861    repudium          6          7          6         15  8.50\n46         foras          6         12          6         10  8.50\n3005       iocor         11         12          5          6  8.50\n2166     acampos          9          6         10          8  8.25\n17       deuoueo          9          6          5         11  7.75\n5010        gyra          5          6          5         14  7.50\n6167      thebae          7          8          6          6  6.75",
      "text/html": "<div>\n<style scoped>\n    .dataframe tbody tr th:only-of-type {\n        vertical-align: middle;\n    }\n\n    .dataframe tbody tr th {\n        vertical-align: top;\n    }\n\n    .dataframe thead th {\n        text-align: right;\n    }\n</style>\n<table border=\"1\" class=\"dataframe\">\n  <thead>\n    <tr style=\"text-align: right;\">\n      <th></th>\n      <th>word</th>\n      <th>1501-1550</th>\n      <th>1551-1600</th>\n      <th>1601-1650</th>\n      <th>1651-1700</th>\n      <th>mean</th>\n    </tr>\n  </thead>\n  <tbody>\n    <tr>\n      <th>1511</th>\n      <td>monumen</td>\n      <td>6</td>\n      <td>14</td>\n      <td>8</td>\n      <td>7</td>\n      <td>8.75</td>\n    </tr>\n    <tr>\n      <th>4229</th>\n      <td>bituminosi</td>\n      <td>9</td>\n      <td>12</td>\n      <td>8</td>\n      <td>6</td>\n      <td>8.75</td>\n    </tr>\n    <tr>\n      <th>4999</th>\n      <td>confestim</td>\n      <td>7</td>\n      <td>14</td>\n      <td>7</td>\n      <td>6</td>\n      <td>8.50</td>\n    </tr>\n    <tr>\n      <th>2861</th>\n      <td>repudium</td>\n      <td>6</td>\n      <td>7</td>\n      <td>6</td>\n      <td>15</td>\n      <td>8.50</td>\n    </tr>\n    <tr>\n      <th>46</th>\n      <td>foras</td>\n      <td>6</td>\n      <td>12</td>\n      <td>6</td>\n      <td>10</td>\n      <td>8.50</td>\n    </tr>\n    <tr>\n      <th>3005</th>\n      <td>iocor</td>\n      <td>11</td>\n      <td>12</td>\n      <td>5</td>\n      <td>6</td>\n      <td>8.50</td>\n    </tr>\n    <tr>\n      <th>2166</th>\n      <td>acampos</td>\n      <td>9</td>\n      <td>6</td>\n      <td>10</td>\n      <td>8</td>\n      <td>8.25</td>\n    </tr>\n    <tr>\n      <th>17</th>\n      <td>deuoueo</td>\n      <td>9</td>\n      <td>6</td>\n      <td>5</td>\n      <td>11</td>\n      <td>7.75</td>\n    </tr>\n    <tr>\n      <th>5010</th>\n      <td>gyra</td>\n      <td>5</td>\n      <td>6</td>\n      <td>5</td>\n      <td>14</td>\n      <td>7.50</td>\n    </tr>\n    <tr>\n      <th>6167</th>\n      <td>thebae</td>\n      <td>7</td>\n      <td>8</td>\n      <td>6</td>\n      <td>6</td>\n      <td>6.75</td>\n    </tr>\n  </tbody>\n</table>\n</div>"
     },
     "execution_count": 25,
     "metadata": {},
     "output_type": "execute_result"
    }
   ],
   "source": [
    "filtered_vocab_df.tail(10)\n"
   ],
   "metadata": {
    "collapsed": false,
    "ExecuteTime": {
     "end_time": "2023-12-05T09:45:54.213262Z",
     "start_time": "2023-12-05T09:45:53.971271Z"
    }
   },
   "id": "7e7f32fb61eadf96"
  },
  {
   "cell_type": "code",
   "execution_count": 26,
   "outputs": [
    {
     "name": "stderr",
     "output_type": "stream",
     "text": [
      "/var/folders/57/tg7c_g894t5c2z3swkqzds5h0000gn/T/ipykernel_62042/3542024209.py:1: SettingWithCopyWarning: \n",
      "A value is trying to be set on a copy of a slice from a DataFrame.\n",
      "Try using .loc[row_indexer,col_indexer] = value instead\n",
      "\n",
      "See the caveats in the documentation: https://pandas.pydata.org/pandas-docs/stable/user_guide/indexing.html#returning-a-view-versus-a-copy\n",
      "  filtered_vocab_df[\"in_lila_embeddings\"] = filtered_vocab_df[\"word\"].apply(lambda x: x in vocab_overlap)\n"
     ]
    }
   ],
   "source": [
    "filtered_vocab_df[\"in_lila_embeddings\"] = filtered_vocab_df[\"word\"].apply(lambda x: x in vocab_overlap)"
   ],
   "metadata": {
    "collapsed": false,
    "ExecuteTime": {
     "end_time": "2023-12-05T09:45:54.706658Z",
     "start_time": "2023-12-05T09:45:54.043486Z"
    }
   },
   "id": "a3d14086c00127a3"
  },
  {
   "cell_type": "code",
   "execution_count": 27,
   "outputs": [
    {
     "name": "stderr",
     "output_type": "stream",
     "text": [
      "/var/folders/57/tg7c_g894t5c2z3swkqzds5h0000gn/T/ipykernel_62042/3123464796.py:1: SettingWithCopyWarning: \n",
      "A value is trying to be set on a copy of a slice from a DataFrame.\n",
      "Try using .loc[row_indexer,col_indexer] = value instead\n",
      "\n",
      "See the caveats in the documentation: https://pandas.pydata.org/pandas-docs/stable/user_guide/indexing.html#returning-a-view-versus-a-copy\n",
      "  filtered_vocab_df[\"in_lasla\"] = filtered_vocab_df[\"word\"].apply(lambda x: x in lasla_vocab)\n",
      "/var/folders/57/tg7c_g894t5c2z3swkqzds5h0000gn/T/ipykernel_62042/3123464796.py:2: SettingWithCopyWarning: \n",
      "A value is trying to be set on a copy of a slice from a DataFrame.\n",
      "Try using .loc[row_indexer,col_indexer] = value instead\n",
      "\n",
      "See the caveats in the documentation: https://pandas.pydata.org/pandas-docs/stable/user_guide/indexing.html#returning-a-view-versus-a-copy\n",
      "  filtered_vocab_df[\"in_operamaiora\"] = filtered_vocab_df[\"word\"].apply(lambda x: x in operamaiora_vocab)\n"
     ]
    }
   ],
   "source": [
    "filtered_vocab_df[\"in_lasla\"] = filtered_vocab_df[\"word\"].apply(lambda x: x in lasla_vocab)\n",
    "filtered_vocab_df[\"in_operamaiora\"] = filtered_vocab_df[\"word\"].apply(lambda x: x in operamaiora_vocab)"
   ],
   "metadata": {
    "collapsed": false,
    "ExecuteTime": {
     "end_time": "2023-12-05T09:45:54.982078Z",
     "start_time": "2023-12-05T09:45:54.155749Z"
    }
   },
   "id": "91e9567f03b6010a"
  },
  {
   "cell_type": "code",
   "execution_count": 28,
   "outputs": [
    {
     "data": {
      "text/plain": "         word  1501-1550  1551-1600  1601-1650  1651-1700      mean  \\\n1210     dico      42831     120825      41832      72221  69427.25   \n204     omnis      33152     108530      46009      66387  63519.50   \n6377    facio      33323     109486      40134      53953  59224.00   \n5994     pars      32591      90667      43593      51249  54525.00   \n5789    habeo      30884      87225      38386      57791  53571.50   \n...       ...        ...        ...        ...        ...       ...   \n148     anima       3827      22074       7746       5045   9673.00   \n5290    radix       9337      17263       5135       6913   9662.00   \n1637     uita       5865      14300       8028       9685   9469.50   \n2237    ignis       4351      14506       8050      10342   9312.25   \n4107  plinius       8608      16662       5772       6152   9298.50   \n\n      in_lila_embeddings  in_lasla  in_operamaiora  \n1210                True      True            True  \n204                 True      True            True  \n6377                True      True            True  \n5994                True      True            True  \n5789                True      True            True  \n...                  ...       ...             ...  \n148                 True      True            True  \n5290                True      True            True  \n1637                True      True            True  \n2237                True      True            True  \n4107               False      True           False  \n\n[100 rows x 9 columns]",
      "text/html": "<div>\n<style scoped>\n    .dataframe tbody tr th:only-of-type {\n        vertical-align: middle;\n    }\n\n    .dataframe tbody tr th {\n        vertical-align: top;\n    }\n\n    .dataframe thead th {\n        text-align: right;\n    }\n</style>\n<table border=\"1\" class=\"dataframe\">\n  <thead>\n    <tr style=\"text-align: right;\">\n      <th></th>\n      <th>word</th>\n      <th>1501-1550</th>\n      <th>1551-1600</th>\n      <th>1601-1650</th>\n      <th>1651-1700</th>\n      <th>mean</th>\n      <th>in_lila_embeddings</th>\n      <th>in_lasla</th>\n      <th>in_operamaiora</th>\n    </tr>\n  </thead>\n  <tbody>\n    <tr>\n      <th>1210</th>\n      <td>dico</td>\n      <td>42831</td>\n      <td>120825</td>\n      <td>41832</td>\n      <td>72221</td>\n      <td>69427.25</td>\n      <td>True</td>\n      <td>True</td>\n      <td>True</td>\n    </tr>\n    <tr>\n      <th>204</th>\n      <td>omnis</td>\n      <td>33152</td>\n      <td>108530</td>\n      <td>46009</td>\n      <td>66387</td>\n      <td>63519.50</td>\n      <td>True</td>\n      <td>True</td>\n      <td>True</td>\n    </tr>\n    <tr>\n      <th>6377</th>\n      <td>facio</td>\n      <td>33323</td>\n      <td>109486</td>\n      <td>40134</td>\n      <td>53953</td>\n      <td>59224.00</td>\n      <td>True</td>\n      <td>True</td>\n      <td>True</td>\n    </tr>\n    <tr>\n      <th>5994</th>\n      <td>pars</td>\n      <td>32591</td>\n      <td>90667</td>\n      <td>43593</td>\n      <td>51249</td>\n      <td>54525.00</td>\n      <td>True</td>\n      <td>True</td>\n      <td>True</td>\n    </tr>\n    <tr>\n      <th>5789</th>\n      <td>habeo</td>\n      <td>30884</td>\n      <td>87225</td>\n      <td>38386</td>\n      <td>57791</td>\n      <td>53571.50</td>\n      <td>True</td>\n      <td>True</td>\n      <td>True</td>\n    </tr>\n    <tr>\n      <th>...</th>\n      <td>...</td>\n      <td>...</td>\n      <td>...</td>\n      <td>...</td>\n      <td>...</td>\n      <td>...</td>\n      <td>...</td>\n      <td>...</td>\n      <td>...</td>\n    </tr>\n    <tr>\n      <th>148</th>\n      <td>anima</td>\n      <td>3827</td>\n      <td>22074</td>\n      <td>7746</td>\n      <td>5045</td>\n      <td>9673.00</td>\n      <td>True</td>\n      <td>True</td>\n      <td>True</td>\n    </tr>\n    <tr>\n      <th>5290</th>\n      <td>radix</td>\n      <td>9337</td>\n      <td>17263</td>\n      <td>5135</td>\n      <td>6913</td>\n      <td>9662.00</td>\n      <td>True</td>\n      <td>True</td>\n      <td>True</td>\n    </tr>\n    <tr>\n      <th>1637</th>\n      <td>uita</td>\n      <td>5865</td>\n      <td>14300</td>\n      <td>8028</td>\n      <td>9685</td>\n      <td>9469.50</td>\n      <td>True</td>\n      <td>True</td>\n      <td>True</td>\n    </tr>\n    <tr>\n      <th>2237</th>\n      <td>ignis</td>\n      <td>4351</td>\n      <td>14506</td>\n      <td>8050</td>\n      <td>10342</td>\n      <td>9312.25</td>\n      <td>True</td>\n      <td>True</td>\n      <td>True</td>\n    </tr>\n    <tr>\n      <th>4107</th>\n      <td>plinius</td>\n      <td>8608</td>\n      <td>16662</td>\n      <td>5772</td>\n      <td>6152</td>\n      <td>9298.50</td>\n      <td>False</td>\n      <td>True</td>\n      <td>False</td>\n    </tr>\n  </tbody>\n</table>\n<p>100 rows × 9 columns</p>\n</div>"
     },
     "execution_count": 28,
     "metadata": {},
     "output_type": "execute_result"
    }
   ],
   "source": [
    "filtered_vocab_df.head(100)"
   ],
   "metadata": {
    "collapsed": false,
    "ExecuteTime": {
     "end_time": "2023-12-05T09:45:54.983328Z",
     "start_time": "2023-12-05T09:45:54.579053Z"
    }
   },
   "id": "3b2e33c5256ca575"
  },
  {
   "cell_type": "code",
   "execution_count": 29,
   "outputs": [
    {
     "data": {
      "text/plain": "4620"
     },
     "execution_count": 29,
     "metadata": {},
     "output_type": "execute_result"
    }
   ],
   "source": [
    "filtered_vocab_df[\"in_lasla\"].sum()"
   ],
   "metadata": {
    "collapsed": false,
    "ExecuteTime": {
     "end_time": "2023-12-05T09:45:54.983907Z",
     "start_time": "2023-12-05T09:45:54.580645Z"
    }
   },
   "id": "d0d24ffb856024c1"
  },
  {
   "cell_type": "code",
   "execution_count": 30,
   "outputs": [
    {
     "data": {
      "text/plain": "4026"
     },
     "execution_count": 30,
     "metadata": {},
     "output_type": "execute_result"
    }
   ],
   "source": [
    "filtered_vocab_df[\"in_operamaiora\"].sum()\n"
   ],
   "metadata": {
    "collapsed": false,
    "ExecuteTime": {
     "end_time": "2023-12-05T09:45:54.984314Z",
     "start_time": "2023-12-05T09:45:54.580791Z"
    }
   },
   "id": "5ce9932a68c2cd80"
  },
  {
   "cell_type": "code",
   "execution_count": 31,
   "outputs": [
    {
     "data": {
      "text/plain": "3823"
     },
     "execution_count": 31,
     "metadata": {},
     "output_type": "execute_result"
    }
   ],
   "source": [
    "filtered_vocab_df[\"in_lila_embeddings\"].sum()\n"
   ],
   "metadata": {
    "collapsed": false,
    "ExecuteTime": {
     "end_time": "2023-12-05T09:45:54.985071Z",
     "start_time": "2023-12-05T09:45:54.580944Z"
    }
   },
   "id": "7b1f579e48e0bc75"
  },
  {
   "cell_type": "markdown",
   "source": [
    "# Add simple english translation"
   ],
   "metadata": {
    "collapsed": false
   },
   "id": "96cdc77f3316f6c2"
  },
  {
   "cell_type": "code",
   "execution_count": null,
   "outputs": [],
   "source": [
    "# simple latin API:\n",
    "# https://www.latin-is-simple.com/api/"
   ],
   "metadata": {
    "collapsed": false
   },
   "id": "ac63ed594cda5e58"
  },
  {
   "cell_type": "code",
   "execution_count": null,
   "outputs": [],
   "source": [
    "target = \"equus\"\n",
    "base_url = \"https://www.latin-is-simple.com/api/vocabulary/search/?query={}&forms_only=true\"\n",
    "resp_json = requests.get(base_url.format(target)).json()\n",
    "resp_json"
   ],
   "metadata": {
    "collapsed": false
   },
   "id": "71f0278d81d8c105"
  },
  {
   "cell_type": "code",
   "execution_count": null,
   "outputs": [],
   "source": [
    "resp_json[0][\"translations_unstructured\"][\"en\"]"
   ],
   "metadata": {
    "collapsed": false
   },
   "id": "71d5c8abdd67eb81"
  },
  {
   "cell_type": "code",
   "execution_count": null,
   "outputs": [],
   "source": [
    "def simple_translation(target):\n",
    "    try:\n",
    "        base_url = \"https://www.latin-is-simple.com/api/vocabulary/search/?query={}&forms_only=true\"\n",
    "        resp_json = requests.get(base_url.format(target)).json()\n",
    "        transl = resp_json[0][\"translations_unstructured\"][\"en\"]\n",
    "        if transl == \"still in translation\":\n",
    "            transl = \"\"\n",
    "        return transl\n",
    "    except:\n",
    "        return \"\""
   ],
   "metadata": {
    "collapsed": false
   },
   "id": "2ef53254a97be755"
  },
  {
   "cell_type": "markdown",
   "source": [],
   "metadata": {
    "collapsed": false
   },
   "id": "c4d24d685695d9b8"
  },
  {
   "cell_type": "code",
   "execution_count": 33,
   "outputs": [
    {
     "ename": "NameError",
     "evalue": "name 'simple_translation' is not defined",
     "output_type": "error",
     "traceback": [
      "\u001B[0;31m---------------------------------------------------------------------------\u001B[0m",
      "\u001B[0;31mNameError\u001B[0m                                 Traceback (most recent call last)",
      "File \u001B[0;32m<timed eval>:1\u001B[0m\n",
      "\u001B[0;31mNameError\u001B[0m: name 'simple_translation' is not defined"
     ]
    }
   ],
   "source": [
    "%%time\n",
    "filtered_vocab_df[\"transl\"] = filtered_vocab_df[\"word\"].apply(simple_translation)"
   ],
   "metadata": {
    "collapsed": false,
    "ExecuteTime": {
     "end_time": "2023-12-05T09:49:23.505259Z",
     "start_time": "2023-12-05T09:49:23.473892Z"
    }
   },
   "id": "83b13b1da6022222"
  },
  {
   "cell_type": "code",
   "execution_count": null,
   "outputs": [],
   "source": [],
   "metadata": {
    "collapsed": false
   },
   "id": "e3d9c2371734a6f5"
  },
  {
   "cell_type": "code",
   "execution_count": null,
   "outputs": [],
   "source": [],
   "metadata": {
    "collapsed": false
   },
   "id": "4e65e548263801bf"
  },
  {
   "cell_type": "code",
   "execution_count": 121,
   "outputs": [],
   "source": [
    "filtered_vocab_df.to_json(\"../data/filtered_vocab_df.json\")"
   ],
   "metadata": {
    "collapsed": false,
    "ExecuteTime": {
     "end_time": "2023-12-01T13:23:59.457203Z",
     "start_time": "2023-12-01T13:23:59.415588Z"
    }
   },
   "id": "a9b8163868596ed2"
  },
  {
   "cell_type": "code",
   "execution_count": null,
   "outputs": [],
   "source": [],
   "metadata": {
    "collapsed": false
   },
   "id": "4340ddbf65e717fe"
  }
 ],
 "metadata": {
  "kernelspec": {
   "name": "brewkernel",
   "language": "python",
   "display_name": "brewkernel"
  },
  "language_info": {
   "codemirror_mode": {
    "name": "ipython",
    "version": 2
   },
   "file_extension": ".py",
   "mimetype": "text/x-python",
   "name": "python",
   "nbconvert_exporter": "python",
   "pygments_lexer": "ipython2",
   "version": "2.7.6"
  }
 },
 "nbformat": 4,
 "nbformat_minor": 5
}
