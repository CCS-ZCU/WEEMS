{
 "cells": [
  {
   "cell_type": "code",
   "execution_count": 19,
   "id": "361b2bdaa3269606",
   "metadata": {
    "ExecuteTime": {
     "end_time": "2024-02-07T21:33:05.435820Z",
     "start_time": "2024-02-07T21:33:04.164992Z"
    }
   },
   "outputs": [],
   "source": [
    "from gensim.models import KeyedVectors\n",
    "import pandas as pd\n",
    "from collections import Counter\n",
    "import nltk\n",
    "import re\n",
    "import requests\n",
    "import pickle"
   ]
  },
  {
   "cell_type": "code",
   "execution_count": 2,
   "id": "f256c66aa1cbbdbb",
   "metadata": {
    "ExecuteTime": {
     "end_time": "2024-02-07T21:33:05.466724Z",
     "start_time": "2024-02-07T21:33:05.436515Z"
    },
    "collapsed": false,
    "jupyter": {
     "outputs_hidden": false
    }
   },
   "outputs": [
    {
     "data": {
      "text/html": [
       "<div>\n",
       "<style scoped>\n",
       "    .dataframe tbody tr th:only-of-type {\n",
       "        vertical-align: middle;\n",
       "    }\n",
       "\n",
       "    .dataframe tbody tr th {\n",
       "        vertical-align: top;\n",
       "    }\n",
       "\n",
       "    .dataframe thead th {\n",
       "        text-align: right;\n",
       "    }\n",
       "</style>\n",
       "<table border=\"1\" class=\"dataframe\">\n",
       "  <thead>\n",
       "    <tr style=\"text-align: right;\">\n",
       "      <th></th>\n",
       "      <th>Author</th>\n",
       "      <th>Full title</th>\n",
       "      <th>In</th>\n",
       "      <th>Year</th>\n",
       "      <th>Place</th>\n",
       "      <th>Publisher/Printer</th>\n",
       "      <th>Era</th>\n",
       "      <th>Form/Genre</th>\n",
       "      <th>Discipline/Content</th>\n",
       "      <th>Original</th>\n",
       "      <th>...</th>\n",
       "      <th>ids</th>\n",
       "      <th>id</th>\n",
       "      <th>date_min</th>\n",
       "      <th>date_max</th>\n",
       "      <th>filename</th>\n",
       "      <th>file_year</th>\n",
       "      <th>sents_n</th>\n",
       "      <th>tokens_n</th>\n",
       "      <th>disciplines_list</th>\n",
       "      <th>science_class</th>\n",
       "    </tr>\n",
       "  </thead>\n",
       "  <tbody>\n",
       "    <tr>\n",
       "      <th>0</th>\n",
       "      <td>Achrelius, Daniel</td>\n",
       "      <td>Scientiarum magnes recitatus publice anno 1690...</td>\n",
       "      <td>None</td>\n",
       "      <td>1690</td>\n",
       "      <td>[Turku]</td>\n",
       "      <td>Wall</td>\n",
       "      <td>17th century</td>\n",
       "      <td>Oration</td>\n",
       "      <td>Mathematics, Astronomy/Astrology/Cosmography, ...</td>\n",
       "      <td>Scientiarum magnes(Google Books)</td>\n",
       "      <td>...</td>\n",
       "      <td>[705665]</td>\n",
       "      <td>705665</td>\n",
       "      <td>1690.0</td>\n",
       "      <td>1690.0</td>\n",
       "      <td>Achrelius,_Daniel_-_Scientiarum_magnes__Turku_...</td>\n",
       "      <td>1690.0</td>\n",
       "      <td>630</td>\n",
       "      <td>8839</td>\n",
       "      <td>[Mathematics, Astronomy/Astrology/Cosmography,...</td>\n",
       "      <td>mixture</td>\n",
       "    </tr>\n",
       "    <tr>\n",
       "      <th>1</th>\n",
       "      <td>Acidalius, Valens</td>\n",
       "      <td>Ad Iordanum Brunum Nolanum, Italum</td>\n",
       "      <td>Poematum Iani Lernutii, Iani Gulielmi, Valenti...</td>\n",
       "      <td>1603</td>\n",
       "      <td>Liegnitz, Wrocław</td>\n",
       "      <td>Albert, David</td>\n",
       "      <td>17th century</td>\n",
       "      <td>Panegyric poem</td>\n",
       "      <td>Astronomy/Astrology/Cosmography</td>\n",
       "      <td>Ad Iordanum Brunum (1603)(CAMENA)Ad Iordanum B...</td>\n",
       "      <td>...</td>\n",
       "      <td>[801745]</td>\n",
       "      <td>801745</td>\n",
       "      <td>1603.0</td>\n",
       "      <td>1603.0</td>\n",
       "      <td>Janus_Lernutius_et_al__-_Poemata__Liegnitz_160...</td>\n",
       "      <td>1603.0</td>\n",
       "      <td>6527</td>\n",
       "      <td>82445</td>\n",
       "      <td>[Astronomy/Astrology/Cosmography]</td>\n",
       "      <td>exact_sciences</td>\n",
       "    </tr>\n",
       "    <tr>\n",
       "      <th>2</th>\n",
       "      <td>Acosta, José de</td>\n",
       "      <td>De natura novi orbis libri duo et De promulgat...</td>\n",
       "      <td>None</td>\n",
       "      <td>1589</td>\n",
       "      <td>Salamanca</td>\n",
       "      <td>Guillelum Foquel</td>\n",
       "      <td>16th century</td>\n",
       "      <td>Monograph</td>\n",
       "      <td>Astronomy/Astrology/Cosmography, Geography/Car...</td>\n",
       "      <td>De natura novi orbis(Biodiversity Heritage Lib...</td>\n",
       "      <td>...</td>\n",
       "      <td>[713323]</td>\n",
       "      <td>713323</td>\n",
       "      <td>1589.0</td>\n",
       "      <td>1589.0</td>\n",
       "      <td>Acosta,_José_de_-_De_natura_novi_orbis__Salama...</td>\n",
       "      <td>1589.0</td>\n",
       "      <td>8905</td>\n",
       "      <td>170205</td>\n",
       "      <td>[Astronomy/Astrology/Cosmography, Geography/Ca...</td>\n",
       "      <td>exact_sciences</td>\n",
       "    </tr>\n",
       "    <tr>\n",
       "      <th>3</th>\n",
       "      <td>Adam, Melchior</td>\n",
       "      <td>Vitae Germanorum medicorum, qui saeculo superi...</td>\n",
       "      <td>None</td>\n",
       "      <td>1620</td>\n",
       "      <td>Heidelberg</td>\n",
       "      <td>Rosa, Geyder</td>\n",
       "      <td>17th century</td>\n",
       "      <td>Biography</td>\n",
       "      <td>Medicine</td>\n",
       "      <td>Vitae Germanorum medicorum(MDZ)Alternative lin...</td>\n",
       "      <td>...</td>\n",
       "      <td>[693148]</td>\n",
       "      <td>693148</td>\n",
       "      <td>1620.0</td>\n",
       "      <td>1620.0</td>\n",
       "      <td>Adam,_Melchior_-_Vitae_Germanorum_medicorum__H...</td>\n",
       "      <td>1620.0</td>\n",
       "      <td>17961</td>\n",
       "      <td>193272</td>\n",
       "      <td>[Medicine]</td>\n",
       "      <td>life_sciences</td>\n",
       "    </tr>\n",
       "    <tr>\n",
       "      <th>4</th>\n",
       "      <td>Addison, Joseph</td>\n",
       "      <td>Ad insignissimum virum dominum Thomam Burnettu...</td>\n",
       "      <td>Examen poeticum duplex, sive, Musarum anglican...</td>\n",
       "      <td>1698</td>\n",
       "      <td>London</td>\n",
       "      <td>Richard Wellington I.</td>\n",
       "      <td>17th century</td>\n",
       "      <td>Panegyric poem</td>\n",
       "      <td>Meteorology/Earth sciences</td>\n",
       "      <td>Ad Burnettum sacrae theoriae telluris auctorem...</td>\n",
       "      <td>...</td>\n",
       "      <td>[769230]</td>\n",
       "      <td>769230</td>\n",
       "      <td>1698.0</td>\n",
       "      <td>1698.0</td>\n",
       "      <td>Examen_poeticum_duplex__London_1698_pdf.txt</td>\n",
       "      <td>1698.0</td>\n",
       "      <td>3533</td>\n",
       "      <td>47878</td>\n",
       "      <td>[Meteorology/Earth sciences]</td>\n",
       "      <td>exact_sciences</td>\n",
       "    </tr>\n",
       "  </tbody>\n",
       "</table>\n",
       "<p>5 rows × 30 columns</p>\n",
       "</div>"
      ],
      "text/plain": [
       "              Author                                         Full title  \\\n",
       "0  Achrelius, Daniel  Scientiarum magnes recitatus publice anno 1690...   \n",
       "1  Acidalius, Valens                 Ad Iordanum Brunum Nolanum, Italum   \n",
       "2    Acosta, José de  De natura novi orbis libri duo et De promulgat...   \n",
       "3     Adam, Melchior  Vitae Germanorum medicorum, qui saeculo superi...   \n",
       "4    Addison, Joseph  Ad insignissimum virum dominum Thomam Burnettu...   \n",
       "\n",
       "                                                  In  Year              Place  \\\n",
       "0                                               None  1690            [Turku]   \n",
       "1  Poematum Iani Lernutii, Iani Gulielmi, Valenti...  1603  Liegnitz, Wrocław   \n",
       "2                                               None  1589          Salamanca   \n",
       "3                                               None  1620         Heidelberg   \n",
       "4  Examen poeticum duplex, sive, Musarum anglican...  1698             London   \n",
       "\n",
       "       Publisher/Printer           Era      Form/Genre  \\\n",
       "0                   Wall  17th century         Oration   \n",
       "1          Albert, David  17th century  Panegyric poem   \n",
       "2       Guillelum Foquel  16th century       Monograph   \n",
       "3           Rosa, Geyder  17th century       Biography   \n",
       "4  Richard Wellington I.  17th century  Panegyric poem   \n",
       "\n",
       "                                  Discipline/Content  \\\n",
       "0  Mathematics, Astronomy/Astrology/Cosmography, ...   \n",
       "1                    Astronomy/Astrology/Cosmography   \n",
       "2  Astronomy/Astrology/Cosmography, Geography/Car...   \n",
       "3                                           Medicine   \n",
       "4                         Meteorology/Earth sciences   \n",
       "\n",
       "                                            Original  ...       ids      id  \\\n",
       "0                   Scientiarum magnes(Google Books)  ...  [705665]  705665   \n",
       "1  Ad Iordanum Brunum (1603)(CAMENA)Ad Iordanum B...  ...  [801745]  801745   \n",
       "2  De natura novi orbis(Biodiversity Heritage Lib...  ...  [713323]  713323   \n",
       "3  Vitae Germanorum medicorum(MDZ)Alternative lin...  ...  [693148]  693148   \n",
       "4  Ad Burnettum sacrae theoriae telluris auctorem...  ...  [769230]  769230   \n",
       "\n",
       "  date_min date_max                                           filename  \\\n",
       "0   1690.0   1690.0  Achrelius,_Daniel_-_Scientiarum_magnes__Turku_...   \n",
       "1   1603.0   1603.0  Janus_Lernutius_et_al__-_Poemata__Liegnitz_160...   \n",
       "2   1589.0   1589.0  Acosta,_José_de_-_De_natura_novi_orbis__Salama...   \n",
       "3   1620.0   1620.0  Adam,_Melchior_-_Vitae_Germanorum_medicorum__H...   \n",
       "4   1698.0   1698.0        Examen_poeticum_duplex__London_1698_pdf.txt   \n",
       "\n",
       "  file_year sents_n tokens_n  \\\n",
       "0    1690.0     630     8839   \n",
       "1    1603.0    6527    82445   \n",
       "2    1589.0    8905   170205   \n",
       "3    1620.0   17961   193272   \n",
       "4    1698.0    3533    47878   \n",
       "\n",
       "                                    disciplines_list   science_class  \n",
       "0  [Mathematics, Astronomy/Astrology/Cosmography,...         mixture  \n",
       "1                  [Astronomy/Astrology/Cosmography]  exact_sciences  \n",
       "2  [Astronomy/Astrology/Cosmography, Geography/Ca...  exact_sciences  \n",
       "3                                         [Medicine]   life_sciences  \n",
       "4                       [Meteorology/Earth sciences]  exact_sciences  \n",
       "\n",
       "[5 rows x 30 columns]"
      ]
     },
     "execution_count": 2,
     "metadata": {},
     "output_type": "execute_result"
    }
   ],
   "source": [
    "metadata_table_long = pd.read_json(\"../data/metadata_table_long.json\")\n",
    "metadata_table_long.head(5)"
   ]
  },
  {
   "cell_type": "code",
   "execution_count": 4,
   "id": "ee504ebad51d2233",
   "metadata": {
    "ExecuteTime": {
     "end_time": "2024-02-07T21:33:05.796557Z",
     "start_time": "2024-02-07T21:33:05.468712Z"
    },
    "collapsed": false,
    "jupyter": {
     "outputs_hidden": false
    }
   },
   "outputs": [
    {
     "data": {
      "text/plain": [
       "[('carnarium', 0.8714821934700012),\n",
       " ('sudarium', 0.8584282398223877),\n",
       " ('uinarius', 0.8317396640777588),\n",
       " ('torcularium', 0.8269298672676086),\n",
       " ('armarium', 0.8191075325012207),\n",
       " ('milliarium', 0.8161847591400146),\n",
       " ('mortarium', 0.8139162063598633),\n",
       " ('asinarius', 0.7973706722259521),\n",
       " ('pomarium', 0.7952086329460144),\n",
       " ('olearius', 0.7895564436912537)]"
      ]
     },
     "execution_count": 4,
     "metadata": {},
     "output_type": "execute_result"
    }
   ],
   "source": [
    "lasla = KeyedVectors.load_word2vec_format(\"/srv/data/lila/allLASLA-lemmi-fast-100-SKIP-win5-min5.vec\")\n",
    "lasla.most_similar(\"seminarium\")"
   ]
  },
  {
   "cell_type": "code",
   "execution_count": 5,
   "id": "1d09e915652600b1",
   "metadata": {
    "ExecuteTime": {
     "end_time": "2024-02-07T21:33:05.852823Z",
     "start_time": "2024-02-07T21:33:05.826193Z"
    },
    "collapsed": false,
    "jupyter": {
     "outputs_hidden": false
    }
   },
   "outputs": [
    {
     "data": {
      "text/plain": [
       "[('sementis', 0.7769805788993835),\n",
       " ('germen', 0.65008145570755),\n",
       " ('legumen', 0.6492694020271301),\n",
       " ('materies', 0.62647545337677),\n",
       " ('sulcus', 0.6210276484489441),\n",
       " ('stercoro', 0.6130126118659973),\n",
       " ('genitalis', 0.6120802760124207),\n",
       " ('sumen', 0.6056757569313049),\n",
       " ('animans', 0.5975176095962524),\n",
       " ('elementa', 0.5954310297966003),\n",
       " ('seges', 0.5945314764976501),\n",
       " ('primordium', 0.5920283198356628),\n",
       " ('bipalium', 0.5892609357833862),\n",
       " ('omnigenus', 0.5877910256385803),\n",
       " ('ablaqueo', 0.5792651772499084),\n",
       " ('renascor', 0.573520839214325),\n",
       " ('enascor', 0.5693485736846924),\n",
       " ('abdomen', 0.5686165690422058),\n",
       " ('priuus', 0.5666219592094421),\n",
       " ('augmen', 0.5655485391616821)]"
      ]
     },
     "execution_count": 5,
     "metadata": {},
     "output_type": "execute_result"
    }
   ],
   "source": [
    "lasla.most_similar(\"semen\", topn=20)"
   ]
  },
  {
   "cell_type": "code",
   "execution_count": 23,
   "id": "e878b78d4bb32c1c",
   "metadata": {
    "ExecuteTime": {
     "end_time": "2024-02-07T21:33:05.861266Z",
     "start_time": "2024-02-07T21:33:05.854780Z"
    },
    "collapsed": false,
    "jupyter": {
     "outputs_hidden": false
    }
   },
   "outputs": [
    {
     "data": {
      "text/plain": [
       "['</s>', 'sum', 'et', 'qui', 'in', 'non', 'hic', 'is', 'ut', 'ego']"
      ]
     },
     "execution_count": 23,
     "metadata": {},
     "output_type": "execute_result"
    }
   ],
   "source": [
    "lasla.index_to_key[:10]"
   ]
  },
  {
   "cell_type": "code",
   "execution_count": 24,
   "id": "initial_id",
   "metadata": {
    "ExecuteTime": {
     "end_time": "2024-02-07T21:33:06.182217Z",
     "start_time": "2024-02-07T21:33:05.862916Z"
    },
    "collapsed": false,
    "jupyter": {
     "outputs_hidden": false
    }
   },
   "outputs": [
    {
     "data": {
      "text/plain": [
       "[('intellectiuus', 0.7068129181861877),\n",
       " ('separo', 0.7005686163902283),\n",
       " ('sensifico', 0.6973943114280701),\n",
       " ('sensitiuus', 0.6771703362464905),\n",
       " ('corpus', 0.663750171661377),\n",
       " ('uegetabilis', 0.6309762597084045),\n",
       " ('unio', 0.6247175335884094),\n",
       " ('rationalis', 0.623648464679718),\n",
       " ('uegetatiuus', 0.618419885635376),\n",
       " ('corporeus', 0.60992830991745)]"
      ]
     },
     "execution_count": 24,
     "metadata": {},
     "output_type": "execute_result"
    }
   ],
   "source": [
    "operamaiora = KeyedVectors.load_word2vec_format(\"/srv/data/lila/opera-maiora-lemmas_skip_100.vec\")\n",
    "operamaiora.most_similar(\"anima\")"
   ]
  },
  {
   "cell_type": "code",
   "execution_count": 25,
   "id": "a9272d6eaa1274e0",
   "metadata": {
    "ExecuteTime": {
     "end_time": "2024-02-07T21:33:06.222270Z",
     "start_time": "2024-02-07T21:33:06.204940Z"
    },
    "collapsed": false,
    "jupyter": {
     "outputs_hidden": false
    }
   },
   "outputs": [
    {
     "data": {
      "text/plain": [
       "[('formatiuus', 0.7347741723060608),\n",
       " ('decidocaedo', 0.7292525768280029),\n",
       " ('sementis', 0.7260836362838745),\n",
       " ('decisio', 0.718953549861908),\n",
       " ('proauus', 0.708860456943512),\n",
       " ('menstruus', 0.7087300419807434),\n",
       " ('fetus', 0.7033671736717224),\n",
       " ('incubus', 0.6823228597640991),\n",
       " ('seminalis', 0.6802768111228943),\n",
       " ('spumosus', 0.6695918440818787)]"
      ]
     },
     "execution_count": 25,
     "metadata": {},
     "output_type": "execute_result"
    }
   ],
   "source": [
    "operamaiora.most_similar(\"semen\")"
   ]
  },
  {
   "cell_type": "code",
   "execution_count": 26,
   "id": "834591d3d4f8a370",
   "metadata": {
    "ExecuteTime": {
     "end_time": "2024-02-07T21:33:06.236565Z",
     "start_time": "2024-02-07T21:33:06.230795Z"
    },
    "collapsed": false,
    "jupyter": {
     "outputs_hidden": false
    }
   },
   "outputs": [
    {
     "data": {
      "text/plain": [
       "6724"
      ]
     },
     "execution_count": 26,
     "metadata": {},
     "output_type": "execute_result"
    }
   ],
   "source": [
    "operamaiora_vocab = operamaiora.index_to_key\n",
    "len(operamaiora_vocab)"
   ]
  },
  {
   "cell_type": "code",
   "execution_count": 27,
   "id": "b249ae9dccd06efe",
   "metadata": {
    "ExecuteTime": {
     "end_time": "2024-02-07T21:33:06.245339Z",
     "start_time": "2024-02-07T21:33:06.238860Z"
    },
    "collapsed": false,
    "jupyter": {
     "outputs_hidden": false
    }
   },
   "outputs": [
    {
     "data": {
      "text/plain": [
       "11327"
      ]
     },
     "execution_count": 27,
     "metadata": {},
     "output_type": "execute_result"
    }
   ],
   "source": [
    "lasla_vocab = lasla.index_to_key\n",
    "len(lasla_vocab)"
   ]
  },
  {
   "cell_type": "code",
   "execution_count": 28,
   "id": "370a142f2ada4e37",
   "metadata": {
    "ExecuteTime": {
     "end_time": "2024-02-07T21:33:06.684363Z",
     "start_time": "2024-02-07T21:33:06.679401Z"
    },
    "collapsed": false,
    "jupyter": {
     "outputs_hidden": false
    }
   },
   "outputs": [
    {
     "data": {
      "text/plain": [
       "3950"
      ]
     },
     "execution_count": 28,
     "metadata": {},
     "output_type": "execute_result"
    }
   ],
   "source": [
    "vocab_overlap = list(set(lasla_vocab) & set(operamaiora_vocab))\n",
    "len(vocab_overlap)"
   ]
  },
  {
   "cell_type": "code",
   "execution_count": 29,
   "id": "e6ccdfe8-d52f-4cff-9393-41740d716807",
   "metadata": {},
   "outputs": [],
   "source": [
    "source_path = \"/srv/data/tome/noscemus/sents_data/\""
   ]
  },
  {
   "cell_type": "code",
   "execution_count": 31,
   "id": "2fbefaf5-ada1-40a3-8bd1-beb88206288e",
   "metadata": {},
   "outputs": [],
   "source": [
    "def get_filtered_counts_by_ids(ids, lowercase=True):\n",
    "    vocab_counter = Counter() # initiate an empty counter of words - we will feed it iterarively on the go by all words we meet\n",
    "    for id in ids: # for each work ID from our subset of IDs\n",
    "        # based on the ID, open the file containing the lemmatized sentences\n",
    "        f_sents_data = pickle.load(open(source_path + str(id) + \".pickle\", \"rb\"))\n",
    "        sents_n = len(f_sents_data)\n",
    "        tokens_n = 0\n",
    "        lemmata = []\n",
    "        for sent_data in f_sents_data:\n",
    "            tokens_n += len(sent_data[1])\n",
    "            sent_lemmata = [t[1] for t in sent_data[1] if t[2] in [\"NOUN\", \"VERB\", \"ADJ\", \"PROPN\"]]\n",
    "            sent_lemmata = [re.sub(\"\\W*|\\d*\", \"\", t) for t in sent_lemmata]\n",
    "            sent_lemmata = [l for l in sent_lemmata if len(l) > 1]\n",
    "            lemmata.extend(sent_lemmata)\n",
    "        if lowercase:\n",
    "            lemmata = [l.lower() for l in lemmata]\n",
    "        #overview_dict[filename.partition(\".\")[0]] = {\"sents_n\" : sents_n, \"tokens_n\" : tokens_n} \n",
    "        word_counts = dict(nltk.FreqDist(lemmata).most_common())\n",
    "        vocab_counter.update(word_counts)\n",
    "    return vocab_counter"
   ]
  },
  {
   "cell_type": "code",
   "execution_count": 34,
   "id": "56b64e4a28b8af62",
   "metadata": {
    "ExecuteTime": {
     "end_time": "2024-01-30T13:00:33.728472Z",
     "start_time": "2024-01-30T13:00:32.086418Z"
    },
    "collapsed": false,
    "jupyter": {
     "outputs_hidden": false
    }
   },
   "outputs": [],
   "source": [
    "ids = metadata_table_long[metadata_table_long[\"file_year\"].between(1600, 1610)][\"id\"]\n",
    "vocab = get_filtered_counts_by_ids(ids)"
   ]
  },
  {
   "cell_type": "code",
   "execution_count": 35,
   "id": "a93b6a1a7016a428",
   "metadata": {
    "ExecuteTime": {
     "end_time": "2024-01-30T13:00:40.815899Z",
     "start_time": "2024-01-30T13:00:40.810006Z"
    }
   },
   "outputs": [
    {
     "data": {
      "text/plain": [
       "[('amor', 436),\n",
       " ('animus', 907),\n",
       " ('do', 2857),\n",
       " ('possum', 5880),\n",
       " ('habeo', 6613),\n",
       " ('google', 697),\n",
       " ('uideo', 4251),\n",
       " ('ualeo', 441),\n",
       " ('facio', 5891),\n",
       " ('uita', 1278),\n",
       " ('dico', 6654),\n",
       " ('deus', 1036),\n",
       " ('fero', 1987),\n",
       " ('lux', 1082),\n",
       " ('oculus', 2649),\n",
       " ('nomen', 2136),\n",
       " ('dies', 5150),\n",
       " ('mens', 601),\n",
       " ('os', 6732),\n",
       " ('musa', 193),\n",
       " ('acidalius', 102),\n",
       " ('bonus', 1010),\n",
       " ('uis', 2453),\n",
       " ('fides', 612),\n",
       " ('janus', 98),\n",
       " ('uolo', 1823),\n",
       " ('nouus', 952),\n",
       " ('uiuo', 677),\n",
       " ('dolor', 1055),\n",
       " ('pectus', 599),\n",
       " ('manus', 1347),\n",
       " ('ingenium', 469),\n",
       " ('tempus', 4281),\n",
       " ('homo', 2138),\n",
       " ('amicus', 413),\n",
       " ('magnus', 3618),\n",
       " ('carmen', 185),\n",
       " ('cura', 397),\n",
       " ('orbis', 1154),\n",
       " ('ago', 1172),\n",
       " ('felix', 448),\n",
       " ('flos', 527),\n",
       " ('uenio', 1317),\n",
       " ('amo', 274),\n",
       " ('diuus', 159),\n",
       " ('cor', 2420),\n",
       " ('mors', 719),\n",
       " ('caput', 5098),\n",
       " ('eo', 368),\n",
       " ('numen', 111),\n",
       " ('annus', 5028),\n",
       " ('spes', 229),\n",
       " ('capio', 587),\n",
       " ('dignus', 426),\n",
       " ('credo', 611),\n",
       " ('puer', 442),\n",
       " ('res', 3639),\n",
       " ('ars', 1282),\n",
       " ('honor', 363),\n",
       " ('rosa', 273),\n",
       " ('terra', 2919),\n",
       " ('fatum', 93),\n",
       " ('nox', 575),\n",
       " ('phoebus', 79),\n",
       " ('laus', 274),\n",
       " ('lumen', 569),\n",
       " ('miser', 129),\n",
       " ('doceo', 891),\n",
       " ('corpus', 4224),\n",
       " ('decus', 105),\n",
       " ('pater', 428),\n",
       " ('pes', 1436),\n",
       " ('uerus', 2250),\n",
       " ('numerus', 1512),\n",
       " ('opus', 1781),\n",
       " ('dea', 72),\n",
       " ('uates', 81),\n",
       " ('sacer', 469),\n",
       " ('poeta', 177),\n",
       " ('studium', 392),\n",
       " ('malus', 812),\n",
       " ('ocellus', 71),\n",
       " ('elegia', 67),\n",
       " ('gulielmius', 58),\n",
       " ('ius', 325),\n",
       " ('sanctus', 250),\n",
       " ('locus', 6157),\n",
       " ('munus', 226),\n",
       " ('uerbum', 859),\n",
       " ('nego', 348),\n",
       " ('adsum', 451),\n",
       " ('abeo', 210),\n",
       " ('hortus', 305),\n",
       " ('puto', 939),\n",
       " ('ops', 216),\n",
       " ('cupio', 239),\n",
       " ('unicus', 829),\n",
       " ('colo', 308),\n",
       " ('urbs', 857),\n",
       " ('uirtus', 866)]"
      ]
     },
     "execution_count": 35,
     "metadata": {},
     "output_type": "execute_result"
    }
   ],
   "source": [
    "list(vocab.items())[:100]"
   ]
  },
  {
   "cell_type": "code",
   "execution_count": 36,
   "id": "4cc91561494ae09d",
   "metadata": {
    "ExecuteTime": {
     "end_time": "2024-01-30T12:56:31.733695Z",
     "start_time": "2024-01-30T12:55:23.822472Z"
    },
    "collapsed": false,
    "jupyter": {
     "outputs_hidden": false
    }
   },
   "outputs": [],
   "source": [
    "# generate vocabularies for each half-century under scrutiny\n",
    "periods = [(1501, 1550),\n",
    "           (1551, 1600),\n",
    "           (1601, 1650),\n",
    "           (1651, 1700)]\n",
    "periods_vocabs = []\n",
    "full_vocabs = []\n",
    "for per in periods:\n",
    "    ids = metadata_table_long[metadata_table_long[\"file_year\"].between(per[0], per[1])][\"id\"] # use the metadata table to extract IDs of all works falling into this period\n",
    "    vocab = get_filtered_counts_by_ids(ids)\n",
    "    periods_vocabs.append(vocab)"
   ]
  },
  {
   "cell_type": "code",
   "execution_count": 39,
   "id": "79d3557b-5a6b-44cb-bf10-27842b13b734",
   "metadata": {},
   "outputs": [
    {
     "data": {
      "text/plain": [
       "[('aqua', 11747),\n",
       " ('terra', 14371),\n",
       " ('lapis', 4154),\n",
       " ('metallum', 1984),\n",
       " ('color', 6554),\n",
       " ('res', 29069),\n",
       " ('dico', 43255),\n",
       " ('possum', 25029),\n",
       " ('facio', 31814),\n",
       " ('habeo', 31690)]"
      ]
     },
     "execution_count": 39,
     "metadata": {},
     "output_type": "execute_result"
    }
   ],
   "source": [
    "list(periods_vocabs[0].items())[:10]"
   ]
  },
  {
   "cell_type": "code",
   "execution_count": 52,
   "id": "1abb77a5ef29ce03",
   "metadata": {
    "ExecuteTime": {
     "end_time": "2024-01-30T12:56:31.747306Z",
     "start_time": "2024-01-30T12:56:31.735391Z"
    },
    "collapsed": false,
    "jupyter": {
     "outputs_hidden": false
    }
   },
   "outputs": [],
   "source": [
    "# only 2,000 most common words for each period...\n",
    "topn = 2000\n",
    "vocabs_topn_lists =[list(vocab.keys())[:topn] for vocab in periods_vocabs]"
   ]
  },
  {
   "cell_type": "code",
   "execution_count": 53,
   "id": "d86b2d38cde32198",
   "metadata": {
    "ExecuteTime": {
     "start_time": "2024-01-30T12:56:31.736411Z"
    },
    "collapsed": false,
    "jupyter": {
     "outputs_hidden": false
    }
   },
   "outputs": [
    {
     "data": {
      "text/plain": [
       "4997"
      ]
     },
     "execution_count": 53,
     "metadata": {},
     "output_type": "execute_result"
    }
   ],
   "source": [
    "# build one list of words, including all from these four sets, i.e. their union\n",
    "vocab_union = set.union(*[set(vocab) for vocab in vocabs_topn_lists])\n",
    "len(vocab_union)"
   ]
  },
  {
   "cell_type": "code",
   "execution_count": 54,
   "id": "e54c2b1bbd6c6fbb",
   "metadata": {
    "ExecuteTime": {
     "start_time": "2024-01-30T12:56:31.737442Z"
    },
    "collapsed": false,
    "jupyter": {
     "outputs_hidden": false
    }
   },
   "outputs": [
    {
     "data": {
      "text/plain": [
       "6643"
      ]
     },
     "execution_count": 54,
     "metadata": {},
     "output_type": "execute_result"
    }
   ],
   "source": [
    "# add there also the words appearing both in lasla and operamaiora\n",
    "vocab_union = set.union(*[set(vocab) for vocab in vocabs_topn_lists] + [set(vocab_overlap)])\n",
    "len(vocab_union)"
   ]
  },
  {
   "cell_type": "code",
   "execution_count": 55,
   "id": "c4f73c3a6aeb9b5c",
   "metadata": {
    "ExecuteTime": {
     "start_time": "2024-01-30T12:56:31.738490Z"
    },
    "collapsed": false,
    "jupyter": {
     "outputs_hidden": false
    }
   },
   "outputs": [
    {
     "data": {
      "text/html": [
       "<div>\n",
       "<style scoped>\n",
       "    .dataframe tbody tr th:only-of-type {\n",
       "        vertical-align: middle;\n",
       "    }\n",
       "\n",
       "    .dataframe tbody tr th {\n",
       "        vertical-align: top;\n",
       "    }\n",
       "\n",
       "    .dataframe thead th {\n",
       "        text-align: right;\n",
       "    }\n",
       "</style>\n",
       "<table border=\"1\" class=\"dataframe\">\n",
       "  <thead>\n",
       "    <tr style=\"text-align: right;\">\n",
       "      <th></th>\n",
       "      <th>word</th>\n",
       "    </tr>\n",
       "  </thead>\n",
       "  <tbody>\n",
       "    <tr>\n",
       "      <th>0</th>\n",
       "      <td>aca</td>\n",
       "    </tr>\n",
       "    <tr>\n",
       "      <th>1</th>\n",
       "      <td>mundanus</td>\n",
       "    </tr>\n",
       "    <tr>\n",
       "      <th>2</th>\n",
       "      <td>galena</td>\n",
       "    </tr>\n",
       "    <tr>\n",
       "      <th>3</th>\n",
       "      <td>constantissimus</td>\n",
       "    </tr>\n",
       "    <tr>\n",
       "      <th>4</th>\n",
       "      <td>conglutino</td>\n",
       "    </tr>\n",
       "    <tr>\n",
       "      <th>...</th>\n",
       "      <td>...</td>\n",
       "    </tr>\n",
       "    <tr>\n",
       "      <th>6638</th>\n",
       "      <td>fulmen</td>\n",
       "    </tr>\n",
       "    <tr>\n",
       "      <th>6639</th>\n",
       "      <td>fictilis</td>\n",
       "    </tr>\n",
       "    <tr>\n",
       "      <th>6640</th>\n",
       "      <td>euangelizandus</td>\n",
       "    </tr>\n",
       "    <tr>\n",
       "      <th>6641</th>\n",
       "      <td>charta</td>\n",
       "    </tr>\n",
       "    <tr>\n",
       "      <th>6642</th>\n",
       "      <td>impotentia</td>\n",
       "    </tr>\n",
       "  </tbody>\n",
       "</table>\n",
       "<p>6643 rows × 1 columns</p>\n",
       "</div>"
      ],
      "text/plain": [
       "                 word\n",
       "0                 aca\n",
       "1            mundanus\n",
       "2              galena\n",
       "3     constantissimus\n",
       "4          conglutino\n",
       "...               ...\n",
       "6638           fulmen\n",
       "6639         fictilis\n",
       "6640   euangelizandus\n",
       "6641           charta\n",
       "6642       impotentia\n",
       "\n",
       "[6643 rows x 1 columns]"
      ]
     },
     "execution_count": 55,
     "metadata": {},
     "output_type": "execute_result"
    }
   ],
   "source": [
    "vocab_union_df = pd.DataFrame(vocab_union, columns = [\"word\"])\n",
    "vocab_union_df"
   ]
  },
  {
   "cell_type": "code",
   "execution_count": 56,
   "id": "38954ce61dcff8f4",
   "metadata": {
    "ExecuteTime": {
     "start_time": "2024-01-30T12:56:31.739438Z"
    },
    "collapsed": false,
    "jupyter": {
     "outputs_hidden": false
    }
   },
   "outputs": [],
   "source": [
    "# add the counts of these words from the vocabularies\n",
    "def find_in_vocab(word, vocab):\n",
    "    try:\n",
    "        return vocab[word]\n",
    "    except:\n",
    "        return 0\n",
    "for vocab, per in zip(periods_vocabs, [str(tup[0])+\"-\"+str(tup[1]) for tup in periods]):\n",
    "    vocab_union_df[per] = vocab_union_df[\"word\"].apply(lambda x: find_in_vocab(x, vocab))"
   ]
  },
  {
   "cell_type": "code",
   "execution_count": 57,
   "id": "c2ad248838031900",
   "metadata": {
    "ExecuteTime": {
     "start_time": "2024-01-30T12:56:31.740387Z"
    },
    "collapsed": false,
    "jupyter": {
     "outputs_hidden": false
    }
   },
   "outputs": [
    {
     "data": {
      "text/html": [
       "<div>\n",
       "<style scoped>\n",
       "    .dataframe tbody tr th:only-of-type {\n",
       "        vertical-align: middle;\n",
       "    }\n",
       "\n",
       "    .dataframe tbody tr th {\n",
       "        vertical-align: top;\n",
       "    }\n",
       "\n",
       "    .dataframe thead th {\n",
       "        text-align: right;\n",
       "    }\n",
       "</style>\n",
       "<table border=\"1\" class=\"dataframe\">\n",
       "  <thead>\n",
       "    <tr style=\"text-align: right;\">\n",
       "      <th></th>\n",
       "      <th>word</th>\n",
       "      <th>1501-1550</th>\n",
       "      <th>1551-1600</th>\n",
       "      <th>1601-1650</th>\n",
       "      <th>1651-1700</th>\n",
       "      <th>mean</th>\n",
       "    </tr>\n",
       "  </thead>\n",
       "  <tbody>\n",
       "    <tr>\n",
       "      <th>3299</th>\n",
       "      <td>dico</td>\n",
       "      <td>43255</td>\n",
       "      <td>122549</td>\n",
       "      <td>42457</td>\n",
       "      <td>72224</td>\n",
       "      <td>70121.25</td>\n",
       "    </tr>\n",
       "    <tr>\n",
       "      <th>960</th>\n",
       "      <td>pars</td>\n",
       "      <td>33225</td>\n",
       "      <td>93059</td>\n",
       "      <td>44337</td>\n",
       "      <td>52385</td>\n",
       "      <td>55751.50</td>\n",
       "    </tr>\n",
       "    <tr>\n",
       "      <th>3871</th>\n",
       "      <td>possum</td>\n",
       "      <td>25029</td>\n",
       "      <td>82700</td>\n",
       "      <td>38391</td>\n",
       "      <td>76841</td>\n",
       "      <td>55740.25</td>\n",
       "    </tr>\n",
       "    <tr>\n",
       "      <th>6039</th>\n",
       "      <td>habeo</td>\n",
       "      <td>31690</td>\n",
       "      <td>89199</td>\n",
       "      <td>39443</td>\n",
       "      <td>59770</td>\n",
       "      <td>55025.50</td>\n",
       "    </tr>\n",
       "    <tr>\n",
       "      <th>2898</th>\n",
       "      <td>facio</td>\n",
       "      <td>31814</td>\n",
       "      <td>98524</td>\n",
       "      <td>36944</td>\n",
       "      <td>51438</td>\n",
       "      <td>54680.00</td>\n",
       "    </tr>\n",
       "    <tr>\n",
       "      <th>5630</th>\n",
       "      <td>liber</td>\n",
       "      <td>39559</td>\n",
       "      <td>65900</td>\n",
       "      <td>38496</td>\n",
       "      <td>53100</td>\n",
       "      <td>49263.75</td>\n",
       "    </tr>\n",
       "    <tr>\n",
       "      <th>4259</th>\n",
       "      <td>res</td>\n",
       "      <td>29069</td>\n",
       "      <td>70669</td>\n",
       "      <td>28291</td>\n",
       "      <td>51565</td>\n",
       "      <td>44898.50</td>\n",
       "    </tr>\n",
       "    <tr>\n",
       "      <th>1219</th>\n",
       "      <td>uideo</td>\n",
       "      <td>21536</td>\n",
       "      <td>59099</td>\n",
       "      <td>26372</td>\n",
       "      <td>50503</td>\n",
       "      <td>39377.50</td>\n",
       "    </tr>\n",
       "    <tr>\n",
       "      <th>5787</th>\n",
       "      <td>locus</td>\n",
       "      <td>23102</td>\n",
       "      <td>56782</td>\n",
       "      <td>31421</td>\n",
       "      <td>43680</td>\n",
       "      <td>38746.25</td>\n",
       "    </tr>\n",
       "    <tr>\n",
       "      <th>1257</th>\n",
       "      <td>corpus</td>\n",
       "      <td>16979</td>\n",
       "      <td>63171</td>\n",
       "      <td>22871</td>\n",
       "      <td>31938</td>\n",
       "      <td>33739.75</td>\n",
       "    </tr>\n",
       "    <tr>\n",
       "      <th>3514</th>\n",
       "      <td>dies</td>\n",
       "      <td>15785</td>\n",
       "      <td>44607</td>\n",
       "      <td>25850</td>\n",
       "      <td>44412</td>\n",
       "      <td>32663.50</td>\n",
       "    </tr>\n",
       "    <tr>\n",
       "      <th>4985</th>\n",
       "      <td>do</td>\n",
       "      <td>17291</td>\n",
       "      <td>47879</td>\n",
       "      <td>25457</td>\n",
       "      <td>36720</td>\n",
       "      <td>31836.75</td>\n",
       "    </tr>\n",
       "    <tr>\n",
       "      <th>1879</th>\n",
       "      <td>primus</td>\n",
       "      <td>19306</td>\n",
       "      <td>52164</td>\n",
       "      <td>25164</td>\n",
       "      <td>27764</td>\n",
       "      <td>31099.50</td>\n",
       "    </tr>\n",
       "    <tr>\n",
       "      <th>1095</th>\n",
       "      <td>aqua</td>\n",
       "      <td>11747</td>\n",
       "      <td>41231</td>\n",
       "      <td>20765</td>\n",
       "      <td>34038</td>\n",
       "      <td>26945.25</td>\n",
       "    </tr>\n",
       "    <tr>\n",
       "      <th>6532</th>\n",
       "      <td>terra</td>\n",
       "      <td>14371</td>\n",
       "      <td>27580</td>\n",
       "      <td>26947</td>\n",
       "      <td>38857</td>\n",
       "      <td>26938.75</td>\n",
       "    </tr>\n",
       "    <tr>\n",
       "      <th>6430</th>\n",
       "      <td>motus</td>\n",
       "      <td>11987</td>\n",
       "      <td>35310</td>\n",
       "      <td>24422</td>\n",
       "      <td>35870</td>\n",
       "      <td>26897.25</td>\n",
       "    </tr>\n",
       "    <tr>\n",
       "      <th>2846</th>\n",
       "      <td>ratio</td>\n",
       "      <td>12519</td>\n",
       "      <td>42955</td>\n",
       "      <td>20567</td>\n",
       "      <td>31100</td>\n",
       "      <td>26785.25</td>\n",
       "    </tr>\n",
       "    <tr>\n",
       "      <th>2202</th>\n",
       "      <td>natura</td>\n",
       "      <td>13925</td>\n",
       "      <td>46648</td>\n",
       "      <td>17722</td>\n",
       "      <td>24288</td>\n",
       "      <td>25645.75</td>\n",
       "    </tr>\n",
       "    <tr>\n",
       "      <th>1789</th>\n",
       "      <td>magnus</td>\n",
       "      <td>14494</td>\n",
       "      <td>39035</td>\n",
       "      <td>19243</td>\n",
       "      <td>26346</td>\n",
       "      <td>24779.50</td>\n",
       "    </tr>\n",
       "    <tr>\n",
       "      <th>4295</th>\n",
       "      <td>tempus</td>\n",
       "      <td>12875</td>\n",
       "      <td>32854</td>\n",
       "      <td>18432</td>\n",
       "      <td>30522</td>\n",
       "      <td>23670.75</td>\n",
       "    </tr>\n",
       "  </tbody>\n",
       "</table>\n",
       "</div>"
      ],
      "text/plain": [
       "        word  1501-1550  1551-1600  1601-1650  1651-1700      mean\n",
       "3299    dico      43255     122549      42457      72224  70121.25\n",
       "960     pars      33225      93059      44337      52385  55751.50\n",
       "3871  possum      25029      82700      38391      76841  55740.25\n",
       "6039   habeo      31690      89199      39443      59770  55025.50\n",
       "2898   facio      31814      98524      36944      51438  54680.00\n",
       "5630   liber      39559      65900      38496      53100  49263.75\n",
       "4259     res      29069      70669      28291      51565  44898.50\n",
       "1219   uideo      21536      59099      26372      50503  39377.50\n",
       "5787   locus      23102      56782      31421      43680  38746.25\n",
       "1257  corpus      16979      63171      22871      31938  33739.75\n",
       "3514    dies      15785      44607      25850      44412  32663.50\n",
       "4985      do      17291      47879      25457      36720  31836.75\n",
       "1879  primus      19306      52164      25164      27764  31099.50\n",
       "1095    aqua      11747      41231      20765      34038  26945.25\n",
       "6532   terra      14371      27580      26947      38857  26938.75\n",
       "6430   motus      11987      35310      24422      35870  26897.25\n",
       "2846   ratio      12519      42955      20567      31100  26785.25\n",
       "2202  natura      13925      46648      17722      24288  25645.75\n",
       "1789  magnus      14494      39035      19243      26346  24779.50\n",
       "4295  tempus      12875      32854      18432      30522  23670.75"
      ]
     },
     "execution_count": 57,
     "metadata": {},
     "output_type": "execute_result"
    }
   ],
   "source": [
    "# calculate the mean value for sorting\n",
    "vocab_union_df[\"mean\"] = vocab_union_df[vocab_union_df.columns[1:]].mean(axis=1)\n",
    "vocab_union_df.sort_values(\"mean\", ascending=False, inplace=True)\n",
    "vocab_union_df.head(20)"
   ]
  },
  {
   "cell_type": "code",
   "execution_count": 58,
   "id": "9da1d67b7b5227f7",
   "metadata": {
    "ExecuteTime": {
     "start_time": "2024-01-30T12:56:31.741336Z"
    },
    "collapsed": false,
    "jupyter": {
     "outputs_hidden": false
    }
   },
   "outputs": [
    {
     "data": {
      "text/html": [
       "<div>\n",
       "<style scoped>\n",
       "    .dataframe tbody tr th:only-of-type {\n",
       "        vertical-align: middle;\n",
       "    }\n",
       "\n",
       "    .dataframe tbody tr th {\n",
       "        vertical-align: top;\n",
       "    }\n",
       "\n",
       "    .dataframe thead th {\n",
       "        text-align: right;\n",
       "    }\n",
       "</style>\n",
       "<table border=\"1\" class=\"dataframe\">\n",
       "  <thead>\n",
       "    <tr style=\"text-align: right;\">\n",
       "      <th></th>\n",
       "      <th>word</th>\n",
       "      <th>1501-1550</th>\n",
       "      <th>1551-1600</th>\n",
       "      <th>1601-1650</th>\n",
       "      <th>1651-1700</th>\n",
       "      <th>mean</th>\n",
       "    </tr>\n",
       "  </thead>\n",
       "  <tbody>\n",
       "    <tr>\n",
       "      <th>5899</th>\n",
       "      <td>necnon</td>\n",
       "      <td>0</td>\n",
       "      <td>0</td>\n",
       "      <td>0</td>\n",
       "      <td>0</td>\n",
       "      <td>0.0</td>\n",
       "    </tr>\n",
       "    <tr>\n",
       "      <th>2257</th>\n",
       "      <td>saltem</td>\n",
       "      <td>0</td>\n",
       "      <td>0</td>\n",
       "      <td>0</td>\n",
       "      <td>0</td>\n",
       "      <td>0.0</td>\n",
       "    </tr>\n",
       "    <tr>\n",
       "      <th>4074</th>\n",
       "      <td>utcumque</td>\n",
       "      <td>0</td>\n",
       "      <td>0</td>\n",
       "      <td>0</td>\n",
       "      <td>0</td>\n",
       "      <td>0.0</td>\n",
       "    </tr>\n",
       "    <tr>\n",
       "      <th>1146</th>\n",
       "      <td>unusquisque</td>\n",
       "      <td>0</td>\n",
       "      <td>0</td>\n",
       "      <td>0</td>\n",
       "      <td>0</td>\n",
       "      <td>0.0</td>\n",
       "    </tr>\n",
       "    <tr>\n",
       "      <th>276</th>\n",
       "      <td>tantummodo</td>\n",
       "      <td>0</td>\n",
       "      <td>0</td>\n",
       "      <td>0</td>\n",
       "      <td>0</td>\n",
       "      <td>0.0</td>\n",
       "    </tr>\n",
       "    <tr>\n",
       "      <th>1451</th>\n",
       "      <td>dummodo</td>\n",
       "      <td>0</td>\n",
       "      <td>0</td>\n",
       "      <td>0</td>\n",
       "      <td>0</td>\n",
       "      <td>0.0</td>\n",
       "    </tr>\n",
       "    <tr>\n",
       "      <th>6121</th>\n",
       "      <td>alibi</td>\n",
       "      <td>0</td>\n",
       "      <td>0</td>\n",
       "      <td>0</td>\n",
       "      <td>0</td>\n",
       "      <td>0.0</td>\n",
       "    </tr>\n",
       "    <tr>\n",
       "      <th>23</th>\n",
       "      <td>huiusmodi</td>\n",
       "      <td>0</td>\n",
       "      <td>0</td>\n",
       "      <td>0</td>\n",
       "      <td>0</td>\n",
       "      <td>0.0</td>\n",
       "    </tr>\n",
       "    <tr>\n",
       "      <th>2991</th>\n",
       "      <td>instans</td>\n",
       "      <td>0</td>\n",
       "      <td>0</td>\n",
       "      <td>0</td>\n",
       "      <td>0</td>\n",
       "      <td>0.0</td>\n",
       "    </tr>\n",
       "    <tr>\n",
       "      <th>504</th>\n",
       "      <td>statim</td>\n",
       "      <td>0</td>\n",
       "      <td>0</td>\n",
       "      <td>0</td>\n",
       "      <td>0</td>\n",
       "      <td>0.0</td>\n",
       "    </tr>\n",
       "  </tbody>\n",
       "</table>\n",
       "</div>"
      ],
      "text/plain": [
       "             word  1501-1550  1551-1600  1601-1650  1651-1700  mean\n",
       "5899       necnon          0          0          0          0   0.0\n",
       "2257       saltem          0          0          0          0   0.0\n",
       "4074     utcumque          0          0          0          0   0.0\n",
       "1146  unusquisque          0          0          0          0   0.0\n",
       "276    tantummodo          0          0          0          0   0.0\n",
       "1451      dummodo          0          0          0          0   0.0\n",
       "6121        alibi          0          0          0          0   0.0\n",
       "23      huiusmodi          0          0          0          0   0.0\n",
       "2991      instans          0          0          0          0   0.0\n",
       "504        statim          0          0          0          0   0.0"
      ]
     },
     "execution_count": 58,
     "metadata": {},
     "output_type": "execute_result"
    }
   ],
   "source": [
    "vocab_union_df.tail(10)"
   ]
  },
  {
   "cell_type": "code",
   "execution_count": 59,
   "id": "985941785c4d41d8",
   "metadata": {
    "ExecuteTime": {
     "start_time": "2024-01-30T12:56:31.742250Z"
    },
    "collapsed": false,
    "jupyter": {
     "outputs_hidden": false
    }
   },
   "outputs": [],
   "source": [
    "# Filter only for words appearing at least 5 times in each of the subcorpora\n",
    "filtered_vocab_df = vocab_union_df[\n",
    "    (vocab_union_df['1501-1550'] >= 5) &\n",
    "    (vocab_union_df['1551-1600'] >= 5) &\n",
    "    (vocab_union_df['1601-1650'] >= 5) &\n",
    "    (vocab_union_df['1651-1700'] >= 5)\n",
    "    ]"
   ]
  },
  {
   "cell_type": "code",
   "execution_count": 60,
   "id": "cbd137c95482f77a",
   "metadata": {
    "ExecuteTime": {
     "start_time": "2024-01-30T12:56:31.743155Z"
    },
    "collapsed": false,
    "jupyter": {
     "outputs_hidden": false
    }
   },
   "outputs": [
    {
     "data": {
      "text/plain": [
       "6005"
      ]
     },
     "execution_count": 60,
     "metadata": {},
     "output_type": "execute_result"
    }
   ],
   "source": [
    "len(filtered_vocab_df)"
   ]
  },
  {
   "cell_type": "code",
   "execution_count": 61,
   "id": "f4ffcb0e285d26d1",
   "metadata": {
    "ExecuteTime": {
     "start_time": "2024-01-30T12:56:31.743733Z"
    },
    "collapsed": false,
    "jupyter": {
     "outputs_hidden": false
    }
   },
   "outputs": [
    {
     "data": {
      "text/html": [
       "<div>\n",
       "<style scoped>\n",
       "    .dataframe tbody tr th:only-of-type {\n",
       "        vertical-align: middle;\n",
       "    }\n",
       "\n",
       "    .dataframe tbody tr th {\n",
       "        vertical-align: top;\n",
       "    }\n",
       "\n",
       "    .dataframe thead th {\n",
       "        text-align: right;\n",
       "    }\n",
       "</style>\n",
       "<table border=\"1\" class=\"dataframe\">\n",
       "  <thead>\n",
       "    <tr style=\"text-align: right;\">\n",
       "      <th></th>\n",
       "      <th>word</th>\n",
       "      <th>1501-1550</th>\n",
       "      <th>1551-1600</th>\n",
       "      <th>1601-1650</th>\n",
       "      <th>1651-1700</th>\n",
       "      <th>mean</th>\n",
       "    </tr>\n",
       "  </thead>\n",
       "  <tbody>\n",
       "    <tr>\n",
       "      <th>3299</th>\n",
       "      <td>dico</td>\n",
       "      <td>43255</td>\n",
       "      <td>122549</td>\n",
       "      <td>42457</td>\n",
       "      <td>72224</td>\n",
       "      <td>70121.25</td>\n",
       "    </tr>\n",
       "    <tr>\n",
       "      <th>960</th>\n",
       "      <td>pars</td>\n",
       "      <td>33225</td>\n",
       "      <td>93059</td>\n",
       "      <td>44337</td>\n",
       "      <td>52385</td>\n",
       "      <td>55751.50</td>\n",
       "    </tr>\n",
       "    <tr>\n",
       "      <th>3871</th>\n",
       "      <td>possum</td>\n",
       "      <td>25029</td>\n",
       "      <td>82700</td>\n",
       "      <td>38391</td>\n",
       "      <td>76841</td>\n",
       "      <td>55740.25</td>\n",
       "    </tr>\n",
       "    <tr>\n",
       "      <th>6039</th>\n",
       "      <td>habeo</td>\n",
       "      <td>31690</td>\n",
       "      <td>89199</td>\n",
       "      <td>39443</td>\n",
       "      <td>59770</td>\n",
       "      <td>55025.50</td>\n",
       "    </tr>\n",
       "    <tr>\n",
       "      <th>2898</th>\n",
       "      <td>facio</td>\n",
       "      <td>31814</td>\n",
       "      <td>98524</td>\n",
       "      <td>36944</td>\n",
       "      <td>51438</td>\n",
       "      <td>54680.00</td>\n",
       "    </tr>\n",
       "    <tr>\n",
       "      <th>5630</th>\n",
       "      <td>liber</td>\n",
       "      <td>39559</td>\n",
       "      <td>65900</td>\n",
       "      <td>38496</td>\n",
       "      <td>53100</td>\n",
       "      <td>49263.75</td>\n",
       "    </tr>\n",
       "    <tr>\n",
       "      <th>4259</th>\n",
       "      <td>res</td>\n",
       "      <td>29069</td>\n",
       "      <td>70669</td>\n",
       "      <td>28291</td>\n",
       "      <td>51565</td>\n",
       "      <td>44898.50</td>\n",
       "    </tr>\n",
       "    <tr>\n",
       "      <th>1219</th>\n",
       "      <td>uideo</td>\n",
       "      <td>21536</td>\n",
       "      <td>59099</td>\n",
       "      <td>26372</td>\n",
       "      <td>50503</td>\n",
       "      <td>39377.50</td>\n",
       "    </tr>\n",
       "    <tr>\n",
       "      <th>5787</th>\n",
       "      <td>locus</td>\n",
       "      <td>23102</td>\n",
       "      <td>56782</td>\n",
       "      <td>31421</td>\n",
       "      <td>43680</td>\n",
       "      <td>38746.25</td>\n",
       "    </tr>\n",
       "    <tr>\n",
       "      <th>1257</th>\n",
       "      <td>corpus</td>\n",
       "      <td>16979</td>\n",
       "      <td>63171</td>\n",
       "      <td>22871</td>\n",
       "      <td>31938</td>\n",
       "      <td>33739.75</td>\n",
       "    </tr>\n",
       "  </tbody>\n",
       "</table>\n",
       "</div>"
      ],
      "text/plain": [
       "        word  1501-1550  1551-1600  1601-1650  1651-1700      mean\n",
       "3299    dico      43255     122549      42457      72224  70121.25\n",
       "960     pars      33225      93059      44337      52385  55751.50\n",
       "3871  possum      25029      82700      38391      76841  55740.25\n",
       "6039   habeo      31690      89199      39443      59770  55025.50\n",
       "2898   facio      31814      98524      36944      51438  54680.00\n",
       "5630   liber      39559      65900      38496      53100  49263.75\n",
       "4259     res      29069      70669      28291      51565  44898.50\n",
       "1219   uideo      21536      59099      26372      50503  39377.50\n",
       "5787   locus      23102      56782      31421      43680  38746.25\n",
       "1257  corpus      16979      63171      22871      31938  33739.75"
      ]
     },
     "execution_count": 61,
     "metadata": {},
     "output_type": "execute_result"
    }
   ],
   "source": [
    "filtered_vocab_df.head(10)"
   ]
  },
  {
   "cell_type": "code",
   "execution_count": 62,
   "id": "7e7f32fb61eadf96",
   "metadata": {
    "ExecuteTime": {
     "start_time": "2024-01-30T12:56:31.744332Z"
    },
    "collapsed": false,
    "jupyter": {
     "outputs_hidden": false
    }
   },
   "outputs": [
    {
     "data": {
      "text/html": [
       "<div>\n",
       "<style scoped>\n",
       "    .dataframe tbody tr th:only-of-type {\n",
       "        vertical-align: middle;\n",
       "    }\n",
       "\n",
       "    .dataframe tbody tr th {\n",
       "        vertical-align: top;\n",
       "    }\n",
       "\n",
       "    .dataframe thead th {\n",
       "        text-align: right;\n",
       "    }\n",
       "</style>\n",
       "<table border=\"1\" class=\"dataframe\">\n",
       "  <thead>\n",
       "    <tr style=\"text-align: right;\">\n",
       "      <th></th>\n",
       "      <th>word</th>\n",
       "      <th>1501-1550</th>\n",
       "      <th>1551-1600</th>\n",
       "      <th>1601-1650</th>\n",
       "      <th>1651-1700</th>\n",
       "      <th>mean</th>\n",
       "    </tr>\n",
       "  </thead>\n",
       "  <tbody>\n",
       "    <tr>\n",
       "      <th>619</th>\n",
       "      <td>basio</td>\n",
       "      <td>8</td>\n",
       "      <td>10</td>\n",
       "      <td>14</td>\n",
       "      <td>9</td>\n",
       "      <td>10.25</td>\n",
       "    </tr>\n",
       "    <tr>\n",
       "      <th>3818</th>\n",
       "      <td>peiero</td>\n",
       "      <td>6</td>\n",
       "      <td>6</td>\n",
       "      <td>12</td>\n",
       "      <td>15</td>\n",
       "      <td>9.75</td>\n",
       "    </tr>\n",
       "    <tr>\n",
       "      <th>411</th>\n",
       "      <td>catechumenus</td>\n",
       "      <td>6</td>\n",
       "      <td>17</td>\n",
       "      <td>6</td>\n",
       "      <td>9</td>\n",
       "      <td>9.50</td>\n",
       "    </tr>\n",
       "    <tr>\n",
       "      <th>4819</th>\n",
       "      <td>ipse</td>\n",
       "      <td>7</td>\n",
       "      <td>12</td>\n",
       "      <td>9</td>\n",
       "      <td>9</td>\n",
       "      <td>9.25</td>\n",
       "    </tr>\n",
       "    <tr>\n",
       "      <th>926</th>\n",
       "      <td>monumen</td>\n",
       "      <td>6</td>\n",
       "      <td>14</td>\n",
       "      <td>10</td>\n",
       "      <td>7</td>\n",
       "      <td>9.25</td>\n",
       "    </tr>\n",
       "    <tr>\n",
       "      <th>53</th>\n",
       "      <td>repudium</td>\n",
       "      <td>8</td>\n",
       "      <td>7</td>\n",
       "      <td>7</td>\n",
       "      <td>12</td>\n",
       "      <td>8.50</td>\n",
       "    </tr>\n",
       "    <tr>\n",
       "      <th>2757</th>\n",
       "      <td>charon</td>\n",
       "      <td>12</td>\n",
       "      <td>8</td>\n",
       "      <td>7</td>\n",
       "      <td>6</td>\n",
       "      <td>8.25</td>\n",
       "    </tr>\n",
       "    <tr>\n",
       "      <th>4473</th>\n",
       "      <td>iste</td>\n",
       "      <td>5</td>\n",
       "      <td>10</td>\n",
       "      <td>13</td>\n",
       "      <td>5</td>\n",
       "      <td>8.25</td>\n",
       "    </tr>\n",
       "    <tr>\n",
       "      <th>1083</th>\n",
       "      <td>semper</td>\n",
       "      <td>5</td>\n",
       "      <td>6</td>\n",
       "      <td>6</td>\n",
       "      <td>7</td>\n",
       "      <td>6.00</td>\n",
       "    </tr>\n",
       "    <tr>\n",
       "      <th>5121</th>\n",
       "      <td>inornatus</td>\n",
       "      <td>5</td>\n",
       "      <td>7</td>\n",
       "      <td>6</td>\n",
       "      <td>5</td>\n",
       "      <td>5.75</td>\n",
       "    </tr>\n",
       "  </tbody>\n",
       "</table>\n",
       "</div>"
      ],
      "text/plain": [
       "              word  1501-1550  1551-1600  1601-1650  1651-1700   mean\n",
       "619          basio          8         10         14          9  10.25\n",
       "3818        peiero          6          6         12         15   9.75\n",
       "411   catechumenus          6         17          6          9   9.50\n",
       "4819          ipse          7         12          9          9   9.25\n",
       "926        monumen          6         14         10          7   9.25\n",
       "53        repudium          8          7          7         12   8.50\n",
       "2757        charon         12          8          7          6   8.25\n",
       "4473          iste          5         10         13          5   8.25\n",
       "1083        semper          5          6          6          7   6.00\n",
       "5121     inornatus          5          7          6          5   5.75"
      ]
     },
     "execution_count": 62,
     "metadata": {},
     "output_type": "execute_result"
    }
   ],
   "source": [
    "filtered_vocab_df.tail(10)\n"
   ]
  },
  {
   "cell_type": "code",
   "execution_count": 63,
   "id": "a3d14086c00127a3",
   "metadata": {
    "ExecuteTime": {
     "start_time": "2024-01-30T12:56:31.744897Z"
    },
    "collapsed": false,
    "jupyter": {
     "outputs_hidden": false
    }
   },
   "outputs": [
    {
     "name": "stderr",
     "output_type": "stream",
     "text": [
      "/tmp/ipykernel_404411/683937788.py:1: SettingWithCopyWarning: \n",
      "A value is trying to be set on a copy of a slice from a DataFrame.\n",
      "Try using .loc[row_indexer,col_indexer] = value instead\n",
      "\n",
      "See the caveats in the documentation: https://pandas.pydata.org/pandas-docs/stable/user_guide/indexing.html#returning-a-view-versus-a-copy\n",
      "  filtered_vocab_df[\"in_lila_embeddings\"] = filtered_vocab_df[\"word\"].apply(lambda x: x in vocab_overlap)\n"
     ]
    }
   ],
   "source": [
    "filtered_vocab_df[\"in_lila_embeddings\"] = filtered_vocab_df[\"word\"].apply(lambda x: x in vocab_overlap)"
   ]
  },
  {
   "cell_type": "code",
   "execution_count": 64,
   "id": "91e9567f03b6010a",
   "metadata": {
    "ExecuteTime": {
     "start_time": "2024-01-30T12:56:31.745513Z"
    },
    "collapsed": false,
    "jupyter": {
     "outputs_hidden": false
    }
   },
   "outputs": [
    {
     "name": "stderr",
     "output_type": "stream",
     "text": [
      "/tmp/ipykernel_404411/683733648.py:1: SettingWithCopyWarning: \n",
      "A value is trying to be set on a copy of a slice from a DataFrame.\n",
      "Try using .loc[row_indexer,col_indexer] = value instead\n",
      "\n",
      "See the caveats in the documentation: https://pandas.pydata.org/pandas-docs/stable/user_guide/indexing.html#returning-a-view-versus-a-copy\n",
      "  filtered_vocab_df[\"in_lasla\"] = filtered_vocab_df[\"word\"].apply(lambda x: x in lasla_vocab)\n",
      "/tmp/ipykernel_404411/683733648.py:2: SettingWithCopyWarning: \n",
      "A value is trying to be set on a copy of a slice from a DataFrame.\n",
      "Try using .loc[row_indexer,col_indexer] = value instead\n",
      "\n",
      "See the caveats in the documentation: https://pandas.pydata.org/pandas-docs/stable/user_guide/indexing.html#returning-a-view-versus-a-copy\n",
      "  filtered_vocab_df[\"in_operamaiora\"] = filtered_vocab_df[\"word\"].apply(lambda x: x in operamaiora_vocab)\n"
     ]
    }
   ],
   "source": [
    "filtered_vocab_df[\"in_lasla\"] = filtered_vocab_df[\"word\"].apply(lambda x: x in lasla_vocab)\n",
    "filtered_vocab_df[\"in_operamaiora\"] = filtered_vocab_df[\"word\"].apply(lambda x: x in operamaiora_vocab)"
   ]
  },
  {
   "cell_type": "code",
   "execution_count": 65,
   "id": "3b2e33c5256ca575",
   "metadata": {
    "ExecuteTime": {
     "start_time": "2024-01-30T12:56:31.746113Z"
    },
    "collapsed": false,
    "jupyter": {
     "outputs_hidden": false
    }
   },
   "outputs": [
    {
     "data": {
      "text/html": [
       "<div>\n",
       "<style scoped>\n",
       "    .dataframe tbody tr th:only-of-type {\n",
       "        vertical-align: middle;\n",
       "    }\n",
       "\n",
       "    .dataframe tbody tr th {\n",
       "        vertical-align: top;\n",
       "    }\n",
       "\n",
       "    .dataframe thead th {\n",
       "        text-align: right;\n",
       "    }\n",
       "</style>\n",
       "<table border=\"1\" class=\"dataframe\">\n",
       "  <thead>\n",
       "    <tr style=\"text-align: right;\">\n",
       "      <th></th>\n",
       "      <th>word</th>\n",
       "      <th>1501-1550</th>\n",
       "      <th>1551-1600</th>\n",
       "      <th>1601-1650</th>\n",
       "      <th>1651-1700</th>\n",
       "      <th>mean</th>\n",
       "      <th>in_lila_embeddings</th>\n",
       "      <th>in_lasla</th>\n",
       "      <th>in_operamaiora</th>\n",
       "    </tr>\n",
       "  </thead>\n",
       "  <tbody>\n",
       "    <tr>\n",
       "      <th>3299</th>\n",
       "      <td>dico</td>\n",
       "      <td>43255</td>\n",
       "      <td>122549</td>\n",
       "      <td>42457</td>\n",
       "      <td>72224</td>\n",
       "      <td>70121.25</td>\n",
       "      <td>True</td>\n",
       "      <td>True</td>\n",
       "      <td>True</td>\n",
       "    </tr>\n",
       "    <tr>\n",
       "      <th>960</th>\n",
       "      <td>pars</td>\n",
       "      <td>33225</td>\n",
       "      <td>93059</td>\n",
       "      <td>44337</td>\n",
       "      <td>52385</td>\n",
       "      <td>55751.50</td>\n",
       "      <td>True</td>\n",
       "      <td>True</td>\n",
       "      <td>True</td>\n",
       "    </tr>\n",
       "    <tr>\n",
       "      <th>3871</th>\n",
       "      <td>possum</td>\n",
       "      <td>25029</td>\n",
       "      <td>82700</td>\n",
       "      <td>38391</td>\n",
       "      <td>76841</td>\n",
       "      <td>55740.25</td>\n",
       "      <td>True</td>\n",
       "      <td>True</td>\n",
       "      <td>True</td>\n",
       "    </tr>\n",
       "    <tr>\n",
       "      <th>6039</th>\n",
       "      <td>habeo</td>\n",
       "      <td>31690</td>\n",
       "      <td>89199</td>\n",
       "      <td>39443</td>\n",
       "      <td>59770</td>\n",
       "      <td>55025.50</td>\n",
       "      <td>True</td>\n",
       "      <td>True</td>\n",
       "      <td>True</td>\n",
       "    </tr>\n",
       "    <tr>\n",
       "      <th>2898</th>\n",
       "      <td>facio</td>\n",
       "      <td>31814</td>\n",
       "      <td>98524</td>\n",
       "      <td>36944</td>\n",
       "      <td>51438</td>\n",
       "      <td>54680.00</td>\n",
       "      <td>True</td>\n",
       "      <td>True</td>\n",
       "      <td>True</td>\n",
       "    </tr>\n",
       "    <tr>\n",
       "      <th>...</th>\n",
       "      <td>...</td>\n",
       "      <td>...</td>\n",
       "      <td>...</td>\n",
       "      <td>...</td>\n",
       "      <td>...</td>\n",
       "      <td>...</td>\n",
       "      <td>...</td>\n",
       "      <td>...</td>\n",
       "      <td>...</td>\n",
       "    </tr>\n",
       "    <tr>\n",
       "      <th>4896</th>\n",
       "      <td>bonus</td>\n",
       "      <td>5865</td>\n",
       "      <td>16300</td>\n",
       "      <td>5389</td>\n",
       "      <td>9261</td>\n",
       "      <td>9203.75</td>\n",
       "      <td>True</td>\n",
       "      <td>True</td>\n",
       "      <td>True</td>\n",
       "    </tr>\n",
       "    <tr>\n",
       "      <th>2570</th>\n",
       "      <td>proprius</td>\n",
       "      <td>3576</td>\n",
       "      <td>17662</td>\n",
       "      <td>7350</td>\n",
       "      <td>8199</td>\n",
       "      <td>9196.75</td>\n",
       "      <td>True</td>\n",
       "      <td>True</td>\n",
       "      <td>True</td>\n",
       "    </tr>\n",
       "    <tr>\n",
       "      <th>4951</th>\n",
       "      <td>singulus</td>\n",
       "      <td>6167</td>\n",
       "      <td>13325</td>\n",
       "      <td>7083</td>\n",
       "      <td>9816</td>\n",
       "      <td>9097.75</td>\n",
       "      <td>True</td>\n",
       "      <td>True</td>\n",
       "      <td>True</td>\n",
       "    </tr>\n",
       "    <tr>\n",
       "      <th>2264</th>\n",
       "      <td>principium</td>\n",
       "      <td>4584</td>\n",
       "      <td>17735</td>\n",
       "      <td>6334</td>\n",
       "      <td>7463</td>\n",
       "      <td>9029.00</td>\n",
       "      <td>True</td>\n",
       "      <td>True</td>\n",
       "      <td>True</td>\n",
       "    </tr>\n",
       "    <tr>\n",
       "      <th>1346</th>\n",
       "      <td>utor</td>\n",
       "      <td>6760</td>\n",
       "      <td>16540</td>\n",
       "      <td>5331</td>\n",
       "      <td>7479</td>\n",
       "      <td>9027.50</td>\n",
       "      <td>True</td>\n",
       "      <td>True</td>\n",
       "      <td>True</td>\n",
       "    </tr>\n",
       "  </tbody>\n",
       "</table>\n",
       "<p>100 rows × 9 columns</p>\n",
       "</div>"
      ],
      "text/plain": [
       "            word  1501-1550  1551-1600  1601-1650  1651-1700      mean  \\\n",
       "3299        dico      43255     122549      42457      72224  70121.25   \n",
       "960         pars      33225      93059      44337      52385  55751.50   \n",
       "3871      possum      25029      82700      38391      76841  55740.25   \n",
       "6039       habeo      31690      89199      39443      59770  55025.50   \n",
       "2898       facio      31814      98524      36944      51438  54680.00   \n",
       "...          ...        ...        ...        ...        ...       ...   \n",
       "4896       bonus       5865      16300       5389       9261   9203.75   \n",
       "2570    proprius       3576      17662       7350       8199   9196.75   \n",
       "4951    singulus       6167      13325       7083       9816   9097.75   \n",
       "2264  principium       4584      17735       6334       7463   9029.00   \n",
       "1346        utor       6760      16540       5331       7479   9027.50   \n",
       "\n",
       "      in_lila_embeddings  in_lasla  in_operamaiora  \n",
       "3299                True      True            True  \n",
       "960                 True      True            True  \n",
       "3871                True      True            True  \n",
       "6039                True      True            True  \n",
       "2898                True      True            True  \n",
       "...                  ...       ...             ...  \n",
       "4896                True      True            True  \n",
       "2570                True      True            True  \n",
       "4951                True      True            True  \n",
       "2264                True      True            True  \n",
       "1346                True      True            True  \n",
       "\n",
       "[100 rows x 9 columns]"
      ]
     },
     "execution_count": 65,
     "metadata": {},
     "output_type": "execute_result"
    }
   ],
   "source": [
    "filtered_vocab_df.head(100)"
   ]
  },
  {
   "cell_type": "code",
   "execution_count": 66,
   "id": "d0d24ffb856024c1",
   "metadata": {
    "ExecuteTime": {
     "start_time": "2024-01-30T12:56:31.746808Z"
    },
    "collapsed": false,
    "jupyter": {
     "outputs_hidden": false
    }
   },
   "outputs": [
    {
     "data": {
      "text/plain": [
       "4820"
      ]
     },
     "execution_count": 66,
     "metadata": {},
     "output_type": "execute_result"
    }
   ],
   "source": [
    "filtered_vocab_df[\"in_lasla\"].sum()"
   ]
  },
  {
   "cell_type": "code",
   "execution_count": 67,
   "id": "5ce9932a68c2cd80",
   "metadata": {
    "ExecuteTime": {
     "end_time": "2024-01-30T12:56:31.751687Z",
     "start_time": "2024-01-30T12:56:31.747444Z"
    },
    "collapsed": false,
    "jupyter": {
     "outputs_hidden": false
    }
   },
   "outputs": [
    {
     "data": {
      "text/plain": [
       "3962"
      ]
     },
     "execution_count": 67,
     "metadata": {},
     "output_type": "execute_result"
    }
   ],
   "source": [
    "filtered_vocab_df[\"in_operamaiora\"].sum()\n"
   ]
  },
  {
   "cell_type": "code",
   "execution_count": 68,
   "id": "7b1f579e48e0bc75",
   "metadata": {
    "ExecuteTime": {
     "start_time": "2024-01-30T12:56:31.748008Z"
    },
    "collapsed": false,
    "jupyter": {
     "outputs_hidden": false
    }
   },
   "outputs": [
    {
     "data": {
      "text/plain": [
       "3708"
      ]
     },
     "execution_count": 68,
     "metadata": {},
     "output_type": "execute_result"
    }
   ],
   "source": [
    "filtered_vocab_df[\"in_lila_embeddings\"].sum()\n"
   ]
  },
  {
   "cell_type": "markdown",
   "id": "96cdc77f3316f6c2",
   "metadata": {
    "collapsed": false,
    "jupyter": {
     "outputs_hidden": false
    }
   },
   "source": [
    "# Add simple english translation"
   ]
  },
  {
   "cell_type": "code",
   "execution_count": 69,
   "id": "ac63ed594cda5e58",
   "metadata": {
    "collapsed": false,
    "jupyter": {
     "outputs_hidden": false
    }
   },
   "outputs": [],
   "source": [
    "# simple latin API:\n",
    "# https://www.latin-is-simple.com/api/"
   ]
  },
  {
   "cell_type": "code",
   "execution_count": 70,
   "id": "71f0278d81d8c105",
   "metadata": {
    "collapsed": false,
    "jupyter": {
     "outputs_hidden": false
    }
   },
   "outputs": [
    {
     "data": {
      "text/plain": [
       "[{'id': 63,\n",
       "  'intern_type': 'noun',\n",
       "  'short_name': 'equus',\n",
       "  'full_name': 'equus, equi [m.] O',\n",
       "  'type': {'name': 'noun', 'label': 'Noun'},\n",
       "  'translations_unstructured': {'en': 'horse', 'de': 'Pferd'},\n",
       "  'url': 'https://www.latin-is-simple.com/en/vocabulary/noun/63/'}]"
      ]
     },
     "execution_count": 70,
     "metadata": {},
     "output_type": "execute_result"
    }
   ],
   "source": [
    "target = \"equus\"\n",
    "base_url = \"https://www.latin-is-simple.com/api/vocabulary/search/?query={}&forms_only=true\"\n",
    "resp_json = requests.get(base_url.format(target)).json()\n",
    "resp_json"
   ]
  },
  {
   "cell_type": "code",
   "execution_count": 71,
   "id": "71d5c8abdd67eb81",
   "metadata": {
    "collapsed": false,
    "jupyter": {
     "outputs_hidden": false
    }
   },
   "outputs": [
    {
     "data": {
      "text/plain": [
       "'horse'"
      ]
     },
     "execution_count": 71,
     "metadata": {},
     "output_type": "execute_result"
    }
   ],
   "source": [
    "resp_json[0][\"translations_unstructured\"][\"en\"]"
   ]
  },
  {
   "cell_type": "code",
   "execution_count": 72,
   "id": "2ef53254a97be755",
   "metadata": {
    "collapsed": false,
    "jupyter": {
     "outputs_hidden": false
    }
   },
   "outputs": [],
   "source": [
    "def simple_translation(target):\n",
    "    try:\n",
    "        base_url = \"https://www.latin-is-simple.com/api/vocabulary/search/?query={}&forms_only=true\"\n",
    "        resp_json = requests.get(base_url.format(target)).json()\n",
    "        transl = resp_json[0][\"translations_unstructured\"][\"en\"]\n",
    "        if transl == \"still in translation\":\n",
    "            transl = \"\"\n",
    "        return transl\n",
    "    except:\n",
    "        return \"\""
   ]
  },
  {
   "cell_type": "code",
   "execution_count": 73,
   "id": "83b13b1da6022222",
   "metadata": {
    "ExecuteTime": {
     "end_time": "2023-12-05T09:49:23.505259Z",
     "start_time": "2023-12-05T09:49:23.473892Z"
    },
    "collapsed": false,
    "jupyter": {
     "outputs_hidden": false
    }
   },
   "outputs": [
    {
     "name": "stdout",
     "output_type": "stream",
     "text": [
      "CPU times: user 49.9 s, sys: 3.06 s, total: 52.9 s\n",
      "Wall time: 22min 35s\n"
     ]
    },
    {
     "name": "stderr",
     "output_type": "stream",
     "text": [
      "<timed exec>:1: SettingWithCopyWarning: \n",
      "A value is trying to be set on a copy of a slice from a DataFrame.\n",
      "Try using .loc[row_indexer,col_indexer] = value instead\n",
      "\n",
      "See the caveats in the documentation: https://pandas.pydata.org/pandas-docs/stable/user_guide/indexing.html#returning-a-view-versus-a-copy\n"
     ]
    }
   ],
   "source": [
    "%%time\n",
    "filtered_vocab_df[\"transl\"] = filtered_vocab_df[\"word\"].apply(simple_translation)"
   ]
  },
  {
   "cell_type": "code",
   "execution_count": 74,
   "id": "4e65e548263801bf",
   "metadata": {
    "collapsed": false,
    "jupyter": {
     "outputs_hidden": false
    }
   },
   "outputs": [
    {
     "data": {
      "text/html": [
       "<div>\n",
       "<style scoped>\n",
       "    .dataframe tbody tr th:only-of-type {\n",
       "        vertical-align: middle;\n",
       "    }\n",
       "\n",
       "    .dataframe tbody tr th {\n",
       "        vertical-align: top;\n",
       "    }\n",
       "\n",
       "    .dataframe thead th {\n",
       "        text-align: right;\n",
       "    }\n",
       "</style>\n",
       "<table border=\"1\" class=\"dataframe\">\n",
       "  <thead>\n",
       "    <tr style=\"text-align: right;\">\n",
       "      <th></th>\n",
       "      <th>word</th>\n",
       "      <th>1501-1550</th>\n",
       "      <th>1551-1600</th>\n",
       "      <th>1601-1650</th>\n",
       "      <th>1651-1700</th>\n",
       "      <th>mean</th>\n",
       "      <th>in_lila_embeddings</th>\n",
       "      <th>in_lasla</th>\n",
       "      <th>in_operamaiora</th>\n",
       "      <th>transl</th>\n",
       "    </tr>\n",
       "  </thead>\n",
       "  <tbody>\n",
       "    <tr>\n",
       "      <th>3299</th>\n",
       "      <td>dico</td>\n",
       "      <td>43255</td>\n",
       "      <td>122549</td>\n",
       "      <td>42457</td>\n",
       "      <td>72224</td>\n",
       "      <td>70121.25</td>\n",
       "      <td>True</td>\n",
       "      <td>True</td>\n",
       "      <td>True</td>\n",
       "      <td>say, call, tell</td>\n",
       "    </tr>\n",
       "    <tr>\n",
       "      <th>960</th>\n",
       "      <td>pars</td>\n",
       "      <td>33225</td>\n",
       "      <td>93059</td>\n",
       "      <td>44337</td>\n",
       "      <td>52385</td>\n",
       "      <td>55751.50</td>\n",
       "      <td>True</td>\n",
       "      <td>True</td>\n",
       "      <td>True</td>\n",
       "      <td>part</td>\n",
       "    </tr>\n",
       "    <tr>\n",
       "      <th>3871</th>\n",
       "      <td>possum</td>\n",
       "      <td>25029</td>\n",
       "      <td>82700</td>\n",
       "      <td>38391</td>\n",
       "      <td>76841</td>\n",
       "      <td>55740.25</td>\n",
       "      <td>True</td>\n",
       "      <td>True</td>\n",
       "      <td>True</td>\n",
       "      <td>be able, can</td>\n",
       "    </tr>\n",
       "    <tr>\n",
       "      <th>6039</th>\n",
       "      <td>habeo</td>\n",
       "      <td>31690</td>\n",
       "      <td>89199</td>\n",
       "      <td>39443</td>\n",
       "      <td>59770</td>\n",
       "      <td>55025.50</td>\n",
       "      <td>True</td>\n",
       "      <td>True</td>\n",
       "      <td>True</td>\n",
       "      <td>have, hold, possess, consider, think</td>\n",
       "    </tr>\n",
       "    <tr>\n",
       "      <th>2898</th>\n",
       "      <td>facio</td>\n",
       "      <td>31814</td>\n",
       "      <td>98524</td>\n",
       "      <td>36944</td>\n",
       "      <td>51438</td>\n",
       "      <td>54680.00</td>\n",
       "      <td>True</td>\n",
       "      <td>True</td>\n",
       "      <td>True</td>\n",
       "      <td>do, make, handle</td>\n",
       "    </tr>\n",
       "    <tr>\n",
       "      <th>5630</th>\n",
       "      <td>liber</td>\n",
       "      <td>39559</td>\n",
       "      <td>65900</td>\n",
       "      <td>38496</td>\n",
       "      <td>53100</td>\n",
       "      <td>49263.75</td>\n",
       "      <td>True</td>\n",
       "      <td>True</td>\n",
       "      <td>True</td>\n",
       "      <td>book, volume, inner bark of a tree, book, book</td>\n",
       "    </tr>\n",
       "    <tr>\n",
       "      <th>4259</th>\n",
       "      <td>res</td>\n",
       "      <td>29069</td>\n",
       "      <td>70669</td>\n",
       "      <td>28291</td>\n",
       "      <td>51565</td>\n",
       "      <td>44898.50</td>\n",
       "      <td>True</td>\n",
       "      <td>True</td>\n",
       "      <td>True</td>\n",
       "      <td>suddenly</td>\n",
       "    </tr>\n",
       "    <tr>\n",
       "      <th>1219</th>\n",
       "      <td>uideo</td>\n",
       "      <td>21536</td>\n",
       "      <td>59099</td>\n",
       "      <td>26372</td>\n",
       "      <td>50503</td>\n",
       "      <td>39377.50</td>\n",
       "      <td>True</td>\n",
       "      <td>True</td>\n",
       "      <td>True</td>\n",
       "      <td></td>\n",
       "    </tr>\n",
       "    <tr>\n",
       "      <th>5787</th>\n",
       "      <td>locus</td>\n",
       "      <td>23102</td>\n",
       "      <td>56782</td>\n",
       "      <td>31421</td>\n",
       "      <td>43680</td>\n",
       "      <td>38746.25</td>\n",
       "      <td>True</td>\n",
       "      <td>True</td>\n",
       "      <td>True</td>\n",
       "      <td>place, location</td>\n",
       "    </tr>\n",
       "    <tr>\n",
       "      <th>1257</th>\n",
       "      <td>corpus</td>\n",
       "      <td>16979</td>\n",
       "      <td>63171</td>\n",
       "      <td>22871</td>\n",
       "      <td>31938</td>\n",
       "      <td>33739.75</td>\n",
       "      <td>True</td>\n",
       "      <td>True</td>\n",
       "      <td>True</td>\n",
       "      <td>body, corpus</td>\n",
       "    </tr>\n",
       "    <tr>\n",
       "      <th>3514</th>\n",
       "      <td>dies</td>\n",
       "      <td>15785</td>\n",
       "      <td>44607</td>\n",
       "      <td>25850</td>\n",
       "      <td>44412</td>\n",
       "      <td>32663.50</td>\n",
       "      <td>True</td>\n",
       "      <td>True</td>\n",
       "      <td>True</td>\n",
       "      <td>(1.) Day (2.) day, Day, Diary (3.) Day</td>\n",
       "    </tr>\n",
       "    <tr>\n",
       "      <th>4985</th>\n",
       "      <td>do</td>\n",
       "      <td>17291</td>\n",
       "      <td>47879</td>\n",
       "      <td>25457</td>\n",
       "      <td>36720</td>\n",
       "      <td>31836.75</td>\n",
       "      <td>True</td>\n",
       "      <td>True</td>\n",
       "      <td>True</td>\n",
       "      <td>give, offer, grant</td>\n",
       "    </tr>\n",
       "    <tr>\n",
       "      <th>1879</th>\n",
       "      <td>primus</td>\n",
       "      <td>19306</td>\n",
       "      <td>52164</td>\n",
       "      <td>25164</td>\n",
       "      <td>27764</td>\n",
       "      <td>31099.50</td>\n",
       "      <td>True</td>\n",
       "      <td>True</td>\n",
       "      <td>True</td>\n",
       "      <td>first, foremost, chief, principal</td>\n",
       "    </tr>\n",
       "    <tr>\n",
       "      <th>1095</th>\n",
       "      <td>aqua</td>\n",
       "      <td>11747</td>\n",
       "      <td>41231</td>\n",
       "      <td>20765</td>\n",
       "      <td>34038</td>\n",
       "      <td>26945.25</td>\n",
       "      <td>True</td>\n",
       "      <td>True</td>\n",
       "      <td>True</td>\n",
       "      <td>get/fetch/bring water, be watered</td>\n",
       "    </tr>\n",
       "    <tr>\n",
       "      <th>6532</th>\n",
       "      <td>terra</td>\n",
       "      <td>14371</td>\n",
       "      <td>27580</td>\n",
       "      <td>26947</td>\n",
       "      <td>38857</td>\n",
       "      <td>26938.75</td>\n",
       "      <td>True</td>\n",
       "      <td>True</td>\n",
       "      <td>True</td>\n",
       "      <td>land, earth</td>\n",
       "    </tr>\n",
       "    <tr>\n",
       "      <th>6430</th>\n",
       "      <td>motus</td>\n",
       "      <td>11987</td>\n",
       "      <td>35310</td>\n",
       "      <td>24422</td>\n",
       "      <td>35870</td>\n",
       "      <td>26897.25</td>\n",
       "      <td>True</td>\n",
       "      <td>True</td>\n",
       "      <td>True</td>\n",
       "      <td>movement, motion, riot, commotion, disturbance...</td>\n",
       "    </tr>\n",
       "    <tr>\n",
       "      <th>2846</th>\n",
       "      <td>ratio</td>\n",
       "      <td>12519</td>\n",
       "      <td>42955</td>\n",
       "      <td>20567</td>\n",
       "      <td>31100</td>\n",
       "      <td>26785.25</td>\n",
       "      <td>True</td>\n",
       "      <td>True</td>\n",
       "      <td>True</td>\n",
       "      <td>reckoning, account, reason, judgement, conside...</td>\n",
       "    </tr>\n",
       "    <tr>\n",
       "      <th>2202</th>\n",
       "      <td>natura</td>\n",
       "      <td>13925</td>\n",
       "      <td>46648</td>\n",
       "      <td>17722</td>\n",
       "      <td>24288</td>\n",
       "      <td>25645.75</td>\n",
       "      <td>True</td>\n",
       "      <td>True</td>\n",
       "      <td>True</td>\n",
       "      <td>nature</td>\n",
       "    </tr>\n",
       "    <tr>\n",
       "      <th>1789</th>\n",
       "      <td>magnus</td>\n",
       "      <td>14494</td>\n",
       "      <td>39035</td>\n",
       "      <td>19243</td>\n",
       "      <td>26346</td>\n",
       "      <td>24779.50</td>\n",
       "      <td>True</td>\n",
       "      <td>True</td>\n",
       "      <td>True</td>\n",
       "      <td>big</td>\n",
       "    </tr>\n",
       "    <tr>\n",
       "      <th>4295</th>\n",
       "      <td>tempus</td>\n",
       "      <td>12875</td>\n",
       "      <td>32854</td>\n",
       "      <td>18432</td>\n",
       "      <td>30522</td>\n",
       "      <td>23670.75</td>\n",
       "      <td>True</td>\n",
       "      <td>True</td>\n",
       "      <td>True</td>\n",
       "      <td>time, occasion, opportunity, condition, right ...</td>\n",
       "    </tr>\n",
       "  </tbody>\n",
       "</table>\n",
       "</div>"
      ],
      "text/plain": [
       "        word  1501-1550  1551-1600  1601-1650  1651-1700      mean  \\\n",
       "3299    dico      43255     122549      42457      72224  70121.25   \n",
       "960     pars      33225      93059      44337      52385  55751.50   \n",
       "3871  possum      25029      82700      38391      76841  55740.25   \n",
       "6039   habeo      31690      89199      39443      59770  55025.50   \n",
       "2898   facio      31814      98524      36944      51438  54680.00   \n",
       "5630   liber      39559      65900      38496      53100  49263.75   \n",
       "4259     res      29069      70669      28291      51565  44898.50   \n",
       "1219   uideo      21536      59099      26372      50503  39377.50   \n",
       "5787   locus      23102      56782      31421      43680  38746.25   \n",
       "1257  corpus      16979      63171      22871      31938  33739.75   \n",
       "3514    dies      15785      44607      25850      44412  32663.50   \n",
       "4985      do      17291      47879      25457      36720  31836.75   \n",
       "1879  primus      19306      52164      25164      27764  31099.50   \n",
       "1095    aqua      11747      41231      20765      34038  26945.25   \n",
       "6532   terra      14371      27580      26947      38857  26938.75   \n",
       "6430   motus      11987      35310      24422      35870  26897.25   \n",
       "2846   ratio      12519      42955      20567      31100  26785.25   \n",
       "2202  natura      13925      46648      17722      24288  25645.75   \n",
       "1789  magnus      14494      39035      19243      26346  24779.50   \n",
       "4295  tempus      12875      32854      18432      30522  23670.75   \n",
       "\n",
       "      in_lila_embeddings  in_lasla  in_operamaiora  \\\n",
       "3299                True      True            True   \n",
       "960                 True      True            True   \n",
       "3871                True      True            True   \n",
       "6039                True      True            True   \n",
       "2898                True      True            True   \n",
       "5630                True      True            True   \n",
       "4259                True      True            True   \n",
       "1219                True      True            True   \n",
       "5787                True      True            True   \n",
       "1257                True      True            True   \n",
       "3514                True      True            True   \n",
       "4985                True      True            True   \n",
       "1879                True      True            True   \n",
       "1095                True      True            True   \n",
       "6532                True      True            True   \n",
       "6430                True      True            True   \n",
       "2846                True      True            True   \n",
       "2202                True      True            True   \n",
       "1789                True      True            True   \n",
       "4295                True      True            True   \n",
       "\n",
       "                                                 transl  \n",
       "3299                                    say, call, tell  \n",
       "960                                                part  \n",
       "3871                                       be able, can  \n",
       "6039               have, hold, possess, consider, think  \n",
       "2898                                   do, make, handle  \n",
       "5630     book, volume, inner bark of a tree, book, book  \n",
       "4259                                           suddenly  \n",
       "1219                                                     \n",
       "5787                                    place, location  \n",
       "1257                                       body, corpus  \n",
       "3514             (1.) Day (2.) day, Day, Diary (3.) Day  \n",
       "4985                                 give, offer, grant  \n",
       "1879                  first, foremost, chief, principal  \n",
       "1095                  get/fetch/bring water, be watered  \n",
       "6532                                        land, earth  \n",
       "6430  movement, motion, riot, commotion, disturbance...  \n",
       "2846  reckoning, account, reason, judgement, conside...  \n",
       "2202                                             nature  \n",
       "1789                                                big  \n",
       "4295  time, occasion, opportunity, condition, right ...  "
      ]
     },
     "execution_count": 74,
     "metadata": {},
     "output_type": "execute_result"
    }
   ],
   "source": [
    "filtered_vocab_df.head(20)"
   ]
  },
  {
   "cell_type": "code",
   "execution_count": 75,
   "id": "a9b8163868596ed2",
   "metadata": {
    "ExecuteTime": {
     "end_time": "2023-12-01T13:23:59.457203Z",
     "start_time": "2023-12-01T13:23:59.415588Z"
    },
    "collapsed": false,
    "jupyter": {
     "outputs_hidden": false
    }
   },
   "outputs": [],
   "source": [
    "filtered_vocab_df.to_json(\"../data/filtered_vocab_df.json\")"
   ]
  },
  {
   "cell_type": "code",
   "execution_count": 2,
   "id": "b396ae18-9fd2-4cb5-8422-22a640709acb",
   "metadata": {},
   "outputs": [],
   "source": [
    "!cp ../data/filtered_vocab_df.json /srv/data/tome/noscemus/filtered_vocab_df.json"
   ]
  },
  {
   "cell_type": "code",
   "execution_count": 76,
   "id": "4340ddbf65e717fe",
   "metadata": {
    "collapsed": false,
    "jupyter": {
     "outputs_hidden": false
    }
   },
   "outputs": [
    {
     "data": {
      "text/html": [
       "<div>\n",
       "<style scoped>\n",
       "    .dataframe tbody tr th:only-of-type {\n",
       "        vertical-align: middle;\n",
       "    }\n",
       "\n",
       "    .dataframe tbody tr th {\n",
       "        vertical-align: top;\n",
       "    }\n",
       "\n",
       "    .dataframe thead th {\n",
       "        text-align: right;\n",
       "    }\n",
       "</style>\n",
       "<table border=\"1\" class=\"dataframe\">\n",
       "  <thead>\n",
       "    <tr style=\"text-align: right;\">\n",
       "      <th></th>\n",
       "      <th>word</th>\n",
       "      <th>1501-1550</th>\n",
       "      <th>1551-1600</th>\n",
       "      <th>1601-1650</th>\n",
       "      <th>1651-1700</th>\n",
       "      <th>mean</th>\n",
       "      <th>in_lila_embeddings</th>\n",
       "      <th>in_lasla</th>\n",
       "      <th>in_operamaiora</th>\n",
       "      <th>transl</th>\n",
       "    </tr>\n",
       "  </thead>\n",
       "  <tbody>\n",
       "    <tr>\n",
       "      <th>5018</th>\n",
       "      <td>dico</td>\n",
       "      <td>42831</td>\n",
       "      <td>120825</td>\n",
       "      <td>41832</td>\n",
       "      <td>72221</td>\n",
       "      <td>69427.25</td>\n",
       "      <td>True</td>\n",
       "      <td>True</td>\n",
       "      <td>True</td>\n",
       "      <td>say, call, tell</td>\n",
       "    </tr>\n",
       "    <tr>\n",
       "      <th>6155</th>\n",
       "      <td>omnis</td>\n",
       "      <td>33152</td>\n",
       "      <td>108530</td>\n",
       "      <td>46009</td>\n",
       "      <td>66387</td>\n",
       "      <td>63519.50</td>\n",
       "      <td>True</td>\n",
       "      <td>True</td>\n",
       "      <td>True</td>\n",
       "      <td></td>\n",
       "    </tr>\n",
       "    <tr>\n",
       "      <th>2515</th>\n",
       "      <td>facio</td>\n",
       "      <td>33323</td>\n",
       "      <td>109486</td>\n",
       "      <td>40134</td>\n",
       "      <td>53953</td>\n",
       "      <td>59224.00</td>\n",
       "      <td>True</td>\n",
       "      <td>True</td>\n",
       "      <td>True</td>\n",
       "      <td>do, make, handle</td>\n",
       "    </tr>\n",
       "    <tr>\n",
       "      <th>4040</th>\n",
       "      <td>pars</td>\n",
       "      <td>32591</td>\n",
       "      <td>90667</td>\n",
       "      <td>43593</td>\n",
       "      <td>51249</td>\n",
       "      <td>54525.00</td>\n",
       "      <td>True</td>\n",
       "      <td>True</td>\n",
       "      <td>True</td>\n",
       "      <td>part</td>\n",
       "    </tr>\n",
       "    <tr>\n",
       "      <th>6769</th>\n",
       "      <td>habeo</td>\n",
       "      <td>30884</td>\n",
       "      <td>87225</td>\n",
       "      <td>38386</td>\n",
       "      <td>57791</td>\n",
       "      <td>53571.50</td>\n",
       "      <td>True</td>\n",
       "      <td>True</td>\n",
       "      <td>True</td>\n",
       "      <td>have, hold, possess, consider, think</td>\n",
       "    </tr>\n",
       "    <tr>\n",
       "      <th>364</th>\n",
       "      <td>possum</td>\n",
       "      <td>23869</td>\n",
       "      <td>79572</td>\n",
       "      <td>36898</td>\n",
       "      <td>72892</td>\n",
       "      <td>53307.75</td>\n",
       "      <td>True</td>\n",
       "      <td>True</td>\n",
       "      <td>True</td>\n",
       "      <td>be able, can</td>\n",
       "    </tr>\n",
       "    <tr>\n",
       "      <th>897</th>\n",
       "      <td>res</td>\n",
       "      <td>27869</td>\n",
       "      <td>68790</td>\n",
       "      <td>27473</td>\n",
       "      <td>49014</td>\n",
       "      <td>43286.50</td>\n",
       "      <td>True</td>\n",
       "      <td>True</td>\n",
       "      <td>True</td>\n",
       "      <td>suddenly</td>\n",
       "    </tr>\n",
       "    <tr>\n",
       "      <th>4810</th>\n",
       "      <td>suus</td>\n",
       "      <td>23716</td>\n",
       "      <td>58975</td>\n",
       "      <td>33267</td>\n",
       "      <td>52441</td>\n",
       "      <td>42099.75</td>\n",
       "      <td>True</td>\n",
       "      <td>True</td>\n",
       "      <td>True</td>\n",
       "      <td>his own, her own, its own, their own</td>\n",
       "    </tr>\n",
       "    <tr>\n",
       "      <th>2392</th>\n",
       "      <td>uideo</td>\n",
       "      <td>21389</td>\n",
       "      <td>60143</td>\n",
       "      <td>28355</td>\n",
       "      <td>54288</td>\n",
       "      <td>41043.75</td>\n",
       "      <td>True</td>\n",
       "      <td>True</td>\n",
       "      <td>True</td>\n",
       "      <td></td>\n",
       "    </tr>\n",
       "    <tr>\n",
       "      <th>1790</th>\n",
       "      <td>magnus</td>\n",
       "      <td>23446</td>\n",
       "      <td>61213</td>\n",
       "      <td>29708</td>\n",
       "      <td>39211</td>\n",
       "      <td>38394.50</td>\n",
       "      <td>True</td>\n",
       "      <td>True</td>\n",
       "      <td>True</td>\n",
       "      <td>big, great</td>\n",
       "    </tr>\n",
       "    <tr>\n",
       "      <th>2217</th>\n",
       "      <td>locus</td>\n",
       "      <td>22091</td>\n",
       "      <td>53908</td>\n",
       "      <td>30003</td>\n",
       "      <td>41517</td>\n",
       "      <td>36879.75</td>\n",
       "      <td>True</td>\n",
       "      <td>True</td>\n",
       "      <td>True</td>\n",
       "      <td>place, location</td>\n",
       "    </tr>\n",
       "    <tr>\n",
       "      <th>2377</th>\n",
       "      <td>corpus</td>\n",
       "      <td>16756</td>\n",
       "      <td>62316</td>\n",
       "      <td>22606</td>\n",
       "      <td>31319</td>\n",
       "      <td>33249.25</td>\n",
       "      <td>True</td>\n",
       "      <td>True</td>\n",
       "      <td>True</td>\n",
       "      <td>body, corpus</td>\n",
       "    </tr>\n",
       "    <tr>\n",
       "      <th>3110</th>\n",
       "      <td>multus</td>\n",
       "      <td>20473</td>\n",
       "      <td>50202</td>\n",
       "      <td>21654</td>\n",
       "      <td>34203</td>\n",
       "      <td>31633.00</td>\n",
       "      <td>True</td>\n",
       "      <td>True</td>\n",
       "      <td>True</td>\n",
       "      <td>many</td>\n",
       "    </tr>\n",
       "    <tr>\n",
       "      <th>2555</th>\n",
       "      <td>primus</td>\n",
       "      <td>19132</td>\n",
       "      <td>50620</td>\n",
       "      <td>23778</td>\n",
       "      <td>26045</td>\n",
       "      <td>29893.75</td>\n",
       "      <td>True</td>\n",
       "      <td>True</td>\n",
       "      <td>True</td>\n",
       "      <td>first, foremost, chief, principal</td>\n",
       "    </tr>\n",
       "    <tr>\n",
       "      <th>2853</th>\n",
       "      <td>do</td>\n",
       "      <td>16173</td>\n",
       "      <td>45404</td>\n",
       "      <td>21729</td>\n",
       "      <td>34157</td>\n",
       "      <td>29365.75</td>\n",
       "      <td>True</td>\n",
       "      <td>True</td>\n",
       "      <td>True</td>\n",
       "      <td>give, offer</td>\n",
       "    </tr>\n",
       "    <tr>\n",
       "      <th>4389</th>\n",
       "      <td>cap</td>\n",
       "      <td>18393</td>\n",
       "      <td>35181</td>\n",
       "      <td>21951</td>\n",
       "      <td>30471</td>\n",
       "      <td>26499.00</td>\n",
       "      <td>False</td>\n",
       "      <td>False</td>\n",
       "      <td>False</td>\n",
       "      <td></td>\n",
       "    </tr>\n",
       "    <tr>\n",
       "      <th>1648</th>\n",
       "      <td>ratio</td>\n",
       "      <td>12325</td>\n",
       "      <td>42217</td>\n",
       "      <td>20289</td>\n",
       "      <td>30475</td>\n",
       "      <td>26326.50</td>\n",
       "      <td>True</td>\n",
       "      <td>True</td>\n",
       "      <td>True</td>\n",
       "      <td>reckoning, account, reason, judgement, conside...</td>\n",
       "    </tr>\n",
       "    <tr>\n",
       "      <th>1830</th>\n",
       "      <td>lib</td>\n",
       "      <td>16365</td>\n",
       "      <td>37925</td>\n",
       "      <td>21843</td>\n",
       "      <td>27512</td>\n",
       "      <td>25911.25</td>\n",
       "      <td>False</td>\n",
       "      <td>False</td>\n",
       "      <td>False</td>\n",
       "      <td></td>\n",
       "    </tr>\n",
       "    <tr>\n",
       "      <th>4628</th>\n",
       "      <td>liber</td>\n",
       "      <td>22941</td>\n",
       "      <td>36345</td>\n",
       "      <td>17863</td>\n",
       "      <td>26167</td>\n",
       "      <td>25829.00</td>\n",
       "      <td>True</td>\n",
       "      <td>True</td>\n",
       "      <td>True</td>\n",
       "      <td>book, volume, inner bark of a tree, book, book</td>\n",
       "    </tr>\n",
       "    <tr>\n",
       "      <th>5471</th>\n",
       "      <td>aqua</td>\n",
       "      <td>11596</td>\n",
       "      <td>40688</td>\n",
       "      <td>19692</td>\n",
       "      <td>30750</td>\n",
       "      <td>25681.50</td>\n",
       "      <td>True</td>\n",
       "      <td>True</td>\n",
       "      <td>True</td>\n",
       "      <td>get/fetch/bring water, be watered</td>\n",
       "    </tr>\n",
       "  </tbody>\n",
       "</table>\n",
       "</div>"
      ],
      "text/plain": [
       "        word  1501-1550  1551-1600  1601-1650  1651-1700      mean  \\\n",
       "5018    dico      42831     120825      41832      72221  69427.25   \n",
       "6155   omnis      33152     108530      46009      66387  63519.50   \n",
       "2515   facio      33323     109486      40134      53953  59224.00   \n",
       "4040    pars      32591      90667      43593      51249  54525.00   \n",
       "6769   habeo      30884      87225      38386      57791  53571.50   \n",
       "364   possum      23869      79572      36898      72892  53307.75   \n",
       "897      res      27869      68790      27473      49014  43286.50   \n",
       "4810    suus      23716      58975      33267      52441  42099.75   \n",
       "2392   uideo      21389      60143      28355      54288  41043.75   \n",
       "1790  magnus      23446      61213      29708      39211  38394.50   \n",
       "2217   locus      22091      53908      30003      41517  36879.75   \n",
       "2377  corpus      16756      62316      22606      31319  33249.25   \n",
       "3110  multus      20473      50202      21654      34203  31633.00   \n",
       "2555  primus      19132      50620      23778      26045  29893.75   \n",
       "2853      do      16173      45404      21729      34157  29365.75   \n",
       "4389     cap      18393      35181      21951      30471  26499.00   \n",
       "1648   ratio      12325      42217      20289      30475  26326.50   \n",
       "1830     lib      16365      37925      21843      27512  25911.25   \n",
       "4628   liber      22941      36345      17863      26167  25829.00   \n",
       "5471    aqua      11596      40688      19692      30750  25681.50   \n",
       "\n",
       "      in_lila_embeddings  in_lasla  in_operamaiora  \\\n",
       "5018                True      True            True   \n",
       "6155                True      True            True   \n",
       "2515                True      True            True   \n",
       "4040                True      True            True   \n",
       "6769                True      True            True   \n",
       "364                 True      True            True   \n",
       "897                 True      True            True   \n",
       "4810                True      True            True   \n",
       "2392                True      True            True   \n",
       "1790                True      True            True   \n",
       "2217                True      True            True   \n",
       "2377                True      True            True   \n",
       "3110                True      True            True   \n",
       "2555                True      True            True   \n",
       "2853                True      True            True   \n",
       "4389               False     False           False   \n",
       "1648                True      True            True   \n",
       "1830               False     False           False   \n",
       "4628                True      True            True   \n",
       "5471                True      True            True   \n",
       "\n",
       "                                                 transl  \n",
       "5018                                    say, call, tell  \n",
       "6155                                                     \n",
       "2515                                   do, make, handle  \n",
       "4040                                               part  \n",
       "6769               have, hold, possess, consider, think  \n",
       "364                                        be able, can  \n",
       "897                                            suddenly  \n",
       "4810               his own, her own, its own, their own  \n",
       "2392                                                     \n",
       "1790                                         big, great  \n",
       "2217                                    place, location  \n",
       "2377                                       body, corpus  \n",
       "3110                                               many  \n",
       "2555                  first, foremost, chief, principal  \n",
       "2853                                        give, offer  \n",
       "4389                                                     \n",
       "1648  reckoning, account, reason, judgement, conside...  \n",
       "1830                                                     \n",
       "4628     book, volume, inner bark of a tree, book, book  \n",
       "5471                  get/fetch/bring water, be watered  "
      ]
     },
     "execution_count": 76,
     "metadata": {},
     "output_type": "execute_result"
    }
   ],
   "source": [
    "# read the old one just for comparison\n",
    "filtered_vocab_df_OLD = pd.read_json(\"../data/filtered_vocab_df_OLD.json\")\n",
    "filtered_vocab_df_OLD.head(20)"
   ]
  },
  {
   "cell_type": "code",
   "execution_count": null,
   "id": "1a85cfa3-c1db-4e76-a66d-65b1b2636992",
   "metadata": {},
   "outputs": [],
   "source": []
  }
 ],
 "metadata": {
  "kernelspec": {
   "display_name": "latin_global_kernel",
   "language": "python",
   "name": "latin_global_kernel"
  },
  "language_info": {
   "codemirror_mode": {
    "name": "ipython",
    "version": 3
   },
   "file_extension": ".py",
   "mimetype": "text/x-python",
   "name": "python",
   "nbconvert_exporter": "python",
   "pygments_lexer": "ipython3",
   "version": "3.10.12"
  }
 },
 "nbformat": 4,
 "nbformat_minor": 5
}
