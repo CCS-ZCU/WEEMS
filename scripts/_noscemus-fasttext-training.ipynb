{
 "cells": [
  {
   "cell_type": "code",
   "execution_count": 1,
   "id": "b0c3f2cfd2ca6805",
   "metadata": {
    "ExecuteTime": {
     "end_time": "2024-04-17T08:51:33.711843Z",
     "start_time": "2024-04-17T08:51:33.342453Z"
    },
    "collapsed": false,
    "jupyter": {
     "outputs_hidden": false
    }
   },
   "outputs": [],
   "source": [
    "import pandas as pd\n",
    "from gensim.models.fasttext import FastText\n",
    "from gensim.models import KeyedVectors\n",
    "import re\n",
    "import os\n",
    "import shutil\n",
    "import sddk\n",
    "import pickle"
   ]
  },
  {
   "cell_type": "code",
   "execution_count": 2,
   "id": "initial_id",
   "metadata": {
    "ExecuteTime": {
     "end_time": "2024-04-17T08:54:52.176937Z",
     "start_time": "2024-04-17T08:54:52.126599Z"
    }
   },
   "outputs": [
    {
     "data": {
      "text/html": [
       "<div>\n",
       "<style scoped>\n",
       "    .dataframe tbody tr th:only-of-type {\n",
       "        vertical-align: middle;\n",
       "    }\n",
       "\n",
       "    .dataframe tbody tr th {\n",
       "        vertical-align: top;\n",
       "    }\n",
       "\n",
       "    .dataframe thead th {\n",
       "        text-align: right;\n",
       "    }\n",
       "</style>\n",
       "<table border=\"1\" class=\"dataframe\">\n",
       "  <thead>\n",
       "    <tr style=\"text-align: right;\">\n",
       "      <th></th>\n",
       "      <th>Author</th>\n",
       "      <th>Full title</th>\n",
       "      <th>In</th>\n",
       "      <th>Year</th>\n",
       "      <th>Place</th>\n",
       "      <th>Publisher/Printer</th>\n",
       "      <th>Era</th>\n",
       "      <th>Form/Genre</th>\n",
       "      <th>Discipline/Content</th>\n",
       "      <th>Original</th>\n",
       "      <th>...</th>\n",
       "      <th>ids</th>\n",
       "      <th>id</th>\n",
       "      <th>date_min</th>\n",
       "      <th>date_max</th>\n",
       "      <th>filename</th>\n",
       "      <th>file_year</th>\n",
       "      <th>sents_n</th>\n",
       "      <th>tokens_n</th>\n",
       "      <th>disciplines_list</th>\n",
       "      <th>science_class</th>\n",
       "    </tr>\n",
       "  </thead>\n",
       "  <tbody>\n",
       "    <tr>\n",
       "      <th>0</th>\n",
       "      <td>Achrelius, Daniel</td>\n",
       "      <td>Scientiarum magnes recitatus publice anno 1690...</td>\n",
       "      <td>None</td>\n",
       "      <td>1690</td>\n",
       "      <td>[Turku]</td>\n",
       "      <td>Wall</td>\n",
       "      <td>17th century</td>\n",
       "      <td>Oration</td>\n",
       "      <td>Mathematics, Astronomy/Astrology/Cosmography, ...</td>\n",
       "      <td>Scientiarum magnes(Google Books)</td>\n",
       "      <td>...</td>\n",
       "      <td>[705665]</td>\n",
       "      <td>705665</td>\n",
       "      <td>1690.0</td>\n",
       "      <td>1690.0</td>\n",
       "      <td>Achrelius,_Daniel_-_Scientiarum_magnes__Turku_...</td>\n",
       "      <td>1690.0</td>\n",
       "      <td>630</td>\n",
       "      <td>8839</td>\n",
       "      <td>[Mathematics, Astronomy/Astrology/Cosmography,...</td>\n",
       "      <td>mixture</td>\n",
       "    </tr>\n",
       "    <tr>\n",
       "      <th>1</th>\n",
       "      <td>Acidalius, Valens</td>\n",
       "      <td>Ad Iordanum Brunum Nolanum, Italum</td>\n",
       "      <td>Poematum Iani Lernutii, Iani Gulielmi, Valenti...</td>\n",
       "      <td>1603</td>\n",
       "      <td>Liegnitz, Wrocław</td>\n",
       "      <td>Albert, David</td>\n",
       "      <td>17th century</td>\n",
       "      <td>Panegyric poem</td>\n",
       "      <td>Astronomy/Astrology/Cosmography</td>\n",
       "      <td>Ad Iordanum Brunum (1603)(CAMENA)Ad Iordanum B...</td>\n",
       "      <td>...</td>\n",
       "      <td>[801745]</td>\n",
       "      <td>801745</td>\n",
       "      <td>1603.0</td>\n",
       "      <td>1603.0</td>\n",
       "      <td>Janus_Lernutius_et_al__-_Poemata__Liegnitz_160...</td>\n",
       "      <td>1603.0</td>\n",
       "      <td>6527</td>\n",
       "      <td>82445</td>\n",
       "      <td>[Astronomy/Astrology/Cosmography]</td>\n",
       "      <td>exact_sciences</td>\n",
       "    </tr>\n",
       "    <tr>\n",
       "      <th>2</th>\n",
       "      <td>Acosta, José de</td>\n",
       "      <td>De natura novi orbis libri duo et De promulgat...</td>\n",
       "      <td>None</td>\n",
       "      <td>1589</td>\n",
       "      <td>Salamanca</td>\n",
       "      <td>Guillelum Foquel</td>\n",
       "      <td>16th century</td>\n",
       "      <td>Monograph</td>\n",
       "      <td>Astronomy/Astrology/Cosmography, Geography/Car...</td>\n",
       "      <td>De natura novi orbis(Biodiversity Heritage Lib...</td>\n",
       "      <td>...</td>\n",
       "      <td>[713323]</td>\n",
       "      <td>713323</td>\n",
       "      <td>1589.0</td>\n",
       "      <td>1589.0</td>\n",
       "      <td>Acosta,_José_de_-_De_natura_novi_orbis__Salama...</td>\n",
       "      <td>1589.0</td>\n",
       "      <td>8905</td>\n",
       "      <td>170205</td>\n",
       "      <td>[Astronomy/Astrology/Cosmography, Geography/Ca...</td>\n",
       "      <td>exact_sciences</td>\n",
       "    </tr>\n",
       "    <tr>\n",
       "      <th>3</th>\n",
       "      <td>Adam, Melchior</td>\n",
       "      <td>Vitae Germanorum medicorum, qui saeculo superi...</td>\n",
       "      <td>None</td>\n",
       "      <td>1620</td>\n",
       "      <td>Heidelberg</td>\n",
       "      <td>Rosa, Geyder</td>\n",
       "      <td>17th century</td>\n",
       "      <td>Biography</td>\n",
       "      <td>Medicine</td>\n",
       "      <td>Vitae Germanorum medicorum(MDZ)Alternative lin...</td>\n",
       "      <td>...</td>\n",
       "      <td>[693148]</td>\n",
       "      <td>693148</td>\n",
       "      <td>1620.0</td>\n",
       "      <td>1620.0</td>\n",
       "      <td>Adam,_Melchior_-_Vitae_Germanorum_medicorum__H...</td>\n",
       "      <td>1620.0</td>\n",
       "      <td>17961</td>\n",
       "      <td>193272</td>\n",
       "      <td>[Medicine]</td>\n",
       "      <td>life_sciences</td>\n",
       "    </tr>\n",
       "    <tr>\n",
       "      <th>4</th>\n",
       "      <td>Addison, Joseph</td>\n",
       "      <td>Ad insignissimum virum dominum Thomam Burnettu...</td>\n",
       "      <td>Examen poeticum duplex, sive, Musarum anglican...</td>\n",
       "      <td>1698</td>\n",
       "      <td>London</td>\n",
       "      <td>Richard Wellington I.</td>\n",
       "      <td>17th century</td>\n",
       "      <td>Panegyric poem</td>\n",
       "      <td>Meteorology/Earth sciences</td>\n",
       "      <td>Ad Burnettum sacrae theoriae telluris auctorem...</td>\n",
       "      <td>...</td>\n",
       "      <td>[769230]</td>\n",
       "      <td>769230</td>\n",
       "      <td>1698.0</td>\n",
       "      <td>1698.0</td>\n",
       "      <td>Examen_poeticum_duplex__London_1698_pdf.txt</td>\n",
       "      <td>1698.0</td>\n",
       "      <td>3533</td>\n",
       "      <td>47878</td>\n",
       "      <td>[Meteorology/Earth sciences]</td>\n",
       "      <td>exact_sciences</td>\n",
       "    </tr>\n",
       "  </tbody>\n",
       "</table>\n",
       "<p>5 rows × 30 columns</p>\n",
       "</div>"
      ],
      "text/plain": [
       "              Author                                         Full title  \\\n",
       "0  Achrelius, Daniel  Scientiarum magnes recitatus publice anno 1690...   \n",
       "1  Acidalius, Valens                 Ad Iordanum Brunum Nolanum, Italum   \n",
       "2    Acosta, José de  De natura novi orbis libri duo et De promulgat...   \n",
       "3     Adam, Melchior  Vitae Germanorum medicorum, qui saeculo superi...   \n",
       "4    Addison, Joseph  Ad insignissimum virum dominum Thomam Burnettu...   \n",
       "\n",
       "                                                  In  Year              Place  \\\n",
       "0                                               None  1690            [Turku]   \n",
       "1  Poematum Iani Lernutii, Iani Gulielmi, Valenti...  1603  Liegnitz, Wrocław   \n",
       "2                                               None  1589          Salamanca   \n",
       "3                                               None  1620         Heidelberg   \n",
       "4  Examen poeticum duplex, sive, Musarum anglican...  1698             London   \n",
       "\n",
       "       Publisher/Printer           Era      Form/Genre  \\\n",
       "0                   Wall  17th century         Oration   \n",
       "1          Albert, David  17th century  Panegyric poem   \n",
       "2       Guillelum Foquel  16th century       Monograph   \n",
       "3           Rosa, Geyder  17th century       Biography   \n",
       "4  Richard Wellington I.  17th century  Panegyric poem   \n",
       "\n",
       "                                  Discipline/Content  \\\n",
       "0  Mathematics, Astronomy/Astrology/Cosmography, ...   \n",
       "1                    Astronomy/Astrology/Cosmography   \n",
       "2  Astronomy/Astrology/Cosmography, Geography/Car...   \n",
       "3                                           Medicine   \n",
       "4                         Meteorology/Earth sciences   \n",
       "\n",
       "                                            Original  ...       ids      id  \\\n",
       "0                   Scientiarum magnes(Google Books)  ...  [705665]  705665   \n",
       "1  Ad Iordanum Brunum (1603)(CAMENA)Ad Iordanum B...  ...  [801745]  801745   \n",
       "2  De natura novi orbis(Biodiversity Heritage Lib...  ...  [713323]  713323   \n",
       "3  Vitae Germanorum medicorum(MDZ)Alternative lin...  ...  [693148]  693148   \n",
       "4  Ad Burnettum sacrae theoriae telluris auctorem...  ...  [769230]  769230   \n",
       "\n",
       "  date_min date_max                                           filename  \\\n",
       "0   1690.0   1690.0  Achrelius,_Daniel_-_Scientiarum_magnes__Turku_...   \n",
       "1   1603.0   1603.0  Janus_Lernutius_et_al__-_Poemata__Liegnitz_160...   \n",
       "2   1589.0   1589.0  Acosta,_José_de_-_De_natura_novi_orbis__Salama...   \n",
       "3   1620.0   1620.0  Adam,_Melchior_-_Vitae_Germanorum_medicorum__H...   \n",
       "4   1698.0   1698.0        Examen_poeticum_duplex__London_1698_pdf.txt   \n",
       "\n",
       "  file_year sents_n tokens_n  \\\n",
       "0    1690.0     630     8839   \n",
       "1    1603.0    6527    82445   \n",
       "2    1589.0    8905   170205   \n",
       "3    1620.0   17961   193272   \n",
       "4    1698.0    3533    47878   \n",
       "\n",
       "                                    disciplines_list   science_class  \n",
       "0  [Mathematics, Astronomy/Astrology/Cosmography,...         mixture  \n",
       "1                  [Astronomy/Astrology/Cosmography]  exact_sciences  \n",
       "2  [Astronomy/Astrology/Cosmography, Geography/Ca...  exact_sciences  \n",
       "3                                         [Medicine]   life_sciences  \n",
       "4                       [Meteorology/Earth sciences]  exact_sciences  \n",
       "\n",
       "[5 rows x 30 columns]"
      ]
     },
     "execution_count": 2,
     "metadata": {},
     "output_type": "execute_result"
    }
   ],
   "source": [
    "metadata_table_long = pd.read_json(\"../data/metadata_table_long.json\")\n",
    "metadata_table_long.head(5)"
   ]
  },
  {
   "cell_type": "code",
   "execution_count": 3,
   "id": "444e820a-c191-4a69-b6b6-4e9ec416a836",
   "metadata": {},
   "outputs": [
    {
     "data": {
      "text/html": [
       "<div>\n",
       "<style scoped>\n",
       "    .dataframe tbody tr th:only-of-type {\n",
       "        vertical-align: middle;\n",
       "    }\n",
       "\n",
       "    .dataframe tbody tr th {\n",
       "        vertical-align: top;\n",
       "    }\n",
       "\n",
       "    .dataframe thead th {\n",
       "        text-align: right;\n",
       "    }\n",
       "</style>\n",
       "<table border=\"1\" class=\"dataframe\">\n",
       "  <thead>\n",
       "    <tr style=\"text-align: right;\">\n",
       "      <th></th>\n",
       "      <th>word</th>\n",
       "      <th>1501-1550</th>\n",
       "      <th>1551-1600</th>\n",
       "      <th>1601-1650</th>\n",
       "      <th>1651-1700</th>\n",
       "      <th>mean</th>\n",
       "      <th>in_lila_embeddings</th>\n",
       "      <th>in_lasla</th>\n",
       "      <th>in_operamaiora</th>\n",
       "      <th>transl</th>\n",
       "    </tr>\n",
       "  </thead>\n",
       "  <tbody>\n",
       "    <tr>\n",
       "      <th>3299</th>\n",
       "      <td>dico</td>\n",
       "      <td>43255</td>\n",
       "      <td>122549</td>\n",
       "      <td>42457</td>\n",
       "      <td>72224</td>\n",
       "      <td>70121.25</td>\n",
       "      <td>True</td>\n",
       "      <td>True</td>\n",
       "      <td>True</td>\n",
       "      <td>say, call, tell</td>\n",
       "    </tr>\n",
       "    <tr>\n",
       "      <th>960</th>\n",
       "      <td>pars</td>\n",
       "      <td>33225</td>\n",
       "      <td>93059</td>\n",
       "      <td>44337</td>\n",
       "      <td>52385</td>\n",
       "      <td>55751.50</td>\n",
       "      <td>True</td>\n",
       "      <td>True</td>\n",
       "      <td>True</td>\n",
       "      <td>part</td>\n",
       "    </tr>\n",
       "    <tr>\n",
       "      <th>3871</th>\n",
       "      <td>possum</td>\n",
       "      <td>25029</td>\n",
       "      <td>82700</td>\n",
       "      <td>38391</td>\n",
       "      <td>76841</td>\n",
       "      <td>55740.25</td>\n",
       "      <td>True</td>\n",
       "      <td>True</td>\n",
       "      <td>True</td>\n",
       "      <td>be able, can</td>\n",
       "    </tr>\n",
       "    <tr>\n",
       "      <th>6039</th>\n",
       "      <td>habeo</td>\n",
       "      <td>31690</td>\n",
       "      <td>89199</td>\n",
       "      <td>39443</td>\n",
       "      <td>59770</td>\n",
       "      <td>55025.50</td>\n",
       "      <td>True</td>\n",
       "      <td>True</td>\n",
       "      <td>True</td>\n",
       "      <td>have, hold, possess, consider, think</td>\n",
       "    </tr>\n",
       "    <tr>\n",
       "      <th>2898</th>\n",
       "      <td>facio</td>\n",
       "      <td>31814</td>\n",
       "      <td>98524</td>\n",
       "      <td>36944</td>\n",
       "      <td>51438</td>\n",
       "      <td>54680.00</td>\n",
       "      <td>True</td>\n",
       "      <td>True</td>\n",
       "      <td>True</td>\n",
       "      <td>do, make, handle</td>\n",
       "    </tr>\n",
       "    <tr>\n",
       "      <th>5630</th>\n",
       "      <td>liber</td>\n",
       "      <td>39559</td>\n",
       "      <td>65900</td>\n",
       "      <td>38496</td>\n",
       "      <td>53100</td>\n",
       "      <td>49263.75</td>\n",
       "      <td>True</td>\n",
       "      <td>True</td>\n",
       "      <td>True</td>\n",
       "      <td>book, volume, inner bark of a tree, book, book</td>\n",
       "    </tr>\n",
       "    <tr>\n",
       "      <th>4259</th>\n",
       "      <td>res</td>\n",
       "      <td>29069</td>\n",
       "      <td>70669</td>\n",
       "      <td>28291</td>\n",
       "      <td>51565</td>\n",
       "      <td>44898.50</td>\n",
       "      <td>True</td>\n",
       "      <td>True</td>\n",
       "      <td>True</td>\n",
       "      <td>suddenly</td>\n",
       "    </tr>\n",
       "    <tr>\n",
       "      <th>1219</th>\n",
       "      <td>uideo</td>\n",
       "      <td>21536</td>\n",
       "      <td>59099</td>\n",
       "      <td>26372</td>\n",
       "      <td>50503</td>\n",
       "      <td>39377.50</td>\n",
       "      <td>True</td>\n",
       "      <td>True</td>\n",
       "      <td>True</td>\n",
       "      <td></td>\n",
       "    </tr>\n",
       "    <tr>\n",
       "      <th>5787</th>\n",
       "      <td>locus</td>\n",
       "      <td>23102</td>\n",
       "      <td>56782</td>\n",
       "      <td>31421</td>\n",
       "      <td>43680</td>\n",
       "      <td>38746.25</td>\n",
       "      <td>True</td>\n",
       "      <td>True</td>\n",
       "      <td>True</td>\n",
       "      <td>place, location</td>\n",
       "    </tr>\n",
       "    <tr>\n",
       "      <th>1257</th>\n",
       "      <td>corpus</td>\n",
       "      <td>16979</td>\n",
       "      <td>63171</td>\n",
       "      <td>22871</td>\n",
       "      <td>31938</td>\n",
       "      <td>33739.75</td>\n",
       "      <td>True</td>\n",
       "      <td>True</td>\n",
       "      <td>True</td>\n",
       "      <td>body, corpus</td>\n",
       "    </tr>\n",
       "    <tr>\n",
       "      <th>3514</th>\n",
       "      <td>dies</td>\n",
       "      <td>15785</td>\n",
       "      <td>44607</td>\n",
       "      <td>25850</td>\n",
       "      <td>44412</td>\n",
       "      <td>32663.50</td>\n",
       "      <td>True</td>\n",
       "      <td>True</td>\n",
       "      <td>True</td>\n",
       "      <td>(1.) Day (2.) day, Day, Diary (3.) Day</td>\n",
       "    </tr>\n",
       "    <tr>\n",
       "      <th>4985</th>\n",
       "      <td>do</td>\n",
       "      <td>17291</td>\n",
       "      <td>47879</td>\n",
       "      <td>25457</td>\n",
       "      <td>36720</td>\n",
       "      <td>31836.75</td>\n",
       "      <td>True</td>\n",
       "      <td>True</td>\n",
       "      <td>True</td>\n",
       "      <td>give, offer, grant</td>\n",
       "    </tr>\n",
       "    <tr>\n",
       "      <th>1879</th>\n",
       "      <td>primus</td>\n",
       "      <td>19306</td>\n",
       "      <td>52164</td>\n",
       "      <td>25164</td>\n",
       "      <td>27764</td>\n",
       "      <td>31099.50</td>\n",
       "      <td>True</td>\n",
       "      <td>True</td>\n",
       "      <td>True</td>\n",
       "      <td>first, foremost, chief, principal</td>\n",
       "    </tr>\n",
       "    <tr>\n",
       "      <th>1095</th>\n",
       "      <td>aqua</td>\n",
       "      <td>11747</td>\n",
       "      <td>41231</td>\n",
       "      <td>20765</td>\n",
       "      <td>34038</td>\n",
       "      <td>26945.25</td>\n",
       "      <td>True</td>\n",
       "      <td>True</td>\n",
       "      <td>True</td>\n",
       "      <td>get/fetch/bring water, be watered</td>\n",
       "    </tr>\n",
       "    <tr>\n",
       "      <th>6532</th>\n",
       "      <td>terra</td>\n",
       "      <td>14371</td>\n",
       "      <td>27580</td>\n",
       "      <td>26947</td>\n",
       "      <td>38857</td>\n",
       "      <td>26938.75</td>\n",
       "      <td>True</td>\n",
       "      <td>True</td>\n",
       "      <td>True</td>\n",
       "      <td>land, earth</td>\n",
       "    </tr>\n",
       "    <tr>\n",
       "      <th>6430</th>\n",
       "      <td>motus</td>\n",
       "      <td>11987</td>\n",
       "      <td>35310</td>\n",
       "      <td>24422</td>\n",
       "      <td>35870</td>\n",
       "      <td>26897.25</td>\n",
       "      <td>True</td>\n",
       "      <td>True</td>\n",
       "      <td>True</td>\n",
       "      <td>movement, motion, riot, commotion, disturbance...</td>\n",
       "    </tr>\n",
       "    <tr>\n",
       "      <th>2846</th>\n",
       "      <td>ratio</td>\n",
       "      <td>12519</td>\n",
       "      <td>42955</td>\n",
       "      <td>20567</td>\n",
       "      <td>31100</td>\n",
       "      <td>26785.25</td>\n",
       "      <td>True</td>\n",
       "      <td>True</td>\n",
       "      <td>True</td>\n",
       "      <td>reckoning, account, reason, judgement, conside...</td>\n",
       "    </tr>\n",
       "    <tr>\n",
       "      <th>2202</th>\n",
       "      <td>natura</td>\n",
       "      <td>13925</td>\n",
       "      <td>46648</td>\n",
       "      <td>17722</td>\n",
       "      <td>24288</td>\n",
       "      <td>25645.75</td>\n",
       "      <td>True</td>\n",
       "      <td>True</td>\n",
       "      <td>True</td>\n",
       "      <td>nature</td>\n",
       "    </tr>\n",
       "    <tr>\n",
       "      <th>1789</th>\n",
       "      <td>magnus</td>\n",
       "      <td>14494</td>\n",
       "      <td>39035</td>\n",
       "      <td>19243</td>\n",
       "      <td>26346</td>\n",
       "      <td>24779.50</td>\n",
       "      <td>True</td>\n",
       "      <td>True</td>\n",
       "      <td>True</td>\n",
       "      <td>big</td>\n",
       "    </tr>\n",
       "    <tr>\n",
       "      <th>4295</th>\n",
       "      <td>tempus</td>\n",
       "      <td>12875</td>\n",
       "      <td>32854</td>\n",
       "      <td>18432</td>\n",
       "      <td>30522</td>\n",
       "      <td>23670.75</td>\n",
       "      <td>True</td>\n",
       "      <td>True</td>\n",
       "      <td>True</td>\n",
       "      <td>time, occasion, opportunity, condition, right ...</td>\n",
       "    </tr>\n",
       "  </tbody>\n",
       "</table>\n",
       "</div>"
      ],
      "text/plain": [
       "        word  1501-1550  1551-1600  1601-1650  1651-1700      mean  \\\n",
       "3299    dico      43255     122549      42457      72224  70121.25   \n",
       "960     pars      33225      93059      44337      52385  55751.50   \n",
       "3871  possum      25029      82700      38391      76841  55740.25   \n",
       "6039   habeo      31690      89199      39443      59770  55025.50   \n",
       "2898   facio      31814      98524      36944      51438  54680.00   \n",
       "5630   liber      39559      65900      38496      53100  49263.75   \n",
       "4259     res      29069      70669      28291      51565  44898.50   \n",
       "1219   uideo      21536      59099      26372      50503  39377.50   \n",
       "5787   locus      23102      56782      31421      43680  38746.25   \n",
       "1257  corpus      16979      63171      22871      31938  33739.75   \n",
       "3514    dies      15785      44607      25850      44412  32663.50   \n",
       "4985      do      17291      47879      25457      36720  31836.75   \n",
       "1879  primus      19306      52164      25164      27764  31099.50   \n",
       "1095    aqua      11747      41231      20765      34038  26945.25   \n",
       "6532   terra      14371      27580      26947      38857  26938.75   \n",
       "6430   motus      11987      35310      24422      35870  26897.25   \n",
       "2846   ratio      12519      42955      20567      31100  26785.25   \n",
       "2202  natura      13925      46648      17722      24288  25645.75   \n",
       "1789  magnus      14494      39035      19243      26346  24779.50   \n",
       "4295  tempus      12875      32854      18432      30522  23670.75   \n",
       "\n",
       "      in_lila_embeddings  in_lasla  in_operamaiora  \\\n",
       "3299                True      True            True   \n",
       "960                 True      True            True   \n",
       "3871                True      True            True   \n",
       "6039                True      True            True   \n",
       "2898                True      True            True   \n",
       "5630                True      True            True   \n",
       "4259                True      True            True   \n",
       "1219                True      True            True   \n",
       "5787                True      True            True   \n",
       "1257                True      True            True   \n",
       "3514                True      True            True   \n",
       "4985                True      True            True   \n",
       "1879                True      True            True   \n",
       "1095                True      True            True   \n",
       "6532                True      True            True   \n",
       "6430                True      True            True   \n",
       "2846                True      True            True   \n",
       "2202                True      True            True   \n",
       "1789                True      True            True   \n",
       "4295                True      True            True   \n",
       "\n",
       "                                                 transl  \n",
       "3299                                    say, call, tell  \n",
       "960                                                part  \n",
       "3871                                       be able, can  \n",
       "6039               have, hold, possess, consider, think  \n",
       "2898                                   do, make, handle  \n",
       "5630     book, volume, inner bark of a tree, book, book  \n",
       "4259                                           suddenly  \n",
       "1219                                                     \n",
       "5787                                    place, location  \n",
       "1257                                       body, corpus  \n",
       "3514             (1.) Day (2.) day, Day, Diary (3.) Day  \n",
       "4985                                 give, offer, grant  \n",
       "1879                  first, foremost, chief, principal  \n",
       "1095                  get/fetch/bring water, be watered  \n",
       "6532                                        land, earth  \n",
       "6430  movement, motion, riot, commotion, disturbance...  \n",
       "2846  reckoning, account, reason, judgement, conside...  \n",
       "2202                                             nature  \n",
       "1789                                                big  \n",
       "4295  time, occasion, opportunity, condition, right ...  "
      ]
     },
     "execution_count": 3,
     "metadata": {},
     "output_type": "execute_result"
    }
   ],
   "source": [
    "filtered_vocab_df = pd.read_json(\"../data/filtered_vocab_df.json\")\n",
    "filtered_vocab_df.head(20)"
   ]
  },
  {
   "cell_type": "code",
   "execution_count": 4,
   "id": "47d9a51d920d7982",
   "metadata": {
    "ExecuteTime": {
     "end_time": "2023-12-01T14:39:00.420023Z",
     "start_time": "2023-12-01T14:39:00.416499Z"
    },
    "collapsed": false,
    "jupyter": {
     "outputs_hidden": false
    }
   },
   "outputs": [],
   "source": [
    "vocab_freqs = filtered_vocab_df.set_index(\"word\")[\"1601-1650\"].to_dict()"
   ]
  },
  {
   "cell_type": "markdown",
   "id": "647b565348777eb8",
   "metadata": {
    "collapsed": false,
    "jupyter": {
     "outputs_hidden": false
    }
   },
   "source": [
    "# FastText - development and testing"
   ]
  },
  {
   "cell_type": "code",
   "execution_count": 10,
   "id": "7b4b216c-cadc-48d1-910f-1ca9330c8562",
   "metadata": {},
   "outputs": [],
   "source": [
    "# a genrator for iteration without flooding the CPU\n",
    "class SentsCorpus:\n",
    "    def __iter__(self):\n",
    "        source_path = \"/srv/data/tome/noscemus/sents_data/\"\n",
    "        for id in ids:\n",
    "            f_sents_data = pickle.load(open(source_path + str(id) + \".pickle\", \"rb\"))\n",
    "            sents_n = len(f_sents_data)\n",
    "            tokens_n = 0\n",
    "            lemmata = []\n",
    "            for sent_data in f_sents_data:\n",
    "                tokens_n += len(sent_data[1])\n",
    "                sent_lemmata = [t[1] for t in sent_data[1] if t[2] in [\"NOUN\", \"VERB\", \"ADJ\", \"PROPN\"]]\n",
    "                sent_lemmata = [re.sub(\"\\W*|\\d*\", \"\", t) for t in sent_lemmata]\n",
    "                sent_lemmata = [l.lower() for l in sent_lemmata if len(l) > 1]\n",
    "                try:\n",
    "                    yield sent_lemmata\n",
    "                except:\n",
    "                    pass"
   ]
  },
  {
   "cell_type": "code",
   "execution_count": 7,
   "id": "44a3978460226a38",
   "metadata": {
    "ExecuteTime": {
     "end_time": "2023-12-01T14:39:03.015533Z",
     "start_time": "2023-12-01T14:39:03.003660Z"
    },
    "collapsed": false,
    "jupyter": {
     "outputs_hidden": false
    }
   },
   "outputs": [],
   "source": [
    "# a genrator for iteration without flooding the CPU\n",
    "class SentsCorpusBackup:\n",
    "    def __iter__(self):\n",
    "        for id in ids:\n",
    "            with open(\"../data/large_data/sents_lemmata/{}.txt\".format(str(id)), \"r\") as f:\n",
    "                sents_lemmata = [sent.strip().split() for sent in f.readlines()]\n",
    "            with open(\"../data/large_data/sents_pos/{}.txt\".format(str(id)), \"r\") as f:\n",
    "                sents_pos = [sent.strip().split() for sent in f.readlines()]\n",
    "            sents_lemmata_filtered = [] # initiate a new empty list for sentence lemmata filtered by POS tags \n",
    "            for n in range(len(sents_lemmata)):\n",
    "                try:\n",
    "                    pos_indices = [t[0] for t in enumerate(sents_pos[n]) if t[1] in [\"PROPN\", \"NOUN\",\"VERB\", \"ADJ\"]]\n",
    "                    sent_filtered = [sents_lemmata[n][i] for i in pos_indices]\n",
    "                    sent_filtered = [re.sub(\"\\W*|\\d*\", \"\", t) for t in sent_filtered]\n",
    "                    yield [t for t in sent_filtered if len(t)>1]\n",
    "                except:\n",
    "                    pass"
   ]
  },
  {
   "cell_type": "code",
   "execution_count": 12,
   "id": "2692044e0117bd93",
   "metadata": {
    "ExecuteTime": {
     "end_time": "2023-12-01T14:39:03.941146Z",
     "start_time": "2023-12-01T14:39:03.927411Z"
    },
    "collapsed": false,
    "jupyter": {
     "outputs_hidden": false
    }
   },
   "outputs": [],
   "source": [
    "# test with a small corpus from one decade\n",
    "ids = metadata_table_long[metadata_table_long[\"file_year\"].between(1601, 1610)][\"id\"]\n",
    "vocab_freqs = filtered_vocab_df.set_index(\"word\")[\"1601-1650\"].to_dict()\n",
    "corpus = SentsCorpus()"
   ]
  },
  {
   "cell_type": "code",
   "execution_count": 13,
   "id": "2d6c9ddd0849f254",
   "metadata": {
    "ExecuteTime": {
     "end_time": "2023-12-01T14:39:07.269376Z",
     "start_time": "2023-12-01T14:39:04.407192Z"
    },
    "collapsed": false,
    "jupyter": {
     "outputs_hidden": false
    }
   },
   "outputs": [
    {
     "data": {
      "text/plain": [
       "194843"
      ]
     },
     "execution_count": 13,
     "metadata": {},
     "output_type": "execute_result"
    }
   ],
   "source": [
    "# how many sentences are there in the small corpus?\n",
    "len([s for s in corpus])"
   ]
  },
  {
   "cell_type": "code",
   "execution_count": 14,
   "id": "77674fba-0d2e-4676-8167-a9d343864627",
   "metadata": {},
   "outputs": [
    {
     "name": "stdout",
     "output_type": "stream",
     "text": [
      "CPU times: user 4min 3s, sys: 2.24 s, total: 4min 5s\n",
      "Wall time: 1min 8s\n"
     ]
    },
    {
     "data": {
      "text/plain": [
       "(10942294, 16475280)"
      ]
     },
     "execution_count": 14,
     "metadata": {},
     "output_type": "execute_result"
    }
   ],
   "source": [
    "%%time\n",
    "# let's train the model\n",
    "model = FastText(vector_size=100, window=10, negative=25, ns_exponent=1, sg=1, epochs=15, workers=8, min_n=5)\n",
    "model.build_vocab_from_freq(word_freq=vocab_freqs)\n",
    "model.train(corpus, total_examples=len([s for s in corpus]), epochs=model.epochs)"
   ]
  },
  {
   "cell_type": "code",
   "execution_count": 18,
   "id": "f990e9b1-ba3e-4a95-9d84-ab8dbf7294b5",
   "metadata": {},
   "outputs": [
    {
     "data": {
      "text/plain": [
       "[('concentus', 0.6198955178260803),\n",
       " ('inuiolabilis', 0.5702183246612549),\n",
       " ('conuenientus', 0.5379429459571838),\n",
       " ('compositus', 0.5328949689865112),\n",
       " ('compositio', 0.5327402353286743),\n",
       " ('accentus', 0.5318533182144165),\n",
       " ('concessio', 0.5280140042304993),\n",
       " ('incompositus', 0.5252606868743896),\n",
       " ('compono', 0.5224994421005249),\n",
       " ('structura', 0.5185607075691223)]"
      ]
     },
     "execution_count": 18,
     "metadata": {},
     "output_type": "execute_result"
    }
   ],
   "source": [
    "# most similar words to harmonia\n",
    "model.wv.most_similar(\"harmonia\")"
   ]
  },
  {
   "cell_type": "markdown",
   "id": "7a74afe549bdbf12",
   "metadata": {
    "collapsed": false,
    "jupyter": {
     "outputs_hidden": false
    }
   },
   "source": [
    "# FastText - training the main models"
   ]
  },
  {
   "cell_type": "code",
   "execution_count": 20,
   "id": "2bbe8a3ebc3a637",
   "metadata": {
    "ExecuteTime": {
     "end_time": "2023-12-11T10:54:49.853889Z",
     "start_time": "2023-12-11T10:54:49.847614Z"
    },
    "collapsed": false,
    "jupyter": {
     "outputs_hidden": false
    }
   },
   "outputs": [],
   "source": [
    "os.mkdir(\"/srv/data/tome/noscemus/vectors/\")"
   ]
  },
  {
   "cell_type": "code",
   "execution_count": 21,
   "id": "34d32735e819f3aa",
   "metadata": {
    "ExecuteTime": {
     "end_time": "2023-12-01T14:39:26.135626Z",
     "start_time": "2023-12-01T14:39:26.118516Z"
    },
    "collapsed": false,
    "jupyter": {
     "outputs_hidden": false
    }
   },
   "outputs": [
    {
     "data": {
      "text/plain": [
       "Index(['1501-1550', '1551-1600', '1601-1650', '1651-1700'], dtype='object')"
      ]
     },
     "execution_count": 21,
     "metadata": {},
     "output_type": "execute_result"
    }
   ],
   "source": [
    "periods = [(1501, 1550),\n",
    "                      (1551, 1600),\n",
    "                      (1601, 1650),\n",
    "                      (1651, 1700)]\n",
    "periods_str = filtered_vocab_df.columns[1:5]\n",
    "periods_str"
   ]
  },
  {
   "cell_type": "code",
   "execution_count": 22,
   "id": "32e43f23118e0ee",
   "metadata": {
    "ExecuteTime": {
     "end_time": "2023-12-01T15:14:19.201836Z",
     "start_time": "2023-12-01T14:39:39.575093Z"
    },
    "collapsed": false,
    "jupyter": {
     "outputs_hidden": false
    }
   },
   "outputs": [
    {
     "name": "stdout",
     "output_type": "stream",
     "text": [
      "model for the period 1501-1550 successfully trained.\n",
      "model for the period 1551-1600 successfully trained.\n",
      "model for the period 1601-1650 successfully trained.\n",
      "model for the period 1651-1700 successfully trained.\n",
      "CPU times: user 2h 18min 39s, sys: 57.3 s, total: 2h 19min 37s\n",
      "Wall time: 40min 48s\n"
     ]
    }
   ],
   "source": [
    "%%time\n",
    "# main training of the models\n",
    "for per_tup, per_str in zip(periods, periods_str):\n",
    "    ids = metadata_table_long[metadata_table_long[\"file_year\"].between(per_tup[0], per_tup[1])][\"id\"]\n",
    "    vocab_freqs = filtered_vocab_df.set_index(\"word\")[per_str].to_dict()\n",
    "    corpus = SentsCorpus()\n",
    "    model = FastText(vector_size=100, window=10, negative=25, ns_exponent=1, sg=1, epochs=15, workers=32, min_n=5)\n",
    "    model.build_vocab_from_freq(word_freq=vocab_freqs)\n",
    "    model.train(corpus, total_examples=len([s for s in corpus]), epochs=model.epochs)\n",
    "    print(\"model for the period {} successfully trained.\".format(per_str))\n",
    "    model.wv.save(\"/srv/data/tome/noscemus/vectors/vectors_{}.wv\".format(per_str))"
   ]
  },
  {
   "cell_type": "code",
   "execution_count": 23,
   "id": "a53f5193283e0fa6",
   "metadata": {
    "ExecuteTime": {
     "end_time": "2023-12-11T10:57:23.743558Z",
     "start_time": "2023-12-11T10:55:28.580509Z"
    },
    "collapsed": false,
    "jupyter": {
     "outputs_hidden": false
    }
   },
   "outputs": [],
   "source": [
    "# if you want to upload the vectors to sciencedata:\n",
    "#shutil.make_archive(\"../data/large_data/vectors\", 'zip', \"../data/large_data/vectors\") #\n",
    "#s.s.put(\"https://sciencedata.dk/sharingout/kase%40zcu.cz/TOME/DATA/NOSCEMUS/vectors.zip\", data=open(\"../data/large_data/vectors.zip\", \"rb\"))\n",
    "# shutil.make_archive(\"../data/large_data/lila_vectors\", 'zip', \"../data/large_data/lila_vectors\") #\n",
    "# s.s.put(\"https://sciencedata.dk/sharingout/kase%40zcu.cz/TOME/DATA/NOSCEMUS/lila_vectors.zip\", data=open(\"../data/large_data/lila_vectors.zip\", \"rb\"))"
   ]
  },
  {
   "cell_type": "code",
   "execution_count": 26,
   "id": "4a18afb4d931ed98",
   "metadata": {
    "ExecuteTime": {
     "end_time": "2024-02-08T20:26:35.943701Z",
     "start_time": "2024-02-08T20:26:33.273335Z"
    }
   },
   "outputs": [],
   "source": [
    "periods_str = filtered_vocab_df.columns[1:5]\n",
    "vectors_dict = {\n",
    "    \"lasla\" : KeyedVectors.load_word2vec_format(\"/srv/data/lila/allLASLA-lemmi-fast-100-SKIP-win5-min5.vec\"),\n",
    "    \"operamaiora\" : KeyedVectors.load_word2vec_format(\"/srv/data/lila/opera-maiora-lemmas_skip_100.vec\")\n",
    "}\n",
    "for per_str in periods_str:\n",
    "    vectors_dict[per_str] = KeyedVectors.load(\"/srv/data/tome/noscemus/vectors/vectors_{}.wv\".format(per_str))"
   ]
  },
  {
   "cell_type": "code",
   "execution_count": 30,
   "id": "b05ee82239d8cf07",
   "metadata": {},
   "outputs": [],
   "source": [
    "with open(\"/srv/data/tome/noscemus/vectors/vectors_dict.pkl\", \"wb\") as file:\n",
    "    pickle.dump(vectors_dict, file)"
   ]
  },
  {
   "cell_type": "code",
   "execution_count": 28,
   "id": "32dd174616fd9702",
   "metadata": {
    "ExecuteTime": {
     "end_time": "2024-02-08T20:29:56.524765Z",
     "start_time": "2024-02-08T20:28:03.588579Z"
    }
   },
   "outputs": [],
   "source": [
    "#s.s.put(\"https://sciencedata.dk/sharingout/kase%40zcu.cz/TOME/DATA/NOSCEMUS/vectors_dict.pkl\", data=open(\"../data/large_data/vectors_dict.pkl\", \"rb\"))"
   ]
  },
  {
   "cell_type": "markdown",
   "id": "aa4f5001ff9752b1",
   "metadata": {},
   "source": [
    "# Compressing the vectors in vector_dict"
   ]
  },
  {
   "cell_type": "code",
   "execution_count": 42,
   "id": "958217ce5ed8e2ab",
   "metadata": {
    "ExecuteTime": {
     "end_time": "2024-04-17T09:08:36.047425Z",
     "start_time": "2024-04-17T09:08:34.597313Z"
    }
   },
   "outputs": [],
   "source": [
    "#with open(\"/srv/data/tome/noscemus/vectors/vectors_dict.pkl\", \"rb\") as file:\n",
    "#    vectors_dict = pickle.load(file)"
   ]
  },
  {
   "cell_type": "code",
   "execution_count": 36,
   "id": "3a2a27022b384438",
   "metadata": {
    "ExecuteTime": {
     "end_time": "2024-04-17T09:11:58.578909Z",
     "start_time": "2024-04-17T09:11:56.882385Z"
    }
   },
   "outputs": [],
   "source": [
    "key = \"1601-1650\"\n",
    "model = vectors_dict[key]\n",
    "\n",
    "word_vectors = model.vectors\n",
    "vocabulary = model.index_to_key\n",
    "kv = KeyedVectors(vector_size=word_vectors.shape[1])\n",
    "\n",
    "# Fill the keyed vectors\n",
    "for word, vector in zip(vocabulary, word_vectors):\n",
    "    kv.add_vector(word, vector)"
   ]
  },
  {
   "cell_type": "code",
   "execution_count": 37,
   "id": "dccbf5b479884e26",
   "metadata": {
    "ExecuteTime": {
     "end_time": "2024-04-17T09:11:59.073726Z",
     "start_time": "2024-04-17T09:11:59.039329Z"
    }
   },
   "outputs": [
    {
     "data": {
      "text/plain": [
       "[('animo', 0.7404363751411438),\n",
       " ('uiuo', 0.7070033550262451),\n",
       " ('semen', 0.6555984616279602),\n",
       " ('forma', 0.6430976986885071),\n",
       " ('immortalis', 0.6415685415267944),\n",
       " ('materia', 0.6383398771286011),\n",
       " ('animal', 0.6124547123908997),\n",
       " ('generatio', 0.6117553114891052),\n",
       " ('uitalis', 0.6035860776901245),\n",
       " ('animalis', 0.5980802178382874)]"
      ]
     },
     "execution_count": 37,
     "metadata": {},
     "output_type": "execute_result"
    }
   ],
   "source": [
    "model.most_similar(\"anima\")"
   ]
  },
  {
   "cell_type": "code",
   "execution_count": 39,
   "id": "94e469a88de4ece3",
   "metadata": {
    "ExecuteTime": {
     "end_time": "2024-04-17T09:23:26.275427Z",
     "start_time": "2024-04-17T09:23:22.580824Z"
    }
   },
   "outputs": [],
   "source": [
    "vectors_dict_comp = {}\n",
    "for key in vectors_dict.keys():\n",
    "    word_vectors = vectors_dict[key].vectors\n",
    "    vocabulary = vectors_dict[key].index_to_key\n",
    "    kv = KeyedVectors(vector_size=word_vectors.shape[1])\n",
    "    # Fill the keyed vectors\n",
    "    for word, vector in zip(vocabulary, word_vectors):\n",
    "        kv.add_vector(word, vector)\n",
    "    vectors_dict_comp[key] = kv"
   ]
  },
  {
   "cell_type": "code",
   "execution_count": 40,
   "id": "6e6771dfaccee73b",
   "metadata": {
    "ExecuteTime": {
     "end_time": "2024-04-17T09:23:30.827091Z",
     "start_time": "2024-04-17T09:23:30.822847Z"
    }
   },
   "outputs": [
    {
     "data": {
      "text/plain": [
       "dict_keys(['lasla', 'operamaiora', '1501-1550', '1551-1600', '1601-1650', '1651-1700'])"
      ]
     },
     "execution_count": 40,
     "metadata": {},
     "output_type": "execute_result"
    }
   ],
   "source": [
    "vectors_dict_comp.keys()"
   ]
  },
  {
   "cell_type": "code",
   "execution_count": 41,
   "id": "dce6ca93f34c6bf5",
   "metadata": {
    "ExecuteTime": {
     "end_time": "2024-04-17T09:23:32.587336Z",
     "start_time": "2024-04-17T09:23:32.569531Z"
    }
   },
   "outputs": [
    {
     "data": {
      "text/plain": [
       "[('cognitio', 0.7737149000167847),\n",
       " ('mathematica', 0.755704402923584),\n",
       " ('philosophia', 0.6898273825645447),\n",
       " ('disciplina', 0.6702460646629333),\n",
       " ('ars', 0.647391676902771),\n",
       " ('doctrina', 0.6472513675689697),\n",
       " ('sapientia', 0.6469572186470032),\n",
       " ('necessarius', 0.6430428624153137),\n",
       " ('mathematicus', 0.6296356916427612),\n",
       " ('geometria', 0.6173121333122253)]"
      ]
     },
     "execution_count": 41,
     "metadata": {},
     "output_type": "execute_result"
    }
   ],
   "source": [
    "vectors_dict_comp[\"1501-1550\"].most_similar(\"scientia\")"
   ]
  },
  {
   "cell_type": "code",
   "execution_count": 43,
   "id": "91a783ac9d1e3d03",
   "metadata": {
    "ExecuteTime": {
     "end_time": "2024-04-17T09:23:36.987767Z",
     "start_time": "2024-04-17T09:23:36.969390Z"
    }
   },
   "outputs": [],
   "source": [
    "with open(\"/srv/data/tome/noscemus/vectors/vectors_dict_comp.pkl\", \"wb\") as file:\n",
    "    pickle.dump(vectors_dict_comp, file)"
   ]
  }
 ],
 "metadata": {
  "kernelspec": {
   "display_name": "latin_global_kernel",
   "language": "python",
   "name": "latin_global_kernel"
  },
  "language_info": {
   "codemirror_mode": {
    "name": "ipython",
    "version": 3
   },
   "file_extension": ".py",
   "mimetype": "text/x-python",
   "name": "python",
   "nbconvert_exporter": "python",
   "pygments_lexer": "ipython3",
   "version": "3.10.12"
  }
 },
 "nbformat": 4,
 "nbformat_minor": 5
}
