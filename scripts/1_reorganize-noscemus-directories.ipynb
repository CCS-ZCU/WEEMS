{
 "cells": [
  {
   "cell_type": "markdown",
   "id": "87768ea609bf6d1b",
   "metadata": {
    "collapsed": false,
    "jupyter": {
     "outputs_hidden": false
    }
   },
   "source": [
    "# Description\n",
    "The textual data, as we obtained them from the developers of Noscemus, have the structure that each individual work is represented by a singular text file with the name of the author, name of the work, and place and year of publication (e.g. `Bacon,_Francis_-_Instauratio_magna__London_1620.pdf.txt`). Within the original folder structure, each of these works is contained in is in its own directory, named by its \"Digital sourcebook\" ID (e.g. `1031760`). This makes any iteration over the text files not that much straightforward. Therefore, in this notebook, we reorganize and rename the files in the way that we create one big directory, in which each work is represented by one text file named by its ID `1031760.txt`. These IDs we can later on easily map on the metadata. \n",
    "\n",
    "INPUT: \"NOSCEMUS_FULL\" subdirectory on sciencedata (raw data as we got them from noscemus)\n",
    "OUTPUT: \"noscemus_raw\" subdirectory on sciencedata (reorganized raw data files from noscemus)\n",
    "OUTPUT: \"../data/ids_filenames_df.csv\" table mapping on each othe the \"Digital sourcebook\" IDs (e.g. `1031760`) and original names of the raw text files (e.g. `Bacon,_Francis_-_Instauratio_magna__London_1620.pdf.txt`) - we later map it on other metadata\n"
   ]
  },
  {
   "cell_type": "code",
   "execution_count": 4,
   "id": "b77bbb44a71d1ae8",
   "metadata": {
    "ExecuteTime": {
     "end_time": "2024-07-26T10:34:17.016167Z",
     "start_time": "2024-07-26T10:34:17.012958Z"
    },
    "collapsed": false,
    "jupyter": {
     "outputs_hidden": false
    }
   },
   "outputs": [],
   "source": [
    "import pandas as pd\n",
    "import sddk\n",
    "import os"
   ]
  },
  {
   "cell_type": "code",
   "execution_count": 2,
   "id": "a3923178bf8adcb1",
   "metadata": {
    "ExecuteTime": {
     "end_time": "2023-12-19T09:00:19.089979Z",
     "start_time": "2023-12-19T08:58:19.174561Z"
    },
    "collapsed": false,
    "jupyter": {
     "outputs_hidden": false
    }
   },
   "outputs": [],
   "source": [
    "# we keep the data on a shared folder on sciencedata.dk\n",
    "# to go through that step, you have to have a) a sciencedata.dk account and b) access to the TOME directory\n",
    "# s = sddk.cloudSession(provider=\"sciencedata.dk\", shared_folder_name=\"TOME/DATA/NOSCEMUS\", owner=\"kase@zcu.cz\")"
   ]
  },
  {
   "cell_type": "code",
   "execution_count": 8,
   "id": "7b37c875ea1222",
   "metadata": {
    "ExecuteTime": {
     "end_time": "2023-11-02T08:23:09.356641Z",
     "start_time": "2023-11-02T08:23:08.311399Z"
    },
    "collapsed": false,
    "jupyter": {
     "outputs_hidden": false
    }
   },
   "outputs": [],
   "source": [
    "# in the \"NOSCEMUS_FULL\" directory we got, each individual work is in its own directory (named by its ID), what makes the navigation not that much straightforward\n",
    "# there\n",
    "# dir_ids_list = s.list_directories(\"NOSCEMUS_FULL/\")\n",
    "# dir_ids_list[:10]"
   ]
  },
  {
   "cell_type": "code",
   "execution_count": 9,
   "id": "30515bc5-d3d4-41e0-8c7f-f632865499df",
   "metadata": {},
   "outputs": [
    {
     "data": {
      "text/plain": [
       "['902259',\n",
       " '841474',\n",
       " '659199',\n",
       " '697193',\n",
       " '897258',\n",
       " '662869',\n",
       " '845319',\n",
       " '905698',\n",
       " '929376',\n",
       " '660341']"
      ]
     },
     "execution_count": 9,
     "metadata": {},
     "output_type": "execute_result"
    }
   ],
   "source": [
    "local_path = \"/srv/data/tome/noscemus/NOSCEMUS FULL\"\n",
    "dir_ids_list = os.listdir(local_path)\n",
    "dir_ids_list[:10]"
   ]
  },
  {
   "cell_type": "code",
   "execution_count": 46,
   "id": "70987a1628edb1a7",
   "metadata": {
    "ExecuteTime": {
     "end_time": "2023-11-02T12:04:44.099478Z",
     "start_time": "2023-11-02T12:04:44.093098Z"
    },
    "collapsed": false,
    "jupyter": {
     "outputs_hidden": false
    }
   },
   "outputs": [
    {
     "data": {
      "text/plain": [
       "1010"
      ]
     },
     "execution_count": 46,
     "metadata": {},
     "output_type": "execute_result"
    }
   ],
   "source": [
    "len(dir_ids_list)"
   ]
  },
  {
   "cell_type": "code",
   "execution_count": 10,
   "id": "2ef721fa-d741-49b9-8cd3-d0ee4658d1e1",
   "metadata": {},
   "outputs": [
    {
     "name": "stdout",
     "output_type": "stream",
     "text": [
      "CPU times: user 8.37 ms, sys: 4.25 ms, total: 12.6 ms\n",
      "Wall time: 11.8 ms\n"
     ]
    }
   ],
   "source": [
    "%%time\n",
    "# map ids on filenames\n",
    "ids_filenames = []\n",
    "for id in dir_ids_list:\n",
    "    id_filenames = []\n",
    "    for filename in os.listdir(local_path + \"/\" + id):\n",
    "        if \".txt\" in filename:\n",
    "            id_filenames.append(filename)\n",
    "    ids_filenames.append((id, id_filenames))"
   ]
  },
  {
   "cell_type": "code",
   "execution_count": 8,
   "id": "3af1a9ee225851b",
   "metadata": {
    "ExecuteTime": {
     "end_time": "2023-11-03T08:55:46.671759Z",
     "start_time": "2023-11-03T08:49:58.649104Z"
    },
    "collapsed": false,
    "jupyter": {
     "outputs_hidden": false
    }
   },
   "outputs": [
    {
     "name": "stdout",
     "output_type": "stream",
     "text": [
      "CPU times: user 6.44 s, sys: 54.8 ms, total: 6.5 s\n",
      "Wall time: 4min 21s\n"
     ]
    }
   ],
   "source": [
    "%%time\n",
    "# with sciencedata...\n",
    "# map ids on filenames\n",
    "#ids_filenames = []\n",
    "#for id in dir_ids_list:\n",
    "#    id_filenames = []\n",
    "#    for filename in s.list_filenames(\"NOSCEMUS_FULL/\" + id, \"txt\"):\n",
    "#        id_filenames.append(filename)\n",
    "#    ids_filenames.append((id, id_filenames))"
   ]
  },
  {
   "cell_type": "code",
   "execution_count": 14,
   "id": "52987b96-e88e-41a0-b084-6af79ed35c84",
   "metadata": {},
   "outputs": [
    {
     "data": {
      "text/plain": [
       "[('902259',\n",
       "  ['Metz,_Andreas_-_De_adaequata_exponentis_notione__Würzburg_1820_pdf.txt']),\n",
       " ('841474',\n",
       "  ['Hippocrates_&_Galenus,_&_Cruser,_Hermann_-_Hippocratis_De_natura_humana_liber_cum_commentariis_Galeni__Paris_1534_pdf.txt']),\n",
       " ('659199',\n",
       "  ['Radius,_Justus_-_Scriptores_ophthalmologici_minores__Vol__3__Leipzig_1830_pdf.txt']),\n",
       " ('697193',\n",
       "  ['Jussieu,_Antoine_Laurent_de_-_Genera_plantarum_secundum_ordines_naturales_disposita__Paris_1789_pdf.txt']),\n",
       " ('897258', ['Fehr,_Johann_Michael_-_Hiera_picra__Leipzig_1668_pdf.txt']),\n",
       " ('662869',\n",
       "  ['Kies,_Johann_-_Dissertatio_physica_de_iride__Tübingen_1772_pdf.txt']),\n",
       " ('845319',\n",
       "  ['Scheiner,_Christoph_-_Refractiones_coelestes__Ingolstadt_1617_pdf.txt']),\n",
       " ('905698', ['Stansel,_Valentin_-_Legatus_uranicus__Prague_1683_pdf.txt']),\n",
       " ('929376', ['Gassendi,_Pierre_-_Opera_omnia__Vol__5__Lyon_1658_pdf.txt']),\n",
       " ('660341',\n",
       "  ['Regiomontanus,_Johannes_-_Disputationes_contra_Cremonensia_deliramenta__Nuremberg_1475_pdf.txt'])]"
      ]
     },
     "execution_count": 14,
     "metadata": {},
     "output_type": "execute_result"
    }
   ],
   "source": [
    "ids_filenames[:10]"
   ]
  },
  {
   "cell_type": "code",
   "execution_count": 15,
   "id": "365f4bed33f2e52",
   "metadata": {
    "ExecuteTime": {
     "end_time": "2023-11-03T08:58:00.281130Z",
     "start_time": "2023-11-03T08:58:00.279805Z"
    },
    "collapsed": false,
    "jupyter": {
     "outputs_hidden": false
    }
   },
   "outputs": [],
   "source": [
    "# make a dataframe of ids and filenames\n",
    "ids_filenames_df = pd.DataFrame(ids_filenames, columns=[\"id\", \"filenames_list\"])"
   ]
  },
  {
   "cell_type": "code",
   "execution_count": 3,
   "id": "9be5ab81075bf163",
   "metadata": {
    "ExecuteTime": {
     "end_time": "2024-07-26T10:36:15.931204Z",
     "start_time": "2024-07-26T10:36:15.929038Z"
    },
    "collapsed": false,
    "jupyter": {
     "outputs_hidden": false
    }
   },
   "outputs": [],
   "source": [
    "ids_filenames_df.to_csv(\"../data/ids_filenames_df.csv\")"
   ]
  },
  {
   "cell_type": "code",
   "execution_count": null,
   "id": "570f6a99-836a-4e38-9965-e4527ca74466",
   "metadata": {},
   "outputs": [],
   "source": []
  },
  {
   "cell_type": "code",
   "execution_count": 35,
   "id": "e7f37f22-20fd-4c9b-879b-3db0241972f1",
   "metadata": {},
   "outputs": [],
   "source": [
    "target_path = \"/srv/data/tome/noscemus/noscemus_raw/\"\n",
    "try:\n",
    "    os.mkdir(target_path)\n",
    "except:\n",
    "    pass"
   ]
  },
  {
   "cell_type": "code",
   "execution_count": 33,
   "id": "a5ad6d05-f723-4827-a22c-6c34c0538e21",
   "metadata": {},
   "outputs": [
    {
     "data": {
      "text/plain": [
       "['NOSCEMUS FULL', 'NOSCEMUS_FULL.zip']"
      ]
     },
     "execution_count": 33,
     "metadata": {},
     "output_type": "execute_result"
    }
   ],
   "source": [
    "os.listdir(\"/srv/data/tome/noscemus/\")"
   ]
  },
  {
   "cell_type": "code",
   "execution_count": 29,
   "id": "c9178471-6d4a-41dc-8744-1526f5d4c08f",
   "metadata": {},
   "outputs": [],
   "source": [
    "source_path = \"/srv/data/tome/noscemus/NOSCEMUS FULL/\""
   ]
  },
  {
   "cell_type": "code",
   "execution_count": 48,
   "id": "6c38e9f4-5c8b-4609-a69d-9f314b8e98b8",
   "metadata": {},
   "outputs": [],
   "source": [
    "for id in dir_ids_list:\n",
    "    try:\n",
    "        filename = [f for f in os.listdir(source_path + id) if \".txt\" in f][0]\n",
    "        shutil.copyfile(source_path + id + \"/\" + filename, target_path + id + \".txt\")\n",
    "    except:\n",
    "        pass"
   ]
  },
  {
   "cell_type": "code",
   "execution_count": null,
   "id": "55538e39-4cad-43e7-9559-0d4b2bf02770",
   "metadata": {},
   "outputs": [],
   "source": []
  },
  {
   "cell_type": "code",
   "execution_count": 49,
   "id": "31033fed-47bc-4f78-8c04-366c84e69fc1",
   "metadata": {},
   "outputs": [
    {
     "data": {
      "text/plain": [
       "['913059.txt',\n",
       " '801742.txt',\n",
       " '888136.txt',\n",
       " '720097.txt',\n",
       " '663952.txt',\n",
       " '694621.txt',\n",
       " '868572.txt',\n",
       " '664562.txt',\n",
       " '747384.txt',\n",
       " '795562.txt']"
      ]
     },
     "execution_count": 49,
     "metadata": {},
     "output_type": "execute_result"
    }
   ],
   "source": [
    "os.listdir(target_path)[:10]"
   ]
  },
  {
   "cell_type": "code",
   "execution_count": null,
   "id": "c413151e-3b27-42c4-9fbe-6d5d4480978b",
   "metadata": {},
   "outputs": [],
   "source": [
    "os.listdir(target_path)"
   ]
  }
 ],
 "metadata": {
  "kernelspec": {
   "display_name": "latin_global_kernel",
   "language": "python",
   "name": "latin_global_kernel"
  },
  "language_info": {
   "codemirror_mode": {
    "name": "ipython",
    "version": 3
   },
   "file_extension": ".py",
   "mimetype": "text/x-python",
   "name": "python",
   "nbconvert_exporter": "python",
   "pygments_lexer": "ipython3",
   "version": "3.10.12"
  }
 },
 "nbformat": 4,
 "nbformat_minor": 5
}
