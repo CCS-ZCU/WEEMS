{
 "cells": [
  {
   "cell_type": "markdown",
   "source": [
    "# Description\n",
    "The textual data, as we obtained them from the developers of Noscemus, have the structure that each individual work is represented by a singular text file with the name of the author, name of the work, and place and year of publication (e.g. `Bacon,_Francis_-_Instauratio_magna__London_1620.pdf.txt`). Within the original folder structure, each of these works is contained in is in its own directory, named by its \"Digital sourcebook\" ID (e.g. `1031760`). This makes any iteration over the text files not that much straightforward. Therefore, in this notebook, we reorganize and rename the files in the way that we create one big directory, in which each work is represented by one text file named by its ID `1031760.txt`. These IDs we can later on easily map on the metadata. \n",
    "\n",
    "INPUT: \"NOSCEMUS_FULL\" subdirectory on sciencedata (raw data as we got them from noscemus)\n",
    "OUTPUT: \"noscemus_raw\" subdirectory on sciencedata (reorganized raw data files from noscemus)\n",
    "OUTPUT: \"../data/ids_filenames_df.csv\" table mapping on each othe the \"Digital sourcebook\" IDs (e.g. `1031760`) and original names of the raw text files (e.g. `Bacon,_Francis_-_Instauratio_magna__London_1620.pdf.txt`) - we later map it on other metadata\n"
   ],
   "metadata": {
    "collapsed": false
   },
   "id": "87768ea609bf6d1b"
  },
  {
   "cell_type": "code",
   "execution_count": 1,
   "outputs": [],
   "source": [
    "import pandas as pd\n",
    "import sddk"
   ],
   "metadata": {
    "collapsed": false,
    "ExecuteTime": {
     "end_time": "2023-12-19T08:58:19.173566Z",
     "start_time": "2023-12-19T08:58:18.580900Z"
    }
   },
   "id": "b77bbb44a71d1ae8"
  },
  {
   "cell_type": "code",
   "execution_count": 2,
   "outputs": [
    {
     "name": "stdout",
     "output_type": "stream",
     "text": [
      "connection with shared folder established with you as its ordinary user\n",
      "endpoint variable has been configured to: https://sciencedata.dk/sharingout/kase%40zcu.cz/TOME/DATA/NOSCEMUS/\n"
     ]
    }
   ],
   "source": [
    "# we keep the data on a shared folder on sciencedata.dk\n",
    "s = sddk.cloudSession(provider=\"sciencedata.dk\", shared_folder_name=\"TOME/DATA/NOSCEMUS\", owner=\"kase@zcu.cz\")"
   ],
   "metadata": {
    "collapsed": false,
    "ExecuteTime": {
     "end_time": "2023-12-19T09:00:19.089979Z",
     "start_time": "2023-12-19T08:58:19.174561Z"
    }
   },
   "id": "a3923178bf8adcb1"
  },
  {
   "cell_type": "code",
   "execution_count": 6,
   "outputs": [
    {
     "data": {
      "text/plain": "['1031760',\n '1085290',\n '1285853',\n '1285854',\n '1285855',\n '1285856',\n '1365811',\n '1370560',\n '1378359',\n '1424044']"
     },
     "execution_count": 6,
     "metadata": {},
     "output_type": "execute_result"
    }
   ],
   "source": [
    "# in the \"NOSCEMUS_FULL\" directory we got, each individual work is in its own directory (named by its ID), what makes the navigation not that much straightforward\n",
    "# there\n",
    "\n",
    "dir_ids_list = s.list_directories(\"NOSCEMUS_FULL/\")\n",
    "dir_ids_list[:10]"
   ],
   "metadata": {
    "collapsed": false,
    "ExecuteTime": {
     "end_time": "2023-11-02T08:23:09.356641Z",
     "start_time": "2023-11-02T08:23:08.311399Z"
    }
   },
   "id": "7b37c875ea1222"
  },
  {
   "cell_type": "code",
   "execution_count": 9,
   "outputs": [
    {
     "data": {
      "text/plain": "1009"
     },
     "execution_count": 9,
     "metadata": {},
     "output_type": "execute_result"
    }
   ],
   "source": [
    "len(dir_ids_list)"
   ],
   "metadata": {
    "collapsed": false,
    "ExecuteTime": {
     "end_time": "2023-11-02T12:04:44.099478Z",
     "start_time": "2023-11-02T12:04:44.093098Z"
    }
   },
   "id": "70987a1628edb1a7"
  },
  {
   "cell_type": "code",
   "execution_count": 13,
   "outputs": [
    {
     "name": "stdout",
     "output_type": "stream",
     "text": [
      "CPU times: user 9.23 s, sys: 360 ms, total: 9.59 s\n",
      "Wall time: 5min 48s\n"
     ]
    }
   ],
   "source": [
    "%%time\n",
    "# map ids on filenames\n",
    "ids_filenames = []\n",
    "for id in dir_ids_list:\n",
    "    id_filenames = []\n",
    "    for filename in s.list_filenames(\"NOSCEMUS_FULL/\" + id, \"txt\"):\n",
    "        id_filenames.append(filename)\n",
    "    ids_filenames.append((id, id_filenames))"
   ],
   "metadata": {
    "collapsed": false,
    "ExecuteTime": {
     "end_time": "2023-11-03T08:55:46.671759Z",
     "start_time": "2023-11-03T08:49:58.649104Z"
    }
   },
   "id": "3af1a9ee225851b"
  },
  {
   "cell_type": "code",
   "execution_count": 14,
   "outputs": [],
   "source": [
    "# make a dataframe of ids and filenames\n",
    "ids_filenames_df = pd.DataFrame(ids_filenames, columns=[\"id\", \"filenames_list\"])"
   ],
   "metadata": {
    "collapsed": false,
    "ExecuteTime": {
     "end_time": "2023-11-03T08:58:00.281130Z",
     "start_time": "2023-11-03T08:58:00.279805Z"
    }
   },
   "id": "365f4bed33f2e52"
  },
  {
   "cell_type": "code",
   "execution_count": 1,
   "outputs": [
    {
     "ename": "NameError",
     "evalue": "name 'ids_filenames_df' is not defined",
     "output_type": "error",
     "traceback": [
      "\u001B[0;31m---------------------------------------------------------------------------\u001B[0m",
      "\u001B[0;31mNameError\u001B[0m                                 Traceback (most recent call last)",
      "Cell \u001B[0;32mIn[1], line 1\u001B[0m\n\u001B[0;32m----> 1\u001B[0m \u001B[43mids_filenames_df\u001B[49m\u001B[38;5;241m.\u001B[39mto_csv(\u001B[38;5;124m\"\u001B[39m\u001B[38;5;124m../data/ids_filenames_df.csv\u001B[39m\u001B[38;5;124m\"\u001B[39m)\n",
      "\u001B[0;31mNameError\u001B[0m: name 'ids_filenames_df' is not defined"
     ]
    }
   ],
   "source": [
    "ids_filenames_df.to_csv(\"../data/ids_filenames_df.csv\")"
   ],
   "metadata": {
    "collapsed": false,
    "ExecuteTime": {
     "end_time": "2023-11-30T09:52:08.352527Z",
     "start_time": "2023-11-30T09:52:08.254291Z"
    }
   },
   "id": "9be5ab81075bf163"
  },
  {
   "cell_type": "code",
   "execution_count": 16,
   "outputs": [
    {
     "data": {
      "text/plain": "           id                                     filenames_list\n0     1031760  [Bacon,_Francis_-_Instauratio_magna__London_16...\n1     1085290  [Linden,_Johannes_Antonides_van_der_-_Lindeniu...\n2     1285853  [de_Conde,_Ioannes_Baptista_-_Aphorismi_seu_ax...\n3     1285854  [van_Poort,_Henricus_-_Hippocratis_Aphorismi_m...\n4     1285855  [Hippocrates_&_Denisot,_Gérard_-_Hippocratis_A...\n...       ...                                                ...\n1004   929714  [Merian,_Maria_Sibylla_-_Metamorphosis_insecto...\n1005   933014  [Trotter,_Thomas_-_Dissertatio_de_ebrietate__E...\n1006   949394  [Botallo,_Leonardo_-_De_curandis_vulneribus_sc...\n1007   971293  [Béguin,_Jean_-_Tyrocinium_chymicum__Paris_161...\n1008   985903  [Kepler,_Johannes_-_Nova_stereometria_doliorum...\n\n[1009 rows x 2 columns]",
      "text/html": "<div>\n<style scoped>\n    .dataframe tbody tr th:only-of-type {\n        vertical-align: middle;\n    }\n\n    .dataframe tbody tr th {\n        vertical-align: top;\n    }\n\n    .dataframe thead th {\n        text-align: right;\n    }\n</style>\n<table border=\"1\" class=\"dataframe\">\n  <thead>\n    <tr style=\"text-align: right;\">\n      <th></th>\n      <th>id</th>\n      <th>filenames_list</th>\n    </tr>\n  </thead>\n  <tbody>\n    <tr>\n      <th>0</th>\n      <td>1031760</td>\n      <td>[Bacon,_Francis_-_Instauratio_magna__London_16...</td>\n    </tr>\n    <tr>\n      <th>1</th>\n      <td>1085290</td>\n      <td>[Linden,_Johannes_Antonides_van_der_-_Lindeniu...</td>\n    </tr>\n    <tr>\n      <th>2</th>\n      <td>1285853</td>\n      <td>[de_Conde,_Ioannes_Baptista_-_Aphorismi_seu_ax...</td>\n    </tr>\n    <tr>\n      <th>3</th>\n      <td>1285854</td>\n      <td>[van_Poort,_Henricus_-_Hippocratis_Aphorismi_m...</td>\n    </tr>\n    <tr>\n      <th>4</th>\n      <td>1285855</td>\n      <td>[Hippocrates_&amp;_Denisot,_Gérard_-_Hippocratis_A...</td>\n    </tr>\n    <tr>\n      <th>...</th>\n      <td>...</td>\n      <td>...</td>\n    </tr>\n    <tr>\n      <th>1004</th>\n      <td>929714</td>\n      <td>[Merian,_Maria_Sibylla_-_Metamorphosis_insecto...</td>\n    </tr>\n    <tr>\n      <th>1005</th>\n      <td>933014</td>\n      <td>[Trotter,_Thomas_-_Dissertatio_de_ebrietate__E...</td>\n    </tr>\n    <tr>\n      <th>1006</th>\n      <td>949394</td>\n      <td>[Botallo,_Leonardo_-_De_curandis_vulneribus_sc...</td>\n    </tr>\n    <tr>\n      <th>1007</th>\n      <td>971293</td>\n      <td>[Béguin,_Jean_-_Tyrocinium_chymicum__Paris_161...</td>\n    </tr>\n    <tr>\n      <th>1008</th>\n      <td>985903</td>\n      <td>[Kepler,_Johannes_-_Nova_stereometria_doliorum...</td>\n    </tr>\n  </tbody>\n</table>\n<p>1009 rows × 2 columns</p>\n</div>"
     },
     "execution_count": 16,
     "metadata": {},
     "output_type": "execute_result"
    }
   ],
   "source": [
    "ids_filenames_df"
   ],
   "metadata": {
    "collapsed": false,
    "ExecuteTime": {
     "end_time": "2023-11-03T08:58:08.502759Z",
     "start_time": "2023-11-03T08:58:08.447260Z"
    }
   },
   "id": "6e7ea2c0372ef583"
  },
  {
   "cell_type": "code",
   "execution_count": 18,
   "outputs": [],
   "source": [
    "filenames_ids_dict = {}\n",
    "missing_ids = []\n",
    "for id in dir_ids_list:\n",
    "    try:\n",
    "        filenames = s.list_filenames(\"NOSCEMUS_FULL/\" + id, \"txt\")\n",
    "        if len(filenames) > 1:\n",
    "            n = 1\n",
    "            for filename in filenames:\n",
    "                filenames_ids_dict[filename] = id\n",
    "                text = s.read_file(\"NOSCEMUS_FULL/\" + id + \"/\" + filename, \"str\")\n",
    "                s.write_file(\"noscemus_raw/{0}_{1}.txt\".format(str(id), str(n)), text)\n",
    "                n += 1\n",
    "        else:\n",
    "            filename = filenames[0] \n",
    "            filenames_ids_dict[filename] = id\n",
    "            text = s.read_file(\"NOSCEMUS_FULL/\" + id + \"/\" + filename, \"str\")\n",
    "            s.write_file(\"noscemus_raw/{0}.txt\".format(str(id)), text)\n",
    "    except:\n",
    "        missing_ids.append(id)"
   ],
   "metadata": {
    "collapsed": false,
    "ExecuteTime": {
     "end_time": "2023-11-01T12:33:53.887265Z",
     "start_time": "2023-11-01T11:31:09.060234Z"
    }
   },
   "id": "3878cc1af7f8730"
  }
 ],
 "metadata": {
  "kernelspec": {
   "name": "brewkernel",
   "language": "python",
   "display_name": "brewkernel"
  },
  "language_info": {
   "codemirror_mode": {
    "name": "ipython",
    "version": 2
   },
   "file_extension": ".py",
   "mimetype": "text/x-python",
   "name": "python",
   "nbconvert_exporter": "python",
   "pygments_lexer": "ipython2",
   "version": "2.7.6"
  }
 },
 "nbformat": 4,
 "nbformat_minor": 5
}
