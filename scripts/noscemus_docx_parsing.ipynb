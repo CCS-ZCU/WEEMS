{
 "cells": [
  {
   "cell_type": "code",
   "execution_count": 20,
   "outputs": [],
   "source": [
    "# install docx parser for python (# https://pypi.org/project/docx-parser/)\n",
    "try:\n",
    "    from docx_parser import DocumentParser\n",
    "except:\n",
    "    !pip install docx-parser\n",
    "    from docx_parser import DocumentParser"
   ],
   "metadata": {
    "collapsed": false,
    "ExecuteTime": {
     "end_time": "2023-09-20T08:47:34.465560Z",
     "start_time": "2023-09-20T08:47:34.459711Z"
    }
   },
   "id": "511525778f0e056e"
  },
  {
   "cell_type": "code",
   "execution_count": 5,
   "outputs": [],
   "source": [
    "import os\n",
    "from docx_parser import DocumentParser"
   ],
   "metadata": {
    "collapsed": false,
    "ExecuteTime": {
     "end_time": "2023-09-20T08:38:23.316902Z",
     "start_time": "2023-09-20T08:38:22.676517Z"
    }
   },
   "id": "initial_id"
  },
  {
   "cell_type": "code",
   "execution_count": 2,
   "outputs": [
    {
     "data": {
      "text/plain": "['Zwinger,_Theodor_-_In_Artem_medicinalem_Galeni_tabulae_et_commentarii__Basel_1561_pdf.docx']"
     },
     "execution_count": 2,
     "metadata": {},
     "output_type": "execute_result"
    }
   ],
   "source": [
    "os.listdir(\"../data/test_docx\") # locate the folder with test files"
   ],
   "metadata": {
    "collapsed": false,
    "ExecuteTime": {
     "end_time": "2023-09-20T08:36:33.363697Z",
     "start_time": "2023-09-20T08:36:33.354987Z"
    }
   },
   "id": "8c8d8e637bca06b"
  },
  {
   "cell_type": "code",
   "execution_count": 8,
   "outputs": [],
   "source": [
    "fn = os.listdir(\"../data/test_docx\")[0] # identify the first file there for test"
   ],
   "metadata": {
    "collapsed": false,
    "ExecuteTime": {
     "end_time": "2023-09-20T08:39:57.483162Z",
     "start_time": "2023-09-20T08:39:49.626478Z"
    }
   },
   "id": "c7038c331acfd0e1"
  },
  {
   "cell_type": "code",
   "execution_count": 9,
   "outputs": [],
   "source": [
    "doc = DocumentParser(\"../data/test_docx/\" + fn) # parse the file using \"DocumentParser\""
   ],
   "metadata": {
    "collapsed": false,
    "ExecuteTime": {
     "end_time": "2023-09-20T08:39:57.485221Z",
     "start_time": "2023-09-20T08:39:50.513637Z"
    }
   },
   "id": "cf252170b38b93bd"
  },
  {
   "cell_type": "code",
   "execution_count": 17,
   "outputs": [],
   "source": [
    "# create a list of all paragraphs within the document (the paragraphs can be of different types, but we will below focus mainly on their textual content\n",
    "paragraphs_list = [] \n",
    "for _type, item in doc.parse():\n",
    "    paragraphs_list.append(item[\"text\"])"
   ],
   "metadata": {
    "collapsed": false,
    "ExecuteTime": {
     "end_time": "2023-09-20T08:45:51.182091Z",
     "start_time": "2023-09-20T08:45:50.833501Z"
    }
   },
   "id": "60f9aa11cd4576b"
  },
  {
   "cell_type": "code",
   "execution_count": 18,
   "outputs": [
    {
     "data": {
      "text/plain": "'IN ARTEM MEDICINAlem Galeni, Tabulae & Commentarij: PER THEODORVM ZVINGGERVM BASILIENSEM, PHILOSOphum & Medicum. Ex quibus Medici, longae artis compendium: Philosophi, cognitionem naturae in corpore humano, tanquam in microcosmo: Logici denique, artificiosam ordinis Definitiui dialysin, magna cum utilitate & facilitate haurire poterunt. ACCESSIT Rerum & uerborum in his praecipuè memorabilium INDEX. Cum Caes. Maiestatis gratia & priuilegio ad annos decem. BASILEAE, PER IOANnem Oporinum.'"
     },
     "execution_count": 18,
     "metadata": {},
     "output_type": "execute_result"
    }
   ],
   "source": [
    "paragraphs_list[0] # check content of the first paragraph  "
   ],
   "metadata": {
    "collapsed": false,
    "ExecuteTime": {
     "end_time": "2023-09-20T08:46:13.640406Z",
     "start_time": "2023-09-20T08:46:13.635875Z"
    }
   },
   "id": "2ebbad1c1b664cc3"
  },
  {
   "cell_type": "code",
   "execution_count": 19,
   "outputs": [
    {
     "data": {
      "text/plain": "'NVNCVPATORIA. diue quaslibet artes. Iam uerò omnis doctrina habet primùm materiam subiectam, quam docet: deinde ordinem ueluti animam, per quem docet, sine quo doctrina nulla esse potest: sicuti neque mundus absque ordine mundus haberetur. Materia seu res ipsa cuiusque artis & facultatis propria est: forma uerò siue modus docendi partim à Logica, partim à Rhetorica mutuari debet. Nam si naturam rei tractandae consideremus, quid priore, quid posteriore loco collocandum sit, Logica docebit: sin uerò personas tam discentis quàm docentis, Rhetorica nos instruet, μακρῷ τιε λόγῳ, an δδωτήσεσι, exemplis & inductionibus, an syllogismis, aut quibusuis alijs ratiocinandi generibus uti debeamus. Atque haec omnia ordinis & methodi uocabulum comprehendit. Attamen quia Logici ea curant, quae essentiam rei concernunt: Rhetores ue rὸ, τὰ πιθανὰ tantùm: idcirco quoque ordo & methodus ad rem potius quàm ad personarum inconstantem qualitatem referri consueuit. Sed omissis Rhetoribus, Logici ordinis naturam explicemus: quandoquidem nec una est, nec apud omnes eadem. Omnes tamen ordinum differentię in eo conueniunt, quòd à priori ad posterius proficiscuntur. Ordo enim nihil aliud esse definitur, quàm habitudo prioris ad posterius. Itaque Aristoteles etiam in Categorijs, τῦ προτέρου τὴ τάξει meminit: quod fortassis non ineptè ad hos ordines didascalicos referri posset. Porrò ut duo in nobis sunt κριτήεια, sensus & intellectus: ita quoque id, quod prius nostrae cognitioni occurrit, duplex est. Alterum enim prius est sensui, singulare scilicet: alterum intellectui, uniuersale. Quando igitur dicimus ordinem esse progressum à priori ad posterius, per hanc generalem & confusam definitionem comprehendimus sub ordinis ambitu progressum istum reciprocum, nempe uel ab uniuersalibus ad particularia (in δυδασκαλίᾳ: & οδὸς διδασκαλικη nuncupari potest) uel à particularibus ad uniuersalia (in εὑρέσει: & ὁδὸς εὑρητικη dicitur.) Iam uerò quia in doctrina non sunt unius generis omnia uniuersalia, non satis est confusam hanc habere cognitionem progressus, καὶ ὁδὸν καθόλου μίαν (ut Galeni uerbis utar) quòd scilicet ab uniuersalibus semper sit auspicandum, & ad particularia progrediendum (quam solam διδακτικὴν μέθοδον imperiti quidam nostri temporis sophistae iactant, & penes se solos tanquam aureum ramum habitare arbitrantur) sed distinctior ratio inquirenda est, ut quę magis quaeue minus uniuersalia sint perspiciamus. Hoc enim qui consequetur, ille de ordine didascalicoiure poterit gloriari: nam quid idem, quid diuersum sit, optimè uidebit, & totius artis dispositionem oculis subiectam habebit: in quorum cognitione totam Logicę uim consistere, acutè admodum in Topicis Aristoteles asseruit. Quòd si ergo uniuersalium accuratior theoria instituatur, ex quibus artis praecepta constant, atque constituuntur: duplex illorum natura se offeret. Alia enim sunt multiplicia, & ut ita dicam ex multis composita par'"
     },
     "execution_count": 19,
     "metadata": {},
     "output_type": "execute_result"
    }
   ],
   "source": [
    "paragraphs_list[10] # check content of the eleventh paragraph"
   ],
   "metadata": {
    "collapsed": false,
    "ExecuteTime": {
     "end_time": "2023-09-20T08:46:33.824588Z",
     "start_time": "2023-09-20T08:46:33.815440Z"
    }
   },
   "id": "e63437d28daabf4a"
  },
  {
   "cell_type": "code",
   "execution_count": null,
   "outputs": [],
   "source": [],
   "metadata": {
    "collapsed": false
   },
   "id": "e4001750eb45e9bf"
  }
 ],
 "metadata": {
  "kernelspec": {
   "display_name": "Python 3",
   "language": "python",
   "name": "python3"
  },
  "language_info": {
   "codemirror_mode": {
    "name": "ipython",
    "version": 2
   },
   "file_extension": ".py",
   "mimetype": "text/x-python",
   "name": "python",
   "nbconvert_exporter": "python",
   "pygments_lexer": "ipython2",
   "version": "2.7.6"
  }
 },
 "nbformat": 4,
 "nbformat_minor": 5
}
