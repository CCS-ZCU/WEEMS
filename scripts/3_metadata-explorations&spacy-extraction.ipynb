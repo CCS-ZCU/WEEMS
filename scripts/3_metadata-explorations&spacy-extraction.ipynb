{
 "cells": [
  {
   "cell_type": "code",
   "execution_count": 55,
   "id": "initial_id",
   "metadata": {
    "collapsed": true,
    "ExecuteTime": {
     "end_time": "2023-11-24T20:31:07.215251Z",
     "start_time": "2023-11-24T20:31:07.193330Z"
    }
   },
   "outputs": [],
   "source": [
    "import os\n",
    "import spacy\n",
    "from spacy.tokens import Doc\n",
    "import sddk\n",
    "import pandas as pd\n",
    "import re\n",
    "import matplotlib.pyplot as plt\n",
    "import json\n",
    "import shutil\n",
    "\n",
    "import gspread\n",
    "from gspread_dataframe import get_as_dataframe, set_with_dataframe\n",
    "from google.oauth2 import service_account # based on google-auth library"
   ]
  },
  {
   "cell_type": "code",
   "execution_count": 2,
   "outputs": [],
   "source": [
    "# load the language model (see the previous script)\n",
    "nlp = spacy.load('la_core_web_lg')"
   ],
   "metadata": {
    "collapsed": false,
    "ExecuteTime": {
     "end_time": "2023-11-21T09:10:28.344487Z",
     "start_time": "2023-11-21T09:10:27.619892Z"
    }
   },
   "id": "234d6a3cc5f7a819"
  },
  {
   "cell_type": "code",
   "execution_count": 3,
   "outputs": [],
   "source": [
    "# setup communication with gsheet \"noscemus_overview\n",
    "# to make this work, you need your ServiceAccountKey.json file located somewhere and to point out to it\n",
    "# I have it in the data folder and in the .gitignore file, what makes it invisible to others; you can make the same\n",
    "file_data = json.load(open(\"../data/ServiceAccountsKey.json\"))\n",
    "# (2) transform the content into crendentials object\n",
    "credentials = service_account.Credentials.from_service_account_info(file_data)\n",
    "# (3) specify your usage of the credentials\n",
    "scoped_credentials = credentials.with_scopes(['https://spreadsheets.google.com/feeds', 'https://www.googleapis.com/auth/drive'])\n",
    "# (4) use the constrained credentials for authentication of gspread package\n",
    "gc = gspread.Client(auth=scoped_credentials)\n",
    "\n",
    "noscemus_gs = gc.open_by_url(\"https://docs.google.com/spreadsheets/d/1ekf9RBfd4yqy0p0IWJ4SDk1kUT70hnoIVX1H6KPdIts/edit?usp=sharing\")"
   ],
   "metadata": {
    "collapsed": false,
    "ExecuteTime": {
     "end_time": "2023-11-21T09:10:29.946915Z",
     "start_time": "2023-11-21T09:10:28.345154Z"
    }
   },
   "id": "1c7c54fa3f1fb3e1"
  },
  {
   "cell_type": "markdown",
   "source": [
    "# Explore metadata"
   ],
   "metadata": {
    "collapsed": false
   },
   "id": "fd7662ad9e66f358"
  },
  {
   "cell_type": "code",
   "execution_count": 4,
   "outputs": [
    {
     "data": {
      "text/plain": "   Unnamed: 0       id                                     filenames_list\n0           0  1031760  ['Bacon,_Francis_-_Instauratio_magna__London_1...\n1           1  1085290  ['Linden,_Johannes_Antonides_van_der_-_Lindeni...\n2           2  1285853  ['de_Conde,_Ioannes_Baptista_-_Aphorismi_seu_a...\n3           3  1285854  ['van_Poort,_Henricus_-_Hippocratis_Aphorismi_...\n4           4  1285855  ['Hippocrates_&_Denisot,_Gérard_-_Hippocratis_...",
      "text/html": "<div>\n<style scoped>\n    .dataframe tbody tr th:only-of-type {\n        vertical-align: middle;\n    }\n\n    .dataframe tbody tr th {\n        vertical-align: top;\n    }\n\n    .dataframe thead th {\n        text-align: right;\n    }\n</style>\n<table border=\"1\" class=\"dataframe\">\n  <thead>\n    <tr style=\"text-align: right;\">\n      <th></th>\n      <th>Unnamed: 0</th>\n      <th>id</th>\n      <th>filenames_list</th>\n    </tr>\n  </thead>\n  <tbody>\n    <tr>\n      <th>0</th>\n      <td>0</td>\n      <td>1031760</td>\n      <td>['Bacon,_Francis_-_Instauratio_magna__London_1...</td>\n    </tr>\n    <tr>\n      <th>1</th>\n      <td>1</td>\n      <td>1085290</td>\n      <td>['Linden,_Johannes_Antonides_van_der_-_Lindeni...</td>\n    </tr>\n    <tr>\n      <th>2</th>\n      <td>2</td>\n      <td>1285853</td>\n      <td>['de_Conde,_Ioannes_Baptista_-_Aphorismi_seu_a...</td>\n    </tr>\n    <tr>\n      <th>3</th>\n      <td>3</td>\n      <td>1285854</td>\n      <td>['van_Poort,_Henricus_-_Hippocratis_Aphorismi_...</td>\n    </tr>\n    <tr>\n      <th>4</th>\n      <td>4</td>\n      <td>1285855</td>\n      <td>['Hippocrates_&amp;_Denisot,_Gérard_-_Hippocratis_...</td>\n    </tr>\n  </tbody>\n</table>\n</div>"
     },
     "execution_count": 4,
     "metadata": {},
     "output_type": "execute_result"
    }
   ],
   "source": [
    "ids_filenames_df = pd.read_csv(\"../data/ids_filenames_df.csv\")\n",
    "ids_filenames_df.head(5)"
   ],
   "metadata": {
    "collapsed": false,
    "ExecuteTime": {
     "end_time": "2023-11-21T09:10:29.955749Z",
     "start_time": "2023-11-21T09:10:29.942562Z"
    }
   },
   "id": "7df08bcba183888"
  },
  {
   "cell_type": "code",
   "execution_count": 5,
   "outputs": [
    {
     "data": {
      "text/plain": "dtype('int64')"
     },
     "execution_count": 5,
     "metadata": {},
     "output_type": "execute_result"
    }
   ],
   "source": [
    "ids_filenames_df[\"id\"].dtype"
   ],
   "metadata": {
    "collapsed": false,
    "ExecuteTime": {
     "end_time": "2023-11-21T09:10:29.955903Z",
     "start_time": "2023-11-21T09:10:29.951635Z"
    }
   },
   "id": "38d8dd2198f2682a"
  },
  {
   "cell_type": "code",
   "execution_count": 6,
   "outputs": [],
   "source": [
    "metadata_table = pd.read_csv(\"../data/metadata_table.csv\")"
   ],
   "metadata": {
    "collapsed": false,
    "ExecuteTime": {
     "end_time": "2023-11-21T09:10:29.998176Z",
     "start_time": "2023-11-21T09:10:29.954567Z"
    }
   },
   "id": "5bfb71eb9c5c29fc"
  },
  {
   "cell_type": "code",
   "execution_count": 7,
   "outputs": [
    {
     "data": {
      "text/plain": "994"
     },
     "execution_count": 7,
     "metadata": {},
     "output_type": "execute_result"
    }
   ],
   "source": [
    "len(metadata_table)"
   ],
   "metadata": {
    "collapsed": false,
    "ExecuteTime": {
     "end_time": "2023-11-21T09:10:29.998825Z",
     "start_time": "2023-11-21T09:10:29.988846Z"
    }
   },
   "id": "93f7856e4ffe5552"
  },
  {
   "cell_type": "code",
   "execution_count": 8,
   "outputs": [
    {
     "data": {
      "text/plain": "                            Author  \\\n0           Pardies, Ignace Gaston   \n1         Scheuchzer, Johann Jakob   \n2               Morabito, Giuseppe   \n3                  Addison, Joseph   \n4                  Lipsius, Justus   \n5                       Owen, John   \n6                   Costus, Petrus   \n7                Acidalius, Valens   \n8                 Paulinus, Fabius   \n9                   Sands, Patrick   \n10              Lauremberg, Johann   \n11              Biancani, Giuseppe   \n12  Barberini, Maffeo (Urban VIII)   \n13                  Bettini, Mario   \n14   Omodei, Antonio Filoteo degli   \n15               Libavius, Andreas   \n16            Grataroli, Guglielmo   \n17         Turcq, Pascasius Justus   \n18               Widmann, Johannes   \n19     Riccioli, Giovanni Battista   \n\n                                           Full title  \\\n0   A Latin Letter written to the Publisher April ...   \n1   Acarnania sive Relatio eorum, quae hactenus el...   \n2   Ad astronautas Americanos carmen Iosephi Morab...   \n3   Ad insignissimum virum dominum Thomam Burnettu...   \n4                               Ad Clusii nomen lusus   \n5                                Ad Dominum Gilbertum   \n6   Petrus Costus ad Gulielmum Rondeletium medicum...   \n7                  Ad Iordanum Brunum Nolanum, Italum   \n8   Ad clarissimum virum Laurentium Massam, sereni...   \n9                Ad lectorem trigonometriae studiosum   \n10  Ad clarissimum virum Dominum Simonem Paulli, m...   \n11  Additamentum de natura scientiarum mathematicarum   \n12                           Adulatio perniciosa. Ode   \n13  Aerarium philosophiae mathematicae, in quo ele...   \n14  Antonii Philothei de Homodeis Siculi Aetnae to...   \n15  D.O.M.A. Alchemia Andreae Libavii, medicinae d...   \n16  Alchemiae, quam vocant artisque metallicae doc...   \n17  Pascasii Justi Ecloviensis, Philosophiae et Me...   \n18                   Algorithmus minutiarum vulgarium   \n19  Almagestum Novum astronomiam veterem novamque ...   \n\n                                                   In        Year  \\\n0   Philosophical Transactions of the Royal Societ...        1672   \n1     ΟΥΡΕΣΙΦΟΙΤΗΣ (Ouresiphoites) Helveticus, 609–35        1723   \n2   Fons pacis. Nova aetas. Ad astronautas America...        1969   \n3   Examen poeticum duplex, sive, Musarum anglican...        1698   \n4   L'Ecluse, Charles de, Rariorum aliquot stirpiu...        1583   \n5   Epigrammatum libri tres. Auctore Ioanne Owen B...        1606   \n6               Aquatilium historia, vol. 1, fol. α3r        1554   \n7   Poematum Iani Lernutii, Iani Gulielmi, Valenti...        1603   \n8   Avicennae, Arabum medicorum principis, ex Gera...        1595   \n9   Mirifici logarithmorum canonis descriptioeiusq...        1614   \n10                      Flora Danica, sig. )(r - )(2r        1648   \n11  Aristotelis loca mathematica ex universis ipsi...        1615   \n12  Illustrissimi et reverendissimi Maffaei sancta...        1620   \n13                                                NaN        1648   \n14                                                NaN        1591   \n15                                                NaN        1597   \n16                                                NaN        1572   \n17                                                NaN        1561   \n18                                                NaN   [c. 1490]   \n19                                                NaN  1651; 1665   \n\n                Place                       Publisher/Printer  \\\n0              London                                  Martyn   \n1              Leiden                      van der Aa, Pieter   \n2           Amsterdam  Nord-Hollandsche Uitgevers Maatschapij   \n3              London                   Richard Wellington I.   \n4             Antwerp                                 Plantin   \n5              London           Windet, John, Waterson, Simon   \n6                Lyon                                Bonhomme   \n7   Liegnitz, Wrocław                           Albert, David   \n8              Venice                                I Giunti   \n9           Edinburgh                              Andro Hart   \n10         Copenhagen                                 Martzan   \n11            Bologna                                   Cochi   \n12              Paris                       Estienne, Antoine   \n13            Bologna                                 Ferroni   \n14             Venice                                 Muschio   \n15  Frankfurt am Main             Saur, Johannes, Kopf, Peter   \n16              Basel                                   Perna   \n17              Basel                       Oporinus, Joannes   \n18          [Leipzig]                      [Martin Landsberg]   \n19            Bologna                                 Benacci   \n\n                                         Era  \\\n0                               17th century   \n1                               18th century   \n2                                 After 1800   \n3                               17th century   \n4                               16th century   \n5                               17th century   \n6                               16th century   \n7                               17th century   \n8                               16th century   \n9                               17th century   \n10                              17th century   \n11                              17th century   \n12                              17th century   \n13                              17th century   \n14                              16th century   \n15                              16th century   \n16                              16th century   \n17                              16th century   \n18  15th century since invention of printing   \n19                              17th century   \n\n                                    Form/Genre  \\\n0                               Letter, Review   \n1                      Biography, Bibliography   \n2                               Panegyric poem   \n3                               Panegyric poem   \n4                               Panegyric poem   \n5                      Other (see description)   \n6                               Panegyric poem   \n7                               Panegyric poem   \n8                               Panegyric poem   \n9                               Panegyric poem   \n10                              Panegyric poem   \n11          Monograph, Other (see description)   \n12     Panegyric poem, Other (see description)   \n13                           Encyclopedic work   \n14                                   Monograph   \n15  Other (see description), Encyclopedic work   \n16  Other (see description), Encyclopedic work   \n17                                   Monograph   \n18                                    Textbook   \n19                           Encyclopedic work   \n\n                                   Discipline/Content  \\\n0                                             Physics   \n1   Mathematics, Physics, Geography/Cartography, M...   \n2                     Astronomy/Astrology/Cosmography   \n3                          Meteorology/Earth sciences   \n4          Biology, Medicine, Other (see description)   \n5                     Astronomy/Astrology/Cosmography   \n6                                             Biology   \n7                     Astronomy/Astrology/Cosmography   \n8                                            Medicine   \n9                                         Mathematics   \n10                                            Biology   \n11                                        Mathematics   \n12                    Astronomy/Astrology/Cosmography   \n13                                        Mathematics   \n14  Geography/Cartography, Meteorology/Earth sciences   \n15                                  Alchemy/Chemistry   \n16                                  Alchemy/Chemistry   \n17                                           Medicine   \n18                                        Mathematics   \n19                    Astronomy/Astrology/Cosmography   \n\n                                             Original  \\\n0                               A Latin Letter(JSTOR)   \n1   Acarnania (1st edition), inMiscellanea Lipsien...   \n2                            Download PDF(Transcript)   \n3   Ad Burnettum sacrae theoriae telluris auctorem...   \n4   Ad Clusii nomen lusus(Biblioteca Digital Real ...   \n5   3rd edition (Amberg 1608)(Google Books)Digital...   \n6           Aquatilium historia, vol. 1(Google Books)   \n7   Ad Iordanum Brunum (1603)(CAMENA)Ad Iordanum B...   \n8   Ad Laurentium Massam pro Avicenna ode(Google B...   \n9   Ad lectorem trigonometriae studiosum(Google Bo...   \n10                           Download PDF(Transcript)   \n11  Additamentum de natura scientiarum mathematica...   \n12                  Adulatio perniciosa(Google Books)   \n13  Aerarium philosophiae mathematicae, vol. 1,vol...   \n14  Aetnae topographia(Google Books)Alternative li...   \n15  Alchemia Libavii(e-rara.ch)Alternative link:ar...   \n16  Alchemiae quam vocant artisque metallicae doct...   \n17  Basel 1561, Neustadt an der Weinstraße1617/161...   \n18              Algorithmus minutiarum vulgarium(WDB)   \n19  Almagestum novum(e-rara.ch)Almagestum novum(ÖN...   \n\n                            Digital sourcebook  \\\n0                                       607720   \n1           605919(in:ΟΥΡΕΣΙΦΟΙΤΗΣ Helveticus)   \n2                                not available   \n3                                       769230   \n4                                       749217   \n5             900767(3rd edition, Amberg 1608)   \n6                                       748052   \n7                                       801745   \n8                                       900763   \n9                                       801744   \n10                               not available   \n11                                      653295   \n12                                      775165   \n13  807622(Vol. 1)807623(Vol. 2)807624(Vol. 3)   \n14                                      683332   \n15                                      597737   \n16                                      616642   \n17                          616643(Basel 1561)   \n18                                      899971   \n19                                      699869   \n\n                                          Description  \\\n0   In Feburary of 1672,Isaac Newtonpublished his ...   \n1   The remarknunc primum editain the title of thi...   \n2   As late as the 20th century, the imagination o...   \n3   To the Very Famous Mr. Thomas Burnet, Author o...   \n4   This witty epigram by the famous Flemish philo...   \n5   John Owen was the most popular Anglo-Latin epi...   \n6   The first volume of Rondelet'sAquatilium histo...   \n7   Most of the posthumously edited epigrams of th...   \n8   Giovanni Costeo's and Giovanni Paolo Mongio's ...   \n9   When John Napier communicated his invention of...   \n10  This hexametrical poem of 39 verses is the fir...   \n11  Together with theClarorum mathematicorum chron...   \n12  In 1620, the first edition of Cardinal Maffeo ...   \n13  This is an encyclopedia of applied mathematics...   \n14  The eruptions of Mount Etna captured the inter...   \n15  This collection in two books of several alchem...   \n16  This is a huge (more than 1500 pages in two vo...   \n17  Pascasius’Alea, as its title indicates in some...   \n18  Around 1490, six very short anonymous treatise...   \n19  This treatise of enormous length (about 2000 p...   \n\n                                           References  \\\n0                            Harmon; Gross 2007, 22–5   \n1                                                 NaN   \n2   Giustiniani 1979, 108 (list of award-winning p...   \n3                                                 NaN   \n4                                  Ogilvie 2011, 28-9   \n5   Martyn 1976–1978;Durand 2016(editions)Jansen 2009   \n6                                                 NaN   \n7                               Kühlmann 1979, 152–53   \n8                                   Siraisi 1987, 143   \n9                                        McOmish 2017   \n10                               Berrens 2019, 240–41   \n11  Mancosu 1996, pp. 15-19 and 178-212 (English t...   \n12                                                NaN   \n13                                                NaN   \n14    Clausi 1992Dizionario biografico degli Italiani   \n15                                                NaN   \n16                                                NaN   \n17  Cottier, Nadeau, Valleur 2014Kronegger-Roth 20...   \n18                    Gärtner 2000, 37–45, esp. 42–43   \n19                                        Graney 2015   \n\n                                             Cited in  \\\n0   Pardies, Ignace Gaston‎(← links)Mr. Newtons Le...   \n1   Charta invitatoria‎(← links)ΟΥΡΕΣΙΦΟΙΤΗΣ (Oure...   \n2                        Morabito, Giuseppe‎(← links)   \n3   Addison, Joseph‎(← links)Nova philosophia vete...   \n4   Rariorum stirpium per Pannoniam et Austriam ob...   \n5     Owen, John‎(← links)An terra moveatur‎(← links)   \n6   Aquatilium historia‎(← links)Costus, Petrus‎(←...   \n7                         Acidalius, Valens‎(← links)   \n8                          Paulinus, Fabius‎(← links)   \n9   Mirifici logarithmorum canonis descriptio‎(← l...   \n10                       Lauremberg, Johann‎(← links)   \n11  Biancani, Giuseppe‎(← links)Clarorum mathemati...   \n12           Barberini, Maffeo (Urban VIII)‎(← links)   \n13                           Bettini, Mario‎(← links)   \n14                                                NaN   \n15  Libavius, Andreas‎(← links)Phaleuci ad Libaviu...   \n16                     Grataroli, Guglielmo‎(← links)   \n17                                                NaN   \n18  Widmann, Johannes‎(← links)Arithmetices erotem...   \n19                            Sphaera mundi‎(← links)   \n\n                               How to cite this entry  \\\n0   Pardies, Ignace Gaston:A Latin Letter containi...   \n1   Scheuchzer, Johann Jakob:Acarnania, in: Noscem...   \n2   Morabito, Giuseppe:Ad astronautas Americanos, ...   \n3   Addison, Joseph:Ad Burnettum sacrae theoriae t...   \n4   Lipsius, Justus:Ad Clusii nomen lusus, in: Nos...   \n5   Owen, John:Ad Gilbertum, in: Noscemus Wiki, UR...   \n6   Costus, Petrus:Ad Gulielmum Rondeletium, in: N...   \n7   Acidalius, Valens:Ad Iordanum Brunum, in: Nosc...   \n8   Paulinus, Fabius:Ad Laurentium Massam pro Avic...   \n9   Sands, Patrick:Ad lectorem trigonometriae stud...   \n10  Lauremberg, Johann:Ad Simonem Paulli, in: Nosc...   \n11  Biancani, Giuseppe:Additamentum de natura scie...   \n12  Barberini, Maffeo (Urban VIII):Adulatio pernic...   \n13  Bettini, Mario:Aerarium philosophiae mathemati...   \n14  Omodei, Antonio Filoteo degli:Aetnae topograph...   \n15  Libavius, Andreas:Alchemia Libavii, in: Noscem...   \n16  Grataroli, Guglielmo:Alchemiae quam vocant art...   \n17  Turcq, Pascasius Justus:Alea, in: Noscemus Wik...   \n18  Widmann, Johannes:Algorithmus minutiarum vulga...   \n19  Riccioli, Giovanni Battista:Almagestum novum, ...   \n\n                                       Internal notes Of interest to  \\\n0                                            RECENSIO            NaN   \n1                                                 NaN             MK   \n2   The Earthrise picture and \"Please be informed ...             IT   \n3                                                 NaN         MK, IT   \n4   Possibly, this epigram could be found in Lipsi...             IT   \n5   First edition in sharefolder.The epigram was a...         JL, IT   \n6                                                 NaN             MK   \n7   Kühlmann must have overlooked the poem in the ...         MK, IT   \n8   On the title page of the edition, the many acc...             MK   \n9   Sands also wrote a poem for Napier'sRabdologia...             IT   \n10                                                NaN             DB   \n11  I would recommend to include Piccolomini's \"Co...         MK, FB   \n12                                                NaN             IT   \n13                                                NaN         MK, FB   \n14                                                NaN             OA   \n15                                                NaN             MK   \n16                                                NaN            NaN   \n17                                                NaN             WB   \n18                                                NaN         MK, FB   \n19  Publication history obscure, to clarify. e-rar...             JL   \n\n   Transkribus text available Written by Library and Signature  \n0                         Yes         IT                   NaN  \n1                         Yes         MK                   NaN  \n2                         NaN         IT                   NaN  \n3                         Yes         MK                   NaN  \n4                         Yes         IT                   NaN  \n5                         Yes         IT                   NaN  \n6                         Yes         MK                   NaN  \n7                         Yes         MK                   NaN  \n8                         Yes         MK                   NaN  \n9                         Yes         IT                   NaN  \n10                        Yes         DB                   NaN  \n11                        Yes     MK, FB                   NaN  \n12                        Yes         IT                   NaN  \n13                        Yes         MK                   NaN  \n14                        Yes         IT                   NaN  \n15                        Yes         MK                   NaN  \n16                        Yes         OA                   NaN  \n17                        Yes         WB                   NaN  \n18                        Yes     MK, FB                   NaN  \n19                        Yes         OA                   NaN  ",
      "text/html": "<div>\n<style scoped>\n    .dataframe tbody tr th:only-of-type {\n        vertical-align: middle;\n    }\n\n    .dataframe tbody tr th {\n        vertical-align: top;\n    }\n\n    .dataframe thead th {\n        text-align: right;\n    }\n</style>\n<table border=\"1\" class=\"dataframe\">\n  <thead>\n    <tr style=\"text-align: right;\">\n      <th></th>\n      <th>Author</th>\n      <th>Full title</th>\n      <th>In</th>\n      <th>Year</th>\n      <th>Place</th>\n      <th>Publisher/Printer</th>\n      <th>Era</th>\n      <th>Form/Genre</th>\n      <th>Discipline/Content</th>\n      <th>Original</th>\n      <th>Digital sourcebook</th>\n      <th>Description</th>\n      <th>References</th>\n      <th>Cited in</th>\n      <th>How to cite this entry</th>\n      <th>Internal notes</th>\n      <th>Of interest to</th>\n      <th>Transkribus text available</th>\n      <th>Written by</th>\n      <th>Library and Signature</th>\n    </tr>\n  </thead>\n  <tbody>\n    <tr>\n      <th>0</th>\n      <td>Pardies, Ignace Gaston</td>\n      <td>A Latin Letter written to the Publisher April ...</td>\n      <td>Philosophical Transactions of the Royal Societ...</td>\n      <td>1672</td>\n      <td>London</td>\n      <td>Martyn</td>\n      <td>17th century</td>\n      <td>Letter, Review</td>\n      <td>Physics</td>\n      <td>A Latin Letter(JSTOR)</td>\n      <td>607720</td>\n      <td>In Feburary of 1672,Isaac Newtonpublished his ...</td>\n      <td>Harmon; Gross 2007, 22–5</td>\n      <td>Pardies, Ignace Gaston‎(← links)Mr. Newtons Le...</td>\n      <td>Pardies, Ignace Gaston:A Latin Letter containi...</td>\n      <td>RECENSIO</td>\n      <td>NaN</td>\n      <td>Yes</td>\n      <td>IT</td>\n      <td>NaN</td>\n    </tr>\n    <tr>\n      <th>1</th>\n      <td>Scheuchzer, Johann Jakob</td>\n      <td>Acarnania sive Relatio eorum, quae hactenus el...</td>\n      <td>ΟΥΡΕΣΙΦΟΙΤΗΣ (Ouresiphoites) Helveticus, 609–35</td>\n      <td>1723</td>\n      <td>Leiden</td>\n      <td>van der Aa, Pieter</td>\n      <td>18th century</td>\n      <td>Biography, Bibliography</td>\n      <td>Mathematics, Physics, Geography/Cartography, M...</td>\n      <td>Acarnania (1st edition), inMiscellanea Lipsien...</td>\n      <td>605919(in:ΟΥΡΕΣΙΦΟΙΤΗΣ Helveticus)</td>\n      <td>The remarknunc primum editain the title of thi...</td>\n      <td>NaN</td>\n      <td>Charta invitatoria‎(← links)ΟΥΡΕΣΙΦΟΙΤΗΣ (Oure...</td>\n      <td>Scheuchzer, Johann Jakob:Acarnania, in: Noscem...</td>\n      <td>NaN</td>\n      <td>MK</td>\n      <td>Yes</td>\n      <td>MK</td>\n      <td>NaN</td>\n    </tr>\n    <tr>\n      <th>2</th>\n      <td>Morabito, Giuseppe</td>\n      <td>Ad astronautas Americanos carmen Iosephi Morab...</td>\n      <td>Fons pacis. Nova aetas. Ad astronautas America...</td>\n      <td>1969</td>\n      <td>Amsterdam</td>\n      <td>Nord-Hollandsche Uitgevers Maatschapij</td>\n      <td>After 1800</td>\n      <td>Panegyric poem</td>\n      <td>Astronomy/Astrology/Cosmography</td>\n      <td>Download PDF(Transcript)</td>\n      <td>not available</td>\n      <td>As late as the 20th century, the imagination o...</td>\n      <td>Giustiniani 1979, 108 (list of award-winning p...</td>\n      <td>Morabito, Giuseppe‎(← links)</td>\n      <td>Morabito, Giuseppe:Ad astronautas Americanos, ...</td>\n      <td>The Earthrise picture and \"Please be informed ...</td>\n      <td>IT</td>\n      <td>NaN</td>\n      <td>IT</td>\n      <td>NaN</td>\n    </tr>\n    <tr>\n      <th>3</th>\n      <td>Addison, Joseph</td>\n      <td>Ad insignissimum virum dominum Thomam Burnettu...</td>\n      <td>Examen poeticum duplex, sive, Musarum anglican...</td>\n      <td>1698</td>\n      <td>London</td>\n      <td>Richard Wellington I.</td>\n      <td>17th century</td>\n      <td>Panegyric poem</td>\n      <td>Meteorology/Earth sciences</td>\n      <td>Ad Burnettum sacrae theoriae telluris auctorem...</td>\n      <td>769230</td>\n      <td>To the Very Famous Mr. Thomas Burnet, Author o...</td>\n      <td>NaN</td>\n      <td>Addison, Joseph‎(← links)Nova philosophia vete...</td>\n      <td>Addison, Joseph:Ad Burnettum sacrae theoriae t...</td>\n      <td>NaN</td>\n      <td>MK, IT</td>\n      <td>Yes</td>\n      <td>MK</td>\n      <td>NaN</td>\n    </tr>\n    <tr>\n      <th>4</th>\n      <td>Lipsius, Justus</td>\n      <td>Ad Clusii nomen lusus</td>\n      <td>L'Ecluse, Charles de, Rariorum aliquot stirpiu...</td>\n      <td>1583</td>\n      <td>Antwerp</td>\n      <td>Plantin</td>\n      <td>16th century</td>\n      <td>Panegyric poem</td>\n      <td>Biology, Medicine, Other (see description)</td>\n      <td>Ad Clusii nomen lusus(Biblioteca Digital Real ...</td>\n      <td>749217</td>\n      <td>This witty epigram by the famous Flemish philo...</td>\n      <td>Ogilvie 2011, 28-9</td>\n      <td>Rariorum stirpium per Pannoniam et Austriam ob...</td>\n      <td>Lipsius, Justus:Ad Clusii nomen lusus, in: Nos...</td>\n      <td>Possibly, this epigram could be found in Lipsi...</td>\n      <td>IT</td>\n      <td>Yes</td>\n      <td>IT</td>\n      <td>NaN</td>\n    </tr>\n    <tr>\n      <th>5</th>\n      <td>Owen, John</td>\n      <td>Ad Dominum Gilbertum</td>\n      <td>Epigrammatum libri tres. Auctore Ioanne Owen B...</td>\n      <td>1606</td>\n      <td>London</td>\n      <td>Windet, John, Waterson, Simon</td>\n      <td>17th century</td>\n      <td>Other (see description)</td>\n      <td>Astronomy/Astrology/Cosmography</td>\n      <td>3rd edition (Amberg 1608)(Google Books)Digital...</td>\n      <td>900767(3rd edition, Amberg 1608)</td>\n      <td>John Owen was the most popular Anglo-Latin epi...</td>\n      <td>Martyn 1976–1978;Durand 2016(editions)Jansen 2009</td>\n      <td>Owen, John‎(← links)An terra moveatur‎(← links)</td>\n      <td>Owen, John:Ad Gilbertum, in: Noscemus Wiki, UR...</td>\n      <td>First edition in sharefolder.The epigram was a...</td>\n      <td>JL, IT</td>\n      <td>Yes</td>\n      <td>IT</td>\n      <td>NaN</td>\n    </tr>\n    <tr>\n      <th>6</th>\n      <td>Costus, Petrus</td>\n      <td>Petrus Costus ad Gulielmum Rondeletium medicum...</td>\n      <td>Aquatilium historia, vol. 1, fol. α3r</td>\n      <td>1554</td>\n      <td>Lyon</td>\n      <td>Bonhomme</td>\n      <td>16th century</td>\n      <td>Panegyric poem</td>\n      <td>Biology</td>\n      <td>Aquatilium historia, vol. 1(Google Books)</td>\n      <td>748052</td>\n      <td>The first volume of Rondelet'sAquatilium histo...</td>\n      <td>NaN</td>\n      <td>Aquatilium historia‎(← links)Costus, Petrus‎(←...</td>\n      <td>Costus, Petrus:Ad Gulielmum Rondeletium, in: N...</td>\n      <td>NaN</td>\n      <td>MK</td>\n      <td>Yes</td>\n      <td>MK</td>\n      <td>NaN</td>\n    </tr>\n    <tr>\n      <th>7</th>\n      <td>Acidalius, Valens</td>\n      <td>Ad Iordanum Brunum Nolanum, Italum</td>\n      <td>Poematum Iani Lernutii, Iani Gulielmi, Valenti...</td>\n      <td>1603</td>\n      <td>Liegnitz, Wrocław</td>\n      <td>Albert, David</td>\n      <td>17th century</td>\n      <td>Panegyric poem</td>\n      <td>Astronomy/Astrology/Cosmography</td>\n      <td>Ad Iordanum Brunum (1603)(CAMENA)Ad Iordanum B...</td>\n      <td>801745</td>\n      <td>Most of the posthumously edited epigrams of th...</td>\n      <td>Kühlmann 1979, 152–53</td>\n      <td>Acidalius, Valens‎(← links)</td>\n      <td>Acidalius, Valens:Ad Iordanum Brunum, in: Nosc...</td>\n      <td>Kühlmann must have overlooked the poem in the ...</td>\n      <td>MK, IT</td>\n      <td>Yes</td>\n      <td>MK</td>\n      <td>NaN</td>\n    </tr>\n    <tr>\n      <th>8</th>\n      <td>Paulinus, Fabius</td>\n      <td>Ad clarissimum virum Laurentium Massam, sereni...</td>\n      <td>Avicennae, Arabum medicorum principis, ex Gera...</td>\n      <td>1595</td>\n      <td>Venice</td>\n      <td>I Giunti</td>\n      <td>16th century</td>\n      <td>Panegyric poem</td>\n      <td>Medicine</td>\n      <td>Ad Laurentium Massam pro Avicenna ode(Google B...</td>\n      <td>900763</td>\n      <td>Giovanni Costeo's and Giovanni Paolo Mongio's ...</td>\n      <td>Siraisi 1987, 143</td>\n      <td>Paulinus, Fabius‎(← links)</td>\n      <td>Paulinus, Fabius:Ad Laurentium Massam pro Avic...</td>\n      <td>On the title page of the edition, the many acc...</td>\n      <td>MK</td>\n      <td>Yes</td>\n      <td>MK</td>\n      <td>NaN</td>\n    </tr>\n    <tr>\n      <th>9</th>\n      <td>Sands, Patrick</td>\n      <td>Ad lectorem trigonometriae studiosum</td>\n      <td>Mirifici logarithmorum canonis descriptioeiusq...</td>\n      <td>1614</td>\n      <td>Edinburgh</td>\n      <td>Andro Hart</td>\n      <td>17th century</td>\n      <td>Panegyric poem</td>\n      <td>Mathematics</td>\n      <td>Ad lectorem trigonometriae studiosum(Google Bo...</td>\n      <td>801744</td>\n      <td>When John Napier communicated his invention of...</td>\n      <td>McOmish 2017</td>\n      <td>Mirifici logarithmorum canonis descriptio‎(← l...</td>\n      <td>Sands, Patrick:Ad lectorem trigonometriae stud...</td>\n      <td>Sands also wrote a poem for Napier'sRabdologia...</td>\n      <td>IT</td>\n      <td>Yes</td>\n      <td>IT</td>\n      <td>NaN</td>\n    </tr>\n    <tr>\n      <th>10</th>\n      <td>Lauremberg, Johann</td>\n      <td>Ad clarissimum virum Dominum Simonem Paulli, m...</td>\n      <td>Flora Danica, sig. )(r - )(2r</td>\n      <td>1648</td>\n      <td>Copenhagen</td>\n      <td>Martzan</td>\n      <td>17th century</td>\n      <td>Panegyric poem</td>\n      <td>Biology</td>\n      <td>Download PDF(Transcript)</td>\n      <td>not available</td>\n      <td>This hexametrical poem of 39 verses is the fir...</td>\n      <td>Berrens 2019, 240–41</td>\n      <td>Lauremberg, Johann‎(← links)</td>\n      <td>Lauremberg, Johann:Ad Simonem Paulli, in: Nosc...</td>\n      <td>NaN</td>\n      <td>DB</td>\n      <td>Yes</td>\n      <td>DB</td>\n      <td>NaN</td>\n    </tr>\n    <tr>\n      <th>11</th>\n      <td>Biancani, Giuseppe</td>\n      <td>Additamentum de natura scientiarum mathematicarum</td>\n      <td>Aristotelis loca mathematica ex universis ipsi...</td>\n      <td>1615</td>\n      <td>Bologna</td>\n      <td>Cochi</td>\n      <td>17th century</td>\n      <td>Monograph, Other (see description)</td>\n      <td>Mathematics</td>\n      <td>Additamentum de natura scientiarum mathematica...</td>\n      <td>653295</td>\n      <td>Together with theClarorum mathematicorum chron...</td>\n      <td>Mancosu 1996, pp. 15-19 and 178-212 (English t...</td>\n      <td>Biancani, Giuseppe‎(← links)Clarorum mathemati...</td>\n      <td>Biancani, Giuseppe:Additamentum de natura scie...</td>\n      <td>I would recommend to include Piccolomini's \"Co...</td>\n      <td>MK, FB</td>\n      <td>Yes</td>\n      <td>MK, FB</td>\n      <td>NaN</td>\n    </tr>\n    <tr>\n      <th>12</th>\n      <td>Barberini, Maffeo (Urban VIII)</td>\n      <td>Adulatio perniciosa. Ode</td>\n      <td>Illustrissimi et reverendissimi Maffaei sancta...</td>\n      <td>1620</td>\n      <td>Paris</td>\n      <td>Estienne, Antoine</td>\n      <td>17th century</td>\n      <td>Panegyric poem, Other (see description)</td>\n      <td>Astronomy/Astrology/Cosmography</td>\n      <td>Adulatio perniciosa(Google Books)</td>\n      <td>775165</td>\n      <td>In 1620, the first edition of Cardinal Maffeo ...</td>\n      <td>NaN</td>\n      <td>Barberini, Maffeo (Urban VIII)‎(← links)</td>\n      <td>Barberini, Maffeo (Urban VIII):Adulatio pernic...</td>\n      <td>NaN</td>\n      <td>IT</td>\n      <td>Yes</td>\n      <td>IT</td>\n      <td>NaN</td>\n    </tr>\n    <tr>\n      <th>13</th>\n      <td>Bettini, Mario</td>\n      <td>Aerarium philosophiae mathematicae, in quo ele...</td>\n      <td>NaN</td>\n      <td>1648</td>\n      <td>Bologna</td>\n      <td>Ferroni</td>\n      <td>17th century</td>\n      <td>Encyclopedic work</td>\n      <td>Mathematics</td>\n      <td>Aerarium philosophiae mathematicae, vol. 1,vol...</td>\n      <td>807622(Vol. 1)807623(Vol. 2)807624(Vol. 3)</td>\n      <td>This is an encyclopedia of applied mathematics...</td>\n      <td>NaN</td>\n      <td>Bettini, Mario‎(← links)</td>\n      <td>Bettini, Mario:Aerarium philosophiae mathemati...</td>\n      <td>NaN</td>\n      <td>MK, FB</td>\n      <td>Yes</td>\n      <td>MK</td>\n      <td>NaN</td>\n    </tr>\n    <tr>\n      <th>14</th>\n      <td>Omodei, Antonio Filoteo degli</td>\n      <td>Antonii Philothei de Homodeis Siculi Aetnae to...</td>\n      <td>NaN</td>\n      <td>1591</td>\n      <td>Venice</td>\n      <td>Muschio</td>\n      <td>16th century</td>\n      <td>Monograph</td>\n      <td>Geography/Cartography, Meteorology/Earth sciences</td>\n      <td>Aetnae topographia(Google Books)Alternative li...</td>\n      <td>683332</td>\n      <td>The eruptions of Mount Etna captured the inter...</td>\n      <td>Clausi 1992Dizionario biografico degli Italiani</td>\n      <td>NaN</td>\n      <td>Omodei, Antonio Filoteo degli:Aetnae topograph...</td>\n      <td>NaN</td>\n      <td>OA</td>\n      <td>Yes</td>\n      <td>IT</td>\n      <td>NaN</td>\n    </tr>\n    <tr>\n      <th>15</th>\n      <td>Libavius, Andreas</td>\n      <td>D.O.M.A. Alchemia Andreae Libavii, medicinae d...</td>\n      <td>NaN</td>\n      <td>1597</td>\n      <td>Frankfurt am Main</td>\n      <td>Saur, Johannes, Kopf, Peter</td>\n      <td>16th century</td>\n      <td>Other (see description), Encyclopedic work</td>\n      <td>Alchemy/Chemistry</td>\n      <td>Alchemia Libavii(e-rara.ch)Alternative link:ar...</td>\n      <td>597737</td>\n      <td>This collection in two books of several alchem...</td>\n      <td>NaN</td>\n      <td>Libavius, Andreas‎(← links)Phaleuci ad Libaviu...</td>\n      <td>Libavius, Andreas:Alchemia Libavii, in: Noscem...</td>\n      <td>NaN</td>\n      <td>MK</td>\n      <td>Yes</td>\n      <td>MK</td>\n      <td>NaN</td>\n    </tr>\n    <tr>\n      <th>16</th>\n      <td>Grataroli, Guglielmo</td>\n      <td>Alchemiae, quam vocant artisque metallicae doc...</td>\n      <td>NaN</td>\n      <td>1572</td>\n      <td>Basel</td>\n      <td>Perna</td>\n      <td>16th century</td>\n      <td>Other (see description), Encyclopedic work</td>\n      <td>Alchemy/Chemistry</td>\n      <td>Alchemiae quam vocant artisque metallicae doct...</td>\n      <td>616642</td>\n      <td>This is a huge (more than 1500 pages in two vo...</td>\n      <td>NaN</td>\n      <td>Grataroli, Guglielmo‎(← links)</td>\n      <td>Grataroli, Guglielmo:Alchemiae quam vocant art...</td>\n      <td>NaN</td>\n      <td>NaN</td>\n      <td>Yes</td>\n      <td>OA</td>\n      <td>NaN</td>\n    </tr>\n    <tr>\n      <th>17</th>\n      <td>Turcq, Pascasius Justus</td>\n      <td>Pascasii Justi Ecloviensis, Philosophiae et Me...</td>\n      <td>NaN</td>\n      <td>1561</td>\n      <td>Basel</td>\n      <td>Oporinus, Joannes</td>\n      <td>16th century</td>\n      <td>Monograph</td>\n      <td>Medicine</td>\n      <td>Basel 1561, Neustadt an der Weinstraße1617/161...</td>\n      <td>616643(Basel 1561)</td>\n      <td>Pascasius’Alea, as its title indicates in some...</td>\n      <td>Cottier, Nadeau, Valleur 2014Kronegger-Roth 20...</td>\n      <td>NaN</td>\n      <td>Turcq, Pascasius Justus:Alea, in: Noscemus Wik...</td>\n      <td>NaN</td>\n      <td>WB</td>\n      <td>Yes</td>\n      <td>WB</td>\n      <td>NaN</td>\n    </tr>\n    <tr>\n      <th>18</th>\n      <td>Widmann, Johannes</td>\n      <td>Algorithmus minutiarum vulgarium</td>\n      <td>NaN</td>\n      <td>[c. 1490]</td>\n      <td>[Leipzig]</td>\n      <td>[Martin Landsberg]</td>\n      <td>15th century since invention of printing</td>\n      <td>Textbook</td>\n      <td>Mathematics</td>\n      <td>Algorithmus minutiarum vulgarium(WDB)</td>\n      <td>899971</td>\n      <td>Around 1490, six very short anonymous treatise...</td>\n      <td>Gärtner 2000, 37–45, esp. 42–43</td>\n      <td>Widmann, Johannes‎(← links)Arithmetices erotem...</td>\n      <td>Widmann, Johannes:Algorithmus minutiarum vulga...</td>\n      <td>NaN</td>\n      <td>MK, FB</td>\n      <td>Yes</td>\n      <td>MK, FB</td>\n      <td>NaN</td>\n    </tr>\n    <tr>\n      <th>19</th>\n      <td>Riccioli, Giovanni Battista</td>\n      <td>Almagestum Novum astronomiam veterem novamque ...</td>\n      <td>NaN</td>\n      <td>1651; 1665</td>\n      <td>Bologna</td>\n      <td>Benacci</td>\n      <td>17th century</td>\n      <td>Encyclopedic work</td>\n      <td>Astronomy/Astrology/Cosmography</td>\n      <td>Almagestum novum(e-rara.ch)Almagestum novum(ÖN...</td>\n      <td>699869</td>\n      <td>This treatise of enormous length (about 2000 p...</td>\n      <td>Graney 2015</td>\n      <td>Sphaera mundi‎(← links)</td>\n      <td>Riccioli, Giovanni Battista:Almagestum novum, ...</td>\n      <td>Publication history obscure, to clarify. e-rar...</td>\n      <td>JL</td>\n      <td>Yes</td>\n      <td>OA</td>\n      <td>NaN</td>\n    </tr>\n  </tbody>\n</table>\n</div>"
     },
     "execution_count": 8,
     "metadata": {},
     "output_type": "execute_result"
    }
   ],
   "source": [
    "metadata_table.head(20)"
   ],
   "metadata": {
    "collapsed": false,
    "ExecuteTime": {
     "end_time": "2023-11-21T09:10:30.019790Z",
     "start_time": "2023-11-21T09:10:30.000707Z"
    }
   },
   "id": "75a669b460b34bd6"
  },
  {
   "cell_type": "code",
   "execution_count": 9,
   "outputs": [
    {
     "data": {
      "text/plain": "['607720',\n '605919(in:ΟΥΡΕΣΙΦΟΙΤΗΣ Helveticus)',\n 'not available',\n '769230',\n '749217',\n '900767(3rd edition, Amberg 1608)',\n '748052',\n '801745',\n '900763',\n '801744',\n 'not available',\n '653295',\n '775165',\n '807622(Vol. 1)807623(Vol. 2)807624(Vol. 3)',\n '683332',\n '597737',\n '616642',\n '616643(Basel 1561)',\n '899971',\n '699869',\n 'not available',\n '913057(vol. 1)913059(vol. 2)913060(vol. 3)913061(vol. 4)913062(vol. 5)913063(vol. 6)913064(vol. 7)913065(vol. 8)913066(vol. 9)913058(vol. 10)',\n '807407',\n '750210',\n '862096',\n '691442',\n '801743',\n '696410',\n '598518',\n '689823',\n 'not available',\n '807625',\n '900764',\n '689826',\n '658382',\n '643408',\n '900765',\n '801742',\n '604274(Amsterdam 1748)',\n '691681(Vol. 1)691682(Vol. 2)',\n '1479057',\n '1461594',\n '713325',\n '616640',\n '1285853(Brussels 1647)',\n '801750',\n 'not available',\n '708107',\n '708106',\n '782232',\n '652471',\n '807329',\n '652468',\n '705022',\n '901017',\n '831513',\n '699868',\n '906157(Târgu Mureș 1832)',\n '748052(Vol. 1)748051(Vol. 2)',\n '696429',\n '744031',\n 'not available',\n '915172',\n '807330',\n '899970',\n '915240',\n '616645',\n '897956',\n '901015',\n '804027',\n '901016',\n '822454',\n '807388',\n '750212(Vol. 3)750213(Vol. 4)',\n '660344',\n 'not available',\n '702149',\n '807626',\n '901014',\n '833197(Oxford 1702)',\n '701785',\n '804024',\n '928156',\n '907179',\n '710272643448(in: Oudin, François:Poemata didascalica, vol. 2, Paris 1749, 224-271)',\n '748050',\n '664563',\n '769230',\n '643450(in:Poemata didascalica, 1st ed., vol. 3)710449(in:Poemata didascalica, 2nd ed., vol. 2)',\n '598104(Basel 1530)705020(Paris 1541)705019(Leipzig 1546)616637, in:Georgii Agricolae De ortu causis subterraneorum libri V, Basel 1546',\n '607724',\n '693143(vol. 1)693142(vol. 2)',\n '653294',\n '929707',\n '704339',\n '630005',\n '770049(Part 1)770048(Part 2)',\n '630006(Padova 1654)746791(Bergamo 1742)',\n '653298',\n '605918']"
     },
     "execution_count": 9,
     "metadata": {},
     "output_type": "execute_result"
    }
   ],
   "source": [
    "metadata_table[\"Digital sourcebook\"].tolist()[:100]"
   ],
   "metadata": {
    "collapsed": false,
    "ExecuteTime": {
     "end_time": "2023-11-21T09:10:30.134887Z",
     "start_time": "2023-11-21T09:10:30.093864Z"
    }
   },
   "id": "5b5d63c83142612f"
  },
  {
   "cell_type": "code",
   "execution_count": 10,
   "outputs": [
    {
     "data": {
      "text/plain": "'913057(vol. 1)913059(vol. 2)913060(vol. 3)913061(vol. 4)913062(vol. 5)913063(vol. 6)913064(vol. 7)913065(vol. 8)913066(vol. 9)913058(vol. 10)'"
     },
     "execution_count": 10,
     "metadata": {},
     "output_type": "execute_result"
    }
   ],
   "source": [
    "id_text = metadata_table[\"Digital sourcebook\"].tolist()[21]\n",
    "id_text"
   ],
   "metadata": {
    "collapsed": false,
    "ExecuteTime": {
     "end_time": "2023-11-21T09:10:30.228805Z",
     "start_time": "2023-11-21T09:10:30.214637Z"
    }
   },
   "id": "b7caa508bc70c737"
  },
  {
   "cell_type": "code",
   "execution_count": 11,
   "outputs": [],
   "source": [
    "def clean_id(id_text):\n",
    "    try:\n",
    "        ids = [int(id) for id in re.findall(\"\\d{5,8}\", id_text)]\n",
    "    except:\n",
    "        ids = []\n",
    "    return ids"
   ],
   "metadata": {
    "collapsed": false,
    "ExecuteTime": {
     "end_time": "2023-11-21T09:10:30.334711Z",
     "start_time": "2023-11-21T09:10:30.328489Z"
    }
   },
   "id": "8ad9f7ace409933e"
  },
  {
   "cell_type": "code",
   "execution_count": 12,
   "outputs": [
    {
     "data": {
      "text/plain": "[913057,\n 913059,\n 913060,\n 913061,\n 913062,\n 913063,\n 913064,\n 913065,\n 913066,\n 913058]"
     },
     "execution_count": 12,
     "metadata": {},
     "output_type": "execute_result"
    }
   ],
   "source": [
    "clean_id(id_text)"
   ],
   "metadata": {
    "collapsed": false,
    "ExecuteTime": {
     "end_time": "2023-11-21T09:10:30.455021Z",
     "start_time": "2023-11-21T09:10:30.448549Z"
    }
   },
   "id": "9605e8afd533ca51"
  },
  {
   "cell_type": "code",
   "execution_count": 13,
   "outputs": [],
   "source": [
    "metadata_table[\"ids\"] = metadata_table[\"Digital sourcebook\"].apply(clean_id)"
   ],
   "metadata": {
    "collapsed": false,
    "ExecuteTime": {
     "end_time": "2023-11-21T09:10:31.038757Z",
     "start_time": "2023-11-21T09:10:31.034515Z"
    }
   },
   "id": "7ce5ac228c5da2f2"
  },
  {
   "cell_type": "code",
   "execution_count": 14,
   "outputs": [
    {
     "data": {
      "text/plain": "                     Author  \\\n0    Pardies, Ignace Gaston   \n1  Scheuchzer, Johann Jakob   \n2        Morabito, Giuseppe   \n3           Addison, Joseph   \n4           Lipsius, Justus   \n5                Owen, John   \n6            Costus, Petrus   \n7         Acidalius, Valens   \n8          Paulinus, Fabius   \n9            Sands, Patrick   \n\n                                          Full title  \\\n0  A Latin Letter written to the Publisher April ...   \n1  Acarnania sive Relatio eorum, quae hactenus el...   \n2  Ad astronautas Americanos carmen Iosephi Morab...   \n3  Ad insignissimum virum dominum Thomam Burnettu...   \n4                              Ad Clusii nomen lusus   \n5                               Ad Dominum Gilbertum   \n6  Petrus Costus ad Gulielmum Rondeletium medicum...   \n7                 Ad Iordanum Brunum Nolanum, Italum   \n8  Ad clarissimum virum Laurentium Massam, sereni...   \n9               Ad lectorem trigonometriae studiosum   \n\n                                                  In  Year              Place  \\\n0  Philosophical Transactions of the Royal Societ...  1672             London   \n1    ΟΥΡΕΣΙΦΟΙΤΗΣ (Ouresiphoites) Helveticus, 609–35  1723             Leiden   \n2  Fons pacis. Nova aetas. Ad astronautas America...  1969          Amsterdam   \n3  Examen poeticum duplex, sive, Musarum anglican...  1698             London   \n4  L'Ecluse, Charles de, Rariorum aliquot stirpiu...  1583            Antwerp   \n5  Epigrammatum libri tres. Auctore Ioanne Owen B...  1606             London   \n6              Aquatilium historia, vol. 1, fol. α3r  1554               Lyon   \n7  Poematum Iani Lernutii, Iani Gulielmi, Valenti...  1603  Liegnitz, Wrocław   \n8  Avicennae, Arabum medicorum principis, ex Gera...  1595             Venice   \n9  Mirifici logarithmorum canonis descriptioeiusq...  1614          Edinburgh   \n\n                        Publisher/Printer           Era  \\\n0                                  Martyn  17th century   \n1                      van der Aa, Pieter  18th century   \n2  Nord-Hollandsche Uitgevers Maatschapij    After 1800   \n3                   Richard Wellington I.  17th century   \n4                                 Plantin  16th century   \n5           Windet, John, Waterson, Simon  17th century   \n6                                Bonhomme  16th century   \n7                           Albert, David  17th century   \n8                                I Giunti  16th century   \n9                              Andro Hart  17th century   \n\n                Form/Genre                                 Discipline/Content  \\\n0           Letter, Review                                            Physics   \n1  Biography, Bibliography  Mathematics, Physics, Geography/Cartography, M...   \n2           Panegyric poem                    Astronomy/Astrology/Cosmography   \n3           Panegyric poem                         Meteorology/Earth sciences   \n4           Panegyric poem         Biology, Medicine, Other (see description)   \n5  Other (see description)                    Astronomy/Astrology/Cosmography   \n6           Panegyric poem                                            Biology   \n7           Panegyric poem                    Astronomy/Astrology/Cosmography   \n8           Panegyric poem                                           Medicine   \n9           Panegyric poem                                        Mathematics   \n\n                                            Original  ...  \\\n0                              A Latin Letter(JSTOR)  ...   \n1  Acarnania (1st edition), inMiscellanea Lipsien...  ...   \n2                           Download PDF(Transcript)  ...   \n3  Ad Burnettum sacrae theoriae telluris auctorem...  ...   \n4  Ad Clusii nomen lusus(Biblioteca Digital Real ...  ...   \n5  3rd edition (Amberg 1608)(Google Books)Digital...  ...   \n6          Aquatilium historia, vol. 1(Google Books)  ...   \n7  Ad Iordanum Brunum (1603)(CAMENA)Ad Iordanum B...  ...   \n8  Ad Laurentium Massam pro Avicenna ode(Google B...  ...   \n9  Ad lectorem trigonometriae studiosum(Google Bo...  ...   \n\n                                         Description  \\\n0  In Feburary of 1672,Isaac Newtonpublished his ...   \n1  The remarknunc primum editain the title of thi...   \n2  As late as the 20th century, the imagination o...   \n3  To the Very Famous Mr. Thomas Burnet, Author o...   \n4  This witty epigram by the famous Flemish philo...   \n5  John Owen was the most popular Anglo-Latin epi...   \n6  The first volume of Rondelet'sAquatilium histo...   \n7  Most of the posthumously edited epigrams of th...   \n8  Giovanni Costeo's and Giovanni Paolo Mongio's ...   \n9  When John Napier communicated his invention of...   \n\n                                          References  \\\n0                           Harmon; Gross 2007, 22–5   \n1                                                NaN   \n2  Giustiniani 1979, 108 (list of award-winning p...   \n3                                                NaN   \n4                                 Ogilvie 2011, 28-9   \n5  Martyn 1976–1978;Durand 2016(editions)Jansen 2009   \n6                                                NaN   \n7                              Kühlmann 1979, 152–53   \n8                                  Siraisi 1987, 143   \n9                                       McOmish 2017   \n\n                                            Cited in  \\\n0  Pardies, Ignace Gaston‎(← links)Mr. Newtons Le...   \n1  Charta invitatoria‎(← links)ΟΥΡΕΣΙΦΟΙΤΗΣ (Oure...   \n2                       Morabito, Giuseppe‎(← links)   \n3  Addison, Joseph‎(← links)Nova philosophia vete...   \n4  Rariorum stirpium per Pannoniam et Austriam ob...   \n5    Owen, John‎(← links)An terra moveatur‎(← links)   \n6  Aquatilium historia‎(← links)Costus, Petrus‎(←...   \n7                        Acidalius, Valens‎(← links)   \n8                         Paulinus, Fabius‎(← links)   \n9  Mirifici logarithmorum canonis descriptio‎(← l...   \n\n                              How to cite this entry  \\\n0  Pardies, Ignace Gaston:A Latin Letter containi...   \n1  Scheuchzer, Johann Jakob:Acarnania, in: Noscem...   \n2  Morabito, Giuseppe:Ad astronautas Americanos, ...   \n3  Addison, Joseph:Ad Burnettum sacrae theoriae t...   \n4  Lipsius, Justus:Ad Clusii nomen lusus, in: Nos...   \n5  Owen, John:Ad Gilbertum, in: Noscemus Wiki, UR...   \n6  Costus, Petrus:Ad Gulielmum Rondeletium, in: N...   \n7  Acidalius, Valens:Ad Iordanum Brunum, in: Nosc...   \n8  Paulinus, Fabius:Ad Laurentium Massam pro Avic...   \n9  Sands, Patrick:Ad lectorem trigonometriae stud...   \n\n                                      Internal notes Of interest to  \\\n0                                           RECENSIO            NaN   \n1                                                NaN             MK   \n2  The Earthrise picture and \"Please be informed ...             IT   \n3                                                NaN         MK, IT   \n4  Possibly, this epigram could be found in Lipsi...             IT   \n5  First edition in sharefolder.The epigram was a...         JL, IT   \n6                                                NaN             MK   \n7  Kühlmann must have overlooked the poem in the ...         MK, IT   \n8  On the title page of the edition, the many acc...             MK   \n9  Sands also wrote a poem for Napier'sRabdologia...             IT   \n\n  Transkribus text available Written by Library and Signature       ids  \n0                        Yes         IT                   NaN  [607720]  \n1                        Yes         MK                   NaN  [605919]  \n2                        NaN         IT                   NaN        []  \n3                        Yes         MK                   NaN  [769230]  \n4                        Yes         IT                   NaN  [749217]  \n5                        Yes         IT                   NaN  [900767]  \n6                        Yes         MK                   NaN  [748052]  \n7                        Yes         MK                   NaN  [801745]  \n8                        Yes         MK                   NaN  [900763]  \n9                        Yes         IT                   NaN  [801744]  \n\n[10 rows x 21 columns]",
      "text/html": "<div>\n<style scoped>\n    .dataframe tbody tr th:only-of-type {\n        vertical-align: middle;\n    }\n\n    .dataframe tbody tr th {\n        vertical-align: top;\n    }\n\n    .dataframe thead th {\n        text-align: right;\n    }\n</style>\n<table border=\"1\" class=\"dataframe\">\n  <thead>\n    <tr style=\"text-align: right;\">\n      <th></th>\n      <th>Author</th>\n      <th>Full title</th>\n      <th>In</th>\n      <th>Year</th>\n      <th>Place</th>\n      <th>Publisher/Printer</th>\n      <th>Era</th>\n      <th>Form/Genre</th>\n      <th>Discipline/Content</th>\n      <th>Original</th>\n      <th>...</th>\n      <th>Description</th>\n      <th>References</th>\n      <th>Cited in</th>\n      <th>How to cite this entry</th>\n      <th>Internal notes</th>\n      <th>Of interest to</th>\n      <th>Transkribus text available</th>\n      <th>Written by</th>\n      <th>Library and Signature</th>\n      <th>ids</th>\n    </tr>\n  </thead>\n  <tbody>\n    <tr>\n      <th>0</th>\n      <td>Pardies, Ignace Gaston</td>\n      <td>A Latin Letter written to the Publisher April ...</td>\n      <td>Philosophical Transactions of the Royal Societ...</td>\n      <td>1672</td>\n      <td>London</td>\n      <td>Martyn</td>\n      <td>17th century</td>\n      <td>Letter, Review</td>\n      <td>Physics</td>\n      <td>A Latin Letter(JSTOR)</td>\n      <td>...</td>\n      <td>In Feburary of 1672,Isaac Newtonpublished his ...</td>\n      <td>Harmon; Gross 2007, 22–5</td>\n      <td>Pardies, Ignace Gaston‎(← links)Mr. Newtons Le...</td>\n      <td>Pardies, Ignace Gaston:A Latin Letter containi...</td>\n      <td>RECENSIO</td>\n      <td>NaN</td>\n      <td>Yes</td>\n      <td>IT</td>\n      <td>NaN</td>\n      <td>[607720]</td>\n    </tr>\n    <tr>\n      <th>1</th>\n      <td>Scheuchzer, Johann Jakob</td>\n      <td>Acarnania sive Relatio eorum, quae hactenus el...</td>\n      <td>ΟΥΡΕΣΙΦΟΙΤΗΣ (Ouresiphoites) Helveticus, 609–35</td>\n      <td>1723</td>\n      <td>Leiden</td>\n      <td>van der Aa, Pieter</td>\n      <td>18th century</td>\n      <td>Biography, Bibliography</td>\n      <td>Mathematics, Physics, Geography/Cartography, M...</td>\n      <td>Acarnania (1st edition), inMiscellanea Lipsien...</td>\n      <td>...</td>\n      <td>The remarknunc primum editain the title of thi...</td>\n      <td>NaN</td>\n      <td>Charta invitatoria‎(← links)ΟΥΡΕΣΙΦΟΙΤΗΣ (Oure...</td>\n      <td>Scheuchzer, Johann Jakob:Acarnania, in: Noscem...</td>\n      <td>NaN</td>\n      <td>MK</td>\n      <td>Yes</td>\n      <td>MK</td>\n      <td>NaN</td>\n      <td>[605919]</td>\n    </tr>\n    <tr>\n      <th>2</th>\n      <td>Morabito, Giuseppe</td>\n      <td>Ad astronautas Americanos carmen Iosephi Morab...</td>\n      <td>Fons pacis. Nova aetas. Ad astronautas America...</td>\n      <td>1969</td>\n      <td>Amsterdam</td>\n      <td>Nord-Hollandsche Uitgevers Maatschapij</td>\n      <td>After 1800</td>\n      <td>Panegyric poem</td>\n      <td>Astronomy/Astrology/Cosmography</td>\n      <td>Download PDF(Transcript)</td>\n      <td>...</td>\n      <td>As late as the 20th century, the imagination o...</td>\n      <td>Giustiniani 1979, 108 (list of award-winning p...</td>\n      <td>Morabito, Giuseppe‎(← links)</td>\n      <td>Morabito, Giuseppe:Ad astronautas Americanos, ...</td>\n      <td>The Earthrise picture and \"Please be informed ...</td>\n      <td>IT</td>\n      <td>NaN</td>\n      <td>IT</td>\n      <td>NaN</td>\n      <td>[]</td>\n    </tr>\n    <tr>\n      <th>3</th>\n      <td>Addison, Joseph</td>\n      <td>Ad insignissimum virum dominum Thomam Burnettu...</td>\n      <td>Examen poeticum duplex, sive, Musarum anglican...</td>\n      <td>1698</td>\n      <td>London</td>\n      <td>Richard Wellington I.</td>\n      <td>17th century</td>\n      <td>Panegyric poem</td>\n      <td>Meteorology/Earth sciences</td>\n      <td>Ad Burnettum sacrae theoriae telluris auctorem...</td>\n      <td>...</td>\n      <td>To the Very Famous Mr. Thomas Burnet, Author o...</td>\n      <td>NaN</td>\n      <td>Addison, Joseph‎(← links)Nova philosophia vete...</td>\n      <td>Addison, Joseph:Ad Burnettum sacrae theoriae t...</td>\n      <td>NaN</td>\n      <td>MK, IT</td>\n      <td>Yes</td>\n      <td>MK</td>\n      <td>NaN</td>\n      <td>[769230]</td>\n    </tr>\n    <tr>\n      <th>4</th>\n      <td>Lipsius, Justus</td>\n      <td>Ad Clusii nomen lusus</td>\n      <td>L'Ecluse, Charles de, Rariorum aliquot stirpiu...</td>\n      <td>1583</td>\n      <td>Antwerp</td>\n      <td>Plantin</td>\n      <td>16th century</td>\n      <td>Panegyric poem</td>\n      <td>Biology, Medicine, Other (see description)</td>\n      <td>Ad Clusii nomen lusus(Biblioteca Digital Real ...</td>\n      <td>...</td>\n      <td>This witty epigram by the famous Flemish philo...</td>\n      <td>Ogilvie 2011, 28-9</td>\n      <td>Rariorum stirpium per Pannoniam et Austriam ob...</td>\n      <td>Lipsius, Justus:Ad Clusii nomen lusus, in: Nos...</td>\n      <td>Possibly, this epigram could be found in Lipsi...</td>\n      <td>IT</td>\n      <td>Yes</td>\n      <td>IT</td>\n      <td>NaN</td>\n      <td>[749217]</td>\n    </tr>\n    <tr>\n      <th>5</th>\n      <td>Owen, John</td>\n      <td>Ad Dominum Gilbertum</td>\n      <td>Epigrammatum libri tres. Auctore Ioanne Owen B...</td>\n      <td>1606</td>\n      <td>London</td>\n      <td>Windet, John, Waterson, Simon</td>\n      <td>17th century</td>\n      <td>Other (see description)</td>\n      <td>Astronomy/Astrology/Cosmography</td>\n      <td>3rd edition (Amberg 1608)(Google Books)Digital...</td>\n      <td>...</td>\n      <td>John Owen was the most popular Anglo-Latin epi...</td>\n      <td>Martyn 1976–1978;Durand 2016(editions)Jansen 2009</td>\n      <td>Owen, John‎(← links)An terra moveatur‎(← links)</td>\n      <td>Owen, John:Ad Gilbertum, in: Noscemus Wiki, UR...</td>\n      <td>First edition in sharefolder.The epigram was a...</td>\n      <td>JL, IT</td>\n      <td>Yes</td>\n      <td>IT</td>\n      <td>NaN</td>\n      <td>[900767]</td>\n    </tr>\n    <tr>\n      <th>6</th>\n      <td>Costus, Petrus</td>\n      <td>Petrus Costus ad Gulielmum Rondeletium medicum...</td>\n      <td>Aquatilium historia, vol. 1, fol. α3r</td>\n      <td>1554</td>\n      <td>Lyon</td>\n      <td>Bonhomme</td>\n      <td>16th century</td>\n      <td>Panegyric poem</td>\n      <td>Biology</td>\n      <td>Aquatilium historia, vol. 1(Google Books)</td>\n      <td>...</td>\n      <td>The first volume of Rondelet'sAquatilium histo...</td>\n      <td>NaN</td>\n      <td>Aquatilium historia‎(← links)Costus, Petrus‎(←...</td>\n      <td>Costus, Petrus:Ad Gulielmum Rondeletium, in: N...</td>\n      <td>NaN</td>\n      <td>MK</td>\n      <td>Yes</td>\n      <td>MK</td>\n      <td>NaN</td>\n      <td>[748052]</td>\n    </tr>\n    <tr>\n      <th>7</th>\n      <td>Acidalius, Valens</td>\n      <td>Ad Iordanum Brunum Nolanum, Italum</td>\n      <td>Poematum Iani Lernutii, Iani Gulielmi, Valenti...</td>\n      <td>1603</td>\n      <td>Liegnitz, Wrocław</td>\n      <td>Albert, David</td>\n      <td>17th century</td>\n      <td>Panegyric poem</td>\n      <td>Astronomy/Astrology/Cosmography</td>\n      <td>Ad Iordanum Brunum (1603)(CAMENA)Ad Iordanum B...</td>\n      <td>...</td>\n      <td>Most of the posthumously edited epigrams of th...</td>\n      <td>Kühlmann 1979, 152–53</td>\n      <td>Acidalius, Valens‎(← links)</td>\n      <td>Acidalius, Valens:Ad Iordanum Brunum, in: Nosc...</td>\n      <td>Kühlmann must have overlooked the poem in the ...</td>\n      <td>MK, IT</td>\n      <td>Yes</td>\n      <td>MK</td>\n      <td>NaN</td>\n      <td>[801745]</td>\n    </tr>\n    <tr>\n      <th>8</th>\n      <td>Paulinus, Fabius</td>\n      <td>Ad clarissimum virum Laurentium Massam, sereni...</td>\n      <td>Avicennae, Arabum medicorum principis, ex Gera...</td>\n      <td>1595</td>\n      <td>Venice</td>\n      <td>I Giunti</td>\n      <td>16th century</td>\n      <td>Panegyric poem</td>\n      <td>Medicine</td>\n      <td>Ad Laurentium Massam pro Avicenna ode(Google B...</td>\n      <td>...</td>\n      <td>Giovanni Costeo's and Giovanni Paolo Mongio's ...</td>\n      <td>Siraisi 1987, 143</td>\n      <td>Paulinus, Fabius‎(← links)</td>\n      <td>Paulinus, Fabius:Ad Laurentium Massam pro Avic...</td>\n      <td>On the title page of the edition, the many acc...</td>\n      <td>MK</td>\n      <td>Yes</td>\n      <td>MK</td>\n      <td>NaN</td>\n      <td>[900763]</td>\n    </tr>\n    <tr>\n      <th>9</th>\n      <td>Sands, Patrick</td>\n      <td>Ad lectorem trigonometriae studiosum</td>\n      <td>Mirifici logarithmorum canonis descriptioeiusq...</td>\n      <td>1614</td>\n      <td>Edinburgh</td>\n      <td>Andro Hart</td>\n      <td>17th century</td>\n      <td>Panegyric poem</td>\n      <td>Mathematics</td>\n      <td>Ad lectorem trigonometriae studiosum(Google Bo...</td>\n      <td>...</td>\n      <td>When John Napier communicated his invention of...</td>\n      <td>McOmish 2017</td>\n      <td>Mirifici logarithmorum canonis descriptio‎(← l...</td>\n      <td>Sands, Patrick:Ad lectorem trigonometriae stud...</td>\n      <td>Sands also wrote a poem for Napier'sRabdologia...</td>\n      <td>IT</td>\n      <td>Yes</td>\n      <td>IT</td>\n      <td>NaN</td>\n      <td>[801744]</td>\n    </tr>\n  </tbody>\n</table>\n<p>10 rows × 21 columns</p>\n</div>"
     },
     "execution_count": 14,
     "metadata": {},
     "output_type": "execute_result"
    }
   ],
   "source": [
    "metadata_table.head(10)"
   ],
   "metadata": {
    "collapsed": false,
    "ExecuteTime": {
     "end_time": "2023-11-21T09:10:31.271205Z",
     "start_time": "2023-11-21T09:10:31.240149Z"
    }
   },
   "id": "f752a237eaa4e787"
  },
  {
   "cell_type": "code",
   "execution_count": 15,
   "outputs": [
    {
     "data": {
      "text/plain": "{'Author': 'Pardies, Ignace Gaston',\n 'Full title': 'A Latin Letter written to the Publisher April 9. 1672. n. st. by Ignatius Gaston Pardies P. Prof. of the Mathematicks in the Parisian Colledge of Clermont, containing some Animadversions upon Mr. Isaac Newton, Prof. of the Mathematicks in the University of Cambridge, his Theory of Light, printed in N.° 80.',\n 'In': 'Philosophical Transactions of the Royal Society 7/84, 4087–90',\n 'Year': '1672',\n 'Place': 'London',\n 'Publisher/Printer': 'Martyn',\n 'Era': '17th century',\n 'Form/Genre': 'Letter, Review',\n 'Discipline/Content': 'Physics',\n 'Original': 'A Latin Letter(JSTOR)',\n 'Digital sourcebook': '607720',\n 'Description': 'In Feburary of 1672,Isaac Newtonpublished his groundbreaking new theory about light and colours, in anEnglish paperin the 80th issue of thePhilosophical Transactions(p. 3075–87). In this scientific paper styled as a letter, Newton accounts how through his experiments with glass prisms, he came to the conclusion that white light consisted of spectral colours each of which was differently refrangible. However, Newton\\'s theory was soon opposed, most notably by Robert Hooke andChristiaan Huygens, but also by the Parisian Jesuit and professor of mathematics Ignace Pardies, who wrote two letters on Newton\\'s theory of light. This is the second of Pardies\\' letters, a short Latin text addressed to the editor of thePhilosophical TransactionsHenry Oldenburg. As on of the first reactions to Newton\\'s theory of light and colours, it was written in April in the same year of 1672 and published in the 84th issue of the journal together withNewton\\'s response, which was written in Latin as well.Although in reality this was a scientific discussion between Pardies and Newton, both their letters are fashioned as conversations with the editor Henry Oldenburg about Newton\\'s theory of light and colour. Thus, Pardies\\' letter starts:Legi ingeniosissimam hypothesin de lumine et coloribus clarissimi Newtoni. Et quia nonnullam ego operam dedi in ista contemplatione ac experimentis peragendis, perscribam ad te pauca, quae mihi circa novam istam doctrinam occurrerunt. (\"I read the most ingenious hypothesis about light and colour by the most famous Newton. And since I myself made some efforts in thinking it through and conducting the experiments, I will write to you a few things that came to my mind about this new doctrine.\") Although disagreeing with Newton\\'s theory, Pardies is very polite in his letter, calling Newton\\'s theoryingeniosissimaand Newton himself bothclarissimusanderuditissimus. As it is printed, the letter lacks asalutatioorconclusioto the addressee Oldenbourg, but gets straight to the point of Newton\\'s theory of colours, which is first briefly introduced and then discussed in detail.Pardies first provides a Latin summary of Newton\\'s theory of light and colours and procedes to raise his points of criticism: Newton\\'s hypothesis of light, while relying wholly on one prism experiment, would radically change the whole fundaments of optics and renders the traditional practice useless (dioptricae fundamenta evertit, praxesque hactenus institutas inutiles reddit, p. 4087). Instead, Pardies argues that Newton\\'s observation that light passing through a glass prism acquired an oblong instead of a circular shape can still be explained according to the established rules of optics (iuxta communes et receptas dioptricae leges, p. 4087) and does not require the different refrangibility of rays within white light. In the main part of the letter, Pardies tries to prove his claim by means of a geometric-mathematical argumentation, which is supported by a diagram. On the last page, Pardies turns to the idea of different colours coexisting within white light, an idea that was hard to imagine and seemed to contradict experience: while this idea follows perfectly from Newton\\'s hypothesis, Pardies says, colours are not able to blend into something white, but only into something dark, as can be observed in painting colours.The letter by Pardies is evidence that Newton\\'s paper on the theory of light and colours, though printed in English, led to an international scientific discussion that was at least partially conducted and printed in Latin. Although the principal language of publication and scientific discourse in thePhilosophical Transactionswas English, not only was Pardies\\' letter printed in the journal in its original Latin, but, crucially, Newton felt compelled to respond in Latin, too.',\n 'References': 'Harmon; Gross 2007, 22–5',\n 'Cited in': 'Pardies, Ignace Gaston\\u200e(← links)Mr. Newtons Letter, being an Answer to the Letter of P. Pardies\\u200e(← links)',\n 'How to cite this entry': 'Pardies, Ignace Gaston:A Latin Letter containing some Animadversions upon Mr. Isaac Newton, his Theory of Light, in: Noscemus Wiki, URL:http://wiki.uibk.ac.at/noscemus/A_Latin_Letter_containing_some_Animadversions_upon_Mr._Isaac_Newton,_his_Theory_of_Light(last revision: 03.01.2023).',\n 'Internal notes': 'RECENSIO',\n 'Of interest to': nan,\n 'Transkribus text available': 'Yes',\n 'Written by': 'IT',\n 'Library and Signature': nan,\n 'ids': [607720]}"
     },
     "execution_count": 15,
     "metadata": {},
     "output_type": "execute_result"
    }
   ],
   "source": [
    "metadata_table.iloc[0].to_dict()"
   ],
   "metadata": {
    "collapsed": false,
    "ExecuteTime": {
     "end_time": "2023-11-21T09:10:31.562511Z",
     "start_time": "2023-11-21T09:10:31.550322Z"
    }
   },
   "id": "612b13e0410bc6bf"
  },
  {
   "cell_type": "code",
   "execution_count": 16,
   "outputs": [],
   "source": [
    "metadata_table_long = []\n",
    "for n in range(len(metadata_table)):\n",
    "    df_row_dict = metadata_table.iloc[n].to_dict()\n",
    "    for oneid in df_row_dict[\"ids\"]:\n",
    "        df_row_dict[\"id\"] = oneid\n",
    "        metadata_table_long.append(df_row_dict)\n",
    "        df_row_dict = df_row_dict.copy()"
   ],
   "metadata": {
    "collapsed": false,
    "ExecuteTime": {
     "end_time": "2023-11-21T09:10:31.958732Z",
     "start_time": "2023-11-21T09:10:31.934227Z"
    }
   },
   "id": "b37850c866154fea"
  },
  {
   "cell_type": "code",
   "execution_count": 17,
   "outputs": [
    {
     "data": {
      "text/plain": "                            Author  \\\n0           Pardies, Ignace Gaston   \n1         Scheuchzer, Johann Jakob   \n2                  Addison, Joseph   \n3                  Lipsius, Justus   \n4                       Owen, John   \n5                   Costus, Petrus   \n6                Acidalius, Valens   \n7                 Paulinus, Fabius   \n8                   Sands, Patrick   \n9               Biancani, Giuseppe   \n10  Barberini, Maffeo (Urban VIII)   \n11                  Bettini, Mario   \n12                  Bettini, Mario   \n13                  Bettini, Mario   \n14   Omodei, Antonio Filoteo degli   \n15               Libavius, Andreas   \n16            Grataroli, Guglielmo   \n17         Turcq, Pascasius Justus   \n18               Widmann, Johannes   \n19     Riccioli, Giovanni Battista   \n\n                                           Full title  \\\n0   A Latin Letter written to the Publisher April ...   \n1   Acarnania sive Relatio eorum, quae hactenus el...   \n2   Ad insignissimum virum dominum Thomam Burnettu...   \n3                               Ad Clusii nomen lusus   \n4                                Ad Dominum Gilbertum   \n5   Petrus Costus ad Gulielmum Rondeletium medicum...   \n6                  Ad Iordanum Brunum Nolanum, Italum   \n7   Ad clarissimum virum Laurentium Massam, sereni...   \n8                Ad lectorem trigonometriae studiosum   \n9   Additamentum de natura scientiarum mathematicarum   \n10                           Adulatio perniciosa. Ode   \n11  Aerarium philosophiae mathematicae, in quo ele...   \n12  Aerarium philosophiae mathematicae, in quo ele...   \n13  Aerarium philosophiae mathematicae, in quo ele...   \n14  Antonii Philothei de Homodeis Siculi Aetnae to...   \n15  D.O.M.A. Alchemia Andreae Libavii, medicinae d...   \n16  Alchemiae, quam vocant artisque metallicae doc...   \n17  Pascasii Justi Ecloviensis, Philosophiae et Me...   \n18                   Algorithmus minutiarum vulgarium   \n19  Almagestum Novum astronomiam veterem novamque ...   \n\n                                                   In        Year  \\\n0   Philosophical Transactions of the Royal Societ...        1672   \n1     ΟΥΡΕΣΙΦΟΙΤΗΣ (Ouresiphoites) Helveticus, 609–35        1723   \n2   Examen poeticum duplex, sive, Musarum anglican...        1698   \n3   L'Ecluse, Charles de, Rariorum aliquot stirpiu...        1583   \n4   Epigrammatum libri tres. Auctore Ioanne Owen B...        1606   \n5               Aquatilium historia, vol. 1, fol. α3r        1554   \n6   Poematum Iani Lernutii, Iani Gulielmi, Valenti...        1603   \n7   Avicennae, Arabum medicorum principis, ex Gera...        1595   \n8   Mirifici logarithmorum canonis descriptioeiusq...        1614   \n9   Aristotelis loca mathematica ex universis ipsi...        1615   \n10  Illustrissimi et reverendissimi Maffaei sancta...        1620   \n11                                                NaN        1648   \n12                                                NaN        1648   \n13                                                NaN        1648   \n14                                                NaN        1591   \n15                                                NaN        1597   \n16                                                NaN        1572   \n17                                                NaN        1561   \n18                                                NaN   [c. 1490]   \n19                                                NaN  1651; 1665   \n\n                Place              Publisher/Printer  \\\n0              London                         Martyn   \n1              Leiden             van der Aa, Pieter   \n2              London          Richard Wellington I.   \n3             Antwerp                        Plantin   \n4              London  Windet, John, Waterson, Simon   \n5                Lyon                       Bonhomme   \n6   Liegnitz, Wrocław                  Albert, David   \n7              Venice                       I Giunti   \n8           Edinburgh                     Andro Hart   \n9             Bologna                          Cochi   \n10              Paris              Estienne, Antoine   \n11            Bologna                        Ferroni   \n12            Bologna                        Ferroni   \n13            Bologna                        Ferroni   \n14             Venice                        Muschio   \n15  Frankfurt am Main    Saur, Johannes, Kopf, Peter   \n16              Basel                          Perna   \n17              Basel              Oporinus, Joannes   \n18          [Leipzig]             [Martin Landsberg]   \n19            Bologna                        Benacci   \n\n                                         Era  \\\n0                               17th century   \n1                               18th century   \n2                               17th century   \n3                               16th century   \n4                               17th century   \n5                               16th century   \n6                               17th century   \n7                               16th century   \n8                               17th century   \n9                               17th century   \n10                              17th century   \n11                              17th century   \n12                              17th century   \n13                              17th century   \n14                              16th century   \n15                              16th century   \n16                              16th century   \n17                              16th century   \n18  15th century since invention of printing   \n19                              17th century   \n\n                                    Form/Genre  \\\n0                               Letter, Review   \n1                      Biography, Bibliography   \n2                               Panegyric poem   \n3                               Panegyric poem   \n4                      Other (see description)   \n5                               Panegyric poem   \n6                               Panegyric poem   \n7                               Panegyric poem   \n8                               Panegyric poem   \n9           Monograph, Other (see description)   \n10     Panegyric poem, Other (see description)   \n11                           Encyclopedic work   \n12                           Encyclopedic work   \n13                           Encyclopedic work   \n14                                   Monograph   \n15  Other (see description), Encyclopedic work   \n16  Other (see description), Encyclopedic work   \n17                                   Monograph   \n18                                    Textbook   \n19                           Encyclopedic work   \n\n                                   Discipline/Content  \\\n0                                             Physics   \n1   Mathematics, Physics, Geography/Cartography, M...   \n2                          Meteorology/Earth sciences   \n3          Biology, Medicine, Other (see description)   \n4                     Astronomy/Astrology/Cosmography   \n5                                             Biology   \n6                     Astronomy/Astrology/Cosmography   \n7                                            Medicine   \n8                                         Mathematics   \n9                                         Mathematics   \n10                    Astronomy/Astrology/Cosmography   \n11                                        Mathematics   \n12                                        Mathematics   \n13                                        Mathematics   \n14  Geography/Cartography, Meteorology/Earth sciences   \n15                                  Alchemy/Chemistry   \n16                                  Alchemy/Chemistry   \n17                                           Medicine   \n18                                        Mathematics   \n19                    Astronomy/Astrology/Cosmography   \n\n                                             Original  ...  \\\n0                               A Latin Letter(JSTOR)  ...   \n1   Acarnania (1st edition), inMiscellanea Lipsien...  ...   \n2   Ad Burnettum sacrae theoriae telluris auctorem...  ...   \n3   Ad Clusii nomen lusus(Biblioteca Digital Real ...  ...   \n4   3rd edition (Amberg 1608)(Google Books)Digital...  ...   \n5           Aquatilium historia, vol. 1(Google Books)  ...   \n6   Ad Iordanum Brunum (1603)(CAMENA)Ad Iordanum B...  ...   \n7   Ad Laurentium Massam pro Avicenna ode(Google B...  ...   \n8   Ad lectorem trigonometriae studiosum(Google Bo...  ...   \n9   Additamentum de natura scientiarum mathematica...  ...   \n10                  Adulatio perniciosa(Google Books)  ...   \n11  Aerarium philosophiae mathematicae, vol. 1,vol...  ...   \n12  Aerarium philosophiae mathematicae, vol. 1,vol...  ...   \n13  Aerarium philosophiae mathematicae, vol. 1,vol...  ...   \n14  Aetnae topographia(Google Books)Alternative li...  ...   \n15  Alchemia Libavii(e-rara.ch)Alternative link:ar...  ...   \n16  Alchemiae quam vocant artisque metallicae doct...  ...   \n17  Basel 1561, Neustadt an der Weinstraße1617/161...  ...   \n18              Algorithmus minutiarum vulgarium(WDB)  ...   \n19  Almagestum novum(e-rara.ch)Almagestum novum(ÖN...  ...   \n\n                                           References  \\\n0                            Harmon; Gross 2007, 22–5   \n1                                                 NaN   \n2                                                 NaN   \n3                                  Ogilvie 2011, 28-9   \n4   Martyn 1976–1978;Durand 2016(editions)Jansen 2009   \n5                                                 NaN   \n6                               Kühlmann 1979, 152–53   \n7                                   Siraisi 1987, 143   \n8                                        McOmish 2017   \n9   Mancosu 1996, pp. 15-19 and 178-212 (English t...   \n10                                                NaN   \n11                                                NaN   \n12                                                NaN   \n13                                                NaN   \n14    Clausi 1992Dizionario biografico degli Italiani   \n15                                                NaN   \n16                                                NaN   \n17  Cottier, Nadeau, Valleur 2014Kronegger-Roth 20...   \n18                    Gärtner 2000, 37–45, esp. 42–43   \n19                                        Graney 2015   \n\n                                             Cited in  \\\n0   Pardies, Ignace Gaston‎(← links)Mr. Newtons Le...   \n1   Charta invitatoria‎(← links)ΟΥΡΕΣΙΦΟΙΤΗΣ (Oure...   \n2   Addison, Joseph‎(← links)Nova philosophia vete...   \n3   Rariorum stirpium per Pannoniam et Austriam ob...   \n4     Owen, John‎(← links)An terra moveatur‎(← links)   \n5   Aquatilium historia‎(← links)Costus, Petrus‎(←...   \n6                         Acidalius, Valens‎(← links)   \n7                          Paulinus, Fabius‎(← links)   \n8   Mirifici logarithmorum canonis descriptio‎(← l...   \n9   Biancani, Giuseppe‎(← links)Clarorum mathemati...   \n10           Barberini, Maffeo (Urban VIII)‎(← links)   \n11                           Bettini, Mario‎(← links)   \n12                           Bettini, Mario‎(← links)   \n13                           Bettini, Mario‎(← links)   \n14                                                NaN   \n15  Libavius, Andreas‎(← links)Phaleuci ad Libaviu...   \n16                     Grataroli, Guglielmo‎(← links)   \n17                                                NaN   \n18  Widmann, Johannes‎(← links)Arithmetices erotem...   \n19                            Sphaera mundi‎(← links)   \n\n                               How to cite this entry  \\\n0   Pardies, Ignace Gaston:A Latin Letter containi...   \n1   Scheuchzer, Johann Jakob:Acarnania, in: Noscem...   \n2   Addison, Joseph:Ad Burnettum sacrae theoriae t...   \n3   Lipsius, Justus:Ad Clusii nomen lusus, in: Nos...   \n4   Owen, John:Ad Gilbertum, in: Noscemus Wiki, UR...   \n5   Costus, Petrus:Ad Gulielmum Rondeletium, in: N...   \n6   Acidalius, Valens:Ad Iordanum Brunum, in: Nosc...   \n7   Paulinus, Fabius:Ad Laurentium Massam pro Avic...   \n8   Sands, Patrick:Ad lectorem trigonometriae stud...   \n9   Biancani, Giuseppe:Additamentum de natura scie...   \n10  Barberini, Maffeo (Urban VIII):Adulatio pernic...   \n11  Bettini, Mario:Aerarium philosophiae mathemati...   \n12  Bettini, Mario:Aerarium philosophiae mathemati...   \n13  Bettini, Mario:Aerarium philosophiae mathemati...   \n14  Omodei, Antonio Filoteo degli:Aetnae topograph...   \n15  Libavius, Andreas:Alchemia Libavii, in: Noscem...   \n16  Grataroli, Guglielmo:Alchemiae quam vocant art...   \n17  Turcq, Pascasius Justus:Alea, in: Noscemus Wik...   \n18  Widmann, Johannes:Algorithmus minutiarum vulga...   \n19  Riccioli, Giovanni Battista:Almagestum novum, ...   \n\n                                       Internal notes Of interest to  \\\n0                                            RECENSIO            NaN   \n1                                                 NaN             MK   \n2                                                 NaN         MK, IT   \n3   Possibly, this epigram could be found in Lipsi...             IT   \n4   First edition in sharefolder.The epigram was a...         JL, IT   \n5                                                 NaN             MK   \n6   Kühlmann must have overlooked the poem in the ...         MK, IT   \n7   On the title page of the edition, the many acc...             MK   \n8   Sands also wrote a poem for Napier'sRabdologia...             IT   \n9   I would recommend to include Piccolomini's \"Co...         MK, FB   \n10                                                NaN             IT   \n11                                                NaN         MK, FB   \n12                                                NaN         MK, FB   \n13                                                NaN         MK, FB   \n14                                                NaN             OA   \n15                                                NaN             MK   \n16                                                NaN            NaN   \n17                                                NaN             WB   \n18                                                NaN         MK, FB   \n19  Publication history obscure, to clarify. e-rar...             JL   \n\n   Transkribus text available Written by Library and Signature  \\\n0                         Yes         IT                   NaN   \n1                         Yes         MK                   NaN   \n2                         Yes         MK                   NaN   \n3                         Yes         IT                   NaN   \n4                         Yes         IT                   NaN   \n5                         Yes         MK                   NaN   \n6                         Yes         MK                   NaN   \n7                         Yes         MK                   NaN   \n8                         Yes         IT                   NaN   \n9                         Yes     MK, FB                   NaN   \n10                        Yes         IT                   NaN   \n11                        Yes         MK                   NaN   \n12                        Yes         MK                   NaN   \n13                        Yes         MK                   NaN   \n14                        Yes         IT                   NaN   \n15                        Yes         MK                   NaN   \n16                        Yes         OA                   NaN   \n17                        Yes         WB                   NaN   \n18                        Yes     MK, FB                   NaN   \n19                        Yes         OA                   NaN   \n\n                         ids      id  \n0                   [607720]  607720  \n1                   [605919]  605919  \n2                   [769230]  769230  \n3                   [749217]  749217  \n4                   [900767]  900767  \n5                   [748052]  748052  \n6                   [801745]  801745  \n7                   [900763]  900763  \n8                   [801744]  801744  \n9                   [653295]  653295  \n10                  [775165]  775165  \n11  [807622, 807623, 807624]  807622  \n12  [807622, 807623, 807624]  807623  \n13  [807622, 807623, 807624]  807624  \n14                  [683332]  683332  \n15                  [597737]  597737  \n16                  [616642]  616642  \n17                  [616643]  616643  \n18                  [899971]  899971  \n19                  [699869]  699869  \n\n[20 rows x 22 columns]",
      "text/html": "<div>\n<style scoped>\n    .dataframe tbody tr th:only-of-type {\n        vertical-align: middle;\n    }\n\n    .dataframe tbody tr th {\n        vertical-align: top;\n    }\n\n    .dataframe thead th {\n        text-align: right;\n    }\n</style>\n<table border=\"1\" class=\"dataframe\">\n  <thead>\n    <tr style=\"text-align: right;\">\n      <th></th>\n      <th>Author</th>\n      <th>Full title</th>\n      <th>In</th>\n      <th>Year</th>\n      <th>Place</th>\n      <th>Publisher/Printer</th>\n      <th>Era</th>\n      <th>Form/Genre</th>\n      <th>Discipline/Content</th>\n      <th>Original</th>\n      <th>...</th>\n      <th>References</th>\n      <th>Cited in</th>\n      <th>How to cite this entry</th>\n      <th>Internal notes</th>\n      <th>Of interest to</th>\n      <th>Transkribus text available</th>\n      <th>Written by</th>\n      <th>Library and Signature</th>\n      <th>ids</th>\n      <th>id</th>\n    </tr>\n  </thead>\n  <tbody>\n    <tr>\n      <th>0</th>\n      <td>Pardies, Ignace Gaston</td>\n      <td>A Latin Letter written to the Publisher April ...</td>\n      <td>Philosophical Transactions of the Royal Societ...</td>\n      <td>1672</td>\n      <td>London</td>\n      <td>Martyn</td>\n      <td>17th century</td>\n      <td>Letter, Review</td>\n      <td>Physics</td>\n      <td>A Latin Letter(JSTOR)</td>\n      <td>...</td>\n      <td>Harmon; Gross 2007, 22–5</td>\n      <td>Pardies, Ignace Gaston‎(← links)Mr. Newtons Le...</td>\n      <td>Pardies, Ignace Gaston:A Latin Letter containi...</td>\n      <td>RECENSIO</td>\n      <td>NaN</td>\n      <td>Yes</td>\n      <td>IT</td>\n      <td>NaN</td>\n      <td>[607720]</td>\n      <td>607720</td>\n    </tr>\n    <tr>\n      <th>1</th>\n      <td>Scheuchzer, Johann Jakob</td>\n      <td>Acarnania sive Relatio eorum, quae hactenus el...</td>\n      <td>ΟΥΡΕΣΙΦΟΙΤΗΣ (Ouresiphoites) Helveticus, 609–35</td>\n      <td>1723</td>\n      <td>Leiden</td>\n      <td>van der Aa, Pieter</td>\n      <td>18th century</td>\n      <td>Biography, Bibliography</td>\n      <td>Mathematics, Physics, Geography/Cartography, M...</td>\n      <td>Acarnania (1st edition), inMiscellanea Lipsien...</td>\n      <td>...</td>\n      <td>NaN</td>\n      <td>Charta invitatoria‎(← links)ΟΥΡΕΣΙΦΟΙΤΗΣ (Oure...</td>\n      <td>Scheuchzer, Johann Jakob:Acarnania, in: Noscem...</td>\n      <td>NaN</td>\n      <td>MK</td>\n      <td>Yes</td>\n      <td>MK</td>\n      <td>NaN</td>\n      <td>[605919]</td>\n      <td>605919</td>\n    </tr>\n    <tr>\n      <th>2</th>\n      <td>Addison, Joseph</td>\n      <td>Ad insignissimum virum dominum Thomam Burnettu...</td>\n      <td>Examen poeticum duplex, sive, Musarum anglican...</td>\n      <td>1698</td>\n      <td>London</td>\n      <td>Richard Wellington I.</td>\n      <td>17th century</td>\n      <td>Panegyric poem</td>\n      <td>Meteorology/Earth sciences</td>\n      <td>Ad Burnettum sacrae theoriae telluris auctorem...</td>\n      <td>...</td>\n      <td>NaN</td>\n      <td>Addison, Joseph‎(← links)Nova philosophia vete...</td>\n      <td>Addison, Joseph:Ad Burnettum sacrae theoriae t...</td>\n      <td>NaN</td>\n      <td>MK, IT</td>\n      <td>Yes</td>\n      <td>MK</td>\n      <td>NaN</td>\n      <td>[769230]</td>\n      <td>769230</td>\n    </tr>\n    <tr>\n      <th>3</th>\n      <td>Lipsius, Justus</td>\n      <td>Ad Clusii nomen lusus</td>\n      <td>L'Ecluse, Charles de, Rariorum aliquot stirpiu...</td>\n      <td>1583</td>\n      <td>Antwerp</td>\n      <td>Plantin</td>\n      <td>16th century</td>\n      <td>Panegyric poem</td>\n      <td>Biology, Medicine, Other (see description)</td>\n      <td>Ad Clusii nomen lusus(Biblioteca Digital Real ...</td>\n      <td>...</td>\n      <td>Ogilvie 2011, 28-9</td>\n      <td>Rariorum stirpium per Pannoniam et Austriam ob...</td>\n      <td>Lipsius, Justus:Ad Clusii nomen lusus, in: Nos...</td>\n      <td>Possibly, this epigram could be found in Lipsi...</td>\n      <td>IT</td>\n      <td>Yes</td>\n      <td>IT</td>\n      <td>NaN</td>\n      <td>[749217]</td>\n      <td>749217</td>\n    </tr>\n    <tr>\n      <th>4</th>\n      <td>Owen, John</td>\n      <td>Ad Dominum Gilbertum</td>\n      <td>Epigrammatum libri tres. Auctore Ioanne Owen B...</td>\n      <td>1606</td>\n      <td>London</td>\n      <td>Windet, John, Waterson, Simon</td>\n      <td>17th century</td>\n      <td>Other (see description)</td>\n      <td>Astronomy/Astrology/Cosmography</td>\n      <td>3rd edition (Amberg 1608)(Google Books)Digital...</td>\n      <td>...</td>\n      <td>Martyn 1976–1978;Durand 2016(editions)Jansen 2009</td>\n      <td>Owen, John‎(← links)An terra moveatur‎(← links)</td>\n      <td>Owen, John:Ad Gilbertum, in: Noscemus Wiki, UR...</td>\n      <td>First edition in sharefolder.The epigram was a...</td>\n      <td>JL, IT</td>\n      <td>Yes</td>\n      <td>IT</td>\n      <td>NaN</td>\n      <td>[900767]</td>\n      <td>900767</td>\n    </tr>\n    <tr>\n      <th>5</th>\n      <td>Costus, Petrus</td>\n      <td>Petrus Costus ad Gulielmum Rondeletium medicum...</td>\n      <td>Aquatilium historia, vol. 1, fol. α3r</td>\n      <td>1554</td>\n      <td>Lyon</td>\n      <td>Bonhomme</td>\n      <td>16th century</td>\n      <td>Panegyric poem</td>\n      <td>Biology</td>\n      <td>Aquatilium historia, vol. 1(Google Books)</td>\n      <td>...</td>\n      <td>NaN</td>\n      <td>Aquatilium historia‎(← links)Costus, Petrus‎(←...</td>\n      <td>Costus, Petrus:Ad Gulielmum Rondeletium, in: N...</td>\n      <td>NaN</td>\n      <td>MK</td>\n      <td>Yes</td>\n      <td>MK</td>\n      <td>NaN</td>\n      <td>[748052]</td>\n      <td>748052</td>\n    </tr>\n    <tr>\n      <th>6</th>\n      <td>Acidalius, Valens</td>\n      <td>Ad Iordanum Brunum Nolanum, Italum</td>\n      <td>Poematum Iani Lernutii, Iani Gulielmi, Valenti...</td>\n      <td>1603</td>\n      <td>Liegnitz, Wrocław</td>\n      <td>Albert, David</td>\n      <td>17th century</td>\n      <td>Panegyric poem</td>\n      <td>Astronomy/Astrology/Cosmography</td>\n      <td>Ad Iordanum Brunum (1603)(CAMENA)Ad Iordanum B...</td>\n      <td>...</td>\n      <td>Kühlmann 1979, 152–53</td>\n      <td>Acidalius, Valens‎(← links)</td>\n      <td>Acidalius, Valens:Ad Iordanum Brunum, in: Nosc...</td>\n      <td>Kühlmann must have overlooked the poem in the ...</td>\n      <td>MK, IT</td>\n      <td>Yes</td>\n      <td>MK</td>\n      <td>NaN</td>\n      <td>[801745]</td>\n      <td>801745</td>\n    </tr>\n    <tr>\n      <th>7</th>\n      <td>Paulinus, Fabius</td>\n      <td>Ad clarissimum virum Laurentium Massam, sereni...</td>\n      <td>Avicennae, Arabum medicorum principis, ex Gera...</td>\n      <td>1595</td>\n      <td>Venice</td>\n      <td>I Giunti</td>\n      <td>16th century</td>\n      <td>Panegyric poem</td>\n      <td>Medicine</td>\n      <td>Ad Laurentium Massam pro Avicenna ode(Google B...</td>\n      <td>...</td>\n      <td>Siraisi 1987, 143</td>\n      <td>Paulinus, Fabius‎(← links)</td>\n      <td>Paulinus, Fabius:Ad Laurentium Massam pro Avic...</td>\n      <td>On the title page of the edition, the many acc...</td>\n      <td>MK</td>\n      <td>Yes</td>\n      <td>MK</td>\n      <td>NaN</td>\n      <td>[900763]</td>\n      <td>900763</td>\n    </tr>\n    <tr>\n      <th>8</th>\n      <td>Sands, Patrick</td>\n      <td>Ad lectorem trigonometriae studiosum</td>\n      <td>Mirifici logarithmorum canonis descriptioeiusq...</td>\n      <td>1614</td>\n      <td>Edinburgh</td>\n      <td>Andro Hart</td>\n      <td>17th century</td>\n      <td>Panegyric poem</td>\n      <td>Mathematics</td>\n      <td>Ad lectorem trigonometriae studiosum(Google Bo...</td>\n      <td>...</td>\n      <td>McOmish 2017</td>\n      <td>Mirifici logarithmorum canonis descriptio‎(← l...</td>\n      <td>Sands, Patrick:Ad lectorem trigonometriae stud...</td>\n      <td>Sands also wrote a poem for Napier'sRabdologia...</td>\n      <td>IT</td>\n      <td>Yes</td>\n      <td>IT</td>\n      <td>NaN</td>\n      <td>[801744]</td>\n      <td>801744</td>\n    </tr>\n    <tr>\n      <th>9</th>\n      <td>Biancani, Giuseppe</td>\n      <td>Additamentum de natura scientiarum mathematicarum</td>\n      <td>Aristotelis loca mathematica ex universis ipsi...</td>\n      <td>1615</td>\n      <td>Bologna</td>\n      <td>Cochi</td>\n      <td>17th century</td>\n      <td>Monograph, Other (see description)</td>\n      <td>Mathematics</td>\n      <td>Additamentum de natura scientiarum mathematica...</td>\n      <td>...</td>\n      <td>Mancosu 1996, pp. 15-19 and 178-212 (English t...</td>\n      <td>Biancani, Giuseppe‎(← links)Clarorum mathemati...</td>\n      <td>Biancani, Giuseppe:Additamentum de natura scie...</td>\n      <td>I would recommend to include Piccolomini's \"Co...</td>\n      <td>MK, FB</td>\n      <td>Yes</td>\n      <td>MK, FB</td>\n      <td>NaN</td>\n      <td>[653295]</td>\n      <td>653295</td>\n    </tr>\n    <tr>\n      <th>10</th>\n      <td>Barberini, Maffeo (Urban VIII)</td>\n      <td>Adulatio perniciosa. Ode</td>\n      <td>Illustrissimi et reverendissimi Maffaei sancta...</td>\n      <td>1620</td>\n      <td>Paris</td>\n      <td>Estienne, Antoine</td>\n      <td>17th century</td>\n      <td>Panegyric poem, Other (see description)</td>\n      <td>Astronomy/Astrology/Cosmography</td>\n      <td>Adulatio perniciosa(Google Books)</td>\n      <td>...</td>\n      <td>NaN</td>\n      <td>Barberini, Maffeo (Urban VIII)‎(← links)</td>\n      <td>Barberini, Maffeo (Urban VIII):Adulatio pernic...</td>\n      <td>NaN</td>\n      <td>IT</td>\n      <td>Yes</td>\n      <td>IT</td>\n      <td>NaN</td>\n      <td>[775165]</td>\n      <td>775165</td>\n    </tr>\n    <tr>\n      <th>11</th>\n      <td>Bettini, Mario</td>\n      <td>Aerarium philosophiae mathematicae, in quo ele...</td>\n      <td>NaN</td>\n      <td>1648</td>\n      <td>Bologna</td>\n      <td>Ferroni</td>\n      <td>17th century</td>\n      <td>Encyclopedic work</td>\n      <td>Mathematics</td>\n      <td>Aerarium philosophiae mathematicae, vol. 1,vol...</td>\n      <td>...</td>\n      <td>NaN</td>\n      <td>Bettini, Mario‎(← links)</td>\n      <td>Bettini, Mario:Aerarium philosophiae mathemati...</td>\n      <td>NaN</td>\n      <td>MK, FB</td>\n      <td>Yes</td>\n      <td>MK</td>\n      <td>NaN</td>\n      <td>[807622, 807623, 807624]</td>\n      <td>807622</td>\n    </tr>\n    <tr>\n      <th>12</th>\n      <td>Bettini, Mario</td>\n      <td>Aerarium philosophiae mathematicae, in quo ele...</td>\n      <td>NaN</td>\n      <td>1648</td>\n      <td>Bologna</td>\n      <td>Ferroni</td>\n      <td>17th century</td>\n      <td>Encyclopedic work</td>\n      <td>Mathematics</td>\n      <td>Aerarium philosophiae mathematicae, vol. 1,vol...</td>\n      <td>...</td>\n      <td>NaN</td>\n      <td>Bettini, Mario‎(← links)</td>\n      <td>Bettini, Mario:Aerarium philosophiae mathemati...</td>\n      <td>NaN</td>\n      <td>MK, FB</td>\n      <td>Yes</td>\n      <td>MK</td>\n      <td>NaN</td>\n      <td>[807622, 807623, 807624]</td>\n      <td>807623</td>\n    </tr>\n    <tr>\n      <th>13</th>\n      <td>Bettini, Mario</td>\n      <td>Aerarium philosophiae mathematicae, in quo ele...</td>\n      <td>NaN</td>\n      <td>1648</td>\n      <td>Bologna</td>\n      <td>Ferroni</td>\n      <td>17th century</td>\n      <td>Encyclopedic work</td>\n      <td>Mathematics</td>\n      <td>Aerarium philosophiae mathematicae, vol. 1,vol...</td>\n      <td>...</td>\n      <td>NaN</td>\n      <td>Bettini, Mario‎(← links)</td>\n      <td>Bettini, Mario:Aerarium philosophiae mathemati...</td>\n      <td>NaN</td>\n      <td>MK, FB</td>\n      <td>Yes</td>\n      <td>MK</td>\n      <td>NaN</td>\n      <td>[807622, 807623, 807624]</td>\n      <td>807624</td>\n    </tr>\n    <tr>\n      <th>14</th>\n      <td>Omodei, Antonio Filoteo degli</td>\n      <td>Antonii Philothei de Homodeis Siculi Aetnae to...</td>\n      <td>NaN</td>\n      <td>1591</td>\n      <td>Venice</td>\n      <td>Muschio</td>\n      <td>16th century</td>\n      <td>Monograph</td>\n      <td>Geography/Cartography, Meteorology/Earth sciences</td>\n      <td>Aetnae topographia(Google Books)Alternative li...</td>\n      <td>...</td>\n      <td>Clausi 1992Dizionario biografico degli Italiani</td>\n      <td>NaN</td>\n      <td>Omodei, Antonio Filoteo degli:Aetnae topograph...</td>\n      <td>NaN</td>\n      <td>OA</td>\n      <td>Yes</td>\n      <td>IT</td>\n      <td>NaN</td>\n      <td>[683332]</td>\n      <td>683332</td>\n    </tr>\n    <tr>\n      <th>15</th>\n      <td>Libavius, Andreas</td>\n      <td>D.O.M.A. Alchemia Andreae Libavii, medicinae d...</td>\n      <td>NaN</td>\n      <td>1597</td>\n      <td>Frankfurt am Main</td>\n      <td>Saur, Johannes, Kopf, Peter</td>\n      <td>16th century</td>\n      <td>Other (see description), Encyclopedic work</td>\n      <td>Alchemy/Chemistry</td>\n      <td>Alchemia Libavii(e-rara.ch)Alternative link:ar...</td>\n      <td>...</td>\n      <td>NaN</td>\n      <td>Libavius, Andreas‎(← links)Phaleuci ad Libaviu...</td>\n      <td>Libavius, Andreas:Alchemia Libavii, in: Noscem...</td>\n      <td>NaN</td>\n      <td>MK</td>\n      <td>Yes</td>\n      <td>MK</td>\n      <td>NaN</td>\n      <td>[597737]</td>\n      <td>597737</td>\n    </tr>\n    <tr>\n      <th>16</th>\n      <td>Grataroli, Guglielmo</td>\n      <td>Alchemiae, quam vocant artisque metallicae doc...</td>\n      <td>NaN</td>\n      <td>1572</td>\n      <td>Basel</td>\n      <td>Perna</td>\n      <td>16th century</td>\n      <td>Other (see description), Encyclopedic work</td>\n      <td>Alchemy/Chemistry</td>\n      <td>Alchemiae quam vocant artisque metallicae doct...</td>\n      <td>...</td>\n      <td>NaN</td>\n      <td>Grataroli, Guglielmo‎(← links)</td>\n      <td>Grataroli, Guglielmo:Alchemiae quam vocant art...</td>\n      <td>NaN</td>\n      <td>NaN</td>\n      <td>Yes</td>\n      <td>OA</td>\n      <td>NaN</td>\n      <td>[616642]</td>\n      <td>616642</td>\n    </tr>\n    <tr>\n      <th>17</th>\n      <td>Turcq, Pascasius Justus</td>\n      <td>Pascasii Justi Ecloviensis, Philosophiae et Me...</td>\n      <td>NaN</td>\n      <td>1561</td>\n      <td>Basel</td>\n      <td>Oporinus, Joannes</td>\n      <td>16th century</td>\n      <td>Monograph</td>\n      <td>Medicine</td>\n      <td>Basel 1561, Neustadt an der Weinstraße1617/161...</td>\n      <td>...</td>\n      <td>Cottier, Nadeau, Valleur 2014Kronegger-Roth 20...</td>\n      <td>NaN</td>\n      <td>Turcq, Pascasius Justus:Alea, in: Noscemus Wik...</td>\n      <td>NaN</td>\n      <td>WB</td>\n      <td>Yes</td>\n      <td>WB</td>\n      <td>NaN</td>\n      <td>[616643]</td>\n      <td>616643</td>\n    </tr>\n    <tr>\n      <th>18</th>\n      <td>Widmann, Johannes</td>\n      <td>Algorithmus minutiarum vulgarium</td>\n      <td>NaN</td>\n      <td>[c. 1490]</td>\n      <td>[Leipzig]</td>\n      <td>[Martin Landsberg]</td>\n      <td>15th century since invention of printing</td>\n      <td>Textbook</td>\n      <td>Mathematics</td>\n      <td>Algorithmus minutiarum vulgarium(WDB)</td>\n      <td>...</td>\n      <td>Gärtner 2000, 37–45, esp. 42–43</td>\n      <td>Widmann, Johannes‎(← links)Arithmetices erotem...</td>\n      <td>Widmann, Johannes:Algorithmus minutiarum vulga...</td>\n      <td>NaN</td>\n      <td>MK, FB</td>\n      <td>Yes</td>\n      <td>MK, FB</td>\n      <td>NaN</td>\n      <td>[899971]</td>\n      <td>899971</td>\n    </tr>\n    <tr>\n      <th>19</th>\n      <td>Riccioli, Giovanni Battista</td>\n      <td>Almagestum Novum astronomiam veterem novamque ...</td>\n      <td>NaN</td>\n      <td>1651; 1665</td>\n      <td>Bologna</td>\n      <td>Benacci</td>\n      <td>17th century</td>\n      <td>Encyclopedic work</td>\n      <td>Astronomy/Astrology/Cosmography</td>\n      <td>Almagestum novum(e-rara.ch)Almagestum novum(ÖN...</td>\n      <td>...</td>\n      <td>Graney 2015</td>\n      <td>Sphaera mundi‎(← links)</td>\n      <td>Riccioli, Giovanni Battista:Almagestum novum, ...</td>\n      <td>Publication history obscure, to clarify. e-rar...</td>\n      <td>JL</td>\n      <td>Yes</td>\n      <td>OA</td>\n      <td>NaN</td>\n      <td>[699869]</td>\n      <td>699869</td>\n    </tr>\n  </tbody>\n</table>\n<p>20 rows × 22 columns</p>\n</div>"
     },
     "execution_count": 17,
     "metadata": {},
     "output_type": "execute_result"
    }
   ],
   "source": [
    "metadata_table_long = pd.DataFrame(metadata_table_long)\n",
    "metadata_table_long.head(20)"
   ],
   "metadata": {
    "collapsed": false,
    "ExecuteTime": {
     "end_time": "2023-11-21T09:10:32.428140Z",
     "start_time": "2023-11-21T09:10:32.410764Z"
    }
   },
   "id": "b99e7904a598a66c"
  },
  {
   "cell_type": "code",
   "execution_count": 18,
   "outputs": [
    {
     "name": "stdout",
     "output_type": "stream",
     "text": [
      "[c. 1490]\n",
      "1651; 1665\n",
      "1749–1790\n",
      "1749–1790\n",
      "1749–1790\n",
      "1749–1790\n",
      "1749–1790\n",
      "1749–1790\n",
      "1749–1790\n",
      "1749–1790\n",
      "1749–1790\n",
      "1749–1790\n",
      "1675–1679\n",
      "1754–1770\n",
      "1754–1770\n",
      "1817–1826\n",
      "1554–1555\n",
      "1554–1555\n",
      "[1557]\n",
      "1771–1772\n",
      "1545 (title page); 1544 (last page)\n",
      "[1476]\n",
      "1498 [1554]\n",
      "[1727]\n",
      "[1524]\n",
      "1495 more Veneto / 1496\n",
      "nan\n",
      "1554 [1507]\n",
      "1579 [1576]\n",
      "1659–1661\n",
      "[1500]\n",
      "1612 [1591]\n",
      "1665 [1616]\n",
      "1743 [1700; 1713]\n",
      "nan\n",
      "1680–1681\n",
      "1680–1681\n",
      "1588; 1603 (2nd edition)\n",
      "1588; 1603 (2nd edition)\n",
      "1540 [ca. 1484–1487]\n",
      "1495–1497\n",
      "1532/1534\n",
      "1714 [1754]\n",
      "1576 [editio princeps: 1492]\n",
      "1500–1504\n",
      "nan\n",
      "[1475]\n",
      "[1700]\n",
      "1773–1775\n",
      "1773–1775\n",
      "1773–1775\n",
      "1773–1775\n",
      "1773–1775\n",
      "1773–1775\n",
      "1618 (books 1–3); 1620 (book 4); 1621 (books 5–7)\n",
      "[1617]\n",
      "1747–1769\n",
      "Antwerp\n",
      "1736 [date on title page; in fact, 1735]\n",
      "1736 [date on title page; in fact, 1735]\n",
      "1659–1661\n",
      "1741–1750\n",
      "1741–1750\n",
      "1741–1750\n",
      "1741–1750\n",
      "1741–1750\n",
      "1741–1750\n",
      "1741–1750\n",
      "1741–1750\n",
      "1530–1536\n",
      "1530–1536\n",
      "1530–1536\n",
      "1551; 1554; 1555; 1558\n",
      "1551; 1554; 1555; 1558\n",
      "1551; 1554; 1555; 1558\n",
      "1551; 1554; 1555; 1558\n",
      "1779–1781\n",
      "1514 [1511]\n",
      "[1618]\n",
      "s.a.\n",
      "1603 [1546]\n",
      "1544 [1456]\n",
      "[1618]\n",
      "[1618]\n",
      "1793–1797\n",
      "1793–1797\n",
      "1793–1797\n",
      "1793–1797\n",
      "1793–1797\n",
      "1793–1797\n",
      "1793–1797\n",
      "1793–1797\n",
      "1793–1797\n",
      "1793–1797\n",
      "1793–1797\n",
      "1793–1797\n",
      "1793–1797\n",
      "1793–1797\n",
      "1793–1797\n",
      "[1678]\n",
      "[1665]\n",
      "1657–1659 [1658–1659]\n",
      "1657–1659 [1658–1659]\n",
      "1657–1659 [1658–1659]\n",
      "1699/1701\n",
      "1699/1701\n",
      "1718; 1720; 1727; 1729; 1732; 1737; 1739; 1739; 1740\n",
      "1718; 1720; 1727; 1729; 1732; 1737; 1739; 1739; 1740\n",
      "1718; 1720; 1727; 1729; 1732; 1737; 1739; 1739; 1740\n",
      "1718; 1720; 1727; 1729; 1732; 1737; 1739; 1739; 1740\n",
      "1718; 1720; 1727; 1729; 1732; 1737; 1739; 1739; 1740\n",
      "1718; 1720; 1727; 1729; 1732; 1737; 1739; 1739; 1740\n",
      "1718; 1720; 1727; 1729; 1732; 1737; 1739; 1739; 1740\n",
      "1718; 1720; 1727; 1729; 1732; 1737; 1739; 1739; 1740\n",
      "1718; 1720; 1727; 1729; 1732; 1737; 1739; 1739; 1740\n",
      "1756; 1763; 1764\n",
      "1756; 1763; 1764\n",
      "1756; 1763; 1764\n",
      "1756; 1763; 1764\n",
      "1756; 1763; 1764\n",
      "1756; 1763; 1764\n",
      "[probably 1727]\n",
      "[1761]\n",
      "1772/1773\n",
      "[1723–1725]\n",
      "1779–1790\n",
      "[c. 1495]\n",
      "[c. 1540]\n",
      "1731–1735\n",
      "1731–1735\n",
      "1731–1735\n",
      "1731–1735\n",
      "1688–1708\n",
      "1688–1708\n",
      "1688–1708\n",
      "1752 / 1763\n",
      "1801–1821\n",
      "1801–1821\n",
      "1801–1821\n",
      "1801–1821\n",
      "1801–1821\n",
      "1801–1821\n",
      "1801–1821\n",
      "1801–1821\n",
      "1801–1821\n",
      "1801–1821\n",
      "1801–1821\n",
      "1801–1821\n",
      "1801–1821\n",
      "1801–1821\n",
      "1801–1821\n",
      "1801–1821\n",
      "1626–1630\n",
      "[1556]\n",
      "[1668]\n",
      "1758–1759\n",
      "[1472]\n",
      "1793–1797\n",
      "1793–1797\n",
      "1793–1797\n",
      "1793–1797\n",
      "1793–1797\n",
      "1531 [1505]\n",
      "1773–1774\n",
      "1773–1774\n",
      "[1737]\n"
     ]
    }
   ],
   "source": [
    "for date in metadata_table_long[\"Year\"]:\n",
    "    try:\n",
    "        int(date)\n",
    "    except:\n",
    "        print(date)"
   ],
   "metadata": {
    "collapsed": false,
    "ExecuteTime": {
     "end_time": "2023-11-21T09:10:32.713298Z",
     "start_time": "2023-11-21T09:10:32.704321Z"
    }
   },
   "id": "178ca534908856c9"
  },
  {
   "cell_type": "code",
   "execution_count": 19,
   "outputs": [
    {
     "data": {
      "text/plain": "[1718, 1720, 1727, 1729, 1732, 1737, 1739, 1739, 1740]"
     },
     "execution_count": 19,
     "metadata": {},
     "output_type": "execute_result"
    }
   ],
   "source": [
    "dates_str = \"1718; 1720; 1727; 1729; 1732; 1737; 1739; 1739; 1740\"\n",
    "sorted([int(date) for date in re.findall(\"\\d{4}\", dates_str)])"
   ],
   "metadata": {
    "collapsed": false,
    "ExecuteTime": {
     "end_time": "2023-11-21T09:10:33.147472Z",
     "start_time": "2023-11-21T09:10:33.142725Z"
    }
   },
   "id": "8f5d099c9d22c329"
  },
  {
   "cell_type": "code",
   "execution_count": 20,
   "outputs": [],
   "source": [
    "dates_min_max = []\n",
    "for date_str in metadata_table_long[\"Year\"]:\n",
    "    try:\n",
    "        date_min = int(date_str)\n",
    "        date_max = date_min\n",
    "    except:\n",
    "        try:   \n",
    "            dates_int = sorted([int(date) for date in re.findall(\"\\d{4}\", date_str)])\n",
    "            date_min = dates_int[0]\n",
    "            date_max = dates_int[-1]\n",
    "        except:\n",
    "            date_min = None\n",
    "            date_max = None\n",
    "    dates_min_max.append((date_min, date_max))"
   ],
   "metadata": {
    "collapsed": false,
    "ExecuteTime": {
     "end_time": "2023-11-21T09:10:33.490375Z",
     "start_time": "2023-11-21T09:10:33.480917Z"
    }
   },
   "id": "b8789d951ebea72d"
  },
  {
   "cell_type": "code",
   "execution_count": 21,
   "outputs": [
    {
     "data": {
      "text/plain": "[(1672, 1672),\n (1723, 1723),\n (1698, 1698),\n (1583, 1583),\n (1606, 1606),\n (1554, 1554),\n (1603, 1603),\n (1595, 1595),\n (1614, 1614),\n (1615, 1615),\n (1620, 1620),\n (1648, 1648),\n (1648, 1648),\n (1648, 1648),\n (1591, 1591),\n (1597, 1597),\n (1572, 1572),\n (1561, 1561),\n (1490, 1490),\n (1651, 1665),\n (1749, 1790),\n (1749, 1790),\n (1749, 1790),\n (1749, 1790),\n (1749, 1790),\n (1749, 1790),\n (1749, 1790),\n (1749, 1790),\n (1749, 1790),\n (1749, 1790),\n (1712, 1712),\n (1720, 1720),\n (1654, 1654),\n (1723, 1723),\n (1651, 1651),\n (1666, 1666),\n (1675, 1679),\n (1666, 1666),\n (1611, 1611),\n (1580, 1580),\n (1683, 1683),\n (1533, 1533),\n (1787, 1787),\n (1631, 1631),\n (1614, 1614),\n (1747, 1747),\n (1754, 1770),\n (1754, 1770),\n (1817, 1826),\n (1738, 1738)]"
     },
     "execution_count": 21,
     "metadata": {},
     "output_type": "execute_result"
    }
   ],
   "source": [
    "dates_min_max[:50]"
   ],
   "metadata": {
    "collapsed": false,
    "ExecuteTime": {
     "end_time": "2023-11-21T09:10:33.780222Z",
     "start_time": "2023-11-21T09:10:33.764524Z"
    }
   },
   "id": "5ccc61d61ab24378"
  },
  {
   "cell_type": "code",
   "execution_count": 22,
   "outputs": [],
   "source": [
    "metadata_table_long[\"date_min\"] = [el[0] for el in dates_min_max]\n",
    "metadata_table_long[\"date_max\"] = [el[1] for el in dates_min_max]"
   ],
   "metadata": {
    "collapsed": false,
    "ExecuteTime": {
     "end_time": "2023-11-21T09:10:34.031189Z",
     "start_time": "2023-11-21T09:10:34.026336Z"
    }
   },
   "id": "b72c0fbdb3c65c66"
  },
  {
   "cell_type": "code",
   "execution_count": 23,
   "outputs": [
    {
     "data": {
      "text/plain": "                        Author  \\\n0       Pardies, Ignace Gaston   \n1     Scheuchzer, Johann Jakob   \n2              Addison, Joseph   \n3              Lipsius, Justus   \n4                   Owen, John   \n...                        ...   \n1099  Scheuchzer, Johann Jakob   \n1100            Bauhin, Caspar   \n1101            Colonna, Fabio   \n1102       Scultetus, Johannes   \n1103            Brunfels, Otto   \n\n                                             Full title  \\\n0     A Latin Letter written to the Publisher April ...   \n1     Acarnania sive Relatio eorum, quae hactenus el...   \n2     Ad insignissimum virum dominum Thomam Burnettu...   \n3                                 Ad Clusii nomen lusus   \n4                                  Ad Dominum Gilbertum   \n...                                                 ...   \n1099  ΟΥΡΕΣΙΦΟΙΤΗΣ Helveticus sive itinera per Helve...   \n1100  ΠΙΝΑΞ (Pinax) theatri botanici Caspari Bauhini...   \n1101  ΦΥΤΟΒΑΣΑΝΟΣ (Phytobasanos) sive plantarum aliq...   \n1102  ΧΕΙΡΟΠΛΟΘΗΚΗ seu domini Ioannis Sculteti, phys...   \n1103  Ὀνομαστικόν [Onomastikon] medicinae continens ...   \n\n                                                     In  Year       Place  \\\n0     Philosophical Transactions of the Royal Societ...  1672      London   \n1       ΟΥΡΕΣΙΦΟΙΤΗΣ (Ouresiphoites) Helveticus, 609–35  1723      Leiden   \n2     Examen poeticum duplex, sive, Musarum anglican...  1698      London   \n3     L'Ecluse, Charles de, Rariorum aliquot stirpiu...  1583     Antwerp   \n4     Epigrammatum libri tres. Auctore Ioanne Owen B...  1606      London   \n...                                                 ...   ...         ...   \n1099                                                NaN  1723      Leiden   \n1100                                                NaN  1623       Basel   \n1101                                                NaN  1592      Naples   \n1102                                                NaN  1655         Ulm   \n1103                                                NaN  1534  Strasbourg   \n\n                  Publisher/Printer           Era  \\\n0                            Martyn  17th century   \n1                van der Aa, Pieter  18th century   \n2             Richard Wellington I.  17th century   \n3                           Plantin  16th century   \n4     Windet, John, Waterson, Simon  17th century   \n...                             ...           ...   \n1099             van der Aa, Pieter  18th century   \n1100                          König  17th century   \n1101               Salviani, Orazio  16th century   \n1102                           Kühn  17th century   \n1103                 Schott, Johann  16th century   \n\n                                           Form/Genre  \\\n0                                      Letter, Review   \n1                             Biography, Bibliography   \n2                                      Panegyric poem   \n3                                      Panegyric poem   \n4                             Other (see description)   \n...                                               ...   \n1099                             Report, Bibliography   \n1100  Dictionary/Lexicon, Historia, Encyclopedic work   \n1101                                         Historia   \n1102       Monograph, Report, Other (see description)   \n1103                               Dictionary/Lexicon   \n\n                                     Discipline/Content  \\\n0                                               Physics   \n1     Mathematics, Physics, Geography/Cartography, M...   \n2                            Meteorology/Earth sciences   \n3            Biology, Medicine, Other (see description)   \n4                       Astronomy/Astrology/Cosmography   \n...                                                 ...   \n1099  Geography/Cartography, Meteorology/Earth scien...   \n1100                                            Biology   \n1101                                  Biology, Medicine   \n1102                                           Medicine   \n1103                                           Medicine   \n\n                                               Original  ...  \\\n0                                 A Latin Letter(JSTOR)  ...   \n1     Acarnania (1st edition), inMiscellanea Lipsien...  ...   \n2     Ad Burnettum sacrae theoriae telluris auctorem...  ...   \n3     Ad Clusii nomen lusus(Biblioteca Digital Real ...  ...   \n4     3rd edition (Amberg 1608)(Google Books)Digital...  ...   \n...                                                 ...  ...   \n1099  ΟΥΡΕΣΙΦΟΙΤΗΣ (Ouresiphoites) Helveticus(e-rara...  ...   \n1100  Pinax theatri botanici(e-rara.ch)Alternative l...  ...   \n1101        Phytobasanos(Biodiversity Heritage Library)  ...   \n1102  ΧΕΙΡΟΠΛΟΘΗΚΗ(Google Books)German translation (...  ...   \n1103  Ὀνομαστικόν medicinae(Google Books)Alternative...  ...   \n\n                                 How to cite this entry  \\\n0     Pardies, Ignace Gaston:A Latin Letter containi...   \n1     Scheuchzer, Johann Jakob:Acarnania, in: Noscem...   \n2     Addison, Joseph:Ad Burnettum sacrae theoriae t...   \n3     Lipsius, Justus:Ad Clusii nomen lusus, in: Nos...   \n4     Owen, John:Ad Gilbertum, in: Noscemus Wiki, UR...   \n...                                                 ...   \n1099  Scheuchzer, Johann Jakob:ΟΥΡΕΣΙΦΟΙΤΗΣ (Ouresip...   \n1100  Bauhin, Caspar:ΠΙΝΑΞ (Pinax) theatri botanici,...   \n1101  Colonna, Fabio:ΦΥΤΟΒΑΣΑΝΟΣ (Phytobasanos), in:...   \n1102  Scultetus, Johannes:ΧΕΙΡΟΠΛΟΘΗΚΗ (Cheiroplothe...   \n1103  Brunfels, Otto:Ὀνομαστικόν medicinae, in: Nosc...   \n\n                                         Internal notes Of interest to  \\\n0                                              RECENSIO            NaN   \n1                                                   NaN             MK   \n2                                                   NaN         MK, IT   \n3     Possibly, this epigram could be found in Lipsi...             IT   \n4     First edition in sharefolder.The epigram was a...         JL, IT   \n...                                                 ...            ...   \n1099  Tomus primus (= Itinera 1702, 1703, 1704)Praef...             MK   \n1100                                                NaN         DB, MK   \n1101                                                NaN             DB   \n1102  Indications regarding the size of the instrume...             MK   \n1103                                                NaN         DB, MK   \n\n     Transkribus text available Written by Library and Signature       ids  \\\n0                           Yes         IT                   NaN  [607720]   \n1                           Yes         MK                   NaN  [605919]   \n2                           Yes         MK                   NaN  [769230]   \n3                           Yes         IT                   NaN  [749217]   \n4                           Yes         IT                   NaN  [900767]   \n...                         ...        ...                   ...       ...   \n1099                        Yes         MK                   NaN  [605919]   \n1100                        Yes         DB                   NaN  [632437]   \n1101                        Yes         DB                   NaN  [752863]   \n1102                        Yes         MK                   NaN  [918558]   \n1103                        Yes         DB                   NaN  [888136]   \n\n          id date_min date_max  \n0     607720   1672.0   1672.0  \n1     605919   1723.0   1723.0  \n2     769230   1698.0   1698.0  \n3     749217   1583.0   1583.0  \n4     900767   1606.0   1606.0  \n...      ...      ...      ...  \n1099  605919   1723.0   1723.0  \n1100  632437   1623.0   1623.0  \n1101  752863   1592.0   1592.0  \n1102  918558   1655.0   1655.0  \n1103  888136   1534.0   1534.0  \n\n[1104 rows x 24 columns]",
      "text/html": "<div>\n<style scoped>\n    .dataframe tbody tr th:only-of-type {\n        vertical-align: middle;\n    }\n\n    .dataframe tbody tr th {\n        vertical-align: top;\n    }\n\n    .dataframe thead th {\n        text-align: right;\n    }\n</style>\n<table border=\"1\" class=\"dataframe\">\n  <thead>\n    <tr style=\"text-align: right;\">\n      <th></th>\n      <th>Author</th>\n      <th>Full title</th>\n      <th>In</th>\n      <th>Year</th>\n      <th>Place</th>\n      <th>Publisher/Printer</th>\n      <th>Era</th>\n      <th>Form/Genre</th>\n      <th>Discipline/Content</th>\n      <th>Original</th>\n      <th>...</th>\n      <th>How to cite this entry</th>\n      <th>Internal notes</th>\n      <th>Of interest to</th>\n      <th>Transkribus text available</th>\n      <th>Written by</th>\n      <th>Library and Signature</th>\n      <th>ids</th>\n      <th>id</th>\n      <th>date_min</th>\n      <th>date_max</th>\n    </tr>\n  </thead>\n  <tbody>\n    <tr>\n      <th>0</th>\n      <td>Pardies, Ignace Gaston</td>\n      <td>A Latin Letter written to the Publisher April ...</td>\n      <td>Philosophical Transactions of the Royal Societ...</td>\n      <td>1672</td>\n      <td>London</td>\n      <td>Martyn</td>\n      <td>17th century</td>\n      <td>Letter, Review</td>\n      <td>Physics</td>\n      <td>A Latin Letter(JSTOR)</td>\n      <td>...</td>\n      <td>Pardies, Ignace Gaston:A Latin Letter containi...</td>\n      <td>RECENSIO</td>\n      <td>NaN</td>\n      <td>Yes</td>\n      <td>IT</td>\n      <td>NaN</td>\n      <td>[607720]</td>\n      <td>607720</td>\n      <td>1672.0</td>\n      <td>1672.0</td>\n    </tr>\n    <tr>\n      <th>1</th>\n      <td>Scheuchzer, Johann Jakob</td>\n      <td>Acarnania sive Relatio eorum, quae hactenus el...</td>\n      <td>ΟΥΡΕΣΙΦΟΙΤΗΣ (Ouresiphoites) Helveticus, 609–35</td>\n      <td>1723</td>\n      <td>Leiden</td>\n      <td>van der Aa, Pieter</td>\n      <td>18th century</td>\n      <td>Biography, Bibliography</td>\n      <td>Mathematics, Physics, Geography/Cartography, M...</td>\n      <td>Acarnania (1st edition), inMiscellanea Lipsien...</td>\n      <td>...</td>\n      <td>Scheuchzer, Johann Jakob:Acarnania, in: Noscem...</td>\n      <td>NaN</td>\n      <td>MK</td>\n      <td>Yes</td>\n      <td>MK</td>\n      <td>NaN</td>\n      <td>[605919]</td>\n      <td>605919</td>\n      <td>1723.0</td>\n      <td>1723.0</td>\n    </tr>\n    <tr>\n      <th>2</th>\n      <td>Addison, Joseph</td>\n      <td>Ad insignissimum virum dominum Thomam Burnettu...</td>\n      <td>Examen poeticum duplex, sive, Musarum anglican...</td>\n      <td>1698</td>\n      <td>London</td>\n      <td>Richard Wellington I.</td>\n      <td>17th century</td>\n      <td>Panegyric poem</td>\n      <td>Meteorology/Earth sciences</td>\n      <td>Ad Burnettum sacrae theoriae telluris auctorem...</td>\n      <td>...</td>\n      <td>Addison, Joseph:Ad Burnettum sacrae theoriae t...</td>\n      <td>NaN</td>\n      <td>MK, IT</td>\n      <td>Yes</td>\n      <td>MK</td>\n      <td>NaN</td>\n      <td>[769230]</td>\n      <td>769230</td>\n      <td>1698.0</td>\n      <td>1698.0</td>\n    </tr>\n    <tr>\n      <th>3</th>\n      <td>Lipsius, Justus</td>\n      <td>Ad Clusii nomen lusus</td>\n      <td>L'Ecluse, Charles de, Rariorum aliquot stirpiu...</td>\n      <td>1583</td>\n      <td>Antwerp</td>\n      <td>Plantin</td>\n      <td>16th century</td>\n      <td>Panegyric poem</td>\n      <td>Biology, Medicine, Other (see description)</td>\n      <td>Ad Clusii nomen lusus(Biblioteca Digital Real ...</td>\n      <td>...</td>\n      <td>Lipsius, Justus:Ad Clusii nomen lusus, in: Nos...</td>\n      <td>Possibly, this epigram could be found in Lipsi...</td>\n      <td>IT</td>\n      <td>Yes</td>\n      <td>IT</td>\n      <td>NaN</td>\n      <td>[749217]</td>\n      <td>749217</td>\n      <td>1583.0</td>\n      <td>1583.0</td>\n    </tr>\n    <tr>\n      <th>4</th>\n      <td>Owen, John</td>\n      <td>Ad Dominum Gilbertum</td>\n      <td>Epigrammatum libri tres. Auctore Ioanne Owen B...</td>\n      <td>1606</td>\n      <td>London</td>\n      <td>Windet, John, Waterson, Simon</td>\n      <td>17th century</td>\n      <td>Other (see description)</td>\n      <td>Astronomy/Astrology/Cosmography</td>\n      <td>3rd edition (Amberg 1608)(Google Books)Digital...</td>\n      <td>...</td>\n      <td>Owen, John:Ad Gilbertum, in: Noscemus Wiki, UR...</td>\n      <td>First edition in sharefolder.The epigram was a...</td>\n      <td>JL, IT</td>\n      <td>Yes</td>\n      <td>IT</td>\n      <td>NaN</td>\n      <td>[900767]</td>\n      <td>900767</td>\n      <td>1606.0</td>\n      <td>1606.0</td>\n    </tr>\n    <tr>\n      <th>...</th>\n      <td>...</td>\n      <td>...</td>\n      <td>...</td>\n      <td>...</td>\n      <td>...</td>\n      <td>...</td>\n      <td>...</td>\n      <td>...</td>\n      <td>...</td>\n      <td>...</td>\n      <td>...</td>\n      <td>...</td>\n      <td>...</td>\n      <td>...</td>\n      <td>...</td>\n      <td>...</td>\n      <td>...</td>\n      <td>...</td>\n      <td>...</td>\n      <td>...</td>\n      <td>...</td>\n    </tr>\n    <tr>\n      <th>1099</th>\n      <td>Scheuchzer, Johann Jakob</td>\n      <td>ΟΥΡΕΣΙΦΟΙΤΗΣ Helveticus sive itinera per Helve...</td>\n      <td>NaN</td>\n      <td>1723</td>\n      <td>Leiden</td>\n      <td>van der Aa, Pieter</td>\n      <td>18th century</td>\n      <td>Report, Bibliography</td>\n      <td>Geography/Cartography, Meteorology/Earth scien...</td>\n      <td>ΟΥΡΕΣΙΦΟΙΤΗΣ (Ouresiphoites) Helveticus(e-rara...</td>\n      <td>...</td>\n      <td>Scheuchzer, Johann Jakob:ΟΥΡΕΣΙΦΟΙΤΗΣ (Ouresip...</td>\n      <td>Tomus primus (= Itinera 1702, 1703, 1704)Praef...</td>\n      <td>MK</td>\n      <td>Yes</td>\n      <td>MK</td>\n      <td>NaN</td>\n      <td>[605919]</td>\n      <td>605919</td>\n      <td>1723.0</td>\n      <td>1723.0</td>\n    </tr>\n    <tr>\n      <th>1100</th>\n      <td>Bauhin, Caspar</td>\n      <td>ΠΙΝΑΞ (Pinax) theatri botanici Caspari Bauhini...</td>\n      <td>NaN</td>\n      <td>1623</td>\n      <td>Basel</td>\n      <td>König</td>\n      <td>17th century</td>\n      <td>Dictionary/Lexicon, Historia, Encyclopedic work</td>\n      <td>Biology</td>\n      <td>Pinax theatri botanici(e-rara.ch)Alternative l...</td>\n      <td>...</td>\n      <td>Bauhin, Caspar:ΠΙΝΑΞ (Pinax) theatri botanici,...</td>\n      <td>NaN</td>\n      <td>DB, MK</td>\n      <td>Yes</td>\n      <td>DB</td>\n      <td>NaN</td>\n      <td>[632437]</td>\n      <td>632437</td>\n      <td>1623.0</td>\n      <td>1623.0</td>\n    </tr>\n    <tr>\n      <th>1101</th>\n      <td>Colonna, Fabio</td>\n      <td>ΦΥΤΟΒΑΣΑΝΟΣ (Phytobasanos) sive plantarum aliq...</td>\n      <td>NaN</td>\n      <td>1592</td>\n      <td>Naples</td>\n      <td>Salviani, Orazio</td>\n      <td>16th century</td>\n      <td>Historia</td>\n      <td>Biology, Medicine</td>\n      <td>Phytobasanos(Biodiversity Heritage Library)</td>\n      <td>...</td>\n      <td>Colonna, Fabio:ΦΥΤΟΒΑΣΑΝΟΣ (Phytobasanos), in:...</td>\n      <td>NaN</td>\n      <td>DB</td>\n      <td>Yes</td>\n      <td>DB</td>\n      <td>NaN</td>\n      <td>[752863]</td>\n      <td>752863</td>\n      <td>1592.0</td>\n      <td>1592.0</td>\n    </tr>\n    <tr>\n      <th>1102</th>\n      <td>Scultetus, Johannes</td>\n      <td>ΧΕΙΡΟΠΛΟΘΗΚΗ seu domini Ioannis Sculteti, phys...</td>\n      <td>NaN</td>\n      <td>1655</td>\n      <td>Ulm</td>\n      <td>Kühn</td>\n      <td>17th century</td>\n      <td>Monograph, Report, Other (see description)</td>\n      <td>Medicine</td>\n      <td>ΧΕΙΡΟΠΛΟΘΗΚΗ(Google Books)German translation (...</td>\n      <td>...</td>\n      <td>Scultetus, Johannes:ΧΕΙΡΟΠΛΟΘΗΚΗ (Cheiroplothe...</td>\n      <td>Indications regarding the size of the instrume...</td>\n      <td>MK</td>\n      <td>Yes</td>\n      <td>MK</td>\n      <td>NaN</td>\n      <td>[918558]</td>\n      <td>918558</td>\n      <td>1655.0</td>\n      <td>1655.0</td>\n    </tr>\n    <tr>\n      <th>1103</th>\n      <td>Brunfels, Otto</td>\n      <td>Ὀνομαστικόν [Onomastikon] medicinae continens ...</td>\n      <td>NaN</td>\n      <td>1534</td>\n      <td>Strasbourg</td>\n      <td>Schott, Johann</td>\n      <td>16th century</td>\n      <td>Dictionary/Lexicon</td>\n      <td>Medicine</td>\n      <td>Ὀνομαστικόν medicinae(Google Books)Alternative...</td>\n      <td>...</td>\n      <td>Brunfels, Otto:Ὀνομαστικόν medicinae, in: Nosc...</td>\n      <td>NaN</td>\n      <td>DB, MK</td>\n      <td>Yes</td>\n      <td>DB</td>\n      <td>NaN</td>\n      <td>[888136]</td>\n      <td>888136</td>\n      <td>1534.0</td>\n      <td>1534.0</td>\n    </tr>\n  </tbody>\n</table>\n<p>1104 rows × 24 columns</p>\n</div>"
     },
     "execution_count": 23,
     "metadata": {},
     "output_type": "execute_result"
    }
   ],
   "source": [
    "metadata_table_long"
   ],
   "metadata": {
    "collapsed": false,
    "ExecuteTime": {
     "end_time": "2023-11-21T09:10:34.434033Z",
     "start_time": "2023-11-21T09:10:34.421229Z"
    }
   },
   "id": "9eee267a339188bd"
  },
  {
   "cell_type": "code",
   "execution_count": 24,
   "outputs": [
    {
     "data": {
      "text/plain": "   Unnamed: 0       id                                     filenames_list\n0           0  1031760  ['Bacon,_Francis_-_Instauratio_magna__London_1...\n1           1  1085290  ['Linden,_Johannes_Antonides_van_der_-_Lindeni...\n2           2  1285853  ['de_Conde,_Ioannes_Baptista_-_Aphorismi_seu_a...\n3           3  1285854  ['van_Poort,_Henricus_-_Hippocratis_Aphorismi_...\n4           4  1285855  ['Hippocrates_&_Denisot,_Gérard_-_Hippocratis_...",
      "text/html": "<div>\n<style scoped>\n    .dataframe tbody tr th:only-of-type {\n        vertical-align: middle;\n    }\n\n    .dataframe tbody tr th {\n        vertical-align: top;\n    }\n\n    .dataframe thead th {\n        text-align: right;\n    }\n</style>\n<table border=\"1\" class=\"dataframe\">\n  <thead>\n    <tr style=\"text-align: right;\">\n      <th></th>\n      <th>Unnamed: 0</th>\n      <th>id</th>\n      <th>filenames_list</th>\n    </tr>\n  </thead>\n  <tbody>\n    <tr>\n      <th>0</th>\n      <td>0</td>\n      <td>1031760</td>\n      <td>['Bacon,_Francis_-_Instauratio_magna__London_1...</td>\n    </tr>\n    <tr>\n      <th>1</th>\n      <td>1</td>\n      <td>1085290</td>\n      <td>['Linden,_Johannes_Antonides_van_der_-_Lindeni...</td>\n    </tr>\n    <tr>\n      <th>2</th>\n      <td>2</td>\n      <td>1285853</td>\n      <td>['de_Conde,_Ioannes_Baptista_-_Aphorismi_seu_a...</td>\n    </tr>\n    <tr>\n      <th>3</th>\n      <td>3</td>\n      <td>1285854</td>\n      <td>['van_Poort,_Henricus_-_Hippocratis_Aphorismi_...</td>\n    </tr>\n    <tr>\n      <th>4</th>\n      <td>4</td>\n      <td>1285855</td>\n      <td>['Hippocrates_&amp;_Denisot,_Gérard_-_Hippocratis_...</td>\n    </tr>\n  </tbody>\n</table>\n</div>"
     },
     "execution_count": 24,
     "metadata": {},
     "output_type": "execute_result"
    }
   ],
   "source": [
    "ids_filenames_df.head(5)"
   ],
   "metadata": {
    "collapsed": false,
    "ExecuteTime": {
     "end_time": "2023-11-21T09:10:34.798769Z",
     "start_time": "2023-11-21T09:10:34.783269Z"
    }
   },
   "id": "288137f0bf24aa9e"
  },
  {
   "cell_type": "code",
   "execution_count": 25,
   "outputs": [],
   "source": [
    "def get_filename(filenames_str):\n",
    "    try:\n",
    "        filenames = eval(filenames_str)\n",
    "        filename = filenames[0]\n",
    "    except:\n",
    "        filename = \"\"\n",
    "    return filename\n",
    "ids_filenames_df[\"filename\"] = ids_filenames_df[\"filenames_list\"].apply(get_filename)"
   ],
   "metadata": {
    "collapsed": false,
    "ExecuteTime": {
     "end_time": "2023-11-21T09:10:35.324179Z",
     "start_time": "2023-11-21T09:10:35.313854Z"
    }
   },
   "id": "2a2cab7729d006b4"
  },
  {
   "cell_type": "code",
   "execution_count": 26,
   "outputs": [
    {
     "data": {
      "text/plain": "   Unnamed: 0       id                                     filenames_list  \\\n0           0  1031760  ['Bacon,_Francis_-_Instauratio_magna__London_1...   \n1           1  1085290  ['Linden,_Johannes_Antonides_van_der_-_Lindeni...   \n2           2  1285853  ['de_Conde,_Ioannes_Baptista_-_Aphorismi_seu_a...   \n3           3  1285854  ['van_Poort,_Henricus_-_Hippocratis_Aphorismi_...   \n4           4  1285855  ['Hippocrates_&_Denisot,_Gérard_-_Hippocratis_...   \n5           5  1285856  ['Hippocrates_&_Berigardus,_Petrus_-_Hippocrat...   \n6           6  1365811  ['Acta_literaria_Sueciae__Vol__1__Uppsala_[172...   \n7           7  1370560  ['Quensel,_Conrad_&_Eurodius,_Hans_-_De_lumine...   \n8           8  1378359  ['Celsius,_Anders_-_Observationes_de_lumine_Bo...   \n9           9  1424044  ['Bacci,_Andrea_&_Gabelkover,_Wolfgang_-_De_mo...   \n\n                                            filename  \n0  Bacon,_Francis_-_Instauratio_magna__London_162...  \n1  Linden,_Johannes_Antonides_van_der_-_Lindenius...  \n2  de_Conde,_Ioannes_Baptista_-_Aphorismi_seu_axi...  \n3  van_Poort,_Henricus_-_Hippocratis_Aphorismi_me...  \n4  Hippocrates_&_Denisot,_Gérard_-_Hippocratis_Ap...  \n5  Hippocrates_&_Berigardus,_Petrus_-_Hippocratis...  \n6  Acta_literaria_Sueciae__Vol__1__Uppsala_[1723–...  \n7  Quensel,_Conrad_&_Eurodius,_Hans_-_De_lumine_n...  \n8  Celsius,_Anders_-_Observationes_de_lumine_Bore...  \n9  Bacci,_Andrea_&_Gabelkover,_Wolfgang_-_De_mono...  ",
      "text/html": "<div>\n<style scoped>\n    .dataframe tbody tr th:only-of-type {\n        vertical-align: middle;\n    }\n\n    .dataframe tbody tr th {\n        vertical-align: top;\n    }\n\n    .dataframe thead th {\n        text-align: right;\n    }\n</style>\n<table border=\"1\" class=\"dataframe\">\n  <thead>\n    <tr style=\"text-align: right;\">\n      <th></th>\n      <th>Unnamed: 0</th>\n      <th>id</th>\n      <th>filenames_list</th>\n      <th>filename</th>\n    </tr>\n  </thead>\n  <tbody>\n    <tr>\n      <th>0</th>\n      <td>0</td>\n      <td>1031760</td>\n      <td>['Bacon,_Francis_-_Instauratio_magna__London_1...</td>\n      <td>Bacon,_Francis_-_Instauratio_magna__London_162...</td>\n    </tr>\n    <tr>\n      <th>1</th>\n      <td>1</td>\n      <td>1085290</td>\n      <td>['Linden,_Johannes_Antonides_van_der_-_Lindeni...</td>\n      <td>Linden,_Johannes_Antonides_van_der_-_Lindenius...</td>\n    </tr>\n    <tr>\n      <th>2</th>\n      <td>2</td>\n      <td>1285853</td>\n      <td>['de_Conde,_Ioannes_Baptista_-_Aphorismi_seu_a...</td>\n      <td>de_Conde,_Ioannes_Baptista_-_Aphorismi_seu_axi...</td>\n    </tr>\n    <tr>\n      <th>3</th>\n      <td>3</td>\n      <td>1285854</td>\n      <td>['van_Poort,_Henricus_-_Hippocratis_Aphorismi_...</td>\n      <td>van_Poort,_Henricus_-_Hippocratis_Aphorismi_me...</td>\n    </tr>\n    <tr>\n      <th>4</th>\n      <td>4</td>\n      <td>1285855</td>\n      <td>['Hippocrates_&amp;_Denisot,_Gérard_-_Hippocratis_...</td>\n      <td>Hippocrates_&amp;_Denisot,_Gérard_-_Hippocratis_Ap...</td>\n    </tr>\n    <tr>\n      <th>5</th>\n      <td>5</td>\n      <td>1285856</td>\n      <td>['Hippocrates_&amp;_Berigardus,_Petrus_-_Hippocrat...</td>\n      <td>Hippocrates_&amp;_Berigardus,_Petrus_-_Hippocratis...</td>\n    </tr>\n    <tr>\n      <th>6</th>\n      <td>6</td>\n      <td>1365811</td>\n      <td>['Acta_literaria_Sueciae__Vol__1__Uppsala_[172...</td>\n      <td>Acta_literaria_Sueciae__Vol__1__Uppsala_[1723–...</td>\n    </tr>\n    <tr>\n      <th>7</th>\n      <td>7</td>\n      <td>1370560</td>\n      <td>['Quensel,_Conrad_&amp;_Eurodius,_Hans_-_De_lumine...</td>\n      <td>Quensel,_Conrad_&amp;_Eurodius,_Hans_-_De_lumine_n...</td>\n    </tr>\n    <tr>\n      <th>8</th>\n      <td>8</td>\n      <td>1378359</td>\n      <td>['Celsius,_Anders_-_Observationes_de_lumine_Bo...</td>\n      <td>Celsius,_Anders_-_Observationes_de_lumine_Bore...</td>\n    </tr>\n    <tr>\n      <th>9</th>\n      <td>9</td>\n      <td>1424044</td>\n      <td>['Bacci,_Andrea_&amp;_Gabelkover,_Wolfgang_-_De_mo...</td>\n      <td>Bacci,_Andrea_&amp;_Gabelkover,_Wolfgang_-_De_mono...</td>\n    </tr>\n  </tbody>\n</table>\n</div>"
     },
     "execution_count": 26,
     "metadata": {},
     "output_type": "execute_result"
    }
   ],
   "source": [
    "ids_filenames_df.head(10)"
   ],
   "metadata": {
    "collapsed": false,
    "ExecuteTime": {
     "end_time": "2023-11-21T09:10:35.795948Z",
     "start_time": "2023-11-21T09:10:35.786941Z"
    }
   },
   "id": "bb12f7dc2d7f6f44"
  },
  {
   "cell_type": "code",
   "execution_count": 27,
   "outputs": [
    {
     "data": {
      "text/plain": "   Unnamed: 0       id                                     filenames_list  \\\n0           0  1031760  ['Bacon,_Francis_-_Instauratio_magna__London_1...   \n1           1  1085290  ['Linden,_Johannes_Antonides_van_der_-_Lindeni...   \n2           2  1285853  ['de_Conde,_Ioannes_Baptista_-_Aphorismi_seu_a...   \n3           3  1285854  ['van_Poort,_Henricus_-_Hippocratis_Aphorismi_...   \n4           4  1285855  ['Hippocrates_&_Denisot,_Gérard_-_Hippocratis_...   \n\n                                            filename  file_year  \n0  Bacon,_Francis_-_Instauratio_magna__London_162...     1620.0  \n1  Linden,_Johannes_Antonides_van_der_-_Lindenius...     1686.0  \n2  de_Conde,_Ioannes_Baptista_-_Aphorismi_seu_axi...     1647.0  \n3  van_Poort,_Henricus_-_Hippocratis_Aphorismi_me...     1657.0  \n4  Hippocrates_&_Denisot,_Gérard_-_Hippocratis_Ap...     1634.0  ",
      "text/html": "<div>\n<style scoped>\n    .dataframe tbody tr th:only-of-type {\n        vertical-align: middle;\n    }\n\n    .dataframe tbody tr th {\n        vertical-align: top;\n    }\n\n    .dataframe thead th {\n        text-align: right;\n    }\n</style>\n<table border=\"1\" class=\"dataframe\">\n  <thead>\n    <tr style=\"text-align: right;\">\n      <th></th>\n      <th>Unnamed: 0</th>\n      <th>id</th>\n      <th>filenames_list</th>\n      <th>filename</th>\n      <th>file_year</th>\n    </tr>\n  </thead>\n  <tbody>\n    <tr>\n      <th>0</th>\n      <td>0</td>\n      <td>1031760</td>\n      <td>['Bacon,_Francis_-_Instauratio_magna__London_1...</td>\n      <td>Bacon,_Francis_-_Instauratio_magna__London_162...</td>\n      <td>1620.0</td>\n    </tr>\n    <tr>\n      <th>1</th>\n      <td>1</td>\n      <td>1085290</td>\n      <td>['Linden,_Johannes_Antonides_van_der_-_Lindeni...</td>\n      <td>Linden,_Johannes_Antonides_van_der_-_Lindenius...</td>\n      <td>1686.0</td>\n    </tr>\n    <tr>\n      <th>2</th>\n      <td>2</td>\n      <td>1285853</td>\n      <td>['de_Conde,_Ioannes_Baptista_-_Aphorismi_seu_a...</td>\n      <td>de_Conde,_Ioannes_Baptista_-_Aphorismi_seu_axi...</td>\n      <td>1647.0</td>\n    </tr>\n    <tr>\n      <th>3</th>\n      <td>3</td>\n      <td>1285854</td>\n      <td>['van_Poort,_Henricus_-_Hippocratis_Aphorismi_...</td>\n      <td>van_Poort,_Henricus_-_Hippocratis_Aphorismi_me...</td>\n      <td>1657.0</td>\n    </tr>\n    <tr>\n      <th>4</th>\n      <td>4</td>\n      <td>1285855</td>\n      <td>['Hippocrates_&amp;_Denisot,_Gérard_-_Hippocratis_...</td>\n      <td>Hippocrates_&amp;_Denisot,_Gérard_-_Hippocratis_Ap...</td>\n      <td>1634.0</td>\n    </tr>\n  </tbody>\n</table>\n</div>"
     },
     "execution_count": 27,
     "metadata": {},
     "output_type": "execute_result"
    }
   ],
   "source": [
    "def get_year(filename):\n",
    "    try:\n",
    "        year = int(re.search(\"\\d{4}\", filename)[0])\n",
    "    except:\n",
    "        year = None    \n",
    "    return year\n",
    "\n",
    "ids_filenames_df[\"file_year\"] = ids_filenames_df[\"filename\"].apply(get_year)\n",
    "ids_filenames_df.head(5)"
   ],
   "metadata": {
    "collapsed": false,
    "ExecuteTime": {
     "end_time": "2023-11-21T09:10:36.158830Z",
     "start_time": "2023-11-21T09:10:36.148594Z"
    }
   },
   "id": "541503738b8ebd78"
  },
  {
   "cell_type": "code",
   "execution_count": 28,
   "outputs": [
    {
     "data": {
      "text/plain": "                                      Author  \\\n0                     Pardies, Ignace Gaston   \n1                   Scheuchzer, Johann Jakob   \n2                   Scheuchzer, Johann Jakob   \n3                            Addison, Joseph   \n4                            Addison, Joseph   \n5                                 Owen, John   \n6                          Acidalius, Valens   \n7                           Paulinus, Fabius   \n8                             Sands, Patrick   \n9                               Napier, John   \n10                        Biancani, Giuseppe   \n11                        Biancani, Giuseppe   \n12            Barberini, Maffeo (Urban VIII)   \n13                            Bettini, Mario   \n14                            Bettini, Mario   \n15                            Bettini, Mario   \n16             Omodei, Antonio Filoteo degli   \n17                         Libavius, Andreas   \n18                        Praetorius, Martin   \n19                      Grataroli, Guglielmo   \n20                   Turcq, Pascasius Justus   \n21                         Widmann, Johannes   \n22               Riccioli, Giovanni Battista   \n23                           Linné, Carl von   \n24                           Linné, Carl von   \n25                           Linné, Carl von   \n26                           Linné, Carl von   \n27                           Linné, Carl von   \n28                           Linné, Carl von   \n29                           Linné, Carl von   \n30                           Linné, Carl von   \n31                           Linné, Carl von   \n32                           Linné, Carl von   \n33                       Kaempfer, Engelbert   \n34                         Hirsch, Siegfried   \n35                                Anonymus 3   \n36                        Rothmaler, Erasmus   \n37               Blasius, Gerardus Leonardus   \n38                        Malpighi, Marcello   \n39  Gramm, Caeso,Brücken, Christoph Heinrich   \n\n                                           Full title  \\\n0   A Latin Letter written to the Publisher April ...   \n1   Acarnania sive Relatio eorum, quae hactenus el...   \n2   ΟΥΡΕΣΙΦΟΙΤΗΣ Helveticus sive itinera per Helve...   \n3   Ad insignissimum virum dominum Thomam Burnettu...   \n4                                Barometri descriptio   \n5                                Ad Dominum Gilbertum   \n6                  Ad Iordanum Brunum Nolanum, Italum   \n7   Ad clarissimum virum Laurentium Massam, sereni...   \n8                Ad lectorem trigonometriae studiosum   \n9   Mirifici logarithmorum canonis descriptio eius...   \n10  Additamentum de natura scientiarum mathematicarum   \n11  Clarorum mathematicorum chronologia, eorum vid...   \n12                           Adulatio perniciosa. Ode   \n13  Aerarium philosophiae mathematicae, in quo ele...   \n14  Aerarium philosophiae mathematicae, in quo ele...   \n15  Aerarium philosophiae mathematicae, in quo ele...   \n16  Antonii Philothei de Homodeis Siculi Aetnae to...   \n17  D.O.M.A. Alchemia Andreae Libavii, medicinae d...   \n18  Phaleuci Martini Praetorii Silesii, illustriss...   \n19  Alchemiae, quam vocant artisque metallicae doc...   \n20  Pascasii Justi Ecloviensis, Philosophiae et Me...   \n21                   Algorithmus minutiarum vulgarium   \n22  Almagestum Novum astronomiam veterem novamque ...   \n23  Amoenitates academicae seu dissertationes vari...   \n24  Amoenitates academicae seu dissertationes vari...   \n25  Amoenitates academicae seu dissertationes vari...   \n26  Amoenitates academicae seu dissertationes vari...   \n27  Amoenitates academicae seu dissertationes vari...   \n28  Amoenitates academicae seu dissertationes vari...   \n29  Amoenitates academicae seu dissertationes vari...   \n30  Amoenitates academicae seu dissertationes vari...   \n31  Amoenitates academicae seu dissertationes vari...   \n32  Amoenitates academicae seu dissertationes vari...   \n33  Amoenitatum exoticarum politico-physico-medica...   \n34  Amussis Ferdinandea ad problemata universae ma...   \n35             An aer sit soni vehiculum? Affirmatur.   \n36                                 An terra moveatur?   \n37  Anatome medullae spinalis et nervorum inde pro...   \n38  Anatome plantarum. Cui subiungitur appendix it...   \n39  Anatomia nivis, quam supremo omnium nivium aut...   \n\n                                                   In        Year  \\\n0   Philosophical Transactions of the Royal Societ...        1672   \n1     ΟΥΡΕΣΙΦΟΙΤΗΣ (Ouresiphoites) Helveticus, 609–35        1723   \n2                                                 NaN        1723   \n3   Examen poeticum duplex, sive, Musarum anglican...        1698   \n4   Examen poeticum duplex, sive, Musarum anglican...        1698   \n5   Epigrammatum libri tres. Auctore Ioanne Owen B...        1606   \n6   Poematum Iani Lernutii, Iani Gulielmi, Valenti...        1603   \n7   Avicennae, Arabum medicorum principis, ex Gera...        1595   \n8   Mirifici logarithmorum canonis descriptioeiusq...        1614   \n9                                                 NaN        1614   \n10  Aristotelis loca mathematica ex universis ipsi...        1615   \n11  Aristotelis loca mathematica ex universis ipsi...        1615   \n12  Illustrissimi et reverendissimi Maffaei sancta...        1620   \n13                                                NaN        1648   \n14                                                NaN        1648   \n15                                                NaN        1648   \n16                                                NaN        1591   \n17                                                NaN        1597   \n18                  Alchemia Libavii, fols. [b3v–b4r]        1597   \n19                                                NaN        1572   \n20                                                NaN        1561   \n21                                                NaN   [c. 1490]   \n22                                                NaN  1651; 1665   \n23                                                NaN   1749–1790   \n24                                                NaN   1749–1790   \n25                                                NaN   1749–1790   \n26                                                NaN   1749–1790   \n27                                                NaN   1749–1790   \n28                                                NaN   1749–1790   \n29                                                NaN   1749–1790   \n30                                                NaN   1749–1790   \n31                                                NaN   1749–1790   \n32                                                NaN   1749–1790   \n33                                                NaN        1712   \n34                                                NaN        1654   \n35  Carmina quadragesimalia ab Aedis Christi Oxone...        1723   \n36  Erasmi Rothmaleri Francohusa-Swarzburgici poet...        1651   \n37                                                NaN        1666   \n38                                                NaN   1675–1679   \n39                                                NaN        1666   \n\n                          Place              Publisher/Printer  \\\n0                        London                         Martyn   \n1                        Leiden             van der Aa, Pieter   \n2                        Leiden             van der Aa, Pieter   \n3                        London          Richard Wellington I.   \n4                        London          Richard Wellington I.   \n5                        London  Windet, John, Waterson, Simon   \n6             Liegnitz, Wrocław                  Albert, David   \n7                        Venice                       I Giunti   \n8                     Edinburgh                     Andro Hart   \n9                     Edinburgh                     Andro Hart   \n10                      Bologna                          Cochi   \n11                      Bologna                          Cochi   \n12                        Paris              Estienne, Antoine   \n13                      Bologna                        Ferroni   \n14                      Bologna                        Ferroni   \n15                      Bologna                        Ferroni   \n16                       Venice                        Muschio   \n17            Frankfurt am Main    Saur, Johannes, Kopf, Peter   \n18            Frankfurt am Main    Saur, Johannes, Kopf, Peter   \n19                        Basel                          Perna   \n20                        Basel              Oporinus, Joannes   \n21                    [Leipzig]             [Martin Landsberg]   \n22                      Bologna                        Benacci   \n23  Leiden, Stockholm, Erlangen        Haak, Kiesewetter, Palm   \n24  Leiden, Stockholm, Erlangen        Haak, Kiesewetter, Palm   \n25  Leiden, Stockholm, Erlangen        Haak, Kiesewetter, Palm   \n26  Leiden, Stockholm, Erlangen        Haak, Kiesewetter, Palm   \n27  Leiden, Stockholm, Erlangen        Haak, Kiesewetter, Palm   \n28  Leiden, Stockholm, Erlangen        Haak, Kiesewetter, Palm   \n29  Leiden, Stockholm, Erlangen        Haak, Kiesewetter, Palm   \n30  Leiden, Stockholm, Erlangen        Haak, Kiesewetter, Palm   \n31  Leiden, Stockholm, Erlangen        Haak, Kiesewetter, Palm   \n32  Leiden, Stockholm, Erlangen        Haak, Kiesewetter, Palm   \n33                        Lemgo                          Meyer   \n34                       Munich                        Nicolai   \n35                       Oxford                William Jackson   \n36                       Gdańsk                          Rhete   \n37                    Amsterdam               Commelin, Caspar   \n38                       London                         Martyn   \n39                         Kiel                        Reumann   \n\n                                         Era  \\\n0                               17th century   \n1                               18th century   \n2                               18th century   \n3                               17th century   \n4                               17th century   \n5                               17th century   \n6                               17th century   \n7                               16th century   \n8                               17th century   \n9                               17th century   \n10                              17th century   \n11                              17th century   \n12                              17th century   \n13                              17th century   \n14                              17th century   \n15                              17th century   \n16                              16th century   \n17                              16th century   \n18                              16th century   \n19                              16th century   \n20                              16th century   \n21  15th century since invention of printing   \n22                              17th century   \n23                              18th century   \n24                              18th century   \n25                              18th century   \n26                              18th century   \n27                              18th century   \n28                              18th century   \n29                              18th century   \n30                              18th century   \n31                              18th century   \n32                              18th century   \n33                              18th century   \n34                              17th century   \n35                              18th century   \n36                              17th century   \n37                              17th century   \n38                              17th century   \n39                              17th century   \n\n                                    Form/Genre  \\\n0                               Letter, Review   \n1                      Biography, Bibliography   \n2                         Report, Bibliography   \n3                               Panegyric poem   \n4                                Didactic poem   \n5                      Other (see description)   \n6                               Panegyric poem   \n7                               Panegyric poem   \n8                               Panegyric poem   \n9                 Monograph, Tables and charts   \n10          Monograph, Other (see description)   \n11                     Biography, Bibliography   \n12     Panegyric poem, Other (see description)   \n13                           Encyclopedic work   \n14                           Encyclopedic work   \n15                           Encyclopedic work   \n16                                   Monograph   \n17  Other (see description), Encyclopedic work   \n18                              Panegyric poem   \n19  Other (see description), Encyclopedic work   \n20                                   Monograph   \n21                                    Textbook   \n22                           Encyclopedic work   \n23                                Dissertation   \n24                                Dissertation   \n25                                Dissertation   \n26                                Dissertation   \n27                                Dissertation   \n28                                Dissertation   \n29                                Dissertation   \n30                                Dissertation   \n31                                Dissertation   \n32                                Dissertation   \n33                                      Report   \n34          Monograph, Other (see description)   \n35      Didactic poem, Other (see description)   \n36                     Other (see description)   \n37                                   Monograph   \n38                                   Monograph   \n39                                Dissertation   \n\n                                   Discipline/Content  \\\n0                                             Physics   \n1   Mathematics, Physics, Geography/Cartography, M...   \n2   Geography/Cartography, Meteorology/Earth scien...   \n3                          Meteorology/Earth sciences   \n4                                             Physics   \n5                     Astronomy/Astrology/Cosmography   \n6                     Astronomy/Astrology/Cosmography   \n7                                            Medicine   \n8                                         Mathematics   \n9                                         Mathematics   \n10                                        Mathematics   \n11  Mathematics, Astronomy/Astrology/Cosmography, ...   \n12                    Astronomy/Astrology/Cosmography   \n13                                        Mathematics   \n14                                        Mathematics   \n15                                        Mathematics   \n16  Geography/Cartography, Meteorology/Earth sciences   \n17                                  Alchemy/Chemistry   \n18                                  Alchemy/Chemistry   \n19                                  Alchemy/Chemistry   \n20                                           Medicine   \n21                                        Mathematics   \n22                    Astronomy/Astrology/Cosmography   \n23                                  Biology, Medicine   \n24                                  Biology, Medicine   \n25                                  Biology, Medicine   \n26                                  Biology, Medicine   \n27                                  Biology, Medicine   \n28                                  Biology, Medicine   \n29                                  Biology, Medicine   \n30                                  Biology, Medicine   \n31                                  Biology, Medicine   \n32                                  Biology, Medicine   \n33  Geography/Cartography, Meteorology/Earth scien...   \n34                                        Mathematics   \n35                                            Physics   \n36                    Astronomy/Astrology/Cosmography   \n37                                           Medicine   \n38                                            Biology   \n39                         Meteorology/Earth sciences   \n\n                                             Original  ... Of interest to  \\\n0                               A Latin Letter(JSTOR)  ...            NaN   \n1   Acarnania (1st edition), inMiscellanea Lipsien...  ...             MK   \n2   ΟΥΡΕΣΙΦΟΙΤΗΣ (Ouresiphoites) Helveticus(e-rara...  ...             MK   \n3   Ad Burnettum sacrae theoriae telluris auctorem...  ...         MK, IT   \n4   Barometri descriptio, in:Examen poeticum duple...  ...            NaN   \n5   3rd edition (Amberg 1608)(Google Books)Digital...  ...         JL, IT   \n6   Ad Iordanum Brunum (1603)(CAMENA)Ad Iordanum B...  ...         MK, IT   \n7   Ad Laurentium Massam pro Avicenna ode(Google B...  ...             MK   \n8   Ad lectorem trigonometriae studiosum(Google Bo...  ...             IT   \n9   Mirifici logarithmorum canonis descriptio(Goog...  ...         MK, FB   \n10  Additamentum de natura scientiarum mathematica...  ...         MK, FB   \n11  Clarorum mathematicorum chronologia(Google Books)  ...         MK, FB   \n12                  Adulatio perniciosa(Google Books)  ...             IT   \n13  Aerarium philosophiae mathematicae, vol. 1,vol...  ...         MK, FB   \n14  Aerarium philosophiae mathematicae, vol. 1,vol...  ...         MK, FB   \n15  Aerarium philosophiae mathematicae, vol. 1,vol...  ...         MK, FB   \n16  Aetnae topographia(Google Books)Alternative li...  ...             OA   \n17  Alchemia Libavii(e-rara.ch)Alternative link:ar...  ...             MK   \n18                        Alchemia Libavii(e-rara.ch)  ...         DB, MK   \n19  Alchemiae quam vocant artisque metallicae doct...  ...            NaN   \n20  Basel 1561, Neustadt an der Weinstraße1617/161...  ...             WB   \n21              Algorithmus minutiarum vulgarium(WDB)  ...         MK, FB   \n22  Almagestum novum(e-rara.ch)Almagestum novum(ÖN...  ...             JL   \n23  Amoenitates academicae, 10 vols.(e-rara.ch)Alt...  ...             MK   \n24  Amoenitates academicae, 10 vols.(e-rara.ch)Alt...  ...             MK   \n25  Amoenitates academicae, 10 vols.(e-rara.ch)Alt...  ...             MK   \n26  Amoenitates academicae, 10 vols.(e-rara.ch)Alt...  ...             MK   \n27  Amoenitates academicae, 10 vols.(e-rara.ch)Alt...  ...             MK   \n28  Amoenitates academicae, 10 vols.(e-rara.ch)Alt...  ...             MK   \n29  Amoenitates academicae, 10 vols.(e-rara.ch)Alt...  ...             MK   \n30  Amoenitates academicae, 10 vols.(e-rara.ch)Alt...  ...             MK   \n31  Amoenitates academicae, 10 vols.(e-rara.ch)Alt...  ...             MK   \n32  Amoenitates academicae, 10 vols.(e-rara.ch)Alt...  ...             MK   \n33                    Amoenitates exoticae(e-rara.ch)  ...            NaN   \n34  Amussis Ferdinandea(e-rara.ch)Alternative link...  ...         MK, FB   \n35  An aer sit soni vehiculum(3rd edition, London ...  ...             WB   \n36                   An terra moveatur?(SLUB Dresden)  ...             IT   \n37  Anatome medullae spinalis et nervorum inde pro...  ...            NaN   \n38  Anatome plantarum part I with appendix(Google ...  ...             DB   \n39                    Anatomia nivis(UB Kiel digital)  ...             UK   \n\n   Transkribus text available Written by Library and Signature  \\\n0                         Yes         IT                   NaN   \n1                         Yes         MK                   NaN   \n2                         Yes         MK                   NaN   \n3                         Yes         MK                   NaN   \n4                         Yes        NaN                   NaN   \n5                         Yes         IT                   NaN   \n6                         Yes         MK                   NaN   \n7                         Yes         MK                   NaN   \n8                         Yes         IT                   NaN   \n9                         Yes     MK, FB                   NaN   \n10                        Yes     MK, FB                   NaN   \n11                        Yes         MK                   NaN   \n12                        Yes         IT                   NaN   \n13                        Yes         MK                   NaN   \n14                        Yes         MK                   NaN   \n15                        Yes         MK                   NaN   \n16                        Yes         IT                   NaN   \n17                        Yes         MK                   NaN   \n18                        Yes         MK                   NaN   \n19                        Yes         OA                   NaN   \n20                        Yes         WB                   NaN   \n21                        Yes     MK, FB                   NaN   \n22                        Yes         OA                   NaN   \n23                        Yes         OA                   NaN   \n24                        Yes         OA                   NaN   \n25                        Yes         OA                   NaN   \n26                        Yes         OA                   NaN   \n27                        Yes         OA                   NaN   \n28                        Yes         OA                   NaN   \n29                        Yes         OA                   NaN   \n30                        Yes         OA                   NaN   \n31                        Yes         OA                   NaN   \n32                        Yes         OA                   NaN   \n33                        Yes        NaN                   NaN   \n34                        Yes     MK, FB                   NaN   \n35                        Yes         WB                   NaN   \n36                        Yes         IT                   NaN   \n37                        Yes         DB                   NaN   \n38                        Yes         DB                   NaN   \n39                        Yes         UK                   NaN   \n\n                                                  ids      id date_min  \\\n0                                            [607720]  607720   1672.0   \n1                                            [605919]  605919   1723.0   \n2                                            [605919]  605919   1723.0   \n3                                            [769230]  769230   1698.0   \n4                                            [769230]  769230   1698.0   \n5                                            [900767]  900767   1606.0   \n6                                            [801745]  801745   1603.0   \n7                                            [900763]  900763   1595.0   \n8                                            [801744]  801744   1614.0   \n9                                            [801744]  801744   1614.0   \n10                                           [653295]  653295   1615.0   \n11                                           [653295]  653295   1615.0   \n12                                           [775165]  775165   1620.0   \n13                           [807622, 807623, 807624]  807622   1648.0   \n14                           [807622, 807623, 807624]  807623   1648.0   \n15                           [807622, 807623, 807624]  807624   1648.0   \n16                                           [683332]  683332   1591.0   \n17                                           [597737]  597737   1597.0   \n18                                           [597737]  597737   1597.0   \n19                                           [616642]  616642   1572.0   \n20                                           [616643]  616643   1561.0   \n21                                           [899971]  899971   1490.0   \n22                                           [699869]  699869   1651.0   \n23  [913057, 913059, 913060, 913061, 913062, 91306...  913057   1749.0   \n24  [913057, 913059, 913060, 913061, 913062, 91306...  913059   1749.0   \n25  [913057, 913059, 913060, 913061, 913062, 91306...  913060   1749.0   \n26  [913057, 913059, 913060, 913061, 913062, 91306...  913061   1749.0   \n27  [913057, 913059, 913060, 913061, 913062, 91306...  913062   1749.0   \n28  [913057, 913059, 913060, 913061, 913062, 91306...  913063   1749.0   \n29  [913057, 913059, 913060, 913061, 913062, 91306...  913064   1749.0   \n30  [913057, 913059, 913060, 913061, 913062, 91306...  913065   1749.0   \n31  [913057, 913059, 913060, 913061, 913062, 91306...  913066   1749.0   \n32  [913057, 913059, 913060, 913061, 913062, 91306...  913058   1749.0   \n33                                           [807407]  807407   1712.0   \n34                                           [862096]  862096   1654.0   \n35                                           [691442]  691442   1723.0   \n36                                           [801743]  801743   1651.0   \n37                                           [696410]  696410   1666.0   \n38                                           [598518]  598518   1675.0   \n39                                           [689823]  689823   1666.0   \n\n   date_max                                           filename file_year  \n0    1672.0  Pardies,_Ignace_Gaston_-_A_Latin_Letter_contai...    1672.0  \n1    1723.0  Scheuchzer,_Johann_Jakob_-_ΟΥΡΕΣΙΦΟΙΤΗΣ_(Oures...    1723.0  \n2    1723.0  Scheuchzer,_Johann_Jakob_-_ΟΥΡΕΣΙΦΟΙΤΗΣ_(Oures...    1723.0  \n3    1698.0        Examen_poeticum_duplex__London_1698_pdf.txt    1698.0  \n4    1698.0        Examen_poeticum_duplex__London_1698_pdf.txt    1698.0  \n5    1606.0  Owen,_Johan_-_Epigrammatum_libri_tres__Amberg_...    1608.0  \n6    1603.0  Janus_Lernutius_et_al__-_Poemata__Liegnitz_160...    1603.0  \n7    1595.0  Costeo,_Giovanni_&_Mongio,_Paolo_-_Avicennae_c...    1595.0  \n8    1614.0  Napier,_John_-_Mrifici_logarithmorum_canonis_d...    1614.0  \n9    1614.0  Napier,_John_-_Mrifici_logarithmorum_canonis_d...    1614.0  \n10   1615.0  Biancani,_Giuseppe_-_Aristotelis_loca_mathemat...    1615.0  \n11   1615.0  Biancani,_Giuseppe_-_Aristotelis_loca_mathemat...    1615.0  \n12   1620.0  Barbereini,_Maffeo_-_Maffaei_sanctae_Romanae_e...    1620.0  \n13   1648.0  Bettini,_Mario_-_Aerarium_philosophiae_mathema...    1648.0  \n14   1648.0  Bettini,_Mario_-_Aerarium_philosophiae_mathema...    1648.0  \n15   1648.0  Bettini,_Mario_-_Aerarium_philosophiae_mathema...    1648.0  \n16   1591.0  Omodei,_Antonio_Filoteo_degli_-_Aetnae_topogra...    1591.0  \n17   1597.0  Libavius,_Andreas_-_Alchemia_Libavii__Frankfur...    1597.0  \n18   1597.0  Libavius,_Andreas_-_Alchemia_Libavii__Frankfur...    1597.0  \n19   1572.0  Grataroli,_Guglielmo_-_Alchemiae_quam_vocant_a...    1571.0  \n20   1561.0       Joostens,_Pâquier_-_Alea__Basel_1561_pdf.txt    1561.0  \n21   1490.0  Widmann,_Johannes_-_Algorithmus_minutiarum_vul...    1490.0  \n22   1665.0  Riccioli,_Giovanni_Battista_-_Almagestum_novum...    1651.0  \n23   1790.0  Linné,_Carl_von_-_Amoenitates_academicae__Vol_...    1749.0  \n24   1790.0  Linné,_Carl_von_-_Amoenitates_academicae__Vol_...    1751.0  \n25   1790.0  Linné,_Carl_von_-_Amoenitates_academicae__Vol_...    1756.0  \n26   1790.0  Linné,_Carl_von_-_Amoenitates_academicae__Vol_...    1759.0  \n27   1790.0  Linné,_Carl_von_-_Amoenitates_academicae__Vol_...    1760.0  \n28   1790.0  Linné,_Carl_von_-_Amoenitates_academicae__Vol_...    1763.0  \n29   1790.0  Linné,_Carl_von_-_Amoenitates_academicae__Vol_...    1769.0  \n30   1790.0  Linné,_Carl_von_-_Amoenitates_academicae__Vol_...    1785.0  \n31   1790.0  Linné,_Carl_von_-_Amoenitates_academicae__Vol_...    1785.0  \n32   1790.0  Linné,_Carl_von_-_Amoenitates_academicae__Vol_...    1790.0  \n33   1712.0  Kaempfer,_Engelbert_-_Amoenitates_exoticae__Le...    1712.0  \n34   1654.0  Hirsch,_Siegfried_-_Amussis_Ferdinandea__Munic...    1654.0  \n35   1723.0  Anonymi_-_Carmina_quadragesimalia__Oxford_1723...    1723.0  \n36   1651.0  Rothmaler,_Erasmus_-_Deliciae_poeticae__Gdańsk...    1651.0  \n37   1666.0  Blasius,_Gerardus_Leonardus_-_Anatome_medullae...    1666.0  \n38   1679.0  Malpighi,_Marcello_-_Anatome_plantarum__London...    1675.0  \n39   1666.0  Gramm,_Caeso_&_Brücken,_Christoph_Heinrich_-_A...    1666.0  \n\n[40 rows x 26 columns]",
      "text/html": "<div>\n<style scoped>\n    .dataframe tbody tr th:only-of-type {\n        vertical-align: middle;\n    }\n\n    .dataframe tbody tr th {\n        vertical-align: top;\n    }\n\n    .dataframe thead th {\n        text-align: right;\n    }\n</style>\n<table border=\"1\" class=\"dataframe\">\n  <thead>\n    <tr style=\"text-align: right;\">\n      <th></th>\n      <th>Author</th>\n      <th>Full title</th>\n      <th>In</th>\n      <th>Year</th>\n      <th>Place</th>\n      <th>Publisher/Printer</th>\n      <th>Era</th>\n      <th>Form/Genre</th>\n      <th>Discipline/Content</th>\n      <th>Original</th>\n      <th>...</th>\n      <th>Of interest to</th>\n      <th>Transkribus text available</th>\n      <th>Written by</th>\n      <th>Library and Signature</th>\n      <th>ids</th>\n      <th>id</th>\n      <th>date_min</th>\n      <th>date_max</th>\n      <th>filename</th>\n      <th>file_year</th>\n    </tr>\n  </thead>\n  <tbody>\n    <tr>\n      <th>0</th>\n      <td>Pardies, Ignace Gaston</td>\n      <td>A Latin Letter written to the Publisher April ...</td>\n      <td>Philosophical Transactions of the Royal Societ...</td>\n      <td>1672</td>\n      <td>London</td>\n      <td>Martyn</td>\n      <td>17th century</td>\n      <td>Letter, Review</td>\n      <td>Physics</td>\n      <td>A Latin Letter(JSTOR)</td>\n      <td>...</td>\n      <td>NaN</td>\n      <td>Yes</td>\n      <td>IT</td>\n      <td>NaN</td>\n      <td>[607720]</td>\n      <td>607720</td>\n      <td>1672.0</td>\n      <td>1672.0</td>\n      <td>Pardies,_Ignace_Gaston_-_A_Latin_Letter_contai...</td>\n      <td>1672.0</td>\n    </tr>\n    <tr>\n      <th>1</th>\n      <td>Scheuchzer, Johann Jakob</td>\n      <td>Acarnania sive Relatio eorum, quae hactenus el...</td>\n      <td>ΟΥΡΕΣΙΦΟΙΤΗΣ (Ouresiphoites) Helveticus, 609–35</td>\n      <td>1723</td>\n      <td>Leiden</td>\n      <td>van der Aa, Pieter</td>\n      <td>18th century</td>\n      <td>Biography, Bibliography</td>\n      <td>Mathematics, Physics, Geography/Cartography, M...</td>\n      <td>Acarnania (1st edition), inMiscellanea Lipsien...</td>\n      <td>...</td>\n      <td>MK</td>\n      <td>Yes</td>\n      <td>MK</td>\n      <td>NaN</td>\n      <td>[605919]</td>\n      <td>605919</td>\n      <td>1723.0</td>\n      <td>1723.0</td>\n      <td>Scheuchzer,_Johann_Jakob_-_ΟΥΡΕΣΙΦΟΙΤΗΣ_(Oures...</td>\n      <td>1723.0</td>\n    </tr>\n    <tr>\n      <th>2</th>\n      <td>Scheuchzer, Johann Jakob</td>\n      <td>ΟΥΡΕΣΙΦΟΙΤΗΣ Helveticus sive itinera per Helve...</td>\n      <td>NaN</td>\n      <td>1723</td>\n      <td>Leiden</td>\n      <td>van der Aa, Pieter</td>\n      <td>18th century</td>\n      <td>Report, Bibliography</td>\n      <td>Geography/Cartography, Meteorology/Earth scien...</td>\n      <td>ΟΥΡΕΣΙΦΟΙΤΗΣ (Ouresiphoites) Helveticus(e-rara...</td>\n      <td>...</td>\n      <td>MK</td>\n      <td>Yes</td>\n      <td>MK</td>\n      <td>NaN</td>\n      <td>[605919]</td>\n      <td>605919</td>\n      <td>1723.0</td>\n      <td>1723.0</td>\n      <td>Scheuchzer,_Johann_Jakob_-_ΟΥΡΕΣΙΦΟΙΤΗΣ_(Oures...</td>\n      <td>1723.0</td>\n    </tr>\n    <tr>\n      <th>3</th>\n      <td>Addison, Joseph</td>\n      <td>Ad insignissimum virum dominum Thomam Burnettu...</td>\n      <td>Examen poeticum duplex, sive, Musarum anglican...</td>\n      <td>1698</td>\n      <td>London</td>\n      <td>Richard Wellington I.</td>\n      <td>17th century</td>\n      <td>Panegyric poem</td>\n      <td>Meteorology/Earth sciences</td>\n      <td>Ad Burnettum sacrae theoriae telluris auctorem...</td>\n      <td>...</td>\n      <td>MK, IT</td>\n      <td>Yes</td>\n      <td>MK</td>\n      <td>NaN</td>\n      <td>[769230]</td>\n      <td>769230</td>\n      <td>1698.0</td>\n      <td>1698.0</td>\n      <td>Examen_poeticum_duplex__London_1698_pdf.txt</td>\n      <td>1698.0</td>\n    </tr>\n    <tr>\n      <th>4</th>\n      <td>Addison, Joseph</td>\n      <td>Barometri descriptio</td>\n      <td>Examen poeticum duplex, sive, Musarum anglican...</td>\n      <td>1698</td>\n      <td>London</td>\n      <td>Richard Wellington I.</td>\n      <td>17th century</td>\n      <td>Didactic poem</td>\n      <td>Physics</td>\n      <td>Barometri descriptio, in:Examen poeticum duple...</td>\n      <td>...</td>\n      <td>NaN</td>\n      <td>Yes</td>\n      <td>NaN</td>\n      <td>NaN</td>\n      <td>[769230]</td>\n      <td>769230</td>\n      <td>1698.0</td>\n      <td>1698.0</td>\n      <td>Examen_poeticum_duplex__London_1698_pdf.txt</td>\n      <td>1698.0</td>\n    </tr>\n    <tr>\n      <th>5</th>\n      <td>Owen, John</td>\n      <td>Ad Dominum Gilbertum</td>\n      <td>Epigrammatum libri tres. Auctore Ioanne Owen B...</td>\n      <td>1606</td>\n      <td>London</td>\n      <td>Windet, John, Waterson, Simon</td>\n      <td>17th century</td>\n      <td>Other (see description)</td>\n      <td>Astronomy/Astrology/Cosmography</td>\n      <td>3rd edition (Amberg 1608)(Google Books)Digital...</td>\n      <td>...</td>\n      <td>JL, IT</td>\n      <td>Yes</td>\n      <td>IT</td>\n      <td>NaN</td>\n      <td>[900767]</td>\n      <td>900767</td>\n      <td>1606.0</td>\n      <td>1606.0</td>\n      <td>Owen,_Johan_-_Epigrammatum_libri_tres__Amberg_...</td>\n      <td>1608.0</td>\n    </tr>\n    <tr>\n      <th>6</th>\n      <td>Acidalius, Valens</td>\n      <td>Ad Iordanum Brunum Nolanum, Italum</td>\n      <td>Poematum Iani Lernutii, Iani Gulielmi, Valenti...</td>\n      <td>1603</td>\n      <td>Liegnitz, Wrocław</td>\n      <td>Albert, David</td>\n      <td>17th century</td>\n      <td>Panegyric poem</td>\n      <td>Astronomy/Astrology/Cosmography</td>\n      <td>Ad Iordanum Brunum (1603)(CAMENA)Ad Iordanum B...</td>\n      <td>...</td>\n      <td>MK, IT</td>\n      <td>Yes</td>\n      <td>MK</td>\n      <td>NaN</td>\n      <td>[801745]</td>\n      <td>801745</td>\n      <td>1603.0</td>\n      <td>1603.0</td>\n      <td>Janus_Lernutius_et_al__-_Poemata__Liegnitz_160...</td>\n      <td>1603.0</td>\n    </tr>\n    <tr>\n      <th>7</th>\n      <td>Paulinus, Fabius</td>\n      <td>Ad clarissimum virum Laurentium Massam, sereni...</td>\n      <td>Avicennae, Arabum medicorum principis, ex Gera...</td>\n      <td>1595</td>\n      <td>Venice</td>\n      <td>I Giunti</td>\n      <td>16th century</td>\n      <td>Panegyric poem</td>\n      <td>Medicine</td>\n      <td>Ad Laurentium Massam pro Avicenna ode(Google B...</td>\n      <td>...</td>\n      <td>MK</td>\n      <td>Yes</td>\n      <td>MK</td>\n      <td>NaN</td>\n      <td>[900763]</td>\n      <td>900763</td>\n      <td>1595.0</td>\n      <td>1595.0</td>\n      <td>Costeo,_Giovanni_&amp;_Mongio,_Paolo_-_Avicennae_c...</td>\n      <td>1595.0</td>\n    </tr>\n    <tr>\n      <th>8</th>\n      <td>Sands, Patrick</td>\n      <td>Ad lectorem trigonometriae studiosum</td>\n      <td>Mirifici logarithmorum canonis descriptioeiusq...</td>\n      <td>1614</td>\n      <td>Edinburgh</td>\n      <td>Andro Hart</td>\n      <td>17th century</td>\n      <td>Panegyric poem</td>\n      <td>Mathematics</td>\n      <td>Ad lectorem trigonometriae studiosum(Google Bo...</td>\n      <td>...</td>\n      <td>IT</td>\n      <td>Yes</td>\n      <td>IT</td>\n      <td>NaN</td>\n      <td>[801744]</td>\n      <td>801744</td>\n      <td>1614.0</td>\n      <td>1614.0</td>\n      <td>Napier,_John_-_Mrifici_logarithmorum_canonis_d...</td>\n      <td>1614.0</td>\n    </tr>\n    <tr>\n      <th>9</th>\n      <td>Napier, John</td>\n      <td>Mirifici logarithmorum canonis descriptio eius...</td>\n      <td>NaN</td>\n      <td>1614</td>\n      <td>Edinburgh</td>\n      <td>Andro Hart</td>\n      <td>17th century</td>\n      <td>Monograph, Tables and charts</td>\n      <td>Mathematics</td>\n      <td>Mirifici logarithmorum canonis descriptio(Goog...</td>\n      <td>...</td>\n      <td>MK, FB</td>\n      <td>Yes</td>\n      <td>MK, FB</td>\n      <td>NaN</td>\n      <td>[801744]</td>\n      <td>801744</td>\n      <td>1614.0</td>\n      <td>1614.0</td>\n      <td>Napier,_John_-_Mrifici_logarithmorum_canonis_d...</td>\n      <td>1614.0</td>\n    </tr>\n    <tr>\n      <th>10</th>\n      <td>Biancani, Giuseppe</td>\n      <td>Additamentum de natura scientiarum mathematicarum</td>\n      <td>Aristotelis loca mathematica ex universis ipsi...</td>\n      <td>1615</td>\n      <td>Bologna</td>\n      <td>Cochi</td>\n      <td>17th century</td>\n      <td>Monograph, Other (see description)</td>\n      <td>Mathematics</td>\n      <td>Additamentum de natura scientiarum mathematica...</td>\n      <td>...</td>\n      <td>MK, FB</td>\n      <td>Yes</td>\n      <td>MK, FB</td>\n      <td>NaN</td>\n      <td>[653295]</td>\n      <td>653295</td>\n      <td>1615.0</td>\n      <td>1615.0</td>\n      <td>Biancani,_Giuseppe_-_Aristotelis_loca_mathemat...</td>\n      <td>1615.0</td>\n    </tr>\n    <tr>\n      <th>11</th>\n      <td>Biancani, Giuseppe</td>\n      <td>Clarorum mathematicorum chronologia, eorum vid...</td>\n      <td>Aristotelis loca mathematica ex universis ipsi...</td>\n      <td>1615</td>\n      <td>Bologna</td>\n      <td>Cochi</td>\n      <td>17th century</td>\n      <td>Biography, Bibliography</td>\n      <td>Mathematics, Astronomy/Astrology/Cosmography, ...</td>\n      <td>Clarorum mathematicorum chronologia(Google Books)</td>\n      <td>...</td>\n      <td>MK, FB</td>\n      <td>Yes</td>\n      <td>MK</td>\n      <td>NaN</td>\n      <td>[653295]</td>\n      <td>653295</td>\n      <td>1615.0</td>\n      <td>1615.0</td>\n      <td>Biancani,_Giuseppe_-_Aristotelis_loca_mathemat...</td>\n      <td>1615.0</td>\n    </tr>\n    <tr>\n      <th>12</th>\n      <td>Barberini, Maffeo (Urban VIII)</td>\n      <td>Adulatio perniciosa. Ode</td>\n      <td>Illustrissimi et reverendissimi Maffaei sancta...</td>\n      <td>1620</td>\n      <td>Paris</td>\n      <td>Estienne, Antoine</td>\n      <td>17th century</td>\n      <td>Panegyric poem, Other (see description)</td>\n      <td>Astronomy/Astrology/Cosmography</td>\n      <td>Adulatio perniciosa(Google Books)</td>\n      <td>...</td>\n      <td>IT</td>\n      <td>Yes</td>\n      <td>IT</td>\n      <td>NaN</td>\n      <td>[775165]</td>\n      <td>775165</td>\n      <td>1620.0</td>\n      <td>1620.0</td>\n      <td>Barbereini,_Maffeo_-_Maffaei_sanctae_Romanae_e...</td>\n      <td>1620.0</td>\n    </tr>\n    <tr>\n      <th>13</th>\n      <td>Bettini, Mario</td>\n      <td>Aerarium philosophiae mathematicae, in quo ele...</td>\n      <td>NaN</td>\n      <td>1648</td>\n      <td>Bologna</td>\n      <td>Ferroni</td>\n      <td>17th century</td>\n      <td>Encyclopedic work</td>\n      <td>Mathematics</td>\n      <td>Aerarium philosophiae mathematicae, vol. 1,vol...</td>\n      <td>...</td>\n      <td>MK, FB</td>\n      <td>Yes</td>\n      <td>MK</td>\n      <td>NaN</td>\n      <td>[807622, 807623, 807624]</td>\n      <td>807622</td>\n      <td>1648.0</td>\n      <td>1648.0</td>\n      <td>Bettini,_Mario_-_Aerarium_philosophiae_mathema...</td>\n      <td>1648.0</td>\n    </tr>\n    <tr>\n      <th>14</th>\n      <td>Bettini, Mario</td>\n      <td>Aerarium philosophiae mathematicae, in quo ele...</td>\n      <td>NaN</td>\n      <td>1648</td>\n      <td>Bologna</td>\n      <td>Ferroni</td>\n      <td>17th century</td>\n      <td>Encyclopedic work</td>\n      <td>Mathematics</td>\n      <td>Aerarium philosophiae mathematicae, vol. 1,vol...</td>\n      <td>...</td>\n      <td>MK, FB</td>\n      <td>Yes</td>\n      <td>MK</td>\n      <td>NaN</td>\n      <td>[807622, 807623, 807624]</td>\n      <td>807623</td>\n      <td>1648.0</td>\n      <td>1648.0</td>\n      <td>Bettini,_Mario_-_Aerarium_philosophiae_mathema...</td>\n      <td>1648.0</td>\n    </tr>\n    <tr>\n      <th>15</th>\n      <td>Bettini, Mario</td>\n      <td>Aerarium philosophiae mathematicae, in quo ele...</td>\n      <td>NaN</td>\n      <td>1648</td>\n      <td>Bologna</td>\n      <td>Ferroni</td>\n      <td>17th century</td>\n      <td>Encyclopedic work</td>\n      <td>Mathematics</td>\n      <td>Aerarium philosophiae mathematicae, vol. 1,vol...</td>\n      <td>...</td>\n      <td>MK, FB</td>\n      <td>Yes</td>\n      <td>MK</td>\n      <td>NaN</td>\n      <td>[807622, 807623, 807624]</td>\n      <td>807624</td>\n      <td>1648.0</td>\n      <td>1648.0</td>\n      <td>Bettini,_Mario_-_Aerarium_philosophiae_mathema...</td>\n      <td>1648.0</td>\n    </tr>\n    <tr>\n      <th>16</th>\n      <td>Omodei, Antonio Filoteo degli</td>\n      <td>Antonii Philothei de Homodeis Siculi Aetnae to...</td>\n      <td>NaN</td>\n      <td>1591</td>\n      <td>Venice</td>\n      <td>Muschio</td>\n      <td>16th century</td>\n      <td>Monograph</td>\n      <td>Geography/Cartography, Meteorology/Earth sciences</td>\n      <td>Aetnae topographia(Google Books)Alternative li...</td>\n      <td>...</td>\n      <td>OA</td>\n      <td>Yes</td>\n      <td>IT</td>\n      <td>NaN</td>\n      <td>[683332]</td>\n      <td>683332</td>\n      <td>1591.0</td>\n      <td>1591.0</td>\n      <td>Omodei,_Antonio_Filoteo_degli_-_Aetnae_topogra...</td>\n      <td>1591.0</td>\n    </tr>\n    <tr>\n      <th>17</th>\n      <td>Libavius, Andreas</td>\n      <td>D.O.M.A. Alchemia Andreae Libavii, medicinae d...</td>\n      <td>NaN</td>\n      <td>1597</td>\n      <td>Frankfurt am Main</td>\n      <td>Saur, Johannes, Kopf, Peter</td>\n      <td>16th century</td>\n      <td>Other (see description), Encyclopedic work</td>\n      <td>Alchemy/Chemistry</td>\n      <td>Alchemia Libavii(e-rara.ch)Alternative link:ar...</td>\n      <td>...</td>\n      <td>MK</td>\n      <td>Yes</td>\n      <td>MK</td>\n      <td>NaN</td>\n      <td>[597737]</td>\n      <td>597737</td>\n      <td>1597.0</td>\n      <td>1597.0</td>\n      <td>Libavius,_Andreas_-_Alchemia_Libavii__Frankfur...</td>\n      <td>1597.0</td>\n    </tr>\n    <tr>\n      <th>18</th>\n      <td>Praetorius, Martin</td>\n      <td>Phaleuci Martini Praetorii Silesii, illustriss...</td>\n      <td>Alchemia Libavii, fols. [b3v–b4r]</td>\n      <td>1597</td>\n      <td>Frankfurt am Main</td>\n      <td>Saur, Johannes, Kopf, Peter</td>\n      <td>16th century</td>\n      <td>Panegyric poem</td>\n      <td>Alchemy/Chemistry</td>\n      <td>Alchemia Libavii(e-rara.ch)</td>\n      <td>...</td>\n      <td>DB, MK</td>\n      <td>Yes</td>\n      <td>MK</td>\n      <td>NaN</td>\n      <td>[597737]</td>\n      <td>597737</td>\n      <td>1597.0</td>\n      <td>1597.0</td>\n      <td>Libavius,_Andreas_-_Alchemia_Libavii__Frankfur...</td>\n      <td>1597.0</td>\n    </tr>\n    <tr>\n      <th>19</th>\n      <td>Grataroli, Guglielmo</td>\n      <td>Alchemiae, quam vocant artisque metallicae doc...</td>\n      <td>NaN</td>\n      <td>1572</td>\n      <td>Basel</td>\n      <td>Perna</td>\n      <td>16th century</td>\n      <td>Other (see description), Encyclopedic work</td>\n      <td>Alchemy/Chemistry</td>\n      <td>Alchemiae quam vocant artisque metallicae doct...</td>\n      <td>...</td>\n      <td>NaN</td>\n      <td>Yes</td>\n      <td>OA</td>\n      <td>NaN</td>\n      <td>[616642]</td>\n      <td>616642</td>\n      <td>1572.0</td>\n      <td>1572.0</td>\n      <td>Grataroli,_Guglielmo_-_Alchemiae_quam_vocant_a...</td>\n      <td>1571.0</td>\n    </tr>\n    <tr>\n      <th>20</th>\n      <td>Turcq, Pascasius Justus</td>\n      <td>Pascasii Justi Ecloviensis, Philosophiae et Me...</td>\n      <td>NaN</td>\n      <td>1561</td>\n      <td>Basel</td>\n      <td>Oporinus, Joannes</td>\n      <td>16th century</td>\n      <td>Monograph</td>\n      <td>Medicine</td>\n      <td>Basel 1561, Neustadt an der Weinstraße1617/161...</td>\n      <td>...</td>\n      <td>WB</td>\n      <td>Yes</td>\n      <td>WB</td>\n      <td>NaN</td>\n      <td>[616643]</td>\n      <td>616643</td>\n      <td>1561.0</td>\n      <td>1561.0</td>\n      <td>Joostens,_Pâquier_-_Alea__Basel_1561_pdf.txt</td>\n      <td>1561.0</td>\n    </tr>\n    <tr>\n      <th>21</th>\n      <td>Widmann, Johannes</td>\n      <td>Algorithmus minutiarum vulgarium</td>\n      <td>NaN</td>\n      <td>[c. 1490]</td>\n      <td>[Leipzig]</td>\n      <td>[Martin Landsberg]</td>\n      <td>15th century since invention of printing</td>\n      <td>Textbook</td>\n      <td>Mathematics</td>\n      <td>Algorithmus minutiarum vulgarium(WDB)</td>\n      <td>...</td>\n      <td>MK, FB</td>\n      <td>Yes</td>\n      <td>MK, FB</td>\n      <td>NaN</td>\n      <td>[899971]</td>\n      <td>899971</td>\n      <td>1490.0</td>\n      <td>1490.0</td>\n      <td>Widmann,_Johannes_-_Algorithmus_minutiarum_vul...</td>\n      <td>1490.0</td>\n    </tr>\n    <tr>\n      <th>22</th>\n      <td>Riccioli, Giovanni Battista</td>\n      <td>Almagestum Novum astronomiam veterem novamque ...</td>\n      <td>NaN</td>\n      <td>1651; 1665</td>\n      <td>Bologna</td>\n      <td>Benacci</td>\n      <td>17th century</td>\n      <td>Encyclopedic work</td>\n      <td>Astronomy/Astrology/Cosmography</td>\n      <td>Almagestum novum(e-rara.ch)Almagestum novum(ÖN...</td>\n      <td>...</td>\n      <td>JL</td>\n      <td>Yes</td>\n      <td>OA</td>\n      <td>NaN</td>\n      <td>[699869]</td>\n      <td>699869</td>\n      <td>1651.0</td>\n      <td>1665.0</td>\n      <td>Riccioli,_Giovanni_Battista_-_Almagestum_novum...</td>\n      <td>1651.0</td>\n    </tr>\n    <tr>\n      <th>23</th>\n      <td>Linné, Carl von</td>\n      <td>Amoenitates academicae seu dissertationes vari...</td>\n      <td>NaN</td>\n      <td>1749–1790</td>\n      <td>Leiden, Stockholm, Erlangen</td>\n      <td>Haak, Kiesewetter, Palm</td>\n      <td>18th century</td>\n      <td>Dissertation</td>\n      <td>Biology, Medicine</td>\n      <td>Amoenitates academicae, 10 vols.(e-rara.ch)Alt...</td>\n      <td>...</td>\n      <td>MK</td>\n      <td>Yes</td>\n      <td>OA</td>\n      <td>NaN</td>\n      <td>[913057, 913059, 913060, 913061, 913062, 91306...</td>\n      <td>913057</td>\n      <td>1749.0</td>\n      <td>1790.0</td>\n      <td>Linné,_Carl_von_-_Amoenitates_academicae__Vol_...</td>\n      <td>1749.0</td>\n    </tr>\n    <tr>\n      <th>24</th>\n      <td>Linné, Carl von</td>\n      <td>Amoenitates academicae seu dissertationes vari...</td>\n      <td>NaN</td>\n      <td>1749–1790</td>\n      <td>Leiden, Stockholm, Erlangen</td>\n      <td>Haak, Kiesewetter, Palm</td>\n      <td>18th century</td>\n      <td>Dissertation</td>\n      <td>Biology, Medicine</td>\n      <td>Amoenitates academicae, 10 vols.(e-rara.ch)Alt...</td>\n      <td>...</td>\n      <td>MK</td>\n      <td>Yes</td>\n      <td>OA</td>\n      <td>NaN</td>\n      <td>[913057, 913059, 913060, 913061, 913062, 91306...</td>\n      <td>913059</td>\n      <td>1749.0</td>\n      <td>1790.0</td>\n      <td>Linné,_Carl_von_-_Amoenitates_academicae__Vol_...</td>\n      <td>1751.0</td>\n    </tr>\n    <tr>\n      <th>25</th>\n      <td>Linné, Carl von</td>\n      <td>Amoenitates academicae seu dissertationes vari...</td>\n      <td>NaN</td>\n      <td>1749–1790</td>\n      <td>Leiden, Stockholm, Erlangen</td>\n      <td>Haak, Kiesewetter, Palm</td>\n      <td>18th century</td>\n      <td>Dissertation</td>\n      <td>Biology, Medicine</td>\n      <td>Amoenitates academicae, 10 vols.(e-rara.ch)Alt...</td>\n      <td>...</td>\n      <td>MK</td>\n      <td>Yes</td>\n      <td>OA</td>\n      <td>NaN</td>\n      <td>[913057, 913059, 913060, 913061, 913062, 91306...</td>\n      <td>913060</td>\n      <td>1749.0</td>\n      <td>1790.0</td>\n      <td>Linné,_Carl_von_-_Amoenitates_academicae__Vol_...</td>\n      <td>1756.0</td>\n    </tr>\n    <tr>\n      <th>26</th>\n      <td>Linné, Carl von</td>\n      <td>Amoenitates academicae seu dissertationes vari...</td>\n      <td>NaN</td>\n      <td>1749–1790</td>\n      <td>Leiden, Stockholm, Erlangen</td>\n      <td>Haak, Kiesewetter, Palm</td>\n      <td>18th century</td>\n      <td>Dissertation</td>\n      <td>Biology, Medicine</td>\n      <td>Amoenitates academicae, 10 vols.(e-rara.ch)Alt...</td>\n      <td>...</td>\n      <td>MK</td>\n      <td>Yes</td>\n      <td>OA</td>\n      <td>NaN</td>\n      <td>[913057, 913059, 913060, 913061, 913062, 91306...</td>\n      <td>913061</td>\n      <td>1749.0</td>\n      <td>1790.0</td>\n      <td>Linné,_Carl_von_-_Amoenitates_academicae__Vol_...</td>\n      <td>1759.0</td>\n    </tr>\n    <tr>\n      <th>27</th>\n      <td>Linné, Carl von</td>\n      <td>Amoenitates academicae seu dissertationes vari...</td>\n      <td>NaN</td>\n      <td>1749–1790</td>\n      <td>Leiden, Stockholm, Erlangen</td>\n      <td>Haak, Kiesewetter, Palm</td>\n      <td>18th century</td>\n      <td>Dissertation</td>\n      <td>Biology, Medicine</td>\n      <td>Amoenitates academicae, 10 vols.(e-rara.ch)Alt...</td>\n      <td>...</td>\n      <td>MK</td>\n      <td>Yes</td>\n      <td>OA</td>\n      <td>NaN</td>\n      <td>[913057, 913059, 913060, 913061, 913062, 91306...</td>\n      <td>913062</td>\n      <td>1749.0</td>\n      <td>1790.0</td>\n      <td>Linné,_Carl_von_-_Amoenitates_academicae__Vol_...</td>\n      <td>1760.0</td>\n    </tr>\n    <tr>\n      <th>28</th>\n      <td>Linné, Carl von</td>\n      <td>Amoenitates academicae seu dissertationes vari...</td>\n      <td>NaN</td>\n      <td>1749–1790</td>\n      <td>Leiden, Stockholm, Erlangen</td>\n      <td>Haak, Kiesewetter, Palm</td>\n      <td>18th century</td>\n      <td>Dissertation</td>\n      <td>Biology, Medicine</td>\n      <td>Amoenitates academicae, 10 vols.(e-rara.ch)Alt...</td>\n      <td>...</td>\n      <td>MK</td>\n      <td>Yes</td>\n      <td>OA</td>\n      <td>NaN</td>\n      <td>[913057, 913059, 913060, 913061, 913062, 91306...</td>\n      <td>913063</td>\n      <td>1749.0</td>\n      <td>1790.0</td>\n      <td>Linné,_Carl_von_-_Amoenitates_academicae__Vol_...</td>\n      <td>1763.0</td>\n    </tr>\n    <tr>\n      <th>29</th>\n      <td>Linné, Carl von</td>\n      <td>Amoenitates academicae seu dissertationes vari...</td>\n      <td>NaN</td>\n      <td>1749–1790</td>\n      <td>Leiden, Stockholm, Erlangen</td>\n      <td>Haak, Kiesewetter, Palm</td>\n      <td>18th century</td>\n      <td>Dissertation</td>\n      <td>Biology, Medicine</td>\n      <td>Amoenitates academicae, 10 vols.(e-rara.ch)Alt...</td>\n      <td>...</td>\n      <td>MK</td>\n      <td>Yes</td>\n      <td>OA</td>\n      <td>NaN</td>\n      <td>[913057, 913059, 913060, 913061, 913062, 91306...</td>\n      <td>913064</td>\n      <td>1749.0</td>\n      <td>1790.0</td>\n      <td>Linné,_Carl_von_-_Amoenitates_academicae__Vol_...</td>\n      <td>1769.0</td>\n    </tr>\n    <tr>\n      <th>30</th>\n      <td>Linné, Carl von</td>\n      <td>Amoenitates academicae seu dissertationes vari...</td>\n      <td>NaN</td>\n      <td>1749–1790</td>\n      <td>Leiden, Stockholm, Erlangen</td>\n      <td>Haak, Kiesewetter, Palm</td>\n      <td>18th century</td>\n      <td>Dissertation</td>\n      <td>Biology, Medicine</td>\n      <td>Amoenitates academicae, 10 vols.(e-rara.ch)Alt...</td>\n      <td>...</td>\n      <td>MK</td>\n      <td>Yes</td>\n      <td>OA</td>\n      <td>NaN</td>\n      <td>[913057, 913059, 913060, 913061, 913062, 91306...</td>\n      <td>913065</td>\n      <td>1749.0</td>\n      <td>1790.0</td>\n      <td>Linné,_Carl_von_-_Amoenitates_academicae__Vol_...</td>\n      <td>1785.0</td>\n    </tr>\n    <tr>\n      <th>31</th>\n      <td>Linné, Carl von</td>\n      <td>Amoenitates academicae seu dissertationes vari...</td>\n      <td>NaN</td>\n      <td>1749–1790</td>\n      <td>Leiden, Stockholm, Erlangen</td>\n      <td>Haak, Kiesewetter, Palm</td>\n      <td>18th century</td>\n      <td>Dissertation</td>\n      <td>Biology, Medicine</td>\n      <td>Amoenitates academicae, 10 vols.(e-rara.ch)Alt...</td>\n      <td>...</td>\n      <td>MK</td>\n      <td>Yes</td>\n      <td>OA</td>\n      <td>NaN</td>\n      <td>[913057, 913059, 913060, 913061, 913062, 91306...</td>\n      <td>913066</td>\n      <td>1749.0</td>\n      <td>1790.0</td>\n      <td>Linné,_Carl_von_-_Amoenitates_academicae__Vol_...</td>\n      <td>1785.0</td>\n    </tr>\n    <tr>\n      <th>32</th>\n      <td>Linné, Carl von</td>\n      <td>Amoenitates academicae seu dissertationes vari...</td>\n      <td>NaN</td>\n      <td>1749–1790</td>\n      <td>Leiden, Stockholm, Erlangen</td>\n      <td>Haak, Kiesewetter, Palm</td>\n      <td>18th century</td>\n      <td>Dissertation</td>\n      <td>Biology, Medicine</td>\n      <td>Amoenitates academicae, 10 vols.(e-rara.ch)Alt...</td>\n      <td>...</td>\n      <td>MK</td>\n      <td>Yes</td>\n      <td>OA</td>\n      <td>NaN</td>\n      <td>[913057, 913059, 913060, 913061, 913062, 91306...</td>\n      <td>913058</td>\n      <td>1749.0</td>\n      <td>1790.0</td>\n      <td>Linné,_Carl_von_-_Amoenitates_academicae__Vol_...</td>\n      <td>1790.0</td>\n    </tr>\n    <tr>\n      <th>33</th>\n      <td>Kaempfer, Engelbert</td>\n      <td>Amoenitatum exoticarum politico-physico-medica...</td>\n      <td>NaN</td>\n      <td>1712</td>\n      <td>Lemgo</td>\n      <td>Meyer</td>\n      <td>18th century</td>\n      <td>Report</td>\n      <td>Geography/Cartography, Meteorology/Earth scien...</td>\n      <td>Amoenitates exoticae(e-rara.ch)</td>\n      <td>...</td>\n      <td>NaN</td>\n      <td>Yes</td>\n      <td>NaN</td>\n      <td>NaN</td>\n      <td>[807407]</td>\n      <td>807407</td>\n      <td>1712.0</td>\n      <td>1712.0</td>\n      <td>Kaempfer,_Engelbert_-_Amoenitates_exoticae__Le...</td>\n      <td>1712.0</td>\n    </tr>\n    <tr>\n      <th>34</th>\n      <td>Hirsch, Siegfried</td>\n      <td>Amussis Ferdinandea ad problemata universae ma...</td>\n      <td>NaN</td>\n      <td>1654</td>\n      <td>Munich</td>\n      <td>Nicolai</td>\n      <td>17th century</td>\n      <td>Monograph, Other (see description)</td>\n      <td>Mathematics</td>\n      <td>Amussis Ferdinandea(e-rara.ch)Alternative link...</td>\n      <td>...</td>\n      <td>MK, FB</td>\n      <td>Yes</td>\n      <td>MK, FB</td>\n      <td>NaN</td>\n      <td>[862096]</td>\n      <td>862096</td>\n      <td>1654.0</td>\n      <td>1654.0</td>\n      <td>Hirsch,_Siegfried_-_Amussis_Ferdinandea__Munic...</td>\n      <td>1654.0</td>\n    </tr>\n    <tr>\n      <th>35</th>\n      <td>Anonymus 3</td>\n      <td>An aer sit soni vehiculum? Affirmatur.</td>\n      <td>Carmina quadragesimalia ab Aedis Christi Oxone...</td>\n      <td>1723</td>\n      <td>Oxford</td>\n      <td>William Jackson</td>\n      <td>18th century</td>\n      <td>Didactic poem, Other (see description)</td>\n      <td>Physics</td>\n      <td>An aer sit soni vehiculum(3rd edition, London ...</td>\n      <td>...</td>\n      <td>WB</td>\n      <td>Yes</td>\n      <td>WB</td>\n      <td>NaN</td>\n      <td>[691442]</td>\n      <td>691442</td>\n      <td>1723.0</td>\n      <td>1723.0</td>\n      <td>Anonymi_-_Carmina_quadragesimalia__Oxford_1723...</td>\n      <td>1723.0</td>\n    </tr>\n    <tr>\n      <th>36</th>\n      <td>Rothmaler, Erasmus</td>\n      <td>An terra moveatur?</td>\n      <td>Erasmi Rothmaleri Francohusa-Swarzburgici poet...</td>\n      <td>1651</td>\n      <td>Gdańsk</td>\n      <td>Rhete</td>\n      <td>17th century</td>\n      <td>Other (see description)</td>\n      <td>Astronomy/Astrology/Cosmography</td>\n      <td>An terra moveatur?(SLUB Dresden)</td>\n      <td>...</td>\n      <td>IT</td>\n      <td>Yes</td>\n      <td>IT</td>\n      <td>NaN</td>\n      <td>[801743]</td>\n      <td>801743</td>\n      <td>1651.0</td>\n      <td>1651.0</td>\n      <td>Rothmaler,_Erasmus_-_Deliciae_poeticae__Gdańsk...</td>\n      <td>1651.0</td>\n    </tr>\n    <tr>\n      <th>37</th>\n      <td>Blasius, Gerardus Leonardus</td>\n      <td>Anatome medullae spinalis et nervorum inde pro...</td>\n      <td>NaN</td>\n      <td>1666</td>\n      <td>Amsterdam</td>\n      <td>Commelin, Caspar</td>\n      <td>17th century</td>\n      <td>Monograph</td>\n      <td>Medicine</td>\n      <td>Anatome medullae spinalis et nervorum inde pro...</td>\n      <td>...</td>\n      <td>NaN</td>\n      <td>Yes</td>\n      <td>DB</td>\n      <td>NaN</td>\n      <td>[696410]</td>\n      <td>696410</td>\n      <td>1666.0</td>\n      <td>1666.0</td>\n      <td>Blasius,_Gerardus_Leonardus_-_Anatome_medullae...</td>\n      <td>1666.0</td>\n    </tr>\n    <tr>\n      <th>38</th>\n      <td>Malpighi, Marcello</td>\n      <td>Anatome plantarum. Cui subiungitur appendix it...</td>\n      <td>NaN</td>\n      <td>1675–1679</td>\n      <td>London</td>\n      <td>Martyn</td>\n      <td>17th century</td>\n      <td>Monograph</td>\n      <td>Biology</td>\n      <td>Anatome plantarum part I with appendix(Google ...</td>\n      <td>...</td>\n      <td>DB</td>\n      <td>Yes</td>\n      <td>DB</td>\n      <td>NaN</td>\n      <td>[598518]</td>\n      <td>598518</td>\n      <td>1675.0</td>\n      <td>1679.0</td>\n      <td>Malpighi,_Marcello_-_Anatome_plantarum__London...</td>\n      <td>1675.0</td>\n    </tr>\n    <tr>\n      <th>39</th>\n      <td>Gramm, Caeso,Brücken, Christoph Heinrich</td>\n      <td>Anatomia nivis, quam supremo omnium nivium aut...</td>\n      <td>NaN</td>\n      <td>1666</td>\n      <td>Kiel</td>\n      <td>Reumann</td>\n      <td>17th century</td>\n      <td>Dissertation</td>\n      <td>Meteorology/Earth sciences</td>\n      <td>Anatomia nivis(UB Kiel digital)</td>\n      <td>...</td>\n      <td>UK</td>\n      <td>Yes</td>\n      <td>UK</td>\n      <td>NaN</td>\n      <td>[689823]</td>\n      <td>689823</td>\n      <td>1666.0</td>\n      <td>1666.0</td>\n      <td>Gramm,_Caeso_&amp;_Brücken,_Christoph_Heinrich_-_A...</td>\n      <td>1666.0</td>\n    </tr>\n  </tbody>\n</table>\n<p>40 rows × 26 columns</p>\n</div>"
     },
     "execution_count": 28,
     "metadata": {},
     "output_type": "execute_result"
    }
   ],
   "source": [
    "metadata_table_long = pd.merge(metadata_table_long, ids_filenames_df[[\"id\", \"filename\", \"file_year\"]], on=\"id\")\n",
    "metadata_table_long.head(40)"
   ],
   "metadata": {
    "collapsed": false,
    "ExecuteTime": {
     "end_time": "2023-11-21T09:10:36.831213Z",
     "start_time": "2023-11-21T09:10:36.808902Z"
    }
   },
   "id": "19d7efb1077b5844"
  },
  {
   "cell_type": "code",
   "execution_count": 28,
   "outputs": [],
   "source": [],
   "metadata": {
    "collapsed": false,
    "ExecuteTime": {
     "end_time": "2023-11-21T09:10:37.123223Z",
     "start_time": "2023-11-21T09:10:37.109904Z"
    }
   },
   "id": "9848f8c40fdd2b39"
  },
  {
   "cell_type": "code",
   "execution_count": 29,
   "outputs": [
    {
     "data": {
      "text/plain": "1054"
     },
     "execution_count": 29,
     "metadata": {},
     "output_type": "execute_result"
    }
   ],
   "source": [
    "len(metadata_table_long)"
   ],
   "metadata": {
    "collapsed": false,
    "ExecuteTime": {
     "end_time": "2023-11-21T09:10:37.670667Z",
     "start_time": "2023-11-21T09:10:37.657635Z"
    }
   },
   "id": "50b15408d6d833bf"
  },
  {
   "cell_type": "code",
   "execution_count": 30,
   "outputs": [
    {
     "data": {
      "text/plain": "710"
     },
     "execution_count": 30,
     "metadata": {},
     "output_type": "execute_result"
    }
   ],
   "source": [
    "metadata_table_long[\"file_year\"].between(1517, 1716).sum()"
   ],
   "metadata": {
    "collapsed": false,
    "ExecuteTime": {
     "end_time": "2023-11-21T09:10:38.332407Z",
     "start_time": "2023-11-21T09:10:38.326875Z"
    }
   },
   "id": "1cf998b5a83dbad1"
  },
  {
   "cell_type": "code",
   "execution_count": 31,
   "outputs": [
    {
     "data": {
      "text/plain": "(1460.0, 1930.0)"
     },
     "execution_count": 31,
     "metadata": {},
     "output_type": "execute_result"
    },
    {
     "data": {
      "text/plain": "<Figure size 1620x900 with 1 Axes>",
      "image/png": "[encoded data removed]"
     },
     "metadata": {},
     "output_type": "display_data"
    }
   ],
   "source": [
    "fig, ax = plt.subplots(figsize=(5.4, 3), dpi=300)\n",
    "ax.axvspan(1517, 1716, color=\"lightgreen\")\n",
    "metadata_table_long[\"file_year\"].plot.hist(bins=range(1470,1930,10), ec=\"black\", color=\"white\", alpha=0.8, ax=ax)\n",
    "ax.set_xticks(range(1460,1960,20))\n",
    "ax.set_xticklabels([str(n) for n in range(1460,1960,20)], rotation=90)\n",
    "ax.set_ylabel(\"N works\")\n",
    "ax.set_xlim(1460, 1930)\n"
   ],
   "metadata": {
    "collapsed": false,
    "ExecuteTime": {
     "end_time": "2023-11-21T09:10:39.161162Z",
     "start_time": "2023-11-21T09:10:38.952137Z"
    }
   },
   "id": "e42c2071868dab54"
  },
  {
   "cell_type": "code",
   "execution_count": null,
   "outputs": [],
   "source": [
    "fig.savefig(\"../figures/noscemus_works_tempdist.png\")"
   ],
   "metadata": {
    "collapsed": false
   },
   "id": "250361d562bdce84"
  },
  {
   "cell_type": "code",
   "execution_count": 32,
   "outputs": [],
   "source": [
    "metadata_table_long.to_csv(\"../data/metadata_table_long.csv\", index=False)"
   ],
   "metadata": {
    "collapsed": false,
    "ExecuteTime": {
     "end_time": "2023-11-21T09:12:03.182397Z",
     "start_time": "2023-11-21T09:12:03.115561Z"
    }
   },
   "id": "19c0cd539217edf5"
  },
  {
   "cell_type": "code",
   "execution_count": 33,
   "outputs": [],
   "source": [
    "metadata_table_long.sort_values(\"Author\", inplace=True)"
   ],
   "metadata": {
    "collapsed": false,
    "ExecuteTime": {
     "end_time": "2023-11-21T09:12:03.807965Z",
     "start_time": "2023-11-21T09:12:03.793719Z"
    }
   },
   "id": "b039b50f8944561"
  },
  {
   "cell_type": "code",
   "execution_count": 206,
   "outputs": [],
   "source": [
    "set_with_dataframe(noscemus_gs.add_worksheet(\"metadata_table_long_v2\", 1,1), metadata_table_long)"
   ],
   "metadata": {
    "collapsed": false,
    "ExecuteTime": {
     "end_time": "2023-11-14T11:21:43.418546Z",
     "start_time": "2023-11-14T11:21:39.368215Z"
    }
   },
   "id": "b3b42026f71315c1"
  },
  {
   "cell_type": "markdown",
   "source": [
    "# Load & Explore Spacy Docs"
   ],
   "metadata": {
    "collapsed": false
   },
   "id": "1279f7b9c397edef"
  },
  {
   "cell_type": "code",
   "execution_count": 53,
   "outputs": [
    {
     "name": "stdout",
     "output_type": "stream",
     "text": [
      "connection with shared folder established with you as its ordinary user\n",
      "endpoint variable has been configured to: https://sciencedata.dk/sharingout/kase%40zcu.cz/TOME/DATA/NOSCEMUS/\n"
     ]
    }
   ],
   "source": [
    "s = sddk.cloudSession(provider=\"sciencedata.dk\", shared_folder_name=\"TOME/DATA/NOSCEMUS\", owner=\"kase@zcu.cz\")"
   ],
   "metadata": {
    "collapsed": false,
    "ExecuteTime": {
     "end_time": "2023-11-24T20:28:57.403968Z",
     "start_time": "2023-11-24T20:28:47.650154Z"
    }
   },
   "id": "79df7273ed476626"
  },
  {
   "cell_type": "code",
   "execution_count": 35,
   "outputs": [
    {
     "data": {
      "text/plain": "['1031760.json',\n '1085290.json',\n '1285853.json',\n '1285854.json',\n '1285855.json',\n '1285856.json',\n '1365811.json',\n '1370560.json',\n '1378359.json',\n '1424044.json']"
     },
     "execution_count": 35,
     "metadata": {},
     "output_type": "execute_result"
    }
   ],
   "source": [
    "target_folder_name = \"noscemus_spacyjsons_v1\"\n",
    "jsonfiles_list = s.list_filenames(target_folder_name, \"json\")\n",
    "jsonfiles_list[:10]"
   ],
   "metadata": {
    "collapsed": false,
    "ExecuteTime": {
     "end_time": "2023-11-21T09:13:56.449190Z",
     "start_time": "2023-11-21T09:13:55.526139Z"
    }
   },
   "id": "34bc5c5fe82e46e5"
  },
  {
   "cell_type": "code",
   "execution_count": 36,
   "outputs": [
    {
     "data": {
      "text/plain": "1007"
     },
     "execution_count": 36,
     "metadata": {},
     "output_type": "execute_result"
    }
   ],
   "source": [
    "len(jsonfiles_list)"
   ],
   "metadata": {
    "collapsed": false,
    "ExecuteTime": {
     "end_time": "2023-11-21T09:13:56.510799Z",
     "start_time": "2023-11-21T09:13:56.475237Z"
    }
   },
   "id": "5c3fbb9bf94efdad"
  },
  {
   "cell_type": "code",
   "execution_count": 37,
   "outputs": [
    {
     "data": {
      "text/plain": "Form/Genre\nMonograph                                        92\nDissertation                                     71\nEncyclopedic work                                51\nBibliography                                     48\nDidactic poem                                    45\n                                                 ..\nLetter, Other (see description), Historia         1\nLetter, Other (see description), Dissertation     1\nLetter, Didactic poem                             1\nLetter, Dialogue, Other (see description)         1\nTranslation, Review                               1\nLength: 192, dtype: int64"
     },
     "execution_count": 37,
     "metadata": {},
     "output_type": "execute_result"
    }
   ],
   "source": [
    "metadata_table_long.groupby(\"Form/Genre\").size().sort_values(ascending=False)"
   ],
   "metadata": {
    "collapsed": false,
    "ExecuteTime": {
     "end_time": "2023-11-21T09:13:57.033614Z",
     "start_time": "2023-11-21T09:13:57.024898Z"
    }
   },
   "id": "c6818bc37d858f8"
  },
  {
   "cell_type": "code",
   "execution_count": 38,
   "outputs": [],
   "source": [
    "def filename_to_doc(filename, dir=target_folder_name):\n",
    "    doc_json = s.read_file(dir + \"/\" + filename, \"dict\")\n",
    "    doc = Doc(nlp.vocab).from_json(doc_json)\n",
    "    return doc"
   ],
   "metadata": {
    "collapsed": false,
    "ExecuteTime": {
     "end_time": "2023-11-21T09:13:57.543091Z",
     "start_time": "2023-11-21T09:13:57.531930Z"
    }
   },
   "id": "7d383461acae5343"
  },
  {
   "cell_type": "code",
   "execution_count": 39,
   "outputs": [],
   "source": [
    "doc = filename_to_doc(jsonfiles_list[1])"
   ],
   "metadata": {
    "collapsed": false,
    "ExecuteTime": {
     "end_time": "2023-11-21T09:15:33.570267Z",
     "start_time": "2023-11-21T09:13:57.950227Z"
    }
   },
   "id": "2ff62112adc2da6"
  },
  {
   "cell_type": "code",
   "execution_count": 40,
   "outputs": [],
   "source": [
    "doc_data = {}\n",
    "doc_data[\"characters_n\"] = len(doc.text)\n",
    "doc_data[\"tokens_n\"] = len([t for t in doc])"
   ],
   "metadata": {
    "collapsed": false,
    "ExecuteTime": {
     "end_time": "2023-11-21T09:15:34.014395Z",
     "start_time": "2023-11-21T09:15:33.924428Z"
    }
   },
   "id": "f5be661e4f455ffc"
  },
  {
   "cell_type": "code",
   "execution_count": 41,
   "outputs": [
    {
     "data": {
      "text/plain": "{'characters_n': 2930782, 'tokens_n': 572944}"
     },
     "execution_count": 41,
     "metadata": {},
     "output_type": "execute_result"
    }
   ],
   "source": [
    "doc_data"
   ],
   "metadata": {
    "collapsed": false,
    "ExecuteTime": {
     "end_time": "2023-11-21T09:15:34.017625Z",
     "start_time": "2023-11-21T09:15:34.015235Z"
    }
   },
   "id": "39a051718c046b59"
  },
  {
   "cell_type": "code",
   "execution_count": 42,
   "outputs": [
    {
     "name": "stdout",
     "output_type": "stream",
     "text": [
      "Georg Abraham\n",
      "Lindenius\n",
      "Renovatus\n",
      "Medicis Lindenius\n",
      "Renqvatus\n",
      "Johannis\n",
      "Antonidae\n",
      "Linden\n",
      "Catalogum\n",
      "Authores\n",
      "Cynosuram\n",
      "Rerum\n",
      "Thematum\n",
      "Vitae\n",
      "Adscita\n",
      "Medicis\n",
      "Anne\n",
      "Lxii\n",
      "Continuati\n",
      "Norimberg\n"
     ]
    }
   ],
   "source": [
    "for ent in doc.ents[:20]:\n",
    "    print(ent.text)"
   ],
   "metadata": {
    "collapsed": false,
    "ExecuteTime": {
     "end_time": "2023-11-21T09:15:34.072469Z",
     "start_time": "2023-11-21T09:15:34.070196Z"
    }
   },
   "id": "ac6ca2bca41da4f7"
  },
  {
   "cell_type": "code",
   "execution_count": 43,
   "outputs": [],
   "source": [
    "all_lemmata = []\n",
    "for token in doc:\n",
    "    all_lemmata.append((token.text, token.lemma_, token.pos_))"
   ],
   "metadata": {
    "collapsed": false,
    "ExecuteTime": {
     "end_time": "2023-11-21T09:15:34.314641Z",
     "start_time": "2023-11-21T09:15:34.145460Z"
    }
   },
   "id": "4564df2935c1ef04"
  },
  {
   "cell_type": "code",
   "execution_count": 44,
   "outputs": [
    {
     "data": {
      "text/plain": "[('Ord.', 'Oard.s', 'VERB'),\n ('&', '&', 'PUNCT'),\n ('Academic', 'academic', 'VERB'),\n ('.', '.', 'PUNCT'),\n ('Curios', 'Curii', 'NOUN'),\n ('.', '.', 'PUNCT'),\n ('dict', 'dict', 'VERB'),\n ('.', '.', 'PUNCT'),\n ('Chiron', 'Chiron', 'PROPN'),\n ('.', '.', 'PUNCT'),\n ('Cum', 'cum', 'SCONJ'),\n ('Gratia', 'Gratia', 'NOUN'),\n ('&', '&', 'PUNCT'),\n ('Privilegio', 'Privilegium', 'NOUN'),\n ('S.', 'S.', ''),\n ('C.', 'C.arcus', 'PROPN'),\n ('Majest', 'Majest', 'PROPN'),\n ('.', '.', 'PUNCT'),\n ('Ooabvv', 'Ooabvv', 'NUM'),\n ('-', '-', 'PUNCT'),\n ('ii', 'is', 'NUM'),\n ('Norimbergae', 'Norimbergaa', 'PROPN'),\n (',', ',', 'PUNCT'),\n ('Impensis', 'impensis', 'NOUN'),\n ('Johannis', 'Johann', 'PROPN'),\n ('Georgii', 'Georgius', 'PROPN'),\n ('Endteri', 'Endteri', 'PROPN'),\n ('.', '.', 'PUNCT'),\n ('Anno', 'Annus', 'NOUN'),\n ('Christi', 'Christus', 'PROPN'),\n ('M.', 'M.', 'PROPN'),\n ('Dc', 'Dc', 'ADV'),\n ('.', '.', 'PUNCT'),\n ('Lxxxvi', 'Lxxxvi', 'PROPN'),\n ('.', '.', 'PUNCT'),\n ('Reverendissimo', 'Reverendissimus', 'ADJ'),\n ('Serenissimo', 'Serenissimus', 'ADJ'),\n ('Principi', 'Principi', 'NOUN'),\n ('Ac', 'atque', 'CCONJ'),\n ('Domino', 'dominus', 'NOUN'),\n (',', ',', 'PUNCT'),\n ('Domino', 'dominus', 'NOUN'),\n ('Ic', 'Ic', 'PROPN'),\n ('Ud', 'Ud', 'ADV'),\n ('Fonio', 'Fonius', 'PROPN'),\n ('Al', 'Al', 'NOUN'),\n ('Generali', 'General', 'ADJ'),\n ('Militiae', 'Militia', 'NOUN'),\n ('Hierosolymitanae', 'Hierosolymitanus', 'ADJ'),\n ('Ordinis', 'Ordo', 'NOUN'),\n ('B.', 'B.', 'NOUN'),\n ('Mariae', 'Maria', 'PROPN'),\n ('Teutonicorum', 'Teutonicus', 'ADJ'),\n (',', ',', 'PUNCT'),\n ('Prussiae', 'Prussia', 'PROPN'),\n ('Administratori', 'Administratori', 'PROPN'),\n (',', ',', 'PUNCT'),\n ('Ac', 'atque', 'CCONJ'),\n ('Ejusdem', 'Ejusdem', 'PROPN'),\n ('Per', 'Per', 'ADP'),\n ('Germaniam', 'Germania', 'PROPN'),\n (',', ',', 'PUNCT'),\n ('Italiam', 'Italia', 'PROPN'),\n (',', ',', 'PUNCT'),\n ('Partes', 'Partes', 'NOUN'),\n ('que', 'que', 'CCONJ'),\n ('Transmarinas', 'Transmarinas', 'PROPN'),\n ('Supremo', 'Supremo', 'ADJ'),\n ('Magistro', 'Magister', 'NOUN'),\n (',', ',', 'PUNCT'),\n ('Comiti', 'Comiti', 'PROPN'),\n ('Palatino', 'Palatinus', 'PROPN'),\n ('Rheni', 'Rhenus', 'PROPN'),\n (',', ',', 'PUNCT'),\n ('Bavariae', 'Bavariae', 'PROPN'),\n (';', ';', 'PUNCT'),\n ('Juliae', 'Julia', 'PROPN'),\n (',', ',', 'PUNCT'),\n ('Cliviae', 'Clivia', 'PROPN'),\n (',', ',', 'PUNCT'),\n ('Et', 'et', 'CCONJ'),\n ('Montium', 'Montium', 'NOUN'),\n ('Duci', 'Duci', 'NOUN'),\n (',', ',', 'PUNCT'),\n ('Comiti', 'Comiti', 'PROPN'),\n ('Veldentiae', 'Veldentiaa', 'NOUN'),\n (',', ',', 'PUNCT'),\n ('Sponhemii', 'Sponhemii', 'PROPN'),\n (',', ',', 'PUNCT'),\n ('Marchiae', 'Marchia', 'PROPN'),\n (',', ',', 'PUNCT'),\n ('Ravenspergae', 'Ravenspergae', 'PROPN'),\n (',', ',', 'PUNCT'),\n ('Et', 'et', 'CCONJ'),\n ('Morsae', 'morsae', 'NOUN'),\n (',', ',', 'PUNCT'),\n ('Dynastae', 'dynastae', 'PROPN'),\n ('In', 'in', 'ADP'),\n ('Ravenstein', 'Ravenstein', 'PROPN'),\n (',', ',', 'PUNCT'),\n ('Freudenthal', 'Freudenthal', 'PROPN'),\n (',', ',', 'PUNCT'),\n ('Et', 'et', 'CCONJ'),\n ('Eulenberg', 'Eulenbergs', 'PROPN'),\n ('&', '&', 'PUNCT'),\n ('c.', 'c.', 'ADV'),\n ('&', '&', 'PUNCT'),\n ('c.', 'c.', 'ADV'),\n ('Principi', 'Principi', 'NOUN'),\n ('Et', 'et', 'CCONJ'),\n ('Domino', 'dominus', 'NOUN'),\n ('Meo', 'Meus', 'ADJ'),\n ('Clementissimo', 'Clementissimo', 'PROPN'),\n ('Vitam', 'Vita', 'NOUN'),\n ('Et', 'et', 'CCONJ'),\n ('Felicitatem', 'Felicitatem', 'NOUN'),\n ('.', '.', 'PUNCT'),\n ('iu', 'iu', 'NUM'),\n ('.', '.', 'PUNCT'),\n ('Reverendissime', 'Reverendissime', 'ADV'),\n ('Ac', 'atque', 'CCONJ'),\n ('Serenissime', 'serenissime', 'ADV'),\n ('Rinceps', 'Rinceps', 'PROPN'),\n (',', ',', 'PUNCT'),\n ('Domine', 'dominus', 'NOUN'),\n (',', ',', 'PUNCT'),\n ('Domine', 'dominus', 'NOUN'),\n ('Clementissime', 'Clementissimus', 'PROPN'),\n ('!', '!', 'PUNCT'),\n ('On', 'on', 'PART'),\n ('nova', 'nouus', 'ADJ'),\n ('est', 'sum', 'AUX'),\n (',', ',', 'PUNCT'),\n ('sed', 'sed', 'CCONJ'),\n ('ab', 'ab', 'ADP'),\n ('antiquissimis', 'antiquus', 'ADJ'),\n ('temporibus', 'tempus', 'NOUN'),\n ('eundo', 'eundo', 'VERB'),\n ('ad', 'ad', 'ADP'),\n ('nos', 'nos', 'PRON'),\n ('quasi', 'quasi', 'ADV'),\n ('per', 'per', 'ADP'),\n ('traducem', 'tradux', 'NOUN'),\n ('illa', 'ille', 'DET'),\n ('serpit', 'serpo', 'VERB'),\n ('consuetudo', 'consuetudo', 'NOUN'),\n (',', ',', 'PUNCT'),\n ('quâ', 'quâ', 'ADV'),\n ('Librorum', 'Libri', 'NOUN'),\n ('frontibus', 'frons', 'NOUN'),\n ('Magni', 'magnus', 'ADJ'),\n ('Patroni', 'Patrus', 'PROPN'),\n (',', ',', 'PUNCT'),\n ('velut', 'uelut', 'SCONJ'),\n ('Tutela3', 'Tutela3', 'NOUN'),\n ('ris', 'res', 'NOUN'),\n ('Numinis', 'Numen', 'PROPN'),\n ('nomen', 'nomen', 'NOUN'),\n ('praescribi', 'praescribi', 'VERB'),\n ('solet', 'soleo', 'VERB'),\n ('.', '.', 'PUNCT'),\n ('Hoc', 'hic', 'DET'),\n ('que', 'que', 'CCONJ'),\n ('tantum', 'tantum', 'ADV'),\n ('abest', 'absum', 'VERB'),\n (',', ',', 'PUNCT'),\n ('ut', 'ut', 'SCONJ'),\n ('Ipsi', 'ipse', 'DET'),\n ('etiam', 'etiam', 'ADV'),\n ('Imperatores', 'Imperatores', 'NOUN'),\n (',', ',', 'PUNCT'),\n ('Reges', 'Reges', 'NOUN'),\n (',', ',', 'PUNCT'),\n ('Electores', 'Electores', 'NOUN'),\n (',', ',', 'PUNCT'),\n ('Principes', 'Principes', 'PROPN'),\n (',', ',', 'PUNCT'),\n ('jam', 'jam', 'ADV'),\n ('olim', 'olim', 'ADV'),\n ('inclementer', 'inclementer', 'ADV'),\n ('tulerint', 'tulerint', 'VERB'),\n (',', ',', 'PUNCT'),\n ('ut', 'ut', 'SCONJ'),\n ('potiùs', 'potiùs', 'ADJ'),\n ('id', 'is', 'PRON'),\n ('ausos', 'ausos', 'VERB'),\n ('haud', 'haud', 'PART'),\n ('rarò', 'rarò', 'NOUN'),\n ('vultu', 'uultus', 'NOUN'),\n ('respexerint', 'respexerint', 'VERB'),\n ('serenissimo', 'serenus', 'ADJ'),\n ('.', '.', 'PUNCT'),\n ('!', '!', 'PUNCT'),\n ('Quo', 'qui', 'PRON'),\n ('quidem', 'quidem', 'ADV'),\n ('honore', 'honor', 'NOUN'),\n ('quanquam', 'quamquam', 'SCONJ'),\n ('me', 'ego', 'PRON'),\n ('dignum', 'dignus', 'ADJ'),\n ('aestimare', 'aestimo', 'VERB')]"
     },
     "execution_count": 44,
     "metadata": {},
     "output_type": "execute_result"
    }
   ],
   "source": [
    "all_lemmata[200:400]"
   ],
   "metadata": {
    "collapsed": false,
    "ExecuteTime": {
     "end_time": "2023-11-21T09:15:34.322418Z",
     "start_time": "2023-11-21T09:15:34.319445Z"
    }
   },
   "id": "58f49bdd697d7c2a"
  },
  {
   "cell_type": "code",
   "execution_count": 45,
   "outputs": [],
   "source": [
    "doc_lemmata = [\" \".join([t.lemma_.lower() for t in sent if not t.is_punct]) for sent in doc.sents]\n",
    "doc_postags = [\" \".join([t.pos_ for t in sent if not t.is_punct]) for sent in doc.sents]"
   ],
   "metadata": {
    "collapsed": false,
    "ExecuteTime": {
     "end_time": "2023-11-21T09:15:34.638396Z",
     "start_time": "2023-11-21T09:15:34.322081Z"
    }
   },
   "id": "d212da7dbbd7a334"
  },
  {
   "cell_type": "code",
   "execution_count": 46,
   "outputs": [],
   "source": [
    "all_sents_lemmata = []\n",
    "for sent in doc.sents:\n",
    "    sent_lemmata = []\n",
    "    for token in sent:\n",
    "        #if token.pos_ in [\"NOUN\", \"VERB\", \"ADJ\"]:\n",
    "        sent_lemmata.append((token.text, token.lemma_, token.tag_))\n",
    "    all_sents_lemmata.append(sent_lemmata)"
   ],
   "metadata": {
    "collapsed": false,
    "ExecuteTime": {
     "end_time": "2023-11-21T09:15:35.085930Z",
     "start_time": "2023-11-21T09:15:34.706729Z"
    }
   },
   "id": "3d71c0e485febae4"
  },
  {
   "cell_type": "code",
   "execution_count": 46,
   "outputs": [],
   "source": [],
   "metadata": {
    "collapsed": false,
    "ExecuteTime": {
     "end_time": "2023-11-21T09:15:35.087577Z",
     "start_time": "2023-11-21T09:15:35.086023Z"
    }
   },
   "id": "dfdfdb496a7a545"
  },
  {
   "cell_type": "code",
   "execution_count": 99,
   "outputs": [
    {
     "name": "stdout",
     "output_type": "stream",
     "text": [
      "mkdir: ../data/large_data/sents_lemmata: File exists\r\n",
      "mkdir: ../data/large_data/sents_pos: File exists\r\n"
     ]
    }
   ],
   "source": [
    "try:\n",
    "    !mkdir ../data/large_data/sents_lemmata\n",
    "    !mkdir ../data/large_data/sents_pos\n",
    "except:\n",
    "    pass"
   ],
   "metadata": {
    "collapsed": false,
    "ExecuteTime": {
     "end_time": "2023-11-21T08:26:18.578908Z",
     "start_time": "2023-11-21T08:26:18.314349Z"
    }
   },
   "id": "bb83db9767e6728b"
  },
  {
   "cell_type": "code",
   "execution_count": 47,
   "outputs": [
    {
     "data": {
      "text/plain": "'1031760.json'"
     },
     "execution_count": 47,
     "metadata": {},
     "output_type": "execute_result"
    }
   ],
   "source": [
    "jsonfiles_list[0]"
   ],
   "metadata": {
    "collapsed": false,
    "ExecuteTime": {
     "end_time": "2023-11-21T09:15:35.093945Z",
     "start_time": "2023-11-21T09:15:35.089594Z"
    }
   },
   "id": "1825edc6756367ae"
  },
  {
   "cell_type": "code",
   "execution_count": 48,
   "outputs": [],
   "source": [
    "fn = jsonfiles_list[0]\n",
    "doc = filename_to_doc(fn)"
   ],
   "metadata": {
    "collapsed": false,
    "ExecuteTime": {
     "end_time": "2023-11-21T09:15:37.599825Z",
     "start_time": "2023-11-21T09:15:35.092225Z"
    }
   },
   "id": "9339aae97e133c4d"
  },
  {
   "cell_type": "code",
   "execution_count": 49,
   "outputs": [
    {
     "name": "stdout",
     "output_type": "stream",
     "text": [
      "CPU times: user 69.3 ms, sys: 2.32 ms, total: 71.6 ms\n",
      "Wall time: 72.7 ms\n"
     ]
    }
   ],
   "source": [
    "%%time\n",
    "f_lemmata = open(\"../data/large_data/sents_lemmata/\" + fn.replace(\".json\", \".txt\"), \"w\", encoding=\"utf-8\")\n",
    "doc_lemmata = [\" \".join([t.lemma_.lower() for t in sent if not t.is_punct]) for sent in doc.sents]\n",
    "f_lemmata.writelines(\"\\n\".join(doc_lemmata))\n",
    "\n",
    "f_postags = open(\"../data/large_data/sents_pos/\" + fn.replace(\".json\", \".txt\"), \"w\", encoding=\"utf-8\")\n",
    "doc_postags = [\" \".join([t.pos_ for t in sent if not t.is_punct]) for sent in doc.sents]\n",
    "f_postags.writelines(\"\\n\".join(doc_postags))"
   ],
   "metadata": {
    "collapsed": false,
    "ExecuteTime": {
     "end_time": "2023-11-21T09:15:37.676298Z",
     "start_time": "2023-11-21T09:15:37.601129Z"
    }
   },
   "id": "f561d531c86c51de"
  },
  {
   "cell_type": "code",
   "execution_count": 50,
   "outputs": [],
   "source": [
    "files_ready = os.listdir(\"../data/large_data/sents_lemmata\")"
   ],
   "metadata": {
    "collapsed": false,
    "ExecuteTime": {
     "end_time": "2023-11-21T09:15:37.682684Z",
     "start_time": "2023-11-21T09:15:37.676440Z"
    }
   },
   "id": "c1b53d40665bd362"
  },
  {
   "cell_type": "code",
   "execution_count": 51,
   "outputs": [],
   "source": [
    "for fn in jsonfiles_list:\n",
    "    if fn.replace(\".json\", \".txt\") not in files_ready:\n",
    "        doc = filename_to_doc(fn)\n",
    "        f_lemmata = open(\"../data/large_data/sents_lemmata/\" + fn.replace(\".json\", \".txt\"), \"w\", encoding=\"utf-8\")\n",
    "        doc_lemmata = [\" \".join([t.lemma_.lower() for t in sent if not t.is_punct]) for sent in doc.sents]\n",
    "        f_lemmata.writelines(\"\\n\".join(doc_lemmata))\n",
    "        f_postags = open(\"../data/large_data/sents_pos/\" + fn.replace(\".json\", \".txt\"), \"w\", encoding=\"utf-8\")\n",
    "        doc_postags = [\" \".join([t.pos_ for t in sent if not t.is_punct]) for sent in doc.sents]\n",
    "        f_postags.writelines(\"\\n\".join(doc_postags))"
   ],
   "metadata": {
    "collapsed": false,
    "ExecuteTime": {
     "end_time": "2023-11-21T13:27:07.753960Z",
     "start_time": "2023-11-21T09:15:37.681931Z"
    }
   },
   "id": "ddf7eaafd0356bc9"
  },
  {
   "cell_type": "code",
   "execution_count": null,
   "outputs": [],
   "source": [],
   "metadata": {
    "collapsed": false
   },
   "id": "a55a2198dda079ef"
  },
  {
   "cell_type": "code",
   "execution_count": 56,
   "outputs": [
    {
     "data": {
      "text/plain": "'/Users/vojtechkase/Projects/noscemus_ETF/data/large_data/sents_pos.zip'"
     },
     "execution_count": 56,
     "metadata": {},
     "output_type": "execute_result"
    }
   ],
   "source": [
    "# make zip archives of the text files with lemmatazed sentences and pos tags\n",
    "shutil.make_archive(\"../data/large_data/sents_lemmata\", 'zip', \"../data/large_data/sents_lemmata\") #\n",
    "shutil.make_archive(\"../data/large_data/sents_pos\", 'zip', \"../data/large_data/sents_pos\") #"
   ],
   "metadata": {
    "collapsed": false,
    "ExecuteTime": {
     "end_time": "2023-11-24T20:34:07.076968Z",
     "start_time": "2023-11-24T20:33:17.621287Z"
    }
   },
   "id": "3dc6bcabe2ab2012"
  },
  {
   "cell_type": "code",
   "execution_count": 65,
   "outputs": [
    {
     "data": {
      "text/plain": "<Response [201]>"
     },
     "execution_count": 65,
     "metadata": {},
     "output_type": "execute_result"
    }
   ],
   "source": [
    "# upload the zip archived data to sciencedata.dk \n",
    "s.s.put(\"https://sciencedata.dk/sharingout/kase%40zcu.cz/TOME/DATA/NOSCEMUS/sents_lemmata.zip\", data=open(\"../data/large_data/sents_lemmata.zip\", \"rb\"))\n",
    "s.s.put(\"https://sciencedata.dk/sharingout/kase%40zcu.cz/TOME/DATA/NOSCEMUS/sents_pos.zip\", data=open(\"../data/large_data/sents_pos.zip\", \"rb\"))"
   ],
   "metadata": {
    "collapsed": false,
    "ExecuteTime": {
     "end_time": "2023-11-24T20:44:28.887317Z",
     "start_time": "2023-11-24T20:44:26.049923Z"
    }
   },
   "id": "ade47b57cd47e2ff"
  },
  {
   "cell_type": "code",
   "execution_count": null,
   "outputs": [],
   "source": [],
   "metadata": {
    "collapsed": false
   },
   "id": "63ae1e671dc6038b"
  },
  {
   "cell_type": "markdown",
   "source": [
    "# Preliminary explorations of Latin wordnet"
   ],
   "metadata": {
    "collapsed": false
   },
   "id": "32907c09aa3dc094"
  },
  {
   "cell_type": "code",
   "execution_count": 138,
   "outputs": [],
   "source": [
    "latinwn = pd.read_csv(\"https://raw.githubusercontent.com/CIRCSE/latinWordnet-revision/master/LiLa_LatinWordnet.csv\")"
   ],
   "metadata": {
    "collapsed": false,
    "ExecuteTime": {
     "end_time": "2023-11-07T08:39:57.944549Z",
     "start_time": "2023-11-07T08:39:56.993340Z"
    }
   },
   "id": "7d076900b344ec3f"
  },
  {
   "cell_type": "code",
   "execution_count": 139,
   "outputs": [
    {
     "data": {
      "text/plain": "      id     lemma   type                                lila_uri  \\\n0  90942     a, aa  LEMMA  http://lila-erc.eu/data/id/lemma/90942   \n1  86826   abactio  LEMMA  http://lila-erc.eu/data/id/lemma/86826   \n2  86828   abactor  LEMMA  http://lila-erc.eu/data/id/lemma/86828   \n3  91165   abactus  LEMMA  http://lila-erc.eu/data/id/lemma/91165   \n4  86833  abaculus  LEMMA  http://lila-erc.eu/data/id/lemma/86833   \n\n                                          id_synset  \\\n0  http://wordnet-rdf.princeton.edu/wn30/06831177-n   \n1  http://wordnet-rdf.princeton.edu/wn30/00391599-n   \n2  http://wordnet-rdf.princeton.edu/wn30/10544480-n   \n3  http://wordnet-rdf.princeton.edu/wn30/00780889-n   \n4  http://wordnet-rdf.princeton.edu/wn30/04435180-n   \n\n                                          definition  \n0               the 1st letter of the Roman alphabet  \n1                                the act of removing  \n2   someone who steals livestock (especially cattle)  \n3  the act of taking something from someone unlaw...  \n4  a flat thin rectangular slab (as of fired clay...  ",
      "text/html": "<div>\n<style scoped>\n    .dataframe tbody tr th:only-of-type {\n        vertical-align: middle;\n    }\n\n    .dataframe tbody tr th {\n        vertical-align: top;\n    }\n\n    .dataframe thead th {\n        text-align: right;\n    }\n</style>\n<table border=\"1\" class=\"dataframe\">\n  <thead>\n    <tr style=\"text-align: right;\">\n      <th></th>\n      <th>id</th>\n      <th>lemma</th>\n      <th>type</th>\n      <th>lila_uri</th>\n      <th>id_synset</th>\n      <th>definition</th>\n    </tr>\n  </thead>\n  <tbody>\n    <tr>\n      <th>0</th>\n      <td>90942</td>\n      <td>a, aa</td>\n      <td>LEMMA</td>\n      <td>http://lila-erc.eu/data/id/lemma/90942</td>\n      <td>http://wordnet-rdf.princeton.edu/wn30/06831177-n</td>\n      <td>the 1st letter of the Roman alphabet</td>\n    </tr>\n    <tr>\n      <th>1</th>\n      <td>86826</td>\n      <td>abactio</td>\n      <td>LEMMA</td>\n      <td>http://lila-erc.eu/data/id/lemma/86826</td>\n      <td>http://wordnet-rdf.princeton.edu/wn30/00391599-n</td>\n      <td>the act of removing</td>\n    </tr>\n    <tr>\n      <th>2</th>\n      <td>86828</td>\n      <td>abactor</td>\n      <td>LEMMA</td>\n      <td>http://lila-erc.eu/data/id/lemma/86828</td>\n      <td>http://wordnet-rdf.princeton.edu/wn30/10544480-n</td>\n      <td>someone who steals livestock (especially cattle)</td>\n    </tr>\n    <tr>\n      <th>3</th>\n      <td>91165</td>\n      <td>abactus</td>\n      <td>LEMMA</td>\n      <td>http://lila-erc.eu/data/id/lemma/91165</td>\n      <td>http://wordnet-rdf.princeton.edu/wn30/00780889-n</td>\n      <td>the act of taking something from someone unlaw...</td>\n    </tr>\n    <tr>\n      <th>4</th>\n      <td>86833</td>\n      <td>abaculus</td>\n      <td>LEMMA</td>\n      <td>http://lila-erc.eu/data/id/lemma/86833</td>\n      <td>http://wordnet-rdf.princeton.edu/wn30/04435180-n</td>\n      <td>a flat thin rectangular slab (as of fired clay...</td>\n    </tr>\n  </tbody>\n</table>\n</div>"
     },
     "execution_count": 139,
     "metadata": {},
     "output_type": "execute_result"
    }
   ],
   "source": [
    "latinwn.head(5)"
   ],
   "metadata": {
    "collapsed": false,
    "ExecuteTime": {
     "end_time": "2023-11-07T08:40:05.218647Z",
     "start_time": "2023-11-07T08:40:05.196010Z"
    }
   },
   "id": "643f085663cbb85d"
  },
  {
   "cell_type": "code",
   "execution_count": null,
   "outputs": [],
   "source": [],
   "metadata": {
    "collapsed": false
   },
   "id": "c815f36f365efc15"
  }
 ],
 "metadata": {
  "kernelspec": {
   "name": "brewkernel",
   "language": "python",
   "display_name": "brewkernel"
  },
  "language_info": {
   "codemirror_mode": {
    "name": "ipython",
    "version": 2
   },
   "file_extension": ".py",
   "mimetype": "text/x-python",
   "name": "python",
   "nbconvert_exporter": "python",
   "pygments_lexer": "ipython2",
   "version": "2.7.6"
  }
 },
 "nbformat": 4,
 "nbformat_minor": 5
}
