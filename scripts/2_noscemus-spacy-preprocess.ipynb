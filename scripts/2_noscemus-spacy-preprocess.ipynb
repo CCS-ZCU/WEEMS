{
 "cells": [
  {
   "cell_type": "markdown",
   "source": [
    "# Spacy"
   ],
   "metadata": {
    "collapsed": false
   },
   "id": "c4cc8098de77557c"
  },
  {
   "cell_type": "code",
   "execution_count": null,
   "outputs": [],
   "source": [
    "###  pip install https://huggingface.co/latincy/la_core_web_lg/resolve/main/la_core_web_lg-any-py3-none-any.whl"
   ],
   "metadata": {
    "collapsed": false
   },
   "id": "a6cb7f7fd20eab61"
  },
  {
   "cell_type": "code",
   "execution_count": 1,
   "outputs": [],
   "source": [
    "import spacy\n",
    "from spacy.tokens import Doc\n",
    "from spacy.language import Language\n",
    "import sddk\n",
    "import pandas as pd\n",
    "import re"
   ],
   "metadata": {
    "collapsed": false,
    "ExecuteTime": {
     "end_time": "2023-11-06T14:20:03.797157Z",
     "start_time": "2023-11-06T14:20:01.854617Z"
    }
   },
   "id": "e0ce4f34f4f582c3"
  },
  {
   "cell_type": "code",
   "execution_count": 2,
   "outputs": [
    {
     "data": {
      "text/plain": "True"
     },
     "execution_count": 2,
     "metadata": {},
     "output_type": "execute_result"
    }
   ],
   "source": [
    "spacy.prefer_gpu()"
   ],
   "metadata": {
    "collapsed": false,
    "ExecuteTime": {
     "end_time": "2023-11-06T14:20:03.803637Z",
     "start_time": "2023-11-06T14:20:03.799269Z"
    }
   },
   "id": "ec4218d8f7a4bf96"
  },
  {
   "cell_type": "code",
   "execution_count": 3,
   "outputs": [],
   "source": [
    "nlp = spacy.load('la_core_web_lg')"
   ],
   "metadata": {
    "collapsed": false,
    "ExecuteTime": {
     "end_time": "2023-11-06T14:20:04.420683Z",
     "start_time": "2023-11-06T14:20:03.802196Z"
    }
   },
   "id": "9c0a5b1532dba641"
  },
  {
   "cell_type": "code",
   "execution_count": 79,
   "outputs": [
    {
     "data": {
      "text/plain": "1000000"
     },
     "execution_count": 79,
     "metadata": {},
     "output_type": "execute_result"
    }
   ],
   "source": [
    "nlp.max_length"
   ],
   "metadata": {
    "collapsed": false,
    "ExecuteTime": {
     "end_time": "2023-11-07T13:49:39.016149Z",
     "start_time": "2023-11-07T13:49:38.974881Z"
    }
   },
   "id": "660e4b488203ea76"
  },
  {
   "cell_type": "code",
   "execution_count": 80,
   "outputs": [
    {
     "data": {
      "text/plain": "   Unnamed: 0       id                                     filenames_list\n0           0  1031760  ['Bacon,_Francis_-_Instauratio_magna__London_1...\n1           1  1085290  ['Linden,_Johannes_Antonides_van_der_-_Lindeni...\n2           2  1285853  ['de_Conde,_Ioannes_Baptista_-_Aphorismi_seu_a...\n3           3  1285854  ['van_Poort,_Henricus_-_Hippocratis_Aphorismi_...\n4           4  1285855  ['Hippocrates_&_Denisot,_Gérard_-_Hippocratis_...",
      "text/html": "<div>\n<style scoped>\n    .dataframe tbody tr th:only-of-type {\n        vertical-align: middle;\n    }\n\n    .dataframe tbody tr th {\n        vertical-align: top;\n    }\n\n    .dataframe thead th {\n        text-align: right;\n    }\n</style>\n<table border=\"1\" class=\"dataframe\">\n  <thead>\n    <tr style=\"text-align: right;\">\n      <th></th>\n      <th>Unnamed: 0</th>\n      <th>id</th>\n      <th>filenames_list</th>\n    </tr>\n  </thead>\n  <tbody>\n    <tr>\n      <th>0</th>\n      <td>0</td>\n      <td>1031760</td>\n      <td>['Bacon,_Francis_-_Instauratio_magna__London_1...</td>\n    </tr>\n    <tr>\n      <th>1</th>\n      <td>1</td>\n      <td>1085290</td>\n      <td>['Linden,_Johannes_Antonides_van_der_-_Lindeni...</td>\n    </tr>\n    <tr>\n      <th>2</th>\n      <td>2</td>\n      <td>1285853</td>\n      <td>['de_Conde,_Ioannes_Baptista_-_Aphorismi_seu_a...</td>\n    </tr>\n    <tr>\n      <th>3</th>\n      <td>3</td>\n      <td>1285854</td>\n      <td>['van_Poort,_Henricus_-_Hippocratis_Aphorismi_...</td>\n    </tr>\n    <tr>\n      <th>4</th>\n      <td>4</td>\n      <td>1285855</td>\n      <td>['Hippocrates_&amp;_Denisot,_Gérard_-_Hippocratis_...</td>\n    </tr>\n  </tbody>\n</table>\n</div>"
     },
     "execution_count": 80,
     "metadata": {},
     "output_type": "execute_result"
    }
   ],
   "source": [
    "ids_filenames_df = pd.read_csv(\"../data/ids_filenames_df.csv\")\n",
    "ids_filenames_df.head(5)"
   ],
   "metadata": {
    "collapsed": false,
    "ExecuteTime": {
     "end_time": "2023-11-07T13:50:32.594117Z",
     "start_time": "2023-11-07T13:50:32.549742Z"
    }
   },
   "id": "cf5610b8275e53a1"
  },
  {
   "cell_type": "code",
   "execution_count": 81,
   "outputs": [
    {
     "data": {
      "text/plain": "1    ['Linden,_Johannes_Antonides_van_der_-_Lindeni...\nName: filenames_list, dtype: object"
     },
     "execution_count": 81,
     "metadata": {},
     "output_type": "execute_result"
    }
   ],
   "source": [
    "ids_filenames_df[ids_filenames_df[\"id\"]==1085290][\"filenames_list\"]"
   ],
   "metadata": {
    "collapsed": false,
    "ExecuteTime": {
     "end_time": "2023-11-07T13:50:33.251297Z",
     "start_time": "2023-11-07T13:50:33.239846Z"
    }
   },
   "id": "2b4f7da26d9dc25d"
  },
  {
   "cell_type": "code",
   "execution_count": 82,
   "outputs": [
    {
     "data": {
      "text/plain": "         Unnamed: 0                                     filenames_list\nid                                                                    \n1031760           0  ['Bacon,_Francis_-_Instauratio_magna__London_1...\n1085290           1  ['Linden,_Johannes_Antonides_van_der_-_Lindeni...\n1285853           2  ['de_Conde,_Ioannes_Baptista_-_Aphorismi_seu_a...\n1285854           3  ['van_Poort,_Henricus_-_Hippocratis_Aphorismi_...\n1285855           4  ['Hippocrates_&_Denisot,_Gérard_-_Hippocratis_...",
      "text/html": "<div>\n<style scoped>\n    .dataframe tbody tr th:only-of-type {\n        vertical-align: middle;\n    }\n\n    .dataframe tbody tr th {\n        vertical-align: top;\n    }\n\n    .dataframe thead th {\n        text-align: right;\n    }\n</style>\n<table border=\"1\" class=\"dataframe\">\n  <thead>\n    <tr style=\"text-align: right;\">\n      <th></th>\n      <th>Unnamed: 0</th>\n      <th>filenames_list</th>\n    </tr>\n    <tr>\n      <th>id</th>\n      <th></th>\n      <th></th>\n    </tr>\n  </thead>\n  <tbody>\n    <tr>\n      <th>1031760</th>\n      <td>0</td>\n      <td>['Bacon,_Francis_-_Instauratio_magna__London_1...</td>\n    </tr>\n    <tr>\n      <th>1085290</th>\n      <td>1</td>\n      <td>['Linden,_Johannes_Antonides_van_der_-_Lindeni...</td>\n    </tr>\n    <tr>\n      <th>1285853</th>\n      <td>2</td>\n      <td>['de_Conde,_Ioannes_Baptista_-_Aphorismi_seu_a...</td>\n    </tr>\n    <tr>\n      <th>1285854</th>\n      <td>3</td>\n      <td>['van_Poort,_Henricus_-_Hippocratis_Aphorismi_...</td>\n    </tr>\n    <tr>\n      <th>1285855</th>\n      <td>4</td>\n      <td>['Hippocrates_&amp;_Denisot,_Gérard_-_Hippocratis_...</td>\n    </tr>\n  </tbody>\n</table>\n</div>"
     },
     "execution_count": 82,
     "metadata": {},
     "output_type": "execute_result"
    }
   ],
   "source": [
    "ids_filenames_df.set_index(\"id\", inplace=True)\n",
    "ids_filenames_df.head(5)"
   ],
   "metadata": {
    "collapsed": false,
    "ExecuteTime": {
     "end_time": "2023-11-07T13:51:17.798438Z",
     "start_time": "2023-11-07T13:51:17.765069Z"
    }
   },
   "id": "d0ca2d1528d5aff3"
  },
  {
   "cell_type": "markdown",
   "source": [
    "### Spacy test"
   ],
   "metadata": {
    "collapsed": false
   },
   "id": "b43330a230a2ff84"
  },
  {
   "cell_type": "code",
   "execution_count": 88,
   "outputs": [],
   "source": [
    "vitruvius = \"Architecti Augusti est scientia pluribus disciplinis et variis eruditionibus ornata, quae ab ceteris artibus perficiuntur. Opera ea nascitur et fabrica et ratiocinatione.\""
   ],
   "metadata": {
    "collapsed": false,
    "ExecuteTime": {
     "end_time": "2023-11-07T13:55:22.139660Z",
     "start_time": "2023-11-07T13:55:22.118338Z"
    }
   },
   "id": "893dfae9c690b086"
  },
  {
   "cell_type": "code",
   "execution_count": 89,
   "outputs": [
    {
     "data": {
      "text/plain": "[('normer', <function la_core_web_lg.functions.normer(doc)>),\n ('tok2vec', <spacy.pipeline.tok2vec.Tok2Vec at 0x14c335ba0>),\n ('tagger', <spacy.pipeline.tagger.Tagger at 0x14c336e00>),\n ('morphologizer',\n  <spacy.pipeline.morphologizer.Morphologizer at 0x14c335f60>),\n ('trainable_lemmatizer',\n  <spacy.pipeline.edit_tree_lemmatizer.EditTreeLemmatizer at 0x14c336b00>),\n ('parser', <spacy.pipeline.dep_parser.DependencyParser at 0x14c301a10>),\n ('lemma_fixer', <function la_core_web_lg.functions.lemma_fixer(doc)>),\n ('ner', <spacy.pipeline.ner.EntityRecognizer at 0x14c301930>)]"
     },
     "execution_count": 89,
     "metadata": {},
     "output_type": "execute_result"
    }
   ],
   "source": [
    "nlp.pipeline"
   ],
   "metadata": {
    "collapsed": false,
    "ExecuteTime": {
     "end_time": "2023-11-07T13:55:23.996027Z",
     "start_time": "2023-11-07T13:55:23.963804Z"
    }
   },
   "id": "78b894b2e11f2c5"
  },
  {
   "cell_type": "code",
   "execution_count": 90,
   "outputs": [],
   "source": [
    "doc = nlp(vitruvius)"
   ],
   "metadata": {
    "collapsed": false,
    "ExecuteTime": {
     "end_time": "2023-11-07T13:55:25.393682Z",
     "start_time": "2023-11-07T13:55:25.359276Z"
    }
   },
   "id": "b6ee2425d50e7ceb"
  },
  {
   "cell_type": "code",
   "execution_count": 91,
   "outputs": [
    {
     "name": "stdout",
     "output_type": "stream",
     "text": [
      "Architecti PROPN Architectus\n",
      "Augusti PROPN Augustus\n",
      "est AUX sum\n",
      "scientia NOUN scientia\n",
      "pluribus ADJ multus\n",
      "disciplinis NOUN disciplina\n",
      "et CCONJ et\n",
      "variis ADJ uarius\n",
      "eruditionibus NOUN eruditio\n",
      "ornata VERB orno\n",
      ", PUNCT ,\n",
      "quae PRON qui\n",
      "ab ADP ab\n",
      "ceteris DET ceterus\n",
      "artibus NOUN ars\n",
      "perficiuntur VERB perficio\n",
      ". PUNCT .\n",
      "Opera NOUN Opus\n",
      "ea PRON is\n",
      "nascitur VERB nascor\n",
      "et CCONJ et\n",
      "fabrica NOUN fabrica\n",
      "et CCONJ et\n",
      "ratiocinatione NOUN ratiocinatio\n",
      ". PUNCT .\n"
     ]
    }
   ],
   "source": [
    "for token in doc:\n",
    "    print(token.text, token.pos_, token.lemma_)"
   ],
   "metadata": {
    "collapsed": false,
    "ExecuteTime": {
     "end_time": "2023-11-07T13:55:26.824177Z",
     "start_time": "2023-11-07T13:55:26.794691Z"
    }
   },
   "id": "fb84a1d49a51346"
  },
  {
   "cell_type": "code",
   "execution_count": 93,
   "outputs": [],
   "source": [
    "all_sents_lemmata = []\n",
    "for sent in doc.sents:\n",
    "    sent_lemmata = []\n",
    "    for token in sent:\n",
    "        if token.pos_ in [\"NOUN\", \"VERB\", \"ADJ\"]:\n",
    "            sent_lemmata.append(token.lemma_)\n",
    "    all_sents_lemmata.append(sent_lemmata)"
   ],
   "metadata": {
    "collapsed": false,
    "ExecuteTime": {
     "end_time": "2023-11-07T13:55:35.802013Z",
     "start_time": "2023-11-07T13:55:35.780994Z"
    }
   },
   "id": "ea28288817d77633"
  },
  {
   "cell_type": "code",
   "execution_count": 94,
   "outputs": [
    {
     "data": {
      "text/plain": "()"
     },
     "execution_count": 94,
     "metadata": {},
     "output_type": "execute_result"
    }
   ],
   "source": [
    "doc.ents"
   ],
   "metadata": {
    "collapsed": false,
    "ExecuteTime": {
     "end_time": "2023-11-07T13:55:36.340480Z",
     "start_time": "2023-11-07T13:55:36.327266Z"
    }
   },
   "id": "19c16bb19d2a9ea4"
  },
  {
   "cell_type": "code",
   "execution_count": 12,
   "outputs": [
    {
     "data": {
      "text/plain": "[['scientia',\n  'multus',\n  'disciplina',\n  'uarius',\n  'eruditio',\n  'orno',\n  'ars',\n  'perficio'],\n ['Opus', 'nascor', 'fabrica', 'ratiocinatio']]"
     },
     "execution_count": 12,
     "metadata": {},
     "output_type": "execute_result"
    }
   ],
   "source": [
    "all_sents_lemmata"
   ],
   "metadata": {
    "collapsed": false,
    "ExecuteTime": {
     "end_time": "2023-11-06T14:20:10.279616Z",
     "start_time": "2023-11-06T14:20:10.261608Z"
    }
   },
   "id": "2dd6490a9a9ec239"
  },
  {
   "cell_type": "markdown",
   "source": [
    "# Apply spacy model on nocsemus"
   ],
   "metadata": {
    "collapsed": false
   },
   "id": "8c2d2965eb15bfa8"
  },
  {
   "cell_type": "code",
   "execution_count": 97,
   "outputs": [
    {
     "name": "stdout",
     "output_type": "stream",
     "text": [
      "connection with shared folder established with you as its ordinary user\n",
      "endpoint variable has been configured to: https://sciencedata.dk/sharingout/kase%40zcu.cz/TOME/DATA/NOSCEMUS/\n"
     ]
    }
   ],
   "source": [
    "s = sddk.cloudSession(provider=\"sciencedata.dk\", shared_folder_name=\"TOME/DATA/NOSCEMUS\", owner=\"kase@zcu.cz\")"
   ],
   "metadata": {
    "collapsed": false,
    "ExecuteTime": {
     "end_time": "2023-11-07T14:00:21.926243Z",
     "start_time": "2023-11-07T14:00:09.983122Z"
    }
   },
   "id": "6f4f09fd1d1b3fa1"
  },
  {
   "cell_type": "code",
   "execution_count": 98,
   "outputs": [],
   "source": [
    "# load metadata"
   ],
   "metadata": {
    "collapsed": false,
    "ExecuteTime": {
     "end_time": "2023-11-07T14:00:26.138296Z",
     "start_time": "2023-11-07T14:00:26.117826Z"
    }
   },
   "id": "c98c587cc0465b6f"
  },
  {
   "cell_type": "code",
   "execution_count": 99,
   "outputs": [],
   "source": [
    "# extract a list of ids for iteration\n",
    "filenames_list = s.list_filenames(\"noscemus_raw\", \"txt\")"
   ],
   "metadata": {
    "collapsed": false,
    "ExecuteTime": {
     "end_time": "2023-11-07T14:00:47.092502Z",
     "start_time": "2023-11-07T14:00:45.924253Z"
    }
   },
   "id": "69ed530b6d94fd09"
  },
  {
   "cell_type": "code",
   "execution_count": 100,
   "outputs": [
    {
     "data": {
      "text/plain": "['1031760.txt',\n '1085290.txt',\n '1285853.txt',\n '1285854.txt',\n '1285855.txt',\n '1285856.txt',\n '1365811.txt',\n '1370560.txt',\n '1378359.txt',\n '1424044.txt']"
     },
     "execution_count": 100,
     "metadata": {},
     "output_type": "execute_result"
    }
   ],
   "source": [
    "filenames_list[:10]"
   ],
   "metadata": {
    "collapsed": false,
    "ExecuteTime": {
     "end_time": "2023-11-07T14:00:47.099704Z",
     "start_time": "2023-11-07T14:00:47.094309Z"
    }
   },
   "id": "558597355b6a3a1a"
  },
  {
   "cell_type": "code",
   "execution_count": 101,
   "outputs": [
    {
     "data": {
      "text/plain": "[]"
     },
     "execution_count": 101,
     "metadata": {},
     "output_type": "execute_result"
    }
   ],
   "source": [
    "[fn for fn in filenames_list if \"_\" in fn]"
   ],
   "metadata": {
    "collapsed": false,
    "ExecuteTime": {
     "end_time": "2023-11-07T14:01:00.419403Z",
     "start_time": "2023-11-07T14:01:00.400694Z"
    }
   },
   "id": "a6c5b5bddcb4f535"
  },
  {
   "cell_type": "code",
   "execution_count": 102,
   "outputs": [],
   "source": [
    "ids = [fn.partition(\".\")[0] for fn in filenames_list]"
   ],
   "metadata": {
    "collapsed": false,
    "ExecuteTime": {
     "end_time": "2023-11-07T14:01:07.702351Z",
     "start_time": "2023-11-07T14:01:07.680734Z"
    }
   },
   "id": "6d114405dfa7d859"
  },
  {
   "cell_type": "code",
   "execution_count": 105,
   "outputs": [],
   "source": [
    "jsonfiles_list = s.list_filenames(\"noscemus_spacyjsons_v1\", \"json\")"
   ],
   "metadata": {
    "collapsed": false,
    "ExecuteTime": {
     "end_time": "2023-11-07T14:01:19.444788Z",
     "start_time": "2023-11-07T14:01:18.315556Z"
    }
   },
   "id": "86a7ae98de89fb2a"
  },
  {
   "cell_type": "code",
   "execution_count": 107,
   "outputs": [
    {
     "data": {
      "text/plain": "['1031760.json',\n '1085290.json',\n '1285853.json',\n '1285854.json',\n '1285855.json',\n '1285856.json',\n '1365811.json',\n '1370560.json',\n '1378359.json',\n '1424044.json',\n '1461594.json',\n '1479057.json',\n '1509197.json',\n '1509290.json',\n '1526071.json',\n '1528734.json',\n '1567826.json',\n '597675.json',\n '597737.json',\n '597799.json',\n '598104.json',\n '598116.json',\n '598518.json',\n '599651.json',\n '599653.json',\n '599722.json',\n '599723.json',\n '599724.json',\n '599725.json',\n '599726.json',\n '599727.json',\n '599728.json',\n '599729.json',\n '604274.json',\n '604275.json',\n '604277.json',\n '604307.json',\n '604308.json',\n '604309.json',\n '604311.json',\n '604889.json',\n '604890.json',\n '604891.json',\n '604892.json',\n '604893.json',\n '604894.json',\n '605034.json',\n '605035.json',\n '605036.json',\n '605037.json',\n '605038.json',\n '605039.json',\n '605239.json',\n '605240.json',\n '605241.json',\n '605285.json',\n '605286.json',\n '605287.json',\n '605288.json',\n '605289.json',\n '605290.json',\n '605291.json',\n '605292.json',\n '605293.json',\n '605294.json',\n '605910.json',\n '605911.json',\n '605913.json',\n '605914.json',\n '605915.json',\n '605916.json',\n '605917.json',\n '605918.json',\n '605919.json',\n '607707.json',\n '607710.json',\n '607711.json',\n '607713.json',\n '607714.json',\n '607715.json',\n '607716.json',\n '607717.json',\n '607718.json',\n '607719.json',\n '607720.json',\n '607721.json',\n '607722.json',\n '607723.json',\n '607724.json',\n '607725.json',\n '607726.json',\n '607727.json',\n '607728.json',\n '608625.json',\n '608626.json',\n '608627.json',\n '608628.json',\n '608629.json',\n '608630.json',\n '608631.json',\n '608632.json',\n '608633.json',\n '608634.json',\n '608635.json',\n '608636.json',\n '608637.json',\n '608638.json',\n '608640.json',\n '608641.json',\n '608642.json',\n '608643.json',\n '616637.json',\n '616638.json',\n '616639.json',\n '616640.json',\n '616641.json',\n '616642.json',\n '616643.json',\n '616644.json',\n '616645.json',\n '616646.json',\n '617654.json',\n '617655.json',\n '617656.json',\n '617657.json',\n '617658.json',\n '618462.json',\n '618493.json',\n '623150.json',\n '623151.json',\n '623152.json',\n '623153.json',\n '623154.json',\n '623155.json',\n '623156.json',\n '623157.json',\n '630005.json',\n '630006.json',\n '631363.json',\n '631388.json',\n '632437.json',\n '632438.json',\n '632439.json',\n '632441.json',\n '632442.json',\n '632443.json',\n '632444.json',\n '632445.json',\n '632446.json',\n '635179.json',\n '635706.json',\n '637738.json',\n '637780.json',\n '640824.json',\n '640825.json',\n '643408.json',\n '643448.json',\n '643449.json',\n '643450.json',\n '648073.json',\n '648164.json',\n '652468.json',\n '652469.json',\n '652470.json',\n '652471.json',\n '652472.json',\n '653294.json',\n '653295.json',\n '653296.json',\n '653297.json',\n '653298.json',\n '655270.json',\n '655273.json',\n '655274.json',\n '657722.json',\n '657723.json',\n '657724.json',\n '657725.json',\n '657726.json',\n '657731.json',\n '657732.json',\n '657733.json',\n '657734.json',\n '657735.json',\n '658378.json',\n '658379.json',\n '658380.json',\n '658381.json',\n '658382.json',\n '658512.json',\n '658513.json',\n '658514.json',\n '658515.json',\n '658534.json',\n '658891.json',\n '659198.json',\n '659199.json',\n '659200.json',\n '659201.json',\n '660341.json',\n '660342.json',\n '660343.json',\n '660344.json',\n '660345.json',\n '662863.json',\n '662865.json',\n '662866.json',\n '662867.json',\n '662868.json',\n '662869.json',\n '662870.json',\n '662871.json',\n '662872.json',\n '663923.json',\n '663924.json',\n '663925.json',\n '663926.json',\n '663927.json',\n '663928.json',\n '663929.json',\n '663930.json',\n '663951.json',\n '663952.json',\n '664559.json',\n '664561.json',\n '664562.json',\n '664563.json',\n '668490.json',\n '668491.json',\n '668492.json',\n '668493.json',\n '668494.json',\n '668495.json',\n '668496.json',\n '668497.json',\n '668499.json',\n '668500.json',\n '668501.json',\n '668502.json',\n '668503.json',\n '668504.json',\n '668505.json',\n '668506.json',\n '668507.json',\n '668508.json',\n '668509.json',\n '668510.json',\n '668511.json',\n '668512.json',\n '668513.json',\n '668514.json',\n '668515.json',\n '668516.json',\n '668517.json',\n '668518.json',\n '668519.json',\n '668520.json',\n '668521.json',\n '668522.json',\n '668543.json',\n '668544.json',\n '668545.json',\n '670589.json',\n '674799.json',\n '676068.json',\n '676442.json',\n '676748.json',\n '677275.json',\n '678220.json',\n '678765.json',\n '683331.json',\n '683332.json',\n '686638.json',\n '688159.json',\n '688248.json',\n '688249.json',\n '688837.json',\n '689822.json',\n '689823.json',\n '689824.json',\n '689825.json',\n '689826.json',\n '691442.json',\n '691443.json',\n '691444.json',\n '691445.json',\n '691456.json',\n '691681.json',\n '691682.json',\n '692916.json',\n '692917.json',\n '692920.json',\n '692921.json',\n '692939.json',\n '692941.json',\n '693073.json',\n '693074.json',\n '693075.json',\n '693078.json',\n '693142.json',\n '693143.json',\n '693145.json',\n '693146.json',\n '693147.json',\n '693148.json',\n '693174.json',\n '693175.json',\n '693176.json',\n '693177.json',\n '693178.json',\n '693690.json',\n '693691.json',\n '693692.json',\n '693693.json',\n '693694.json',\n '693695.json',\n '693696.json',\n '693697.json',\n '693817.json',\n '694470.json',\n '694471.json',\n '694472.json',\n '694473.json',\n '694474.json',\n '694475.json',\n '694476.json',\n '694477.json',\n '694478.json',\n '694617.json',\n '694618.json',\n '694619.json',\n '694620.json',\n '694621.json',\n '694622.json',\n '694623.json',\n '694624.json',\n '694625.json',\n '694626.json',\n '694895.json',\n '694896.json',\n '694897.json',\n '694898.json',\n '695622.json',\n '695639.json',\n '695640.json',\n '695641.json',\n '695642.json',\n '695643.json',\n '695644.json',\n '695645.json',\n '695646.json',\n '695647.json',\n '695667.json',\n '695675.json',\n '695706.json',\n '695813.json',\n '695814.json',\n '695815.json',\n '695816.json',\n '695817.json',\n '696079.json',\n '696080.json',\n '696081.json',\n '696105.json',\n '696106.json',\n '696170.json',\n '696185.json',\n '696186.json',\n '696195.json',\n '696410.json',\n '696429.json',\n '696812.json',\n '696813.json',\n '696814.json',\n '696815.json',\n '696816.json',\n '697192.json',\n '697193.json',\n '699868.json',\n '699869.json',\n '699870.json',\n '701508.json',\n '701509.json',\n '701510.json',\n '701511.json',\n '701512.json',\n '701513.json',\n '701514.json',\n '701785.json',\n '701786.json',\n '701795.json',\n '701797.json',\n '702144.json',\n '702145.json',\n '702146.json',\n '702147.json',\n '702148.json',\n '702149.json',\n '702150.json',\n '702151.json',\n '702152.json',\n '702153.json',\n '702831.json',\n '702832.json',\n '702833.json',\n '702834.json',\n '702835.json',\n '704336.json',\n '704337.json',\n '704338.json',\n '704339.json',\n '704340.json',\n '704341.json',\n '704342.json',\n '704343.json',\n '704344.json',\n '704345.json',\n '704346.json',\n '704347.json',\n '704666.json',\n '704667.json',\n '704668.json',\n '704669.json',\n '704670.json',\n '704812.json',\n '704813.json',\n '704814.json',\n '704815.json',\n '705019.json',\n '705020.json',\n '705022.json',\n '705023.json',\n '705664.json',\n '705665.json',\n '705666.json',\n '705667.json',\n '705668.json',\n '706097.json',\n '706099.json',\n '706100.json',\n '706101.json',\n '706763.json',\n '706764.json',\n '706765.json',\n '706766.json',\n '706767.json',\n '706768.json',\n '706769.json',\n '708106.json',\n '708107.json',\n '708108.json',\n '708109.json',\n '708110.json',\n '709640.json',\n '709641.json',\n '709642.json',\n '709643.json',\n '709644.json',\n '710270.json',\n '710271.json',\n '710272.json',\n '710273.json',\n '710274.json',\n '710275.json',\n '710276.json',\n '710448.json',\n '710449.json',\n '710450.json',\n '710451.json',\n '713323.json',\n '713324.json',\n '713325.json',\n '713326.json',\n '713327.json',\n '713328.json',\n '715589.json',\n '715590.json',\n '715591.json',\n '715853.json',\n '718447.json',\n '718448.json',\n '718449.json',\n '718450.json',\n '718451.json',\n '718534.json',\n '718544.json',\n '718545.json',\n '718636.json',\n '718637.json',\n '718638.json',\n '718639.json',\n '718640.json',\n '720096.json',\n '720097.json',\n '720098.json',\n '720099.json',\n '720100.json',\n '720610.json',\n '720611.json',\n '720612.json',\n '720613.json',\n '720614.json',\n '724117.json',\n '724118.json',\n '724119.json',\n '724120.json',\n '724121.json',\n '725075.json',\n '725076.json',\n '725077.json',\n '725078.json',\n '725080.json',\n '725081.json',\n '725400.json',\n '726757.json',\n '726758.json',\n '726764.json',\n '726765.json',\n '726766.json',\n '731574.json',\n '731623.json',\n '731624.json',\n '731625.json',\n '731626.json',\n '731627.json',\n '731628.json',\n '732033.json',\n '732034.json',\n '732035.json',\n '732036.json',\n '732037.json',\n '732628.json',\n '732630.json',\n '732631.json',\n '732632.json',\n '732633.json',\n '732634.json',\n '732892.json',\n '732893.json',\n '732894.json',\n '732895.json',\n '732896.json',\n '732897.json',\n '732899.json',\n '732972.json',\n '732973.json',\n '733505.json',\n '733506.json',\n '733507.json',\n '733508.json',\n '733509.json',\n '733808.json',\n '735138.json',\n '735139.json',\n '735140.json',\n '735141.json',\n '735142.json',\n '735143.json',\n '735144.json',\n '735145.json',\n '735146.json',\n '736346.json',\n '736347.json',\n '736348.json',\n '736349.json',\n '736350.json',\n '737709.json',\n '737710.json',\n '737711.json',\n '737712.json',\n '738972.json',\n '739097.json',\n '739098.json',\n '739099.json',\n '739100.json',\n '739101.json',\n '740095.json',\n '742065.json',\n '742066.json',\n '742067.json',\n '742068.json',\n '742125.json',\n '742418.json',\n '742419.json',\n '742420.json',\n '743610.json',\n '743611.json',\n '743612.json',\n '743613.json',\n '743614.json',\n '744029.json',\n '744030.json',\n '744031.json',\n '746740.json',\n '746741.json',\n '746744.json',\n '746761.json',\n '746786.json',\n '746787.json',\n '746788.json',\n '746789.json',\n '746790.json',\n '746791.json',\n '747381.json',\n '747382.json',\n '747383.json',\n '747384.json',\n '756853.json',\n '756854.json',\n '756856.json',\n '756867.json',\n '756868.json',\n '756869.json',\n '756870.json',\n '756873.json',\n '756874.json',\n '756875.json',\n '756876.json',\n '756877.json',\n '756878.json',\n '766507.json',\n '767742.json',\n '767743.json',\n '767744.json',\n '767766.json',\n '767767.json',\n '767768.json',\n '767769.json',\n '767771.json',\n '769230.json',\n '769231.json',\n '769232.json',\n '769233.json',\n '770047.json',\n '770048.json',\n '770049.json',\n '770140.json',\n '775142.json',\n '775165.json',\n '775166.json',\n '775167.json',\n '775168.json',\n '775467.json',\n '782227.json',\n '782228.json',\n '782229.json',\n '782230.json',\n '782231.json',\n '782232.json',\n '786342.json',\n '786343.json',\n '786344.json',\n '786345.json',\n '795542.json',\n '795543.json',\n '795544.json',\n '795545.json',\n '795546.json',\n '795547.json',\n '795548.json',\n '795549.json',\n '795550.json',\n '795551.json',\n '795560.json',\n '795561.json',\n '795562.json',\n '795563.json',\n '795564.json',\n '797514.json',\n '797523.json',\n '797524.json',\n '797568.json',\n '797693.json',\n '797706.json',\n '797707.json',\n '797708.json',\n '797709.json',\n '797710.json',\n '798542.json',\n '798543.json',\n '798544.json',\n '798545.json',\n '798546.json',\n '798547.json',\n '798548.json',\n '798549.json',\n '801655.json',\n '801656.json',\n '801657.json',\n '801658.json',\n '801742.json',\n '801743.json',\n '801744.json',\n '801745.json',\n '801746.json',\n '801750.json',\n '804024.json',\n '804025.json',\n '804026.json',\n '804027.json',\n '804028.json',\n '807329.json',\n '807330.json',\n '807331.json',\n '807332.json',\n '807388.json',\n '807407.json',\n '807622.json',\n '807623.json',\n '807624.json',\n '807625.json',\n '807626.json',\n '807627.json',\n '807648.json',\n '808106.json',\n '808107.json',\n '808108.json',\n '808109.json',\n '808110.json',\n '808145.json',\n '808146.json',\n '808352.json',\n '808353.json',\n '808813.json',\n '816414.json',\n '816415.json',\n '816416.json',\n '816417.json',\n '816419.json',\n '819057.json',\n '819058.json',\n '822454.json',\n '823046.json',\n '823047.json',\n '823048.json',\n '823074.json',\n '823075.json',\n '823076.json',\n '823077.json',\n '823078.json',\n '823079.json',\n '823080.json',\n '823081.json',\n '826785.json',\n '826804.json',\n '830008.json',\n '830009.json',\n '831509.json',\n '831510.json',\n '831511.json',\n '831512.json',\n '831513.json',\n '831540.json',\n '833195.json',\n '833197.json',\n '833198.json',\n '835246.json',\n '835247.json',\n '835248.json',\n '835250.json',\n '835556.json',\n '835557.json',\n '837030.json',\n '839338.json',\n '839339.json',\n '839340.json',\n '839341.json',\n '839342.json',\n '841471.json',\n '841472.json',\n '841473.json',\n '841474.json',\n '841475.json',\n '842536.json',\n '845314.json',\n '845315.json',\n '845316.json',\n '845317.json',\n '845318.json',\n '845319.json',\n '849400.json',\n '862096.json',\n '862097.json',\n '862098.json',\n '862099.json',\n '862100.json',\n '863735.json',\n '863736.json',\n '863737.json',\n '863738.json',\n '864507.json',\n '864508.json',\n '864509.json',\n '864510.json',\n '864511.json',\n '865568.json',\n '865569.json',\n '868519.json',\n '868571.json',\n '868572.json',\n '888129.json',\n '888130.json',\n '888131.json',\n '888132.json',\n '888133.json',\n '888134.json',\n '888136.json',\n '888137.json',\n '888138.json',\n '888139.json',\n '888346.json',\n '888526.json',\n '890736.json',\n '890750.json',\n '891042.json',\n '891043.json',\n '891044.json',\n '897258.json',\n '897259.json',\n '897260.json',\n '897281.json',\n '897282.json',\n '897283.json',\n '897284.json',\n '897301.json',\n '897956.json',\n '897957.json',\n '897958.json',\n '898561.json',\n '898562.json',\n '898563.json',\n '898564.json',\n '898565.json',\n '899968.json',\n '899969.json',\n '899970.json',\n '899971.json',\n '900763.json',\n '900764.json',\n '900765.json',\n '900767.json',\n '901014.json',\n '901015.json',\n '901016.json',\n '901017.json',\n '901145.json',\n '902199.json',\n '902200.json',\n '902201.json',\n '902202.json',\n '902259.json',\n '902261.json',\n '902262.json',\n '902274.json',\n '902426.json',\n '902427.json',\n '902428.json',\n '904417.json',\n '904418.json',\n '904419.json',\n '904450.json',\n '904451.json',\n '904452.json',\n '904453.json',\n '904454.json',\n '904455.json',\n '904456.json',\n '904457.json',\n '904471.json',\n '904631.json',\n '905698.json',\n '906071.json',\n '906080.json',\n '906081.json',\n '906083.json',\n '906120.json',\n '906121.json',\n '906122.json',\n '906123.json',\n '906154.json',\n '906155.json',\n '906156.json',\n '906157.json',\n '906158.json',\n '906159.json',\n '906160.json',\n '906162.json',\n '906163.json',\n '906182.json',\n '906183.json',\n '906184.json',\n '906185.json',\n '906186.json',\n '906212.json',\n '906213.json',\n '906214.json',\n '906959.json',\n '906960.json',\n '906961.json',\n '906962.json',\n '906963.json',\n '906964.json',\n '906965.json',\n '906966.json',\n '906967.json',\n '906968.json',\n '906981.json',\n '906982.json',\n '906983.json',\n '906984.json',\n '906986.json',\n '907179.json',\n '911543.json',\n '911544.json',\n '912314.json',\n '912315.json',\n '912316.json',\n '912317.json',\n '912763.json',\n '913057.json',\n '913058.json',\n '913059.json',\n '913060.json',\n '913061.json',\n '913062.json',\n '913063.json',\n '913064.json',\n '913065.json',\n '913066.json',\n '914297.json',\n '914298.json',\n '914299.json',\n '914300.json',\n '914301.json',\n '914302.json',\n '914303.json',\n '914304.json',\n '914309.json',\n '915096.json',\n '915172.json',\n '915173.json',\n '915175.json',\n '915239.json',\n '915240.json',\n '918505.json',\n '918506.json',\n '918507.json',\n '918508.json',\n '918509.json',\n '918510.json',\n '918511.json',\n '918558.json',\n '918559.json',\n '918652.json',\n '921412.json',\n '923718.json',\n '928133.json',\n '928134.json',\n '928135.json',\n '928136.json',\n '928137.json',\n '928138.json',\n '928139.json',\n '928140.json',\n '928141.json',\n '928142.json',\n '928143.json',\n '928144.json',\n '928145.json',\n '928146.json',\n '928147.json',\n '928148.json',\n '928149.json',\n '928151.json',\n '928152.json',\n '928153.json',\n '928154.json',\n '928156.json',\n '928186.json',\n '928187.json',\n '928628.json',\n '928630.json',\n '928693.json',\n '928694.json',\n '928695.json',\n '928696.json',\n '928697.json',\n '928699.json',\n '928701.json',\n '928702.json',\n '928886.json',\n '928887.json',\n '928888.json',\n '928889.json',\n '928890.json',\n '928891.json',\n '928892.json',\n '929375.json',\n '929376.json',\n '929377.json',\n ...]"
     },
     "execution_count": 107,
     "metadata": {},
     "output_type": "execute_result"
    }
   ],
   "source": [
    "jsonfiles_list"
   ],
   "metadata": {
    "collapsed": false,
    "ExecuteTime": {
     "end_time": "2023-11-07T14:01:50.321823Z",
     "start_time": "2023-11-07T14:01:50.315005Z"
    }
   },
   "id": "368a75f6eafe2c74"
  },
  {
   "cell_type": "code",
   "execution_count": 108,
   "outputs": [
    {
     "data": {
      "text/plain": "'1085290.txt'"
     },
     "execution_count": 108,
     "metadata": {},
     "output_type": "execute_result"
    }
   ],
   "source": [
    "filenames_list[1]"
   ],
   "metadata": {
    "collapsed": false,
    "ExecuteTime": {
     "end_time": "2023-11-07T14:01:50.868997Z",
     "start_time": "2023-11-07T14:01:50.847979Z"
    }
   },
   "id": "d794bd12937ef624"
  },
  {
   "cell_type": "markdown",
   "source": [
    "# Text cleaning"
   ],
   "metadata": {
    "collapsed": false
   },
   "id": "b9c619596ad85f34"
  },
  {
   "cell_type": "code",
   "execution_count": 109,
   "outputs": [],
   "source": [
    "filename = filenames_list[1]\n",
    "rawtext = s.read_file(\"noscemus_raw/\" + filename, \"str\")"
   ],
   "metadata": {
    "collapsed": false,
    "ExecuteTime": {
     "end_time": "2023-11-07T14:02:05.155143Z",
     "start_time": "2023-11-07T14:02:04.027526Z"
    }
   },
   "id": "7017739fa2bda3ae"
  },
  {
   "cell_type": "code",
   "execution_count": 110,
   "outputs": [
    {
     "data": {
      "text/plain": "2988478"
     },
     "execution_count": 110,
     "metadata": {},
     "output_type": "execute_result"
    }
   ],
   "source": [
    "len(rawtext)"
   ],
   "metadata": {
    "collapsed": false,
    "ExecuteTime": {
     "end_time": "2023-11-07T14:02:37.641142Z",
     "start_time": "2023-11-07T14:02:37.621277Z"
    }
   },
   "id": "dab80d9fee6f56cb"
  },
  {
   "cell_type": "code",
   "execution_count": 23,
   "outputs": [],
   "source": [
    "#@Language.component(\"text_cleaner\")\n",
    "#def text_cleaner(rawtext):\n",
    "#    for token in doc:\n",
    "#        token.norm_ = token.norm_.replace(\"¬\\n\", \"\").replace(\"\\n\", \" \").replace(\"ß\", \"ss\").replace(\"ij\",\"ii\")\n",
    "#    return doc"
   ],
   "metadata": {
    "collapsed": false,
    "ExecuteTime": {
     "end_time": "2023-11-06T14:20:34.241023Z",
     "start_time": "2023-11-06T14:20:34.228665Z"
    }
   },
   "id": "78857e2b46226e6f"
  },
  {
   "cell_type": "code",
   "execution_count": 24,
   "outputs": [],
   "source": [
    "#nlp.add_pipe(\"text_cleaner\", after=\"normer\") \n",
    "#nlp.pipeline                                                          "
   ],
   "metadata": {
    "collapsed": false,
    "ExecuteTime": {
     "end_time": "2023-11-06T14:20:34.509020Z",
     "start_time": "2023-11-06T14:20:34.501431Z"
    }
   },
   "id": "7f5a84e0c1afb909"
  },
  {
   "cell_type": "code",
   "execution_count": 112,
   "outputs": [],
   "source": [
    "def text_cleaner(rawtext):\n",
    "    cleantext = rawtext.replace(\"¬\\n\", \"\").replace(\"\\n\", \" \").replace(\"ß\", \"ss\").replace(\"ij\",\"ii\")\n",
    "    cleantext = \" \".join([t[0] + t[1:].lower() for t in cleantext.split()])\n",
    "    cleantext = re.sub(\"\\s\\s+\", \" \", cleantext)\n",
    "    return cleantext"
   ],
   "metadata": {
    "collapsed": false,
    "ExecuteTime": {
     "end_time": "2023-11-07T14:03:28.571357Z",
     "start_time": "2023-11-07T14:03:28.553333Z"
    }
   },
   "id": "e391f2c7910dba49"
  },
  {
   "cell_type": "code",
   "execution_count": 113,
   "outputs": [],
   "source": [
    "cleantext = text_cleaner(rawtext)"
   ],
   "metadata": {
    "collapsed": false,
    "ExecuteTime": {
     "end_time": "2023-11-07T14:03:29.091223Z",
     "start_time": "2023-11-07T14:03:29.059206Z"
    }
   },
   "id": "bccedcce4cda5b11"
  },
  {
   "cell_type": "code",
   "execution_count": 114,
   "outputs": [
    {
     "data": {
      "text/plain": "'GEORG ABRAHAM MERCKLINI\\nLINDENIUS RENOVATUS\\nDE\\nSCRIPTIS MEDICIS\\n\\n\\nLINDENIUS RENQVATUS,\\nVE\\nS1\\nJOHANNIS ANTONIDAE van der LINDEN\\nDE\\nSCRIA IAUMEDICIS\\nLIBRIDVO.\\nUORUM PRIOR, OMNIUM, TAM\\nC\\nVeterum, quàm Recentiorum, Latino idiomate, typis unquam\\nexpressorum Scriptorum Medicorum, consummatissimum Catalogum conti¬\\nnet; quo indicatur, quid singuli Authores scripserint: nec non ubi, quâ\\nformâ, & quo tempore, omnes eorum Scriptorum Editiones\\nexcusae prostent:\\nPosterior verò Cynosuram Medicam, sive, Rerum & Mate¬\\nriarum Indicem, omnium Titulorum vel Thematum Medicorum potiorum\\nCommunia Alphabetico hâcque novâ demum Editione primùm adornato ordine suis\\nLglicita comprehendentem exhibet, ut inquirenti, quicquid desideraverit, velut\\ndigito, in multiplicem usum, clarissimè monstretur:\\nNOVITER PRAETER HAEC ADDITA PLURIMORUM AUTHORUM,\\nquotquot nempe habere licuit, Vitae Curriculorum succinctâ\\nDescriptione:\\nAdscita undique ab exteris Medicis subsidiariâ ope, propriâque ultra\\ndecennium adhibitâ singulari '"
     },
     "execution_count": 114,
     "metadata": {},
     "output_type": "execute_result"
    }
   ],
   "source": [
    "rawtext[:1000]"
   ],
   "metadata": {
    "collapsed": false,
    "ExecuteTime": {
     "end_time": "2023-11-07T14:03:39.723990Z",
     "start_time": "2023-11-07T14:03:39.709187Z"
    }
   },
   "id": "567b276377594656"
  },
  {
   "cell_type": "code",
   "execution_count": 115,
   "outputs": [
    {
     "data": {
      "text/plain": "'Georg Abraham Mercklini Lindenius Renovatus De Scriptis Medicis Lindenius Renqvatus, Ve S1 Johannis Antonidae van der Linden De Scria Iaumedicis Libridvo. Uorum Prior, Omnium, Tam C Veterum, quàm Recentiorum, Latino idiomate, typis unquam expressorum Scriptorum Medicorum, consummatissimum Catalogum continet; quo indicatur, quid singuli Authores scripserint: nec non ubi, quâ formâ, & quo tempore, omnes eorum Scriptorum Editiones excusae prostent: Posterior verò Cynosuram Medicam, sive, Rerum & Materiarum Indicem, omnium Titulorum vel Thematum Medicorum potiorum Communia Alphabetico hâcque novâ demum Editione primùm adornato ordine suis Lglicita comprehendentem exhibet, ut inquirenti, quicquid desideraverit, velut digito, in multiplicem usum, clarissimè monstretur: Noviter Praeter Haec Addita Plurimorum Authorum, quotquot nempe habere licuit, Vitae Curriculorum succinctâ Descriptione: Adscita undique ab exteris Medicis subsidiariâ ope, propriâque ultra decennium adhibitâ singulari operâ atque curâ à postremae Ed tionis Anne Mdc. Lxii. usque ad prasentem Continuati, dimidio penè amplificati, per plurimùm interpolati, & ab extantioribus mendis purgati à Georgio Abrahamo Mercklino, D. Reipubl. Norimberg. Domûsque Teutonic. ibidem Med. Ord. & Academic. Curios. dict. Chiron. Cum Gratia & Privilegio S. C. Majest. Ooabvv-ii Norimbergae, Impensis Johannis Georgii Endteri. Anno Christi M. Dc. Lxxxvi. Reverendissimo Serenissimo Principi Ac Domino, Domino Ic Ud Fonio Al Generali Militiae Hierosolymitanae Ordinis B. Mariae Teutonicorum, Prussiae Administratori, Ac Ejusdem Per Germaniam, Italiam, Partesque Transmarinas Supremo Magistro, Comiti Palatino Rheni, Bavariae; Juliae, Cliviae, Et Montium Duci, Comiti Veldentiae, Sponhemii, Marchiae, Ravenspergae, Et Morsae, Dynastae In Ravenstein, Freudenthal, Et Eulenberg &c. &c. Principi Et Domino Meo Clementissimo Vitam Et Felicitatem. iu. Reverendissime Ac Serenissime Rinceps, Domine, Domine Clementissime! On nova est, sed ab antiquissimis temporibus eundo ad nos quasi per traducem illa serpit consuetudo, quâ Librorum frontibus Magni Patroni, velut Tutela3 ris Numinis nomen praescribi solet. Hocque tantum abest, ut Ipsi etiam Imperatores, Reges, Electores, Principes, jam olim inclementer tulerint, ut potiùs id ausos haud rarò vultu respexerint serenissimo. ! Quo quidem honore quanquam me dignum aestimare nec velim, nec possim; tanto tamen confidentiùs, horum exemplis animatus, idem tentare vadum & ego conor; quantò notius est, Serenitatis T splendorem saepiùs infra augustale culmen ad vilia etiam radios diffundere. Quae virtus ut Incluti & Christiano orbe Celeberrimi Ordinis Teutonici Magistris Supremis propria & familiarissima est; ita, devolutâ quasi à Majoribus haereditate, Tipi, Serenissime Princeps! prorsus innata. Certè Serenitatis T. Gloriosissimus Antecessor, Johannes Casparus, piissimae memoriae, tantâ comitatis lenita er rur tells l rli Dedicatio. lenitatisque gratia arentem meum, non incelebremme. dicum, piè defunctum, nec minus me quoque immerentissimum dignatus est; ut, ni fatum votum invertisset, Ipsius Celsissimo Nomini idem dicare ausus fuissem quod jam nunc, Illo in coelum recepto, Meritissimo Successori sacrum esse & volo & debeo. Equidem parum aberat, quin à concepto consilio absterreri passus fuissem, veritus, ne inter strenuissima armorum officia, quae, Invictissimo Caesare jubente, induis, ad proletarias chartas parum sis animum attenturus. At enim verò compertum vicissim habetur, Te tantâ temperaturâ miscere negotia, ut & in ipsis castris publicae rei curam geras, & domi non minus, quò Aegide Pallas & Pallade Aegis tuta sit, de castris cogites, simillimus Homerico isti Pelidae, qui inter ipsa armalfides & citharam interposuit. Statui iccirco, quòd diu trepido deliberavi animo, & Reverendissimum Ordinis Caput hoc ipso, per gradus tentato ascensu, mihi propitiare molior; postquam Generosissimis aliquot Illius Membris meâ qualicunque Arte Medicâ hactenus aliquantùm innotescere mihi licuit. Suscipe igitur, Serenissime Princeps! serenâ fronte, quod humillimâ manu, flexoque genu, ad pedes Tuos depono, vile hocce Opus, ceu in aevum duraturum pignus submissis simae venerationis, fideique, cultus, atque aeterni obsequii: pio cum voto sociatum, quod inter con ) ( Dedicatio. congratulantium de felici regimine Applausorum multitudinem postremus quidem fortè, non tamen, det Deus, vanus, pro vitâ, salute & perenni incolumitate calido pectore fundo: Supremum insimul Numen devotissimâ mente venerans, ut, quemadmodum Excelsissimi Ordinis Teutonici clavum bono fato & optatis auspiciis ipso aetatis flore, quo, (majorum exemplo) aetatem Tuam antevertis, regere haud ita pridem coepisti; sic felix faustusque in feros superes annos, quò Eidem pari animi magnitudine, fortitudine & prudentiâ praeesse possis, quoad ipse perstabit, hoc est, usque ad illum diem, qui hoc hauriet universum, idque tantâ virium integritate, & prosperrimae valetudinis constantiâ, ut cum Hygeia in gratiam redire nunquam opus habeas; quod à tenui licèt Medico, bono tamen omine, fusum votum irritum ne sinat esse Deus. Serenitati T. hiliona Dirdoum Ix. Id. Martii M. Dc. Lxxxvi. devotissimus Georg. Abraham: Mercklinus, D. Reipubl. Norimberg. Domusque Teutonic. ibidem Medicus ord & Academ. Curios. dict. Chiron. Bol Oi E Benevolo Salutem Et Officia. Eqiie novi exempli Liber iste, neque paenitendi laboris, aut fructus contemnendi est. Exemplo fuere nobis (ut Veteres taceam, & πολυγράφοῳ Gesnerum, & qui praeterea per Somne genus Scriptorum sese è Recentioribus diffuderunt) Jothannes Georg. Schenkius, Israel Spachius, & Paschalis Gallus. & Vam hi serè soli meruere, quidquid hinc in re Medica laudis. C Cujus praeconem velle me, non praedonem esse, testatus sum hoc ipso olim Opere, & iterum iterumque testor. Quod cùm è paterna primum Bibliotheca privatim mihi conscriberem, animadverteremque in quantum numerum excrevissent Auctores, quorum monumenta nec viderant illi, nec vidisse poterant, coepi consilium, eandem his conciliandi lucem, quam prioribus alii. Quo autem majore id cum fructu efficerem, non putavi satis referre, quid quisque in Medicina ediderit, ubi, apud quem, quando, quâ formâ: sed expedire studiis promovendis, quam singuli materiam aut plures tractaverint, ostendi. Feci igitur altero Libro. In quo praemitto, quae ad Medicinam ac Medicum in genere: mox quae ad singulas partes: Theoretica semper primùm, inde Practica, ut usus est vocare, & distinguere. Est tamen, ubi altera in alteris requiras. Videtur id molestiae nonnihil habere, & potui vitare titulorum repetitione. Sed quid opus? cum è praecedente Libro & Librorum ibi inscriptionibus expedire se possit, quisquis in hoc haeret. Illius ordinem Abecedarium feci & plusquam obvium, ne vel Tyrones haercant. Quibus cum saepe praenomina sint incognita, ne & heic ipsis mora fiat, subjunxi illius è cognomine Indicem. Haec forma Operis. Cujus quàm me poenitere non debeat, videtur exemplarium; sat bono numero primâ, iterumque, & majore, secundâ vice editorum, distractio testari. Ea certe Typographum movit, ut, quamvis Reipubulicae cura, Senatu, Scabinatu, alia occupatissimus, noluerit tamen studio suo erga rem literariam deesse, neque quem carere Libro communi velut applausu totiens approbato. Ego verò, posteaquam vidi, laborem meum publico gratum, debus neque ingratus erga alios, neque in memetipsum ) Praefatio Lindenii. Plum murius esse. Hic suturius eram, si vrvus alteri facerem curam, augendi & supplendi hoc Opus. Ide, si non pari promptitudine ac propensione orbi successorum merita exponerem, quâ superiorum iam proposuissem. Quo animo cum sim non possum non aegre habere, etiam hac editione non paucos praetermitti, quos inseri vel nunc oportuit. Quamvis enim haud parvam continuò diligentiam adhibuerim, nequivi tamen omnium, quos desideravi, titulos nancisci, etiam in amplissimam urbem & celeberrimam Academiam interque medios atque instructissimos Bibliopolas translatus. Qua in re ron parum me mea spes sefellit. Neque tamen refert, caussas referre, quas aut scire puto aut ex facili posse, quotquot frequentare illos solent. Quamobrem denuo rogo Viros omnes doctos, & quos amplificandae rei Medicae tenet amor, ut haut gravate velint suo me auxilio & publica commoda adjuvare, ac significare, quaqua ratione, si quid, quod ad Artem nostram pertineat, mihi quidem, sed dolenti praeteritum, noverint in lucem exivisse. Secundam editionem quam luculentis tunc Catalogis, & quidem suapte sponte ad me transmissis auctum iverint Viri Clarissimi, D. Claudius Doresmieux, Insulis, D. Robert. Farvacius, Bruxellis, D. Petrus Neurat, Matriti, D. Nicolaus de Vitte, Rigae Livonorum, Medicinam quisque summa cum laude factitantes, ibi exposui, animique grati signifiquod exemplum si vel unus quicationem edidi, certe edere omnino volui. jam non modo, quod olim volui ac spiam fuisset in quaque natione imitatus, vovi, fuisset hoc πλεόνων δὲ τοι ἔργεν ἄμεινεν, sed absolutum, adeoque omnium benè de Arte Medica meritorum memoriâ, atque laude instructssimum, omnibusque suis numeris tantum non perfectum. Interea etiam haec editio non destituitur, quibus acceptum cùm supplementa, tum adjumenta referat quàm maxima. Et supplementa quidem habet ab Excellentissimo D. Guidone Patino, Doctore Medico Parisiensi ac Professore Reglo, Viro, supra quàm aut dici queat aut quis, nisi experiens credat, nato ad fovendum bonos & Artes bonas, ac mihi praeter modum & meritum Amico. Habet itidem ab Celeberrimo Viro, D. Iohanne van Horne, Medicinae Doctore & Anatomes ac Chirurgices Professore Eximio, Collegâ conjunctissimo. Habet ab Eruditissimo D. Carolo Offredo, Doctore Medico Patavino. Habet denique ab Experientissimo D. Gabriele Claudero, Doctore Medico Altenburgensi. Adjumenta vero ab Praestantissimis Medicinae Mystis D. Theodoro Colbio) Regiomontano, & D. Conrado van Hoeven, Bremensi. Quibus omnibus pro suo studio atque labore, quo Opus hoc tam liberaliter locupletare atque exornare sunt dignatis plurimum d'"
     },
     "execution_count": 115,
     "metadata": {},
     "output_type": "execute_result"
    }
   ],
   "source": [
    "cleantext[:10000]"
   ],
   "metadata": {
    "collapsed": false,
    "ExecuteTime": {
     "end_time": "2023-11-07T14:03:44.751997Z",
     "start_time": "2023-11-07T14:03:44.732197Z"
    }
   },
   "id": "6b66baf497b31c10"
  },
  {
   "cell_type": "code",
   "execution_count": 116,
   "outputs": [
    {
     "data": {
      "text/plain": "Georg Abraham Mercklini Lindenius Renovatus De Scriptis Medicis Lindenius Renqvatus, Ve S1 Johannis Antonidae van der Linden De Scria Iaumedicis Libridvo. Uorum Prior, Omnium, Tam C Veterum, quàm Recentiorum, Latino idiomate, typis unquam expressorum Scriptorum Medicorum, consummatissimum Catalogum continet; quo indicatur, quid singuli Authores scripserint: nec non ubi, quâ formâ, & quo tempore, omnes eorum Scriptorum Editiones excusae prostent: Posterior verò Cynosuram Medicam, sive, Rerum & Materiarum Indicem, omnium Titulorum vel Thematum Medicorum potiorum Communia Alphabetico hâcque novâ demum Editione primùm adornato ordine suis Lglicita comprehendentem exhibet, ut inquirenti, quicquid desideraverit, velut digito, in multiplicem usum, clarissimè monstretur: Noviter Praeter Haec Addita Plurimorum Authorum, quotquot nempe habere licuit, Vitae Curriculorum succinctâ Descriptione: Adscita undique ab exteris Medicis subsidiariâ ope, propriâque ultra decennium adhibitâ singulari operâ atque curâ à postremae Ed tionis Anne Mdc. Lxii. usque ad prasentem Continuati, dimidio penè amplificati, per plurimùm interpolati, & ab extantioribus mendis purgati à Georgio Abrahamo Mercklino, D. Reipubl. Norimberg. Domûsque Teutonic. ibidem Med. Ord. & Academic. Curios. dict. Chiron. Cum Gratia & Privilegio S. C. Majest. Ooabvv-ii Norimbergae, Impensis Johannis Georgii Endteri. Anno Christi M. Dc. Lxxxvi. Reverendissimo Serenissimo Principi Ac Domino, Domino Ic Ud Fonio Al Generali Militiae Hierosolymitanae Ordinis B. Mariae Teutonicorum, Prussiae Administratori, Ac Ejusdem Per Germaniam, Italiam, Partesque Transmarinas Supremo Magistro, Comiti Palatino Rheni, Bavariae; Juliae, Cliviae, Et Montium Duci, Comiti Veldentiae, Sponhemii, Marchiae, Ravenspergae, Et Morsae, Dynastae In Ravenstein, Freudenthal, Et Eulenberg &c. &c. Principi Et Domino Meo Clementissimo Vitam Et Felicitatem. iu. Reverendissime Ac Serenissime Rinceps, Domine, Domine Clementissime! On nova est, sed ab antiquissimis temporibus eundo ad nos quasi per traducem illa serpit consuetudo, quâ Librorum frontibus Magni Patroni, velut Tutela3 ris Numinis nomen praescribi solet. Hocque tantum abest, ut Ipsi etiam Imperatores, Reges, Electores, Principes, jam olim inclementer tulerint, ut potiùs id ausos haud rarò vultu respexerint serenissimo. ! Quo quidem honore quanquam me dignum aestimare nec velim, nec possim; tanto tamen confidentiùs, horum exemplis animatus, idem tentare vadum & ego conor; quantò notius est, Serenitatis T splendorem saepiùs infra augustale culmen ad vilia etiam radios diffundere. Quae virtus ut Incluti & Christiano orbe Celeberrimi Ordinis Teutonici Magistris Supremis propria & familiarissima est; ita, devolutâ quasi à Majoribus haereditate, Tipi, Serenissime Princeps! prorsus innata. Certè Serenitatis T. Gloriosissimus Antecessor, Johannes Casparus, piissimae memoriae, tantâ comitatis lenita er rur tells l rli Dedicatio. lenitatisque gratia arentem meum, non incelebremme. dicum, piè defunctum, nec minus me quoque immerentissimum dignatus est; ut, ni fatum votum invertisset, Ipsius Celsissimo Nomini idem dicare ausus fuissem quod jam nunc, Illo in coelum recepto, Meritissimo Successori sacrum esse & volo & debeo. Equidem parum aberat, quin à concepto consilio absterreri passus fuissem, veritus, ne inter strenuissima armorum officia, quae, Invictissimo Caesare jubente, induis, ad proletarias chartas parum sis animum attenturus. At enim verò compertum vicissim habetur, Te tantâ temperaturâ miscere negotia, ut & in ipsis castris publicae rei curam geras, & domi non minus, quò Aegide Pallas & Pallade Aegis tuta sit, de castris cogites, simillimus Homerico isti Pelidae, qui inter ipsa armalfides & citharam interposuit. Statui iccirco, quòd diu trepido deliberavi animo, & Reverendissimum Ordinis Caput hoc ipso, per gradus tentato ascensu, mihi propitiare molior; postquam Generosissimis aliquot Illius Membris meâ qualicunque Arte Medicâ hactenus aliquantùm innotescere mihi licuit. Suscipe igitur, Serenissime Princeps! serenâ fronte, quod humillimâ manu, flexoque genu, ad pedes Tuos depono, vile hocce Opus, ceu in aevum duraturum pignus submissis simae venerationis, fideique, cultus, atque aeterni obsequii: pio cum voto sociatum, quod inter con ) ( Dedicatio. congratulantium de felici regimine Applausorum multitudinem postremus quidem fortè, non tamen, det Deus, vanus, pro vitâ, salute & perenni incolumitate calido pectore fundo: Supremum insimul Numen devotissimâ mente venerans, ut, quemadmodum Excelsissimi Ordinis Teutonici clavum bono fato & optatis auspiciis ipso aetatis flore, quo, (majorum exemplo) aetatem Tuam antevertis, regere haud ita pridem coepisti; sic felix faustusque in feros superes annos, quò Eidem pari animi magnitudine, fortitudine & prudentiâ praeesse possis, quoad ipse perstabit, hoc est, usque ad illum diem, qui hoc hauriet universum, idque tantâ virium integritate, & prosperrimae valetudinis constantiâ, ut cum Hygeia in gratiam redire nunquam opus habeas; quod à tenui licèt Medico, bono tamen omine, fusum votum irritum ne sinat esse Deus. Serenitati T. hiliona Dirdoum Ix. Id. Martii M. Dc. Lxxxvi. devotissimus Georg. Abraham: Mercklinus, D. Reipubl. Norimberg. Domusque Teutonic. ibidem Medicus ord & Academ. Curios. dict. Chiron. Bol Oi E Benevolo Salutem Et Officia. Eqiie novi exempli Liber iste, neque paenitendi laboris, aut fructus contemnendi est. Exemplo fuere nobis (ut Veteres taceam, & πολυγράφοῳ Gesnerum, & qui praeterea per Somne genus Scriptorum sese è Recentioribus diffuderunt) Jothannes Georg. Schenkius, Israel Spachius, & Paschalis Gallus. & Vam hi serè soli meruere, quidquid hinc in re Medica laudis. C Cujus praeconem velle me, non praedonem esse, testatus sum hoc ipso olim Opere, & iterum iterumque testor. Quod cùm è paterna primum Bibliotheca privatim mihi conscriberem, animadverteremque in quantum numerum excrevissent Auctores, quorum monumenta nec viderant illi, nec vidisse poterant, coepi consilium, eandem his conciliandi lucem, quam prioribus alii. Quo autem majore id cum fructu efficerem, non putavi satis referre, quid quisque in Medicina ediderit, ubi, apud quem, quando, quâ formâ: sed expedire studiis promovendis, quam singuli materiam aut plures tractaverint, ostendi. Feci igitur altero Libro. In quo praemitto, quae ad Medicinam ac Medicum in genere: mox quae ad singulas partes: Theoretica semper primùm, inde Practica, ut usus est vocare, & distinguere. Est tamen, ubi altera in alteris requiras. Videtur id molestiae nonnihil habere, & potui vitare titulorum repetitione. Sed quid opus? cum è praecedente Libro & Librorum ibi inscriptionibus expedire se possit, quisquis in hoc haeret. Illius ordinem Abecedarium feci & plusquam obvium, ne vel Tyrones haercant. Quibus cum saepe praenomina sint incognita, ne & heic ipsis mora fiat, subjunxi illius è cognomine Indicem. Haec forma Operis. Cujus quàm me poenitere non debeat, videtur exemplarium; sat bono numero primâ, iterumque, & majore, secundâ vice editorum, distractio testari. Ea certe Typographum movit, ut, quamvis Reipubulicae cura, Senatu, Scabinatu, alia occupatissimus, noluerit tamen studio suo erga rem literariam deesse, neque quem carere Libro communi velut applausu totiens approbato. Ego verò, posteaquam vidi, laborem meum publico gratum, debus neque ingratus erga alios, neque in memetipsum ) Praefatio Lindenii. Plum murius esse. Hic suturius eram, si vrvus alteri facerem curam, augendi & supplendi hoc Opus. Ide, si non pari promptitudine ac propensione orbi successorum merita exponerem, quâ superiorum iam proposuissem. Quo animo cum sim non possum non aegre habere, etiam hac editione non paucos praetermitti, quos inseri vel nunc oportuit. Quamvis enim haud parvam continuò diligentiam adhibuerim, nequivi tamen omnium, quos desideravi, titulos nancisci, etiam in amplissimam urbem & celeberrimam Academiam interque medios atque instructissimos Bibliopolas translatus. Qua in re ron parum me mea spes sefellit. Neque tamen refert, caussas referre, quas aut scire puto aut ex facili posse, quotquot frequentare illos solent. Quamobrem denuo rogo Viros omnes doctos, & quos amplificandae rei Medicae tenet amor, ut haut gravate velint suo me auxilio & publica commoda adjuvare, ac significare, quaqua ratione, si quid, quod ad Artem nostram pertineat, mihi quidem, sed dolenti praeteritum, noverint in lucem exivisse. Secundam editionem quam luculentis tunc Catalogis, & quidem suapte sponte ad me transmissis auctum iverint Viri Clarissimi, D. Claudius Doresmieux, Insulis, D. Robert. Farvacius, Bruxellis, D. Petrus Neurat, Matriti, D. Nicolaus de Vitte, Rigae Livonorum, Medicinam quisque summa cum laude factitantes, ibi exposui, animique grati signifiquod exemplum si vel unus quicationem edidi, certe edere omnino volui. jam non modo, quod olim volui ac spiam fuisset in quaque natione imitatus, vovi, fuisset hoc πλεόνων δὲ τοι ἔργεν ἄμεινεν, sed absolutum, adeoque omnium benè de Arte Medica meritorum memoriâ, atque laude instructssimum, omnibusque suis numeris tantum non perfectum. Interea etiam haec editio non destituitur, quibus acceptum cùm supplementa, tum adjumenta referat quàm maxima. Et supplementa quidem habet ab Excellentissimo D. Guidone Patino, Doctore Medico Parisiensi ac Professore Reglo, Viro, supra quàm aut dici queat aut quis, nisi experiens credat, nato ad fovendum bonos & Artes bonas, ac mihi praeter modum & meritum Amico. Habet itidem ab Celeberrimo Viro, D. Iohanne van Horne, Medicinae Doctore & Anatomes ac Chirurgices Professore Eximio, Collegâ conjunctissimo. Habet ab Eruditissimo D. Carolo Offredo, Doctore Medico Patavino. Habet denique ab Experientissimo D. Gabriele Claudero, Doctore Medico Altenburgensi. Adjumenta vero ab Praestantissimis Medicinae Mystis D. Theodoro Colbio) Regiomontano, & D. Conrado van Hoeven, Bremensi. Quibus omnibus pro suo studio atque labore, quo Opus hoc tam liberaliter locupletare atque exornare sunt dignatis plurimum d"
     },
     "execution_count": 116,
     "metadata": {},
     "output_type": "execute_result"
    }
   ],
   "source": [
    "doc = nlp(cleantext[:10000])\n",
    "doc"
   ],
   "metadata": {
    "collapsed": false,
    "ExecuteTime": {
     "end_time": "2023-11-07T14:03:55.721139Z",
     "start_time": "2023-11-07T14:03:55.099121Z"
    }
   },
   "id": "506e2c0c66c267d9"
  },
  {
   "cell_type": "code",
   "execution_count": 120,
   "outputs": [
    {
     "name": "stdout",
     "output_type": "stream",
     "text": [
      "Georg PROPN\n",
      "Abraham PROPN\n",
      "Mercklinus PROPN\n",
      "Lindenius PROPN\n",
      "Renovatus PROPN\n",
      "De ADP\n",
      "Scriptis ADJ\n",
      "Medica NOUN\n",
      "Lindenius PROPN\n",
      "Renqvatus PROPN\n",
      ", PUNCT\n",
      "Ue PRON\n",
      "S1 ADV\n",
      "Johann PROPN\n",
      "Antonidae PROPN\n",
      "van PROPN\n",
      "der ADP\n",
      "Linden \n",
      "de ADP\n",
      "Scria PROPN\n",
      "Iaumedicus NOUN\n",
      "Libridvo PROPN\n",
      ". PUNCT\n",
      "Uorum NOUN\n",
      "Prior ADJ\n",
      ", PUNCT\n",
      "omnium ADJ\n",
      ", PUNCT\n",
      "tam ADV\n",
      "c PROPN\n",
      "Ueterum ADJ\n",
      ", PUNCT\n",
      "quàm NOUN\n",
      "Recentiorum ADJ\n",
      ", PUNCT\n",
      "Latinus PROPN\n",
      "idioma NOUN\n",
      ", PUNCT\n",
      "typum NOUN\n",
      "umquam ADV\n",
      "expressus VERB\n",
      "scriptorum NOUN\n",
      "Medicus NOUN\n",
      ", PUNCT\n",
      "consummatis ADJ\n",
      "Catalogus PROPN\n",
      "contineo VERB\n",
      "; PUNCT\n",
      "qui PRON\n",
      "indico VERB\n",
      ", PUNCT\n",
      "quis PRON\n",
      "singulus ADJ\n",
      "Author NOUN\n",
      "scripserint VERB\n",
      ": PUNCT\n",
      "nec CCONJ\n",
      "non PART\n",
      "ubi ADV\n",
      ", PUNCT\n",
      "quâ DET\n",
      "formâ NOUN\n",
      ", PUNCT\n",
      "& PUNCT\n",
      "qui PRON\n",
      "tempus NOUN\n",
      ", PUNCT\n",
      "omnis ADJ\n",
      "is PRON\n",
      "Scripti NOUN\n",
      "Editiones NOUN\n",
      "excusae VERB\n",
      "prosto VERB\n",
      ": PUNCT\n",
      "posterior ADJ\n",
      "uerò NOUN\n",
      "Cynosura PROPN\n",
      "Medicus ADJ\n",
      ", PUNCT\n",
      "siue CCONJ\n",
      ", PUNCT\n",
      "Re NOUN\n",
      "& PUNCT\n",
      "Materia NOUN\n",
      "Indix NOUN\n",
      ", PUNCT\n",
      "omnis ADJ\n",
      "Tituli NOUN\n",
      "uel CCONJ\n",
      "Themat PROPN\n",
      "Medicus NOUN\n",
      "potius ADJ\n",
      "Communia NOUN\n",
      "Alphabeticus ADJ\n",
      "hâc \n",
      "que CCONJ\n",
      "novâ VERB\n",
      "demum ADV\n",
      "Editio NOUN\n",
      "primùm ADJ\n",
      "adorno VERB\n",
      "ordo NOUN\n",
      "suus ADJ\n",
      "Lglicita NOUN\n",
      "comprehendo VERB\n",
      "exhibeo VERB\n",
      ", PUNCT\n",
      "ut SCONJ\n",
      "inquiro VERB\n",
      ", PUNCT\n",
      "quisquis PRON\n",
      "desideravero VERB\n",
      ", PUNCT\n",
      "uelut ADV\n",
      "digitus NOUN\n",
      ", PUNCT\n",
      "in ADP\n",
      "multiplex ADJ\n",
      "usus NOUN\n",
      ", PUNCT\n",
      "clarissimè ADJ\n",
      "monstro VERB\n",
      ": PUNCT\n",
      "Noviter ADV\n",
      "Praeter ADP\n",
      "hic DET\n",
      "Addo NOUN\n",
      "Plurimorum ADJ\n",
      "Authorum NOUN\n",
      ", PUNCT\n",
      "quotquot ADV\n",
      "nempe PART\n",
      "habeo VERB\n",
      "licet VERB\n",
      ", PUNCT\n",
      "Vitae PROPN\n",
      "Curriculorum NOUN\n",
      "succinctâ ADJ\n",
      "Descriptio NOUN\n",
      ": PUNCT\n",
      "Adscita VERB\n",
      "undique ADV\n",
      "ab ADP\n",
      "exterus ADJ\n",
      "Medicae NOUN\n",
      "subsidiariâ NOUN\n",
      "opes NOUN\n",
      ", PUNCT\n",
      "propriâs \n",
      "qui PRON\n",
      "ultra ADP\n",
      "decennium NOUN\n",
      "adhibitâ VERB\n",
      "singularis ADJ\n",
      "operâ VERB\n",
      "atque CCONJ\n",
      "curâ VERB\n",
      "à PROPN\n",
      "postremus ADJ\n",
      "Ed NUM\n",
      "tio NOUN\n",
      "Anne PROPN\n",
      "Mdc PROPN\n",
      ". PUNCT\n",
      "Lxii ADV\n",
      ". PUNCT\n",
      "usque ADV\n",
      "ad ADP\n",
      "prasens NOUN\n",
      "Continuati PROPN\n",
      ", PUNCT\n",
      "dimidium ADJ\n",
      "penè ADJ\n",
      "amplifico VERB\n",
      ", PUNCT\n",
      "per ADP\n",
      "plurimùm ADV\n",
      "interpolo VERB\n",
      ", PUNCT\n",
      "& PUNCT\n",
      "ab ADP\n",
      "extantus ADJ\n",
      "mendus NOUN\n",
      "purgo VERB\n",
      "à PROPN\n",
      "Georgius PROPN\n",
      "Abrahamus PROPN\n",
      "Mercklinus PROPN\n",
      ", PUNCT\n",
      "D. PROPN\n",
      "Reipubl PROPN\n",
      ". PUNCT\n",
      "Norimberg NOUN\n",
      ". PUNCT\n",
      "Domûs NOUN\n",
      "que CCONJ\n",
      "Teutonic ADJ\n",
      ". PUNCT\n",
      "ibidem ADV\n",
      "Med. PROPN\n",
      "Oard.s VERB\n",
      "& PUNCT\n",
      "academic VERB\n",
      ". PUNCT\n",
      "Curii NOUN\n",
      ". PUNCT\n",
      "dict VERB\n",
      ". PUNCT\n",
      "Chiron PROPN\n",
      ". PUNCT\n",
      "cum SCONJ\n",
      "Gratia NOUN\n",
      "& PUNCT\n",
      "Privilegium NOUN\n",
      "S. \n",
      "C.arcus PROPN\n",
      "Majest PROPN\n",
      ". PUNCT\n",
      "Ooabvv NUM\n",
      "- PUNCT\n",
      "is NUM\n",
      "Norimbergaa PROPN\n",
      ", PUNCT\n",
      "impensis NOUN\n",
      "Johann PROPN\n",
      "Georgius PROPN\n",
      "Endteri PROPN\n",
      ". PUNCT\n",
      "Annus NOUN\n",
      "Christus PROPN\n",
      "M. PROPN\n",
      "Dc ADV\n",
      ". PUNCT\n",
      "Lxxxvi PROPN\n",
      ". PUNCT\n",
      "Reverendissimus ADJ\n",
      "Serenissimus ADJ\n",
      "Principi NOUN\n",
      "atque CCONJ\n",
      "dominus NOUN\n",
      ", PUNCT\n",
      "dominus NOUN\n",
      "Ic PROPN\n",
      "Ud ADV\n",
      "Fonius PROPN\n",
      "Al NOUN\n",
      "General ADJ\n",
      "Militia NOUN\n",
      "Hierosolymitanus ADJ\n",
      "Ordo NOUN\n",
      "B. NOUN\n",
      "Maria PROPN\n",
      "Teutonicus ADJ\n",
      ", PUNCT\n",
      "Prussia PROPN\n",
      "Administratori PROPN\n",
      ", PUNCT\n",
      "atque CCONJ\n",
      "Ejusdem PROPN\n",
      "Per ADP\n",
      "Germania PROPN\n",
      ", PUNCT\n",
      "Italia PROPN\n",
      ", PUNCT\n",
      "Partes NOUN\n",
      "que CCONJ\n",
      "Transmarinas PROPN\n",
      "Supremo ADJ\n",
      "Magister NOUN\n",
      ", PUNCT\n",
      "Comiti PROPN\n",
      "Palatinus PROPN\n",
      "Rhenus PROPN\n",
      ", PUNCT\n",
      "Bavariae PROPN\n",
      "; PUNCT\n",
      "Julia PROPN\n",
      ", PUNCT\n",
      "Clivia PROPN\n",
      ", PUNCT\n",
      "et CCONJ\n",
      "Montium NOUN\n",
      "Duci NOUN\n",
      ", PUNCT\n",
      "Comiti PROPN\n",
      "Veldentiaa NOUN\n",
      ", PUNCT\n",
      "Sponhemii PROPN\n",
      ", PUNCT\n",
      "Marchia PROPN\n",
      ", PUNCT\n",
      "Ravenspergae PROPN\n",
      ", PUNCT\n",
      "et CCONJ\n",
      "morsae NOUN\n",
      ", PUNCT\n",
      "dynastae PROPN\n",
      "in ADP\n",
      "Ravenstein PROPN\n",
      ", PUNCT\n",
      "Freudenthal PROPN\n",
      ", PUNCT\n",
      "et CCONJ\n",
      "Eulenbergs PROPN\n",
      "& PUNCT\n",
      "c. ADV\n",
      "& PUNCT\n",
      "c. ADV\n",
      "Principi NOUN\n",
      "et CCONJ\n",
      "dominus NOUN\n",
      "Meus ADJ\n",
      "Clementissimo PROPN\n",
      "Vita NOUN\n",
      "et CCONJ\n",
      "Felicitatem NOUN\n",
      ". PUNCT\n",
      "iu NUM\n",
      ". PUNCT\n",
      "Reverendissime ADV\n",
      "atque CCONJ\n",
      "serenissime ADV\n",
      "Rinceps PROPN\n",
      ", PUNCT\n",
      "dominus NOUN\n",
      ", PUNCT\n",
      "dominus NOUN\n",
      "Clementissimus PROPN\n",
      "! PUNCT\n",
      "on PART\n",
      "nouus ADJ\n",
      "sum AUX\n",
      ", PUNCT\n",
      "sed CCONJ\n",
      "ab ADP\n",
      "antiquus ADJ\n",
      "tempus NOUN\n",
      "eundo VERB\n",
      "ad ADP\n",
      "nos PRON\n",
      "quasi ADV\n",
      "per ADP\n",
      "tradux NOUN\n",
      "ille DET\n",
      "serpo VERB\n",
      "consuetudo NOUN\n",
      ", PUNCT\n",
      "quâ ADV\n",
      "Libri NOUN\n",
      "frons NOUN\n",
      "magnus ADJ\n",
      "Patrus PROPN\n",
      ", PUNCT\n",
      "uelut SCONJ\n",
      "Tutela3 NOUN\n",
      "res NOUN\n",
      "Numen PROPN\n",
      "nomen NOUN\n",
      "praescribi VERB\n",
      "soleo VERB\n",
      ". PUNCT\n",
      "hic DET\n",
      "que CCONJ\n",
      "tantum ADV\n",
      "absum VERB\n",
      ", PUNCT\n",
      "ut SCONJ\n",
      "ipse DET\n",
      "etiam ADV\n",
      "Imperatores NOUN\n",
      ", PUNCT\n",
      "Reges NOUN\n",
      ", PUNCT\n",
      "Electores NOUN\n",
      ", PUNCT\n",
      "Principes PROPN\n",
      ", PUNCT\n",
      "jam ADV\n",
      "olim ADV\n",
      "inclementer ADV\n",
      "tulerint VERB\n",
      ", PUNCT\n",
      "ut SCONJ\n",
      "potiùs ADJ\n",
      "is PRON\n",
      "ausos VERB\n",
      "haud PART\n",
      "rarò NOUN\n",
      "uultus NOUN\n",
      "respexerint VERB\n",
      "serenus ADJ\n",
      ". PUNCT\n",
      "! PUNCT\n",
      "qui PRON\n",
      "quidem ADV\n",
      "honor NOUN\n",
      "quamquam SCONJ\n",
      "ego PRON\n",
      "dignus ADJ\n",
      "aestimo VERB\n",
      "neque CCONJ\n",
      "uolo VERB\n",
      ", PUNCT\n",
      "nec CCONJ\n",
      "possum VERB\n",
      "; PUNCT\n",
      "tanto ADV\n",
      "tamen ADV\n",
      "confidentiùs VERB\n",
      ", PUNCT\n",
      "hic DET\n",
      "exemplum NOUN\n",
      "animo VERB\n",
      ", PUNCT\n",
      "idem DET\n",
      "tento VERB\n",
      "uadus NOUN\n",
      "& PUNCT\n",
      "ego PRON\n",
      "conor VERB\n",
      "; PUNCT\n",
      "quantò ADV\n",
      "notus ADJ\n",
      "sum AUX\n",
      ", PUNCT\n",
      "Serenitas NOUN\n",
      "Tuintus PROPN\n",
      "splendor NOUN\n",
      "saepiùs ADV\n",
      "infra ADP\n",
      "augustalis NOUN\n",
      "culmen NOUN\n",
      "ad ADP\n",
      "uilium NOUN\n",
      "etiam ADV\n",
      "radius NOUN\n",
      "diffundo VERB\n",
      ". PUNCT\n",
      "qui PRON\n",
      "uirtus NOUN\n",
      "ut ADV\n",
      "Incluti PROPN\n",
      "& PUNCT\n",
      "Christianus ADJ\n",
      "orbis NOUN\n",
      "Celeberrimi PROPN\n",
      "Ordo NOUN\n",
      "Teutonicus ADJ\n",
      "Magistrus NOUN\n",
      "Supremis ADJ\n",
      "proprius ADJ\n",
      "& PUNCT\n",
      "familiarus ADJ\n",
      "sum AUX\n",
      "; PUNCT\n",
      "ita ADV\n",
      ", PUNCT\n",
      "devolutâ ADP\n",
      "quasi ADV\n",
      "à CCONJ\n",
      "Majoribus ADJ\n",
      "haereditas NOUN\n",
      ", PUNCT\n",
      "Tipi PROPN\n",
      ", PUNCT\n",
      "serenissime PROPN\n",
      "princeps NOUN\n",
      "! PUNCT\n",
      "prorsus ADV\n",
      "innatus ADJ\n",
      ". PUNCT\n",
      "Certè ADJ\n",
      "Serenitas NOUN\n",
      "T. PROPN\n",
      "Gloriosissimus PROPN\n",
      "antecessor PROPN\n",
      ", PUNCT\n",
      "Johannes PROPN\n",
      "Casparus PROPN\n",
      ", PUNCT\n",
      "piissimus ADJ\n",
      "memoria NOUN\n",
      ", PUNCT\n",
      "tantâ ADJ\n",
      "comitas NOUN\n",
      "lenito ADJ\n",
      "er ADP\n",
      "rurs NOUN\n",
      "tells NOUN\n",
      "l NUM\n",
      "rli X\n",
      "Dedicatio NOUN\n",
      ". PUNCT\n",
      "lenitas NOUN\n",
      "que CCONJ\n",
      "gratia NOUN\n",
      "aror VERB\n",
      "meus ADJ\n",
      ", PUNCT\n",
      "non PART\n",
      "incelebremme VERB\n",
      ". PUNCT\n",
      "dicus VERB\n",
      ", PUNCT\n",
      "piè VERB\n",
      "defunco VERB\n",
      ", PUNCT\n",
      "neque CCONJ\n",
      "paruus ADV\n",
      "ego PRON\n",
      "quoque ADV\n",
      "immerentus ADJ\n",
      "dignor VERB\n",
      "sum AUX\n",
      "; PUNCT\n",
      "ut SCONJ\n",
      ", PUNCT\n",
      "ni SCONJ\n",
      "fatum NOUN\n",
      "uotum NOUN\n",
      "invertisset VERB\n",
      ", PUNCT\n",
      "ipse PRON\n",
      "Celsissimus ADJ\n",
      "Nominus NOUN\n",
      "idem DET\n",
      "dico VERB\n",
      "audeo VERB\n",
      "sum AUX\n",
      "quod SCONJ\n",
      "jam ADV\n",
      "nunc ADV\n",
      ", PUNCT\n",
      "ille DET\n",
      "in ADP\n",
      "coelus NOUN\n",
      "recipio VERB\n",
      ", PUNCT\n",
      "meritissimus ADJ\n",
      "Successor NOUN\n",
      "sacer ADJ\n",
      "sum AUX\n",
      "& PUNCT\n",
      "uolo VERB\n",
      "& PUNCT\n",
      "debeo VERB\n",
      ". PUNCT\n",
      "equidem ADV\n",
      "parum ADV\n",
      "absum VERB\n",
      ", PUNCT\n",
      "quin SCONJ\n",
      "à NOUN\n",
      "concipio VERB\n",
      "consilium NOUN\n",
      "absterreo VERB\n",
      "passus VERB\n",
      "sum AUX\n",
      ", PUNCT\n",
      "uereor VERB\n",
      ", PUNCT\n",
      "ne PART\n",
      "inter ADP\n",
      "strenuus ADJ\n",
      "armum NOUN\n",
      "officium NOUN\n",
      ", PUNCT\n",
      "qui PRON\n",
      ", PUNCT\n",
      "Invictissimo ADJ\n",
      "Caesar PROPN\n",
      "jubo VERB\n",
      ", PUNCT\n",
      "induo VERB\n",
      ", PUNCT\n",
      "ad ADP\n",
      "proletarius ADJ\n",
      "charta NOUN\n",
      "parum ADV\n",
      "sum AUX\n",
      "animus NOUN\n",
      "attenturus VERB\n",
      ". PUNCT\n",
      "at ADV\n",
      "enim ADV\n",
      "uerò NOUN\n",
      "comperio VERB\n",
      "uicissim ADV\n",
      "habeo VERB\n",
      ", PUNCT\n",
      "tu PRON\n",
      "tantâ DET\n",
      "temperaturâs ADJ\n",
      "misceo VERB\n",
      "negotium NOUN\n",
      ", PUNCT\n",
      "ut SCONJ\n",
      "& PUNCT\n",
      "in ADP\n",
      "ipse DET\n",
      "castra NOUN\n",
      "publicus \n",
      "res NOUN\n",
      "cura NOUN\n",
      "gero VERB\n",
      ", PUNCT\n",
      "& PUNCT\n",
      "domi ADV\n",
      "non PART\n",
      "paruus ADV\n",
      ", PUNCT\n",
      "quò CCONJ\n",
      "aegide PROPN\n",
      "Pallas NOUN\n",
      "& PUNCT\n",
      "Pallade PROPN\n",
      "Aex PROPN\n",
      "tutus ADJ\n",
      "sum AUX\n",
      ", PUNCT\n",
      "de ADP\n",
      "castra NOUN\n",
      "cogito VERB\n",
      ", PUNCT\n",
      "simillimus ADJ\n",
      "Homericus PROPN\n",
      "iste DET\n",
      "Pelidae PROPN\n",
      ", PUNCT\n",
      "qui PRON\n",
      "inter ADP\n",
      "ipse DET\n",
      "armalfides NOUN\n",
      "& PUNCT\n",
      "cithara NOUN\n",
      "interposeo VERB\n",
      ". PUNCT\n",
      "Statui NOUN\n",
      "iccirco ADV\n",
      ", PUNCT\n",
      "quòd NOUN\n",
      "diu ADV\n",
      "trepidus ADV\n",
      "delibero VERB\n",
      "animus NOUN\n",
      ", PUNCT\n",
      "& PUNCT\n",
      "Reverendissimus ADJ\n",
      "Ordo NOUN\n",
      "Caput NOUN\n",
      "hic DET\n",
      "ipse DET\n",
      ", PUNCT\n",
      "per ADP\n",
      "gradus NOUN\n",
      "tento VERB\n",
      "ascensus NOUN\n",
      ", PUNCT\n",
      "ego PRON\n",
      "propitio VERB\n",
      "molis VERB\n",
      "; PUNCT\n",
      "postquam SCONJ\n",
      "Generosissimis PROPN\n",
      "aliquot DET\n",
      "Ille DET\n",
      "Membrum NOUN\n",
      "meâ ADV\n",
      "qualicun ADV\n",
      "que ADJ\n",
      "Ars NOUN\n",
      "Medicâ NOUN\n",
      "hactenus ADV\n",
      "aliquantùm ADV\n",
      "innotesco VERB\n",
      "ego PRON\n",
      "licet VERB\n",
      ". PUNCT\n",
      "Suscipio VERB\n",
      "igitur ADV\n",
      ", PUNCT\n",
      "serenissime PROPN\n",
      "princeps NOUN\n",
      "! PUNCT\n",
      "hserenâ VERB\n",
      "frons NOUN\n",
      ", PUNCT\n",
      "quod SCONJ\n",
      "humillimâ ADJ\n",
      "manus NOUN\n",
      ", PUNCT\n",
      "flexum ADJ\n",
      "que CCONJ\n",
      "genu NOUN\n",
      ", PUNCT\n",
      "ad ADP\n",
      "pes NOUN\n",
      "Tuus ADJ\n",
      "depono VERB\n",
      ", PUNCT\n",
      "uilis ADJ\n",
      "hocce DET\n",
      "opus NOUN\n",
      ", PUNCT\n",
      "ceu ADV\n",
      "in ADP\n",
      "aevum NOUN\n",
      "duro VERB\n",
      "pignus NOUN\n",
      "submitto VERB\n",
      "sima ADJ\n",
      "veneratio NOUN\n",
      ", PUNCT\n",
      "fides NOUN\n",
      "que NOUN\n",
      ", PUNCT\n",
      "cultus NOUN\n",
      ", PUNCT\n",
      "atque CCONJ\n",
      "aeternus ADJ\n",
      "obsequium NOUN\n",
      ": PUNCT\n",
      "pio VERB\n",
      "cum ADP\n",
      "votum NOUN\n",
      "socio VERB\n",
      ", PUNCT\n",
      "qui PRON\n",
      "inter ADP\n",
      "con ADP\n",
      ") PUNCT\n",
      "( PUNCT\n",
      "Dedicatio NOUN\n",
      ". PUNCT\n",
      "congratulantium ADJ\n",
      "de ADP\n",
      "felicis ADJ\n",
      "regimen NOUN\n",
      "Applausorum NOUN\n",
      "multitudo NOUN\n",
      "postremus VERB\n",
      "quidem ADV\n",
      "fortè NOUN\n",
      ", PUNCT\n",
      "non PART\n",
      "tamen ADV\n",
      ", PUNCT\n",
      "do VERB\n",
      "deus NOUN\n",
      ", PUNCT\n",
      "uanus ADJ\n",
      ", PUNCT\n",
      "pro ADP\n",
      "uitâ NOUN\n",
      ", PUNCT\n",
      "salus NOUN\n",
      "& PUNCT\n",
      "perenni ADJ\n",
      "incolumitas NOUN\n",
      "calidus ADJ\n",
      "pectus NOUN\n",
      "fundus ADJ\n",
      ": PUNCT\n",
      "supremum NOUN\n",
      "insimul ADV\n",
      "Numen NOUN\n",
      "devotissimâ ADJ\n",
      "mens NOUN\n",
      "uenero VERB\n",
      ", PUNCT\n",
      "ut SCONJ\n",
      ", PUNCT\n",
      "quemadmodum ADV\n",
      "Excelsissimus ADJ\n",
      "Ordo NOUN\n",
      "Teutonicus ADJ\n",
      "clauus NOUN\n",
      "bonum NOUN\n",
      "fatum NOUN\n",
      "& PUNCT\n",
      "optatus ADJ\n",
      "auspicia NOUN\n",
      "ipse DET\n",
      "aetas NOUN\n",
      "flur NOUN\n",
      ", PUNCT\n",
      "qui PRON\n",
      ", PUNCT\n",
      "( PUNCT\n",
      "majus ADJ\n",
      "exemplum NOUN\n",
      ") PUNCT\n",
      "aetas NOUN\n",
      "Tuus ADJ\n",
      "antevertis VERB\n",
      ", PUNCT\n",
      "rego VERB\n",
      "haud PART\n",
      "ita ADV\n",
      "pridem ADV\n",
      "coepisti VERB\n",
      "; PUNCT\n",
      "sic ADV\n",
      "felix ADJ\n",
      "faustus ADJ\n",
      "que CCONJ\n",
      "in ADP\n",
      "ferus ADJ\n",
      "superis ADJ\n",
      "annus NOUN\n",
      ", PUNCT\n",
      "quò PRON\n",
      "eidem DET\n",
      "par ADJ\n",
      "animus NOUN\n",
      "magnitudo NOUN\n",
      ", PUNCT\n",
      "fortitudo NOUN\n",
      "& PUNCT\n",
      "prudentiâ VERB\n",
      "praesum VERB\n",
      "possum VERB\n",
      ", PUNCT\n",
      "quoad SCONJ\n",
      "ipse DET\n",
      "persto VERB\n",
      ", PUNCT\n",
      "hic DET\n",
      "sum AUX\n",
      ", PUNCT\n",
      "usque ADP\n",
      "ad ADP\n",
      "ille DET\n",
      "dies NOUN\n",
      ", PUNCT\n",
      "qui PRON\n",
      "hic DET\n",
      "haurio VERB\n",
      "uniuersus ADJ\n",
      ", PUNCT\n",
      "is PRON\n",
      "que CCONJ\n",
      "tantâ DET\n",
      "uis NOUN\n",
      "integritas NOUN\n",
      ", PUNCT\n",
      "& PUNCT\n",
      "prosperrimae ADJ\n",
      "valetudi NOUN\n",
      "constantiâ ADV\n",
      ", PUNCT\n",
      "ut SCONJ\n",
      "cum SCONJ\n",
      "Hygeia ADJ\n",
      "in ADP\n",
      "gratia NOUN\n",
      "redeo VERB\n",
      "numquam ADV\n",
      "opus NOUN\n",
      "habeo VERB\n",
      "; PUNCT\n",
      "qui PRON\n",
      "à NOUN\n",
      "tenuo ADJ\n",
      "liacèt NOUN\n",
      "Medicus PROPN\n",
      ", PUNCT\n",
      "bonum NOUN\n",
      "tamen ADV\n",
      "homo NOUN\n",
      ", PUNCT\n",
      "fundo VERB\n",
      "uotum NOUN\n",
      "irritus ADJ\n",
      "ne PART\n",
      "sino VERB\n",
      "sum AUX\n",
      "deus NOUN\n",
      ". PUNCT\n",
      "Serenitas NOUN\n",
      "T. NUM\n",
      "hiliona ADJ\n",
      "Dirdoum PROPN\n",
      "Ix ADP\n",
      ". PUNCT\n",
      "Id. ADV\n",
      "Martius PROPN\n",
      "M. PROPN\n",
      "Dc ADP\n",
      ". PUNCT\n",
      "Lxxxvi PROPN\n",
      ". PUNCT\n",
      "devotissimus ADJ\n",
      "Georg PROPN\n",
      ". PUNCT\n",
      "Abraham PROPN\n",
      ": PUNCT\n",
      "mercklinus PROPN\n",
      ", PUNCT\n",
      "D. PROPN\n",
      "Reipubl PROPN\n",
      ". PUNCT\n",
      "Norimberg NOUN\n",
      ". PUNCT\n",
      "Domus NOUN\n",
      "qui PRON\n",
      "Teutonic ADJ\n",
      ". PUNCT\n",
      "ibidem ADV\n",
      "Medicus PROPN\n",
      "ord PART\n",
      "& PUNCT\n",
      "Academ ADV\n",
      ". PUNCT\n",
      "Curii NOUN\n",
      ". PUNCT\n",
      "dict VERB\n",
      ". PUNCT\n",
      "Chiron PROPN\n",
      ". PUNCT\n",
      "Bol NOUN\n",
      "oi NOUN\n",
      "e DET\n",
      "Benevolo NOUN\n",
      "Salutem NOUN\n",
      "et CCONJ\n",
      "Officia NOUN\n",
      ". PUNCT\n",
      "Eqiie ADV\n",
      "nouus ADJ\n",
      "euxemplus NOUN\n",
      "Liber NOUN\n",
      "iste DET\n",
      ", PUNCT\n",
      "neque CCONJ\n",
      "paenitendo VERB\n",
      "labor NOUN\n",
      ", PUNCT\n",
      "aut CCONJ\n",
      "fructus NOUN\n",
      "contemno VERB\n",
      "sum AUX\n",
      ". PUNCT\n",
      "Exemplum NOUN\n",
      "sum AUX\n",
      "nos PRON\n",
      "( PUNCT\n",
      "ut SCONJ\n",
      "Veteres ADJ\n",
      "taceo VERB\n",
      ", PUNCT\n",
      "& PUNCT\n",
      "πολυγράφοῳ X\n",
      "Gesnerum PROPN\n",
      ", PUNCT\n",
      "& PUNCT\n",
      "qui PRON\n",
      "praeterea ADV\n",
      "per ADP\n",
      "Somnis ADJ\n",
      "genus NOUN\n",
      "Scripti NOUN\n",
      "se PRON\n",
      "èb ADP\n",
      "Recentioribus ADJ\n",
      "diffundo VERB\n",
      ") PUNCT\n",
      "Jothannes PROPN\n",
      "Georg PROPN\n",
      ". PUNCT\n",
      "Schenkius PROPN\n",
      ", PUNCT\n",
      "israel PROPN\n",
      "Spachius PROPN\n",
      ", PUNCT\n",
      "& PUNCT\n",
      "Paschalis ADJ\n",
      "Gallus NOUN\n",
      ". PUNCT\n",
      "& PUNCT\n",
      "Vam DET\n",
      "hic DET\n",
      "serè NOUN\n",
      "solus ADJ\n",
      "meruo VERB\n",
      ", PUNCT\n",
      "quisquis PRON\n",
      "hinc ADV\n",
      "in ADP\n",
      "res NOUN\n",
      "Medica ADJ\n",
      "laus NOUN\n",
      ". PUNCT\n",
      "C NOUN\n",
      "cuius DET\n",
      "praeco NOUN\n",
      "uolo VERB\n",
      "ego PRON\n",
      ", PUNCT\n",
      "non PART\n",
      "praedo NOUN\n",
      "sum AUX\n",
      ", PUNCT\n",
      "testo VERB\n",
      "sum AUX\n",
      "hic DET\n",
      "ipse DET\n",
      "olim ADV\n",
      "Opus NOUN\n",
      ", PUNCT\n",
      "& PUNCT\n",
      "iterum ADV\n",
      "iterum ADV\n",
      "que CCONJ\n",
      "testor VERB\n",
      ". PUNCT\n",
      "quod SCONJ\n",
      "cùm NOUN\n",
      "èb ADP\n",
      "paternus ADJ\n",
      "primum ADV\n",
      "Bibliotheca PROPN\n",
      "priuatim ADV\n",
      "ego PRON\n",
      "conscribeo VERB\n",
      ", PUNCT\n",
      "animadverterem VERB\n",
      "que CCONJ\n",
      "in ADP\n",
      "quantum ADJ\n",
      "numerus NOUN\n",
      "excrevissent VERB\n",
      "Auctores NOUN\n",
      ", PUNCT\n",
      "qui PRON\n",
      "monumentum NOUN\n",
      "neque CCONJ\n",
      "uideo VERB\n",
      "ille DET\n",
      ", PUNCT\n",
      "neque CCONJ\n",
      "uideo VERB\n",
      "possum VERB\n",
      ", PUNCT\n",
      "coepi VERB\n",
      "consilium NOUN\n",
      ", PUNCT\n",
      "idem DET\n",
      "hic DET\n",
      "concilio VERB\n",
      "lux NOUN\n",
      ", PUNCT\n",
      "quam ADV\n",
      "prior ADJ\n",
      "alius DET\n",
      ". PUNCT\n",
      "qui PRON\n",
      "autem ADV\n",
      "majore ADJ\n",
      "is PRON\n",
      "cum ADP\n",
      "fructus NOUN\n",
      "efficeo VERB\n",
      ", PUNCT\n",
      "non PART\n",
      "puto VERB\n",
      "satis ADV\n",
      "refero VERB\n",
      ", PUNCT\n",
      "quis PRON\n",
      "quisque PRON\n",
      "in ADP\n",
      "Medicina PROPN\n",
      "ediderit VERB\n",
      ", PUNCT\n",
      "ubi ADV\n",
      ", PUNCT\n",
      "apud ADP\n",
      "qui PRON\n",
      ", PUNCT\n",
      "quando SCONJ\n",
      ", PUNCT\n",
      "quâ DET\n",
      "formâ NOUN\n",
      ": PUNCT\n",
      "sed CCONJ\n",
      "expedio VERB\n",
      "studium NOUN\n",
      "promovo VERB\n",
      ", PUNCT\n",
      "quam SCONJ\n",
      "singulus ADJ\n",
      "materia NOUN\n",
      "aut CCONJ\n",
      "multus ADJ\n",
      "tractaverint VERB\n",
      ", PUNCT\n",
      "ostendo VERB\n",
      ". PUNCT\n",
      "Feci VERB\n",
      "igitur PART\n",
      "alter ADJ\n",
      "Liber NOUN\n",
      ". PUNCT\n",
      "in ADP\n",
      "qui PRON\n",
      "praemitto VERB\n",
      ", PUNCT\n",
      "qui PRON\n",
      "ad ADP\n",
      "Medicina PROPN\n",
      "atque CCONJ\n",
      "Medicus NOUN\n",
      "in ADP\n",
      "genus NOUN\n",
      ": PUNCT\n",
      "mox ADV\n",
      "qui PRON\n",
      "ad ADP\n",
      "singulus ADJ\n",
      "pars NOUN\n",
      ": PUNCT\n",
      "theoretica ADJ\n",
      "semper ADV\n",
      "primùm ADV\n",
      ", PUNCT\n",
      "inde ADV\n",
      "Practicus ADJ\n",
      ", PUNCT\n",
      "ut SCONJ\n",
      "usus NOUN\n",
      "sum AUX\n",
      "uoco VERB\n",
      ", PUNCT\n",
      "& PUNCT\n",
      "distinguo VERB\n",
      ". PUNCT\n",
      "sum AUX\n",
      "tamen ADV\n",
      ", PUNCT\n",
      "ubi SCONJ\n",
      "alter ADJ\n",
      "in ADP\n",
      "alter ADJ\n",
      "requiro VERB\n",
      ". PUNCT\n",
      "Videtur VERB\n",
      "is PRON\n",
      "molestia NOUN\n",
      "nonnihil NOUN\n",
      "habeo VERB\n",
      ", PUNCT\n",
      "& PUNCT\n",
      "possum VERB\n",
      "uito VERB\n",
      "titulum NOUN\n",
      "repetitio NOUN\n",
      ". PUNCT\n",
      "sed CCONJ\n",
      "quis PRON\n",
      "opus NOUN\n",
      "? PUNCT\n",
      "cum SCONJ\n",
      "è PRON\n",
      "praecedo VERB\n",
      "Liber NOUN\n",
      "& PUNCT\n",
      "Librorum NOUN\n",
      "ubi ADV\n",
      "inscriptio NOUN\n",
      "expedio VERB\n",
      "se PRON\n",
      "possum VERB\n",
      ", PUNCT\n",
      "quisquis PRON\n",
      "in ADP\n",
      "hic DET\n",
      "haereo VERB\n",
      ". PUNCT\n",
      "ille DET\n",
      "ordo NOUN\n",
      "Abecedarius PROPN\n",
      "facio VERB\n",
      "& PUNCT\n",
      "plusquam ADV\n",
      "obvius ADJ\n",
      ", PUNCT\n",
      "ne PART\n",
      "uel CCONJ\n",
      "Tyrones NOUN\n",
      "haerco VERB\n",
      ". PUNCT\n",
      "qui PRON\n",
      "cum SCONJ\n",
      "saepe ADV\n",
      "praenominum NOUN\n",
      "sum AUX\n",
      "incognitus ADJ\n",
      ", PUNCT\n",
      "ne PART\n",
      "& PUNCT\n",
      "heic ADV\n",
      "ipse DET\n",
      "mora NOUN\n",
      "facio VERB\n",
      ", PUNCT\n",
      "subjungo VERB\n",
      "ille DET\n",
      "èb INTJ\n",
      "cognomen NOUN\n",
      "Indix NOUN\n",
      ". PUNCT\n",
      "hic DET\n",
      "forma NOUN\n",
      "Operis NOUN\n",
      ". PUNCT\n",
      "quj PRON\n",
      "quàm VERB\n",
      "ego PRON\n",
      "paeniteo VERB\n",
      "non PART\n",
      "debeo VERB\n",
      ", PUNCT\n",
      "uideo VERB\n",
      "exemplarium NOUN\n",
      "; PUNCT\n",
      "sat ADJ\n",
      "bonus ADJ\n",
      "numerus NOUN\n",
      "primâ ADJ\n",
      ", PUNCT\n",
      "iterum ADV\n",
      "que CCONJ\n",
      ", PUNCT\n",
      "& PUNCT\n",
      "majore ADV\n",
      ", PUNCT\n",
      "secundâ ADJ\n",
      "uicis NOUN\n",
      "editor NOUN\n",
      ", PUNCT\n",
      "distractio NOUN\n",
      "testor VERB\n",
      ". PUNCT\n",
      "is DET\n",
      "certe ADV\n",
      "Typographus PROPN\n",
      "mosco VERB\n",
      ", PUNCT\n",
      "ut SCONJ\n",
      ", PUNCT\n",
      "quamuis SCONJ\n",
      "Reipubulica NOUN\n",
      "cura NOUN\n",
      ", PUNCT\n",
      "Senatu PROPN\n",
      ", PUNCT\n",
      "Scabinatus PROPN\n",
      ", PUNCT\n",
      "alius DET\n",
      "occupatissimus ADJ\n",
      ", PUNCT\n",
      "nolo VERB\n",
      "tamen ADV\n",
      "studium NOUN\n",
      "suus ADJ\n",
      "erga ADP\n",
      "res NOUN\n",
      "literarius ADJ\n",
      "desum VERB\n",
      ", PUNCT\n",
      "neque CCONJ\n",
      "qui PRON\n",
      "careo VERB\n",
      "Liber NOUN\n",
      "communis ADJ\n",
      "uelut ADV\n",
      "applausus NOUN\n",
      "totie(n)s ADV\n",
      "approbo VERB\n",
      ". PUNCT\n",
      "ego PRON\n",
      "uerò NOUN\n",
      ", PUNCT\n",
      "posteaquam SCONJ\n",
      "uideo VERB\n",
      ", PUNCT\n",
      "labor NOUN\n",
      "meus ADJ\n",
      "publicus \n",
      "gratus ADJ\n",
      ", PUNCT\n",
      "des NOUN\n",
      "neque CCONJ\n",
      "ingratus ADJ\n",
      "erga ADP\n",
      "alius DET\n",
      ", PUNCT\n",
      "neque CCONJ\n",
      "in ADP\n",
      "egometipse PRON\n",
      ") PUNCT\n",
      "praefatio NOUN\n",
      "Lindenii NOUN\n",
      ". PUNCT\n",
      "plum NOUN\n",
      "mure ADJ\n",
      "sum AUX\n",
      ". PUNCT\n",
      "hic DET\n",
      "suturius ADJ\n",
      "sum AUX\n",
      ", PUNCT\n",
      "si SCONJ\n",
      "vruus NOUN\n",
      "alter ADJ\n",
      "facio VERB\n",
      "cura NOUN\n",
      ", PUNCT\n",
      "augo VERB\n",
      "& PUNCT\n",
      "supplo VERB\n",
      "hic DET\n",
      "opus NOUN\n",
      ". PUNCT\n",
      "Ide PROPN\n",
      ", PUNCT\n",
      "si SCONJ\n",
      "non PART\n",
      "par ADJ\n",
      "promptitudo NOUN\n",
      "atque CCONJ\n",
      "propensio NOUN\n",
      "orbs NOUN\n",
      "successor NOUN\n",
      "meritum NOUN\n",
      "exponerem VERB\n",
      ", PUNCT\n",
      "quâ NOUN\n",
      "superior ADJ\n",
      "iam ADV\n",
      "proposuissem VERB\n",
      ". PUNCT\n",
      "qui PRON\n",
      "animus NOUN\n",
      "cum SCONJ\n",
      "sum AUX\n",
      "non PART\n",
      "possum VERB\n",
      "non PART\n",
      "aegre ADV\n",
      "habeo VERB\n",
      ", PUNCT\n",
      "etiam ADV\n",
      "hic DET\n",
      "editio NOUN\n",
      "non PART\n",
      "paucus ADJ\n",
      "praetermitto VERB\n",
      ", PUNCT\n",
      "qui PRON\n",
      "inseo VERB\n",
      "uel CCONJ\n",
      "nunc ADV\n",
      "oportet VERB\n",
      ". PUNCT\n",
      "quamvis ADV\n",
      "enim ADV\n",
      "haud PART\n",
      "paruus ADJ\n",
      "continuòs ADJ\n",
      "diligentia NOUN\n",
      "adhibuerim VERB\n",
      ", PUNCT\n",
      "nequisco VERB\n",
      "tamen ADV\n",
      "omnis ADJ\n",
      ", PUNCT\n",
      "qui PRON\n",
      "desidero VERB\n",
      ", PUNCT\n",
      "titulus NOUN\n",
      "nanciscor VERB\n",
      ", PUNCT\n",
      "etiam ADV\n",
      "in ADP\n",
      "amplissimus ADJ\n",
      "urbs NOUN\n",
      "& PUNCT\n",
      "celeberrimus ADJ\n",
      "Academia PROPN\n",
      "inter ADP\n",
      "que CCONJ\n",
      "medius ADJ\n",
      "atque CCONJ\n",
      "instructissimos ADJ\n",
      "Bibliopolas NOUN\n",
      "translatus VERB\n",
      ". PUNCT\n",
      "qui PRON\n",
      "in ADP\n",
      "res NOUN\n",
      "ron AUX\n",
      "parum ADV\n",
      "ego PRON\n",
      "meus ADJ\n",
      "spes NOUN\n",
      "sefello VERB\n",
      ". PUNCT\n",
      "neque CCONJ\n",
      "tamen ADV\n",
      "refero VERB\n",
      ", PUNCT\n",
      "caussa NOUN\n",
      "refero VERB\n",
      ", PUNCT\n",
      "qui PRON\n",
      "aut CCONJ\n",
      "scio VERB\n",
      "puto VERB\n",
      "aut CCONJ\n",
      "ex ADP\n",
      "facilis ADJ\n",
      "possum VERB\n",
      ", PUNCT\n",
      "quotquot ADV\n",
      "frequento VERB\n",
      "ille DET\n",
      "soleo VERB\n",
      ". PUNCT\n",
      "Quamobrem ADV\n",
      "denuo ADV\n",
      "rogo VERB\n",
      "Viri NOUN\n",
      "omnis ADJ\n",
      "doctus ADJ\n",
      ", PUNCT\n",
      "& PUNCT\n",
      "qui PRON\n",
      "amplifico VERB\n",
      "res NOUN\n",
      "Medicus ADJ\n",
      "teneo VERB\n",
      "amor NOUN\n",
      ", PUNCT\n",
      "ut SCONJ\n",
      "haut DET\n",
      "gravate VERB\n",
      "uolo VERB\n",
      "suus ADJ\n",
      "ego PRON\n",
      "auxilium NOUN\n",
      "& PUNCT\n",
      "publicus \n",
      "commodum NOUN\n",
      "adjuvo VERB\n",
      ", PUNCT\n",
      "atque CCONJ\n",
      "significo VERB\n",
      ", PUNCT\n",
      "quiqua DET\n",
      "ratio NOUN\n",
      ", PUNCT\n",
      "si SCONJ\n",
      "quis PRON\n",
      ", PUNCT\n",
      "qui PRON\n",
      "ad ADP\n",
      "Ars NOUN\n",
      "noster ADJ\n",
      "pertineo VERB\n",
      ", PUNCT\n",
      "ego PRON\n",
      "quidem ADV\n",
      ", PUNCT\n",
      "sed CCONJ\n",
      "doleo VERB\n",
      "praetereo VERB\n",
      ", PUNCT\n",
      "noverint VERB\n",
      "in ADP\n",
      "lux NOUN\n",
      "exisco VERB\n",
      ". PUNCT\n",
      "secundam ADJ\n",
      "editio NOUN\n",
      "quam ADV\n",
      "luculens VERB\n",
      "tunc ADV\n",
      "Cataloga NOUN\n",
      ", PUNCT\n",
      "& PUNCT\n",
      "quidem ADV\n",
      "suaptus ADJ\n",
      "spons NOUN\n",
      "ad ADP\n",
      "ego PRON\n",
      "transmitto VERB\n",
      "auctum VERB\n",
      "iuerint VERB\n",
      "uir NOUN\n",
      "Clarissimus PROPN\n",
      ", PUNCT\n",
      "D. PROPN\n",
      "Claudius PROPN\n",
      "Doresmieux PROPN\n",
      ", PUNCT\n",
      "insulis NOUN\n",
      ", PUNCT\n",
      "D. PROPN\n",
      "Robert PROPN\n",
      ". PUNCT\n",
      "Farvacius PROPN\n",
      ", PUNCT\n",
      "Bruxellis PROPN\n",
      ", PUNCT\n",
      "D. PROPN\n",
      "Petrus PROPN\n",
      "Neuro VERB\n",
      ", PUNCT\n",
      "Matritus PROPN\n",
      ", PUNCT\n",
      "D. PROPN\n",
      "Nicolaus PROPN\n",
      "de ADP\n",
      "Vitte PROPN\n",
      ", PUNCT\n",
      "Rigaa PROPN\n",
      "Livonus NOUN\n",
      ", PUNCT\n",
      "Medicinam ADJ\n",
      "quisque PRON\n",
      "summus ADJ\n",
      "cum ADP\n",
      "laus NOUN\n",
      "factitor VERB\n",
      ", PUNCT\n",
      "ubi ADV\n",
      "expono VERB\n",
      ", PUNCT\n",
      "animus NOUN\n",
      "que CCONJ\n",
      "gratus ADJ\n",
      "signifiqui PRON\n",
      "exemplum NOUN\n",
      "si SCONJ\n",
      "uel CCONJ\n",
      "unus NUM\n",
      "quicatio NOUN\n",
      "edo VERB\n",
      ", PUNCT\n",
      "certe ADV\n",
      "edo VERB\n",
      "omnino ADV\n",
      "uolo VERB\n",
      ". PUNCT\n",
      "jam ADV\n",
      "non PART\n",
      "modo ADV\n",
      ", PUNCT\n",
      "qui PRON\n",
      "olim ADV\n",
      "uolo VERB\n",
      "atque CCONJ\n",
      "spia VERB\n",
      "sum AUX\n",
      "in ADP\n",
      "quisque DET\n",
      "natio NOUN\n",
      "imitor VERB\n",
      ", PUNCT\n",
      "uoveo VERB\n",
      ", PUNCT\n",
      "sum AUX\n",
      "hic DET\n",
      "πλεόνων X\n",
      "greek.expression X\n",
      "τοι X\n",
      "ἔργεν X\n",
      "ἄμεινεν X\n",
      ", PUNCT\n",
      "sed CCONJ\n",
      "absolutus ADJ\n",
      ", PUNCT\n",
      "adeo ADV\n",
      "que CCONJ\n",
      "omnis ADJ\n",
      "benè ADJ\n",
      "de ADP\n",
      "Ars NOUN\n",
      "Medica ADJ\n",
      "mereo NOUN\n",
      "memoriâs NOUN\n",
      ", PUNCT\n",
      "atque CCONJ\n",
      "laus NOUN\n",
      "instructssimus ADJ\n",
      ", PUNCT\n",
      "omnis ADJ\n",
      "que CCONJ\n",
      "suus ADJ\n",
      "numerus NOUN\n",
      "tantum ADV\n",
      "non PART\n",
      "perfectus ADJ\n",
      ". PUNCT\n",
      "interea ADV\n",
      "etiam ADV\n",
      "hic DET\n",
      "editio NOUN\n",
      "non PART\n",
      "destituo VERB\n",
      ", PUNCT\n",
      "qui PRON\n",
      "accipio VERB\n",
      "cùm NOUN\n",
      "supplementa NOUN\n",
      ", PUNCT\n",
      "tum ADV\n",
      "adjumentus NOUN\n",
      "refero VERB\n",
      "quàm VERB\n",
      "magnus ADJ\n",
      ". PUNCT\n",
      "et CCONJ\n",
      "supplementum NOUN\n",
      "quidem ADV\n",
      "habeo VERB\n",
      "ab ADP\n",
      "Excellentissimo PROPN\n",
      "D. X\n",
      "Guidona PROPN\n",
      "Patinus PROPN\n",
      ", PUNCT\n",
      "Doctore NOUN\n",
      "Medicus NOUN\n",
      "Parisiensi ADJ\n",
      "atque CCONJ\n",
      "Professore NOUN\n",
      "Reglo PROPN\n",
      ", PUNCT\n",
      "Viro PROPN\n",
      ", PUNCT\n",
      "supra ADV\n",
      "quàm VERB\n",
      "aut CCONJ\n",
      "dico VERB\n",
      "queo VERB\n",
      "aut CCONJ\n",
      "quis PRON\n",
      ", PUNCT\n",
      "nisi SCONJ\n",
      "experio VERB\n",
      "credo VERB\n",
      ", PUNCT\n",
      "no VERB\n",
      "ab ADP\n",
      "fovo VERB\n",
      "bonus ADJ\n",
      "& PUNCT\n",
      "Ars NOUN\n",
      "bonus ADJ\n",
      ", PUNCT\n",
      "atque CCONJ\n",
      "ego PRON\n",
      "praeter ADP\n",
      "modus NOUN\n",
      "& PUNCT\n",
      "meritum NOUN\n",
      "amicus NOUN\n",
      ". PUNCT\n",
      "Habeo VERB\n",
      "itidem ADV\n",
      "ab ADP\n",
      "Celeberrimo PROPN\n",
      "Viro NOUN\n",
      ", PUNCT\n",
      "D. ADP\n",
      "Iohannes PROPN\n",
      "van PUNCT\n",
      "Horne PROPN\n",
      ", PUNCT\n",
      "Medicinae PROPN\n",
      "Doctor NOUN\n",
      "& PUNCT\n",
      "Anatomes PROPN\n",
      "atque CCONJ\n",
      "Chirurgices NOUN\n",
      "Professore NOUN\n",
      "Eximius PROPN\n",
      ", PUNCT\n",
      "collegâ PROPN\n",
      "conjunctus ADJ\n",
      ". PUNCT\n",
      "Habeo VERB\n",
      "ab ADP\n",
      "Eruditissimus PROPN\n",
      "D. NOUN\n",
      "Carolus PROPN\n",
      "Offredo PROPN\n",
      ", PUNCT\n",
      "Doctore NOUN\n",
      "Medicus NOUN\n",
      "patavinus ADJ\n",
      ". PUNCT\n",
      "Habeo VERB\n",
      "denique ADV\n",
      "ab ADP\n",
      "Experientissimus ADJ\n",
      "D. NOUN\n",
      "Gabriele PROPN\n",
      "Claudero PROPN\n",
      ", PUNCT\n",
      "Doctore NOUN\n",
      "Medicus NOUN\n",
      "Altenburgensi ADJ\n",
      ". PUNCT\n",
      "Adjumenta NOUN\n",
      "uero ADV\n",
      "ab ADP\n",
      "Praestantissimis NOUN\n",
      "Medicinae NOUN\n",
      "Mystum NOUN\n",
      "D. ADV\n",
      "Theodorus PROPN\n",
      "Colbio PROPN\n",
      ") PUNCT\n",
      "Regiomontanum PROPN\n",
      ", PUNCT\n",
      "& PUNCT\n",
      "D. PROPN\n",
      "Conradus PROPN\n",
      "van PROPN\n",
      "Hoeven PROPN\n",
      ", PUNCT\n",
      "Bremensis PROPN\n",
      ". PUNCT\n",
      "qui PRON\n",
      "omnis ADJ\n",
      "pro ADP\n",
      "suus ADJ\n",
      "studium NOUN\n",
      "atque CCONJ\n",
      "labor NOUN\n",
      ", PUNCT\n",
      "qui PRON\n",
      "opus NOUN\n",
      "hic DET\n",
      "tam ADV\n",
      "liberaliter ADV\n",
      "locupleto VERB\n",
      "atque CCONJ\n",
      "exorno VERB\n",
      "sum AUX\n",
      "dignaio VERB\n",
      "multus ADV\n",
      "d ADV\n"
     ]
    }
   ],
   "source": [
    "for token in doc:\n",
    "    print(token.lemma_, token.pos_)"
   ],
   "metadata": {
    "collapsed": false,
    "ExecuteTime": {
     "end_time": "2023-11-07T14:05:26.323491Z",
     "start_time": "2023-11-07T14:05:26.309660Z"
    }
   },
   "id": "dbc441980b95472a"
  },
  {
   "cell_type": "markdown",
   "source": [
    "# working with large files - development"
   ],
   "metadata": {
    "collapsed": false
   },
   "id": "27163097305f5525"
  },
  {
   "cell_type": "code",
   "execution_count": 30,
   "outputs": [],
   "source": [
    "cleantext = cleantext[:380000]"
   ],
   "metadata": {
    "collapsed": false,
    "ExecuteTime": {
     "end_time": "2023-11-06T14:20:59.138564Z",
     "start_time": "2023-11-06T14:20:59.070760Z"
    }
   },
   "id": "a56ad18c89cfd094"
  },
  {
   "cell_type": "code",
   "execution_count": 31,
   "outputs": [
    {
     "name": "stdout",
     "output_type": "stream",
     "text": [
      "100000\n",
      "200000\n",
      "300000\n"
     ]
    }
   ],
   "source": [
    "# segments docs\n",
    "segment_docs = []\n",
    "segment_len = 100000\n",
    "if len(cleantext) > segment_len:\n",
    "    parts = cleantext[:segment_len].rpartition(\". \")\n",
    "    current_segment = parts[0] + parts[1]\n",
    "    segment_doc = nlp(current_segment)\n",
    "    segment_docs.append(segment_doc)\n",
    "    next_segment_beginning = parts[2]\n",
    "    for n in range(segment_len, len(cleantext), segment_len):\n",
    "        print(n)\n",
    "        segment = cleantext[n:n+segment_len]\n",
    "        if len(segment) == segment_len: \n",
    "            parts = cleantext[n:n+segment_len].rpartition(\". \")\n",
    "            current_segment = parts[0] + parts[1]\n",
    "            segment_doc = nlp(next_segment_beginning + current_segment)\n",
    "            next_segment_beginning = parts[2]\n",
    "        else:\n",
    "            segment_doc = nlp(segment)\n",
    "        segment_docs.append(segment_doc)\n",
    "    doc = Doc.from_docs(segment_docs)\n",
    "else:\n",
    "    doc = nlp(cleantext)"
   ],
   "metadata": {
    "collapsed": false,
    "ExecuteTime": {
     "end_time": "2023-11-06T14:21:27.540969Z",
     "start_time": "2023-11-06T14:21:04.140994Z"
    }
   },
   "id": "932b1176a1a55893"
  },
  {
   "cell_type": "code",
   "execution_count": 32,
   "outputs": [],
   "source": [
    "doc = Doc.from_docs(segment_docs)"
   ],
   "metadata": {
    "collapsed": false,
    "ExecuteTime": {
     "end_time": "2023-11-06T14:21:27.623574Z",
     "start_time": "2023-11-06T14:21:27.555258Z"
    }
   },
   "id": "8691c44275ae1109"
  },
  {
   "cell_type": "code",
   "execution_count": 33,
   "outputs": [
    {
     "data": {
      "text/plain": "'nica Roberti Boylei, de Vi Aeris elastico, & ejusdem effectibus; quibus Observata illius rationibus Philosophicis, omni Vacuum, ipsumque elaterem Aeris Pecquetianum arcentibus, illustrantur. Gröningae'"
     },
     "execution_count": 33,
     "metadata": {},
     "output_type": "execute_result"
    }
   ],
   "source": [
    "cleantext[199900:200100]"
   ],
   "metadata": {
    "collapsed": false,
    "ExecuteTime": {
     "end_time": "2023-11-06T14:21:27.626324Z",
     "start_time": "2023-11-06T14:21:27.622197Z"
    }
   },
   "id": "4974474b3cc715d5"
  },
  {
   "cell_type": "code",
   "execution_count": 34,
   "outputs": [
    {
     "data": {
      "text/plain": "'nica Roberti Boylei, de Vi Aeris elastico, & ejusdem effectibus; quibus Observata illius rationibus Philosophicis, omni Vacuum, ipsumque elaterem Aeris Pecquetianum arcentibus, illustrantur. Gröningae'"
     },
     "execution_count": 34,
     "metadata": {},
     "output_type": "execute_result"
    }
   ],
   "source": [
    "doc.text[199900:200100]"
   ],
   "metadata": {
    "collapsed": false,
    "ExecuteTime": {
     "end_time": "2023-11-06T14:21:27.664907Z",
     "start_time": "2023-11-06T14:21:27.626571Z"
    }
   },
   "id": "4bbb006db66be067"
  },
  {
   "cell_type": "code",
   "execution_count": 36,
   "outputs": [],
   "source": [
    "# lets encapsulate the cleaning and spacy pipeline application into one function\n",
    "def from_rawtext_to_doc(rawtext):\n",
    "    cleantext = text_cleaner(rawtext)\n",
    "    segment_len = 800000\n",
    "    if len(cleantext) > segment_len:\n",
    "        segment_docs = []\n",
    "        parts = cleantext[:segment_len].rpartition(\". \")\n",
    "        current_segment = parts[0] + parts[1]\n",
    "        segment_doc = nlp(current_segment)\n",
    "        segment_docs.append(segment_doc)\n",
    "        next_segment_beginning = parts[2]\n",
    "        for n in range(segment_len, len(cleantext), segment_len):\n",
    "            segment = cleantext[n:n+segment_len]\n",
    "            if len(segment) == segment_len:\n",
    "                parts = cleantext[n:n+segment_len].rpartition(\". \")\n",
    "                current_segment = parts[0] + parts[1]\n",
    "                segment_doc = nlp(next_segment_beginning + current_segment)\n",
    "                next_segment_beginning = parts[2]\n",
    "            else:\n",
    "                segment_doc = nlp(segment)\n",
    "            segment_docs.append(segment_doc)\n",
    "        doc = Doc.from_docs(segment_docs)\n",
    "    else:\n",
    "        doc = nlp(cleantext)\n",
    "    return doc"
   ],
   "metadata": {
    "collapsed": false,
    "ExecuteTime": {
     "end_time": "2023-11-06T14:21:50.932536Z",
     "start_time": "2023-11-06T14:21:50.869305Z"
    }
   },
   "id": "a45173f79f1c7413"
  },
  {
   "cell_type": "markdown",
   "source": [
    "# Applying the function"
   ],
   "metadata": {
    "collapsed": false
   },
   "id": "6faca3312f480753"
  },
  {
   "cell_type": "code",
   "execution_count": 37,
   "outputs": [],
   "source": [
    "# input text files\n",
    "filenames_list = s.list_filenames(\"noscemus_raw\", \"txt\")"
   ],
   "metadata": {
    "collapsed": false,
    "ExecuteTime": {
     "end_time": "2023-11-06T14:21:57.280511Z",
     "start_time": "2023-11-06T14:21:56.081417Z"
    }
   },
   "id": "66f6799e90e94c6f"
  },
  {
   "cell_type": "code",
   "execution_count": 54,
   "outputs": [
    {
     "data": {
      "text/plain": "1007"
     },
     "execution_count": 54,
     "metadata": {},
     "output_type": "execute_result"
    }
   ],
   "source": [
    "len(filenames_list)"
   ],
   "metadata": {
    "collapsed": false,
    "ExecuteTime": {
     "end_time": "2023-11-07T07:32:58.064106Z",
     "start_time": "2023-11-07T07:32:58.052336Z"
    }
   },
   "id": "7b86d9ce45097bb"
  },
  {
   "cell_type": "code",
   "execution_count": 43,
   "outputs": [
    {
     "data": {
      "text/plain": "['1031760.json',\n '1085290.json',\n '1285853.json',\n '1285854.json',\n '1285855.json',\n '1285856.json',\n '1365811.json',\n '1370560.json',\n '1378359.json',\n '1424044.json']"
     },
     "execution_count": 43,
     "metadata": {},
     "output_type": "execute_result"
    }
   ],
   "source": [
    "# output jsonfiles\n",
    "target_folder_name = \"noscemus_spacyjsons_v1\"\n",
    "jsonfiles_list = s.list_filenames(target_folder_name, \"json\")\n",
    "jsonfiles_list[:10]"
   ],
   "metadata": {
    "collapsed": false,
    "ExecuteTime": {
     "end_time": "2023-11-07T07:26:30.441632Z",
     "start_time": "2023-11-07T07:26:29.301590Z"
    }
   },
   "id": "19ce9aabe1147398"
  },
  {
   "cell_type": "code",
   "execution_count": 44,
   "outputs": [
    {
     "data": {
      "text/plain": "842"
     },
     "execution_count": 44,
     "metadata": {},
     "output_type": "execute_result"
    }
   ],
   "source": [
    "len(jsonfiles_list)"
   ],
   "metadata": {
    "collapsed": false,
    "ExecuteTime": {
     "end_time": "2023-11-07T07:26:32.674839Z",
     "start_time": "2023-11-07T07:26:32.659701Z"
    }
   },
   "id": "b6767b7ddeab75b"
  },
  {
   "cell_type": "code",
   "execution_count": 40,
   "outputs": [
    {
     "name": "stdout",
     "output_type": "stream",
     "text": [
      "CPU times: user 9h 13min 45s, sys: 20min 57s, total: 9h 34min 42s\n",
      "Wall time: 10h 48min 17s\n"
     ]
    }
   ],
   "source": [
    "%%time\n",
    "%%capture\n",
    "for n, filename in enumerate(filenames_list):\n",
    "    if n in range(0, len(filenames_list), 50):\n",
    "        print(n)\n",
    "    try:\n",
    "        new_filename = filename.partition(\".\")[0] + \".json\"\n",
    "        if new_filename not in jsonfiles_list:\n",
    "            rawtext = s.read_file(\"noscemus_raw/\" + filename, \"str\")\n",
    "            doc = from_rawtext_to_doc(rawtext)\n",
    "            doc_json = doc.to_json()\n",
    "            s.write_file(target_folder_name + \"/\" + new_filename, doc_json)\n",
    "    except:\n",
    "        pass"
   ],
   "metadata": {
    "collapsed": false,
    "ExecuteTime": {
     "end_time": "2023-11-07T01:10:23.957039Z",
     "start_time": "2023-11-06T14:22:06.659786Z"
    }
   },
   "id": "162ae851157c7c00"
  },
  {
   "cell_type": "code",
   "execution_count": 45,
   "outputs": [
    {
     "data": {
      "text/plain": "842"
     },
     "execution_count": 45,
     "metadata": {},
     "output_type": "execute_result"
    }
   ],
   "source": [
    "len(jsonfiles_list)"
   ],
   "metadata": {
    "collapsed": false,
    "ExecuteTime": {
     "end_time": "2023-11-07T07:26:47.538522Z",
     "start_time": "2023-11-07T07:26:47.527864Z"
    }
   },
   "id": "820b71850d0e9653"
  },
  {
   "cell_type": "markdown",
   "source": [
    "# Dealing with missing files"
   ],
   "metadata": {
    "collapsed": false
   },
   "id": "d0b63f9d317babb2"
  },
  {
   "cell_type": "code",
   "execution_count": 57,
   "outputs": [],
   "source": [
    "# what should we have\n",
    "all_ids_jsons = [fn.rpartition(\".\")[0] + \".json\" for fn in filenames_list]"
   ],
   "metadata": {
    "collapsed": false,
    "ExecuteTime": {
     "end_time": "2023-11-07T07:35:50.143548Z",
     "start_time": "2023-11-07T07:35:50.126947Z"
    }
   },
   "id": "d905c9f43733ffc1"
  },
  {
   "cell_type": "code",
   "execution_count": 69,
   "outputs": [
    {
     "data": {
      "text/plain": "['1031760.json',\n '1085290.json',\n '1285853.json',\n '1285854.json',\n '1285855.json',\n '1285856.json',\n '1365811.json',\n '1370560.json',\n '1378359.json',\n '1424044.json']"
     },
     "execution_count": 69,
     "metadata": {},
     "output_type": "execute_result"
    }
   ],
   "source": [
    "# output jsonfiles\n",
    "target_folder_name = \"noscemus_spacyjsons_v1\"\n",
    "jsonfiles_list = s.list_filenames(target_folder_name, \"json\")\n",
    "jsonfiles_list[:10]"
   ],
   "metadata": {
    "collapsed": false,
    "ExecuteTime": {
     "end_time": "2023-11-07T07:43:02.810091Z",
     "start_time": "2023-11-07T07:43:01.647011Z"
    }
   },
   "id": "de24dadee8374e63"
  },
  {
   "cell_type": "code",
   "execution_count": 70,
   "outputs": [
    {
     "data": {
      "text/plain": "164"
     },
     "execution_count": 70,
     "metadata": {},
     "output_type": "execute_result"
    }
   ],
   "source": [
    "missing_jsons = [fn for fn in all_ids_jsons if fn not in jsonfiles_list]\n",
    "len(missing_jsons)"
   ],
   "metadata": {
    "collapsed": false,
    "ExecuteTime": {
     "end_time": "2023-11-07T07:43:05.143386Z",
     "start_time": "2023-11-07T07:43:05.133260Z"
    }
   },
   "id": "b33c01bed3d1d844"
  },
  {
   "cell_type": "code",
   "execution_count": 71,
   "outputs": [
    {
     "data": {
      "text/plain": "'862097.json'"
     },
     "execution_count": 71,
     "metadata": {},
     "output_type": "execute_result"
    }
   ],
   "source": [
    "missing_jsons[0]"
   ],
   "metadata": {
    "collapsed": false,
    "ExecuteTime": {
     "end_time": "2023-11-07T07:43:08.477859Z",
     "start_time": "2023-11-07T07:43:08.458684Z"
    }
   },
   "id": "4e7814ac99031aaa"
  },
  {
   "cell_type": "code",
   "execution_count": 72,
   "outputs": [],
   "source": [
    "rawtext = s.read_file(\"noscemus_raw/\" + missing_jsons[0].rpartition(\".\")[0] + \".txt\", \"str\")\n",
    "#doc = from_rawtext_to_doc(rawtext)"
   ],
   "metadata": {
    "collapsed": false,
    "ExecuteTime": {
     "end_time": "2023-11-07T07:43:16.190041Z",
     "start_time": "2023-11-07T07:43:15.621949Z"
    }
   },
   "id": "e36f1a331c3a5a24"
  },
  {
   "cell_type": "code",
   "execution_count": 73,
   "outputs": [
    {
     "data": {
      "text/plain": "174954"
     },
     "execution_count": 73,
     "metadata": {},
     "output_type": "execute_result"
    }
   ],
   "source": [
    "len(rawtext)"
   ],
   "metadata": {
    "collapsed": false,
    "ExecuteTime": {
     "end_time": "2023-11-07T07:43:17.396752Z",
     "start_time": "2023-11-07T07:43:17.376680Z"
    }
   },
   "id": "a9b99014682d5626"
  },
  {
   "cell_type": "code",
   "execution_count": 74,
   "outputs": [],
   "source": [
    "doc = from_rawtext_to_doc(rawtext)"
   ],
   "metadata": {
    "collapsed": false,
    "ExecuteTime": {
     "end_time": "2023-11-07T07:43:31.975721Z",
     "start_time": "2023-11-07T07:43:22.151577Z"
    }
   },
   "id": "759e252c28bf93f0"
  },
  {
   "cell_type": "code",
   "execution_count": 75,
   "outputs": [
    {
     "data": {
      "text/plain": "172298"
     },
     "execution_count": 75,
     "metadata": {},
     "output_type": "execute_result"
    }
   ],
   "source": [
    "len(doc.text)"
   ],
   "metadata": {
    "collapsed": false,
    "ExecuteTime": {
     "end_time": "2023-11-07T07:43:32.983490Z",
     "start_time": "2023-11-07T07:43:32.968439Z"
    }
   },
   "id": "39098dcf512d2784"
  },
  {
   "cell_type": "code",
   "execution_count": 76,
   "outputs": [],
   "source": [
    "doc_json = doc.to_json()"
   ],
   "metadata": {
    "collapsed": false,
    "ExecuteTime": {
     "end_time": "2023-11-07T07:43:36.893103Z",
     "start_time": "2023-11-07T07:43:36.891890Z"
    }
   },
   "id": "758349aecb1afd7"
  },
  {
   "cell_type": "code",
   "execution_count": 77,
   "outputs": [
    {
     "name": "stdout",
     "output_type": "stream",
     "text": [
      "Your <class 'dict'> object has been succesfully written as \"https://sciencedata.dk/sharingout/kase%40zcu.cz/TOME/DATA/NOSCEMUS/noscemus_spacyjsons_v1/862097.json\"\n"
     ]
    }
   ],
   "source": [
    "s.write_file(target_folder_name + \"/\" + missing_jsons[0], doc_json)"
   ],
   "metadata": {
    "collapsed": false,
    "ExecuteTime": {
     "end_time": "2023-11-07T07:43:46.792609Z",
     "start_time": "2023-11-07T07:43:43.668948Z"
    }
   },
   "id": "d36c0a09ad4453e"
  },
  {
   "cell_type": "code",
   "execution_count": 78,
   "outputs": [
    {
     "name": "stdout",
     "output_type": "stream",
     "text": [
      "CPU times: user 2h 17min 24s, sys: 5min 13s, total: 2h 22min 38s\n",
      "Wall time: 2h 37min 43s\n"
     ]
    }
   ],
   "source": [
    "%%time\n",
    "%%capture\n",
    "for n, filename in enumerate(filenames_list):\n",
    "    try:\n",
    "        new_filename = filename.partition(\".\")[0] + \".json\"\n",
    "        if new_filename not in jsonfiles_list:\n",
    "            rawtext = s.read_file(\"noscemus_raw/\" + filename, \"str\")\n",
    "            doc = from_rawtext_to_doc(rawtext)\n",
    "            doc_json = doc.to_json()\n",
    "            s.write_file(target_folder_name + \"/\" + new_filename, doc_json)\n",
    "    except:\n",
    "        pass"
   ],
   "metadata": {
    "collapsed": false,
    "ExecuteTime": {
     "end_time": "2023-11-07T10:22:41.889618Z",
     "start_time": "2023-11-07T07:44:58.229414Z"
    }
   },
   "id": "6f1627b229ba8d4f"
  },
  {
   "cell_type": "code",
   "execution_count": null,
   "outputs": [],
   "source": [],
   "metadata": {
    "collapsed": false
   },
   "id": "b650eed65b32d384"
  }
 ],
 "metadata": {
  "kernelspec": {
   "name": "brewkernel",
   "language": "python",
   "display_name": "brewkernel"
  },
  "language_info": {
   "codemirror_mode": {
    "name": "ipython",
    "version": 2
   },
   "file_extension": ".py",
   "mimetype": "text/x-python",
   "name": "python",
   "nbconvert_exporter": "python",
   "pygments_lexer": "ipython2",
   "version": "2.7.6"
  }
 },
 "nbformat": 4,
 "nbformat_minor": 5
}
