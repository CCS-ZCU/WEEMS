{
 "cells": [
  {
   "cell_type": "code",
   "source": [
    "import pandas as pd\n",
    "from gensim.models.fasttext import FastText\n",
    "from gensim.models import KeyedVectors\n",
    "import re\n",
    "import os\n",
    "import shutil\n",
    "import sddk\n",
    "import pickle"
   ],
   "metadata": {
    "collapsed": false,
    "ExecuteTime": {
     "end_time": "2024-02-08T20:27:10.998072Z",
     "start_time": "2024-02-08T20:27:10.993354Z"
    }
   },
   "id": "b0c3f2cfd2ca6805",
   "outputs": [],
   "execution_count": 16
  },
  {
   "cell_type": "code",
   "source": [
    "s = sddk.cloudSession(provider=\"sciencedata.dk\", shared_folder_name=\"TOME/DATA/NOSCEMUS\", owner=\"kase@zcu.cz\")"
   ],
   "metadata": {
    "collapsed": false,
    "ExecuteTime": {
     "end_time": "2024-02-08T14:55:20.264093Z",
     "start_time": "2024-02-08T14:55:08.669189Z"
    }
   },
   "id": "e733e4abbe83f6aa",
   "outputs": [
    {
     "name": "stdout",
     "output_type": "stream",
     "text": [
      "connection with shared folder established with you as its ordinary user\n",
      "endpoint variable has been configured to: https://sciencedata.dk/sharingout/kase%40zcu.cz/TOME/DATA/NOSCEMUS/\n"
     ]
    }
   ],
   "execution_count": 8
  },
  {
   "cell_type": "code",
   "execution_count": 2,
   "id": "initial_id",
   "metadata": {
    "collapsed": true,
    "ExecuteTime": {
     "end_time": "2023-12-01T14:39:00.400593Z",
     "start_time": "2023-12-01T14:39:00.355631Z"
    }
   },
   "outputs": [
    {
     "data": {
      "text/plain": "              Author                                         Full title  \\\n0  Achrelius, Daniel  Scientiarum magnes recitatus publice anno 1690...   \n1  Acidalius, Valens                 Ad Iordanum Brunum Nolanum, Italum   \n2    Acosta, José de  De natura novi orbis libri duo et De promulgat...   \n3     Adam, Melchior  Vitae Germanorum medicorum, qui saeculo superi...   \n4    Addison, Joseph  Ad insignissimum virum dominum Thomam Burnettu...   \n\n                                                  In  Year              Place  \\\n0                                               None  1690            [Turku]   \n1  Poematum Iani Lernutii, Iani Gulielmi, Valenti...  1603  Liegnitz, Wrocław   \n2                                               None  1589          Salamanca   \n3                                               None  1620         Heidelberg   \n4  Examen poeticum duplex, sive, Musarum anglican...  1698             London   \n\n       Publisher/Printer           Era      Form/Genre  \\\n0                   Wall  17th century         Oration   \n1          Albert, David  17th century  Panegyric poem   \n2       Guillelum Foquel  16th century       Monograph   \n3           Rosa, Geyder  17th century       Biography   \n4  Richard Wellington I.  17th century  Panegyric poem   \n\n                                  Discipline/Content  \\\n0  Mathematics, Astronomy/Astrology/Cosmography, ...   \n1                    Astronomy/Astrology/Cosmography   \n2  Astronomy/Astrology/Cosmography, Geography/Car...   \n3                                           Medicine   \n4                         Meteorology/Earth sciences   \n\n                                            Original  ...       ids      id  \\\n0                   Scientiarum magnes(Google Books)  ...  [705665]  705665   \n1  Ad Iordanum Brunum (1603)(CAMENA)Ad Iordanum B...  ...  [801745]  801745   \n2  De natura novi orbis(Biodiversity Heritage Lib...  ...  [713323]  713323   \n3  Vitae Germanorum medicorum(MDZ)Alternative lin...  ...  [693148]  693148   \n4  Ad Burnettum sacrae theoriae telluris auctorem...  ...  [769230]  769230   \n\n  date_min date_max                                           filename  \\\n0   1690.0   1690.0  Achrelius,_Daniel_-_Scientiarum_magnes__Turku_...   \n1   1603.0   1603.0  Janus_Lernutius_et_al__-_Poemata__Liegnitz_160...   \n2   1589.0   1589.0  Acosta,_José_de_-_De_natura_novi_orbis__Salama...   \n3   1620.0   1620.0  Adam,_Melchior_-_Vitae_Germanorum_medicorum__H...   \n4   1698.0   1698.0        Examen_poeticum_duplex__London_1698_pdf.txt   \n\n  file_year sents_n words_n  \\\n0    1690.0     518    6685   \n1    1603.0    6137   66744   \n2    1589.0    9040  135979   \n3    1620.0   16258  153868   \n4    1698.0    3297   38011   \n\n                                    disciplines_list   science_class  \n0  [Mathematics, Astronomy/Astrology/Cosmography,...         mixture  \n1                  [Astronomy/Astrology/Cosmography]  exact_sciences  \n2  [Astronomy/Astrology/Cosmography, Geography/Ca...  exact_sciences  \n3                                         [Medicine]   life_sciences  \n4                       [Meteorology/Earth sciences]  exact_sciences  \n\n[5 rows x 30 columns]",
      "text/html": "<div>\n<style scoped>\n    .dataframe tbody tr th:only-of-type {\n        vertical-align: middle;\n    }\n\n    .dataframe tbody tr th {\n        vertical-align: top;\n    }\n\n    .dataframe thead th {\n        text-align: right;\n    }\n</style>\n<table border=\"1\" class=\"dataframe\">\n  <thead>\n    <tr style=\"text-align: right;\">\n      <th></th>\n      <th>Author</th>\n      <th>Full title</th>\n      <th>In</th>\n      <th>Year</th>\n      <th>Place</th>\n      <th>Publisher/Printer</th>\n      <th>Era</th>\n      <th>Form/Genre</th>\n      <th>Discipline/Content</th>\n      <th>Original</th>\n      <th>...</th>\n      <th>ids</th>\n      <th>id</th>\n      <th>date_min</th>\n      <th>date_max</th>\n      <th>filename</th>\n      <th>file_year</th>\n      <th>sents_n</th>\n      <th>words_n</th>\n      <th>disciplines_list</th>\n      <th>science_class</th>\n    </tr>\n  </thead>\n  <tbody>\n    <tr>\n      <th>0</th>\n      <td>Achrelius, Daniel</td>\n      <td>Scientiarum magnes recitatus publice anno 1690...</td>\n      <td>None</td>\n      <td>1690</td>\n      <td>[Turku]</td>\n      <td>Wall</td>\n      <td>17th century</td>\n      <td>Oration</td>\n      <td>Mathematics, Astronomy/Astrology/Cosmography, ...</td>\n      <td>Scientiarum magnes(Google Books)</td>\n      <td>...</td>\n      <td>[705665]</td>\n      <td>705665</td>\n      <td>1690.0</td>\n      <td>1690.0</td>\n      <td>Achrelius,_Daniel_-_Scientiarum_magnes__Turku_...</td>\n      <td>1690.0</td>\n      <td>518</td>\n      <td>6685</td>\n      <td>[Mathematics, Astronomy/Astrology/Cosmography,...</td>\n      <td>mixture</td>\n    </tr>\n    <tr>\n      <th>1</th>\n      <td>Acidalius, Valens</td>\n      <td>Ad Iordanum Brunum Nolanum, Italum</td>\n      <td>Poematum Iani Lernutii, Iani Gulielmi, Valenti...</td>\n      <td>1603</td>\n      <td>Liegnitz, Wrocław</td>\n      <td>Albert, David</td>\n      <td>17th century</td>\n      <td>Panegyric poem</td>\n      <td>Astronomy/Astrology/Cosmography</td>\n      <td>Ad Iordanum Brunum (1603)(CAMENA)Ad Iordanum B...</td>\n      <td>...</td>\n      <td>[801745]</td>\n      <td>801745</td>\n      <td>1603.0</td>\n      <td>1603.0</td>\n      <td>Janus_Lernutius_et_al__-_Poemata__Liegnitz_160...</td>\n      <td>1603.0</td>\n      <td>6137</td>\n      <td>66744</td>\n      <td>[Astronomy/Astrology/Cosmography]</td>\n      <td>exact_sciences</td>\n    </tr>\n    <tr>\n      <th>2</th>\n      <td>Acosta, José de</td>\n      <td>De natura novi orbis libri duo et De promulgat...</td>\n      <td>None</td>\n      <td>1589</td>\n      <td>Salamanca</td>\n      <td>Guillelum Foquel</td>\n      <td>16th century</td>\n      <td>Monograph</td>\n      <td>Astronomy/Astrology/Cosmography, Geography/Car...</td>\n      <td>De natura novi orbis(Biodiversity Heritage Lib...</td>\n      <td>...</td>\n      <td>[713323]</td>\n      <td>713323</td>\n      <td>1589.0</td>\n      <td>1589.0</td>\n      <td>Acosta,_José_de_-_De_natura_novi_orbis__Salama...</td>\n      <td>1589.0</td>\n      <td>9040</td>\n      <td>135979</td>\n      <td>[Astronomy/Astrology/Cosmography, Geography/Ca...</td>\n      <td>exact_sciences</td>\n    </tr>\n    <tr>\n      <th>3</th>\n      <td>Adam, Melchior</td>\n      <td>Vitae Germanorum medicorum, qui saeculo superi...</td>\n      <td>None</td>\n      <td>1620</td>\n      <td>Heidelberg</td>\n      <td>Rosa, Geyder</td>\n      <td>17th century</td>\n      <td>Biography</td>\n      <td>Medicine</td>\n      <td>Vitae Germanorum medicorum(MDZ)Alternative lin...</td>\n      <td>...</td>\n      <td>[693148]</td>\n      <td>693148</td>\n      <td>1620.0</td>\n      <td>1620.0</td>\n      <td>Adam,_Melchior_-_Vitae_Germanorum_medicorum__H...</td>\n      <td>1620.0</td>\n      <td>16258</td>\n      <td>153868</td>\n      <td>[Medicine]</td>\n      <td>life_sciences</td>\n    </tr>\n    <tr>\n      <th>4</th>\n      <td>Addison, Joseph</td>\n      <td>Ad insignissimum virum dominum Thomam Burnettu...</td>\n      <td>Examen poeticum duplex, sive, Musarum anglican...</td>\n      <td>1698</td>\n      <td>London</td>\n      <td>Richard Wellington I.</td>\n      <td>17th century</td>\n      <td>Panegyric poem</td>\n      <td>Meteorology/Earth sciences</td>\n      <td>Ad Burnettum sacrae theoriae telluris auctorem...</td>\n      <td>...</td>\n      <td>[769230]</td>\n      <td>769230</td>\n      <td>1698.0</td>\n      <td>1698.0</td>\n      <td>Examen_poeticum_duplex__London_1698_pdf.txt</td>\n      <td>1698.0</td>\n      <td>3297</td>\n      <td>38011</td>\n      <td>[Meteorology/Earth sciences]</td>\n      <td>exact_sciences</td>\n    </tr>\n  </tbody>\n</table>\n<p>5 rows × 30 columns</p>\n</div>"
     },
     "execution_count": 2,
     "metadata": {},
     "output_type": "execute_result"
    }
   ],
   "source": [
    "metadata_table_long = pd.read_json(\"../data/metadata_table_long.json\")\n",
    "metadata_table_long.head(5)"
   ]
  },
  {
   "cell_type": "code",
   "source": [
    "filtered_vocab_df = pd.read_json(\"../data/filtered_vocab_df.json\")\n",
    "filtered_vocab_df.head(20)"
   ],
   "metadata": {
    "collapsed": false,
    "ExecuteTime": {
     "end_time": "2024-02-08T20:26:26.454644Z",
     "start_time": "2024-02-08T20:26:26.401947Z"
    }
   },
   "id": "86a09fc1873ab3f6",
   "outputs": [
    {
     "data": {
      "text/plain": [
       "        word  1501-1550  1551-1600  1601-1650  1651-1700      mean  \\\n",
       "5018    dico      42831     120825      41832      72221  69427.25   \n",
       "6155   omnis      33152     108530      46009      66387  63519.50   \n",
       "2515   facio      33323     109486      40134      53953  59224.00   \n",
       "4040    pars      32591      90667      43593      51249  54525.00   \n",
       "6769   habeo      30884      87225      38386      57791  53571.50   \n",
       "364   possum      23869      79572      36898      72892  53307.75   \n",
       "897      res      27869      68790      27473      49014  43286.50   \n",
       "4810    suus      23716      58975      33267      52441  42099.75   \n",
       "2392   uideo      21389      60143      28355      54288  41043.75   \n",
       "1790  magnus      23446      61213      29708      39211  38394.50   \n",
       "2217   locus      22091      53908      30003      41517  36879.75   \n",
       "2377  corpus      16756      62316      22606      31319  33249.25   \n",
       "3110  multus      20473      50202      21654      34203  31633.00   \n",
       "2555  primus      19132      50620      23778      26045  29893.75   \n",
       "2853      do      16173      45404      21729      34157  29365.75   \n",
       "4389     cap      18393      35181      21951      30471  26499.00   \n",
       "1648   ratio      12325      42217      20289      30475  26326.50   \n",
       "1830     lib      16365      37925      21843      27512  25911.25   \n",
       "4628   liber      22941      36345      17863      26167  25829.00   \n",
       "5471    aqua      11596      40688      19692      30750  25681.50   \n",
       "\n",
       "      in_lila_embeddings  in_lasla  in_operamaiora  \\\n",
       "5018                True      True            True   \n",
       "6155                True      True            True   \n",
       "2515                True      True            True   \n",
       "4040                True      True            True   \n",
       "6769                True      True            True   \n",
       "364                 True      True            True   \n",
       "897                 True      True            True   \n",
       "4810                True      True            True   \n",
       "2392                True      True            True   \n",
       "1790                True      True            True   \n",
       "2217                True      True            True   \n",
       "2377                True      True            True   \n",
       "3110                True      True            True   \n",
       "2555                True      True            True   \n",
       "2853                True      True            True   \n",
       "4389               False     False           False   \n",
       "1648                True      True            True   \n",
       "1830               False     False           False   \n",
       "4628                True      True            True   \n",
       "5471                True      True            True   \n",
       "\n",
       "                                                 transl  \n",
       "5018                                    say, call, tell  \n",
       "6155                                                     \n",
       "2515                                   do, make, handle  \n",
       "4040                                               part  \n",
       "6769               have, hold, possess, consider, think  \n",
       "364                                        be able, can  \n",
       "897                                            suddenly  \n",
       "4810               his own, her own, its own, their own  \n",
       "2392                                                     \n",
       "1790                                         big, great  \n",
       "2217                                    place, location  \n",
       "2377                                       body, corpus  \n",
       "3110                                               many  \n",
       "2555                  first, foremost, chief, principal  \n",
       "2853                                        give, offer  \n",
       "4389                                                     \n",
       "1648  reckoning, account, reason, judgement, conside...  \n",
       "1830                                                     \n",
       "4628     book, volume, inner bark of a tree, book, book  \n",
       "5471                  get/fetch/bring water, be watered  "
      ],
      "text/html": [
       "<div>\n",
       "<style scoped>\n",
       "    .dataframe tbody tr th:only-of-type {\n",
       "        vertical-align: middle;\n",
       "    }\n",
       "\n",
       "    .dataframe tbody tr th {\n",
       "        vertical-align: top;\n",
       "    }\n",
       "\n",
       "    .dataframe thead th {\n",
       "        text-align: right;\n",
       "    }\n",
       "</style>\n",
       "<table border=\"1\" class=\"dataframe\">\n",
       "  <thead>\n",
       "    <tr style=\"text-align: right;\">\n",
       "      <th></th>\n",
       "      <th>word</th>\n",
       "      <th>1501-1550</th>\n",
       "      <th>1551-1600</th>\n",
       "      <th>1601-1650</th>\n",
       "      <th>1651-1700</th>\n",
       "      <th>mean</th>\n",
       "      <th>in_lila_embeddings</th>\n",
       "      <th>in_lasla</th>\n",
       "      <th>in_operamaiora</th>\n",
       "      <th>transl</th>\n",
       "    </tr>\n",
       "  </thead>\n",
       "  <tbody>\n",
       "    <tr>\n",
       "      <th>5018</th>\n",
       "      <td>dico</td>\n",
       "      <td>42831</td>\n",
       "      <td>120825</td>\n",
       "      <td>41832</td>\n",
       "      <td>72221</td>\n",
       "      <td>69427.25</td>\n",
       "      <td>True</td>\n",
       "      <td>True</td>\n",
       "      <td>True</td>\n",
       "      <td>say, call, tell</td>\n",
       "    </tr>\n",
       "    <tr>\n",
       "      <th>6155</th>\n",
       "      <td>omnis</td>\n",
       "      <td>33152</td>\n",
       "      <td>108530</td>\n",
       "      <td>46009</td>\n",
       "      <td>66387</td>\n",
       "      <td>63519.50</td>\n",
       "      <td>True</td>\n",
       "      <td>True</td>\n",
       "      <td>True</td>\n",
       "      <td></td>\n",
       "    </tr>\n",
       "    <tr>\n",
       "      <th>2515</th>\n",
       "      <td>facio</td>\n",
       "      <td>33323</td>\n",
       "      <td>109486</td>\n",
       "      <td>40134</td>\n",
       "      <td>53953</td>\n",
       "      <td>59224.00</td>\n",
       "      <td>True</td>\n",
       "      <td>True</td>\n",
       "      <td>True</td>\n",
       "      <td>do, make, handle</td>\n",
       "    </tr>\n",
       "    <tr>\n",
       "      <th>4040</th>\n",
       "      <td>pars</td>\n",
       "      <td>32591</td>\n",
       "      <td>90667</td>\n",
       "      <td>43593</td>\n",
       "      <td>51249</td>\n",
       "      <td>54525.00</td>\n",
       "      <td>True</td>\n",
       "      <td>True</td>\n",
       "      <td>True</td>\n",
       "      <td>part</td>\n",
       "    </tr>\n",
       "    <tr>\n",
       "      <th>6769</th>\n",
       "      <td>habeo</td>\n",
       "      <td>30884</td>\n",
       "      <td>87225</td>\n",
       "      <td>38386</td>\n",
       "      <td>57791</td>\n",
       "      <td>53571.50</td>\n",
       "      <td>True</td>\n",
       "      <td>True</td>\n",
       "      <td>True</td>\n",
       "      <td>have, hold, possess, consider, think</td>\n",
       "    </tr>\n",
       "    <tr>\n",
       "      <th>364</th>\n",
       "      <td>possum</td>\n",
       "      <td>23869</td>\n",
       "      <td>79572</td>\n",
       "      <td>36898</td>\n",
       "      <td>72892</td>\n",
       "      <td>53307.75</td>\n",
       "      <td>True</td>\n",
       "      <td>True</td>\n",
       "      <td>True</td>\n",
       "      <td>be able, can</td>\n",
       "    </tr>\n",
       "    <tr>\n",
       "      <th>897</th>\n",
       "      <td>res</td>\n",
       "      <td>27869</td>\n",
       "      <td>68790</td>\n",
       "      <td>27473</td>\n",
       "      <td>49014</td>\n",
       "      <td>43286.50</td>\n",
       "      <td>True</td>\n",
       "      <td>True</td>\n",
       "      <td>True</td>\n",
       "      <td>suddenly</td>\n",
       "    </tr>\n",
       "    <tr>\n",
       "      <th>4810</th>\n",
       "      <td>suus</td>\n",
       "      <td>23716</td>\n",
       "      <td>58975</td>\n",
       "      <td>33267</td>\n",
       "      <td>52441</td>\n",
       "      <td>42099.75</td>\n",
       "      <td>True</td>\n",
       "      <td>True</td>\n",
       "      <td>True</td>\n",
       "      <td>his own, her own, its own, their own</td>\n",
       "    </tr>\n",
       "    <tr>\n",
       "      <th>2392</th>\n",
       "      <td>uideo</td>\n",
       "      <td>21389</td>\n",
       "      <td>60143</td>\n",
       "      <td>28355</td>\n",
       "      <td>54288</td>\n",
       "      <td>41043.75</td>\n",
       "      <td>True</td>\n",
       "      <td>True</td>\n",
       "      <td>True</td>\n",
       "      <td></td>\n",
       "    </tr>\n",
       "    <tr>\n",
       "      <th>1790</th>\n",
       "      <td>magnus</td>\n",
       "      <td>23446</td>\n",
       "      <td>61213</td>\n",
       "      <td>29708</td>\n",
       "      <td>39211</td>\n",
       "      <td>38394.50</td>\n",
       "      <td>True</td>\n",
       "      <td>True</td>\n",
       "      <td>True</td>\n",
       "      <td>big, great</td>\n",
       "    </tr>\n",
       "    <tr>\n",
       "      <th>2217</th>\n",
       "      <td>locus</td>\n",
       "      <td>22091</td>\n",
       "      <td>53908</td>\n",
       "      <td>30003</td>\n",
       "      <td>41517</td>\n",
       "      <td>36879.75</td>\n",
       "      <td>True</td>\n",
       "      <td>True</td>\n",
       "      <td>True</td>\n",
       "      <td>place, location</td>\n",
       "    </tr>\n",
       "    <tr>\n",
       "      <th>2377</th>\n",
       "      <td>corpus</td>\n",
       "      <td>16756</td>\n",
       "      <td>62316</td>\n",
       "      <td>22606</td>\n",
       "      <td>31319</td>\n",
       "      <td>33249.25</td>\n",
       "      <td>True</td>\n",
       "      <td>True</td>\n",
       "      <td>True</td>\n",
       "      <td>body, corpus</td>\n",
       "    </tr>\n",
       "    <tr>\n",
       "      <th>3110</th>\n",
       "      <td>multus</td>\n",
       "      <td>20473</td>\n",
       "      <td>50202</td>\n",
       "      <td>21654</td>\n",
       "      <td>34203</td>\n",
       "      <td>31633.00</td>\n",
       "      <td>True</td>\n",
       "      <td>True</td>\n",
       "      <td>True</td>\n",
       "      <td>many</td>\n",
       "    </tr>\n",
       "    <tr>\n",
       "      <th>2555</th>\n",
       "      <td>primus</td>\n",
       "      <td>19132</td>\n",
       "      <td>50620</td>\n",
       "      <td>23778</td>\n",
       "      <td>26045</td>\n",
       "      <td>29893.75</td>\n",
       "      <td>True</td>\n",
       "      <td>True</td>\n",
       "      <td>True</td>\n",
       "      <td>first, foremost, chief, principal</td>\n",
       "    </tr>\n",
       "    <tr>\n",
       "      <th>2853</th>\n",
       "      <td>do</td>\n",
       "      <td>16173</td>\n",
       "      <td>45404</td>\n",
       "      <td>21729</td>\n",
       "      <td>34157</td>\n",
       "      <td>29365.75</td>\n",
       "      <td>True</td>\n",
       "      <td>True</td>\n",
       "      <td>True</td>\n",
       "      <td>give, offer</td>\n",
       "    </tr>\n",
       "    <tr>\n",
       "      <th>4389</th>\n",
       "      <td>cap</td>\n",
       "      <td>18393</td>\n",
       "      <td>35181</td>\n",
       "      <td>21951</td>\n",
       "      <td>30471</td>\n",
       "      <td>26499.00</td>\n",
       "      <td>False</td>\n",
       "      <td>False</td>\n",
       "      <td>False</td>\n",
       "      <td></td>\n",
       "    </tr>\n",
       "    <tr>\n",
       "      <th>1648</th>\n",
       "      <td>ratio</td>\n",
       "      <td>12325</td>\n",
       "      <td>42217</td>\n",
       "      <td>20289</td>\n",
       "      <td>30475</td>\n",
       "      <td>26326.50</td>\n",
       "      <td>True</td>\n",
       "      <td>True</td>\n",
       "      <td>True</td>\n",
       "      <td>reckoning, account, reason, judgement, conside...</td>\n",
       "    </tr>\n",
       "    <tr>\n",
       "      <th>1830</th>\n",
       "      <td>lib</td>\n",
       "      <td>16365</td>\n",
       "      <td>37925</td>\n",
       "      <td>21843</td>\n",
       "      <td>27512</td>\n",
       "      <td>25911.25</td>\n",
       "      <td>False</td>\n",
       "      <td>False</td>\n",
       "      <td>False</td>\n",
       "      <td></td>\n",
       "    </tr>\n",
       "    <tr>\n",
       "      <th>4628</th>\n",
       "      <td>liber</td>\n",
       "      <td>22941</td>\n",
       "      <td>36345</td>\n",
       "      <td>17863</td>\n",
       "      <td>26167</td>\n",
       "      <td>25829.00</td>\n",
       "      <td>True</td>\n",
       "      <td>True</td>\n",
       "      <td>True</td>\n",
       "      <td>book, volume, inner bark of a tree, book, book</td>\n",
       "    </tr>\n",
       "    <tr>\n",
       "      <th>5471</th>\n",
       "      <td>aqua</td>\n",
       "      <td>11596</td>\n",
       "      <td>40688</td>\n",
       "      <td>19692</td>\n",
       "      <td>30750</td>\n",
       "      <td>25681.50</td>\n",
       "      <td>True</td>\n",
       "      <td>True</td>\n",
       "      <td>True</td>\n",
       "      <td>get/fetch/bring water, be watered</td>\n",
       "    </tr>\n",
       "  </tbody>\n",
       "</table>\n",
       "</div>"
      ]
     },
     "execution_count": 14,
     "metadata": {},
     "output_type": "execute_result"
    }
   ],
   "execution_count": 14
  },
  {
   "cell_type": "code",
   "execution_count": 4,
   "outputs": [],
   "source": [
    "vocab_freqs = filtered_vocab_df.set_index(\"word\")[\"1601-1650\"].to_dict()"
   ],
   "metadata": {
    "collapsed": false,
    "ExecuteTime": {
     "end_time": "2023-12-01T14:39:00.420023Z",
     "start_time": "2023-12-01T14:39:00.416499Z"
    }
   },
   "id": "47d9a51d920d7982"
  },
  {
   "cell_type": "markdown",
   "source": [
    "# FastText - development and testing"
   ],
   "metadata": {
    "collapsed": false
   },
   "id": "647b565348777eb8"
  },
  {
   "cell_type": "code",
   "execution_count": 5,
   "outputs": [],
   "source": [
    "# a genrator for iteration without flooding the CPU\n",
    "class SentsCorpus:\n",
    "    def __iter__(self):\n",
    "        for id in ids:\n",
    "            with open(\"../data/large_data/sents_lemmata/{}.txt\".format(str(id)), \"r\") as f:\n",
    "                sents_lemmata = [sent.strip().split() for sent in f.readlines()]\n",
    "            with open(\"../data/large_data/sents_pos/{}.txt\".format(str(id)), \"r\") as f:\n",
    "                sents_pos = [sent.strip().split() for sent in f.readlines()]\n",
    "            sents_lemmata_filtered = [] # initiate a new empty list for sentence lemmata filtered by POS tags \n",
    "            for n in range(len(sents_lemmata)):\n",
    "                try:\n",
    "                    pos_indices = [t[0] for t in enumerate(sents_pos[n]) if t[1] in [\"PROPN\", \"NOUN\",\"VERB\", \"ADJ\"]]\n",
    "                    sent_filtered = [sents_lemmata[n][i] for i in pos_indices]\n",
    "                    sent_filtered = [re.sub(\"\\W*|\\d*\", \"\", t) for t in sent_filtered]\n",
    "                    yield [t for t in sent_filtered if len(t)>1]\n",
    "                except:\n",
    "                    pass"
   ],
   "metadata": {
    "collapsed": false,
    "ExecuteTime": {
     "end_time": "2023-12-01T14:39:03.015533Z",
     "start_time": "2023-12-01T14:39:03.003660Z"
    }
   },
   "id": "44a3978460226a38"
  },
  {
   "cell_type": "code",
   "execution_count": 5,
   "outputs": [],
   "source": [],
   "metadata": {
    "collapsed": false,
    "ExecuteTime": {
     "end_time": "2023-12-01T14:39:03.570448Z",
     "start_time": "2023-12-01T14:39:03.548417Z"
    }
   },
   "id": "8d9194a2b1aaae7d"
  },
  {
   "cell_type": "code",
   "execution_count": 6,
   "outputs": [],
   "source": [
    "# test with a small corpus from one decade\n",
    "ids = metadata_table_long[metadata_table_long[\"file_year\"].between(1601, 1610)][\"id\"]\n",
    "vocab_freqs = filtered_vocab_df.set_index(\"word\")[\"1601-1650\"].to_dict()\n",
    "corpus = SentsCorpus()"
   ],
   "metadata": {
    "collapsed": false,
    "ExecuteTime": {
     "end_time": "2023-12-01T14:39:03.941146Z",
     "start_time": "2023-12-01T14:39:03.927411Z"
    }
   },
   "id": "2692044e0117bd93"
  },
  {
   "cell_type": "code",
   "execution_count": 7,
   "outputs": [
    {
     "data": {
      "text/plain": "190146"
     },
     "execution_count": 7,
     "metadata": {},
     "output_type": "execute_result"
    }
   ],
   "source": [
    "# how many sentences are there in the small corpus?\n",
    "len([s for s in corpus])"
   ],
   "metadata": {
    "collapsed": false,
    "ExecuteTime": {
     "end_time": "2023-12-01T14:39:07.269376Z",
     "start_time": "2023-12-01T14:39:04.407192Z"
    }
   },
   "id": "2d6c9ddd0849f254"
  },
  {
   "cell_type": "code",
   "execution_count": 17,
   "outputs": [
    {
     "name": "stdout",
     "output_type": "stream",
     "text": [
      "CPU times: user 3min 37s, sys: 1.03 s, total: 3min 38s\n",
      "Wall time: 55.7 s\n"
     ]
    },
    {
     "data": {
      "text/plain": "(9933198, 17796855)"
     },
     "execution_count": 17,
     "metadata": {},
     "output_type": "execute_result"
    }
   ],
   "source": [
    "%%time\n",
    "# let's train the model\n",
    "model = FastText(vector_size=100, window=10, negative=25, ns_exponent=1, sg=1, epochs=15, workers=8, min_n=5)\n",
    "model.build_vocab_from_freq(word_freq=vocab_freqs)\n",
    "model.train(corpus, total_examples=len([s for s in corpus]), epochs=model.epochs)"
   ],
   "metadata": {
    "collapsed": false,
    "ExecuteTime": {
     "end_time": "2023-12-01T14:22:08.097709Z",
     "start_time": "2023-12-01T14:21:12.483572Z"
    }
   },
   "id": "80679f8206f4d3e4"
  },
  {
   "cell_type": "code",
   "execution_count": 28,
   "outputs": [
    {
     "data": {
      "text/plain": "[('concentus', 0.587496817111969),\n ('motus', 0.574495255947113),\n ('parsimonia', 0.5609235167503357),\n ('notio', 0.541999876499176),\n ('incompositus', 0.5389410853385925),\n ('dissonus', 0.5348349809646606),\n ('vonia', 0.530706524848938),\n ('derideo', 0.5169634819030762),\n ('compositio', 0.5159138441085815),\n ('compos', 0.510573148727417)]"
     },
     "execution_count": 28,
     "metadata": {},
     "output_type": "execute_result"
    }
   ],
   "source": [
    "# most similar words to harmonia\n",
    "model.wv.most_similar(\"harmonia\")"
   ],
   "metadata": {
    "collapsed": false,
    "ExecuteTime": {
     "end_time": "2023-12-01T14:29:26.115352Z",
     "start_time": "2023-12-01T14:29:26.069005Z"
    }
   },
   "id": "b6ebcb869228b065"
  },
  {
   "cell_type": "markdown",
   "source": [
    "# FastText - training the main models"
   ],
   "metadata": {
    "collapsed": false
   },
   "id": "7a74afe549bdbf12"
  },
  {
   "cell_type": "code",
   "execution_count": 3,
   "outputs": [],
   "source": [
    "os.mkdir(\"../data/large_data/vectors/\")"
   ],
   "metadata": {
    "collapsed": false,
    "ExecuteTime": {
     "end_time": "2023-12-11T10:54:49.853889Z",
     "start_time": "2023-12-11T10:54:49.847614Z"
    }
   },
   "id": "2bbe8a3ebc3a637"
  },
  {
   "cell_type": "code",
   "execution_count": 8,
   "outputs": [
    {
     "data": {
      "text/plain": "Index(['1501-1550', '1551-1600', '1601-1650', '1651-1700'], dtype='object')"
     },
     "execution_count": 8,
     "metadata": {},
     "output_type": "execute_result"
    }
   ],
   "source": [
    "periods = [(1501, 1550),\n",
    "                      (1551, 1600),\n",
    "                      (1601, 1650),\n",
    "                      (1651, 1700)]\n",
    "periods_str = filtered_vocab_df.columns[1:5]\n",
    "periods_str"
   ],
   "metadata": {
    "collapsed": false,
    "ExecuteTime": {
     "end_time": "2023-12-01T14:39:26.135626Z",
     "start_time": "2023-12-01T14:39:26.118516Z"
    }
   },
   "id": "34d32735e819f3aa"
  },
  {
   "cell_type": "markdown",
   "source": [],
   "metadata": {
    "collapsed": false
   },
   "id": "89190d88e6790ab6"
  },
  {
   "cell_type": "code",
   "execution_count": 9,
   "outputs": [
    {
     "name": "stdout",
     "output_type": "stream",
     "text": [
      "model for the period 1501-1550 successfully trained.\n",
      "model for the period 1551-1600 successfully trained.\n",
      "model for the period 1601-1650 successfully trained.\n",
      "model for the period 1651-1700 successfully trained.\n",
      "CPU times: user 2h 23min 2s, sys: 36.5 s, total: 2h 23min 39s\n",
      "Wall time: 34min 39s\n"
     ]
    }
   ],
   "source": [
    "%%time\n",
    "# main training of the models\n",
    "for per_tup, per_str in zip(periods, periods_str):\n",
    "    ids = metadata_table_long[metadata_table_long[\"file_year\"].between(per_tup[0], per_tup[1])][\"id\"]\n",
    "    vocab_freqs = filtered_vocab_df.set_index(\"word\")[per_str].to_dict()\n",
    "    corpus = SentsCorpus()\n",
    "    model = FastText(vector_size=100, window=10, negative=25, ns_exponent=1, sg=1, epochs=15, workers=8, min_n=5)\n",
    "    model.build_vocab_from_freq(word_freq=vocab_freqs)\n",
    "    model.train(corpus, total_examples=len([s for s in corpus]), epochs=model.epochs)\n",
    "    print(\"model for the period {} successfully trained.\".format(per_str))\n",
    "    model.wv.save(\"../data/large_data/vectors/vectors_{}.wv\".format(per_str))"
   ],
   "metadata": {
    "collapsed": false,
    "ExecuteTime": {
     "end_time": "2023-12-01T15:14:19.201836Z",
     "start_time": "2023-12-01T14:39:39.575093Z"
    }
   },
   "id": "32e43f23118e0ee"
  },
  {
   "cell_type": "code",
   "execution_count": 6,
   "outputs": [
    {
     "data": {
      "text/plain": "'/Users/vojtechkase/Projects/noscemus_ETF/data/large_data/vectors.zip'"
     },
     "execution_count": 6,
     "metadata": {},
     "output_type": "execute_result"
    }
   ],
   "source": [
    "shutil.make_archive(\"../data/large_data/vectors\", 'zip', \"../data/large_data/vectors\") #"
   ],
   "metadata": {
    "collapsed": false,
    "ExecuteTime": {
     "end_time": "2023-12-11T10:57:23.743558Z",
     "start_time": "2023-12-11T10:55:28.580509Z"
    }
   },
   "id": "a53f5193283e0fa6"
  },
  {
   "cell_type": "code",
   "execution_count": 10,
   "outputs": [
    {
     "data": {
      "text/plain": "<Response [201]>"
     },
     "execution_count": 10,
     "metadata": {},
     "output_type": "execute_result"
    }
   ],
   "source": [
    "s.s.put(\"https://sciencedata.dk/sharingout/kase%40zcu.cz/TOME/DATA/NOSCEMUS/vectors.zip\", data=open(\"../data/large_data/vectors.zip\", \"rb\"))"
   ],
   "metadata": {
    "collapsed": false,
    "ExecuteTime": {
     "end_time": "2023-12-11T11:01:06.898040Z",
     "start_time": "2023-12-11T10:59:52.606219Z"
    }
   },
   "id": "e123fed450a9a7f5"
  },
  {
   "metadata": {
    "ExecuteTime": {
     "end_time": "2024-02-08T14:57:55.129404Z",
     "start_time": "2024-02-08T14:57:01.470490Z"
    }
   },
   "cell_type": "code",
   "source": "shutil.make_archive(\"../data/large_data/lila_vectors\", 'zip', \"../data/large_data/lila_vectors\") #",
   "id": "5ab4cb0ada47811b",
   "outputs": [
    {
     "data": {
      "text/plain": [
       "'/Users/vojtechkase/Projects/noscemus_ETF/data/large_data/lila_vectors.zip'"
      ]
     },
     "execution_count": 10,
     "metadata": {},
     "output_type": "execute_result"
    }
   ],
   "execution_count": 10
  },
  {
   "cell_type": "code",
   "source": "s.s.put(\"https://sciencedata.dk/sharingout/kase%40zcu.cz/TOME/DATA/NOSCEMUS/lila_vectors.zip\", data=open(\"../data/large_data/lila_vectors.zip\", \"rb\"))",
   "metadata": {
    "collapsed": false,
    "ExecuteTime": {
     "end_time": "2024-02-08T14:59:37.286699Z",
     "start_time": "2024-02-08T14:59:03.497861Z"
    }
   },
   "id": "9cc9d51280cb9cad",
   "outputs": [
    {
     "data": {
      "text/plain": [
       "<Response [204]>"
      ]
     },
     "execution_count": 11,
     "metadata": {},
     "output_type": "execute_result"
    }
   ],
   "execution_count": 11
  },
  {
   "metadata": {},
   "cell_type": "code",
   "outputs": [],
   "execution_count": null,
   "source": "",
   "id": "96c12a22950b22bf"
  },
  {
   "metadata": {
    "ExecuteTime": {
     "end_time": "2024-02-08T20:26:35.943701Z",
     "start_time": "2024-02-08T20:26:33.273335Z"
    }
   },
   "cell_type": "code",
   "source": [
    "periods_str = filtered_vocab_df.columns[1:5]\n",
    "vectors_dict = {\n",
    "    \"lasla\" : KeyedVectors.load_word2vec_format(\"../data/large_data/lila_vectors/allLASLA-lemmi-fast-100-SKIP-win5-min5.vec\"),\n",
    "    \"operamaiora\" : KeyedVectors.load_word2vec_format(\"../data/large_data/lila_vectors/opera-maiora-lemmas_skip_100.vec\")\n",
    "}\n",
    "for per_str in periods_str:\n",
    "    vectors_dict[per_str] = KeyedVectors.load(\"../data/large_data/vectors/vectors_{}.wv\".format(per_str))"
   ],
   "id": "4a18afb4d931ed98",
   "outputs": [],
   "execution_count": 15
  },
  {
   "metadata": {},
   "cell_type": "code",
   "outputs": [],
   "execution_count": null,
   "source": [
    "with open(\"../data/large_data/vectors_dict.pkl\", \"wb\") as file:\n",
    "    pickle.dump(vectors_dict, file)"
   ],
   "id": "b05ee82239d8cf07"
  },
  {
   "metadata": {
    "ExecuteTime": {
     "end_time": "2024-02-08T20:29:56.524765Z",
     "start_time": "2024-02-08T20:28:03.588579Z"
    }
   },
   "cell_type": "code",
   "source": "s.s.put(\"https://sciencedata.dk/sharingout/kase%40zcu.cz/TOME/DATA/NOSCEMUS/vectors_dict.pkl\", data=open(\"../data/large_data/vectors_dict.pkl\", \"rb\"))",
   "id": "32dd174616fd9702",
   "outputs": [
    {
     "data": {
      "text/plain": [
       "<Response [201]>"
      ]
     },
     "execution_count": 17,
     "metadata": {},
     "output_type": "execute_result"
    }
   ],
   "execution_count": 17
  },
  {
   "metadata": {},
   "cell_type": "code",
   "outputs": [],
   "execution_count": null,
   "source": "",
   "id": "958217ce5ed8e2ab"
  }
 ],
 "metadata": {
  "kernelspec": {
   "name": "brewkernel",
   "language": "python",
   "display_name": "brewkernel"
  },
  "language_info": {
   "codemirror_mode": {
    "name": "ipython",
    "version": 2
   },
   "file_extension": ".py",
   "mimetype": "text/x-python",
   "name": "python",
   "nbconvert_exporter": "python",
   "pygments_lexer": "ipython2",
   "version": "2.7.6"
  }
 },
 "nbformat": 4,
 "nbformat_minor": 5
}
