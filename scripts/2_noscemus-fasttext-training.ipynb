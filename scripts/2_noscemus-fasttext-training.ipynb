{
 "cells": [
  {
   "cell_type": "code",
   "id": "b0c3f2cfd2ca6805",
   "metadata": {
    "collapsed": false,
    "jupyter": {
     "outputs_hidden": false
    },
    "ExecuteTime": {
     "end_time": "2025-08-01T07:17:25.669313Z",
     "start_time": "2025-08-01T07:17:25.665686Z"
    }
   },
   "source": [
    "import pandas as pd\n",
    "from gensim.models.fasttext import FastText\n",
    "from gensim.models import KeyedVectors\n",
    "import re\n",
    "import os\n",
    "import shutil\n",
    "import sddk\n",
    "import pickle\n",
    "import json\n",
    "import nltk\n",
    "import pickle"
   ],
   "outputs": [],
   "execution_count": 16
  },
  {
   "cell_type": "code",
   "id": "initial_id",
   "metadata": {
    "ExecuteTime": {
     "end_time": "2025-08-01T07:17:26.022979Z",
     "start_time": "2025-08-01T07:17:25.993045Z"
    }
   },
   "source": [
    "metadata_table_long = pd.read_json(\"../data/metadata_table_long.json\")\n",
    "metadata_table_long.head(5)"
   ],
   "outputs": [
    {
     "data": {
      "text/plain": [
       "              Author                                         Full title  \\\n",
       "0  Achrelius, Daniel  Scientiarum magnes recitatus publice anno 1690...   \n",
       "1  Acidalius, Valens                 Ad Iordanum Brunum Nolanum, Italum   \n",
       "2    Acosta, José de  De natura novi orbis libri duo et De promulgat...   \n",
       "3     Adam, Melchior  Vitae Germanorum medicorum, qui saeculo superi...   \n",
       "4    Addison, Joseph  Ad insignissimum virum dominum Thomam Burnettu...   \n",
       "\n",
       "                                                  In  Year              Place  \\\n",
       "0                                               None  1690            [Turku]   \n",
       "1  Poematum Iani Lernutii, Iani Gulielmi, Valenti...  1603  Liegnitz, Wrocław   \n",
       "2                                               None  1589          Salamanca   \n",
       "3                                               None  1620         Heidelberg   \n",
       "4  Examen poeticum duplex, sive, Musarum anglican...  1698             London   \n",
       "\n",
       "       Publisher/Printer           Era      Form/Genre  \\\n",
       "0                   Wall  17th century         Oration   \n",
       "1          Albert, David  17th century  Panegyric poem   \n",
       "2       Guillelum Foquel  16th century       Monograph   \n",
       "3           Rosa, Geyder  17th century       Biography   \n",
       "4  Richard Wellington I.  17th century  Panegyric poem   \n",
       "\n",
       "                                  Discipline/Content  \\\n",
       "0  Mathematics, Astronomy/Astrology/Cosmography, ...   \n",
       "1                    Astronomy/Astrology/Cosmography   \n",
       "2  Astronomy/Astrology/Cosmography, Geography/Car...   \n",
       "3                                           Medicine   \n",
       "4                         Meteorology/Earth sciences   \n",
       "\n",
       "                                            Original  ...       ids      id  \\\n",
       "0                   Scientiarum magnes(Google Books)  ...  [705665]  705665   \n",
       "1  Ad Iordanum Brunum (1603)(CAMENA)Ad Iordanum B...  ...  [801745]  801745   \n",
       "2  De natura novi orbis(Biodiversity Heritage Lib...  ...  [713323]  713323   \n",
       "3  Vitae Germanorum medicorum(MDZ)Alternative lin...  ...  [693148]  693148   \n",
       "4  Ad Burnettum sacrae theoriae telluris auctorem...  ...  [769230]  769230   \n",
       "\n",
       "  date_min date_max                                           filename  \\\n",
       "0   1690.0   1690.0  Achrelius,_Daniel_-_Scientiarum_magnes__Turku_...   \n",
       "1   1603.0   1603.0  Janus_Lernutius_et_al__-_Poemata__Liegnitz_160...   \n",
       "2   1589.0   1589.0  Acosta,_José_de_-_De_natura_novi_orbis__Salama...   \n",
       "3   1620.0   1620.0  Adam,_Melchior_-_Vitae_Germanorum_medicorum__H...   \n",
       "4   1698.0   1698.0        Examen_poeticum_duplex__London_1698_pdf.txt   \n",
       "\n",
       "  file_year sents_n tokens_n  \\\n",
       "0    1690.0     630     8839   \n",
       "1    1603.0    6527    82445   \n",
       "2    1589.0    8905   170205   \n",
       "3    1620.0   17961   193272   \n",
       "4    1698.0    3533    47878   \n",
       "\n",
       "                                    disciplines_list   science_class  \n",
       "0  [Mathematics, Astronomy/Astrology/Cosmography,...         mixture  \n",
       "1                  [Astronomy/Astrology/Cosmography]  exact_sciences  \n",
       "2  [Astronomy/Astrology/Cosmography, Geography/Ca...  exact_sciences  \n",
       "3                                         [Medicine]   life_sciences  \n",
       "4                       [Meteorology/Earth sciences]  exact_sciences  \n",
       "\n",
       "[5 rows x 30 columns]"
      ],
      "text/html": [
       "<div>\n",
       "<style scoped>\n",
       "    .dataframe tbody tr th:only-of-type {\n",
       "        vertical-align: middle;\n",
       "    }\n",
       "\n",
       "    .dataframe tbody tr th {\n",
       "        vertical-align: top;\n",
       "    }\n",
       "\n",
       "    .dataframe thead th {\n",
       "        text-align: right;\n",
       "    }\n",
       "</style>\n",
       "<table border=\"1\" class=\"dataframe\">\n",
       "  <thead>\n",
       "    <tr style=\"text-align: right;\">\n",
       "      <th></th>\n",
       "      <th>Author</th>\n",
       "      <th>Full title</th>\n",
       "      <th>In</th>\n",
       "      <th>Year</th>\n",
       "      <th>Place</th>\n",
       "      <th>Publisher/Printer</th>\n",
       "      <th>Era</th>\n",
       "      <th>Form/Genre</th>\n",
       "      <th>Discipline/Content</th>\n",
       "      <th>Original</th>\n",
       "      <th>...</th>\n",
       "      <th>ids</th>\n",
       "      <th>id</th>\n",
       "      <th>date_min</th>\n",
       "      <th>date_max</th>\n",
       "      <th>filename</th>\n",
       "      <th>file_year</th>\n",
       "      <th>sents_n</th>\n",
       "      <th>tokens_n</th>\n",
       "      <th>disciplines_list</th>\n",
       "      <th>science_class</th>\n",
       "    </tr>\n",
       "  </thead>\n",
       "  <tbody>\n",
       "    <tr>\n",
       "      <th>0</th>\n",
       "      <td>Achrelius, Daniel</td>\n",
       "      <td>Scientiarum magnes recitatus publice anno 1690...</td>\n",
       "      <td>None</td>\n",
       "      <td>1690</td>\n",
       "      <td>[Turku]</td>\n",
       "      <td>Wall</td>\n",
       "      <td>17th century</td>\n",
       "      <td>Oration</td>\n",
       "      <td>Mathematics, Astronomy/Astrology/Cosmography, ...</td>\n",
       "      <td>Scientiarum magnes(Google Books)</td>\n",
       "      <td>...</td>\n",
       "      <td>[705665]</td>\n",
       "      <td>705665</td>\n",
       "      <td>1690.0</td>\n",
       "      <td>1690.0</td>\n",
       "      <td>Achrelius,_Daniel_-_Scientiarum_magnes__Turku_...</td>\n",
       "      <td>1690.0</td>\n",
       "      <td>630</td>\n",
       "      <td>8839</td>\n",
       "      <td>[Mathematics, Astronomy/Astrology/Cosmography,...</td>\n",
       "      <td>mixture</td>\n",
       "    </tr>\n",
       "    <tr>\n",
       "      <th>1</th>\n",
       "      <td>Acidalius, Valens</td>\n",
       "      <td>Ad Iordanum Brunum Nolanum, Italum</td>\n",
       "      <td>Poematum Iani Lernutii, Iani Gulielmi, Valenti...</td>\n",
       "      <td>1603</td>\n",
       "      <td>Liegnitz, Wrocław</td>\n",
       "      <td>Albert, David</td>\n",
       "      <td>17th century</td>\n",
       "      <td>Panegyric poem</td>\n",
       "      <td>Astronomy/Astrology/Cosmography</td>\n",
       "      <td>Ad Iordanum Brunum (1603)(CAMENA)Ad Iordanum B...</td>\n",
       "      <td>...</td>\n",
       "      <td>[801745]</td>\n",
       "      <td>801745</td>\n",
       "      <td>1603.0</td>\n",
       "      <td>1603.0</td>\n",
       "      <td>Janus_Lernutius_et_al__-_Poemata__Liegnitz_160...</td>\n",
       "      <td>1603.0</td>\n",
       "      <td>6527</td>\n",
       "      <td>82445</td>\n",
       "      <td>[Astronomy/Astrology/Cosmography]</td>\n",
       "      <td>exact_sciences</td>\n",
       "    </tr>\n",
       "    <tr>\n",
       "      <th>2</th>\n",
       "      <td>Acosta, José de</td>\n",
       "      <td>De natura novi orbis libri duo et De promulgat...</td>\n",
       "      <td>None</td>\n",
       "      <td>1589</td>\n",
       "      <td>Salamanca</td>\n",
       "      <td>Guillelum Foquel</td>\n",
       "      <td>16th century</td>\n",
       "      <td>Monograph</td>\n",
       "      <td>Astronomy/Astrology/Cosmography, Geography/Car...</td>\n",
       "      <td>De natura novi orbis(Biodiversity Heritage Lib...</td>\n",
       "      <td>...</td>\n",
       "      <td>[713323]</td>\n",
       "      <td>713323</td>\n",
       "      <td>1589.0</td>\n",
       "      <td>1589.0</td>\n",
       "      <td>Acosta,_José_de_-_De_natura_novi_orbis__Salama...</td>\n",
       "      <td>1589.0</td>\n",
       "      <td>8905</td>\n",
       "      <td>170205</td>\n",
       "      <td>[Astronomy/Astrology/Cosmography, Geography/Ca...</td>\n",
       "      <td>exact_sciences</td>\n",
       "    </tr>\n",
       "    <tr>\n",
       "      <th>3</th>\n",
       "      <td>Adam, Melchior</td>\n",
       "      <td>Vitae Germanorum medicorum, qui saeculo superi...</td>\n",
       "      <td>None</td>\n",
       "      <td>1620</td>\n",
       "      <td>Heidelberg</td>\n",
       "      <td>Rosa, Geyder</td>\n",
       "      <td>17th century</td>\n",
       "      <td>Biography</td>\n",
       "      <td>Medicine</td>\n",
       "      <td>Vitae Germanorum medicorum(MDZ)Alternative lin...</td>\n",
       "      <td>...</td>\n",
       "      <td>[693148]</td>\n",
       "      <td>693148</td>\n",
       "      <td>1620.0</td>\n",
       "      <td>1620.0</td>\n",
       "      <td>Adam,_Melchior_-_Vitae_Germanorum_medicorum__H...</td>\n",
       "      <td>1620.0</td>\n",
       "      <td>17961</td>\n",
       "      <td>193272</td>\n",
       "      <td>[Medicine]</td>\n",
       "      <td>life_sciences</td>\n",
       "    </tr>\n",
       "    <tr>\n",
       "      <th>4</th>\n",
       "      <td>Addison, Joseph</td>\n",
       "      <td>Ad insignissimum virum dominum Thomam Burnettu...</td>\n",
       "      <td>Examen poeticum duplex, sive, Musarum anglican...</td>\n",
       "      <td>1698</td>\n",
       "      <td>London</td>\n",
       "      <td>Richard Wellington I.</td>\n",
       "      <td>17th century</td>\n",
       "      <td>Panegyric poem</td>\n",
       "      <td>Meteorology/Earth sciences</td>\n",
       "      <td>Ad Burnettum sacrae theoriae telluris auctorem...</td>\n",
       "      <td>...</td>\n",
       "      <td>[769230]</td>\n",
       "      <td>769230</td>\n",
       "      <td>1698.0</td>\n",
       "      <td>1698.0</td>\n",
       "      <td>Examen_poeticum_duplex__London_1698_pdf.txt</td>\n",
       "      <td>1698.0</td>\n",
       "      <td>3533</td>\n",
       "      <td>47878</td>\n",
       "      <td>[Meteorology/Earth sciences]</td>\n",
       "      <td>exact_sciences</td>\n",
       "    </tr>\n",
       "  </tbody>\n",
       "</table>\n",
       "<p>5 rows × 30 columns</p>\n",
       "</div>"
      ]
     },
     "execution_count": 17,
     "metadata": {},
     "output_type": "execute_result"
    }
   ],
   "execution_count": 17
  },
  {
   "cell_type": "code",
   "id": "444e820a-c191-4a69-b6b6-4e9ec416a836",
   "metadata": {
    "ExecuteTime": {
     "end_time": "2025-08-01T07:19:12.779337Z",
     "start_time": "2025-08-01T07:19:12.660867Z"
    }
   },
   "source": [
    "filtered_vocab_df = pd.read_json(\"../data/filtered_vocab_df.json\")\n",
    "filtered_vocab_df.head(20)"
   ],
   "outputs": [
    {
     "data": {
      "text/plain": [
       "         word  1501-1550  1551-1600  1601-1650  1651-1700  Medicine  \\\n",
       "2313     dico      43255     122549      42457      72224    107036   \n",
       "4254    liber      39559      65900      38496      53100     97802   \n",
       "10443  possum      25029      82700      38391      76841     81305   \n",
       "6100    facio      31814      98524      36944      51438     96530   \n",
       "6099    habeo      31690      89199      39443      59770     81643   \n",
       "1764     pars      33225      93059      44337      52385     95410   \n",
       "8953      res      29069      70669      28291      51565     74400   \n",
       "1449    uideo      21536      59099      26372      50503     61322   \n",
       "2323    locus      23102      56782      31421      43680     50814   \n",
       "56       aqua      11747      41231      20765      34038     42778   \n",
       "10915  corpus      16979      63171      22871      31938     71457   \n",
       "449    primus      19306      52164      25164      27764     44626   \n",
       "8166   natura      13925      46648      17722      24288     52286   \n",
       "10217   terra      14371      27580      26947      38857     23983   \n",
       "3988     dies      15785      44607      25850      44412     32113   \n",
       "1902    ratio      12519      42955      20567      31100     40695   \n",
       "3476    motus      11987      35310      24422      35870     29468   \n",
       "2038   magnus      14494      39035      19243      26346     36306   \n",
       "4135     deus      10097      39366      14972      24714     32538   \n",
       "2263   tempus      12875      32854      18432      30522     30474   \n",
       "\n",
       "       Astronomy/Astrology/Cosmography  Biology  Mathematics  \\\n",
       "2313                             81298    76957        52414   \n",
       "4254                             65756    65230        49280   \n",
       "10443                            74924    50255        50826   \n",
       "6100                             62963    42272        45704   \n",
       "6099                             63141    61273        48571   \n",
       "1764                             65986    42118        53361   \n",
       "8953                             62681    42267        36572   \n",
       "1449                             53447    47212        28471   \n",
       "2323                             57201    40768        31263   \n",
       "56                               18714    30884        14948   \n",
       "10915                            42909    27375        19867   \n",
       "449                              48596    21484        37945   \n",
       "8166                             31713    25186        13004   \n",
       "10217                            52316    22310        17818   \n",
       "3988                             63961    20517        29157   \n",
       "1902                             41184    17922        32999   \n",
       "3476                             60982     9616        27402   \n",
       "2038                             29748    26973        20293   \n",
       "4135                             43001    18898        19402   \n",
       "2263                             41917    19571        22029   \n",
       "\n",
       "       Meteorology/Earth sciences  ...  Biology_freq  Mathematics_freq  \\\n",
       "2313                        44323  ...      0.003069          0.002645   \n",
       "4254                        50603  ...      0.002602          0.002487   \n",
       "10443                       41844  ...      0.002004          0.002565   \n",
       "6100                        32760  ...      0.001686          0.002307   \n",
       "6099                        33185  ...      0.002444          0.002451   \n",
       "1764                        31827  ...      0.001680          0.002693   \n",
       "8953                        40633  ...      0.001686          0.001846   \n",
       "1449                        28146  ...      0.001883          0.001437   \n",
       "2323                        25466  ...      0.001626          0.001578   \n",
       "56                          28253  ...      0.001232          0.000754   \n",
       "10915                       24931  ...      0.001092          0.001003   \n",
       "449                         18764  ...      0.000857          0.001915   \n",
       "8166                        23640  ...      0.001004          0.000656   \n",
       "10217                       28509  ...      0.000890          0.000899   \n",
       "3988                        12455  ...      0.000818          0.001471   \n",
       "1902                        18164  ...      0.000715          0.001665   \n",
       "3476                        18882  ...      0.000384          0.001383   \n",
       "2038                        15608  ...      0.001076          0.001024   \n",
       "4135                        18684  ...      0.000754          0.000979   \n",
       "2263                        15567  ...      0.000781          0.001112   \n",
       "\n",
       "       Meteorology/Earth sciences_freq  Physics_freq  \\\n",
       "2313                          0.002988      0.002912   \n",
       "4254                          0.003411      0.003108   \n",
       "10443                         0.002821      0.003553   \n",
       "6100                          0.002209      0.002487   \n",
       "6099                          0.002237      0.002355   \n",
       "1764                          0.002146      0.002476   \n",
       "8953                          0.002739      0.002701   \n",
       "1449                          0.001897      0.002244   \n",
       "2323                          0.001717      0.001703   \n",
       "56                            0.001905      0.001437   \n",
       "10915                         0.001681      0.001961   \n",
       "449                           0.001265      0.001391   \n",
       "8166                          0.001594      0.001274   \n",
       "10217                         0.001922      0.001396   \n",
       "3988                          0.000840      0.001295   \n",
       "1902                          0.001225      0.001543   \n",
       "3476                          0.001273      0.001879   \n",
       "2038                          0.001052      0.001026   \n",
       "4135                          0.001260      0.001397   \n",
       "2263                          0.001049      0.001231   \n",
       "\n",
       "       Geography/Cartography_freq  Alchemy/Chemistry_freq  EMLAP_freq  \\\n",
       "2313                     0.002816                0.002063    0.004034   \n",
       "4254                     0.003290                0.004743    0.001314   \n",
       "10443                    0.001975                0.002350    0.004110   \n",
       "6100                     0.001690                0.001891    0.004597   \n",
       "6099                     0.002320                0.001734    0.002807   \n",
       "1764                     0.001962                0.001895    0.002397   \n",
       "8953                     0.002085                0.002239    0.002556   \n",
       "1449                     0.001466                0.001554    0.001730   \n",
       "2323                     0.002230                0.001240    0.001090   \n",
       "56                       0.001160                0.001966    0.005758   \n",
       "10915                    0.000800                0.001397    0.003576   \n",
       "449                      0.001209                0.001102    0.001536   \n",
       "8166                     0.000820                0.001228    0.003748   \n",
       "10217                    0.001696                0.000885    0.001948   \n",
       "3988                     0.001202                0.000771    0.001252   \n",
       "1902                     0.000817                0.000849    0.001041   \n",
       "3476                     0.000785                0.000444    0.000272   \n",
       "2038                     0.001301                0.000898    0.000941   \n",
       "4135                     0.001102                0.000952    0.001120   \n",
       "2263                     0.001110                0.000762    0.000788   \n",
       "\n",
       "       mean_freq  shared                                             transl  \n",
       "2313    0.002921    True                                    say, call, tell  \n",
       "4254    0.002680    True     book, volume, inner bark of a tree, book, book  \n",
       "10443   0.002563    True                                       be able, can  \n",
       "6100    0.002367    True                                   do, make, handle  \n",
       "6099    0.002310    True               have, hold, possess, consider, think  \n",
       "1764    0.002279    True                                               part  \n",
       "8953    0.002129    True                                           suddenly  \n",
       "1449    0.001717    True                                                     \n",
       "2323    0.001632    True                                    place, location  \n",
       "56      0.001575    True                  get/fetch/bring water, be watered  \n",
       "10915   0.001571    True                                       body, corpus  \n",
       "449     0.001346    True                  first, foremost, chief, principal  \n",
       "8166    0.001313    True                                             nature  \n",
       "10217   0.001297    True                                        land, earth  \n",
       "3988    0.001247    True             (1.) Day (2.) day, Day, Diary (3.) Day  \n",
       "1902    0.001139    True  reckoning, account, reason, judgement, conside...  \n",
       "3476    0.001066    True  movement, motion, riot, commotion, disturbance...  \n",
       "2038    0.001043    True                                                big  \n",
       "4135    0.001039    True                  god, supreme being, statue of god  \n",
       "2263    0.001010    True  time, occasion, opportunity, condition, right ...  \n",
       "\n",
       "[20 rows x 34 columns]"
      ],
      "text/html": [
       "<div>\n",
       "<style scoped>\n",
       "    .dataframe tbody tr th:only-of-type {\n",
       "        vertical-align: middle;\n",
       "    }\n",
       "\n",
       "    .dataframe tbody tr th {\n",
       "        vertical-align: top;\n",
       "    }\n",
       "\n",
       "    .dataframe thead th {\n",
       "        text-align: right;\n",
       "    }\n",
       "</style>\n",
       "<table border=\"1\" class=\"dataframe\">\n",
       "  <thead>\n",
       "    <tr style=\"text-align: right;\">\n",
       "      <th></th>\n",
       "      <th>word</th>\n",
       "      <th>1501-1550</th>\n",
       "      <th>1551-1600</th>\n",
       "      <th>1601-1650</th>\n",
       "      <th>1651-1700</th>\n",
       "      <th>Medicine</th>\n",
       "      <th>Astronomy/Astrology/Cosmography</th>\n",
       "      <th>Biology</th>\n",
       "      <th>Mathematics</th>\n",
       "      <th>Meteorology/Earth sciences</th>\n",
       "      <th>...</th>\n",
       "      <th>Biology_freq</th>\n",
       "      <th>Mathematics_freq</th>\n",
       "      <th>Meteorology/Earth sciences_freq</th>\n",
       "      <th>Physics_freq</th>\n",
       "      <th>Geography/Cartography_freq</th>\n",
       "      <th>Alchemy/Chemistry_freq</th>\n",
       "      <th>EMLAP_freq</th>\n",
       "      <th>mean_freq</th>\n",
       "      <th>shared</th>\n",
       "      <th>transl</th>\n",
       "    </tr>\n",
       "  </thead>\n",
       "  <tbody>\n",
       "    <tr>\n",
       "      <th>2313</th>\n",
       "      <td>dico</td>\n",
       "      <td>43255</td>\n",
       "      <td>122549</td>\n",
       "      <td>42457</td>\n",
       "      <td>72224</td>\n",
       "      <td>107036</td>\n",
       "      <td>81298</td>\n",
       "      <td>76957</td>\n",
       "      <td>52414</td>\n",
       "      <td>44323</td>\n",
       "      <td>...</td>\n",
       "      <td>0.003069</td>\n",
       "      <td>0.002645</td>\n",
       "      <td>0.002988</td>\n",
       "      <td>0.002912</td>\n",
       "      <td>0.002816</td>\n",
       "      <td>0.002063</td>\n",
       "      <td>0.004034</td>\n",
       "      <td>0.002921</td>\n",
       "      <td>True</td>\n",
       "      <td>say, call, tell</td>\n",
       "    </tr>\n",
       "    <tr>\n",
       "      <th>4254</th>\n",
       "      <td>liber</td>\n",
       "      <td>39559</td>\n",
       "      <td>65900</td>\n",
       "      <td>38496</td>\n",
       "      <td>53100</td>\n",
       "      <td>97802</td>\n",
       "      <td>65756</td>\n",
       "      <td>65230</td>\n",
       "      <td>49280</td>\n",
       "      <td>50603</td>\n",
       "      <td>...</td>\n",
       "      <td>0.002602</td>\n",
       "      <td>0.002487</td>\n",
       "      <td>0.003411</td>\n",
       "      <td>0.003108</td>\n",
       "      <td>0.003290</td>\n",
       "      <td>0.004743</td>\n",
       "      <td>0.001314</td>\n",
       "      <td>0.002680</td>\n",
       "      <td>True</td>\n",
       "      <td>book, volume, inner bark of a tree, book, book</td>\n",
       "    </tr>\n",
       "    <tr>\n",
       "      <th>10443</th>\n",
       "      <td>possum</td>\n",
       "      <td>25029</td>\n",
       "      <td>82700</td>\n",
       "      <td>38391</td>\n",
       "      <td>76841</td>\n",
       "      <td>81305</td>\n",
       "      <td>74924</td>\n",
       "      <td>50255</td>\n",
       "      <td>50826</td>\n",
       "      <td>41844</td>\n",
       "      <td>...</td>\n",
       "      <td>0.002004</td>\n",
       "      <td>0.002565</td>\n",
       "      <td>0.002821</td>\n",
       "      <td>0.003553</td>\n",
       "      <td>0.001975</td>\n",
       "      <td>0.002350</td>\n",
       "      <td>0.004110</td>\n",
       "      <td>0.002563</td>\n",
       "      <td>True</td>\n",
       "      <td>be able, can</td>\n",
       "    </tr>\n",
       "    <tr>\n",
       "      <th>6100</th>\n",
       "      <td>facio</td>\n",
       "      <td>31814</td>\n",
       "      <td>98524</td>\n",
       "      <td>36944</td>\n",
       "      <td>51438</td>\n",
       "      <td>96530</td>\n",
       "      <td>62963</td>\n",
       "      <td>42272</td>\n",
       "      <td>45704</td>\n",
       "      <td>32760</td>\n",
       "      <td>...</td>\n",
       "      <td>0.001686</td>\n",
       "      <td>0.002307</td>\n",
       "      <td>0.002209</td>\n",
       "      <td>0.002487</td>\n",
       "      <td>0.001690</td>\n",
       "      <td>0.001891</td>\n",
       "      <td>0.004597</td>\n",
       "      <td>0.002367</td>\n",
       "      <td>True</td>\n",
       "      <td>do, make, handle</td>\n",
       "    </tr>\n",
       "    <tr>\n",
       "      <th>6099</th>\n",
       "      <td>habeo</td>\n",
       "      <td>31690</td>\n",
       "      <td>89199</td>\n",
       "      <td>39443</td>\n",
       "      <td>59770</td>\n",
       "      <td>81643</td>\n",
       "      <td>63141</td>\n",
       "      <td>61273</td>\n",
       "      <td>48571</td>\n",
       "      <td>33185</td>\n",
       "      <td>...</td>\n",
       "      <td>0.002444</td>\n",
       "      <td>0.002451</td>\n",
       "      <td>0.002237</td>\n",
       "      <td>0.002355</td>\n",
       "      <td>0.002320</td>\n",
       "      <td>0.001734</td>\n",
       "      <td>0.002807</td>\n",
       "      <td>0.002310</td>\n",
       "      <td>True</td>\n",
       "      <td>have, hold, possess, consider, think</td>\n",
       "    </tr>\n",
       "    <tr>\n",
       "      <th>1764</th>\n",
       "      <td>pars</td>\n",
       "      <td>33225</td>\n",
       "      <td>93059</td>\n",
       "      <td>44337</td>\n",
       "      <td>52385</td>\n",
       "      <td>95410</td>\n",
       "      <td>65986</td>\n",
       "      <td>42118</td>\n",
       "      <td>53361</td>\n",
       "      <td>31827</td>\n",
       "      <td>...</td>\n",
       "      <td>0.001680</td>\n",
       "      <td>0.002693</td>\n",
       "      <td>0.002146</td>\n",
       "      <td>0.002476</td>\n",
       "      <td>0.001962</td>\n",
       "      <td>0.001895</td>\n",
       "      <td>0.002397</td>\n",
       "      <td>0.002279</td>\n",
       "      <td>True</td>\n",
       "      <td>part</td>\n",
       "    </tr>\n",
       "    <tr>\n",
       "      <th>8953</th>\n",
       "      <td>res</td>\n",
       "      <td>29069</td>\n",
       "      <td>70669</td>\n",
       "      <td>28291</td>\n",
       "      <td>51565</td>\n",
       "      <td>74400</td>\n",
       "      <td>62681</td>\n",
       "      <td>42267</td>\n",
       "      <td>36572</td>\n",
       "      <td>40633</td>\n",
       "      <td>...</td>\n",
       "      <td>0.001686</td>\n",
       "      <td>0.001846</td>\n",
       "      <td>0.002739</td>\n",
       "      <td>0.002701</td>\n",
       "      <td>0.002085</td>\n",
       "      <td>0.002239</td>\n",
       "      <td>0.002556</td>\n",
       "      <td>0.002129</td>\n",
       "      <td>True</td>\n",
       "      <td>suddenly</td>\n",
       "    </tr>\n",
       "    <tr>\n",
       "      <th>1449</th>\n",
       "      <td>uideo</td>\n",
       "      <td>21536</td>\n",
       "      <td>59099</td>\n",
       "      <td>26372</td>\n",
       "      <td>50503</td>\n",
       "      <td>61322</td>\n",
       "      <td>53447</td>\n",
       "      <td>47212</td>\n",
       "      <td>28471</td>\n",
       "      <td>28146</td>\n",
       "      <td>...</td>\n",
       "      <td>0.001883</td>\n",
       "      <td>0.001437</td>\n",
       "      <td>0.001897</td>\n",
       "      <td>0.002244</td>\n",
       "      <td>0.001466</td>\n",
       "      <td>0.001554</td>\n",
       "      <td>0.001730</td>\n",
       "      <td>0.001717</td>\n",
       "      <td>True</td>\n",
       "      <td></td>\n",
       "    </tr>\n",
       "    <tr>\n",
       "      <th>2323</th>\n",
       "      <td>locus</td>\n",
       "      <td>23102</td>\n",
       "      <td>56782</td>\n",
       "      <td>31421</td>\n",
       "      <td>43680</td>\n",
       "      <td>50814</td>\n",
       "      <td>57201</td>\n",
       "      <td>40768</td>\n",
       "      <td>31263</td>\n",
       "      <td>25466</td>\n",
       "      <td>...</td>\n",
       "      <td>0.001626</td>\n",
       "      <td>0.001578</td>\n",
       "      <td>0.001717</td>\n",
       "      <td>0.001703</td>\n",
       "      <td>0.002230</td>\n",
       "      <td>0.001240</td>\n",
       "      <td>0.001090</td>\n",
       "      <td>0.001632</td>\n",
       "      <td>True</td>\n",
       "      <td>place, location</td>\n",
       "    </tr>\n",
       "    <tr>\n",
       "      <th>56</th>\n",
       "      <td>aqua</td>\n",
       "      <td>11747</td>\n",
       "      <td>41231</td>\n",
       "      <td>20765</td>\n",
       "      <td>34038</td>\n",
       "      <td>42778</td>\n",
       "      <td>18714</td>\n",
       "      <td>30884</td>\n",
       "      <td>14948</td>\n",
       "      <td>28253</td>\n",
       "      <td>...</td>\n",
       "      <td>0.001232</td>\n",
       "      <td>0.000754</td>\n",
       "      <td>0.001905</td>\n",
       "      <td>0.001437</td>\n",
       "      <td>0.001160</td>\n",
       "      <td>0.001966</td>\n",
       "      <td>0.005758</td>\n",
       "      <td>0.001575</td>\n",
       "      <td>True</td>\n",
       "      <td>get/fetch/bring water, be watered</td>\n",
       "    </tr>\n",
       "    <tr>\n",
       "      <th>10915</th>\n",
       "      <td>corpus</td>\n",
       "      <td>16979</td>\n",
       "      <td>63171</td>\n",
       "      <td>22871</td>\n",
       "      <td>31938</td>\n",
       "      <td>71457</td>\n",
       "      <td>42909</td>\n",
       "      <td>27375</td>\n",
       "      <td>19867</td>\n",
       "      <td>24931</td>\n",
       "      <td>...</td>\n",
       "      <td>0.001092</td>\n",
       "      <td>0.001003</td>\n",
       "      <td>0.001681</td>\n",
       "      <td>0.001961</td>\n",
       "      <td>0.000800</td>\n",
       "      <td>0.001397</td>\n",
       "      <td>0.003576</td>\n",
       "      <td>0.001571</td>\n",
       "      <td>True</td>\n",
       "      <td>body, corpus</td>\n",
       "    </tr>\n",
       "    <tr>\n",
       "      <th>449</th>\n",
       "      <td>primus</td>\n",
       "      <td>19306</td>\n",
       "      <td>52164</td>\n",
       "      <td>25164</td>\n",
       "      <td>27764</td>\n",
       "      <td>44626</td>\n",
       "      <td>48596</td>\n",
       "      <td>21484</td>\n",
       "      <td>37945</td>\n",
       "      <td>18764</td>\n",
       "      <td>...</td>\n",
       "      <td>0.000857</td>\n",
       "      <td>0.001915</td>\n",
       "      <td>0.001265</td>\n",
       "      <td>0.001391</td>\n",
       "      <td>0.001209</td>\n",
       "      <td>0.001102</td>\n",
       "      <td>0.001536</td>\n",
       "      <td>0.001346</td>\n",
       "      <td>True</td>\n",
       "      <td>first, foremost, chief, principal</td>\n",
       "    </tr>\n",
       "    <tr>\n",
       "      <th>8166</th>\n",
       "      <td>natura</td>\n",
       "      <td>13925</td>\n",
       "      <td>46648</td>\n",
       "      <td>17722</td>\n",
       "      <td>24288</td>\n",
       "      <td>52286</td>\n",
       "      <td>31713</td>\n",
       "      <td>25186</td>\n",
       "      <td>13004</td>\n",
       "      <td>23640</td>\n",
       "      <td>...</td>\n",
       "      <td>0.001004</td>\n",
       "      <td>0.000656</td>\n",
       "      <td>0.001594</td>\n",
       "      <td>0.001274</td>\n",
       "      <td>0.000820</td>\n",
       "      <td>0.001228</td>\n",
       "      <td>0.003748</td>\n",
       "      <td>0.001313</td>\n",
       "      <td>True</td>\n",
       "      <td>nature</td>\n",
       "    </tr>\n",
       "    <tr>\n",
       "      <th>10217</th>\n",
       "      <td>terra</td>\n",
       "      <td>14371</td>\n",
       "      <td>27580</td>\n",
       "      <td>26947</td>\n",
       "      <td>38857</td>\n",
       "      <td>23983</td>\n",
       "      <td>52316</td>\n",
       "      <td>22310</td>\n",
       "      <td>17818</td>\n",
       "      <td>28509</td>\n",
       "      <td>...</td>\n",
       "      <td>0.000890</td>\n",
       "      <td>0.000899</td>\n",
       "      <td>0.001922</td>\n",
       "      <td>0.001396</td>\n",
       "      <td>0.001696</td>\n",
       "      <td>0.000885</td>\n",
       "      <td>0.001948</td>\n",
       "      <td>0.001297</td>\n",
       "      <td>True</td>\n",
       "      <td>land, earth</td>\n",
       "    </tr>\n",
       "    <tr>\n",
       "      <th>3988</th>\n",
       "      <td>dies</td>\n",
       "      <td>15785</td>\n",
       "      <td>44607</td>\n",
       "      <td>25850</td>\n",
       "      <td>44412</td>\n",
       "      <td>32113</td>\n",
       "      <td>63961</td>\n",
       "      <td>20517</td>\n",
       "      <td>29157</td>\n",
       "      <td>12455</td>\n",
       "      <td>...</td>\n",
       "      <td>0.000818</td>\n",
       "      <td>0.001471</td>\n",
       "      <td>0.000840</td>\n",
       "      <td>0.001295</td>\n",
       "      <td>0.001202</td>\n",
       "      <td>0.000771</td>\n",
       "      <td>0.001252</td>\n",
       "      <td>0.001247</td>\n",
       "      <td>True</td>\n",
       "      <td>(1.) Day (2.) day, Day, Diary (3.) Day</td>\n",
       "    </tr>\n",
       "    <tr>\n",
       "      <th>1902</th>\n",
       "      <td>ratio</td>\n",
       "      <td>12519</td>\n",
       "      <td>42955</td>\n",
       "      <td>20567</td>\n",
       "      <td>31100</td>\n",
       "      <td>40695</td>\n",
       "      <td>41184</td>\n",
       "      <td>17922</td>\n",
       "      <td>32999</td>\n",
       "      <td>18164</td>\n",
       "      <td>...</td>\n",
       "      <td>0.000715</td>\n",
       "      <td>0.001665</td>\n",
       "      <td>0.001225</td>\n",
       "      <td>0.001543</td>\n",
       "      <td>0.000817</td>\n",
       "      <td>0.000849</td>\n",
       "      <td>0.001041</td>\n",
       "      <td>0.001139</td>\n",
       "      <td>True</td>\n",
       "      <td>reckoning, account, reason, judgement, conside...</td>\n",
       "    </tr>\n",
       "    <tr>\n",
       "      <th>3476</th>\n",
       "      <td>motus</td>\n",
       "      <td>11987</td>\n",
       "      <td>35310</td>\n",
       "      <td>24422</td>\n",
       "      <td>35870</td>\n",
       "      <td>29468</td>\n",
       "      <td>60982</td>\n",
       "      <td>9616</td>\n",
       "      <td>27402</td>\n",
       "      <td>18882</td>\n",
       "      <td>...</td>\n",
       "      <td>0.000384</td>\n",
       "      <td>0.001383</td>\n",
       "      <td>0.001273</td>\n",
       "      <td>0.001879</td>\n",
       "      <td>0.000785</td>\n",
       "      <td>0.000444</td>\n",
       "      <td>0.000272</td>\n",
       "      <td>0.001066</td>\n",
       "      <td>True</td>\n",
       "      <td>movement, motion, riot, commotion, disturbance...</td>\n",
       "    </tr>\n",
       "    <tr>\n",
       "      <th>2038</th>\n",
       "      <td>magnus</td>\n",
       "      <td>14494</td>\n",
       "      <td>39035</td>\n",
       "      <td>19243</td>\n",
       "      <td>26346</td>\n",
       "      <td>36306</td>\n",
       "      <td>29748</td>\n",
       "      <td>26973</td>\n",
       "      <td>20293</td>\n",
       "      <td>15608</td>\n",
       "      <td>...</td>\n",
       "      <td>0.001076</td>\n",
       "      <td>0.001024</td>\n",
       "      <td>0.001052</td>\n",
       "      <td>0.001026</td>\n",
       "      <td>0.001301</td>\n",
       "      <td>0.000898</td>\n",
       "      <td>0.000941</td>\n",
       "      <td>0.001043</td>\n",
       "      <td>True</td>\n",
       "      <td>big</td>\n",
       "    </tr>\n",
       "    <tr>\n",
       "      <th>4135</th>\n",
       "      <td>deus</td>\n",
       "      <td>10097</td>\n",
       "      <td>39366</td>\n",
       "      <td>14972</td>\n",
       "      <td>24714</td>\n",
       "      <td>32538</td>\n",
       "      <td>43001</td>\n",
       "      <td>18898</td>\n",
       "      <td>19402</td>\n",
       "      <td>18684</td>\n",
       "      <td>...</td>\n",
       "      <td>0.000754</td>\n",
       "      <td>0.000979</td>\n",
       "      <td>0.001260</td>\n",
       "      <td>0.001397</td>\n",
       "      <td>0.001102</td>\n",
       "      <td>0.000952</td>\n",
       "      <td>0.001120</td>\n",
       "      <td>0.001039</td>\n",
       "      <td>True</td>\n",
       "      <td>god, supreme being, statue of god</td>\n",
       "    </tr>\n",
       "    <tr>\n",
       "      <th>2263</th>\n",
       "      <td>tempus</td>\n",
       "      <td>12875</td>\n",
       "      <td>32854</td>\n",
       "      <td>18432</td>\n",
       "      <td>30522</td>\n",
       "      <td>30474</td>\n",
       "      <td>41917</td>\n",
       "      <td>19571</td>\n",
       "      <td>22029</td>\n",
       "      <td>15567</td>\n",
       "      <td>...</td>\n",
       "      <td>0.000781</td>\n",
       "      <td>0.001112</td>\n",
       "      <td>0.001049</td>\n",
       "      <td>0.001231</td>\n",
       "      <td>0.001110</td>\n",
       "      <td>0.000762</td>\n",
       "      <td>0.000788</td>\n",
       "      <td>0.001010</td>\n",
       "      <td>True</td>\n",
       "      <td>time, occasion, opportunity, condition, right ...</td>\n",
       "    </tr>\n",
       "  </tbody>\n",
       "</table>\n",
       "<p>20 rows × 34 columns</p>\n",
       "</div>"
      ]
     },
     "execution_count": 21,
     "metadata": {},
     "output_type": "execute_result"
    }
   ],
   "execution_count": 21
  },
  {
   "metadata": {
    "ExecuteTime": {
     "end_time": "2025-08-01T07:19:12.914497Z",
     "start_time": "2025-08-01T07:19:12.901920Z"
    }
   },
   "cell_type": "code",
   "source": "filtered_vocab_df[filtered_vocab_df[\"word\"].str.startswith(\"alch\")]",
   "id": "602eff6200b72294",
   "outputs": [
    {
     "data": {
      "text/plain": [
       "             word  1501-1550  1551-1600  1601-1650  1651-1700  Medicine  \\\n",
       "4213     alchemia          7        354        281         72        85   \n",
       "7158     alchimia         11         31         49        187        66   \n",
       "4534     alchymia         16         70         86        272       200   \n",
       "4661   alchymista          0         35         33        162        33   \n",
       "5414   alchimista          4         13          5         49         7   \n",
       "10538  alchymicus          4         19          5         34        10   \n",
       "6787   alchimicus          0          9          3         20         5   \n",
       "5627    alchimias          0          5          1         61         3   \n",
       "8451    alchimius          0          4          1          2         0   \n",
       "\n",
       "       Astronomy/Astrology/Cosmography  Biology  Mathematics  \\\n",
       "4213                                15       15           15   \n",
       "7158                                33       36           20   \n",
       "4534                                51      123           34   \n",
       "4661                                15      127           10   \n",
       "5414                                10       16            0   \n",
       "10538                                6       34            4   \n",
       "6787                                 3        2            0   \n",
       "5627                                 0        3            0   \n",
       "8451                                 2        0            0   \n",
       "\n",
       "       Meteorology/Earth sciences  ...  Biology_freq  Mathematics_freq  \\\n",
       "4213                           16  ...  5.982000e-07      7.570000e-07   \n",
       "7158                           51  ...  1.435800e-06      1.009300e-06   \n",
       "4534                          161  ...  4.905500e-06      1.715900e-06   \n",
       "4661                          149  ...  5.065000e-06      5.047000e-07   \n",
       "5414                           41  ...  6.381000e-07      0.000000e+00   \n",
       "10538                          40  ...  1.356000e-06      2.019000e-07   \n",
       "6787                            2  ...  7.980000e-08      0.000000e+00   \n",
       "5627                            9  ...  1.196000e-07      0.000000e+00   \n",
       "8451                            1  ...  0.000000e+00      0.000000e+00   \n",
       "\n",
       "       Meteorology/Earth sciences_freq  Physics_freq  \\\n",
       "4213                      1.078600e-06  9.177000e-07   \n",
       "7158                      3.438200e-06  1.223600e-06   \n",
       "4534                      1.085390e-05  3.609700e-06   \n",
       "4661                      1.004490e-05  1.774200e-06   \n",
       "5414                      2.764000e-06  2.447000e-07   \n",
       "10538                     2.696600e-06  6.730000e-07   \n",
       "6787                      1.348000e-07  0.000000e+00   \n",
       "5627                      6.067000e-07  0.000000e+00   \n",
       "8451                      6.740000e-08  0.000000e+00   \n",
       "\n",
       "       Geography/Cartography_freq  Alchemy/Chemistry_freq  EMLAP_freq  \\\n",
       "4213                 1.061800e-06            1.039912e-04    0.000063   \n",
       "7158                 2.689800e-06            2.991970e-05    0.000113   \n",
       "4534                 9.839100e-06            1.358520e-05    0.000034   \n",
       "4661                 8.918900e-06            6.630900e-06    0.000016   \n",
       "5414                 1.132600e-06            2.102500e-06    0.000033   \n",
       "10538                2.123500e-06            2.425900e-06    0.000011   \n",
       "6787                 1.416000e-07            3.558000e-06    0.000017   \n",
       "5627                 2.124000e-07            8.895000e-06    0.000010   \n",
       "8451                 0.000000e+00            4.852000e-07    0.000010   \n",
       "\n",
       "          mean_freq  shared     transl  \n",
       "4213   1.560640e-05   False    alchemy  \n",
       "7158   1.286430e-05    True    alchemy  \n",
       "4534   7.997100e-06    True             \n",
       "4661   4.548100e-06   False             \n",
       "5414   3.334500e-06   False  alchemist  \n",
       "10538  1.762000e-06   False             \n",
       "6787   1.728400e-06   False             \n",
       "5627   1.698400e-06   False    alchemy  \n",
       "8451   8.144000e-07   False             \n",
       "\n",
       "[9 rows x 34 columns]"
      ],
      "text/html": [
       "<div>\n",
       "<style scoped>\n",
       "    .dataframe tbody tr th:only-of-type {\n",
       "        vertical-align: middle;\n",
       "    }\n",
       "\n",
       "    .dataframe tbody tr th {\n",
       "        vertical-align: top;\n",
       "    }\n",
       "\n",
       "    .dataframe thead th {\n",
       "        text-align: right;\n",
       "    }\n",
       "</style>\n",
       "<table border=\"1\" class=\"dataframe\">\n",
       "  <thead>\n",
       "    <tr style=\"text-align: right;\">\n",
       "      <th></th>\n",
       "      <th>word</th>\n",
       "      <th>1501-1550</th>\n",
       "      <th>1551-1600</th>\n",
       "      <th>1601-1650</th>\n",
       "      <th>1651-1700</th>\n",
       "      <th>Medicine</th>\n",
       "      <th>Astronomy/Astrology/Cosmography</th>\n",
       "      <th>Biology</th>\n",
       "      <th>Mathematics</th>\n",
       "      <th>Meteorology/Earth sciences</th>\n",
       "      <th>...</th>\n",
       "      <th>Biology_freq</th>\n",
       "      <th>Mathematics_freq</th>\n",
       "      <th>Meteorology/Earth sciences_freq</th>\n",
       "      <th>Physics_freq</th>\n",
       "      <th>Geography/Cartography_freq</th>\n",
       "      <th>Alchemy/Chemistry_freq</th>\n",
       "      <th>EMLAP_freq</th>\n",
       "      <th>mean_freq</th>\n",
       "      <th>shared</th>\n",
       "      <th>transl</th>\n",
       "    </tr>\n",
       "  </thead>\n",
       "  <tbody>\n",
       "    <tr>\n",
       "      <th>4213</th>\n",
       "      <td>alchemia</td>\n",
       "      <td>7</td>\n",
       "      <td>354</td>\n",
       "      <td>281</td>\n",
       "      <td>72</td>\n",
       "      <td>85</td>\n",
       "      <td>15</td>\n",
       "      <td>15</td>\n",
       "      <td>15</td>\n",
       "      <td>16</td>\n",
       "      <td>...</td>\n",
       "      <td>5.982000e-07</td>\n",
       "      <td>7.570000e-07</td>\n",
       "      <td>1.078600e-06</td>\n",
       "      <td>9.177000e-07</td>\n",
       "      <td>1.061800e-06</td>\n",
       "      <td>1.039912e-04</td>\n",
       "      <td>0.000063</td>\n",
       "      <td>1.560640e-05</td>\n",
       "      <td>False</td>\n",
       "      <td>alchemy</td>\n",
       "    </tr>\n",
       "    <tr>\n",
       "      <th>7158</th>\n",
       "      <td>alchimia</td>\n",
       "      <td>11</td>\n",
       "      <td>31</td>\n",
       "      <td>49</td>\n",
       "      <td>187</td>\n",
       "      <td>66</td>\n",
       "      <td>33</td>\n",
       "      <td>36</td>\n",
       "      <td>20</td>\n",
       "      <td>51</td>\n",
       "      <td>...</td>\n",
       "      <td>1.435800e-06</td>\n",
       "      <td>1.009300e-06</td>\n",
       "      <td>3.438200e-06</td>\n",
       "      <td>1.223600e-06</td>\n",
       "      <td>2.689800e-06</td>\n",
       "      <td>2.991970e-05</td>\n",
       "      <td>0.000113</td>\n",
       "      <td>1.286430e-05</td>\n",
       "      <td>True</td>\n",
       "      <td>alchemy</td>\n",
       "    </tr>\n",
       "    <tr>\n",
       "      <th>4534</th>\n",
       "      <td>alchymia</td>\n",
       "      <td>16</td>\n",
       "      <td>70</td>\n",
       "      <td>86</td>\n",
       "      <td>272</td>\n",
       "      <td>200</td>\n",
       "      <td>51</td>\n",
       "      <td>123</td>\n",
       "      <td>34</td>\n",
       "      <td>161</td>\n",
       "      <td>...</td>\n",
       "      <td>4.905500e-06</td>\n",
       "      <td>1.715900e-06</td>\n",
       "      <td>1.085390e-05</td>\n",
       "      <td>3.609700e-06</td>\n",
       "      <td>9.839100e-06</td>\n",
       "      <td>1.358520e-05</td>\n",
       "      <td>0.000034</td>\n",
       "      <td>7.997100e-06</td>\n",
       "      <td>True</td>\n",
       "      <td></td>\n",
       "    </tr>\n",
       "    <tr>\n",
       "      <th>4661</th>\n",
       "      <td>alchymista</td>\n",
       "      <td>0</td>\n",
       "      <td>35</td>\n",
       "      <td>33</td>\n",
       "      <td>162</td>\n",
       "      <td>33</td>\n",
       "      <td>15</td>\n",
       "      <td>127</td>\n",
       "      <td>10</td>\n",
       "      <td>149</td>\n",
       "      <td>...</td>\n",
       "      <td>5.065000e-06</td>\n",
       "      <td>5.047000e-07</td>\n",
       "      <td>1.004490e-05</td>\n",
       "      <td>1.774200e-06</td>\n",
       "      <td>8.918900e-06</td>\n",
       "      <td>6.630900e-06</td>\n",
       "      <td>0.000016</td>\n",
       "      <td>4.548100e-06</td>\n",
       "      <td>False</td>\n",
       "      <td></td>\n",
       "    </tr>\n",
       "    <tr>\n",
       "      <th>5414</th>\n",
       "      <td>alchimista</td>\n",
       "      <td>4</td>\n",
       "      <td>13</td>\n",
       "      <td>5</td>\n",
       "      <td>49</td>\n",
       "      <td>7</td>\n",
       "      <td>10</td>\n",
       "      <td>16</td>\n",
       "      <td>0</td>\n",
       "      <td>41</td>\n",
       "      <td>...</td>\n",
       "      <td>6.381000e-07</td>\n",
       "      <td>0.000000e+00</td>\n",
       "      <td>2.764000e-06</td>\n",
       "      <td>2.447000e-07</td>\n",
       "      <td>1.132600e-06</td>\n",
       "      <td>2.102500e-06</td>\n",
       "      <td>0.000033</td>\n",
       "      <td>3.334500e-06</td>\n",
       "      <td>False</td>\n",
       "      <td>alchemist</td>\n",
       "    </tr>\n",
       "    <tr>\n",
       "      <th>10538</th>\n",
       "      <td>alchymicus</td>\n",
       "      <td>4</td>\n",
       "      <td>19</td>\n",
       "      <td>5</td>\n",
       "      <td>34</td>\n",
       "      <td>10</td>\n",
       "      <td>6</td>\n",
       "      <td>34</td>\n",
       "      <td>4</td>\n",
       "      <td>40</td>\n",
       "      <td>...</td>\n",
       "      <td>1.356000e-06</td>\n",
       "      <td>2.019000e-07</td>\n",
       "      <td>2.696600e-06</td>\n",
       "      <td>6.730000e-07</td>\n",
       "      <td>2.123500e-06</td>\n",
       "      <td>2.425900e-06</td>\n",
       "      <td>0.000011</td>\n",
       "      <td>1.762000e-06</td>\n",
       "      <td>False</td>\n",
       "      <td></td>\n",
       "    </tr>\n",
       "    <tr>\n",
       "      <th>6787</th>\n",
       "      <td>alchimicus</td>\n",
       "      <td>0</td>\n",
       "      <td>9</td>\n",
       "      <td>3</td>\n",
       "      <td>20</td>\n",
       "      <td>5</td>\n",
       "      <td>3</td>\n",
       "      <td>2</td>\n",
       "      <td>0</td>\n",
       "      <td>2</td>\n",
       "      <td>...</td>\n",
       "      <td>7.980000e-08</td>\n",
       "      <td>0.000000e+00</td>\n",
       "      <td>1.348000e-07</td>\n",
       "      <td>0.000000e+00</td>\n",
       "      <td>1.416000e-07</td>\n",
       "      <td>3.558000e-06</td>\n",
       "      <td>0.000017</td>\n",
       "      <td>1.728400e-06</td>\n",
       "      <td>False</td>\n",
       "      <td></td>\n",
       "    </tr>\n",
       "    <tr>\n",
       "      <th>5627</th>\n",
       "      <td>alchimias</td>\n",
       "      <td>0</td>\n",
       "      <td>5</td>\n",
       "      <td>1</td>\n",
       "      <td>61</td>\n",
       "      <td>3</td>\n",
       "      <td>0</td>\n",
       "      <td>3</td>\n",
       "      <td>0</td>\n",
       "      <td>9</td>\n",
       "      <td>...</td>\n",
       "      <td>1.196000e-07</td>\n",
       "      <td>0.000000e+00</td>\n",
       "      <td>6.067000e-07</td>\n",
       "      <td>0.000000e+00</td>\n",
       "      <td>2.124000e-07</td>\n",
       "      <td>8.895000e-06</td>\n",
       "      <td>0.000010</td>\n",
       "      <td>1.698400e-06</td>\n",
       "      <td>False</td>\n",
       "      <td>alchemy</td>\n",
       "    </tr>\n",
       "    <tr>\n",
       "      <th>8451</th>\n",
       "      <td>alchimius</td>\n",
       "      <td>0</td>\n",
       "      <td>4</td>\n",
       "      <td>1</td>\n",
       "      <td>2</td>\n",
       "      <td>0</td>\n",
       "      <td>2</td>\n",
       "      <td>0</td>\n",
       "      <td>0</td>\n",
       "      <td>1</td>\n",
       "      <td>...</td>\n",
       "      <td>0.000000e+00</td>\n",
       "      <td>0.000000e+00</td>\n",
       "      <td>6.740000e-08</td>\n",
       "      <td>0.000000e+00</td>\n",
       "      <td>0.000000e+00</td>\n",
       "      <td>4.852000e-07</td>\n",
       "      <td>0.000010</td>\n",
       "      <td>8.144000e-07</td>\n",
       "      <td>False</td>\n",
       "      <td></td>\n",
       "    </tr>\n",
       "  </tbody>\n",
       "</table>\n",
       "<p>9 rows × 34 columns</p>\n",
       "</div>"
      ]
     },
     "execution_count": 22,
     "metadata": {},
     "output_type": "execute_result"
    }
   ],
   "execution_count": 22
  },
  {
   "metadata": {
    "ExecuteTime": {
     "end_time": "2025-08-01T07:19:13.267858Z",
     "start_time": "2025-08-01T07:19:13.263112Z"
    }
   },
   "cell_type": "code",
   "source": "filtered_vocab_df = filtered_vocab_df[filtered_vocab_df[\"word\"].apply(lambda x: len(x) > 2)]",
   "id": "8095eb50337bd81f",
   "outputs": [],
   "execution_count": 23
  },
  {
   "cell_type": "code",
   "id": "47d9a51d920d7982",
   "metadata": {
    "collapsed": false,
    "jupyter": {
     "outputs_hidden": false
    },
    "ExecuteTime": {
     "end_time": "2025-08-01T07:19:17.062489Z",
     "start_time": "2025-08-01T07:19:17.056210Z"
    }
   },
   "source": [
    "vocab_freqs = filtered_vocab_df.set_index(\"word\")[\"1601-1650\"].to_dict()"
   ],
   "outputs": [],
   "execution_count": 24
  },
  {
   "cell_type": "markdown",
   "id": "647b565348777eb8",
   "metadata": {
    "collapsed": false,
    "jupyter": {
     "outputs_hidden": false
    }
   },
   "source": [
    "# FastText - development and testing"
   ]
  },
  {
   "metadata": {
    "ExecuteTime": {
     "end_time": "2025-08-01T07:19:18.080795Z",
     "start_time": "2025-08-01T07:19:18.076970Z"
    }
   },
   "cell_type": "code",
   "source": "metadata_table_long[\"id\"].tolist()[0]",
   "id": "6aaecf9221cb5a1f",
   "outputs": [
    {
     "data": {
      "text/plain": [
       "705665"
      ]
     },
     "execution_count": 25,
     "metadata": {},
     "output_type": "execute_result"
    }
   ],
   "execution_count": 25
  },
  {
   "metadata": {
    "ExecuteTime": {
     "end_time": "2025-07-10T11:34:41.769863Z",
     "start_time": "2025-07-10T11:34:41.756048Z"
    }
   },
   "cell_type": "code",
   "source": [
    "source_path = \"/srv/data/tome/noscemus/sents_data_jsons/\"\n",
    "id = metadata_table_long[\"id\"].tolist()[0]\n",
    "f_sents_data = json.load(open(source_path + str(id) + \".json\", \"rb\"))\n",
    "f_sents_data[10:15]"
   ],
   "id": "ffd80213984df493",
   "outputs": [
    {
     "data": {
      "text/plain": [
       "[['705665',\n",
       "  10,\n",
       "  'Adfulgeant Omnia Bona!',\n",
       "  [['Adfulgeant', 'adfulgeo', 'VERB', [0, 10]],\n",
       "   ['Omnia', 'omnis', 'DET', [11, 16]],\n",
       "   ['Bona', 'Bonum', 'NOUN', [17, 21]],\n",
       "   ['!', '!', 'PUNCT', [21, 22]]]],\n",
       " ['705665',\n",
       "  11,\n",
       "  'Digitized by Google Diuina Majestate * Signati Augustissime Augustissima Regum, Regina, Cogitatione, Consiliis, Affectu, Parentes Patriae!',\n",
       "  [['Digitized', 'digitized', 'VERB', [0, 9]],\n",
       "   ['by', 'by', 'SCONJ', [10, 12]],\n",
       "   ['Google', 'Google', 'PROPN', [13, 19]],\n",
       "   ['Diuina', 'diuinus', 'ADJ', [20, 26]],\n",
       "   ['Majestate', 'maiestas', 'NOUN', [27, 36]],\n",
       "   ['*', '*', 'PUNCT', [37, 38]],\n",
       "   ['Signati', 'signatus', 'VERB', [39, 46]],\n",
       "   ['Augustissime', 'augustissimus', 'ADV', [47, 59]],\n",
       "   ['Augustissima', 'augustissimus', 'ADJ', [60, 72]],\n",
       "   ['Regum', 'rex', 'NOUN', [73, 78]],\n",
       "   [',', ',', 'PUNCT', [78, 79]],\n",
       "   ['Regina', 'regina', 'NOUN', [80, 86]],\n",
       "   [',', ',', 'PUNCT', [86, 87]],\n",
       "   ['Cogitatione', 'cogitatio', 'NOUN', [88, 99]],\n",
       "   [',', ',', 'PUNCT', [99, 100]],\n",
       "   ['Consiliis', 'consilium', 'NOUN', [101, 110]],\n",
       "   [',', ',', 'PUNCT', [110, 111]],\n",
       "   ['Affectu', 'affectus', 'NOUN', [112, 119]],\n",
       "   [',', ',', 'PUNCT', [119, 120]],\n",
       "   ['Parentes', 'parens', 'NOUN', [121, 129]],\n",
       "   ['Patriae', 'Patria', 'NOUN', [130, 137]],\n",
       "   ['!', '!', 'PUNCT', [137, 138]]]],\n",
       " ['705665',\n",
       "  12,\n",
       "  'i 2 M 2 1 s * 24 2 - - .',\n",
       "  [['i', 'i', 'NUM', [0, 1]],\n",
       "   ['2', '2', 'NUM', [2, 3]],\n",
       "   ['M', 'Marcus', 'PROPN', [4, 5]],\n",
       "   ['2', '2', 'NUM', [6, 7]],\n",
       "   ['1', '1', 'NUM', [8, 9]],\n",
       "   ['s', 's', 'NUM', [10, 11]],\n",
       "   ['*', '*', 'PUNCT', [12, 13]],\n",
       "   ['24', '24', 'NUM', [14, 16]],\n",
       "   ['2', '', 'NUM', [17, 18]],\n",
       "   ['-', '-', 'PUNCT', [19, 20]],\n",
       "   ['-', '-', 'PUNCT', [21, 22]],\n",
       "   ['.', '.', 'PUNCT', [23, 24]]]],\n",
       " ['705665',\n",
       "  13,\n",
       "  'Llud quod Infantia hujus Aca2 Demiae, Quinquaginta Annorum decursu peregit;',\n",
       "  [['Llud', '', 'DET', [0, 4]],\n",
       "   ['quod', 'qui', 'PRON', [5, 9]],\n",
       "   ['Infantia', 'infantia', 'PROPN', [10, 18]],\n",
       "   ['hujus', 'hjc', 'DET', [19, 24]],\n",
       "   ['Aca2', 'Aca2', 'VERB', [25, 29]],\n",
       "   ['Demiae', 'Demia', 'PROPN', [30, 36]],\n",
       "   [',', ',', 'PUNCT', [36, 37]],\n",
       "   ['Quinquaginta', 'Quinquaginta', 'NUM', [38, 50]],\n",
       "   ['Annorum', 'annus', 'NOUN', [51, 58]],\n",
       "   ['decursu', 'decurro', 'NOUN', [59, 66]],\n",
       "   ['peregit', 'perago', 'VERB', [67, 74]],\n",
       "   [';', ';', 'PUNCT', [74, 75]]]],\n",
       " ['705665',\n",
       "  14,\n",
       "  'hac Oratione candide descripsi.',\n",
       "  [['hac', 'hic', 'DET', [0, 3]],\n",
       "   ['Oratione', 'oratio', 'NOUN', [4, 12]],\n",
       "   ['candide', 'candidus', 'ADV', [13, 20]],\n",
       "   ['descripsi', 'describo', 'VERB', [21, 30]],\n",
       "   ['.', '.', 'PUNCT', [30, 31]]]]]"
      ]
     },
     "execution_count": 4,
     "metadata": {},
     "output_type": "execute_result"
    }
   ],
   "execution_count": 4
  },
  {
   "cell_type": "code",
   "id": "7b4b216c-cadc-48d1-910f-1ca9330c8562",
   "metadata": {
    "ExecuteTime": {
     "end_time": "2025-08-01T07:19:22.599672Z",
     "start_time": "2025-08-01T07:19:22.593576Z"
    }
   },
   "source": [
    "# a genrator for iteration without flooding the CPU\n",
    "class SentsCorpus:\n",
    "    def __iter__(self):\n",
    "        source_path = \"/srv/data/tome/noscemus/sents_data_jsons/\"\n",
    "        for id in ids:\n",
    "            f_sents_data = json.load(open(source_path + str(id) + \".json\", \"rb\"))\n",
    "            sents_n = len(f_sents_data)\n",
    "            tokens_n = 0\n",
    "            lemmata = []\n",
    "            for (doc_id, sent_id, sent_text, sent_data) in f_sents_data:\n",
    "                tokens_n += len(sent_data)\n",
    "                lemmasent = []\n",
    "                for wordform, lemma, tag, position in sent_data:\n",
    "                    if tag in [\"NOUN\", \"PROPN\", \"ADJ\", \"VERB\"]:\n",
    "                        lemmasent.append(lemma)\n",
    "                lemmasent = [re.sub(r\"\\W*|\\d*\", \"\", t) for t in lemmasent]\n",
    "                lemmasent = [l.lower() for l in lemmasent if len(l) > 2]\n",
    "                try:\n",
    "                    yield lemmasent\n",
    "                except:\n",
    "                    pass"
   ],
   "outputs": [],
   "execution_count": 26
  },
  {
   "cell_type": "code",
   "id": "2692044e0117bd93",
   "metadata": {
    "collapsed": false,
    "jupyter": {
     "outputs_hidden": false
    },
    "ExecuteTime": {
     "end_time": "2025-08-01T07:19:24.521554Z",
     "start_time": "2025-08-01T07:19:24.511514Z"
    }
   },
   "source": [
    "# test with a small corpus from one decade\n",
    "ids = metadata_table_long[metadata_table_long[\"file_year\"].between(1601, 1610)][\"id\"]\n",
    "vocab_freqs = filtered_vocab_df[filtered_vocab_df[\"1601-1650\"]>= 10].set_index(\"word\")[\"1601-1650\"].to_dict()\n",
    "corpus = SentsCorpus()"
   ],
   "execution_count": 27,
   "outputs": []
  },
  {
   "metadata": {
    "ExecuteTime": {
     "end_time": "2025-07-10T12:11:17.511819Z",
     "start_time": "2025-07-10T12:11:17.507871Z"
    }
   },
   "cell_type": "code",
   "source": "len(vocab_freqs)",
   "id": "e37b06e05e274b4d",
   "outputs": [
    {
     "data": {
      "text/plain": [
       "7018"
      ]
     },
     "execution_count": 11,
     "metadata": {},
     "output_type": "execute_result"
    }
   ],
   "execution_count": 11
  },
  {
   "cell_type": "code",
   "id": "2d6c9ddd0849f254",
   "metadata": {
    "collapsed": false,
    "jupyter": {
     "outputs_hidden": false
    },
    "ExecuteTime": {
     "end_time": "2025-04-09T16:36:38.465360Z",
     "start_time": "2025-04-09T16:36:33.090008Z"
    }
   },
   "source": [
    "# how many sentences are there in the small corpus?\n",
    "len([s for s in corpus])"
   ],
   "outputs": [
    {
     "data": {
      "text/plain": [
       "194843"
      ]
     },
     "execution_count": 19,
     "metadata": {},
     "output_type": "execute_result"
    }
   ],
   "execution_count": 19
  },
  {
   "cell_type": "code",
   "id": "77674fba-0d2e-4676-8167-a9d343864627",
   "metadata": {
    "ExecuteTime": {
     "end_time": "2025-07-10T12:12:52.376831Z",
     "start_time": "2025-07-10T12:11:25.605008Z"
    }
   },
   "source": [
    "%%time\n",
    "# let's train the model\n",
    "model = FastText(vector_size=100, window=10, negative=25, ns_exponent=1, sg=1, epochs=15, workers=8, min_n=5)\n",
    "model.build_vocab_from_freq(word_freq=vocab_freqs)\n",
    "model.train(corpus, total_examples=len([s for s in corpus]), epochs=model.epochs)"
   ],
   "outputs": [
    {
     "name": "stdout",
     "output_type": "stream",
     "text": [
      "CPU times: user 4min 20s, sys: 4.12 s, total: 4min 24s\n",
      "Wall time: 1min 26s\n"
     ]
    },
    {
     "data": {
      "text/plain": [
       "(11141390, 16204680)"
      ]
     },
     "execution_count": 12,
     "metadata": {},
     "output_type": "execute_result"
    }
   ],
   "execution_count": 12
  },
  {
   "cell_type": "code",
   "id": "f990e9b1-ba3e-4a95-9d84-ab8dbf7294b5",
   "metadata": {
    "ExecuteTime": {
     "end_time": "2025-07-10T12:12:52.429966Z",
     "start_time": "2025-07-10T12:12:52.424752Z"
    }
   },
   "source": [
    "# most similar words to harmonia\n",
    "model.wv.most_similar(\"harmonia\")"
   ],
   "outputs": [
    {
     "data": {
      "text/plain": [
       "[('concentus', 0.6159231662750244),\n",
       " ('localis', 0.5688068270683289),\n",
       " ('duplicao', 0.5572189092636108),\n",
       " ('mistura', 0.5461449027061462),\n",
       " ('uocalis', 0.5439537167549133),\n",
       " ('duplico', 0.539736270904541),\n",
       " ('concessio', 0.530397891998291),\n",
       " ('concessum', 0.5274697542190552),\n",
       " ('parsimonia', 0.5202438831329346),\n",
       " ('musicus', 0.5127111077308655)]"
      ]
     },
     "execution_count": 13,
     "metadata": {},
     "output_type": "execute_result"
    }
   ],
   "execution_count": 13
  },
  {
   "metadata": {},
   "cell_type": "markdown",
   "source": "# Training test - discipline-based models",
   "id": "1f17621de7202e81"
  },
  {
   "metadata": {
    "ExecuteTime": {
     "end_time": "2025-07-10T12:12:52.481497Z",
     "start_time": "2025-07-10T12:12:52.474269Z"
    }
   },
   "cell_type": "code",
   "source": "nltk.FreqDist([d for dislist in metadata_table_long[metadata_table_long[\"file_year\"].between(1501,1700)][\"disciplines_list\"] for d in dislist]).most_common()",
   "id": "597f259a72f5a253",
   "outputs": [
    {
     "data": {
      "text/plain": [
       "[('Medicine', 221),\n",
       " ('Astronomy/Astrology/Cosmography', 193),\n",
       " ('Biology', 141),\n",
       " ('Mathematics', 138),\n",
       " ('Meteorology/Earth sciences', 127),\n",
       " ('Physics', 105),\n",
       " ('Geography/Cartography', 84),\n",
       " ('Other (see description)', 79),\n",
       " ('Alchemy/Chemistry', 52)]"
      ]
     },
     "execution_count": 14,
     "metadata": {},
     "output_type": "execute_result"
    }
   ],
   "execution_count": 14
  },
  {
   "metadata": {
    "ExecuteTime": {
     "end_time": "2025-08-01T07:19:31.346942Z",
     "start_time": "2025-08-01T07:19:31.343506Z"
    }
   },
   "cell_type": "code",
   "source": [
    "disciplines_list = ['Medicine',\n",
    " 'Astronomy/Astrology/Cosmography',\n",
    " 'Biology',\n",
    " 'Mathematics',\n",
    " 'Meteorology/Earth sciences',\n",
    " 'Physics',\n",
    " 'Geography/Cartography',\n",
    " 'Alchemy/Chemistry']"
   ],
   "id": "524555d5e1d0d62a",
   "outputs": [],
   "execution_count": 28
  },
  {
   "metadata": {
    "ExecuteTime": {
     "end_time": "2025-08-01T07:19:32.452149Z",
     "start_time": "2025-08-01T07:19:32.447521Z"
    }
   },
   "cell_type": "code",
   "source": "total_vocabulary = list(filtered_vocab_df[\"word\"])",
   "id": "cc5c9821612071f2",
   "outputs": [],
   "execution_count": 29
  },
  {
   "metadata": {
    "ExecuteTime": {
     "end_time": "2025-08-01T07:19:39.961317Z",
     "start_time": "2025-08-01T07:19:39.951435Z"
    }
   },
   "cell_type": "code",
   "source": [
    "discipline = \"Biology\"\n",
    "ids = metadata_table_long[(metadata_table_long[\"file_year\"].between(1501,1700)) & (metadata_table_long[\"disciplines_list\"].apply(lambda x: discipline in x))][\"id\"]\n",
    "corpus = SentsCorpus()\n",
    "vocab_freqs = filtered_vocab_df[filtered_vocab_df[discipline]>= 10].set_index(\"word\")[discipline].to_dict()"
   ],
   "id": "ca885ac095aba902",
   "outputs": [],
   "execution_count": 30
  },
  {
   "metadata": {
    "ExecuteTime": {
     "end_time": "2025-08-01T07:19:40.146451Z",
     "start_time": "2025-08-01T07:19:40.143246Z"
    }
   },
   "cell_type": "code",
   "source": "len(vocab_freqs)",
   "id": "4e806fd483da957a",
   "outputs": [
    {
     "data": {
      "text/plain": [
       "10188"
      ]
     },
     "execution_count": 31,
     "metadata": {},
     "output_type": "execute_result"
    }
   ],
   "execution_count": 31
  },
  {
   "metadata": {
    "ExecuteTime": {
     "end_time": "2025-07-10T12:38:39.026637Z",
     "start_time": "2025-07-10T12:24:17.338668Z"
    }
   },
   "cell_type": "code",
   "source": [
    "model = FastText(vector_size=100, window=10, negative=25, ns_exponent=1, sg=1, epochs=15, workers=32, min_n=5)\n",
    "model.build_vocab_from_freq(word_freq=vocab_freqs)\n",
    "model.train(corpus, total_examples=len([s for s in corpus]), epochs=model.epochs)"
   ],
   "id": "b9985023a4ce5f26",
   "outputs": [
    {
     "data": {
      "text/plain": [
       "(107746797, 165105570)"
      ]
     },
     "execution_count": 22,
     "metadata": {},
     "output_type": "execute_result"
    }
   ],
   "execution_count": 22
  },
  {
   "metadata": {
    "ExecuteTime": {
     "end_time": "2025-07-10T12:49:57.053993Z",
     "start_time": "2025-07-10T12:49:57.046207Z"
    }
   },
   "cell_type": "code",
   "source": "model.wv.most_similar(\"mercurius\")",
   "id": "de12eb30a045ffe0",
   "outputs": [
    {
     "data": {
      "text/plain": [
       "[('sulphur', 0.661625862121582),\n",
       " ('saturnus', 0.657781183719635),\n",
       " ('chymistus', 0.6394349932670593),\n",
       " ('chymista', 0.5985708832740784),\n",
       " ('mars', 0.588187575340271),\n",
       " ('argentum', 0.580955445766449),\n",
       " ('figo', 0.5711258053779602),\n",
       " ('metallum', 0.5707212686538696),\n",
       " ('elixir', 0.5687674880027771),\n",
       " ('sal', 0.5623406767845154)]"
      ]
     },
     "execution_count": 27,
     "metadata": {},
     "output_type": "execute_result"
    }
   ],
   "execution_count": 27
  },
  {
   "metadata": {},
   "cell_type": "markdown",
   "source": "# Main training",
   "id": "10a94f79c8b3ac5a"
  },
  {
   "metadata": {
    "ExecuteTime": {
     "end_time": "2025-08-01T07:19:50.925175Z",
     "start_time": "2025-08-01T07:19:50.921786Z"
    }
   },
   "cell_type": "code",
   "source": [
    "version = \"v0.5\"\n",
    "vectors_folder = \"../data/large_files/vectors_{}/\".format(version)\n",
    "os.makedirs(vectors_folder, exist_ok=True)"
   ],
   "id": "7afe5092cacc5d3d",
   "outputs": [],
   "execution_count": 32
  },
  {
   "metadata": {},
   "cell_type": "markdown",
   "source": "## NOSCEMUS disciplines models",
   "id": "a1f383d8096c118c"
  },
  {
   "metadata": {
    "ExecuteTime": {
     "end_time": "2025-08-01T08:53:30.038091Z",
     "start_time": "2025-08-01T07:20:04.851672Z"
    }
   },
   "cell_type": "code",
   "source": [
    "%%time\n",
    "# main training of the models\n",
    "for discipline in disciplines_list:\n",
    "    ids = metadata_table_long[(metadata_table_long[\"file_year\"].between(1501,1700)) & (metadata_table_long[\"disciplines_list\"].apply(lambda x: discipline in x))][\"id\"]\n",
    "    corpus = SentsCorpus()\n",
    "    vocab_freqs = filtered_vocab_df[filtered_vocab_df[discipline]>= 10].set_index(\"word\")[discipline].to_dict()\n",
    "    model = FastText(vector_size=100, window=10, negative=25, ns_exponent=1, sg=1, epochs=15, workers=32, min_n=5)\n",
    "    model.build_vocab_from_freq(word_freq=vocab_freqs)\n",
    "    model.train(corpus, total_examples=len([s for s in corpus]), epochs=model.epochs)\n",
    "    discicipline_str = discipline.replace(\"/\", \"_\").replace(\" \", \"_\")\n",
    "    print(\"model for the period {} successfully trained.\".format(discicipline_str))\n",
    "    model.wv.save(vectors_folder + \"vectors_{}.wv\".format(discicipline_str))"
   ],
   "id": "3e459a5c981697e",
   "outputs": [
    {
     "name": "stdout",
     "output_type": "stream",
     "text": [
      "model for the period Biology successfully trained.\n",
      "model for the period Mathematics successfully trained.\n",
      "model for the period Meteorology_Earth_sciences successfully trained.\n",
      "model for the period Physics successfully trained.\n",
      "model for the period Geography_Cartography successfully trained.\n",
      "model for the period Alchemy_Chemistry successfully trained.\n",
      "CPU times: user 5h 31min 40s, sys: 2min 55s, total: 5h 34min 35s\n",
      "Wall time: 1h 33min 25s\n"
     ]
    }
   ],
   "execution_count": 33
  },
  {
   "cell_type": "markdown",
   "id": "7a74afe549bdbf12",
   "metadata": {
    "collapsed": false,
    "jupyter": {
     "outputs_hidden": false
    }
   },
   "source": "## NOSCEMUS temporal models"
  },
  {
   "cell_type": "code",
   "id": "2bbe8a3ebc3a637",
   "metadata": {
    "collapsed": false,
    "jupyter": {
     "outputs_hidden": false
    },
    "ExecuteTime": {
     "end_time": "2025-08-01T08:53:30.052243Z",
     "start_time": "2025-08-01T08:53:30.050656Z"
    }
   },
   "source": "",
   "outputs": [],
   "execution_count": null
  },
  {
   "cell_type": "code",
   "id": "34d32735e819f3aa",
   "metadata": {
    "collapsed": false,
    "jupyter": {
     "outputs_hidden": false
    },
    "ExecuteTime": {
     "end_time": "2025-08-01T08:53:30.102460Z",
     "start_time": "2025-08-01T08:53:30.096976Z"
    }
   },
   "source": [
    "periods = [(1501, 1550),\n",
    "                      (1551, 1600),\n",
    "                      (1601, 1650),\n",
    "                      (1651, 1700)]\n",
    "periods_str = filtered_vocab_df.columns[1:5]\n",
    "periods_str"
   ],
   "outputs": [
    {
     "data": {
      "text/plain": [
       "Index(['1501-1550', '1551-1600', '1601-1650', '1651-1700'], dtype='object')"
      ]
     },
     "execution_count": 35,
     "metadata": {},
     "output_type": "execute_result"
    }
   ],
   "execution_count": 35
  },
  {
   "cell_type": "code",
   "id": "32e43f23118e0ee",
   "metadata": {
    "collapsed": false,
    "jupyter": {
     "outputs_hidden": false
    },
    "ExecuteTime": {
     "end_time": "2025-08-01T09:46:25.302255Z",
     "start_time": "2025-08-01T08:53:30.147054Z"
    }
   },
   "source": [
    "%%time\n",
    "# main training of the models\n",
    "for per_tup, per_str in zip(periods, periods_str):\n",
    "    ids = metadata_table_long[metadata_table_long[\"file_year\"].between(per_tup[0], per_tup[1])][\"id\"]\n",
    "    vocab_freqs = filtered_vocab_df[filtered_vocab_df[per_str]>= 10].set_index(\"word\")[per_str].to_dict()\n",
    "    corpus = SentsCorpus()\n",
    "    model = FastText(vector_size=100, window=10, negative=25, ns_exponent=1, sg=1, epochs=15, workers=32, min_n=5)\n",
    "    model.build_vocab_from_freq(word_freq=vocab_freqs)\n",
    "    model.train(corpus, total_examples=len([s for s in corpus]), epochs=model.epochs)\n",
    "    print(\"model for the period {} successfully trained.\".format(per_str))\n",
    "    model.wv.save(vectors_folder + \"vectors_{}.wv\".format(per_str))"
   ],
   "outputs": [
    {
     "name": "stdout",
     "output_type": "stream",
     "text": [
      "model for the period 1501-1550 successfully trained.\n",
      "model for the period 1551-1600 successfully trained.\n",
      "model for the period 1601-1650 successfully trained.\n",
      "model for the period 1651-1700 successfully trained.\n",
      "CPU times: user 3h 12min 1s, sys: 1min 31s, total: 3h 13min 32s\n",
      "Wall time: 52min 55s\n"
     ]
    }
   ],
   "execution_count": 36
  },
  {
   "metadata": {},
   "cell_type": "markdown",
   "source": "## EMLAP model",
   "id": "2b1af7828a7c44b2"
  },
  {
   "metadata": {
    "ExecuteTime": {
     "end_time": "2025-08-01T20:42:55.139980Z",
     "start_time": "2025-08-01T20:42:55.133031Z"
    }
   },
   "cell_type": "code",
   "source": [
    "emlap_metadata = pd.read_csv(\"/srv/data/tome/tome-corpus/emlap_metadata.csv\", sep=\";\")\n",
    "ids = emlap_metadata[\"No.\"]"
   ],
   "id": "71f3b68fede3f76e",
   "outputs": [],
   "execution_count": 44
  },
  {
   "metadata": {
    "ExecuteTime": {
     "end_time": "2025-08-01T20:42:55.644258Z",
     "start_time": "2025-08-01T20:42:55.639836Z"
    }
   },
   "cell_type": "code",
   "source": [
    "\n",
    "# a genrator for iteration without flooding the CPU\n",
    "class SentsCorpus:\n",
    "    def __iter__(self):\n",
    "        source_path = \"/srv/data/tome/tome-corpus/sents_data_id_jsons_v3-0/\"\n",
    "        for id in ids:\n",
    "            f_sents_data = json.load(open(source_path + str(id) + \".json\", \"rb\"))\n",
    "            sents_n = len(f_sents_data)\n",
    "            tokens_n = 0\n",
    "            lemmata = []\n",
    "            for (doc_id, sent_id, sent_text, sent_data) in f_sents_data:\n",
    "                tokens_n += len(sent_data)\n",
    "                lemmasent = []\n",
    "                for wordform, lemma, tag, position, t_pages, t_textblocks in sent_data:\n",
    "                    if tag in [\"NOUN\", \"PROPN\", \"ADJ\", \"VERB\"]:\n",
    "                        lemmasent.append(lemma)\n",
    "                lemmasent = [re.sub(r\"\\W*|\\d*\", \"\", t) for t in lemmasent]\n",
    "                lemmasent = [l.lower() for l in lemmasent if len(l) > 2]\n",
    "                try:\n",
    "                    yield lemmasent\n",
    "                except:\n",
    "                    pass"
   ],
   "id": "9e10fbd5f9fc416",
   "outputs": [],
   "execution_count": 45
  },
  {
   "metadata": {
    "ExecuteTime": {
     "end_time": "2025-08-01T20:42:56.520553Z",
     "start_time": "2025-08-01T20:42:56.511895Z"
    }
   },
   "cell_type": "code",
   "source": [
    "# test with a small corpus from one decade\n",
    "\n",
    "ids = emlap_metadata[\"No.\"]\n",
    "vocab_freqs = filtered_vocab_df[filtered_vocab_df[\"EMLAP\"]>= 10].set_index(\"word\")[\"EMLAP\"].to_dict()\n",
    "corpus = SentsCorpus()"
   ],
   "id": "8583e58d337af06e",
   "outputs": [],
   "execution_count": 46
  },
  {
   "metadata": {
    "ExecuteTime": {
     "end_time": "2025-08-01T20:42:57.279906Z",
     "start_time": "2025-08-01T20:42:57.275798Z"
    }
   },
   "cell_type": "code",
   "source": "len(vocab_freqs)",
   "id": "a6751eef7292b13f",
   "outputs": [
    {
     "data": {
      "text/plain": [
       "7145"
      ]
     },
     "execution_count": 47,
     "metadata": {},
     "output_type": "execute_result"
    }
   ],
   "execution_count": 47
  },
  {
   "metadata": {
    "ExecuteTime": {
     "end_time": "2025-08-01T20:45:26.832462Z",
     "start_time": "2025-08-01T20:43:03.796526Z"
    }
   },
   "cell_type": "code",
   "source": [
    "%%time\n",
    "# let's train the model\n",
    "model = FastText(vector_size=100, window=10, negative=25, ns_exponent=1, sg=1, epochs=15, workers=8, min_n=5)\n",
    "model.build_vocab_from_freq(word_freq=vocab_freqs)\n",
    "model.train(corpus, total_examples=len([s for s in corpus]), epochs=model.epochs)\n",
    "model.wv.save(vectors_folder + \"/vectors_{}.wv\".format(\"EMLAP\"))"
   ],
   "id": "67855ff6fc473102",
   "outputs": [
    {
     "name": "stdout",
     "output_type": "stream",
     "text": [
      "CPU times: user 8min 53s, sys: 2.84 s, total: 8min 56s\n",
      "Wall time: 2min 23s\n"
     ]
    }
   ],
   "execution_count": 48
  },
  {
   "cell_type": "code",
   "id": "a53f5193283e0fa6",
   "metadata": {
    "collapsed": false,
    "jupyter": {
     "outputs_hidden": false
    },
    "ExecuteTime": {
     "end_time": "2025-08-01T09:46:26.634391Z",
     "start_time": "2025-08-01T09:46:26.631646Z"
    }
   },
   "source": [
    "# if you want to upload the vectors to sciencedata:\n",
    "#shutil.make_archive(\"../data/large_data/vectors\", 'zip', \"../data/large_data/vectors\") #\n",
    "#s.s.put(\"https://sciencedata.dk/sharingout/kase%40zcu.cz/TOME/DATA/NOSCEMUS/vectors.zip\", data=open(\"../data/large_data/vectors.zip\", \"rb\"))\n",
    "# shutil.make_archive(\"../data/large_data/lila_vectors\", 'zip', \"../data/large_data/lila_vectors\") #\n",
    "# s.s.put(\"https://sciencedata.dk/sharingout/kase%40zcu.cz/TOME/DATA/NOSCEMUS/lila_vectors.zip\", data=open(\"../data/large_data/lila_vectors.zip\", \"rb\"))"
   ],
   "outputs": [],
   "execution_count": 40
  },
  {
   "metadata": {
    "ExecuteTime": {
     "end_time": "2025-08-01T20:59:36.118597Z",
     "start_time": "2025-08-01T20:59:36.113790Z"
    }
   },
   "cell_type": "code",
   "source": "sorted([f for f in os.listdir(\"../data/large_files/vectors_v0.5/\") if f.endswith(\".wv\")])",
   "id": "14685e84f489649a",
   "outputs": [
    {
     "data": {
      "text/plain": [
       "['vectors_1501-1550.wv',\n",
       " 'vectors_1551-1600.wv',\n",
       " 'vectors_1601-1650.wv',\n",
       " 'vectors_1651-1700.wv',\n",
       " 'vectors_Alchemy_Chemistry.wv',\n",
       " 'vectors_Astronomy_Astrology_Cosmography.wv',\n",
       " 'vectors_Biology.wv',\n",
       " 'vectors_EMLAP.wv',\n",
       " 'vectors_Geography_Cartography.wv',\n",
       " 'vectors_Mathematics.wv',\n",
       " 'vectors_Medicine.wv',\n",
       " 'vectors_Meteorology_Earth_sciences.wv',\n",
       " 'vectors_Physics.wv']"
      ]
     },
     "execution_count": 51,
     "metadata": {},
     "output_type": "execute_result"
    }
   ],
   "execution_count": 51
  },
  {
   "metadata": {
    "ExecuteTime": {
     "end_time": "2025-08-01T20:59:37.116996Z",
     "start_time": "2025-08-01T20:59:37.113163Z"
    }
   },
   "cell_type": "code",
   "source": [
    "labels_vectors_tups = [('NOSCEMUS - 1501-1550', 'vectors_1501-1550.wv'),\n",
    " ('NOSCEMUS - 1551-1600', 'vectors_1551-1600.wv'),\n",
    " ('NOSCEMUS - 1601-1650', 'vectors_1601-1650.wv'),\n",
    " ('NOSCEMUS - 1651-1700', 'vectors_1651-1700.wv'),\n",
    " ('NOSCEMUS - Alchemy/Chemistry', 'vectors_Alchemy_Chemistry.wv'),\n",
    " ('NOSCEMUS - Astronomy/Astrology/Cosmography',\n",
    "  'vectors_Astronomy_Astrology_Cosmography.wv'),\n",
    " ('NOSCEMUS - Biology', 'vectors_Biology.wv'),\n",
    " ('NOSCEMUS - Geography/Cartography', 'vectors_Geography_Cartography.wv'),\n",
    " ('NOSCEMUS - Mathematics', 'vectors_Mathematics.wv'),\n",
    " ('NOSCEMUS - Medicine', 'vectors_Medicine.wv'),\n",
    " ('NOSCEMUS - Meteorology/Earth sciences',\n",
    "  'vectors_Meteorology_Earth_sciences.wv'),\n",
    " ('NOSCEMUS - Physics', 'vectors_Physics.wv'),\n",
    "                       (\"EMLAP\", \"vectors_EMLAP.wv\")\n",
    "]\n"
   ],
   "id": "dbb99c559206eac",
   "outputs": [],
   "execution_count": 52
  },
  {
   "metadata": {
    "ExecuteTime": {
     "end_time": "2025-08-01T20:59:57.707259Z",
     "start_time": "2025-08-01T20:59:37.755300Z"
    }
   },
   "cell_type": "code",
   "source": [
    "vectors_dict_comp = {}\n",
    "for tup in labels_vectors_tups:\n",
    "    model = KeyedVectors.load(vectors_folder + tup[1])\n",
    "    word_vectors = model.vectors\n",
    "    vocabulary = model.index_to_key\n",
    "    kv = KeyedVectors(vector_size=word_vectors.shape[1])\n",
    "    # Fill the keyed vectors\n",
    "    for word, vector in zip(vocabulary, word_vectors):\n",
    "        kv.add_vector(word, vector)\n",
    "    vectors_dict_comp[tup[0]] = kv"
   ],
   "id": "4a18afb4d931ed98",
   "outputs": [],
   "execution_count": 53
  },
  {
   "metadata": {
    "ExecuteTime": {
     "end_time": "2025-08-01T20:59:59.367054Z",
     "start_time": "2025-08-01T20:59:59.362934Z"
    }
   },
   "cell_type": "code",
   "source": [
    "# small test\n",
    "vectors_dict_comp[\"NOSCEMUS - Biology\"].vectors.shape"
   ],
   "id": "84d97ca98baae791",
   "outputs": [
    {
     "data": {
      "text/plain": [
       "(10188, 100)"
      ]
     },
     "execution_count": 54,
     "metadata": {},
     "output_type": "execute_result"
    }
   ],
   "execution_count": 54
  },
  {
   "metadata": {
    "ExecuteTime": {
     "end_time": "2025-08-01T20:59:59.980257Z",
     "start_time": "2025-08-01T20:59:59.977084Z"
    }
   },
   "cell_type": "code",
   "source": "vectors_dict_comp[\"EMLAP\"].vectors.shape",
   "id": "dbcda7a741905784",
   "outputs": [
    {
     "data": {
      "text/plain": [
       "(7145, 100)"
      ]
     },
     "execution_count": 55,
     "metadata": {},
     "output_type": "execute_result"
    }
   ],
   "execution_count": 55
  },
  {
   "metadata": {
    "ExecuteTime": {
     "end_time": "2025-08-01T21:00:01.323852Z",
     "start_time": "2025-08-01T21:00:01.318177Z"
    }
   },
   "cell_type": "code",
   "source": "vectors_dict_comp[\"EMLAP\"][\"mercurius\"]\n",
   "id": "ddd460c4bd47260e",
   "outputs": [
    {
     "data": {
      "text/plain": [
       "array([-1.26134321e-01, -1.68080851e-01,  1.67357191e-01, -1.71556875e-01,\n",
       "        2.60638505e-01, -1.82487279e-01,  2.45628580e-01,  1.61375746e-01,\n",
       "       -4.17936176e-01,  2.25963980e-01, -1.86831281e-01,  1.99185297e-01,\n",
       "       -2.04117388e-01,  3.02328616e-01, -9.40453559e-02, -3.60448025e-02,\n",
       "       -3.72127444e-01, -3.39083560e-02,  3.19622830e-02, -2.66010582e-01,\n",
       "       -3.25596184e-01,  3.08051109e-01, -1.92536861e-01, -6.08736575e-01,\n",
       "       -4.72155213e-02, -2.57130653e-01,  2.42697164e-01,  1.14430241e-01,\n",
       "        4.89463717e-01, -1.56421185e-01,  3.08530539e-01, -5.12138188e-01,\n",
       "       -1.56960651e-01,  4.26146120e-01, -2.55708605e-01,  5.22660673e-01,\n",
       "       -1.37785188e-04,  5.30817695e-02,  1.61143512e-01,  7.94618502e-02,\n",
       "       -4.35531978e-03, -1.28337055e-01, -4.13486630e-01, -5.14758348e-01,\n",
       "        9.00570080e-02,  1.95274185e-02,  8.77671912e-02,  1.71957001e-01,\n",
       "       -4.79615748e-01,  3.59725416e-01, -3.04212958e-01,  4.64788638e-02,\n",
       "       -9.07079354e-02,  2.15338036e-01, -3.00816089e-01, -1.69663355e-01,\n",
       "       -1.38958141e-01,  2.44401977e-03, -1.34925529e-01,  8.47908780e-02,\n",
       "       -1.43078314e-02,  1.01699447e-02, -2.29236055e-02,  1.03363074e-01,\n",
       "        5.95149577e-01,  6.01261973e-01, -4.78072045e-03,  2.17677832e-01,\n",
       "        2.17524078e-02, -2.15379640e-01,  5.61423562e-02, -4.79503348e-02,\n",
       "       -1.76728711e-01, -3.55689749e-02, -1.93715334e-01, -3.25559646e-01,\n",
       "       -3.94981176e-01, -3.07193458e-01,  5.27421199e-02,  4.95370366e-02,\n",
       "        2.51100451e-01,  5.16073732e-03,  1.29432052e-01,  1.23592675e-01,\n",
       "       -2.65637040e-02,  1.56997349e-02,  4.74529620e-03,  1.25820324e-01,\n",
       "        3.21791708e-01,  1.96192428e-01,  2.65600055e-01,  2.12637171e-01,\n",
       "        3.50377262e-01, -1.45689979e-01,  1.82121500e-01,  1.09996520e-01,\n",
       "       -4.65149879e-01, -8.53964229e-05,  8.77463818e-02, -3.83036196e-01],\n",
       "      dtype=float32)"
      ]
     },
     "execution_count": 56,
     "metadata": {},
     "output_type": "execute_result"
    }
   ],
   "execution_count": 56
  },
  {
   "metadata": {
    "ExecuteTime": {
     "end_time": "2025-07-10T13:03:06.769600Z",
     "start_time": "2025-07-10T13:03:06.765332Z"
    }
   },
   "cell_type": "markdown",
   "source": "## Adding LiLa vectors",
   "id": "43741c3fbfa88404"
  },
  {
   "metadata": {
    "ExecuteTime": {
     "end_time": "2025-08-01T21:00:05.615638Z",
     "start_time": "2025-08-01T21:00:02.999528Z"
    }
   },
   "cell_type": "code",
   "source": [
    "for label, model_path in [\n",
    "        (\"LASLA\", \"/srv/data/lila/allLASLA-lemmi-fast-100-SKIP-win5-min5.vec\"),\n",
    "        (\"Opera Maiora\" , \"/srv/data/lila/opera-maiora-lemmas_skip_100.vec\")]:\n",
    "    model = KeyedVectors.load_word2vec_format(model_path, binary=False)\n",
    "    word_vectors = model.vectors\n",
    "    vocabulary = model.index_to_key\n",
    "    kv = KeyedVectors(vector_size=word_vectors.shape[1])\n",
    "    # Fill the keyed vectors\n",
    "    for word, vector in zip(vocabulary, word_vectors):\n",
    "        kv.add_vector(word, vector)\n",
    "    vectors_dict_comp[label] = kv\n"
   ],
   "id": "9d6746cc1031ad51",
   "outputs": [],
   "execution_count": 57
  },
  {
   "metadata": {},
   "cell_type": "markdown",
   "source": "## Saving for future usage",
   "id": "d52d131cce72fb05"
  },
  {
   "metadata": {
    "ExecuteTime": {
     "end_time": "2025-08-01T21:00:07.185519Z",
     "start_time": "2025-08-01T21:00:07.104789Z"
    }
   },
   "cell_type": "code",
   "source": [
    "with open(\"../data/vectors_dict_comp.pkl\", \"wb\") as file:\n",
    "    pickle.dump(vectors_dict_comp, file)"
   ],
   "id": "b7f3bff84d13bb16",
   "outputs": [],
   "execution_count": 58
  },
  {
   "cell_type": "code",
   "id": "32dd174616fd9702",
   "metadata": {
    "ExecuteTime": {
     "end_time": "2025-08-01T21:00:07.568505Z",
     "start_time": "2025-08-01T21:00:07.500021Z"
    }
   },
   "source": [
    "with open(\"/srv/data/tome/noscemus/vectors/vectors_dict_comp.pkl\", \"wb\") as file:\n",
    "    pickle.dump(vectors_dict_comp, file)"
   ],
   "outputs": [],
   "execution_count": 59
  },
  {
   "metadata": {
    "ExecuteTime": {
     "end_time": "2025-08-01T21:00:07.869766Z",
     "start_time": "2025-08-01T21:00:07.746751Z"
    }
   },
   "cell_type": "code",
   "source": [
    "with open(\"/srv/webserver/apps/iweems_app/data/vectors_dict_comp.pkl\", \"wb\") as file:\n",
    "    pickle.dump(vectors_dict_comp, file)\n",
    "\n",
    "with open(\"/home/jupyter-vojta/notebooks/iweems_huggingface/data/vectors_dict_comp.pkl\", \"wb\") as file:\n",
    "    pickle.dump(vectors_dict_comp, file)\n"
   ],
   "id": "59aa33ecc3d06e7b",
   "outputs": [],
   "execution_count": 60
  },
  {
   "metadata": {
    "ExecuteTime": {
     "end_time": "2025-08-01T21:00:08.006776Z",
     "start_time": "2025-08-01T21:00:08.003729Z"
    }
   },
   "cell_type": "code",
   "source": "",
   "id": "fb21ba6dc1a66904",
   "outputs": [],
   "execution_count": null
  },
  {
   "metadata": {},
   "cell_type": "code",
   "outputs": [],
   "execution_count": null,
   "source": "",
   "id": "a7c817a8572ab24"
  }
 ],
 "metadata": {
  "kernelspec": {
   "display_name": "latin_global_kernel",
   "language": "python",
   "name": "latin_global_kernel"
  },
  "language_info": {
   "codemirror_mode": {
    "name": "ipython",
    "version": 3
   },
   "file_extension": ".py",
   "mimetype": "text/x-python",
   "name": "python",
   "nbconvert_exporter": "python",
   "pygments_lexer": "ipython3",
   "version": "3.10.12"
  }
 },
 "nbformat": 4,
 "nbformat_minor": 5
}
