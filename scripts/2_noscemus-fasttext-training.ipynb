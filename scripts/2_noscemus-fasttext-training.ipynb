{
 "cells": [
  {
   "cell_type": "code",
   "id": "b0c3f2cfd2ca6805",
   "metadata": {
    "collapsed": false,
    "jupyter": {
     "outputs_hidden": false
    },
    "ExecuteTime": {
     "end_time": "2025-04-10T07:51:19.184590Z",
     "start_time": "2025-04-10T07:51:19.181197Z"
    }
   },
   "source": [
    "import pandas as pd\n",
    "from gensim.models.fasttext import FastText\n",
    "from gensim.models import KeyedVectors\n",
    "import re\n",
    "import os\n",
    "import shutil\n",
    "import sddk\n",
    "import pickle\n",
    "import json\n",
    "import nltk\n",
    "import pickle"
   ],
   "outputs": [],
   "execution_count": 23
  },
  {
   "cell_type": "code",
   "id": "initial_id",
   "metadata": {
    "ExecuteTime": {
     "end_time": "2025-04-11T20:22:08.321492Z",
     "start_time": "2025-04-11T20:22:08.277088Z"
    }
   },
   "source": [
    "metadata_table_long = pd.read_json(\"../data/metadata_table_long.json\")\n",
    "metadata_table_long.head(5)"
   ],
   "outputs": [
    {
     "data": {
      "text/plain": [
       "              Author                                         Full title  \\\n",
       "0  Achrelius, Daniel  Scientiarum magnes recitatus publice anno 1690...   \n",
       "1  Acidalius, Valens                 Ad Iordanum Brunum Nolanum, Italum   \n",
       "2    Acosta, José de  De natura novi orbis libri duo et De promulgat...   \n",
       "3     Adam, Melchior  Vitae Germanorum medicorum, qui saeculo superi...   \n",
       "4    Addison, Joseph  Ad insignissimum virum dominum Thomam Burnettu...   \n",
       "\n",
       "                                                  In  Year              Place  \\\n",
       "0                                               None  1690            [Turku]   \n",
       "1  Poematum Iani Lernutii, Iani Gulielmi, Valenti...  1603  Liegnitz, Wrocław   \n",
       "2                                               None  1589          Salamanca   \n",
       "3                                               None  1620         Heidelberg   \n",
       "4  Examen poeticum duplex, sive, Musarum anglican...  1698             London   \n",
       "\n",
       "       Publisher/Printer           Era      Form/Genre  \\\n",
       "0                   Wall  17th century         Oration   \n",
       "1          Albert, David  17th century  Panegyric poem   \n",
       "2       Guillelum Foquel  16th century       Monograph   \n",
       "3           Rosa, Geyder  17th century       Biography   \n",
       "4  Richard Wellington I.  17th century  Panegyric poem   \n",
       "\n",
       "                                  Discipline/Content  \\\n",
       "0  Mathematics, Astronomy/Astrology/Cosmography, ...   \n",
       "1                    Astronomy/Astrology/Cosmography   \n",
       "2  Astronomy/Astrology/Cosmography, Geography/Car...   \n",
       "3                                           Medicine   \n",
       "4                         Meteorology/Earth sciences   \n",
       "\n",
       "                                            Original  ...       ids      id  \\\n",
       "0                   Scientiarum magnes(Google Books)  ...  [705665]  705665   \n",
       "1  Ad Iordanum Brunum (1603)(CAMENA)Ad Iordanum B...  ...  [801745]  801745   \n",
       "2  De natura novi orbis(Biodiversity Heritage Lib...  ...  [713323]  713323   \n",
       "3  Vitae Germanorum medicorum(MDZ)Alternative lin...  ...  [693148]  693148   \n",
       "4  Ad Burnettum sacrae theoriae telluris auctorem...  ...  [769230]  769230   \n",
       "\n",
       "  date_min date_max                                           filename  \\\n",
       "0   1690.0   1690.0  Achrelius,_Daniel_-_Scientiarum_magnes__Turku_...   \n",
       "1   1603.0   1603.0  Janus_Lernutius_et_al__-_Poemata__Liegnitz_160...   \n",
       "2   1589.0   1589.0  Acosta,_José_de_-_De_natura_novi_orbis__Salama...   \n",
       "3   1620.0   1620.0  Adam,_Melchior_-_Vitae_Germanorum_medicorum__H...   \n",
       "4   1698.0   1698.0        Examen_poeticum_duplex__London_1698_pdf.txt   \n",
       "\n",
       "  file_year sents_n tokens_n  \\\n",
       "0    1690.0     630     8839   \n",
       "1    1603.0    6527    82445   \n",
       "2    1589.0    8905   170205   \n",
       "3    1620.0   17961   193272   \n",
       "4    1698.0    3533    47878   \n",
       "\n",
       "                                    disciplines_list   science_class  \n",
       "0  [Mathematics, Astronomy/Astrology/Cosmography,...         mixture  \n",
       "1                  [Astronomy/Astrology/Cosmography]  exact_sciences  \n",
       "2  [Astronomy/Astrology/Cosmography, Geography/Ca...  exact_sciences  \n",
       "3                                         [Medicine]   life_sciences  \n",
       "4                       [Meteorology/Earth sciences]  exact_sciences  \n",
       "\n",
       "[5 rows x 30 columns]"
      ],
      "text/html": [
       "<div>\n",
       "<style scoped>\n",
       "    .dataframe tbody tr th:only-of-type {\n",
       "        vertical-align: middle;\n",
       "    }\n",
       "\n",
       "    .dataframe tbody tr th {\n",
       "        vertical-align: top;\n",
       "    }\n",
       "\n",
       "    .dataframe thead th {\n",
       "        text-align: right;\n",
       "    }\n",
       "</style>\n",
       "<table border=\"1\" class=\"dataframe\">\n",
       "  <thead>\n",
       "    <tr style=\"text-align: right;\">\n",
       "      <th></th>\n",
       "      <th>Author</th>\n",
       "      <th>Full title</th>\n",
       "      <th>In</th>\n",
       "      <th>Year</th>\n",
       "      <th>Place</th>\n",
       "      <th>Publisher/Printer</th>\n",
       "      <th>Era</th>\n",
       "      <th>Form/Genre</th>\n",
       "      <th>Discipline/Content</th>\n",
       "      <th>Original</th>\n",
       "      <th>...</th>\n",
       "      <th>ids</th>\n",
       "      <th>id</th>\n",
       "      <th>date_min</th>\n",
       "      <th>date_max</th>\n",
       "      <th>filename</th>\n",
       "      <th>file_year</th>\n",
       "      <th>sents_n</th>\n",
       "      <th>tokens_n</th>\n",
       "      <th>disciplines_list</th>\n",
       "      <th>science_class</th>\n",
       "    </tr>\n",
       "  </thead>\n",
       "  <tbody>\n",
       "    <tr>\n",
       "      <th>0</th>\n",
       "      <td>Achrelius, Daniel</td>\n",
       "      <td>Scientiarum magnes recitatus publice anno 1690...</td>\n",
       "      <td>None</td>\n",
       "      <td>1690</td>\n",
       "      <td>[Turku]</td>\n",
       "      <td>Wall</td>\n",
       "      <td>17th century</td>\n",
       "      <td>Oration</td>\n",
       "      <td>Mathematics, Astronomy/Astrology/Cosmography, ...</td>\n",
       "      <td>Scientiarum magnes(Google Books)</td>\n",
       "      <td>...</td>\n",
       "      <td>[705665]</td>\n",
       "      <td>705665</td>\n",
       "      <td>1690.0</td>\n",
       "      <td>1690.0</td>\n",
       "      <td>Achrelius,_Daniel_-_Scientiarum_magnes__Turku_...</td>\n",
       "      <td>1690.0</td>\n",
       "      <td>630</td>\n",
       "      <td>8839</td>\n",
       "      <td>[Mathematics, Astronomy/Astrology/Cosmography,...</td>\n",
       "      <td>mixture</td>\n",
       "    </tr>\n",
       "    <tr>\n",
       "      <th>1</th>\n",
       "      <td>Acidalius, Valens</td>\n",
       "      <td>Ad Iordanum Brunum Nolanum, Italum</td>\n",
       "      <td>Poematum Iani Lernutii, Iani Gulielmi, Valenti...</td>\n",
       "      <td>1603</td>\n",
       "      <td>Liegnitz, Wrocław</td>\n",
       "      <td>Albert, David</td>\n",
       "      <td>17th century</td>\n",
       "      <td>Panegyric poem</td>\n",
       "      <td>Astronomy/Astrology/Cosmography</td>\n",
       "      <td>Ad Iordanum Brunum (1603)(CAMENA)Ad Iordanum B...</td>\n",
       "      <td>...</td>\n",
       "      <td>[801745]</td>\n",
       "      <td>801745</td>\n",
       "      <td>1603.0</td>\n",
       "      <td>1603.0</td>\n",
       "      <td>Janus_Lernutius_et_al__-_Poemata__Liegnitz_160...</td>\n",
       "      <td>1603.0</td>\n",
       "      <td>6527</td>\n",
       "      <td>82445</td>\n",
       "      <td>[Astronomy/Astrology/Cosmography]</td>\n",
       "      <td>exact_sciences</td>\n",
       "    </tr>\n",
       "    <tr>\n",
       "      <th>2</th>\n",
       "      <td>Acosta, José de</td>\n",
       "      <td>De natura novi orbis libri duo et De promulgat...</td>\n",
       "      <td>None</td>\n",
       "      <td>1589</td>\n",
       "      <td>Salamanca</td>\n",
       "      <td>Guillelum Foquel</td>\n",
       "      <td>16th century</td>\n",
       "      <td>Monograph</td>\n",
       "      <td>Astronomy/Astrology/Cosmography, Geography/Car...</td>\n",
       "      <td>De natura novi orbis(Biodiversity Heritage Lib...</td>\n",
       "      <td>...</td>\n",
       "      <td>[713323]</td>\n",
       "      <td>713323</td>\n",
       "      <td>1589.0</td>\n",
       "      <td>1589.0</td>\n",
       "      <td>Acosta,_José_de_-_De_natura_novi_orbis__Salama...</td>\n",
       "      <td>1589.0</td>\n",
       "      <td>8905</td>\n",
       "      <td>170205</td>\n",
       "      <td>[Astronomy/Astrology/Cosmography, Geography/Ca...</td>\n",
       "      <td>exact_sciences</td>\n",
       "    </tr>\n",
       "    <tr>\n",
       "      <th>3</th>\n",
       "      <td>Adam, Melchior</td>\n",
       "      <td>Vitae Germanorum medicorum, qui saeculo superi...</td>\n",
       "      <td>None</td>\n",
       "      <td>1620</td>\n",
       "      <td>Heidelberg</td>\n",
       "      <td>Rosa, Geyder</td>\n",
       "      <td>17th century</td>\n",
       "      <td>Biography</td>\n",
       "      <td>Medicine</td>\n",
       "      <td>Vitae Germanorum medicorum(MDZ)Alternative lin...</td>\n",
       "      <td>...</td>\n",
       "      <td>[693148]</td>\n",
       "      <td>693148</td>\n",
       "      <td>1620.0</td>\n",
       "      <td>1620.0</td>\n",
       "      <td>Adam,_Melchior_-_Vitae_Germanorum_medicorum__H...</td>\n",
       "      <td>1620.0</td>\n",
       "      <td>17961</td>\n",
       "      <td>193272</td>\n",
       "      <td>[Medicine]</td>\n",
       "      <td>life_sciences</td>\n",
       "    </tr>\n",
       "    <tr>\n",
       "      <th>4</th>\n",
       "      <td>Addison, Joseph</td>\n",
       "      <td>Ad insignissimum virum dominum Thomam Burnettu...</td>\n",
       "      <td>Examen poeticum duplex, sive, Musarum anglican...</td>\n",
       "      <td>1698</td>\n",
       "      <td>London</td>\n",
       "      <td>Richard Wellington I.</td>\n",
       "      <td>17th century</td>\n",
       "      <td>Panegyric poem</td>\n",
       "      <td>Meteorology/Earth sciences</td>\n",
       "      <td>Ad Burnettum sacrae theoriae telluris auctorem...</td>\n",
       "      <td>...</td>\n",
       "      <td>[769230]</td>\n",
       "      <td>769230</td>\n",
       "      <td>1698.0</td>\n",
       "      <td>1698.0</td>\n",
       "      <td>Examen_poeticum_duplex__London_1698_pdf.txt</td>\n",
       "      <td>1698.0</td>\n",
       "      <td>3533</td>\n",
       "      <td>47878</td>\n",
       "      <td>[Meteorology/Earth sciences]</td>\n",
       "      <td>exact_sciences</td>\n",
       "    </tr>\n",
       "  </tbody>\n",
       "</table>\n",
       "<p>5 rows × 30 columns</p>\n",
       "</div>"
      ]
     },
     "execution_count": 48,
     "metadata": {},
     "output_type": "execute_result"
    }
   ],
   "execution_count": 48
  },
  {
   "metadata": {
    "ExecuteTime": {
     "end_time": "2025-04-11T20:22:30.468509Z",
     "start_time": "2025-04-11T20:22:30.449970Z"
    }
   },
   "cell_type": "code",
   "source": "",
   "id": "234d51f3372d588e",
   "outputs": [],
   "execution_count": 49
  },
  {
   "cell_type": "code",
   "id": "444e820a-c191-4a69-b6b6-4e9ec416a836",
   "metadata": {
    "ExecuteTime": {
     "end_time": "2025-04-10T07:51:21.305982Z",
     "start_time": "2025-04-10T07:51:21.271852Z"
    }
   },
   "source": [
    "filtered_vocab_df = pd.read_json(\"../data/filtered_vocab_df.json\")\n",
    "filtered_vocab_df.head(20)"
   ],
   "outputs": [
    {
     "data": {
      "text/plain": [
       "        word  1501-1550  1551-1600  1601-1650  1651-1700      mean  \\\n",
       "3299    dico      43255     122549      42457      72224  70121.25   \n",
       "960     pars      33225      93059      44337      52385  55751.50   \n",
       "3871  possum      25029      82700      38391      76841  55740.25   \n",
       "6039   habeo      31690      89199      39443      59770  55025.50   \n",
       "2898   facio      31814      98524      36944      51438  54680.00   \n",
       "5630   liber      39559      65900      38496      53100  49263.75   \n",
       "4259     res      29069      70669      28291      51565  44898.50   \n",
       "1219   uideo      21536      59099      26372      50503  39377.50   \n",
       "5787   locus      23102      56782      31421      43680  38746.25   \n",
       "1257  corpus      16979      63171      22871      31938  33739.75   \n",
       "3514    dies      15785      44607      25850      44412  32663.50   \n",
       "4985      do      17291      47879      25457      36720  31836.75   \n",
       "1879  primus      19306      52164      25164      27764  31099.50   \n",
       "1095    aqua      11747      41231      20765      34038  26945.25   \n",
       "6532   terra      14371      27580      26947      38857  26938.75   \n",
       "6430   motus      11987      35310      24422      35870  26897.25   \n",
       "2846   ratio      12519      42955      20567      31100  26785.25   \n",
       "2202  natura      13925      46648      17722      24288  25645.75   \n",
       "1789  magnus      14494      39035      19243      26346  24779.50   \n",
       "4295  tempus      12875      32854      18432      30522  23670.75   \n",
       "\n",
       "      in_lila_embeddings  in_lasla  in_operamaiora  \\\n",
       "3299                True      True            True   \n",
       "960                 True      True            True   \n",
       "3871                True      True            True   \n",
       "6039                True      True            True   \n",
       "2898                True      True            True   \n",
       "5630                True      True            True   \n",
       "4259                True      True            True   \n",
       "1219                True      True            True   \n",
       "5787                True      True            True   \n",
       "1257                True      True            True   \n",
       "3514                True      True            True   \n",
       "4985                True      True            True   \n",
       "1879                True      True            True   \n",
       "1095                True      True            True   \n",
       "6532                True      True            True   \n",
       "6430                True      True            True   \n",
       "2846                True      True            True   \n",
       "2202                True      True            True   \n",
       "1789                True      True            True   \n",
       "4295                True      True            True   \n",
       "\n",
       "                                                 transl  \n",
       "3299                                    say, call, tell  \n",
       "960                                                part  \n",
       "3871                                       be able, can  \n",
       "6039               have, hold, possess, consider, think  \n",
       "2898                                   do, make, handle  \n",
       "5630     book, volume, inner bark of a tree, book, book  \n",
       "4259                                           suddenly  \n",
       "1219                                                     \n",
       "5787                                    place, location  \n",
       "1257                                       body, corpus  \n",
       "3514             (1.) Day (2.) day, Day, Diary (3.) Day  \n",
       "4985                                 give, offer, grant  \n",
       "1879                  first, foremost, chief, principal  \n",
       "1095                  get/fetch/bring water, be watered  \n",
       "6532                                        land, earth  \n",
       "6430  movement, motion, riot, commotion, disturbance...  \n",
       "2846  reckoning, account, reason, judgement, conside...  \n",
       "2202                                             nature  \n",
       "1789                                                big  \n",
       "4295  time, occasion, opportunity, condition, right ...  "
      ],
      "text/html": [
       "<div>\n",
       "<style scoped>\n",
       "    .dataframe tbody tr th:only-of-type {\n",
       "        vertical-align: middle;\n",
       "    }\n",
       "\n",
       "    .dataframe tbody tr th {\n",
       "        vertical-align: top;\n",
       "    }\n",
       "\n",
       "    .dataframe thead th {\n",
       "        text-align: right;\n",
       "    }\n",
       "</style>\n",
       "<table border=\"1\" class=\"dataframe\">\n",
       "  <thead>\n",
       "    <tr style=\"text-align: right;\">\n",
       "      <th></th>\n",
       "      <th>word</th>\n",
       "      <th>1501-1550</th>\n",
       "      <th>1551-1600</th>\n",
       "      <th>1601-1650</th>\n",
       "      <th>1651-1700</th>\n",
       "      <th>mean</th>\n",
       "      <th>in_lila_embeddings</th>\n",
       "      <th>in_lasla</th>\n",
       "      <th>in_operamaiora</th>\n",
       "      <th>transl</th>\n",
       "    </tr>\n",
       "  </thead>\n",
       "  <tbody>\n",
       "    <tr>\n",
       "      <th>3299</th>\n",
       "      <td>dico</td>\n",
       "      <td>43255</td>\n",
       "      <td>122549</td>\n",
       "      <td>42457</td>\n",
       "      <td>72224</td>\n",
       "      <td>70121.25</td>\n",
       "      <td>True</td>\n",
       "      <td>True</td>\n",
       "      <td>True</td>\n",
       "      <td>say, call, tell</td>\n",
       "    </tr>\n",
       "    <tr>\n",
       "      <th>960</th>\n",
       "      <td>pars</td>\n",
       "      <td>33225</td>\n",
       "      <td>93059</td>\n",
       "      <td>44337</td>\n",
       "      <td>52385</td>\n",
       "      <td>55751.50</td>\n",
       "      <td>True</td>\n",
       "      <td>True</td>\n",
       "      <td>True</td>\n",
       "      <td>part</td>\n",
       "    </tr>\n",
       "    <tr>\n",
       "      <th>3871</th>\n",
       "      <td>possum</td>\n",
       "      <td>25029</td>\n",
       "      <td>82700</td>\n",
       "      <td>38391</td>\n",
       "      <td>76841</td>\n",
       "      <td>55740.25</td>\n",
       "      <td>True</td>\n",
       "      <td>True</td>\n",
       "      <td>True</td>\n",
       "      <td>be able, can</td>\n",
       "    </tr>\n",
       "    <tr>\n",
       "      <th>6039</th>\n",
       "      <td>habeo</td>\n",
       "      <td>31690</td>\n",
       "      <td>89199</td>\n",
       "      <td>39443</td>\n",
       "      <td>59770</td>\n",
       "      <td>55025.50</td>\n",
       "      <td>True</td>\n",
       "      <td>True</td>\n",
       "      <td>True</td>\n",
       "      <td>have, hold, possess, consider, think</td>\n",
       "    </tr>\n",
       "    <tr>\n",
       "      <th>2898</th>\n",
       "      <td>facio</td>\n",
       "      <td>31814</td>\n",
       "      <td>98524</td>\n",
       "      <td>36944</td>\n",
       "      <td>51438</td>\n",
       "      <td>54680.00</td>\n",
       "      <td>True</td>\n",
       "      <td>True</td>\n",
       "      <td>True</td>\n",
       "      <td>do, make, handle</td>\n",
       "    </tr>\n",
       "    <tr>\n",
       "      <th>5630</th>\n",
       "      <td>liber</td>\n",
       "      <td>39559</td>\n",
       "      <td>65900</td>\n",
       "      <td>38496</td>\n",
       "      <td>53100</td>\n",
       "      <td>49263.75</td>\n",
       "      <td>True</td>\n",
       "      <td>True</td>\n",
       "      <td>True</td>\n",
       "      <td>book, volume, inner bark of a tree, book, book</td>\n",
       "    </tr>\n",
       "    <tr>\n",
       "      <th>4259</th>\n",
       "      <td>res</td>\n",
       "      <td>29069</td>\n",
       "      <td>70669</td>\n",
       "      <td>28291</td>\n",
       "      <td>51565</td>\n",
       "      <td>44898.50</td>\n",
       "      <td>True</td>\n",
       "      <td>True</td>\n",
       "      <td>True</td>\n",
       "      <td>suddenly</td>\n",
       "    </tr>\n",
       "    <tr>\n",
       "      <th>1219</th>\n",
       "      <td>uideo</td>\n",
       "      <td>21536</td>\n",
       "      <td>59099</td>\n",
       "      <td>26372</td>\n",
       "      <td>50503</td>\n",
       "      <td>39377.50</td>\n",
       "      <td>True</td>\n",
       "      <td>True</td>\n",
       "      <td>True</td>\n",
       "      <td></td>\n",
       "    </tr>\n",
       "    <tr>\n",
       "      <th>5787</th>\n",
       "      <td>locus</td>\n",
       "      <td>23102</td>\n",
       "      <td>56782</td>\n",
       "      <td>31421</td>\n",
       "      <td>43680</td>\n",
       "      <td>38746.25</td>\n",
       "      <td>True</td>\n",
       "      <td>True</td>\n",
       "      <td>True</td>\n",
       "      <td>place, location</td>\n",
       "    </tr>\n",
       "    <tr>\n",
       "      <th>1257</th>\n",
       "      <td>corpus</td>\n",
       "      <td>16979</td>\n",
       "      <td>63171</td>\n",
       "      <td>22871</td>\n",
       "      <td>31938</td>\n",
       "      <td>33739.75</td>\n",
       "      <td>True</td>\n",
       "      <td>True</td>\n",
       "      <td>True</td>\n",
       "      <td>body, corpus</td>\n",
       "    </tr>\n",
       "    <tr>\n",
       "      <th>3514</th>\n",
       "      <td>dies</td>\n",
       "      <td>15785</td>\n",
       "      <td>44607</td>\n",
       "      <td>25850</td>\n",
       "      <td>44412</td>\n",
       "      <td>32663.50</td>\n",
       "      <td>True</td>\n",
       "      <td>True</td>\n",
       "      <td>True</td>\n",
       "      <td>(1.) Day (2.) day, Day, Diary (3.) Day</td>\n",
       "    </tr>\n",
       "    <tr>\n",
       "      <th>4985</th>\n",
       "      <td>do</td>\n",
       "      <td>17291</td>\n",
       "      <td>47879</td>\n",
       "      <td>25457</td>\n",
       "      <td>36720</td>\n",
       "      <td>31836.75</td>\n",
       "      <td>True</td>\n",
       "      <td>True</td>\n",
       "      <td>True</td>\n",
       "      <td>give, offer, grant</td>\n",
       "    </tr>\n",
       "    <tr>\n",
       "      <th>1879</th>\n",
       "      <td>primus</td>\n",
       "      <td>19306</td>\n",
       "      <td>52164</td>\n",
       "      <td>25164</td>\n",
       "      <td>27764</td>\n",
       "      <td>31099.50</td>\n",
       "      <td>True</td>\n",
       "      <td>True</td>\n",
       "      <td>True</td>\n",
       "      <td>first, foremost, chief, principal</td>\n",
       "    </tr>\n",
       "    <tr>\n",
       "      <th>1095</th>\n",
       "      <td>aqua</td>\n",
       "      <td>11747</td>\n",
       "      <td>41231</td>\n",
       "      <td>20765</td>\n",
       "      <td>34038</td>\n",
       "      <td>26945.25</td>\n",
       "      <td>True</td>\n",
       "      <td>True</td>\n",
       "      <td>True</td>\n",
       "      <td>get/fetch/bring water, be watered</td>\n",
       "    </tr>\n",
       "    <tr>\n",
       "      <th>6532</th>\n",
       "      <td>terra</td>\n",
       "      <td>14371</td>\n",
       "      <td>27580</td>\n",
       "      <td>26947</td>\n",
       "      <td>38857</td>\n",
       "      <td>26938.75</td>\n",
       "      <td>True</td>\n",
       "      <td>True</td>\n",
       "      <td>True</td>\n",
       "      <td>land, earth</td>\n",
       "    </tr>\n",
       "    <tr>\n",
       "      <th>6430</th>\n",
       "      <td>motus</td>\n",
       "      <td>11987</td>\n",
       "      <td>35310</td>\n",
       "      <td>24422</td>\n",
       "      <td>35870</td>\n",
       "      <td>26897.25</td>\n",
       "      <td>True</td>\n",
       "      <td>True</td>\n",
       "      <td>True</td>\n",
       "      <td>movement, motion, riot, commotion, disturbance...</td>\n",
       "    </tr>\n",
       "    <tr>\n",
       "      <th>2846</th>\n",
       "      <td>ratio</td>\n",
       "      <td>12519</td>\n",
       "      <td>42955</td>\n",
       "      <td>20567</td>\n",
       "      <td>31100</td>\n",
       "      <td>26785.25</td>\n",
       "      <td>True</td>\n",
       "      <td>True</td>\n",
       "      <td>True</td>\n",
       "      <td>reckoning, account, reason, judgement, conside...</td>\n",
       "    </tr>\n",
       "    <tr>\n",
       "      <th>2202</th>\n",
       "      <td>natura</td>\n",
       "      <td>13925</td>\n",
       "      <td>46648</td>\n",
       "      <td>17722</td>\n",
       "      <td>24288</td>\n",
       "      <td>25645.75</td>\n",
       "      <td>True</td>\n",
       "      <td>True</td>\n",
       "      <td>True</td>\n",
       "      <td>nature</td>\n",
       "    </tr>\n",
       "    <tr>\n",
       "      <th>1789</th>\n",
       "      <td>magnus</td>\n",
       "      <td>14494</td>\n",
       "      <td>39035</td>\n",
       "      <td>19243</td>\n",
       "      <td>26346</td>\n",
       "      <td>24779.50</td>\n",
       "      <td>True</td>\n",
       "      <td>True</td>\n",
       "      <td>True</td>\n",
       "      <td>big</td>\n",
       "    </tr>\n",
       "    <tr>\n",
       "      <th>4295</th>\n",
       "      <td>tempus</td>\n",
       "      <td>12875</td>\n",
       "      <td>32854</td>\n",
       "      <td>18432</td>\n",
       "      <td>30522</td>\n",
       "      <td>23670.75</td>\n",
       "      <td>True</td>\n",
       "      <td>True</td>\n",
       "      <td>True</td>\n",
       "      <td>time, occasion, opportunity, condition, right ...</td>\n",
       "    </tr>\n",
       "  </tbody>\n",
       "</table>\n",
       "</div>"
      ]
     },
     "execution_count": 25,
     "metadata": {},
     "output_type": "execute_result"
    }
   ],
   "execution_count": 25
  },
  {
   "metadata": {
    "ExecuteTime": {
     "end_time": "2025-04-10T07:51:22.116002Z",
     "start_time": "2025-04-10T07:51:22.113360Z"
    }
   },
   "cell_type": "code",
   "source": "",
   "id": "602eff6200b72294",
   "outputs": [],
   "execution_count": null
  },
  {
   "metadata": {
    "ExecuteTime": {
     "end_time": "2025-04-10T07:51:23.447583Z",
     "start_time": "2025-04-10T07:51:23.441565Z"
    }
   },
   "cell_type": "code",
   "source": "filtered_vocab_df = filtered_vocab_df[filtered_vocab_df[\"word\"].apply(lambda x: len(x) > 2)]",
   "id": "8095eb50337bd81f",
   "outputs": [],
   "execution_count": 26
  },
  {
   "cell_type": "code",
   "id": "47d9a51d920d7982",
   "metadata": {
    "collapsed": false,
    "jupyter": {
     "outputs_hidden": false
    },
    "ExecuteTime": {
     "end_time": "2025-04-10T07:51:24.322923Z",
     "start_time": "2025-04-10T07:51:24.317102Z"
    }
   },
   "source": [
    "vocab_freqs = filtered_vocab_df.set_index(\"word\")[\"1601-1650\"].to_dict()"
   ],
   "outputs": [],
   "execution_count": 27
  },
  {
   "cell_type": "markdown",
   "id": "647b565348777eb8",
   "metadata": {
    "collapsed": false,
    "jupyter": {
     "outputs_hidden": false
    }
   },
   "source": [
    "# FastText - development and testing"
   ]
  },
  {
   "metadata": {
    "ExecuteTime": {
     "end_time": "2025-04-10T07:51:30.185462Z",
     "start_time": "2025-04-10T07:51:30.180947Z"
    }
   },
   "cell_type": "code",
   "source": "metadata_table_long[\"id\"].tolist()[0]",
   "id": "6aaecf9221cb5a1f",
   "outputs": [
    {
     "data": {
      "text/plain": [
       "705665"
      ]
     },
     "execution_count": 28,
     "metadata": {},
     "output_type": "execute_result"
    }
   ],
   "execution_count": 28
  },
  {
   "metadata": {
    "ExecuteTime": {
     "end_time": "2025-04-09T17:47:16.482168Z",
     "start_time": "2025-04-09T17:47:16.469979Z"
    }
   },
   "cell_type": "code",
   "source": [
    "source_path = \"/srv/data/tome/noscemus/sents_data_jsons/\"\n",
    "id = metadata_table_long[\"id\"].tolist()[0]\n",
    "f_sents_data = json.load(open(source_path + str(id) + \".json\", \"rb\"))\n",
    "f_sents_data[10:15]"
   ],
   "id": "ffd80213984df493",
   "outputs": [
    {
     "data": {
      "text/plain": [
       "[['705665',\n",
       "  10,\n",
       "  'Adfulgeant Omnia Bona!',\n",
       "  [['Adfulgeant', 'adfulgeo', 'VERB', [0, 10]],\n",
       "   ['Omnia', 'omnis', 'DET', [11, 16]],\n",
       "   ['Bona', 'Bonum', 'NOUN', [17, 21]],\n",
       "   ['!', '!', 'PUNCT', [21, 22]]]],\n",
       " ['705665',\n",
       "  11,\n",
       "  'Digitized by Google Diuina Majestate * Signati Augustissime Augustissima Regum, Regina, Cogitatione, Consiliis, Affectu, Parentes Patriae!',\n",
       "  [['Digitized', 'digitized', 'VERB', [0, 9]],\n",
       "   ['by', 'by', 'SCONJ', [10, 12]],\n",
       "   ['Google', 'Google', 'PROPN', [13, 19]],\n",
       "   ['Diuina', 'diuinus', 'ADJ', [20, 26]],\n",
       "   ['Majestate', 'maiestas', 'NOUN', [27, 36]],\n",
       "   ['*', '*', 'PUNCT', [37, 38]],\n",
       "   ['Signati', 'signatus', 'VERB', [39, 46]],\n",
       "   ['Augustissime', 'augustissimus', 'ADV', [47, 59]],\n",
       "   ['Augustissima', 'augustissimus', 'ADJ', [60, 72]],\n",
       "   ['Regum', 'rex', 'NOUN', [73, 78]],\n",
       "   [',', ',', 'PUNCT', [78, 79]],\n",
       "   ['Regina', 'regina', 'NOUN', [80, 86]],\n",
       "   [',', ',', 'PUNCT', [86, 87]],\n",
       "   ['Cogitatione', 'cogitatio', 'NOUN', [88, 99]],\n",
       "   [',', ',', 'PUNCT', [99, 100]],\n",
       "   ['Consiliis', 'consilium', 'NOUN', [101, 110]],\n",
       "   [',', ',', 'PUNCT', [110, 111]],\n",
       "   ['Affectu', 'affectus', 'NOUN', [112, 119]],\n",
       "   [',', ',', 'PUNCT', [119, 120]],\n",
       "   ['Parentes', 'parens', 'NOUN', [121, 129]],\n",
       "   ['Patriae', 'Patria', 'NOUN', [130, 137]],\n",
       "   ['!', '!', 'PUNCT', [137, 138]]]],\n",
       " ['705665',\n",
       "  12,\n",
       "  'i 2 M 2 1 s * 24 2 - - .',\n",
       "  [['i', 'i', 'NUM', [0, 1]],\n",
       "   ['2', '2', 'NUM', [2, 3]],\n",
       "   ['M', 'Marcus', 'PROPN', [4, 5]],\n",
       "   ['2', '2', 'NUM', [6, 7]],\n",
       "   ['1', '1', 'NUM', [8, 9]],\n",
       "   ['s', 's', 'NUM', [10, 11]],\n",
       "   ['*', '*', 'PUNCT', [12, 13]],\n",
       "   ['24', '24', 'NUM', [14, 16]],\n",
       "   ['2', '', 'NUM', [17, 18]],\n",
       "   ['-', '-', 'PUNCT', [19, 20]],\n",
       "   ['-', '-', 'PUNCT', [21, 22]],\n",
       "   ['.', '.', 'PUNCT', [23, 24]]]],\n",
       " ['705665',\n",
       "  13,\n",
       "  'Llud quod Infantia hujus Aca2 Demiae, Quinquaginta Annorum decursu peregit;',\n",
       "  [['Llud', '', 'DET', [0, 4]],\n",
       "   ['quod', 'qui', 'PRON', [5, 9]],\n",
       "   ['Infantia', 'infantia', 'PROPN', [10, 18]],\n",
       "   ['hujus', 'hjc', 'DET', [19, 24]],\n",
       "   ['Aca2', 'Aca2', 'VERB', [25, 29]],\n",
       "   ['Demiae', 'Demia', 'PROPN', [30, 36]],\n",
       "   [',', ',', 'PUNCT', [36, 37]],\n",
       "   ['Quinquaginta', 'Quinquaginta', 'NUM', [38, 50]],\n",
       "   ['Annorum', 'annus', 'NOUN', [51, 58]],\n",
       "   ['decursu', 'decurro', 'NOUN', [59, 66]],\n",
       "   ['peregit', 'perago', 'VERB', [67, 74]],\n",
       "   [';', ';', 'PUNCT', [74, 75]]]],\n",
       " ['705665',\n",
       "  14,\n",
       "  'hac Oratione candide descripsi.',\n",
       "  [['hac', 'hic', 'DET', [0, 3]],\n",
       "   ['Oratione', 'oratio', 'NOUN', [4, 12]],\n",
       "   ['candide', 'candidus', 'ADV', [13, 20]],\n",
       "   ['descripsi', 'describo', 'VERB', [21, 30]],\n",
       "   ['.', '.', 'PUNCT', [30, 31]]]]]"
      ]
     },
     "execution_count": 7,
     "metadata": {},
     "output_type": "execute_result"
    }
   ],
   "execution_count": 7
  },
  {
   "cell_type": "code",
   "id": "7b4b216c-cadc-48d1-910f-1ca9330c8562",
   "metadata": {
    "ExecuteTime": {
     "end_time": "2025-04-10T07:52:36.899067Z",
     "start_time": "2025-04-10T07:52:36.893580Z"
    }
   },
   "source": [
    "# a genrator for iteration without flooding the CPU\n",
    "class SentsCorpus:\n",
    "    def __iter__(self):\n",
    "        source_path = \"/srv/data/tome/noscemus/sents_data_jsons/\"\n",
    "        for id in ids:\n",
    "            f_sents_data = json.load(open(source_path + str(id) + \".json\", \"rb\"))\n",
    "            sents_n = len(f_sents_data)\n",
    "            tokens_n = 0\n",
    "            lemmata = []\n",
    "            for (doc_id, sent_id, sent_text, sent_data) in f_sents_data:\n",
    "                tokens_n += len(sent_data)\n",
    "                lemmasent = []\n",
    "                for wordform, lemma, tag, position in sent_data:\n",
    "                    if tag in [\"NOUN\", \"PROPN\", \"ADJ\", \"VERB\"]:\n",
    "                        lemmasent.append(lemma)\n",
    "                lemmasent = [re.sub(r\"\\W*|\\d*\", \"\", t) for t in lemmasent]\n",
    "                lemmasent = [l.lower() for l in lemmasent if len(l) > 2]\n",
    "                try:\n",
    "                    yield lemmasent\n",
    "                except:\n",
    "                    pass"
   ],
   "outputs": [],
   "execution_count": 30
  },
  {
   "cell_type": "code",
   "id": "2692044e0117bd93",
   "metadata": {
    "collapsed": false,
    "jupyter": {
     "outputs_hidden": false
    },
    "ExecuteTime": {
     "end_time": "2025-04-09T16:36:32.260092Z",
     "start_time": "2025-04-09T16:36:32.250738Z"
    }
   },
   "source": [
    "# test with a small corpus from one decade\n",
    "ids = metadata_table_long[metadata_table_long[\"file_year\"].between(1601, 1610)][\"id\"]\n",
    "vocab_freqs = filtered_vocab_df.set_index(\"word\")[\"1601-1650\"].to_dict()\n",
    "corpus = SentsCorpus()"
   ],
   "outputs": [],
   "execution_count": 18
  },
  {
   "cell_type": "code",
   "id": "2d6c9ddd0849f254",
   "metadata": {
    "collapsed": false,
    "jupyter": {
     "outputs_hidden": false
    },
    "ExecuteTime": {
     "end_time": "2025-04-09T16:36:38.465360Z",
     "start_time": "2025-04-09T16:36:33.090008Z"
    }
   },
   "source": [
    "# how many sentences are there in the small corpus?\n",
    "len([s for s in corpus])"
   ],
   "outputs": [
    {
     "data": {
      "text/plain": [
       "194843"
      ]
     },
     "execution_count": 19,
     "metadata": {},
     "output_type": "execute_result"
    }
   ],
   "execution_count": 19
  },
  {
   "cell_type": "code",
   "execution_count": 14,
   "id": "77674fba-0d2e-4676-8167-a9d343864627",
   "metadata": {},
   "outputs": [
    {
     "name": "stdout",
     "output_type": "stream",
     "text": [
      "CPU times: user 4min 3s, sys: 2.24 s, total: 4min 5s\n",
      "Wall time: 1min 8s\n"
     ]
    },
    {
     "data": {
      "text/plain": [
       "(10942294, 16475280)"
      ]
     },
     "execution_count": 14,
     "metadata": {},
     "output_type": "execute_result"
    }
   ],
   "source": [
    "%%time\n",
    "# let's train the model\n",
    "model = FastText(vector_size=100, window=10, negative=25, ns_exponent=1, sg=1, epochs=15, workers=8, min_n=5)\n",
    "model.build_vocab_from_freq(word_freq=vocab_freqs)\n",
    "model.train(corpus, total_examples=len([s for s in corpus]), epochs=model.epochs)"
   ]
  },
  {
   "cell_type": "code",
   "execution_count": 18,
   "id": "f990e9b1-ba3e-4a95-9d84-ab8dbf7294b5",
   "metadata": {},
   "outputs": [
    {
     "data": {
      "text/plain": [
       "[('concentus', 0.6198955178260803),\n",
       " ('inuiolabilis', 0.5702183246612549),\n",
       " ('conuenientus', 0.5379429459571838),\n",
       " ('compositus', 0.5328949689865112),\n",
       " ('compositio', 0.5327402353286743),\n",
       " ('accentus', 0.5318533182144165),\n",
       " ('concessio', 0.5280140042304993),\n",
       " ('incompositus', 0.5252606868743896),\n",
       " ('compono', 0.5224994421005249),\n",
       " ('structura', 0.5185607075691223)]"
      ]
     },
     "execution_count": 18,
     "metadata": {},
     "output_type": "execute_result"
    }
   ],
   "source": [
    "# most similar words to harmonia\n",
    "model.wv.most_similar(\"harmonia\")"
   ]
  },
  {
   "metadata": {},
   "cell_type": "markdown",
   "source": "# Train the genre-based models",
   "id": "1f17621de7202e81"
  },
  {
   "metadata": {
    "ExecuteTime": {
     "end_time": "2025-04-09T17:54:14.289052Z",
     "start_time": "2025-04-09T17:54:14.281520Z"
    }
   },
   "cell_type": "code",
   "source": "nltk.FreqDist([d for dislist in metadata_table_long[metadata_table_long[\"file_year\"].between(1501,1700)][\"disciplines_list\"] for d in dislist]).most_common()",
   "id": "597f259a72f5a253",
   "outputs": [
    {
     "data": {
      "text/plain": [
       "[('Medicine', 221),\n",
       " ('Astronomy/Astrology/Cosmography', 193),\n",
       " ('Biology', 141),\n",
       " ('Mathematics', 138),\n",
       " ('Meteorology/Earth sciences', 127),\n",
       " ('Physics', 105),\n",
       " ('Geography/Cartography', 84),\n",
       " ('Other (see description)', 79),\n",
       " ('Alchemy/Chemistry', 52)]"
      ]
     },
     "execution_count": 11,
     "metadata": {},
     "output_type": "execute_result"
    }
   ],
   "execution_count": 11
  },
  {
   "metadata": {
    "ExecuteTime": {
     "end_time": "2025-04-10T08:00:40.743899Z",
     "start_time": "2025-04-10T08:00:40.740526Z"
    }
   },
   "cell_type": "code",
   "source": [
    "disciplines_list = ['Medicine',\n",
    " 'Astronomy/Astrology/Cosmography',\n",
    " 'Biology',\n",
    " 'Mathematics',\n",
    " 'Meteorology/Earth sciences',\n",
    " 'Physics',\n",
    " 'Geography/Cartography',\n",
    " 'Alchemy/Chemistry']"
   ],
   "id": "524555d5e1d0d62a",
   "outputs": [],
   "execution_count": 46
  },
  {
   "metadata": {
    "ExecuteTime": {
     "end_time": "2025-04-10T07:56:35.228337Z",
     "start_time": "2025-04-10T07:56:35.224389Z"
    }
   },
   "cell_type": "code",
   "source": "total_vocabulary = list(filtered_vocab_df[\"word\"])",
   "id": "cc5c9821612071f2",
   "outputs": [],
   "execution_count": 39
  },
  {
   "metadata": {
    "ExecuteTime": {
     "end_time": "2025-04-10T08:00:20.596787Z",
     "start_time": "2025-04-10T07:59:19.669268Z"
    }
   },
   "cell_type": "code",
   "source": [
    "discipline = \"Biology\"\n",
    "ids = metadata_table_long[(metadata_table_long[\"file_year\"].between(1501,1700)) & (metadata_table_long[\"disciplines_list\"].apply(lambda x: discipline in x))][\"id\"]\n",
    "corpus = SentsCorpus()\n",
    "vocab_freqs_tups = nltk.FreqDist([l for sent in corpus for l in sent]).most_common()\n",
    "vocab_freqs = dict([t for t in vocab_freqs_tups if t[0] in total_vocabulary])\n",
    "vocab_freqs_tups[:10]"
   ],
   "id": "ca885ac095aba902",
   "outputs": [
    {
     "data": {
      "text/plain": [
       "[('dico', 76957),\n",
       " ('liber', 65230),\n",
       " ('habeo', 61273),\n",
       " ('possum', 50255),\n",
       " ('uideo', 47212),\n",
       " ('facio', 42272),\n",
       " ('res', 42267),\n",
       " ('pars', 42118),\n",
       " ('genus', 40953),\n",
       " ('locus', 40768)]"
      ]
     },
     "execution_count": 44,
     "metadata": {},
     "output_type": "execute_result"
    }
   ],
   "execution_count": 44
  },
  {
   "metadata": {
    "ExecuteTime": {
     "end_time": "2025-04-10T07:59:08.969117Z",
     "start_time": "2025-04-10T07:59:08.964683Z"
    }
   },
   "cell_type": "code",
   "source": "len(vocab_freqs)",
   "id": "4e806fd483da957a",
   "outputs": [
    {
     "data": {
      "text/plain": [
       "5938"
      ]
     },
     "execution_count": 43,
     "metadata": {},
     "output_type": "execute_result"
    }
   ],
   "execution_count": 43
  },
  {
   "metadata": {
    "ExecuteTime": {
     "end_time": "2025-04-10T07:51:08.550792Z",
     "start_time": "2025-04-10T07:51:08.532764Z"
    }
   },
   "cell_type": "code",
   "outputs": [
    {
     "ename": "NameError",
     "evalue": "name 'metadata_table_long' is not defined",
     "output_type": "error",
     "traceback": [
      "\u001B[0;31m---------------------------------------------------------------------------\u001B[0m",
      "\u001B[0;31mNameError\u001B[0m                                 Traceback (most recent call last)",
      "Cell \u001B[0;32mIn[22], line 1\u001B[0m\n\u001B[0;32m----> 1\u001B[0m ids \u001B[38;5;241m=\u001B[39m \u001B[43mmetadata_table_long\u001B[49m[(metadata_table_long[\u001B[38;5;124m\"\u001B[39m\u001B[38;5;124mfile_year\u001B[39m\u001B[38;5;124m\"\u001B[39m]\u001B[38;5;241m.\u001B[39mbetween(\u001B[38;5;241m1501\u001B[39m,\u001B[38;5;241m1700\u001B[39m)) \u001B[38;5;241m&\u001B[39m (metadata_table_long[\u001B[38;5;124m\"\u001B[39m\u001B[38;5;124mdisciplines_list\u001B[39m\u001B[38;5;124m\"\u001B[39m]\u001B[38;5;241m.\u001B[39mapply(\u001B[38;5;28;01mlambda\u001B[39;00m x: \u001B[38;5;124m\"\u001B[39m\u001B[38;5;124mBiology\u001B[39m\u001B[38;5;124m\"\u001B[39m \u001B[38;5;129;01min\u001B[39;00m x))][\u001B[38;5;124m\"\u001B[39m\u001B[38;5;124mid\u001B[39m\u001B[38;5;124m\"\u001B[39m]\n\u001B[1;32m      2\u001B[0m corpus \u001B[38;5;241m=\u001B[39m SentsCorpus()\n\u001B[1;32m      3\u001B[0m vocab_freqs_tups \u001B[38;5;241m=\u001B[39m nltk\u001B[38;5;241m.\u001B[39mFreqDist([l \u001B[38;5;28;01mfor\u001B[39;00m sent \u001B[38;5;129;01min\u001B[39;00m corpus \u001B[38;5;28;01mfor\u001B[39;00m l \u001B[38;5;129;01min\u001B[39;00m sent])\u001B[38;5;241m.\u001B[39mmost_common()\n",
      "\u001B[0;31mNameError\u001B[0m: name 'metadata_table_long' is not defined"
     ]
    }
   ],
   "execution_count": 22,
   "source": [
    "model = FastText(vector_size=100, window=10, negative=25, ns_exponent=1, sg=1, epochs=15, workers=32, min_n=5)\n",
    "model.build_vocab_from_freq(word_freq=vocab_freqs)\n",
    "model.train(corpus, total_examples=len([s for s in corpus]), epochs=model.epochs)"
   ],
   "id": "b9985023a4ce5f26"
  },
  {
   "metadata": {
    "ExecuteTime": {
     "end_time": "2025-04-10T10:04:55.719689Z",
     "start_time": "2025-04-10T08:00:47.363629Z"
    }
   },
   "cell_type": "code",
   "source": [
    "%%time\n",
    "# main training of the models\n",
    "for discipline in disciplines_list:\n",
    "    ids = metadata_table_long[(metadata_table_long[\"file_year\"].between(1501,1700)) & (metadata_table_long[\"disciplines_list\"].apply(lambda x: discipline in x))][\"id\"]\n",
    "    corpus = SentsCorpus()\n",
    "    vocab_freqs_tups = nltk.FreqDist([l for sent in corpus for l in sent]).most_common()\n",
    "    vocab_freqs = dict([t for t in vocab_freqs_tups if t[0] in total_vocabulary])\n",
    "    model = FastText(vector_size=100, window=10, negative=25, ns_exponent=1, sg=1, epochs=15, workers=32, min_n=5)\n",
    "    model.build_vocab_from_freq(word_freq=vocab_freqs)\n",
    "    model.train(corpus, total_examples=len([s for s in corpus]), epochs=model.epochs)\n",
    "    discicipline_str = discipline.replace(\"/\", \"_\").replace(\" \", \"_\")\n",
    "    print(\"model for the period {} successfully trained.\".format(discicipline_str))\n",
    "    model.wv.save(\"/srv/data/tome/noscemus/vectors/vectors_{}.wv\".format(discicipline_str))"
   ],
   "id": "3e459a5c981697e",
   "outputs": [
    {
     "name": "stdout",
     "output_type": "stream",
     "text": [
      "model for the period Medicine successfully trained.\n",
      "model for the period Astronomy_Astrology_Cosmography successfully trained.\n",
      "model for the period Biology successfully trained.\n",
      "model for the period Mathematics successfully trained.\n",
      "model for the period Meteorology_Earth_sciences successfully trained.\n",
      "model for the period Physics successfully trained.\n",
      "model for the period Geography_Cartography successfully trained.\n",
      "model for the period Alchemy_Chemistry successfully trained.\n",
      "CPU times: user 4h 54min 47s, sys: 1min 3s, total: 4h 55min 51s\n",
      "Wall time: 2h 4min 8s\n"
     ]
    }
   ],
   "execution_count": 47
  },
  {
   "cell_type": "markdown",
   "id": "7a74afe549bdbf12",
   "metadata": {
    "collapsed": false,
    "jupyter": {
     "outputs_hidden": false
    }
   },
   "source": "# FastText - training the temporal models"
  },
  {
   "cell_type": "code",
   "execution_count": 20,
   "id": "2bbe8a3ebc3a637",
   "metadata": {
    "ExecuteTime": {
     "end_time": "2023-12-11T10:54:49.853889Z",
     "start_time": "2023-12-11T10:54:49.847614Z"
    },
    "collapsed": false,
    "jupyter": {
     "outputs_hidden": false
    }
   },
   "outputs": [],
   "source": [
    "os.mkdir(\"/srv/data/tome/noscemus/vectors/\")"
   ]
  },
  {
   "cell_type": "code",
   "id": "34d32735e819f3aa",
   "metadata": {
    "collapsed": false,
    "jupyter": {
     "outputs_hidden": false
    },
    "ExecuteTime": {
     "end_time": "2025-04-10T06:31:03.390440Z",
     "start_time": "2025-04-10T06:31:03.383842Z"
    }
   },
   "source": [
    "periods = [(1501, 1550),\n",
    "                      (1551, 1600),\n",
    "                      (1601, 1650),\n",
    "                      (1651, 1700)]\n",
    "periods_str = filtered_vocab_df.columns[1:5]\n",
    "periods_str"
   ],
   "outputs": [
    {
     "data": {
      "text/plain": [
       "Index(['1501-1550', '1551-1600', '1601-1650', '1651-1700'], dtype='object')"
      ]
     },
     "execution_count": 23,
     "metadata": {},
     "output_type": "execute_result"
    }
   ],
   "execution_count": 23
  },
  {
   "cell_type": "code",
   "id": "32e43f23118e0ee",
   "metadata": {
    "collapsed": false,
    "jupyter": {
     "outputs_hidden": false,
     "is_executing": true
    },
    "ExecuteTime": {
     "start_time": "2025-04-10T06:31:16.128831Z"
    }
   },
   "source": [
    "%%time\n",
    "# main training of the models\n",
    "for per_tup, per_str in zip(periods, periods_str):\n",
    "    ids = metadata_table_long[metadata_table_long[\"file_year\"].between(per_tup[0], per_tup[1])][\"id\"]\n",
    "    vocab_freqs = filtered_vocab_df.set_index(\"word\")[per_str].to_dict()\n",
    "    corpus = SentsCorpus()\n",
    "    model = FastText(vector_size=100, window=10, negative=25, ns_exponent=1, sg=1, epochs=15, workers=32, min_n=5)\n",
    "    model.build_vocab_from_freq(word_freq=vocab_freqs)\n",
    "    model.train(corpus, total_examples=len([s for s in corpus]), epochs=model.epochs)\n",
    "    print(\"model for the period {} successfully trained.\".format(per_str))\n",
    "    model.wv.save(\"/srv/data/tome/noscemus/vectors/vectors_{}.wv\".format(per_str))"
   ],
   "outputs": [],
   "execution_count": null
  },
  {
   "cell_type": "code",
   "execution_count": 23,
   "id": "a53f5193283e0fa6",
   "metadata": {
    "ExecuteTime": {
     "end_time": "2023-12-11T10:57:23.743558Z",
     "start_time": "2023-12-11T10:55:28.580509Z"
    },
    "collapsed": false,
    "jupyter": {
     "outputs_hidden": false
    }
   },
   "outputs": [],
   "source": [
    "# if you want to upload the vectors to sciencedata:\n",
    "#shutil.make_archive(\"../data/large_data/vectors\", 'zip', \"../data/large_data/vectors\") #\n",
    "#s.s.put(\"https://sciencedata.dk/sharingout/kase%40zcu.cz/TOME/DATA/NOSCEMUS/vectors.zip\", data=open(\"../data/large_data/vectors.zip\", \"rb\"))\n",
    "# shutil.make_archive(\"../data/large_data/lila_vectors\", 'zip', \"../data/large_data/lila_vectors\") #\n",
    "# s.s.put(\"https://sciencedata.dk/sharingout/kase%40zcu.cz/TOME/DATA/NOSCEMUS/lila_vectors.zip\", data=open(\"../data/large_data/lila_vectors.zip\", \"rb\"))"
   ]
  },
  {
   "metadata": {
    "ExecuteTime": {
     "end_time": "2025-04-11T21:33:58.719778Z",
     "start_time": "2025-04-11T21:33:58.713705Z"
    }
   },
   "cell_type": "code",
   "source": "sorted([f for f in os.listdir(\"/srv/data/tome/noscemus/vectors/\") if f.endswith(\".wv\")])",
   "id": "14685e84f489649a",
   "outputs": [
    {
     "data": {
      "text/plain": [
       "['vectors_1501-1550.wv',\n",
       " 'vectors_1551-1600.wv',\n",
       " 'vectors_1601-1650.wv',\n",
       " 'vectors_1651-1700.wv',\n",
       " 'vectors_Alchemy_Chemistry.wv',\n",
       " 'vectors_Astronomy_Astrology_Cosmography.wv',\n",
       " 'vectors_Biology.wv',\n",
       " 'vectors_Geography_Cartography.wv',\n",
       " 'vectors_Mathematics.wv',\n",
       " 'vectors_Medicine.wv',\n",
       " 'vectors_Meteorology_Earth_sciences.wv',\n",
       " 'vectors_Physics.wv']"
      ]
     },
     "execution_count": 50,
     "metadata": {},
     "output_type": "execute_result"
    }
   ],
   "execution_count": 50
  },
  {
   "metadata": {
    "ExecuteTime": {
     "end_time": "2025-04-11T21:34:02.146339Z",
     "start_time": "2025-04-11T21:34:02.140680Z"
    }
   },
   "cell_type": "code",
   "source": [
    "labels_vectors_tups = [('NOSCEMUS - 1501-1550', 'vectors_1501-1550.wv'),\n",
    " ('NOSCEMUS - 1551-1600', 'vectors_1551-1600.wv'),\n",
    " ('NOSCEMUS - 1601-1650', 'vectors_1601-1650.wv'),\n",
    " ('NOSCEMUS - 1651-1700', 'vectors_1651-1700.wv'),\n",
    " ('NOSCEMUS - Alchemy/Chemistry', 'vectors_Alchemy_Chemistry.wv'),\n",
    " ('NOSCEMUS - Astronomy/Astrology/Cosmography',\n",
    "  'vectors_Astronomy_Astrology_Cosmography.wv'),\n",
    " ('NOSCEMUS - Biology', 'vectors_Biology.wv'),\n",
    " ('NOSCEMUS - Geography/Cartography', 'vectors_Geography_Cartography.wv'),\n",
    " ('NOSCEMUS - Mathematics', 'vectors_Mathematics.wv'),\n",
    " ('NOSCEMUS - Medicine', 'vectors_Medicine.wv'),\n",
    " ('NOSCEMUS - Meteorology/Earth sciences',\n",
    "  'vectors_Meteorology_Earth_sciences.wv'),\n",
    " ('NOSCEMUS - Physics', 'vectors_Physics.wv')]\n"
   ],
   "id": "dbb99c559206eac",
   "outputs": [],
   "execution_count": 52
  },
  {
   "metadata": {
    "ExecuteTime": {
     "end_time": "2025-04-11T21:34:33.130706Z",
     "start_time": "2025-04-11T21:34:08.848300Z"
    }
   },
   "cell_type": "code",
   "source": [
    "source_path = \"/srv/data/tome/noscemus/vectors/\"\n",
    "vectors_dict_comp = {}\n",
    "for tup in labels_vectors_tups:\n",
    "    model = KeyedVectors.load(source_path + tup[1])\n",
    "    word_vectors = model.vectors\n",
    "    vocabulary = model.index_to_key\n",
    "    kv = KeyedVectors(vector_size=word_vectors.shape[1])\n",
    "    # Fill the keyed vectors\n",
    "    for word, vector in zip(vocabulary, word_vectors):\n",
    "        kv.add_vector(word, vector)\n",
    "    vectors_dict_comp[tup[0]] = kv"
   ],
   "id": "4a18afb4d931ed98",
   "outputs": [],
   "execution_count": 53
  },
  {
   "metadata": {
    "ExecuteTime": {
     "end_time": "2025-04-11T21:34:33.182014Z",
     "start_time": "2025-04-11T21:34:33.177807Z"
    }
   },
   "cell_type": "code",
   "source": "vectors_dict_comp[\"NOSCEMUS - Biology\"].vectors.shape",
   "id": "84d97ca98baae791",
   "outputs": [
    {
     "data": {
      "text/plain": [
       "(5956, 100)"
      ]
     },
     "execution_count": 54,
     "metadata": {},
     "output_type": "execute_result"
    }
   ],
   "execution_count": 54
  },
  {
   "metadata": {
    "ExecuteTime": {
     "end_time": "2025-04-11T21:34:39.909868Z",
     "start_time": "2025-04-11T21:34:37.007746Z"
    }
   },
   "cell_type": "code",
   "source": [
    "for label, model_path in [\n",
    "        (\"LASLA\", \"/srv/data/lila/allLASLA-lemmi-fast-100-SKIP-win5-min5.vec\"),\n",
    "        (\"Opera Maiora\" , \"/srv/data/lila/opera-maiora-lemmas_skip_100.vec\")]:\n",
    "    model = KeyedVectors.load_word2vec_format(model_path, binary=False)\n",
    "    word_vectors = model.vectors\n",
    "    vocabulary = model.index_to_key\n",
    "    kv = KeyedVectors(vector_size=word_vectors.shape[1])\n",
    "    # Fill the keyed vectors\n",
    "    for word, vector in zip(vocabulary, word_vectors):\n",
    "        kv.add_vector(word, vector)\n",
    "    vectors_dict_comp[label] = kv\n"
   ],
   "id": "9d6746cc1031ad51",
   "outputs": [],
   "execution_count": 55
  },
  {
   "cell_type": "code",
   "id": "32dd174616fd9702",
   "metadata": {
    "ExecuteTime": {
     "end_time": "2025-04-11T21:34:45.271231Z",
     "start_time": "2025-04-11T21:34:45.212417Z"
    }
   },
   "source": [
    "with open(\"/srv/data/tome/noscemus/vectors/vectors_dict_comp.pkl\", \"wb\") as file:\n",
    "    pickle.dump(vectors_dict_comp, file)"
   ],
   "outputs": [],
   "execution_count": 56
  },
  {
   "metadata": {},
   "cell_type": "code",
   "outputs": [],
   "execution_count": null,
   "source": "",
   "id": "59aa33ecc3d06e7b"
  }
 ],
 "metadata": {
  "kernelspec": {
   "display_name": "latin_global_kernel",
   "language": "python",
   "name": "latin_global_kernel"
  },
  "language_info": {
   "codemirror_mode": {
    "name": "ipython",
    "version": 3
   },
   "file_extension": ".py",
   "mimetype": "text/x-python",
   "name": "python",
   "nbconvert_exporter": "python",
   "pygments_lexer": "ipython3",
   "version": "3.10.12"
  }
 },
 "nbformat": 4,
 "nbformat_minor": 5
}
