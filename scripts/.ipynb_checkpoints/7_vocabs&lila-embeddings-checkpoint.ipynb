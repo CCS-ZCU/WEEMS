{
 "cells": [
  {
   "cell_type": "code",
   "execution_count": 19,
   "id": "361b2bdaa3269606",
   "metadata": {
    "ExecuteTime": {
     "end_time": "2024-02-07T21:33:05.435820Z",
     "start_time": "2024-02-07T21:33:04.164992Z"
    }
   },
   "outputs": [],
   "source": [
    "from gensim.models import KeyedVectors\n",
    "import pandas as pd\n",
    "from collections import Counter\n",
    "import nltk\n",
    "import re\n",
    "import requests\n",
    "import pickle"
   ]
  },
  {
   "cell_type": "code",
   "execution_count": 2,
   "id": "f256c66aa1cbbdbb",
   "metadata": {
    "ExecuteTime": {
     "end_time": "2024-02-07T21:33:05.466724Z",
     "start_time": "2024-02-07T21:33:05.436515Z"
    },
    "collapsed": false,
    "jupyter": {
     "outputs_hidden": false
    }
   },
   "outputs": [
    {
     "data": {
      "text/html": [
       "<div>\n",
       "<style scoped>\n",
       "    .dataframe tbody tr th:only-of-type {\n",
       "        vertical-align: middle;\n",
       "    }\n",
       "\n",
       "    .dataframe tbody tr th {\n",
       "        vertical-align: top;\n",
       "    }\n",
       "\n",
       "    .dataframe thead th {\n",
       "        text-align: right;\n",
       "    }\n",
       "</style>\n",
       "<table border=\"1\" class=\"dataframe\">\n",
       "  <thead>\n",
       "    <tr style=\"text-align: right;\">\n",
       "      <th></th>\n",
       "      <th>Author</th>\n",
       "      <th>Full title</th>\n",
       "      <th>In</th>\n",
       "      <th>Year</th>\n",
       "      <th>Place</th>\n",
       "      <th>Publisher/Printer</th>\n",
       "      <th>Era</th>\n",
       "      <th>Form/Genre</th>\n",
       "      <th>Discipline/Content</th>\n",
       "      <th>Original</th>\n",
       "      <th>...</th>\n",
       "      <th>ids</th>\n",
       "      <th>id</th>\n",
       "      <th>date_min</th>\n",
       "      <th>date_max</th>\n",
       "      <th>filename</th>\n",
       "      <th>file_year</th>\n",
       "      <th>sents_n</th>\n",
       "      <th>tokens_n</th>\n",
       "      <th>disciplines_list</th>\n",
       "      <th>science_class</th>\n",
       "    </tr>\n",
       "  </thead>\n",
       "  <tbody>\n",
       "    <tr>\n",
       "      <th>0</th>\n",
       "      <td>Achrelius, Daniel</td>\n",
       "      <td>Scientiarum magnes recitatus publice anno 1690...</td>\n",
       "      <td>None</td>\n",
       "      <td>1690</td>\n",
       "      <td>[Turku]</td>\n",
       "      <td>Wall</td>\n",
       "      <td>17th century</td>\n",
       "      <td>Oration</td>\n",
       "      <td>Mathematics, Astronomy/Astrology/Cosmography, ...</td>\n",
       "      <td>Scientiarum magnes(Google Books)</td>\n",
       "      <td>...</td>\n",
       "      <td>[705665]</td>\n",
       "      <td>705665</td>\n",
       "      <td>1690.0</td>\n",
       "      <td>1690.0</td>\n",
       "      <td>Achrelius,_Daniel_-_Scientiarum_magnes__Turku_...</td>\n",
       "      <td>1690.0</td>\n",
       "      <td>630</td>\n",
       "      <td>8839</td>\n",
       "      <td>[Mathematics, Astronomy/Astrology/Cosmography,...</td>\n",
       "      <td>mixture</td>\n",
       "    </tr>\n",
       "    <tr>\n",
       "      <th>1</th>\n",
       "      <td>Acidalius, Valens</td>\n",
       "      <td>Ad Iordanum Brunum Nolanum, Italum</td>\n",
       "      <td>Poematum Iani Lernutii, Iani Gulielmi, Valenti...</td>\n",
       "      <td>1603</td>\n",
       "      <td>Liegnitz, Wrocław</td>\n",
       "      <td>Albert, David</td>\n",
       "      <td>17th century</td>\n",
       "      <td>Panegyric poem</td>\n",
       "      <td>Astronomy/Astrology/Cosmography</td>\n",
       "      <td>Ad Iordanum Brunum (1603)(CAMENA)Ad Iordanum B...</td>\n",
       "      <td>...</td>\n",
       "      <td>[801745]</td>\n",
       "      <td>801745</td>\n",
       "      <td>1603.0</td>\n",
       "      <td>1603.0</td>\n",
       "      <td>Janus_Lernutius_et_al__-_Poemata__Liegnitz_160...</td>\n",
       "      <td>1603.0</td>\n",
       "      <td>6527</td>\n",
       "      <td>82445</td>\n",
       "      <td>[Astronomy/Astrology/Cosmography]</td>\n",
       "      <td>exact_sciences</td>\n",
       "    </tr>\n",
       "    <tr>\n",
       "      <th>2</th>\n",
       "      <td>Acosta, José de</td>\n",
       "      <td>De natura novi orbis libri duo et De promulgat...</td>\n",
       "      <td>None</td>\n",
       "      <td>1589</td>\n",
       "      <td>Salamanca</td>\n",
       "      <td>Guillelum Foquel</td>\n",
       "      <td>16th century</td>\n",
       "      <td>Monograph</td>\n",
       "      <td>Astronomy/Astrology/Cosmography, Geography/Car...</td>\n",
       "      <td>De natura novi orbis(Biodiversity Heritage Lib...</td>\n",
       "      <td>...</td>\n",
       "      <td>[713323]</td>\n",
       "      <td>713323</td>\n",
       "      <td>1589.0</td>\n",
       "      <td>1589.0</td>\n",
       "      <td>Acosta,_José_de_-_De_natura_novi_orbis__Salama...</td>\n",
       "      <td>1589.0</td>\n",
       "      <td>8905</td>\n",
       "      <td>170205</td>\n",
       "      <td>[Astronomy/Astrology/Cosmography, Geography/Ca...</td>\n",
       "      <td>exact_sciences</td>\n",
       "    </tr>\n",
       "    <tr>\n",
       "      <th>3</th>\n",
       "      <td>Adam, Melchior</td>\n",
       "      <td>Vitae Germanorum medicorum, qui saeculo superi...</td>\n",
       "      <td>None</td>\n",
       "      <td>1620</td>\n",
       "      <td>Heidelberg</td>\n",
       "      <td>Rosa, Geyder</td>\n",
       "      <td>17th century</td>\n",
       "      <td>Biography</td>\n",
       "      <td>Medicine</td>\n",
       "      <td>Vitae Germanorum medicorum(MDZ)Alternative lin...</td>\n",
       "      <td>...</td>\n",
       "      <td>[693148]</td>\n",
       "      <td>693148</td>\n",
       "      <td>1620.0</td>\n",
       "      <td>1620.0</td>\n",
       "      <td>Adam,_Melchior_-_Vitae_Germanorum_medicorum__H...</td>\n",
       "      <td>1620.0</td>\n",
       "      <td>17961</td>\n",
       "      <td>193272</td>\n",
       "      <td>[Medicine]</td>\n",
       "      <td>life_sciences</td>\n",
       "    </tr>\n",
       "    <tr>\n",
       "      <th>4</th>\n",
       "      <td>Addison, Joseph</td>\n",
       "      <td>Ad insignissimum virum dominum Thomam Burnettu...</td>\n",
       "      <td>Examen poeticum duplex, sive, Musarum anglican...</td>\n",
       "      <td>1698</td>\n",
       "      <td>London</td>\n",
       "      <td>Richard Wellington I.</td>\n",
       "      <td>17th century</td>\n",
       "      <td>Panegyric poem</td>\n",
       "      <td>Meteorology/Earth sciences</td>\n",
       "      <td>Ad Burnettum sacrae theoriae telluris auctorem...</td>\n",
       "      <td>...</td>\n",
       "      <td>[769230]</td>\n",
       "      <td>769230</td>\n",
       "      <td>1698.0</td>\n",
       "      <td>1698.0</td>\n",
       "      <td>Examen_poeticum_duplex__London_1698_pdf.txt</td>\n",
       "      <td>1698.0</td>\n",
       "      <td>3533</td>\n",
       "      <td>47878</td>\n",
       "      <td>[Meteorology/Earth sciences]</td>\n",
       "      <td>exact_sciences</td>\n",
       "    </tr>\n",
       "  </tbody>\n",
       "</table>\n",
       "<p>5 rows × 30 columns</p>\n",
       "</div>"
      ],
      "text/plain": [
       "              Author                                         Full title  \\\n",
       "0  Achrelius, Daniel  Scientiarum magnes recitatus publice anno 1690...   \n",
       "1  Acidalius, Valens                 Ad Iordanum Brunum Nolanum, Italum   \n",
       "2    Acosta, José de  De natura novi orbis libri duo et De promulgat...   \n",
       "3     Adam, Melchior  Vitae Germanorum medicorum, qui saeculo superi...   \n",
       "4    Addison, Joseph  Ad insignissimum virum dominum Thomam Burnettu...   \n",
       "\n",
       "                                                  In  Year              Place  \\\n",
       "0                                               None  1690            [Turku]   \n",
       "1  Poematum Iani Lernutii, Iani Gulielmi, Valenti...  1603  Liegnitz, Wrocław   \n",
       "2                                               None  1589          Salamanca   \n",
       "3                                               None  1620         Heidelberg   \n",
       "4  Examen poeticum duplex, sive, Musarum anglican...  1698             London   \n",
       "\n",
       "       Publisher/Printer           Era      Form/Genre  \\\n",
       "0                   Wall  17th century         Oration   \n",
       "1          Albert, David  17th century  Panegyric poem   \n",
       "2       Guillelum Foquel  16th century       Monograph   \n",
       "3           Rosa, Geyder  17th century       Biography   \n",
       "4  Richard Wellington I.  17th century  Panegyric poem   \n",
       "\n",
       "                                  Discipline/Content  \\\n",
       "0  Mathematics, Astronomy/Astrology/Cosmography, ...   \n",
       "1                    Astronomy/Astrology/Cosmography   \n",
       "2  Astronomy/Astrology/Cosmography, Geography/Car...   \n",
       "3                                           Medicine   \n",
       "4                         Meteorology/Earth sciences   \n",
       "\n",
       "                                            Original  ...       ids      id  \\\n",
       "0                   Scientiarum magnes(Google Books)  ...  [705665]  705665   \n",
       "1  Ad Iordanum Brunum (1603)(CAMENA)Ad Iordanum B...  ...  [801745]  801745   \n",
       "2  De natura novi orbis(Biodiversity Heritage Lib...  ...  [713323]  713323   \n",
       "3  Vitae Germanorum medicorum(MDZ)Alternative lin...  ...  [693148]  693148   \n",
       "4  Ad Burnettum sacrae theoriae telluris auctorem...  ...  [769230]  769230   \n",
       "\n",
       "  date_min date_max                                           filename  \\\n",
       "0   1690.0   1690.0  Achrelius,_Daniel_-_Scientiarum_magnes__Turku_...   \n",
       "1   1603.0   1603.0  Janus_Lernutius_et_al__-_Poemata__Liegnitz_160...   \n",
       "2   1589.0   1589.0  Acosta,_José_de_-_De_natura_novi_orbis__Salama...   \n",
       "3   1620.0   1620.0  Adam,_Melchior_-_Vitae_Germanorum_medicorum__H...   \n",
       "4   1698.0   1698.0        Examen_poeticum_duplex__London_1698_pdf.txt   \n",
       "\n",
       "  file_year sents_n tokens_n  \\\n",
       "0    1690.0     630     8839   \n",
       "1    1603.0    6527    82445   \n",
       "2    1589.0    8905   170205   \n",
       "3    1620.0   17961   193272   \n",
       "4    1698.0    3533    47878   \n",
       "\n",
       "                                    disciplines_list   science_class  \n",
       "0  [Mathematics, Astronomy/Astrology/Cosmography,...         mixture  \n",
       "1                  [Astronomy/Astrology/Cosmography]  exact_sciences  \n",
       "2  [Astronomy/Astrology/Cosmography, Geography/Ca...  exact_sciences  \n",
       "3                                         [Medicine]   life_sciences  \n",
       "4                       [Meteorology/Earth sciences]  exact_sciences  \n",
       "\n",
       "[5 rows x 30 columns]"
      ]
     },
     "execution_count": 2,
     "metadata": {},
     "output_type": "execute_result"
    }
   ],
   "source": [
    "metadata_table_long = pd.read_json(\"../data/metadata_table_long.json\")\n",
    "metadata_table_long.head(5)"
   ]
  },
  {
   "cell_type": "code",
   "execution_count": 4,
   "id": "ee504ebad51d2233",
   "metadata": {
    "ExecuteTime": {
     "end_time": "2024-02-07T21:33:05.796557Z",
     "start_time": "2024-02-07T21:33:05.468712Z"
    },
    "collapsed": false,
    "jupyter": {
     "outputs_hidden": false
    }
   },
   "outputs": [
    {
     "data": {
      "text/plain": [
       "[('carnarium', 0.8714821934700012),\n",
       " ('sudarium', 0.8584282398223877),\n",
       " ('uinarius', 0.8317396640777588),\n",
       " ('torcularium', 0.8269298672676086),\n",
       " ('armarium', 0.8191075325012207),\n",
       " ('milliarium', 0.8161847591400146),\n",
       " ('mortarium', 0.8139162063598633),\n",
       " ('asinarius', 0.7973706722259521),\n",
       " ('pomarium', 0.7952086329460144),\n",
       " ('olearius', 0.7895564436912537)]"
      ]
     },
     "execution_count": 4,
     "metadata": {},
     "output_type": "execute_result"
    }
   ],
   "source": [
    "lasla = KeyedVectors.load_word2vec_format(\"/srv/data/lila/allLASLA-lemmi-fast-100-SKIP-win5-min5.vec\")\n",
    "lasla.most_similar(\"seminarium\")"
   ]
  },
  {
   "cell_type": "code",
   "execution_count": 5,
   "id": "1d09e915652600b1",
   "metadata": {
    "ExecuteTime": {
     "end_time": "2024-02-07T21:33:05.852823Z",
     "start_time": "2024-02-07T21:33:05.826193Z"
    },
    "collapsed": false,
    "jupyter": {
     "outputs_hidden": false
    }
   },
   "outputs": [
    {
     "data": {
      "text/plain": [
       "[('sementis', 0.7769805788993835),\n",
       " ('germen', 0.65008145570755),\n",
       " ('legumen', 0.6492694020271301),\n",
       " ('materies', 0.62647545337677),\n",
       " ('sulcus', 0.6210276484489441),\n",
       " ('stercoro', 0.6130126118659973),\n",
       " ('genitalis', 0.6120802760124207),\n",
       " ('sumen', 0.6056757569313049),\n",
       " ('animans', 0.5975176095962524),\n",
       " ('elementa', 0.5954310297966003),\n",
       " ('seges', 0.5945314764976501),\n",
       " ('primordium', 0.5920283198356628),\n",
       " ('bipalium', 0.5892609357833862),\n",
       " ('omnigenus', 0.5877910256385803),\n",
       " ('ablaqueo', 0.5792651772499084),\n",
       " ('renascor', 0.573520839214325),\n",
       " ('enascor', 0.5693485736846924),\n",
       " ('abdomen', 0.5686165690422058),\n",
       " ('priuus', 0.5666219592094421),\n",
       " ('augmen', 0.5655485391616821)]"
      ]
     },
     "execution_count": 5,
     "metadata": {},
     "output_type": "execute_result"
    }
   ],
   "source": [
    "lasla.most_similar(\"semen\", topn=20)"
   ]
  },
  {
   "cell_type": "code",
   "execution_count": 6,
   "id": "e878b78d4bb32c1c",
   "metadata": {
    "ExecuteTime": {
     "end_time": "2024-02-07T21:33:05.861266Z",
     "start_time": "2024-02-07T21:33:05.854780Z"
    },
    "collapsed": false,
    "jupyter": {
     "outputs_hidden": false
    }
   },
   "outputs": [
    {
     "data": {
      "text/plain": [
       "['</s>', 'sum', 'et', 'qui', 'in', 'non', 'hic', 'is', 'ut', 'ego']"
      ]
     },
     "execution_count": 6,
     "metadata": {},
     "output_type": "execute_result"
    }
   ],
   "source": [
    "lasla.index_to_key[:10]"
   ]
  },
  {
   "cell_type": "code",
   "execution_count": 9,
   "id": "initial_id",
   "metadata": {
    "ExecuteTime": {
     "end_time": "2024-02-07T21:33:06.182217Z",
     "start_time": "2024-02-07T21:33:05.862916Z"
    },
    "collapsed": false,
    "jupyter": {
     "outputs_hidden": false
    }
   },
   "outputs": [
    {
     "data": {
      "text/plain": [
       "[('intellectiuus', 0.7068129181861877),\n",
       " ('separo', 0.7005686163902283),\n",
       " ('sensifico', 0.6973943114280701),\n",
       " ('sensitiuus', 0.6771703362464905),\n",
       " ('corpus', 0.663750171661377),\n",
       " ('uegetabilis', 0.6309762597084045),\n",
       " ('unio', 0.6247175335884094),\n",
       " ('rationalis', 0.623648464679718),\n",
       " ('uegetatiuus', 0.618419885635376),\n",
       " ('corporeus', 0.60992830991745)]"
      ]
     },
     "execution_count": 9,
     "metadata": {},
     "output_type": "execute_result"
    }
   ],
   "source": [
    "operamaiora = KeyedVectors.load_word2vec_format(\"/srv/data/lila/opera-maiora-lemmas_skip_100.vec\")\n",
    "operamaiora.most_similar(\"anima\")"
   ]
  },
  {
   "cell_type": "code",
   "execution_count": 10,
   "id": "a9272d6eaa1274e0",
   "metadata": {
    "ExecuteTime": {
     "end_time": "2024-02-07T21:33:06.222270Z",
     "start_time": "2024-02-07T21:33:06.204940Z"
    },
    "collapsed": false,
    "jupyter": {
     "outputs_hidden": false
    }
   },
   "outputs": [
    {
     "data": {
      "text/plain": [
       "[('formatiuus', 0.7347741723060608),\n",
       " ('decidocaedo', 0.7292525768280029),\n",
       " ('sementis', 0.7260836362838745),\n",
       " ('decisio', 0.718953549861908),\n",
       " ('proauus', 0.708860456943512),\n",
       " ('menstruus', 0.7087300419807434),\n",
       " ('fetus', 0.7033671736717224),\n",
       " ('incubus', 0.6823228597640991),\n",
       " ('seminalis', 0.6802768111228943),\n",
       " ('spumosus', 0.6695918440818787)]"
      ]
     },
     "execution_count": 10,
     "metadata": {},
     "output_type": "execute_result"
    }
   ],
   "source": [
    "operamaiora.most_similar(\"semen\")"
   ]
  },
  {
   "cell_type": "code",
   "execution_count": 11,
   "id": "834591d3d4f8a370",
   "metadata": {
    "ExecuteTime": {
     "end_time": "2024-02-07T21:33:06.236565Z",
     "start_time": "2024-02-07T21:33:06.230795Z"
    },
    "collapsed": false,
    "jupyter": {
     "outputs_hidden": false
    }
   },
   "outputs": [
    {
     "data": {
      "text/plain": [
       "6724"
      ]
     },
     "execution_count": 11,
     "metadata": {},
     "output_type": "execute_result"
    }
   ],
   "source": [
    "operamaiora_vocab = operamaiora.index_to_key\n",
    "len(operamaiora_vocab)"
   ]
  },
  {
   "cell_type": "code",
   "execution_count": 12,
   "id": "b249ae9dccd06efe",
   "metadata": {
    "ExecuteTime": {
     "end_time": "2024-02-07T21:33:06.245339Z",
     "start_time": "2024-02-07T21:33:06.238860Z"
    },
    "collapsed": false,
    "jupyter": {
     "outputs_hidden": false
    }
   },
   "outputs": [
    {
     "data": {
      "text/plain": [
       "11327"
      ]
     },
     "execution_count": 12,
     "metadata": {},
     "output_type": "execute_result"
    }
   ],
   "source": [
    "lasla_vocab = lasla.index_to_key\n",
    "len(lasla_vocab)"
   ]
  },
  {
   "cell_type": "code",
   "execution_count": 13,
   "id": "370a142f2ada4e37",
   "metadata": {
    "ExecuteTime": {
     "end_time": "2024-02-07T21:33:06.684363Z",
     "start_time": "2024-02-07T21:33:06.679401Z"
    },
    "collapsed": false,
    "jupyter": {
     "outputs_hidden": false
    }
   },
   "outputs": [
    {
     "data": {
      "text/plain": [
       "3950"
      ]
     },
     "execution_count": 13,
     "metadata": {},
     "output_type": "execute_result"
    }
   ],
   "source": [
    "vocab_overlap = list(set(lasla_vocab) & set(operamaiora_vocab))\n",
    "len(vocab_overlap)"
   ]
  },
  {
   "cell_type": "code",
   "execution_count": 14,
   "id": "e6ccdfe8-d52f-4cff-9393-41740d716807",
   "metadata": {},
   "outputs": [],
   "source": [
    "source_path = \"/srv/data/tome/noscemus/sents_data/\""
   ]
  },
  {
   "cell_type": "code",
   "execution_count": 18,
   "id": "2fbefaf5-ada1-40a3-8bd1-beb88206288e",
   "metadata": {},
   "outputs": [],
   "source": [
    "def get_filtered_counts_by_ids(ids):\n",
    "    vocab_counter = Counter() # initiate an empty counter of words - we will feed it iterarively on the go by all words we meet\n",
    "    for id in ids: # for each work ID from our subset of IDs\n",
    "        # based on the ID, open the file containing the lemmatized sentences\n",
    "        f_sents_data = pickle.load(open(source_path + str(id) + \".pickle\", \"rb\"))\n",
    "        sents_n = len(f_sents_data)\n",
    "        tokens_n = 0\n",
    "        lemmata = []\n",
    "        for sent_data in f_sents_data:\n",
    "            tokens_n += len(sent_data[1])\n",
    "            sent_lemmata = [t[1] for t in sent_data[1] if t[2] in [\"NOUN\", \"VERB\", \"ADJ\", \"PROPN\"]]\n",
    "            sent_lemmata = [re.sub(\"\\W*|\\d*\", \"\", t) for t in sent_lemmata]\n",
    "            sent_lemmata = [l for l in sent_lemmata if len(l) > 1]\n",
    "            lemmata.extend(sent_lemmata)\n",
    "        #overview_dict[filename.partition(\".\")[0]] = {\"sents_n\" : sents_n, \"tokens_n\" : tokens_n} \n",
    "        word_counts = dict(nltk.FreqDist(lemmata).most_common())\n",
    "        vocab_counter.update(word_counts)\n",
    "    return vocab_counter"
   ]
  },
  {
   "cell_type": "code",
   "execution_count": 20,
   "id": "56b64e4a28b8af62",
   "metadata": {
    "ExecuteTime": {
     "end_time": "2024-01-30T13:00:33.728472Z",
     "start_time": "2024-01-30T13:00:32.086418Z"
    },
    "collapsed": false,
    "jupyter": {
     "outputs_hidden": false
    }
   },
   "outputs": [],
   "source": [
    "ids = metadata_table_long[metadata_table_long[\"file_year\"].between(1600, 1610)][\"id\"]\n",
    "vocab = get_filtered_counts_by_ids(ids)"
   ]
  },
  {
   "cell_type": "code",
   "execution_count": 22,
   "id": "a93b6a1a7016a428",
   "metadata": {
    "ExecuteTime": {
     "end_time": "2024-01-30T13:00:40.815899Z",
     "start_time": "2024-01-30T13:00:40.810006Z"
    }
   },
   "outputs": [
    {
     "data": {
      "text/plain": [
       "[('amor', 436),\n",
       " ('animus', 899),\n",
       " ('do', 2842),\n",
       " ('possum', 5880),\n",
       " ('Google', 696),\n",
       " ('habeo', 6587),\n",
       " ('uideo', 4251),\n",
       " ('ualeo', 441),\n",
       " ('facio', 5861),\n",
       " ('uita', 1265),\n",
       " ('dico', 6652),\n",
       " ('fero', 1984),\n",
       " ('lux', 1082),\n",
       " ('oculus', 2616),\n",
       " ('dies', 5150),\n",
       " ('mens', 586),\n",
       " ('nomen', 2076),\n",
       " ('os', 6718),\n",
       " ('Acidalius', 102),\n",
       " ('bonus', 981),\n",
       " ('uis', 2451),\n",
       " ('Deus', 657),\n",
       " ('Janus', 97),\n",
       " ('uolo', 1823),\n",
       " ('fides', 608),\n",
       " ('nouus', 934),\n",
       " ('uiuo', 677),\n",
       " ('dolor', 1055),\n",
       " ('pectus', 599),\n",
       " ('ingenium', 469),\n",
       " ('tempus', 4278),\n",
       " ('homo', 2138),\n",
       " ('cura', 388),\n",
       " ('ago', 1168),\n",
       " ('orbis', 1109),\n",
       " ('manus', 1336),\n",
       " ('carmen', 173),\n",
       " ('amicus', 386),\n",
       " ('uenio', 1317),\n",
       " ('amo', 272),\n",
       " ('magnus', 3446),\n",
       " ('cor', 2418),\n",
       " ('Musa', 141),\n",
       " ('flos', 522),\n",
       " ('mors', 719),\n",
       " ('caput', 4757),\n",
       " ('numen', 111),\n",
       " ('eo', 366),\n",
       " ('annus', 4866),\n",
       " ('spes', 229),\n",
       " ('capio', 587),\n",
       " ('credo', 611),\n",
       " ('puer', 442),\n",
       " ('felix', 345),\n",
       " ('honor', 362),\n",
       " ('res', 3637),\n",
       " ('dignus', 422),\n",
       " ('fatum', 93),\n",
       " ('nox', 575),\n",
       " ('Phoebus', 79),\n",
       " ('ars', 1000),\n",
       " ('lumen', 569),\n",
       " ('laus', 270),\n",
       " ('miser', 127),\n",
       " ('diuus', 122),\n",
       " ('doceo', 891),\n",
       " ('corpus', 4224),\n",
       " ('decus', 99),\n",
       " ('terra', 2354),\n",
       " ('pater', 428),\n",
       " ('pes', 1413),\n",
       " ('numerus', 1492),\n",
       " ('opus', 1729),\n",
       " ('uates', 81),\n",
       " ('sacer', 454),\n",
       " ('studium', 392),\n",
       " ('uerus', 2224),\n",
       " ('Gulielmius', 58),\n",
       " ('poeta', 173),\n",
       " ('ius', 322),\n",
       " ('sanctus', 217),\n",
       " ('malus', 785),\n",
       " ('locus', 6146),\n",
       " ('uerbum', 859),\n",
       " ('adsum', 451),\n",
       " ('nego', 347),\n",
       " ('abeo', 210),\n",
       " ('munus', 221),\n",
       " ('puto', 938),\n",
       " ('Elegia', 51),\n",
       " ('ops', 211),\n",
       " ('cupio', 239),\n",
       " ('colo', 308),\n",
       " ('uirtus', 866),\n",
       " ('digitized', 256),\n",
       " ('unicus', 828),\n",
       " ('patria', 158),\n",
       " ('uir', 1158),\n",
       " ('nosco', 705),\n",
       " ('anima', 550)]"
      ]
     },
     "execution_count": 22,
     "metadata": {},
     "output_type": "execute_result"
    }
   ],
   "source": [
    "list(vocab.items())[:100]"
   ]
  },
  {
   "cell_type": "code",
   "execution_count": null,
   "id": "4cc91561494ae09d",
   "metadata": {
    "ExecuteTime": {
     "end_time": "2024-01-30T12:56:31.733695Z",
     "start_time": "2024-01-30T12:55:23.822472Z"
    },
    "collapsed": false,
    "jupyter": {
     "outputs_hidden": false
    }
   },
   "outputs": [],
   "source": [
    "# begin here! - 2024-08-31\n",
    "\n",
    "periods = [(1501, 1550),\n",
    "           (1551, 1600),\n",
    "           (1601, 1650),\n",
    "           (1651, 1700)]\n",
    "periods_vocabs = []\n",
    "full_vocabs = []\n",
    "for per in periods:\n",
    "    ids = metadata_table_long[metadata_table_long[\"file_year\"].between(per[0], per[1])][\"id\"] # use the metadata table to extract IDs of all works falling into this period\n",
    "    vocab = get_filtered_counts_by_ids(ids)\n",
    "    periods_vocabs.append(vocab)\n"
   ]
  },
  {
   "cell_type": "code",
   "execution_count": null,
   "id": "1abb77a5ef29ce03",
   "metadata": {
    "ExecuteTime": {
     "end_time": "2024-01-30T12:56:31.747306Z",
     "start_time": "2024-01-30T12:56:31.735391Z"
    },
    "collapsed": false,
    "jupyter": {
     "outputs_hidden": false
    }
   },
   "outputs": [],
   "source": [
    "topn = 2000\n",
    "vocabs_topn_lists =[list(vocab.keys())[:topn] for vocab in periods_vocabs]"
   ]
  },
  {
   "cell_type": "code",
   "execution_count": null,
   "id": "d86b2d38cde32198",
   "metadata": {
    "ExecuteTime": {
     "start_time": "2024-01-30T12:56:31.736411Z"
    },
    "collapsed": false,
    "jupyter": {
     "outputs_hidden": false
    }
   },
   "outputs": [],
   "source": [
    "vocab_union = set.union(*[set(vocab) for vocab in vocabs_topn_lists])\n",
    "len(vocab_union)"
   ]
  },
  {
   "cell_type": "code",
   "execution_count": null,
   "id": "e54c2b1bbd6c6fbb",
   "metadata": {
    "ExecuteTime": {
     "start_time": "2024-01-30T12:56:31.737442Z"
    },
    "collapsed": false,
    "jupyter": {
     "outputs_hidden": false
    }
   },
   "outputs": [],
   "source": [
    "# add there also the words appearing both in lasla and operamaiora\n",
    "vocab_union = set.union(*[set(vocab) for vocab in vocabs_topn_lists] + [set(vocab_overlap)])\n",
    "len(vocab_union)"
   ]
  },
  {
   "cell_type": "code",
   "execution_count": null,
   "id": "c4f73c3a6aeb9b5c",
   "metadata": {
    "ExecuteTime": {
     "start_time": "2024-01-30T12:56:31.738490Z"
    },
    "collapsed": false,
    "jupyter": {
     "outputs_hidden": false
    }
   },
   "outputs": [],
   "source": [
    "vocab_union_df = pd.DataFrame(vocab_union, columns = [\"word\"])\n",
    "vocab_union_df"
   ]
  },
  {
   "cell_type": "code",
   "execution_count": null,
   "id": "38954ce61dcff8f4",
   "metadata": {
    "ExecuteTime": {
     "start_time": "2024-01-30T12:56:31.739438Z"
    },
    "collapsed": false,
    "jupyter": {
     "outputs_hidden": false
    }
   },
   "outputs": [],
   "source": [
    "# add the counts of these words from the vocabularies\n",
    "def find_in_vocab(word, vocab):\n",
    "    try:\n",
    "        return vocab[word]\n",
    "    except:\n",
    "        return 0\n",
    "for vocab, per in zip(periods_vocabs, [str(tup[0])+\"-\"+str(tup[1]) for tup in periods]):\n",
    "    vocab_union_df[per] = vocab_union_df[\"word\"].apply(lambda x: find_in_vocab(x, vocab))"
   ]
  },
  {
   "cell_type": "code",
   "execution_count": null,
   "id": "c2ad248838031900",
   "metadata": {
    "ExecuteTime": {
     "start_time": "2024-01-30T12:56:31.740387Z"
    },
    "collapsed": false,
    "jupyter": {
     "outputs_hidden": false
    }
   },
   "outputs": [],
   "source": [
    "# calculate the mean value for sorting\n",
    "vocab_union_df[\"mean\"] = vocab_union_df[vocab_union_df.columns[1:]].mean(axis=1)\n",
    "vocab_union_df.sort_values(\"mean\", ascending=False, inplace=True)\n",
    "vocab_union_df.head(20)"
   ]
  },
  {
   "cell_type": "code",
   "execution_count": null,
   "id": "9da1d67b7b5227f7",
   "metadata": {
    "ExecuteTime": {
     "start_time": "2024-01-30T12:56:31.741336Z"
    },
    "collapsed": false,
    "jupyter": {
     "outputs_hidden": false
    }
   },
   "outputs": [],
   "source": [
    "vocab_union_df.tail(10)"
   ]
  },
  {
   "cell_type": "code",
   "execution_count": null,
   "id": "985941785c4d41d8",
   "metadata": {
    "ExecuteTime": {
     "start_time": "2024-01-30T12:56:31.742250Z"
    },
    "collapsed": false,
    "jupyter": {
     "outputs_hidden": false
    }
   },
   "outputs": [],
   "source": [
    "# Filter only for words appearing at least 5 times in each of the subcorpora\n",
    "filtered_vocab_df = vocab_union_df[\n",
    "    (vocab_union_df['1501-1550'] >= 5) &\n",
    "    (vocab_union_df['1551-1600'] >= 5) &\n",
    "    (vocab_union_df['1601-1650'] >= 5) &\n",
    "    (vocab_union_df['1651-1700'] >= 5)\n",
    "    ]"
   ]
  },
  {
   "cell_type": "code",
   "execution_count": null,
   "id": "cbd137c95482f77a",
   "metadata": {
    "ExecuteTime": {
     "start_time": "2024-01-30T12:56:31.743155Z"
    },
    "collapsed": false,
    "jupyter": {
     "outputs_hidden": false
    }
   },
   "outputs": [],
   "source": [
    "len(filtered_vocab_df)"
   ]
  },
  {
   "cell_type": "code",
   "execution_count": null,
   "id": "f4ffcb0e285d26d1",
   "metadata": {
    "ExecuteTime": {
     "start_time": "2024-01-30T12:56:31.743733Z"
    },
    "collapsed": false,
    "jupyter": {
     "outputs_hidden": false
    }
   },
   "outputs": [],
   "source": [
    "filtered_vocab_df.head(10)"
   ]
  },
  {
   "cell_type": "code",
   "execution_count": null,
   "id": "7e7f32fb61eadf96",
   "metadata": {
    "ExecuteTime": {
     "start_time": "2024-01-30T12:56:31.744332Z"
    },
    "collapsed": false,
    "jupyter": {
     "outputs_hidden": false
    }
   },
   "outputs": [],
   "source": [
    "filtered_vocab_df.tail(10)\n"
   ]
  },
  {
   "cell_type": "code",
   "execution_count": null,
   "id": "a3d14086c00127a3",
   "metadata": {
    "ExecuteTime": {
     "start_time": "2024-01-30T12:56:31.744897Z"
    },
    "collapsed": false,
    "jupyter": {
     "outputs_hidden": false
    }
   },
   "outputs": [],
   "source": [
    "filtered_vocab_df[\"in_lila_embeddings\"] = filtered_vocab_df[\"word\"].apply(lambda x: x in vocab_overlap)"
   ]
  },
  {
   "cell_type": "code",
   "execution_count": null,
   "id": "91e9567f03b6010a",
   "metadata": {
    "ExecuteTime": {
     "start_time": "2024-01-30T12:56:31.745513Z"
    },
    "collapsed": false,
    "jupyter": {
     "outputs_hidden": false
    }
   },
   "outputs": [],
   "source": [
    "filtered_vocab_df[\"in_lasla\"] = filtered_vocab_df[\"word\"].apply(lambda x: x in lasla_vocab)\n",
    "filtered_vocab_df[\"in_operamaiora\"] = filtered_vocab_df[\"word\"].apply(lambda x: x in operamaiora_vocab)"
   ]
  },
  {
   "cell_type": "code",
   "execution_count": null,
   "id": "3b2e33c5256ca575",
   "metadata": {
    "ExecuteTime": {
     "start_time": "2024-01-30T12:56:31.746113Z"
    },
    "collapsed": false,
    "jupyter": {
     "outputs_hidden": false
    }
   },
   "outputs": [],
   "source": [
    "filtered_vocab_df.head(100)"
   ]
  },
  {
   "cell_type": "code",
   "execution_count": null,
   "id": "d0d24ffb856024c1",
   "metadata": {
    "ExecuteTime": {
     "start_time": "2024-01-30T12:56:31.746808Z"
    },
    "collapsed": false,
    "jupyter": {
     "outputs_hidden": false
    }
   },
   "outputs": [],
   "source": [
    "filtered_vocab_df[\"in_lasla\"].sum()"
   ]
  },
  {
   "cell_type": "code",
   "execution_count": null,
   "id": "5ce9932a68c2cd80",
   "metadata": {
    "ExecuteTime": {
     "end_time": "2024-01-30T12:56:31.751687Z",
     "start_time": "2024-01-30T12:56:31.747444Z"
    },
    "collapsed": false,
    "jupyter": {
     "outputs_hidden": false
    }
   },
   "outputs": [],
   "source": [
    "filtered_vocab_df[\"in_operamaiora\"].sum()\n"
   ]
  },
  {
   "cell_type": "code",
   "execution_count": null,
   "id": "7b1f579e48e0bc75",
   "metadata": {
    "ExecuteTime": {
     "start_time": "2024-01-30T12:56:31.748008Z"
    },
    "collapsed": false,
    "jupyter": {
     "outputs_hidden": false
    }
   },
   "outputs": [],
   "source": [
    "filtered_vocab_df[\"in_lila_embeddings\"].sum()\n"
   ]
  },
  {
   "cell_type": "markdown",
   "id": "96cdc77f3316f6c2",
   "metadata": {
    "collapsed": false,
    "jupyter": {
     "outputs_hidden": false
    }
   },
   "source": [
    "# Add simple english translation"
   ]
  },
  {
   "cell_type": "code",
   "execution_count": null,
   "id": "ac63ed594cda5e58",
   "metadata": {
    "collapsed": false,
    "jupyter": {
     "outputs_hidden": false
    }
   },
   "outputs": [],
   "source": [
    "# simple latin API:\n",
    "# https://www.latin-is-simple.com/api/"
   ]
  },
  {
   "cell_type": "code",
   "execution_count": null,
   "id": "71f0278d81d8c105",
   "metadata": {
    "collapsed": false,
    "jupyter": {
     "outputs_hidden": false
    }
   },
   "outputs": [],
   "source": [
    "target = \"equus\"\n",
    "base_url = \"https://www.latin-is-simple.com/api/vocabulary/search/?query={}&forms_only=true\"\n",
    "resp_json = requests.get(base_url.format(target)).json()\n",
    "resp_json"
   ]
  },
  {
   "cell_type": "code",
   "execution_count": null,
   "id": "71d5c8abdd67eb81",
   "metadata": {
    "collapsed": false,
    "jupyter": {
     "outputs_hidden": false
    }
   },
   "outputs": [],
   "source": [
    "resp_json[0][\"translations_unstructured\"][\"en\"]"
   ]
  },
  {
   "cell_type": "code",
   "execution_count": null,
   "id": "2ef53254a97be755",
   "metadata": {
    "collapsed": false,
    "jupyter": {
     "outputs_hidden": false
    }
   },
   "outputs": [],
   "source": [
    "def simple_translation(target):\n",
    "    try:\n",
    "        base_url = \"https://www.latin-is-simple.com/api/vocabulary/search/?query={}&forms_only=true\"\n",
    "        resp_json = requests.get(base_url.format(target)).json()\n",
    "        transl = resp_json[0][\"translations_unstructured\"][\"en\"]\n",
    "        if transl == \"still in translation\":\n",
    "            transl = \"\"\n",
    "        return transl\n",
    "    except:\n",
    "        return \"\""
   ]
  },
  {
   "cell_type": "markdown",
   "id": "c4d24d685695d9b8",
   "metadata": {
    "collapsed": false,
    "jupyter": {
     "outputs_hidden": false
    }
   },
   "source": []
  },
  {
   "cell_type": "code",
   "execution_count": 33,
   "id": "83b13b1da6022222",
   "metadata": {
    "ExecuteTime": {
     "end_time": "2023-12-05T09:49:23.505259Z",
     "start_time": "2023-12-05T09:49:23.473892Z"
    },
    "collapsed": false,
    "jupyter": {
     "outputs_hidden": false
    }
   },
   "outputs": [
    {
     "ename": "NameError",
     "evalue": "name 'simple_translation' is not defined",
     "output_type": "error",
     "traceback": [
      "\u001b[0;31m---------------------------------------------------------------------------\u001b[0m",
      "\u001b[0;31mNameError\u001b[0m                                 Traceback (most recent call last)",
      "File \u001b[0;32m<timed eval>:1\u001b[0m\n",
      "\u001b[0;31mNameError\u001b[0m: name 'simple_translation' is not defined"
     ]
    }
   ],
   "source": [
    "%%time\n",
    "filtered_vocab_df[\"transl\"] = filtered_vocab_df[\"word\"].apply(simple_translation)"
   ]
  },
  {
   "cell_type": "code",
   "execution_count": null,
   "id": "e3d9c2371734a6f5",
   "metadata": {
    "collapsed": false,
    "jupyter": {
     "outputs_hidden": false
    }
   },
   "outputs": [],
   "source": []
  },
  {
   "cell_type": "code",
   "execution_count": null,
   "id": "4e65e548263801bf",
   "metadata": {
    "collapsed": false,
    "jupyter": {
     "outputs_hidden": false
    }
   },
   "outputs": [],
   "source": []
  },
  {
   "cell_type": "code",
   "execution_count": 121,
   "id": "a9b8163868596ed2",
   "metadata": {
    "ExecuteTime": {
     "end_time": "2023-12-01T13:23:59.457203Z",
     "start_time": "2023-12-01T13:23:59.415588Z"
    },
    "collapsed": false,
    "jupyter": {
     "outputs_hidden": false
    }
   },
   "outputs": [],
   "source": [
    "filtered_vocab_df.to_json(\"../data/filtered_vocab_df.json\")"
   ]
  },
  {
   "cell_type": "code",
   "execution_count": null,
   "id": "4340ddbf65e717fe",
   "metadata": {
    "collapsed": false,
    "jupyter": {
     "outputs_hidden": false
    }
   },
   "outputs": [],
   "source": []
  }
 ],
 "metadata": {
  "kernelspec": {
   "display_name": "latin_global_kernel",
   "language": "python",
   "name": "latin_global_kernel"
  },
  "language_info": {
   "codemirror_mode": {
    "name": "ipython",
    "version": 3
   },
   "file_extension": ".py",
   "mimetype": "text/x-python",
   "name": "python",
   "nbconvert_exporter": "python",
   "pygments_lexer": "ipython3",
   "version": "3.10.12"
  }
 },
 "nbformat": 4,
 "nbformat_minor": 5
}
