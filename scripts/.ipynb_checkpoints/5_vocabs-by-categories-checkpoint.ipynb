{
 "cells": [
  {
   "cell_type": "code",
   "execution_count": 20,
   "id": "b32c4cab428524ee",
   "metadata": {
    "ExecuteTime": {
     "end_time": "2023-12-12T12:17:19.908978Z",
     "start_time": "2023-12-12T12:17:19.126221Z"
    },
    "collapsed": false,
    "jupyter": {
     "outputs_hidden": false
    }
   },
   "outputs": [],
   "source": [
    "import pandas as pd\n",
    "from collections import Counter\n",
    "import nltk\n",
    "import os\n",
    "from gensim.models import KeyedVectors\n",
    "import matplotlib.pyplot as plt\n",
    "import numpy as np\n",
    "import json\n",
    "import shutil\n",
    "import pickle\n",
    "\n",
    "\n",
    "import gspread\n",
    "from gspread_dataframe import get_as_dataframe, set_with_dataframe\n",
    "from google.oauth2 import service_account # based on google-auth library"
   ]
  },
  {
   "cell_type": "code",
   "execution_count": 6,
   "id": "b1ef6e1cdf21cf21",
   "metadata": {
    "ExecuteTime": {
     "end_time": "2023-12-05T23:34:56.562756Z",
     "start_time": "2023-12-05T23:34:54.572371Z"
    },
    "collapsed": false,
    "jupyter": {
     "outputs_hidden": false
    }
   },
   "outputs": [],
   "source": [
    "file_data = json.load(open(os.path.expanduser(\"~/ServiceAccountsKey.json\")))\n",
    "# (2) transform the content into crendentials object\n",
    "credentials = service_account.Credentials.from_service_account_info(file_data)\n",
    "# (3) specify your usage of the credentials\n",
    "scoped_credentials = credentials.with_scopes(\n",
    "    ['https://spreadsheets.google.com/feeds', 'https://www.googleapis.com/auth/drive'])\n",
    "# (4) use the constrained credentials for authentication of gspread package\n",
    "gc = gspread.Client(auth=scoped_credentials)\n",
    "\n",
    "noscemus_gs = gc.open_by_url(\n",
    "    \"https://docs.google.com/spreadsheets/d/1ekf9RBfd4yqy0p0IWJ4SDk1kUT70hnoIVX1H6KPdIts/edit?usp=sharing\")\n"
   ]
  },
  {
   "cell_type": "code",
   "execution_count": 7,
   "id": "initial_id",
   "metadata": {
    "ExecuteTime": {
     "end_time": "2023-12-05T23:34:56.606735Z",
     "start_time": "2023-12-05T23:34:56.564108Z"
    }
   },
   "outputs": [],
   "source": [
    "metadata_table_long = pd.read_csv(\"../data/metadata_table_long.csv\")\n"
   ]
  },
  {
   "cell_type": "code",
   "execution_count": 8,
   "id": "abdc79d3dca6b4cc",
   "metadata": {
    "ExecuteTime": {
     "end_time": "2023-12-05T23:34:56.611432Z",
     "start_time": "2023-12-05T23:34:56.607560Z"
    },
    "collapsed": false,
    "jupyter": {
     "outputs_hidden": false
    }
   },
   "outputs": [
    {
     "data": {
      "text/plain": [
       "975"
      ]
     },
     "execution_count": 8,
     "metadata": {},
     "output_type": "execute_result"
    }
   ],
   "source": [
    "len(metadata_table_long)"
   ]
  },
  {
   "cell_type": "code",
   "execution_count": 9,
   "id": "642fb10d97b3ac51",
   "metadata": {
    "ExecuteTime": {
     "end_time": "2023-12-05T23:34:56.626506Z",
     "start_time": "2023-12-05T23:34:56.612078Z"
    },
    "collapsed": false,
    "jupyter": {
     "outputs_hidden": false
    }
   },
   "outputs": [
    {
     "data": {
      "text/html": [
       "<div>\n",
       "<style scoped>\n",
       "    .dataframe tbody tr th:only-of-type {\n",
       "        vertical-align: middle;\n",
       "    }\n",
       "\n",
       "    .dataframe tbody tr th {\n",
       "        vertical-align: top;\n",
       "    }\n",
       "\n",
       "    .dataframe thead th {\n",
       "        text-align: right;\n",
       "    }\n",
       "</style>\n",
       "<table border=\"1\" class=\"dataframe\">\n",
       "  <thead>\n",
       "    <tr style=\"text-align: right;\">\n",
       "      <th></th>\n",
       "      <th>Author</th>\n",
       "      <th>Full title</th>\n",
       "      <th>In</th>\n",
       "      <th>Year</th>\n",
       "      <th>Place</th>\n",
       "      <th>Publisher/Printer</th>\n",
       "      <th>Era</th>\n",
       "      <th>Form/Genre</th>\n",
       "      <th>Discipline/Content</th>\n",
       "      <th>Original</th>\n",
       "      <th>...</th>\n",
       "      <th>Of interest to</th>\n",
       "      <th>Transkribus text available</th>\n",
       "      <th>Written by</th>\n",
       "      <th>Library and Signature</th>\n",
       "      <th>ids</th>\n",
       "      <th>id</th>\n",
       "      <th>date_min</th>\n",
       "      <th>date_max</th>\n",
       "      <th>filename</th>\n",
       "      <th>file_year</th>\n",
       "    </tr>\n",
       "  </thead>\n",
       "  <tbody>\n",
       "    <tr>\n",
       "      <th>0</th>\n",
       "      <td>Achrelius, Daniel</td>\n",
       "      <td>Scientiarum magnes recitatus publice anno 1690...</td>\n",
       "      <td>NaN</td>\n",
       "      <td>1690</td>\n",
       "      <td>[Turku]</td>\n",
       "      <td>Wall</td>\n",
       "      <td>17th century</td>\n",
       "      <td>Oration</td>\n",
       "      <td>Mathematics, Astronomy/Astrology/Cosmography, ...</td>\n",
       "      <td>Scientiarum magnes(Google Books)</td>\n",
       "      <td>...</td>\n",
       "      <td>MK, JL</td>\n",
       "      <td>Yes</td>\n",
       "      <td>IT</td>\n",
       "      <td>NaN</td>\n",
       "      <td>[705665]</td>\n",
       "      <td>705665</td>\n",
       "      <td>1690.0</td>\n",
       "      <td>1690.0</td>\n",
       "      <td>Achrelius,_Daniel_-_Scientiarum_magnes__Turku_...</td>\n",
       "      <td>1690.0</td>\n",
       "    </tr>\n",
       "    <tr>\n",
       "      <th>1</th>\n",
       "      <td>Acidalius, Valens</td>\n",
       "      <td>Ad Iordanum Brunum Nolanum, Italum</td>\n",
       "      <td>Poematum Iani Lernutii, Iani Gulielmi, Valenti...</td>\n",
       "      <td>1603</td>\n",
       "      <td>Liegnitz, Wrocław</td>\n",
       "      <td>Albert, David</td>\n",
       "      <td>17th century</td>\n",
       "      <td>Panegyric poem</td>\n",
       "      <td>Astronomy/Astrology/Cosmography</td>\n",
       "      <td>Ad Iordanum Brunum (1603)(CAMENA)Ad Iordanum B...</td>\n",
       "      <td>...</td>\n",
       "      <td>MK, IT</td>\n",
       "      <td>Yes</td>\n",
       "      <td>MK</td>\n",
       "      <td>NaN</td>\n",
       "      <td>[801745]</td>\n",
       "      <td>801745</td>\n",
       "      <td>1603.0</td>\n",
       "      <td>1603.0</td>\n",
       "      <td>Janus_Lernutius_et_al__-_Poemata__Liegnitz_160...</td>\n",
       "      <td>1603.0</td>\n",
       "    </tr>\n",
       "    <tr>\n",
       "      <th>2</th>\n",
       "      <td>Acosta, José de</td>\n",
       "      <td>De natura novi orbis libri duo et De promulgat...</td>\n",
       "      <td>NaN</td>\n",
       "      <td>1589</td>\n",
       "      <td>Salamanca</td>\n",
       "      <td>Guillelum Foquel</td>\n",
       "      <td>16th century</td>\n",
       "      <td>Monograph</td>\n",
       "      <td>Astronomy/Astrology/Cosmography, Geography/Car...</td>\n",
       "      <td>De natura novi orbis(Biodiversity Heritage Lib...</td>\n",
       "      <td>...</td>\n",
       "      <td>DB</td>\n",
       "      <td>Yes</td>\n",
       "      <td>DB</td>\n",
       "      <td>NaN</td>\n",
       "      <td>[713323]</td>\n",
       "      <td>713323</td>\n",
       "      <td>1589.0</td>\n",
       "      <td>1589.0</td>\n",
       "      <td>Acosta,_José_de_-_De_natura_novi_orbis__Salama...</td>\n",
       "      <td>1589.0</td>\n",
       "    </tr>\n",
       "    <tr>\n",
       "      <th>3</th>\n",
       "      <td>Adam, Melchior</td>\n",
       "      <td>Vitae Germanorum medicorum, qui saeculo superi...</td>\n",
       "      <td>NaN</td>\n",
       "      <td>1620</td>\n",
       "      <td>Heidelberg</td>\n",
       "      <td>Rosa, Geyder</td>\n",
       "      <td>17th century</td>\n",
       "      <td>Biography</td>\n",
       "      <td>Medicine</td>\n",
       "      <td>Vitae Germanorum medicorum(MDZ)Alternative lin...</td>\n",
       "      <td>...</td>\n",
       "      <td>IT</td>\n",
       "      <td>Yes</td>\n",
       "      <td>IT</td>\n",
       "      <td>NaN</td>\n",
       "      <td>[693148]</td>\n",
       "      <td>693148</td>\n",
       "      <td>1620.0</td>\n",
       "      <td>1620.0</td>\n",
       "      <td>Adam,_Melchior_-_Vitae_Germanorum_medicorum__H...</td>\n",
       "      <td>1620.0</td>\n",
       "    </tr>\n",
       "    <tr>\n",
       "      <th>4</th>\n",
       "      <td>Addison, Joseph</td>\n",
       "      <td>Ad insignissimum virum dominum Thomam Burnettu...</td>\n",
       "      <td>Examen poeticum duplex, sive, Musarum anglican...</td>\n",
       "      <td>1698</td>\n",
       "      <td>London</td>\n",
       "      <td>Richard Wellington I.</td>\n",
       "      <td>17th century</td>\n",
       "      <td>Panegyric poem</td>\n",
       "      <td>Meteorology/Earth sciences</td>\n",
       "      <td>Ad Burnettum sacrae theoriae telluris auctorem...</td>\n",
       "      <td>...</td>\n",
       "      <td>MK, IT</td>\n",
       "      <td>Yes</td>\n",
       "      <td>MK</td>\n",
       "      <td>NaN</td>\n",
       "      <td>[769230]</td>\n",
       "      <td>769230</td>\n",
       "      <td>1698.0</td>\n",
       "      <td>1698.0</td>\n",
       "      <td>Examen_poeticum_duplex__London_1698_pdf.txt</td>\n",
       "      <td>1698.0</td>\n",
       "    </tr>\n",
       "  </tbody>\n",
       "</table>\n",
       "<p>5 rows × 26 columns</p>\n",
       "</div>"
      ],
      "text/plain": [
       "              Author                                         Full title  \\\n",
       "0  Achrelius, Daniel  Scientiarum magnes recitatus publice anno 1690...   \n",
       "1  Acidalius, Valens                 Ad Iordanum Brunum Nolanum, Italum   \n",
       "2    Acosta, José de  De natura novi orbis libri duo et De promulgat...   \n",
       "3     Adam, Melchior  Vitae Germanorum medicorum, qui saeculo superi...   \n",
       "4    Addison, Joseph  Ad insignissimum virum dominum Thomam Burnettu...   \n",
       "\n",
       "                                                  In  Year              Place  \\\n",
       "0                                                NaN  1690            [Turku]   \n",
       "1  Poematum Iani Lernutii, Iani Gulielmi, Valenti...  1603  Liegnitz, Wrocław   \n",
       "2                                                NaN  1589          Salamanca   \n",
       "3                                                NaN  1620         Heidelberg   \n",
       "4  Examen poeticum duplex, sive, Musarum anglican...  1698             London   \n",
       "\n",
       "       Publisher/Printer           Era      Form/Genre  \\\n",
       "0                   Wall  17th century         Oration   \n",
       "1          Albert, David  17th century  Panegyric poem   \n",
       "2       Guillelum Foquel  16th century       Monograph   \n",
       "3           Rosa, Geyder  17th century       Biography   \n",
       "4  Richard Wellington I.  17th century  Panegyric poem   \n",
       "\n",
       "                                  Discipline/Content  \\\n",
       "0  Mathematics, Astronomy/Astrology/Cosmography, ...   \n",
       "1                    Astronomy/Astrology/Cosmography   \n",
       "2  Astronomy/Astrology/Cosmography, Geography/Car...   \n",
       "3                                           Medicine   \n",
       "4                         Meteorology/Earth sciences   \n",
       "\n",
       "                                            Original  ... Of interest to  \\\n",
       "0                   Scientiarum magnes(Google Books)  ...         MK, JL   \n",
       "1  Ad Iordanum Brunum (1603)(CAMENA)Ad Iordanum B...  ...         MK, IT   \n",
       "2  De natura novi orbis(Biodiversity Heritage Lib...  ...             DB   \n",
       "3  Vitae Germanorum medicorum(MDZ)Alternative lin...  ...             IT   \n",
       "4  Ad Burnettum sacrae theoriae telluris auctorem...  ...         MK, IT   \n",
       "\n",
       "  Transkribus text available Written by Library and Signature       ids  \\\n",
       "0                        Yes         IT                   NaN  [705665]   \n",
       "1                        Yes         MK                   NaN  [801745]   \n",
       "2                        Yes         DB                   NaN  [713323]   \n",
       "3                        Yes         IT                   NaN  [693148]   \n",
       "4                        Yes         MK                   NaN  [769230]   \n",
       "\n",
       "       id date_min date_max  \\\n",
       "0  705665   1690.0   1690.0   \n",
       "1  801745   1603.0   1603.0   \n",
       "2  713323   1589.0   1589.0   \n",
       "3  693148   1620.0   1620.0   \n",
       "4  769230   1698.0   1698.0   \n",
       "\n",
       "                                            filename file_year  \n",
       "0  Achrelius,_Daniel_-_Scientiarum_magnes__Turku_...    1690.0  \n",
       "1  Janus_Lernutius_et_al__-_Poemata__Liegnitz_160...    1603.0  \n",
       "2  Acosta,_José_de_-_De_natura_novi_orbis__Salama...    1589.0  \n",
       "3  Adam,_Melchior_-_Vitae_Germanorum_medicorum__H...    1620.0  \n",
       "4        Examen_poeticum_duplex__London_1698_pdf.txt    1698.0  \n",
       "\n",
       "[5 rows x 26 columns]"
      ]
     },
     "execution_count": 9,
     "metadata": {},
     "output_type": "execute_result"
    }
   ],
   "source": [
    "metadata_table_long.head(5)"
   ]
  },
  {
   "cell_type": "code",
   "execution_count": 10,
   "id": "2c8886d15fdf1e7d",
   "metadata": {
    "ExecuteTime": {
     "end_time": "2023-12-05T23:34:56.626744Z",
     "start_time": "2023-12-05T23:34:56.622308Z"
    },
    "collapsed": false,
    "jupyter": {
     "outputs_hidden": false
    }
   },
   "outputs": [
    {
     "data": {
      "text/plain": [
       "652"
      ]
     },
     "execution_count": 10,
     "metadata": {},
     "output_type": "execute_result"
    }
   ],
   "source": [
    "metadata_table_long[\"file_year\"].between(1517, 1716).sum()"
   ]
  },
  {
   "cell_type": "code",
   "execution_count": 11,
   "id": "9d4d30ac2745cc47",
   "metadata": {
    "ExecuteTime": {
     "end_time": "2023-12-05T23:34:57.185036Z",
     "start_time": "2023-12-05T23:34:56.627705Z"
    },
    "collapsed": false,
    "jupyter": {
     "outputs_hidden": false
    }
   },
   "outputs": [
    {
     "data": {
      "text/plain": [
       "(1460.0, 1930.0)"
      ]
     },
     "execution_count": 11,
     "metadata": {},
     "output_type": "execute_result"
    },
    {
     "data": {
      "image/png": "[encoded data removed]",
      "text/plain": [
       "<Figure size 1620x900 with 1 Axes>"
      ]
     },
     "metadata": {},
     "output_type": "display_data"
    }
   ],
   "source": [
    "fig, ax = plt.subplots(figsize=(5.4, 3), dpi=300, tight_layout=True)\n",
    "ax.axvspan(1517, 1716, color=\"lightgreen\")\n",
    "metadata_table_long[\"file_year\"].plot.hist(bins=range(1470,1930,10), ec=\"black\", color=\"white\", alpha=0.8, ax=ax)\n",
    "ax.set_xticks(range(1460,1960,20))\n",
    "ax.set_xticklabels([str(n) for n in range(1460,1960,20)], rotation=90)\n",
    "ax.set_ylabel(\"N works\")\n",
    "ax.set_xlim(1460, 1930)"
   ]
  },
  {
   "cell_type": "code",
   "execution_count": 12,
   "id": "277060586102eca2",
   "metadata": {
    "ExecuteTime": {
     "end_time": "2023-12-05T23:34:57.414701Z",
     "start_time": "2023-12-05T23:34:57.162367Z"
    },
    "collapsed": false,
    "jupyter": {
     "outputs_hidden": false
    }
   },
   "outputs": [],
   "source": [
    "fig.savefig(\"../figures/noscemus_works_tempdist.png\")"
   ]
  },
  {
   "cell_type": "markdown",
   "id": "7187ea84a5933445",
   "metadata": {
    "collapsed": false,
    "jupyter": {
     "outputs_hidden": false
    }
   },
   "source": [
    "# Count number of words and sentences for each work and add this info to the metadata"
   ]
  },
  {
   "cell_type": "code",
   "execution_count": 14,
   "id": "c80d788ce221006d",
   "metadata": {
    "ExecuteTime": {
     "end_time": "2023-12-05T23:34:57.423954Z",
     "start_time": "2023-12-05T23:34:57.417366Z"
    },
    "collapsed": false,
    "jupyter": {
     "outputs_hidden": false
    }
   },
   "outputs": [],
   "source": [
    "id = metadata_table_long[\"id\"][1]"
   ]
  },
  {
   "cell_type": "code",
   "execution_count": 4,
   "id": "1e306bda7b2ee8fe",
   "metadata": {
    "ExecuteTime": {
     "end_time": "2023-12-12T12:20:42.901663Z",
     "start_time": "2023-12-12T12:20:41.946062Z"
    },
    "collapsed": false,
    "jupyter": {
     "outputs_hidden": false
    }
   },
   "outputs": [],
   "source": [
    "#!curl https://sciencedata.dk/public/87394f685b79e7f1ebd4a7ead2b4941c/sents_lemmata.zip -o ../data/large_data/sents_lemmata.zip\n",
    "#!curl https://sciencedata.dk/public/87394f685b79e7f1ebd4a7ead2b4941c/sents_pos.zip -o ../data/large_data/sents_pos.zip\n",
    "# shutil.unpack_archive(\"../data/large_data/sents_lemmata.zip\", \"../data/large_data/sents_lemmata\")\n",
    "# shutil.unpack_archive(\"../data/large_data/sents_pos.zip\", \"../data/large_data/sents_pos\")"
   ]
  },
  {
   "cell_type": "code",
   "execution_count": 180,
   "id": "9c617720-45cc-4484-b577-8dffa2f65c94",
   "metadata": {},
   "outputs": [
    {
     "data": {
      "text/plain": [
       "['725075.pickle',\n",
       " '928138.pickle',\n",
       " '985903.pickle',\n",
       " '733505.pickle',\n",
       " '739101.pickle',\n",
       " '702145.pickle',\n",
       " '906214.pickle',\n",
       " '902259.pickle',\n",
       " '901017.pickle',\n",
       " '904418.pickle']"
      ]
     },
     "execution_count": 180,
     "metadata": {},
     "output_type": "execute_result"
    }
   ],
   "source": [
    "source_path = \"/srv/data/tome/noscemus/sents_data/\"\n",
    "# alternatively, we can use lower case version of all texts:\n",
    "# source_path = \"/srv/data/tome/noscemus/sents_data_lower/\"\n",
    "filenames_list = os.listdir(source_path)\n",
    "filenames_list[:10]"
   ]
  },
  {
   "cell_type": "code",
   "execution_count": 181,
   "id": "d9815912-9f44-431e-8597-d2e13c17dd5f",
   "metadata": {},
   "outputs": [
    {
     "data": {
      "text/plain": [
       "[('Uerumenim uero inpraesentiarum id me male habet, quod adhuc uiderim aliquam rixandi necessitatem, & serram contentionis reciprocandi, dum ipsi nouae Philosophiae Principes, de Plenitudine Mundi non conueniunt, adeoque in ipso limine caespitant &c. Quia uero jam olim Philosophi inter sese de Uacuo, an?',\n",
       "  [('Uerumenim', 'uerumenim', 'PART', (0, 9)),\n",
       "   ('uero', 'uero', 'ADV', (10, 14)),\n",
       "   ('inpraesentiarum', 'inpraesentia', 'NOUN', (15, 30)),\n",
       "   ('id', 'is', 'PRON', (31, 33)),\n",
       "   ('me', 'ego', 'PRON', (34, 36)),\n",
       "   ('male', 'male', 'ADV', (37, 41)),\n",
       "   ('habet', 'habeo', 'VERB', (42, 47)),\n",
       "   (',', ',', 'PUNCT', (47, 48)),\n",
       "   ('quod', 'qui', 'PRON', (49, 53)),\n",
       "   ('adhuc', 'adhuc', 'ADV', (54, 59)),\n",
       "   ('uiderim', 'uideo', 'VERB', (60, 67)),\n",
       "   ('aliquam', 'aliqui', 'DET', (68, 75)),\n",
       "   ('rixandi', 'rixor', 'VERB', (76, 83)),\n",
       "   ('necessitatem', 'necessitas', 'NOUN', (84, 96)),\n",
       "   (',', ',', 'PUNCT', (96, 97)),\n",
       "   ('&', '&', 'PUNCT', (98, 99)),\n",
       "   ('serram', 'serra', 'NOUN', (100, 106)),\n",
       "   ('contentionis', 'contentio', 'NOUN', (107, 119)),\n",
       "   ('reciprocandi', 'reciproco', 'VERB', (120, 132)),\n",
       "   (',', ',', 'PUNCT', (132, 133)),\n",
       "   ('dum', 'dum', 'SCONJ', (134, 137)),\n",
       "   ('ipsi', 'ipse', 'DET', (138, 142)),\n",
       "   ('nouae', 'nouus', 'ADJ', (143, 148)),\n",
       "   ('Philosophiae', 'Philosophiaa', 'PROPN', (149, 161)),\n",
       "   ('Principes', 'principes', 'NOUN', (162, 171)),\n",
       "   (',', ',', 'PUNCT', (171, 172)),\n",
       "   ('de', 'de', 'ADP', (173, 175)),\n",
       "   ('Plenitudine', 'plenitudo', 'NOUN', (176, 187)),\n",
       "   ('Mundi', 'Mundus', 'PROPN', (188, 193)),\n",
       "   ('non', 'non', 'PART', (194, 197)),\n",
       "   ('conueniunt', 'conuenio', 'VERB', (198, 208)),\n",
       "   (',', ',', 'PUNCT', (208, 209)),\n",
       "   ('adeo', 'adeo', 'ADV', (210, 214)),\n",
       "   ('que', 'que', 'CCONJ', (214, 217)),\n",
       "   ('in', 'in', 'ADP', (218, 220)),\n",
       "   ('ipso', 'ipse', 'DET', (221, 225)),\n",
       "   ('limine', 'limen', 'NOUN', (226, 232)),\n",
       "   ('caespitant', 'caespito', 'VERB', (233, 243)),\n",
       "   ('&', '&', 'PUNCT', (244, 245)),\n",
       "   ('c.', 'c.', 'SCONJ', (245, 247)),\n",
       "   ('Quia', 'quia', 'SCONJ', (248, 252)),\n",
       "   ('uero', 'uero', 'ADV', (253, 257)),\n",
       "   ('jam', 'jam', 'ADV', (258, 261)),\n",
       "   ('olim', 'olim', 'ADV', (262, 266)),\n",
       "   ('Philosophi', 'philosophi', 'NOUN', (267, 277)),\n",
       "   ('inter', 'inter', 'ADP', (278, 283)),\n",
       "   ('sese', 'sui', 'PRON', (284, 288)),\n",
       "   ('de', 'de', 'ADP', (289, 291)),\n",
       "   ('Uacuo', 'uacuus', 'PROPN', (292, 297)),\n",
       "   (',', ',', 'PUNCT', (297, 298)),\n",
       "   ('an', 'an', 'CCONJ', (299, 301)),\n",
       "   ('?', '?', 'PUNCT', (301, 302))]),\n",
       " ('uel non?',\n",
       "  [('uel', 'uel', 'CCONJ', (0, 3)),\n",
       "   ('non', 'non', 'PART', (4, 7)),\n",
       "   ('?', '?', 'PUNCT', (7, 8))]),\n",
       " ('aut quid sit?',\n",
       "  [('aut', 'aut', 'CCONJ', (0, 3)),\n",
       "   ('quid', 'quis', 'PRON', (4, 8)),\n",
       "   ('sit', 'sum', 'AUX', (9, 12)),\n",
       "   ('?', '?', 'PUNCT', (12, 13))]),\n",
       " ('tam acriter disputarunt & quilibet sententiam suam semel conceptam, mordicus ut miles arcem contra oppugnantem hostem, defendit;',\n",
       "  [('tam', 'tam', 'ADV', (0, 3)),\n",
       "   ('acriter', 'acriter', 'ADV', (4, 11)),\n",
       "   ('disputarunt', 'disputo', 'VERB', (12, 23)),\n",
       "   ('&', '&', 'PUNCT', (24, 25)),\n",
       "   ('quilibet', 'quilibet', 'DET', (26, 34)),\n",
       "   ('sententiam', 'sententia', 'NOUN', (35, 45)),\n",
       "   ('suam', 'suus', 'DET', (46, 50)),\n",
       "   ('semel', 'semel', 'ADV', (51, 56)),\n",
       "   ('conceptam', 'concipio', 'VERB', (57, 66)),\n",
       "   (',', ',', 'PUNCT', (66, 67)),\n",
       "   ('mordicus', 'mordicus', 'ADJ', (68, 76)),\n",
       "   ('ut', 'ut', 'SCONJ', (77, 79)),\n",
       "   ('miles', 'miles', 'NOUN', (80, 85)),\n",
       "   ('arcem', 'arx', 'NOUN', (86, 91)),\n",
       "   ('contra', 'contra', 'ADP', (92, 98)),\n",
       "   ('oppugnantem', 'oppugno', 'VERB', (99, 110)),\n",
       "   ('hostem', 'hostis', 'NOUN', (111, 117)),\n",
       "   (',', ',', 'PUNCT', (117, 118)),\n",
       "   ('defendit', 'defendo', 'VERB', (119, 127)),\n",
       "   (';', ';', 'PUNCT', (127, 128))])]"
      ]
     },
     "execution_count": 181,
     "metadata": {},
     "output_type": "execute_result"
    }
   ],
   "source": [
    "# test: loading back individual file\n",
    "f_sents_data = pickle.load(open(source_path + filenames_list[20], \"rb\"))\n",
    "f_sents_data[111:115]"
   ]
  },
  {
   "cell_type": "code",
   "execution_count": 182,
   "id": "c4da34ae5a1207b0",
   "metadata": {
    "ExecuteTime": {
     "end_time": "2023-12-05T23:35:00.921954Z",
     "start_time": "2023-12-05T23:35:00.889655Z"
    },
    "collapsed": false,
    "jupyter": {
     "outputs_hidden": false
    }
   },
   "outputs": [],
   "source": [
    "def get_filtered_lemmatized_sentences(f_sents_data):\n",
    "    lemmatized_sents = []\n",
    "    for sent_data in f_sents_data:\n",
    "        lemmatized_sents.append([t[1] for t in sent_data[1] if t[2] in [\"NOUN\", \"VERB\", \"ADJ\", \"PROPN\"]])\n",
    "    return lemmatized_sents"
   ]
  },
  {
   "cell_type": "code",
   "execution_count": 183,
   "id": "9e51ab40-3e7a-422a-ab05-340f19304ee0",
   "metadata": {},
   "outputs": [
    {
     "data": {
      "text/plain": [
       "[['inpraesentia',\n",
       "  'habeo',\n",
       "  'uideo',\n",
       "  'rixor',\n",
       "  'necessitas',\n",
       "  'serra',\n",
       "  'contentio',\n",
       "  'reciproco',\n",
       "  'nouus',\n",
       "  'Philosophiaa',\n",
       "  'principes',\n",
       "  'plenitudo',\n",
       "  'Mundus',\n",
       "  'conuenio',\n",
       "  'limen',\n",
       "  'caespito',\n",
       "  'philosophi',\n",
       "  'uacuus'],\n",
       " [],\n",
       " [],\n",
       " ['disputo',\n",
       "  'sententia',\n",
       "  'concipio',\n",
       "  'mordicus',\n",
       "  'miles',\n",
       "  'arx',\n",
       "  'oppugno',\n",
       "  'hostis',\n",
       "  'defendo']]"
      ]
     },
     "execution_count": 183,
     "metadata": {},
     "output_type": "execute_result"
    }
   ],
   "source": [
    "lemmatized_sents = get_filtered_lemmatized_sentences(f_sents_data)\n",
    "lemmatized_sents[111:115]"
   ]
  },
  {
   "cell_type": "code",
   "execution_count": 184,
   "id": "ffab5ae83165790f",
   "metadata": {
    "ExecuteTime": {
     "end_time": "2023-12-05T23:35:01.293274Z",
     "start_time": "2023-12-05T23:35:01.267269Z"
    },
    "collapsed": false,
    "jupyter": {
     "outputs_hidden": false
    }
   },
   "outputs": [
    {
     "data": {
      "text/plain": [
       "['Otto',\n",
       " 'Guerickeus',\n",
       " 'experimentum',\n",
       " 'nouus',\n",
       " 'uoco',\n",
       " 'Magdeburgica',\n",
       " 'uacuus',\n",
       " 'spatium',\n",
       " 'Amstelodamus',\n",
       " 'Joan',\n",
       " 'Janssonium',\n",
       " 'Waesberga',\n",
       " '',\n",
       " 'Guerickeus',\n",
       " 'Emerienius',\n",
       " 'nouus',\n",
       " 'uoco',\n",
       " 'Magdeburgica',\n",
       " 'uacuus',\n",
       " 'siatio']"
      ]
     },
     "execution_count": 184,
     "metadata": {},
     "output_type": "execute_result"
    }
   ],
   "source": [
    "lemmata = [l for s in lemmatized_sents for l in s]\n",
    "lemmata[:20]"
   ]
  },
  {
   "cell_type": "code",
   "execution_count": 185,
   "id": "9c62786562ebc5a9",
   "metadata": {
    "ExecuteTime": {
     "end_time": "2023-12-05T23:35:01.570018Z",
     "start_time": "2023-12-05T23:35:01.548317Z"
    },
    "collapsed": false,
    "jupyter": {
     "outputs_hidden": false
    }
   },
   "outputs": [],
   "source": [
    "word_counts = dict(nltk.FreqDist(lemmata).most_common())"
   ]
  },
  {
   "cell_type": "code",
   "execution_count": null,
   "id": "b1d0e7430b5e7731",
   "metadata": {
    "ExecuteTime": {
     "end_time": "2023-12-05T23:36:25.132677Z",
     "start_time": "2023-12-05T23:35:11.409314Z"
    },
    "collapsed": false,
    "jupyter": {
     "outputs_hidden": false
    }
   },
   "outputs": [],
   "source": [
    "%%time\n",
    "vocab_counter = Counter()\n",
    "overview_dict = {}\n",
    "for filename in filenames_list:\n",
    "    f_sents_data = pickle.load(open(source_path + filename, \"rb\"))\n",
    "    sents_n = len(f_sents_data)\n",
    "    tokens_n = 0\n",
    "    lemmata = []\n",
    "    for sent_data in f_sents_data:\n",
    "        tokens_n += len(sent_data[1])\n",
    "        lemmata.extend([t[1] for t in sent_data[1] if t[2] in [\"NOUN\", \"VERB\", \"ADJ\", \"PROPN\"]])\n",
    "    #lemmata = [l for l in lemmata if (l != \"\") & (len(l) > 2) & (\".\" not in l)]\n",
    "    lemmata = [l for l in lemmata if l and len(l) > 2 and l.isalpha()]\n",
    "    overview_dict[filename.partition(\".\")[0]] = {\"sents_n\" : sents_n, \"tokens_n\" : tokens_n} \n",
    "    word_counts = dict(nltk.FreqDist(lemmata).most_common())\n",
    "    vocab_counter.update(word_counts)"
   ]
  },
  {
   "cell_type": "code",
   "execution_count": null,
   "id": "bb72121cba5d8f6a",
   "metadata": {
    "ExecuteTime": {
     "end_time": "2023-12-05T23:36:25.178381Z",
     "start_time": "2023-12-05T23:36:25.154186Z"
    },
    "collapsed": false,
    "jupyter": {
     "outputs_hidden": false
    }
   },
   "outputs": [],
   "source": [
    "sum(vocab_counter.values())"
   ]
  },
  {
   "cell_type": "code",
   "execution_count": null,
   "id": "1ba368ce-24f0-42a8-a33d-c3bcdb7927d6",
   "metadata": {},
   "outputs": [],
   "source": [
    "list(overview_dict.items())[:10]"
   ]
  },
  {
   "cell_type": "code",
   "execution_count": null,
   "id": "6cccdea5791c1927",
   "metadata": {
    "ExecuteTime": {
     "end_time": "2023-12-05T23:36:25.196700Z",
     "start_time": "2023-12-05T23:36:25.165264Z"
    },
    "collapsed": false,
    "jupyter": {
     "outputs_hidden": false
    }
   },
   "outputs": [],
   "source": [
    "# enrich the metadata table by info on number of words and number of sentences\n",
    "def get_sents_n(id):\n",
    "    try:\n",
    "        return overview_dict[str(id)][\"sents_n\"]\n",
    "    except:\n",
    "        return None\n",
    "metadata_table_long[\"sents_n\"] = metadata_table_long[\"id\"].apply(get_sents_n)\n",
    "\n",
    "def get_tokens_n(id):\n",
    "    try:\n",
    "        return overview_dict[str(id)][\"tokens_n\"]\n",
    "    except:\n",
    "        return None\n",
    "metadata_table_long[\"tokens_n\"] = metadata_table_long[\"id\"].apply(get_tokens_n)\n",
    "metadata_table_long.head(5)"
   ]
  },
  {
   "cell_type": "code",
   "execution_count": null,
   "id": "2116d1adf0a9d46e",
   "metadata": {
    "ExecuteTime": {
     "end_time": "2023-12-05T23:36:25.197365Z",
     "start_time": "2023-12-05T23:36:25.169878Z"
    },
    "collapsed": false,
    "jupyter": {
     "outputs_hidden": false
    }
   },
   "outputs": [],
   "source": [
    "metadata_table_long[\"tokens_n\"].sum()"
   ]
  },
  {
   "cell_type": "markdown",
   "id": "752575ef91e171e4",
   "metadata": {
    "collapsed": false,
    "jupyter": {
     "outputs_hidden": false
    }
   },
   "source": [
    "# Overview by Discipline/Content"
   ]
  },
  {
   "cell_type": "code",
   "execution_count": null,
   "id": "5a4d196a6dde3d64",
   "metadata": {
    "ExecuteTime": {
     "end_time": "2023-12-05T23:36:25.214398Z",
     "start_time": "2023-12-05T23:36:25.172114Z"
    },
    "collapsed": false,
    "jupyter": {
     "outputs_hidden": false
    }
   },
   "outputs": [],
   "source": [
    "# numbers of sentences and words by \"Discipline/Content\n",
    "# the Discipline/Content column has 115 unique values, so this does not produce that much meaningful output\n",
    "metadata_table_long.groupby(\"Discipline/Content\").sum()[[\"sents_n\", \"tokens_n\"]].sort_values(\"tokens_n\", ascending=False)"
   ]
  },
  {
   "cell_type": "code",
   "execution_count": null,
   "id": "223b36e52173c5b2",
   "metadata": {
    "ExecuteTime": {
     "end_time": "2023-12-05T23:36:25.235361Z",
     "start_time": "2023-12-05T23:36:25.197294Z"
    },
    "collapsed": false,
    "jupyter": {
     "outputs_hidden": false
    }
   },
   "outputs": [],
   "source": [
    "# let's create a list of disciplines for each work\n",
    "def get_disciplines_list(string):\n",
    "    try:\n",
    "        disciplines_list = string.split(\", \")\n",
    "    except:\n",
    "        disciplines_list = []\n",
    "    return disciplines_list\n",
    "metadata_table_long[\"disciplines_list\"] = metadata_table_long[\"Discipline/Content\"].apply(get_disciplines_list)"
   ]
  },
  {
   "cell_type": "code",
   "execution_count": null,
   "id": "c1fda1cfd32a99e1",
   "metadata": {
    "ExecuteTime": {
     "end_time": "2023-12-05T23:36:25.266829Z",
     "start_time": "2023-12-05T23:36:25.198913Z"
    },
    "collapsed": false,
    "jupyter": {
     "outputs_hidden": false
    }
   },
   "outputs": [],
   "source": [
    "# count number of works associated with each discipline\n",
    "# WARNING: the categories are overlapping here!\n",
    "nltk.FreqDist([el for ls in metadata_table_long[\"disciplines_list\"] for el in ls]).most_common(50)"
   ]
  },
  {
   "cell_type": "code",
   "execution_count": null,
   "id": "405132953d02550a",
   "metadata": {
    "ExecuteTime": {
     "end_time": "2023-12-05T23:36:25.267082Z",
     "start_time": "2023-12-05T23:36:25.203421Z"
    },
    "collapsed": false,
    "jupyter": {
     "outputs_hidden": false
    }
   },
   "outputs": [],
   "source": [
    "# to-do: natural history vs natural philosophy"
   ]
  },
  {
   "cell_type": "code",
   "execution_count": null,
   "id": "bc2c0f73-060b-474f-87a0-314ee7af0f55",
   "metadata": {},
   "outputs": [],
   "source": [
    "ls = ['Mathematics',\n",
    "      'Physics',\n",
    "      'Geography/Cartography',\n",
    "      'Meteorology/Earth sciences',\n",
    "      'Alchemy/Chemistry',\n",
    "      'Biology',\n",
    "      'Medicine']"
   ]
  },
  {
   "cell_type": "code",
   "execution_count": null,
   "id": "a8c8daefff680ff1",
   "metadata": {
    "ExecuteTime": {
     "end_time": "2023-12-05T23:36:25.267277Z",
     "start_time": "2023-12-05T23:36:25.210583Z"
    },
    "collapsed": false,
    "jupyter": {
     "outputs_hidden": false
    }
   },
   "outputs": [],
   "source": [
    "# let introduce a heuristic distinction between life and physical sciences\n",
    "life_sciences = ['Medicine', 'Biology']\n",
    "physical_sciences = ['Astronomy/Astrology/Cosmography', 'Meteorology/Earth sciences', 'Mathematics', 'Physics', 'Geography/Cartography', 'Alchemy/Chemistry']"
   ]
  },
  {
   "cell_type": "code",
   "execution_count": null,
   "id": "c4aea0d97f614e02",
   "metadata": {
    "ExecuteTime": {
     "end_time": "2023-12-05T23:36:25.288446Z",
     "start_time": "2023-12-05T23:36:25.213435Z"
    },
    "collapsed": false,
    "jupyter": {
     "outputs_hidden": false
    }
   },
   "outputs": [],
   "source": [
    "bool(set(ls).intersection(set(life_sciences)))"
   ]
  },
  {
   "cell_type": "code",
   "execution_count": null,
   "id": "a379068ae6ad2389",
   "metadata": {
    "ExecuteTime": {
     "end_time": "2023-12-05T23:36:25.288725Z",
     "start_time": "2023-12-05T23:36:25.216539Z"
    },
    "collapsed": false,
    "jupyter": {
     "outputs_hidden": false
    }
   },
   "outputs": [],
   "source": [
    "def get_science_class(ls):\n",
    "    if bool(set(ls).intersection(set(life_sciences))):\n",
    "        if bool(set(ls).intersection(set(physical_sciences))):\n",
    "            science_class = \"mixture\"\n",
    "        else:\n",
    "            science_class = \"life_sciences\"\n",
    "    else:\n",
    "        science_class = \"exact_sciences\"\n",
    "    return science_class"
   ]
  },
  {
   "cell_type": "code",
   "execution_count": null,
   "id": "ff9ec17236169ac7",
   "metadata": {
    "ExecuteTime": {
     "end_time": "2023-12-05T23:36:25.288859Z",
     "start_time": "2023-12-05T23:36:25.222998Z"
    },
    "collapsed": false,
    "jupyter": {
     "outputs_hidden": false
    }
   },
   "outputs": [],
   "source": [
    "metadata_table_long[\"science_class\"] = metadata_table_long[\"disciplines_list\"].apply(get_science_class)"
   ]
  },
  {
   "cell_type": "code",
   "execution_count": null,
   "id": "71247e33d281adf6",
   "metadata": {
    "ExecuteTime": {
     "end_time": "2023-12-05T23:36:25.289273Z",
     "start_time": "2023-12-05T23:36:25.225739Z"
    },
    "collapsed": false,
    "jupyter": {
     "outputs_hidden": false
    }
   },
   "outputs": [],
   "source": [
    "# inspect the table now\n",
    "metadata_table_long.head(5)"
   ]
  },
  {
   "cell_type": "code",
   "execution_count": null,
   "id": "4afff70b3b3babba",
   "metadata": {
    "ExecuteTime": {
     "end_time": "2023-12-05T23:36:25.621816Z",
     "start_time": "2023-12-05T23:36:25.314416Z"
    },
    "collapsed": false,
    "jupyter": {
     "outputs_hidden": false
    }
   },
   "outputs": [],
   "source": [
    "class_df = metadata_table_long.groupby(\"science_class\").sum()[[\"tokens_n\"]]"
   ]
  },
  {
   "cell_type": "code",
   "execution_count": null,
   "id": "1a593532cbc6e666",
   "metadata": {
    "ExecuteTime": {
     "end_time": "2023-12-05T23:36:25.622402Z",
     "start_time": "2023-12-05T23:36:25.330337Z"
    },
    "collapsed": false,
    "jupyter": {
     "outputs_hidden": false
    }
   },
   "outputs": [],
   "source": [
    "class_df"
   ]
  },
  {
   "cell_type": "code",
   "execution_count": null,
   "id": "881006d29bb4fe2e",
   "metadata": {
    "ExecuteTime": {
     "end_time": "2023-12-05T23:36:25.709074Z",
     "start_time": "2023-12-05T23:36:25.336833Z"
    },
    "collapsed": false,
    "jupyter": {
     "outputs_hidden": false
    }
   },
   "outputs": [],
   "source": [
    "fig, ax = plt.subplots(figsize=(5.4, 3), dpi=300, tight_layout=True)\n",
    "plt.bar(x=class_df.index, height=class_df[\"tokens_n\"], color=[\"blue\", \"red\", \"purple\"])\n",
    "ax.set_yticks(range(0,70000000, 10000000))\n",
    "ax.set_yticklabels([\"0\"] + [str(el)+\"M\" for el in range(10,70,10)])\n",
    "ax.set_ylabel(\"tokens n\")"
   ]
  },
  {
   "cell_type": "code",
   "execution_count": null,
   "id": "9095f9915aa78155",
   "metadata": {
    "ExecuteTime": {
     "end_time": "2023-12-05T23:36:25.958078Z",
     "start_time": "2023-12-05T23:36:25.525848Z"
    },
    "collapsed": false,
    "jupyter": {
     "outputs_hidden": false
    }
   },
   "outputs": [],
   "source": [
    "fig.savefig(\"../figures/science-class_bar.png\")"
   ]
  },
  {
   "cell_type": "markdown",
   "id": "66b0bd78-5369-4fe8-a337-892c0932cf5f",
   "metadata": {
    "ExecuteTime": {
     "end_time": "2023-12-05T23:36:26.002390Z",
     "start_time": "2023-12-05T23:36:25.704633Z"
    },
    "collapsed": false,
    "jupyter": {
     "outputs_hidden": false
    }
   },
   "source": [
    "## Temporal distributions of tokens"
   ]
  },
  {
   "cell_type": "code",
   "execution_count": null,
   "id": "554c61989f57c758",
   "metadata": {
    "ExecuteTime": {
     "end_time": "2023-12-05T23:36:26.129605Z",
     "start_time": "2023-12-05T23:36:25.736556Z"
    },
    "collapsed": false,
    "jupyter": {
     "outputs_hidden": false
    }
   },
   "outputs": [],
   "source": [
    "fig, ax = plt.subplots(figsize=(5.4, 3), dpi=300, tight_layout=True)\n",
    "\n",
    "data = []\n",
    "for start in range(1470,1930,10):\n",
    "    end = start + 9\n",
    "    subset = metadata_table_long[metadata_table_long[\"file_year\"].between(start, end)]\n",
    "    tokens_n = subset[\"tokens_n\"].sum()\n",
    "    data.append((start, end, tokens_n))\n",
    "\n",
    "ax.axvspan(1517, 1716, color=\"lightgreen\")\n",
    "ax.bar(x=[el[1]+5 for el in data], height=[el[2] for el in data], align='center', color=\"white\", edgecolor=\"black\", alpha=0.8, width=10)\n",
    "ax.set_yticks(range(0,10000000, 1000000))\n",
    "ax.set_yticklabels([\"0\"] + [str(el)+\"M\" for el in range(1,10)])\n",
    "ax.set_ylabel(\"tokens n\")"
   ]
  },
  {
   "cell_type": "code",
   "execution_count": null,
   "id": "62c201cea1500cd4",
   "metadata": {
    "ExecuteTime": {
     "end_time": "2023-12-05T23:36:26.297879Z",
     "start_time": "2023-12-05T23:36:26.086893Z"
    },
    "collapsed": false,
    "jupyter": {
     "outputs_hidden": false
    }
   },
   "outputs": [],
   "source": [
    "fig.savefig(\"../figures/noscemus_tempdist_words.png\")"
   ]
  },
  {
   "cell_type": "code",
   "execution_count": null,
   "id": "c56d126c99867cdc",
   "metadata": {
    "ExecuteTime": {
     "end_time": "2023-12-05T23:36:26.302296Z",
     "start_time": "2023-12-05T23:36:26.298488Z"
    },
    "collapsed": false,
    "jupyter": {
     "outputs_hidden": false
    }
   },
   "outputs": [],
   "source": [
    "for start in range(1501,1701,50):\n",
    "    end = start + 49\n",
    "    print(start, end)"
   ]
  },
  {
   "cell_type": "code",
   "execution_count": null,
   "id": "bb932ea0d9d4a204",
   "metadata": {
    "ExecuteTime": {
     "end_time": "2023-12-05T23:36:26.531107Z",
     "start_time": "2023-12-05T23:36:26.303462Z"
    },
    "collapsed": false,
    "jupyter": {
     "outputs_hidden": false
    }
   },
   "outputs": [],
   "source": [
    "fig, ax = plt.subplots(figsize=(5.4, 3), dpi=300, tight_layout=True)\n",
    "\n",
    "bottom = np.array([0,0,0,0])\n",
    "for cl, color in zip([\"exact_sciences\", \"life_sciences\", \"mixture\"], [\"blue\", \"red\", \"purple\"]):\n",
    "    class_subset = metadata_table_long[metadata_table_long[\"science_class\"]==cl]\n",
    "    data = []\n",
    "    for start in range(1501,1701,50):\n",
    "        end = start + 49\n",
    "        subset = class_subset[class_subset[\"file_year\"].between(start, end)]\n",
    "        tokens_n = subset[\"tokens_n\"].sum()\n",
    "        data.append((start, end, tokens_n))\n",
    "    height = [el[2] for el in data]\n",
    "    ax.bar(x=[el[0]+24 for el in data], height=height, align='center', color=color, edgecolor=\"black\", bottom=bottom,alpha=0.8, width=50)\n",
    "    bottom += np.array(height)\n",
    "# ax.axvspan(1517, 1716, color=\"lightgreen\")\n",
    "ax.set_yticks(range(0,30000000, 5000000))\n",
    "ax.set_yticklabels([\"0\"] + [str(el)+\"M\" for el in range(5,30,5)])\n",
    "ax.set_ylabel(\"tokens n\")"
   ]
  },
  {
   "cell_type": "code",
   "execution_count": null,
   "id": "a879646fbb22d036",
   "metadata": {
    "ExecuteTime": {
     "end_time": "2023-12-05T18:05:53.017982Z",
     "start_time": "2023-12-05T18:05:52.882178Z"
    },
    "collapsed": false,
    "jupyter": {
     "outputs_hidden": false
    }
   },
   "outputs": [],
   "source": [
    "fig.savefig(\"../figures/halfcents_bar_stacked.png\")"
   ]
  },
  {
   "cell_type": "code",
   "execution_count": null,
   "id": "9fbf3238a4040a50",
   "metadata": {
    "ExecuteTime": {
     "end_time": "2023-12-05T23:36:26.547928Z",
     "start_time": "2023-12-05T23:36:26.530263Z"
    },
    "collapsed": false,
    "jupyter": {
     "outputs_hidden": false
    }
   },
   "outputs": [],
   "source": [
    "subset = metadata_table_long[metadata_table_long[\"science_class\"]==\"life_sciences\"].sort_values(\"tokens_n\", ascending=False)\n",
    "subset"
   ]
  },
  {
   "cell_type": "code",
   "execution_count": null,
   "id": "5643c5ad9a7889e3",
   "metadata": {
    "ExecuteTime": {
     "end_time": "2023-12-05T23:36:26.771255Z",
     "start_time": "2023-12-05T23:36:26.558391Z"
    },
    "collapsed": false,
    "jupyter": {
     "outputs_hidden": false
    }
   },
   "outputs": [],
   "source": [
    "fig, ax = plt.subplots(figsize=(5.4, 3), dpi=300)\n",
    "\n",
    "for cl, color in zip([\"exact_sciences\", \"life_sciences\", \"mixture\"], [\"blue\", \"red\", \"purple\"]):\n",
    "    subset = metadata_table_long[metadata_table_long[\"science_class\"]==cl]\n",
    "    data = []\n",
    "    for start in range(1470,1930,10):\n",
    "        end = start + 9\n",
    "        subset_temporal = subset[subset[\"file_year\"].between(start, end)]\n",
    "        tokens_n = subset_temporal[\"tokens_n\"].sum()\n",
    "        data.append((start, end, tokens_n))\n",
    "    \n",
    "    \n",
    "    ax.plot([el[1]+5 for el in data], [el[2] for el in data], label=cl, color=color) # , align='center', color=\"white\", edgecolor=\"black\", alpha=0.8, width=10)\n",
    "ax.axvspan(1517, 1716, color=\"lightgreen\")\n",
    "ax.set_yticks(range(0,10000000, 1000000))\n",
    "ax.set_yticklabels([\"0\"] + [str(el)+\"M\" for el in range(1,10)])\n",
    "ax.set_ylabel(\"tokens n\")\n",
    "ax.set_title(\"\")\n",
    "ax.legend()"
   ]
  },
  {
   "cell_type": "code",
   "execution_count": null,
   "id": "eda8fee7ea330eff",
   "metadata": {
    "ExecuteTime": {
     "end_time": "2023-12-05T18:08:49.047536Z",
     "start_time": "2023-12-05T18:08:48.934171Z"
    },
    "collapsed": false,
    "jupyter": {
     "outputs_hidden": false
    }
   },
   "outputs": [],
   "source": [
    "fig.savefig(\"../figures/tempdist_scclasses_lines.png\")"
   ]
  },
  {
   "cell_type": "code",
   "execution_count": null,
   "id": "b808bddaf554e5f1",
   "metadata": {
    "ExecuteTime": {
     "end_time": "2023-12-05T23:36:27.026209Z",
     "start_time": "2023-12-05T23:36:26.779639Z"
    },
    "collapsed": false,
    "jupyter": {
     "outputs_hidden": false
    }
   },
   "outputs": [],
   "source": [
    "fig, ax = plt.subplots(figsize=(5.4, 3), dpi=300)\n",
    "\n",
    "for cl, color in zip([\"exact_sciences\", \"life_sciences\", \"mixture\"], [\"blue\", \"red\", \"purple\"]):\n",
    "    subset = metadata_table_long[metadata_table_long[\"science_class\"]==cl]\n",
    "    data = []\n",
    "    for start in range(1451,1951,50):\n",
    "        end = start + 49\n",
    "        subset_temporal = subset[subset[\"file_year\"].between(start, end)]\n",
    "        tokens_n = subset_temporal[\"tokens_n\"].sum()\n",
    "        data.append((start, end, tokens_n))\n",
    "\n",
    "    ax.plot([el[1]+24 for el in data], [el[2] for el in data], label=cl, color=color) # , align='center', color=\"white\", edgecolor=\"black\", alpha=0.8, width=10)\n",
    "\n",
    "ax.axvspan(1517, 1716, color=\"lightgreen\")\n",
    "ax.set_yticks(range(0,35000000, 5000000))\n",
    "ax.set_yticklabels([\"0\"] + [str(el)+\"M\" for el in range(5,35,5)])\n",
    "ax.set_ylabel(\"tokens n\")\n",
    "ax.legend()"
   ]
  },
  {
   "cell_type": "code",
   "execution_count": null,
   "id": "c7afc88ee039f168",
   "metadata": {
    "ExecuteTime": {
     "end_time": "2023-12-01T12:11:49.822093Z",
     "start_time": "2023-12-01T12:11:49.775913Z"
    },
    "collapsed": false,
    "jupyter": {
     "outputs_hidden": false
    }
   },
   "outputs": [],
   "source": [
    "metadata_table_long.to_json(\"../data/metadata_table_long.json\")"
   ]
  },
  {
   "cell_type": "code",
   "execution_count": null,
   "id": "7ddf862af70a3815",
   "metadata": {
    "ExecuteTime": {
     "end_time": "2023-11-24T11:20:24.415108Z",
     "start_time": "2023-11-24T11:20:17.349124Z"
    },
    "collapsed": false,
    "jupyter": {
     "outputs_hidden": false
    }
   },
   "outputs": [],
   "source": [
    "#set_with_dataframe(noscemus_gs.add_worksheet(\"metadata_table_long_v5\", 1,1), metadata_table_long)"
   ]
  },
  {
   "cell_type": "markdown",
   "id": "5e7a416e3f6f8a59",
   "metadata": {
    "collapsed": false,
    "jupyter": {
     "outputs_hidden": false
    }
   },
   "source": [
    "# Temporal analysis of coocuccerences - development & testing"
   ]
  },
  {
   "cell_type": "code",
   "execution_count": null,
   "id": "b71d303b714a5418",
   "metadata": {
    "ExecuteTime": {
     "end_time": "2023-12-05T23:36:54.935616Z",
     "start_time": "2023-12-05T23:36:27.197801Z"
    },
    "collapsed": false,
    "jupyter": {
     "outputs_hidden": false
    }
   },
   "outputs": [],
   "source": [
    "%%time\n",
    "target = \"harmonia\" # choose your target word, ie. the word which's context you want to investigate\n",
    "start = 1551 # choose the start your of the period under \n",
    "end = start + 49 # end of the period\n",
    "ids = metadata_table_long[metadata_table_long[\"file_year\"].between(start, end)][\"id\"] # use the metadata table to extract IDs of all works falling into this period\n",
    "vocab_counter = Counter() # initiate an empty counter of words - we will feed it iterarively on the go by all words we meet\n",
    "target_sents = [] # initiate an empty list of sentences containing the target word\n",
    "for id in ids: # for each work ID from our subset of IDs\n",
    "    # based on the ID, open the file containing the lemmatized sentences\n",
    "    f_sents_data = pickle.load(open(source_path + str(id) + \".pickle\", \"rb\"))\n",
    "    sents_n = len(f_sents_data)\n",
    "    tokens_n = 0\n",
    "    lemmata = []\n",
    "    target_sents_local = []\n",
    "    for sent_data in f_sents_data:\n",
    "        tokens_n += len(sent_data[1])\n",
    "        filtered_sent = [t[1] for t in sent_data[1] if t[2] in [\"NOUN\", \"VERB\", \"ADJ\", \"PROPN\"]]\n",
    "        filtered_sent = [l for l in filtered_sent if l and len(l) > 2 and l.isalpha()]\n",
    "        if target in filtered_sent:\n",
    "            target_sents_local.append(filtered_sent)\n",
    "        lemmata.extend(filtered_sent)\n",
    "    target_sents.extend(target_sents_local)\n",
    "    overview_dict[filename.partition(\".\")[0]] = {\"sents_n\" : sents_n, \"tokens_n\" : tokens_n} \n",
    "    word_counts = dict(nltk.FreqDist(lemmata).most_common())\n",
    "    vocab_counter.update(word_counts)\n",
    "target_coocs_counts = dict(nltk.FreqDist([t for s in target_sents for t in s]).most_common())\n",
    "target_coocs_n = sum(target_coocs_counts.values())\n",
    "target_coocs_freqs = dict([(tup[0], tup[1] / target_coocs_n) for tup in target_coocs_counts.items()])\n",
    "words_n = sum(vocab_counter.values())\n",
    "words_freqs = dict([(tup[0], tup[1] / words_n) for tup in vocab_counter.items()])"
   ]
  },
  {
   "cell_type": "code",
   "execution_count": null,
   "id": "1d059f39972e136e",
   "metadata": {
    "ExecuteTime": {
     "end_time": "2023-12-05T23:36:54.937933Z",
     "start_time": "2023-12-05T23:36:54.933207Z"
    },
    "collapsed": false,
    "jupyter": {
     "outputs_hidden": false
    }
   },
   "outputs": [],
   "source": [
    "len(target_sents)"
   ]
  },
  {
   "cell_type": "code",
   "execution_count": null,
   "id": "fe1fb109d3731f2a",
   "metadata": {
    "ExecuteTime": {
     "end_time": "2023-12-05T23:36:54.953245Z",
     "start_time": "2023-12-05T23:36:54.935899Z"
    },
    "collapsed": false,
    "jupyter": {
     "outputs_hidden": false
    }
   },
   "outputs": [],
   "source": [
    "print(target_sents[:5])"
   ]
  },
  {
   "cell_type": "code",
   "execution_count": null,
   "id": "2c999b58928d67d3",
   "metadata": {
    "ExecuteTime": {
     "end_time": "2023-12-05T23:36:54.963522Z",
     "start_time": "2023-12-05T23:36:54.946555Z"
    },
    "collapsed": false,
    "jupyter": {
     "outputs_hidden": false
    }
   },
   "outputs": [],
   "source": [
    "list(target_coocs_counts.items())[:10]"
   ]
  },
  {
   "cell_type": "code",
   "execution_count": null,
   "id": "e96f2379976b740e",
   "metadata": {
    "ExecuteTime": {
     "end_time": "2023-12-05T23:36:54.974872Z",
     "start_time": "2023-12-05T23:36:54.955320Z"
    },
    "collapsed": false,
    "jupyter": {
     "outputs_hidden": false
    }
   },
   "outputs": [],
   "source": [
    "target_coocs_freqs_weighted = {}\n",
    "for key in target_coocs_freqs.keys():\n",
    "    target_coocs_freqs_weighted[key] = np.round(np.log((target_coocs_freqs[key])**2 / (words_freqs[key] * words_freqs[target])), 2)\n",
    "for tup in sorted(target_coocs_freqs_weighted.items(), key=lambda x:x[1], reverse=True)[:20]:\n",
    "    print(tup + (vocab_counter[tup[0]], target_coocs_counts[tup[0]]))"
   ]
  },
  {
   "cell_type": "code",
   "execution_count": null,
   "id": "e2e8cb32-e6a6-4876-92cd-c83affac6d11",
   "metadata": {},
   "outputs": [],
   "source": [
    "ids = metadata_table_long[metadata_table_long[\"file_year\"].between(start, end)][\"id\"] # use the metadata table to extract IDs of all works falling into this period\n",
    "\n",
    "def get_target_mi(ids, target, topn=20, mincount=5):\n",
    "    vocab_counter = Counter() # initiate an empty counter of words - we will feed it iterarively on the go by all words we meet\n",
    "    target_sents = [] # initiate an empty list of sentences containing the target word\n",
    "    for id in ids: # for each work ID from our subset of IDs\n",
    "        # based on the ID, open the file containing the lemmatized sentences\n",
    "        f_sents_data = pickle.load(open(source_path + str(id) + \".pickle\", \"rb\"))\n",
    "        sents_n = len(f_sents_data)\n",
    "        tokens_n = 0\n",
    "        lemmata = []\n",
    "        target_sents_local = []\n",
    "        for sent_data in f_sents_data:\n",
    "            tokens_n += len(sent_data[1])\n",
    "            filtered_sent = [t[1] for t in sent_data[1] if t[2] in [\"NOUN\", \"VERB\", \"ADJ\", \"PROPN\"]]\n",
    "            filtered_sent = [l for l in filtered_sent if l and len(l) > 2 and l.isalpha()]\n",
    "            if target in filtered_sent:\n",
    "                target_sents_local.append(filtered_sent)\n",
    "            lemmata.extend(filtered_sent)\n",
    "        target_sents.extend(target_sents_local)\n",
    "        overview_dict[filename.partition(\".\")[0]] = {\"sents_n\" : sents_n, \"tokens_n\" : tokens_n} \n",
    "        word_counts = dict(nltk.FreqDist(lemmata).most_common())\n",
    "        vocab_counter.update(word_counts)\n",
    "    target_coocs_counts = dict(nltk.FreqDist([t for s in target_sents for t in s]).most_common())\n",
    "    target_coocs_n = sum(target_coocs_counts.values())\n",
    "    target_coocs_freqs = dict([(tup[0], tup[1] / target_coocs_n) for tup in target_coocs_counts.items()])\n",
    "    words_n = sum(vocab_counter.values())\n",
    "    words_freqs = dict([(tup[0], tup[1] / words_n) for tup in vocab_counter.items()])\n",
    "    target_coocs_freqs_weighted = {}\n",
    "    for key in target_coocs_freqs.keys():\n",
    "        target_coocs_freqs_weighted[key] = np.log((target_coocs_freqs[key])**2 / (words_freqs[key] * words_freqs[target]))\n",
    "    target_coocs_topN = list(sorted(target_coocs_freqs_weighted.items(), key=lambda x:x[1], reverse=True))[1:topn +1]\n",
    "    target_coocs_topN = [(tup[0], tup[1], vocab_counter[tup[0]], target_coocs_counts[tup[0]]) for tup in target_coocs_topN]\n",
    "    return target_coocs_topN\n",
    "    "
   ]
  },
  {
   "cell_type": "code",
   "execution_count": 113,
   "id": "aaa3980d6f2efb6e",
   "metadata": {
    "ExecuteTime": {
     "end_time": "2023-12-05T23:36:55.603435Z",
     "start_time": "2023-12-05T23:36:54.965979Z"
    },
    "collapsed": false,
    "jupyter": {
     "outputs_hidden": false
    }
   },
   "outputs": [
    {
     "data": {
      "text/plain": [
       "[('gomphosis', 10.07139736567225, 21, 13),\n",
       " ('sutura', 9.070878002072224, 488, 38),\n",
       " ('gomphosum', 8.27370316092438, 3, 2),\n",
       " ('gomphosus', 7.986021088472599, 4, 2),\n",
       " ('solicitudo', 7.986021088472599, 1, 1),\n",
       " ('synarthroscus', 7.986021088472599, 1, 1),\n",
       " ('ruditas', 7.986021088472599, 1, 1),\n",
       " ('praenotatis', 7.986021088472599, 1, 1),\n",
       " ('synchrondrosis', 7.986021088472599, 1, 1),\n",
       " ('supplo', 7.986021088472599, 1, 1),\n",
       " ('prauo', 7.986021088472599, 1, 1),\n",
       " ('mancusue', 7.986021088472599, 1, 1),\n",
       " ('diarthosus', 7.986021088472599, 1, 1),\n",
       " ('arthru', 7.986021088472599, 1, 1),\n",
       " ('airus', 7.986021088472599, 1, 1),\n",
       " ('gompho', 7.986021088472599, 1, 1),\n",
       " ('gomphose', 7.986021088472599, 1, 1),\n",
       " ('mistura', 7.986021088472599, 1, 1),\n",
       " ('maxilledes', 7.986021088472599, 1, 1),\n",
       " ('ofla', 7.986021088472599, 1, 1)]"
      ]
     },
     "execution_count": 113,
     "metadata": {},
     "output_type": "execute_result"
    }
   ],
   "source": [
    "# test\n",
    "start = 1601\n",
    "end = 1603\n",
    "ids = metadata_table_long[metadata_table_long[\"file_year\"].between(start, end)][\"id\"] # use the metadata table to extract IDs of all works falling into this period\n",
    "target = \"harmonia\"\n",
    "get_target_mi(ids, target)"
   ]
  },
  {
   "cell_type": "code",
   "execution_count": 114,
   "id": "a92062d9b9274547",
   "metadata": {
    "ExecuteTime": {
     "end_time": "2023-12-05T23:38:14.364268Z",
     "start_time": "2023-12-05T23:36:55.602928Z"
    },
    "collapsed": false,
    "jupyter": {
     "outputs_hidden": false
    }
   },
   "outputs": [],
   "source": [
    "periods = [(1501, 1550),\n",
    "           (1551, 1600),\n",
    "           (1601, 1650),\n",
    "           (1651, 1700)]\n",
    "data = []\n",
    "for per in periods:\n",
    "    ids = metadata_table_long[metadata_table_long[\"file_year\"].between(per[0], per[1])][\"id\"] # use the metadata table to extract IDs of all works falling into this period\n",
    "    data.append([tup[0] for tup in get_target_mi(ids, target)])"
   ]
  },
  {
   "cell_type": "code",
   "execution_count": 121,
   "id": "f1862d57-e01d-451b-b578-82c3a73879b2",
   "metadata": {},
   "outputs": [
    {
     "data": {
      "text/html": [
       "<div>\n",
       "<style scoped>\n",
       "    .dataframe tbody tr th:only-of-type {\n",
       "        vertical-align: middle;\n",
       "    }\n",
       "\n",
       "    .dataframe tbody tr th {\n",
       "        vertical-align: top;\n",
       "    }\n",
       "\n",
       "    .dataframe thead th {\n",
       "        text-align: right;\n",
       "    }\n",
       "</style>\n",
       "<table border=\"1\" class=\"dataframe\">\n",
       "  <thead>\n",
       "    <tr style=\"text-align: right;\">\n",
       "      <th></th>\n",
       "      <th>1501-1550</th>\n",
       "      <th>1551-1600</th>\n",
       "      <th>1601-1650</th>\n",
       "      <th>1651-1700</th>\n",
       "    </tr>\n",
       "  </thead>\n",
       "  <tbody>\n",
       "    <tr>\n",
       "      <th>0</th>\n",
       "      <td>uas</td>\n",
       "      <td>Stephanus</td>\n",
       "      <td>oedemo</td>\n",
       "      <td>enitueeus</td>\n",
       "    </tr>\n",
       "    <tr>\n",
       "      <th>1</th>\n",
       "      <td>contilidonis</td>\n",
       "      <td>supergeminalis</td>\n",
       "      <td>Adicus</td>\n",
       "      <td>Ferhreriorum</td>\n",
       "    </tr>\n",
       "    <tr>\n",
       "      <th>2</th>\n",
       "      <td>cotilido</td>\n",
       "      <td>subaro</td>\n",
       "      <td>peileps</td>\n",
       "      <td>uipeculiaris</td>\n",
       "    </tr>\n",
       "    <tr>\n",
       "      <th>3</th>\n",
       "      <td>sementiuus</td>\n",
       "      <td>pretora</td>\n",
       "      <td>bantecipio</td>\n",
       "      <td>uirodeo</td>\n",
       "    </tr>\n",
       "    <tr>\n",
       "      <th>4</th>\n",
       "      <td>plantarium</td>\n",
       "      <td>Carolus</td>\n",
       "      <td>postuxo</td>\n",
       "      <td>capellastinus</td>\n",
       "    </tr>\n",
       "    <tr>\n",
       "      <th>5</th>\n",
       "      <td>humidoues</td>\n",
       "      <td>uas</td>\n",
       "      <td>ortasubstantia</td>\n",
       "      <td>stephamus</td>\n",
       "    </tr>\n",
       "    <tr>\n",
       "      <th>6</th>\n",
       "      <td>siccor</td>\n",
       "      <td>Glandulosus</td>\n",
       "      <td>Ejaculatorius</td>\n",
       "      <td>quinquencardinalis</td>\n",
       "    </tr>\n",
       "    <tr>\n",
       "      <th>7</th>\n",
       "      <td>epidadumon</td>\n",
       "      <td>miasmo</td>\n",
       "      <td>Parastati</td>\n",
       "      <td>Sataudia</td>\n",
       "    </tr>\n",
       "    <tr>\n",
       "      <th>8</th>\n",
       "      <td>mekado</td>\n",
       "      <td>moskhouein</td>\n",
       "      <td>Adamantinus</td>\n",
       "      <td>supeuerustas</td>\n",
       "    </tr>\n",
       "    <tr>\n",
       "      <th>9</th>\n",
       "      <td>matika</td>\n",
       "      <td>tollitia</td>\n",
       "      <td>Adamantificus</td>\n",
       "      <td>geministerium</td>\n",
       "    </tr>\n",
       "    <tr>\n",
       "      <th>10</th>\n",
       "      <td>epididumon</td>\n",
       "      <td>lamarundinetum</td>\n",
       "      <td>issereo</td>\n",
       "      <td>sciplinat</td>\n",
       "    </tr>\n",
       "    <tr>\n",
       "      <th>11</th>\n",
       "      <td>parastraca</td>\n",
       "      <td>Bellaii</td>\n",
       "      <td>pausaturitates</td>\n",
       "      <td>conmistaa</td>\n",
       "    </tr>\n",
       "    <tr>\n",
       "      <th>12</th>\n",
       "      <td>uiradico</td>\n",
       "      <td>rcultus</td>\n",
       "      <td>Patentalei</td>\n",
       "      <td>igniq</td>\n",
       "    </tr>\n",
       "    <tr>\n",
       "      <th>13</th>\n",
       "      <td>deorins</td>\n",
       "      <td>deordinor</td>\n",
       "      <td>gneralis</td>\n",
       "      <td>pholosophis</td>\n",
       "    </tr>\n",
       "    <tr>\n",
       "      <th>14</th>\n",
       "      <td>conspectra</td>\n",
       "      <td>animafluo</td>\n",
       "      <td>Elisabetanum</td>\n",
       "      <td>geplatonicor</td>\n",
       "    </tr>\n",
       "    <tr>\n",
       "      <th>15</th>\n",
       "      <td>uasaseminaria</td>\n",
       "      <td>hsfe</td>\n",
       "      <td>petennatura</td>\n",
       "      <td>Chymineratio</td>\n",
       "    </tr>\n",
       "    <tr>\n",
       "      <th>16</th>\n",
       "      <td>astitis</td>\n",
       "      <td>mrementor</td>\n",
       "      <td>paabilis</td>\n",
       "      <td>nihilsum</td>\n",
       "    </tr>\n",
       "    <tr>\n",
       "      <th>17</th>\n",
       "      <td>onirogonum</td>\n",
       "      <td>tecedens</td>\n",
       "      <td>emerimuto</td>\n",
       "      <td>peririculum</td>\n",
       "    </tr>\n",
       "    <tr>\n",
       "      <th>18</th>\n",
       "      <td>tapella</td>\n",
       "      <td>Haederarius</td>\n",
       "      <td>inhumabio</td>\n",
       "      <td>tradottor</td>\n",
       "    </tr>\n",
       "    <tr>\n",
       "      <th>19</th>\n",
       "      <td>mulna</td>\n",
       "      <td>essisteo</td>\n",
       "      <td>inobrutus</td>\n",
       "      <td>essamino</td>\n",
       "    </tr>\n",
       "  </tbody>\n",
       "</table>\n",
       "</div>"
      ],
      "text/plain": [
       "        1501-1550       1551-1600       1601-1650           1651-1700\n",
       "0             uas       Stephanus          oedemo           enitueeus\n",
       "1    contilidonis  supergeminalis          Adicus        Ferhreriorum\n",
       "2        cotilido          subaro         peileps        uipeculiaris\n",
       "3      sementiuus         pretora      bantecipio             uirodeo\n",
       "4      plantarium         Carolus         postuxo       capellastinus\n",
       "5       humidoues             uas  ortasubstantia           stephamus\n",
       "6          siccor     Glandulosus   Ejaculatorius  quinquencardinalis\n",
       "7      epidadumon          miasmo       Parastati            Sataudia\n",
       "8          mekado      moskhouein     Adamantinus        supeuerustas\n",
       "9          matika        tollitia   Adamantificus       geministerium\n",
       "10     epididumon  lamarundinetum         issereo           sciplinat\n",
       "11     parastraca         Bellaii  pausaturitates           conmistaa\n",
       "12       uiradico         rcultus      Patentalei               igniq\n",
       "13        deorins       deordinor        gneralis         pholosophis\n",
       "14     conspectra       animafluo    Elisabetanum        geplatonicor\n",
       "15  uasaseminaria            hsfe     petennatura        Chymineratio\n",
       "16        astitis       mrementor        paabilis            nihilsum\n",
       "17     onirogonum        tecedens       emerimuto         peririculum\n",
       "18        tapella     Haederarius       inhumabio           tradottor\n",
       "19          mulna        essisteo       inobrutus            essamino"
      ]
     },
     "execution_count": 121,
     "metadata": {},
     "output_type": "execute_result"
    }
   ],
   "source": [
    "harmonia_mi_df = pd.DataFrame(data, index=[str(tup[0])+\"-\"+str(tup[1]) for tup in periods]).T\n",
    "harmonia_mi_df"
   ]
  },
  {
   "cell_type": "code",
   "execution_count": 92,
   "id": "21a4c4c648b4308c",
   "metadata": {
    "ExecuteTime": {
     "end_time": "2023-12-01T09:03:02.975449Z",
     "start_time": "2023-12-01T09:02:57.728126Z"
    },
    "collapsed": false,
    "jupyter": {
     "outputs_hidden": false
    }
   },
   "outputs": [],
   "source": [
    "set_with_dataframe(noscemus_gs.add_worksheet(\"harmonia_mi_df_v1\", 1,1), harmonia_mi_df)"
   ]
  },
  {
   "cell_type": "code",
   "execution_count": 116,
   "id": "e66c9a72ec66ef6b",
   "metadata": {
    "ExecuteTime": {
     "end_time": "2023-12-05T23:43:01.065798Z",
     "start_time": "2023-12-05T23:41:40.606264Z"
    },
    "collapsed": false,
    "jupyter": {
     "outputs_hidden": false
    }
   },
   "outputs": [
    {
     "data": {
      "text/html": [
       "<div>\n",
       "<style scoped>\n",
       "    .dataframe tbody tr th:only-of-type {\n",
       "        vertical-align: middle;\n",
       "    }\n",
       "\n",
       "    .dataframe tbody tr th {\n",
       "        vertical-align: top;\n",
       "    }\n",
       "\n",
       "    .dataframe thead th {\n",
       "        text-align: right;\n",
       "    }\n",
       "</style>\n",
       "<table border=\"1\" class=\"dataframe\">\n",
       "  <thead>\n",
       "    <tr style=\"text-align: right;\">\n",
       "      <th></th>\n",
       "      <th>1501-1550</th>\n",
       "      <th>1551-1600</th>\n",
       "      <th>1601-1650</th>\n",
       "      <th>1651-1700</th>\n",
       "    </tr>\n",
       "  </thead>\n",
       "  <tbody>\n",
       "    <tr>\n",
       "      <th>0</th>\n",
       "      <td>cognitio</td>\n",
       "      <td>speculatiuus</td>\n",
       "      <td>mathematica</td>\n",
       "      <td>sideralis</td>\n",
       "    </tr>\n",
       "    <tr>\n",
       "      <th>1</th>\n",
       "      <td>ars</td>\n",
       "      <td>subalterno</td>\n",
       "      <td>ars</td>\n",
       "      <td>ars</td>\n",
       "    </tr>\n",
       "    <tr>\n",
       "      <th>2</th>\n",
       "      <td>astrologia</td>\n",
       "      <td>mathematica</td>\n",
       "      <td>cognitio</td>\n",
       "      <td>staticum</td>\n",
       "    </tr>\n",
       "    <tr>\n",
       "      <th>3</th>\n",
       "      <td>Caussa</td>\n",
       "      <td>metaphysica</td>\n",
       "      <td>sideralis</td>\n",
       "      <td>mathematica</td>\n",
       "    </tr>\n",
       "    <tr>\n",
       "      <th>4</th>\n",
       "      <td>stella</td>\n",
       "      <td>practicus</td>\n",
       "      <td>syderalis</td>\n",
       "      <td>res</td>\n",
       "    </tr>\n",
       "    <tr>\n",
       "      <th>5</th>\n",
       "      <td>mathematica</td>\n",
       "      <td>naturalis</td>\n",
       "      <td>Mathematica</td>\n",
       "      <td>cognitio</td>\n",
       "    </tr>\n",
       "    <tr>\n",
       "      <th>6</th>\n",
       "      <td>matix</td>\n",
       "      <td>ars</td>\n",
       "      <td>speculatiuus</td>\n",
       "      <td>naturalis</td>\n",
       "    </tr>\n",
       "    <tr>\n",
       "      <th>7</th>\n",
       "      <td>certitudo</td>\n",
       "      <td>cognitio</td>\n",
       "      <td>subalterno</td>\n",
       "      <td>Mathematica</td>\n",
       "    </tr>\n",
       "    <tr>\n",
       "      <th>8</th>\n",
       "      <td>sphaeralis</td>\n",
       "      <td>res</td>\n",
       "      <td>res</td>\n",
       "      <td>ingenium</td>\n",
       "    </tr>\n",
       "    <tr>\n",
       "      <th>9</th>\n",
       "      <td>spheralis</td>\n",
       "      <td>Mathematica</td>\n",
       "      <td>philosophia</td>\n",
       "      <td>geometria</td>\n",
       "    </tr>\n",
       "    <tr>\n",
       "      <th>10</th>\n",
       "      <td>zenith</td>\n",
       "      <td>principium</td>\n",
       "      <td>naturalis</td>\n",
       "      <td>disciplina</td>\n",
       "    </tr>\n",
       "    <tr>\n",
       "      <th>11</th>\n",
       "      <td>dragantea</td>\n",
       "      <td>philosophia</td>\n",
       "      <td>logicen</td>\n",
       "      <td>Sideralis</td>\n",
       "    </tr>\n",
       "    <tr>\n",
       "      <th>12</th>\n",
       "      <td>Poesis</td>\n",
       "      <td>subicio</td>\n",
       "      <td>Mathematicus</td>\n",
       "      <td>studioues</td>\n",
       "    </tr>\n",
       "    <tr>\n",
       "      <th>13</th>\n",
       "      <td>Nesterotus</td>\n",
       "      <td>praedestinatio</td>\n",
       "      <td>scibilis</td>\n",
       "      <td>Astronomicus</td>\n",
       "    </tr>\n",
       "    <tr>\n",
       "      <th>14</th>\n",
       "      <td>charismat</td>\n",
       "      <td>subalternatio</td>\n",
       "      <td>inactiuus</td>\n",
       "      <td>possum</td>\n",
       "    </tr>\n",
       "    <tr>\n",
       "      <th>15</th>\n",
       "      <td>Acognitio</td>\n",
       "      <td>Metaphysica</td>\n",
       "      <td>haloandri</td>\n",
       "      <td>studium</td>\n",
       "    </tr>\n",
       "    <tr>\n",
       "      <th>16</th>\n",
       "      <td>emostratus</td>\n",
       "      <td>sapientia</td>\n",
       "      <td>Salodianum</td>\n",
       "      <td>diuinus</td>\n",
       "    </tr>\n",
       "    <tr>\n",
       "      <th>17</th>\n",
       "      <td>praecellentis</td>\n",
       "      <td>astrologia</td>\n",
       "      <td>philareti</td>\n",
       "      <td>culpoin</td>\n",
       "    </tr>\n",
       "    <tr>\n",
       "      <th>18</th>\n",
       "      <td>Tabhorrentus</td>\n",
       "      <td>scibilis</td>\n",
       "      <td>oppignoreo</td>\n",
       "      <td>Theophysica</td>\n",
       "    </tr>\n",
       "    <tr>\n",
       "      <th>19</th>\n",
       "      <td>adueerro</td>\n",
       "      <td>disciplina</td>\n",
       "      <td>Jesuitas</td>\n",
       "      <td>pedantica</td>\n",
       "    </tr>\n",
       "  </tbody>\n",
       "</table>\n",
       "</div>"
      ],
      "text/plain": [
       "        1501-1550       1551-1600     1601-1650     1651-1700\n",
       "0        cognitio    speculatiuus   mathematica     sideralis\n",
       "1             ars      subalterno           ars           ars\n",
       "2      astrologia     mathematica      cognitio      staticum\n",
       "3          Caussa     metaphysica     sideralis   mathematica\n",
       "4          stella       practicus     syderalis           res\n",
       "5     mathematica       naturalis   Mathematica      cognitio\n",
       "6           matix             ars  speculatiuus     naturalis\n",
       "7       certitudo        cognitio    subalterno   Mathematica\n",
       "8      sphaeralis             res           res      ingenium\n",
       "9       spheralis     Mathematica   philosophia     geometria\n",
       "10         zenith      principium     naturalis    disciplina\n",
       "11      dragantea     philosophia       logicen     Sideralis\n",
       "12         Poesis         subicio  Mathematicus     studioues\n",
       "13     Nesterotus  praedestinatio      scibilis  Astronomicus\n",
       "14      charismat   subalternatio     inactiuus        possum\n",
       "15      Acognitio     Metaphysica     haloandri       studium\n",
       "16     emostratus       sapientia    Salodianum       diuinus\n",
       "17  praecellentis      astrologia     philareti       culpoin\n",
       "18   Tabhorrentus        scibilis    oppignoreo   Theophysica\n",
       "19       adueerro      disciplina      Jesuitas     pedantica"
      ]
     },
     "execution_count": 116,
     "metadata": {},
     "output_type": "execute_result"
    }
   ],
   "source": [
    "target = \"scientia\"\n",
    "data = []\n",
    "for per in periods:\n",
    "    ids = metadata_table_long[metadata_table_long[\"file_year\"].between(per[0], per[1])][\"id\"] # use the metadata table to extract IDs of all works falling into this period\n",
    "    data.append([tup[0] for tup in get_target_mi(ids, target)])\n",
    "scientia_mi_df = pd.DataFrame(data, index=[str(tup[0])+\"-\"+str(tup[1]) for tup in periods]).T\n",
    "scientia_mi_df"
   ]
  },
  {
   "cell_type": "code",
   "execution_count": null,
   "id": "edc2672ded3bedbd",
   "metadata": {
    "ExecuteTime": {
     "end_time": "2023-12-01T09:06:17.456378Z",
     "start_time": "2023-12-01T09:06:17.411967Z"
    },
    "collapsed": false,
    "jupyter": {
     "outputs_hidden": false
    }
   },
   "outputs": [],
   "source": [
    "target = \"seminarium\"\n",
    "data = []\n",
    "for per in periods:\n",
    "    ids = metadata_table_long[metadata_table_long[\"file_year\"].between(per[0], per[1])][\"id\"] # use the metadata table to extract IDs of all works falling into this period\n",
    "    data.append([tup[0] for tup in get_target_mi(ids, target)])\n",
    "seminarium_mi_df = pd.DataFrame(data, index=[str(tup[0])+\"-\"+str(tup[1]) for tup in periods]).T\n",
    "seminarium_mi_df"
   ]
  },
  {
   "cell_type": "code",
   "execution_count": 100,
   "id": "e2be94d5bbff07ce",
   "metadata": {
    "ExecuteTime": {
     "end_time": "2023-12-01T09:34:08.567086Z",
     "start_time": "2023-12-01T09:34:02.599194Z"
    },
    "collapsed": false,
    "jupyter": {
     "outputs_hidden": false
    }
   },
   "outputs": [],
   "source": [
    "set_with_dataframe(noscemus_gs.add_worksheet(\"seminarium_mi_df_v1\", 1,1), seminarium_mi_df)\n"
   ]
  },
  {
   "cell_type": "code",
   "execution_count": null,
   "id": "e3dedd55abc94c0",
   "metadata": {
    "collapsed": false,
    "jupyter": {
     "outputs_hidden": false
    }
   },
   "outputs": [],
   "source": []
  },
  {
   "cell_type": "markdown",
   "id": "ffbf963fcf44be3d",
   "metadata": {
    "collapsed": false,
    "jupyter": {
     "outputs_hidden": false
    }
   },
   "source": [
    "# Dictionaries explorations..."
   ]
  },
  {
   "cell_type": "code",
   "execution_count": 103,
   "id": "3e77c8d7dcdb57ef",
   "metadata": {
    "ExecuteTime": {
     "end_time": "2023-12-01T09:39:14.146763Z",
     "start_time": "2023-12-01T09:39:14.091289Z"
    },
    "collapsed": false,
    "jupyter": {
     "outputs_hidden": false
    }
   },
   "outputs": [],
   "source": [
    "# go to https://github.com/latin-dict/LewisShort1879/releases and manually download LewisShort1879-stardict.zip to ../data/LewisShort1879-stardict.zip\n",
    "# extract the archive there"
   ]
  },
  {
   "cell_type": "code",
   "execution_count": 122,
   "id": "d62557c7e60fc0a5",
   "metadata": {
    "ExecuteTime": {
     "end_time": "2023-12-01T09:48:05.459347Z",
     "start_time": "2023-12-01T09:48:05.434134Z"
    },
    "collapsed": false,
    "jupyter": {
     "outputs_hidden": false
    }
   },
   "outputs": [],
   "source": [
    "from pystardict import Dictionary"
   ]
  },
  {
   "cell_type": "code",
   "execution_count": 123,
   "id": "7edd6da916e04b09",
   "metadata": {
    "ExecuteTime": {
     "end_time": "2023-12-01T09:57:19.547056Z",
     "start_time": "2023-12-01T09:57:19.252968Z"
    },
    "collapsed": false,
    "jupyter": {
     "outputs_hidden": false
    }
   },
   "outputs": [],
   "source": [
    "lewisshort = Dictionary(\"../data/LewisShort1879-stardict/LewisShort1879-lat-eng\", in_memory=True)"
   ]
  },
  {
   "cell_type": "code",
   "execution_count": 124,
   "id": "ce553d4fffbb018e",
   "metadata": {
    "ExecuteTime": {
     "end_time": "2023-12-01T09:57:22.752806Z",
     "start_time": "2023-12-01T09:57:22.535629Z"
    },
    "collapsed": false,
    "jupyter": {
     "outputs_hidden": false
    }
   },
   "outputs": [
    {
     "data": {
      "text/plain": [
       "(\"'st\",\n",
       " '<dictionary id=\"LewisShort1879\"><style type=\"text/css\">@charset \"utf-8\";#LewisShort1879 sense{display:block;position:relative;margin-top:.5em}#LewisShort1879 sense:before{content:attr(n);position:absolute;left:-2.5em;width:2em;text-align:right;color:red;font-weight:bold}#LewisShort1879 sense[level=\"1\"]{margin-left:2em}#LewisShort1879 sense[level=\"2\"]{margin-left:4em}#LewisShort1879 sense[level=\"3\"]{margin-left:6em}#LewisShort1879 sense[level=\"4\"]{margin-left:8em}#LewisShort1879 sense[level=\"5\"]{margin-left:10em}#LewisShort1879 sense[level=\"6\"]{margin-left:12em}#LewisShort1879 sense[level=\"7\"]{margin-left:14em}#LewisShort1879 entryfree>sense:first-of-type{display:inline;margin-left:0}#LewisShort1879 entryfree>sense:first-of-type:before{content:\"\"}#LewisShort1879 gen{font-style:italic;color:blue}#LewisShort1879 cit quote{font-style:italic;color:#003478}#LewisShort1879 bibl{color:gray}#LewisShort1879 bibl a:link{text-decoration:none;color:inherit}#LewisShort1879 bibl a:visited{text-decoration:none;color:inherit}#LewisShort1879 bibl a:hover{cursor:pointer}#LewisShort1879 hi[rend=ital]{font-style:italic}#LewisShort1879 foreign[lang|=\"greek\"]{color:#780373}#LewisShort1879 orth{font-weight:bold}#LewisShort1879 itype{font-weight:bold}#LewisShort1879 br{display:block;content:\"\";margin-top:.5em}</style><def><entryFree id=\"n45200\" type=\"main\" key=\"\\'st\" n=\"2\"><orth extent=\"full\" lang=\"la\">\\'st</orth>, abbrev. for est, v. sum <sense id=\"n45200.0\" n=\"I\" level=\"1\"><hi rend=\"ital\">init.</hi></sense></entryFree>\\n</def></dictionary>')"
      ]
     },
     "execution_count": 124,
     "metadata": {},
     "output_type": "execute_result"
    }
   ],
   "source": [
    "list(lewisshort.items())[0]"
   ]
  },
  {
   "cell_type": "code",
   "execution_count": 125,
   "id": "c0e7091841433f2",
   "metadata": {
    "ExecuteTime": {
     "end_time": "2023-12-01T09:59:43.472018Z",
     "start_time": "2023-12-01T09:59:43.461001Z"
    },
    "collapsed": false,
    "jupyter": {
     "outputs_hidden": false
    }
   },
   "outputs": [],
   "source": [
    "word_definitions = {}\n",
    "for key in lewisshort.keys():\n",
    "    definition = lewisshort[key]\n",
    "    word_definitions[key] = definition\n"
   ]
  },
  {
   "cell_type": "code",
   "execution_count": 126,
   "id": "f9bb36749af37992",
   "metadata": {
    "ExecuteTime": {
     "end_time": "2023-12-01T10:01:48.928247Z",
     "start_time": "2023-12-01T10:01:48.875595Z"
    },
    "collapsed": false,
    "jupyter": {
     "outputs_hidden": false
    }
   },
   "outputs": [
    {
     "data": {
      "text/plain": [
       "'<dictionary id=\"LewisShort1879\"><style type=\"text/css\">@charset \"utf-8\";#LewisShort1879 sense{display:block;position:relative;margin-top:.5em}#LewisShort1879 sense:before{content:attr(n);position:absolute;left:-2.5em;width:2em;text-align:right;color:red;font-weight:bold}#LewisShort1879 sense[level=\"1\"]{margin-left:2em}#LewisShort1879 sense[level=\"2\"]{margin-left:4em}#LewisShort1879 sense[level=\"3\"]{margin-left:6em}#LewisShort1879 sense[level=\"4\"]{margin-left:8em}#LewisShort1879 sense[level=\"5\"]{margin-left:10em}#LewisShort1879 sense[level=\"6\"]{margin-left:12em}#LewisShort1879 sense[level=\"7\"]{margin-left:14em}#LewisShort1879 entryfree>sense:first-of-type{display:inline;margin-left:0}#LewisShort1879 entryfree>sense:first-of-type:before{content:\"\"}#LewisShort1879 gen{font-style:italic;color:blue}#LewisShort1879 cit quote{font-style:italic;color:#003478}#LewisShort1879 bibl{color:gray}#LewisShort1879 bibl a:link{text-decoration:none;color:inherit}#LewisShort1879 bibl a:visited{text-decoration:none;color:inherit}#LewisShort1879 bibl a:hover{cursor:pointer}#LewisShort1879 hi[rend=ital]{font-style:italic}#LewisShort1879 foreign[lang|=\"greek\"]{color:#780373}#LewisShort1879 orth{font-weight:bold}#LewisShort1879 itype{font-weight:bold}#LewisShort1879 br{display:block;content:\"\";margin-top:.5em}</style><def><entryFree id=\"n20237\" type=\"greek\" key=\"harmonia1\" n=\"1\"><orth extent=\"full\" lang=\"la\">harmŏnĭa</orth>, <itype>ae</itype> (archaic <sense id=\"n20237.0\" n=\"I\" level=\"1\"><hi rend=\"ital\">gen. sing.</hi> harmoniaï, <bibl><a href=\"http://data.perseus.org/citations/urn:cts:latinLit:phi0550.phi001:3.131\"><author>Lucr.</author> 3, 131</a></bibl>), <gen>f.</gen>, = <foreign lang=\"greek\">ἁρμονία</foreign>, <hi rend=\"ital\">an agreement of sounds</hi>, <hi rend=\"ital\">consonance</hi>, <hi rend=\"ital\">concord</hi>, <hi rend=\"ital\">harmony;</hi> pure Lat. concentus. </sense><sense id=\"n20237.1\" n=\"I\" level=\"1\"> <usg type=\"style\">Lit.</usg>: <cit><quote lang=\"la\">velut in cantu et fidibus, quae harmonia dicitur,</quote> <bibl><a href=\"http://data.perseus.org/citations/urn:cts:latinLit:phi0474.phi049.perseus-lat1:1.10.20\"><author>Cic.</author> Tusc. 1, 10, 20</a></bibl></cit>; cf.: <cit><quote lang=\"la\">harmoniam ex intervallis sonorum nosse possumus: quorum varia compositio etiam harmonias efficit plures,</quote> <bibl><author>id.</author> ib. 1, 18, 41</bibl></cit>: <cit><quote lang=\"la\">ad harmoniam canere mundum,</quote> <bibl><a href=\"http://data.perseus.org/citations/urn:cts:latinLit:phi0474.phi050.perseus-lat1:3.11.27\"><author>id.</author> N. D. 3, 11, 27</a></bibl></cit>: <cit><quote lang=\"la\">numeros et geometriam et harmoniam conjungere,</quote> <bibl><a href=\"http://data.perseus.org/citations/urn:cts:latinLit:phi0474.phi043.perseus-lat1:1.10\"><author>id.</author> Rep. 1, 10</a></bibl></cit>; <bibl><a href=\"http://data.perseus.org/citations/urn:cts:latinLit:phi1056.phi001.perseus-lat1:5.4.6\"><author>Vitr.</author> 5, 4, 6</a></bibl>.</sense><sense id=\"n20237.2\" n=\"II\" level=\"1\"> <usg type=\"style\">Transf.</usg> </sense><sense id=\"n20237.3\" n=\"A\" level=\"2\"> <hi rend=\"ital\">Concord</hi>, <hi rend=\"ital\">harmony;</hi> in gen., <bibl><a href=\"http://data.perseus.org/citations/urn:cts:latinLit:phi0550.phi001:3.131\"><author>Lucr.</author> 3, 131</a></bibl>: <cit><quote lang=\"la\">neque harmoniā corpus sentire solere,</quote> <bibl><a href=\"http://data.perseus.org/citations/urn:cts:latinLit:phi0550.phi001:3.118\"><author>id.</author> 3, 118</a></bibl></cit>: <cit><quote lang=\"la\">nam multum harmoniae Veneris differre videntur,</quote> <bibl><a href=\"http://data.perseus.org/citations/urn:cts:latinLit:phi0550.phi001:4.1248\"><author>id.</author> 4, 1248</a></bibl></cit>.</sense><sense id=\"n20237.4\" n=\"B\" level=\"2\"> <hi rend=\"ital\">Singing</hi>, <hi rend=\"ital\">a song</hi>: <cit><quote lang=\"la\">te nostra, Deus, canit harmonia,</quote> <bibl><author>Prud.</author> Cath. 3, 90</bibl></cit>.</sense></entryFree>\\n</def></dictionary>'"
      ]
     },
     "execution_count": 126,
     "metadata": {},
     "output_type": "execute_result"
    }
   ],
   "source": [
    "word_definitions[\"harmonia\"]"
   ]
  },
  {
   "cell_type": "code",
   "execution_count": null,
   "id": "e5a15487-1fea-41a5-8153-c2782c2b97eb",
   "metadata": {},
   "outputs": [],
   "source": []
  },
  {
   "cell_type": "code",
   "execution_count": 128,
   "id": "e6288100d4b3c83c",
   "metadata": {
    "collapsed": false,
    "jupyter": {
     "outputs_hidden": false
    }
   },
   "outputs": [
    {
     "name": "stdout",
     "output_type": "stream",
     "text": [
      "CPU times: user 2min 4s, sys: 797 ms, total: 2min 5s\n",
      "Wall time: 2min 5s\n"
     ]
    }
   ],
   "source": [
    "%%time\n",
    "vocab_counter = Counter()\n",
    "overview_dict = {}\n",
    "for filename in filenames_list:\n",
    "    f_sents_data = pickle.load(open(source_path + filename, \"rb\"))\n",
    "    sents_n = len(f_sents_data)\n",
    "    tokens_n = 0\n",
    "    lemmata = []\n",
    "    for sent_data in f_sents_data:\n",
    "        tokens_n += len(sent_data[1])\n",
    "        lemmata.extend([t[1] for t in sent_data[1] if t[2] in [\"NOUN\", \"VERB\", \"ADJ\", \"PROPN\"]])\n",
    "    #lemmata = [l for l in lemmata if (l != \"\") & (len(l) > 2) & (\".\" not in l)]\n",
    "    lemmata = [l for l in lemmata if l and len(l) > 2 and l.isalpha()]\n",
    "    overview_dict[filename.partition(\".\")[0]] = {\"sents_n\" : sents_n, \"tokens_n\" : tokens_n} \n",
    "    word_counts = dict(nltk.FreqDist(lemmata).most_common())\n",
    "    vocab_counter.update(word_counts)"
   ]
  },
  {
   "cell_type": "code",
   "execution_count": 129,
   "id": "8a153917b1a41cf3",
   "metadata": {
    "ExecuteTime": {
     "start_time": "2023-11-21T12:50:44.931628Z"
    },
    "collapsed": false,
    "jupyter": {
     "outputs_hidden": false
    }
   },
   "outputs": [
    {
     "data": {
      "text/plain": [
       "49325247"
      ]
     },
     "execution_count": 129,
     "metadata": {},
     "output_type": "execute_result"
    }
   ],
   "source": [
    "N = 50\n",
    "vocab_thres50 = [tup for tup in zip(vocab_counter.keys(), vocab_counter.values()) if tup[1] >= N]\n",
    "sum([tup[1] for tup in vocab_thres50]) # how much is covered?"
   ]
  },
  {
   "cell_type": "code",
   "execution_count": 132,
   "id": "bab572f77b0cb79a",
   "metadata": {
    "ExecuteTime": {
     "start_time": "2023-11-21T12:50:48.252024Z"
    },
    "collapsed": false,
    "jupyter": {
     "outputs_hidden": false
    }
   },
   "outputs": [
    {
     "data": {
      "text/plain": [
       "49221"
      ]
     },
     "execution_count": 132,
     "metadata": {},
     "output_type": "execute_result"
    }
   ],
   "source": [
    "len(vocab_thres50)"
   ]
  },
  {
   "cell_type": "code",
   "execution_count": null,
   "id": "58cfc14c-70eb-4023-a58e-6192a76767da",
   "metadata": {},
   "outputs": [],
   "source": []
  }
 ],
 "metadata": {
  "kernelspec": {
   "display_name": "latin_global_kernel",
   "language": "python",
   "name": "latin_global_kernel"
  },
  "language_info": {
   "codemirror_mode": {
    "name": "ipython",
    "version": 3
   },
   "file_extension": ".py",
   "mimetype": "text/x-python",
   "name": "python",
   "nbconvert_exporter": "python",
   "pygments_lexer": "ipython3",
   "version": "3.10.12"
  }
 },
 "nbformat": 4,
 "nbformat_minor": 5
}
