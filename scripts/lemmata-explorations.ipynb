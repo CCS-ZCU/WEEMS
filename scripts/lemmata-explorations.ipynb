{
 "cells": [
  {
   "cell_type": "code",
   "execution_count": 93,
   "outputs": [],
   "source": [
    "import pandas as pd\n",
    "from collections import Counter\n",
    "import nltk\n",
    "import os\n",
    "from gensim.models import KeyedVectors\n"
   ],
   "metadata": {
    "collapsed": false,
    "ExecuteTime": {
     "end_time": "2023-11-21T09:53:37.847405Z",
     "start_time": "2023-11-21T09:53:37.625776Z"
    }
   },
   "id": "b32c4cab428524ee"
  },
  {
   "cell_type": "code",
   "execution_count": 62,
   "id": "initial_id",
   "metadata": {
    "collapsed": true,
    "ExecuteTime": {
     "end_time": "2023-11-21T09:08:40.414847Z",
     "start_time": "2023-11-21T09:08:40.372630Z"
    }
   },
   "outputs": [],
   "source": [
    "metadata_table_long = pd.read_csv(\"../data/metadata_table_long.csv\")\n"
   ]
  },
  {
   "cell_type": "code",
   "execution_count": 63,
   "outputs": [
    {
     "data": {
      "text/plain": "                     Author  \\\n0    Pardies, Ignace Gaston   \n1  Scheuchzer, Johann Jakob   \n2  Scheuchzer, Johann Jakob   \n3           Addison, Joseph   \n4           Addison, Joseph   \n\n                                          Full title  \\\n0  A Latin Letter written to the Publisher April ...   \n1  Acarnania sive Relatio eorum, quae hactenus el...   \n2  ΟΥΡΕΣΙΦΟΙΤΗΣ Helveticus sive itinera per Helve...   \n3  Ad insignissimum virum dominum Thomam Burnettu...   \n4                               Barometri descriptio   \n\n                                                  In  Year   Place  \\\n0  Philosophical Transactions of the Royal Societ...  1672  London   \n1    ΟΥΡΕΣΙΦΟΙΤΗΣ (Ouresiphoites) Helveticus, 609–35  1723  Leiden   \n2                                                NaN  1723  Leiden   \n3  Examen poeticum duplex, sive, Musarum anglican...  1698  London   \n4  Examen poeticum duplex, sive, Musarum anglican...  1698  London   \n\n       Publisher/Printer           Era               Form/Genre  \\\n0                 Martyn  17th century           Letter, Review   \n1     van der Aa, Pieter  18th century  Biography, Bibliography   \n2     van der Aa, Pieter  18th century     Report, Bibliography   \n3  Richard Wellington I.  17th century           Panegyric poem   \n4  Richard Wellington I.  17th century            Didactic poem   \n\n                                  Discipline/Content  \\\n0                                            Physics   \n1  Mathematics, Physics, Geography/Cartography, M...   \n2  Geography/Cartography, Meteorology/Earth scien...   \n3                         Meteorology/Earth sciences   \n4                                            Physics   \n\n                                            Original  ... Of interest to  \\\n0                              A Latin Letter(JSTOR)  ...            NaN   \n1  Acarnania (1st edition), inMiscellanea Lipsien...  ...             MK   \n2  ΟΥΡΕΣΙΦΟΙΤΗΣ (Ouresiphoites) Helveticus(e-rara...  ...             MK   \n3  Ad Burnettum sacrae theoriae telluris auctorem...  ...         MK, IT   \n4  Barometri descriptio, in:Examen poeticum duple...  ...            NaN   \n\n  Transkribus text available Written by Library and Signature       ids  \\\n0                        Yes         IT                   NaN  [607720]   \n1                        Yes         MK                   NaN  [605919]   \n2                        Yes         MK                   NaN  [605919]   \n3                        Yes         MK                   NaN  [769230]   \n4                        Yes        NaN                   NaN  [769230]   \n\n       id date_min date_max  \\\n0  607720   1672.0   1672.0   \n1  605919   1723.0   1723.0   \n2  605919   1723.0   1723.0   \n3  769230   1698.0   1698.0   \n4  769230   1698.0   1698.0   \n\n                                            filename file_year  \n0  Pardies,_Ignace_Gaston_-_A_Latin_Letter_contai...    1672.0  \n1  Scheuchzer,_Johann_Jakob_-_ΟΥΡΕΣΙΦΟΙΤΗΣ_(Oures...    1723.0  \n2  Scheuchzer,_Johann_Jakob_-_ΟΥΡΕΣΙΦΟΙΤΗΣ_(Oures...    1723.0  \n3        Examen_poeticum_duplex__London_1698_pdf.txt    1698.0  \n4        Examen_poeticum_duplex__London_1698_pdf.txt    1698.0  \n\n[5 rows x 26 columns]",
      "text/html": "<div>\n<style scoped>\n    .dataframe tbody tr th:only-of-type {\n        vertical-align: middle;\n    }\n\n    .dataframe tbody tr th {\n        vertical-align: top;\n    }\n\n    .dataframe thead th {\n        text-align: right;\n    }\n</style>\n<table border=\"1\" class=\"dataframe\">\n  <thead>\n    <tr style=\"text-align: right;\">\n      <th></th>\n      <th>Author</th>\n      <th>Full title</th>\n      <th>In</th>\n      <th>Year</th>\n      <th>Place</th>\n      <th>Publisher/Printer</th>\n      <th>Era</th>\n      <th>Form/Genre</th>\n      <th>Discipline/Content</th>\n      <th>Original</th>\n      <th>...</th>\n      <th>Of interest to</th>\n      <th>Transkribus text available</th>\n      <th>Written by</th>\n      <th>Library and Signature</th>\n      <th>ids</th>\n      <th>id</th>\n      <th>date_min</th>\n      <th>date_max</th>\n      <th>filename</th>\n      <th>file_year</th>\n    </tr>\n  </thead>\n  <tbody>\n    <tr>\n      <th>0</th>\n      <td>Pardies, Ignace Gaston</td>\n      <td>A Latin Letter written to the Publisher April ...</td>\n      <td>Philosophical Transactions of the Royal Societ...</td>\n      <td>1672</td>\n      <td>London</td>\n      <td>Martyn</td>\n      <td>17th century</td>\n      <td>Letter, Review</td>\n      <td>Physics</td>\n      <td>A Latin Letter(JSTOR)</td>\n      <td>...</td>\n      <td>NaN</td>\n      <td>Yes</td>\n      <td>IT</td>\n      <td>NaN</td>\n      <td>[607720]</td>\n      <td>607720</td>\n      <td>1672.0</td>\n      <td>1672.0</td>\n      <td>Pardies,_Ignace_Gaston_-_A_Latin_Letter_contai...</td>\n      <td>1672.0</td>\n    </tr>\n    <tr>\n      <th>1</th>\n      <td>Scheuchzer, Johann Jakob</td>\n      <td>Acarnania sive Relatio eorum, quae hactenus el...</td>\n      <td>ΟΥΡΕΣΙΦΟΙΤΗΣ (Ouresiphoites) Helveticus, 609–35</td>\n      <td>1723</td>\n      <td>Leiden</td>\n      <td>van der Aa, Pieter</td>\n      <td>18th century</td>\n      <td>Biography, Bibliography</td>\n      <td>Mathematics, Physics, Geography/Cartography, M...</td>\n      <td>Acarnania (1st edition), inMiscellanea Lipsien...</td>\n      <td>...</td>\n      <td>MK</td>\n      <td>Yes</td>\n      <td>MK</td>\n      <td>NaN</td>\n      <td>[605919]</td>\n      <td>605919</td>\n      <td>1723.0</td>\n      <td>1723.0</td>\n      <td>Scheuchzer,_Johann_Jakob_-_ΟΥΡΕΣΙΦΟΙΤΗΣ_(Oures...</td>\n      <td>1723.0</td>\n    </tr>\n    <tr>\n      <th>2</th>\n      <td>Scheuchzer, Johann Jakob</td>\n      <td>ΟΥΡΕΣΙΦΟΙΤΗΣ Helveticus sive itinera per Helve...</td>\n      <td>NaN</td>\n      <td>1723</td>\n      <td>Leiden</td>\n      <td>van der Aa, Pieter</td>\n      <td>18th century</td>\n      <td>Report, Bibliography</td>\n      <td>Geography/Cartography, Meteorology/Earth scien...</td>\n      <td>ΟΥΡΕΣΙΦΟΙΤΗΣ (Ouresiphoites) Helveticus(e-rara...</td>\n      <td>...</td>\n      <td>MK</td>\n      <td>Yes</td>\n      <td>MK</td>\n      <td>NaN</td>\n      <td>[605919]</td>\n      <td>605919</td>\n      <td>1723.0</td>\n      <td>1723.0</td>\n      <td>Scheuchzer,_Johann_Jakob_-_ΟΥΡΕΣΙΦΟΙΤΗΣ_(Oures...</td>\n      <td>1723.0</td>\n    </tr>\n    <tr>\n      <th>3</th>\n      <td>Addison, Joseph</td>\n      <td>Ad insignissimum virum dominum Thomam Burnettu...</td>\n      <td>Examen poeticum duplex, sive, Musarum anglican...</td>\n      <td>1698</td>\n      <td>London</td>\n      <td>Richard Wellington I.</td>\n      <td>17th century</td>\n      <td>Panegyric poem</td>\n      <td>Meteorology/Earth sciences</td>\n      <td>Ad Burnettum sacrae theoriae telluris auctorem...</td>\n      <td>...</td>\n      <td>MK, IT</td>\n      <td>Yes</td>\n      <td>MK</td>\n      <td>NaN</td>\n      <td>[769230]</td>\n      <td>769230</td>\n      <td>1698.0</td>\n      <td>1698.0</td>\n      <td>Examen_poeticum_duplex__London_1698_pdf.txt</td>\n      <td>1698.0</td>\n    </tr>\n    <tr>\n      <th>4</th>\n      <td>Addison, Joseph</td>\n      <td>Barometri descriptio</td>\n      <td>Examen poeticum duplex, sive, Musarum anglican...</td>\n      <td>1698</td>\n      <td>London</td>\n      <td>Richard Wellington I.</td>\n      <td>17th century</td>\n      <td>Didactic poem</td>\n      <td>Physics</td>\n      <td>Barometri descriptio, in:Examen poeticum duple...</td>\n      <td>...</td>\n      <td>NaN</td>\n      <td>Yes</td>\n      <td>NaN</td>\n      <td>NaN</td>\n      <td>[769230]</td>\n      <td>769230</td>\n      <td>1698.0</td>\n      <td>1698.0</td>\n      <td>Examen_poeticum_duplex__London_1698_pdf.txt</td>\n      <td>1698.0</td>\n    </tr>\n  </tbody>\n</table>\n<p>5 rows × 26 columns</p>\n</div>"
     },
     "execution_count": 63,
     "metadata": {},
     "output_type": "execute_result"
    }
   ],
   "source": [
    "metadata_table_long.head(5)"
   ],
   "metadata": {
    "collapsed": false,
    "ExecuteTime": {
     "end_time": "2023-11-21T09:08:40.672204Z",
     "start_time": "2023-11-21T09:08:40.660133Z"
    }
   },
   "id": "642fb10d97b3ac51"
  },
  {
   "cell_type": "code",
   "execution_count": 64,
   "outputs": [],
   "source": [
    "id = metadata_table_long[\"id\"][1]"
   ],
   "metadata": {
    "collapsed": false,
    "ExecuteTime": {
     "end_time": "2023-11-21T09:08:41.173159Z",
     "start_time": "2023-11-21T09:08:41.167193Z"
    }
   },
   "id": "c80d788ce221006d"
  },
  {
   "cell_type": "code",
   "execution_count": 65,
   "outputs": [],
   "source": [
    "with open(\"../data/large_data/sents_lemmata/{}.txt\".format(str(id)), \"r\") as f:\n",
    "    sents_lemmata = [sent.strip().split() for sent in f.readlines()]"
   ],
   "metadata": {
    "collapsed": false,
    "ExecuteTime": {
     "end_time": "2023-11-21T09:08:41.615997Z",
     "start_time": "2023-11-21T09:08:41.591992Z"
    }
   },
   "id": "c4da34ae5a1207b0"
  },
  {
   "cell_type": "code",
   "execution_count": 66,
   "outputs": [
    {
     "data": {
      "text/plain": "['ioh',\n 'iac',\n 'scheuchzeri',\n 'itinera',\n 'alpina',\n 'plurimus',\n 'tabula',\n 'aeneus',\n 'illustro',\n 'lugud',\n 'bat',\n 'sumptibus',\n 'petrus',\n 'vander',\n 'aa.',\n 'ουρεσιφοιτης',\n 'helveticus',\n 'sive',\n 'itinera',\n 'per']"
     },
     "execution_count": 66,
     "metadata": {},
     "output_type": "execute_result"
    }
   ],
   "source": [
    "lemmata = [l for s in sents_lemmata for l in s]\n",
    "lemmata[:20]"
   ],
   "metadata": {
    "collapsed": false,
    "ExecuteTime": {
     "end_time": "2023-11-21T09:08:42.076037Z",
     "start_time": "2023-11-21T09:08:42.070965Z"
    }
   },
   "id": "ffab5ae83165790f"
  },
  {
   "cell_type": "code",
   "execution_count": 67,
   "outputs": [],
   "source": [
    "word_counts = dict(nltk.FreqDist(lemmata).most_common())"
   ],
   "metadata": {
    "collapsed": false,
    "ExecuteTime": {
     "end_time": "2023-11-21T09:08:42.823785Z",
     "start_time": "2023-11-21T09:08:42.755368Z"
    }
   },
   "id": "9c62786562ebc5a9"
  },
  {
   "cell_type": "code",
   "execution_count": 126,
   "outputs": [
    {
     "data": {
      "text/plain": "553"
     },
     "execution_count": 126,
     "metadata": {},
     "output_type": "execute_result"
    }
   ],
   "source": [
    "files_ready = os.listdir(\"../data/large_data/sents_lemmata\")\n",
    "len(files_ready)"
   ],
   "metadata": {
    "collapsed": false,
    "ExecuteTime": {
     "end_time": "2023-11-21T10:56:18.477478Z",
     "start_time": "2023-11-21T10:56:18.468672Z"
    }
   },
   "id": "706c92695eddbf4b"
  },
  {
   "cell_type": "code",
   "execution_count": 98,
   "outputs": [
    {
     "name": "stdout",
     "output_type": "stream",
     "text": [
      "CPU times: user 37.9 s, sys: 953 ms, total: 38.9 s\n",
      "Wall time: 42 s\n"
     ]
    }
   ],
   "source": [
    "%%time\n",
    "files_ready = os.listdir(\"../data/large_data/sents_lemmata\")\n",
    "vocab_counter = Counter()\n",
    "overview_dict = {}\n",
    "for fn in files_ready:\n",
    "    with open(\"../data/large_data/sents_lemmata/\" + fn, \"r\") as f:\n",
    "        sents_lemmata = [sent.strip().split() for sent in f.readlines()]\n",
    "    sents_n = len(sents_lemmata)\n",
    "    lemmata = [l for s in sents_lemmata for l in s]\n",
    "    words_n = len(lemmata)\n",
    "    overview_dict[fn.partition(\".\")[0]] = {\"sents_n\" : sents_n, \"words_n\" : words_n} \n",
    "    word_counts = dict(nltk.FreqDist(lemmata).most_common())\n",
    "    vocab_counter.update(word_counts)"
   ],
   "metadata": {
    "collapsed": false,
    "ExecuteTime": {
     "end_time": "2023-11-21T10:32:17.141434Z",
     "start_time": "2023-11-21T10:31:35.145885Z"
    }
   },
   "id": "b1d0e7430b5e7731"
  },
  {
   "cell_type": "code",
   "execution_count": 99,
   "outputs": [
    {
     "data": {
      "text/plain": "43135379"
     },
     "execution_count": 99,
     "metadata": {},
     "output_type": "execute_result"
    }
   ],
   "source": [
    "sum(vocab_counter.values())"
   ],
   "metadata": {
    "collapsed": false,
    "ExecuteTime": {
     "end_time": "2023-11-21T10:32:17.174674Z",
     "start_time": "2023-11-21T10:32:17.151577Z"
    }
   },
   "id": "bb72121cba5d8f6a"
  },
  {
   "cell_type": "code",
   "execution_count": 100,
   "outputs": [
    {
     "data": {
      "text/plain": "Counter({'sum': 1106059,\n         'in': 1009892,\n         'qui': 896546,\n         'hic': 380930,\n         'is': 367355,\n         'de': 356110,\n         'que': 353692,\n         'ad': 346037,\n         'non': 343268,\n         'ex': 280048,\n         'ab': 258274,\n         'atque': 211371,\n         'cum': 209345,\n         'ille': 209024,\n         'ut': 203382,\n         'à': 181800,\n         'sed': 173923,\n         'si': 168298,\n         'ipse': 166071,\n         'per': 163995,\n         'alius': 163485,\n         'omnis': 157359,\n         'dico': 151053,\n         'et': 147701,\n         'se': 136464,\n         'uel': 134465,\n         'possum': 131941,\n         'pars': 128654,\n         'facio': 126241,\n         'idem': 125841,\n         'aut': 125139,\n         'etiam': 123605,\n         'vt': 122009,\n         'habeo': 120844,\n         'suus': 109980,\n         'autem': 108246,\n         'res': 106409,\n         'greek.expression': 105917,\n         '2': 105278,\n         'quod': 103876,\n         'enim': 102149,\n         'uideo': 101738,\n         '1': 91319,\n         'corpus': 90602,\n         'multus': 89754,\n         'do': 88672,\n         'magnus': 88282,\n         'locus': 84828,\n         '4': 79186,\n         'tamen': 77720,\n         '3': 74454,\n         'quidam': 72261,\n         'primus': 70110,\n         'ita': 69965,\n         'terra': 68064,\n         'ego': 66696,\n         'aqua': 66032,\n         'paruus': 65471,\n         'inter': 64078,\n         'neque': 63910,\n         'motus': 63579,\n         'liber': 62654,\n         'natura': 62043,\n         'duo': 61903,\n         'ratio': 61879,\n         'lib': 60454,\n         'quia': 59596,\n         'quidem': 57320,\n         'dies': 57106,\n         'tempus': 57073,\n         'quis': 56654,\n         'uis': 56499,\n         'pro': 56432,\n         'cap': 55861,\n         'totus': 55795,\n         'nec': 55048,\n         'tum': 54528,\n         'siue': 54009,\n         'nam': 53537,\n         'quam': 53212,\n         'quàm': 52767,\n         'modus': 52477,\n         'uerò': 51138,\n         'c.': 51062,\n         'o': 50690,\n         'tu': 50666,\n         'genus': 50085,\n         'sic': 49658,\n         'nos': 49539,\n         'alter': 49345,\n         'nullus': 49115,\n         '8': 48619,\n         '5': 48089,\n         'sol': 47980,\n         'apud': 47452,\n         'annus': 47277,\n         'unus': 47047,\n         'noster': 45046,\n         'medius': 44086,\n         'by': 43883,\n         'ne': 43691,\n         'uero': 42849,\n         'homo': 42678,\n         'causa': 42434,\n         'nomen': 42285,\n         'quoque': 42185,\n         '6': 41849,\n         'deus': 41822,\n         'quòd': 41152,\n         'e': 41005,\n         'at': 39947,\n         'color': 39790,\n         'i.': 39510,\n         'caput': 39507,\n         'p.': 39445,\n         'i': 39352,\n         'igitur': 38424,\n         'sub': 38160,\n         'an': 37913,\n         'magis': 37834,\n         'forma': 37697,\n         'a': 37379,\n         'linea': 36767,\n         'similis': 36126,\n         'ergo': 35964,\n         'uoco': 35811,\n         'nisi': 35660,\n         '10': 35532,\n         'ubi': 35387,\n         'nihil': 35062,\n         'b': 34751,\n         'dum': 33767,\n         'species': 33523,\n         'angulus': 33354,\n         'post': 32951,\n         '7': 32486,\n         'ob': 32431,\n         'google': 32191,\n         'l.': 32092,\n         'materia': 32026,\n         'uerus': 31706,\n         'os': 31260,\n         'cùm': 31119,\n         'folium': 31007,\n         'oculus': 30866,\n         'tam': 30401,\n         'fero': 30286,\n         'opus': 29906,\n         'tres': 29665,\n         'luna': 29425,\n         'scribo': 29351,\n         'aequalis': 29235,\n         'ii': 29062,\n         'd': 29052,\n         'iste': 28925,\n         'uolo': 28896,\n         '12': 28797,\n         'solus': 28723,\n         '9': 28634,\n         'debeo': 28621,\n         'ignis': 28498,\n         'calor': 28470,\n         'seu': 27995,\n         'tertius': 27782,\n         'iam': 27699,\n         'secundus': 27698,\n         'semper': 27615,\n         'fio': 26996,\n         'figura': 26883,\n         'semen': 26879,\n         'animal': 26809,\n         'latus': 26745,\n         'circa': 26474,\n         'punctum': 26395,\n         'aliqui': 26388,\n         'digitized': 26310,\n         'aliquis': 26073,\n         'sanguis': 26056,\n         '11': 25878,\n         'ago': 25601,\n         'c': 25351,\n         '20': 25333,\n         'cor': 25301,\n         'quintus': 25092,\n         'reliquus': 25033,\n         'nunc': 25033,\n         '30': 24846,\n         'rectus': 24753,\n         'centrum': 24579,\n         'sine': 24395,\n         'tantum': 24301,\n         'ars': 24285,\n         'pono': 24268,\n         'numerus': 24206,\n         'talis': 24097,\n         'itaque': 23909,\n         'bonus': 23755,\n         'circulus': 23693,\n         'radix': 23689,\n         'medicus': 23654,\n         'moueo': 23591,\n         'proprius': 23435,\n         '15': 23319,\n         'hinc': 23128,\n         'uita': 22929,\n         'sequor': 22859,\n         'è': 22839,\n         'licet': 22804,\n         'summus': 22694,\n         'longus': 22649,\n         'inde': 22450,\n         'unde': 22195,\n         'inquam': 22187,\n         'refero': 22112,\n         'supra': 22046,\n         'deinde': 22044,\n         'secundum': 21790,\n         'spiritus': 21734,\n         'principium': 21652,\n         'd.': 21615,\n         'singulus': 21513,\n         'meus': 21265,\n         'uerbum': 21080,\n         'plinius': 21045,\n         'simul': 20998,\n         'ante': 20839,\n         'anima': 20693,\n         'animus': 20657,\n         'quoniam': 20554,\n         'duco': 20452,\n         'lapis': 20379,\n         'mons': 20269,\n         'ordo': 20168,\n         'uir': 20167,\n         '14': 20163,\n         'b.': 20162,\n         'tuus': 20090,\n         'consto': 20079,\n         'quasi': 20033,\n         'appareo': 20006,\n         's': 20003,\n         'super': 20002,\n         'finis': 19944,\n         'superficies': 19936,\n         'contra': 19899,\n         '13': 19797,\n         'inuenio': 19575,\n         'naturalis': 19502,\n         '16': 19451,\n         'sensus': 19237,\n         'appello': 19194,\n         'nascor': 19189,\n         'albus': 19113,\n         'contineo': 19078,\n         'lux': 19036,\n         'nouus': 19021,\n         'stella': 18987,\n         'mundus': 18987,\n         'distantia': 18901,\n         'iii': 18852,\n         'satis': 18835,\n         'en': 18784,\n         'puto': 18717,\n         'aer': 18670,\n         'pes': 18570,\n         'la': 18563,\n         'jam': 18552,\n         'cur': 18458,\n         'sicut': 18425,\n         'g': 18393,\n         'manus': 18380,\n         'v.': 18242,\n         'par': 18185,\n         'communis': 18097,\n         'usus': 18083,\n         'certus': 18011,\n         'morbus': 17907,\n         'quum': 17907,\n         'orbis': 17670,\n         'substantia': 17643,\n         'uarius': 17558,\n         'pag': 17551,\n         'quando': 17505,\n         'item': 17494,\n         'adeo': 17428,\n         's.': 17412,\n         'parum': 17379,\n         'qualis': 17287,\n         'scilicet': 17265,\n         'ideo': 17249,\n         'propter': 17140,\n         'quare': 17131,\n         'ibid': 17107,\n         'quattuor': 16937,\n         'mare': 16831,\n         'intellego': 16706,\n         'mens': 16670,\n         'uterque': 16642,\n         '25': 16574,\n         'gradus': 16563,\n         'soleo': 16551,\n         'uirtus': 16468,\n         'galenus': 16408,\n         '22': 16396,\n         'calidus': 16362,\n         '18': 16359,\n         'addo': 16358,\n         'magnitudo': 16337,\n         'uenio': 16307,\n         'superior': 16255,\n         '40': 16200,\n         'tunc': 16099,\n         '24': 16068,\n         'arbor': 15877,\n         'tantus': 15840,\n         'n': 15761,\n         'regio': 15738,\n         '17': 15711,\n         'ostendo': 15695,\n         'arcus': 15688,\n         'aristoteles': 15677,\n         'f': 15648,\n         'sententia': 15602,\n         'dolor': 15599,\n         'rex': 15595,\n         'uersus': 15514,\n         'reddo': 15488,\n         '21': 15455,\n         'planta': 15439,\n         'differentia': 15307,\n         'uinum': 15306,\n         'fructus': 15076,\n         'm.': 15030,\n         'sectio': 15001,\n         '23': 14891,\n         'adhuc': 14869,\n         'hora': 14700,\n         'aio': 14650,\n         'accipio': 14629,\n         'prior': 14559,\n         '19': 14541,\n         'signum': 14539,\n         'saepe': 14523,\n         'paucus': 14439,\n         'quomodo': 14386,\n         'uena': 14381,\n         'musculus': 14371,\n         'vbi': 14359,\n         'f.': 14350,\n         'lumen': 14334,\n         'praeter': 14302,\n         'doceo': 14243,\n         'herba': 14157,\n         'credo': 14152,\n         'planus': 14125,\n         'pateo': 14114,\n         'quisque': 14060,\n         'mos': 13953,\n         'gr': 13879,\n         'uelut': 13854,\n         'contingo': 13808,\n         'haud': 13790,\n         'inferus': 13743,\n         'usque': 13721,\n         'mensis': 13707,\n         'der': 13689,\n         'niger': 13676,\n         'tandem': 13606,\n         'nempe': 13571,\n         'uix': 13540,\n         'quartus': 13532,\n         'reperio': 13524,\n         'humanus': 13474,\n         'lex': 13424,\n         'caro': 13408,\n         'efficio': 13365,\n         '26': 13337,\n         '27': 13317,\n         'ferè': 13236,\n         'v': 13228,\n         'rum': 13186,\n         'radius': 13159,\n         'produco': 13143,\n         'tamquam': 13089,\n         'a.': 13060,\n         'constituo': 13058,\n         'altus': 13033,\n         'diuersus': 12968,\n         'describo': 12879,\n         'oportet': 12875,\n         'omnino': 12871,\n         '50': 12849,\n         'quę': 12798,\n         'trado': 12789,\n         'le': 12776,\n         'accedo': 12743,\n         'longitudo': 12689,\n         'uia': 12686,\n         'frigidus': 12647,\n         'iv': 12593,\n         'coelum': 12574,\n         'major': 12553,\n         'flos': 12507,\n         'vnus': 12492,\n         'multum': 12455,\n         'lego': 12404,\n         'quj': 12368,\n         'altitudo': 12340,\n         'historia': 12334,\n         'hjc': 12320,\n         '28': 12318,\n         'cibus': 12299,\n         'spatium': 12261,\n         'het': 12261,\n         'oleum': 12216,\n         'intra': 12085,\n         'initium': 12068,\n         'labor': 12064,\n         'cognosco': 12063,\n         'uox': 12050,\n         'js': 12046,\n         'quin': 12043,\n         'graecus': 11992,\n         'contrarius': 11934,\n         'situs': 11913,\n         'simplex': 11899,\n         'no': 11851,\n         'facultas': 11826,\n         'aurum': 11799,\n         'sinus': 11735,\n         'caeterus': 11700,\n         'uetus': 11661,\n         'potius': 11587,\n         'digitus': 11572,\n         'sentio': 11544,\n         'adeò': 11516,\n         'argumentum': 11515,\n         'co': 11500,\n         'postea': 11486,\n         '29': 11468,\n         'filius': 11439,\n         'sumo': 11434,\n         'm': 11421,\n         'elementum': 11418,\n         'h': 11386,\n         'colligo': 11292,\n         'calendar': 11175,\n         'nonnullus': 11142,\n         'scio': 11113,\n         '31': 11096,\n         't.': 11088,\n         'numquam': 11079,\n         'arteria': 11067,\n         'exsisto': 11046,\n         'relinquo': 11018,\n         'muto': 10987,\n         'solum': 10955,\n         'mox': 10935,\n         'generatio': 10872,\n         'durus': 10849,\n         '32': 10843,\n         'praeterea': 10819,\n         'humor': 10793,\n         'uisus': 10788,\n         'opinio': 10779,\n         'conuenio': 10772,\n         'tot': 10751,\n         'edo': 10747,\n         '35': 10745,\n         'orior': 10742,\n         'qualitas': 10708,\n         'maximè': 10690,\n         'mors': 10642,\n         'distinguo': 10637,\n         'rursus': 10573,\n         'differo': 10561,\n         'uas': 10545,\n         'lo': 10506,\n         'pondus': 10478,\n         'prius': 10464,\n         'utor': 10452,\n         'quantum': 10424,\n         'e.': 10379,\n         'g.': 10305,\n         'ibidem': 10268,\n         'ui': 10261,\n         'recipio': 10252,\n         'crassus': 10242,\n         'lingua': 10235,\n         'num': 10223,\n         'denique': 10222,\n         'proportio': 10210,\n         'aliquando': 10204,\n         'uniuersus': 10203,\n         'n.': 10185,\n         'quantitas': 10170,\n         'oppono': 10146,\n         'nosco': 10075,\n         'actio': 10071,\n         'grauis': 10009,\n         'posterus': 9951,\n         'propono': 9942,\n         'membrum': 9941,\n         'obseruo': 9930,\n         'marcus': 9895,\n         'ibi': 9830,\n         'exemplum': 9827,\n         'pater': 9799,\n         '45': 9792,\n         'curo': 9785,\n         'ro': 9781,\n         'nimirum': 9772,\n         'mitto': 9768,\n         'probo': 9766,\n         'extra': 9764,\n         'statim': 9755,\n         'publicus': 9723,\n         't': 9706,\n         'praesertim': 9675,\n         'ullus': 9667,\n         'ramus': 9655,\n         'genero': 9648,\n         'tabula': 9604,\n         'facile': 9603,\n         'studium': 9560,\n         'nox': 9552,\n         'aetas': 9543,\n         'demonstro': 9529,\n         'gratia': 9525,\n         'macula': 9511,\n         'to': 9502,\n         'caius': 9498,\n         'p': 9495,\n         'bene': 9489,\n         'capio': 9483,\n         'nomino': 9478,\n         'modò': 9475,\n         'prope': 9464,\n         'sal': 9460,\n         'seruo': 9460,\n         'fides': 9458,\n         'notus': 9452,\n         'tenuis': 9445,\n         'neruus': 9397,\n         'significo': 9394,\n         'antiquus': 9381,\n         'caelum': 9364,\n         'particula': 9351,\n         'disto': 9315,\n         'explico': 9313,\n         'prorsus': 9283,\n         '34': 9246,\n         'instar': 9208,\n         'romanus': 9203,\n         'lis': 9193,\n         '33': 9170,\n         'compono': 9140,\n         'piscis': 9138,\n         'quamuis': 9136,\n         'loquor': 9122,\n         'polus': 9107,\n         'exhibeo': 9100,\n         'imago': 9099,\n         '36': 9083,\n         'interdum': 9081,\n         'traho': 9070,\n         'malum': 9063,\n         'ca': 9047,\n         'so': 9042,\n         'hortus': 9027,\n         'christus': 9016,\n         'quemadmodum': 9009,\n         'patior': 9006,\n         'frigus': 8987,\n         'argentum': 8958,\n         'siccus': 8924,\n         'teneo': 8922,\n         'copia': 8910,\n         'odor': 8888,\n         'vna': 8884,\n         'malus': 8868,\n         'respondeo': 8868,\n         'graeci': 8867,\n         'facilis': 8863,\n         'proinde': 8859,\n         'men': 8837,\n         'tio': 8831,\n         'olim': 8828,\n         'eo': 8785,\n         'necessarius': 8784,\n         'indico': 8783,\n         'ta': 8777,\n         'error': 8764,\n         'ejus': 8758,\n         'dominus': 8752,\n         'con': 8751,\n         'vnde': 8742,\n         'tantùm': 8713,\n         'proximus': 8709,\n         'cerebrum': 8694,\n         'philosophus': 8685,\n         'x': 8677,\n         'casus': 8668,\n         'admodum': 8668,\n         'longe': 8653,\n         'quilibet': 8607,\n         'praedico': 8574,\n         'quinque': 8572,\n         'soluo': 8560,\n         'candidus': 8531,\n         'sole': 8525,\n         'quippe': 8520,\n         'sedes': 8502,\n         'fere': 8493,\n         'confero': 8484,\n         'transeo': 8474,\n         'sto': 8451,\n         'necesse': 8449,\n         'specto': 8433,\n         'mirus': 8419,\n         'ueluti': 8396,\n         'latitudo': 8394,\n         'partim': 8384,\n         'quadratus': 8376,\n         'quaero': 8375,\n         '41': 8359,\n         'seco': 8348,\n         'insum': 8339,\n         'solidus': 8306,\n         'li': 8286,\n         'iuxta': 8282,\n         'sphaera': 8278,\n         'similiter': 8272,\n         'globus': 8247,\n         'descendo': 8242,\n         'rego': 8207,\n         'plenus': 8194,\n         'testis': 8152,\n         'paro': 8137,\n         'mo': 8127,\n         'duplex': 8119,\n         '38': 8111,\n         'bellum': 8104,\n         '37': 8101,\n         'iterum': 8100,\n         'exiguus': 8070,\n         'exterior': 8065,\n         'acutus': 8063,\n         'audio': 8062,\n         'cura': 8061,\n         'donec': 8047,\n         '44': 8028,\n         'incido': 8015,\n         'princeps': 8012,\n         '42': 8008,\n         'effectus': 7995,\n         'ce': 7976,\n         'dexter': 7963,\n         'praesto': 7957,\n         'prae': 7957,\n         'verò': 7954,\n         'ualeo': 7954,\n         'lignum': 7905,\n         'misceo': 7903,\n         'speculum': 7894,\n         'bonum': 7886,\n         'acidus': 7863,\n         'plerusque': 7861,\n         'lac': 7860,\n         'umbra': 7849,\n         'accido': 7845,\n         'noto': 7840,\n         'auctor': 7835,\n         'ter': 7832,\n         'externus': 7831,\n         'als': 7828,\n         'humidus': 7826,\n         'succus': 7812,\n         'pertineo': 7796,\n         'sex': 7795,\n         'ferrum': 7794,\n         'maneo': 7784,\n         'basis': 7748,\n         'salis': 7737,\n         'cauda': 7723,\n         'affectus': 7719,\n         'conficio': 7695,\n         'febris': 7686,\n         'fol': 7678,\n         'ueritas': 7657,\n         'siquidem': 7628,\n         'origo': 7625,\n         'metallum': 7619,\n         'du': 7599,\n         'diuinus': 7597,\n         'observatio': 7592,\n         'ingenium': 7583,\n         'multo': 7572,\n         'diu': 7563,\n         'ualde': 7547,\n         'affero': 7535,\n         'nego': 7509,\n         'infinitus': 7503,\n         'expono': 7490,\n         'col': 7452,\n         'infra': 7420,\n         'propterea': 7420,\n         'terminus': 7418,\n         'scientia': 7415,\n         'latinus': 7407,\n         'integer': 7396,\n         'portio': 7390,\n         'mollis': 7386,\n         'statuo': 7380,\n         'rotundus': 7371,\n         'perfectus': 7369,\n         'flor': 7349,\n         'gens': 7329,\n         'cado': 7320,\n         'actus': 7312,\n         'grauitas': 7303,\n         'sanè': 7302,\n         '39': 7301,\n         'pectus': 7292,\n         'aliter': 7290,\n         'diuido': 7289,\n         'populus': 7285,\n         'existimo': 7278,\n         'petrus': 7271,\n         'fons': 7254,\n         'aër': 7251,\n         'cogo': 7241,\n         'absque': 7211,\n         'peto': 7204,\n         'saltem': 7200,\n         'h.': 7199,\n         'instrumentum': 7194,\n         'litera': 7182,\n         'manifestus': 7182,\n         'mercurius': 7176,\n         'considero': 7172,\n         'uulgus': 7167,\n         'r': 7155,\n         'nemo': 7152,\n         'purus': 7117,\n         'medicamentum': 7106,\n         '48': 7099,\n         'minus': 7092,\n         'fig': 7059,\n         'primo': 7056,\n         'een': 7051,\n         'facies': 7043,\n         'porrò': 7037,\n         'und': 7037,\n         'tus': 7027,\n         'deduco': 7021,\n         'epistola': 7009,\n         'aliquot': 7006,\n         'den': 7005,\n         'dignus': 6987,\n         'lucius': 6986,\n         'occurro': 6977,\n         'iter': 6974,\n         'sacer': 6974,\n         'tendo': 6973,\n         'ni': 6970,\n         'domus': 6966,\n         'sermo': 6965,\n         'longè': 6956,\n         'puer': 6947,\n         'alibi': 6945,\n         'triangulus': 6945,\n         'uentus': 6923,\n         'leuis': 6907,\n         'tribuo': 6903,\n         'internus': 6886,\n         '52': 6878,\n         'mulier': 6865,\n         'praecedo': 6856,\n         '46': 6854,\n         'incipio': 6847,\n         'pariter': 6835,\n         'facilè': 6832,\n         'regnum': 6820,\n         'equus': 6811,\n         'obtineo': 6796,\n         'uan': 6791,\n         'potentia': 6787,\n         '51': 6785,\n         'bus': 6772,\n         'urbs': 6765,\n         'mutatio': 6760,\n         '43': 6750,\n         'ma': 6742,\n         'hist': 6735,\n         'quisquis': 6733,\n         'mel': 6725,\n         'obseruatio': 6725,\n         'experimentum': 6699,\n         'tem': 6697,\n         'inuicem': 6680,\n         'potus': 6673,\n         'amicus': 6669,\n         'remedium': 6667,\n         'uerum': 6642,\n         'gigno': 6641,\n         'hactenus': 6639,\n         'caussa': 6627,\n         'amor': 6626,\n         'rarus': 6621,\n         'descriptio': 6614,\n         'physicus': 6592,\n         'vsus': 6592,\n         '60': 6591,\n         'impono': 6590,\n         'marinus': 6580,\n         'vs': 6576,\n         'go': 6551,\n         'demum': 6546,\n         'careo': 6536,\n         'morbum': 6523,\n         'dens': 6521,\n         'ultimus': 6516,\n         'solùm': 6500,\n         'cito': 6484,\n         'doctrina': 6483,\n         'gemma': 6482,\n         'hîc': 6476,\n         'laus': 6470,\n         'ultra': 6453,\n         '55': 6451,\n         'author': 6444,\n         'van': 6443,\n         '47': 6441,\n         'pungo': 6435,\n         'adsum': 6430,\n         'syn': 6413,\n         'auris': 6412,\n         'cursus': 6407,\n         'ingens': 6404,\n         'exprimo': 6401,\n         'amplus': 6396,\n         'breuis': 6394,\n         'tollo': 6390,\n         'sapor': 6390,\n         'uentriculus': 6359,\n         'uitium': 6357,\n         'etenim': 6357,\n         'insula': 6351,\n         'separo': 6348,\n         'philosophia': 6322,\n         'quantus': 6315,\n         'modo': 6298,\n         'primum': 6296,\n         'vii': 6293,\n         'morior': 6288,\n         'excipio': 6282,\n         'gero': 6270,\n         'placeo': 6259,\n         'cunctus': 6242,\n         'ascendo': 6237,\n         'augeo': 6236,\n         'tab': 6223,\n         'clarus': 6220,\n         'nis': 6200,\n         'uenter': 6183,\n         'huiusmodi': 6176,\n         'adhibeo': 6170,\n         'jdem': 6151,\n         '54': 6141,\n         'consisto': 6134,\n         'aureus': 6134,\n         'sinister': 6119,\n         'foetus': 6104,\n         'auis': 6100,\n         'varius': 6087,\n         'concipio': 6085,\n         '56': 6083,\n         'instituo': 6075,\n         'cerno': 6063,\n         'mater': 6060,\n         'planeta': 6048,\n         'τῆς': 6031,\n         'ue': 6030,\n         'mus': 6029,\n         'umor': 6027,\n         'exeo': 6022,\n         'tango': 6012,\n         'similitudo': 6003,\n         'nobilis': 6001,\n         'leso': 5994,\n         'assero': 5989,\n         'ἡ': 5983,\n         'extendo': 5969,\n         'prodeo': 5963,\n         'munus': 5963,\n         'diuerto': 5957,\n         'ample': 5951,\n         'momentum': 5942,\n         'il': 5938,\n         'intus': 5937,\n         'τὰ': 5935,\n         'redeo': 5927,\n         'cus': 5925,\n         'sursum': 5916,\n         'consilium': 5905,\n         'uos': 5892,\n         'ops': 5882,\n         'somnus': 5876,\n         'sextus': 5875,\n         'stomachus': 5874,\n         'insignis': 5862,\n         '49': 5845,\n         'quadro': 5839,\n         'falsus': 5827,\n         'supero': 5822,\n         'uulnus': 5813,\n         'curatio': 5810,\n         'queo': 5809,\n         '0': 5797,\n         'urina': 5784,\n         'spes': 5777,\n         'alimentum': 5776,\n         'bis': 5766,\n         'axes': 5750,\n         'flamma': 5745,\n         'mobilis': 5742,\n         'unicus': 5737,\n         'huc': 5734,\n         'ager': 5725,\n         'certè': 5711,\n         'continuus': 5690,\n         'fibra': 5690,\n         'aduersus': 5689,\n         'x.': 5684,\n         'septem': 5679,\n         'defero': 5665,\n         'fluo': 5658,\n         'comprehendo': 5658,\n         'passim': 5646,\n         'cresco': 5643,\n         'esse': 5633,\n         'nondum': 5630,\n         '53': 5623,\n         'majus': 5611,\n         'excito': 5610,\n         'èb': 5595,\n         'theophrastus': 5585,\n         'mas': 5581,\n         'leo': 5563,\n         'gal': 5552,\n         'peruenio': 5548,\n         'tur': 5547,\n         'fortè': 5543,\n         'l': 5542,\n         'flumen': 5523,\n         'medicinus': 5514,\n         'comparo': 5504,\n         '57': 5494,\n         'succum': 5485,\n         'na': 5485,\n         'z': 5480,\n         'sanctus': 5479,\n         'interim': 5470,\n         'essentia': 5453,\n         'observo': 5450,\n         'purgo': 5448,\n         'index': 5442,\n         'penitus': 5436,\n         'magne': 5429,\n         'plato': 5428,\n         'paulus': 5427,\n         'nubes': 5417,\n         'liquor': 5417,\n         'frons': 5413,\n         'cornu': 5406,\n         'uidelicet': 5405,\n         'mille': 5404,\n         'cognitio': 5400,\n         'alienus': 5392,\n         'pulsus': 5388,\n         'intellectus': 5380,\n         'primùm': 5377,\n         'status': 5371,\n         'septimus': 5366,\n         '58': 5363,\n         '=': 5362,\n         'quaestio': 5357,\n         'honor': 5346,\n         'sufficio': 5336,\n         'tis': 5328,\n         'procedo': 5327,\n         'aperio': 5317,\n         'quamquam': 5313,\n         'io': 5311,\n         'uiii': 5310,\n         'laboro': 5302,\n         'operatio': 5302,\n         'antea': 5301,\n         'aequo': 5296,\n         ...})"
     },
     "execution_count": 100,
     "metadata": {},
     "output_type": "execute_result"
    }
   ],
   "source": [
    "vocab_counter"
   ],
   "metadata": {
    "collapsed": false,
    "ExecuteTime": {
     "end_time": "2023-11-21T10:32:26.570905Z",
     "start_time": "2023-11-21T10:32:26.566491Z"
    }
   },
   "id": "71247e33d281adf6"
  },
  {
   "cell_type": "code",
   "execution_count": 117,
   "outputs": [
    {
     "data": {
      "text/plain": "39957729"
     },
     "execution_count": 117,
     "metadata": {},
     "output_type": "execute_result"
    }
   ],
   "source": [
    "N = 20\n",
    "vocab_thres5 = [tup for tup in zip(vocab_counter.keys(), vocab_counter.values()) if tup[1] >= N]\n",
    "sum([tup[1] for tup in vocab_thres5])"
   ],
   "metadata": {
    "collapsed": false,
    "ExecuteTime": {
     "end_time": "2023-11-21T10:47:06.355157Z",
     "start_time": "2023-11-21T10:47:06.118171Z"
    }
   },
   "id": "8a153917b1a41cf3"
  },
  {
   "cell_type": "code",
   "execution_count": 118,
   "outputs": [
    {
     "data": {
      "text/plain": "79520"
     },
     "execution_count": 118,
     "metadata": {},
     "output_type": "execute_result"
    }
   ],
   "source": [
    "len(vocab_thres5)"
   ],
   "metadata": {
    "collapsed": false,
    "ExecuteTime": {
     "end_time": "2023-11-21T10:47:07.995110Z",
     "start_time": "2023-11-21T10:47:07.986006Z"
    }
   },
   "id": "bab572f77b0cb79a"
  },
  {
   "cell_type": "code",
   "execution_count": 109,
   "outputs": [],
   "source": [
    "lasla = KeyedVectors.load_word2vec_format(\"../data/large_data/allLASLA-lemmi-fast-100-SKIP-win5-min5.vec\")\n",
    "operamayora = KeyedVectors.load_word2vec_format(\"../data/large_data/opera-maiora-lemmas_skip_100.vec\")\n"
   ],
   "metadata": {
    "collapsed": false,
    "ExecuteTime": {
     "end_time": "2023-11-21T10:44:34.365145Z",
     "start_time": "2023-11-21T10:44:33.674720Z"
    }
   },
   "id": "792b908a0dd99d7c"
  },
  {
   "cell_type": "code",
   "execution_count": 119,
   "outputs": [
    {
     "data": {
      "text/plain": "11327"
     },
     "execution_count": 119,
     "metadata": {},
     "output_type": "execute_result"
    }
   ],
   "source": [
    "lasla_vocab = lasla.index_to_key\n",
    "len(lasla_vocab)"
   ],
   "metadata": {
    "collapsed": false,
    "ExecuteTime": {
     "end_time": "2023-11-21T10:47:30.489568Z",
     "start_time": "2023-11-21T10:47:30.482096Z"
    }
   },
   "id": "fde2e30fc9b1f9a2"
  },
  {
   "cell_type": "code",
   "execution_count": 121,
   "outputs": [],
   "source": [
    "noscemus_vocab_aboveN = [el[0] for el in vocab_thres5]"
   ],
   "metadata": {
    "collapsed": false,
    "ExecuteTime": {
     "end_time": "2023-11-21T10:48:23.462716Z",
     "start_time": "2023-11-21T10:48:23.454070Z"
    }
   },
   "id": "a4aedb1fcff154f9"
  },
  {
   "cell_type": "code",
   "execution_count": 123,
   "outputs": [],
   "source": [
    "lasla_noscemus_overlap = list(set(lasla_vocab) & set(noscemus_vocab_aboveN)) "
   ],
   "metadata": {
    "collapsed": false,
    "ExecuteTime": {
     "end_time": "2023-11-21T10:49:10.955240Z",
     "start_time": "2023-11-21T10:49:10.947378Z"
    }
   },
   "id": "8b06604630e4241a"
  },
  {
   "cell_type": "code",
   "execution_count": 124,
   "outputs": [
    {
     "data": {
      "text/plain": "8982"
     },
     "execution_count": 124,
     "metadata": {},
     "output_type": "execute_result"
    }
   ],
   "source": [
    "len(lasla_noscemus_overlap)"
   ],
   "metadata": {
    "collapsed": false,
    "ExecuteTime": {
     "end_time": "2023-11-21T10:49:23.245020Z",
     "start_time": "2023-11-21T10:49:23.231908Z"
    }
   },
   "id": "b7d4b647a861d0ba"
  },
  {
   "cell_type": "code",
   "execution_count": 125,
   "outputs": [
    {
     "data": {
      "text/plain": "['mutio',\n 'appareo',\n 'insero',\n 'quemadmodum',\n 'phoenice',\n 'deprimo',\n 'promissum',\n 'nihilum',\n 'sto',\n 'melleus',\n 'decus',\n 'temperatus',\n 'demens',\n 'nuntio',\n 'uiaticum',\n 'procerus',\n 'patrona',\n 'grauis',\n 'saturo',\n 'impono',\n 'sponsio',\n 'memmius',\n 'lente',\n 'communitas',\n 'absis',\n 'serenitas',\n 'abeo',\n 'leuiter',\n 'catillus',\n 'siligineus',\n 'debilitas',\n 'significatio',\n 'euomo',\n 'persisto',\n 'minutus',\n 'prandium',\n 'arctus',\n 'cos',\n 'delia',\n 'piger',\n 'amburo',\n 'status',\n 'irrigo',\n 'bithynus',\n 'uiduus',\n 'pernosco',\n 'religio',\n 'destillo',\n 'centuria',\n 'insidiator',\n 'agna',\n 'corinthius',\n 'qualiscumque',\n 'paulisper',\n 'austerus',\n 'huc',\n 'exedo',\n 'cadus',\n 'caelicola',\n 'lego',\n 'undecimus',\n 'cohors',\n 'niger',\n 'effusus',\n 'famulus',\n 'alica',\n 'ubi',\n 'saturnus',\n 'pusillum',\n 'praetexo',\n 'niualis',\n 'nympha',\n 'clientela',\n 'annalis',\n 'transeo',\n 'arundo',\n 'lautitia',\n 'destinatus',\n 'rescindo',\n 'themistocles',\n 'ara',\n 'area',\n 'immaturus',\n 'pauculus',\n 'ulmus',\n 'tuscus',\n 'ciuitas',\n 'destinatum',\n 'siculus',\n 'furens',\n 'deturbo',\n 'rhodii',\n 'dilutus',\n 'anhelo',\n 'nubilis',\n 'uallum',\n 'integro',\n 'morini',\n 'exiguitas',\n 'propertius',\n 'edoceo',\n 'putris',\n 'carmen',\n 'flammeum',\n 'consequor',\n 'metrum',\n 'immunitas',\n 'uerna',\n 'chelys',\n 'belgium',\n 'effringo',\n 'tertia',\n 'dispello',\n 'disicio',\n 'experimentum',\n 'cassandra',\n 'burrus',\n 'eloquium',\n 'effingo',\n 'aliter',\n 'formula',\n 'constitutum',\n 'praetor',\n 'uentosus',\n 'comparo',\n 'mutinensis',\n 'feruidus',\n 'peripatetici',\n 'proditor',\n 'successio',\n 'decipio',\n 'pudibundus',\n 'findo',\n 'bis',\n 'inuentio',\n 'circulor',\n 'refectio',\n 'deperdo',\n 'batauus',\n 'breuiter',\n 'aethiopia',\n 'uitta',\n 'asperitas',\n 'adulor',\n 'hirsutus',\n 'triumphalis',\n 'miser',\n 'incommodus',\n 'sacer',\n 'canticum',\n 'claua',\n 'septimus',\n 'mancipium',\n 'experientia',\n 'impendeo',\n 'procurator',\n 'nitens',\n 'discutio',\n 'transcribo',\n 'repurgo',\n 'contubernium',\n 'fortuito',\n 'scorpio',\n 'ueneo',\n 'allicio',\n 'portendo',\n 'osculum',\n 'inferi',\n 'daphnis',\n 'antistes',\n 'arrogo',\n 'tuor',\n 'tutor',\n 'ascisco',\n 'adoleo',\n 'nicostratus',\n 'porta',\n 'eximius',\n 'gradiuus',\n 'ambitus',\n 'contubernalis',\n 'promptus',\n 'ausonia',\n 'immundus',\n 'concludo',\n 'immotus',\n 'dissimulo',\n 'nouacula',\n 'lapidosus',\n 'sortior',\n 'ignoro',\n 'centesima',\n 'sordidus',\n 'faustus',\n 'habilis',\n 'album',\n 'ango',\n 'muliercula',\n 'temperies',\n 'male',\n 'medusa',\n 'aureolus',\n 'agger',\n 'faunus',\n 'uanitas',\n 'inceptum',\n 'smaragdus',\n 'deformis',\n 'comitas',\n 'frustra',\n 'tolero',\n 'superuacuus',\n 'iacio',\n 'iberus',\n 'uenatus',\n 'compos',\n 'myrrha',\n 'commotus',\n 'horrens',\n 'seiungo',\n 'caneo',\n 'aeque',\n 'ita',\n 'lepidus',\n 'inscendo',\n 'distorqueo',\n 'textor',\n 'delicia',\n 'anno',\n 'indiuiduus',\n 'coruscus',\n 'impubes',\n 'nuncupo',\n 'delos',\n 'obses',\n 'acanthus',\n 'platanus',\n 'gradior',\n 'fulgeo',\n 'lux',\n 'lex',\n 'iocosus',\n 'diu',\n 'claudianus',\n 'inane',\n 'insigne',\n 'mugitus',\n 'moderate',\n 'tamdiu',\n 'labellum',\n 'quis',\n 'contueor',\n 'pactus',\n 'auidus',\n 'rauenna',\n 'agilis',\n 'september',\n 'frugi',\n 'spissus',\n 'sensim',\n 'dica',\n 'cupiens',\n 'stirps',\n 'gelidus',\n 'complexus',\n 'clarius',\n 'incommodum',\n 'farina',\n 'desertus',\n 'finitor',\n 'pauo',\n 'exploro',\n 'lucrum',\n 'nequam',\n 'tertio',\n 'accessus',\n 'confusus',\n 'scato',\n 'redintegro',\n 'redigo',\n 'pertraho',\n 'duo',\n 'iure',\n 'actio',\n 'irriguus',\n 'quisquis',\n 'quamprimum',\n 'subeo',\n 'effulgeo',\n 'socio',\n 'narbonensis',\n 'debitor',\n 'circumeo',\n 'abutor',\n 'endymion',\n 'latebrosus',\n 'labor',\n 'uallo',\n 'orno',\n 'illustris',\n 'spondeo',\n 'fiscus',\n 'exquisitus',\n 'certatim',\n 'aerius',\n 'exinde',\n 'seruilius',\n 'piget',\n 'salutatio',\n 'thalia',\n 'febris',\n 'numerosus',\n 'missus',\n 'plurimum',\n 'exundo',\n 'lachesis',\n 'parturio',\n 'illyricus',\n 'fur',\n 'achates',\n 'quadrupes',\n 'scriptum',\n 'profundo',\n 'heraclius',\n 'concursus',\n 'conon',\n 'afflo',\n 'dorsum',\n 'profecto',\n 'sextula',\n 'derogo',\n 'raeti',\n 'perpetuus',\n 'strix',\n 'olidus',\n 'respecto',\n 'exaestuo',\n 'picus',\n 'captiuus',\n 'praedo',\n 'populus',\n 'coenus',\n 'cauea',\n 'uncus',\n 'commoneo',\n 'aduento',\n 'celeritas',\n 'tempestiuus',\n 'nudius',\n 'contractio',\n 'ius',\n 'famula',\n 'quamquam',\n 'abluo',\n 'concinno',\n 'exanimo',\n 'sequor',\n 'rudimentum',\n 'comburo',\n 'negotiator',\n 'primarius',\n 'importo',\n 'adulator',\n 'propensus',\n 'palumbes',\n 'tumor',\n 'abruptum',\n 'uigilia',\n 'abominor',\n 'quasso',\n 'regnator',\n 'igitur',\n 'curator',\n 'sino',\n 'desero',\n 'ulciscor',\n 'detorqueo',\n 'nauo',\n 'trulla',\n 'uentilo',\n 'trepidatio',\n 'nanciscor',\n 'amethystus',\n 'riualis',\n 'duplex',\n 'curio',\n 'obliquo',\n 'mulio',\n 'itidem',\n 'hiberna',\n 'fulcio',\n 'scortum',\n 'imprimis',\n 'adaequo',\n 'contero',\n 'mus',\n 'canicula',\n 'liqueo',\n 'seruitus',\n 'modestia',\n 'pilosus',\n 'glacies',\n 'luo',\n 'admirator',\n 'parca',\n 'mortifer',\n 'indigeo',\n 'serapis',\n 'nemorosus',\n 'catilina',\n 'iudaei',\n 'dilabor',\n 'deserta',\n 'carpathius',\n 'nuptialis',\n 'resina',\n 'imperiosus',\n 'saturitas',\n 'straton',\n 'discolor',\n 'propero',\n 'chaos',\n 'perseuerantia',\n 'sanguineus',\n 'forma',\n 'portorium',\n 'macer',\n 'eleuo',\n 'linea',\n 'strigilis',\n 'optimus',\n 'sallustius',\n 'opprobrium',\n 'iudaea',\n 'uir',\n 'reluctor',\n 'mansuesco',\n 'exsero',\n 'subsilio',\n 'chirographum',\n 'affirmatio',\n 'coarguo',\n 'posthac',\n 'magisterium',\n 'ramosus',\n 'fidelitas',\n 'condisco',\n 'cratera',\n 'querulus',\n 'aries',\n 'scapha',\n 'cerberus',\n 'decrepitus',\n 'conspicio',\n 'renes',\n 'immeritus',\n 'capesso',\n 'herilis',\n 'aspergo',\n 'demo',\n 'praescribo',\n 'depromo',\n 'suggero',\n 'occurro',\n 'auris',\n 'impugno',\n 'pierius',\n 'auctoritas',\n 'ceruus',\n 'olus',\n 'progressus',\n 'mulier',\n 'acus',\n 'purus',\n 'perfacilis',\n 'effugium',\n 'intemeratus',\n 'incuruus',\n 'prunum',\n 'agellus',\n 'imprimo',\n 'nauigium',\n 'stillicidium',\n 'inquino',\n 'tityrus',\n 'saucio',\n 'comitialis',\n 'lycurgus',\n 'quominus',\n 'onero',\n 'serum',\n 'impotentia',\n 'ueneror',\n 'inuidus',\n 'piscosus',\n 'portentosus',\n 'ultimo',\n 'memoriter',\n 'dispertio',\n 'adoptiuus',\n 'amicio',\n 'irrationalis',\n 'cruento',\n 'interficio',\n 'populatio',\n 'separatim',\n 'discordia',\n 'canalis',\n 'gallina',\n 'pertinaciter',\n 'uello',\n 'absum',\n 'pensito',\n 'corporalis',\n 'muliebris',\n 'crinis',\n 'aculeus',\n 'religo',\n 'parnasus',\n 'malefacio',\n 'annuum',\n 'obruo',\n 'seleucia',\n 'surgo',\n 'maneo',\n 'cursus',\n 'lepos',\n 'perflo',\n 'camena',\n 'magnetes',\n 'singula',\n 'accio',\n 'nedum',\n 'ferueo',\n 'computatio',\n 'gaza',\n 'roscius',\n 'loquax',\n 'hermolaus',\n 'conuexum',\n 'regens',\n 'sterilis',\n 'cruditas',\n 'altitudo',\n 'procliue',\n 'lucina',\n 'exosus',\n 'pituita',\n 'excedo',\n 'millesimus',\n 'auctio',\n 'unde',\n 'figulus',\n 'extenuo',\n 'misceo',\n 'chorda',\n 'protrudo',\n 'liceo',\n 'aruum',\n 'obtendo',\n 'benignus',\n 'amissio',\n 'exhaurio',\n 'enceladus',\n 'uelamen',\n 'calceus',\n 'calx',\n 'spumeus',\n 'euboea',\n 'corrector',\n 'liberator',\n 'defectus',\n 'ac',\n 'uehementer',\n 'suspectus',\n 'necnon',\n 'mamma',\n 'denso',\n 'subsido',\n 'decresco',\n 'usuuenio',\n 'threicius',\n 'stipendium',\n 'proclamo',\n 'aquila',\n 'elysius',\n 'regio',\n 'honesto',\n 'cybele',\n 'attero',\n 'sacerdos',\n 'compono',\n 'fatidicus',\n 'silenus',\n 'praesum',\n 'hostia',\n 'adiudico',\n 'gena',\n 'consuesco',\n 'gallus',\n 'natales',\n 'maro',\n 'freno',\n 'domina',\n 'molestus',\n 'atramentum',\n 'emico',\n 'pecten',\n 'occupatio',\n 'tragoedia',\n 'sibyllinus',\n 'temo',\n 'refigo',\n 'aer',\n 'uoluo',\n 'regressus',\n 'alueus',\n 'perimo',\n 'fragilitas',\n 'gorgoneus',\n 'hesperia',\n 'maena',\n 'delirus',\n 'mane',\n 'intuor',\n 'apporto',\n 'egredior',\n 'praesagium',\n 'resoluo',\n 'prouenio',\n 'premo',\n 'trepido',\n 'ostentatio',\n 'raetia',\n 'euripus',\n 'lac',\n 'foedo',\n 'impurus',\n 'magister',\n 'scrinium',\n 'pleraque',\n 'doceo',\n 'coopto',\n 'excrucio',\n 'humor',\n 'lacuna',\n 'canities',\n 'proditio',\n 'seligo',\n 'proinde',\n 'supera',\n 'simulatio',\n 'proluo',\n 'seruitium',\n 'missilis',\n 'calumnior',\n 'aduolo',\n 'transmarinus',\n 'mendicus',\n 'maximus',\n 'exolesco',\n 'demum',\n 'terebro',\n 'obscurus',\n 'memorabilis',\n 'desilio',\n 'castor',\n 'animatus',\n 'contineo',\n 'admiratio',\n 'disto',\n 'splendesco',\n 'inchoo',\n 'obluctor',\n 'condo',\n 'aerumnosus',\n 'exstirpo',\n 'renideo',\n 'pullo',\n 'refercio',\n 'somnus',\n 'uociferatio',\n 'iugo',\n 'uoluptas',\n 'uirilitas',\n 'peruulgo',\n 'reueho',\n 'dimitto',\n 'pro',\n 'ferme',\n 'dispereo',\n 'puteoli',\n 'polybus',\n 'facilitas',\n 'commercium',\n 'nimis',\n 'rapio',\n 'praeualeo',\n 'picea',\n 'columba',\n 'octo',\n 'reclino',\n 'cano',\n 'orgetorix',\n 'thermae',\n 'monitor',\n 'hortatus',\n 'applico',\n 'cero',\n 'quippe',\n 'galatea',\n 'institor',\n 'adorior',\n 'remotus',\n 'phalanx',\n 'ambitiose',\n 'uenustas',\n 'socraticus',\n 'latrocinium',\n 'pupillus',\n 'repraesento',\n 'uespera',\n 'obtundo',\n 'uiolenter',\n 'desiderium',\n 'seruator',\n 'securus',\n 'regium',\n 'tametsi',\n 'meus',\n 'concitatio',\n 'aduoco',\n 'ossa',\n 'attenuo',\n 'uulua',\n 'superne',\n 'incursus',\n 'iungo',\n 'euge',\n 'mendico',\n 'delibo',\n 'cicatrix',\n 'uagor',\n 'paulum',\n 'nam',\n 'consultor',\n 'locus',\n 'absconditus',\n 'perseuero',\n 'puerilis',\n 'lucror',\n 'uxor',\n 'oratorius',\n 'dilanio',\n 'blaesus',\n 'pratum',\n 'abscido',\n 'longitudo',\n 'repositorium',\n 'euripides',\n 'iniussus',\n 'elanguesco',\n 'serpo',\n 'uicinus',\n 'ritus',\n 'illabor',\n 'aduersum',\n 'latro',\n 'curius',\n 'infodio',\n 'indidem',\n 'uermis',\n 'traduco',\n 'caria',\n 'congressus',\n 'immineo',\n 'calamus',\n 'ambiguum',\n 'exulcero',\n 'prouentus',\n 'displiceo',\n 'pensum',\n 'semel',\n 'labyrinthus',\n 'abiegnus',\n 'frons',\n 'tribulis',\n 'partio',\n 'exploratus',\n 'pulmo',\n 'em',\n 'uiuidus',\n 'nauta',\n 'lamentatio',\n 'inibi',\n 'mona',\n 'taeda',\n 'modestus',\n 'corymbus',\n 'cacus',\n 'postulo',\n 'scaber',\n 'perforo',\n 'parrhasius',\n 'opto',\n 'languidus',\n 'corium',\n 'raresco',\n 'affectus',\n 'piraticus',\n 'pungo',\n 'educo',\n 'elis',\n 'uoro',\n 'hirundo',\n 'carnifex',\n 'termino',\n 'thorax',\n 'tot',\n 'dalmatia',\n 'immerito',\n 'rudens',\n 'piscina',\n 'claudo',\n 'raucus',\n 'quotusquisque',\n 'sylla',\n 'assiduus',\n 'instigo',\n 'manifesto',\n 'indo',\n 'aliquanto',\n 'uerto',\n 'fortitudo',\n 'effuse',\n 'saxum',\n 'submitto',\n 'areo',\n 'apulus',\n 'meleager',\n 'libere',\n 'quantulus',\n 'fissilis',\n 'socius',\n 'exspectatio',\n 'alicubi',\n 'uicis',\n 'gaius',\n 'fictum',\n 'nidor',\n 'geta',\n 'bibulus',\n 'eridanus',\n 'definitio',\n 'furtiuus',\n 'nauticus',\n 'antrum',\n 'rebellio',\n 'arroganter',\n 'libramentum',\n 'insectatio',\n 'eruditio',\n 'comprimo',\n 'solstitium',\n 'comperio',\n 'necessitas',\n 'maiestas',\n 'iusiurandum',\n 'prostituo',\n 'pertinax',\n 'paulus',\n 'gratus',\n 'thyrsis',\n 'meroe',\n 'infamis',\n 'astutia',\n 'repente',\n 'enim',\n 'laboriose',\n 'mutuum',\n 'pigritia',\n 'propterea',\n 'terrestris',\n 'fuscus',\n 'hispanus',\n 'perfectus',\n 'nuptiae',\n 'arcus',\n 'remedium',\n 'honeste',\n 'admonitio',\n 'tabernaculum',\n 'inuia',\n 'pinus',\n 'incensus',\n 'turris',\n 'tibia',\n 'pactum',\n 'typhoeus',\n 'adiectio',\n 'supersum',\n 'iudaicus',\n 'cultor',\n 'confiteor',\n 'diluo',\n 'declinatio',\n 'pronuntio',\n 'ars',\n 'obtutus',\n 'significo',\n 'sequana',\n 'posco',\n 'arcadius',\n 'furibundus',\n 'milito',\n 'ample',\n 'residuus',\n 'arenosus',\n 'satus',\n 'deprehendo',\n 'almus',\n 'ueru',\n 'polenta',\n 'refrico',\n 'simul',\n 'submoueo',\n 'sentis',\n 'papauer',\n 'diua',\n 'praecedo',\n 'hesiodus',\n 'consulatus',\n 'cornelia',\n 'dehinc',\n 'accliuis',\n 'transfigo',\n 'tenebricosus',\n 'ater',\n 'arcadia',\n 'uictoria',\n 'ineo',\n 'includo',\n 'inundo',\n 'exanimus',\n 'peneus',\n 'infortunium',\n 'fortuita',\n 'dubium',\n 'indigena',\n 'remus',\n 'illic',\n 'modeste',\n 'tortor',\n 'emergo',\n 'urgeo',\n 'orpheus',\n 'imber',\n 'societas',\n 'cura',\n 'cohibeo',\n 'dissilio',\n 'murex',\n 'tuber',\n 'corcyra',\n 'plaudo',\n 'prospere',\n 'cista',\n 'frequenter',\n 'sertorius',\n 'profectus',\n 'discepto',\n 'fastidiosus',\n 'scando',\n 'surculus',\n 'oneraria',\n 'mare',\n 'germania',\n 'monstrum',\n 'excelsum',\n 'lesbius',\n 'rationalis',\n 'caurus',\n 'iudiciarius',\n 'uerbena',\n 'disperdo',\n 'apricus',\n 'remeo',\n 'alnus',\n 'percussor',\n 'atrium',\n 'neque',\n 'domesticus',\n 'pleiades',\n 'dissolutio',\n 'exitus',\n 'phoebe',\n 'crebre',\n 'ille',\n 'potus',\n 'exactio',\n ...]"
     },
     "execution_count": 125,
     "metadata": {},
     "output_type": "execute_result"
    }
   ],
   "source": [
    "lasla_noscemus_overlap"
   ],
   "metadata": {
    "collapsed": false,
    "ExecuteTime": {
     "end_time": "2023-11-21T10:50:16.589099Z",
     "start_time": "2023-11-21T10:50:16.578013Z"
    }
   },
   "id": "268b1c5bcf419a3d"
  },
  {
   "cell_type": "code",
   "execution_count": null,
   "outputs": [],
   "source": [],
   "metadata": {
    "collapsed": false
   },
   "id": "231ceac7c4bd4a85"
  }
 ],
 "metadata": {
  "kernelspec": {
   "name": "brewkernel",
   "language": "python",
   "display_name": "brewkernel"
  },
  "language_info": {
   "codemirror_mode": {
    "name": "ipython",
    "version": 2
   },
   "file_extension": ".py",
   "mimetype": "text/x-python",
   "name": "python",
   "nbconvert_exporter": "python",
   "pygments_lexer": "ipython2",
   "version": "2.7.6"
  }
 },
 "nbformat": 4,
 "nbformat_minor": 5
}
