{
 "cells": [
  {
   "cell_type": "code",
   "id": "initial_id",
   "metadata": {
    "collapsed": true,
    "ExecuteTime": {
     "end_time": "2024-05-10T11:50:56.931707Z",
     "start_time": "2024-05-10T11:50:52.147026Z"
    }
   },
   "source": [
    "import os\n",
    "import spacy\n",
    "from spacy.tokens import Doc\n",
    "import sddk\n",
    "import pandas as pd\n",
    "import re\n",
    "import matplotlib.pyplot as plt\n",
    "import json\n",
    "import shutil\n",
    "import pickle\n",
    "\n",
    "import gspread\n",
    "from gspread_dataframe import get_as_dataframe, set_with_dataframe\n",
    "from google.oauth2 import service_account # based on google-auth library"
   ],
   "outputs": [],
   "execution_count": 1
  },
  {
   "cell_type": "code",
   "source": [
    "# load the language model (see the previous script)\n",
    "nlp = spacy.load('la_core_web_lg')"
   ],
   "metadata": {
    "collapsed": false,
    "ExecuteTime": {
     "end_time": "2024-05-10T11:50:57.819559Z",
     "start_time": "2024-05-10T11:50:56.932704Z"
    }
   },
   "id": "234d6a3cc5f7a819",
   "outputs": [],
   "execution_count": 2
  },
  {
   "cell_type": "code",
   "source": [
    "# setup communication with gsheet \"noscemus_overview\n",
    "# to make this work, you need your ServiceAccountKey.json file located somewhere and to point out to it\n",
    "# I have it in the data harmonia and in the .gitignore file, what makes it invisible to others; you can make the same\n",
    "file_data = json.load(open(\"../data/ServiceAccountsKey.json\"))\n",
    "# (2) transform the content into crendentials object\n",
    "credentials = service_account.Credentials.from_service_account_info(file_data)\n",
    "# (3) specify your usage of the credentials\n",
    "scoped_credentials = credentials.with_scopes(['https://spreadsheets.google.com/feeds', 'https://www.googleapis.com/auth/drive'])\n",
    "# (4) use the constrained credentials for authentication of gspread package\n",
    "gc = gspread.Client(auth=scoped_credentials)\n",
    "\n",
    "noscemus_gs = gc.open_by_url(\"https://docs.google.com/spreadsheets/d/1ekf9RBfd4yqy0p0IWJ4SDk1kUT70hnoIVX1H6KPdIts/edit?usp=sharing\")"
   ],
   "metadata": {
    "collapsed": false,
    "ExecuteTime": {
     "end_time": "2024-05-10T11:51:00.747851Z",
     "start_time": "2024-05-10T11:50:57.820216Z"
    }
   },
   "id": "1c7c54fa3f1fb3e1",
   "outputs": [],
   "execution_count": 3
  },
  {
   "cell_type": "markdown",
   "source": [
    "# Load & Explore Spacy Docs"
   ],
   "metadata": {
    "collapsed": false
   },
   "id": "1279f7b9c397edef"
  },
  {
   "cell_type": "code",
   "source": [
    "s = sddk.cloudSession(provider=\"sciencedata.dk\", shared_folder_name=\"TOME/DATA/NOSCEMUS\", owner=\"kase@zcu.cz\")"
   ],
   "metadata": {
    "collapsed": false,
    "ExecuteTime": {
     "end_time": "2024-05-10T11:51:09.388401Z",
     "start_time": "2024-05-10T11:51:00.749049Z"
    }
   },
   "id": "79df7273ed476626",
   "outputs": [
    {
     "name": "stdout",
     "output_type": "stream",
     "text": [
      "connection with shared folder established with you as its owner\n",
      "endpoint variable has been configured to: https://sciencedata.dk/files/TOME/DATA/NOSCEMUS/\n"
     ]
    }
   ],
   "execution_count": 4
  },
  {
   "cell_type": "code",
   "source": [
    "target_folder_name = \"noscemus_spacyjsons_v1\"\n",
    "jsonfiles_list = s.list_filenames(target_folder_name, \"json\")\n",
    "jsonfiles_list[:10]"
   ],
   "metadata": {
    "collapsed": false,
    "ExecuteTime": {
     "end_time": "2024-05-10T11:51:23.224099Z",
     "start_time": "2024-05-10T11:51:22.406931Z"
    }
   },
   "id": "34bc5c5fe82e46e5",
   "outputs": [
    {
     "data": {
      "text/plain": [
       "['1031760.json',\n",
       " '1085290.json',\n",
       " '1285853.json',\n",
       " '1285854.json',\n",
       " '1285855.json',\n",
       " '1285856.json',\n",
       " '1365811.json',\n",
       " '1370560.json',\n",
       " '1378359.json',\n",
       " '1424044.json']"
      ]
     },
     "execution_count": 5,
     "metadata": {},
     "output_type": "execute_result"
    }
   ],
   "execution_count": 5
  },
  {
   "cell_type": "code",
   "source": [
    "len(jsonfiles_list)"
   ],
   "metadata": {
    "collapsed": false,
    "ExecuteTime": {
     "end_time": "2024-05-10T11:51:24.321435Z",
     "start_time": "2024-05-10T11:51:24.318476Z"
    }
   },
   "id": "5c3fbb9bf94efdad",
   "outputs": [
    {
     "data": {
      "text/plain": [
       "1007"
      ]
     },
     "execution_count": 6,
     "metadata": {},
     "output_type": "execute_result"
    }
   ],
   "execution_count": 6
  },
  {
   "cell_type": "code",
   "source": [
    "def filename_to_doc(filename, dir=target_folder_name):\n",
    "    doc_json = s.read_file(dir + \"/\" + filename, \"dict\")\n",
    "    doc = Doc(nlp.vocab).from_json(doc_json)\n",
    "    return doc"
   ],
   "metadata": {
    "collapsed": false,
    "ExecuteTime": {
     "end_time": "2024-05-10T11:51:26.997681Z",
     "start_time": "2024-05-10T11:51:26.995531Z"
    }
   },
   "id": "7d383461acae5343",
   "outputs": [],
   "execution_count": 7
  },
  {
   "cell_type": "code",
   "source": [
    "%%time\n",
    "doc = filename_to_doc(jsonfiles_list[1])"
   ],
   "metadata": {
    "collapsed": false,
    "ExecuteTime": {
     "end_time": "2024-05-10T10:17:15.088313Z",
     "start_time": "2024-05-10T10:15:47.143883Z"
    }
   },
   "id": "2ff62112adc2da6",
   "outputs": [
    {
     "name": "stdout",
     "output_type": "stream",
     "text": [
      "CPU times: user 48 s, sys: 32.5 s, total: 1min 20s\n",
      "Wall time: 1min 27s\n"
     ]
    }
   ],
   "execution_count": 38
  },
  {
   "cell_type": "code",
   "source": [
    "try:\n",
    "    !mkdir ../data/large_data/sents_data\n",
    "except:\n",
    "    pass"
   ],
   "metadata": {
    "collapsed": false,
    "ExecuteTime": {
     "end_time": "2024-05-10T10:28:15.707425Z",
     "start_time": "2024-05-10T10:28:15.542776Z"
    }
   },
   "id": "bb83db9767e6728b",
   "outputs": [],
   "execution_count": 52
  },
  {
   "metadata": {
    "ExecuteTime": {
     "end_time": "2024-05-10T10:34:19.098740Z",
     "start_time": "2024-05-10T10:34:18.892796Z"
    }
   },
   "cell_type": "code",
   "source": "doc_sentdata = [(sent.text, [(t.text, t.lemma_.lower(), t.pos_, (t.idx - sent[0].idx, t.idx - sent[0].idx + len(t))) for t in sent]) for sent in doc.sents]",
   "id": "a7dcf5fd3d268b37",
   "outputs": [],
   "execution_count": 59
  },
  {
   "metadata": {
    "ExecuteTime": {
     "end_time": "2024-05-10T10:34:24.754620Z",
     "start_time": "2024-05-10T10:34:24.750165Z"
    }
   },
   "cell_type": "code",
   "source": "doc_sentdata[:3]",
   "id": "2008863e95eda7",
   "outputs": [
    {
     "data": {
      "text/plain": [
       "[('Franciscj De Verulamio / Summi Angliae Cancellarij / Instauratio magna.',\n",
       "  [('Franciscj', 'francisci', 'PROPN', (0, 9)),\n",
       "   ('De', 'de', 'ADP', (10, 12)),\n",
       "   ('Verulamio', 'verulamio', 'PROPN', (13, 22)),\n",
       "   ('/', '/', 'PUNCT', (23, 24)),\n",
       "   ('Summi', 'summi', 'ADJ', (25, 30)),\n",
       "   ('Angliae', 'angliae', 'PROPN', (31, 38)),\n",
       "   ('Cancellarij', 'cancellarij', 'PROPN', (39, 50)),\n",
       "   ('/', '/', 'PUNCT', (51, 52)),\n",
       "   ('Instauratio', 'instauratio', 'NOUN', (53, 64)),\n",
       "   ('magna', 'magnus', 'ADJ', (65, 70)),\n",
       "   ('.', '.', 'PUNCT', (70, 71))]),\n",
       " ('Multi pertransibunt & augebitur scientia.',\n",
       "  [('Multi', 'multus', 'ADJ', (0, 5)),\n",
       "   ('pertransibunt', 'pertransibo', 'VERB', (6, 19)),\n",
       "   ('&', '&', 'PUNCT', (20, 21)),\n",
       "   ('augebitur', 'augebio', 'VERB', (22, 31)),\n",
       "   ('scientia', 'scientia', 'NOUN', (32, 40)),\n",
       "   ('.', '.', 'PUNCT', (40, 41))]),\n",
       " ('Anno Londini Apud Joannem Billium Typographum Regium.',\n",
       "  [('Anno', 'annus', 'NOUN', (0, 4)),\n",
       "   ('Londini', 'londini', 'PROPN', (5, 12)),\n",
       "   ('Apud', 'apud', 'ADP', (13, 17)),\n",
       "   ('Joannem', 'joannes', 'PROPN', (18, 25)),\n",
       "   ('Billium', 'billius', 'PROPN', (26, 33)),\n",
       "   ('Typographum', 'typographus', 'PROPN', (34, 45)),\n",
       "   ('Regium', 'regium', 'ADJ', (46, 52)),\n",
       "   ('.', '.', 'PUNCT', (52, 53))])]"
      ]
     },
     "execution_count": 60,
     "metadata": {},
     "output_type": "execute_result"
    }
   ],
   "execution_count": 60
  },
  {
   "metadata": {
    "ExecuteTime": {
     "end_time": "2024-05-10T15:44:10.106781Z",
     "start_time": "2024-05-10T15:44:10.099079Z"
    }
   },
   "cell_type": "code",
   "source": [
    "sents_data_ready = os.listdir(\"../data/large_data/sents_data\")\n",
    "len(sents_data_ready)"
   ],
   "id": "9dd7fd4296177c27",
   "outputs": [
    {
     "data": {
      "text/plain": [
       "1006"
      ]
     },
     "execution_count": 12,
     "metadata": {},
     "output_type": "execute_result"
    }
   ],
   "execution_count": 12
  },
  {
   "metadata": {
    "ExecuteTime": {
     "end_time": "2024-05-10T15:44:04.781231Z",
     "start_time": "2024-05-10T15:24:10.736725Z"
    }
   },
   "cell_type": "code",
   "source": [
    "failed = []\n",
    "for fn in jsonfiles_list:\n",
    "    if fn.replace(\".json\", \".pickle\") not in sents_data_ready:\n",
    "        print(\"working on \" + fn)\n",
    "        try:\n",
    "            doc = filename_to_doc(fn) # load the doc\n",
    "            doc_sentdata = [(sent.text, [(t.text, t.lemma_.lower(), t.pos_, (t.idx - sent[0].idx, t.idx - sent[0].idx + len(t))) for t in sent]) for sent in doc.sents]\n",
    "            with open(\"../data/large_data/sents_data/\" + fn.replace(\".json\", \".pickle\"), \"wb\") as f:\n",
    "                pickle.dump(doc_sentdata, f)\n",
    "        except:\n",
    "            failed.append(fn)"
   ],
   "id": "ddf7eaafd0356bc9",
   "outputs": [
    {
     "name": "stdout",
     "output_type": "stream",
     "text": [
      "working on 699869.json\n"
     ]
    }
   ],
   "execution_count": 11
  },
  {
   "metadata": {},
   "cell_type": "code",
   "outputs": [],
   "execution_count": null,
   "source": "",
   "id": "190b9c77b56694c2"
  },
  {
   "cell_type": "code",
   "execution_count": 56,
   "outputs": [
    {
     "data": {
      "text/plain": "'/Users/vojtechkase/Projects/noscemus_ETF/data/large_data/sents_pos.zip'"
     },
     "execution_count": 56,
     "metadata": {},
     "output_type": "execute_result"
    }
   ],
   "source": [
    "# make zip archives of the text files with lemmatazed sentences and pos tags\n",
    "shutil.make_archive(\"../data/large_data/sents_data\", 'zip', \"../data/large_data/sents_data\")\n",
    "# upload the zip archived data to sciencedata.dk \n",
    "s.s.put(\"https://sciencedata.dk/sharingout/kase%40zcu.cz/TOME/DATA/NOSCEMUS/sents_data.zip\", data=open(\"../data/large_data/sents_data.zip\", \"rb\"))"
   ],
   "metadata": {
    "collapsed": false,
    "ExecuteTime": {
     "end_time": "2023-11-24T20:34:07.076968Z",
     "start_time": "2023-11-24T20:33:17.621287Z"
    }
   },
   "id": "3dc6bcabe2ab2012"
  },
  {
   "cell_type": "markdown",
   "source": [
    "# Preliminary explorations of Latin wordnet"
   ],
   "metadata": {
    "collapsed": false
   },
   "id": "32907c09aa3dc094"
  },
  {
   "cell_type": "code",
   "execution_count": 138,
   "outputs": [],
   "source": [
    "latinwn = pd.read_csv(\"https://raw.githubusercontent.com/CIRCSE/latinWordnet-revision/master/LiLa_LatinWordnet.csv\")"
   ],
   "metadata": {
    "collapsed": false,
    "ExecuteTime": {
     "end_time": "2023-11-07T08:39:57.944549Z",
     "start_time": "2023-11-07T08:39:56.993340Z"
    }
   },
   "id": "7d076900b344ec3f"
  },
  {
   "cell_type": "code",
   "execution_count": 139,
   "outputs": [
    {
     "data": {
      "text/plain": "      id     lemma   type                                lila_uri  \\\n0  90942     a, aa  LEMMA  http://lila-erc.eu/data/id/lemma/90942   \n1  86826   abactio  LEMMA  http://lila-erc.eu/data/id/lemma/86826   \n2  86828   abactor  LEMMA  http://lila-erc.eu/data/id/lemma/86828   \n3  91165   abactus  LEMMA  http://lila-erc.eu/data/id/lemma/91165   \n4  86833  abaculus  LEMMA  http://lila-erc.eu/data/id/lemma/86833   \n\n                                          id_synset  \\\n0  http://wordnet-rdf.princeton.edu/wn30/06831177-n   \n1  http://wordnet-rdf.princeton.edu/wn30/00391599-n   \n2  http://wordnet-rdf.princeton.edu/wn30/10544480-n   \n3  http://wordnet-rdf.princeton.edu/wn30/00780889-n   \n4  http://wordnet-rdf.princeton.edu/wn30/04435180-n   \n\n                                          definition  \n0               the 1st letter of the Roman alphabet  \n1                                the act of removing  \n2   someone who steals livestock (especially cattle)  \n3  the act of taking something from someone unlaw...  \n4  a flat thin rectangular slab (as of fired clay...  ",
      "text/html": "<div>\n<style scoped>\n    .dataframe tbody tr th:only-of-type {\n        vertical-align: middle;\n    }\n\n    .dataframe tbody tr th {\n        vertical-align: top;\n    }\n\n    .dataframe thead th {\n        text-align: right;\n    }\n</style>\n<table border=\"1\" class=\"dataframe\">\n  <thead>\n    <tr style=\"text-align: right;\">\n      <th></th>\n      <th>id</th>\n      <th>lemma</th>\n      <th>type</th>\n      <th>lila_uri</th>\n      <th>id_synset</th>\n      <th>definition</th>\n    </tr>\n  </thead>\n  <tbody>\n    <tr>\n      <th>0</th>\n      <td>90942</td>\n      <td>a, aa</td>\n      <td>LEMMA</td>\n      <td>http://lila-erc.eu/data/id/lemma/90942</td>\n      <td>http://wordnet-rdf.princeton.edu/wn30/06831177-n</td>\n      <td>the 1st letter of the Roman alphabet</td>\n    </tr>\n    <tr>\n      <th>1</th>\n      <td>86826</td>\n      <td>abactio</td>\n      <td>LEMMA</td>\n      <td>http://lila-erc.eu/data/id/lemma/86826</td>\n      <td>http://wordnet-rdf.princeton.edu/wn30/00391599-n</td>\n      <td>the act of removing</td>\n    </tr>\n    <tr>\n      <th>2</th>\n      <td>86828</td>\n      <td>abactor</td>\n      <td>LEMMA</td>\n      <td>http://lila-erc.eu/data/id/lemma/86828</td>\n      <td>http://wordnet-rdf.princeton.edu/wn30/10544480-n</td>\n      <td>someone who steals livestock (especially cattle)</td>\n    </tr>\n    <tr>\n      <th>3</th>\n      <td>91165</td>\n      <td>abactus</td>\n      <td>LEMMA</td>\n      <td>http://lila-erc.eu/data/id/lemma/91165</td>\n      <td>http://wordnet-rdf.princeton.edu/wn30/00780889-n</td>\n      <td>the act of taking something from someone unlaw...</td>\n    </tr>\n    <tr>\n      <th>4</th>\n      <td>86833</td>\n      <td>abaculus</td>\n      <td>LEMMA</td>\n      <td>http://lila-erc.eu/data/id/lemma/86833</td>\n      <td>http://wordnet-rdf.princeton.edu/wn30/04435180-n</td>\n      <td>a flat thin rectangular slab (as of fired clay...</td>\n    </tr>\n  </tbody>\n</table>\n</div>"
     },
     "execution_count": 139,
     "metadata": {},
     "output_type": "execute_result"
    }
   ],
   "source": [
    "latinwn.head(5)"
   ],
   "metadata": {
    "collapsed": false,
    "ExecuteTime": {
     "end_time": "2023-11-07T08:40:05.218647Z",
     "start_time": "2023-11-07T08:40:05.196010Z"
    }
   },
   "id": "643f085663cbb85d"
  },
  {
   "cell_type": "code",
   "execution_count": null,
   "outputs": [],
   "source": [],
   "metadata": {
    "collapsed": false
   },
   "id": "c815f36f365efc15"
  }
 ],
 "metadata": {
  "kernelspec": {
   "name": "brewkernel",
   "language": "python",
   "display_name": "brewkernel"
  },
  "language_info": {
   "codemirror_mode": {
    "name": "ipython",
    "version": 2
   },
   "file_extension": ".py",
   "mimetype": "text/x-python",
   "name": "python",
   "nbconvert_exporter": "python",
   "pygments_lexer": "ipython2",
   "version": "2.7.6"
  }
 },
 "nbformat": 4,
 "nbformat_minor": 5
}
